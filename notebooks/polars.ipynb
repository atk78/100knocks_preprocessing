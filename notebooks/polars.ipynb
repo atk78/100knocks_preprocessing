{
 "cells": [
  {
   "cell_type": "markdown",
   "metadata": {},
   "source": [
    "# 前処理100本ノック（Polars）"
   ]
  },
  {
   "cell_type": "code",
   "execution_count": 1,
   "metadata": {},
   "outputs": [
    {
     "name": "stderr",
     "output_type": "stream",
     "text": [
      "C:\\Users\\atsu9\\AppData\\Local\\Temp\\ipykernel_9836\\4063932441.py:29: DeprecationWarning: The argument `dtypes` for `read_csv` is deprecated. It has been renamed to `schema_overrides`.\n",
      "  df_category = pl.read_csv(\"../data/category.csv\", dtypes=dtypes)\n",
      "C:\\Users\\atsu9\\AppData\\Local\\Temp\\ipykernel_9836\\4063932441.py:30: DeprecationWarning: The argument `dtypes` for `read_csv` is deprecated. It has been renamed to `schema_overrides`.\n",
      "  df_customer = pl.read_csv(\"../data/customer.csv\", dtypes=dtypes)\n",
      "C:\\Users\\atsu9\\AppData\\Local\\Temp\\ipykernel_9836\\4063932441.py:31: DeprecationWarning: The argument `dtypes` for `read_csv` is deprecated. It has been renamed to `schema_overrides`.\n",
      "  df_geocode = pl.read_csv(\"../data/geocode.csv\", dtypes=dtypes)\n",
      "C:\\Users\\atsu9\\AppData\\Local\\Temp\\ipykernel_9836\\4063932441.py:32: DeprecationWarning: The argument `dtypes` for `read_csv` is deprecated. It has been renamed to `schema_overrides`.\n",
      "  df_product = pl.read_csv(\"../data/product.csv\", dtypes=dtypes)\n",
      "C:\\Users\\atsu9\\AppData\\Local\\Temp\\ipykernel_9836\\4063932441.py:33: DeprecationWarning: The argument `dtypes` for `read_csv` is deprecated. It has been renamed to `schema_overrides`.\n",
      "  df_receipt = pl.read_csv(\"../data/receipt.csv\", dtypes=dtypes)\n",
      "C:\\Users\\atsu9\\AppData\\Local\\Temp\\ipykernel_9836\\4063932441.py:34: DeprecationWarning: The argument `dtypes` for `read_csv` is deprecated. It has been renamed to `schema_overrides`.\n",
      "  df_store = pl.read_csv(\"../data/store.csv\", dtypes=dtypes)\n"
     ]
    }
   ],
   "source": [
    "# ライブラリのimport\n",
    "import polars as pl\n",
    "import numpy as np\n",
    "import math\n",
    "from sklearn.model_selection import train_test_split, TimeSeriesSplit\n",
    "\n",
    "\n",
    "# dtypeの設定\n",
    "dtypes = {\n",
    "    \"customer_id\": str,\n",
    "    \"gender_cd\": str,\n",
    "    \"postal_cd\": str,\n",
    "    \"application_store_cd\": str,\n",
    "    \"status_cd\": str,\n",
    "    \"category_major_cd\": str,\n",
    "    \"category_medium_cd\": str,\n",
    "    \"category_small_cd\": str,\n",
    "    \"product_cd\": str,\n",
    "    \"store_cd\": str,\n",
    "    \"prefecture_cd\": str,\n",
    "    \"tel_no\": str,\n",
    "    \"postal_cd\": str,\n",
    "    \"street\": str,\n",
    "    \"application_date\": str,\n",
    "    \"birth_day\": str,\n",
    "}\n",
    "\n",
    "# DataFrameの作成\n",
    "df_category = pl.read_csv(\"../data/category.csv\", dtypes=dtypes)\n",
    "df_customer = pl.read_csv(\"../data/customer.csv\", dtypes=dtypes)\n",
    "df_geocode = pl.read_csv(\"../data/geocode.csv\", dtypes=dtypes)\n",
    "df_product = pl.read_csv(\"../data/product.csv\", dtypes=dtypes)\n",
    "df_receipt = pl.read_csv(\"../data/receipt.csv\", dtypes=dtypes)\n",
    "df_store = pl.read_csv(\"../data/store.csv\", dtypes=dtypes)"
   ]
  },
  {
   "attachments": {},
   "cell_type": "markdown",
   "metadata": {},
   "source": [
    "# 演習問題\n",
    "## 表示"
   ]
  },
  {
   "attachments": {},
   "cell_type": "markdown",
   "metadata": {},
   "source": [
    "---\n",
    "> P-001: レシート明細データ（df_receipt）から全項目の先頭10件を表示し、どのようなデータを保有しているか目視で確認せよ。"
   ]
  },
  {
   "cell_type": "code",
   "execution_count": 2,
   "metadata": {},
   "outputs": [
    {
     "data": {
      "text/html": [
       "<div><style>\n",
       ".dataframe > thead > tr,\n",
       ".dataframe > tbody > tr {\n",
       "  text-align: right;\n",
       "  white-space: pre-wrap;\n",
       "}\n",
       "</style>\n",
       "<small>shape: (10, 9)</small><table border=\"1\" class=\"dataframe\"><thead><tr><th>sales_ymd</th><th>sales_epoch</th><th>store_cd</th><th>receipt_no</th><th>receipt_sub_no</th><th>customer_id</th><th>product_cd</th><th>quantity</th><th>amount</th></tr><tr><td>i64</td><td>i64</td><td>str</td><td>i64</td><td>i64</td><td>str</td><td>str</td><td>i64</td><td>i64</td></tr></thead><tbody><tr><td>20181103</td><td>1541203200</td><td>&quot;S14006&quot;</td><td>112</td><td>1</td><td>&quot;CS006214000001&quot;</td><td>&quot;P070305012&quot;</td><td>1</td><td>158</td></tr><tr><td>20181118</td><td>1542499200</td><td>&quot;S13008&quot;</td><td>1132</td><td>2</td><td>&quot;CS008415000097&quot;</td><td>&quot;P070701017&quot;</td><td>1</td><td>81</td></tr><tr><td>20170712</td><td>1499817600</td><td>&quot;S14028&quot;</td><td>1102</td><td>1</td><td>&quot;CS028414000014&quot;</td><td>&quot;P060101005&quot;</td><td>1</td><td>170</td></tr><tr><td>20190205</td><td>1549324800</td><td>&quot;S14042&quot;</td><td>1132</td><td>1</td><td>&quot;ZZ000000000000&quot;</td><td>&quot;P050301001&quot;</td><td>1</td><td>25</td></tr><tr><td>20180821</td><td>1534809600</td><td>&quot;S14025&quot;</td><td>1102</td><td>2</td><td>&quot;CS025415000050&quot;</td><td>&quot;P060102007&quot;</td><td>1</td><td>90</td></tr><tr><td>20190605</td><td>1559692800</td><td>&quot;S13003&quot;</td><td>1112</td><td>1</td><td>&quot;CS003515000195&quot;</td><td>&quot;P050102002&quot;</td><td>1</td><td>138</td></tr><tr><td>20181205</td><td>1543968000</td><td>&quot;S14024&quot;</td><td>1102</td><td>2</td><td>&quot;CS024514000042&quot;</td><td>&quot;P080101005&quot;</td><td>1</td><td>30</td></tr><tr><td>20190922</td><td>1569110400</td><td>&quot;S14040&quot;</td><td>1102</td><td>1</td><td>&quot;CS040415000178&quot;</td><td>&quot;P070501004&quot;</td><td>1</td><td>128</td></tr><tr><td>20170504</td><td>1493856000</td><td>&quot;S13020&quot;</td><td>1112</td><td>2</td><td>&quot;ZZ000000000000&quot;</td><td>&quot;P071302010&quot;</td><td>1</td><td>770</td></tr><tr><td>20191010</td><td>1570665600</td><td>&quot;S14027&quot;</td><td>1102</td><td>1</td><td>&quot;CS027514000015&quot;</td><td>&quot;P071101003&quot;</td><td>1</td><td>680</td></tr></tbody></table></div>"
      ],
      "text/plain": [
       "shape: (10, 9)\n",
       "┌───────────┬────────────┬──────────┬────────────┬───┬────────────┬────────────┬──────────┬────────┐\n",
       "│ sales_ymd ┆ sales_epoc ┆ store_cd ┆ receipt_no ┆ … ┆ customer_i ┆ product_cd ┆ quantity ┆ amount │\n",
       "│ ---       ┆ h          ┆ ---      ┆ ---        ┆   ┆ d          ┆ ---        ┆ ---      ┆ ---    │\n",
       "│ i64       ┆ ---        ┆ str      ┆ i64        ┆   ┆ ---        ┆ str        ┆ i64      ┆ i64    │\n",
       "│           ┆ i64        ┆          ┆            ┆   ┆ str        ┆            ┆          ┆        │\n",
       "╞═══════════╪════════════╪══════════╪════════════╪═══╪════════════╪════════════╪══════════╪════════╡\n",
       "│ 20181103  ┆ 1541203200 ┆ S14006   ┆ 112        ┆ … ┆ CS00621400 ┆ P070305012 ┆ 1        ┆ 158    │\n",
       "│           ┆            ┆          ┆            ┆   ┆ 0001       ┆            ┆          ┆        │\n",
       "│ 20181118  ┆ 1542499200 ┆ S13008   ┆ 1132       ┆ … ┆ CS00841500 ┆ P070701017 ┆ 1        ┆ 81     │\n",
       "│           ┆            ┆          ┆            ┆   ┆ 0097       ┆            ┆          ┆        │\n",
       "│ 20170712  ┆ 1499817600 ┆ S14028   ┆ 1102       ┆ … ┆ CS02841400 ┆ P060101005 ┆ 1        ┆ 170    │\n",
       "│           ┆            ┆          ┆            ┆   ┆ 0014       ┆            ┆          ┆        │\n",
       "│ 20190205  ┆ 1549324800 ┆ S14042   ┆ 1132       ┆ … ┆ ZZ00000000 ┆ P050301001 ┆ 1        ┆ 25     │\n",
       "│           ┆            ┆          ┆            ┆   ┆ 0000       ┆            ┆          ┆        │\n",
       "│ 20180821  ┆ 1534809600 ┆ S14025   ┆ 1102       ┆ … ┆ CS02541500 ┆ P060102007 ┆ 1        ┆ 90     │\n",
       "│           ┆            ┆          ┆            ┆   ┆ 0050       ┆            ┆          ┆        │\n",
       "│ 20190605  ┆ 1559692800 ┆ S13003   ┆ 1112       ┆ … ┆ CS00351500 ┆ P050102002 ┆ 1        ┆ 138    │\n",
       "│           ┆            ┆          ┆            ┆   ┆ 0195       ┆            ┆          ┆        │\n",
       "│ 20181205  ┆ 1543968000 ┆ S14024   ┆ 1102       ┆ … ┆ CS02451400 ┆ P080101005 ┆ 1        ┆ 30     │\n",
       "│           ┆            ┆          ┆            ┆   ┆ 0042       ┆            ┆          ┆        │\n",
       "│ 20190922  ┆ 1569110400 ┆ S14040   ┆ 1102       ┆ … ┆ CS04041500 ┆ P070501004 ┆ 1        ┆ 128    │\n",
       "│           ┆            ┆          ┆            ┆   ┆ 0178       ┆            ┆          ┆        │\n",
       "│ 20170504  ┆ 1493856000 ┆ S13020   ┆ 1112       ┆ … ┆ ZZ00000000 ┆ P071302010 ┆ 1        ┆ 770    │\n",
       "│           ┆            ┆          ┆            ┆   ┆ 0000       ┆            ┆          ┆        │\n",
       "│ 20191010  ┆ 1570665600 ┆ S14027   ┆ 1102       ┆ … ┆ CS02751400 ┆ P071101003 ┆ 1        ┆ 680    │\n",
       "│           ┆            ┆          ┆            ┆   ┆ 0015       ┆            ┆          ┆        │\n",
       "└───────────┴────────────┴──────────┴────────────┴───┴────────────┴────────────┴──────────┴────────┘"
      ]
     },
     "execution_count": 2,
     "metadata": {},
     "output_type": "execute_result"
    }
   ],
   "source": [
    "df_receipt.head(10)"
   ]
  },
  {
   "cell_type": "code",
   "execution_count": 3,
   "metadata": {},
   "outputs": [
    {
     "data": {
      "text/html": [
       "<div><style>\n",
       ".dataframe > thead > tr,\n",
       ".dataframe > tbody > tr {\n",
       "  text-align: right;\n",
       "  white-space: pre-wrap;\n",
       "}\n",
       "</style>\n",
       "<small>shape: (10, 9)</small><table border=\"1\" class=\"dataframe\"><thead><tr><th>sales_ymd</th><th>sales_epoch</th><th>store_cd</th><th>receipt_no</th><th>receipt_sub_no</th><th>customer_id</th><th>product_cd</th><th>quantity</th><th>amount</th></tr><tr><td>i64</td><td>i64</td><td>str</td><td>i64</td><td>i64</td><td>str</td><td>str</td><td>i64</td><td>i64</td></tr></thead><tbody><tr><td>20181103</td><td>1541203200</td><td>&quot;S14006&quot;</td><td>112</td><td>1</td><td>&quot;CS006214000001&quot;</td><td>&quot;P070305012&quot;</td><td>1</td><td>158</td></tr><tr><td>20181118</td><td>1542499200</td><td>&quot;S13008&quot;</td><td>1132</td><td>2</td><td>&quot;CS008415000097&quot;</td><td>&quot;P070701017&quot;</td><td>1</td><td>81</td></tr><tr><td>20170712</td><td>1499817600</td><td>&quot;S14028&quot;</td><td>1102</td><td>1</td><td>&quot;CS028414000014&quot;</td><td>&quot;P060101005&quot;</td><td>1</td><td>170</td></tr><tr><td>20190205</td><td>1549324800</td><td>&quot;S14042&quot;</td><td>1132</td><td>1</td><td>&quot;ZZ000000000000&quot;</td><td>&quot;P050301001&quot;</td><td>1</td><td>25</td></tr><tr><td>20180821</td><td>1534809600</td><td>&quot;S14025&quot;</td><td>1102</td><td>2</td><td>&quot;CS025415000050&quot;</td><td>&quot;P060102007&quot;</td><td>1</td><td>90</td></tr><tr><td>20190605</td><td>1559692800</td><td>&quot;S13003&quot;</td><td>1112</td><td>1</td><td>&quot;CS003515000195&quot;</td><td>&quot;P050102002&quot;</td><td>1</td><td>138</td></tr><tr><td>20181205</td><td>1543968000</td><td>&quot;S14024&quot;</td><td>1102</td><td>2</td><td>&quot;CS024514000042&quot;</td><td>&quot;P080101005&quot;</td><td>1</td><td>30</td></tr><tr><td>20190922</td><td>1569110400</td><td>&quot;S14040&quot;</td><td>1102</td><td>1</td><td>&quot;CS040415000178&quot;</td><td>&quot;P070501004&quot;</td><td>1</td><td>128</td></tr><tr><td>20170504</td><td>1493856000</td><td>&quot;S13020&quot;</td><td>1112</td><td>2</td><td>&quot;ZZ000000000000&quot;</td><td>&quot;P071302010&quot;</td><td>1</td><td>770</td></tr><tr><td>20191010</td><td>1570665600</td><td>&quot;S14027&quot;</td><td>1102</td><td>1</td><td>&quot;CS027514000015&quot;</td><td>&quot;P071101003&quot;</td><td>1</td><td>680</td></tr></tbody></table></div>"
      ],
      "text/plain": [
       "shape: (10, 9)\n",
       "┌───────────┬────────────┬──────────┬────────────┬───┬────────────┬────────────┬──────────┬────────┐\n",
       "│ sales_ymd ┆ sales_epoc ┆ store_cd ┆ receipt_no ┆ … ┆ customer_i ┆ product_cd ┆ quantity ┆ amount │\n",
       "│ ---       ┆ h          ┆ ---      ┆ ---        ┆   ┆ d          ┆ ---        ┆ ---      ┆ ---    │\n",
       "│ i64       ┆ ---        ┆ str      ┆ i64        ┆   ┆ ---        ┆ str        ┆ i64      ┆ i64    │\n",
       "│           ┆ i64        ┆          ┆            ┆   ┆ str        ┆            ┆          ┆        │\n",
       "╞═══════════╪════════════╪══════════╪════════════╪═══╪════════════╪════════════╪══════════╪════════╡\n",
       "│ 20181103  ┆ 1541203200 ┆ S14006   ┆ 112        ┆ … ┆ CS00621400 ┆ P070305012 ┆ 1        ┆ 158    │\n",
       "│           ┆            ┆          ┆            ┆   ┆ 0001       ┆            ┆          ┆        │\n",
       "│ 20181118  ┆ 1542499200 ┆ S13008   ┆ 1132       ┆ … ┆ CS00841500 ┆ P070701017 ┆ 1        ┆ 81     │\n",
       "│           ┆            ┆          ┆            ┆   ┆ 0097       ┆            ┆          ┆        │\n",
       "│ 20170712  ┆ 1499817600 ┆ S14028   ┆ 1102       ┆ … ┆ CS02841400 ┆ P060101005 ┆ 1        ┆ 170    │\n",
       "│           ┆            ┆          ┆            ┆   ┆ 0014       ┆            ┆          ┆        │\n",
       "│ 20190205  ┆ 1549324800 ┆ S14042   ┆ 1132       ┆ … ┆ ZZ00000000 ┆ P050301001 ┆ 1        ┆ 25     │\n",
       "│           ┆            ┆          ┆            ┆   ┆ 0000       ┆            ┆          ┆        │\n",
       "│ 20180821  ┆ 1534809600 ┆ S14025   ┆ 1102       ┆ … ┆ CS02541500 ┆ P060102007 ┆ 1        ┆ 90     │\n",
       "│           ┆            ┆          ┆            ┆   ┆ 0050       ┆            ┆          ┆        │\n",
       "│ 20190605  ┆ 1559692800 ┆ S13003   ┆ 1112       ┆ … ┆ CS00351500 ┆ P050102002 ┆ 1        ┆ 138    │\n",
       "│           ┆            ┆          ┆            ┆   ┆ 0195       ┆            ┆          ┆        │\n",
       "│ 20181205  ┆ 1543968000 ┆ S14024   ┆ 1102       ┆ … ┆ CS02451400 ┆ P080101005 ┆ 1        ┆ 30     │\n",
       "│           ┆            ┆          ┆            ┆   ┆ 0042       ┆            ┆          ┆        │\n",
       "│ 20190922  ┆ 1569110400 ┆ S14040   ┆ 1102       ┆ … ┆ CS04041500 ┆ P070501004 ┆ 1        ┆ 128    │\n",
       "│           ┆            ┆          ┆            ┆   ┆ 0178       ┆            ┆          ┆        │\n",
       "│ 20170504  ┆ 1493856000 ┆ S13020   ┆ 1112       ┆ … ┆ ZZ00000000 ┆ P071302010 ┆ 1        ┆ 770    │\n",
       "│           ┆            ┆          ┆            ┆   ┆ 0000       ┆            ┆          ┆        │\n",
       "│ 20191010  ┆ 1570665600 ┆ S14027   ┆ 1102       ┆ … ┆ CS02751400 ┆ P071101003 ┆ 1        ┆ 680    │\n",
       "│           ┆            ┆          ┆            ┆   ┆ 0015       ┆            ┆          ┆        │\n",
       "└───────────┴────────────┴──────────┴────────────┴───┴────────────┴────────────┴──────────┴────────┘"
      ]
     },
     "execution_count": 3,
     "metadata": {},
     "output_type": "execute_result"
    }
   ],
   "source": [
    "# スライスでも可能\n",
    "df_receipt[:10]"
   ]
  },
  {
   "attachments": {},
   "cell_type": "markdown",
   "metadata": {},
   "source": [
    "---\n",
    "> P-002: レシート明細データ（df_receipt）から売上年月日（sales_ymd）、顧客ID（customer_id）、商品コード（product_cd）、売上金額（amount）の順に列を指定し、10件表示せよ。"
   ]
  },
  {
   "cell_type": "code",
   "execution_count": 4,
   "metadata": {},
   "outputs": [
    {
     "data": {
      "text/html": [
       "<div><style>\n",
       ".dataframe > thead > tr,\n",
       ".dataframe > tbody > tr {\n",
       "  text-align: right;\n",
       "  white-space: pre-wrap;\n",
       "}\n",
       "</style>\n",
       "<small>shape: (10, 4)</small><table border=\"1\" class=\"dataframe\"><thead><tr><th>sales_ymd</th><th>customer_id</th><th>product_cd</th><th>amount</th></tr><tr><td>i64</td><td>str</td><td>str</td><td>i64</td></tr></thead><tbody><tr><td>20181103</td><td>&quot;CS006214000001&quot;</td><td>&quot;P070305012&quot;</td><td>158</td></tr><tr><td>20181118</td><td>&quot;CS008415000097&quot;</td><td>&quot;P070701017&quot;</td><td>81</td></tr><tr><td>20170712</td><td>&quot;CS028414000014&quot;</td><td>&quot;P060101005&quot;</td><td>170</td></tr><tr><td>20190205</td><td>&quot;ZZ000000000000&quot;</td><td>&quot;P050301001&quot;</td><td>25</td></tr><tr><td>20180821</td><td>&quot;CS025415000050&quot;</td><td>&quot;P060102007&quot;</td><td>90</td></tr><tr><td>20190605</td><td>&quot;CS003515000195&quot;</td><td>&quot;P050102002&quot;</td><td>138</td></tr><tr><td>20181205</td><td>&quot;CS024514000042&quot;</td><td>&quot;P080101005&quot;</td><td>30</td></tr><tr><td>20190922</td><td>&quot;CS040415000178&quot;</td><td>&quot;P070501004&quot;</td><td>128</td></tr><tr><td>20170504</td><td>&quot;ZZ000000000000&quot;</td><td>&quot;P071302010&quot;</td><td>770</td></tr><tr><td>20191010</td><td>&quot;CS027514000015&quot;</td><td>&quot;P071101003&quot;</td><td>680</td></tr></tbody></table></div>"
      ],
      "text/plain": [
       "shape: (10, 4)\n",
       "┌───────────┬────────────────┬────────────┬────────┐\n",
       "│ sales_ymd ┆ customer_id    ┆ product_cd ┆ amount │\n",
       "│ ---       ┆ ---            ┆ ---        ┆ ---    │\n",
       "│ i64       ┆ str            ┆ str        ┆ i64    │\n",
       "╞═══════════╪════════════════╪════════════╪════════╡\n",
       "│ 20181103  ┆ CS006214000001 ┆ P070305012 ┆ 158    │\n",
       "│ 20181118  ┆ CS008415000097 ┆ P070701017 ┆ 81     │\n",
       "│ 20170712  ┆ CS028414000014 ┆ P060101005 ┆ 170    │\n",
       "│ 20190205  ┆ ZZ000000000000 ┆ P050301001 ┆ 25     │\n",
       "│ 20180821  ┆ CS025415000050 ┆ P060102007 ┆ 90     │\n",
       "│ 20190605  ┆ CS003515000195 ┆ P050102002 ┆ 138    │\n",
       "│ 20181205  ┆ CS024514000042 ┆ P080101005 ┆ 30     │\n",
       "│ 20190922  ┆ CS040415000178 ┆ P070501004 ┆ 128    │\n",
       "│ 20170504  ┆ ZZ000000000000 ┆ P071302010 ┆ 770    │\n",
       "│ 20191010  ┆ CS027514000015 ┆ P071101003 ┆ 680    │\n",
       "└───────────┴────────────────┴────────────┴────────┘"
      ]
     },
     "execution_count": 4,
     "metadata": {},
     "output_type": "execute_result"
    }
   ],
   "source": [
    "# DataFrameから特定の列を選択する場合は.select()メソッドを用いる\n",
    "# .select()メソッドの中身はリスト型で渡してもいい\n",
    "df_receipt.select(\"sales_ymd\", \"customer_id\", \"product_cd\", \"amount\").head(10)"
   ]
  },
  {
   "cell_type": "code",
   "execution_count": 5,
   "metadata": {},
   "outputs": [
    {
     "data": {
      "text/html": [
       "<div><style>\n",
       ".dataframe > thead > tr,\n",
       ".dataframe > tbody > tr {\n",
       "  text-align: right;\n",
       "  white-space: pre-wrap;\n",
       "}\n",
       "</style>\n",
       "<small>shape: (10, 4)</small><table border=\"1\" class=\"dataframe\"><thead><tr><th>sales_ymd</th><th>customer_id</th><th>product_cd</th><th>amount</th></tr><tr><td>i64</td><td>str</td><td>str</td><td>i64</td></tr></thead><tbody><tr><td>20181103</td><td>&quot;CS006214000001&quot;</td><td>&quot;P070305012&quot;</td><td>158</td></tr><tr><td>20181118</td><td>&quot;CS008415000097&quot;</td><td>&quot;P070701017&quot;</td><td>81</td></tr><tr><td>20170712</td><td>&quot;CS028414000014&quot;</td><td>&quot;P060101005&quot;</td><td>170</td></tr><tr><td>20190205</td><td>&quot;ZZ000000000000&quot;</td><td>&quot;P050301001&quot;</td><td>25</td></tr><tr><td>20180821</td><td>&quot;CS025415000050&quot;</td><td>&quot;P060102007&quot;</td><td>90</td></tr><tr><td>20190605</td><td>&quot;CS003515000195&quot;</td><td>&quot;P050102002&quot;</td><td>138</td></tr><tr><td>20181205</td><td>&quot;CS024514000042&quot;</td><td>&quot;P080101005&quot;</td><td>30</td></tr><tr><td>20190922</td><td>&quot;CS040415000178&quot;</td><td>&quot;P070501004&quot;</td><td>128</td></tr><tr><td>20170504</td><td>&quot;ZZ000000000000&quot;</td><td>&quot;P071302010&quot;</td><td>770</td></tr><tr><td>20191010</td><td>&quot;CS027514000015&quot;</td><td>&quot;P071101003&quot;</td><td>680</td></tr></tbody></table></div>"
      ],
      "text/plain": [
       "shape: (10, 4)\n",
       "┌───────────┬────────────────┬────────────┬────────┐\n",
       "│ sales_ymd ┆ customer_id    ┆ product_cd ┆ amount │\n",
       "│ ---       ┆ ---            ┆ ---        ┆ ---    │\n",
       "│ i64       ┆ str            ┆ str        ┆ i64    │\n",
       "╞═══════════╪════════════════╪════════════╪════════╡\n",
       "│ 20181103  ┆ CS006214000001 ┆ P070305012 ┆ 158    │\n",
       "│ 20181118  ┆ CS008415000097 ┆ P070701017 ┆ 81     │\n",
       "│ 20170712  ┆ CS028414000014 ┆ P060101005 ┆ 170    │\n",
       "│ 20190205  ┆ ZZ000000000000 ┆ P050301001 ┆ 25     │\n",
       "│ 20180821  ┆ CS025415000050 ┆ P060102007 ┆ 90     │\n",
       "│ 20190605  ┆ CS003515000195 ┆ P050102002 ┆ 138    │\n",
       "│ 20181205  ┆ CS024514000042 ┆ P080101005 ┆ 30     │\n",
       "│ 20190922  ┆ CS040415000178 ┆ P070501004 ┆ 128    │\n",
       "│ 20170504  ┆ ZZ000000000000 ┆ P071302010 ┆ 770    │\n",
       "│ 20191010  ┆ CS027514000015 ┆ P071101003 ┆ 680    │\n",
       "└───────────┴────────────────┴────────────┴────────┘"
      ]
     },
     "execution_count": 5,
     "metadata": {},
     "output_type": "execute_result"
    }
   ],
   "source": [
    "# エクスプレッション(pl.Expr())を渡してもいい\n",
    "df_receipt.select(\n",
    "    pl.col(\"sales_ymd\"),\n",
    "    pl.col(\"customer_id\"),\n",
    "    pl.col(\"product_cd\"),\n",
    "    pl.col(\"amount\")\n",
    ").head(10)"
   ]
  },
  {
   "attachments": {},
   "cell_type": "markdown",
   "metadata": {},
   "source": [
    "---\n",
    "> P-003: レシート明細データ（df_receipt）から売上年月日（sales_ymd）、顧客ID（customer_id）、商品コード（product_cd）、売上金額（amount）の順に列を指定し、5件表示せよ。ただし、sales_ymdをsales_dateに項目名を変更しながら抽出すること。"
   ]
  },
  {
   "cell_type": "code",
   "execution_count": 121,
   "metadata": {},
   "outputs": [
    {
     "data": {
      "text/html": [
       "<div><style>\n",
       ".dataframe > thead > tr,\n",
       ".dataframe > tbody > tr {\n",
       "  text-align: right;\n",
       "  white-space: pre-wrap;\n",
       "}\n",
       "</style>\n",
       "<small>shape: (5, 4)</small><table border=\"1\" class=\"dataframe\"><thead><tr><th>sales_date</th><th>customer_id</th><th>product_cd</th><th>amount</th></tr><tr><td>i64</td><td>str</td><td>str</td><td>i64</td></tr></thead><tbody><tr><td>20181103</td><td>&quot;CS006214000001&quot;</td><td>&quot;P070305012&quot;</td><td>158</td></tr><tr><td>20181118</td><td>&quot;CS008415000097&quot;</td><td>&quot;P070701017&quot;</td><td>81</td></tr><tr><td>20170712</td><td>&quot;CS028414000014&quot;</td><td>&quot;P060101005&quot;</td><td>170</td></tr><tr><td>20190205</td><td>&quot;ZZ000000000000&quot;</td><td>&quot;P050301001&quot;</td><td>25</td></tr><tr><td>20180821</td><td>&quot;CS025415000050&quot;</td><td>&quot;P060102007&quot;</td><td>90</td></tr></tbody></table></div>"
      ],
      "text/plain": [
       "shape: (5, 4)\n",
       "┌────────────┬────────────────┬────────────┬────────┐\n",
       "│ sales_date ┆ customer_id    ┆ product_cd ┆ amount │\n",
       "│ ---        ┆ ---            ┆ ---        ┆ ---    │\n",
       "│ i64        ┆ str            ┆ str        ┆ i64    │\n",
       "╞════════════╪════════════════╪════════════╪════════╡\n",
       "│ 20181103   ┆ CS006214000001 ┆ P070305012 ┆ 158    │\n",
       "│ 20181118   ┆ CS008415000097 ┆ P070701017 ┆ 81     │\n",
       "│ 20170712   ┆ CS028414000014 ┆ P060101005 ┆ 170    │\n",
       "│ 20190205   ┆ ZZ000000000000 ┆ P050301001 ┆ 25     │\n",
       "│ 20180821   ┆ CS025415000050 ┆ P060102007 ┆ 90     │\n",
       "└────────────┴────────────────┴────────────┴────────┘"
      ]
     },
     "execution_count": 121,
     "metadata": {},
     "output_type": "execute_result"
    }
   ],
   "source": [
    "# renameは辞書形式で行う(pandasも同じ感じ)\n",
    "\n",
    "df_003 = (\n",
    "    df_receipt\n",
    "    .select([\"sales_ymd\", \"customer_id\", \"product_cd\",\"amount\"])\n",
    "    .rename({\"sales_ymd\": \"sales_date\"})\n",
    ")\n",
    "\n",
    "df_003.head()"
   ]
  },
  {
   "cell_type": "code",
   "execution_count": 7,
   "metadata": {},
   "outputs": [
    {
     "data": {
      "text/html": [
       "<div><style>\n",
       ".dataframe > thead > tr,\n",
       ".dataframe > tbody > tr {\n",
       "  text-align: right;\n",
       "  white-space: pre-wrap;\n",
       "}\n",
       "</style>\n",
       "<small>shape: (10, 4)</small><table border=\"1\" class=\"dataframe\"><thead><tr><th>sales_date</th><th>customer_id</th><th>product_cd</th><th>amount</th></tr><tr><td>i64</td><td>str</td><td>str</td><td>i64</td></tr></thead><tbody><tr><td>20181103</td><td>&quot;CS006214000001&quot;</td><td>&quot;P070305012&quot;</td><td>158</td></tr><tr><td>20181118</td><td>&quot;CS008415000097&quot;</td><td>&quot;P070701017&quot;</td><td>81</td></tr><tr><td>20170712</td><td>&quot;CS028414000014&quot;</td><td>&quot;P060101005&quot;</td><td>170</td></tr><tr><td>20190205</td><td>&quot;ZZ000000000000&quot;</td><td>&quot;P050301001&quot;</td><td>25</td></tr><tr><td>20180821</td><td>&quot;CS025415000050&quot;</td><td>&quot;P060102007&quot;</td><td>90</td></tr><tr><td>20190605</td><td>&quot;CS003515000195&quot;</td><td>&quot;P050102002&quot;</td><td>138</td></tr><tr><td>20181205</td><td>&quot;CS024514000042&quot;</td><td>&quot;P080101005&quot;</td><td>30</td></tr><tr><td>20190922</td><td>&quot;CS040415000178&quot;</td><td>&quot;P070501004&quot;</td><td>128</td></tr><tr><td>20170504</td><td>&quot;ZZ000000000000&quot;</td><td>&quot;P071302010&quot;</td><td>770</td></tr><tr><td>20191010</td><td>&quot;CS027514000015&quot;</td><td>&quot;P071101003&quot;</td><td>680</td></tr></tbody></table></div>"
      ],
      "text/plain": [
       "shape: (10, 4)\n",
       "┌────────────┬────────────────┬────────────┬────────┐\n",
       "│ sales_date ┆ customer_id    ┆ product_cd ┆ amount │\n",
       "│ ---        ┆ ---            ┆ ---        ┆ ---    │\n",
       "│ i64        ┆ str            ┆ str        ┆ i64    │\n",
       "╞════════════╪════════════════╪════════════╪════════╡\n",
       "│ 20181103   ┆ CS006214000001 ┆ P070305012 ┆ 158    │\n",
       "│ 20181118   ┆ CS008415000097 ┆ P070701017 ┆ 81     │\n",
       "│ 20170712   ┆ CS028414000014 ┆ P060101005 ┆ 170    │\n",
       "│ 20190205   ┆ ZZ000000000000 ┆ P050301001 ┆ 25     │\n",
       "│ 20180821   ┆ CS025415000050 ┆ P060102007 ┆ 90     │\n",
       "│ 20190605   ┆ CS003515000195 ┆ P050102002 ┆ 138    │\n",
       "│ 20181205   ┆ CS024514000042 ┆ P080101005 ┆ 30     │\n",
       "│ 20190922   ┆ CS040415000178 ┆ P070501004 ┆ 128    │\n",
       "│ 20170504   ┆ ZZ000000000000 ┆ P071302010 ┆ 770    │\n",
       "│ 20191010   ┆ CS027514000015 ┆ P071101003 ┆ 680    │\n",
       "└────────────┴────────────────┴────────────┴────────┘"
      ]
     },
     "execution_count": 7,
     "metadata": {},
     "output_type": "execute_result"
    }
   ],
   "source": [
    "# aliasを用いた方法\n",
    "\n",
    "df_003 = (\n",
    "    df_receipt\n",
    "    .select(\n",
    "        pl.col(\"sales_ymd\").alias(\"sales_date\"),\n",
    "        \"customer_id\", \"product_cd\", \"amount\"\n",
    "    )\n",
    ")\n",
    "\n",
    "df_003.head(10)"
   ]
  },
  {
   "attachments": {},
   "cell_type": "markdown",
   "metadata": {},
   "source": [
    "## 抽出"
   ]
  },
  {
   "attachments": {},
   "cell_type": "markdown",
   "metadata": {},
   "source": [
    "---\n",
    "> P-004: レシート明細データ（df_receipt）から売上日（sales_ymd）、顧客ID（customer_id）、商品コード（product_cd）、売上金額（amount）の順に列を指定し、以下の条件を満たすデータを抽出せよ。\n",
    "> - 顧客ID（customer_id）が\"CS018205000001\""
   ]
  },
  {
   "cell_type": "code",
   "execution_count": 8,
   "metadata": {},
   "outputs": [
    {
     "data": {
      "text/html": [
       "<div><style>\n",
       ".dataframe > thead > tr,\n",
       ".dataframe > tbody > tr {\n",
       "  text-align: right;\n",
       "  white-space: pre-wrap;\n",
       "}\n",
       "</style>\n",
       "<small>shape: (10, 4)</small><table border=\"1\" class=\"dataframe\"><thead><tr><th>sales_ymd</th><th>customer_id</th><th>product_cd</th><th>amount</th></tr><tr><td>i64</td><td>str</td><td>str</td><td>i64</td></tr></thead><tbody><tr><td>20180911</td><td>&quot;CS018205000001&quot;</td><td>&quot;P071401012&quot;</td><td>2200</td></tr><tr><td>20180414</td><td>&quot;CS018205000001&quot;</td><td>&quot;P060104007&quot;</td><td>600</td></tr><tr><td>20170614</td><td>&quot;CS018205000001&quot;</td><td>&quot;P050206001&quot;</td><td>990</td></tr><tr><td>20170614</td><td>&quot;CS018205000001&quot;</td><td>&quot;P060702015&quot;</td><td>108</td></tr><tr><td>20190216</td><td>&quot;CS018205000001&quot;</td><td>&quot;P071005024&quot;</td><td>102</td></tr><tr><td>20180414</td><td>&quot;CS018205000001&quot;</td><td>&quot;P071101002&quot;</td><td>278</td></tr><tr><td>20190226</td><td>&quot;CS018205000001&quot;</td><td>&quot;P070902035&quot;</td><td>168</td></tr><tr><td>20190924</td><td>&quot;CS018205000001&quot;</td><td>&quot;P060805001&quot;</td><td>495</td></tr><tr><td>20190226</td><td>&quot;CS018205000001&quot;</td><td>&quot;P071401020&quot;</td><td>2200</td></tr><tr><td>20180911</td><td>&quot;CS018205000001&quot;</td><td>&quot;P071401005&quot;</td><td>1100</td></tr></tbody></table></div>"
      ],
      "text/plain": [
       "shape: (10, 4)\n",
       "┌───────────┬────────────────┬────────────┬────────┐\n",
       "│ sales_ymd ┆ customer_id    ┆ product_cd ┆ amount │\n",
       "│ ---       ┆ ---            ┆ ---        ┆ ---    │\n",
       "│ i64       ┆ str            ┆ str        ┆ i64    │\n",
       "╞═══════════╪════════════════╪════════════╪════════╡\n",
       "│ 20180911  ┆ CS018205000001 ┆ P071401012 ┆ 2200   │\n",
       "│ 20180414  ┆ CS018205000001 ┆ P060104007 ┆ 600    │\n",
       "│ 20170614  ┆ CS018205000001 ┆ P050206001 ┆ 990    │\n",
       "│ 20170614  ┆ CS018205000001 ┆ P060702015 ┆ 108    │\n",
       "│ 20190216  ┆ CS018205000001 ┆ P071005024 ┆ 102    │\n",
       "│ 20180414  ┆ CS018205000001 ┆ P071101002 ┆ 278    │\n",
       "│ 20190226  ┆ CS018205000001 ┆ P070902035 ┆ 168    │\n",
       "│ 20190924  ┆ CS018205000001 ┆ P060805001 ┆ 495    │\n",
       "│ 20190226  ┆ CS018205000001 ┆ P071401020 ┆ 2200   │\n",
       "│ 20180911  ┆ CS018205000001 ┆ P071401005 ┆ 1100   │\n",
       "└───────────┴────────────────┴────────────┴────────┘"
      ]
     },
     "execution_count": 8,
     "metadata": {},
     "output_type": "execute_result"
    }
   ],
   "source": [
    "# エクスプレッション(pl.expr())を渡してフィルタリングをする。(pandasの.query()メソッドに似ている)\n",
    "# pl.col()エクスプレッションは列選択を意味する\n",
    "# and -> &, or -> | で繋ぐことができる(pandasと同様)\n",
    "df_004 = (\n",
    "    df_receipt.select(\"sales_ymd\", \"customer_id\", \"product_cd\", \"amount\")\n",
    "    .filter(pl.col(\"customer_id\") == \"CS018205000001\")\n",
    ")\n",
    "\n",
    "df_004.head(10)"
   ]
  },
  {
   "attachments": {},
   "cell_type": "markdown",
   "metadata": {},
   "source": [
    "---\n",
    "> P-005: レシート明細データ（df_receipt）から売上日（sales_ymd）、顧客ID（customer_id）、商品コード（product_cd）、売上金額（amount）の順に列を指定し、以下の全ての条件を満たすデータを抽出せよ。\n",
    "> - 顧客ID（customer_id）が\"CS018205000001\"\n",
    "> - 売上金額（amount）が1,000以上"
   ]
  },
  {
   "cell_type": "code",
   "execution_count": 122,
   "metadata": {},
   "outputs": [
    {
     "data": {
      "text/html": [
       "<div><style>\n",
       ".dataframe > thead > tr,\n",
       ".dataframe > tbody > tr {\n",
       "  text-align: right;\n",
       "  white-space: pre-wrap;\n",
       "}\n",
       "</style>\n",
       "<small>shape: (3, 4)</small><table border=\"1\" class=\"dataframe\"><thead><tr><th>sales_ymd</th><th>customer_id</th><th>product_cd</th><th>amount</th></tr><tr><td>i64</td><td>str</td><td>str</td><td>i64</td></tr></thead><tbody><tr><td>20180911</td><td>&quot;CS018205000001&quot;</td><td>&quot;P071401012&quot;</td><td>2200</td></tr><tr><td>20190226</td><td>&quot;CS018205000001&quot;</td><td>&quot;P071401020&quot;</td><td>2200</td></tr><tr><td>20180911</td><td>&quot;CS018205000001&quot;</td><td>&quot;P071401005&quot;</td><td>1100</td></tr></tbody></table></div>"
      ],
      "text/plain": [
       "shape: (3, 4)\n",
       "┌───────────┬────────────────┬────────────┬────────┐\n",
       "│ sales_ymd ┆ customer_id    ┆ product_cd ┆ amount │\n",
       "│ ---       ┆ ---            ┆ ---        ┆ ---    │\n",
       "│ i64       ┆ str            ┆ str        ┆ i64    │\n",
       "╞═══════════╪════════════════╪════════════╪════════╡\n",
       "│ 20180911  ┆ CS018205000001 ┆ P071401012 ┆ 2200   │\n",
       "│ 20190226  ┆ CS018205000001 ┆ P071401020 ┆ 2200   │\n",
       "│ 20180911  ┆ CS018205000001 ┆ P071401005 ┆ 1100   │\n",
       "└───────────┴────────────────┴────────────┴────────┘"
      ]
     },
     "execution_count": 122,
     "metadata": {},
     "output_type": "execute_result"
    }
   ],
   "source": [
    "# &や|で繋ぐときは()で囲ってあげること\n",
    "\n",
    "df_005 = (\n",
    "    df_receipt.select(\"sales_ymd\", \"customer_id\", \"product_cd\", \"amount\")\n",
    "    .filter(\n",
    "        (pl.col(\"customer_id\") == \"CS018205000001\")\n",
    "        & (pl.col(\"amount\") >= 1000)\n",
    "    )\n",
    ")\n",
    "\n",
    "df_005"
   ]
  },
  {
   "attachments": {},
   "cell_type": "markdown",
   "metadata": {},
   "source": [
    "---\n",
    "> P-006: レシート明細データ（df_receipt）から売上日（sales_ymd）、顧客ID（customer_id）、商品コード（product_cd）、売上数量（quantity）、売上金額（amount）の順に列を指定し、以下の全ての条件を満たすデータを抽出せよ。\n",
    "> - 顧客ID（customer_id）が\"CS018205000001\"\n",
    "> - 売上金額（amount）が1,000以上または売上数量（quantity）が5以上"
   ]
  },
  {
   "cell_type": "code",
   "execution_count": 123,
   "metadata": {},
   "outputs": [
    {
     "data": {
      "text/html": [
       "<div><style>\n",
       ".dataframe > thead > tr,\n",
       ".dataframe > tbody > tr {\n",
       "  text-align: right;\n",
       "  white-space: pre-wrap;\n",
       "}\n",
       "</style>\n",
       "<small>shape: (4, 5)</small><table border=\"1\" class=\"dataframe\"><thead><tr><th>sales_ymd</th><th>customer_id</th><th>product_cd</th><th>quantity</th><th>amount</th></tr><tr><td>i64</td><td>str</td><td>str</td><td>i64</td><td>i64</td></tr></thead><tbody><tr><td>20180911</td><td>&quot;CS018205000001&quot;</td><td>&quot;P071401012&quot;</td><td>1</td><td>2200</td></tr><tr><td>20180414</td><td>&quot;CS018205000001&quot;</td><td>&quot;P060104007&quot;</td><td>6</td><td>600</td></tr><tr><td>20190226</td><td>&quot;CS018205000001&quot;</td><td>&quot;P071401020&quot;</td><td>1</td><td>2200</td></tr><tr><td>20180911</td><td>&quot;CS018205000001&quot;</td><td>&quot;P071401005&quot;</td><td>1</td><td>1100</td></tr></tbody></table></div>"
      ],
      "text/plain": [
       "shape: (4, 5)\n",
       "┌───────────┬────────────────┬────────────┬──────────┬────────┐\n",
       "│ sales_ymd ┆ customer_id    ┆ product_cd ┆ quantity ┆ amount │\n",
       "│ ---       ┆ ---            ┆ ---        ┆ ---      ┆ ---    │\n",
       "│ i64       ┆ str            ┆ str        ┆ i64      ┆ i64    │\n",
       "╞═══════════╪════════════════╪════════════╪══════════╪════════╡\n",
       "│ 20180911  ┆ CS018205000001 ┆ P071401012 ┆ 1        ┆ 2200   │\n",
       "│ 20180414  ┆ CS018205000001 ┆ P060104007 ┆ 6        ┆ 600    │\n",
       "│ 20190226  ┆ CS018205000001 ┆ P071401020 ┆ 1        ┆ 2200   │\n",
       "│ 20180911  ┆ CS018205000001 ┆ P071401005 ┆ 1        ┆ 1100   │\n",
       "└───────────┴────────────────┴────────────┴──────────┴────────┘"
      ]
     },
     "execution_count": 123,
     "metadata": {},
     "output_type": "execute_result"
    }
   ],
   "source": [
    "df_006 = (\n",
    "    df_receipt.select(\"sales_ymd\", \"customer_id\", \"product_cd\", \"quantity\", \"amount\")\n",
    "    .filter(\n",
    "        (pl.col(\"customer_id\") == \"CS018205000001\")\n",
    "        & ((pl.col(\"amount\") >= 1000) | (pl.col(\"quantity\") > 5))\n",
    "    )\n",
    ")\n",
    "\n",
    "df_006"
   ]
  },
  {
   "attachments": {},
   "cell_type": "markdown",
   "metadata": {},
   "source": [
    "---\n",
    "> P-007: レシート明細データ（df_receipt）から売上日（sales_ymd）、顧客ID（customer_id）、商品コード（product_cd）、売上金額（amount）の順に列を指定し、以下の全ての条件を満たすデータを抽出せよ。\n",
    "> - 顧客ID（customer_id）が\"CS018205000001\"\n",
    "> - 売上金額（amount）が1,000以上2,000以下"
   ]
  },
  {
   "cell_type": "code",
   "execution_count": 124,
   "metadata": {},
   "outputs": [
    {
     "data": {
      "text/html": [
       "<div><style>\n",
       ".dataframe > thead > tr,\n",
       ".dataframe > tbody > tr {\n",
       "  text-align: right;\n",
       "  white-space: pre-wrap;\n",
       "}\n",
       "</style>\n",
       "<small>shape: (1, 4)</small><table border=\"1\" class=\"dataframe\"><thead><tr><th>sales_ymd</th><th>customer_id</th><th>product_cd</th><th>amount</th></tr><tr><td>i64</td><td>str</td><td>str</td><td>i64</td></tr></thead><tbody><tr><td>20180911</td><td>&quot;CS018205000001&quot;</td><td>&quot;P071401005&quot;</td><td>1100</td></tr></tbody></table></div>"
      ],
      "text/plain": [
       "shape: (1, 4)\n",
       "┌───────────┬────────────────┬────────────┬────────┐\n",
       "│ sales_ymd ┆ customer_id    ┆ product_cd ┆ amount │\n",
       "│ ---       ┆ ---            ┆ ---        ┆ ---    │\n",
       "│ i64       ┆ str            ┆ str        ┆ i64    │\n",
       "╞═══════════╪════════════════╪════════════╪════════╡\n",
       "│ 20180911  ┆ CS018205000001 ┆ P071401005 ┆ 1100   │\n",
       "└───────────┴────────────────┴────────────┴────────┘"
      ]
     },
     "execution_count": 124,
     "metadata": {},
     "output_type": "execute_result"
    }
   ],
   "source": [
    "df_007 = (\n",
    "    df_receipt.select(\"sales_ymd\", \"customer_id\", \"product_cd\", \"amount\")\n",
    "    .filter(\n",
    "        (pl.col(\"customer_id\") == \"CS018205000001\")\n",
    "        & ((pl.col(\"amount\") >= 1000) & (pl.col(\"amount\") <= 2000))\n",
    "    )\n",
    ")\n",
    "\n",
    "df_007"
   ]
  },
  {
   "cell_type": "code",
   "execution_count": 12,
   "metadata": {},
   "outputs": [
    {
     "data": {
      "text/html": [
       "<div><style>\n",
       ".dataframe > thead > tr,\n",
       ".dataframe > tbody > tr {\n",
       "  text-align: right;\n",
       "  white-space: pre-wrap;\n",
       "}\n",
       "</style>\n",
       "<small>shape: (1, 4)</small><table border=\"1\" class=\"dataframe\"><thead><tr><th>sales_ymd</th><th>customer_id</th><th>product_cd</th><th>amount</th></tr><tr><td>i64</td><td>str</td><td>str</td><td>i64</td></tr></thead><tbody><tr><td>20180911</td><td>&quot;CS018205000001&quot;</td><td>&quot;P071401005&quot;</td><td>1100</td></tr></tbody></table></div>"
      ],
      "text/plain": [
       "shape: (1, 4)\n",
       "┌───────────┬────────────────┬────────────┬────────┐\n",
       "│ sales_ymd ┆ customer_id    ┆ product_cd ┆ amount │\n",
       "│ ---       ┆ ---            ┆ ---        ┆ ---    │\n",
       "│ i64       ┆ str            ┆ str        ┆ i64    │\n",
       "╞═══════════╪════════════════╪════════════╪════════╡\n",
       "│ 20180911  ┆ CS018205000001 ┆ P071401005 ┆ 1100   │\n",
       "└───────────┴────────────────┴────────────┴────────┘"
      ]
     },
     "execution_count": 12,
     "metadata": {},
     "output_type": "execute_result"
    }
   ],
   "source": [
    "df_007 = (\n",
    "    df_receipt.select(\"sales_ymd\", \"customer_id\", \"product_cd\", \"amount\")\n",
    "    .filter(\n",
    "        (pl.col(\"customer_id\") == \"CS018205000001\")\n",
    "        & (pl.col(\"amount\").is_between(lower_bound=1000, upper_bound=2000, closed=\"both\"))\n",
    "    )\n",
    ")\n",
    "\n",
    "df_007"
   ]
  },
  {
   "attachments": {},
   "cell_type": "markdown",
   "metadata": {},
   "source": [
    "---\n",
    "> P-008: レシート明細データ（df_receipt）から売上日（sales_ymd）、顧客ID（customer_id）、商品コード（product_cd）、売上金額（amount）の順に列を指定し、以下の全ての条件を満たすデータを抽出せよ。\n",
    "> - 顧客ID（customer_id）が\"CS018205000001\"\n",
    "> - 商品コード（product_cd）が\"P071401019\"以外"
   ]
  },
  {
   "cell_type": "code",
   "execution_count": 13,
   "metadata": {},
   "outputs": [
    {
     "data": {
      "text/html": [
       "<div><style>\n",
       ".dataframe > thead > tr,\n",
       ".dataframe > tbody > tr {\n",
       "  text-align: right;\n",
       "  white-space: pre-wrap;\n",
       "}\n",
       "</style>\n",
       "<small>shape: (12, 4)</small><table border=\"1\" class=\"dataframe\"><thead><tr><th>sales_ymd</th><th>customer_id</th><th>product_cd</th><th>amount</th></tr><tr><td>i64</td><td>str</td><td>str</td><td>i64</td></tr></thead><tbody><tr><td>20180911</td><td>&quot;CS018205000001&quot;</td><td>&quot;P071401012&quot;</td><td>2200</td></tr><tr><td>20180414</td><td>&quot;CS018205000001&quot;</td><td>&quot;P060104007&quot;</td><td>600</td></tr><tr><td>20170614</td><td>&quot;CS018205000001&quot;</td><td>&quot;P050206001&quot;</td><td>990</td></tr><tr><td>20170614</td><td>&quot;CS018205000001&quot;</td><td>&quot;P060702015&quot;</td><td>108</td></tr><tr><td>20190216</td><td>&quot;CS018205000001&quot;</td><td>&quot;P071005024&quot;</td><td>102</td></tr><tr><td>&hellip;</td><td>&hellip;</td><td>&hellip;</td><td>&hellip;</td></tr><tr><td>20190924</td><td>&quot;CS018205000001&quot;</td><td>&quot;P060805001&quot;</td><td>495</td></tr><tr><td>20190226</td><td>&quot;CS018205000001&quot;</td><td>&quot;P071401020&quot;</td><td>2200</td></tr><tr><td>20180911</td><td>&quot;CS018205000001&quot;</td><td>&quot;P071401005&quot;</td><td>1100</td></tr><tr><td>20190216</td><td>&quot;CS018205000001&quot;</td><td>&quot;P040101002&quot;</td><td>218</td></tr><tr><td>20190924</td><td>&quot;CS018205000001&quot;</td><td>&quot;P091503001&quot;</td><td>280</td></tr></tbody></table></div>"
      ],
      "text/plain": [
       "shape: (12, 4)\n",
       "┌───────────┬────────────────┬────────────┬────────┐\n",
       "│ sales_ymd ┆ customer_id    ┆ product_cd ┆ amount │\n",
       "│ ---       ┆ ---            ┆ ---        ┆ ---    │\n",
       "│ i64       ┆ str            ┆ str        ┆ i64    │\n",
       "╞═══════════╪════════════════╪════════════╪════════╡\n",
       "│ 20180911  ┆ CS018205000001 ┆ P071401012 ┆ 2200   │\n",
       "│ 20180414  ┆ CS018205000001 ┆ P060104007 ┆ 600    │\n",
       "│ 20170614  ┆ CS018205000001 ┆ P050206001 ┆ 990    │\n",
       "│ 20170614  ┆ CS018205000001 ┆ P060702015 ┆ 108    │\n",
       "│ 20190216  ┆ CS018205000001 ┆ P071005024 ┆ 102    │\n",
       "│ …         ┆ …              ┆ …          ┆ …      │\n",
       "│ 20190924  ┆ CS018205000001 ┆ P060805001 ┆ 495    │\n",
       "│ 20190226  ┆ CS018205000001 ┆ P071401020 ┆ 2200   │\n",
       "│ 20180911  ┆ CS018205000001 ┆ P071401005 ┆ 1100   │\n",
       "│ 20190216  ┆ CS018205000001 ┆ P040101002 ┆ 218    │\n",
       "│ 20190924  ┆ CS018205000001 ┆ P091503001 ┆ 280    │\n",
       "└───────────┴────────────────┴────────────┴────────┘"
      ]
     },
     "execution_count": 13,
     "metadata": {},
     "output_type": "execute_result"
    }
   ],
   "source": [
    "df_008 = (\n",
    "    df_receipt.select(\"sales_ymd\", \"customer_id\", \"product_cd\", \"amount\")\n",
    "    .filter(\n",
    "        (pl.col(\"customer_id\") == \"CS018205000001\")\n",
    "        & (pl.col(\"product_cd\") != \"P071401019\")\n",
    "    )\n",
    ")\n",
    "\n",
    "df_008"
   ]
  },
  {
   "attachments": {},
   "cell_type": "markdown",
   "metadata": {},
   "source": [
    "---\n",
    "> P-009: 以下の処理において、出力結果を変えずにORをANDに書き換えよ。\n",
    "> \n",
    "> pandas:`df_store.query('not(prefecture_cd == \"13\" | floor_area > 900)')` <br>\n",
    "> polars:`df_store.filter(~((pl.col(\"prefecture_cd\") == \"13\") | (pl.col(\"floor_area\") > 900)))`\n",
    "\n",
    "否定は`~`でもいいが、`pl.Expr.is_not`を使用しても良い\n",
    "\n",
    "> `df_store.filter(((pl.col(\"prefecture_cd\") == \"13\") |(pl.col(\"floor_area\")> 900)).not_())`"
   ]
  },
  {
   "cell_type": "code",
   "execution_count": 14,
   "metadata": {},
   "outputs": [
    {
     "data": {
      "text/html": [
       "<div><style>\n",
       ".dataframe > thead > tr,\n",
       ".dataframe > tbody > tr {\n",
       "  text-align: right;\n",
       "  white-space: pre-wrap;\n",
       "}\n",
       "</style>\n",
       "<small>shape: (3, 10)</small><table border=\"1\" class=\"dataframe\"><thead><tr><th>store_cd</th><th>store_name</th><th>prefecture_cd</th><th>prefecture</th><th>address</th><th>address_kana</th><th>tel_no</th><th>longitude</th><th>latitude</th><th>floor_area</th></tr><tr><td>str</td><td>str</td><td>str</td><td>str</td><td>str</td><td>str</td><td>str</td><td>f64</td><td>f64</td><td>f64</td></tr></thead><tbody><tr><td>&quot;S14046&quot;</td><td>&quot;北山田店&quot;</td><td>&quot;14&quot;</td><td>&quot;神奈川県&quot;</td><td>&quot;神奈川県横浜市都筑区北山田一丁目&quot;</td><td>&quot;カナガワケンヨコハマシツヅキクキタヤマタイッチョウメ&quot;</td><td>&quot;045-123-4049&quot;</td><td>139.5916</td><td>35.56189</td><td>831.0</td></tr><tr><td>&quot;S14011&quot;</td><td>&quot;日吉本町店&quot;</td><td>&quot;14&quot;</td><td>&quot;神奈川県&quot;</td><td>&quot;神奈川県横浜市港北区日吉本町四丁目&quot;</td><td>&quot;カナガワケンヨコハマシコウホククヒヨシホンチョウヨンチョウメ&quot;</td><td>&quot;045-123-4033&quot;</td><td>139.6316</td><td>35.54655</td><td>890.0</td></tr><tr><td>&quot;S12013&quot;</td><td>&quot;習志野店&quot;</td><td>&quot;12&quot;</td><td>&quot;千葉県&quot;</td><td>&quot;千葉県習志野市芝園一丁目&quot;</td><td>&quot;チバケンナラシノシシバゾノイッチョウメ&quot;</td><td>&quot;047-123-4002&quot;</td><td>140.022</td><td>35.66122</td><td>808.0</td></tr></tbody></table></div>"
      ],
      "text/plain": [
       "shape: (3, 10)\n",
       "┌──────────┬────────────┬───────────┬───────────┬───┬───────────┬───────────┬──────────┬───────────┐\n",
       "│ store_cd ┆ store_name ┆ prefectur ┆ prefectur ┆ … ┆ tel_no    ┆ longitude ┆ latitude ┆ floor_are │\n",
       "│ ---      ┆ ---        ┆ e_cd      ┆ e         ┆   ┆ ---       ┆ ---       ┆ ---      ┆ a         │\n",
       "│ str      ┆ str        ┆ ---       ┆ ---       ┆   ┆ str       ┆ f64       ┆ f64      ┆ ---       │\n",
       "│          ┆            ┆ str       ┆ str       ┆   ┆           ┆           ┆          ┆ f64       │\n",
       "╞══════════╪════════════╪═══════════╪═══════════╪═══╪═══════════╪═══════════╪══════════╪═══════════╡\n",
       "│ S14046   ┆ 北山田店   ┆ 14        ┆ 神奈川県  ┆ … ┆ 045-123-4 ┆ 139.5916  ┆ 35.56189 ┆ 831.0     │\n",
       "│          ┆            ┆           ┆           ┆   ┆ 049       ┆           ┆          ┆           │\n",
       "│ S14011   ┆ 日吉本町店 ┆ 14        ┆ 神奈川県  ┆ … ┆ 045-123-4 ┆ 139.6316  ┆ 35.54655 ┆ 890.0     │\n",
       "│          ┆            ┆           ┆           ┆   ┆ 033       ┆           ┆          ┆           │\n",
       "│ S12013   ┆ 習志野店   ┆ 12        ┆ 千葉県    ┆ … ┆ 047-123-4 ┆ 140.022   ┆ 35.66122 ┆ 808.0     │\n",
       "│          ┆            ┆           ┆           ┆   ┆ 002       ┆           ┆          ┆           │\n",
       "└──────────┴────────────┴───────────┴───────────┴───┴───────────┴───────────┴──────────┴───────────┘"
      ]
     },
     "execution_count": 14,
     "metadata": {},
     "output_type": "execute_result"
    }
   ],
   "source": [
    "df_009 = df_store.filter(\n",
    "    (pl.col(\"prefecture_cd\") != \"13\")\n",
    "    & (pl.col(\"floor_area\") <= 900)\n",
    ")\n",
    "\n",
    "df_009"
   ]
  },
  {
   "attachments": {},
   "cell_type": "markdown",
   "metadata": {},
   "source": [
    "---\n",
    "> P-010: 店舗データ（df_store）から、店舗コード（store_cd）が\"S14\"で始まるものだけ全項目抽出し、5件表示せよ。\n",
    "\n",
    "文字列の条件\n",
    "| メソッド            | 処理                    |\n",
    "| --------------- | --------------------- |\n",
    "| str.starts_with | 指定文字列が先頭にあるか          |\n",
    "| str.ends_with   | 指定文字列が終端にあるか          |\n",
    "| str.contains    | 指定文字列を含むかどうか(正規表現に対応) |"
   ]
  },
  {
   "cell_type": "code",
   "execution_count": 15,
   "metadata": {},
   "outputs": [
    {
     "data": {
      "text/html": [
       "<div><style>\n",
       ".dataframe > thead > tr,\n",
       ".dataframe > tbody > tr {\n",
       "  text-align: right;\n",
       "  white-space: pre-wrap;\n",
       "}\n",
       "</style>\n",
       "<small>shape: (10, 10)</small><table border=\"1\" class=\"dataframe\"><thead><tr><th>store_cd</th><th>store_name</th><th>prefecture_cd</th><th>prefecture</th><th>address</th><th>address_kana</th><th>tel_no</th><th>longitude</th><th>latitude</th><th>floor_area</th></tr><tr><td>str</td><td>str</td><td>str</td><td>str</td><td>str</td><td>str</td><td>str</td><td>f64</td><td>f64</td><td>f64</td></tr></thead><tbody><tr><td>&quot;S14010&quot;</td><td>&quot;菊名店&quot;</td><td>&quot;14&quot;</td><td>&quot;神奈川県&quot;</td><td>&quot;神奈川県横浜市港北区菊名一丁目&quot;</td><td>&quot;カナガワケンヨコハマシコウホククキクナイッチョウメ&quot;</td><td>&quot;045-123-4032&quot;</td><td>139.6326</td><td>35.50049</td><td>1732.0</td></tr><tr><td>&quot;S14033&quot;</td><td>&quot;阿久和店&quot;</td><td>&quot;14&quot;</td><td>&quot;神奈川県&quot;</td><td>&quot;神奈川県横浜市瀬谷区阿久和西一丁目&quot;</td><td>&quot;カナガワケンヨコハマシセヤクアクワニシイッチョウメ&quot;</td><td>&quot;045-123-4043&quot;</td><td>139.4961</td><td>35.45918</td><td>1495.0</td></tr><tr><td>&quot;S14036&quot;</td><td>&quot;相模原中央店&quot;</td><td>&quot;14&quot;</td><td>&quot;神奈川県&quot;</td><td>&quot;神奈川県相模原市中央二丁目&quot;</td><td>&quot;カナガワケンサガミハラシチュウオウニチョウメ&quot;</td><td>&quot;042-123-4045&quot;</td><td>139.3716</td><td>35.57327</td><td>1679.0</td></tr><tr><td>&quot;S14040&quot;</td><td>&quot;長津田店&quot;</td><td>&quot;14&quot;</td><td>&quot;神奈川県&quot;</td><td>&quot;神奈川県横浜市緑区長津田みなみ台五丁目&quot;</td><td>&quot;カナガワケンヨコハマシミドリクナガツタミナミダイゴチョウメ&quot;</td><td>&quot;045-123-4046&quot;</td><td>139.4994</td><td>35.52398</td><td>1548.0</td></tr><tr><td>&quot;S14050&quot;</td><td>&quot;阿久和西店&quot;</td><td>&quot;14&quot;</td><td>&quot;神奈川県&quot;</td><td>&quot;神奈川県横浜市瀬谷区阿久和西一丁目&quot;</td><td>&quot;カナガワケンヨコハマシセヤクアクワニシイッチョウメ&quot;</td><td>&quot;045-123-4053&quot;</td><td>139.4961</td><td>35.45918</td><td>1830.0</td></tr><tr><td>&quot;S14028&quot;</td><td>&quot;二ツ橋店&quot;</td><td>&quot;14&quot;</td><td>&quot;神奈川県&quot;</td><td>&quot;神奈川県横浜市瀬谷区二ツ橋町&quot;</td><td>&quot;カナガワケンヨコハマシセヤクフタツバシチョウ&quot;</td><td>&quot;045-123-4042&quot;</td><td>139.4963</td><td>35.46304</td><td>1574.0</td></tr><tr><td>&quot;S14012&quot;</td><td>&quot;本牧和田店&quot;</td><td>&quot;14&quot;</td><td>&quot;神奈川県&quot;</td><td>&quot;神奈川県横浜市中区本牧和田&quot;</td><td>&quot;カナガワケンヨコハマシナカクホンモクワダ&quot;</td><td>&quot;045-123-4034&quot;</td><td>139.6582</td><td>35.42156</td><td>1341.0</td></tr><tr><td>&quot;S14046&quot;</td><td>&quot;北山田店&quot;</td><td>&quot;14&quot;</td><td>&quot;神奈川県&quot;</td><td>&quot;神奈川県横浜市都筑区北山田一丁目&quot;</td><td>&quot;カナガワケンヨコハマシツヅキクキタヤマタイッチョウメ&quot;</td><td>&quot;045-123-4049&quot;</td><td>139.5916</td><td>35.56189</td><td>831.0</td></tr><tr><td>&quot;S14022&quot;</td><td>&quot;逗子店&quot;</td><td>&quot;14&quot;</td><td>&quot;神奈川県&quot;</td><td>&quot;神奈川県逗子市逗子一丁目&quot;</td><td>&quot;カナガワケンズシシズシイッチョウメ&quot;</td><td>&quot;046-123-4036&quot;</td><td>139.5789</td><td>35.29642</td><td>1838.0</td></tr><tr><td>&quot;S14011&quot;</td><td>&quot;日吉本町店&quot;</td><td>&quot;14&quot;</td><td>&quot;神奈川県&quot;</td><td>&quot;神奈川県横浜市港北区日吉本町四丁目&quot;</td><td>&quot;カナガワケンヨコハマシコウホククヒヨシホンチョウヨンチョウメ&quot;</td><td>&quot;045-123-4033&quot;</td><td>139.6316</td><td>35.54655</td><td>890.0</td></tr></tbody></table></div>"
      ],
      "text/plain": [
       "shape: (10, 10)\n",
       "┌──────────┬────────────┬───────────┬───────────┬───┬───────────┬───────────┬──────────┬───────────┐\n",
       "│ store_cd ┆ store_name ┆ prefectur ┆ prefectur ┆ … ┆ tel_no    ┆ longitude ┆ latitude ┆ floor_are │\n",
       "│ ---      ┆ ---        ┆ e_cd      ┆ e         ┆   ┆ ---       ┆ ---       ┆ ---      ┆ a         │\n",
       "│ str      ┆ str        ┆ ---       ┆ ---       ┆   ┆ str       ┆ f64       ┆ f64      ┆ ---       │\n",
       "│          ┆            ┆ str       ┆ str       ┆   ┆           ┆           ┆          ┆ f64       │\n",
       "╞══════════╪════════════╪═══════════╪═══════════╪═══╪═══════════╪═══════════╪══════════╪═══════════╡\n",
       "│ S14010   ┆ 菊名店     ┆ 14        ┆ 神奈川県  ┆ … ┆ 045-123-4 ┆ 139.6326  ┆ 35.50049 ┆ 1732.0    │\n",
       "│          ┆            ┆           ┆           ┆   ┆ 032       ┆           ┆          ┆           │\n",
       "│ S14033   ┆ 阿久和店   ┆ 14        ┆ 神奈川県  ┆ … ┆ 045-123-4 ┆ 139.4961  ┆ 35.45918 ┆ 1495.0    │\n",
       "│          ┆            ┆           ┆           ┆   ┆ 043       ┆           ┆          ┆           │\n",
       "│ S14036   ┆ 相模原中央 ┆ 14        ┆ 神奈川県  ┆ … ┆ 042-123-4 ┆ 139.3716  ┆ 35.57327 ┆ 1679.0    │\n",
       "│          ┆ 店         ┆           ┆           ┆   ┆ 045       ┆           ┆          ┆           │\n",
       "│ S14040   ┆ 長津田店   ┆ 14        ┆ 神奈川県  ┆ … ┆ 045-123-4 ┆ 139.4994  ┆ 35.52398 ┆ 1548.0    │\n",
       "│          ┆            ┆           ┆           ┆   ┆ 046       ┆           ┆          ┆           │\n",
       "│ S14050   ┆ 阿久和西店 ┆ 14        ┆ 神奈川県  ┆ … ┆ 045-123-4 ┆ 139.4961  ┆ 35.45918 ┆ 1830.0    │\n",
       "│          ┆            ┆           ┆           ┆   ┆ 053       ┆           ┆          ┆           │\n",
       "│ S14028   ┆ 二ツ橋店   ┆ 14        ┆ 神奈川県  ┆ … ┆ 045-123-4 ┆ 139.4963  ┆ 35.46304 ┆ 1574.0    │\n",
       "│          ┆            ┆           ┆           ┆   ┆ 042       ┆           ┆          ┆           │\n",
       "│ S14012   ┆ 本牧和田店 ┆ 14        ┆ 神奈川県  ┆ … ┆ 045-123-4 ┆ 139.6582  ┆ 35.42156 ┆ 1341.0    │\n",
       "│          ┆            ┆           ┆           ┆   ┆ 034       ┆           ┆          ┆           │\n",
       "│ S14046   ┆ 北山田店   ┆ 14        ┆ 神奈川県  ┆ … ┆ 045-123-4 ┆ 139.5916  ┆ 35.56189 ┆ 831.0     │\n",
       "│          ┆            ┆           ┆           ┆   ┆ 049       ┆           ┆          ┆           │\n",
       "│ S14022   ┆ 逗子店     ┆ 14        ┆ 神奈川県  ┆ … ┆ 046-123-4 ┆ 139.5789  ┆ 35.29642 ┆ 1838.0    │\n",
       "│          ┆            ┆           ┆           ┆   ┆ 036       ┆           ┆          ┆           │\n",
       "│ S14011   ┆ 日吉本町店 ┆ 14        ┆ 神奈川県  ┆ … ┆ 045-123-4 ┆ 139.6316  ┆ 35.54655 ┆ 890.0     │\n",
       "│          ┆            ┆           ┆           ┆   ┆ 033       ┆           ┆          ┆           │\n",
       "└──────────┴────────────┴───────────┴───────────┴───┴───────────┴───────────┴──────────┴───────────┘"
      ]
     },
     "execution_count": 15,
     "metadata": {},
     "output_type": "execute_result"
    }
   ],
   "source": [
    "df_010 = df_store.filter(pl.col(\"store_cd\").str.starts_with(\"S14\"))\n",
    "\n",
    "df_010.head(10)"
   ]
  },
  {
   "attachments": {},
   "cell_type": "markdown",
   "metadata": {},
   "source": [
    "---\n",
    "> P-011: 顧客データ（df_customer）から顧客ID（customer_id）の末尾が1のものだけ全項目抽出し、5件表示せよ。"
   ]
  },
  {
   "cell_type": "code",
   "execution_count": 16,
   "metadata": {},
   "outputs": [
    {
     "data": {
      "text/html": [
       "<div><style>\n",
       ".dataframe > thead > tr,\n",
       ".dataframe > tbody > tr {\n",
       "  text-align: right;\n",
       "  white-space: pre-wrap;\n",
       "}\n",
       "</style>\n",
       "<small>shape: (10, 11)</small><table border=\"1\" class=\"dataframe\"><thead><tr><th>customer_id</th><th>customer_name</th><th>gender_cd</th><th>gender</th><th>birth_day</th><th>age</th><th>postal_cd</th><th>address</th><th>application_store_cd</th><th>application_date</th><th>status_cd</th></tr><tr><td>str</td><td>str</td><td>str</td><td>str</td><td>str</td><td>i64</td><td>str</td><td>str</td><td>str</td><td>str</td><td>str</td></tr></thead><tbody><tr><td>&quot;CS037613000071&quot;</td><td>&quot;六角 雅彦&quot;</td><td>&quot;9&quot;</td><td>&quot;不明&quot;</td><td>&quot;1952-04-01&quot;</td><td>66</td><td>&quot;136-0076&quot;</td><td>&quot;東京都江東区南砂**********&quot;</td><td>&quot;S13037&quot;</td><td>&quot;20150414&quot;</td><td>&quot;0-00000000-0&quot;</td></tr><tr><td>&quot;CS028811000001&quot;</td><td>&quot;堀井 かおり&quot;</td><td>&quot;1&quot;</td><td>&quot;女性&quot;</td><td>&quot;1933-03-27&quot;</td><td>86</td><td>&quot;245-0016&quot;</td><td>&quot;神奈川県横浜市泉区和泉町**********&quot;</td><td>&quot;S14028&quot;</td><td>&quot;20160115&quot;</td><td>&quot;0-00000000-0&quot;</td></tr><tr><td>&quot;CS040412000191&quot;</td><td>&quot;川井 郁恵&quot;</td><td>&quot;1&quot;</td><td>&quot;女性&quot;</td><td>&quot;1977-01-05&quot;</td><td>42</td><td>&quot;226-0021&quot;</td><td>&quot;神奈川県横浜市緑区北八朔町**********&quot;</td><td>&quot;S14040&quot;</td><td>&quot;20151101&quot;</td><td>&quot;1-20091025-4&quot;</td></tr><tr><td>&quot;CS028314000011&quot;</td><td>&quot;小菅 あおい&quot;</td><td>&quot;1&quot;</td><td>&quot;女性&quot;</td><td>&quot;1983-11-26&quot;</td><td>35</td><td>&quot;246-0038&quot;</td><td>&quot;神奈川県横浜市瀬谷区宮沢**********&quot;</td><td>&quot;S14028&quot;</td><td>&quot;20151123&quot;</td><td>&quot;1-20080426-5&quot;</td></tr><tr><td>&quot;CS039212000051&quot;</td><td>&quot;藤島 恵梨香&quot;</td><td>&quot;1&quot;</td><td>&quot;女性&quot;</td><td>&quot;1997-02-03&quot;</td><td>22</td><td>&quot;166-0001&quot;</td><td>&quot;東京都杉並区阿佐谷北**********&quot;</td><td>&quot;S13039&quot;</td><td>&quot;20171121&quot;</td><td>&quot;1-20100215-4&quot;</td></tr><tr><td>&quot;CS015412000111&quot;</td><td>&quot;松居 奈月&quot;</td><td>&quot;1&quot;</td><td>&quot;女性&quot;</td><td>&quot;1972-10-04&quot;</td><td>46</td><td>&quot;136-0071&quot;</td><td>&quot;東京都江東区亀戸**********&quot;</td><td>&quot;S13015&quot;</td><td>&quot;20150629&quot;</td><td>&quot;0-00000000-0&quot;</td></tr><tr><td>&quot;CS004702000041&quot;</td><td>&quot;野島 洋&quot;</td><td>&quot;0&quot;</td><td>&quot;男性&quot;</td><td>&quot;1943-08-24&quot;</td><td>75</td><td>&quot;176-0022&quot;</td><td>&quot;東京都練馬区向山**********&quot;</td><td>&quot;S13004&quot;</td><td>&quot;20170218&quot;</td><td>&quot;0-00000000-0&quot;</td></tr><tr><td>&quot;CS041515000001&quot;</td><td>&quot;栗田 千夏&quot;</td><td>&quot;1&quot;</td><td>&quot;女性&quot;</td><td>&quot;1967-01-02&quot;</td><td>52</td><td>&quot;206-0001&quot;</td><td>&quot;東京都多摩市和田**********&quot;</td><td>&quot;S13041&quot;</td><td>&quot;20160422&quot;</td><td>&quot;E-20100803-F&quot;</td></tr><tr><td>&quot;CS029313000221&quot;</td><td>&quot;北条 ひかり&quot;</td><td>&quot;1&quot;</td><td>&quot;女性&quot;</td><td>&quot;1987-06-19&quot;</td><td>31</td><td>&quot;279-0011&quot;</td><td>&quot;千葉県浦安市美浜**********&quot;</td><td>&quot;S12029&quot;</td><td>&quot;20180810&quot;</td><td>&quot;0-00000000-0&quot;</td></tr><tr><td>&quot;CS034312000071&quot;</td><td>&quot;望月 奈央&quot;</td><td>&quot;1&quot;</td><td>&quot;女性&quot;</td><td>&quot;1980-09-20&quot;</td><td>38</td><td>&quot;213-0026&quot;</td><td>&quot;神奈川県川崎市高津区久末**********&quot;</td><td>&quot;S14034&quot;</td><td>&quot;20160106&quot;</td><td>&quot;0-00000000-0&quot;</td></tr></tbody></table></div>"
      ],
      "text/plain": [
       "shape: (10, 11)\n",
       "┌────────────┬────────────┬───────────┬────────┬───┬───────────┬───────────┬───────────┬───────────┐\n",
       "│ customer_i ┆ customer_n ┆ gender_cd ┆ gender ┆ … ┆ address   ┆ applicati ┆ applicati ┆ status_cd │\n",
       "│ d          ┆ ame        ┆ ---       ┆ ---    ┆   ┆ ---       ┆ on_store_ ┆ on_date   ┆ ---       │\n",
       "│ ---        ┆ ---        ┆ str       ┆ str    ┆   ┆ str       ┆ cd        ┆ ---       ┆ str       │\n",
       "│ str        ┆ str        ┆           ┆        ┆   ┆           ┆ ---       ┆ str       ┆           │\n",
       "│            ┆            ┆           ┆        ┆   ┆           ┆ str       ┆           ┆           │\n",
       "╞════════════╪════════════╪═══════════╪════════╪═══╪═══════════╪═══════════╪═══════════╪═══════════╡\n",
       "│ CS03761300 ┆ 六角 雅彦  ┆ 9         ┆ 不明   ┆ … ┆ 東京都江  ┆ S13037    ┆ 20150414  ┆ 0-0000000 │\n",
       "│ 0071       ┆            ┆           ┆        ┆   ┆ 東区南砂* ┆           ┆           ┆ 0-0       │\n",
       "│            ┆            ┆           ┆        ┆   ┆ ********* ┆           ┆           ┆           │\n",
       "│ CS02881100 ┆ 堀井       ┆ 1         ┆ 女性   ┆ … ┆ 神奈川県  ┆ S14028    ┆ 20160115  ┆ 0-0000000 │\n",
       "│ 0001       ┆ かおり     ┆           ┆        ┆   ┆ 横浜市泉  ┆           ┆           ┆ 0-0       │\n",
       "│            ┆            ┆           ┆        ┆   ┆ 区和泉町* ┆           ┆           ┆           │\n",
       "│            ┆            ┆           ┆        ┆   ┆ ********* ┆           ┆           ┆           │\n",
       "│ CS04041200 ┆ 川井 郁恵  ┆ 1         ┆ 女性   ┆ … ┆ 神奈川県  ┆ S14040    ┆ 20151101  ┆ 1-2009102 │\n",
       "│ 0191       ┆            ┆           ┆        ┆   ┆ 横浜市緑  ┆           ┆           ┆ 5-4       │\n",
       "│            ┆            ┆           ┆        ┆   ┆ 区北八朔  ┆           ┆           ┆           │\n",
       "│            ┆            ┆           ┆        ┆   ┆ 町******* ┆           ┆           ┆           │\n",
       "│            ┆            ┆           ┆        ┆   ┆ ***       ┆           ┆           ┆           │\n",
       "│ CS02831400 ┆ 小菅       ┆ 1         ┆ 女性   ┆ … ┆ 神奈川県  ┆ S14028    ┆ 20151123  ┆ 1-2008042 │\n",
       "│ 0011       ┆ あおい     ┆           ┆        ┆   ┆ 横浜市瀬  ┆           ┆           ┆ 6-5       │\n",
       "│            ┆            ┆           ┆        ┆   ┆ 谷区宮沢* ┆           ┆           ┆           │\n",
       "│            ┆            ┆           ┆        ┆   ┆ ********* ┆           ┆           ┆           │\n",
       "│ CS03921200 ┆ 藤島       ┆ 1         ┆ 女性   ┆ … ┆ 東京都杉  ┆ S13039    ┆ 20171121  ┆ 1-2010021 │\n",
       "│ 0051       ┆ 恵梨香     ┆           ┆        ┆   ┆ 並区阿佐  ┆           ┆           ┆ 5-4       │\n",
       "│            ┆            ┆           ┆        ┆   ┆ 谷北***** ┆           ┆           ┆           │\n",
       "│            ┆            ┆           ┆        ┆   ┆ *****     ┆           ┆           ┆           │\n",
       "│ CS01541200 ┆ 松居 奈月  ┆ 1         ┆ 女性   ┆ … ┆ 東京都江  ┆ S13015    ┆ 20150629  ┆ 0-0000000 │\n",
       "│ 0111       ┆            ┆           ┆        ┆   ┆ 東区亀戸* ┆           ┆           ┆ 0-0       │\n",
       "│            ┆            ┆           ┆        ┆   ┆ ********* ┆           ┆           ┆           │\n",
       "│ CS00470200 ┆ 野島 洋    ┆ 0         ┆ 男性   ┆ … ┆ 東京都練  ┆ S13004    ┆ 20170218  ┆ 0-0000000 │\n",
       "│ 0041       ┆            ┆           ┆        ┆   ┆ 馬区向山* ┆           ┆           ┆ 0-0       │\n",
       "│            ┆            ┆           ┆        ┆   ┆ ********* ┆           ┆           ┆           │\n",
       "│ CS04151500 ┆ 栗田 千夏  ┆ 1         ┆ 女性   ┆ … ┆ 東京都多  ┆ S13041    ┆ 20160422  ┆ E-2010080 │\n",
       "│ 0001       ┆            ┆           ┆        ┆   ┆ 摩市和田* ┆           ┆           ┆ 3-F       │\n",
       "│            ┆            ┆           ┆        ┆   ┆ ********* ┆           ┆           ┆           │\n",
       "│ CS02931300 ┆ 北条       ┆ 1         ┆ 女性   ┆ … ┆ 千葉県浦  ┆ S12029    ┆ 20180810  ┆ 0-0000000 │\n",
       "│ 0221       ┆ ひかり     ┆           ┆        ┆   ┆ 安市美浜* ┆           ┆           ┆ 0-0       │\n",
       "│            ┆            ┆           ┆        ┆   ┆ ********* ┆           ┆           ┆           │\n",
       "│ CS03431200 ┆ 望月 奈央  ┆ 1         ┆ 女性   ┆ … ┆ 神奈川県  ┆ S14034    ┆ 20160106  ┆ 0-0000000 │\n",
       "│ 0071       ┆            ┆           ┆        ┆   ┆ 川崎市高  ┆           ┆           ┆ 0-0       │\n",
       "│            ┆            ┆           ┆        ┆   ┆ 津区久末* ┆           ┆           ┆           │\n",
       "│            ┆            ┆           ┆        ┆   ┆ ********* ┆           ┆           ┆           │\n",
       "└────────────┴────────────┴───────────┴────────┴───┴───────────┴───────────┴───────────┴───────────┘"
      ]
     },
     "execution_count": 16,
     "metadata": {},
     "output_type": "execute_result"
    }
   ],
   "source": [
    "df_011 = df_customer.filter(pl.col(\"customer_id\").str.ends_with(1))\n",
    "\n",
    "df_011.head(10)"
   ]
  },
  {
   "attachments": {},
   "cell_type": "markdown",
   "metadata": {},
   "source": [
    "---\n",
    "> P-012: 店舗データ（df_store）から、住所 (address) に\"横浜市\"が含まれるものだけ全項目表示せよ。"
   ]
  },
  {
   "cell_type": "code",
   "execution_count": 17,
   "metadata": {},
   "outputs": [
    {
     "data": {
      "text/html": [
       "<div><style>\n",
       ".dataframe > thead > tr,\n",
       ".dataframe > tbody > tr {\n",
       "  text-align: right;\n",
       "  white-space: pre-wrap;\n",
       "}\n",
       "</style>\n",
       "<small>shape: (11, 10)</small><table border=\"1\" class=\"dataframe\"><thead><tr><th>store_cd</th><th>store_name</th><th>prefecture_cd</th><th>prefecture</th><th>address</th><th>address_kana</th><th>tel_no</th><th>longitude</th><th>latitude</th><th>floor_area</th></tr><tr><td>str</td><td>str</td><td>str</td><td>str</td><td>str</td><td>str</td><td>str</td><td>f64</td><td>f64</td><td>f64</td></tr></thead><tbody><tr><td>&quot;S14010&quot;</td><td>&quot;菊名店&quot;</td><td>&quot;14&quot;</td><td>&quot;神奈川県&quot;</td><td>&quot;神奈川県横浜市港北区菊名一丁目&quot;</td><td>&quot;カナガワケンヨコハマシコウホククキクナイッチョウメ&quot;</td><td>&quot;045-123-4032&quot;</td><td>139.6326</td><td>35.50049</td><td>1732.0</td></tr><tr><td>&quot;S14033&quot;</td><td>&quot;阿久和店&quot;</td><td>&quot;14&quot;</td><td>&quot;神奈川県&quot;</td><td>&quot;神奈川県横浜市瀬谷区阿久和西一丁目&quot;</td><td>&quot;カナガワケンヨコハマシセヤクアクワニシイッチョウメ&quot;</td><td>&quot;045-123-4043&quot;</td><td>139.4961</td><td>35.45918</td><td>1495.0</td></tr><tr><td>&quot;S14040&quot;</td><td>&quot;長津田店&quot;</td><td>&quot;14&quot;</td><td>&quot;神奈川県&quot;</td><td>&quot;神奈川県横浜市緑区長津田みなみ台五丁目&quot;</td><td>&quot;カナガワケンヨコハマシミドリクナガツタミナミダイゴチョウメ&quot;</td><td>&quot;045-123-4046&quot;</td><td>139.4994</td><td>35.52398</td><td>1548.0</td></tr><tr><td>&quot;S14050&quot;</td><td>&quot;阿久和西店&quot;</td><td>&quot;14&quot;</td><td>&quot;神奈川県&quot;</td><td>&quot;神奈川県横浜市瀬谷区阿久和西一丁目&quot;</td><td>&quot;カナガワケンヨコハマシセヤクアクワニシイッチョウメ&quot;</td><td>&quot;045-123-4053&quot;</td><td>139.4961</td><td>35.45918</td><td>1830.0</td></tr><tr><td>&quot;S14028&quot;</td><td>&quot;二ツ橋店&quot;</td><td>&quot;14&quot;</td><td>&quot;神奈川県&quot;</td><td>&quot;神奈川県横浜市瀬谷区二ツ橋町&quot;</td><td>&quot;カナガワケンヨコハマシセヤクフタツバシチョウ&quot;</td><td>&quot;045-123-4042&quot;</td><td>139.4963</td><td>35.46304</td><td>1574.0</td></tr><tr><td>&hellip;</td><td>&hellip;</td><td>&hellip;</td><td>&hellip;</td><td>&hellip;</td><td>&hellip;</td><td>&hellip;</td><td>&hellip;</td><td>&hellip;</td><td>&hellip;</td></tr><tr><td>&quot;S14046&quot;</td><td>&quot;北山田店&quot;</td><td>&quot;14&quot;</td><td>&quot;神奈川県&quot;</td><td>&quot;神奈川県横浜市都筑区北山田一丁目&quot;</td><td>&quot;カナガワケンヨコハマシツヅキクキタヤマタイッチョウメ&quot;</td><td>&quot;045-123-4049&quot;</td><td>139.5916</td><td>35.56189</td><td>831.0</td></tr><tr><td>&quot;S14011&quot;</td><td>&quot;日吉本町店&quot;</td><td>&quot;14&quot;</td><td>&quot;神奈川県&quot;</td><td>&quot;神奈川県横浜市港北区日吉本町四丁目&quot;</td><td>&quot;カナガワケンヨコハマシコウホククヒヨシホンチョウヨンチョウメ&quot;</td><td>&quot;045-123-4033&quot;</td><td>139.6316</td><td>35.54655</td><td>890.0</td></tr><tr><td>&quot;S14048&quot;</td><td>&quot;中川中央店&quot;</td><td>&quot;14&quot;</td><td>&quot;神奈川県&quot;</td><td>&quot;神奈川県横浜市都筑区中川中央二丁目&quot;</td><td>&quot;カナガワケンヨコハマシツヅキクナカガワチュウオウニチョウメ&quot;</td><td>&quot;045-123-4051&quot;</td><td>139.5758</td><td>35.54912</td><td>1657.0</td></tr><tr><td>&quot;S14042&quot;</td><td>&quot;新山下店&quot;</td><td>&quot;14&quot;</td><td>&quot;神奈川県&quot;</td><td>&quot;神奈川県横浜市中区新山下二丁目&quot;</td><td>&quot;カナガワケンヨコハマシナカクシンヤマシタニチョウメ&quot;</td><td>&quot;045-123-4047&quot;</td><td>139.6593</td><td>35.43894</td><td>1044.0</td></tr><tr><td>&quot;S14006&quot;</td><td>&quot;葛が谷店&quot;</td><td>&quot;14&quot;</td><td>&quot;神奈川県&quot;</td><td>&quot;神奈川県横浜市都筑区葛が谷&quot;</td><td>&quot;カナガワケンヨコハマシツヅキククズガヤ&quot;</td><td>&quot;045-123-4031&quot;</td><td>139.5633</td><td>35.53573</td><td>1886.0</td></tr></tbody></table></div>"
      ],
      "text/plain": [
       "shape: (11, 10)\n",
       "┌──────────┬────────────┬───────────┬───────────┬───┬───────────┬───────────┬──────────┬───────────┐\n",
       "│ store_cd ┆ store_name ┆ prefectur ┆ prefectur ┆ … ┆ tel_no    ┆ longitude ┆ latitude ┆ floor_are │\n",
       "│ ---      ┆ ---        ┆ e_cd      ┆ e         ┆   ┆ ---       ┆ ---       ┆ ---      ┆ a         │\n",
       "│ str      ┆ str        ┆ ---       ┆ ---       ┆   ┆ str       ┆ f64       ┆ f64      ┆ ---       │\n",
       "│          ┆            ┆ str       ┆ str       ┆   ┆           ┆           ┆          ┆ f64       │\n",
       "╞══════════╪════════════╪═══════════╪═══════════╪═══╪═══════════╪═══════════╪══════════╪═══════════╡\n",
       "│ S14010   ┆ 菊名店     ┆ 14        ┆ 神奈川県  ┆ … ┆ 045-123-4 ┆ 139.6326  ┆ 35.50049 ┆ 1732.0    │\n",
       "│          ┆            ┆           ┆           ┆   ┆ 032       ┆           ┆          ┆           │\n",
       "│ S14033   ┆ 阿久和店   ┆ 14        ┆ 神奈川県  ┆ … ┆ 045-123-4 ┆ 139.4961  ┆ 35.45918 ┆ 1495.0    │\n",
       "│          ┆            ┆           ┆           ┆   ┆ 043       ┆           ┆          ┆           │\n",
       "│ S14040   ┆ 長津田店   ┆ 14        ┆ 神奈川県  ┆ … ┆ 045-123-4 ┆ 139.4994  ┆ 35.52398 ┆ 1548.0    │\n",
       "│          ┆            ┆           ┆           ┆   ┆ 046       ┆           ┆          ┆           │\n",
       "│ S14050   ┆ 阿久和西店 ┆ 14        ┆ 神奈川県  ┆ … ┆ 045-123-4 ┆ 139.4961  ┆ 35.45918 ┆ 1830.0    │\n",
       "│          ┆            ┆           ┆           ┆   ┆ 053       ┆           ┆          ┆           │\n",
       "│ S14028   ┆ 二ツ橋店   ┆ 14        ┆ 神奈川県  ┆ … ┆ 045-123-4 ┆ 139.4963  ┆ 35.46304 ┆ 1574.0    │\n",
       "│          ┆            ┆           ┆           ┆   ┆ 042       ┆           ┆          ┆           │\n",
       "│ …        ┆ …          ┆ …         ┆ …         ┆ … ┆ …         ┆ …         ┆ …        ┆ …         │\n",
       "│ S14046   ┆ 北山田店   ┆ 14        ┆ 神奈川県  ┆ … ┆ 045-123-4 ┆ 139.5916  ┆ 35.56189 ┆ 831.0     │\n",
       "│          ┆            ┆           ┆           ┆   ┆ 049       ┆           ┆          ┆           │\n",
       "│ S14011   ┆ 日吉本町店 ┆ 14        ┆ 神奈川県  ┆ … ┆ 045-123-4 ┆ 139.6316  ┆ 35.54655 ┆ 890.0     │\n",
       "│          ┆            ┆           ┆           ┆   ┆ 033       ┆           ┆          ┆           │\n",
       "│ S14048   ┆ 中川中央店 ┆ 14        ┆ 神奈川県  ┆ … ┆ 045-123-4 ┆ 139.5758  ┆ 35.54912 ┆ 1657.0    │\n",
       "│          ┆            ┆           ┆           ┆   ┆ 051       ┆           ┆          ┆           │\n",
       "│ S14042   ┆ 新山下店   ┆ 14        ┆ 神奈川県  ┆ … ┆ 045-123-4 ┆ 139.6593  ┆ 35.43894 ┆ 1044.0    │\n",
       "│          ┆            ┆           ┆           ┆   ┆ 047       ┆           ┆          ┆           │\n",
       "│ S14006   ┆ 葛が谷店   ┆ 14        ┆ 神奈川県  ┆ … ┆ 045-123-4 ┆ 139.5633  ┆ 35.53573 ┆ 1886.0    │\n",
       "│          ┆            ┆           ┆           ┆   ┆ 031       ┆           ┆          ┆           │\n",
       "└──────────┴────────────┴───────────┴───────────┴───┴───────────┴───────────┴──────────┴───────────┘"
      ]
     },
     "execution_count": 17,
     "metadata": {},
     "output_type": "execute_result"
    }
   ],
   "source": [
    "df_012 = df_store.filter(pl.col(\"address\").str.contains(\"横浜市\"))\n",
    "\n",
    "df_012"
   ]
  },
  {
   "attachments": {},
   "cell_type": "markdown",
   "metadata": {},
   "source": [
    "---\n",
    "> P-013: 顧客データ（df_customer）から、ステータスコード（status_cd）の先頭がアルファベットのA〜Fで始まるデータを全項目抽出し、5件表示せよ。\n",
    "\n",
    "先頭の文字は`^`で表す(https://qiita.com/luohao0404/items/7135b2b96f9b0b196bf3 参照)"
   ]
  },
  {
   "cell_type": "code",
   "execution_count": 18,
   "metadata": {},
   "outputs": [
    {
     "data": {
      "text/html": [
       "<div><style>\n",
       ".dataframe > thead > tr,\n",
       ".dataframe > tbody > tr {\n",
       "  text-align: right;\n",
       "  white-space: pre-wrap;\n",
       "}\n",
       "</style>\n",
       "<small>shape: (10, 11)</small><table border=\"1\" class=\"dataframe\"><thead><tr><th>customer_id</th><th>customer_name</th><th>gender_cd</th><th>gender</th><th>birth_day</th><th>age</th><th>postal_cd</th><th>address</th><th>application_store_cd</th><th>application_date</th><th>status_cd</th></tr><tr><td>str</td><td>str</td><td>str</td><td>str</td><td>str</td><td>i64</td><td>str</td><td>str</td><td>str</td><td>str</td><td>str</td></tr></thead><tbody><tr><td>&quot;CS031415000172&quot;</td><td>&quot;宇多田 貴美子&quot;</td><td>&quot;1&quot;</td><td>&quot;女性&quot;</td><td>&quot;1976-10-04&quot;</td><td>42</td><td>&quot;151-0053&quot;</td><td>&quot;東京都渋谷区代々木**********&quot;</td><td>&quot;S13031&quot;</td><td>&quot;20150529&quot;</td><td>&quot;D-20100325-C&quot;</td></tr><tr><td>&quot;CS015414000103&quot;</td><td>&quot;奥野 陽子&quot;</td><td>&quot;1&quot;</td><td>&quot;女性&quot;</td><td>&quot;1977-08-09&quot;</td><td>41</td><td>&quot;136-0073&quot;</td><td>&quot;東京都江東区北砂**********&quot;</td><td>&quot;S13015&quot;</td><td>&quot;20150722&quot;</td><td>&quot;B-20100609-B&quot;</td></tr><tr><td>&quot;CS011215000048&quot;</td><td>&quot;芦田 沙耶&quot;</td><td>&quot;1&quot;</td><td>&quot;女性&quot;</td><td>&quot;1992-02-01&quot;</td><td>27</td><td>&quot;223-0062&quot;</td><td>&quot;神奈川県横浜市港北区日吉本町**********&quot;</td><td>&quot;S14011&quot;</td><td>&quot;20150228&quot;</td><td>&quot;C-20100421-9&quot;</td></tr><tr><td>&quot;CS029415000023&quot;</td><td>&quot;梅田 里穂&quot;</td><td>&quot;1&quot;</td><td>&quot;女性&quot;</td><td>&quot;1976-01-17&quot;</td><td>43</td><td>&quot;279-0043&quot;</td><td>&quot;千葉県浦安市富士見**********&quot;</td><td>&quot;S12029&quot;</td><td>&quot;20150610&quot;</td><td>&quot;D-20100918-E&quot;</td></tr><tr><td>&quot;CS035415000029&quot;</td><td>&quot;寺沢 真希&quot;</td><td>&quot;9&quot;</td><td>&quot;不明&quot;</td><td>&quot;1977-09-27&quot;</td><td>41</td><td>&quot;158-0096&quot;</td><td>&quot;東京都世田谷区玉川台**********&quot;</td><td>&quot;S13035&quot;</td><td>&quot;20141220&quot;</td><td>&quot;F-20101029-F&quot;</td></tr><tr><td>&quot;CS031415000106&quot;</td><td>&quot;宇野 由美子&quot;</td><td>&quot;1&quot;</td><td>&quot;女性&quot;</td><td>&quot;1970-02-26&quot;</td><td>49</td><td>&quot;151-0053&quot;</td><td>&quot;東京都渋谷区代々木**********&quot;</td><td>&quot;S13031&quot;</td><td>&quot;20150201&quot;</td><td>&quot;F-20100511-E&quot;</td></tr><tr><td>&quot;CS029215000025&quot;</td><td>&quot;石倉 美帆&quot;</td><td>&quot;1&quot;</td><td>&quot;女性&quot;</td><td>&quot;1993-09-28&quot;</td><td>25</td><td>&quot;279-0022&quot;</td><td>&quot;千葉県浦安市今川**********&quot;</td><td>&quot;S12029&quot;</td><td>&quot;20150708&quot;</td><td>&quot;B-20100820-C&quot;</td></tr><tr><td>&quot;CS033605000005&quot;</td><td>&quot;猪股 雄太&quot;</td><td>&quot;0&quot;</td><td>&quot;男性&quot;</td><td>&quot;1955-12-05&quot;</td><td>63</td><td>&quot;246-0031&quot;</td><td>&quot;神奈川県横浜市瀬谷区瀬谷**********&quot;</td><td>&quot;S14033&quot;</td><td>&quot;20150425&quot;</td><td>&quot;F-20100917-E&quot;</td></tr><tr><td>&quot;CS033415000229&quot;</td><td>&quot;板垣 菜々美&quot;</td><td>&quot;1&quot;</td><td>&quot;女性&quot;</td><td>&quot;1977-11-07&quot;</td><td>41</td><td>&quot;246-0021&quot;</td><td>&quot;神奈川県横浜市瀬谷区二ツ橋町**********&quot;</td><td>&quot;S14033&quot;</td><td>&quot;20150712&quot;</td><td>&quot;F-20100326-E&quot;</td></tr><tr><td>&quot;CS008415000145&quot;</td><td>&quot;黒谷 麻緒&quot;</td><td>&quot;1&quot;</td><td>&quot;女性&quot;</td><td>&quot;1977-06-27&quot;</td><td>41</td><td>&quot;157-0067&quot;</td><td>&quot;東京都世田谷区喜多見**********&quot;</td><td>&quot;S13008&quot;</td><td>&quot;20150829&quot;</td><td>&quot;F-20100622-F&quot;</td></tr></tbody></table></div>"
      ],
      "text/plain": [
       "shape: (10, 11)\n",
       "┌────────────┬────────────┬───────────┬────────┬───┬───────────┬───────────┬───────────┬───────────┐\n",
       "│ customer_i ┆ customer_n ┆ gender_cd ┆ gender ┆ … ┆ address   ┆ applicati ┆ applicati ┆ status_cd │\n",
       "│ d          ┆ ame        ┆ ---       ┆ ---    ┆   ┆ ---       ┆ on_store_ ┆ on_date   ┆ ---       │\n",
       "│ ---        ┆ ---        ┆ str       ┆ str    ┆   ┆ str       ┆ cd        ┆ ---       ┆ str       │\n",
       "│ str        ┆ str        ┆           ┆        ┆   ┆           ┆ ---       ┆ str       ┆           │\n",
       "│            ┆            ┆           ┆        ┆   ┆           ┆ str       ┆           ┆           │\n",
       "╞════════════╪════════════╪═══════════╪════════╪═══╪═══════════╪═══════════╪═══════════╪═══════════╡\n",
       "│ CS03141500 ┆ 宇多田     ┆ 1         ┆ 女性   ┆ … ┆ 東京都渋  ┆ S13031    ┆ 20150529  ┆ D-2010032 │\n",
       "│ 0172       ┆ 貴美子     ┆           ┆        ┆   ┆ 谷区代々  ┆           ┆           ┆ 5-C       │\n",
       "│            ┆            ┆           ┆        ┆   ┆ 木******* ┆           ┆           ┆           │\n",
       "│            ┆            ┆           ┆        ┆   ┆ ***       ┆           ┆           ┆           │\n",
       "│ CS01541400 ┆ 奥野 陽子  ┆ 1         ┆ 女性   ┆ … ┆ 東京都江  ┆ S13015    ┆ 20150722  ┆ B-2010060 │\n",
       "│ 0103       ┆            ┆           ┆        ┆   ┆ 東区北砂* ┆           ┆           ┆ 9-B       │\n",
       "│            ┆            ┆           ┆        ┆   ┆ ********* ┆           ┆           ┆           │\n",
       "│ CS01121500 ┆ 芦田 沙耶  ┆ 1         ┆ 女性   ┆ … ┆ 神奈川県  ┆ S14011    ┆ 20150228  ┆ C-2010042 │\n",
       "│ 0048       ┆            ┆           ┆        ┆   ┆ 横浜市港  ┆           ┆           ┆ 1-9       │\n",
       "│            ┆            ┆           ┆        ┆   ┆ 北区日吉  ┆           ┆           ┆           │\n",
       "│            ┆            ┆           ┆        ┆   ┆ 本町***** ┆           ┆           ┆           │\n",
       "│            ┆            ┆           ┆        ┆   ┆ *****     ┆           ┆           ┆           │\n",
       "│ CS02941500 ┆ 梅田 里穂  ┆ 1         ┆ 女性   ┆ … ┆ 千葉県浦  ┆ S12029    ┆ 20150610  ┆ D-2010091 │\n",
       "│ 0023       ┆            ┆           ┆        ┆   ┆ 安市富士  ┆           ┆           ┆ 8-E       │\n",
       "│            ┆            ┆           ┆        ┆   ┆ 見******* ┆           ┆           ┆           │\n",
       "│            ┆            ┆           ┆        ┆   ┆ ***       ┆           ┆           ┆           │\n",
       "│ CS03541500 ┆ 寺沢 真希  ┆ 9         ┆ 不明   ┆ … ┆ 東京都世  ┆ S13035    ┆ 20141220  ┆ F-2010102 │\n",
       "│ 0029       ┆            ┆           ┆        ┆   ┆ 田谷区玉  ┆           ┆           ┆ 9-F       │\n",
       "│            ┆            ┆           ┆        ┆   ┆ 川台***** ┆           ┆           ┆           │\n",
       "│            ┆            ┆           ┆        ┆   ┆ *****     ┆           ┆           ┆           │\n",
       "│ CS03141500 ┆ 宇野       ┆ 1         ┆ 女性   ┆ … ┆ 東京都渋  ┆ S13031    ┆ 20150201  ┆ F-2010051 │\n",
       "│ 0106       ┆ 由美子     ┆           ┆        ┆   ┆ 谷区代々  ┆           ┆           ┆ 1-E       │\n",
       "│            ┆            ┆           ┆        ┆   ┆ 木******* ┆           ┆           ┆           │\n",
       "│            ┆            ┆           ┆        ┆   ┆ ***       ┆           ┆           ┆           │\n",
       "│ CS02921500 ┆ 石倉 美帆  ┆ 1         ┆ 女性   ┆ … ┆ 千葉県浦  ┆ S12029    ┆ 20150708  ┆ B-2010082 │\n",
       "│ 0025       ┆            ┆           ┆        ┆   ┆ 安市今川* ┆           ┆           ┆ 0-C       │\n",
       "│            ┆            ┆           ┆        ┆   ┆ ********* ┆           ┆           ┆           │\n",
       "│ CS03360500 ┆ 猪股 雄太  ┆ 0         ┆ 男性   ┆ … ┆ 神奈川県  ┆ S14033    ┆ 20150425  ┆ F-2010091 │\n",
       "│ 0005       ┆            ┆           ┆        ┆   ┆ 横浜市瀬  ┆           ┆           ┆ 7-E       │\n",
       "│            ┆            ┆           ┆        ┆   ┆ 谷区瀬谷* ┆           ┆           ┆           │\n",
       "│            ┆            ┆           ┆        ┆   ┆ ********* ┆           ┆           ┆           │\n",
       "│ CS03341500 ┆ 板垣       ┆ 1         ┆ 女性   ┆ … ┆ 神奈川県  ┆ S14033    ┆ 20150712  ┆ F-2010032 │\n",
       "│ 0229       ┆ 菜々美     ┆           ┆        ┆   ┆ 横浜市瀬  ┆           ┆           ┆ 6-E       │\n",
       "│            ┆            ┆           ┆        ┆   ┆ 谷区二ツ  ┆           ┆           ┆           │\n",
       "│            ┆            ┆           ┆        ┆   ┆ 橋町***** ┆           ┆           ┆           │\n",
       "│            ┆            ┆           ┆        ┆   ┆ *****     ┆           ┆           ┆           │\n",
       "│ CS00841500 ┆ 黒谷 麻緒  ┆ 1         ┆ 女性   ┆ … ┆ 東京都世  ┆ S13008    ┆ 20150829  ┆ F-2010062 │\n",
       "│ 0145       ┆            ┆           ┆        ┆   ┆ 田谷区喜  ┆           ┆           ┆ 2-F       │\n",
       "│            ┆            ┆           ┆        ┆   ┆ 多見***** ┆           ┆           ┆           │\n",
       "│            ┆            ┆           ┆        ┆   ┆ *****     ┆           ┆           ┆           │\n",
       "└────────────┴────────────┴───────────┴────────┴───┴───────────┴───────────┴───────────┴───────────┘"
      ]
     },
     "execution_count": 18,
     "metadata": {},
     "output_type": "execute_result"
    }
   ],
   "source": [
    "df_013 = df_customer.filter(pl.col(\"status_cd\").str.contains(r\"^[A-F]\"))\n",
    "\n",
    "df_013.head(10)"
   ]
  },
  {
   "attachments": {},
   "cell_type": "markdown",
   "metadata": {},
   "source": [
    "---\n",
    "> P-014: 顧客データ（df_customer）から、ステータスコード（status_cd）の末尾が数字の1〜9で終わるデータを全項目抽出し、5件表示せよ。\n",
    "\n",
    "最後尾の文字は`$`で表す"
   ]
  },
  {
   "cell_type": "code",
   "execution_count": 19,
   "metadata": {},
   "outputs": [
    {
     "data": {
      "text/html": [
       "<div><style>\n",
       ".dataframe > thead > tr,\n",
       ".dataframe > tbody > tr {\n",
       "  text-align: right;\n",
       "  white-space: pre-wrap;\n",
       "}\n",
       "</style>\n",
       "<small>shape: (10, 11)</small><table border=\"1\" class=\"dataframe\"><thead><tr><th>customer_id</th><th>customer_name</th><th>gender_cd</th><th>gender</th><th>birth_day</th><th>age</th><th>postal_cd</th><th>address</th><th>application_store_cd</th><th>application_date</th><th>status_cd</th></tr><tr><td>str</td><td>str</td><td>str</td><td>str</td><td>str</td><td>i64</td><td>str</td><td>str</td><td>str</td><td>str</td><td>str</td></tr></thead><tbody><tr><td>&quot;CS001215000145&quot;</td><td>&quot;田崎 美紀&quot;</td><td>&quot;1&quot;</td><td>&quot;女性&quot;</td><td>&quot;1995-03-29&quot;</td><td>24</td><td>&quot;144-0055&quot;</td><td>&quot;東京都大田区仲六郷**********&quot;</td><td>&quot;S13001&quot;</td><td>&quot;20170605&quot;</td><td>&quot;6-20090929-2&quot;</td></tr><tr><td>&quot;CS033513000180&quot;</td><td>&quot;安斎 遥&quot;</td><td>&quot;1&quot;</td><td>&quot;女性&quot;</td><td>&quot;1962-07-11&quot;</td><td>56</td><td>&quot;241-0823&quot;</td><td>&quot;神奈川県横浜市旭区善部町**********&quot;</td><td>&quot;S14033&quot;</td><td>&quot;20150728&quot;</td><td>&quot;6-20080506-5&quot;</td></tr><tr><td>&quot;CS011215000048&quot;</td><td>&quot;芦田 沙耶&quot;</td><td>&quot;1&quot;</td><td>&quot;女性&quot;</td><td>&quot;1992-02-01&quot;</td><td>27</td><td>&quot;223-0062&quot;</td><td>&quot;神奈川県横浜市港北区日吉本町**********&quot;</td><td>&quot;S14011&quot;</td><td>&quot;20150228&quot;</td><td>&quot;C-20100421-9&quot;</td></tr><tr><td>&quot;CS040412000191&quot;</td><td>&quot;川井 郁恵&quot;</td><td>&quot;1&quot;</td><td>&quot;女性&quot;</td><td>&quot;1977-01-05&quot;</td><td>42</td><td>&quot;226-0021&quot;</td><td>&quot;神奈川県横浜市緑区北八朔町**********&quot;</td><td>&quot;S14040&quot;</td><td>&quot;20151101&quot;</td><td>&quot;1-20091025-4&quot;</td></tr><tr><td>&quot;CS009315000023&quot;</td><td>&quot;皆川 文世&quot;</td><td>&quot;1&quot;</td><td>&quot;女性&quot;</td><td>&quot;1980-04-15&quot;</td><td>38</td><td>&quot;154-0012&quot;</td><td>&quot;東京都世田谷区駒沢**********&quot;</td><td>&quot;S13009&quot;</td><td>&quot;20150319&quot;</td><td>&quot;5-20080322-1&quot;</td></tr><tr><td>&quot;CS015315000033&quot;</td><td>&quot;福士 璃奈子&quot;</td><td>&quot;1&quot;</td><td>&quot;女性&quot;</td><td>&quot;1983-03-17&quot;</td><td>36</td><td>&quot;135-0043&quot;</td><td>&quot;東京都江東区塩浜**********&quot;</td><td>&quot;S13015&quot;</td><td>&quot;20141024&quot;</td><td>&quot;4-20080219-3&quot;</td></tr><tr><td>&quot;CS023513000066&quot;</td><td>&quot;神戸 そら&quot;</td><td>&quot;1&quot;</td><td>&quot;女性&quot;</td><td>&quot;1961-12-17&quot;</td><td>57</td><td>&quot;210-0005&quot;</td><td>&quot;神奈川県川崎市川崎区東田町**********&quot;</td><td>&quot;S14023&quot;</td><td>&quot;20150915&quot;</td><td>&quot;5-20100524-9&quot;</td></tr><tr><td>&quot;CS035513000134&quot;</td><td>&quot;市川 美帆&quot;</td><td>&quot;1&quot;</td><td>&quot;女性&quot;</td><td>&quot;1960-03-27&quot;</td><td>59</td><td>&quot;156-0053&quot;</td><td>&quot;東京都世田谷区桜**********&quot;</td><td>&quot;S13035&quot;</td><td>&quot;20150227&quot;</td><td>&quot;8-20100711-9&quot;</td></tr><tr><td>&quot;CS001515000263&quot;</td><td>&quot;高松 夏空&quot;</td><td>&quot;1&quot;</td><td>&quot;女性&quot;</td><td>&quot;1962-11-09&quot;</td><td>56</td><td>&quot;144-0051&quot;</td><td>&quot;東京都大田区西蒲田**********&quot;</td><td>&quot;S13001&quot;</td><td>&quot;20160812&quot;</td><td>&quot;1-20100804-1&quot;</td></tr><tr><td>&quot;CS040314000027&quot;</td><td>&quot;鶴田 きみまろ&quot;</td><td>&quot;9&quot;</td><td>&quot;不明&quot;</td><td>&quot;1986-03-26&quot;</td><td>33</td><td>&quot;226-0027&quot;</td><td>&quot;神奈川県横浜市緑区長津田**********&quot;</td><td>&quot;S14040&quot;</td><td>&quot;20150122&quot;</td><td>&quot;2-20080426-4&quot;</td></tr></tbody></table></div>"
      ],
      "text/plain": [
       "shape: (10, 11)\n",
       "┌────────────┬────────────┬───────────┬────────┬───┬───────────┬───────────┬───────────┬───────────┐\n",
       "│ customer_i ┆ customer_n ┆ gender_cd ┆ gender ┆ … ┆ address   ┆ applicati ┆ applicati ┆ status_cd │\n",
       "│ d          ┆ ame        ┆ ---       ┆ ---    ┆   ┆ ---       ┆ on_store_ ┆ on_date   ┆ ---       │\n",
       "│ ---        ┆ ---        ┆ str       ┆ str    ┆   ┆ str       ┆ cd        ┆ ---       ┆ str       │\n",
       "│ str        ┆ str        ┆           ┆        ┆   ┆           ┆ ---       ┆ str       ┆           │\n",
       "│            ┆            ┆           ┆        ┆   ┆           ┆ str       ┆           ┆           │\n",
       "╞════════════╪════════════╪═══════════╪════════╪═══╪═══════════╪═══════════╪═══════════╪═══════════╡\n",
       "│ CS00121500 ┆ 田崎 美紀  ┆ 1         ┆ 女性   ┆ … ┆ 東京都大  ┆ S13001    ┆ 20170605  ┆ 6-2009092 │\n",
       "│ 0145       ┆            ┆           ┆        ┆   ┆ 田区仲六  ┆           ┆           ┆ 9-2       │\n",
       "│            ┆            ┆           ┆        ┆   ┆ 郷******* ┆           ┆           ┆           │\n",
       "│            ┆            ┆           ┆        ┆   ┆ ***       ┆           ┆           ┆           │\n",
       "│ CS03351300 ┆ 安斎 遥    ┆ 1         ┆ 女性   ┆ … ┆ 神奈川県  ┆ S14033    ┆ 20150728  ┆ 6-2008050 │\n",
       "│ 0180       ┆            ┆           ┆        ┆   ┆ 横浜市旭  ┆           ┆           ┆ 6-5       │\n",
       "│            ┆            ┆           ┆        ┆   ┆ 区善部町* ┆           ┆           ┆           │\n",
       "│            ┆            ┆           ┆        ┆   ┆ ********* ┆           ┆           ┆           │\n",
       "│ CS01121500 ┆ 芦田 沙耶  ┆ 1         ┆ 女性   ┆ … ┆ 神奈川県  ┆ S14011    ┆ 20150228  ┆ C-2010042 │\n",
       "│ 0048       ┆            ┆           ┆        ┆   ┆ 横浜市港  ┆           ┆           ┆ 1-9       │\n",
       "│            ┆            ┆           ┆        ┆   ┆ 北区日吉  ┆           ┆           ┆           │\n",
       "│            ┆            ┆           ┆        ┆   ┆ 本町***** ┆           ┆           ┆           │\n",
       "│            ┆            ┆           ┆        ┆   ┆ *****     ┆           ┆           ┆           │\n",
       "│ CS04041200 ┆ 川井 郁恵  ┆ 1         ┆ 女性   ┆ … ┆ 神奈川県  ┆ S14040    ┆ 20151101  ┆ 1-2009102 │\n",
       "│ 0191       ┆            ┆           ┆        ┆   ┆ 横浜市緑  ┆           ┆           ┆ 5-4       │\n",
       "│            ┆            ┆           ┆        ┆   ┆ 区北八朔  ┆           ┆           ┆           │\n",
       "│            ┆            ┆           ┆        ┆   ┆ 町******* ┆           ┆           ┆           │\n",
       "│            ┆            ┆           ┆        ┆   ┆ ***       ┆           ┆           ┆           │\n",
       "│ CS00931500 ┆ 皆川 文世  ┆ 1         ┆ 女性   ┆ … ┆ 東京都世  ┆ S13009    ┆ 20150319  ┆ 5-2008032 │\n",
       "│ 0023       ┆            ┆           ┆        ┆   ┆ 田谷区駒  ┆           ┆           ┆ 2-1       │\n",
       "│            ┆            ┆           ┆        ┆   ┆ 沢******* ┆           ┆           ┆           │\n",
       "│            ┆            ┆           ┆        ┆   ┆ ***       ┆           ┆           ┆           │\n",
       "│ CS01531500 ┆ 福士       ┆ 1         ┆ 女性   ┆ … ┆ 東京都江  ┆ S13015    ┆ 20141024  ┆ 4-2008021 │\n",
       "│ 0033       ┆ 璃奈子     ┆           ┆        ┆   ┆ 東区塩浜* ┆           ┆           ┆ 9-3       │\n",
       "│            ┆            ┆           ┆        ┆   ┆ ********* ┆           ┆           ┆           │\n",
       "│ CS02351300 ┆ 神戸 そら  ┆ 1         ┆ 女性   ┆ … ┆ 神奈川県  ┆ S14023    ┆ 20150915  ┆ 5-2010052 │\n",
       "│ 0066       ┆            ┆           ┆        ┆   ┆ 川崎市川  ┆           ┆           ┆ 4-9       │\n",
       "│            ┆            ┆           ┆        ┆   ┆ 崎区東田  ┆           ┆           ┆           │\n",
       "│            ┆            ┆           ┆        ┆   ┆ 町******* ┆           ┆           ┆           │\n",
       "│            ┆            ┆           ┆        ┆   ┆ ***       ┆           ┆           ┆           │\n",
       "│ CS03551300 ┆ 市川 美帆  ┆ 1         ┆ 女性   ┆ … ┆ 東京都世  ┆ S13035    ┆ 20150227  ┆ 8-2010071 │\n",
       "│ 0134       ┆            ┆           ┆        ┆   ┆ 田谷区桜* ┆           ┆           ┆ 1-9       │\n",
       "│            ┆            ┆           ┆        ┆   ┆ ********* ┆           ┆           ┆           │\n",
       "│ CS00151500 ┆ 高松 夏空  ┆ 1         ┆ 女性   ┆ … ┆ 東京都大  ┆ S13001    ┆ 20160812  ┆ 1-2010080 │\n",
       "│ 0263       ┆            ┆           ┆        ┆   ┆ 田区西蒲  ┆           ┆           ┆ 4-1       │\n",
       "│            ┆            ┆           ┆        ┆   ┆ 田******* ┆           ┆           ┆           │\n",
       "│            ┆            ┆           ┆        ┆   ┆ ***       ┆           ┆           ┆           │\n",
       "│ CS04031400 ┆ 鶴田       ┆ 9         ┆ 不明   ┆ … ┆ 神奈川県  ┆ S14040    ┆ 20150122  ┆ 2-2008042 │\n",
       "│ 0027       ┆ きみまろ   ┆           ┆        ┆   ┆ 横浜市緑  ┆           ┆           ┆ 6-4       │\n",
       "│            ┆            ┆           ┆        ┆   ┆ 区長津田* ┆           ┆           ┆           │\n",
       "│            ┆            ┆           ┆        ┆   ┆ ********* ┆           ┆           ┆           │\n",
       "└────────────┴────────────┴───────────┴────────┴───┴───────────┴───────────┴───────────┴───────────┘"
      ]
     },
     "execution_count": 19,
     "metadata": {},
     "output_type": "execute_result"
    }
   ],
   "source": [
    "df_014 = df_customer.filter(pl.col(\"status_cd\").str.contains(\"[1-9]$\"))\n",
    "\n",
    "df_014.head(10)"
   ]
  },
  {
   "attachments": {},
   "cell_type": "markdown",
   "metadata": {},
   "source": [
    "---\n",
    "> P-015: 顧客データ（df_customer）から、ステータスコード（status_cd）の先頭がアルファベットのA〜Fで始まり、末尾が数字の1〜9で終わるデータを全項目抽出し、5件表示せよ。"
   ]
  },
  {
   "cell_type": "code",
   "execution_count": 20,
   "metadata": {},
   "outputs": [
    {
     "data": {
      "text/html": [
       "<div><style>\n",
       ".dataframe > thead > tr,\n",
       ".dataframe > tbody > tr {\n",
       "  text-align: right;\n",
       "  white-space: pre-wrap;\n",
       "}\n",
       "</style>\n",
       "<small>shape: (10, 11)</small><table border=\"1\" class=\"dataframe\"><thead><tr><th>customer_id</th><th>customer_name</th><th>gender_cd</th><th>gender</th><th>birth_day</th><th>age</th><th>postal_cd</th><th>address</th><th>application_store_cd</th><th>application_date</th><th>status_cd</th></tr><tr><td>str</td><td>str</td><td>str</td><td>str</td><td>str</td><td>i64</td><td>str</td><td>str</td><td>str</td><td>str</td><td>str</td></tr></thead><tbody><tr><td>&quot;CS011215000048&quot;</td><td>&quot;芦田 沙耶&quot;</td><td>&quot;1&quot;</td><td>&quot;女性&quot;</td><td>&quot;1992-02-01&quot;</td><td>27</td><td>&quot;223-0062&quot;</td><td>&quot;神奈川県横浜市港北区日吉本町**********&quot;</td><td>&quot;S14011&quot;</td><td>&quot;20150228&quot;</td><td>&quot;C-20100421-9&quot;</td></tr><tr><td>&quot;CS022513000105&quot;</td><td>&quot;島村 貴美子&quot;</td><td>&quot;1&quot;</td><td>&quot;女性&quot;</td><td>&quot;1962-03-12&quot;</td><td>57</td><td>&quot;249-0002&quot;</td><td>&quot;神奈川県逗子市山の根**********&quot;</td><td>&quot;S14022&quot;</td><td>&quot;20150320&quot;</td><td>&quot;A-20091115-7&quot;</td></tr><tr><td>&quot;CS001515000096&quot;</td><td>&quot;水野 陽子&quot;</td><td>&quot;9&quot;</td><td>&quot;不明&quot;</td><td>&quot;1960-11-29&quot;</td><td>58</td><td>&quot;144-0053&quot;</td><td>&quot;東京都大田区蒲田本町**********&quot;</td><td>&quot;S13001&quot;</td><td>&quot;20150614&quot;</td><td>&quot;A-20100724-7&quot;</td></tr><tr><td>&quot;CS013615000053&quot;</td><td>&quot;西脇 季衣&quot;</td><td>&quot;1&quot;</td><td>&quot;女性&quot;</td><td>&quot;1953-10-18&quot;</td><td>65</td><td>&quot;261-0026&quot;</td><td>&quot;千葉県千葉市美浜区幕張西**********&quot;</td><td>&quot;S12013&quot;</td><td>&quot;20150128&quot;</td><td>&quot;B-20100329-6&quot;</td></tr><tr><td>&quot;CS020412000161&quot;</td><td>&quot;小宮 薫&quot;</td><td>&quot;1&quot;</td><td>&quot;女性&quot;</td><td>&quot;1974-05-21&quot;</td><td>44</td><td>&quot;174-0042&quot;</td><td>&quot;東京都板橋区東坂下**********&quot;</td><td>&quot;S13020&quot;</td><td>&quot;20150822&quot;</td><td>&quot;B-20081021-3&quot;</td></tr><tr><td>&quot;CS001215000097&quot;</td><td>&quot;竹中 あさみ&quot;</td><td>&quot;1&quot;</td><td>&quot;女性&quot;</td><td>&quot;1990-07-25&quot;</td><td>28</td><td>&quot;146-0095&quot;</td><td>&quot;東京都大田区多摩川**********&quot;</td><td>&quot;S13001&quot;</td><td>&quot;20170315&quot;</td><td>&quot;A-20100211-2&quot;</td></tr><tr><td>&quot;CS035212000007&quot;</td><td>&quot;内村 恵梨香&quot;</td><td>&quot;1&quot;</td><td>&quot;女性&quot;</td><td>&quot;1990-12-04&quot;</td><td>28</td><td>&quot;152-0023&quot;</td><td>&quot;東京都目黒区八雲**********&quot;</td><td>&quot;S13035&quot;</td><td>&quot;20151013&quot;</td><td>&quot;B-20101018-6&quot;</td></tr><tr><td>&quot;CS002515000386&quot;</td><td>&quot;野田 コウ&quot;</td><td>&quot;1&quot;</td><td>&quot;女性&quot;</td><td>&quot;1963-05-30&quot;</td><td>55</td><td>&quot;185-0013&quot;</td><td>&quot;東京都国分寺市西恋ケ窪**********&quot;</td><td>&quot;S13002&quot;</td><td>&quot;20160410&quot;</td><td>&quot;C-20100127-8&quot;</td></tr><tr><td>&quot;CS001615000372&quot;</td><td>&quot;稲垣 寿々花&quot;</td><td>&quot;1&quot;</td><td>&quot;女性&quot;</td><td>&quot;1956-10-29&quot;</td><td>62</td><td>&quot;144-0035&quot;</td><td>&quot;東京都大田区南蒲田**********&quot;</td><td>&quot;S13001&quot;</td><td>&quot;20170403&quot;</td><td>&quot;A-20100104-1&quot;</td></tr><tr><td>&quot;CS032512000121&quot;</td><td>&quot;松井 知世&quot;</td><td>&quot;1&quot;</td><td>&quot;女性&quot;</td><td>&quot;1962-09-04&quot;</td><td>56</td><td>&quot;210-0011&quot;</td><td>&quot;神奈川県川崎市川崎区富士見**********&quot;</td><td>&quot;S13032&quot;</td><td>&quot;20150727&quot;</td><td>&quot;A-20100103-5&quot;</td></tr></tbody></table></div>"
      ],
      "text/plain": [
       "shape: (10, 11)\n",
       "┌────────────┬────────────┬───────────┬────────┬───┬───────────┬───────────┬───────────┬───────────┐\n",
       "│ customer_i ┆ customer_n ┆ gender_cd ┆ gender ┆ … ┆ address   ┆ applicati ┆ applicati ┆ status_cd │\n",
       "│ d          ┆ ame        ┆ ---       ┆ ---    ┆   ┆ ---       ┆ on_store_ ┆ on_date   ┆ ---       │\n",
       "│ ---        ┆ ---        ┆ str       ┆ str    ┆   ┆ str       ┆ cd        ┆ ---       ┆ str       │\n",
       "│ str        ┆ str        ┆           ┆        ┆   ┆           ┆ ---       ┆ str       ┆           │\n",
       "│            ┆            ┆           ┆        ┆   ┆           ┆ str       ┆           ┆           │\n",
       "╞════════════╪════════════╪═══════════╪════════╪═══╪═══════════╪═══════════╪═══════════╪═══════════╡\n",
       "│ CS01121500 ┆ 芦田 沙耶  ┆ 1         ┆ 女性   ┆ … ┆ 神奈川県  ┆ S14011    ┆ 20150228  ┆ C-2010042 │\n",
       "│ 0048       ┆            ┆           ┆        ┆   ┆ 横浜市港  ┆           ┆           ┆ 1-9       │\n",
       "│            ┆            ┆           ┆        ┆   ┆ 北区日吉  ┆           ┆           ┆           │\n",
       "│            ┆            ┆           ┆        ┆   ┆ 本町***** ┆           ┆           ┆           │\n",
       "│            ┆            ┆           ┆        ┆   ┆ *****     ┆           ┆           ┆           │\n",
       "│ CS02251300 ┆ 島村       ┆ 1         ┆ 女性   ┆ … ┆ 神奈川県  ┆ S14022    ┆ 20150320  ┆ A-2009111 │\n",
       "│ 0105       ┆ 貴美子     ┆           ┆        ┆   ┆ 逗子市山  ┆           ┆           ┆ 5-7       │\n",
       "│            ┆            ┆           ┆        ┆   ┆ の根***** ┆           ┆           ┆           │\n",
       "│            ┆            ┆           ┆        ┆   ┆ *****     ┆           ┆           ┆           │\n",
       "│ CS00151500 ┆ 水野 陽子  ┆ 9         ┆ 不明   ┆ … ┆ 東京都大  ┆ S13001    ┆ 20150614  ┆ A-2010072 │\n",
       "│ 0096       ┆            ┆           ┆        ┆   ┆ 田区蒲田  ┆           ┆           ┆ 4-7       │\n",
       "│            ┆            ┆           ┆        ┆   ┆ 本町***** ┆           ┆           ┆           │\n",
       "│            ┆            ┆           ┆        ┆   ┆ *****     ┆           ┆           ┆           │\n",
       "│ CS01361500 ┆ 西脇 季衣  ┆ 1         ┆ 女性   ┆ … ┆ 千葉県千  ┆ S12013    ┆ 20150128  ┆ B-2010032 │\n",
       "│ 0053       ┆            ┆           ┆        ┆   ┆ 葉市美浜  ┆           ┆           ┆ 9-6       │\n",
       "│            ┆            ┆           ┆        ┆   ┆ 区幕張西* ┆           ┆           ┆           │\n",
       "│            ┆            ┆           ┆        ┆   ┆ ********* ┆           ┆           ┆           │\n",
       "│ CS02041200 ┆ 小宮 薫    ┆ 1         ┆ 女性   ┆ … ┆ 東京都板  ┆ S13020    ┆ 20150822  ┆ B-2008102 │\n",
       "│ 0161       ┆            ┆           ┆        ┆   ┆ 橋区東坂  ┆           ┆           ┆ 1-3       │\n",
       "│            ┆            ┆           ┆        ┆   ┆ 下******* ┆           ┆           ┆           │\n",
       "│            ┆            ┆           ┆        ┆   ┆ ***       ┆           ┆           ┆           │\n",
       "│ CS00121500 ┆ 竹中       ┆ 1         ┆ 女性   ┆ … ┆ 東京都大  ┆ S13001    ┆ 20170315  ┆ A-2010021 │\n",
       "│ 0097       ┆ あさみ     ┆           ┆        ┆   ┆ 田区多摩  ┆           ┆           ┆ 1-2       │\n",
       "│            ┆            ┆           ┆        ┆   ┆ 川******* ┆           ┆           ┆           │\n",
       "│            ┆            ┆           ┆        ┆   ┆ ***       ┆           ┆           ┆           │\n",
       "│ CS03521200 ┆ 内村       ┆ 1         ┆ 女性   ┆ … ┆ 東京都目  ┆ S13035    ┆ 20151013  ┆ B-2010101 │\n",
       "│ 0007       ┆ 恵梨香     ┆           ┆        ┆   ┆ 黒区八雲* ┆           ┆           ┆ 8-6       │\n",
       "│            ┆            ┆           ┆        ┆   ┆ ********* ┆           ┆           ┆           │\n",
       "│ CS00251500 ┆ 野田 コウ  ┆ 1         ┆ 女性   ┆ … ┆ 東京都国  ┆ S13002    ┆ 20160410  ┆ C-2010012 │\n",
       "│ 0386       ┆            ┆           ┆        ┆   ┆ 分寺市西  ┆           ┆           ┆ 7-8       │\n",
       "│            ┆            ┆           ┆        ┆   ┆ 恋ケ窪*** ┆           ┆           ┆           │\n",
       "│            ┆            ┆           ┆        ┆   ┆ *******   ┆           ┆           ┆           │\n",
       "│ CS00161500 ┆ 稲垣       ┆ 1         ┆ 女性   ┆ … ┆ 東京都大  ┆ S13001    ┆ 20170403  ┆ A-2010010 │\n",
       "│ 0372       ┆ 寿々花     ┆           ┆        ┆   ┆ 田区南蒲  ┆           ┆           ┆ 4-1       │\n",
       "│            ┆            ┆           ┆        ┆   ┆ 田******* ┆           ┆           ┆           │\n",
       "│            ┆            ┆           ┆        ┆   ┆ ***       ┆           ┆           ┆           │\n",
       "│ CS03251200 ┆ 松井 知世  ┆ 1         ┆ 女性   ┆ … ┆ 神奈川県  ┆ S13032    ┆ 20150727  ┆ A-2010010 │\n",
       "│ 0121       ┆            ┆           ┆        ┆   ┆ 川崎市川  ┆           ┆           ┆ 3-5       │\n",
       "│            ┆            ┆           ┆        ┆   ┆ 崎区富士  ┆           ┆           ┆           │\n",
       "│            ┆            ┆           ┆        ┆   ┆ 見******* ┆           ┆           ┆           │\n",
       "│            ┆            ┆           ┆        ┆   ┆ ***       ┆           ┆           ┆           │\n",
       "└────────────┴────────────┴───────────┴────────┴───┴───────────┴───────────┴───────────┴───────────┘"
      ]
     },
     "execution_count": 20,
     "metadata": {},
     "output_type": "execute_result"
    }
   ],
   "source": [
    "df_015 = df_customer.filter((pl.col(\"status_cd\").str.contains(\"^[A-F].*[1-9]$\")))\n",
    "\n",
    "df_015.head(10)"
   ]
  },
  {
   "attachments": {},
   "cell_type": "markdown",
   "metadata": {},
   "source": [
    "---\n",
    "> P-016: 店舗データ（df_store）から、電話番号（tel_no）が3桁-3桁-4桁のデータを全項目表示せよ。"
   ]
  },
  {
   "cell_type": "code",
   "execution_count": 21,
   "metadata": {},
   "outputs": [
    {
     "data": {
      "text/html": [
       "<div><style>\n",
       ".dataframe > thead > tr,\n",
       ".dataframe > tbody > tr {\n",
       "  text-align: right;\n",
       "  white-space: pre-wrap;\n",
       "}\n",
       "</style>\n",
       "<small>shape: (34, 10)</small><table border=\"1\" class=\"dataframe\"><thead><tr><th>store_cd</th><th>store_name</th><th>prefecture_cd</th><th>prefecture</th><th>address</th><th>address_kana</th><th>tel_no</th><th>longitude</th><th>latitude</th><th>floor_area</th></tr><tr><td>str</td><td>str</td><td>str</td><td>str</td><td>str</td><td>str</td><td>str</td><td>f64</td><td>f64</td><td>f64</td></tr></thead><tbody><tr><td>&quot;S12014&quot;</td><td>&quot;千草台店&quot;</td><td>&quot;12&quot;</td><td>&quot;千葉県&quot;</td><td>&quot;千葉県千葉市稲毛区千草台一丁目&quot;</td><td>&quot;チバケンチバシイナゲクチグサダイイッチョウメ&quot;</td><td>&quot;043-123-4003&quot;</td><td>140.118</td><td>35.63559</td><td>1698.0</td></tr><tr><td>&quot;S13002&quot;</td><td>&quot;国分寺店&quot;</td><td>&quot;13&quot;</td><td>&quot;東京都&quot;</td><td>&quot;東京都国分寺市本多二丁目&quot;</td><td>&quot;トウキョウトコクブンジシホンダニチョウメ&quot;</td><td>&quot;042-123-4008&quot;</td><td>139.4802</td><td>35.70566</td><td>1735.0</td></tr><tr><td>&quot;S14010&quot;</td><td>&quot;菊名店&quot;</td><td>&quot;14&quot;</td><td>&quot;神奈川県&quot;</td><td>&quot;神奈川県横浜市港北区菊名一丁目&quot;</td><td>&quot;カナガワケンヨコハマシコウホククキクナイッチョウメ&quot;</td><td>&quot;045-123-4032&quot;</td><td>139.6326</td><td>35.50049</td><td>1732.0</td></tr><tr><td>&quot;S14033&quot;</td><td>&quot;阿久和店&quot;</td><td>&quot;14&quot;</td><td>&quot;神奈川県&quot;</td><td>&quot;神奈川県横浜市瀬谷区阿久和西一丁目&quot;</td><td>&quot;カナガワケンヨコハマシセヤクアクワニシイッチョウメ&quot;</td><td>&quot;045-123-4043&quot;</td><td>139.4961</td><td>35.45918</td><td>1495.0</td></tr><tr><td>&quot;S14036&quot;</td><td>&quot;相模原中央店&quot;</td><td>&quot;14&quot;</td><td>&quot;神奈川県&quot;</td><td>&quot;神奈川県相模原市中央二丁目&quot;</td><td>&quot;カナガワケンサガミハラシチュウオウニチョウメ&quot;</td><td>&quot;042-123-4045&quot;</td><td>139.3716</td><td>35.57327</td><td>1679.0</td></tr><tr><td>&hellip;</td><td>&hellip;</td><td>&hellip;</td><td>&hellip;</td><td>&hellip;</td><td>&hellip;</td><td>&hellip;</td><td>&hellip;</td><td>&hellip;</td><td>&hellip;</td></tr><tr><td>&quot;S14045&quot;</td><td>&quot;厚木店&quot;</td><td>&quot;14&quot;</td><td>&quot;神奈川県&quot;</td><td>&quot;神奈川県厚木市中町二丁目&quot;</td><td>&quot;カナガワケンアツギシナカチョウニチョウメ&quot;</td><td>&quot;046-123-4048&quot;</td><td>139.3651</td><td>35.44182</td><td>980.0</td></tr><tr><td>&quot;S12029&quot;</td><td>&quot;東野店&quot;</td><td>&quot;12&quot;</td><td>&quot;千葉県&quot;</td><td>&quot;千葉県浦安市東野一丁目&quot;</td><td>&quot;チバケンウラヤスシヒガシノイッチョウメ&quot;</td><td>&quot;047-123-4004&quot;</td><td>139.8968</td><td>35.65086</td><td>1101.0</td></tr><tr><td>&quot;S12053&quot;</td><td>&quot;高洲店&quot;</td><td>&quot;12&quot;</td><td>&quot;千葉県&quot;</td><td>&quot;千葉県浦安市高洲五丁目&quot;</td><td>&quot;チバケンウラヤスシタカスゴチョウメ&quot;</td><td>&quot;047-123-4006&quot;</td><td>139.9176</td><td>35.63755</td><td>1555.0</td></tr><tr><td>&quot;S14024&quot;</td><td>&quot;三田店&quot;</td><td>&quot;14&quot;</td><td>&quot;神奈川県&quot;</td><td>&quot;神奈川県川崎市多摩区三田四丁目&quot;</td><td>&quot;カナガワケンカワサキシタマクミタヨンチョウメ&quot;</td><td>&quot;044-123-4038&quot;</td><td>139.5424</td><td>35.6077</td><td>972.0</td></tr><tr><td>&quot;S14006&quot;</td><td>&quot;葛が谷店&quot;</td><td>&quot;14&quot;</td><td>&quot;神奈川県&quot;</td><td>&quot;神奈川県横浜市都筑区葛が谷&quot;</td><td>&quot;カナガワケンヨコハマシツヅキククズガヤ&quot;</td><td>&quot;045-123-4031&quot;</td><td>139.5633</td><td>35.53573</td><td>1886.0</td></tr></tbody></table></div>"
      ],
      "text/plain": [
       "shape: (34, 10)\n",
       "┌──────────┬────────────┬───────────┬───────────┬───┬───────────┬───────────┬──────────┬───────────┐\n",
       "│ store_cd ┆ store_name ┆ prefectur ┆ prefectur ┆ … ┆ tel_no    ┆ longitude ┆ latitude ┆ floor_are │\n",
       "│ ---      ┆ ---        ┆ e_cd      ┆ e         ┆   ┆ ---       ┆ ---       ┆ ---      ┆ a         │\n",
       "│ str      ┆ str        ┆ ---       ┆ ---       ┆   ┆ str       ┆ f64       ┆ f64      ┆ ---       │\n",
       "│          ┆            ┆ str       ┆ str       ┆   ┆           ┆           ┆          ┆ f64       │\n",
       "╞══════════╪════════════╪═══════════╪═══════════╪═══╪═══════════╪═══════════╪══════════╪═══════════╡\n",
       "│ S12014   ┆ 千草台店   ┆ 12        ┆ 千葉県    ┆ … ┆ 043-123-4 ┆ 140.118   ┆ 35.63559 ┆ 1698.0    │\n",
       "│          ┆            ┆           ┆           ┆   ┆ 003       ┆           ┆          ┆           │\n",
       "│ S13002   ┆ 国分寺店   ┆ 13        ┆ 東京都    ┆ … ┆ 042-123-4 ┆ 139.4802  ┆ 35.70566 ┆ 1735.0    │\n",
       "│          ┆            ┆           ┆           ┆   ┆ 008       ┆           ┆          ┆           │\n",
       "│ S14010   ┆ 菊名店     ┆ 14        ┆ 神奈川県  ┆ … ┆ 045-123-4 ┆ 139.6326  ┆ 35.50049 ┆ 1732.0    │\n",
       "│          ┆            ┆           ┆           ┆   ┆ 032       ┆           ┆          ┆           │\n",
       "│ S14033   ┆ 阿久和店   ┆ 14        ┆ 神奈川県  ┆ … ┆ 045-123-4 ┆ 139.4961  ┆ 35.45918 ┆ 1495.0    │\n",
       "│          ┆            ┆           ┆           ┆   ┆ 043       ┆           ┆          ┆           │\n",
       "│ S14036   ┆ 相模原中央 ┆ 14        ┆ 神奈川県  ┆ … ┆ 042-123-4 ┆ 139.3716  ┆ 35.57327 ┆ 1679.0    │\n",
       "│          ┆ 店         ┆           ┆           ┆   ┆ 045       ┆           ┆          ┆           │\n",
       "│ …        ┆ …          ┆ …         ┆ …         ┆ … ┆ …         ┆ …         ┆ …        ┆ …         │\n",
       "│ S14045   ┆ 厚木店     ┆ 14        ┆ 神奈川県  ┆ … ┆ 046-123-4 ┆ 139.3651  ┆ 35.44182 ┆ 980.0     │\n",
       "│          ┆            ┆           ┆           ┆   ┆ 048       ┆           ┆          ┆           │\n",
       "│ S12029   ┆ 東野店     ┆ 12        ┆ 千葉県    ┆ … ┆ 047-123-4 ┆ 139.8968  ┆ 35.65086 ┆ 1101.0    │\n",
       "│          ┆            ┆           ┆           ┆   ┆ 004       ┆           ┆          ┆           │\n",
       "│ S12053   ┆ 高洲店     ┆ 12        ┆ 千葉県    ┆ … ┆ 047-123-4 ┆ 139.9176  ┆ 35.63755 ┆ 1555.0    │\n",
       "│          ┆            ┆           ┆           ┆   ┆ 006       ┆           ┆          ┆           │\n",
       "│ S14024   ┆ 三田店     ┆ 14        ┆ 神奈川県  ┆ … ┆ 044-123-4 ┆ 139.5424  ┆ 35.6077  ┆ 972.0     │\n",
       "│          ┆            ┆           ┆           ┆   ┆ 038       ┆           ┆          ┆           │\n",
       "│ S14006   ┆ 葛が谷店   ┆ 14        ┆ 神奈川県  ┆ … ┆ 045-123-4 ┆ 139.5633  ┆ 35.53573 ┆ 1886.0    │\n",
       "│          ┆            ┆           ┆           ┆   ┆ 031       ┆           ┆          ┆           │\n",
       "└──────────┴────────────┴───────────┴───────────┴───┴───────────┴───────────┴──────────┴───────────┘"
      ]
     },
     "execution_count": 21,
     "metadata": {},
     "output_type": "execute_result"
    }
   ],
   "source": [
    "df_016 = df_store.filter(pl.col(\"tel_no\").str.contains(\"[0-9]{3}-[0-9]{3}-[0-9]{4}\"))\n",
    "\n",
    "df_016"
   ]
  },
  {
   "attachments": {},
   "cell_type": "markdown",
   "metadata": {},
   "source": [
    "## ソート"
   ]
  },
  {
   "attachments": {},
   "cell_type": "markdown",
   "metadata": {},
   "source": [
    "---\n",
    "> P-017: 顧客データ（df_customer）を生年月日（birth_day）で高齢順にソートし、先頭から全項目を5件表示せよ。\n",
    "\n",
    "ソートにはエクスプレッションに対して`sort`（選択列のみ）や`sort_by`（選択列に従ってエクスプレッションがソート）を用いる"
   ]
  },
  {
   "cell_type": "code",
   "execution_count": 22,
   "metadata": {},
   "outputs": [
    {
     "data": {
      "text/html": [
       "<div><style>\n",
       ".dataframe > thead > tr,\n",
       ".dataframe > tbody > tr {\n",
       "  text-align: right;\n",
       "  white-space: pre-wrap;\n",
       "}\n",
       "</style>\n",
       "<small>shape: (10, 11)</small><table border=\"1\" class=\"dataframe\"><thead><tr><th>customer_id</th><th>customer_name</th><th>gender_cd</th><th>gender</th><th>birth_day</th><th>age</th><th>postal_cd</th><th>address</th><th>application_store_cd</th><th>application_date</th><th>status_cd</th></tr><tr><td>str</td><td>str</td><td>str</td><td>str</td><td>str</td><td>i64</td><td>str</td><td>str</td><td>str</td><td>str</td><td>str</td></tr></thead><tbody><tr><td>&quot;CS003813000014&quot;</td><td>&quot;村山 菜々美&quot;</td><td>&quot;1&quot;</td><td>&quot;女性&quot;</td><td>&quot;1928-11-26&quot;</td><td>90</td><td>&quot;182-0007&quot;</td><td>&quot;東京都調布市菊野台**********&quot;</td><td>&quot;S13003&quot;</td><td>&quot;20160214&quot;</td><td>&quot;0-00000000-0&quot;</td></tr><tr><td>&quot;CS026813000004&quot;</td><td>&quot;吉村 朝陽&quot;</td><td>&quot;1&quot;</td><td>&quot;女性&quot;</td><td>&quot;1928-12-14&quot;</td><td>90</td><td>&quot;251-0043&quot;</td><td>&quot;神奈川県藤沢市辻堂元町**********&quot;</td><td>&quot;S14026&quot;</td><td>&quot;20150723&quot;</td><td>&quot;0-00000000-0&quot;</td></tr><tr><td>&quot;CS018811000003&quot;</td><td>&quot;熊沢 美里&quot;</td><td>&quot;1&quot;</td><td>&quot;女性&quot;</td><td>&quot;1929-01-07&quot;</td><td>90</td><td>&quot;204-0004&quot;</td><td>&quot;東京都清瀬市野塩**********&quot;</td><td>&quot;S13018&quot;</td><td>&quot;20150403&quot;</td><td>&quot;0-00000000-0&quot;</td></tr><tr><td>&quot;CS027803000004&quot;</td><td>&quot;内村 拓郎&quot;</td><td>&quot;0&quot;</td><td>&quot;男性&quot;</td><td>&quot;1929-01-12&quot;</td><td>90</td><td>&quot;251-0031&quot;</td><td>&quot;神奈川県藤沢市鵠沼藤が谷**********&quot;</td><td>&quot;S14027&quot;</td><td>&quot;20151227&quot;</td><td>&quot;0-00000000-0&quot;</td></tr><tr><td>&quot;CS013801000003&quot;</td><td>&quot;天野 拓郎&quot;</td><td>&quot;0&quot;</td><td>&quot;男性&quot;</td><td>&quot;1929-01-15&quot;</td><td>90</td><td>&quot;274-0824&quot;</td><td>&quot;千葉県船橋市前原東**********&quot;</td><td>&quot;S12013&quot;</td><td>&quot;20160120&quot;</td><td>&quot;0-00000000-0&quot;</td></tr><tr><td>&quot;CS001814000022&quot;</td><td>&quot;鶴田 里穂&quot;</td><td>&quot;1&quot;</td><td>&quot;女性&quot;</td><td>&quot;1929-01-28&quot;</td><td>90</td><td>&quot;144-0045&quot;</td><td>&quot;東京都大田区南六郷**********&quot;</td><td>&quot;S13001&quot;</td><td>&quot;20161012&quot;</td><td>&quot;A-20090415-7&quot;</td></tr><tr><td>&quot;CS016815000002&quot;</td><td>&quot;山元 美紀&quot;</td><td>&quot;1&quot;</td><td>&quot;女性&quot;</td><td>&quot;1929-02-22&quot;</td><td>90</td><td>&quot;184-0005&quot;</td><td>&quot;東京都小金井市桜町**********&quot;</td><td>&quot;S13016&quot;</td><td>&quot;20150629&quot;</td><td>&quot;C-20090923-C&quot;</td></tr><tr><td>&quot;CS009815000003&quot;</td><td>&quot;中田 里穂&quot;</td><td>&quot;1&quot;</td><td>&quot;女性&quot;</td><td>&quot;1929-04-08&quot;</td><td>89</td><td>&quot;154-0014&quot;</td><td>&quot;東京都世田谷区新町**********&quot;</td><td>&quot;S13009&quot;</td><td>&quot;20150421&quot;</td><td>&quot;D-20091021-E&quot;</td></tr><tr><td>&quot;CS012813000013&quot;</td><td>&quot;宇野 南朋&quot;</td><td>&quot;1&quot;</td><td>&quot;女性&quot;</td><td>&quot;1929-04-09&quot;</td><td>89</td><td>&quot;231-0806&quot;</td><td>&quot;神奈川県横浜市中区本牧町**********&quot;</td><td>&quot;S14012&quot;</td><td>&quot;20150712&quot;</td><td>&quot;0-00000000-0&quot;</td></tr><tr><td>&quot;CS005813000015&quot;</td><td>&quot;金谷 恵梨香&quot;</td><td>&quot;1&quot;</td><td>&quot;女性&quot;</td><td>&quot;1929-04-09&quot;</td><td>89</td><td>&quot;165-0032&quot;</td><td>&quot;東京都中野区鷺宮**********&quot;</td><td>&quot;S13005&quot;</td><td>&quot;20150506&quot;</td><td>&quot;0-00000000-0&quot;</td></tr></tbody></table></div>"
      ],
      "text/plain": [
       "shape: (10, 11)\n",
       "┌────────────┬────────────┬───────────┬────────┬───┬───────────┬───────────┬───────────┬───────────┐\n",
       "│ customer_i ┆ customer_n ┆ gender_cd ┆ gender ┆ … ┆ address   ┆ applicati ┆ applicati ┆ status_cd │\n",
       "│ d          ┆ ame        ┆ ---       ┆ ---    ┆   ┆ ---       ┆ on_store_ ┆ on_date   ┆ ---       │\n",
       "│ ---        ┆ ---        ┆ str       ┆ str    ┆   ┆ str       ┆ cd        ┆ ---       ┆ str       │\n",
       "│ str        ┆ str        ┆           ┆        ┆   ┆           ┆ ---       ┆ str       ┆           │\n",
       "│            ┆            ┆           ┆        ┆   ┆           ┆ str       ┆           ┆           │\n",
       "╞════════════╪════════════╪═══════════╪════════╪═══╪═══════════╪═══════════╪═══════════╪═══════════╡\n",
       "│ CS00381300 ┆ 村山       ┆ 1         ┆ 女性   ┆ … ┆ 東京都調  ┆ S13003    ┆ 20160214  ┆ 0-0000000 │\n",
       "│ 0014       ┆ 菜々美     ┆           ┆        ┆   ┆ 布市菊野  ┆           ┆           ┆ 0-0       │\n",
       "│            ┆            ┆           ┆        ┆   ┆ 台******* ┆           ┆           ┆           │\n",
       "│            ┆            ┆           ┆        ┆   ┆ ***       ┆           ┆           ┆           │\n",
       "│ CS02681300 ┆ 吉村 朝陽  ┆ 1         ┆ 女性   ┆ … ┆ 神奈川県  ┆ S14026    ┆ 20150723  ┆ 0-0000000 │\n",
       "│ 0004       ┆            ┆           ┆        ┆   ┆ 藤沢市辻  ┆           ┆           ┆ 0-0       │\n",
       "│            ┆            ┆           ┆        ┆   ┆ 堂元町*** ┆           ┆           ┆           │\n",
       "│            ┆            ┆           ┆        ┆   ┆ *******   ┆           ┆           ┆           │\n",
       "│ CS01881100 ┆ 熊沢 美里  ┆ 1         ┆ 女性   ┆ … ┆ 東京都清  ┆ S13018    ┆ 20150403  ┆ 0-0000000 │\n",
       "│ 0003       ┆            ┆           ┆        ┆   ┆ 瀬市野塩* ┆           ┆           ┆ 0-0       │\n",
       "│            ┆            ┆           ┆        ┆   ┆ ********* ┆           ┆           ┆           │\n",
       "│ CS02780300 ┆ 内村 拓郎  ┆ 0         ┆ 男性   ┆ … ┆ 神奈川県  ┆ S14027    ┆ 20151227  ┆ 0-0000000 │\n",
       "│ 0004       ┆            ┆           ┆        ┆   ┆ 藤沢市鵠  ┆           ┆           ┆ 0-0       │\n",
       "│            ┆            ┆           ┆        ┆   ┆ 沼藤が谷* ┆           ┆           ┆           │\n",
       "│            ┆            ┆           ┆        ┆   ┆ ********* ┆           ┆           ┆           │\n",
       "│ CS01380100 ┆ 天野 拓郎  ┆ 0         ┆ 男性   ┆ … ┆ 千葉県船  ┆ S12013    ┆ 20160120  ┆ 0-0000000 │\n",
       "│ 0003       ┆            ┆           ┆        ┆   ┆ 橋市前原  ┆           ┆           ┆ 0-0       │\n",
       "│            ┆            ┆           ┆        ┆   ┆ 東******* ┆           ┆           ┆           │\n",
       "│            ┆            ┆           ┆        ┆   ┆ ***       ┆           ┆           ┆           │\n",
       "│ CS00181400 ┆ 鶴田 里穂  ┆ 1         ┆ 女性   ┆ … ┆ 東京都大  ┆ S13001    ┆ 20161012  ┆ A-2009041 │\n",
       "│ 0022       ┆            ┆           ┆        ┆   ┆ 田区南六  ┆           ┆           ┆ 5-7       │\n",
       "│            ┆            ┆           ┆        ┆   ┆ 郷******* ┆           ┆           ┆           │\n",
       "│            ┆            ┆           ┆        ┆   ┆ ***       ┆           ┆           ┆           │\n",
       "│ CS01681500 ┆ 山元 美紀  ┆ 1         ┆ 女性   ┆ … ┆ 東京都小  ┆ S13016    ┆ 20150629  ┆ C-2009092 │\n",
       "│ 0002       ┆            ┆           ┆        ┆   ┆ 金井市桜  ┆           ┆           ┆ 3-C       │\n",
       "│            ┆            ┆           ┆        ┆   ┆ 町******* ┆           ┆           ┆           │\n",
       "│            ┆            ┆           ┆        ┆   ┆ ***       ┆           ┆           ┆           │\n",
       "│ CS00981500 ┆ 中田 里穂  ┆ 1         ┆ 女性   ┆ … ┆ 東京都世  ┆ S13009    ┆ 20150421  ┆ D-2009102 │\n",
       "│ 0003       ┆            ┆           ┆        ┆   ┆ 田谷区新  ┆           ┆           ┆ 1-E       │\n",
       "│            ┆            ┆           ┆        ┆   ┆ 町******* ┆           ┆           ┆           │\n",
       "│            ┆            ┆           ┆        ┆   ┆ ***       ┆           ┆           ┆           │\n",
       "│ CS01281300 ┆ 宇野 南朋  ┆ 1         ┆ 女性   ┆ … ┆ 神奈川県  ┆ S14012    ┆ 20150712  ┆ 0-0000000 │\n",
       "│ 0013       ┆            ┆           ┆        ┆   ┆ 横浜市中  ┆           ┆           ┆ 0-0       │\n",
       "│            ┆            ┆           ┆        ┆   ┆ 区本牧町* ┆           ┆           ┆           │\n",
       "│            ┆            ┆           ┆        ┆   ┆ ********* ┆           ┆           ┆           │\n",
       "│ CS00581300 ┆ 金谷       ┆ 1         ┆ 女性   ┆ … ┆ 東京都中  ┆ S13005    ┆ 20150506  ┆ 0-0000000 │\n",
       "│ 0015       ┆ 恵梨香     ┆           ┆        ┆   ┆ 野区鷺宮* ┆           ┆           ┆ 0-0       │\n",
       "│            ┆            ┆           ┆        ┆   ┆ ********* ┆           ┆           ┆           │\n",
       "└────────────┴────────────┴───────────┴────────┴───┴───────────┴───────────┴───────────┴───────────┘"
      ]
     },
     "execution_count": 22,
     "metadata": {},
     "output_type": "execute_result"
    }
   ],
   "source": [
    "df_017 = df_customer.sort(\"birth_day\")\n",
    "\n",
    "df_017.head(10)"
   ]
  },
  {
   "cell_type": "code",
   "execution_count": 23,
   "metadata": {},
   "outputs": [
    {
     "data": {
      "text/html": [
       "<div><style>\n",
       ".dataframe > thead > tr,\n",
       ".dataframe > tbody > tr {\n",
       "  text-align: right;\n",
       "  white-space: pre-wrap;\n",
       "}\n",
       "</style>\n",
       "<small>shape: (10, 11)</small><table border=\"1\" class=\"dataframe\"><thead><tr><th>customer_id</th><th>customer_name</th><th>gender_cd</th><th>gender</th><th>birth_day</th><th>age</th><th>postal_cd</th><th>address</th><th>application_store_cd</th><th>application_date</th><th>status_cd</th></tr><tr><td>str</td><td>str</td><td>str</td><td>str</td><td>str</td><td>i64</td><td>str</td><td>str</td><td>str</td><td>str</td><td>str</td></tr></thead><tbody><tr><td>&quot;CS003813000014&quot;</td><td>&quot;村山 菜々美&quot;</td><td>&quot;1&quot;</td><td>&quot;女性&quot;</td><td>&quot;1928-11-26&quot;</td><td>90</td><td>&quot;182-0007&quot;</td><td>&quot;東京都調布市菊野台**********&quot;</td><td>&quot;S13003&quot;</td><td>&quot;20160214&quot;</td><td>&quot;0-00000000-0&quot;</td></tr><tr><td>&quot;CS026813000004&quot;</td><td>&quot;吉村 朝陽&quot;</td><td>&quot;1&quot;</td><td>&quot;女性&quot;</td><td>&quot;1928-12-14&quot;</td><td>90</td><td>&quot;251-0043&quot;</td><td>&quot;神奈川県藤沢市辻堂元町**********&quot;</td><td>&quot;S14026&quot;</td><td>&quot;20150723&quot;</td><td>&quot;0-00000000-0&quot;</td></tr><tr><td>&quot;CS018811000003&quot;</td><td>&quot;熊沢 美里&quot;</td><td>&quot;1&quot;</td><td>&quot;女性&quot;</td><td>&quot;1929-01-07&quot;</td><td>90</td><td>&quot;204-0004&quot;</td><td>&quot;東京都清瀬市野塩**********&quot;</td><td>&quot;S13018&quot;</td><td>&quot;20150403&quot;</td><td>&quot;0-00000000-0&quot;</td></tr><tr><td>&quot;CS027803000004&quot;</td><td>&quot;内村 拓郎&quot;</td><td>&quot;0&quot;</td><td>&quot;男性&quot;</td><td>&quot;1929-01-12&quot;</td><td>90</td><td>&quot;251-0031&quot;</td><td>&quot;神奈川県藤沢市鵠沼藤が谷**********&quot;</td><td>&quot;S14027&quot;</td><td>&quot;20151227&quot;</td><td>&quot;0-00000000-0&quot;</td></tr><tr><td>&quot;CS013801000003&quot;</td><td>&quot;天野 拓郎&quot;</td><td>&quot;0&quot;</td><td>&quot;男性&quot;</td><td>&quot;1929-01-15&quot;</td><td>90</td><td>&quot;274-0824&quot;</td><td>&quot;千葉県船橋市前原東**********&quot;</td><td>&quot;S12013&quot;</td><td>&quot;20160120&quot;</td><td>&quot;0-00000000-0&quot;</td></tr><tr><td>&quot;CS001814000022&quot;</td><td>&quot;鶴田 里穂&quot;</td><td>&quot;1&quot;</td><td>&quot;女性&quot;</td><td>&quot;1929-01-28&quot;</td><td>90</td><td>&quot;144-0045&quot;</td><td>&quot;東京都大田区南六郷**********&quot;</td><td>&quot;S13001&quot;</td><td>&quot;20161012&quot;</td><td>&quot;A-20090415-7&quot;</td></tr><tr><td>&quot;CS016815000002&quot;</td><td>&quot;山元 美紀&quot;</td><td>&quot;1&quot;</td><td>&quot;女性&quot;</td><td>&quot;1929-02-22&quot;</td><td>90</td><td>&quot;184-0005&quot;</td><td>&quot;東京都小金井市桜町**********&quot;</td><td>&quot;S13016&quot;</td><td>&quot;20150629&quot;</td><td>&quot;C-20090923-C&quot;</td></tr><tr><td>&quot;CS009815000003&quot;</td><td>&quot;中田 里穂&quot;</td><td>&quot;1&quot;</td><td>&quot;女性&quot;</td><td>&quot;1929-04-08&quot;</td><td>89</td><td>&quot;154-0014&quot;</td><td>&quot;東京都世田谷区新町**********&quot;</td><td>&quot;S13009&quot;</td><td>&quot;20150421&quot;</td><td>&quot;D-20091021-E&quot;</td></tr><tr><td>&quot;CS012813000013&quot;</td><td>&quot;宇野 南朋&quot;</td><td>&quot;1&quot;</td><td>&quot;女性&quot;</td><td>&quot;1929-04-09&quot;</td><td>89</td><td>&quot;231-0806&quot;</td><td>&quot;神奈川県横浜市中区本牧町**********&quot;</td><td>&quot;S14012&quot;</td><td>&quot;20150712&quot;</td><td>&quot;0-00000000-0&quot;</td></tr><tr><td>&quot;CS005813000015&quot;</td><td>&quot;金谷 恵梨香&quot;</td><td>&quot;1&quot;</td><td>&quot;女性&quot;</td><td>&quot;1929-04-09&quot;</td><td>89</td><td>&quot;165-0032&quot;</td><td>&quot;東京都中野区鷺宮**********&quot;</td><td>&quot;S13005&quot;</td><td>&quot;20150506&quot;</td><td>&quot;0-00000000-0&quot;</td></tr></tbody></table></div>"
      ],
      "text/plain": [
       "shape: (10, 11)\n",
       "┌────────────┬────────────┬───────────┬────────┬───┬───────────┬───────────┬───────────┬───────────┐\n",
       "│ customer_i ┆ customer_n ┆ gender_cd ┆ gender ┆ … ┆ address   ┆ applicati ┆ applicati ┆ status_cd │\n",
       "│ d          ┆ ame        ┆ ---       ┆ ---    ┆   ┆ ---       ┆ on_store_ ┆ on_date   ┆ ---       │\n",
       "│ ---        ┆ ---        ┆ str       ┆ str    ┆   ┆ str       ┆ cd        ┆ ---       ┆ str       │\n",
       "│ str        ┆ str        ┆           ┆        ┆   ┆           ┆ ---       ┆ str       ┆           │\n",
       "│            ┆            ┆           ┆        ┆   ┆           ┆ str       ┆           ┆           │\n",
       "╞════════════╪════════════╪═══════════╪════════╪═══╪═══════════╪═══════════╪═══════════╪═══════════╡\n",
       "│ CS00381300 ┆ 村山       ┆ 1         ┆ 女性   ┆ … ┆ 東京都調  ┆ S13003    ┆ 20160214  ┆ 0-0000000 │\n",
       "│ 0014       ┆ 菜々美     ┆           ┆        ┆   ┆ 布市菊野  ┆           ┆           ┆ 0-0       │\n",
       "│            ┆            ┆           ┆        ┆   ┆ 台******* ┆           ┆           ┆           │\n",
       "│            ┆            ┆           ┆        ┆   ┆ ***       ┆           ┆           ┆           │\n",
       "│ CS02681300 ┆ 吉村 朝陽  ┆ 1         ┆ 女性   ┆ … ┆ 神奈川県  ┆ S14026    ┆ 20150723  ┆ 0-0000000 │\n",
       "│ 0004       ┆            ┆           ┆        ┆   ┆ 藤沢市辻  ┆           ┆           ┆ 0-0       │\n",
       "│            ┆            ┆           ┆        ┆   ┆ 堂元町*** ┆           ┆           ┆           │\n",
       "│            ┆            ┆           ┆        ┆   ┆ *******   ┆           ┆           ┆           │\n",
       "│ CS01881100 ┆ 熊沢 美里  ┆ 1         ┆ 女性   ┆ … ┆ 東京都清  ┆ S13018    ┆ 20150403  ┆ 0-0000000 │\n",
       "│ 0003       ┆            ┆           ┆        ┆   ┆ 瀬市野塩* ┆           ┆           ┆ 0-0       │\n",
       "│            ┆            ┆           ┆        ┆   ┆ ********* ┆           ┆           ┆           │\n",
       "│ CS02780300 ┆ 内村 拓郎  ┆ 0         ┆ 男性   ┆ … ┆ 神奈川県  ┆ S14027    ┆ 20151227  ┆ 0-0000000 │\n",
       "│ 0004       ┆            ┆           ┆        ┆   ┆ 藤沢市鵠  ┆           ┆           ┆ 0-0       │\n",
       "│            ┆            ┆           ┆        ┆   ┆ 沼藤が谷* ┆           ┆           ┆           │\n",
       "│            ┆            ┆           ┆        ┆   ┆ ********* ┆           ┆           ┆           │\n",
       "│ CS01380100 ┆ 天野 拓郎  ┆ 0         ┆ 男性   ┆ … ┆ 千葉県船  ┆ S12013    ┆ 20160120  ┆ 0-0000000 │\n",
       "│ 0003       ┆            ┆           ┆        ┆   ┆ 橋市前原  ┆           ┆           ┆ 0-0       │\n",
       "│            ┆            ┆           ┆        ┆   ┆ 東******* ┆           ┆           ┆           │\n",
       "│            ┆            ┆           ┆        ┆   ┆ ***       ┆           ┆           ┆           │\n",
       "│ CS00181400 ┆ 鶴田 里穂  ┆ 1         ┆ 女性   ┆ … ┆ 東京都大  ┆ S13001    ┆ 20161012  ┆ A-2009041 │\n",
       "│ 0022       ┆            ┆           ┆        ┆   ┆ 田区南六  ┆           ┆           ┆ 5-7       │\n",
       "│            ┆            ┆           ┆        ┆   ┆ 郷******* ┆           ┆           ┆           │\n",
       "│            ┆            ┆           ┆        ┆   ┆ ***       ┆           ┆           ┆           │\n",
       "│ CS01681500 ┆ 山元 美紀  ┆ 1         ┆ 女性   ┆ … ┆ 東京都小  ┆ S13016    ┆ 20150629  ┆ C-2009092 │\n",
       "│ 0002       ┆            ┆           ┆        ┆   ┆ 金井市桜  ┆           ┆           ┆ 3-C       │\n",
       "│            ┆            ┆           ┆        ┆   ┆ 町******* ┆           ┆           ┆           │\n",
       "│            ┆            ┆           ┆        ┆   ┆ ***       ┆           ┆           ┆           │\n",
       "│ CS00981500 ┆ 中田 里穂  ┆ 1         ┆ 女性   ┆ … ┆ 東京都世  ┆ S13009    ┆ 20150421  ┆ D-2009102 │\n",
       "│ 0003       ┆            ┆           ┆        ┆   ┆ 田谷区新  ┆           ┆           ┆ 1-E       │\n",
       "│            ┆            ┆           ┆        ┆   ┆ 町******* ┆           ┆           ┆           │\n",
       "│            ┆            ┆           ┆        ┆   ┆ ***       ┆           ┆           ┆           │\n",
       "│ CS01281300 ┆ 宇野 南朋  ┆ 1         ┆ 女性   ┆ … ┆ 神奈川県  ┆ S14012    ┆ 20150712  ┆ 0-0000000 │\n",
       "│ 0013       ┆            ┆           ┆        ┆   ┆ 横浜市中  ┆           ┆           ┆ 0-0       │\n",
       "│            ┆            ┆           ┆        ┆   ┆ 区本牧町* ┆           ┆           ┆           │\n",
       "│            ┆            ┆           ┆        ┆   ┆ ********* ┆           ┆           ┆           │\n",
       "│ CS00581300 ┆ 金谷       ┆ 1         ┆ 女性   ┆ … ┆ 東京都中  ┆ S13005    ┆ 20150506  ┆ 0-0000000 │\n",
       "│ 0015       ┆ 恵梨香     ┆           ┆        ┆   ┆ 野区鷺宮* ┆           ┆           ┆ 0-0       │\n",
       "│            ┆            ┆           ┆        ┆   ┆ ********* ┆           ┆           ┆           │\n",
       "└────────────┴────────────┴───────────┴────────┴───┴───────────┴───────────┴───────────┴───────────┘"
      ]
     },
     "execution_count": 23,
     "metadata": {},
     "output_type": "execute_result"
    }
   ],
   "source": [
    "df_017 = df_customer.select(pl.all().sort_by(\"birth_day\"))\n",
    "\n",
    "df_017.head(10)"
   ]
  },
  {
   "attachments": {},
   "cell_type": "markdown",
   "metadata": {},
   "source": [
    "---\n",
    "> P-018: 顧客データ（df_customer）を生年月日（birth_day）で若い順にソートし、先頭から全項目を5件表示せよ。"
   ]
  },
  {
   "cell_type": "code",
   "execution_count": 24,
   "metadata": {},
   "outputs": [
    {
     "data": {
      "text/html": [
       "<div><style>\n",
       ".dataframe > thead > tr,\n",
       ".dataframe > tbody > tr {\n",
       "  text-align: right;\n",
       "  white-space: pre-wrap;\n",
       "}\n",
       "</style>\n",
       "<small>shape: (10, 11)</small><table border=\"1\" class=\"dataframe\"><thead><tr><th>customer_id</th><th>customer_name</th><th>gender_cd</th><th>gender</th><th>birth_day</th><th>age</th><th>postal_cd</th><th>address</th><th>application_store_cd</th><th>application_date</th><th>status_cd</th></tr><tr><td>str</td><td>str</td><td>str</td><td>str</td><td>str</td><td>i64</td><td>str</td><td>str</td><td>str</td><td>str</td><td>str</td></tr></thead><tbody><tr><td>&quot;CS035114000004&quot;</td><td>&quot;大村 美里&quot;</td><td>&quot;1&quot;</td><td>&quot;女性&quot;</td><td>&quot;2007-11-25&quot;</td><td>11</td><td>&quot;156-0053&quot;</td><td>&quot;東京都世田谷区桜**********&quot;</td><td>&quot;S13035&quot;</td><td>&quot;20150619&quot;</td><td>&quot;6-20091205-6&quot;</td></tr><tr><td>&quot;CS022103000002&quot;</td><td>&quot;福山 はじめ&quot;</td><td>&quot;9&quot;</td><td>&quot;不明&quot;</td><td>&quot;2007-10-02&quot;</td><td>11</td><td>&quot;249-0006&quot;</td><td>&quot;神奈川県逗子市逗子**********&quot;</td><td>&quot;S14022&quot;</td><td>&quot;20160909&quot;</td><td>&quot;0-00000000-0&quot;</td></tr><tr><td>&quot;CS002113000009&quot;</td><td>&quot;柴田 真悠子&quot;</td><td>&quot;1&quot;</td><td>&quot;女性&quot;</td><td>&quot;2007-09-17&quot;</td><td>11</td><td>&quot;184-0014&quot;</td><td>&quot;東京都小金井市貫井南町**********&quot;</td><td>&quot;S13002&quot;</td><td>&quot;20160304&quot;</td><td>&quot;0-00000000-0&quot;</td></tr><tr><td>&quot;CS004115000014&quot;</td><td>&quot;松井 京子&quot;</td><td>&quot;1&quot;</td><td>&quot;女性&quot;</td><td>&quot;2007-08-09&quot;</td><td>11</td><td>&quot;165-0031&quot;</td><td>&quot;東京都中野区上鷺宮**********&quot;</td><td>&quot;S13004&quot;</td><td>&quot;20161120&quot;</td><td>&quot;1-20081231-1&quot;</td></tr><tr><td>&quot;CS002114000010&quot;</td><td>&quot;山内 遥&quot;</td><td>&quot;1&quot;</td><td>&quot;女性&quot;</td><td>&quot;2007-06-03&quot;</td><td>11</td><td>&quot;184-0015&quot;</td><td>&quot;東京都小金井市貫井北町**********&quot;</td><td>&quot;S13002&quot;</td><td>&quot;20160920&quot;</td><td>&quot;6-20100510-1&quot;</td></tr><tr><td>&quot;CS025115000002&quot;</td><td>&quot;小柳 夏希&quot;</td><td>&quot;1&quot;</td><td>&quot;女性&quot;</td><td>&quot;2007-04-18&quot;</td><td>11</td><td>&quot;245-0018&quot;</td><td>&quot;神奈川県横浜市泉区上飯田町**********&quot;</td><td>&quot;S14025&quot;</td><td>&quot;20160116&quot;</td><td>&quot;D-20100913-D&quot;</td></tr><tr><td>&quot;CS002113000025&quot;</td><td>&quot;広末 まなみ&quot;</td><td>&quot;1&quot;</td><td>&quot;女性&quot;</td><td>&quot;2007-03-30&quot;</td><td>12</td><td>&quot;184-0015&quot;</td><td>&quot;東京都小金井市貫井北町**********&quot;</td><td>&quot;S13002&quot;</td><td>&quot;20171030&quot;</td><td>&quot;0-00000000-0&quot;</td></tr><tr><td>&quot;CS033112000003&quot;</td><td>&quot;長野 美紀&quot;</td><td>&quot;1&quot;</td><td>&quot;女性&quot;</td><td>&quot;2007-03-22&quot;</td><td>12</td><td>&quot;245-0051&quot;</td><td>&quot;神奈川県横浜市戸塚区名瀬町**********&quot;</td><td>&quot;S14033&quot;</td><td>&quot;20150606&quot;</td><td>&quot;0-00000000-0&quot;</td></tr><tr><td>&quot;CS007115000006&quot;</td><td>&quot;福岡 瞬&quot;</td><td>&quot;1&quot;</td><td>&quot;女性&quot;</td><td>&quot;2007-03-10&quot;</td><td>12</td><td>&quot;285-0845&quot;</td><td>&quot;千葉県佐倉市西志津**********&quot;</td><td>&quot;S12007&quot;</td><td>&quot;20151118&quot;</td><td>&quot;F-20101016-F&quot;</td></tr><tr><td>&quot;CS014113000008&quot;</td><td>&quot;矢口 莉緒&quot;</td><td>&quot;1&quot;</td><td>&quot;女性&quot;</td><td>&quot;2007-03-05&quot;</td><td>12</td><td>&quot;260-0041&quot;</td><td>&quot;千葉県千葉市中央区東千葉**********&quot;</td><td>&quot;S12014&quot;</td><td>&quot;20150622&quot;</td><td>&quot;3-20091108-6&quot;</td></tr></tbody></table></div>"
      ],
      "text/plain": [
       "shape: (10, 11)\n",
       "┌────────────┬────────────┬───────────┬────────┬───┬───────────┬───────────┬───────────┬───────────┐\n",
       "│ customer_i ┆ customer_n ┆ gender_cd ┆ gender ┆ … ┆ address   ┆ applicati ┆ applicati ┆ status_cd │\n",
       "│ d          ┆ ame        ┆ ---       ┆ ---    ┆   ┆ ---       ┆ on_store_ ┆ on_date   ┆ ---       │\n",
       "│ ---        ┆ ---        ┆ str       ┆ str    ┆   ┆ str       ┆ cd        ┆ ---       ┆ str       │\n",
       "│ str        ┆ str        ┆           ┆        ┆   ┆           ┆ ---       ┆ str       ┆           │\n",
       "│            ┆            ┆           ┆        ┆   ┆           ┆ str       ┆           ┆           │\n",
       "╞════════════╪════════════╪═══════════╪════════╪═══╪═══════════╪═══════════╪═══════════╪═══════════╡\n",
       "│ CS03511400 ┆ 大村 美里  ┆ 1         ┆ 女性   ┆ … ┆ 東京都世  ┆ S13035    ┆ 20150619  ┆ 6-2009120 │\n",
       "│ 0004       ┆            ┆           ┆        ┆   ┆ 田谷区桜* ┆           ┆           ┆ 5-6       │\n",
       "│            ┆            ┆           ┆        ┆   ┆ ********* ┆           ┆           ┆           │\n",
       "│ CS02210300 ┆ 福山       ┆ 9         ┆ 不明   ┆ … ┆ 神奈川県  ┆ S14022    ┆ 20160909  ┆ 0-0000000 │\n",
       "│ 0002       ┆ はじめ     ┆           ┆        ┆   ┆ 逗子市逗  ┆           ┆           ┆ 0-0       │\n",
       "│            ┆            ┆           ┆        ┆   ┆ 子******* ┆           ┆           ┆           │\n",
       "│            ┆            ┆           ┆        ┆   ┆ ***       ┆           ┆           ┆           │\n",
       "│ CS00211300 ┆ 柴田       ┆ 1         ┆ 女性   ┆ … ┆ 東京都小  ┆ S13002    ┆ 20160304  ┆ 0-0000000 │\n",
       "│ 0009       ┆ 真悠子     ┆           ┆        ┆   ┆ 金井市貫  ┆           ┆           ┆ 0-0       │\n",
       "│            ┆            ┆           ┆        ┆   ┆ 井南町*** ┆           ┆           ┆           │\n",
       "│            ┆            ┆           ┆        ┆   ┆ *******   ┆           ┆           ┆           │\n",
       "│ CS00411500 ┆ 松井 京子  ┆ 1         ┆ 女性   ┆ … ┆ 東京都中  ┆ S13004    ┆ 20161120  ┆ 1-2008123 │\n",
       "│ 0014       ┆            ┆           ┆        ┆   ┆ 野区上鷺  ┆           ┆           ┆ 1-1       │\n",
       "│            ┆            ┆           ┆        ┆   ┆ 宮******* ┆           ┆           ┆           │\n",
       "│            ┆            ┆           ┆        ┆   ┆ ***       ┆           ┆           ┆           │\n",
       "│ CS00211400 ┆ 山内 遥    ┆ 1         ┆ 女性   ┆ … ┆ 東京都小  ┆ S13002    ┆ 20160920  ┆ 6-2010051 │\n",
       "│ 0010       ┆            ┆           ┆        ┆   ┆ 金井市貫  ┆           ┆           ┆ 0-1       │\n",
       "│            ┆            ┆           ┆        ┆   ┆ 井北町*** ┆           ┆           ┆           │\n",
       "│            ┆            ┆           ┆        ┆   ┆ *******   ┆           ┆           ┆           │\n",
       "│ CS02511500 ┆ 小柳 夏希  ┆ 1         ┆ 女性   ┆ … ┆ 神奈川県  ┆ S14025    ┆ 20160116  ┆ D-2010091 │\n",
       "│ 0002       ┆            ┆           ┆        ┆   ┆ 横浜市泉  ┆           ┆           ┆ 3-D       │\n",
       "│            ┆            ┆           ┆        ┆   ┆ 区上飯田  ┆           ┆           ┆           │\n",
       "│            ┆            ┆           ┆        ┆   ┆ 町******* ┆           ┆           ┆           │\n",
       "│            ┆            ┆           ┆        ┆   ┆ ***       ┆           ┆           ┆           │\n",
       "│ CS00211300 ┆ 広末       ┆ 1         ┆ 女性   ┆ … ┆ 東京都小  ┆ S13002    ┆ 20171030  ┆ 0-0000000 │\n",
       "│ 0025       ┆ まなみ     ┆           ┆        ┆   ┆ 金井市貫  ┆           ┆           ┆ 0-0       │\n",
       "│            ┆            ┆           ┆        ┆   ┆ 井北町*** ┆           ┆           ┆           │\n",
       "│            ┆            ┆           ┆        ┆   ┆ *******   ┆           ┆           ┆           │\n",
       "│ CS03311200 ┆ 長野 美紀  ┆ 1         ┆ 女性   ┆ … ┆ 神奈川県  ┆ S14033    ┆ 20150606  ┆ 0-0000000 │\n",
       "│ 0003       ┆            ┆           ┆        ┆   ┆ 横浜市戸  ┆           ┆           ┆ 0-0       │\n",
       "│            ┆            ┆           ┆        ┆   ┆ 塚区名瀬  ┆           ┆           ┆           │\n",
       "│            ┆            ┆           ┆        ┆   ┆ 町******* ┆           ┆           ┆           │\n",
       "│            ┆            ┆           ┆        ┆   ┆ ***       ┆           ┆           ┆           │\n",
       "│ CS00711500 ┆ 福岡 瞬    ┆ 1         ┆ 女性   ┆ … ┆ 千葉県佐  ┆ S12007    ┆ 20151118  ┆ F-2010101 │\n",
       "│ 0006       ┆            ┆           ┆        ┆   ┆ 倉市西志  ┆           ┆           ┆ 6-F       │\n",
       "│            ┆            ┆           ┆        ┆   ┆ 津******* ┆           ┆           ┆           │\n",
       "│            ┆            ┆           ┆        ┆   ┆ ***       ┆           ┆           ┆           │\n",
       "│ CS01411300 ┆ 矢口 莉緒  ┆ 1         ┆ 女性   ┆ … ┆ 千葉県千  ┆ S12014    ┆ 20150622  ┆ 3-2009110 │\n",
       "│ 0008       ┆            ┆           ┆        ┆   ┆ 葉市中央  ┆           ┆           ┆ 8-6       │\n",
       "│            ┆            ┆           ┆        ┆   ┆ 区東千葉* ┆           ┆           ┆           │\n",
       "│            ┆            ┆           ┆        ┆   ┆ ********* ┆           ┆           ┆           │\n",
       "└────────────┴────────────┴───────────┴────────┴───┴───────────┴───────────┴───────────┴───────────┘"
      ]
     },
     "execution_count": 24,
     "metadata": {},
     "output_type": "execute_result"
    }
   ],
   "source": [
    "# 引数にdescenging=Trueを指定すると降順になる\n",
    "\n",
    "df_018 = df_customer.sort(\"birth_day\", descending=True)\n",
    "\n",
    "df_018.head(10)"
   ]
  },
  {
   "attachments": {},
   "cell_type": "markdown",
   "metadata": {},
   "source": [
    "---\n",
    "> P-019: レシート明細データ（df_receipt）に対し、1件あたりの売上金額（amount）が高い順にランクを付与し、先頭から10件表示せよ。項目は顧客ID（customer_id）、売上金額（amount）、付与したランクを表示させること。なお、売上金額（amount）が等しい場合は同一順位を付与するものとする。\n",
    "\n",
    "新しい列を生成するときは`.with_columns()`メソッドを用いる<br>\n",
    "ランク付けにはエクスプレッションに対して`.rank()`メソッドを用いる。引数に与えるパラメータとして以下がある\n",
    "- `average`:同じ値のものはランクの平均値になる(例:1, 2, 3, 3, 4, 4, 5) -> rank(1, 2, 3.5, 3.5, 5.5, 5.5, 7)\n",
    "- `min`:同じ値のものはランクは最小値で表す(例:1, 2, 3, 3, 4, 4, 5) -> rank(1, 2, 3, 3, 5, 5, 7)\n",
    "- `max`:同じ値のものはランクは最大値で表す(例:1, 2, 3, 3, 4, 4, 5) -> rank(1, 2, 4, 4, 6, 6, 7)\n",
    "- `dense`:`min`と似ているが、割り当てられるランクはその前のランクの次の値になる(例:1, 2, 3, 3, 4, 4, 5) -> rank(1, 2, 3, 3, 4, 4, 5)\n",
    "- `ordinal`:`min`と似ているが、同値は値の出現順で重複なしでランクを与えられる\n",
    "- `random`:`ordinal`と似ているが、同値に与えられるランクはランダム"
   ]
  },
  {
   "cell_type": "code",
   "execution_count": 25,
   "metadata": {},
   "outputs": [
    {
     "data": {
      "text/html": [
       "<div><style>\n",
       ".dataframe > thead > tr,\n",
       ".dataframe > tbody > tr {\n",
       "  text-align: right;\n",
       "  white-space: pre-wrap;\n",
       "}\n",
       "</style>\n",
       "<small>shape: (10, 3)</small><table border=\"1\" class=\"dataframe\"><thead><tr><th>customer_id</th><th>amount</th><th>ranking</th></tr><tr><td>str</td><td>i64</td><td>u32</td></tr></thead><tbody><tr><td>&quot;CS011415000006&quot;</td><td>10925</td><td>1</td></tr><tr><td>&quot;ZZ000000000000&quot;</td><td>6800</td><td>2</td></tr><tr><td>&quot;CS028605000002&quot;</td><td>5780</td><td>3</td></tr><tr><td>&quot;CS015515000034&quot;</td><td>5480</td><td>4</td></tr><tr><td>&quot;ZZ000000000000&quot;</td><td>5480</td><td>4</td></tr><tr><td>&quot;ZZ000000000000&quot;</td><td>5480</td><td>4</td></tr><tr><td>&quot;ZZ000000000000&quot;</td><td>5440</td><td>7</td></tr><tr><td>&quot;CS021515000089&quot;</td><td>5440</td><td>7</td></tr><tr><td>&quot;CS015515000083&quot;</td><td>5280</td><td>9</td></tr><tr><td>&quot;CS017414000114&quot;</td><td>5280</td><td>9</td></tr></tbody></table></div>"
      ],
      "text/plain": [
       "shape: (10, 3)\n",
       "┌────────────────┬────────┬─────────┐\n",
       "│ customer_id    ┆ amount ┆ ranking │\n",
       "│ ---            ┆ ---    ┆ ---     │\n",
       "│ str            ┆ i64    ┆ u32     │\n",
       "╞════════════════╪════════╪═════════╡\n",
       "│ CS011415000006 ┆ 10925  ┆ 1       │\n",
       "│ ZZ000000000000 ┆ 6800   ┆ 2       │\n",
       "│ CS028605000002 ┆ 5780   ┆ 3       │\n",
       "│ CS015515000034 ┆ 5480   ┆ 4       │\n",
       "│ ZZ000000000000 ┆ 5480   ┆ 4       │\n",
       "│ ZZ000000000000 ┆ 5480   ┆ 4       │\n",
       "│ ZZ000000000000 ┆ 5440   ┆ 7       │\n",
       "│ CS021515000089 ┆ 5440   ┆ 7       │\n",
       "│ CS015515000083 ┆ 5280   ┆ 9       │\n",
       "│ CS017414000114 ┆ 5280   ┆ 9       │\n",
       "└────────────────┴────────┴─────────┘"
      ]
     },
     "execution_count": 25,
     "metadata": {},
     "output_type": "execute_result"
    }
   ],
   "source": [
    "df_019 = (\n",
    "    df_receipt.select(\"customer_id\", \"amount\")\n",
    "    .with_columns(\n",
    "        pl.col(\"amount\")\n",
    "        .rank(method=\"min\", descending=True)\n",
    "        .alias(\"ranking\")\n",
    "    )\n",
    "    .sort(\"ranking\")\n",
    ")\n",
    "\n",
    "df_019.head(10)"
   ]
  },
  {
   "attachments": {},
   "cell_type": "markdown",
   "metadata": {},
   "source": [
    "---\n",
    "> P-020: レシート明細データ（df_receipt）に対し、1件あたりの売上金額（amount）が高い順にランクを付与し、先頭から10件表示せよ。項目は顧客ID（customer_id）、売上金額（amount）、付与したランクを表示させること。なお、売上金額（amount）が等しい場合でも別順位を付与すること。"
   ]
  },
  {
   "cell_type": "code",
   "execution_count": 26,
   "metadata": {},
   "outputs": [
    {
     "data": {
      "text/html": [
       "<div><style>\n",
       ".dataframe > thead > tr,\n",
       ".dataframe > tbody > tr {\n",
       "  text-align: right;\n",
       "  white-space: pre-wrap;\n",
       "}\n",
       "</style>\n",
       "<small>shape: (10, 3)</small><table border=\"1\" class=\"dataframe\"><thead><tr><th>customer_id</th><th>amount</th><th>ranking</th></tr><tr><td>str</td><td>i64</td><td>u32</td></tr></thead><tbody><tr><td>&quot;CS011415000006&quot;</td><td>10925</td><td>1</td></tr><tr><td>&quot;ZZ000000000000&quot;</td><td>6800</td><td>2</td></tr><tr><td>&quot;CS028605000002&quot;</td><td>5780</td><td>3</td></tr><tr><td>&quot;CS015515000034&quot;</td><td>5480</td><td>4</td></tr><tr><td>&quot;ZZ000000000000&quot;</td><td>5480</td><td>5</td></tr><tr><td>&quot;ZZ000000000000&quot;</td><td>5480</td><td>6</td></tr><tr><td>&quot;ZZ000000000000&quot;</td><td>5440</td><td>7</td></tr><tr><td>&quot;CS021515000089&quot;</td><td>5440</td><td>8</td></tr><tr><td>&quot;CS015515000083&quot;</td><td>5280</td><td>9</td></tr><tr><td>&quot;CS017414000114&quot;</td><td>5280</td><td>10</td></tr></tbody></table></div>"
      ],
      "text/plain": [
       "shape: (10, 3)\n",
       "┌────────────────┬────────┬─────────┐\n",
       "│ customer_id    ┆ amount ┆ ranking │\n",
       "│ ---            ┆ ---    ┆ ---     │\n",
       "│ str            ┆ i64    ┆ u32     │\n",
       "╞════════════════╪════════╪═════════╡\n",
       "│ CS011415000006 ┆ 10925  ┆ 1       │\n",
       "│ ZZ000000000000 ┆ 6800   ┆ 2       │\n",
       "│ CS028605000002 ┆ 5780   ┆ 3       │\n",
       "│ CS015515000034 ┆ 5480   ┆ 4       │\n",
       "│ ZZ000000000000 ┆ 5480   ┆ 5       │\n",
       "│ ZZ000000000000 ┆ 5480   ┆ 6       │\n",
       "│ ZZ000000000000 ┆ 5440   ┆ 7       │\n",
       "│ CS021515000089 ┆ 5440   ┆ 8       │\n",
       "│ CS015515000083 ┆ 5280   ┆ 9       │\n",
       "│ CS017414000114 ┆ 5280   ┆ 10      │\n",
       "└────────────────┴────────┴─────────┘"
      ]
     },
     "execution_count": 26,
     "metadata": {},
     "output_type": "execute_result"
    }
   ],
   "source": [
    "df_020 = (\n",
    "    df_receipt.select([\"customer_id\", \"amount\"])\n",
    "    .with_columns(\n",
    "        pl.col(\"amount\")\n",
    "        .rank(method=\"ordinal\", descending=True)\n",
    "        .alias(\"ranking\")\n",
    "    )\n",
    "    .sort(\"ranking\")\n",
    ")\n",
    "\n",
    "df_020.head(10)"
   ]
  },
  {
   "attachments": {},
   "cell_type": "markdown",
   "metadata": {},
   "source": [
    "## 集計"
   ]
  },
  {
   "attachments": {},
   "cell_type": "markdown",
   "metadata": {},
   "source": [
    "---\n",
    "> P-021: レシート明細データ（df_receipt）に対し、件数をカウントせよ。"
   ]
  },
  {
   "cell_type": "code",
   "execution_count": 27,
   "metadata": {},
   "outputs": [
    {
     "data": {
      "text/plain": [
       "104681"
      ]
     },
     "execution_count": 27,
     "metadata": {},
     "output_type": "execute_result"
    }
   ],
   "source": [
    "len(df_receipt)"
   ]
  },
  {
   "attachments": {},
   "cell_type": "markdown",
   "metadata": {},
   "source": [
    "---\n",
    "> P-022: レシート明細データ（df_receipt）の顧客ID（customer_id）に対し、ユニーク件数をカウントせよ。"
   ]
  },
  {
   "cell_type": "code",
   "execution_count": 28,
   "metadata": {},
   "outputs": [
    {
     "data": {
      "text/html": [
       "<div><style>\n",
       ".dataframe > thead > tr,\n",
       ".dataframe > tbody > tr {\n",
       "  text-align: right;\n",
       "  white-space: pre-wrap;\n",
       "}\n",
       "</style>\n",
       "<small>shape: (1, 1)</small><table border=\"1\" class=\"dataframe\"><thead><tr><th>customer_id</th></tr><tr><td>u32</td></tr></thead><tbody><tr><td>8307</td></tr></tbody></table></div>"
      ],
      "text/plain": [
       "shape: (1, 1)\n",
       "┌─────────────┐\n",
       "│ customer_id │\n",
       "│ ---         │\n",
       "│ u32         │\n",
       "╞═════════════╡\n",
       "│ 8307        │\n",
       "└─────────────┘"
      ]
     },
     "execution_count": 28,
     "metadata": {},
     "output_type": "execute_result"
    }
   ],
   "source": [
    "# len(df_receipt.select(pl.col(\"customer_id\").unique()))\n",
    "df_receipt.select(pl.col(\"customer_id\").unique().count())"
   ]
  },
  {
   "attachments": {},
   "cell_type": "markdown",
   "metadata": {},
   "source": [
    "---\n",
    "> P-023: レシート明細データ（df_receipt）に対し、店舗コード（store_cd）ごとに売上金額（amount）と売上数量（quantity）を合計せよ。"
   ]
  },
  {
   "cell_type": "code",
   "execution_count": 29,
   "metadata": {},
   "outputs": [
    {
     "data": {
      "text/html": [
       "<div><style>\n",
       ".dataframe > thead > tr,\n",
       ".dataframe > tbody > tr {\n",
       "  text-align: right;\n",
       "  white-space: pre-wrap;\n",
       "}\n",
       "</style>\n",
       "<small>shape: (5, 3)</small><table border=\"1\" class=\"dataframe\"><thead><tr><th>store_cd</th><th>amount</th><th>quantity</th></tr><tr><td>str</td><td>i64</td><td>i64</td></tr></thead><tbody><tr><td>&quot;S12007&quot;</td><td>638761</td><td>2099</td></tr><tr><td>&quot;S12013&quot;</td><td>787513</td><td>2425</td></tr><tr><td>&quot;S12014&quot;</td><td>725167</td><td>2358</td></tr><tr><td>&quot;S12029&quot;</td><td>794741</td><td>2555</td></tr><tr><td>&quot;S12030&quot;</td><td>684402</td><td>2403</td></tr></tbody></table></div>"
      ],
      "text/plain": [
       "shape: (5, 3)\n",
       "┌──────────┬────────┬──────────┐\n",
       "│ store_cd ┆ amount ┆ quantity │\n",
       "│ ---      ┆ ---    ┆ ---      │\n",
       "│ str      ┆ i64    ┆ i64      │\n",
       "╞══════════╪════════╪══════════╡\n",
       "│ S12007   ┆ 638761 ┆ 2099     │\n",
       "│ S12013   ┆ 787513 ┆ 2425     │\n",
       "│ S12014   ┆ 725167 ┆ 2358     │\n",
       "│ S12029   ┆ 794741 ┆ 2555     │\n",
       "│ S12030   ┆ 684402 ┆ 2403     │\n",
       "└──────────┴────────┴──────────┘"
      ]
     },
     "execution_count": 29,
     "metadata": {},
     "output_type": "execute_result"
    }
   ],
   "source": [
    "df_023 = (\n",
    "    df_receipt.group_by(\"store_cd\")\n",
    "    .agg(pl.col(\"amount\").sum(), pl.col(\"quantity\").sum())\n",
    "    .sort(pl.col(\"store_cd\"))\n",
    ")\n",
    "df_023.head(5)"
   ]
  },
  {
   "attachments": {},
   "cell_type": "markdown",
   "metadata": {},
   "source": [
    "---\n",
    "> P-024: レシート明細データ（df_receipt）に対し、顧客ID（customer_id）ごとに最も新しい売上年月日（sales_ymd）を求め、5件表示せよ。"
   ]
  },
  {
   "cell_type": "code",
   "execution_count": 30,
   "metadata": {},
   "outputs": [
    {
     "data": {
      "text/html": [
       "<div><style>\n",
       ".dataframe > thead > tr,\n",
       ".dataframe > tbody > tr {\n",
       "  text-align: right;\n",
       "  white-space: pre-wrap;\n",
       "}\n",
       "</style>\n",
       "<small>shape: (5, 2)</small><table border=\"1\" class=\"dataframe\"><thead><tr><th>customer_id</th><th>sales_ymd</th></tr><tr><td>str</td><td>i64</td></tr></thead><tbody><tr><td>&quot;CS006512000165&quot;</td><td>20191031</td></tr><tr><td>&quot;CS003513000561&quot;</td><td>20191031</td></tr><tr><td>&quot;CS006512000023&quot;</td><td>20191031</td></tr><tr><td>&quot;CS044513000029&quot;</td><td>20191031</td></tr><tr><td>&quot;ZZ000000000000&quot;</td><td>20191031</td></tr></tbody></table></div>"
      ],
      "text/plain": [
       "shape: (5, 2)\n",
       "┌────────────────┬───────────┐\n",
       "│ customer_id    ┆ sales_ymd │\n",
       "│ ---            ┆ ---       │\n",
       "│ str            ┆ i64       │\n",
       "╞════════════════╪═══════════╡\n",
       "│ CS006512000165 ┆ 20191031  │\n",
       "│ CS003513000561 ┆ 20191031  │\n",
       "│ CS006512000023 ┆ 20191031  │\n",
       "│ CS044513000029 ┆ 20191031  │\n",
       "│ ZZ000000000000 ┆ 20191031  │\n",
       "└────────────────┴───────────┘"
      ]
     },
     "execution_count": 30,
     "metadata": {},
     "output_type": "execute_result"
    }
   ],
   "source": [
    "df_024 = (\n",
    "    df_receipt.group_by(\"customer_id\")\n",
    "    .agg(pl.col(\"sales_ymd\").max())\n",
    "    .sort(pl.col(\"sales_ymd\"), descending=True)\n",
    ")\n",
    "\n",
    "df_024.head(5)"
   ]
  },
  {
   "attachments": {},
   "cell_type": "markdown",
   "metadata": {},
   "source": [
    "---\n",
    "> P-025: レシート明細データ（df_receipt）に対し、顧客ID（customer_id）ごとに最も古い売上年月日（sales_ymd）を求め、10件表示せよ。"
   ]
  },
  {
   "cell_type": "code",
   "execution_count": 31,
   "metadata": {},
   "outputs": [
    {
     "data": {
      "text/html": [
       "<div><style>\n",
       ".dataframe > thead > tr,\n",
       ".dataframe > tbody > tr {\n",
       "  text-align: right;\n",
       "  white-space: pre-wrap;\n",
       "}\n",
       "</style>\n",
       "<small>shape: (5, 2)</small><table border=\"1\" class=\"dataframe\"><thead><tr><th>customer_id</th><th>sales_ymd</th></tr><tr><td>str</td><td>i64</td></tr></thead><tbody><tr><td>&quot;CS031414000041&quot;</td><td>20170101</td></tr><tr><td>&quot;ZZ000000000000&quot;</td><td>20170101</td></tr><tr><td>&quot;CS015214000012&quot;</td><td>20170101</td></tr><tr><td>&quot;CS008214000024&quot;</td><td>20170101</td></tr><tr><td>&quot;CS017414000066&quot;</td><td>20170101</td></tr></tbody></table></div>"
      ],
      "text/plain": [
       "shape: (5, 2)\n",
       "┌────────────────┬───────────┐\n",
       "│ customer_id    ┆ sales_ymd │\n",
       "│ ---            ┆ ---       │\n",
       "│ str            ┆ i64       │\n",
       "╞════════════════╪═══════════╡\n",
       "│ CS031414000041 ┆ 20170101  │\n",
       "│ ZZ000000000000 ┆ 20170101  │\n",
       "│ CS015214000012 ┆ 20170101  │\n",
       "│ CS008214000024 ┆ 20170101  │\n",
       "│ CS017414000066 ┆ 20170101  │\n",
       "└────────────────┴───────────┘"
      ]
     },
     "execution_count": 31,
     "metadata": {},
     "output_type": "execute_result"
    }
   ],
   "source": [
    "df_025 = (\n",
    "    df_receipt.group_by(\"customer_id\")\n",
    "    .agg(pl.col(\"sales_ymd\").min())\n",
    "    .sort(pl.col(\"sales_ymd\"), descending=False)\n",
    ")\n",
    "\n",
    "df_025.head(5)"
   ]
  },
  {
   "attachments": {},
   "cell_type": "markdown",
   "metadata": {},
   "source": [
    "---\n",
    "> P-026: レシート明細データ（df_receipt）に対し、顧客ID（customer_id）ごとに最も新しい売上年月日（sales_ymd）と古い売上年月日を求め、両者が異なるデータを10件表示せよ。"
   ]
  },
  {
   "cell_type": "code",
   "execution_count": 32,
   "metadata": {},
   "outputs": [
    {
     "data": {
      "text/html": [
       "<div><style>\n",
       ".dataframe > thead > tr,\n",
       ".dataframe > tbody > tr {\n",
       "  text-align: right;\n",
       "  white-space: pre-wrap;\n",
       "}\n",
       "</style>\n",
       "<small>shape: (10, 3)</small><table border=\"1\" class=\"dataframe\"><thead><tr><th>customer_id</th><th>sales_ymd_min</th><th>sales_ymd_max</th></tr><tr><td>str</td><td>i64</td><td>i64</td></tr></thead><tbody><tr><td>&quot;CS004315000487&quot;</td><td>20180414</td><td>20180414</td></tr><tr><td>&quot;CS037414000089&quot;</td><td>20170202</td><td>20180610</td></tr><tr><td>&quot;CS030415000003&quot;</td><td>20180226</td><td>20190615</td></tr><tr><td>&quot;CS014515000050&quot;</td><td>20170130</td><td>20191010</td></tr><tr><td>&quot;CS024513000091&quot;</td><td>20170826</td><td>20190711</td></tr><tr><td>&quot;CS010412000016&quot;</td><td>20180913</td><td>20180913</td></tr><tr><td>&quot;CS037815000014&quot;</td><td>20170115</td><td>20170115</td></tr><tr><td>&quot;CS023214000005&quot;</td><td>20180103</td><td>20190928</td></tr><tr><td>&quot;CS010412000201&quot;</td><td>20170512</td><td>20180216</td></tr><tr><td>&quot;CS024311000016&quot;</td><td>20170412</td><td>20170412</td></tr></tbody></table></div>"
      ],
      "text/plain": [
       "shape: (10, 3)\n",
       "┌────────────────┬───────────────┬───────────────┐\n",
       "│ customer_id    ┆ sales_ymd_min ┆ sales_ymd_max │\n",
       "│ ---            ┆ ---           ┆ ---           │\n",
       "│ str            ┆ i64           ┆ i64           │\n",
       "╞════════════════╪═══════════════╪═══════════════╡\n",
       "│ CS004315000487 ┆ 20180414      ┆ 20180414      │\n",
       "│ CS037414000089 ┆ 20170202      ┆ 20180610      │\n",
       "│ CS030415000003 ┆ 20180226      ┆ 20190615      │\n",
       "│ CS014515000050 ┆ 20170130      ┆ 20191010      │\n",
       "│ CS024513000091 ┆ 20170826      ┆ 20190711      │\n",
       "│ CS010412000016 ┆ 20180913      ┆ 20180913      │\n",
       "│ CS037815000014 ┆ 20170115      ┆ 20170115      │\n",
       "│ CS023214000005 ┆ 20180103      ┆ 20190928      │\n",
       "│ CS010412000201 ┆ 20170512      ┆ 20180216      │\n",
       "│ CS024311000016 ┆ 20170412      ┆ 20170412      │\n",
       "└────────────────┴───────────────┴───────────────┘"
      ]
     },
     "execution_count": 32,
     "metadata": {},
     "output_type": "execute_result"
    }
   ],
   "source": [
    "df_026 = (\n",
    "    df_receipt\n",
    "    .group_by(\"customer_id\")\n",
    "    .agg(\n",
    "        pl.col(\"sales_ymd\").min().alias(\"sales_ymd_min\"),\n",
    "        pl.col(\"sales_ymd\").max().alias(\"sales_ymd_max\"),\n",
    "    )\n",
    ")\n",
    "df_026.head(10)"
   ]
  },
  {
   "attachments": {},
   "cell_type": "markdown",
   "metadata": {},
   "source": [
    "---\n",
    "> P-027: レシート明細データ（df_receipt）に対し、店舗コード（store_cd）ごとに売上金額（amount）の平均を計算し、降順でTOP5を表示せよ。"
   ]
  },
  {
   "cell_type": "code",
   "execution_count": 33,
   "metadata": {},
   "outputs": [
    {
     "data": {
      "text/html": [
       "<div><style>\n",
       ".dataframe > thead > tr,\n",
       ".dataframe > tbody > tr {\n",
       "  text-align: right;\n",
       "  white-space: pre-wrap;\n",
       "}\n",
       "</style>\n",
       "<small>shape: (5, 2)</small><table border=\"1\" class=\"dataframe\"><thead><tr><th>store_cd</th><th>amount</th></tr><tr><td>str</td><td>f64</td></tr></thead><tbody><tr><td>&quot;S13052&quot;</td><td>402.86747</td></tr><tr><td>&quot;S13015&quot;</td><td>351.11196</td></tr><tr><td>&quot;S13003&quot;</td><td>350.915519</td></tr><tr><td>&quot;S14010&quot;</td><td>348.791262</td></tr><tr><td>&quot;S13001&quot;</td><td>348.470386</td></tr></tbody></table></div>"
      ],
      "text/plain": [
       "shape: (5, 2)\n",
       "┌──────────┬────────────┐\n",
       "│ store_cd ┆ amount     │\n",
       "│ ---      ┆ ---        │\n",
       "│ str      ┆ f64        │\n",
       "╞══════════╪════════════╡\n",
       "│ S13052   ┆ 402.86747  │\n",
       "│ S13015   ┆ 351.11196  │\n",
       "│ S13003   ┆ 350.915519 │\n",
       "│ S14010   ┆ 348.791262 │\n",
       "│ S13001   ┆ 348.470386 │\n",
       "└──────────┴────────────┘"
      ]
     },
     "execution_count": 33,
     "metadata": {},
     "output_type": "execute_result"
    }
   ],
   "source": [
    "df_027 = (\n",
    "    df_receipt.group_by(\"store_cd\")\n",
    "    .agg(pl.col(\"amount\").mean())\n",
    "    .sort(pl.col(\"amount\"), descending=True)\n",
    ")\n",
    "\n",
    "df_027.head(5)"
   ]
  },
  {
   "attachments": {},
   "cell_type": "markdown",
   "metadata": {},
   "source": [
    "---\n",
    "> P-028: レシート明細データ（df_receipt）に対し、店舗コード（store_cd）ごとに売上金額（amount）の中央値を計算し、降順でTOP5を表示せよ。"
   ]
  },
  {
   "cell_type": "code",
   "execution_count": 34,
   "metadata": {},
   "outputs": [
    {
     "data": {
      "text/html": [
       "<div><style>\n",
       ".dataframe > thead > tr,\n",
       ".dataframe > tbody > tr {\n",
       "  text-align: right;\n",
       "  white-space: pre-wrap;\n",
       "}\n",
       "</style>\n",
       "<small>shape: (5, 2)</small><table border=\"1\" class=\"dataframe\"><thead><tr><th>store_cd</th><th>amount</th></tr><tr><td>str</td><td>f64</td></tr></thead><tbody><tr><td>&quot;S13052&quot;</td><td>190.0</td></tr><tr><td>&quot;S14010&quot;</td><td>188.0</td></tr><tr><td>&quot;S14050&quot;</td><td>185.0</td></tr><tr><td>&quot;S13003&quot;</td><td>180.0</td></tr><tr><td>&quot;S14040&quot;</td><td>180.0</td></tr></tbody></table></div>"
      ],
      "text/plain": [
       "shape: (5, 2)\n",
       "┌──────────┬────────┐\n",
       "│ store_cd ┆ amount │\n",
       "│ ---      ┆ ---    │\n",
       "│ str      ┆ f64    │\n",
       "╞══════════╪════════╡\n",
       "│ S13052   ┆ 190.0  │\n",
       "│ S14010   ┆ 188.0  │\n",
       "│ S14050   ┆ 185.0  │\n",
       "│ S13003   ┆ 180.0  │\n",
       "│ S14040   ┆ 180.0  │\n",
       "└──────────┴────────┘"
      ]
     },
     "execution_count": 34,
     "metadata": {},
     "output_type": "execute_result"
    }
   ],
   "source": [
    "df_028 = (\n",
    "    df_receipt.group_by(\"store_cd\")\n",
    "    .agg(pl.col(\"amount\").median())\n",
    "    .sort(pl.col(\"amount\"), descending=True)\n",
    ")\n",
    "df_028.head(5)"
   ]
  },
  {
   "attachments": {},
   "cell_type": "markdown",
   "metadata": {},
   "source": [
    "---\n",
    "> P-029: レシート明細データ（df_receipt）に対し、店舗コード（store_cd）ごとに商品コード（product_cd）の最頻値を求め、10件表示させよ。"
   ]
  },
  {
   "cell_type": "code",
   "execution_count": 35,
   "metadata": {},
   "outputs": [
    {
     "data": {
      "text/html": [
       "<div><style>\n",
       ".dataframe > thead > tr,\n",
       ".dataframe > tbody > tr {\n",
       "  text-align: right;\n",
       "  white-space: pre-wrap;\n",
       "}\n",
       "</style>\n",
       "<small>shape: (5, 3)</small><table border=\"1\" class=\"dataframe\"><thead><tr><th>store_cd</th><th>product_cd</th><th>lebel_1</th></tr><tr><td>str</td><td>list[str]</td><td>u32</td></tr></thead><tbody><tr><td>&quot;S13008&quot;</td><td>[&quot;P060303001&quot;]</td><td>1</td></tr><tr><td>&quot;S14026&quot;</td><td>[&quot;P071401001&quot;]</td><td>1</td></tr><tr><td>&quot;S14025&quot;</td><td>[&quot;P060303001&quot;]</td><td>1</td></tr><tr><td>&quot;S14022&quot;</td><td>[&quot;P060303001&quot;]</td><td>1</td></tr><tr><td>&quot;S13004&quot;</td><td>[&quot;P060303001&quot;]</td><td>1</td></tr></tbody></table></div>"
      ],
      "text/plain": [
       "shape: (5, 3)\n",
       "┌──────────┬────────────────┬─────────┐\n",
       "│ store_cd ┆ product_cd     ┆ lebel_1 │\n",
       "│ ---      ┆ ---            ┆ ---     │\n",
       "│ str      ┆ list[str]      ┆ u32     │\n",
       "╞══════════╪════════════════╪═════════╡\n",
       "│ S13008   ┆ [\"P060303001\"] ┆ 1       │\n",
       "│ S14026   ┆ [\"P071401001\"] ┆ 1       │\n",
       "│ S14025   ┆ [\"P060303001\"] ┆ 1       │\n",
       "│ S14022   ┆ [\"P060303001\"] ┆ 1       │\n",
       "│ S13004   ┆ [\"P060303001\"] ┆ 1       │\n",
       "└──────────┴────────────────┴─────────┘"
      ]
     },
     "execution_count": 35,
     "metadata": {},
     "output_type": "execute_result"
    }
   ],
   "source": [
    "df_029 = (\n",
    "    df_receipt\n",
    "    .group_by(\"store_cd\")\n",
    "    .agg(\n",
    "        pl.col(\"product_cd\").mode(),\n",
    "        pl.col(\"product_cd\").mode().count().alias(\"lebel_1\")\n",
    "    )\n",
    ")\n",
    "\n",
    "df_029.head(5)"
   ]
  },
  {
   "attachments": {},
   "cell_type": "markdown",
   "metadata": {},
   "source": [
    "---\n",
    "> P-030: レシート明細データ（df_receipt）に対し、店舗コード（store_cd）ごとに売上金額（amount）の分散を計算し、降順で5件表示せよ。"
   ]
  },
  {
   "cell_type": "code",
   "execution_count": 36,
   "metadata": {},
   "outputs": [
    {
     "data": {
      "text/html": [
       "<div><style>\n",
       ".dataframe > thead > tr,\n",
       ".dataframe > tbody > tr {\n",
       "  text-align: right;\n",
       "  white-space: pre-wrap;\n",
       "}\n",
       "</style>\n",
       "<small>shape: (5, 2)</small><table border=\"1\" class=\"dataframe\"><thead><tr><th>store_cd</th><th>var_amount</th></tr><tr><td>str</td><td>f64</td></tr></thead><tbody><tr><td>&quot;S13052&quot;</td><td>440088.701311</td></tr><tr><td>&quot;S14011&quot;</td><td>306314.558164</td></tr><tr><td>&quot;S14034&quot;</td><td>296920.081011</td></tr><tr><td>&quot;S13001&quot;</td><td>295431.993329</td></tr><tr><td>&quot;S13015&quot;</td><td>295294.361116</td></tr></tbody></table></div>"
      ],
      "text/plain": [
       "shape: (5, 2)\n",
       "┌──────────┬───────────────┐\n",
       "│ store_cd ┆ var_amount    │\n",
       "│ ---      ┆ ---           │\n",
       "│ str      ┆ f64           │\n",
       "╞══════════╪═══════════════╡\n",
       "│ S13052   ┆ 440088.701311 │\n",
       "│ S14011   ┆ 306314.558164 │\n",
       "│ S14034   ┆ 296920.081011 │\n",
       "│ S13001   ┆ 295431.993329 │\n",
       "│ S13015   ┆ 295294.361116 │\n",
       "└──────────┴───────────────┘"
      ]
     },
     "execution_count": 36,
     "metadata": {},
     "output_type": "execute_result"
    }
   ],
   "source": [
    "df_030 = (\n",
    "    df_receipt\n",
    "    .group_by(\"store_cd\")\n",
    "    .agg(pl.col(\"amount\").var(ddof=0).alias(\"var_amount\"))  # ddof=0:母標準偏差\n",
    "    .sort(\"var_amount\", descending=True)\n",
    ")\n",
    "\n",
    "df_030.head(5)"
   ]
  },
  {
   "attachments": {},
   "cell_type": "markdown",
   "metadata": {},
   "source": [
    "---\n",
    "> P-031: レシート明細データ（df_receipt）に対し、店舗コード（store_cd）ごとに売上金額（amount）の標準偏差を計算し、降順で5件表示せよ。"
   ]
  },
  {
   "cell_type": "code",
   "execution_count": 37,
   "metadata": {},
   "outputs": [
    {
     "data": {
      "text/html": [
       "<div><style>\n",
       ".dataframe > thead > tr,\n",
       ".dataframe > tbody > tr {\n",
       "  text-align: right;\n",
       "  white-space: pre-wrap;\n",
       "}\n",
       "</style>\n",
       "<small>shape: (5, 2)</small><table border=\"1\" class=\"dataframe\"><thead><tr><th>store_cd</th><th>std_amount</th></tr><tr><td>str</td><td>f64</td></tr></thead><tbody><tr><td>&quot;S13052&quot;</td><td>663.391816</td></tr><tr><td>&quot;S14011&quot;</td><td>553.456916</td></tr><tr><td>&quot;S14034&quot;</td><td>544.903736</td></tr><tr><td>&quot;S13001&quot;</td><td>543.536561</td></tr><tr><td>&quot;S13015&quot;</td><td>543.409938</td></tr></tbody></table></div>"
      ],
      "text/plain": [
       "shape: (5, 2)\n",
       "┌──────────┬────────────┐\n",
       "│ store_cd ┆ std_amount │\n",
       "│ ---      ┆ ---        │\n",
       "│ str      ┆ f64        │\n",
       "╞══════════╪════════════╡\n",
       "│ S13052   ┆ 663.391816 │\n",
       "│ S14011   ┆ 553.456916 │\n",
       "│ S14034   ┆ 544.903736 │\n",
       "│ S13001   ┆ 543.536561 │\n",
       "│ S13015   ┆ 543.409938 │\n",
       "└──────────┴────────────┘"
      ]
     },
     "execution_count": 37,
     "metadata": {},
     "output_type": "execute_result"
    }
   ],
   "source": [
    "df_031 = (\n",
    "    df_receipt\n",
    "    .group_by(\"store_cd\")\n",
    "    .agg(pl.col(\"amount\").std(ddof=0).alias(\"std_amount\"))\n",
    "    .sort(\"std_amount\", descending=True)\n",
    ")\n",
    "df_031.head(5)"
   ]
  },
  {
   "attachments": {},
   "cell_type": "markdown",
   "metadata": {},
   "source": [
    "---\n",
    "> P-032: レシート明細データ（df_receipt）の売上金額（amount）について、25％刻みでパーセンタイル値を求めよ。"
   ]
  },
  {
   "cell_type": "code",
   "execution_count": 38,
   "metadata": {},
   "outputs": [
    {
     "data": {
      "text/html": [
       "<div><style>\n",
       ".dataframe > thead > tr,\n",
       ".dataframe > tbody > tr {\n",
       "  text-align: right;\n",
       "  white-space: pre-wrap;\n",
       "}\n",
       "</style>\n",
       "<small>shape: (1, 5)</small><table border=\"1\" class=\"dataframe\"><thead><tr><th>q_0</th><th>q_25</th><th>q_50</th><th>q_75</th><th>q_100</th></tr><tr><td>f64</td><td>f64</td><td>f64</td><td>f64</td><td>f64</td></tr></thead><tbody><tr><td>10.0</td><td>102.0</td><td>170.0</td><td>288.0</td><td>10925.0</td></tr></tbody></table></div>"
      ],
      "text/plain": [
       "shape: (1, 5)\n",
       "┌──────┬───────┬───────┬───────┬─────────┐\n",
       "│ q_0  ┆ q_25  ┆ q_50  ┆ q_75  ┆ q_100   │\n",
       "│ ---  ┆ ---   ┆ ---   ┆ ---   ┆ ---     │\n",
       "│ f64  ┆ f64   ┆ f64   ┆ f64   ┆ f64     │\n",
       "╞══════╪═══════╪═══════╪═══════╪═════════╡\n",
       "│ 10.0 ┆ 102.0 ┆ 170.0 ┆ 288.0 ┆ 10925.0 │\n",
       "└──────┴───────┴───────┴───────┴─────────┘"
      ]
     },
     "execution_count": 38,
     "metadata": {},
     "output_type": "execute_result"
    }
   ],
   "source": [
    "df_032 = df_receipt.select(\n",
    "    pl.col(\"amount\").quantile(0).alias(\"q_0\"),\n",
    "    pl.col(\"amount\").quantile(0.25).alias(\"q_25\"),\n",
    "    pl.col(\"amount\").quantile(0.50).alias(\"q_50\"),\n",
    "    pl.col(\"amount\").quantile(0.75).alias(\"q_75\"),\n",
    "    pl.col(\"amount\").quantile(1).alias(\"q_100\"),\n",
    ")\n",
    "\n",
    "df_032"
   ]
  },
  {
   "cell_type": "code",
   "execution_count": 39,
   "metadata": {},
   "outputs": [
    {
     "data": {
      "text/html": [
       "<div><style>\n",
       ".dataframe > thead > tr,\n",
       ".dataframe > tbody > tr {\n",
       "  text-align: right;\n",
       "  white-space: pre-wrap;\n",
       "}\n",
       "</style>\n",
       "<small>shape: (1, 5)</small><table border=\"1\" class=\"dataframe\"><thead><tr><th>q_0</th><th>q_25</th><th>q_50</th><th>q_75</th><th>q_100</th></tr><tr><td>f64</td><td>f64</td><td>f64</td><td>f64</td><td>f64</td></tr></thead><tbody><tr><td>10.0</td><td>102.0</td><td>170.0</td><td>288.0</td><td>10925.0</td></tr></tbody></table></div>"
      ],
      "text/plain": [
       "shape: (1, 5)\n",
       "┌──────┬───────┬───────┬───────┬─────────┐\n",
       "│ q_0  ┆ q_25  ┆ q_50  ┆ q_75  ┆ q_100   │\n",
       "│ ---  ┆ ---   ┆ ---   ┆ ---   ┆ ---     │\n",
       "│ f64  ┆ f64   ┆ f64   ┆ f64   ┆ f64     │\n",
       "╞══════╪═══════╪═══════╪═══════╪═════════╡\n",
       "│ 10.0 ┆ 102.0 ┆ 170.0 ┆ 288.0 ┆ 10925.0 │\n",
       "└──────┴───────┴───────┴───────┴─────────┘"
      ]
     },
     "execution_count": 39,
     "metadata": {},
     "output_type": "execute_result"
    }
   ],
   "source": [
    "# for文で作っても可\n",
    "df_032 = (\n",
    "    df_receipt\n",
    "    .select(\n",
    "        [pl.col(\"amount\").quantile(i / 100).alias(f\"q_{i}\") for i in range(0, 101, 25)]\n",
    "    )\n",
    ")\n",
    "\n",
    "df_032"
   ]
  },
  {
   "attachments": {},
   "cell_type": "markdown",
   "metadata": {},
   "source": [
    "---\n",
    "> P-033: レシート明細データ（df_receipt）に対し、店舗コード（store_cd）ごとに売上金額（amount）の平均を計算し、330以上のものを抽出せよ。"
   ]
  },
  {
   "cell_type": "code",
   "execution_count": 40,
   "metadata": {},
   "outputs": [
    {
     "data": {
      "text/html": [
       "<div><style>\n",
       ".dataframe > thead > tr,\n",
       ".dataframe > tbody > tr {\n",
       "  text-align: right;\n",
       "  white-space: pre-wrap;\n",
       "}\n",
       "</style>\n",
       "<small>shape: (13, 2)</small><table border=\"1\" class=\"dataframe\"><thead><tr><th>store_cd</th><th>amount_mean</th></tr><tr><td>str</td><td>f64</td></tr></thead><tbody><tr><td>&quot;S13003&quot;</td><td>350.915519</td></tr><tr><td>&quot;S13020&quot;</td><td>337.879932</td></tr><tr><td>&quot;S14010&quot;</td><td>348.791262</td></tr><tr><td>&quot;S12013&quot;</td><td>330.19413</td></tr><tr><td>&quot;S14045&quot;</td><td>330.082073</td></tr><tr><td>&hellip;</td><td>&hellip;</td></tr><tr><td>&quot;S13001&quot;</td><td>348.470386</td></tr><tr><td>&quot;S14026&quot;</td><td>332.340588</td></tr><tr><td>&quot;S13019&quot;</td><td>330.208616</td></tr><tr><td>&quot;S14047&quot;</td><td>330.077073</td></tr><tr><td>&quot;S14011&quot;</td><td>335.718333</td></tr></tbody></table></div>"
      ],
      "text/plain": [
       "shape: (13, 2)\n",
       "┌──────────┬─────────────┐\n",
       "│ store_cd ┆ amount_mean │\n",
       "│ ---      ┆ ---         │\n",
       "│ str      ┆ f64         │\n",
       "╞══════════╪═════════════╡\n",
       "│ S13003   ┆ 350.915519  │\n",
       "│ S13020   ┆ 337.879932  │\n",
       "│ S14010   ┆ 348.791262  │\n",
       "│ S12013   ┆ 330.19413   │\n",
       "│ S14045   ┆ 330.082073  │\n",
       "│ …        ┆ …           │\n",
       "│ S13001   ┆ 348.470386  │\n",
       "│ S14026   ┆ 332.340588  │\n",
       "│ S13019   ┆ 330.208616  │\n",
       "│ S14047   ┆ 330.077073  │\n",
       "│ S14011   ┆ 335.718333  │\n",
       "└──────────┴─────────────┘"
      ]
     },
     "execution_count": 40,
     "metadata": {},
     "output_type": "execute_result"
    }
   ],
   "source": [
    "df_033 = (\n",
    "    df_receipt\n",
    "    .group_by(\"store_cd\")\n",
    "    .agg(pl.col(\"amount\").mean().alias(\"amount_mean\"))\n",
    "    .filter(pl.col(\"amount_mean\") >= 330)\n",
    ")\n",
    "df_033"
   ]
  },
  {
   "attachments": {},
   "cell_type": "markdown",
   "metadata": {},
   "source": [
    "---\n",
    "> P-034: レシート明細データ（df_receipt）に対し、顧客ID（customer_id）ごとに売上金額（amount）を合計して全顧客の平均を求めよ。ただし、顧客IDが\"Z\"から始まるものは非会員を表すため、除外して計算すること。"
   ]
  },
  {
   "cell_type": "code",
   "execution_count": 41,
   "metadata": {},
   "outputs": [
    {
     "data": {
      "text/html": [
       "<div><style>\n",
       ".dataframe > thead > tr,\n",
       ".dataframe > tbody > tr {\n",
       "  text-align: right;\n",
       "  white-space: pre-wrap;\n",
       "}\n",
       "</style>\n",
       "<small>shape: (1, 1)</small><table border=\"1\" class=\"dataframe\"><thead><tr><th>amount</th></tr><tr><td>f64</td></tr></thead><tbody><tr><td>2547.742235</td></tr></tbody></table></div>"
      ],
      "text/plain": [
       "shape: (1, 1)\n",
       "┌─────────────┐\n",
       "│ amount      │\n",
       "│ ---         │\n",
       "│ f64         │\n",
       "╞═════════════╡\n",
       "│ 2547.742235 │\n",
       "└─────────────┘"
      ]
     },
     "execution_count": 41,
     "metadata": {},
     "output_type": "execute_result"
    }
   ],
   "source": [
    "df_034 = (\n",
    "    df_receipt\n",
    "    .filter(pl.col(\"customer_id\").str.starts_with(\"Z\").not_())\n",
    "    .group_by(\"customer_id\")\n",
    "    .agg(pl.col(\"amount\").sum())\n",
    "    # .mean()\n",
    "    .select(pl.col(\"amount\").mean())\n",
    ")\n",
    "\n",
    "df_034"
   ]
  },
  {
   "attachments": {},
   "cell_type": "markdown",
   "metadata": {},
   "source": [
    "---\n",
    "> P-035: レシート明細データ（df_receipt）に対し、顧客ID（customer_id）ごとに売上金額（amount）を合計して全顧客の平均を求め、平均以上に買い物をしている顧客を抽出し、10件表示せよ。ただし、顧客IDが\"Z\"から始まるものは非会員を表すため、除外して計算すること。"
   ]
  },
  {
   "cell_type": "code",
   "execution_count": 42,
   "metadata": {},
   "outputs": [
    {
     "data": {
      "text/html": [
       "<div><style>\n",
       ".dataframe > thead > tr,\n",
       ".dataframe > tbody > tr {\n",
       "  text-align: right;\n",
       "  white-space: pre-wrap;\n",
       "}\n",
       "</style>\n",
       "<small>shape: (10, 2)</small><table border=\"1\" class=\"dataframe\"><thead><tr><th>customer_id</th><th>amount</th></tr><tr><td>str</td><td>i64</td></tr></thead><tbody><tr><td>&quot;CS001115000010&quot;</td><td>3044</td></tr><tr><td>&quot;CS001205000006&quot;</td><td>3337</td></tr><tr><td>&quot;CS001214000009&quot;</td><td>4685</td></tr><tr><td>&quot;CS001214000017&quot;</td><td>4132</td></tr><tr><td>&quot;CS001214000052&quot;</td><td>5639</td></tr><tr><td>&quot;CS001215000040&quot;</td><td>3496</td></tr><tr><td>&quot;CS001304000006&quot;</td><td>3726</td></tr><tr><td>&quot;CS001305000005&quot;</td><td>3485</td></tr><tr><td>&quot;CS001305000011&quot;</td><td>4370</td></tr><tr><td>&quot;CS001315000180&quot;</td><td>3300</td></tr></tbody></table></div>"
      ],
      "text/plain": [
       "shape: (10, 2)\n",
       "┌────────────────┬────────┐\n",
       "│ customer_id    ┆ amount │\n",
       "│ ---            ┆ ---    │\n",
       "│ str            ┆ i64    │\n",
       "╞════════════════╪════════╡\n",
       "│ CS001115000010 ┆ 3044   │\n",
       "│ CS001205000006 ┆ 3337   │\n",
       "│ CS001214000009 ┆ 4685   │\n",
       "│ CS001214000017 ┆ 4132   │\n",
       "│ CS001214000052 ┆ 5639   │\n",
       "│ CS001215000040 ┆ 3496   │\n",
       "│ CS001304000006 ┆ 3726   │\n",
       "│ CS001305000005 ┆ 3485   │\n",
       "│ CS001305000011 ┆ 4370   │\n",
       "│ CS001315000180 ┆ 3300   │\n",
       "└────────────────┴────────┘"
      ]
     },
     "execution_count": 42,
     "metadata": {},
     "output_type": "execute_result"
    }
   ],
   "source": [
    "df_035 = (\n",
    "    df_receipt\n",
    "    .filter(pl.col(\"customer_id\").str.starts_with(\"Z\").not_())\n",
    "    .group_by(\"customer_id\")\n",
    "    .agg(pl.col(\"amount\").sum())\n",
    "    .with_columns(pl.col(\"amount\").mean().alias(\"avg_amount\"))\n",
    "    .filter(pl.col(\"amount\") >= pl.col(\"avg_amount\"))\n",
    "    .select([\"customer_id\",\"amount\"])\n",
    "    .sort(pl.col(\"customer_id\"))\n",
    ")\n",
    "\n",
    "df_035.head(10)"
   ]
  },
  {
   "attachments": {},
   "cell_type": "markdown",
   "metadata": {},
   "source": [
    "## DataFrameの結合"
   ]
  },
  {
   "attachments": {},
   "cell_type": "markdown",
   "metadata": {},
   "source": [
    "---\n",
    "> P-036: レシート明細データ（df_receipt）と店舗データ（df_store）を内部結合し、レシート明細データの全項目と店舗データの店舗名（store_name）を10件表示せよ。\n",
    "\n",
    "- 内部結合(inner):結合させる両方のDataFrameに存在する結合キー(on)で、一致する項目のみを抽出する結合方法\n",
    "- 左外部結合(left):結合させる両方のDataFrameに存在する結合キー(on)で、基準となるDataFrameを左とする。基準DataFrameはすべての行が出力され、結合されたDataFrameは結合キーの値が基準の結合キーと一致した行のみ出力される\n",
    "- 完全外部結合(outer):結合させる両方のDataFrameに存在する結合キー(on)で、基準となるDataFrameを左とする。基準のDataFrameおよび結合されたDataFrameのすべての行が出力される"
   ]
  },
  {
   "cell_type": "code",
   "execution_count": 43,
   "metadata": {},
   "outputs": [
    {
     "data": {
      "text/html": [
       "<div><style>\n",
       ".dataframe > thead > tr,\n",
       ".dataframe > tbody > tr {\n",
       "  text-align: right;\n",
       "  white-space: pre-wrap;\n",
       "}\n",
       "</style>\n",
       "<small>shape: (10, 10)</small><table border=\"1\" class=\"dataframe\"><thead><tr><th>sales_ymd</th><th>sales_epoch</th><th>store_cd</th><th>receipt_no</th><th>receipt_sub_no</th><th>customer_id</th><th>product_cd</th><th>quantity</th><th>amount</th><th>store_name</th></tr><tr><td>i64</td><td>i64</td><td>str</td><td>i64</td><td>i64</td><td>str</td><td>str</td><td>i64</td><td>i64</td><td>str</td></tr></thead><tbody><tr><td>20181103</td><td>1541203200</td><td>&quot;S14006&quot;</td><td>112</td><td>1</td><td>&quot;CS006214000001&quot;</td><td>&quot;P070305012&quot;</td><td>1</td><td>158</td><td>&quot;葛が谷店&quot;</td></tr><tr><td>20181118</td><td>1542499200</td><td>&quot;S13008&quot;</td><td>1132</td><td>2</td><td>&quot;CS008415000097&quot;</td><td>&quot;P070701017&quot;</td><td>1</td><td>81</td><td>&quot;成城店&quot;</td></tr><tr><td>20170712</td><td>1499817600</td><td>&quot;S14028&quot;</td><td>1102</td><td>1</td><td>&quot;CS028414000014&quot;</td><td>&quot;P060101005&quot;</td><td>1</td><td>170</td><td>&quot;二ツ橋店&quot;</td></tr><tr><td>20190205</td><td>1549324800</td><td>&quot;S14042&quot;</td><td>1132</td><td>1</td><td>&quot;ZZ000000000000&quot;</td><td>&quot;P050301001&quot;</td><td>1</td><td>25</td><td>&quot;新山下店&quot;</td></tr><tr><td>20180821</td><td>1534809600</td><td>&quot;S14025&quot;</td><td>1102</td><td>2</td><td>&quot;CS025415000050&quot;</td><td>&quot;P060102007&quot;</td><td>1</td><td>90</td><td>&quot;大和店&quot;</td></tr><tr><td>20190605</td><td>1559692800</td><td>&quot;S13003&quot;</td><td>1112</td><td>1</td><td>&quot;CS003515000195&quot;</td><td>&quot;P050102002&quot;</td><td>1</td><td>138</td><td>&quot;狛江店&quot;</td></tr><tr><td>20181205</td><td>1543968000</td><td>&quot;S14024&quot;</td><td>1102</td><td>2</td><td>&quot;CS024514000042&quot;</td><td>&quot;P080101005&quot;</td><td>1</td><td>30</td><td>&quot;三田店&quot;</td></tr><tr><td>20190922</td><td>1569110400</td><td>&quot;S14040&quot;</td><td>1102</td><td>1</td><td>&quot;CS040415000178&quot;</td><td>&quot;P070501004&quot;</td><td>1</td><td>128</td><td>&quot;長津田店&quot;</td></tr><tr><td>20170504</td><td>1493856000</td><td>&quot;S13020&quot;</td><td>1112</td><td>2</td><td>&quot;ZZ000000000000&quot;</td><td>&quot;P071302010&quot;</td><td>1</td><td>770</td><td>&quot;十条仲原店&quot;</td></tr><tr><td>20191010</td><td>1570665600</td><td>&quot;S14027&quot;</td><td>1102</td><td>1</td><td>&quot;CS027514000015&quot;</td><td>&quot;P071101003&quot;</td><td>1</td><td>680</td><td>&quot;南藤沢店&quot;</td></tr></tbody></table></div>"
      ],
      "text/plain": [
       "shape: (10, 10)\n",
       "┌───────────┬────────────┬──────────┬────────────┬───┬────────────┬──────────┬────────┬────────────┐\n",
       "│ sales_ymd ┆ sales_epoc ┆ store_cd ┆ receipt_no ┆ … ┆ product_cd ┆ quantity ┆ amount ┆ store_name │\n",
       "│ ---       ┆ h          ┆ ---      ┆ ---        ┆   ┆ ---        ┆ ---      ┆ ---    ┆ ---        │\n",
       "│ i64       ┆ ---        ┆ str      ┆ i64        ┆   ┆ str        ┆ i64      ┆ i64    ┆ str        │\n",
       "│           ┆ i64        ┆          ┆            ┆   ┆            ┆          ┆        ┆            │\n",
       "╞═══════════╪════════════╪══════════╪════════════╪═══╪════════════╪══════════╪════════╪════════════╡\n",
       "│ 20181103  ┆ 1541203200 ┆ S14006   ┆ 112        ┆ … ┆ P070305012 ┆ 1        ┆ 158    ┆ 葛が谷店   │\n",
       "│ 20181118  ┆ 1542499200 ┆ S13008   ┆ 1132       ┆ … ┆ P070701017 ┆ 1        ┆ 81     ┆ 成城店     │\n",
       "│ 20170712  ┆ 1499817600 ┆ S14028   ┆ 1102       ┆ … ┆ P060101005 ┆ 1        ┆ 170    ┆ 二ツ橋店   │\n",
       "│ 20190205  ┆ 1549324800 ┆ S14042   ┆ 1132       ┆ … ┆ P050301001 ┆ 1        ┆ 25     ┆ 新山下店   │\n",
       "│ 20180821  ┆ 1534809600 ┆ S14025   ┆ 1102       ┆ … ┆ P060102007 ┆ 1        ┆ 90     ┆ 大和店     │\n",
       "│ 20190605  ┆ 1559692800 ┆ S13003   ┆ 1112       ┆ … ┆ P050102002 ┆ 1        ┆ 138    ┆ 狛江店     │\n",
       "│ 20181205  ┆ 1543968000 ┆ S14024   ┆ 1102       ┆ … ┆ P080101005 ┆ 1        ┆ 30     ┆ 三田店     │\n",
       "│ 20190922  ┆ 1569110400 ┆ S14040   ┆ 1102       ┆ … ┆ P070501004 ┆ 1        ┆ 128    ┆ 長津田店   │\n",
       "│ 20170504  ┆ 1493856000 ┆ S13020   ┆ 1112       ┆ … ┆ P071302010 ┆ 1        ┆ 770    ┆ 十条仲原店 │\n",
       "│ 20191010  ┆ 1570665600 ┆ S14027   ┆ 1102       ┆ … ┆ P071101003 ┆ 1        ┆ 680    ┆ 南藤沢店   │\n",
       "└───────────┴────────────┴──────────┴────────────┴───┴────────────┴──────────┴────────┴────────────┘"
      ]
     },
     "execution_count": 43,
     "metadata": {},
     "output_type": "execute_result"
    }
   ],
   "source": [
    "df_036 = df_receipt.join(\n",
    "    df_store.select(pl.col(\"store_cd\"), pl.col(\"store_name\")),\n",
    "    how=\"inner\",  # 他に左結合(left)と外部結合(outer)がある 右結合(right)はない。\n",
    "    on=[\"store_cd\"],\n",
    ")  # listまたはstrで渡す(今回はlistを用いた)\n",
    "\n",
    "df_036.head(10)"
   ]
  },
  {
   "attachments": {},
   "cell_type": "markdown",
   "metadata": {},
   "source": [
    "---\n",
    "> P-037: 商品データ（df_product）とカテゴリデータ（df_category）を内部結合し、商品データの全項目とカテゴリデータのカテゴリ小区分名（category_small_name）を10件表示せよ。"
   ]
  },
  {
   "cell_type": "code",
   "execution_count": 44,
   "metadata": {},
   "outputs": [
    {
     "data": {
      "text/html": [
       "<div><style>\n",
       ".dataframe > thead > tr,\n",
       ".dataframe > tbody > tr {\n",
       "  text-align: right;\n",
       "  white-space: pre-wrap;\n",
       "}\n",
       "</style>\n",
       "<small>shape: (10, 7)</small><table border=\"1\" class=\"dataframe\"><thead><tr><th>product_cd</th><th>category_major_cd</th><th>category_medium_cd</th><th>category_small_cd</th><th>unit_price</th><th>unit_cost</th><th>category_small_name</th></tr><tr><td>str</td><td>str</td><td>str</td><td>str</td><td>i64</td><td>i64</td><td>str</td></tr></thead><tbody><tr><td>&quot;P040101001&quot;</td><td>&quot;04&quot;</td><td>&quot;0401&quot;</td><td>&quot;040101&quot;</td><td>198</td><td>149</td><td>&quot;弁当類&quot;</td></tr><tr><td>&quot;P040101002&quot;</td><td>&quot;04&quot;</td><td>&quot;0401&quot;</td><td>&quot;040101&quot;</td><td>218</td><td>164</td><td>&quot;弁当類&quot;</td></tr><tr><td>&quot;P040101003&quot;</td><td>&quot;04&quot;</td><td>&quot;0401&quot;</td><td>&quot;040101&quot;</td><td>230</td><td>173</td><td>&quot;弁当類&quot;</td></tr><tr><td>&quot;P040101004&quot;</td><td>&quot;04&quot;</td><td>&quot;0401&quot;</td><td>&quot;040101&quot;</td><td>248</td><td>186</td><td>&quot;弁当類&quot;</td></tr><tr><td>&quot;P040101005&quot;</td><td>&quot;04&quot;</td><td>&quot;0401&quot;</td><td>&quot;040101&quot;</td><td>268</td><td>201</td><td>&quot;弁当類&quot;</td></tr><tr><td>&quot;P040101006&quot;</td><td>&quot;04&quot;</td><td>&quot;0401&quot;</td><td>&quot;040101&quot;</td><td>298</td><td>224</td><td>&quot;弁当類&quot;</td></tr><tr><td>&quot;P040101007&quot;</td><td>&quot;04&quot;</td><td>&quot;0401&quot;</td><td>&quot;040101&quot;</td><td>338</td><td>254</td><td>&quot;弁当類&quot;</td></tr><tr><td>&quot;P040101008&quot;</td><td>&quot;04&quot;</td><td>&quot;0401&quot;</td><td>&quot;040101&quot;</td><td>420</td><td>315</td><td>&quot;弁当類&quot;</td></tr><tr><td>&quot;P040101009&quot;</td><td>&quot;04&quot;</td><td>&quot;0401&quot;</td><td>&quot;040101&quot;</td><td>498</td><td>374</td><td>&quot;弁当類&quot;</td></tr><tr><td>&quot;P040101010&quot;</td><td>&quot;04&quot;</td><td>&quot;0401&quot;</td><td>&quot;040101&quot;</td><td>580</td><td>435</td><td>&quot;弁当類&quot;</td></tr></tbody></table></div>"
      ],
      "text/plain": [
       "shape: (10, 7)\n",
       "┌────────────┬───────────────┬──────────────┬──────────────┬────────────┬───────────┬──────────────┐\n",
       "│ product_cd ┆ category_majo ┆ category_med ┆ category_sma ┆ unit_price ┆ unit_cost ┆ category_sma │\n",
       "│ ---        ┆ r_cd          ┆ ium_cd       ┆ ll_cd        ┆ ---        ┆ ---       ┆ ll_name      │\n",
       "│ str        ┆ ---           ┆ ---          ┆ ---          ┆ i64        ┆ i64       ┆ ---          │\n",
       "│            ┆ str           ┆ str          ┆ str          ┆            ┆           ┆ str          │\n",
       "╞════════════╪═══════════════╪══════════════╪══════════════╪════════════╪═══════════╪══════════════╡\n",
       "│ P040101001 ┆ 04            ┆ 0401         ┆ 040101       ┆ 198        ┆ 149       ┆ 弁当類       │\n",
       "│ P040101002 ┆ 04            ┆ 0401         ┆ 040101       ┆ 218        ┆ 164       ┆ 弁当類       │\n",
       "│ P040101003 ┆ 04            ┆ 0401         ┆ 040101       ┆ 230        ┆ 173       ┆ 弁当類       │\n",
       "│ P040101004 ┆ 04            ┆ 0401         ┆ 040101       ┆ 248        ┆ 186       ┆ 弁当類       │\n",
       "│ P040101005 ┆ 04            ┆ 0401         ┆ 040101       ┆ 268        ┆ 201       ┆ 弁当類       │\n",
       "│ P040101006 ┆ 04            ┆ 0401         ┆ 040101       ┆ 298        ┆ 224       ┆ 弁当類       │\n",
       "│ P040101007 ┆ 04            ┆ 0401         ┆ 040101       ┆ 338        ┆ 254       ┆ 弁当類       │\n",
       "│ P040101008 ┆ 04            ┆ 0401         ┆ 040101       ┆ 420        ┆ 315       ┆ 弁当類       │\n",
       "│ P040101009 ┆ 04            ┆ 0401         ┆ 040101       ┆ 498        ┆ 374       ┆ 弁当類       │\n",
       "│ P040101010 ┆ 04            ┆ 0401         ┆ 040101       ┆ 580        ┆ 435       ┆ 弁当類       │\n",
       "└────────────┴───────────────┴──────────────┴──────────────┴────────────┴───────────┴──────────────┘"
      ]
     },
     "execution_count": 44,
     "metadata": {},
     "output_type": "execute_result"
    }
   ],
   "source": [
    "df_037 = df_product.join(\n",
    "    other=df_category.select(\"category_small_cd\", \"category_small_name\"),\n",
    "    how=\"inner\",\n",
    "    on=\"category_small_cd\",\n",
    ")\n",
    "\n",
    "df_037.head(10)"
   ]
  },
  {
   "attachments": {},
   "cell_type": "markdown",
   "metadata": {},
   "source": [
    "---\n",
    "> P-038: 顧客データ（df_customer）とレシート明細データ（df_receipt）から、顧客ごとの売上金額合計を求め、10件表示せよ。ただし、売上実績がない顧客については売上金額を0として表示させること。また、顧客は性別コード（gender_cd）が女性（1）であるものを対象とし、非会員（顧客IDが\"Z\"から始まるもの）は除外すること。"
   ]
  },
  {
   "cell_type": "code",
   "execution_count": 45,
   "metadata": {},
   "outputs": [
    {
     "data": {
      "text/html": [
       "<div><style>\n",
       ".dataframe > thead > tr,\n",
       ".dataframe > tbody > tr {\n",
       "  text-align: right;\n",
       "  white-space: pre-wrap;\n",
       "}\n",
       "</style>\n",
       "<small>shape: (10, 2)</small><table border=\"1\" class=\"dataframe\"><thead><tr><th>customer_id</th><th>amount</th></tr><tr><td>str</td><td>i64</td></tr></thead><tbody><tr><td>&quot;CS040312000106&quot;</td><td>0</td></tr><tr><td>&quot;CS024512000035&quot;</td><td>1508</td></tr><tr><td>&quot;CS031313000176&quot;</td><td>0</td></tr><tr><td>&quot;CS020715000046&quot;</td><td>0</td></tr><tr><td>&quot;CS001713000046&quot;</td><td>0</td></tr><tr><td>&quot;CS037415000254&quot;</td><td>6352</td></tr><tr><td>&quot;CS035514000090&quot;</td><td>0</td></tr><tr><td>&quot;CS029512000100&quot;</td><td>621</td></tr><tr><td>&quot;CS039215000028&quot;</td><td>2636</td></tr><tr><td>&quot;CS023311000013&quot;</td><td>256</td></tr></tbody></table></div>"
      ],
      "text/plain": [
       "shape: (10, 2)\n",
       "┌────────────────┬────────┐\n",
       "│ customer_id    ┆ amount │\n",
       "│ ---            ┆ ---    │\n",
       "│ str            ┆ i64    │\n",
       "╞════════════════╪════════╡\n",
       "│ CS040312000106 ┆ 0      │\n",
       "│ CS024512000035 ┆ 1508   │\n",
       "│ CS031313000176 ┆ 0      │\n",
       "│ CS020715000046 ┆ 0      │\n",
       "│ CS001713000046 ┆ 0      │\n",
       "│ CS037415000254 ┆ 6352   │\n",
       "│ CS035514000090 ┆ 0      │\n",
       "│ CS029512000100 ┆ 621    │\n",
       "│ CS039215000028 ┆ 2636   │\n",
       "│ CS023311000013 ┆ 256    │\n",
       "└────────────────┴────────┘"
      ]
     },
     "execution_count": 45,
     "metadata": {},
     "output_type": "execute_result"
    }
   ],
   "source": [
    "df_038 = (\n",
    "    df_customer\n",
    "    .join(df_receipt, how=\"left\", on=\"customer_id\")\n",
    "    .filter(\n",
    "        (pl.col(\"gender_cd\") == \"1\")\n",
    "        & (pl.col(\"customer_id\").str.starts_with(\"Z\")).not_()\n",
    "    )\n",
    "    .group_by(\"customer_id\")\n",
    "    .agg(pl.col(\"amount\").sum().fill_null(0))\n",
    ")\n",
    "\n",
    "df_038.head(10)"
   ]
  },
  {
   "attachments": {},
   "cell_type": "markdown",
   "metadata": {},
   "source": [
    "---\n",
    "> P-039: レシート明細データ（df_receipt）から、売上日数の多い顧客の上位20件を抽出したデータと、売上金額合計の多い顧客の上位20件を抽出したデータをそれぞれ作成し、さらにその2つを完全外部結合せよ。ただし、非会員（顧客IDが\"Z\"から始まるもの）は除外すること。"
   ]
  },
  {
   "cell_type": "code",
   "execution_count": 46,
   "metadata": {},
   "outputs": [
    {
     "data": {
      "text/html": [
       "<div><style>\n",
       ".dataframe > thead > tr,\n",
       ".dataframe > tbody > tr {\n",
       "  text-align: right;\n",
       "  white-space: pre-wrap;\n",
       "}\n",
       "</style>\n",
       "<small>shape: (34, 4)</small><table border=\"1\" class=\"dataframe\"><thead><tr><th>customer_id</th><th>sales_count</th><th>customer_id_right</th><th>amount_sum</th></tr><tr><td>str</td><td>u32</td><td>str</td><td>i64</td></tr></thead><tbody><tr><td>null</td><td>null</td><td>&quot;CS001605000009&quot;</td><td>18925</td></tr><tr><td>null</td><td>null</td><td>&quot;CS006515000023&quot;</td><td>18372</td></tr><tr><td>null</td><td>null</td><td>&quot;CS011414000106&quot;</td><td>18338</td></tr><tr><td>null</td><td>null</td><td>&quot;CS038415000104&quot;</td><td>17847</td></tr><tr><td>null</td><td>null</td><td>&quot;CS035414000024&quot;</td><td>17615</td></tr><tr><td>&hellip;</td><td>&hellip;</td><td>&hellip;</td><td>&hellip;</td></tr><tr><td>&quot;CS030214000008&quot;</td><td>18</td><td>null</td><td>null</td></tr><tr><td>&quot;CS021515000056&quot;</td><td>18</td><td>null</td><td>null</td></tr><tr><td>&quot;CS022515000028&quot;</td><td>18</td><td>null</td><td>null</td></tr><tr><td>&quot;CS032415000209&quot;</td><td>18</td><td>null</td><td>null</td></tr><tr><td>&quot;CS031414000073&quot;</td><td>18</td><td>null</td><td>null</td></tr></tbody></table></div>"
      ],
      "text/plain": [
       "shape: (34, 4)\n",
       "┌────────────────┬─────────────┬───────────────────┬────────────┐\n",
       "│ customer_id    ┆ sales_count ┆ customer_id_right ┆ amount_sum │\n",
       "│ ---            ┆ ---         ┆ ---               ┆ ---        │\n",
       "│ str            ┆ u32         ┆ str               ┆ i64        │\n",
       "╞════════════════╪═════════════╪═══════════════════╪════════════╡\n",
       "│ null           ┆ null        ┆ CS001605000009    ┆ 18925      │\n",
       "│ null           ┆ null        ┆ CS006515000023    ┆ 18372      │\n",
       "│ null           ┆ null        ┆ CS011414000106    ┆ 18338      │\n",
       "│ null           ┆ null        ┆ CS038415000104    ┆ 17847      │\n",
       "│ null           ┆ null        ┆ CS035414000024    ┆ 17615      │\n",
       "│ …              ┆ …           ┆ …                 ┆ …          │\n",
       "│ CS030214000008 ┆ 18          ┆ null              ┆ null       │\n",
       "│ CS021515000056 ┆ 18          ┆ null              ┆ null       │\n",
       "│ CS022515000028 ┆ 18          ┆ null              ┆ null       │\n",
       "│ CS032415000209 ┆ 18          ┆ null              ┆ null       │\n",
       "│ CS031414000073 ┆ 18          ┆ null              ┆ null       │\n",
       "└────────────────┴─────────────┴───────────────────┴────────────┘"
      ]
     },
     "execution_count": 46,
     "metadata": {},
     "output_type": "execute_result"
    }
   ],
   "source": [
    "df_cnt = (\n",
    "    df_receipt\n",
    "    .filter((pl.col(\"customer_id\").str.starts_with(\"Z\")).not_())\n",
    "    .group_by(\"customer_id\")\n",
    "    .agg(pl.col(\"sales_ymd\").n_unique().alias(\"sales_count\"))\n",
    "    .sort(\"sales_count\", descending=True)\n",
    "    .head(20)\n",
    ")\n",
    "\n",
    "df_sum = (\n",
    "    df_receipt.filter((pl.col(\"customer_id\").str.starts_with(\"Z\")).not_())\n",
    "    .group_by(\"customer_id\")\n",
    "    .agg(pl.col(\"amount\").sum().alias(\"amount_sum\"))\n",
    "    .sort(\"amount_sum\", descending=True)\n",
    "    .head(20)\n",
    ")\n",
    "\n",
    "df_039 = df_cnt.join(df_sum, how=\"full\", on=\"customer_id\").sort(\n",
    "    \"sales_count\", descending=True\n",
    ")\n",
    "\n",
    "df_039"
   ]
  },
  {
   "attachments": {},
   "cell_type": "markdown",
   "metadata": {},
   "source": [
    "---\n",
    "> P-040: 全ての店舗と全ての商品を組み合わせたデータを作成したい。店舗データ（df_store）と商品データ（df_product）を直積し、件数を計算せよ。"
   ]
  },
  {
   "cell_type": "code",
   "execution_count": 47,
   "metadata": {},
   "outputs": [
    {
     "name": "stdout",
     "output_type": "stream",
     "text": [
      "(53, 10) 53\n",
      "(10030, 6) 10030\n"
     ]
    },
    {
     "data": {
      "text/html": [
       "<div><style>\n",
       ".dataframe > thead > tr,\n",
       ".dataframe > tbody > tr {\n",
       "  text-align: right;\n",
       "  white-space: pre-wrap;\n",
       "}\n",
       "</style>\n",
       "<small>shape: (10, 18)</small><table border=\"1\" class=\"dataframe\"><thead><tr><th>store_cd</th><th>store_name</th><th>prefecture_cd</th><th>prefecture</th><th>address</th><th>address_kana</th><th>tel_no</th><th>longitude</th><th>latitude</th><th>floor_area</th><th>key</th><th>product_cd</th><th>category_major_cd</th><th>category_medium_cd</th><th>category_small_cd</th><th>unit_price</th><th>unit_cost</th><th>key_right</th></tr><tr><td>str</td><td>str</td><td>str</td><td>str</td><td>str</td><td>str</td><td>str</td><td>f64</td><td>f64</td><td>f64</td><td>i32</td><td>str</td><td>str</td><td>str</td><td>str</td><td>i64</td><td>i64</td><td>i32</td></tr></thead><tbody><tr><td>&quot;S12014&quot;</td><td>&quot;千草台店&quot;</td><td>&quot;12&quot;</td><td>&quot;千葉県&quot;</td><td>&quot;千葉県千葉市稲毛区千草台一丁目&quot;</td><td>&quot;チバケンチバシイナゲクチグサダイイッチョウメ&quot;</td><td>&quot;043-123-4003&quot;</td><td>140.118</td><td>35.63559</td><td>1698.0</td><td>0</td><td>&quot;P040101001&quot;</td><td>&quot;04&quot;</td><td>&quot;0401&quot;</td><td>&quot;040101&quot;</td><td>198</td><td>149</td><td>0</td></tr><tr><td>&quot;S13002&quot;</td><td>&quot;国分寺店&quot;</td><td>&quot;13&quot;</td><td>&quot;東京都&quot;</td><td>&quot;東京都国分寺市本多二丁目&quot;</td><td>&quot;トウキョウトコクブンジシホンダニチョウメ&quot;</td><td>&quot;042-123-4008&quot;</td><td>139.4802</td><td>35.70566</td><td>1735.0</td><td>0</td><td>&quot;P040101001&quot;</td><td>&quot;04&quot;</td><td>&quot;0401&quot;</td><td>&quot;040101&quot;</td><td>198</td><td>149</td><td>0</td></tr><tr><td>&quot;S14010&quot;</td><td>&quot;菊名店&quot;</td><td>&quot;14&quot;</td><td>&quot;神奈川県&quot;</td><td>&quot;神奈川県横浜市港北区菊名一丁目&quot;</td><td>&quot;カナガワケンヨコハマシコウホククキクナイッチョウメ&quot;</td><td>&quot;045-123-4032&quot;</td><td>139.6326</td><td>35.50049</td><td>1732.0</td><td>0</td><td>&quot;P040101001&quot;</td><td>&quot;04&quot;</td><td>&quot;0401&quot;</td><td>&quot;040101&quot;</td><td>198</td><td>149</td><td>0</td></tr><tr><td>&quot;S14033&quot;</td><td>&quot;阿久和店&quot;</td><td>&quot;14&quot;</td><td>&quot;神奈川県&quot;</td><td>&quot;神奈川県横浜市瀬谷区阿久和西一丁目&quot;</td><td>&quot;カナガワケンヨコハマシセヤクアクワニシイッチョウメ&quot;</td><td>&quot;045-123-4043&quot;</td><td>139.4961</td><td>35.45918</td><td>1495.0</td><td>0</td><td>&quot;P040101001&quot;</td><td>&quot;04&quot;</td><td>&quot;0401&quot;</td><td>&quot;040101&quot;</td><td>198</td><td>149</td><td>0</td></tr><tr><td>&quot;S14036&quot;</td><td>&quot;相模原中央店&quot;</td><td>&quot;14&quot;</td><td>&quot;神奈川県&quot;</td><td>&quot;神奈川県相模原市中央二丁目&quot;</td><td>&quot;カナガワケンサガミハラシチュウオウニチョウメ&quot;</td><td>&quot;042-123-4045&quot;</td><td>139.3716</td><td>35.57327</td><td>1679.0</td><td>0</td><td>&quot;P040101001&quot;</td><td>&quot;04&quot;</td><td>&quot;0401&quot;</td><td>&quot;040101&quot;</td><td>198</td><td>149</td><td>0</td></tr><tr><td>&quot;S13051&quot;</td><td>&quot;板橋大原店&quot;</td><td>&quot;13&quot;</td><td>&quot;東京都&quot;</td><td>&quot;東京都板橋区大原町&quot;</td><td>&quot;トウキョウトイタバシクオオハラチョウ&quot;</td><td>&quot;03-0123-4029&quot;</td><td>139.698</td><td>35.76788</td><td>1045.0</td><td>0</td><td>&quot;P040101001&quot;</td><td>&quot;04&quot;</td><td>&quot;0401&quot;</td><td>&quot;040101&quot;</td><td>198</td><td>149</td><td>0</td></tr><tr><td>&quot;S13015&quot;</td><td>&quot;南砂店&quot;</td><td>&quot;13&quot;</td><td>&quot;東京都&quot;</td><td>&quot;東京都江東区南砂二丁目&quot;</td><td>&quot;トウキョウトコウトウクミナミスナニチョウメ&quot;</td><td>&quot;03-0123-4014&quot;</td><td>139.8229</td><td>35.67066</td><td>1337.0</td><td>0</td><td>&quot;P040101001&quot;</td><td>&quot;04&quot;</td><td>&quot;0401&quot;</td><td>&quot;040101&quot;</td><td>198</td><td>149</td><td>0</td></tr><tr><td>&quot;S14040&quot;</td><td>&quot;長津田店&quot;</td><td>&quot;14&quot;</td><td>&quot;神奈川県&quot;</td><td>&quot;神奈川県横浜市緑区長津田みなみ台五丁目&quot;</td><td>&quot;カナガワケンヨコハマシミドリクナガツタミナミダイゴチョウメ&quot;</td><td>&quot;045-123-4046&quot;</td><td>139.4994</td><td>35.52398</td><td>1548.0</td><td>0</td><td>&quot;P040101001&quot;</td><td>&quot;04&quot;</td><td>&quot;0401&quot;</td><td>&quot;040101&quot;</td><td>198</td><td>149</td><td>0</td></tr><tr><td>&quot;S13044&quot;</td><td>&quot;南六郷店&quot;</td><td>&quot;13&quot;</td><td>&quot;東京都&quot;</td><td>&quot;東京都大田区南六郷二丁目&quot;</td><td>&quot;トウキョウトオオタクミナミロクゴウニチョウメ&quot;</td><td>&quot;03-0123-4028&quot;</td><td>139.7207</td><td>35.54604</td><td>1379.0</td><td>0</td><td>&quot;P040101001&quot;</td><td>&quot;04&quot;</td><td>&quot;0401&quot;</td><td>&quot;040101&quot;</td><td>198</td><td>149</td><td>0</td></tr><tr><td>&quot;S14050&quot;</td><td>&quot;阿久和西店&quot;</td><td>&quot;14&quot;</td><td>&quot;神奈川県&quot;</td><td>&quot;神奈川県横浜市瀬谷区阿久和西一丁目&quot;</td><td>&quot;カナガワケンヨコハマシセヤクアクワニシイッチョウメ&quot;</td><td>&quot;045-123-4053&quot;</td><td>139.4961</td><td>35.45918</td><td>1830.0</td><td>0</td><td>&quot;P040101001&quot;</td><td>&quot;04&quot;</td><td>&quot;0401&quot;</td><td>&quot;040101&quot;</td><td>198</td><td>149</td><td>0</td></tr></tbody></table></div>"
      ],
      "text/plain": [
       "shape: (10, 18)\n",
       "┌──────────┬───────────┬───────────┬───────────┬───┬───────────┬───────────┬───────────┬───────────┐\n",
       "│ store_cd ┆ store_nam ┆ prefectur ┆ prefectur ┆ … ┆ category_ ┆ unit_pric ┆ unit_cost ┆ key_right │\n",
       "│ ---      ┆ e         ┆ e_cd      ┆ e         ┆   ┆ small_cd  ┆ e         ┆ ---       ┆ ---       │\n",
       "│ str      ┆ ---       ┆ ---       ┆ ---       ┆   ┆ ---       ┆ ---       ┆ i64       ┆ i32       │\n",
       "│          ┆ str       ┆ str       ┆ str       ┆   ┆ str       ┆ i64       ┆           ┆           │\n",
       "╞══════════╪═══════════╪═══════════╪═══════════╪═══╪═══════════╪═══════════╪═══════════╪═══════════╡\n",
       "│ S12014   ┆ 千草台店  ┆ 12        ┆ 千葉県    ┆ … ┆ 040101    ┆ 198       ┆ 149       ┆ 0         │\n",
       "│ S13002   ┆ 国分寺店  ┆ 13        ┆ 東京都    ┆ … ┆ 040101    ┆ 198       ┆ 149       ┆ 0         │\n",
       "│ S14010   ┆ 菊名店    ┆ 14        ┆ 神奈川県  ┆ … ┆ 040101    ┆ 198       ┆ 149       ┆ 0         │\n",
       "│ S14033   ┆ 阿久和店  ┆ 14        ┆ 神奈川県  ┆ … ┆ 040101    ┆ 198       ┆ 149       ┆ 0         │\n",
       "│ S14036   ┆ 相模原中  ┆ 14        ┆ 神奈川県  ┆ … ┆ 040101    ┆ 198       ┆ 149       ┆ 0         │\n",
       "│          ┆ 央店      ┆           ┆           ┆   ┆           ┆           ┆           ┆           │\n",
       "│ S13051   ┆ 板橋大原  ┆ 13        ┆ 東京都    ┆ … ┆ 040101    ┆ 198       ┆ 149       ┆ 0         │\n",
       "│          ┆ 店        ┆           ┆           ┆   ┆           ┆           ┆           ┆           │\n",
       "│ S13015   ┆ 南砂店    ┆ 13        ┆ 東京都    ┆ … ┆ 040101    ┆ 198       ┆ 149       ┆ 0         │\n",
       "│ S14040   ┆ 長津田店  ┆ 14        ┆ 神奈川県  ┆ … ┆ 040101    ┆ 198       ┆ 149       ┆ 0         │\n",
       "│ S13044   ┆ 南六郷店  ┆ 13        ┆ 東京都    ┆ … ┆ 040101    ┆ 198       ┆ 149       ┆ 0         │\n",
       "│ S14050   ┆ 阿久和西  ┆ 14        ┆ 神奈川県  ┆ … ┆ 040101    ┆ 198       ┆ 149       ┆ 0         │\n",
       "│          ┆ 店        ┆           ┆           ┆   ┆           ┆           ┆           ┆           │\n",
       "└──────────┴───────────┴───────────┴───────────┴───┴───────────┴───────────┴───────────┴───────────┘"
      ]
     },
     "execution_count": 47,
     "metadata": {},
     "output_type": "execute_result"
    }
   ],
   "source": [
    "df_040 = (\n",
    "    df_store\n",
    "    .with_columns(pl.lit(0).alias(\"key\"))\n",
    "    .join(\n",
    "        df_product.with_columns(pl.lit(0).alias(\"key\")),\n",
    "        on=\"key\", how=\"full\"\n",
    "    )\n",
    ")\n",
    "\n",
    "print(df_store.shape, len(df_store))\n",
    "print(df_product.shape, len(df_product))\n",
    "len(df_040)\n",
    "\n",
    "df_040.head(10)"
   ]
  },
  {
   "attachments": {},
   "cell_type": "markdown",
   "metadata": {},
   "source": [
    "---\n",
    "> P-041: レシート明細データ（df_receipt）の売上金額（amount）を日付（sales_ymd）ごとに集計し、前回売上があった日からの売上金額増減を計算せよ。そして結果を10件表示せよ。"
   ]
  },
  {
   "cell_type": "code",
   "execution_count": 48,
   "metadata": {},
   "outputs": [
    {
     "data": {
      "text/html": [
       "<div><style>\n",
       ".dataframe > thead > tr,\n",
       ".dataframe > tbody > tr {\n",
       "  text-align: right;\n",
       "  white-space: pre-wrap;\n",
       "}\n",
       "</style>\n",
       "<small>shape: (10, 3)</small><table border=\"1\" class=\"dataframe\"><thead><tr><th>sales_ymd</th><th>amount</th><th>diff_amount</th></tr><tr><td>i64</td><td>i64</td><td>i64</td></tr></thead><tbody><tr><td>20170101</td><td>33723</td><td>null</td></tr><tr><td>20170102</td><td>24165</td><td>-9558</td></tr><tr><td>20170103</td><td>27503</td><td>3338</td></tr><tr><td>20170104</td><td>36165</td><td>8662</td></tr><tr><td>20170105</td><td>37830</td><td>1665</td></tr><tr><td>20170106</td><td>32387</td><td>-5443</td></tr><tr><td>20170107</td><td>23415</td><td>-8972</td></tr><tr><td>20170108</td><td>24737</td><td>1322</td></tr><tr><td>20170109</td><td>26718</td><td>1981</td></tr><tr><td>20170110</td><td>20143</td><td>-6575</td></tr></tbody></table></div>"
      ],
      "text/plain": [
       "shape: (10, 3)\n",
       "┌───────────┬────────┬─────────────┐\n",
       "│ sales_ymd ┆ amount ┆ diff_amount │\n",
       "│ ---       ┆ ---    ┆ ---         │\n",
       "│ i64       ┆ i64    ┆ i64         │\n",
       "╞═══════════╪════════╪═════════════╡\n",
       "│ 20170101  ┆ 33723  ┆ null        │\n",
       "│ 20170102  ┆ 24165  ┆ -9558       │\n",
       "│ 20170103  ┆ 27503  ┆ 3338        │\n",
       "│ 20170104  ┆ 36165  ┆ 8662        │\n",
       "│ 20170105  ┆ 37830  ┆ 1665        │\n",
       "│ 20170106  ┆ 32387  ┆ -5443       │\n",
       "│ 20170107  ┆ 23415  ┆ -8972       │\n",
       "│ 20170108  ┆ 24737  ┆ 1322        │\n",
       "│ 20170109  ┆ 26718  ┆ 1981        │\n",
       "│ 20170110  ┆ 20143  ┆ -6575       │\n",
       "└───────────┴────────┴─────────────┘"
      ]
     },
     "execution_count": 48,
     "metadata": {},
     "output_type": "execute_result"
    }
   ],
   "source": [
    "df_041 = (\n",
    "    df_receipt\n",
    "    .group_by(\"sales_ymd\")\n",
    "    .agg(pl.col(\"amount\").sum())\n",
    "    .sort(\"sales_ymd\")\n",
    "    # polarsにはindexという概念がないため、shift()を用いて場所を指定する\n",
    "    .with_columns(\n",
    "        (pl.col(\"amount\") - pl.col(\"amount\").shift(n=1)).alias(\"diff_amount\")\n",
    "    )\n",
    ")\n",
    "\n",
    "df_041.head(10)"
   ]
  },
  {
   "attachments": {},
   "cell_type": "markdown",
   "metadata": {},
   "source": [
    "---\n",
    "> P-042: レシート明細データ（df_receipt）の売上金額（amount）を日付（sales_ymd）ごとに集計し、各日付のデータに対し、前回、前々回、3回前に売上があった日のデータを結合せよ。そして結果を10件表示せよ。"
   ]
  },
  {
   "cell_type": "code",
   "execution_count": 49,
   "metadata": {},
   "outputs": [
    {
     "data": {
      "text/html": [
       "<div><style>\n",
       ".dataframe > thead > tr,\n",
       ".dataframe > tbody > tr {\n",
       "  text-align: right;\n",
       "  white-space: pre-wrap;\n",
       "}\n",
       "</style>\n",
       "<small>shape: (10, 8)</small><table border=\"1\" class=\"dataframe\"><thead><tr><th>sales_ymd</th><th>amount</th><th>sales_ymd_lag1</th><th>sales_ymd_lag2</th><th>sales_ymd_lag3</th><th>amount_lag1</th><th>amount_lag2</th><th>amount_lag3</th></tr><tr><td>i64</td><td>i64</td><td>i64</td><td>i64</td><td>i64</td><td>i64</td><td>i64</td><td>i64</td></tr></thead><tbody><tr><td>20170104</td><td>36165</td><td>20170103</td><td>20170102</td><td>20170101</td><td>27503</td><td>24165</td><td>33723</td></tr><tr><td>20170105</td><td>37830</td><td>20170104</td><td>20170103</td><td>20170102</td><td>36165</td><td>27503</td><td>24165</td></tr><tr><td>20170106</td><td>32387</td><td>20170105</td><td>20170104</td><td>20170103</td><td>37830</td><td>36165</td><td>27503</td></tr><tr><td>20170107</td><td>23415</td><td>20170106</td><td>20170105</td><td>20170104</td><td>32387</td><td>37830</td><td>36165</td></tr><tr><td>20170108</td><td>24737</td><td>20170107</td><td>20170106</td><td>20170105</td><td>23415</td><td>32387</td><td>37830</td></tr><tr><td>20170109</td><td>26718</td><td>20170108</td><td>20170107</td><td>20170106</td><td>24737</td><td>23415</td><td>32387</td></tr><tr><td>20170110</td><td>20143</td><td>20170109</td><td>20170108</td><td>20170107</td><td>26718</td><td>24737</td><td>23415</td></tr><tr><td>20170111</td><td>24287</td><td>20170110</td><td>20170109</td><td>20170108</td><td>20143</td><td>26718</td><td>24737</td></tr><tr><td>20170112</td><td>23526</td><td>20170111</td><td>20170110</td><td>20170109</td><td>24287</td><td>20143</td><td>26718</td></tr><tr><td>20170113</td><td>28004</td><td>20170112</td><td>20170111</td><td>20170110</td><td>23526</td><td>24287</td><td>20143</td></tr></tbody></table></div>"
      ],
      "text/plain": [
       "shape: (10, 8)\n",
       "┌───────────┬────────┬────────────┬────────────┬────────────┬────────────┬────────────┬────────────┐\n",
       "│ sales_ymd ┆ amount ┆ sales_ymd_ ┆ sales_ymd_ ┆ sales_ymd_ ┆ amount_lag ┆ amount_lag ┆ amount_lag │\n",
       "│ ---       ┆ ---    ┆ lag1       ┆ lag2       ┆ lag3       ┆ 1          ┆ 2          ┆ 3          │\n",
       "│ i64       ┆ i64    ┆ ---        ┆ ---        ┆ ---        ┆ ---        ┆ ---        ┆ ---        │\n",
       "│           ┆        ┆ i64        ┆ i64        ┆ i64        ┆ i64        ┆ i64        ┆ i64        │\n",
       "╞═══════════╪════════╪════════════╪════════════╪════════════╪════════════╪════════════╪════════════╡\n",
       "│ 20170104  ┆ 36165  ┆ 20170103   ┆ 20170102   ┆ 20170101   ┆ 27503      ┆ 24165      ┆ 33723      │\n",
       "│ 20170105  ┆ 37830  ┆ 20170104   ┆ 20170103   ┆ 20170102   ┆ 36165      ┆ 27503      ┆ 24165      │\n",
       "│ 20170106  ┆ 32387  ┆ 20170105   ┆ 20170104   ┆ 20170103   ┆ 37830      ┆ 36165      ┆ 27503      │\n",
       "│ 20170107  ┆ 23415  ┆ 20170106   ┆ 20170105   ┆ 20170104   ┆ 32387      ┆ 37830      ┆ 36165      │\n",
       "│ 20170108  ┆ 24737  ┆ 20170107   ┆ 20170106   ┆ 20170105   ┆ 23415      ┆ 32387      ┆ 37830      │\n",
       "│ 20170109  ┆ 26718  ┆ 20170108   ┆ 20170107   ┆ 20170106   ┆ 24737      ┆ 23415      ┆ 32387      │\n",
       "│ 20170110  ┆ 20143  ┆ 20170109   ┆ 20170108   ┆ 20170107   ┆ 26718      ┆ 24737      ┆ 23415      │\n",
       "│ 20170111  ┆ 24287  ┆ 20170110   ┆ 20170109   ┆ 20170108   ┆ 20143      ┆ 26718      ┆ 24737      │\n",
       "│ 20170112  ┆ 23526  ┆ 20170111   ┆ 20170110   ┆ 20170109   ┆ 24287      ┆ 20143      ┆ 26718      │\n",
       "│ 20170113  ┆ 28004  ┆ 20170112   ┆ 20170111   ┆ 20170110   ┆ 23526      ┆ 24287      ┆ 20143      │\n",
       "└───────────┴────────┴────────────┴────────────┴────────────┴────────────┴────────────┴────────────┘"
      ]
     },
     "execution_count": 49,
     "metadata": {},
     "output_type": "execute_result"
    }
   ],
   "source": [
    "# filterでnull削除\n",
    "df_042 = (\n",
    "    df_receipt\n",
    "    .group_by(\"sales_ymd\")\n",
    "    .agg(pl.col(\"amount\").sum())\n",
    "    .sort(pl.col(\"sales_ymd\"))\n",
    "    .with_columns(\n",
    "        [pl.col(\"sales_ymd\").shift(i).alias(f\"sales_ymd_lag{i}\") for i in range(1, 4)]\n",
    "    )\n",
    "    .with_columns(\n",
    "        [pl.col(\"amount\").shift(i).alias(f\"amount_lag{i}\") for i in range(1, 4)]\n",
    "    )\n",
    "    .filter(pl.col(\"sales_ymd_lag3\").is_not_null())\n",
    ")\n",
    "\n",
    "df_042.head(10)"
   ]
  },
  {
   "cell_type": "code",
   "execution_count": 50,
   "metadata": {},
   "outputs": [
    {
     "data": {
      "text/html": [
       "<div><style>\n",
       ".dataframe > thead > tr,\n",
       ".dataframe > tbody > tr {\n",
       "  text-align: right;\n",
       "  white-space: pre-wrap;\n",
       "}\n",
       "</style>\n",
       "<small>shape: (10, 8)</small><table border=\"1\" class=\"dataframe\"><thead><tr><th>sales_ymd</th><th>amount</th><th>sales_ymd_lag1</th><th>sales_ymd_lag2</th><th>sales_ymd_lag3</th><th>amount_lag1</th><th>amount_lag2</th><th>amount_lag3</th></tr><tr><td>i64</td><td>i64</td><td>i64</td><td>i64</td><td>i64</td><td>i64</td><td>i64</td><td>i64</td></tr></thead><tbody><tr><td>20170104</td><td>36165</td><td>20170103</td><td>20170102</td><td>20170101</td><td>27503</td><td>24165</td><td>33723</td></tr><tr><td>20170105</td><td>37830</td><td>20170104</td><td>20170103</td><td>20170102</td><td>36165</td><td>27503</td><td>24165</td></tr><tr><td>20170106</td><td>32387</td><td>20170105</td><td>20170104</td><td>20170103</td><td>37830</td><td>36165</td><td>27503</td></tr><tr><td>20170107</td><td>23415</td><td>20170106</td><td>20170105</td><td>20170104</td><td>32387</td><td>37830</td><td>36165</td></tr><tr><td>20170108</td><td>24737</td><td>20170107</td><td>20170106</td><td>20170105</td><td>23415</td><td>32387</td><td>37830</td></tr><tr><td>20170109</td><td>26718</td><td>20170108</td><td>20170107</td><td>20170106</td><td>24737</td><td>23415</td><td>32387</td></tr><tr><td>20170110</td><td>20143</td><td>20170109</td><td>20170108</td><td>20170107</td><td>26718</td><td>24737</td><td>23415</td></tr><tr><td>20170111</td><td>24287</td><td>20170110</td><td>20170109</td><td>20170108</td><td>20143</td><td>26718</td><td>24737</td></tr><tr><td>20170112</td><td>23526</td><td>20170111</td><td>20170110</td><td>20170109</td><td>24287</td><td>20143</td><td>26718</td></tr><tr><td>20170113</td><td>28004</td><td>20170112</td><td>20170111</td><td>20170110</td><td>23526</td><td>24287</td><td>20143</td></tr></tbody></table></div>"
      ],
      "text/plain": [
       "shape: (10, 8)\n",
       "┌───────────┬────────┬────────────┬────────────┬────────────┬────────────┬────────────┬────────────┐\n",
       "│ sales_ymd ┆ amount ┆ sales_ymd_ ┆ sales_ymd_ ┆ sales_ymd_ ┆ amount_lag ┆ amount_lag ┆ amount_lag │\n",
       "│ ---       ┆ ---    ┆ lag1       ┆ lag2       ┆ lag3       ┆ 1          ┆ 2          ┆ 3          │\n",
       "│ i64       ┆ i64    ┆ ---        ┆ ---        ┆ ---        ┆ ---        ┆ ---        ┆ ---        │\n",
       "│           ┆        ┆ i64        ┆ i64        ┆ i64        ┆ i64        ┆ i64        ┆ i64        │\n",
       "╞═══════════╪════════╪════════════╪════════════╪════════════╪════════════╪════════════╪════════════╡\n",
       "│ 20170104  ┆ 36165  ┆ 20170103   ┆ 20170102   ┆ 20170101   ┆ 27503      ┆ 24165      ┆ 33723      │\n",
       "│ 20170105  ┆ 37830  ┆ 20170104   ┆ 20170103   ┆ 20170102   ┆ 36165      ┆ 27503      ┆ 24165      │\n",
       "│ 20170106  ┆ 32387  ┆ 20170105   ┆ 20170104   ┆ 20170103   ┆ 37830      ┆ 36165      ┆ 27503      │\n",
       "│ 20170107  ┆ 23415  ┆ 20170106   ┆ 20170105   ┆ 20170104   ┆ 32387      ┆ 37830      ┆ 36165      │\n",
       "│ 20170108  ┆ 24737  ┆ 20170107   ┆ 20170106   ┆ 20170105   ┆ 23415      ┆ 32387      ┆ 37830      │\n",
       "│ 20170109  ┆ 26718  ┆ 20170108   ┆ 20170107   ┆ 20170106   ┆ 24737      ┆ 23415      ┆ 32387      │\n",
       "│ 20170110  ┆ 20143  ┆ 20170109   ┆ 20170108   ┆ 20170107   ┆ 26718      ┆ 24737      ┆ 23415      │\n",
       "│ 20170111  ┆ 24287  ┆ 20170110   ┆ 20170109   ┆ 20170108   ┆ 20143      ┆ 26718      ┆ 24737      │\n",
       "│ 20170112  ┆ 23526  ┆ 20170111   ┆ 20170110   ┆ 20170109   ┆ 24287      ┆ 20143      ┆ 26718      │\n",
       "│ 20170113  ┆ 28004  ┆ 20170112   ┆ 20170111   ┆ 20170110   ┆ 23526      ┆ 24287      ┆ 20143      │\n",
       "└───────────┴────────┴────────────┴────────────┴────────────┴────────────┴────────────┴────────────┘"
      ]
     },
     "execution_count": 50,
     "metadata": {},
     "output_type": "execute_result"
    }
   ],
   "source": [
    "df_042 = (\n",
    "    df_receipt.group_by(\"sales_ymd\")\n",
    "    .agg(pl.col(\"amount\").sum())\n",
    "    .sort(pl.col(\"sales_ymd\"))\n",
    "    .with_columns(\n",
    "        [pl.col(\"sales_ymd\").shift(i).alias(f\"sales_ymd_lag{i}\") for i in range(1, 4)]\n",
    "    )\n",
    "    .with_columns(\n",
    "        [pl.col(\"amount\").shift(i).alias(f\"amount_lag{i}\") for i in range(1, 4)]\n",
    "    )\n",
    "    .drop_nulls()\n",
    ")\n",
    "\n",
    "df_042.head(10)"
   ]
  },
  {
   "attachments": {},
   "cell_type": "markdown",
   "metadata": {},
   "source": [
    "---\n",
    "> P-043： レシート明細データ（df_receipt）と顧客データ（df_customer）を結合し、性別コード（gender_cd）と年代（ageから計算）ごとに売上金額（amount）を合計した売上サマリデータを作成せよ。性別コードは0が男性、1が女性、9が不明を表すものとする。\n",
    ">\n",
    "> ただし、項目構成は年代、女性の売上金額、男性の売上金額、性別不明の売上金額の4項目とすること（縦に年代、横に性別のクロス集計）。また、年代は10歳ごとの階級とすること。"
   ]
  },
  {
   "cell_type": "code",
   "execution_count": 51,
   "metadata": {},
   "outputs": [
    {
     "name": "stderr",
     "output_type": "stream",
     "text": [
      "C:\\Users\\atsu9\\AppData\\Local\\Temp\\ipykernel_9836\\434020132.py:5: DeprecationWarning: The argument `columns` for `DataFrame.pivot` is deprecated. It has been renamed to `on`.\n",
      "  .pivot(values=\"amount\", index=\"era\", columns=\"gender_cd\", aggregate_function=\"sum\")\n"
     ]
    },
    {
     "data": {
      "text/html": [
       "<div><style>\n",
       ".dataframe > thead > tr,\n",
       ".dataframe > tbody > tr {\n",
       "  text-align: right;\n",
       "  white-space: pre-wrap;\n",
       "}\n",
       "</style>\n",
       "<small>shape: (9, 4)</small><table border=\"1\" class=\"dataframe\"><thead><tr><th>era</th><th>female</th><th>male</th><th>unknown</th></tr><tr><td>i64</td><td>i64</td><td>i64</td><td>i64</td></tr></thead><tbody><tr><td>10</td><td>149836</td><td>1591</td><td>4317</td></tr><tr><td>20</td><td>1363724</td><td>72940</td><td>44328</td></tr><tr><td>30</td><td>693047</td><td>177322</td><td>50441</td></tr><tr><td>40</td><td>9320791</td><td>19355</td><td>483512</td></tr><tr><td>50</td><td>6685192</td><td>54320</td><td>342923</td></tr><tr><td>60</td><td>987741</td><td>272469</td><td>71418</td></tr><tr><td>70</td><td>29764</td><td>13435</td><td>2427</td></tr><tr><td>80</td><td>262923</td><td>46360</td><td>5111</td></tr><tr><td>90</td><td>6260</td><td>null</td><td>null</td></tr></tbody></table></div>"
      ],
      "text/plain": [
       "shape: (9, 4)\n",
       "┌─────┬─────────┬────────┬─────────┐\n",
       "│ era ┆ female  ┆ male   ┆ unknown │\n",
       "│ --- ┆ ---     ┆ ---    ┆ ---     │\n",
       "│ i64 ┆ i64     ┆ i64    ┆ i64     │\n",
       "╞═════╪═════════╪════════╪═════════╡\n",
       "│ 10  ┆ 149836  ┆ 1591   ┆ 4317    │\n",
       "│ 20  ┆ 1363724 ┆ 72940  ┆ 44328   │\n",
       "│ 30  ┆ 693047  ┆ 177322 ┆ 50441   │\n",
       "│ 40  ┆ 9320791 ┆ 19355  ┆ 483512  │\n",
       "│ 50  ┆ 6685192 ┆ 54320  ┆ 342923  │\n",
       "│ 60  ┆ 987741  ┆ 272469 ┆ 71418   │\n",
       "│ 70  ┆ 29764   ┆ 13435  ┆ 2427    │\n",
       "│ 80  ┆ 262923  ┆ 46360  ┆ 5111    │\n",
       "│ 90  ┆ 6260    ┆ null   ┆ null    │\n",
       "└─────┴─────────┴────────┴─────────┘"
      ]
     },
     "execution_count": 51,
     "metadata": {},
     "output_type": "execute_result"
    }
   ],
   "source": [
    "df_043 = (\n",
    "    df_receipt\n",
    "    .join(df_customer, on=\"customer_id\", how=\"inner\")\n",
    "    .with_columns((pl.col(\"age\")//10 * 10).alias(\"era\"))\n",
    "    .pivot(values=\"amount\", index=\"era\", columns=\"gender_cd\", aggregate_function=\"sum\")\n",
    "    .rename({\"1\": \"female\", \"0\": \"male\", \"9\": \"unknown\"})\n",
    "    .sort(\"era\")\n",
    ")\n",
    "\n",
    "df_043"
   ]
  },
  {
   "attachments": {},
   "cell_type": "markdown",
   "metadata": {},
   "source": [
    "---\n",
    "> P-044： 043で作成した売上サマリデータ（df_sales_summary）は性別の売上を横持ちさせたものであった。このデータから性別を縦持ちさせ、年代、性別コード、売上金額の3項目に変換せよ。ただし、性別コードは男性を\"00\"、女性を\"01\"、不明を\"99\"とする。"
   ]
  },
  {
   "cell_type": "code",
   "execution_count": 52,
   "metadata": {},
   "outputs": [
    {
     "name": "stderr",
     "output_type": "stream",
     "text": [
      "C:\\Users\\atsu9\\AppData\\Local\\Temp\\ipykernel_9836\\3841470433.py:3: DeprecationWarning: `DataFrame.melt` is deprecated. Use `unpivot` instead, with `index` instead of `id_vars` and `on` instead of `value_vars`\n",
      "  .melt(\n"
     ]
    },
    {
     "data": {
      "text/html": [
       "<div><style>\n",
       ".dataframe > thead > tr,\n",
       ".dataframe > tbody > tr {\n",
       "  text-align: right;\n",
       "  white-space: pre-wrap;\n",
       "}\n",
       "</style>\n",
       "<small>shape: (27, 3)</small><table border=\"1\" class=\"dataframe\"><thead><tr><th>era</th><th>gender_cd</th><th>amount</th></tr><tr><td>i64</td><td>str</td><td>i64</td></tr></thead><tbody><tr><td>10</td><td>&quot;00&quot;</td><td>1591</td></tr><tr><td>10</td><td>&quot;01&quot;</td><td>149836</td></tr><tr><td>10</td><td>&quot;99&quot;</td><td>4317</td></tr><tr><td>20</td><td>&quot;00&quot;</td><td>72940</td></tr><tr><td>20</td><td>&quot;01&quot;</td><td>1363724</td></tr><tr><td>&hellip;</td><td>&hellip;</td><td>&hellip;</td></tr><tr><td>80</td><td>&quot;01&quot;</td><td>262923</td></tr><tr><td>80</td><td>&quot;99&quot;</td><td>5111</td></tr><tr><td>90</td><td>&quot;00&quot;</td><td>null</td></tr><tr><td>90</td><td>&quot;01&quot;</td><td>6260</td></tr><tr><td>90</td><td>&quot;99&quot;</td><td>null</td></tr></tbody></table></div>"
      ],
      "text/plain": [
       "shape: (27, 3)\n",
       "┌─────┬───────────┬─────────┐\n",
       "│ era ┆ gender_cd ┆ amount  │\n",
       "│ --- ┆ ---       ┆ ---     │\n",
       "│ i64 ┆ str       ┆ i64     │\n",
       "╞═════╪═══════════╪═════════╡\n",
       "│ 10  ┆ 00        ┆ 1591    │\n",
       "│ 10  ┆ 01        ┆ 149836  │\n",
       "│ 10  ┆ 99        ┆ 4317    │\n",
       "│ 20  ┆ 00        ┆ 72940   │\n",
       "│ 20  ┆ 01        ┆ 1363724 │\n",
       "│ …   ┆ …         ┆ …       │\n",
       "│ 80  ┆ 01        ┆ 262923  │\n",
       "│ 80  ┆ 99        ┆ 5111    │\n",
       "│ 90  ┆ 00        ┆ null    │\n",
       "│ 90  ┆ 01        ┆ 6260    │\n",
       "│ 90  ┆ 99        ┆ null    │\n",
       "└─────┴───────────┴─────────┘"
      ]
     },
     "execution_count": 52,
     "metadata": {},
     "output_type": "execute_result"
    }
   ],
   "source": [
    "df_044 = (\n",
    "    df_043.rename({\"male\": \"00\", \"female\": \"01\", \"unknown\": \"99\"})\n",
    "    .melt(\n",
    "        id_vars=\"era\",\n",
    "        value_vars=[\"00\", \"01\", \"99\"],\n",
    "        variable_name=\"gender_cd\",\n",
    "        value_name=\"amount\",\n",
    "    )\n",
    "    .sort(\"era\")\n",
    ")\n",
    "\n",
    "df_044"
   ]
  },
  {
   "attachments": {},
   "cell_type": "markdown",
   "metadata": {},
   "source": [
    "## Date型"
   ]
  },
  {
   "attachments": {},
   "cell_type": "markdown",
   "metadata": {},
   "source": [
    "---\n",
    "> P-045: 顧客データ（df_customer）の生年月日（birth_day）は日付型でデータを保有している。これをYYYYMMDD形式の文字列に変換し、顧客ID（customer_id）とともに10件表示せよ。"
   ]
  },
  {
   "cell_type": "code",
   "execution_count": 53,
   "metadata": {},
   "outputs": [
    {
     "data": {
      "text/html": [
       "<div><style>\n",
       ".dataframe > thead > tr,\n",
       ".dataframe > tbody > tr {\n",
       "  text-align: right;\n",
       "  white-space: pre-wrap;\n",
       "}\n",
       "</style>\n",
       "<small>shape: (10, 2)</small><table border=\"1\" class=\"dataframe\"><thead><tr><th>customer_id</th><th>birth_day</th></tr><tr><td>str</td><td>str</td></tr></thead><tbody><tr><td>&quot;CS021313000114&quot;</td><td>&quot;19810429&quot;</td></tr><tr><td>&quot;CS037613000071&quot;</td><td>&quot;19520401&quot;</td></tr><tr><td>&quot;CS031415000172&quot;</td><td>&quot;19761004&quot;</td></tr><tr><td>&quot;CS028811000001&quot;</td><td>&quot;19330327&quot;</td></tr><tr><td>&quot;CS001215000145&quot;</td><td>&quot;19950329&quot;</td></tr><tr><td>&quot;CS020401000016&quot;</td><td>&quot;19740915&quot;</td></tr><tr><td>&quot;CS015414000103&quot;</td><td>&quot;19770809&quot;</td></tr><tr><td>&quot;CS029403000008&quot;</td><td>&quot;19730817&quot;</td></tr><tr><td>&quot;CS015804000004&quot;</td><td>&quot;19310502&quot;</td></tr><tr><td>&quot;CS033513000180&quot;</td><td>&quot;19620711&quot;</td></tr></tbody></table></div>"
      ],
      "text/plain": [
       "shape: (10, 2)\n",
       "┌────────────────┬───────────┐\n",
       "│ customer_id    ┆ birth_day │\n",
       "│ ---            ┆ ---       │\n",
       "│ str            ┆ str       │\n",
       "╞════════════════╪═══════════╡\n",
       "│ CS021313000114 ┆ 19810429  │\n",
       "│ CS037613000071 ┆ 19520401  │\n",
       "│ CS031415000172 ┆ 19761004  │\n",
       "│ CS028811000001 ┆ 19330327  │\n",
       "│ CS001215000145 ┆ 19950329  │\n",
       "│ CS020401000016 ┆ 19740915  │\n",
       "│ CS015414000103 ┆ 19770809  │\n",
       "│ CS029403000008 ┆ 19730817  │\n",
       "│ CS015804000004 ┆ 19310502  │\n",
       "│ CS033513000180 ┆ 19620711  │\n",
       "└────────────────┴───────────┘"
      ]
     },
     "execution_count": 53,
     "metadata": {},
     "output_type": "execute_result"
    }
   ],
   "source": [
    "df_045 = df_customer.select(\n",
    "    \"customer_id\",\n",
    "    pl.col(\"birth_day\")\n",
    "    .str.strptime(dtype=pl.Date, format=\"%Y-%m-%d\")  # string型 -> date型へ一度変換\n",
    "    .dt.strftime(\"%Y%m%d\")\n",
    ")  # date型からstring型(YYYYMMDD)へ変換\n",
    "\n",
    "\n",
    "df_045.head(10)"
   ]
  },
  {
   "attachments": {},
   "cell_type": "markdown",
   "metadata": {},
   "source": [
    "---\n",
    "> P-046: 顧客データ（df_customer）の申し込み日（application_date）はYYYYMMDD形式の文字列型でデータを保有している。これを日付型に変換し、顧客ID（customer_id）とともに10件表示せよ。"
   ]
  },
  {
   "cell_type": "code",
   "execution_count": 54,
   "metadata": {},
   "outputs": [
    {
     "data": {
      "text/html": [
       "<div><style>\n",
       ".dataframe > thead > tr,\n",
       ".dataframe > tbody > tr {\n",
       "  text-align: right;\n",
       "  white-space: pre-wrap;\n",
       "}\n",
       "</style>\n",
       "<small>shape: (10, 2)</small><table border=\"1\" class=\"dataframe\"><thead><tr><th>customer_id</th><th>application_date</th></tr><tr><td>str</td><td>date</td></tr></thead><tbody><tr><td>&quot;CS021313000114&quot;</td><td>2015-09-05</td></tr><tr><td>&quot;CS037613000071&quot;</td><td>2015-04-14</td></tr><tr><td>&quot;CS031415000172&quot;</td><td>2015-05-29</td></tr><tr><td>&quot;CS028811000001&quot;</td><td>2016-01-15</td></tr><tr><td>&quot;CS001215000145&quot;</td><td>2017-06-05</td></tr><tr><td>&quot;CS020401000016&quot;</td><td>2015-02-25</td></tr><tr><td>&quot;CS015414000103&quot;</td><td>2015-07-22</td></tr><tr><td>&quot;CS029403000008&quot;</td><td>2015-05-15</td></tr><tr><td>&quot;CS015804000004&quot;</td><td>2015-06-07</td></tr><tr><td>&quot;CS033513000180&quot;</td><td>2015-07-28</td></tr></tbody></table></div>"
      ],
      "text/plain": [
       "shape: (10, 2)\n",
       "┌────────────────┬──────────────────┐\n",
       "│ customer_id    ┆ application_date │\n",
       "│ ---            ┆ ---              │\n",
       "│ str            ┆ date             │\n",
       "╞════════════════╪══════════════════╡\n",
       "│ CS021313000114 ┆ 2015-09-05       │\n",
       "│ CS037613000071 ┆ 2015-04-14       │\n",
       "│ CS031415000172 ┆ 2015-05-29       │\n",
       "│ CS028811000001 ┆ 2016-01-15       │\n",
       "│ CS001215000145 ┆ 2017-06-05       │\n",
       "│ CS020401000016 ┆ 2015-02-25       │\n",
       "│ CS015414000103 ┆ 2015-07-22       │\n",
       "│ CS029403000008 ┆ 2015-05-15       │\n",
       "│ CS015804000004 ┆ 2015-06-07       │\n",
       "│ CS033513000180 ┆ 2015-07-28       │\n",
       "└────────────────┴──────────────────┘"
      ]
     },
     "execution_count": 54,
     "metadata": {},
     "output_type": "execute_result"
    }
   ],
   "source": [
    "df_046 = df_customer.select(\n",
    "    \"customer_id\",\n",
    "    pl.col(\"application_date\").str.strptime(dtype=pl.Date, format=\"%Y%m%d\")\n",
    ")\n",
    "\n",
    "df_046.head(10)"
   ]
  },
  {
   "attachments": {},
   "cell_type": "markdown",
   "metadata": {},
   "source": [
    "---\n",
    "> P-047: レシート明細データ（df_receipt）の売上日（sales_ymd）はYYYYMMDD形式の数値型でデータを保有している。これを日付型に変換し、レシート番号（receipt_no）、レシートサブ番号（receipt_sub_no）とともに10件表示せよ。"
   ]
  },
  {
   "cell_type": "code",
   "execution_count": 55,
   "metadata": {},
   "outputs": [
    {
     "data": {
      "text/html": [
       "<div><style>\n",
       ".dataframe > thead > tr,\n",
       ".dataframe > tbody > tr {\n",
       "  text-align: right;\n",
       "  white-space: pre-wrap;\n",
       "}\n",
       "</style>\n",
       "<small>shape: (10, 3)</small><table border=\"1\" class=\"dataframe\"><thead><tr><th>receipt_no</th><th>receipt_sub_no</th><th>sales_ymd</th></tr><tr><td>i64</td><td>i64</td><td>date</td></tr></thead><tbody><tr><td>112</td><td>1</td><td>2018-11-03</td></tr><tr><td>1132</td><td>2</td><td>2018-11-18</td></tr><tr><td>1102</td><td>1</td><td>2017-07-12</td></tr><tr><td>1132</td><td>1</td><td>2019-02-05</td></tr><tr><td>1102</td><td>2</td><td>2018-08-21</td></tr><tr><td>1112</td><td>1</td><td>2019-06-05</td></tr><tr><td>1102</td><td>2</td><td>2018-12-05</td></tr><tr><td>1102</td><td>1</td><td>2019-09-22</td></tr><tr><td>1112</td><td>2</td><td>2017-05-04</td></tr><tr><td>1102</td><td>1</td><td>2019-10-10</td></tr></tbody></table></div>"
      ],
      "text/plain": [
       "shape: (10, 3)\n",
       "┌────────────┬────────────────┬────────────┐\n",
       "│ receipt_no ┆ receipt_sub_no ┆ sales_ymd  │\n",
       "│ ---        ┆ ---            ┆ ---        │\n",
       "│ i64        ┆ i64            ┆ date       │\n",
       "╞════════════╪════════════════╪════════════╡\n",
       "│ 112        ┆ 1              ┆ 2018-11-03 │\n",
       "│ 1132       ┆ 2              ┆ 2018-11-18 │\n",
       "│ 1102       ┆ 1              ┆ 2017-07-12 │\n",
       "│ 1132       ┆ 1              ┆ 2019-02-05 │\n",
       "│ 1102       ┆ 2              ┆ 2018-08-21 │\n",
       "│ 1112       ┆ 1              ┆ 2019-06-05 │\n",
       "│ 1102       ┆ 2              ┆ 2018-12-05 │\n",
       "│ 1102       ┆ 1              ┆ 2019-09-22 │\n",
       "│ 1112       ┆ 2              ┆ 2017-05-04 │\n",
       "│ 1102       ┆ 1              ┆ 2019-10-10 │\n",
       "└────────────┴────────────────┴────────────┘"
      ]
     },
     "execution_count": 55,
     "metadata": {},
     "output_type": "execute_result"
    }
   ],
   "source": [
    "df_047 = df_receipt.select(\n",
    "    \"receipt_no\",\n",
    "    \"receipt_sub_no\",\n",
    "    pl.col(\"sales_ymd\").cast(str).str.strptime(dtype=pl.Date, format=\"%Y%m%d\"),\n",
    ")\n",
    "\n",
    "df_047.head(10)"
   ]
  },
  {
   "attachments": {},
   "cell_type": "markdown",
   "metadata": {},
   "source": [
    "---\n",
    "> P-048: レシート明細データ（df_receipt）の売上エポック秒（sales_epoch）は数値型のUNIX秒でデータを保有している。これを日付型に変換し、レシート番号(receipt_no)、レシートサブ番号（receipt_sub_no）とともに10件表示せよ。"
   ]
  },
  {
   "cell_type": "code",
   "execution_count": 56,
   "metadata": {},
   "outputs": [
    {
     "data": {
      "text/html": [
       "<div><style>\n",
       ".dataframe > thead > tr,\n",
       ".dataframe > tbody > tr {\n",
       "  text-align: right;\n",
       "  white-space: pre-wrap;\n",
       "}\n",
       "</style>\n",
       "<small>shape: (10, 3)</small><table border=\"1\" class=\"dataframe\"><thead><tr><th>receipt_no</th><th>receipt_sub_no</th><th>sales_epoch</th></tr><tr><td>i64</td><td>i64</td><td>datetime[μs]</td></tr></thead><tbody><tr><td>112</td><td>1</td><td>2018-11-03 00:00:00</td></tr><tr><td>1132</td><td>2</td><td>2018-11-18 00:00:00</td></tr><tr><td>1102</td><td>1</td><td>2017-07-12 00:00:00</td></tr><tr><td>1132</td><td>1</td><td>2019-02-05 00:00:00</td></tr><tr><td>1102</td><td>2</td><td>2018-08-21 00:00:00</td></tr><tr><td>1112</td><td>1</td><td>2019-06-05 00:00:00</td></tr><tr><td>1102</td><td>2</td><td>2018-12-05 00:00:00</td></tr><tr><td>1102</td><td>1</td><td>2019-09-22 00:00:00</td></tr><tr><td>1112</td><td>2</td><td>2017-05-04 00:00:00</td></tr><tr><td>1102</td><td>1</td><td>2019-10-10 00:00:00</td></tr></tbody></table></div>"
      ],
      "text/plain": [
       "shape: (10, 3)\n",
       "┌────────────┬────────────────┬─────────────────────┐\n",
       "│ receipt_no ┆ receipt_sub_no ┆ sales_epoch         │\n",
       "│ ---        ┆ ---            ┆ ---                 │\n",
       "│ i64        ┆ i64            ┆ datetime[μs]        │\n",
       "╞════════════╪════════════════╪═════════════════════╡\n",
       "│ 112        ┆ 1              ┆ 2018-11-03 00:00:00 │\n",
       "│ 1132       ┆ 2              ┆ 2018-11-18 00:00:00 │\n",
       "│ 1102       ┆ 1              ┆ 2017-07-12 00:00:00 │\n",
       "│ 1132       ┆ 1              ┆ 2019-02-05 00:00:00 │\n",
       "│ 1102       ┆ 2              ┆ 2018-08-21 00:00:00 │\n",
       "│ 1112       ┆ 1              ┆ 2019-06-05 00:00:00 │\n",
       "│ 1102       ┆ 2              ┆ 2018-12-05 00:00:00 │\n",
       "│ 1102       ┆ 1              ┆ 2019-09-22 00:00:00 │\n",
       "│ 1112       ┆ 2              ┆ 2017-05-04 00:00:00 │\n",
       "│ 1102       ┆ 1              ┆ 2019-10-10 00:00:00 │\n",
       "└────────────┴────────────────┴─────────────────────┘"
      ]
     },
     "execution_count": 56,
     "metadata": {},
     "output_type": "execute_result"
    }
   ],
   "source": [
    "df_048 = df_receipt.select(\n",
    "    \"receipt_no\", \"receipt_sub_no\",\n",
    "    pl.col(\"sales_epoch\").cast(dtype=pl.Utf8).str.strptime(dtype=pl.Datetime, format=\"%s\"),\n",
    ")\n",
    "\n",
    "df_048.head(10)"
   ]
  },
  {
   "attachments": {},
   "cell_type": "markdown",
   "metadata": {},
   "source": [
    "---\n",
    "> P-049: レシート明細データ（df_receipt）の売上エポック秒（sales_epoch）を日付型に変換し、「年」だけ取り出してレシート番号(receipt_no)、レシートサブ番号（receipt_sub_no）とともに10件表示せよ。"
   ]
  },
  {
   "cell_type": "code",
   "execution_count": 57,
   "metadata": {},
   "outputs": [
    {
     "data": {
      "text/html": [
       "<div><style>\n",
       ".dataframe > thead > tr,\n",
       ".dataframe > tbody > tr {\n",
       "  text-align: right;\n",
       "  white-space: pre-wrap;\n",
       "}\n",
       "</style>\n",
       "<small>shape: (10, 3)</small><table border=\"1\" class=\"dataframe\"><thead><tr><th>receipt_no</th><th>receipt_sub_no</th><th>sales_epoch</th></tr><tr><td>i64</td><td>i64</td><td>i32</td></tr></thead><tbody><tr><td>112</td><td>1</td><td>2018</td></tr><tr><td>1132</td><td>2</td><td>2018</td></tr><tr><td>1102</td><td>1</td><td>2017</td></tr><tr><td>1132</td><td>1</td><td>2019</td></tr><tr><td>1102</td><td>2</td><td>2018</td></tr><tr><td>1112</td><td>1</td><td>2019</td></tr><tr><td>1102</td><td>2</td><td>2018</td></tr><tr><td>1102</td><td>1</td><td>2019</td></tr><tr><td>1112</td><td>2</td><td>2017</td></tr><tr><td>1102</td><td>1</td><td>2019</td></tr></tbody></table></div>"
      ],
      "text/plain": [
       "shape: (10, 3)\n",
       "┌────────────┬────────────────┬─────────────┐\n",
       "│ receipt_no ┆ receipt_sub_no ┆ sales_epoch │\n",
       "│ ---        ┆ ---            ┆ ---         │\n",
       "│ i64        ┆ i64            ┆ i32         │\n",
       "╞════════════╪════════════════╪═════════════╡\n",
       "│ 112        ┆ 1              ┆ 2018        │\n",
       "│ 1132       ┆ 2              ┆ 2018        │\n",
       "│ 1102       ┆ 1              ┆ 2017        │\n",
       "│ 1132       ┆ 1              ┆ 2019        │\n",
       "│ 1102       ┆ 2              ┆ 2018        │\n",
       "│ 1112       ┆ 1              ┆ 2019        │\n",
       "│ 1102       ┆ 2              ┆ 2018        │\n",
       "│ 1102       ┆ 1              ┆ 2019        │\n",
       "│ 1112       ┆ 2              ┆ 2017        │\n",
       "│ 1102       ┆ 1              ┆ 2019        │\n",
       "└────────────┴────────────────┴─────────────┘"
      ]
     },
     "execution_count": 57,
     "metadata": {},
     "output_type": "execute_result"
    }
   ],
   "source": [
    "df_049 = df_receipt.select(\n",
    "    \"receipt_no\", \"receipt_sub_no\",\n",
    "    pl.col(\"sales_epoch\").cast(dtype=pl.Utf8).str.strptime(dtype=pl.Datetime, format=\"%s\").dt.year(),\n",
    ")\n",
    "\n",
    "df_049.head(10)"
   ]
  },
  {
   "attachments": {},
   "cell_type": "markdown",
   "metadata": {},
   "source": [
    "---\n",
    "> P-050: レシート明細データ（df_receipt）の売上エポック秒（sales_epoch）を日付型に変換し、「月」だけ取り出してレシート番号(receipt_no)、レシートサブ番号（receipt_sub_no）とともに10件表示せよ。なお、「月」は0埋め2桁で取り出すこと。"
   ]
  },
  {
   "cell_type": "code",
   "execution_count": 58,
   "metadata": {},
   "outputs": [
    {
     "data": {
      "text/html": [
       "<div><style>\n",
       ".dataframe > thead > tr,\n",
       ".dataframe > tbody > tr {\n",
       "  text-align: right;\n",
       "  white-space: pre-wrap;\n",
       "}\n",
       "</style>\n",
       "<small>shape: (10, 3)</small><table border=\"1\" class=\"dataframe\"><thead><tr><th>receipt_no</th><th>receipt_sub_no</th><th>sales_epoch</th></tr><tr><td>i64</td><td>i64</td><td>str</td></tr></thead><tbody><tr><td>112</td><td>1</td><td>&quot;11&quot;</td></tr><tr><td>1132</td><td>2</td><td>&quot;11&quot;</td></tr><tr><td>1102</td><td>1</td><td>&quot;07&quot;</td></tr><tr><td>1132</td><td>1</td><td>&quot;02&quot;</td></tr><tr><td>1102</td><td>2</td><td>&quot;08&quot;</td></tr><tr><td>1112</td><td>1</td><td>&quot;06&quot;</td></tr><tr><td>1102</td><td>2</td><td>&quot;12&quot;</td></tr><tr><td>1102</td><td>1</td><td>&quot;09&quot;</td></tr><tr><td>1112</td><td>2</td><td>&quot;05&quot;</td></tr><tr><td>1102</td><td>1</td><td>&quot;10&quot;</td></tr></tbody></table></div>"
      ],
      "text/plain": [
       "shape: (10, 3)\n",
       "┌────────────┬────────────────┬─────────────┐\n",
       "│ receipt_no ┆ receipt_sub_no ┆ sales_epoch │\n",
       "│ ---        ┆ ---            ┆ ---         │\n",
       "│ i64        ┆ i64            ┆ str         │\n",
       "╞════════════╪════════════════╪═════════════╡\n",
       "│ 112        ┆ 1              ┆ 11          │\n",
       "│ 1132       ┆ 2              ┆ 11          │\n",
       "│ 1102       ┆ 1              ┆ 07          │\n",
       "│ 1132       ┆ 1              ┆ 02          │\n",
       "│ 1102       ┆ 2              ┆ 08          │\n",
       "│ 1112       ┆ 1              ┆ 06          │\n",
       "│ 1102       ┆ 2              ┆ 12          │\n",
       "│ 1102       ┆ 1              ┆ 09          │\n",
       "│ 1112       ┆ 2              ┆ 05          │\n",
       "│ 1102       ┆ 1              ┆ 10          │\n",
       "└────────────┴────────────────┴─────────────┘"
      ]
     },
     "execution_count": 58,
     "metadata": {},
     "output_type": "execute_result"
    }
   ],
   "source": [
    "df_050 = df_receipt.select(\n",
    "    \"receipt_no\", \"receipt_sub_no\",\n",
    "    # 0埋めなので文字列\"strftime\"で抽出\n",
    "    pl.col(\"sales_epoch\").cast(dtype=pl.Utf8).str.strptime(dtype=pl.Datetime, format=\"%s\").dt.strftime(\"%m\"),\n",
    ")\n",
    "\n",
    "df_050.head(10)"
   ]
  },
  {
   "attachments": {},
   "cell_type": "markdown",
   "metadata": {},
   "source": [
    "---\n",
    "> P-051: レシート明細データ（df_receipt）の売上エポック秒を日付型に変換し、「日」だけ取り出してレシート番号(receipt_no)、レシートサブ番号（receipt_sub_no）とともに10件表示せよ。なお、「日」は0埋め2桁で取り出すこと。"
   ]
  },
  {
   "cell_type": "code",
   "execution_count": 59,
   "metadata": {},
   "outputs": [
    {
     "data": {
      "text/html": [
       "<div><style>\n",
       ".dataframe > thead > tr,\n",
       ".dataframe > tbody > tr {\n",
       "  text-align: right;\n",
       "  white-space: pre-wrap;\n",
       "}\n",
       "</style>\n",
       "<small>shape: (10, 3)</small><table border=\"1\" class=\"dataframe\"><thead><tr><th>receipt_no</th><th>receipt_sub_no</th><th>sales_epoch</th></tr><tr><td>i64</td><td>i64</td><td>str</td></tr></thead><tbody><tr><td>112</td><td>1</td><td>&quot;03&quot;</td></tr><tr><td>1132</td><td>2</td><td>&quot;18&quot;</td></tr><tr><td>1102</td><td>1</td><td>&quot;12&quot;</td></tr><tr><td>1132</td><td>1</td><td>&quot;05&quot;</td></tr><tr><td>1102</td><td>2</td><td>&quot;21&quot;</td></tr><tr><td>1112</td><td>1</td><td>&quot;05&quot;</td></tr><tr><td>1102</td><td>2</td><td>&quot;05&quot;</td></tr><tr><td>1102</td><td>1</td><td>&quot;22&quot;</td></tr><tr><td>1112</td><td>2</td><td>&quot;04&quot;</td></tr><tr><td>1102</td><td>1</td><td>&quot;10&quot;</td></tr></tbody></table></div>"
      ],
      "text/plain": [
       "shape: (10, 3)\n",
       "┌────────────┬────────────────┬─────────────┐\n",
       "│ receipt_no ┆ receipt_sub_no ┆ sales_epoch │\n",
       "│ ---        ┆ ---            ┆ ---         │\n",
       "│ i64        ┆ i64            ┆ str         │\n",
       "╞════════════╪════════════════╪═════════════╡\n",
       "│ 112        ┆ 1              ┆ 03          │\n",
       "│ 1132       ┆ 2              ┆ 18          │\n",
       "│ 1102       ┆ 1              ┆ 12          │\n",
       "│ 1132       ┆ 1              ┆ 05          │\n",
       "│ 1102       ┆ 2              ┆ 21          │\n",
       "│ 1112       ┆ 1              ┆ 05          │\n",
       "│ 1102       ┆ 2              ┆ 05          │\n",
       "│ 1102       ┆ 1              ┆ 22          │\n",
       "│ 1112       ┆ 2              ┆ 04          │\n",
       "│ 1102       ┆ 1              ┆ 10          │\n",
       "└────────────┴────────────────┴─────────────┘"
      ]
     },
     "execution_count": 59,
     "metadata": {},
     "output_type": "execute_result"
    }
   ],
   "source": [
    "df_051 = df_receipt.select(\n",
    "    \"receipt_no\", \"receipt_sub_no\",\n",
    "    pl.col(\"sales_epoch\").cast(dtype=pl.Utf8).str.strptime(dtype=pl.Datetime, format=\"%s\").dt.strftime(\"%d\"),\n",
    ")\n",
    "\n",
    "df_051.head(10)"
   ]
  },
  {
   "attachments": {},
   "cell_type": "markdown",
   "metadata": {},
   "source": [
    "## 条件分岐\n",
    ".when()や.map_elements()を用いる"
   ]
  },
  {
   "attachments": {},
   "cell_type": "markdown",
   "metadata": {},
   "source": [
    "---\n",
    "> P-052: レシート明細データ（df_receipt）の売上金額（amount）を顧客ID（customer_id）ごとに合計の上、売上金額合計に対して2,000円以下を0、2,000円より大きい金額を1に二値化し、顧客ID、売上金額合計とともに10件表示せよ。ただし、顧客IDが\"Z\"から始まるのものは非会員を表すため、除外して計算すること。"
   ]
  },
  {
   "cell_type": "code",
   "execution_count": 60,
   "metadata": {},
   "outputs": [
    {
     "data": {
      "text/html": [
       "<div><style>\n",
       ".dataframe > thead > tr,\n",
       ".dataframe > tbody > tr {\n",
       "  text-align: right;\n",
       "  white-space: pre-wrap;\n",
       "}\n",
       "</style>\n",
       "<small>shape: (10, 3)</small><table border=\"1\" class=\"dataframe\"><thead><tr><th>customer_id</th><th>amount</th><th>sales_flg</th></tr><tr><td>str</td><td>i64</td><td>i32</td></tr></thead><tbody><tr><td>&quot;CS001113000004&quot;</td><td>1298</td><td>0</td></tr><tr><td>&quot;CS001114000005&quot;</td><td>626</td><td>0</td></tr><tr><td>&quot;CS001115000010&quot;</td><td>3044</td><td>1</td></tr><tr><td>&quot;CS001205000004&quot;</td><td>1988</td><td>0</td></tr><tr><td>&quot;CS001205000006&quot;</td><td>3337</td><td>1</td></tr><tr><td>&quot;CS001211000025&quot;</td><td>456</td><td>0</td></tr><tr><td>&quot;CS001212000027&quot;</td><td>448</td><td>0</td></tr><tr><td>&quot;CS001212000031&quot;</td><td>296</td><td>0</td></tr><tr><td>&quot;CS001212000046&quot;</td><td>228</td><td>0</td></tr><tr><td>&quot;CS001212000070&quot;</td><td>456</td><td>0</td></tr></tbody></table></div>"
      ],
      "text/plain": [
       "shape: (10, 3)\n",
       "┌────────────────┬────────┬───────────┐\n",
       "│ customer_id    ┆ amount ┆ sales_flg │\n",
       "│ ---            ┆ ---    ┆ ---       │\n",
       "│ str            ┆ i64    ┆ i32       │\n",
       "╞════════════════╪════════╪═══════════╡\n",
       "│ CS001113000004 ┆ 1298   ┆ 0         │\n",
       "│ CS001114000005 ┆ 626    ┆ 0         │\n",
       "│ CS001115000010 ┆ 3044   ┆ 1         │\n",
       "│ CS001205000004 ┆ 1988   ┆ 0         │\n",
       "│ CS001205000006 ┆ 3337   ┆ 1         │\n",
       "│ CS001211000025 ┆ 456    ┆ 0         │\n",
       "│ CS001212000027 ┆ 448    ┆ 0         │\n",
       "│ CS001212000031 ┆ 296    ┆ 0         │\n",
       "│ CS001212000046 ┆ 228    ┆ 0         │\n",
       "│ CS001212000070 ┆ 456    ┆ 0         │\n",
       "└────────────────┴────────┴───────────┘"
      ]
     },
     "execution_count": 60,
     "metadata": {},
     "output_type": "execute_result"
    }
   ],
   "source": [
    "df_052 = (\n",
    "    df_receipt\n",
    "    .filter(pl.col(\"customer_id\").str.starts_with(\"Z\").not_())\n",
    "    .group_by(\"customer_id\")\n",
    "    .agg(pl.col(\"amount\").sum())\n",
    "    .select(\n",
    "        pl.col(\"customer_id\"),\n",
    "        pl.col(\"amount\"),\n",
    "        pl.when(pl.col(\"amount\") <= 2000).then(0).otherwise(1).alias(\"sales_flg\"),\n",
    "    )\n",
    "    .sort(pl.col(\"customer_id\"))\n",
    ")\n",
    "\n",
    "df_052.head(10)"
   ]
  },
  {
   "cell_type": "code",
   "execution_count": 61,
   "metadata": {},
   "outputs": [
    {
     "name": "stderr",
     "output_type": "stream",
     "text": [
      "sys:1: MapWithoutReturnDtypeWarning: Calling `map_elements` without specifying `return_dtype` can lead to unpredictable results. Specify `return_dtype` to silence this warning.\n"
     ]
    },
    {
     "data": {
      "text/html": [
       "<div><style>\n",
       ".dataframe > thead > tr,\n",
       ".dataframe > tbody > tr {\n",
       "  text-align: right;\n",
       "  white-space: pre-wrap;\n",
       "}\n",
       "</style>\n",
       "<small>shape: (10, 3)</small><table border=\"1\" class=\"dataframe\"><thead><tr><th>customer_id</th><th>amount</th><th>sales_flg</th></tr><tr><td>str</td><td>i64</td><td>i64</td></tr></thead><tbody><tr><td>&quot;CS001113000004&quot;</td><td>1298</td><td>0</td></tr><tr><td>&quot;CS001114000005&quot;</td><td>626</td><td>0</td></tr><tr><td>&quot;CS001115000010&quot;</td><td>3044</td><td>1</td></tr><tr><td>&quot;CS001205000004&quot;</td><td>1988</td><td>0</td></tr><tr><td>&quot;CS001205000006&quot;</td><td>3337</td><td>1</td></tr><tr><td>&quot;CS001211000025&quot;</td><td>456</td><td>0</td></tr><tr><td>&quot;CS001212000027&quot;</td><td>448</td><td>0</td></tr><tr><td>&quot;CS001212000031&quot;</td><td>296</td><td>0</td></tr><tr><td>&quot;CS001212000046&quot;</td><td>228</td><td>0</td></tr><tr><td>&quot;CS001212000070&quot;</td><td>456</td><td>0</td></tr></tbody></table></div>"
      ],
      "text/plain": [
       "shape: (10, 3)\n",
       "┌────────────────┬────────┬───────────┐\n",
       "│ customer_id    ┆ amount ┆ sales_flg │\n",
       "│ ---            ┆ ---    ┆ ---       │\n",
       "│ str            ┆ i64    ┆ i64       │\n",
       "╞════════════════╪════════╪═══════════╡\n",
       "│ CS001113000004 ┆ 1298   ┆ 0         │\n",
       "│ CS001114000005 ┆ 626    ┆ 0         │\n",
       "│ CS001115000010 ┆ 3044   ┆ 1         │\n",
       "│ CS001205000004 ┆ 1988   ┆ 0         │\n",
       "│ CS001205000006 ┆ 3337   ┆ 1         │\n",
       "│ CS001211000025 ┆ 456    ┆ 0         │\n",
       "│ CS001212000027 ┆ 448    ┆ 0         │\n",
       "│ CS001212000031 ┆ 296    ┆ 0         │\n",
       "│ CS001212000046 ┆ 228    ┆ 0         │\n",
       "│ CS001212000070 ┆ 456    ┆ 0         │\n",
       "└────────────────┴────────┴───────────┘"
      ]
     },
     "execution_count": 61,
     "metadata": {},
     "output_type": "execute_result"
    }
   ],
   "source": [
    "# applyを使っても良いが処理がpythonなのでwhenより遅い\n",
    "df_052 = (\n",
    "    df_receipt\n",
    "    .filter(pl.col(\"customer_id\").str.starts_with(\"Z\").not_())\n",
    "    .group_by(\"customer_id\")\n",
    "    .agg(pl.col(\"amount\").sum())\n",
    "    .select(\n",
    "        \"customer_id\",\n",
    "        \"amount\",\n",
    "        pl.col(\"amount\").map_elements(lambda x: 1 if x > 2000 else 0).alias(\"sales_flg\"),\n",
    "    )\n",
    "    .sort(pl.col(\"customer_id\"))\n",
    ")\n",
    "\n",
    "df_052.head(10)"
   ]
  },
  {
   "attachments": {},
   "cell_type": "markdown",
   "metadata": {},
   "source": [
    "---\n",
    "> P-053: 顧客データ（df_customer）の郵便番号（postal_cd）に対し、東京（先頭3桁が100〜209のもの）を1、それ以外のものを0に二値化せよ。さらにレシート明細データ（df_receipt）と結合し、全期間において売上実績のある顧客数を、作成した二値ごとにカウントせよ。"
   ]
  },
  {
   "cell_type": "code",
   "execution_count": 62,
   "metadata": {},
   "outputs": [
    {
     "data": {
      "text/html": [
       "<div><style>\n",
       ".dataframe > thead > tr,\n",
       ".dataframe > tbody > tr {\n",
       "  text-align: right;\n",
       "  white-space: pre-wrap;\n",
       "}\n",
       "</style>\n",
       "<small>shape: (2, 2)</small><table border=\"1\" class=\"dataframe\"><thead><tr><th>postal_flag</th><th>customer_id</th></tr><tr><td>i32</td><td>u32</td></tr></thead><tbody><tr><td>0</td><td>3906</td></tr><tr><td>1</td><td>4400</td></tr></tbody></table></div>"
      ],
      "text/plain": [
       "shape: (2, 2)\n",
       "┌─────────────┬─────────────┐\n",
       "│ postal_flag ┆ customer_id │\n",
       "│ ---         ┆ ---         │\n",
       "│ i32         ┆ u32         │\n",
       "╞═════════════╪═════════════╡\n",
       "│ 0           ┆ 3906        │\n",
       "│ 1           ┆ 4400        │\n",
       "└─────────────┴─────────────┘"
      ]
     },
     "execution_count": 62,
     "metadata": {},
     "output_type": "execute_result"
    }
   ],
   "source": [
    "df_053 = (\n",
    "    df_customer.select(\n",
    "        pl.col(\"customer_id\"),\n",
    "        pl.when(\n",
    "            pl.col(\"postal_cd\")\n",
    "            .str.slice(0, 3)\n",
    "            .cast(pl.Int16)\n",
    "            .is_between(100, 209, closed=\"both\")\n",
    "        )\n",
    "        .then(1)  # .is_between()で範囲指定。colosed = \"both\", \"left\", \"right\"がある\n",
    "        .otherwise(0)\n",
    "        .alias(\"postal_flag\"),\n",
    "    )\n",
    "    .join(df_receipt, on=\"customer_id\", how=\"inner\")\n",
    "    .group_by(pl.col(\"postal_flag\"))\n",
    "    .agg(pl.col(\"customer_id\").n_unique())  # .count()だとcustomer_idの重複を認めてしまうのでNG\n",
    ")\n",
    "\n",
    "df_053.head(10)"
   ]
  },
  {
   "attachments": {},
   "cell_type": "markdown",
   "metadata": {},
   "source": [
    "---\n",
    "> P-054: 顧客データ（df_customer）の住所（address）は、埼玉県、千葉県、東京都、神奈川県のいずれかとなっている。都道府県毎にコード値を作成し、顧客ID、住所とともに10件表示せよ。値は埼玉県を11、千葉県を12、東京都を13、神奈川県を14とすること。"
   ]
  },
  {
   "cell_type": "code",
   "execution_count": 63,
   "metadata": {},
   "outputs": [
    {
     "data": {
      "text/html": [
       "<div><style>\n",
       ".dataframe > thead > tr,\n",
       ".dataframe > tbody > tr {\n",
       "  text-align: right;\n",
       "  white-space: pre-wrap;\n",
       "}\n",
       "</style>\n",
       "<small>shape: (10, 3)</small><table border=\"1\" class=\"dataframe\"><thead><tr><th>customer_id</th><th>address</th><th>predecture_cd</th></tr><tr><td>str</td><td>str</td><td>str</td></tr></thead><tbody><tr><td>&quot;CS021313000114&quot;</td><td>&quot;神奈川県伊勢原市粟窪**********&quot;</td><td>&quot;14&quot;</td></tr><tr><td>&quot;CS037613000071&quot;</td><td>&quot;東京都江東区南砂**********&quot;</td><td>&quot;13&quot;</td></tr><tr><td>&quot;CS031415000172&quot;</td><td>&quot;東京都渋谷区代々木**********&quot;</td><td>&quot;13&quot;</td></tr><tr><td>&quot;CS028811000001&quot;</td><td>&quot;神奈川県横浜市泉区和泉町**********&quot;</td><td>&quot;14&quot;</td></tr><tr><td>&quot;CS001215000145&quot;</td><td>&quot;東京都大田区仲六郷**********&quot;</td><td>&quot;13&quot;</td></tr><tr><td>&quot;CS020401000016&quot;</td><td>&quot;東京都板橋区若木**********&quot;</td><td>&quot;13&quot;</td></tr><tr><td>&quot;CS015414000103&quot;</td><td>&quot;東京都江東区北砂**********&quot;</td><td>&quot;13&quot;</td></tr><tr><td>&quot;CS029403000008&quot;</td><td>&quot;千葉県浦安市海楽**********&quot;</td><td>&quot;12&quot;</td></tr><tr><td>&quot;CS015804000004&quot;</td><td>&quot;東京都江東区北砂**********&quot;</td><td>&quot;13&quot;</td></tr><tr><td>&quot;CS033513000180&quot;</td><td>&quot;神奈川県横浜市旭区善部町**********&quot;</td><td>&quot;14&quot;</td></tr></tbody></table></div>"
      ],
      "text/plain": [
       "shape: (10, 3)\n",
       "┌────────────────┬─────────────────────────────────┬───────────────┐\n",
       "│ customer_id    ┆ address                         ┆ predecture_cd │\n",
       "│ ---            ┆ ---                             ┆ ---           │\n",
       "│ str            ┆ str                             ┆ str           │\n",
       "╞════════════════╪═════════════════════════════════╪═══════════════╡\n",
       "│ CS021313000114 ┆ 神奈川県伊勢原市粟窪**********  ┆ 14            │\n",
       "│ CS037613000071 ┆ 東京都江東区南砂**********      ┆ 13            │\n",
       "│ CS031415000172 ┆ 東京都渋谷区代々木**********    ┆ 13            │\n",
       "│ CS028811000001 ┆ 神奈川県横浜市泉区和泉町******* ┆ 14            │\n",
       "│                ┆ ***                             ┆               │\n",
       "│ CS001215000145 ┆ 東京都大田区仲六郷**********    ┆ 13            │\n",
       "│ CS020401000016 ┆ 東京都板橋区若木**********      ┆ 13            │\n",
       "│ CS015414000103 ┆ 東京都江東区北砂**********      ┆ 13            │\n",
       "│ CS029403000008 ┆ 千葉県浦安市海楽**********      ┆ 12            │\n",
       "│ CS015804000004 ┆ 東京都江東区北砂**********      ┆ 13            │\n",
       "│ CS033513000180 ┆ 神奈川県横浜市旭区善部町******* ┆ 14            │\n",
       "│                ┆ ***                             ┆               │\n",
       "└────────────────┴─────────────────────────────────┴───────────────┘"
      ]
     },
     "execution_count": 63,
     "metadata": {},
     "output_type": "execute_result"
    }
   ],
   "source": [
    "df_054 = df_customer.select(\n",
    "    \"customer_id\", \"address\",\n",
    "    pl.when(pl.col(\"address\").str.starts_with(\"埼玉県\"))\n",
    "    .then(pl.lit(\"11\"))\n",
    "    .when(pl.col(\"address\").str.starts_with(\"千葉県\"))\n",
    "    .then(pl.lit(\"12\"))\n",
    "    .when(pl.col(\"address\").str.starts_with(\"東京都\"))\n",
    "    .then(pl.lit(\"13\"))\n",
    "    .when(pl.col(\"address\").str.starts_with(\"神奈川県\"))\n",
    "    .then(pl.lit(\"14\"))\n",
    "    .otherwise(pl.lit(\"00\"))\n",
    "    .alias(\"predecture_cd\"),\n",
    ")\n",
    "\n",
    "df_054.head(10)"
   ]
  },
  {
   "cell_type": "code",
   "execution_count": 64,
   "metadata": {},
   "outputs": [
    {
     "data": {
      "text/html": [
       "<div><style>\n",
       ".dataframe > thead > tr,\n",
       ".dataframe > tbody > tr {\n",
       "  text-align: right;\n",
       "  white-space: pre-wrap;\n",
       "}\n",
       "</style>\n",
       "<small>shape: (10, 3)</small><table border=\"1\" class=\"dataframe\"><thead><tr><th>customer_id</th><th>address</th><th>prefecture_cd</th></tr><tr><td>str</td><td>str</td><td>str</td></tr></thead><tbody><tr><td>&quot;CS021313000114&quot;</td><td>&quot;神奈川県伊勢原市粟窪**********&quot;</td><td>&quot;14&quot;</td></tr><tr><td>&quot;CS037613000071&quot;</td><td>&quot;東京都江東区南砂**********&quot;</td><td>&quot;13&quot;</td></tr><tr><td>&quot;CS031415000172&quot;</td><td>&quot;東京都渋谷区代々木**********&quot;</td><td>&quot;13&quot;</td></tr><tr><td>&quot;CS028811000001&quot;</td><td>&quot;神奈川県横浜市泉区和泉町**********&quot;</td><td>&quot;14&quot;</td></tr><tr><td>&quot;CS001215000145&quot;</td><td>&quot;東京都大田区仲六郷**********&quot;</td><td>&quot;13&quot;</td></tr><tr><td>&quot;CS020401000016&quot;</td><td>&quot;東京都板橋区若木**********&quot;</td><td>&quot;13&quot;</td></tr><tr><td>&quot;CS015414000103&quot;</td><td>&quot;東京都江東区北砂**********&quot;</td><td>&quot;13&quot;</td></tr><tr><td>&quot;CS029403000008&quot;</td><td>&quot;千葉県浦安市海楽**********&quot;</td><td>&quot;12&quot;</td></tr><tr><td>&quot;CS015804000004&quot;</td><td>&quot;東京都江東区北砂**********&quot;</td><td>&quot;13&quot;</td></tr><tr><td>&quot;CS033513000180&quot;</td><td>&quot;神奈川県横浜市旭区善部町**********&quot;</td><td>&quot;14&quot;</td></tr></tbody></table></div>"
      ],
      "text/plain": [
       "shape: (10, 3)\n",
       "┌────────────────┬─────────────────────────────────┬───────────────┐\n",
       "│ customer_id    ┆ address                         ┆ prefecture_cd │\n",
       "│ ---            ┆ ---                             ┆ ---           │\n",
       "│ str            ┆ str                             ┆ str           │\n",
       "╞════════════════╪═════════════════════════════════╪═══════════════╡\n",
       "│ CS021313000114 ┆ 神奈川県伊勢原市粟窪**********  ┆ 14            │\n",
       "│ CS037613000071 ┆ 東京都江東区南砂**********      ┆ 13            │\n",
       "│ CS031415000172 ┆ 東京都渋谷区代々木**********    ┆ 13            │\n",
       "│ CS028811000001 ┆ 神奈川県横浜市泉区和泉町******* ┆ 14            │\n",
       "│                ┆ ***                             ┆               │\n",
       "│ CS001215000145 ┆ 東京都大田区仲六郷**********    ┆ 13            │\n",
       "│ CS020401000016 ┆ 東京都板橋区若木**********      ┆ 13            │\n",
       "│ CS015414000103 ┆ 東京都江東区北砂**********      ┆ 13            │\n",
       "│ CS029403000008 ┆ 千葉県浦安市海楽**********      ┆ 12            │\n",
       "│ CS015804000004 ┆ 東京都江東区北砂**********      ┆ 13            │\n",
       "│ CS033513000180 ┆ 神奈川県横浜市旭区善部町******* ┆ 14            │\n",
       "│                ┆ ***                             ┆               │\n",
       "└────────────────┴─────────────────────────────────┴───────────────┘"
      ]
     },
     "execution_count": 64,
     "metadata": {},
     "output_type": "execute_result"
    }
   ],
   "source": [
    "# 別解\n",
    "\n",
    "df_054 = df_customer.with_columns(\n",
    "    pl.col(\"address\")\n",
    "    .str.replace(r\"埼玉県.*\", \"11\")\n",
    "    .str.replace(r\"千葉県.*\", \"12\")\n",
    "    .str.replace(r\"東京都.*\", \"13\")\n",
    "    .str.replace(r\"神奈川県.*\", \"14\")\n",
    "    .alias(\"prefecture_cd\")\n",
    ").select([\"customer_id\", \"address\", \"prefecture_cd\"])\n",
    "\n",
    "df_054.head(10)"
   ]
  },
  {
   "attachments": {},
   "cell_type": "markdown",
   "metadata": {},
   "source": [
    "---\n",
    "> P-055: レシート明細（df_receipt）データの売上金額（amount）を顧客ID（customer_id）ごとに合計し、その合計金額の四分位点を求めよ。その上で、顧客ごとの売上金額合計に対して以下の基準でカテゴリ値を作成し、顧客ID、売上金額合計とともに10件表示せよ。カテゴリ値は順に1〜4とする。\n",
    ">\n",
    "> - 最小値以上第1四分位未満 ・・・ 1を付与\n",
    "> - 第1四分位以上第2四分位未満 ・・・ 2を付与\n",
    "> - 第2四分位以上第3四分位未満 ・・・ 3を付与\n",
    "> - 第3四分位以上 ・・・ 4を付与"
   ]
  },
  {
   "cell_type": "code",
   "execution_count": 65,
   "metadata": {},
   "outputs": [
    {
     "data": {
      "text/html": [
       "<div><style>\n",
       ".dataframe > thead > tr,\n",
       ".dataframe > tbody > tr {\n",
       "  text-align: right;\n",
       "  white-space: pre-wrap;\n",
       "}\n",
       "</style>\n",
       "<small>shape: (10, 3)</small><table border=\"1\" class=\"dataframe\"><thead><tr><th>customer_id</th><th>amount</th><th>pct_group</th></tr><tr><td>str</td><td>i64</td><td>i32</td></tr></thead><tbody><tr><td>&quot;CS001113000004&quot;</td><td>1298</td><td>2</td></tr><tr><td>&quot;CS001114000005&quot;</td><td>626</td><td>2</td></tr><tr><td>&quot;CS001115000010&quot;</td><td>3044</td><td>3</td></tr><tr><td>&quot;CS001205000004&quot;</td><td>1988</td><td>3</td></tr><tr><td>&quot;CS001205000006&quot;</td><td>3337</td><td>3</td></tr><tr><td>&quot;CS001211000025&quot;</td><td>456</td><td>1</td></tr><tr><td>&quot;CS001212000027&quot;</td><td>448</td><td>1</td></tr><tr><td>&quot;CS001212000031&quot;</td><td>296</td><td>1</td></tr><tr><td>&quot;CS001212000046&quot;</td><td>228</td><td>1</td></tr><tr><td>&quot;CS001212000070&quot;</td><td>456</td><td>1</td></tr></tbody></table></div>"
      ],
      "text/plain": [
       "shape: (10, 3)\n",
       "┌────────────────┬────────┬───────────┐\n",
       "│ customer_id    ┆ amount ┆ pct_group │\n",
       "│ ---            ┆ ---    ┆ ---       │\n",
       "│ str            ┆ i64    ┆ i32       │\n",
       "╞════════════════╪════════╪═══════════╡\n",
       "│ CS001113000004 ┆ 1298   ┆ 2         │\n",
       "│ CS001114000005 ┆ 626    ┆ 2         │\n",
       "│ CS001115000010 ┆ 3044   ┆ 3         │\n",
       "│ CS001205000004 ┆ 1988   ┆ 3         │\n",
       "│ CS001205000006 ┆ 3337   ┆ 3         │\n",
       "│ CS001211000025 ┆ 456    ┆ 1         │\n",
       "│ CS001212000027 ┆ 448    ┆ 1         │\n",
       "│ CS001212000031 ┆ 296    ┆ 1         │\n",
       "│ CS001212000046 ┆ 228    ┆ 1         │\n",
       "│ CS001212000070 ┆ 456    ┆ 1         │\n",
       "└────────────────┴────────┴───────────┘"
      ]
     },
     "execution_count": 65,
     "metadata": {},
     "output_type": "execute_result"
    }
   ],
   "source": [
    "df_055 = (\n",
    "    df_receipt.group_by(\"customer_id\")\n",
    "    .agg(pl.col(\"amount\").sum())\n",
    "    .sort(\"customer_id\")\n",
    "    .with_columns(\n",
    "        pl.when(pl.col(\"amount\") < pl.col(\"amount\").quantile(0.25))\n",
    "        .then(1)\n",
    "        .when(pl.col(\"amount\") < pl.col(\"amount\").quantile(0.50))\n",
    "        .then(2)\n",
    "        .when(pl.col(\"amount\") < pl.col(\"amount\").quantile(0.75))\n",
    "        .then(3)\n",
    "        .otherwise(4)\n",
    "        .alias(\"pct_group\")\n",
    "    )\n",
    ")\n",
    "\n",
    "df_055.head(10)"
   ]
  },
  {
   "attachments": {},
   "cell_type": "markdown",
   "metadata": {},
   "source": [
    "---\n",
    "> P-056: 顧客データ（df_customer）の年齢（age）をもとに10歳刻みで年代を算出し、顧客ID（customer_id）、生年月日（birth_day）とともに10件表示せよ。ただし、60歳以上は全て60歳代とすること。年代を表すカテゴリ名は任意とする。"
   ]
  },
  {
   "cell_type": "code",
   "execution_count": 66,
   "metadata": {},
   "outputs": [
    {
     "data": {
      "text/html": [
       "<div><style>\n",
       ".dataframe > thead > tr,\n",
       ".dataframe > tbody > tr {\n",
       "  text-align: right;\n",
       "  white-space: pre-wrap;\n",
       "}\n",
       "</style>\n",
       "<small>shape: (10, 3)</small><table border=\"1\" class=\"dataframe\"><thead><tr><th>customer_id</th><th>birth_day</th><th>era</th></tr><tr><td>str</td><td>str</td><td>i8</td></tr></thead><tbody><tr><td>&quot;CS021313000114&quot;</td><td>&quot;1981-04-29&quot;</td><td>30</td></tr><tr><td>&quot;CS037613000071&quot;</td><td>&quot;1952-04-01&quot;</td><td>60</td></tr><tr><td>&quot;CS031415000172&quot;</td><td>&quot;1976-10-04&quot;</td><td>40</td></tr><tr><td>&quot;CS028811000001&quot;</td><td>&quot;1933-03-27&quot;</td><td>60</td></tr><tr><td>&quot;CS001215000145&quot;</td><td>&quot;1995-03-29&quot;</td><td>20</td></tr><tr><td>&quot;CS020401000016&quot;</td><td>&quot;1974-09-15&quot;</td><td>40</td></tr><tr><td>&quot;CS015414000103&quot;</td><td>&quot;1977-08-09&quot;</td><td>40</td></tr><tr><td>&quot;CS029403000008&quot;</td><td>&quot;1973-08-17&quot;</td><td>40</td></tr><tr><td>&quot;CS015804000004&quot;</td><td>&quot;1931-05-02&quot;</td><td>60</td></tr><tr><td>&quot;CS033513000180&quot;</td><td>&quot;1962-07-11&quot;</td><td>50</td></tr></tbody></table></div>"
      ],
      "text/plain": [
       "shape: (10, 3)\n",
       "┌────────────────┬────────────┬─────┐\n",
       "│ customer_id    ┆ birth_day  ┆ era │\n",
       "│ ---            ┆ ---        ┆ --- │\n",
       "│ str            ┆ str        ┆ i8  │\n",
       "╞════════════════╪════════════╪═════╡\n",
       "│ CS021313000114 ┆ 1981-04-29 ┆ 30  │\n",
       "│ CS037613000071 ┆ 1952-04-01 ┆ 60  │\n",
       "│ CS031415000172 ┆ 1976-10-04 ┆ 40  │\n",
       "│ CS028811000001 ┆ 1933-03-27 ┆ 60  │\n",
       "│ CS001215000145 ┆ 1995-03-29 ┆ 20  │\n",
       "│ CS020401000016 ┆ 1974-09-15 ┆ 40  │\n",
       "│ CS015414000103 ┆ 1977-08-09 ┆ 40  │\n",
       "│ CS029403000008 ┆ 1973-08-17 ┆ 40  │\n",
       "│ CS015804000004 ┆ 1931-05-02 ┆ 60  │\n",
       "│ CS033513000180 ┆ 1962-07-11 ┆ 50  │\n",
       "└────────────────┴────────────┴─────┘"
      ]
     },
     "execution_count": 66,
     "metadata": {},
     "output_type": "execute_result"
    }
   ],
   "source": [
    "df_056 = (\n",
    "    df_customer\n",
    "    .with_columns((pl.col(\"age\")//10 * 10).cast(pl.Int8).alias(\"era\"))\n",
    "    .select(\n",
    "    \"customer_id\", \"birth_day\",\n",
    "    pl.when(pl.col(\"era\") >= 60).then(60).otherwise(pl.col(\"era\")).alias(\"era\"),\n",
    "    )\n",
    ")\n",
    "\n",
    "df_056.head(10)"
   ]
  },
  {
   "cell_type": "code",
   "execution_count": 67,
   "metadata": {},
   "outputs": [
    {
     "name": "stderr",
     "output_type": "stream",
     "text": [
      "sys:1: MapWithoutReturnDtypeWarning: Calling `map_elements` without specifying `return_dtype` can lead to unpredictable results. Specify `return_dtype` to silence this warning.\n",
      "sys:1: MapWithoutReturnDtypeWarning: Calling `map_elements` without specifying `return_dtype` can lead to unpredictable results. Specify `return_dtype` to silence this warning.\n",
      "sys:1: MapWithoutReturnDtypeWarning: Calling `map_elements` without specifying `return_dtype` can lead to unpredictable results. Specify `return_dtype` to silence this warning.\n",
      "sys:1: MapWithoutReturnDtypeWarning: Calling `map_elements` without specifying `return_dtype` can lead to unpredictable results. Specify `return_dtype` to silence this warning.\n",
      "sys:1: MapWithoutReturnDtypeWarning: Calling `map_elements` without specifying `return_dtype` can lead to unpredictable results. Specify `return_dtype` to silence this warning.\n",
      "sys:1: MapWithoutReturnDtypeWarning: Calling `map_elements` without specifying `return_dtype` can lead to unpredictable results. Specify `return_dtype` to silence this warning.\n",
      "sys:1: MapWithoutReturnDtypeWarning: Calling `map_elements` without specifying `return_dtype` can lead to unpredictable results. Specify `return_dtype` to silence this warning.\n",
      "sys:1: MapWithoutReturnDtypeWarning: Calling `map_elements` without specifying `return_dtype` can lead to unpredictable results. Specify `return_dtype` to silence this warning.\n",
      "sys:1: MapWithoutReturnDtypeWarning: Calling `map_elements` without specifying `return_dtype` can lead to unpredictable results. Specify `return_dtype` to silence this warning.\n",
      "sys:1: MapWithoutReturnDtypeWarning: Calling `map_elements` without specifying `return_dtype` can lead to unpredictable results. Specify `return_dtype` to silence this warning.\n",
      "sys:1: MapWithoutReturnDtypeWarning: Calling `map_elements` without specifying `return_dtype` can lead to unpredictable results. Specify `return_dtype` to silence this warning.\n",
      "sys:1: MapWithoutReturnDtypeWarning: Calling `map_elements` without specifying `return_dtype` can lead to unpredictable results. Specify `return_dtype` to silence this warning.\n",
      "sys:1: MapWithoutReturnDtypeWarning: Calling `map_elements` without specifying `return_dtype` can lead to unpredictable results. Specify `return_dtype` to silence this warning.\n",
      "sys:1: MapWithoutReturnDtypeWarning: Calling `map_elements` without specifying `return_dtype` can lead to unpredictable results. Specify `return_dtype` to silence this warning.\n",
      "sys:1: MapWithoutReturnDtypeWarning: Calling `map_elements` without specifying `return_dtype` can lead to unpredictable results. Specify `return_dtype` to silence this warning.\n",
      "sys:1: MapWithoutReturnDtypeWarning: Calling `map_elements` without specifying `return_dtype` can lead to unpredictable results. Specify `return_dtype` to silence this warning.\n",
      "sys:1: MapWithoutReturnDtypeWarning: Calling `map_elements` without specifying `return_dtype` can lead to unpredictable results. Specify `return_dtype` to silence this warning.\n",
      "sys:1: MapWithoutReturnDtypeWarning: Calling `map_elements` without specifying `return_dtype` can lead to unpredictable results. Specify `return_dtype` to silence this warning.\n",
      "sys:1: MapWithoutReturnDtypeWarning: Calling `map_elements` without specifying `return_dtype` can lead to unpredictable results. Specify `return_dtype` to silence this warning.\n",
      "sys:1: MapWithoutReturnDtypeWarning: Calling `map_elements` without specifying `return_dtype` can lead to unpredictable results. Specify `return_dtype` to silence this warning.\n",
      "sys:1: MapWithoutReturnDtypeWarning: Calling `map_elements` without specifying `return_dtype` can lead to unpredictable results. Specify `return_dtype` to silence this warning.\n",
      "sys:1: MapWithoutReturnDtypeWarning: Calling `map_elements` without specifying `return_dtype` can lead to unpredictable results. Specify `return_dtype` to silence this warning.\n",
      "sys:1: MapWithoutReturnDtypeWarning: Calling `map_elements` without specifying `return_dtype` can lead to unpredictable results. Specify `return_dtype` to silence this warning.\n",
      "sys:1: MapWithoutReturnDtypeWarning: Calling `map_elements` without specifying `return_dtype` can lead to unpredictable results. Specify `return_dtype` to silence this warning.\n"
     ]
    },
    {
     "data": {
      "text/html": [
       "<div><style>\n",
       ".dataframe > thead > tr,\n",
       ".dataframe > tbody > tr {\n",
       "  text-align: right;\n",
       "  white-space: pre-wrap;\n",
       "}\n",
       "</style>\n",
       "<small>shape: (10, 3)</small><table border=\"1\" class=\"dataframe\"><thead><tr><th>customer_id</th><th>birth_day</th><th>era</th></tr><tr><td>str</td><td>str</td><td>i64</td></tr></thead><tbody><tr><td>&quot;CS021313000114&quot;</td><td>&quot;1981-04-29&quot;</td><td>30</td></tr><tr><td>&quot;CS037613000071&quot;</td><td>&quot;1952-04-01&quot;</td><td>60</td></tr><tr><td>&quot;CS031415000172&quot;</td><td>&quot;1976-10-04&quot;</td><td>40</td></tr><tr><td>&quot;CS028811000001&quot;</td><td>&quot;1933-03-27&quot;</td><td>60</td></tr><tr><td>&quot;CS001215000145&quot;</td><td>&quot;1995-03-29&quot;</td><td>20</td></tr><tr><td>&quot;CS020401000016&quot;</td><td>&quot;1974-09-15&quot;</td><td>40</td></tr><tr><td>&quot;CS015414000103&quot;</td><td>&quot;1977-08-09&quot;</td><td>40</td></tr><tr><td>&quot;CS029403000008&quot;</td><td>&quot;1973-08-17&quot;</td><td>40</td></tr><tr><td>&quot;CS015804000004&quot;</td><td>&quot;1931-05-02&quot;</td><td>60</td></tr><tr><td>&quot;CS033513000180&quot;</td><td>&quot;1962-07-11&quot;</td><td>50</td></tr></tbody></table></div>"
      ],
      "text/plain": [
       "shape: (10, 3)\n",
       "┌────────────────┬────────────┬─────┐\n",
       "│ customer_id    ┆ birth_day  ┆ era │\n",
       "│ ---            ┆ ---        ┆ --- │\n",
       "│ str            ┆ str        ┆ i64 │\n",
       "╞════════════════╪════════════╪═════╡\n",
       "│ CS021313000114 ┆ 1981-04-29 ┆ 30  │\n",
       "│ CS037613000071 ┆ 1952-04-01 ┆ 60  │\n",
       "│ CS031415000172 ┆ 1976-10-04 ┆ 40  │\n",
       "│ CS028811000001 ┆ 1933-03-27 ┆ 60  │\n",
       "│ CS001215000145 ┆ 1995-03-29 ┆ 20  │\n",
       "│ CS020401000016 ┆ 1974-09-15 ┆ 40  │\n",
       "│ CS015414000103 ┆ 1977-08-09 ┆ 40  │\n",
       "│ CS029403000008 ┆ 1973-08-17 ┆ 40  │\n",
       "│ CS015804000004 ┆ 1931-05-02 ┆ 60  │\n",
       "│ CS033513000180 ┆ 1962-07-11 ┆ 50  │\n",
       "└────────────────┴────────────┴─────┘"
      ]
     },
     "execution_count": 67,
     "metadata": {},
     "output_type": "execute_result"
    }
   ],
   "source": [
    "# map_elementsを使う方法\n",
    "\n",
    "df_056 = df_customer.select(\n",
    "    \"customer_id\", \"birth_day\",\n",
    "    pl.col(\"age\").map_elements(lambda x: math.floor(min(x, 60) / 10) * 10).alias(\"era\"),\n",
    ")\n",
    "\n",
    "df_056.head(10)"
   ]
  },
  {
   "cell_type": "code",
   "execution_count": 68,
   "metadata": {},
   "outputs": [
    {
     "data": {
      "text/html": [
       "<div><style>\n",
       ".dataframe > thead > tr,\n",
       ".dataframe > tbody > tr {\n",
       "  text-align: right;\n",
       "  white-space: pre-wrap;\n",
       "}\n",
       "</style>\n",
       "<small>shape: (21_971, 3)</small><table border=\"1\" class=\"dataframe\"><thead><tr><th>customer_id</th><th>birth_day</th><th>era</th></tr><tr><td>str</td><td>str</td><td>cat</td></tr></thead><tbody><tr><td>&quot;CS025115000002&quot;</td><td>&quot;2007-04-18&quot;</td><td>&quot;(30, 40]&quot;</td></tr><tr><td>&quot;CS002114000010&quot;</td><td>&quot;2007-06-03&quot;</td><td>&quot;(60, inf]&quot;</td></tr><tr><td>&quot;CS022103000002&quot;</td><td>&quot;2007-10-02&quot;</td><td>&quot;(40, 50]&quot;</td></tr><tr><td>&quot;CS002113000009&quot;</td><td>&quot;2007-09-17&quot;</td><td>&quot;(60, inf]&quot;</td></tr><tr><td>&quot;CS035114000004&quot;</td><td>&quot;2007-11-25&quot;</td><td>&quot;(20, 30]&quot;</td></tr><tr><td>&hellip;</td><td>&hellip;</td><td>&hellip;</td></tr><tr><td>&quot;CS001814000022&quot;</td><td>&quot;1929-01-28&quot;</td><td>&quot;(50, 60]&quot;</td></tr><tr><td>&quot;CS026813000004&quot;</td><td>&quot;1928-12-14&quot;</td><td>&quot;(40, 50]&quot;</td></tr><tr><td>&quot;CS027803000004&quot;</td><td>&quot;1929-01-12&quot;</td><td>&quot;(40, 50]&quot;</td></tr><tr><td>&quot;CS018811000003&quot;</td><td>&quot;1929-01-07&quot;</td><td>&quot;(50, 60]&quot;</td></tr><tr><td>&quot;CS003813000014&quot;</td><td>&quot;1928-11-26&quot;</td><td>&quot;(20, 30]&quot;</td></tr></tbody></table></div>"
      ],
      "text/plain": [
       "shape: (21_971, 3)\n",
       "┌────────────────┬────────────┬───────────┐\n",
       "│ customer_id    ┆ birth_day  ┆ era       │\n",
       "│ ---            ┆ ---        ┆ ---       │\n",
       "│ str            ┆ str        ┆ cat       │\n",
       "╞════════════════╪════════════╪═══════════╡\n",
       "│ CS025115000002 ┆ 2007-04-18 ┆ (30, 40]  │\n",
       "│ CS002114000010 ┆ 2007-06-03 ┆ (60, inf] │\n",
       "│ CS022103000002 ┆ 2007-10-02 ┆ (40, 50]  │\n",
       "│ CS002113000009 ┆ 2007-09-17 ┆ (60, inf] │\n",
       "│ CS035114000004 ┆ 2007-11-25 ┆ (20, 30]  │\n",
       "│ …              ┆ …          ┆ …         │\n",
       "│ CS001814000022 ┆ 1929-01-28 ┆ (50, 60]  │\n",
       "│ CS026813000004 ┆ 1928-12-14 ┆ (40, 50]  │\n",
       "│ CS027803000004 ┆ 1929-01-12 ┆ (40, 50]  │\n",
       "│ CS018811000003 ┆ 1929-01-07 ┆ (50, 60]  │\n",
       "│ CS003813000014 ┆ 1928-11-26 ┆ (20, 30]  │\n",
       "└────────────────┴────────────┴───────────┘"
      ]
     },
     "execution_count": 68,
     "metadata": {},
     "output_type": "execute_result"
    }
   ],
   "source": [
    "# cutするためのseriesは勝手に並び替えられてしてしまう　いつか修正される？\n",
    "# そのため、cutするまえに一度並び替えを行う\n",
    "df_056_cut = df_customer.sort(\"age\", descending=False).select(\n",
    "    \"customer_id\", \"birth_day\",\n",
    "    df_customer.select(\"age\").to_series().cut(breaks=[10, 20, 30, 40, 50, 60]).alias(\"era\"),\n",
    ")\n",
    "\n",
    "df_056_cut"
   ]
  },
  {
   "attachments": {},
   "cell_type": "markdown",
   "metadata": {},
   "source": [
    "---\n",
    "> P-057: 056の抽出結果と性別コード（gender_cd）により、新たに性別×年代の組み合わせを表すカテゴリデータを作成し、10件表示せよ。組み合わせを表すカテゴリの値は任意とする。"
   ]
  },
  {
   "cell_type": "code",
   "execution_count": 69,
   "metadata": {},
   "outputs": [
    {
     "name": "stderr",
     "output_type": "stream",
     "text": [
      "sys:1: MapWithoutReturnDtypeWarning: Calling `map_elements` without specifying `return_dtype` can lead to unpredictable results. Specify `return_dtype` to silence this warning.\n",
      "sys:1: MapWithoutReturnDtypeWarning: Calling `map_elements` without specifying `return_dtype` can lead to unpredictable results. Specify `return_dtype` to silence this warning.\n",
      "sys:1: MapWithoutReturnDtypeWarning: Calling `map_elements` without specifying `return_dtype` can lead to unpredictable results. Specify `return_dtype` to silence this warning.\n",
      "sys:1: MapWithoutReturnDtypeWarning: Calling `map_elements` without specifying `return_dtype` can lead to unpredictable results. Specify `return_dtype` to silence this warning.\n",
      "sys:1: MapWithoutReturnDtypeWarning: Calling `map_elements` without specifying `return_dtype` can lead to unpredictable results. Specify `return_dtype` to silence this warning.\n",
      "sys:1: MapWithoutReturnDtypeWarning: Calling `map_elements` without specifying `return_dtype` can lead to unpredictable results. Specify `return_dtype` to silence this warning.\n",
      "sys:1: MapWithoutReturnDtypeWarning: Calling `map_elements` without specifying `return_dtype` can lead to unpredictable results. Specify `return_dtype` to silence this warning.\n",
      "sys:1: MapWithoutReturnDtypeWarning: Calling `map_elements` without specifying `return_dtype` can lead to unpredictable results. Specify `return_dtype` to silence this warning.\n",
      "sys:1: MapWithoutReturnDtypeWarning: Calling `map_elements` without specifying `return_dtype` can lead to unpredictable results. Specify `return_dtype` to silence this warning.\n",
      "sys:1: MapWithoutReturnDtypeWarning: Calling `map_elements` without specifying `return_dtype` can lead to unpredictable results. Specify `return_dtype` to silence this warning.\n",
      "sys:1: MapWithoutReturnDtypeWarning: Calling `map_elements` without specifying `return_dtype` can lead to unpredictable results. Specify `return_dtype` to silence this warning.\n",
      "sys:1: MapWithoutReturnDtypeWarning: Calling `map_elements` without specifying `return_dtype` can lead to unpredictable results. Specify `return_dtype` to silence this warning.\n",
      "sys:1: MapWithoutReturnDtypeWarning: Calling `map_elements` without specifying `return_dtype` can lead to unpredictable results. Specify `return_dtype` to silence this warning.\n",
      "sys:1: MapWithoutReturnDtypeWarning: Calling `map_elements` without specifying `return_dtype` can lead to unpredictable results. Specify `return_dtype` to silence this warning.\n",
      "sys:1: MapWithoutReturnDtypeWarning: Calling `map_elements` without specifying `return_dtype` can lead to unpredictable results. Specify `return_dtype` to silence this warning.\n",
      "sys:1: MapWithoutReturnDtypeWarning: Calling `map_elements` without specifying `return_dtype` can lead to unpredictable results. Specify `return_dtype` to silence this warning.\n",
      "sys:1: MapWithoutReturnDtypeWarning: Calling `map_elements` without specifying `return_dtype` can lead to unpredictable results. Specify `return_dtype` to silence this warning.\n",
      "sys:1: MapWithoutReturnDtypeWarning: Calling `map_elements` without specifying `return_dtype` can lead to unpredictable results. Specify `return_dtype` to silence this warning.\n",
      "sys:1: MapWithoutReturnDtypeWarning: Calling `map_elements` without specifying `return_dtype` can lead to unpredictable results. Specify `return_dtype` to silence this warning.\n",
      "sys:1: MapWithoutReturnDtypeWarning: Calling `map_elements` without specifying `return_dtype` can lead to unpredictable results. Specify `return_dtype` to silence this warning.\n",
      "sys:1: MapWithoutReturnDtypeWarning: Calling `map_elements` without specifying `return_dtype` can lead to unpredictable results. Specify `return_dtype` to silence this warning.\n",
      "sys:1: MapWithoutReturnDtypeWarning: Calling `map_elements` without specifying `return_dtype` can lead to unpredictable results. Specify `return_dtype` to silence this warning.\n",
      "sys:1: MapWithoutReturnDtypeWarning: Calling `map_elements` without specifying `return_dtype` can lead to unpredictable results. Specify `return_dtype` to silence this warning.\n",
      "sys:1: MapWithoutReturnDtypeWarning: Calling `map_elements` without specifying `return_dtype` can lead to unpredictable results. Specify `return_dtype` to silence this warning.\n"
     ]
    },
    {
     "data": {
      "text/html": [
       "<div><style>\n",
       ".dataframe > thead > tr,\n",
       ".dataframe > tbody > tr {\n",
       "  text-align: right;\n",
       "  white-space: pre-wrap;\n",
       "}\n",
       "</style>\n",
       "<small>shape: (10, 4)</small><table border=\"1\" class=\"dataframe\"><thead><tr><th>customer_id</th><th>birth_day</th><th>era</th><th>gender_era</th></tr><tr><td>str</td><td>str</td><td>str</td><td>str</td></tr></thead><tbody><tr><td>&quot;CS021313000114&quot;</td><td>&quot;1981-04-29&quot;</td><td>&quot;30&quot;</td><td>&quot;130&quot;</td></tr><tr><td>&quot;CS037613000071&quot;</td><td>&quot;1952-04-01&quot;</td><td>&quot;60&quot;</td><td>&quot;960&quot;</td></tr><tr><td>&quot;CS031415000172&quot;</td><td>&quot;1976-10-04&quot;</td><td>&quot;40&quot;</td><td>&quot;140&quot;</td></tr><tr><td>&quot;CS028811000001&quot;</td><td>&quot;1933-03-27&quot;</td><td>&quot;60&quot;</td><td>&quot;160&quot;</td></tr><tr><td>&quot;CS001215000145&quot;</td><td>&quot;1995-03-29&quot;</td><td>&quot;20&quot;</td><td>&quot;120&quot;</td></tr><tr><td>&quot;CS020401000016&quot;</td><td>&quot;1974-09-15&quot;</td><td>&quot;40&quot;</td><td>&quot;040&quot;</td></tr><tr><td>&quot;CS015414000103&quot;</td><td>&quot;1977-08-09&quot;</td><td>&quot;40&quot;</td><td>&quot;140&quot;</td></tr><tr><td>&quot;CS029403000008&quot;</td><td>&quot;1973-08-17&quot;</td><td>&quot;40&quot;</td><td>&quot;040&quot;</td></tr><tr><td>&quot;CS015804000004&quot;</td><td>&quot;1931-05-02&quot;</td><td>&quot;60&quot;</td><td>&quot;060&quot;</td></tr><tr><td>&quot;CS033513000180&quot;</td><td>&quot;1962-07-11&quot;</td><td>&quot;50&quot;</td><td>&quot;150&quot;</td></tr></tbody></table></div>"
      ],
      "text/plain": [
       "shape: (10, 4)\n",
       "┌────────────────┬────────────┬─────┬────────────┐\n",
       "│ customer_id    ┆ birth_day  ┆ era ┆ gender_era │\n",
       "│ ---            ┆ ---        ┆ --- ┆ ---        │\n",
       "│ str            ┆ str        ┆ str ┆ str        │\n",
       "╞════════════════╪════════════╪═════╪════════════╡\n",
       "│ CS021313000114 ┆ 1981-04-29 ┆ 30  ┆ 130        │\n",
       "│ CS037613000071 ┆ 1952-04-01 ┆ 60  ┆ 960        │\n",
       "│ CS031415000172 ┆ 1976-10-04 ┆ 40  ┆ 140        │\n",
       "│ CS028811000001 ┆ 1933-03-27 ┆ 60  ┆ 160        │\n",
       "│ CS001215000145 ┆ 1995-03-29 ┆ 20  ┆ 120        │\n",
       "│ CS020401000016 ┆ 1974-09-15 ┆ 40  ┆ 040        │\n",
       "│ CS015414000103 ┆ 1977-08-09 ┆ 40  ┆ 140        │\n",
       "│ CS029403000008 ┆ 1973-08-17 ┆ 40  ┆ 040        │\n",
       "│ CS015804000004 ┆ 1931-05-02 ┆ 60  ┆ 060        │\n",
       "│ CS033513000180 ┆ 1962-07-11 ┆ 50  ┆ 150        │\n",
       "└────────────────┴────────────┴─────┴────────────┘"
      ]
     },
     "execution_count": 69,
     "metadata": {},
     "output_type": "execute_result"
    }
   ],
   "source": [
    "df_057 = (\n",
    "    df_customer.with_columns(\n",
    "        pl.col(\"age\")\n",
    "        .map_elements(lambda x: str(math.floor(min(x, 60) / 10) * 10))\n",
    "        .alias(\"era\"))\n",
    "    .select(\n",
    "        \"customer_id\",\n",
    "        \"birth_day\",\n",
    "        \"era\",\n",
    "        # (pl.col(\"gender_cd\") + pl.col(\"era\")).alias(\"gender_era\")\n",
    "        # pl.concat_str()で文字列の結合\n",
    "        pl.concat_str([pl.col(\"gender_cd\"), pl.col(\"era\")]).alias(\"gender_era\"),\n",
    "    )\n",
    ")\n",
    "\n",
    "df_057.head(10)"
   ]
  },
  {
   "attachments": {},
   "cell_type": "markdown",
   "metadata": {},
   "source": [
    "---\n",
    "> P-058: 顧客データ（df_customer）の性別コード（gender_cd）をダミー変数化し、顧客ID（customer_id）とともに10件表示せよ。"
   ]
  },
  {
   "cell_type": "code",
   "execution_count": 70,
   "metadata": {},
   "outputs": [
    {
     "data": {
      "text/html": [
       "<div><style>\n",
       ".dataframe > thead > tr,\n",
       ".dataframe > tbody > tr {\n",
       "  text-align: right;\n",
       "  white-space: pre-wrap;\n",
       "}\n",
       "</style>\n",
       "<small>shape: (10, 4)</small><table border=\"1\" class=\"dataframe\"><thead><tr><th>customer_id</th><th>gender_cd_0</th><th>gender_cd_1</th><th>gender_cd_9</th></tr><tr><td>str</td><td>u8</td><td>u8</td><td>u8</td></tr></thead><tbody><tr><td>&quot;CS021313000114&quot;</td><td>0</td><td>1</td><td>0</td></tr><tr><td>&quot;CS037613000071&quot;</td><td>0</td><td>0</td><td>1</td></tr><tr><td>&quot;CS031415000172&quot;</td><td>0</td><td>1</td><td>0</td></tr><tr><td>&quot;CS028811000001&quot;</td><td>0</td><td>1</td><td>0</td></tr><tr><td>&quot;CS001215000145&quot;</td><td>0</td><td>1</td><td>0</td></tr><tr><td>&quot;CS020401000016&quot;</td><td>1</td><td>0</td><td>0</td></tr><tr><td>&quot;CS015414000103&quot;</td><td>0</td><td>1</td><td>0</td></tr><tr><td>&quot;CS029403000008&quot;</td><td>1</td><td>0</td><td>0</td></tr><tr><td>&quot;CS015804000004&quot;</td><td>1</td><td>0</td><td>0</td></tr><tr><td>&quot;CS033513000180&quot;</td><td>0</td><td>1</td><td>0</td></tr></tbody></table></div>"
      ],
      "text/plain": [
       "shape: (10, 4)\n",
       "┌────────────────┬─────────────┬─────────────┬─────────────┐\n",
       "│ customer_id    ┆ gender_cd_0 ┆ gender_cd_1 ┆ gender_cd_9 │\n",
       "│ ---            ┆ ---         ┆ ---         ┆ ---         │\n",
       "│ str            ┆ u8          ┆ u8          ┆ u8          │\n",
       "╞════════════════╪═════════════╪═════════════╪═════════════╡\n",
       "│ CS021313000114 ┆ 0           ┆ 1           ┆ 0           │\n",
       "│ CS037613000071 ┆ 0           ┆ 0           ┆ 1           │\n",
       "│ CS031415000172 ┆ 0           ┆ 1           ┆ 0           │\n",
       "│ CS028811000001 ┆ 0           ┆ 1           ┆ 0           │\n",
       "│ CS001215000145 ┆ 0           ┆ 1           ┆ 0           │\n",
       "│ CS020401000016 ┆ 1           ┆ 0           ┆ 0           │\n",
       "│ CS015414000103 ┆ 0           ┆ 1           ┆ 0           │\n",
       "│ CS029403000008 ┆ 1           ┆ 0           ┆ 0           │\n",
       "│ CS015804000004 ┆ 1           ┆ 0           ┆ 0           │\n",
       "│ CS033513000180 ┆ 0           ┆ 1           ┆ 0           │\n",
       "└────────────────┴─────────────┴─────────────┴─────────────┘"
      ]
     },
     "execution_count": 70,
     "metadata": {},
     "output_type": "execute_result"
    }
   ],
   "source": [
    "df_058 = df_customer.select(\n",
    "    \"customer_id\",\n",
    "    # *pl.get_dummies(df_customer.select(pl.col(\"gender_cd\")))  # 古い書き方　to_dummys()に変更された\n",
    "    *df_customer.select(\"gender_cd\").to_dummies()\n",
    ")  # 出力はDataFrame型なのでアンパックして展開する\n",
    "\n",
    "df_058.head(10)"
   ]
  },
  {
   "attachments": {},
   "cell_type": "markdown",
   "metadata": {},
   "source": [
    "## 統計処理"
   ]
  },
  {
   "attachments": {},
   "cell_type": "markdown",
   "metadata": {},
   "source": [
    "---\n",
    "> P-059: レシート明細データ（df_receipt）の売上金額（amount）を顧客ID（customer_id）ごとに合計し、売上金額合計を平均0、標準偏差1に標準化して顧客ID、売上金額合計とともに10件表示せよ。標準化に使用する標準偏差は、分散の平方根、もしくは不偏分散の平方根のどちらでも良いものとする。ただし、顧客IDが\"Z\"から始まるのものは非会員を表すため、除外して計算すること。\n",
    "\n",
    "- 標準化\n",
    "$$\n",
    "x_{new}^i = \\frac{x^i - \\mu}{\\sigma}\n",
    "$$"
   ]
  },
  {
   "cell_type": "code",
   "execution_count": 71,
   "metadata": {},
   "outputs": [
    {
     "data": {
      "text/html": [
       "<div><style>\n",
       ".dataframe > thead > tr,\n",
       ".dataframe > tbody > tr {\n",
       "  text-align: right;\n",
       "  white-space: pre-wrap;\n",
       "}\n",
       "</style>\n",
       "<small>shape: (10, 3)</small><table border=\"1\" class=\"dataframe\"><thead><tr><th>customer_id</th><th>amount</th><th>std_amount</th></tr><tr><td>str</td><td>i64</td><td>f64</td></tr></thead><tbody><tr><td>&quot;CS001113000004&quot;</td><td>1298</td><td>-0.459378</td></tr><tr><td>&quot;CS001114000005&quot;</td><td>626</td><td>-0.70639</td></tr><tr><td>&quot;CS001115000010&quot;</td><td>3044</td><td>0.182413</td></tr><tr><td>&quot;CS001205000004&quot;</td><td>1988</td><td>-0.205749</td></tr><tr><td>&quot;CS001205000006&quot;</td><td>3337</td><td>0.290114</td></tr><tr><td>&quot;CS001211000025&quot;</td><td>456</td><td>-0.768879</td></tr><tr><td>&quot;CS001212000027&quot;</td><td>448</td><td>-0.771819</td></tr><tr><td>&quot;CS001212000031&quot;</td><td>296</td><td>-0.827691</td></tr><tr><td>&quot;CS001212000046&quot;</td><td>228</td><td>-0.852686</td></tr><tr><td>&quot;CS001212000070&quot;</td><td>456</td><td>-0.768879</td></tr></tbody></table></div>"
      ],
      "text/plain": [
       "shape: (10, 3)\n",
       "┌────────────────┬────────┬────────────┐\n",
       "│ customer_id    ┆ amount ┆ std_amount │\n",
       "│ ---            ┆ ---    ┆ ---        │\n",
       "│ str            ┆ i64    ┆ f64        │\n",
       "╞════════════════╪════════╪════════════╡\n",
       "│ CS001113000004 ┆ 1298   ┆ -0.459378  │\n",
       "│ CS001114000005 ┆ 626    ┆ -0.70639   │\n",
       "│ CS001115000010 ┆ 3044   ┆ 0.182413   │\n",
       "│ CS001205000004 ┆ 1988   ┆ -0.205749  │\n",
       "│ CS001205000006 ┆ 3337   ┆ 0.290114   │\n",
       "│ CS001211000025 ┆ 456    ┆ -0.768879  │\n",
       "│ CS001212000027 ┆ 448    ┆ -0.771819  │\n",
       "│ CS001212000031 ┆ 296    ┆ -0.827691  │\n",
       "│ CS001212000046 ┆ 228    ┆ -0.852686  │\n",
       "│ CS001212000070 ┆ 456    ┆ -0.768879  │\n",
       "└────────────────┴────────┴────────────┘"
      ]
     },
     "execution_count": 71,
     "metadata": {},
     "output_type": "execute_result"
    }
   ],
   "source": [
    "df_059 = (\n",
    "    df_receipt\n",
    "    .filter(pl.col(\"customer_id\").str.starts_with(\"Z\").not_())\n",
    "    .group_by(\"customer_id\")\n",
    "    .agg(pl.col(\"amount\").sum())\n",
    "    .with_columns(\n",
    "         # ddof=1:標本標準偏差, ddof=0:母標準偏差\n",
    "        (\n",
    "            (pl.col(\"amount\") - pl.col(\"amount\").mean())\n",
    "            / pl.col(\"amount\").std(ddof=0)\n",
    "        )\n",
    "        .alias(\"std_amount\")\n",
    "    )\n",
    "    .sort(\"customer_id\")\n",
    ")\n",
    "\n",
    "df_059.head(10)"
   ]
  },
  {
   "attachments": {},
   "cell_type": "markdown",
   "metadata": {},
   "source": [
    "---\n",
    "> P-060: レシート明細データ（df_receipt）の売上金額（amount）を顧客ID（customer_id）ごとに合計し、売上金額合計を最小値0、最大値1に正規化して顧客ID、売上金額合計とともに10件表示せよ。ただし、顧客IDが\"Z\"から始まるのものは非会員を表すため、除外して計算すること。\n",
    "\n",
    "- 正規化\n",
    "$$\n",
    "x_{new}^i = \\frac{x^i - x_{min}}{x_{max} - x_{min}}\n",
    "$$"
   ]
  },
  {
   "cell_type": "code",
   "execution_count": 72,
   "metadata": {},
   "outputs": [
    {
     "data": {
      "text/html": [
       "<div><style>\n",
       ".dataframe > thead > tr,\n",
       ".dataframe > tbody > tr {\n",
       "  text-align: right;\n",
       "  white-space: pre-wrap;\n",
       "}\n",
       "</style>\n",
       "<small>shape: (10, 3)</small><table border=\"1\" class=\"dataframe\"><thead><tr><th>customer_id</th><th>amount</th><th>scale_amount</th></tr><tr><td>str</td><td>i64</td><td>f64</td></tr></thead><tbody><tr><td>&quot;CS001113000004&quot;</td><td>1298</td><td>0.053354</td></tr><tr><td>&quot;CS001114000005&quot;</td><td>626</td><td>0.024157</td></tr><tr><td>&quot;CS001115000010&quot;</td><td>3044</td><td>0.129214</td></tr><tr><td>&quot;CS001205000004&quot;</td><td>1988</td><td>0.083333</td></tr><tr><td>&quot;CS001205000006&quot;</td><td>3337</td><td>0.141945</td></tr><tr><td>&quot;CS001211000025&quot;</td><td>456</td><td>0.016771</td></tr><tr><td>&quot;CS001212000027&quot;</td><td>448</td><td>0.016423</td></tr><tr><td>&quot;CS001212000031&quot;</td><td>296</td><td>0.009819</td></tr><tr><td>&quot;CS001212000046&quot;</td><td>228</td><td>0.006865</td></tr><tr><td>&quot;CS001212000070&quot;</td><td>456</td><td>0.016771</td></tr></tbody></table></div>"
      ],
      "text/plain": [
       "shape: (10, 3)\n",
       "┌────────────────┬────────┬──────────────┐\n",
       "│ customer_id    ┆ amount ┆ scale_amount │\n",
       "│ ---            ┆ ---    ┆ ---          │\n",
       "│ str            ┆ i64    ┆ f64          │\n",
       "╞════════════════╪════════╪══════════════╡\n",
       "│ CS001113000004 ┆ 1298   ┆ 0.053354     │\n",
       "│ CS001114000005 ┆ 626    ┆ 0.024157     │\n",
       "│ CS001115000010 ┆ 3044   ┆ 0.129214     │\n",
       "│ CS001205000004 ┆ 1988   ┆ 0.083333     │\n",
       "│ CS001205000006 ┆ 3337   ┆ 0.141945     │\n",
       "│ CS001211000025 ┆ 456    ┆ 0.016771     │\n",
       "│ CS001212000027 ┆ 448    ┆ 0.016423     │\n",
       "│ CS001212000031 ┆ 296    ┆ 0.009819     │\n",
       "│ CS001212000046 ┆ 228    ┆ 0.006865     │\n",
       "│ CS001212000070 ┆ 456    ┆ 0.016771     │\n",
       "└────────────────┴────────┴──────────────┘"
      ]
     },
     "execution_count": 72,
     "metadata": {},
     "output_type": "execute_result"
    }
   ],
   "source": [
    "df_060 = (\n",
    "    df_receipt.filter(pl.col(\"customer_id\").str.starts_with(\"Z\").not_())\n",
    "    .group_by(\"customer_id\")\n",
    "    .agg(pl.col(\"amount\").sum())\n",
    "    .with_columns(\n",
    "        (\n",
    "            (pl.col(\"amount\") - pl.col(\"amount\").min())\n",
    "            / (pl.col(\"amount\").max() - pl.col(\"amount\").min())\n",
    "        )\n",
    "        .alias(\"scale_amount\")\n",
    "    )\n",
    "    .sort(\"customer_id\")\n",
    ")\n",
    "\n",
    "df_060.head(10)"
   ]
  },
  {
   "attachments": {},
   "cell_type": "markdown",
   "metadata": {},
   "source": [
    "---\n",
    "> P-061: レシート明細データ（df_receipt）の売上金額（amount）を顧客ID（customer_id）ごとに合計し、売上金額合計を常用対数化（底10）して顧客ID、売上金額合計とともに10件表示せよ。ただし、顧客IDが\"Z\"から始まるのものは非会員を表すため、除外して計算すること。"
   ]
  },
  {
   "cell_type": "code",
   "execution_count": 73,
   "metadata": {},
   "outputs": [
    {
     "data": {
      "text/html": [
       "<div><style>\n",
       ".dataframe > thead > tr,\n",
       ".dataframe > tbody > tr {\n",
       "  text-align: right;\n",
       "  white-space: pre-wrap;\n",
       "}\n",
       "</style>\n",
       "<small>shape: (10, 3)</small><table border=\"1\" class=\"dataframe\"><thead><tr><th>customer_id</th><th>amount</th><th>log10_amount</th></tr><tr><td>str</td><td>i64</td><td>f64</td></tr></thead><tbody><tr><td>&quot;CS001113000004&quot;</td><td>1298</td><td>3.113275</td></tr><tr><td>&quot;CS001114000005&quot;</td><td>626</td><td>2.796574</td></tr><tr><td>&quot;CS001115000010&quot;</td><td>3044</td><td>3.483445</td></tr><tr><td>&quot;CS001205000004&quot;</td><td>1988</td><td>3.298416</td></tr><tr><td>&quot;CS001205000006&quot;</td><td>3337</td><td>3.523356</td></tr><tr><td>&quot;CS001211000025&quot;</td><td>456</td><td>2.658965</td></tr><tr><td>&quot;CS001212000027&quot;</td><td>448</td><td>2.651278</td></tr><tr><td>&quot;CS001212000031&quot;</td><td>296</td><td>2.471292</td></tr><tr><td>&quot;CS001212000046&quot;</td><td>228</td><td>2.357935</td></tr><tr><td>&quot;CS001212000070&quot;</td><td>456</td><td>2.658965</td></tr></tbody></table></div>"
      ],
      "text/plain": [
       "shape: (10, 3)\n",
       "┌────────────────┬────────┬──────────────┐\n",
       "│ customer_id    ┆ amount ┆ log10_amount │\n",
       "│ ---            ┆ ---    ┆ ---          │\n",
       "│ str            ┆ i64    ┆ f64          │\n",
       "╞════════════════╪════════╪══════════════╡\n",
       "│ CS001113000004 ┆ 1298   ┆ 3.113275     │\n",
       "│ CS001114000005 ┆ 626    ┆ 2.796574     │\n",
       "│ CS001115000010 ┆ 3044   ┆ 3.483445     │\n",
       "│ CS001205000004 ┆ 1988   ┆ 3.298416     │\n",
       "│ CS001205000006 ┆ 3337   ┆ 3.523356     │\n",
       "│ CS001211000025 ┆ 456    ┆ 2.658965     │\n",
       "│ CS001212000027 ┆ 448    ┆ 2.651278     │\n",
       "│ CS001212000031 ┆ 296    ┆ 2.471292     │\n",
       "│ CS001212000046 ┆ 228    ┆ 2.357935     │\n",
       "│ CS001212000070 ┆ 456    ┆ 2.658965     │\n",
       "└────────────────┴────────┴──────────────┘"
      ]
     },
     "execution_count": 73,
     "metadata": {},
     "output_type": "execute_result"
    }
   ],
   "source": [
    "df_061 = (\n",
    "    df_receipt\n",
    "    .filter(pl.col(\"customer_id\").str.starts_with(\"Z\").not_())\n",
    "    .group_by(\"customer_id\")\n",
    "    .agg(pl.col(\"amount\").sum())\n",
    "    .with_columns(pl.col(\"amount\").log10().alias(\"log10_amount\"))\n",
    "    .sort(\"customer_id\")\n",
    ")\n",
    "\n",
    "df_061.head(10)"
   ]
  },
  {
   "attachments": {},
   "cell_type": "markdown",
   "metadata": {},
   "source": [
    "---\n",
    "> P-062: レシート明細データ（df_receipt）の売上金額（amount）を顧客ID（customer_id）ごとに合計し、売上金額合計を自然対数化（底e）して顧客ID、売上金額合計とともに10件表示せよ。ただし、顧客IDが\"Z\"から始まるのものは非会員を表すため、除外して計算すること。"
   ]
  },
  {
   "cell_type": "code",
   "execution_count": 74,
   "metadata": {},
   "outputs": [
    {
     "data": {
      "text/html": [
       "<div><style>\n",
       ".dataframe > thead > tr,\n",
       ".dataframe > tbody > tr {\n",
       "  text-align: right;\n",
       "  white-space: pre-wrap;\n",
       "}\n",
       "</style>\n",
       "<small>shape: (10, 3)</small><table border=\"1\" class=\"dataframe\"><thead><tr><th>customer_id</th><th>amount</th><th>log_amount</th></tr><tr><td>str</td><td>i64</td><td>f64</td></tr></thead><tbody><tr><td>&quot;CS001113000004&quot;</td><td>1298</td><td>7.16858</td></tr><tr><td>&quot;CS001114000005&quot;</td><td>626</td><td>6.43935</td></tr><tr><td>&quot;CS001115000010&quot;</td><td>3044</td><td>8.020928</td></tr><tr><td>&quot;CS001205000004&quot;</td><td>1988</td><td>7.594884</td></tr><tr><td>&quot;CS001205000006&quot;</td><td>3337</td><td>8.112827</td></tr><tr><td>&quot;CS001211000025&quot;</td><td>456</td><td>6.122493</td></tr><tr><td>&quot;CS001212000027&quot;</td><td>448</td><td>6.104793</td></tr><tr><td>&quot;CS001212000031&quot;</td><td>296</td><td>5.690359</td></tr><tr><td>&quot;CS001212000046&quot;</td><td>228</td><td>5.429346</td></tr><tr><td>&quot;CS001212000070&quot;</td><td>456</td><td>6.122493</td></tr></tbody></table></div>"
      ],
      "text/plain": [
       "shape: (10, 3)\n",
       "┌────────────────┬────────┬────────────┐\n",
       "│ customer_id    ┆ amount ┆ log_amount │\n",
       "│ ---            ┆ ---    ┆ ---        │\n",
       "│ str            ┆ i64    ┆ f64        │\n",
       "╞════════════════╪════════╪════════════╡\n",
       "│ CS001113000004 ┆ 1298   ┆ 7.16858    │\n",
       "│ CS001114000005 ┆ 626    ┆ 6.43935    │\n",
       "│ CS001115000010 ┆ 3044   ┆ 8.020928   │\n",
       "│ CS001205000004 ┆ 1988   ┆ 7.594884   │\n",
       "│ CS001205000006 ┆ 3337   ┆ 8.112827   │\n",
       "│ CS001211000025 ┆ 456    ┆ 6.122493   │\n",
       "│ CS001212000027 ┆ 448    ┆ 6.104793   │\n",
       "│ CS001212000031 ┆ 296    ┆ 5.690359   │\n",
       "│ CS001212000046 ┆ 228    ┆ 5.429346   │\n",
       "│ CS001212000070 ┆ 456    ┆ 6.122493   │\n",
       "└────────────────┴────────┴────────────┘"
      ]
     },
     "execution_count": 74,
     "metadata": {},
     "output_type": "execute_result"
    }
   ],
   "source": [
    "df_062 = (\n",
    "    df_receipt\n",
    "    .filter(pl.col(\"customer_id\").str.starts_with(\"Z\").not_())\n",
    "    .group_by(\"customer_id\")\n",
    "    .agg(pl.col(\"amount\").sum())\n",
    "    .with_columns(pl.col(\"amount\").log().alias(\"log_amount\"))\n",
    "    .sort(\"customer_id\")\n",
    ")\n",
    "\n",
    "df_062.head(10)"
   ]
  },
  {
   "attachments": {},
   "cell_type": "markdown",
   "metadata": {},
   "source": [
    "---\n",
    "> P-063: 商品データ（df_product）の単価（unit_price）と原価（unit_cost）から各商品の利益額を算出し、結果を10件表示せよ。"
   ]
  },
  {
   "cell_type": "code",
   "execution_count": 75,
   "metadata": {},
   "outputs": [
    {
     "data": {
      "text/html": [
       "<div><style>\n",
       ".dataframe > thead > tr,\n",
       ".dataframe > tbody > tr {\n",
       "  text-align: right;\n",
       "  white-space: pre-wrap;\n",
       "}\n",
       "</style>\n",
       "<small>shape: (10, 7)</small><table border=\"1\" class=\"dataframe\"><thead><tr><th>product_cd</th><th>category_major_cd</th><th>category_medium_cd</th><th>category_small_cd</th><th>unit_price</th><th>unit_cost</th><th>unit_profit</th></tr><tr><td>str</td><td>str</td><td>str</td><td>str</td><td>i64</td><td>i64</td><td>i64</td></tr></thead><tbody><tr><td>&quot;P040101001&quot;</td><td>&quot;04&quot;</td><td>&quot;0401&quot;</td><td>&quot;040101&quot;</td><td>198</td><td>149</td><td>49</td></tr><tr><td>&quot;P040101002&quot;</td><td>&quot;04&quot;</td><td>&quot;0401&quot;</td><td>&quot;040101&quot;</td><td>218</td><td>164</td><td>54</td></tr><tr><td>&quot;P040101003&quot;</td><td>&quot;04&quot;</td><td>&quot;0401&quot;</td><td>&quot;040101&quot;</td><td>230</td><td>173</td><td>57</td></tr><tr><td>&quot;P040101004&quot;</td><td>&quot;04&quot;</td><td>&quot;0401&quot;</td><td>&quot;040101&quot;</td><td>248</td><td>186</td><td>62</td></tr><tr><td>&quot;P040101005&quot;</td><td>&quot;04&quot;</td><td>&quot;0401&quot;</td><td>&quot;040101&quot;</td><td>268</td><td>201</td><td>67</td></tr><tr><td>&quot;P040101006&quot;</td><td>&quot;04&quot;</td><td>&quot;0401&quot;</td><td>&quot;040101&quot;</td><td>298</td><td>224</td><td>74</td></tr><tr><td>&quot;P040101007&quot;</td><td>&quot;04&quot;</td><td>&quot;0401&quot;</td><td>&quot;040101&quot;</td><td>338</td><td>254</td><td>84</td></tr><tr><td>&quot;P040101008&quot;</td><td>&quot;04&quot;</td><td>&quot;0401&quot;</td><td>&quot;040101&quot;</td><td>420</td><td>315</td><td>105</td></tr><tr><td>&quot;P040101009&quot;</td><td>&quot;04&quot;</td><td>&quot;0401&quot;</td><td>&quot;040101&quot;</td><td>498</td><td>374</td><td>124</td></tr><tr><td>&quot;P040101010&quot;</td><td>&quot;04&quot;</td><td>&quot;0401&quot;</td><td>&quot;040101&quot;</td><td>580</td><td>435</td><td>145</td></tr></tbody></table></div>"
      ],
      "text/plain": [
       "shape: (10, 7)\n",
       "┌────────────┬───────────────┬───────────────┬──────────────┬────────────┬───────────┬─────────────┐\n",
       "│ product_cd ┆ category_majo ┆ category_medi ┆ category_sma ┆ unit_price ┆ unit_cost ┆ unit_profit │\n",
       "│ ---        ┆ r_cd          ┆ um_cd         ┆ ll_cd        ┆ ---        ┆ ---       ┆ ---         │\n",
       "│ str        ┆ ---           ┆ ---           ┆ ---          ┆ i64        ┆ i64       ┆ i64         │\n",
       "│            ┆ str           ┆ str           ┆ str          ┆            ┆           ┆             │\n",
       "╞════════════╪═══════════════╪═══════════════╪══════════════╪════════════╪═══════════╪═════════════╡\n",
       "│ P040101001 ┆ 04            ┆ 0401          ┆ 040101       ┆ 198        ┆ 149       ┆ 49          │\n",
       "│ P040101002 ┆ 04            ┆ 0401          ┆ 040101       ┆ 218        ┆ 164       ┆ 54          │\n",
       "│ P040101003 ┆ 04            ┆ 0401          ┆ 040101       ┆ 230        ┆ 173       ┆ 57          │\n",
       "│ P040101004 ┆ 04            ┆ 0401          ┆ 040101       ┆ 248        ┆ 186       ┆ 62          │\n",
       "│ P040101005 ┆ 04            ┆ 0401          ┆ 040101       ┆ 268        ┆ 201       ┆ 67          │\n",
       "│ P040101006 ┆ 04            ┆ 0401          ┆ 040101       ┆ 298        ┆ 224       ┆ 74          │\n",
       "│ P040101007 ┆ 04            ┆ 0401          ┆ 040101       ┆ 338        ┆ 254       ┆ 84          │\n",
       "│ P040101008 ┆ 04            ┆ 0401          ┆ 040101       ┆ 420        ┆ 315       ┆ 105         │\n",
       "│ P040101009 ┆ 04            ┆ 0401          ┆ 040101       ┆ 498        ┆ 374       ┆ 124         │\n",
       "│ P040101010 ┆ 04            ┆ 0401          ┆ 040101       ┆ 580        ┆ 435       ┆ 145         │\n",
       "└────────────┴───────────────┴───────────────┴──────────────┴────────────┴───────────┴─────────────┘"
      ]
     },
     "execution_count": 75,
     "metadata": {},
     "output_type": "execute_result"
    }
   ],
   "source": [
    "df_063 = df_product.with_columns(\n",
    "    (pl.col(\"unit_price\") - pl.col(\"unit_cost\")).alias(\"unit_profit\")\n",
    ")\n",
    "\n",
    "df_063.head(10)"
   ]
  },
  {
   "attachments": {},
   "cell_type": "markdown",
   "metadata": {},
   "source": [
    "---\n",
    "> P-064: 商品データ（df_product）の単価（unit_price）と原価（unit_cost）から、各商品の利益率の全体平均を算出せよ。ただし、単価と原価には欠損が生じていることに注意せよ。"
   ]
  },
  {
   "cell_type": "code",
   "execution_count": 76,
   "metadata": {},
   "outputs": [
    {
     "data": {
      "text/html": [
       "<div><style>\n",
       ".dataframe > thead > tr,\n",
       ".dataframe > tbody > tr {\n",
       "  text-align: right;\n",
       "  white-space: pre-wrap;\n",
       "}\n",
       "</style>\n",
       "<small>shape: (1, 1)</small><table border=\"1\" class=\"dataframe\"><thead><tr><th>unit_profit_rate</th></tr><tr><td>f64</td></tr></thead><tbody><tr><td>0.249114</td></tr></tbody></table></div>"
      ],
      "text/plain": [
       "shape: (1, 1)\n",
       "┌──────────────────┐\n",
       "│ unit_profit_rate │\n",
       "│ ---              │\n",
       "│ f64              │\n",
       "╞══════════════════╡\n",
       "│ 0.249114         │\n",
       "└──────────────────┘"
      ]
     },
     "execution_count": 76,
     "metadata": {},
     "output_type": "execute_result"
    }
   ],
   "source": [
    "df_064 = df_product.select(\n",
    "    ((pl.col(\"unit_price\") - pl.col(\"unit_cost\")) / pl.col(\"unit_price\"))\n",
    "    .filter(pl.col(\"unit_price\").is_not_null())\n",
    "    .alias(\"unit_profit_rate\")\n",
    "    .mean()\n",
    ")\n",
    "\n",
    "df_064"
   ]
  },
  {
   "attachments": {},
   "cell_type": "markdown",
   "metadata": {},
   "source": [
    "---\n",
    "> P-065: 商品データ（df_product）の各商品について、利益率が30%となる新たな単価を求めよ。ただし、1円未満は切り捨てること。そして結果を10件表示させ、利益率がおよそ30％付近であることを確認せよ。ただし、単価（unit_price）と原価（unit_cost）には欠損が生じていることに注意せよ。"
   ]
  },
  {
   "cell_type": "code",
   "execution_count": 77,
   "metadata": {},
   "outputs": [
    {
     "data": {
      "text/html": [
       "<div><style>\n",
       ".dataframe > thead > tr,\n",
       ".dataframe > tbody > tr {\n",
       "  text-align: right;\n",
       "  white-space: pre-wrap;\n",
       "}\n",
       "</style>\n",
       "<small>shape: (10, 5)</small><table border=\"1\" class=\"dataframe\"><thead><tr><th>product_cd</th><th>unit_price</th><th>unit_cost</th><th>new_price</th><th>new_profit_rate</th></tr><tr><td>str</td><td>i64</td><td>i64</td><td>i64</td><td>f64</td></tr></thead><tbody><tr><td>&quot;P040101001&quot;</td><td>198</td><td>149</td><td>212</td><td>0.29717</td></tr><tr><td>&quot;P040101002&quot;</td><td>218</td><td>164</td><td>234</td><td>0.299145</td></tr><tr><td>&quot;P040101003&quot;</td><td>230</td><td>173</td><td>247</td><td>0.299595</td></tr><tr><td>&quot;P040101004&quot;</td><td>248</td><td>186</td><td>265</td><td>0.298113</td></tr><tr><td>&quot;P040101005&quot;</td><td>268</td><td>201</td><td>287</td><td>0.299652</td></tr><tr><td>&quot;P040101006&quot;</td><td>298</td><td>224</td><td>320</td><td>0.3</td></tr><tr><td>&quot;P040101007&quot;</td><td>338</td><td>254</td><td>362</td><td>0.298343</td></tr><tr><td>&quot;P040101008&quot;</td><td>420</td><td>315</td><td>450</td><td>0.3</td></tr><tr><td>&quot;P040101009&quot;</td><td>498</td><td>374</td><td>534</td><td>0.299625</td></tr><tr><td>&quot;P040101010&quot;</td><td>580</td><td>435</td><td>621</td><td>0.299517</td></tr></tbody></table></div>"
      ],
      "text/plain": [
       "shape: (10, 5)\n",
       "┌────────────┬────────────┬───────────┬───────────┬─────────────────┐\n",
       "│ product_cd ┆ unit_price ┆ unit_cost ┆ new_price ┆ new_profit_rate │\n",
       "│ ---        ┆ ---        ┆ ---       ┆ ---       ┆ ---             │\n",
       "│ str        ┆ i64        ┆ i64       ┆ i64       ┆ f64             │\n",
       "╞════════════╪════════════╪═══════════╪═══════════╪═════════════════╡\n",
       "│ P040101001 ┆ 198        ┆ 149       ┆ 212       ┆ 0.29717         │\n",
       "│ P040101002 ┆ 218        ┆ 164       ┆ 234       ┆ 0.299145        │\n",
       "│ P040101003 ┆ 230        ┆ 173       ┆ 247       ┆ 0.299595        │\n",
       "│ P040101004 ┆ 248        ┆ 186       ┆ 265       ┆ 0.298113        │\n",
       "│ P040101005 ┆ 268        ┆ 201       ┆ 287       ┆ 0.299652        │\n",
       "│ P040101006 ┆ 298        ┆ 224       ┆ 320       ┆ 0.3             │\n",
       "│ P040101007 ┆ 338        ┆ 254       ┆ 362       ┆ 0.298343        │\n",
       "│ P040101008 ┆ 420        ┆ 315       ┆ 450       ┆ 0.3             │\n",
       "│ P040101009 ┆ 498        ┆ 374       ┆ 534       ┆ 0.299625        │\n",
       "│ P040101010 ┆ 580        ┆ 435       ┆ 621       ┆ 0.299517        │\n",
       "└────────────┴────────────┴───────────┴───────────┴─────────────────┘"
      ]
     },
     "execution_count": 77,
     "metadata": {},
     "output_type": "execute_result"
    }
   ],
   "source": [
    "df_065 = (\n",
    "    df_product\n",
    "    .select(\"product_cd\", \"unit_price\", \"unit_cost\")\n",
    "    .filter(\n",
    "        (pl.col(\"unit_price\").is_not_null())\n",
    "        & (pl.col(\"unit_cost\").is_not_null())\n",
    "    )\n",
    "    .with_columns(\n",
    "        (pl.col(\"unit_cost\") / 0.7).floor().cast(pl.Int64).alias(\"new_price\")\n",
    "    )  # .floor()で切り捨て計算　.round(0)でもOK\n",
    "    .with_columns(\n",
    "        (\n",
    "            (pl.col(\"new_price\") - pl.col(\"unit_cost\"))\n",
    "            / pl.col(\"new_price\")\n",
    "        )\n",
    "        .alias(\"new_profit_rate\")\n",
    "    )\n",
    "    .sort(\"product_cd\")\n",
    ")\n",
    "\n",
    "df_065.head(10)"
   ]
  },
  {
   "cell_type": "code",
   "execution_count": 78,
   "metadata": {},
   "outputs": [
    {
     "data": {
      "text/html": [
       "<div><style>\n",
       ".dataframe > thead > tr,\n",
       ".dataframe > tbody > tr {\n",
       "  text-align: right;\n",
       "  white-space: pre-wrap;\n",
       "}\n",
       "</style>\n",
       "<small>shape: (10, 6)</small><table border=\"1\" class=\"dataframe\"><thead><tr><th>product_cd</th><th>category_major_cd</th><th>category_medium_cd</th><th>category_small_cd</th><th>unit_price</th><th>unit_cost</th></tr><tr><td>str</td><td>str</td><td>str</td><td>str</td><td>i64</td><td>i64</td></tr></thead><tbody><tr><td>&quot;P040101001&quot;</td><td>&quot;04&quot;</td><td>&quot;0401&quot;</td><td>&quot;040101&quot;</td><td>198</td><td>149</td></tr><tr><td>&quot;P040101002&quot;</td><td>&quot;04&quot;</td><td>&quot;0401&quot;</td><td>&quot;040101&quot;</td><td>218</td><td>164</td></tr><tr><td>&quot;P040101003&quot;</td><td>&quot;04&quot;</td><td>&quot;0401&quot;</td><td>&quot;040101&quot;</td><td>230</td><td>173</td></tr><tr><td>&quot;P040101004&quot;</td><td>&quot;04&quot;</td><td>&quot;0401&quot;</td><td>&quot;040101&quot;</td><td>248</td><td>186</td></tr><tr><td>&quot;P040101005&quot;</td><td>&quot;04&quot;</td><td>&quot;0401&quot;</td><td>&quot;040101&quot;</td><td>268</td><td>201</td></tr><tr><td>&quot;P040101006&quot;</td><td>&quot;04&quot;</td><td>&quot;0401&quot;</td><td>&quot;040101&quot;</td><td>298</td><td>224</td></tr><tr><td>&quot;P040101007&quot;</td><td>&quot;04&quot;</td><td>&quot;0401&quot;</td><td>&quot;040101&quot;</td><td>338</td><td>254</td></tr><tr><td>&quot;P040101008&quot;</td><td>&quot;04&quot;</td><td>&quot;0401&quot;</td><td>&quot;040101&quot;</td><td>420</td><td>315</td></tr><tr><td>&quot;P040101009&quot;</td><td>&quot;04&quot;</td><td>&quot;0401&quot;</td><td>&quot;040101&quot;</td><td>498</td><td>374</td></tr><tr><td>&quot;P040101010&quot;</td><td>&quot;04&quot;</td><td>&quot;0401&quot;</td><td>&quot;040101&quot;</td><td>580</td><td>435</td></tr></tbody></table></div>"
      ],
      "text/plain": [
       "shape: (10, 6)\n",
       "┌────────────┬───────────────────┬────────────────────┬───────────────────┬────────────┬───────────┐\n",
       "│ product_cd ┆ category_major_cd ┆ category_medium_cd ┆ category_small_cd ┆ unit_price ┆ unit_cost │\n",
       "│ ---        ┆ ---               ┆ ---                ┆ ---               ┆ ---        ┆ ---       │\n",
       "│ str        ┆ str               ┆ str                ┆ str               ┆ i64        ┆ i64       │\n",
       "╞════════════╪═══════════════════╪════════════════════╪═══════════════════╪════════════╪═══════════╡\n",
       "│ P040101001 ┆ 04                ┆ 0401               ┆ 040101            ┆ 198        ┆ 149       │\n",
       "│ P040101002 ┆ 04                ┆ 0401               ┆ 040101            ┆ 218        ┆ 164       │\n",
       "│ P040101003 ┆ 04                ┆ 0401               ┆ 040101            ┆ 230        ┆ 173       │\n",
       "│ P040101004 ┆ 04                ┆ 0401               ┆ 040101            ┆ 248        ┆ 186       │\n",
       "│ P040101005 ┆ 04                ┆ 0401               ┆ 040101            ┆ 268        ┆ 201       │\n",
       "│ P040101006 ┆ 04                ┆ 0401               ┆ 040101            ┆ 298        ┆ 224       │\n",
       "│ P040101007 ┆ 04                ┆ 0401               ┆ 040101            ┆ 338        ┆ 254       │\n",
       "│ P040101008 ┆ 04                ┆ 0401               ┆ 040101            ┆ 420        ┆ 315       │\n",
       "│ P040101009 ┆ 04                ┆ 0401               ┆ 040101            ┆ 498        ┆ 374       │\n",
       "│ P040101010 ┆ 04                ┆ 0401               ┆ 040101            ┆ 580        ┆ 435       │\n",
       "└────────────┴───────────────────┴────────────────────┴───────────────────┴────────────┴───────────┘"
      ]
     },
     "execution_count": 78,
     "metadata": {},
     "output_type": "execute_result"
    }
   ],
   "source": [
    "df_product.head(10)"
   ]
  },
  {
   "attachments": {},
   "cell_type": "markdown",
   "metadata": {},
   "source": [
    "---\n",
    "> P-066: 商品データ（df_product）の各商品について、利益率が30%となる新たな単価を求めよ。今回は、1円未満を丸めること（四捨五入または偶数への丸めで良い）。そして結果を10件表示させ、利益率がおよそ30％付近であることを確認せよ。ただし、単価（unit_price）と原価（unit_cost）には欠損が生じていることに注意せよ。"
   ]
  },
  {
   "cell_type": "code",
   "execution_count": 79,
   "metadata": {},
   "outputs": [
    {
     "data": {
      "text/html": [
       "<div><style>\n",
       ".dataframe > thead > tr,\n",
       ".dataframe > tbody > tr {\n",
       "  text-align: right;\n",
       "  white-space: pre-wrap;\n",
       "}\n",
       "</style>\n",
       "<small>shape: (10, 8)</small><table border=\"1\" class=\"dataframe\"><thead><tr><th>product_cd</th><th>category_major_cd</th><th>category_medium_cd</th><th>category_small_cd</th><th>unit_price</th><th>unit_cost</th><th>new_price</th><th>new_profit_rate</th></tr><tr><td>str</td><td>str</td><td>str</td><td>str</td><td>i64</td><td>i64</td><td>i64</td><td>f64</td></tr></thead><tbody><tr><td>&quot;P040101001&quot;</td><td>&quot;04&quot;</td><td>&quot;0401&quot;</td><td>&quot;040101&quot;</td><td>198</td><td>149</td><td>213</td><td>0.300469</td></tr><tr><td>&quot;P040101002&quot;</td><td>&quot;04&quot;</td><td>&quot;0401&quot;</td><td>&quot;040101&quot;</td><td>218</td><td>164</td><td>234</td><td>0.299145</td></tr><tr><td>&quot;P040101003&quot;</td><td>&quot;04&quot;</td><td>&quot;0401&quot;</td><td>&quot;040101&quot;</td><td>230</td><td>173</td><td>247</td><td>0.299595</td></tr><tr><td>&quot;P040101004&quot;</td><td>&quot;04&quot;</td><td>&quot;0401&quot;</td><td>&quot;040101&quot;</td><td>248</td><td>186</td><td>266</td><td>0.300752</td></tr><tr><td>&quot;P040101005&quot;</td><td>&quot;04&quot;</td><td>&quot;0401&quot;</td><td>&quot;040101&quot;</td><td>268</td><td>201</td><td>287</td><td>0.299652</td></tr><tr><td>&quot;P040101006&quot;</td><td>&quot;04&quot;</td><td>&quot;0401&quot;</td><td>&quot;040101&quot;</td><td>298</td><td>224</td><td>320</td><td>0.3</td></tr><tr><td>&quot;P040101007&quot;</td><td>&quot;04&quot;</td><td>&quot;0401&quot;</td><td>&quot;040101&quot;</td><td>338</td><td>254</td><td>363</td><td>0.300275</td></tr><tr><td>&quot;P040101008&quot;</td><td>&quot;04&quot;</td><td>&quot;0401&quot;</td><td>&quot;040101&quot;</td><td>420</td><td>315</td><td>450</td><td>0.3</td></tr><tr><td>&quot;P040101009&quot;</td><td>&quot;04&quot;</td><td>&quot;0401&quot;</td><td>&quot;040101&quot;</td><td>498</td><td>374</td><td>534</td><td>0.299625</td></tr><tr><td>&quot;P040101010&quot;</td><td>&quot;04&quot;</td><td>&quot;0401&quot;</td><td>&quot;040101&quot;</td><td>580</td><td>435</td><td>621</td><td>0.299517</td></tr></tbody></table></div>"
      ],
      "text/plain": [
       "shape: (10, 8)\n",
       "┌────────────┬────────────┬────────────┬───────────┬───────────┬───────────┬───────────┬───────────┐\n",
       "│ product_cd ┆ category_m ┆ category_m ┆ category_ ┆ unit_pric ┆ unit_cost ┆ new_price ┆ new_profi │\n",
       "│ ---        ┆ ajor_cd    ┆ edium_cd   ┆ small_cd  ┆ e         ┆ ---       ┆ ---       ┆ t_rate    │\n",
       "│ str        ┆ ---        ┆ ---        ┆ ---       ┆ ---       ┆ i64       ┆ i64       ┆ ---       │\n",
       "│            ┆ str        ┆ str        ┆ str       ┆ i64       ┆           ┆           ┆ f64       │\n",
       "╞════════════╪════════════╪════════════╪═══════════╪═══════════╪═══════════╪═══════════╪═══════════╡\n",
       "│ P040101001 ┆ 04         ┆ 0401       ┆ 040101    ┆ 198       ┆ 149       ┆ 213       ┆ 0.300469  │\n",
       "│ P040101002 ┆ 04         ┆ 0401       ┆ 040101    ┆ 218       ┆ 164       ┆ 234       ┆ 0.299145  │\n",
       "│ P040101003 ┆ 04         ┆ 0401       ┆ 040101    ┆ 230       ┆ 173       ┆ 247       ┆ 0.299595  │\n",
       "│ P040101004 ┆ 04         ┆ 0401       ┆ 040101    ┆ 248       ┆ 186       ┆ 266       ┆ 0.300752  │\n",
       "│ P040101005 ┆ 04         ┆ 0401       ┆ 040101    ┆ 268       ┆ 201       ┆ 287       ┆ 0.299652  │\n",
       "│ P040101006 ┆ 04         ┆ 0401       ┆ 040101    ┆ 298       ┆ 224       ┆ 320       ┆ 0.3       │\n",
       "│ P040101007 ┆ 04         ┆ 0401       ┆ 040101    ┆ 338       ┆ 254       ┆ 363       ┆ 0.300275  │\n",
       "│ P040101008 ┆ 04         ┆ 0401       ┆ 040101    ┆ 420       ┆ 315       ┆ 450       ┆ 0.3       │\n",
       "│ P040101009 ┆ 04         ┆ 0401       ┆ 040101    ┆ 498       ┆ 374       ┆ 534       ┆ 0.299625  │\n",
       "│ P040101010 ┆ 04         ┆ 0401       ┆ 040101    ┆ 580       ┆ 435       ┆ 621       ┆ 0.299517  │\n",
       "└────────────┴────────────┴────────────┴───────────┴───────────┴───────────┴───────────┴───────────┘"
      ]
     },
     "execution_count": 79,
     "metadata": {},
     "output_type": "execute_result"
    }
   ],
   "source": [
    "df_066 = (\n",
    "    df_product\n",
    "    .drop_nulls()\n",
    "    .with_columns(\n",
    "        (pl.col(\"unit_cost\") / 0.7).round(0).cast(pl.Int64).alias(\"new_price\")\n",
    "    )\n",
    "    .with_columns(\n",
    "        (\n",
    "            (pl.col(\"new_price\") - pl.col(\"unit_cost\")) / pl.col(\"new_price\")\n",
    "        )\n",
    "        .alias(\"new_profit_rate\")\n",
    "    )\n",
    ")\n",
    "\n",
    "df_066.head(10)"
   ]
  },
  {
   "attachments": {},
   "cell_type": "markdown",
   "metadata": {},
   "source": [
    "---\n",
    "> P-067: 商品データ（df_product）の各商品について、利益率が30%となる新たな単価を求めよ。今回は、1円未満を切り上げること。そして結果を10件表示させ、利益率がおよそ30％付近であることを確認せよ。ただし、単価（unit_price）と原価（unit_cost）には欠損が生じていることに注意せよ。"
   ]
  },
  {
   "cell_type": "code",
   "execution_count": 80,
   "metadata": {},
   "outputs": [
    {
     "data": {
      "text/html": [
       "<div><style>\n",
       ".dataframe > thead > tr,\n",
       ".dataframe > tbody > tr {\n",
       "  text-align: right;\n",
       "  white-space: pre-wrap;\n",
       "}\n",
       "</style>\n",
       "<small>shape: (10, 5)</small><table border=\"1\" class=\"dataframe\"><thead><tr><th>product_cd</th><th>unit_price</th><th>unit_cost</th><th>new_price</th><th>new_profit_rate</th></tr><tr><td>str</td><td>i64</td><td>i64</td><td>i64</td><td>f64</td></tr></thead><tbody><tr><td>&quot;P040101001&quot;</td><td>198</td><td>149</td><td>213</td><td>0.300469</td></tr><tr><td>&quot;P040101002&quot;</td><td>218</td><td>164</td><td>235</td><td>0.302128</td></tr><tr><td>&quot;P040101003&quot;</td><td>230</td><td>173</td><td>248</td><td>0.302419</td></tr><tr><td>&quot;P040101004&quot;</td><td>248</td><td>186</td><td>266</td><td>0.300752</td></tr><tr><td>&quot;P040101005&quot;</td><td>268</td><td>201</td><td>288</td><td>0.302083</td></tr><tr><td>&quot;P040101006&quot;</td><td>298</td><td>224</td><td>320</td><td>0.3</td></tr><tr><td>&quot;P040101007&quot;</td><td>338</td><td>254</td><td>363</td><td>0.300275</td></tr><tr><td>&quot;P040101008&quot;</td><td>420</td><td>315</td><td>450</td><td>0.3</td></tr><tr><td>&quot;P040101009&quot;</td><td>498</td><td>374</td><td>535</td><td>0.300935</td></tr><tr><td>&quot;P040101010&quot;</td><td>580</td><td>435</td><td>622</td><td>0.300643</td></tr></tbody></table></div>"
      ],
      "text/plain": [
       "shape: (10, 5)\n",
       "┌────────────┬────────────┬───────────┬───────────┬─────────────────┐\n",
       "│ product_cd ┆ unit_price ┆ unit_cost ┆ new_price ┆ new_profit_rate │\n",
       "│ ---        ┆ ---        ┆ ---       ┆ ---       ┆ ---             │\n",
       "│ str        ┆ i64        ┆ i64       ┆ i64       ┆ f64             │\n",
       "╞════════════╪════════════╪═══════════╪═══════════╪═════════════════╡\n",
       "│ P040101001 ┆ 198        ┆ 149       ┆ 213       ┆ 0.300469        │\n",
       "│ P040101002 ┆ 218        ┆ 164       ┆ 235       ┆ 0.302128        │\n",
       "│ P040101003 ┆ 230        ┆ 173       ┆ 248       ┆ 0.302419        │\n",
       "│ P040101004 ┆ 248        ┆ 186       ┆ 266       ┆ 0.300752        │\n",
       "│ P040101005 ┆ 268        ┆ 201       ┆ 288       ┆ 0.302083        │\n",
       "│ P040101006 ┆ 298        ┆ 224       ┆ 320       ┆ 0.3             │\n",
       "│ P040101007 ┆ 338        ┆ 254       ┆ 363       ┆ 0.300275        │\n",
       "│ P040101008 ┆ 420        ┆ 315       ┆ 450       ┆ 0.3             │\n",
       "│ P040101009 ┆ 498        ┆ 374       ┆ 535       ┆ 0.300935        │\n",
       "│ P040101010 ┆ 580        ┆ 435       ┆ 622       ┆ 0.300643        │\n",
       "└────────────┴────────────┴───────────┴───────────┴─────────────────┘"
      ]
     },
     "execution_count": 80,
     "metadata": {},
     "output_type": "execute_result"
    }
   ],
   "source": [
    "df_067 = (\n",
    "    df_product\n",
    "    .select(\"product_cd\", \"unit_price\", \"unit_cost\")\n",
    "    .filter(\n",
    "        (pl.col(\"unit_price\").is_not_null())\n",
    "        & (pl.col(\"unit_cost\").is_not_null())\n",
    "    )\n",
    "    .with_columns((pl.col(\"unit_cost\") / 0.7).ceil().cast(pl.Int64).alias(\"new_price\"))\n",
    "    .with_columns(\n",
    "        (\n",
    "            (pl.col(\"new_price\") - pl.col(\"unit_cost\")) / pl.col(\"new_price\")\n",
    "        )\n",
    "        .alias(\"new_profit_rate\")\n",
    "    )\n",
    "    .sort(\"product_cd\")\n",
    ")\n",
    "\n",
    "df_067.head(10)"
   ]
  },
  {
   "attachments": {},
   "cell_type": "markdown",
   "metadata": {},
   "source": [
    "---\n",
    "> P-068: 商品データ（df_product）の各商品について、消費税率10％の税込み金額を求めよ。1円未満の端数は切り捨てとし、結果を10件表示せよ。ただし、単価（unit_price）には欠損が生じていることに注意せよ。"
   ]
  },
  {
   "cell_type": "code",
   "execution_count": 81,
   "metadata": {},
   "outputs": [
    {
     "data": {
      "text/html": [
       "<div><style>\n",
       ".dataframe > thead > tr,\n",
       ".dataframe > tbody > tr {\n",
       "  text-align: right;\n",
       "  white-space: pre-wrap;\n",
       "}\n",
       "</style>\n",
       "<small>shape: (10, 3)</small><table border=\"1\" class=\"dataframe\"><thead><tr><th>product_cd</th><th>unit_price</th><th>tax_price</th></tr><tr><td>str</td><td>i64</td><td>i64</td></tr></thead><tbody><tr><td>&quot;P040101001&quot;</td><td>198</td><td>217</td></tr><tr><td>&quot;P040101002&quot;</td><td>218</td><td>239</td></tr><tr><td>&quot;P040101003&quot;</td><td>230</td><td>253</td></tr><tr><td>&quot;P040101004&quot;</td><td>248</td><td>272</td></tr><tr><td>&quot;P040101005&quot;</td><td>268</td><td>294</td></tr><tr><td>&quot;P040101006&quot;</td><td>298</td><td>327</td></tr><tr><td>&quot;P040101007&quot;</td><td>338</td><td>371</td></tr><tr><td>&quot;P040101008&quot;</td><td>420</td><td>462</td></tr><tr><td>&quot;P040101009&quot;</td><td>498</td><td>547</td></tr><tr><td>&quot;P040101010&quot;</td><td>580</td><td>638</td></tr></tbody></table></div>"
      ],
      "text/plain": [
       "shape: (10, 3)\n",
       "┌────────────┬────────────┬───────────┐\n",
       "│ product_cd ┆ unit_price ┆ tax_price │\n",
       "│ ---        ┆ ---        ┆ ---       │\n",
       "│ str        ┆ i64        ┆ i64       │\n",
       "╞════════════╪════════════╪═══════════╡\n",
       "│ P040101001 ┆ 198        ┆ 217       │\n",
       "│ P040101002 ┆ 218        ┆ 239       │\n",
       "│ P040101003 ┆ 230        ┆ 253       │\n",
       "│ P040101004 ┆ 248        ┆ 272       │\n",
       "│ P040101005 ┆ 268        ┆ 294       │\n",
       "│ P040101006 ┆ 298        ┆ 327       │\n",
       "│ P040101007 ┆ 338        ┆ 371       │\n",
       "│ P040101008 ┆ 420        ┆ 462       │\n",
       "│ P040101009 ┆ 498        ┆ 547       │\n",
       "│ P040101010 ┆ 580        ┆ 638       │\n",
       "└────────────┴────────────┴───────────┘"
      ]
     },
     "execution_count": 81,
     "metadata": {},
     "output_type": "execute_result"
    }
   ],
   "source": [
    "df_068 = (\n",
    "    df_product\n",
    "    .filter(pl.col(\"unit_price\").is_not_null())\n",
    "    .select(\n",
    "        \"product_cd\", \"unit_price\",\n",
    "        (pl.col(\"unit_price\") * 1.1).cast(pl.Int64).alias(\"tax_price\"),\n",
    "    )\n",
    ")\n",
    "\n",
    "df_068.head(10)"
   ]
  },
  {
   "attachments": {},
   "cell_type": "markdown",
   "metadata": {},
   "source": [
    "---\n",
    "> P-069: レシート明細データ（df_receipt）と商品データ（df_product）を結合し、顧客毎に全商品の売上金額合計と、カテゴリ大区分コード（category_major_cd）が\"07\"（瓶詰缶詰）の売上金額合計を計算の上、両者の比率を求めよ。抽出対象はカテゴリ大区分コード\"07\"（瓶詰缶詰）の売上実績がある顧客のみとし、結果を10件表示せよ。"
   ]
  },
  {
   "cell_type": "code",
   "execution_count": 82,
   "metadata": {},
   "outputs": [
    {
     "data": {
      "text/html": [
       "<div><style>\n",
       ".dataframe > thead > tr,\n",
       ".dataframe > tbody > tr {\n",
       "  text-align: right;\n",
       "  white-space: pre-wrap;\n",
       "}\n",
       "</style>\n",
       "<small>shape: (10, 4)</small><table border=\"1\" class=\"dataframe\"><thead><tr><th>customer_id</th><th>sum_all</th><th>sum_07</th><th>sales_rate</th></tr><tr><td>str</td><td>i64</td><td>i64</td><td>f64</td></tr></thead><tbody><tr><td>&quot;CS001113000004&quot;</td><td>1298</td><td>1298</td><td>1.0</td></tr><tr><td>&quot;CS001114000005&quot;</td><td>626</td><td>486</td><td>0.776358</td></tr><tr><td>&quot;CS001115000010&quot;</td><td>3044</td><td>2694</td><td>0.88502</td></tr><tr><td>&quot;CS001205000004&quot;</td><td>1988</td><td>346</td><td>0.174044</td></tr><tr><td>&quot;CS001205000006&quot;</td><td>3337</td><td>2004</td><td>0.600539</td></tr><tr><td>&quot;CS001211000025&quot;</td><td>456</td><td>0</td><td>0.0</td></tr><tr><td>&quot;CS001212000027&quot;</td><td>448</td><td>200</td><td>0.446429</td></tr><tr><td>&quot;CS001212000031&quot;</td><td>296</td><td>296</td><td>1.0</td></tr><tr><td>&quot;CS001212000046&quot;</td><td>228</td><td>108</td><td>0.473684</td></tr><tr><td>&quot;CS001212000070&quot;</td><td>456</td><td>308</td><td>0.675439</td></tr></tbody></table></div>"
      ],
      "text/plain": [
       "shape: (10, 4)\n",
       "┌────────────────┬─────────┬────────┬────────────┐\n",
       "│ customer_id    ┆ sum_all ┆ sum_07 ┆ sales_rate │\n",
       "│ ---            ┆ ---     ┆ ---    ┆ ---        │\n",
       "│ str            ┆ i64     ┆ i64    ┆ f64        │\n",
       "╞════════════════╪═════════╪════════╪════════════╡\n",
       "│ CS001113000004 ┆ 1298    ┆ 1298   ┆ 1.0        │\n",
       "│ CS001114000005 ┆ 626     ┆ 486    ┆ 0.776358   │\n",
       "│ CS001115000010 ┆ 3044    ┆ 2694   ┆ 0.88502    │\n",
       "│ CS001205000004 ┆ 1988    ┆ 346    ┆ 0.174044   │\n",
       "│ CS001205000006 ┆ 3337    ┆ 2004   ┆ 0.600539   │\n",
       "│ CS001211000025 ┆ 456     ┆ 0      ┆ 0.0        │\n",
       "│ CS001212000027 ┆ 448     ┆ 200    ┆ 0.446429   │\n",
       "│ CS001212000031 ┆ 296     ┆ 296    ┆ 1.0        │\n",
       "│ CS001212000046 ┆ 228     ┆ 108    ┆ 0.473684   │\n",
       "│ CS001212000070 ┆ 456     ┆ 308    ┆ 0.675439   │\n",
       "└────────────────┴─────────┴────────┴────────────┘"
      ]
     },
     "execution_count": 82,
     "metadata": {},
     "output_type": "execute_result"
    }
   ],
   "source": [
    "df_069 = (\n",
    "    df_receipt.join(df_product, on=\"product_cd\", how=\"inner\")\n",
    "    .with_columns(\n",
    "        (\n",
    "            pl.when(pl.col(\"category_major_cd\").str.starts_with(\"07\"))\n",
    "            .then(pl.col(\"unit_price\") * pl.col(\"quantity\"))\n",
    "        )\n",
    "        # .otherwise(pl.lit(0)))\n",
    "        .alias(\"category_07_sell\")\n",
    "    )\n",
    "    .group_by(\"customer_id\")\n",
    "    .agg(\n",
    "        (pl.col(\"amount\").sum()).alias(\"sum_all\"),\n",
    "        (pl.col(\"category_07_sell\").sum()).alias(\"sum_07\"),\n",
    "    )\n",
    "    .filter(pl.col(\"sum_07\").is_not_null())\n",
    "    .with_columns((pl.col(\"sum_07\") / pl.col(\"sum_all\")).alias(\"sales_rate\"))\n",
    "    .sort(\"customer_id\")\n",
    ")\n",
    "\n",
    "df_069.head(10)"
   ]
  },
  {
   "cell_type": "code",
   "execution_count": 83,
   "metadata": {},
   "outputs": [
    {
     "data": {
      "text/html": [
       "<div><style>\n",
       ".dataframe > thead > tr,\n",
       ".dataframe > tbody > tr {\n",
       "  text-align: right;\n",
       "  white-space: pre-wrap;\n",
       "}\n",
       "</style>\n",
       "<small>shape: (10, 4)</small><table border=\"1\" class=\"dataframe\"><thead><tr><th>customer_id</th><th>sum_all</th><th>sum_07</th><th>sales_rate</th></tr><tr><td>str</td><td>i64</td><td>i64</td><td>f64</td></tr></thead><tbody><tr><td>&quot;CS001113000004&quot;</td><td>1298</td><td>1298</td><td>1.0</td></tr><tr><td>&quot;CS001114000005&quot;</td><td>626</td><td>486</td><td>0.776358</td></tr><tr><td>&quot;CS001115000010&quot;</td><td>3044</td><td>2694</td><td>0.88502</td></tr><tr><td>&quot;CS001205000004&quot;</td><td>1988</td><td>346</td><td>0.174044</td></tr><tr><td>&quot;CS001205000006&quot;</td><td>3337</td><td>2004</td><td>0.600539</td></tr><tr><td>&quot;CS001211000025&quot;</td><td>456</td><td>0</td><td>0.0</td></tr><tr><td>&quot;CS001212000027&quot;</td><td>448</td><td>200</td><td>0.446429</td></tr><tr><td>&quot;CS001212000031&quot;</td><td>296</td><td>296</td><td>1.0</td></tr><tr><td>&quot;CS001212000046&quot;</td><td>228</td><td>108</td><td>0.473684</td></tr><tr><td>&quot;CS001212000070&quot;</td><td>456</td><td>308</td><td>0.675439</td></tr></tbody></table></div>"
      ],
      "text/plain": [
       "shape: (10, 4)\n",
       "┌────────────────┬─────────┬────────┬────────────┐\n",
       "│ customer_id    ┆ sum_all ┆ sum_07 ┆ sales_rate │\n",
       "│ ---            ┆ ---     ┆ ---    ┆ ---        │\n",
       "│ str            ┆ i64     ┆ i64    ┆ f64        │\n",
       "╞════════════════╪═════════╪════════╪════════════╡\n",
       "│ CS001113000004 ┆ 1298    ┆ 1298   ┆ 1.0        │\n",
       "│ CS001114000005 ┆ 626     ┆ 486    ┆ 0.776358   │\n",
       "│ CS001115000010 ┆ 3044    ┆ 2694   ┆ 0.88502    │\n",
       "│ CS001205000004 ┆ 1988    ┆ 346    ┆ 0.174044   │\n",
       "│ CS001205000006 ┆ 3337    ┆ 2004   ┆ 0.600539   │\n",
       "│ CS001211000025 ┆ 456     ┆ 0      ┆ 0.0        │\n",
       "│ CS001212000027 ┆ 448     ┆ 200    ┆ 0.446429   │\n",
       "│ CS001212000031 ┆ 296     ┆ 296    ┆ 1.0        │\n",
       "│ CS001212000046 ┆ 228     ┆ 108    ┆ 0.473684   │\n",
       "│ CS001212000070 ┆ 456     ┆ 308    ┆ 0.675439   │\n",
       "└────────────────┴─────────┴────────┴────────────┘"
      ]
     },
     "execution_count": 83,
     "metadata": {},
     "output_type": "execute_result"
    }
   ],
   "source": [
    "# group_byで一気に計算（こっちの方がわかりやすいし、無駄なcolumnを作らなくて済む）\n",
    "df_069 = (\n",
    "    df_receipt.join(df_product, on=\"product_cd\", how=\"inner\")\n",
    "    .group_by(\"customer_id\")\n",
    "    .agg(\n",
    "        [\n",
    "            (pl.col(\"quantity\") * pl.col(\"unit_price\")).sum().alias(\"sum_all\"),\n",
    "            (pl.col(\"quantity\") * pl.col(\"unit_price\")).filter(pl.col(\"category_major_cd\") == \"07\").sum().alias(\"sum_07\"),\n",
    "        ]\n",
    "    )\n",
    "    .filter(pl.col(\"sum_07\").is_not_null())\n",
    "    .with_columns((pl.col(\"sum_07\") / pl.col(\"sum_all\")).alias(\"sales_rate\"))\n",
    "    .sort(\"customer_id\")\n",
    ")\n",
    "\n",
    "df_069.head(10)"
   ]
  },
  {
   "attachments": {},
   "cell_type": "markdown",
   "metadata": {},
   "source": [
    "## Date型の計算"
   ]
  },
  {
   "attachments": {},
   "cell_type": "markdown",
   "metadata": {},
   "source": [
    "---\n",
    "> P-070: レシート明細データ（df_receipt）の売上日（sales_ymd）に対し、顧客データ（df_customer）の会員申込日（application_date）からの経過日数を計算し、顧客ID（customer_id）、売上日、会員申込日とともに10件表示せよ（sales_ymdは数値、application_dateは文字列でデータを保持している点に注意）。"
   ]
  },
  {
   "cell_type": "code",
   "execution_count": 84,
   "metadata": {},
   "outputs": [
    {
     "data": {
      "text/html": [
       "<div><style>\n",
       ".dataframe > thead > tr,\n",
       ".dataframe > tbody > tr {\n",
       "  text-align: right;\n",
       "  white-space: pre-wrap;\n",
       "}\n",
       "</style>\n",
       "<small>shape: (10, 4)</small><table border=\"1\" class=\"dataframe\"><thead><tr><th>customer_id</th><th>sales_ymd</th><th>application_date</th><th>elapsed_date</th></tr><tr><td>str</td><td>date</td><td>date</td><td>i64</td></tr></thead><tbody><tr><td>&quot;CS001113000004&quot;</td><td>2019-03-08</td><td>2015-11-05</td><td>1219</td></tr><tr><td>&quot;CS001114000005&quot;</td><td>2018-05-03</td><td>2016-04-12</td><td>751</td></tr><tr><td>&quot;CS001114000005&quot;</td><td>2019-07-31</td><td>2016-04-12</td><td>1205</td></tr><tr><td>&quot;CS001115000010&quot;</td><td>2019-04-05</td><td>2015-04-17</td><td>1449</td></tr><tr><td>&quot;CS001115000010&quot;</td><td>2017-12-28</td><td>2015-04-17</td><td>986</td></tr><tr><td>&quot;CS001115000010&quot;</td><td>2018-07-01</td><td>2015-04-17</td><td>1171</td></tr><tr><td>&quot;CS001205000004&quot;</td><td>2018-09-04</td><td>2016-06-15</td><td>811</td></tr><tr><td>&quot;CS001205000004&quot;</td><td>2019-06-25</td><td>2016-06-15</td><td>1105</td></tr><tr><td>&quot;CS001205000004&quot;</td><td>2019-03-12</td><td>2016-06-15</td><td>1000</td></tr><tr><td>&quot;CS001205000004&quot;</td><td>2017-09-14</td><td>2016-06-15</td><td>456</td></tr></tbody></table></div>"
      ],
      "text/plain": [
       "shape: (10, 4)\n",
       "┌────────────────┬────────────┬──────────────────┬──────────────┐\n",
       "│ customer_id    ┆ sales_ymd  ┆ application_date ┆ elapsed_date │\n",
       "│ ---            ┆ ---        ┆ ---              ┆ ---          │\n",
       "│ str            ┆ date       ┆ date             ┆ i64          │\n",
       "╞════════════════╪════════════╪══════════════════╪══════════════╡\n",
       "│ CS001113000004 ┆ 2019-03-08 ┆ 2015-11-05       ┆ 1219         │\n",
       "│ CS001114000005 ┆ 2018-05-03 ┆ 2016-04-12       ┆ 751          │\n",
       "│ CS001114000005 ┆ 2019-07-31 ┆ 2016-04-12       ┆ 1205         │\n",
       "│ CS001115000010 ┆ 2019-04-05 ┆ 2015-04-17       ┆ 1449         │\n",
       "│ CS001115000010 ┆ 2017-12-28 ┆ 2015-04-17       ┆ 986          │\n",
       "│ CS001115000010 ┆ 2018-07-01 ┆ 2015-04-17       ┆ 1171         │\n",
       "│ CS001205000004 ┆ 2018-09-04 ┆ 2016-06-15       ┆ 811          │\n",
       "│ CS001205000004 ┆ 2019-06-25 ┆ 2016-06-15       ┆ 1105         │\n",
       "│ CS001205000004 ┆ 2019-03-12 ┆ 2016-06-15       ┆ 1000         │\n",
       "│ CS001205000004 ┆ 2017-09-14 ┆ 2016-06-15       ┆ 456          │\n",
       "└────────────────┴────────────┴──────────────────┴──────────────┘"
      ]
     },
     "execution_count": 84,
     "metadata": {},
     "output_type": "execute_result"
    }
   ],
   "source": [
    "df_070 = (\n",
    "    df_receipt.select(\"customer_id\", \"sales_ymd\")\n",
    "    .unique()\n",
    "    .join(\n",
    "        df_customer.select(\"customer_id\", \"application_date\"),\n",
    "        how=\"inner\",\n",
    "        on=\"customer_id\",\n",
    "    )\n",
    "    .select(\n",
    "        \"customer_id\",\n",
    "        pl.col(\"sales_ymd\").cast(pl.Utf8).str.strptime(pl.Date, \"%Y%m%d\"),\n",
    "        pl.col(\"application_date\").str.strptime(pl.Date, \"%Y%m%d\"),\n",
    "    )\n",
    "    .with_columns(\n",
    "        (pl.col(\"sales_ymd\") - pl.col(\"application_date\"))\n",
    "        .dt.total_days()  # int型へ変換（別にしなくても良い）\n",
    "        .alias(\"elapsed_date\")\n",
    "    )\n",
    "    .filter(pl.col(\"elapsed_date\").is_not_null())\n",
    "    .sort(\"customer_id\")\n",
    ")\n",
    "\n",
    "df_070.head(10)"
   ]
  },
  {
   "attachments": {},
   "cell_type": "markdown",
   "metadata": {},
   "source": [
    "---\n",
    "> P-071: レシート明細データ（df_receipt）の売上日（sales_ymd）に対し、顧客データ（df_customer）の会員申込日（application_date）からの経過月数を計算し、顧客ID（customer_id）、売上日、会員申込日とともに10件表示せよ（sales_ymdは数値、application_dateは文字列でデータを保持している点に注意）。1ヶ月未満は切り捨てること。"
   ]
  },
  {
   "cell_type": "code",
   "execution_count": 85,
   "metadata": {},
   "outputs": [
    {
     "data": {
      "text/html": [
       "<div><style>\n",
       ".dataframe > thead > tr,\n",
       ".dataframe > tbody > tr {\n",
       "  text-align: right;\n",
       "  white-space: pre-wrap;\n",
       "}\n",
       "</style>\n",
       "<small>shape: (65_682, 4)</small><table border=\"1\" class=\"dataframe\"><thead><tr><th>customer_id</th><th>sales_ymd</th><th>application_date</th><th>elapsed_month</th></tr><tr><td>str</td><td>date</td><td>date</td><td>i64</td></tr></thead><tbody><tr><td>&quot;CS001113000004&quot;</td><td>2019-03-08</td><td>2015-11-05</td><td>40</td></tr><tr><td>&quot;CS001113000004&quot;</td><td>2019-03-08</td><td>2015-11-05</td><td>40</td></tr><tr><td>&quot;CS001114000005&quot;</td><td>2018-05-03</td><td>2016-04-12</td><td>25</td></tr><tr><td>&quot;CS001114000005&quot;</td><td>2018-05-03</td><td>2016-04-12</td><td>25</td></tr><tr><td>&quot;CS001114000005&quot;</td><td>2019-07-31</td><td>2016-04-12</td><td>39</td></tr><tr><td>&hellip;</td><td>&hellip;</td><td>&hellip;</td><td>&hellip;</td></tr><tr><td>&quot;CS051515000002&quot;</td><td>2019-10-25</td><td>2017-12-11</td><td>22</td></tr><tr><td>&quot;CS052212000002&quot;</td><td>2019-10-17</td><td>2018-02-09</td><td>20</td></tr><tr><td>&quot;CS052212000002&quot;</td><td>2019-10-17</td><td>2018-02-09</td><td>20</td></tr><tr><td>&quot;CS052514000001&quot;</td><td>2019-08-22</td><td>2018-09-07</td><td>11</td></tr><tr><td>&quot;CS052514000001&quot;</td><td>2019-08-22</td><td>2018-09-07</td><td>11</td></tr></tbody></table></div>"
      ],
      "text/plain": [
       "shape: (65_682, 4)\n",
       "┌────────────────┬────────────┬──────────────────┬───────────────┐\n",
       "│ customer_id    ┆ sales_ymd  ┆ application_date ┆ elapsed_month │\n",
       "│ ---            ┆ ---        ┆ ---              ┆ ---           │\n",
       "│ str            ┆ date       ┆ date             ┆ i64           │\n",
       "╞════════════════╪════════════╪══════════════════╪═══════════════╡\n",
       "│ CS001113000004 ┆ 2019-03-08 ┆ 2015-11-05       ┆ 40            │\n",
       "│ CS001113000004 ┆ 2019-03-08 ┆ 2015-11-05       ┆ 40            │\n",
       "│ CS001114000005 ┆ 2018-05-03 ┆ 2016-04-12       ┆ 25            │\n",
       "│ CS001114000005 ┆ 2018-05-03 ┆ 2016-04-12       ┆ 25            │\n",
       "│ CS001114000005 ┆ 2019-07-31 ┆ 2016-04-12       ┆ 39            │\n",
       "│ …              ┆ …          ┆ …                ┆ …             │\n",
       "│ CS051515000002 ┆ 2019-10-25 ┆ 2017-12-11       ┆ 22            │\n",
       "│ CS052212000002 ┆ 2019-10-17 ┆ 2018-02-09       ┆ 20            │\n",
       "│ CS052212000002 ┆ 2019-10-17 ┆ 2018-02-09       ┆ 20            │\n",
       "│ CS052514000001 ┆ 2019-08-22 ┆ 2018-09-07       ┆ 11            │\n",
       "│ CS052514000001 ┆ 2019-08-22 ┆ 2018-09-07       ┆ 11            │\n",
       "└────────────────┴────────────┴──────────────────┴───────────────┘"
      ]
     },
     "execution_count": 85,
     "metadata": {},
     "output_type": "execute_result"
    }
   ],
   "source": [
    "df_071 = (\n",
    "    df_receipt.select(\"customer_id\", \"sales_ymd\")\n",
    "    .join(\n",
    "        df_customer.select(\"customer_id\", \"application_date\"),\n",
    "        how=\"inner\",\n",
    "        on=\"customer_id\",\n",
    "    )\n",
    "    .select(\n",
    "        \"customer_id\",\n",
    "        pl.col(\"sales_ymd\").cast(pl.Utf8).str.strptime(pl.Date, \"%Y%m%d\"),\n",
    "        pl.col(\"application_date\").str.strptime(pl.Date, \"%Y%m%d\"),\n",
    "    )\n",
    "    .with_columns(\n",
    "        (\n",
    "            pl.col(\"sales_ymd\").dt.year() * 12\n",
    "            - pl.col(\"application_date\").dt.year() * 12\n",
    "            + pl.col(\"sales_ymd\").dt.month().cast(pl.Int64)\n",
    "            - pl.col(\"application_date\").dt.month().cast(pl.Int64)  # Int型にしないとバグる\n",
    "        )\n",
    "        .alias(\"elapsed_month\")\n",
    "    )\n",
    "    .filter(pl.col(\"elapsed_month\").is_not_null())\n",
    "    .sort(\"customer_id\")\n",
    ")\n",
    "\n",
    "df_071"
   ]
  },
  {
   "attachments": {},
   "cell_type": "markdown",
   "metadata": {},
   "source": [
    "---\n",
    "> P-072: レシート明細データ（df_receipt）の売上日（df_customer）に対し、顧客データ（df_customer）の会員申込日（application_date）からの経過年数を計算し、顧客ID（customer_id）、売上日、会員申込日とともに10件表示せよ（sales_ymdは数値、application_dateは文字列でデータを保持している点に注意）。1年未満は切り捨てること。"
   ]
  },
  {
   "cell_type": "code",
   "execution_count": 86,
   "metadata": {},
   "outputs": [
    {
     "data": {
      "text/html": [
       "<div><style>\n",
       ".dataframe > thead > tr,\n",
       ".dataframe > tbody > tr {\n",
       "  text-align: right;\n",
       "  white-space: pre-wrap;\n",
       "}\n",
       "</style>\n",
       "<small>shape: (10, 4)</small><table border=\"1\" class=\"dataframe\"><thead><tr><th>customer_id</th><th>sales_ymd</th><th>application_date</th><th>elapsed_year</th></tr><tr><td>str</td><td>date</td><td>date</td><td>i32</td></tr></thead><tbody><tr><td>&quot;CS001113000004&quot;</td><td>2019-03-08</td><td>2015-11-05</td><td>4</td></tr><tr><td>&quot;CS001113000004&quot;</td><td>2019-03-08</td><td>2015-11-05</td><td>4</td></tr><tr><td>&quot;CS001114000005&quot;</td><td>2018-05-03</td><td>2016-04-12</td><td>2</td></tr><tr><td>&quot;CS001114000005&quot;</td><td>2018-05-03</td><td>2016-04-12</td><td>2</td></tr><tr><td>&quot;CS001114000005&quot;</td><td>2019-07-31</td><td>2016-04-12</td><td>3</td></tr><tr><td>&quot;CS001114000005&quot;</td><td>2019-07-31</td><td>2016-04-12</td><td>3</td></tr><tr><td>&quot;CS001115000010&quot;</td><td>2019-04-05</td><td>2015-04-17</td><td>4</td></tr><tr><td>&quot;CS001115000010&quot;</td><td>2018-07-01</td><td>2015-04-17</td><td>3</td></tr><tr><td>&quot;CS001115000010&quot;</td><td>2017-12-28</td><td>2015-04-17</td><td>2</td></tr><tr><td>&quot;CS001115000010&quot;</td><td>2019-04-05</td><td>2015-04-17</td><td>4</td></tr></tbody></table></div>"
      ],
      "text/plain": [
       "shape: (10, 4)\n",
       "┌────────────────┬────────────┬──────────────────┬──────────────┐\n",
       "│ customer_id    ┆ sales_ymd  ┆ application_date ┆ elapsed_year │\n",
       "│ ---            ┆ ---        ┆ ---              ┆ ---          │\n",
       "│ str            ┆ date       ┆ date             ┆ i32          │\n",
       "╞════════════════╪════════════╪══════════════════╪══════════════╡\n",
       "│ CS001113000004 ┆ 2019-03-08 ┆ 2015-11-05       ┆ 4            │\n",
       "│ CS001113000004 ┆ 2019-03-08 ┆ 2015-11-05       ┆ 4            │\n",
       "│ CS001114000005 ┆ 2018-05-03 ┆ 2016-04-12       ┆ 2            │\n",
       "│ CS001114000005 ┆ 2018-05-03 ┆ 2016-04-12       ┆ 2            │\n",
       "│ CS001114000005 ┆ 2019-07-31 ┆ 2016-04-12       ┆ 3            │\n",
       "│ CS001114000005 ┆ 2019-07-31 ┆ 2016-04-12       ┆ 3            │\n",
       "│ CS001115000010 ┆ 2019-04-05 ┆ 2015-04-17       ┆ 4            │\n",
       "│ CS001115000010 ┆ 2018-07-01 ┆ 2015-04-17       ┆ 3            │\n",
       "│ CS001115000010 ┆ 2017-12-28 ┆ 2015-04-17       ┆ 2            │\n",
       "│ CS001115000010 ┆ 2019-04-05 ┆ 2015-04-17       ┆ 4            │\n",
       "└────────────────┴────────────┴──────────────────┴──────────────┘"
      ]
     },
     "execution_count": 86,
     "metadata": {},
     "output_type": "execute_result"
    }
   ],
   "source": [
    "df_072 = (\n",
    "    df_receipt.select(\"customer_id\", \"sales_ymd\")\n",
    "    .join(\n",
    "        df_customer.select(\"customer_id\", \"application_date\"),\n",
    "        how=\"inner\",\n",
    "        on=\"customer_id\",\n",
    "    )\n",
    "    .select(\n",
    "        \"customer_id\",\n",
    "        pl.col(\"sales_ymd\").cast(pl.Utf8).str.strptime(pl.Date, \"%Y%m%d\"),\n",
    "        pl.col(\"application_date\").str.strptime(pl.Date, \"%Y%m%d\"),\n",
    "    )\n",
    "    .with_columns(\n",
    "        (\n",
    "            (pl.col(\"sales_ymd\").dt.year() - pl.col(\"application_date\").dt.year())\n",
    "        )\n",
    "        .alias(\"elapsed_year\")\n",
    "    )\n",
    "    .filter(pl.col(\"elapsed_year\").is_not_null())\n",
    "    .sort(\"customer_id\")\n",
    ")\n",
    "\n",
    "df_072.head(10)"
   ]
  },
  {
   "attachments": {},
   "cell_type": "markdown",
   "metadata": {},
   "source": [
    "---\n",
    "> P-073: レシート明細データ（df_receipt）の売上日（sales_ymd）に対し、顧客データ（df_customer）の会員申込日（application_date）からのエポック秒による経過時間を計算し、顧客ID（customer_id）、売上日、会員申込日とともに10件表示せよ（なお、sales_ymdは数値、application_dateは文字列でデータを保持している点に注意）。なお、時間情報は保有していないため各日付は0時0分0秒を表すものとする。"
   ]
  },
  {
   "cell_type": "code",
   "execution_count": 87,
   "metadata": {},
   "outputs": [
    {
     "data": {
      "text/html": [
       "<div><style>\n",
       ".dataframe > thead > tr,\n",
       ".dataframe > tbody > tr {\n",
       "  text-align: right;\n",
       "  white-space: pre-wrap;\n",
       "}\n",
       "</style>\n",
       "<small>shape: (10, 4)</small><table border=\"1\" class=\"dataframe\"><thead><tr><th>customer_id</th><th>sales_ymd</th><th>application_date</th><th>elapsed_epoch</th></tr><tr><td>str</td><td>date</td><td>date</td><td>i64</td></tr></thead><tbody><tr><td>&quot;CS001113000004&quot;</td><td>2019-03-08</td><td>2015-11-05</td><td>105321600</td></tr><tr><td>&quot;CS001113000004&quot;</td><td>2019-03-08</td><td>2015-11-05</td><td>105321600</td></tr><tr><td>&quot;CS001114000005&quot;</td><td>2018-05-03</td><td>2016-04-12</td><td>64886400</td></tr><tr><td>&quot;CS001114000005&quot;</td><td>2018-05-03</td><td>2016-04-12</td><td>64886400</td></tr><tr><td>&quot;CS001114000005&quot;</td><td>2019-07-31</td><td>2016-04-12</td><td>104112000</td></tr><tr><td>&quot;CS001114000005&quot;</td><td>2019-07-31</td><td>2016-04-12</td><td>104112000</td></tr><tr><td>&quot;CS001115000010&quot;</td><td>2019-04-05</td><td>2015-04-17</td><td>125193600</td></tr><tr><td>&quot;CS001115000010&quot;</td><td>2018-07-01</td><td>2015-04-17</td><td>101174400</td></tr><tr><td>&quot;CS001115000010&quot;</td><td>2017-12-28</td><td>2015-04-17</td><td>85190400</td></tr><tr><td>&quot;CS001115000010&quot;</td><td>2019-04-05</td><td>2015-04-17</td><td>125193600</td></tr></tbody></table></div>"
      ],
      "text/plain": [
       "shape: (10, 4)\n",
       "┌────────────────┬────────────┬──────────────────┬───────────────┐\n",
       "│ customer_id    ┆ sales_ymd  ┆ application_date ┆ elapsed_epoch │\n",
       "│ ---            ┆ ---        ┆ ---              ┆ ---           │\n",
       "│ str            ┆ date       ┆ date             ┆ i64           │\n",
       "╞════════════════╪════════════╪══════════════════╪═══════════════╡\n",
       "│ CS001113000004 ┆ 2019-03-08 ┆ 2015-11-05       ┆ 105321600     │\n",
       "│ CS001113000004 ┆ 2019-03-08 ┆ 2015-11-05       ┆ 105321600     │\n",
       "│ CS001114000005 ┆ 2018-05-03 ┆ 2016-04-12       ┆ 64886400      │\n",
       "│ CS001114000005 ┆ 2018-05-03 ┆ 2016-04-12       ┆ 64886400      │\n",
       "│ CS001114000005 ┆ 2019-07-31 ┆ 2016-04-12       ┆ 104112000     │\n",
       "│ CS001114000005 ┆ 2019-07-31 ┆ 2016-04-12       ┆ 104112000     │\n",
       "│ CS001115000010 ┆ 2019-04-05 ┆ 2015-04-17       ┆ 125193600     │\n",
       "│ CS001115000010 ┆ 2018-07-01 ┆ 2015-04-17       ┆ 101174400     │\n",
       "│ CS001115000010 ┆ 2017-12-28 ┆ 2015-04-17       ┆ 85190400      │\n",
       "│ CS001115000010 ┆ 2019-04-05 ┆ 2015-04-17       ┆ 125193600     │\n",
       "└────────────────┴────────────┴──────────────────┴───────────────┘"
      ]
     },
     "execution_count": 87,
     "metadata": {},
     "output_type": "execute_result"
    }
   ],
   "source": [
    "df_073 = (\n",
    "    df_receipt.select(\"customer_id\", \"sales_ymd\")\n",
    "    .join(\n",
    "        df_customer.select(\"customer_id\", \"application_date\"),\n",
    "        how=\"inner\",\n",
    "        on=\"customer_id\",\n",
    "    )\n",
    "    .select(\n",
    "        \"customer_id\",\n",
    "        pl.col(\"sales_ymd\").cast(pl.Utf8).str.strptime(pl.Date, \"%Y%m%d\"),\n",
    "        pl.col(\"application_date\").str.strptime(pl.Date, \"%Y%m%d\"),\n",
    "    )\n",
    "    .with_columns(\n",
    "        (\n",
    "            (\n",
    "                pl.col(\"sales_ymd\").dt.epoch(time_unit=\"s\")\n",
    "                - pl.col(\"application_date\").dt.epoch(time_unit=\"s\")\n",
    "            )  # defaultはμs(10e-6)\n",
    "        )\n",
    "        .alias(\"elapsed_epoch\")\n",
    "    )\n",
    "    .filter(pl.col(\"elapsed_epoch\").is_not_null())\n",
    "    .sort(\"customer_id\")\n",
    ")\n",
    "\n",
    "df_073.head(10)"
   ]
  },
  {
   "attachments": {},
   "cell_type": "markdown",
   "metadata": {},
   "source": [
    "---\n",
    "> P-074: レシート明細データ（df_receipt）の売上日（sales_ymd）に対し、当該週の月曜日からの経過日数を計算し、売上日、直前の月曜日付とともに10件表示せよ（sales_ymdは数値でデータを保持している点に注意）。"
   ]
  },
  {
   "cell_type": "code",
   "execution_count": 88,
   "metadata": {},
   "outputs": [
    {
     "name": "stderr",
     "output_type": "stream",
     "text": [
      "sys:1: MapWithoutReturnDtypeWarning: Calling `map_elements` without specifying `return_dtype` can lead to unpredictable results. Specify `return_dtype` to silence this warning.\n",
      "sys:1: MapWithoutReturnDtypeWarning: Calling `map_elements` without specifying `return_dtype` can lead to unpredictable results. Specify `return_dtype` to silence this warning.\n",
      "sys:1: MapWithoutReturnDtypeWarning: Calling `map_elements` without specifying `return_dtype` can lead to unpredictable results. Specify `return_dtype` to silence this warning.\n",
      "sys:1: MapWithoutReturnDtypeWarning: Calling `map_elements` without specifying `return_dtype` can lead to unpredictable results. Specify `return_dtype` to silence this warning.\n",
      "sys:1: MapWithoutReturnDtypeWarning: Calling `map_elements` without specifying `return_dtype` can lead to unpredictable results. Specify `return_dtype` to silence this warning.\n",
      "sys:1: MapWithoutReturnDtypeWarning: Calling `map_elements` without specifying `return_dtype` can lead to unpredictable results. Specify `return_dtype` to silence this warning.\n",
      "sys:1: MapWithoutReturnDtypeWarning: Calling `map_elements` without specifying `return_dtype` can lead to unpredictable results. Specify `return_dtype` to silence this warning.\n",
      "sys:1: MapWithoutReturnDtypeWarning: Calling `map_elements` without specifying `return_dtype` can lead to unpredictable results. Specify `return_dtype` to silence this warning.\n",
      "sys:1: MapWithoutReturnDtypeWarning: Calling `map_elements` without specifying `return_dtype` can lead to unpredictable results. Specify `return_dtype` to silence this warning.\n",
      "sys:1: MapWithoutReturnDtypeWarning: Calling `map_elements` without specifying `return_dtype` can lead to unpredictable results. Specify `return_dtype` to silence this warning.\n",
      "sys:1: MapWithoutReturnDtypeWarning: Calling `map_elements` without specifying `return_dtype` can lead to unpredictable results. Specify `return_dtype` to silence this warning.\n",
      "sys:1: MapWithoutReturnDtypeWarning: Calling `map_elements` without specifying `return_dtype` can lead to unpredictable results. Specify `return_dtype` to silence this warning.\n",
      "sys:1: MapWithoutReturnDtypeWarning: Calling `map_elements` without specifying `return_dtype` can lead to unpredictable results. Specify `return_dtype` to silence this warning.\n",
      "sys:1: MapWithoutReturnDtypeWarning: Calling `map_elements` without specifying `return_dtype` can lead to unpredictable results. Specify `return_dtype` to silence this warning.\n",
      "sys:1: MapWithoutReturnDtypeWarning: Calling `map_elements` without specifying `return_dtype` can lead to unpredictable results. Specify `return_dtype` to silence this warning.\n",
      "sys:1: MapWithoutReturnDtypeWarning: Calling `map_elements` without specifying `return_dtype` can lead to unpredictable results. Specify `return_dtype` to silence this warning.\n",
      "sys:1: MapWithoutReturnDtypeWarning: Calling `map_elements` without specifying `return_dtype` can lead to unpredictable results. Specify `return_dtype` to silence this warning.\n",
      "sys:1: MapWithoutReturnDtypeWarning: Calling `map_elements` without specifying `return_dtype` can lead to unpredictable results. Specify `return_dtype` to silence this warning.\n",
      "sys:1: MapWithoutReturnDtypeWarning: Calling `map_elements` without specifying `return_dtype` can lead to unpredictable results. Specify `return_dtype` to silence this warning.\n",
      "sys:1: MapWithoutReturnDtypeWarning: Calling `map_elements` without specifying `return_dtype` can lead to unpredictable results. Specify `return_dtype` to silence this warning.\n",
      "sys:1: MapWithoutReturnDtypeWarning: Calling `map_elements` without specifying `return_dtype` can lead to unpredictable results. Specify `return_dtype` to silence this warning.\n",
      "sys:1: MapWithoutReturnDtypeWarning: Calling `map_elements` without specifying `return_dtype` can lead to unpredictable results. Specify `return_dtype` to silence this warning.\n",
      "sys:1: MapWithoutReturnDtypeWarning: Calling `map_elements` without specifying `return_dtype` can lead to unpredictable results. Specify `return_dtype` to silence this warning.\n"
     ]
    },
    {
     "data": {
      "text/html": [
       "<div><style>\n",
       ".dataframe > thead > tr,\n",
       ".dataframe > tbody > tr {\n",
       "  text-align: right;\n",
       "  white-space: pre-wrap;\n",
       "}\n",
       "</style>\n",
       "<small>shape: (10, 3)</small><table border=\"1\" class=\"dataframe\"><thead><tr><th>sales_ymd</th><th>elapsed_days</th><th>monday</th></tr><tr><td>date</td><td>i8</td><td>date</td></tr></thead><tbody><tr><td>2018-11-03</td><td>5</td><td>2018-10-29</td></tr><tr><td>2018-11-18</td><td>6</td><td>2018-11-12</td></tr><tr><td>2017-07-12</td><td>2</td><td>2017-07-10</td></tr><tr><td>2019-02-05</td><td>1</td><td>2019-02-04</td></tr><tr><td>2018-08-21</td><td>1</td><td>2018-08-20</td></tr><tr><td>2019-06-05</td><td>2</td><td>2019-06-03</td></tr><tr><td>2018-12-05</td><td>2</td><td>2018-12-03</td></tr><tr><td>2019-09-22</td><td>6</td><td>2019-09-16</td></tr><tr><td>2017-05-04</td><td>3</td><td>2017-05-01</td></tr><tr><td>2019-10-10</td><td>3</td><td>2019-10-07</td></tr></tbody></table></div>"
      ],
      "text/plain": [
       "shape: (10, 3)\n",
       "┌────────────┬──────────────┬────────────┐\n",
       "│ sales_ymd  ┆ elapsed_days ┆ monday     │\n",
       "│ ---        ┆ ---          ┆ ---        │\n",
       "│ date       ┆ i8           ┆ date       │\n",
       "╞════════════╪══════════════╪════════════╡\n",
       "│ 2018-11-03 ┆ 5            ┆ 2018-10-29 │\n",
       "│ 2018-11-18 ┆ 6            ┆ 2018-11-12 │\n",
       "│ 2017-07-12 ┆ 2            ┆ 2017-07-10 │\n",
       "│ 2019-02-05 ┆ 1            ┆ 2019-02-04 │\n",
       "│ 2018-08-21 ┆ 1            ┆ 2018-08-20 │\n",
       "│ 2019-06-05 ┆ 2            ┆ 2019-06-03 │\n",
       "│ 2018-12-05 ┆ 2            ┆ 2018-12-03 │\n",
       "│ 2019-09-22 ┆ 6            ┆ 2019-09-16 │\n",
       "│ 2017-05-04 ┆ 3            ┆ 2017-05-01 │\n",
       "│ 2019-10-10 ┆ 3            ┆ 2019-10-07 │\n",
       "└────────────┴──────────────┴────────────┘"
      ]
     },
     "execution_count": 88,
     "metadata": {},
     "output_type": "execute_result"
    }
   ],
   "source": [
    "from datetime import timedelta\n",
    "\n",
    "df_074 = (\n",
    "    df_receipt.select(pl.col(\"sales_ymd\").cast(pl.Utf8).str.strptime(pl.Date, \"%Y%m%d\"))\n",
    "    .with_columns(\n",
    "        (\n",
    "            pl.col(\"sales_ymd\").dt.weekday() - 1\n",
    "        )\n",
    "        .alias(\"elapsed_days\"),\n",
    "        # monday=1, sunday=9\n",
    "        (\n",
    "            pl.col(\"sales_ymd\")\n",
    "            .map_elements(lambda x: x - timedelta(days=(x.weekday())))\n",
    "        ).alias(\"monday\"),\n",
    "    )\n",
    "    .filter(pl.col(\"monday\").is_not_null())\n",
    ")\n",
    "\n",
    "df_074.head(10)"
   ]
  },
  {
   "cell_type": "code",
   "execution_count": 89,
   "metadata": {},
   "outputs": [
    {
     "data": {
      "text/html": [
       "<div><style>\n",
       ".dataframe > thead > tr,\n",
       ".dataframe > tbody > tr {\n",
       "  text-align: right;\n",
       "  white-space: pre-wrap;\n",
       "}\n",
       "</style>\n",
       "<small>shape: (10, 3)</small><table border=\"1\" class=\"dataframe\"><thead><tr><th>sales_ymd</th><th>elapsed_days</th><th>monday</th></tr><tr><td>date</td><td>i8</td><td>date</td></tr></thead><tbody><tr><td>2018-11-03</td><td>5</td><td>2018-10-29</td></tr><tr><td>2018-11-18</td><td>6</td><td>2018-11-12</td></tr><tr><td>2017-07-12</td><td>2</td><td>2017-07-10</td></tr><tr><td>2019-02-05</td><td>1</td><td>2019-02-04</td></tr><tr><td>2018-08-21</td><td>1</td><td>2018-08-20</td></tr><tr><td>2019-06-05</td><td>2</td><td>2019-06-03</td></tr><tr><td>2018-12-05</td><td>2</td><td>2018-12-03</td></tr><tr><td>2019-09-22</td><td>6</td><td>2019-09-16</td></tr><tr><td>2017-05-04</td><td>3</td><td>2017-05-01</td></tr><tr><td>2019-10-10</td><td>3</td><td>2019-10-07</td></tr></tbody></table></div>"
      ],
      "text/plain": [
       "shape: (10, 3)\n",
       "┌────────────┬──────────────┬────────────┐\n",
       "│ sales_ymd  ┆ elapsed_days ┆ monday     │\n",
       "│ ---        ┆ ---          ┆ ---        │\n",
       "│ date       ┆ i8           ┆ date       │\n",
       "╞════════════╪══════════════╪════════════╡\n",
       "│ 2018-11-03 ┆ 5            ┆ 2018-10-29 │\n",
       "│ 2018-11-18 ┆ 6            ┆ 2018-11-12 │\n",
       "│ 2017-07-12 ┆ 2            ┆ 2017-07-10 │\n",
       "│ 2019-02-05 ┆ 1            ┆ 2019-02-04 │\n",
       "│ 2018-08-21 ┆ 1            ┆ 2018-08-20 │\n",
       "│ 2019-06-05 ┆ 2            ┆ 2019-06-03 │\n",
       "│ 2018-12-05 ┆ 2            ┆ 2018-12-03 │\n",
       "│ 2019-09-22 ┆ 6            ┆ 2019-09-16 │\n",
       "│ 2017-05-04 ┆ 3            ┆ 2017-05-01 │\n",
       "│ 2019-10-10 ┆ 3            ┆ 2019-10-07 │\n",
       "└────────────┴──────────────┴────────────┘"
      ]
     },
     "execution_count": 89,
     "metadata": {},
     "output_type": "execute_result"
    }
   ],
   "source": [
    "from datetime import timedelta\n",
    "\n",
    "df_074 = (\n",
    "    df_receipt.select(pl.col(\"sales_ymd\").cast(pl.Utf8).str.strptime(pl.Date, \"%Y%m%d\"))\n",
    "    .with_columns(\n",
    "        (pl.col(\"sales_ymd\").dt.weekday() - 1).alias(\"elapsed_days\"),\n",
    "        (pl.col(\"sales_ymd\").dt.truncate(\"1w\")).alias(\"monday\"),\n",
    "    )\n",
    "    .filter(pl.col(\"monday\").is_not_null())\n",
    ")\n",
    "\n",
    "df_074.head(10)"
   ]
  },
  {
   "attachments": {},
   "cell_type": "markdown",
   "metadata": {},
   "source": [
    "## ランダム抽出\n",
    "\n",
    "---\n",
    "> P-075:顧客データ（df_customer）からランダムに1%のデータを抽出し、先頭から10件表示せよ。"
   ]
  },
  {
   "cell_type": "code",
   "execution_count": 90,
   "metadata": {},
   "outputs": [
    {
     "data": {
      "text/html": [
       "<div><style>\n",
       ".dataframe > thead > tr,\n",
       ".dataframe > tbody > tr {\n",
       "  text-align: right;\n",
       "  white-space: pre-wrap;\n",
       "}\n",
       "</style>\n",
       "<small>shape: (10, 11)</small><table border=\"1\" class=\"dataframe\"><thead><tr><th>customer_id</th><th>customer_name</th><th>gender_cd</th><th>gender</th><th>birth_day</th><th>age</th><th>postal_cd</th><th>address</th><th>application_store_cd</th><th>application_date</th><th>status_cd</th></tr><tr><td>str</td><td>str</td><td>str</td><td>str</td><td>str</td><td>i64</td><td>str</td><td>str</td><td>str</td><td>str</td><td>str</td></tr></thead><tbody><tr><td>&quot;CS027415000302&quot;</td><td>&quot;笠原 美菜&quot;</td><td>&quot;1&quot;</td><td>&quot;女性&quot;</td><td>&quot;1973-03-26&quot;</td><td>46</td><td>&quot;251-0052&quot;</td><td>&quot;神奈川県藤沢市藤沢**********&quot;</td><td>&quot;S14027&quot;</td><td>&quot;20180201&quot;</td><td>&quot;0-00000000-0&quot;</td></tr><tr><td>&quot;CS004113000011&quot;</td><td>&quot;丹羽 綾&quot;</td><td>&quot;1&quot;</td><td>&quot;女性&quot;</td><td>&quot;2002-11-14&quot;</td><td>16</td><td>&quot;165-0031&quot;</td><td>&quot;東京都中野区上鷺宮**********&quot;</td><td>&quot;S13004&quot;</td><td>&quot;20151108&quot;</td><td>&quot;6-20090705-8&quot;</td></tr><tr><td>&quot;CS033415000266&quot;</td><td>&quot;井川 美智子&quot;</td><td>&quot;1&quot;</td><td>&quot;女性&quot;</td><td>&quot;1977-11-08&quot;</td><td>41</td><td>&quot;246-0025&quot;</td><td>&quot;神奈川県横浜市瀬谷区阿久和西**********&quot;</td><td>&quot;S14033&quot;</td><td>&quot;20150108&quot;</td><td>&quot;E-20100427-D&quot;</td></tr><tr><td>&quot;CS003412000232&quot;</td><td>&quot;川野 京子&quot;</td><td>&quot;1&quot;</td><td>&quot;女性&quot;</td><td>&quot;1970-08-28&quot;</td><td>48</td><td>&quot;182-0024&quot;</td><td>&quot;東京都調布市布田**********&quot;</td><td>&quot;S13003&quot;</td><td>&quot;20161105&quot;</td><td>&quot;3-20081021-2&quot;</td></tr><tr><td>&quot;CS027401000001&quot;</td><td>&quot;水谷 晃司&quot;</td><td>&quot;0&quot;</td><td>&quot;男性&quot;</td><td>&quot;1972-05-20&quot;</td><td>46</td><td>&quot;251-0055&quot;</td><td>&quot;神奈川県藤沢市南藤沢**********&quot;</td><td>&quot;S14027&quot;</td><td>&quot;20150426&quot;</td><td>&quot;0-00000000-0&quot;</td></tr><tr><td>&quot;CS001615000372&quot;</td><td>&quot;稲垣 寿々花&quot;</td><td>&quot;1&quot;</td><td>&quot;女性&quot;</td><td>&quot;1956-10-29&quot;</td><td>62</td><td>&quot;144-0035&quot;</td><td>&quot;東京都大田区南蒲田**********&quot;</td><td>&quot;S13001&quot;</td><td>&quot;20170403&quot;</td><td>&quot;A-20100104-1&quot;</td></tr><tr><td>&quot;CS029301000004&quot;</td><td>&quot;戎 晃司&quot;</td><td>&quot;9&quot;</td><td>&quot;不明&quot;</td><td>&quot;1987-06-07&quot;</td><td>31</td><td>&quot;272-0126&quot;</td><td>&quot;千葉県市川市千鳥町**********&quot;</td><td>&quot;S12029&quot;</td><td>&quot;20150512&quot;</td><td>&quot;0-00000000-0&quot;</td></tr><tr><td>&quot;CS037413000240&quot;</td><td>&quot;川越 夏希&quot;</td><td>&quot;1&quot;</td><td>&quot;女性&quot;</td><td>&quot;1975-10-07&quot;</td><td>43</td><td>&quot;135-0021&quot;</td><td>&quot;東京都江東区白河**********&quot;</td><td>&quot;S13037&quot;</td><td>&quot;20150304&quot;</td><td>&quot;0-00000000-0&quot;</td></tr><tr><td>&quot;CS037702000017&quot;</td><td>&quot;松居 聖陽&quot;</td><td>&quot;0&quot;</td><td>&quot;男性&quot;</td><td>&quot;1947-10-09&quot;</td><td>71</td><td>&quot;135-0007&quot;</td><td>&quot;東京都江東区新大橋**********&quot;</td><td>&quot;S13037&quot;</td><td>&quot;20151229&quot;</td><td>&quot;0-00000000-0&quot;</td></tr><tr><td>&quot;CS031514000006&quot;</td><td>&quot;神野 瑠璃亜&quot;</td><td>&quot;1&quot;</td><td>&quot;女性&quot;</td><td>&quot;1967-01-18&quot;</td><td>52</td><td>&quot;151-0071&quot;</td><td>&quot;東京都渋谷区本町**********&quot;</td><td>&quot;S13031&quot;</td><td>&quot;20150531&quot;</td><td>&quot;6-20100426-6&quot;</td></tr></tbody></table></div>"
      ],
      "text/plain": [
       "shape: (10, 11)\n",
       "┌────────────┬────────────┬───────────┬────────┬───┬───────────┬───────────┬───────────┬───────────┐\n",
       "│ customer_i ┆ customer_n ┆ gender_cd ┆ gender ┆ … ┆ address   ┆ applicati ┆ applicati ┆ status_cd │\n",
       "│ d          ┆ ame        ┆ ---       ┆ ---    ┆   ┆ ---       ┆ on_store_ ┆ on_date   ┆ ---       │\n",
       "│ ---        ┆ ---        ┆ str       ┆ str    ┆   ┆ str       ┆ cd        ┆ ---       ┆ str       │\n",
       "│ str        ┆ str        ┆           ┆        ┆   ┆           ┆ ---       ┆ str       ┆           │\n",
       "│            ┆            ┆           ┆        ┆   ┆           ┆ str       ┆           ┆           │\n",
       "╞════════════╪════════════╪═══════════╪════════╪═══╪═══════════╪═══════════╪═══════════╪═══════════╡\n",
       "│ CS02741500 ┆ 笠原 美菜  ┆ 1         ┆ 女性   ┆ … ┆ 神奈川県  ┆ S14027    ┆ 20180201  ┆ 0-0000000 │\n",
       "│ 0302       ┆            ┆           ┆        ┆   ┆ 藤沢市藤  ┆           ┆           ┆ 0-0       │\n",
       "│            ┆            ┆           ┆        ┆   ┆ 沢******* ┆           ┆           ┆           │\n",
       "│            ┆            ┆           ┆        ┆   ┆ ***       ┆           ┆           ┆           │\n",
       "│ CS00411300 ┆ 丹羽 綾    ┆ 1         ┆ 女性   ┆ … ┆ 東京都中  ┆ S13004    ┆ 20151108  ┆ 6-2009070 │\n",
       "│ 0011       ┆            ┆           ┆        ┆   ┆ 野区上鷺  ┆           ┆           ┆ 5-8       │\n",
       "│            ┆            ┆           ┆        ┆   ┆ 宮******* ┆           ┆           ┆           │\n",
       "│            ┆            ┆           ┆        ┆   ┆ ***       ┆           ┆           ┆           │\n",
       "│ CS03341500 ┆ 井川       ┆ 1         ┆ 女性   ┆ … ┆ 神奈川県  ┆ S14033    ┆ 20150108  ┆ E-2010042 │\n",
       "│ 0266       ┆ 美智子     ┆           ┆        ┆   ┆ 横浜市瀬  ┆           ┆           ┆ 7-D       │\n",
       "│            ┆            ┆           ┆        ┆   ┆ 谷区阿久  ┆           ┆           ┆           │\n",
       "│            ┆            ┆           ┆        ┆   ┆ 和西***** ┆           ┆           ┆           │\n",
       "│            ┆            ┆           ┆        ┆   ┆ *****     ┆           ┆           ┆           │\n",
       "│ CS00341200 ┆ 川野 京子  ┆ 1         ┆ 女性   ┆ … ┆ 東京都調  ┆ S13003    ┆ 20161105  ┆ 3-2008102 │\n",
       "│ 0232       ┆            ┆           ┆        ┆   ┆ 布市布田* ┆           ┆           ┆ 1-2       │\n",
       "│            ┆            ┆           ┆        ┆   ┆ ********* ┆           ┆           ┆           │\n",
       "│ CS02740100 ┆ 水谷 晃司  ┆ 0         ┆ 男性   ┆ … ┆ 神奈川県  ┆ S14027    ┆ 20150426  ┆ 0-0000000 │\n",
       "│ 0001       ┆            ┆           ┆        ┆   ┆ 藤沢市南  ┆           ┆           ┆ 0-0       │\n",
       "│            ┆            ┆           ┆        ┆   ┆ 藤沢***** ┆           ┆           ┆           │\n",
       "│            ┆            ┆           ┆        ┆   ┆ *****     ┆           ┆           ┆           │\n",
       "│ CS00161500 ┆ 稲垣       ┆ 1         ┆ 女性   ┆ … ┆ 東京都大  ┆ S13001    ┆ 20170403  ┆ A-2010010 │\n",
       "│ 0372       ┆ 寿々花     ┆           ┆        ┆   ┆ 田区南蒲  ┆           ┆           ┆ 4-1       │\n",
       "│            ┆            ┆           ┆        ┆   ┆ 田******* ┆           ┆           ┆           │\n",
       "│            ┆            ┆           ┆        ┆   ┆ ***       ┆           ┆           ┆           │\n",
       "│ CS02930100 ┆ 戎 晃司    ┆ 9         ┆ 不明   ┆ … ┆ 千葉県市  ┆ S12029    ┆ 20150512  ┆ 0-0000000 │\n",
       "│ 0004       ┆            ┆           ┆        ┆   ┆ 川市千鳥  ┆           ┆           ┆ 0-0       │\n",
       "│            ┆            ┆           ┆        ┆   ┆ 町******* ┆           ┆           ┆           │\n",
       "│            ┆            ┆           ┆        ┆   ┆ ***       ┆           ┆           ┆           │\n",
       "│ CS03741300 ┆ 川越 夏希  ┆ 1         ┆ 女性   ┆ … ┆ 東京都江  ┆ S13037    ┆ 20150304  ┆ 0-0000000 │\n",
       "│ 0240       ┆            ┆           ┆        ┆   ┆ 東区白河* ┆           ┆           ┆ 0-0       │\n",
       "│            ┆            ┆           ┆        ┆   ┆ ********* ┆           ┆           ┆           │\n",
       "│ CS03770200 ┆ 松居 聖陽  ┆ 0         ┆ 男性   ┆ … ┆ 東京都江  ┆ S13037    ┆ 20151229  ┆ 0-0000000 │\n",
       "│ 0017       ┆            ┆           ┆        ┆   ┆ 東区新大  ┆           ┆           ┆ 0-0       │\n",
       "│            ┆            ┆           ┆        ┆   ┆ 橋******* ┆           ┆           ┆           │\n",
       "│            ┆            ┆           ┆        ┆   ┆ ***       ┆           ┆           ┆           │\n",
       "│ CS03151400 ┆ 神野       ┆ 1         ┆ 女性   ┆ … ┆ 東京都渋  ┆ S13031    ┆ 20150531  ┆ 6-2010042 │\n",
       "│ 0006       ┆ 瑠璃亜     ┆           ┆        ┆   ┆ 谷区本町* ┆           ┆           ┆ 6-6       │\n",
       "│            ┆            ┆           ┆        ┆   ┆ ********* ┆           ┆           ┆           │\n",
       "└────────────┴────────────┴───────────┴────────┴───┴───────────┴───────────┴───────────┴───────────┘"
      ]
     },
     "execution_count": 90,
     "metadata": {},
     "output_type": "execute_result"
    }
   ],
   "source": [
    "df_075 = df_customer.sample(fraction=0.01)  # ランダム抽出\n",
    "\n",
    "df_075.head(10)"
   ]
  },
  {
   "attachments": {},
   "cell_type": "markdown",
   "metadata": {},
   "source": [
    "---\n",
    "> P-076: 顧客データ（df_customer）から性別コード（gender_cd）の割合に基づきランダムに10%のデータを層化抽出し、性別コードごとに件数を集計せよ。"
   ]
  },
  {
   "cell_type": "code",
   "execution_count": 91,
   "metadata": {},
   "outputs": [
    {
     "data": {
      "text/html": [
       "<div><style>\n",
       ".dataframe > thead > tr,\n",
       ".dataframe > tbody > tr {\n",
       "  text-align: right;\n",
       "  white-space: pre-wrap;\n",
       "}\n",
       "</style>\n",
       "<small>shape: (3, 2)</small><table border=\"1\" class=\"dataframe\"><thead><tr><th>gender_cd</th><th>customer_id</th></tr><tr><td>str</td><td>u32</td></tr></thead><tbody><tr><td>&quot;1&quot;</td><td>1793</td></tr><tr><td>&quot;9&quot;</td><td>107</td></tr><tr><td>&quot;0&quot;</td><td>298</td></tr></tbody></table></div>"
      ],
      "text/plain": [
       "shape: (3, 2)\n",
       "┌───────────┬─────────────┐\n",
       "│ gender_cd ┆ customer_id │\n",
       "│ ---       ┆ ---         │\n",
       "│ str       ┆ u32         │\n",
       "╞═══════════╪═════════════╡\n",
       "│ 1         ┆ 1793        │\n",
       "│ 9         ┆ 107         │\n",
       "│ 0         ┆ 298         │\n",
       "└───────────┴─────────────┘"
      ]
     },
     "execution_count": 91,
     "metadata": {},
     "output_type": "execute_result"
    }
   ],
   "source": [
    "_, df_tmp = train_test_split(\n",
    "    df_customer, test_size=0.1, stratify=df_customer[\"gender_cd\"]\n",
    ")\n",
    "\n",
    "df_076 = df_tmp.group_by(\"gender_cd\").agg(pl.col(\"customer_id\").count())\n",
    "\n",
    "df_076.head(10)"
   ]
  },
  {
   "attachments": {},
   "cell_type": "markdown",
   "metadata": {},
   "source": [
    "## 外れ値と欠損値"
   ]
  },
  {
   "attachments": {},
   "cell_type": "markdown",
   "metadata": {},
   "source": [
    "---\n",
    "> P-077: レシート明細データ（df_receipt）の売上金額を顧客単位に合計し、合計した売上金額の外れ値を抽出せよ。なお、外れ値は売上金額合計を対数化したうえで平均と標準偏差を計算し、その平均から3σを超えて離れたものとする（自然対数と常用対数のどちらでも可）。結果は10件表示せよ。"
   ]
  },
  {
   "cell_type": "code",
   "execution_count": 92,
   "metadata": {},
   "outputs": [
    {
     "data": {
      "text/html": [
       "<div><style>\n",
       ".dataframe > thead > tr,\n",
       ".dataframe > tbody > tr {\n",
       "  text-align: right;\n",
       "  white-space: pre-wrap;\n",
       "}\n",
       "</style>\n",
       "<small>shape: (1, 3)</small><table border=\"1\" class=\"dataframe\"><thead><tr><th>customer_id</th><th>sum_amount</th><th>log_amount</th></tr><tr><td>str</td><td>i64</td><td>f64</td></tr></thead><tbody><tr><td>&quot;ZZ000000000000&quot;</td><td>12395003</td><td>16.332804</td></tr></tbody></table></div>"
      ],
      "text/plain": [
       "shape: (1, 3)\n",
       "┌────────────────┬────────────┬────────────┐\n",
       "│ customer_id    ┆ sum_amount ┆ log_amount │\n",
       "│ ---            ┆ ---        ┆ ---        │\n",
       "│ str            ┆ i64        ┆ f64        │\n",
       "╞════════════════╪════════════╪════════════╡\n",
       "│ ZZ000000000000 ┆ 12395003   ┆ 16.332804  │\n",
       "└────────────────┴────────────┴────────────┘"
      ]
     },
     "execution_count": 92,
     "metadata": {},
     "output_type": "execute_result"
    }
   ],
   "source": [
    "df_077 = (\n",
    "    df_receipt\n",
    "    .group_by(\"customer_id\")\n",
    "    .agg((pl.col(\"amount\").sum()).alias(\"sum_amount\"))\n",
    "    .with_columns(pl.col(\"sum_amount\").log().alias(\"log_amount\"))\n",
    "    .filter(\n",
    "        (\n",
    "            (pl.col(\"log_amount\") - pl.col(\"log_amount\").mean()).abs()\n",
    "            > (pl.col(\"log_amount\").std() * 3)\n",
    "        ).alias(\"log_amount_ss\")\n",
    "    )\n",
    ")\n",
    "\n",
    "df_077.head(10)"
   ]
  },
  {
   "attachments": {},
   "cell_type": "markdown",
   "metadata": {},
   "source": [
    "---\n",
    "> P-078: レシート明細データ（df_receipt）の売上金額（amount）を顧客単位に合計し、合計した売上金額の外れ値を抽出せよ。ただし、顧客IDが\"Z\"から始まるのものは非会員を表すため、除外して計算すること。なお、ここでは外れ値を第1四分位と第3四分位の差であるIQRを用いて、「第1四分位数-1.5×IQR」を下回るもの、または「第3四分位数+1.5×IQR」を超えるものとする。結果は10件表示せよ。"
   ]
  },
  {
   "cell_type": "code",
   "execution_count": 93,
   "metadata": {},
   "outputs": [
    {
     "data": {
      "text/html": [
       "<div><style>\n",
       ".dataframe > thead > tr,\n",
       ".dataframe > tbody > tr {\n",
       "  text-align: right;\n",
       "  white-space: pre-wrap;\n",
       "}\n",
       "</style>\n",
       "<small>shape: (10, 2)</small><table border=\"1\" class=\"dataframe\"><thead><tr><th>customer_id</th><th>sum_amount</th></tr><tr><td>str</td><td>i64</td></tr></thead><tbody><tr><td>&quot;CS001414000048&quot;</td><td>8584</td></tr><tr><td>&quot;CS001605000009&quot;</td><td>18925</td></tr><tr><td>&quot;CS002415000594&quot;</td><td>9568</td></tr><tr><td>&quot;CS004414000181&quot;</td><td>9584</td></tr><tr><td>&quot;CS005415000137&quot;</td><td>8734</td></tr><tr><td>&quot;CS006414000001&quot;</td><td>9156</td></tr><tr><td>&quot;CS006414000029&quot;</td><td>9179</td></tr><tr><td>&quot;CS006415000105&quot;</td><td>10042</td></tr><tr><td>&quot;CS006415000147&quot;</td><td>12723</td></tr><tr><td>&quot;CS006415000157&quot;</td><td>10648</td></tr></tbody></table></div>"
      ],
      "text/plain": [
       "shape: (10, 2)\n",
       "┌────────────────┬────────────┐\n",
       "│ customer_id    ┆ sum_amount │\n",
       "│ ---            ┆ ---        │\n",
       "│ str            ┆ i64        │\n",
       "╞════════════════╪════════════╡\n",
       "│ CS001414000048 ┆ 8584       │\n",
       "│ CS001605000009 ┆ 18925      │\n",
       "│ CS002415000594 ┆ 9568       │\n",
       "│ CS004414000181 ┆ 9584       │\n",
       "│ CS005415000137 ┆ 8734       │\n",
       "│ CS006414000001 ┆ 9156       │\n",
       "│ CS006414000029 ┆ 9179       │\n",
       "│ CS006415000105 ┆ 10042      │\n",
       "│ CS006415000147 ┆ 12723      │\n",
       "│ CS006415000157 ┆ 10648      │\n",
       "└────────────────┴────────────┘"
      ]
     },
     "execution_count": 93,
     "metadata": {},
     "output_type": "execute_result"
    }
   ],
   "source": [
    "pct25 = pl.col(\"sum_amount\").quantile(0.25)\n",
    "pct75 = pl.col(\"sum_amount\").quantile(0.75)\n",
    "iqr = pct75 - pct25\n",
    "\n",
    "\n",
    "df_078 = (\n",
    "    df_receipt.group_by(\"customer_id\")\n",
    "    .agg((pl.col(\"amount\").sum()).alias(\"sum_amount\"))\n",
    "    .filter(\n",
    "        (pl.col(\"customer_id\").str.starts_with(\"Z\").not_())\n",
    "        & (pl.col(\"sum_amount\") < (pct25 - 1.5 * iqr))\n",
    "        | (pl.col(\"sum_amount\") > (pct75 + 1.5 * iqr))\n",
    "    )\n",
    "    .sort(\"customer_id\")\n",
    ")\n",
    "\n",
    "df_078.head(10)"
   ]
  },
  {
   "attachments": {},
   "cell_type": "markdown",
   "metadata": {},
   "source": [
    "---\n",
    "> P-079: 商品データ（df_product）の各項目に対し、欠損数を確認せよ。"
   ]
  },
  {
   "cell_type": "code",
   "execution_count": 94,
   "metadata": {},
   "outputs": [
    {
     "data": {
      "text/html": [
       "<div><style>\n",
       ".dataframe > thead > tr,\n",
       ".dataframe > tbody > tr {\n",
       "  text-align: right;\n",
       "  white-space: pre-wrap;\n",
       "}\n",
       "</style>\n",
       "<small>shape: (1, 6)</small><table border=\"1\" class=\"dataframe\"><thead><tr><th>product_cd</th><th>category_major_cd</th><th>category_medium_cd</th><th>category_small_cd</th><th>unit_price</th><th>unit_cost</th></tr><tr><td>u32</td><td>u32</td><td>u32</td><td>u32</td><td>u32</td><td>u32</td></tr></thead><tbody><tr><td>0</td><td>0</td><td>0</td><td>0</td><td>7</td><td>7</td></tr></tbody></table></div>"
      ],
      "text/plain": [
       "shape: (1, 6)\n",
       "┌────────────┬───────────────────┬────────────────────┬───────────────────┬────────────┬───────────┐\n",
       "│ product_cd ┆ category_major_cd ┆ category_medium_cd ┆ category_small_cd ┆ unit_price ┆ unit_cost │\n",
       "│ ---        ┆ ---               ┆ ---                ┆ ---               ┆ ---        ┆ ---       │\n",
       "│ u32        ┆ u32               ┆ u32                ┆ u32               ┆ u32        ┆ u32       │\n",
       "╞════════════╪═══════════════════╪════════════════════╪═══════════════════╪════════════╪═══════════╡\n",
       "│ 0          ┆ 0                 ┆ 0                  ┆ 0                 ┆ 7          ┆ 7         │\n",
       "└────────────┴───────────────────┴────────────────────┴───────────────────┴────────────┴───────────┘"
      ]
     },
     "execution_count": 94,
     "metadata": {},
     "output_type": "execute_result"
    }
   ],
   "source": [
    "# df_ans = (\n",
    "#     df_product\n",
    "#     .select(pl.all().is_null().sum())\n",
    "# )\n",
    "\n",
    "# df_ans\n",
    "\n",
    "df_product.null_count()"
   ]
  },
  {
   "attachments": {},
   "cell_type": "markdown",
   "metadata": {},
   "source": [
    "---\n",
    "> P-080: 商品データ（df_product）のいずれかの項目に欠損が発生しているレコードを全て削除した新たな商品データを作成せよ。なお、削除前後の件数を表示させ、079で確認した件数だけ減少していることも確認すること。"
   ]
  },
  {
   "cell_type": "code",
   "execution_count": 95,
   "metadata": {},
   "outputs": [
    {
     "name": "stdout",
     "output_type": "stream",
     "text": [
      "10030\n",
      "10023\n"
     ]
    }
   ],
   "source": [
    "df_080 = df_product.drop_nulls()\n",
    "\n",
    "print(len(df_product))\n",
    "print(len(df_080))"
   ]
  },
  {
   "attachments": {},
   "cell_type": "markdown",
   "metadata": {},
   "source": [
    "---\n",
    "> P-081: 単価（unit_price）と原価（unit_cost）の欠損値について、それぞれの平均値で補完した新たな商品データを作成せよ。なお、平均値については1円未満を丸めること（四捨五入または偶数への丸めで良い）。補完実施後、各項目について欠損が生じていないことも確認すること。"
   ]
  },
  {
   "cell_type": "code",
   "execution_count": 96,
   "metadata": {},
   "outputs": [
    {
     "data": {
      "text/html": [
       "<div><style>\n",
       ".dataframe > thead > tr,\n",
       ".dataframe > tbody > tr {\n",
       "  text-align: right;\n",
       "  white-space: pre-wrap;\n",
       "}\n",
       "</style>\n",
       "<small>shape: (1, 6)</small><table border=\"1\" class=\"dataframe\"><thead><tr><th>product_cd</th><th>category_major_cd</th><th>category_medium_cd</th><th>category_small_cd</th><th>unit_price</th><th>unit_cost</th></tr><tr><td>u32</td><td>u32</td><td>u32</td><td>u32</td><td>u32</td><td>u32</td></tr></thead><tbody><tr><td>0</td><td>0</td><td>0</td><td>0</td><td>0</td><td>0</td></tr></tbody></table></div>"
      ],
      "text/plain": [
       "shape: (1, 6)\n",
       "┌────────────┬───────────────────┬────────────────────┬───────────────────┬────────────┬───────────┐\n",
       "│ product_cd ┆ category_major_cd ┆ category_medium_cd ┆ category_small_cd ┆ unit_price ┆ unit_cost │\n",
       "│ ---        ┆ ---               ┆ ---                ┆ ---               ┆ ---        ┆ ---       │\n",
       "│ u32        ┆ u32               ┆ u32                ┆ u32               ┆ u32        ┆ u32       │\n",
       "╞════════════╪═══════════════════╪════════════════════╪═══════════════════╪════════════╪═══════════╡\n",
       "│ 0          ┆ 0                 ┆ 0                  ┆ 0                 ┆ 0          ┆ 0         │\n",
       "└────────────┴───────────────────┴────────────────────┴───────────────────┴────────────┴───────────┘"
      ]
     },
     "execution_count": 96,
     "metadata": {},
     "output_type": "execute_result"
    }
   ],
   "source": [
    "# df_ans = (\n",
    "#     df_product\n",
    "#     .select(pl.col(\"unit_price\").fill_null(strategy=\"mean\"),\n",
    "#             pl.col(\"unit_cost\").fill_null(strategy=\"mean\"))\n",
    "# )\n",
    "\n",
    "df_081 = df_product.fill_null(strategy=\"mean\")\n",
    "\n",
    "df_081.null_count()"
   ]
  },
  {
   "attachments": {},
   "cell_type": "markdown",
   "metadata": {},
   "source": [
    "---\n",
    "> P-082: 単価（unit_price）と原価（unit_cost）の欠損値について、それぞれの中央値で補完した新たな商品データを作成せよ。なお、中央値については1円未満を丸めること（四捨五入または偶数への丸めで良い）。補完実施後、各項目について欠損が生じていないことも確認すること。"
   ]
  },
  {
   "cell_type": "code",
   "execution_count": 97,
   "metadata": {},
   "outputs": [
    {
     "data": {
      "text/html": [
       "<div><style>\n",
       ".dataframe > thead > tr,\n",
       ".dataframe > tbody > tr {\n",
       "  text-align: right;\n",
       "  white-space: pre-wrap;\n",
       "}\n",
       "</style>\n",
       "<small>shape: (10, 6)</small><table border=\"1\" class=\"dataframe\"><thead><tr><th>product_cd</th><th>category_major_cd</th><th>category_medium_cd</th><th>category_small_cd</th><th>unit_cost</th><th>unit_price</th></tr><tr><td>str</td><td>str</td><td>str</td><td>str</td><td>i64</td><td>i64</td></tr></thead><tbody><tr><td>&quot;P040101001&quot;</td><td>&quot;04&quot;</td><td>&quot;0401&quot;</td><td>&quot;040101&quot;</td><td>149</td><td>198</td></tr><tr><td>&quot;P040101002&quot;</td><td>&quot;04&quot;</td><td>&quot;0401&quot;</td><td>&quot;040101&quot;</td><td>164</td><td>218</td></tr><tr><td>&quot;P040101003&quot;</td><td>&quot;04&quot;</td><td>&quot;0401&quot;</td><td>&quot;040101&quot;</td><td>173</td><td>230</td></tr><tr><td>&quot;P040101004&quot;</td><td>&quot;04&quot;</td><td>&quot;0401&quot;</td><td>&quot;040101&quot;</td><td>186</td><td>248</td></tr><tr><td>&quot;P040101005&quot;</td><td>&quot;04&quot;</td><td>&quot;0401&quot;</td><td>&quot;040101&quot;</td><td>201</td><td>268</td></tr><tr><td>&quot;P040101006&quot;</td><td>&quot;04&quot;</td><td>&quot;0401&quot;</td><td>&quot;040101&quot;</td><td>224</td><td>298</td></tr><tr><td>&quot;P040101007&quot;</td><td>&quot;04&quot;</td><td>&quot;0401&quot;</td><td>&quot;040101&quot;</td><td>254</td><td>338</td></tr><tr><td>&quot;P040101008&quot;</td><td>&quot;04&quot;</td><td>&quot;0401&quot;</td><td>&quot;040101&quot;</td><td>315</td><td>420</td></tr><tr><td>&quot;P040101009&quot;</td><td>&quot;04&quot;</td><td>&quot;0401&quot;</td><td>&quot;040101&quot;</td><td>374</td><td>498</td></tr><tr><td>&quot;P040101010&quot;</td><td>&quot;04&quot;</td><td>&quot;0401&quot;</td><td>&quot;040101&quot;</td><td>435</td><td>580</td></tr></tbody></table></div>"
      ],
      "text/plain": [
       "shape: (10, 6)\n",
       "┌────────────┬───────────────────┬────────────────────┬───────────────────┬───────────┬────────────┐\n",
       "│ product_cd ┆ category_major_cd ┆ category_medium_cd ┆ category_small_cd ┆ unit_cost ┆ unit_price │\n",
       "│ ---        ┆ ---               ┆ ---                ┆ ---               ┆ ---       ┆ ---        │\n",
       "│ str        ┆ str               ┆ str                ┆ str               ┆ i64       ┆ i64        │\n",
       "╞════════════╪═══════════════════╪════════════════════╪═══════════════════╪═══════════╪════════════╡\n",
       "│ P040101001 ┆ 04                ┆ 0401               ┆ 040101            ┆ 149       ┆ 198        │\n",
       "│ P040101002 ┆ 04                ┆ 0401               ┆ 040101            ┆ 164       ┆ 218        │\n",
       "│ P040101003 ┆ 04                ┆ 0401               ┆ 040101            ┆ 173       ┆ 230        │\n",
       "│ P040101004 ┆ 04                ┆ 0401               ┆ 040101            ┆ 186       ┆ 248        │\n",
       "│ P040101005 ┆ 04                ┆ 0401               ┆ 040101            ┆ 201       ┆ 268        │\n",
       "│ P040101006 ┆ 04                ┆ 0401               ┆ 040101            ┆ 224       ┆ 298        │\n",
       "│ P040101007 ┆ 04                ┆ 0401               ┆ 040101            ┆ 254       ┆ 338        │\n",
       "│ P040101008 ┆ 04                ┆ 0401               ┆ 040101            ┆ 315       ┆ 420        │\n",
       "│ P040101009 ┆ 04                ┆ 0401               ┆ 040101            ┆ 374       ┆ 498        │\n",
       "│ P040101010 ┆ 04                ┆ 0401               ┆ 040101            ┆ 435       ┆ 580        │\n",
       "└────────────┴───────────────────┴────────────────────┴───────────────────┴───────────┴────────────┘"
      ]
     },
     "metadata": {},
     "output_type": "display_data"
    },
    {
     "data": {
      "text/html": [
       "<div><style>\n",
       ".dataframe > thead > tr,\n",
       ".dataframe > tbody > tr {\n",
       "  text-align: right;\n",
       "  white-space: pre-wrap;\n",
       "}\n",
       "</style>\n",
       "<small>shape: (1, 6)</small><table border=\"1\" class=\"dataframe\"><thead><tr><th>product_cd</th><th>category_major_cd</th><th>category_medium_cd</th><th>category_small_cd</th><th>unit_cost</th><th>unit_price</th></tr><tr><td>u32</td><td>u32</td><td>u32</td><td>u32</td><td>u32</td><td>u32</td></tr></thead><tbody><tr><td>0</td><td>0</td><td>0</td><td>0</td><td>0</td><td>0</td></tr></tbody></table></div>"
      ],
      "text/plain": [
       "shape: (1, 6)\n",
       "┌────────────┬───────────────────┬────────────────────┬───────────────────┬───────────┬────────────┐\n",
       "│ product_cd ┆ category_major_cd ┆ category_medium_cd ┆ category_small_cd ┆ unit_cost ┆ unit_price │\n",
       "│ ---        ┆ ---               ┆ ---                ┆ ---               ┆ ---       ┆ ---        │\n",
       "│ u32        ┆ u32               ┆ u32                ┆ u32               ┆ u32       ┆ u32        │\n",
       "╞════════════╪═══════════════════╪════════════════════╪═══════════════════╪═══════════╪════════════╡\n",
       "│ 0          ┆ 0                 ┆ 0                  ┆ 0                 ┆ 0         ┆ 0          │\n",
       "└────────────┴───────────────────┴────────────────────┴───────────────────┴───────────┴────────────┘"
      ]
     },
     "execution_count": 97,
     "metadata": {},
     "output_type": "execute_result"
    }
   ],
   "source": [
    "df_082 = df_product.select(\n",
    "    pl.all().exclude(\"unit_cost\", \"unit_price\"),\n",
    "    pl.col(\"unit_cost\").fill_null(pl.col(\"unit_cost\").median().cast(pl.Int64)),\n",
    "    pl.col(\"unit_price\").fill_null(pl.median(\"unit_price\").cast(pl.Int64)),\n",
    ")\n",
    "\n",
    "display(df_082.head(10))\n",
    "df_082.null_count()"
   ]
  },
  {
   "attachments": {},
   "cell_type": "markdown",
   "metadata": {},
   "source": [
    "---\n",
    "> P-083: 単価（unit_price）と原価（unit_cost）の欠損値について、各商品のカテゴリ小区分コード（category_small_cd）ごとに算出した中央値で補完した新たな商品データを作成せよ。なお、中央値については1円未満を丸めること（四捨五入または偶数への丸めで良い）。補完実施後、各項目について欠損が生じていないことも確認すること。"
   ]
  },
  {
   "cell_type": "code",
   "execution_count": 98,
   "metadata": {},
   "outputs": [
    {
     "data": {
      "text/html": [
       "<div><style>\n",
       ".dataframe > thead > tr,\n",
       ".dataframe > tbody > tr {\n",
       "  text-align: right;\n",
       "  white-space: pre-wrap;\n",
       "}\n",
       "</style>\n",
       "<small>shape: (10, 6)</small><table border=\"1\" class=\"dataframe\"><thead><tr><th>product_cd</th><th>category_major_cd</th><th>category_medium_cd</th><th>category_small_cd</th><th>unit_price</th><th>unit_cost</th></tr><tr><td>str</td><td>str</td><td>str</td><td>str</td><td>i64</td><td>i64</td></tr></thead><tbody><tr><td>&quot;P040101001&quot;</td><td>&quot;04&quot;</td><td>&quot;0401&quot;</td><td>&quot;040101&quot;</td><td>198</td><td>149</td></tr><tr><td>&quot;P040101002&quot;</td><td>&quot;04&quot;</td><td>&quot;0401&quot;</td><td>&quot;040101&quot;</td><td>218</td><td>164</td></tr><tr><td>&quot;P040101003&quot;</td><td>&quot;04&quot;</td><td>&quot;0401&quot;</td><td>&quot;040101&quot;</td><td>230</td><td>173</td></tr><tr><td>&quot;P040101004&quot;</td><td>&quot;04&quot;</td><td>&quot;0401&quot;</td><td>&quot;040101&quot;</td><td>248</td><td>186</td></tr><tr><td>&quot;P040101005&quot;</td><td>&quot;04&quot;</td><td>&quot;0401&quot;</td><td>&quot;040101&quot;</td><td>268</td><td>201</td></tr><tr><td>&quot;P040101006&quot;</td><td>&quot;04&quot;</td><td>&quot;0401&quot;</td><td>&quot;040101&quot;</td><td>298</td><td>224</td></tr><tr><td>&quot;P040101007&quot;</td><td>&quot;04&quot;</td><td>&quot;0401&quot;</td><td>&quot;040101&quot;</td><td>338</td><td>254</td></tr><tr><td>&quot;P040101008&quot;</td><td>&quot;04&quot;</td><td>&quot;0401&quot;</td><td>&quot;040101&quot;</td><td>420</td><td>315</td></tr><tr><td>&quot;P040101009&quot;</td><td>&quot;04&quot;</td><td>&quot;0401&quot;</td><td>&quot;040101&quot;</td><td>498</td><td>374</td></tr><tr><td>&quot;P040101010&quot;</td><td>&quot;04&quot;</td><td>&quot;0401&quot;</td><td>&quot;040101&quot;</td><td>580</td><td>435</td></tr></tbody></table></div>"
      ],
      "text/plain": [
       "shape: (10, 6)\n",
       "┌────────────┬───────────────────┬────────────────────┬───────────────────┬────────────┬───────────┐\n",
       "│ product_cd ┆ category_major_cd ┆ category_medium_cd ┆ category_small_cd ┆ unit_price ┆ unit_cost │\n",
       "│ ---        ┆ ---               ┆ ---                ┆ ---               ┆ ---        ┆ ---       │\n",
       "│ str        ┆ str               ┆ str                ┆ str               ┆ i64        ┆ i64       │\n",
       "╞════════════╪═══════════════════╪════════════════════╪═══════════════════╪════════════╪═══════════╡\n",
       "│ P040101001 ┆ 04                ┆ 0401               ┆ 040101            ┆ 198        ┆ 149       │\n",
       "│ P040101002 ┆ 04                ┆ 0401               ┆ 040101            ┆ 218        ┆ 164       │\n",
       "│ P040101003 ┆ 04                ┆ 0401               ┆ 040101            ┆ 230        ┆ 173       │\n",
       "│ P040101004 ┆ 04                ┆ 0401               ┆ 040101            ┆ 248        ┆ 186       │\n",
       "│ P040101005 ┆ 04                ┆ 0401               ┆ 040101            ┆ 268        ┆ 201       │\n",
       "│ P040101006 ┆ 04                ┆ 0401               ┆ 040101            ┆ 298        ┆ 224       │\n",
       "│ P040101007 ┆ 04                ┆ 0401               ┆ 040101            ┆ 338        ┆ 254       │\n",
       "│ P040101008 ┆ 04                ┆ 0401               ┆ 040101            ┆ 420        ┆ 315       │\n",
       "│ P040101009 ┆ 04                ┆ 0401               ┆ 040101            ┆ 498        ┆ 374       │\n",
       "│ P040101010 ┆ 04                ┆ 0401               ┆ 040101            ┆ 580        ┆ 435       │\n",
       "└────────────┴───────────────────┴────────────────────┴───────────────────┴────────────┴───────────┘"
      ]
     },
     "metadata": {},
     "output_type": "display_data"
    },
    {
     "data": {
      "text/html": [
       "<div><style>\n",
       ".dataframe > thead > tr,\n",
       ".dataframe > tbody > tr {\n",
       "  text-align: right;\n",
       "  white-space: pre-wrap;\n",
       "}\n",
       "</style>\n",
       "<small>shape: (1, 6)</small><table border=\"1\" class=\"dataframe\"><thead><tr><th>product_cd</th><th>category_major_cd</th><th>category_medium_cd</th><th>category_small_cd</th><th>unit_price</th><th>unit_cost</th></tr><tr><td>u32</td><td>u32</td><td>u32</td><td>u32</td><td>u32</td><td>u32</td></tr></thead><tbody><tr><td>0</td><td>0</td><td>0</td><td>0</td><td>0</td><td>0</td></tr></tbody></table></div>"
      ],
      "text/plain": [
       "shape: (1, 6)\n",
       "┌────────────┬───────────────────┬────────────────────┬───────────────────┬────────────┬───────────┐\n",
       "│ product_cd ┆ category_major_cd ┆ category_medium_cd ┆ category_small_cd ┆ unit_price ┆ unit_cost │\n",
       "│ ---        ┆ ---               ┆ ---                ┆ ---               ┆ ---        ┆ ---       │\n",
       "│ u32        ┆ u32               ┆ u32                ┆ u32               ┆ u32        ┆ u32       │\n",
       "╞════════════╪═══════════════════╪════════════════════╪═══════════════════╪════════════╪═══════════╡\n",
       "│ 0          ┆ 0                 ┆ 0                  ┆ 0                 ┆ 0          ┆ 0         │\n",
       "└────────────┴───────────────────┴────────────────────┴───────────────────┴────────────┴───────────┘"
      ]
     },
     "metadata": {},
     "output_type": "display_data"
    }
   ],
   "source": [
    "df_083 = df_product.select(\n",
    "    pl.exclude(\"unit_price\", \"unit_cost\"),\n",
    "    # pl.coalesce():上から順番にNull以外の値を入れていく-> \"unit_cost\"の値を入れていき、Nullにはpl.medean()を入れる\n",
    "    pl.coalesce(\n",
    "        pl.col(\"unit_price\"),\n",
    "        pl.median(\"unit_price\")\n",
    "        # SQLのウィンドウ関数のようなメソッド。\"category_scall_cd\"ごとに処理を行う。group_byの後から条件版みたいな感じ?\n",
    "        .over(\"category_small_cd\")\n",
    "        .cast(pl.Int64),\n",
    "    ),\n",
    "    pl.coalesce(\n",
    "        pl.col(\"unit_cost\"),\n",
    "        pl.median(\"unit_cost\").over(\"category_small_cd\").cast(pl.Int64),\n",
    "    ),\n",
    ")\n",
    "\n",
    "display(df_083.head(10))\n",
    "display(df_083.null_count())"
   ]
  },
  {
   "attachments": {},
   "cell_type": "markdown",
   "metadata": {},
   "source": [
    "## 応用"
   ]
  },
  {
   "attachments": {},
   "cell_type": "markdown",
   "metadata": {},
   "source": [
    "---\n",
    "> P-084: 顧客データ（df_customer）の全顧客に対して全期間の売上金額に占める2019年売上金額の割合を計算し、新たなデータを作成せよ。ただし、売上実績がない場合は0として扱うこと。そして計算した割合が0超のものを抽出し、結果を10件表示せよ。また、作成したデータに欠損が存在しないことを確認せよ。"
   ]
  },
  {
   "cell_type": "code",
   "execution_count": 99,
   "metadata": {},
   "outputs": [
    {
     "data": {
      "text/html": [
       "<div><style>\n",
       ".dataframe > thead > tr,\n",
       ".dataframe > tbody > tr {\n",
       "  text-align: right;\n",
       "  white-space: pre-wrap;\n",
       "}\n",
       "</style>\n",
       "<small>shape: (10, 4)</small><table border=\"1\" class=\"dataframe\"><thead><tr><th>customer_id</th><th>amount_all</th><th>amount_2019</th><th>amount_rate</th></tr><tr><td>str</td><td>i64</td><td>i64</td><td>f64</td></tr></thead><tbody><tr><td>&quot;CS001113000004&quot;</td><td>1298</td><td>1298</td><td>1.0</td></tr><tr><td>&quot;CS001114000005&quot;</td><td>626</td><td>188</td><td>0.300319</td></tr><tr><td>&quot;CS001115000010&quot;</td><td>3044</td><td>578</td><td>0.189882</td></tr><tr><td>&quot;CS001205000004&quot;</td><td>1988</td><td>702</td><td>0.353119</td></tr><tr><td>&quot;CS001205000006&quot;</td><td>3337</td><td>486</td><td>0.14564</td></tr><tr><td>&quot;CS001211000025&quot;</td><td>456</td><td>456</td><td>1.0</td></tr><tr><td>&quot;CS001212000027&quot;</td><td>448</td><td>0</td><td>0.0</td></tr><tr><td>&quot;CS001212000031&quot;</td><td>296</td><td>0</td><td>0.0</td></tr><tr><td>&quot;CS001212000046&quot;</td><td>228</td><td>0</td><td>0.0</td></tr><tr><td>&quot;CS001212000070&quot;</td><td>456</td><td>456</td><td>1.0</td></tr></tbody></table></div>"
      ],
      "text/plain": [
       "shape: (10, 4)\n",
       "┌────────────────┬────────────┬─────────────┬─────────────┐\n",
       "│ customer_id    ┆ amount_all ┆ amount_2019 ┆ amount_rate │\n",
       "│ ---            ┆ ---        ┆ ---         ┆ ---         │\n",
       "│ str            ┆ i64        ┆ i64         ┆ f64         │\n",
       "╞════════════════╪════════════╪═════════════╪═════════════╡\n",
       "│ CS001113000004 ┆ 1298       ┆ 1298        ┆ 1.0         │\n",
       "│ CS001114000005 ┆ 626        ┆ 188         ┆ 0.300319    │\n",
       "│ CS001115000010 ┆ 3044       ┆ 578         ┆ 0.189882    │\n",
       "│ CS001205000004 ┆ 1988       ┆ 702         ┆ 0.353119    │\n",
       "│ CS001205000006 ┆ 3337       ┆ 486         ┆ 0.14564     │\n",
       "│ CS001211000025 ┆ 456        ┆ 456         ┆ 1.0         │\n",
       "│ CS001212000027 ┆ 448        ┆ 0           ┆ 0.0         │\n",
       "│ CS001212000031 ┆ 296        ┆ 0           ┆ 0.0         │\n",
       "│ CS001212000046 ┆ 228        ┆ 0           ┆ 0.0         │\n",
       "│ CS001212000070 ┆ 456        ┆ 456         ┆ 1.0         │\n",
       "└────────────────┴────────────┴─────────────┴─────────────┘"
      ]
     },
     "metadata": {},
     "output_type": "display_data"
    },
    {
     "data": {
      "text/html": [
       "<div><style>\n",
       ".dataframe > thead > tr,\n",
       ".dataframe > tbody > tr {\n",
       "  text-align: right;\n",
       "  white-space: pre-wrap;\n",
       "}\n",
       "</style>\n",
       "<small>shape: (1, 4)</small><table border=\"1\" class=\"dataframe\"><thead><tr><th>customer_id</th><th>amount_all</th><th>amount_2019</th><th>amount_rate</th></tr><tr><td>u32</td><td>u32</td><td>u32</td><td>u32</td></tr></thead><tbody><tr><td>0</td><td>0</td><td>0</td><td>0</td></tr></tbody></table></div>"
      ],
      "text/plain": [
       "shape: (1, 4)\n",
       "┌─────────────┬────────────┬─────────────┬─────────────┐\n",
       "│ customer_id ┆ amount_all ┆ amount_2019 ┆ amount_rate │\n",
       "│ ---         ┆ ---        ┆ ---         ┆ ---         │\n",
       "│ u32         ┆ u32        ┆ u32         ┆ u32         │\n",
       "╞═════════════╪════════════╪═════════════╪═════════════╡\n",
       "│ 0           ┆ 0          ┆ 0           ┆ 0           │\n",
       "└─────────────┴────────────┴─────────────┴─────────────┘"
      ]
     },
     "metadata": {},
     "output_type": "display_data"
    }
   ],
   "source": [
    "df_084 = (\n",
    "    df_customer.join(df_receipt, how=\"inner\", on=\"customer_id\")\n",
    "    .select(\n",
    "        \"customer_id\",\n",
    "        \"amount\",\n",
    "        pl.col(\"sales_ymd\").cast(pl.Utf8).str.strptime(pl.Date, \"%Y%m%d\").dt.year(),\n",
    "    )\n",
    "    .group_by(\"customer_id\")\n",
    "    .agg(\n",
    "        pl.col(\"amount\").sum().alias(\"amount_all\"),\n",
    "        pl.col(\"amount\").filter(pl.col(\"sales_ymd\") == 2019).sum().fill_null(0).alias(\"amount_2019\"),\n",
    "    )\n",
    "    .with_columns((pl.col(\"amount_2019\") / pl.col(\"amount_all\")).alias(\"amount_rate\"))\n",
    "    .sort(\"customer_id\")\n",
    ")\n",
    "\n",
    "display(df_084.head(10))\n",
    "display(df_084.null_count())"
   ]
  },
  {
   "attachments": {},
   "cell_type": "markdown",
   "metadata": {},
   "source": [
    "---\n",
    "> P-085: 顧客データ（df_customer）の全顧客に対し、郵便番号（postal_cd）を用いてジオコードデータ（df_geocode）を紐付け、新たな顧客データを作成せよ。ただし、1つの郵便番号（postal_cd）に複数の経度（longitude）、緯度（latitude）情報が紐づく場合は、経度（longitude）、緯度（latitude）の平均値を算出して使用すること。また、作成結果を確認するために結果を10件表示せよ。"
   ]
  },
  {
   "cell_type": "code",
   "execution_count": 100,
   "metadata": {},
   "outputs": [
    {
     "data": {
      "text/html": [
       "<div><style>\n",
       ".dataframe > thead > tr,\n",
       ".dataframe > tbody > tr {\n",
       "  text-align: right;\n",
       "  white-space: pre-wrap;\n",
       "}\n",
       "</style>\n",
       "<small>shape: (10, 13)</small><table border=\"1\" class=\"dataframe\"><thead><tr><th>customer_id</th><th>customer_name</th><th>gender_cd</th><th>gender</th><th>birth_day</th><th>age</th><th>postal_cd</th><th>address</th><th>application_store_cd</th><th>application_date</th><th>status_cd</th><th>longitude</th><th>latitude</th></tr><tr><td>str</td><td>str</td><td>str</td><td>str</td><td>str</td><td>i64</td><td>str</td><td>str</td><td>str</td><td>str</td><td>str</td><td>f64</td><td>f64</td></tr></thead><tbody><tr><td>&quot;CS001105000001&quot;</td><td>&quot;中島 利夫&quot;</td><td>&quot;0&quot;</td><td>&quot;男性&quot;</td><td>&quot;2000-01-14&quot;</td><td>19</td><td>&quot;144-0056&quot;</td><td>&quot;東京都大田区西六郷**********&quot;</td><td>&quot;S13001&quot;</td><td>&quot;20170310&quot;</td><td>&quot;0-00000000-0&quot;</td><td>139.70238</td><td>35.54137</td></tr><tr><td>&quot;CS001112000009&quot;</td><td>&quot;秦 美里&quot;</td><td>&quot;1&quot;</td><td>&quot;女性&quot;</td><td>&quot;2006-08-24&quot;</td><td>12</td><td>&quot;143-0026&quot;</td><td>&quot;東京都大田区西馬込**********&quot;</td><td>&quot;S13001&quot;</td><td>&quot;20150703&quot;</td><td>&quot;0-00000000-0&quot;</td><td>139.70386</td><td>35.5867</td></tr><tr><td>&quot;CS001112000019&quot;</td><td>&quot;門脇 莉沙&quot;</td><td>&quot;1&quot;</td><td>&quot;女性&quot;</td><td>&quot;2001-01-31&quot;</td><td>18</td><td>&quot;143-0004&quot;</td><td>&quot;東京都大田区昭和島**********&quot;</td><td>&quot;S13001&quot;</td><td>&quot;20170207&quot;</td><td>&quot;0-00000000-0&quot;</td><td>139.74687</td><td>35.57153</td></tr><tr><td>&quot;CS001112000021&quot;</td><td>&quot;長澤 麗奈&quot;</td><td>&quot;1&quot;</td><td>&quot;女性&quot;</td><td>&quot;2001-12-15&quot;</td><td>17</td><td>&quot;144-0056&quot;</td><td>&quot;東京都大田区西六郷**********&quot;</td><td>&quot;S13001&quot;</td><td>&quot;20170612&quot;</td><td>&quot;0-00000000-0&quot;</td><td>139.70238</td><td>35.54137</td></tr><tr><td>&quot;CS001112000023&quot;</td><td>&quot;戸田 一恵&quot;</td><td>&quot;1&quot;</td><td>&quot;女性&quot;</td><td>&quot;2004-01-26&quot;</td><td>15</td><td>&quot;143-0004&quot;</td><td>&quot;東京都大田区昭和島**********&quot;</td><td>&quot;S13001&quot;</td><td>&quot;20170724&quot;</td><td>&quot;0-00000000-0&quot;</td><td>139.74687</td><td>35.57153</td></tr><tr><td>&quot;CS001112000024&quot;</td><td>&quot;菊地 美幸&quot;</td><td>&quot;1&quot;</td><td>&quot;女性&quot;</td><td>&quot;2001-01-16&quot;</td><td>18</td><td>&quot;144-0056&quot;</td><td>&quot;東京都大田区西六郷**********&quot;</td><td>&quot;S13001&quot;</td><td>&quot;20161106&quot;</td><td>&quot;0-00000000-0&quot;</td><td>139.70238</td><td>35.54137</td></tr><tr><td>&quot;CS001112000029&quot;</td><td>&quot;稲垣 さやか&quot;</td><td>&quot;1&quot;</td><td>&quot;女性&quot;</td><td>&quot;2005-01-24&quot;</td><td>14</td><td>&quot;144-0056&quot;</td><td>&quot;東京都大田区西六郷**********&quot;</td><td>&quot;S13001&quot;</td><td>&quot;20170322&quot;</td><td>&quot;0-00000000-0&quot;</td><td>139.70238</td><td>35.54137</td></tr><tr><td>&quot;CS001112000030&quot;</td><td>&quot;内藤 サンタマリア&quot;</td><td>&quot;1&quot;</td><td>&quot;女性&quot;</td><td>&quot;2003-03-02&quot;</td><td>16</td><td>&quot;144-0056&quot;</td><td>&quot;東京都大田区西六郷**********&quot;</td><td>&quot;S13001&quot;</td><td>&quot;20170611&quot;</td><td>&quot;0-00000000-0&quot;</td><td>139.70238</td><td>35.54137</td></tr><tr><td>&quot;CS001113000004&quot;</td><td>&quot;葛西 莉央&quot;</td><td>&quot;1&quot;</td><td>&quot;女性&quot;</td><td>&quot;2003-02-22&quot;</td><td>16</td><td>&quot;144-0056&quot;</td><td>&quot;東京都大田区西六郷**********&quot;</td><td>&quot;S13001&quot;</td><td>&quot;20151105&quot;</td><td>&quot;7-20100308-1&quot;</td><td>139.70238</td><td>35.54137</td></tr><tr><td>&quot;CS001113000010&quot;</td><td>&quot;大谷 美菜&quot;</td><td>&quot;1&quot;</td><td>&quot;女性&quot;</td><td>&quot;2005-05-09&quot;</td><td>13</td><td>&quot;144-0056&quot;</td><td>&quot;東京都大田区西六郷**********&quot;</td><td>&quot;S13001&quot;</td><td>&quot;20151120&quot;</td><td>&quot;0-00000000-0&quot;</td><td>139.70238</td><td>35.54137</td></tr></tbody></table></div>"
      ],
      "text/plain": [
       "shape: (10, 13)\n",
       "┌────────────┬────────────┬───────────┬────────┬───┬────────────┬───────────┬───────────┬──────────┐\n",
       "│ customer_i ┆ customer_n ┆ gender_cd ┆ gender ┆ … ┆ applicatio ┆ status_cd ┆ longitude ┆ latitude │\n",
       "│ d          ┆ ame        ┆ ---       ┆ ---    ┆   ┆ n_date     ┆ ---       ┆ ---       ┆ ---      │\n",
       "│ ---        ┆ ---        ┆ str       ┆ str    ┆   ┆ ---        ┆ str       ┆ f64       ┆ f64      │\n",
       "│ str        ┆ str        ┆           ┆        ┆   ┆ str        ┆           ┆           ┆          │\n",
       "╞════════════╪════════════╪═══════════╪════════╪═══╪════════════╪═══════════╪═══════════╪══════════╡\n",
       "│ CS00110500 ┆ 中島 利夫  ┆ 0         ┆ 男性   ┆ … ┆ 20170310   ┆ 0-0000000 ┆ 139.70238 ┆ 35.54137 │\n",
       "│ 0001       ┆            ┆           ┆        ┆   ┆            ┆ 0-0       ┆           ┆          │\n",
       "│ CS00111200 ┆ 秦 美里    ┆ 1         ┆ 女性   ┆ … ┆ 20150703   ┆ 0-0000000 ┆ 139.70386 ┆ 35.5867  │\n",
       "│ 0009       ┆            ┆           ┆        ┆   ┆            ┆ 0-0       ┆           ┆          │\n",
       "│ CS00111200 ┆ 門脇 莉沙  ┆ 1         ┆ 女性   ┆ … ┆ 20170207   ┆ 0-0000000 ┆ 139.74687 ┆ 35.57153 │\n",
       "│ 0019       ┆            ┆           ┆        ┆   ┆            ┆ 0-0       ┆           ┆          │\n",
       "│ CS00111200 ┆ 長澤 麗奈  ┆ 1         ┆ 女性   ┆ … ┆ 20170612   ┆ 0-0000000 ┆ 139.70238 ┆ 35.54137 │\n",
       "│ 0021       ┆            ┆           ┆        ┆   ┆            ┆ 0-0       ┆           ┆          │\n",
       "│ CS00111200 ┆ 戸田 一恵  ┆ 1         ┆ 女性   ┆ … ┆ 20170724   ┆ 0-0000000 ┆ 139.74687 ┆ 35.57153 │\n",
       "│ 0023       ┆            ┆           ┆        ┆   ┆            ┆ 0-0       ┆           ┆          │\n",
       "│ CS00111200 ┆ 菊地 美幸  ┆ 1         ┆ 女性   ┆ … ┆ 20161106   ┆ 0-0000000 ┆ 139.70238 ┆ 35.54137 │\n",
       "│ 0024       ┆            ┆           ┆        ┆   ┆            ┆ 0-0       ┆           ┆          │\n",
       "│ CS00111200 ┆ 稲垣       ┆ 1         ┆ 女性   ┆ … ┆ 20170322   ┆ 0-0000000 ┆ 139.70238 ┆ 35.54137 │\n",
       "│ 0029       ┆ さやか     ┆           ┆        ┆   ┆            ┆ 0-0       ┆           ┆          │\n",
       "│ CS00111200 ┆ 内藤 サン  ┆ 1         ┆ 女性   ┆ … ┆ 20170611   ┆ 0-0000000 ┆ 139.70238 ┆ 35.54137 │\n",
       "│ 0030       ┆ タマリア   ┆           ┆        ┆   ┆            ┆ 0-0       ┆           ┆          │\n",
       "│ CS00111300 ┆ 葛西 莉央  ┆ 1         ┆ 女性   ┆ … ┆ 20151105   ┆ 7-2010030 ┆ 139.70238 ┆ 35.54137 │\n",
       "│ 0004       ┆            ┆           ┆        ┆   ┆            ┆ 8-1       ┆           ┆          │\n",
       "│ CS00111300 ┆ 大谷 美菜  ┆ 1         ┆ 女性   ┆ … ┆ 20151120   ┆ 0-0000000 ┆ 139.70238 ┆ 35.54137 │\n",
       "│ 0010       ┆            ┆           ┆        ┆   ┆            ┆ 0-0       ┆           ┆          │\n",
       "└────────────┴────────────┴───────────┴────────┴───┴────────────┴───────────┴───────────┴──────────┘"
      ]
     },
     "execution_count": 100,
     "metadata": {},
     "output_type": "execute_result"
    }
   ],
   "source": [
    "df_085 = df_customer.join(\n",
    "    df_geocode.group_by(\"postal_cd\").agg(pl.col(\"longitude\").mean(), pl.col(\"latitude\").mean()),\n",
    "    how=\"inner\",\n",
    "    on=\"postal_cd\",\n",
    ").sort(\"customer_id\")\n",
    "\n",
    "df_085.head(10)"
   ]
  },
  {
   "attachments": {},
   "cell_type": "markdown",
   "metadata": {},
   "source": [
    "---\n",
    "> P-086: 085で作成した緯度経度つき顧客データに対し、会員申込店舗コード（application_store_cd）をキーに店舗データ（df_store）と結合せよ。そして申込み店舗の緯度（latitude）・経度情報（longitude)と顧客住所（address）の緯度・経度を用いて申込み店舗と顧客住所の距離（単位：km）を求め、顧客ID（customer_id）、顧客住所（address）、店舗住所（address）とともに表示せよ。計算式は以下の簡易式で良いものとするが、その他精度の高い方式を利用したライブラリを利用してもかまわない。結果は10件表示せよ。\n",
    "\n",
    "$$\n",
    "\\begin{aligned}\n",
    "& longitude(radian)：\\phi \\\\\n",
    "& latitude(radian)：\\lambda \\\\\n",
    "& distance, L = 6371 * \\arccos(\\sin \\phi_1 * \\sin \\phi_2 + \\cos \\phi_1 * \\cos \\phi_2 * \\cos(\\lambda_1 − \\lambda_2))\n",
    "\\end{aligned}\n",
    "$$"
   ]
  },
  {
   "cell_type": "code",
   "execution_count": 101,
   "metadata": {},
   "outputs": [
    {
     "data": {
      "text/html": [
       "<div><style>\n",
       ".dataframe > thead > tr,\n",
       ".dataframe > tbody > tr {\n",
       "  text-align: right;\n",
       "  white-space: pre-wrap;\n",
       "}\n",
       "</style>\n",
       "<small>shape: (10, 4)</small><table border=\"1\" class=\"dataframe\"><thead><tr><th>customer_id</th><th>customer_address</th><th>address_store</th><th>distance</th></tr><tr><td>str</td><td>str</td><td>str</td><td>f64</td></tr></thead><tbody><tr><td>&quot;CS001105000001&quot;</td><td>&quot;東京都大田区西六郷**********&quot;</td><td>&quot;東京都大田区仲六郷二丁目&quot;</td><td>1.479789</td></tr><tr><td>&quot;CS001112000009&quot;</td><td>&quot;東京都大田区西馬込**********&quot;</td><td>&quot;東京都大田区仲六郷二丁目&quot;</td><td>4.020495</td></tr><tr><td>&quot;CS001112000019&quot;</td><td>&quot;東京都大田区昭和島**********&quot;</td><td>&quot;東京都大田区仲六郷二丁目&quot;</td><td>3.783015</td></tr><tr><td>&quot;CS001112000021&quot;</td><td>&quot;東京都大田区西六郷**********&quot;</td><td>&quot;東京都大田区仲六郷二丁目&quot;</td><td>1.479789</td></tr><tr><td>&quot;CS001112000023&quot;</td><td>&quot;東京都大田区昭和島**********&quot;</td><td>&quot;東京都大田区仲六郷二丁目&quot;</td><td>3.783015</td></tr><tr><td>&quot;CS001112000024&quot;</td><td>&quot;東京都大田区西六郷**********&quot;</td><td>&quot;東京都大田区仲六郷二丁目&quot;</td><td>1.479789</td></tr><tr><td>&quot;CS001112000029&quot;</td><td>&quot;東京都大田区西六郷**********&quot;</td><td>&quot;東京都大田区仲六郷二丁目&quot;</td><td>1.479789</td></tr><tr><td>&quot;CS001112000030&quot;</td><td>&quot;東京都大田区西六郷**********&quot;</td><td>&quot;東京都大田区仲六郷二丁目&quot;</td><td>1.479789</td></tr><tr><td>&quot;CS001113000004&quot;</td><td>&quot;東京都大田区西六郷**********&quot;</td><td>&quot;東京都大田区仲六郷二丁目&quot;</td><td>1.479789</td></tr><tr><td>&quot;CS001113000010&quot;</td><td>&quot;東京都大田区西六郷**********&quot;</td><td>&quot;東京都大田区仲六郷二丁目&quot;</td><td>1.479789</td></tr></tbody></table></div>"
      ],
      "text/plain": [
       "shape: (10, 4)\n",
       "┌────────────────┬──────────────────────────────┬──────────────────────────┬──────────┐\n",
       "│ customer_id    ┆ customer_address             ┆ address_store            ┆ distance │\n",
       "│ ---            ┆ ---                          ┆ ---                      ┆ ---      │\n",
       "│ str            ┆ str                          ┆ str                      ┆ f64      │\n",
       "╞════════════════╪══════════════════════════════╪══════════════════════════╪══════════╡\n",
       "│ CS001105000001 ┆ 東京都大田区西六郷********** ┆ 東京都大田区仲六郷二丁目 ┆ 1.479789 │\n",
       "│ CS001112000009 ┆ 東京都大田区西馬込********** ┆ 東京都大田区仲六郷二丁目 ┆ 4.020495 │\n",
       "│ CS001112000019 ┆ 東京都大田区昭和島********** ┆ 東京都大田区仲六郷二丁目 ┆ 3.783015 │\n",
       "│ CS001112000021 ┆ 東京都大田区西六郷********** ┆ 東京都大田区仲六郷二丁目 ┆ 1.479789 │\n",
       "│ CS001112000023 ┆ 東京都大田区昭和島********** ┆ 東京都大田区仲六郷二丁目 ┆ 3.783015 │\n",
       "│ CS001112000024 ┆ 東京都大田区西六郷********** ┆ 東京都大田区仲六郷二丁目 ┆ 1.479789 │\n",
       "│ CS001112000029 ┆ 東京都大田区西六郷********** ┆ 東京都大田区仲六郷二丁目 ┆ 1.479789 │\n",
       "│ CS001112000030 ┆ 東京都大田区西六郷********** ┆ 東京都大田区仲六郷二丁目 ┆ 1.479789 │\n",
       "│ CS001113000004 ┆ 東京都大田区西六郷********** ┆ 東京都大田区仲六郷二丁目 ┆ 1.479789 │\n",
       "│ CS001113000010 ┆ 東京都大田区西六郷********** ┆ 東京都大田区仲六郷二丁目 ┆ 1.479789 │\n",
       "└────────────────┴──────────────────────────────┴──────────────────────────┴──────────┘"
      ]
     },
     "execution_count": 101,
     "metadata": {},
     "output_type": "execute_result"
    }
   ],
   "source": [
    "df_086 = (\n",
    "    df_085\n",
    "    .join(\n",
    "        df_store,\n",
    "        how=\"inner\",\n",
    "        suffix=\"_store\",\n",
    "        left_on=\"application_store_cd\",\n",
    "        right_on=\"store_cd\",\n",
    "    )\n",
    "    .select(\n",
    "        \"customer_id\",\n",
    "        pl.col(\"address\").alias(\"customer_address\"),\n",
    "        \"address_store\",\n",
    "        (6371 * (\n",
    "            (math.pi * pl.col(\"latitude\") / 180).sin()\n",
    "            * (math.pi * pl.col(\"latitude_store\") / 180).sin()\n",
    "            + (math.pi * pl.col(\"latitude\") / 180).cos()\n",
    "            * (math.pi * pl.col(\"latitude_store\") / 180).cos()\n",
    "            * (math.pi * (pl.col(\"longitude\") - pl.col(\"longitude_store\")) / 180).cos()\n",
    "            ).arccos()\n",
    "        ).alias(\"distance\"),\n",
    "    )\n",
    "    .sort(\"customer_id\")\n",
    ")\n",
    "\n",
    "df_086.head(10)"
   ]
  },
  {
   "cell_type": "code",
   "execution_count": 102,
   "metadata": {},
   "outputs": [
    {
     "data": {
      "text/html": [
       "<div><style>\n",
       ".dataframe > thead > tr,\n",
       ".dataframe > tbody > tr {\n",
       "  text-align: right;\n",
       "  white-space: pre-wrap;\n",
       "}\n",
       "</style>\n",
       "<small>shape: (10, 4)</small><table border=\"1\" class=\"dataframe\"><thead><tr><th>customer_id</th><th>address</th><th>address_store</th><th>distance</th></tr><tr><td>str</td><td>str</td><td>str</td><td>f64</td></tr></thead><tbody><tr><td>&quot;CS001105000001&quot;</td><td>&quot;東京都大田区西六郷**********&quot;</td><td>&quot;東京都大田区仲六郷二丁目&quot;</td><td>1.479789</td></tr><tr><td>&quot;CS001112000009&quot;</td><td>&quot;東京都大田区西馬込**********&quot;</td><td>&quot;東京都大田区仲六郷二丁目&quot;</td><td>4.020495</td></tr><tr><td>&quot;CS001112000019&quot;</td><td>&quot;東京都大田区昭和島**********&quot;</td><td>&quot;東京都大田区仲六郷二丁目&quot;</td><td>3.783015</td></tr><tr><td>&quot;CS001112000021&quot;</td><td>&quot;東京都大田区西六郷**********&quot;</td><td>&quot;東京都大田区仲六郷二丁目&quot;</td><td>1.479789</td></tr><tr><td>&quot;CS001112000023&quot;</td><td>&quot;東京都大田区昭和島**********&quot;</td><td>&quot;東京都大田区仲六郷二丁目&quot;</td><td>3.783015</td></tr><tr><td>&quot;CS001112000024&quot;</td><td>&quot;東京都大田区西六郷**********&quot;</td><td>&quot;東京都大田区仲六郷二丁目&quot;</td><td>1.479789</td></tr><tr><td>&quot;CS001112000029&quot;</td><td>&quot;東京都大田区西六郷**********&quot;</td><td>&quot;東京都大田区仲六郷二丁目&quot;</td><td>1.479789</td></tr><tr><td>&quot;CS001112000030&quot;</td><td>&quot;東京都大田区西六郷**********&quot;</td><td>&quot;東京都大田区仲六郷二丁目&quot;</td><td>1.479789</td></tr><tr><td>&quot;CS001113000004&quot;</td><td>&quot;東京都大田区西六郷**********&quot;</td><td>&quot;東京都大田区仲六郷二丁目&quot;</td><td>1.479789</td></tr><tr><td>&quot;CS001113000010&quot;</td><td>&quot;東京都大田区西六郷**********&quot;</td><td>&quot;東京都大田区仲六郷二丁目&quot;</td><td>1.479789</td></tr></tbody></table></div>"
      ],
      "text/plain": [
       "shape: (10, 4)\n",
       "┌────────────────┬──────────────────────────────┬──────────────────────────┬──────────┐\n",
       "│ customer_id    ┆ address                      ┆ address_store            ┆ distance │\n",
       "│ ---            ┆ ---                          ┆ ---                      ┆ ---      │\n",
       "│ str            ┆ str                          ┆ str                      ┆ f64      │\n",
       "╞════════════════╪══════════════════════════════╪══════════════════════════╪══════════╡\n",
       "│ CS001105000001 ┆ 東京都大田区西六郷********** ┆ 東京都大田区仲六郷二丁目 ┆ 1.479789 │\n",
       "│ CS001112000009 ┆ 東京都大田区西馬込********** ┆ 東京都大田区仲六郷二丁目 ┆ 4.020495 │\n",
       "│ CS001112000019 ┆ 東京都大田区昭和島********** ┆ 東京都大田区仲六郷二丁目 ┆ 3.783015 │\n",
       "│ CS001112000021 ┆ 東京都大田区西六郷********** ┆ 東京都大田区仲六郷二丁目 ┆ 1.479789 │\n",
       "│ CS001112000023 ┆ 東京都大田区昭和島********** ┆ 東京都大田区仲六郷二丁目 ┆ 3.783015 │\n",
       "│ CS001112000024 ┆ 東京都大田区西六郷********** ┆ 東京都大田区仲六郷二丁目 ┆ 1.479789 │\n",
       "│ CS001112000029 ┆ 東京都大田区西六郷********** ┆ 東京都大田区仲六郷二丁目 ┆ 1.479789 │\n",
       "│ CS001112000030 ┆ 東京都大田区西六郷********** ┆ 東京都大田区仲六郷二丁目 ┆ 1.479789 │\n",
       "│ CS001113000004 ┆ 東京都大田区西六郷********** ┆ 東京都大田区仲六郷二丁目 ┆ 1.479789 │\n",
       "│ CS001113000010 ┆ 東京都大田区西六郷********** ┆ 東京都大田区仲六郷二丁目 ┆ 1.479789 │\n",
       "└────────────────┴──────────────────────────────┴──────────────────────────┴──────────┘"
      ]
     },
     "execution_count": 102,
     "metadata": {},
     "output_type": "execute_result"
    }
   ],
   "source": [
    "def distance_expr(lon1: str, lat1: str, lon2: str, lat2: str) -> pl.Expr:\n",
    "    # radian = degrees * pi / 180\n",
    "    lon1_rad = pl.col(lon1) * math.pi / 180\n",
    "    lon2_rad = pl.col(lon2) * math.pi / 180\n",
    "    lat1_rad = pl.col(lat1) * math.pi / 180\n",
    "    lat2_rad = pl.col(lat2) * math.pi / 180\n",
    "    distance = 6371 * (lat1_rad.sin() * lat2_rad.sin() + lat1_rad.cos() * lat2_rad.cos() * (lon1_rad - lon2_rad).cos()).arccos()\n",
    "    return distance\n",
    "\n",
    "\n",
    "df_086 = df_085.join(\n",
    "    df_store,\n",
    "    how=\"inner\",\n",
    "    suffix=\"_store\",\n",
    "    left_on=\"application_store_cd\",\n",
    "    right_on=\"store_cd\",\n",
    ").select(\n",
    "    [\n",
    "        \"customer_id\",\n",
    "        \"address\",\n",
    "        \"address_store\",\n",
    "        distance_expr(\n",
    "            \"longitude\", \"latitude\", \"longitude_store\", \"latitude_store\"\n",
    "        ).alias(\"distance\"),\n",
    "    ]\n",
    ")\n",
    "\n",
    "df_086.head(10)"
   ]
  },
  {
   "attachments": {},
   "cell_type": "markdown",
   "metadata": {},
   "source": [
    "---\n",
    "> P-087: 顧客データ（df_customer）では、異なる店舗での申込みなどにより同一顧客が複数登録されている。名前（customer_name）と郵便番号（postal_cd）が同じ顧客は同一顧客とみなして1顧客1レコードとなるように名寄せした名寄顧客データを作成し、顧客データの件数、名寄顧客データの件数、重複数を算出せよ。ただし、同一顧客に対しては売上金額合計が最も高いものを残し、売上金額合計が同一もしくは売上実績がない顧客については顧客ID（customer_id）の番号が小さいものを残すこととする。"
   ]
  },
  {
   "cell_type": "code",
   "execution_count": 103,
   "metadata": {},
   "outputs": [
    {
     "name": "stdout",
     "output_type": "stream",
     "text": [
      "df_customer_cnt: 21971 df_customer_u_cnt: 8302 diff: 13669\n"
     ]
    },
    {
     "data": {
      "text/html": [
       "<div><style>\n",
       ".dataframe > thead > tr,\n",
       ".dataframe > tbody > tr {\n",
       "  text-align: right;\n",
       "  white-space: pre-wrap;\n",
       "}\n",
       "</style>\n",
       "<small>shape: (10, 13)</small><table border=\"1\" class=\"dataframe\"><thead><tr><th>customer_id</th><th>amount</th><th>customer_id_right</th><th>customer_name</th><th>gender_cd</th><th>gender</th><th>birth_day</th><th>age</th><th>postal_cd</th><th>address</th><th>application_store_cd</th><th>application_date</th><th>status_cd</th></tr><tr><td>str</td><td>i64</td><td>str</td><td>str</td><td>str</td><td>str</td><td>str</td><td>i64</td><td>str</td><td>str</td><td>str</td><td>str</td><td>str</td></tr></thead><tbody><tr><td>&quot;CS017415000097&quot;</td><td>23086</td><td>&quot;CS017415000097&quot;</td><td>&quot;福士 千夏&quot;</td><td>&quot;1&quot;</td><td>&quot;女性&quot;</td><td>&quot;1973-04-03&quot;</td><td>45</td><td>&quot;166-0014&quot;</td><td>&quot;東京都杉並区松ノ木**********&quot;</td><td>&quot;S13017&quot;</td><td>&quot;20151209&quot;</td><td>&quot;F-20101006-F&quot;</td></tr><tr><td>&quot;CS015415000185&quot;</td><td>20153</td><td>&quot;CS015415000185&quot;</td><td>&quot;岩淵 はるみ&quot;</td><td>&quot;1&quot;</td><td>&quot;女性&quot;</td><td>&quot;1973-09-19&quot;</td><td>45</td><td>&quot;135-0043&quot;</td><td>&quot;東京都江東区塩浜**********&quot;</td><td>&quot;S13015&quot;</td><td>&quot;20150322&quot;</td><td>&quot;F-20101014-F&quot;</td></tr><tr><td>&quot;CS031414000051&quot;</td><td>19202</td><td>&quot;CS031414000051&quot;</td><td>&quot;長澤 沙知絵&quot;</td><td>&quot;1&quot;</td><td>&quot;女性&quot;</td><td>&quot;1973-04-25&quot;</td><td>45</td><td>&quot;151-0064&quot;</td><td>&quot;東京都渋谷区上原**********&quot;</td><td>&quot;S13031&quot;</td><td>&quot;20150823&quot;</td><td>&quot;F-20101009-F&quot;</td></tr><tr><td>&quot;CS028415000007&quot;</td><td>19127</td><td>&quot;CS028415000007&quot;</td><td>&quot;紺野 あい&quot;</td><td>&quot;1&quot;</td><td>&quot;女性&quot;</td><td>&quot;1969-07-28&quot;</td><td>49</td><td>&quot;246-0023&quot;</td><td>&quot;神奈川県横浜市瀬谷区阿久和東**********&quot;</td><td>&quot;S14028&quot;</td><td>&quot;20151212&quot;</td><td>&quot;F-20100922-F&quot;</td></tr><tr><td>&quot;CS001605000009&quot;</td><td>18925</td><td>&quot;CS001605000009&quot;</td><td>&quot;安部 耕司&quot;</td><td>&quot;0&quot;</td><td>&quot;男性&quot;</td><td>&quot;1952-10-22&quot;</td><td>66</td><td>&quot;144-0035&quot;</td><td>&quot;東京都大田区南蒲田**********&quot;</td><td>&quot;S13001&quot;</td><td>&quot;20160203&quot;</td><td>&quot;F-20101019-E&quot;</td></tr><tr><td>&quot;CS010214000010&quot;</td><td>18585</td><td>&quot;CS010214000010&quot;</td><td>&quot;高嶋 芽以&quot;</td><td>&quot;1&quot;</td><td>&quot;女性&quot;</td><td>&quot;1991-02-19&quot;</td><td>28</td><td>&quot;221-0004&quot;</td><td>&quot;神奈川県横浜市神奈川区西大口**********&quot;</td><td>&quot;S14010&quot;</td><td>&quot;20141106&quot;</td><td>&quot;F-20100909-F&quot;</td></tr><tr><td>&quot;CS006515000023&quot;</td><td>18372</td><td>&quot;CS006515000023&quot;</td><td>&quot;竹村 はるみ&quot;</td><td>&quot;1&quot;</td><td>&quot;女性&quot;</td><td>&quot;1963-06-27&quot;</td><td>55</td><td>&quot;224-0032&quot;</td><td>&quot;神奈川県横浜市都筑区茅ケ崎中央**********&quot;</td><td>&quot;S14006&quot;</td><td>&quot;20151217&quot;</td><td>&quot;F-20100831-F&quot;</td></tr><tr><td>&quot;CS016415000141&quot;</td><td>18372</td><td>&quot;CS016415000141&quot;</td><td>&quot;西谷 愛梨&quot;</td><td>&quot;1&quot;</td><td>&quot;女性&quot;</td><td>&quot;1974-05-06&quot;</td><td>44</td><td>&quot;184-0012&quot;</td><td>&quot;東京都小金井市中町**********&quot;</td><td>&quot;S13016&quot;</td><td>&quot;20150117&quot;</td><td>&quot;F-20100611-F&quot;</td></tr><tr><td>&quot;CS011414000106&quot;</td><td>18338</td><td>&quot;CS011414000106&quot;</td><td>&quot;紺野 窈&quot;</td><td>&quot;1&quot;</td><td>&quot;女性&quot;</td><td>&quot;1972-11-11&quot;</td><td>46</td><td>&quot;223-0062&quot;</td><td>&quot;神奈川県横浜市港北区日吉本町**********&quot;</td><td>&quot;S14011&quot;</td><td>&quot;20150921&quot;</td><td>&quot;F-20101028-F&quot;</td></tr><tr><td>&quot;CS038415000104&quot;</td><td>17847</td><td>&quot;CS038415000104&quot;</td><td>&quot;城戸 しほり&quot;</td><td>&quot;1&quot;</td><td>&quot;女性&quot;</td><td>&quot;1971-02-21&quot;</td><td>48</td><td>&quot;134-0084&quot;</td><td>&quot;東京都江戸川区東葛西**********&quot;</td><td>&quot;S13038&quot;</td><td>&quot;20151119&quot;</td><td>&quot;F-20100922-F&quot;</td></tr></tbody></table></div>"
      ],
      "text/plain": [
       "shape: (10, 13)\n",
       "┌────────────┬────────┬────────────┬───────────┬───┬───────────┬───────────┬───────────┬───────────┐\n",
       "│ customer_i ┆ amount ┆ customer_i ┆ customer_ ┆ … ┆ address   ┆ applicati ┆ applicati ┆ status_cd │\n",
       "│ d          ┆ ---    ┆ d_right    ┆ name      ┆   ┆ ---       ┆ on_store_ ┆ on_date   ┆ ---       │\n",
       "│ ---        ┆ i64    ┆ ---        ┆ ---       ┆   ┆ str       ┆ cd        ┆ ---       ┆ str       │\n",
       "│ str        ┆        ┆ str        ┆ str       ┆   ┆           ┆ ---       ┆ str       ┆           │\n",
       "│            ┆        ┆            ┆           ┆   ┆           ┆ str       ┆           ┆           │\n",
       "╞════════════╪════════╪════════════╪═══════════╪═══╪═══════════╪═══════════╪═══════════╪═══════════╡\n",
       "│ CS01741500 ┆ 23086  ┆ CS01741500 ┆ 福士 千夏 ┆ … ┆ 東京都杉  ┆ S13017    ┆ 20151209  ┆ F-2010100 │\n",
       "│ 0097       ┆        ┆ 0097       ┆           ┆   ┆ 並区松ノ  ┆           ┆           ┆ 6-F       │\n",
       "│            ┆        ┆            ┆           ┆   ┆ 木******* ┆           ┆           ┆           │\n",
       "│            ┆        ┆            ┆           ┆   ┆ ***       ┆           ┆           ┆           │\n",
       "│ CS01541500 ┆ 20153  ┆ CS01541500 ┆ 岩淵      ┆ … ┆ 東京都江  ┆ S13015    ┆ 20150322  ┆ F-2010101 │\n",
       "│ 0185       ┆        ┆ 0185       ┆ はるみ    ┆   ┆ 東区塩浜* ┆           ┆           ┆ 4-F       │\n",
       "│            ┆        ┆            ┆           ┆   ┆ ********* ┆           ┆           ┆           │\n",
       "│ CS03141400 ┆ 19202  ┆ CS03141400 ┆ 長澤      ┆ … ┆ 東京都渋  ┆ S13031    ┆ 20150823  ┆ F-2010100 │\n",
       "│ 0051       ┆        ┆ 0051       ┆ 沙知絵    ┆   ┆ 谷区上原* ┆           ┆           ┆ 9-F       │\n",
       "│            ┆        ┆            ┆           ┆   ┆ ********* ┆           ┆           ┆           │\n",
       "│ CS02841500 ┆ 19127  ┆ CS02841500 ┆ 紺野 あい ┆ … ┆ 神奈川県  ┆ S14028    ┆ 20151212  ┆ F-2010092 │\n",
       "│ 0007       ┆        ┆ 0007       ┆           ┆   ┆ 横浜市瀬  ┆           ┆           ┆ 2-F       │\n",
       "│            ┆        ┆            ┆           ┆   ┆ 谷区阿久  ┆           ┆           ┆           │\n",
       "│            ┆        ┆            ┆           ┆   ┆ 和東***** ┆           ┆           ┆           │\n",
       "│            ┆        ┆            ┆           ┆   ┆ *****     ┆           ┆           ┆           │\n",
       "│ CS00160500 ┆ 18925  ┆ CS00160500 ┆ 安部 耕司 ┆ … ┆ 東京都大  ┆ S13001    ┆ 20160203  ┆ F-2010101 │\n",
       "│ 0009       ┆        ┆ 0009       ┆           ┆   ┆ 田区南蒲  ┆           ┆           ┆ 9-E       │\n",
       "│            ┆        ┆            ┆           ┆   ┆ 田******* ┆           ┆           ┆           │\n",
       "│            ┆        ┆            ┆           ┆   ┆ ***       ┆           ┆           ┆           │\n",
       "│ CS01021400 ┆ 18585  ┆ CS01021400 ┆ 高嶋 芽以 ┆ … ┆ 神奈川県  ┆ S14010    ┆ 20141106  ┆ F-2010090 │\n",
       "│ 0010       ┆        ┆ 0010       ┆           ┆   ┆ 横浜市神  ┆           ┆           ┆ 9-F       │\n",
       "│            ┆        ┆            ┆           ┆   ┆ 奈川区西  ┆           ┆           ┆           │\n",
       "│            ┆        ┆            ┆           ┆   ┆ 大口***** ┆           ┆           ┆           │\n",
       "│            ┆        ┆            ┆           ┆   ┆ *****     ┆           ┆           ┆           │\n",
       "│ CS00651500 ┆ 18372  ┆ CS00651500 ┆ 竹村      ┆ … ┆ 神奈川県  ┆ S14006    ┆ 20151217  ┆ F-2010083 │\n",
       "│ 0023       ┆        ┆ 0023       ┆ はるみ    ┆   ┆ 横浜市都  ┆           ┆           ┆ 1-F       │\n",
       "│            ┆        ┆            ┆           ┆   ┆ 筑区茅ケ  ┆           ┆           ┆           │\n",
       "│            ┆        ┆            ┆           ┆   ┆ 崎中央*** ┆           ┆           ┆           │\n",
       "│            ┆        ┆            ┆           ┆   ┆ *******   ┆           ┆           ┆           │\n",
       "│ CS01641500 ┆ 18372  ┆ CS01641500 ┆ 西谷 愛梨 ┆ … ┆ 東京都小  ┆ S13016    ┆ 20150117  ┆ F-2010061 │\n",
       "│ 0141       ┆        ┆ 0141       ┆           ┆   ┆ 金井市中  ┆           ┆           ┆ 1-F       │\n",
       "│            ┆        ┆            ┆           ┆   ┆ 町******* ┆           ┆           ┆           │\n",
       "│            ┆        ┆            ┆           ┆   ┆ ***       ┆           ┆           ┆           │\n",
       "│ CS01141400 ┆ 18338  ┆ CS01141400 ┆ 紺野 窈   ┆ … ┆ 神奈川県  ┆ S14011    ┆ 20150921  ┆ F-2010102 │\n",
       "│ 0106       ┆        ┆ 0106       ┆           ┆   ┆ 横浜市港  ┆           ┆           ┆ 8-F       │\n",
       "│            ┆        ┆            ┆           ┆   ┆ 北区日吉  ┆           ┆           ┆           │\n",
       "│            ┆        ┆            ┆           ┆   ┆ 本町***** ┆           ┆           ┆           │\n",
       "│            ┆        ┆            ┆           ┆   ┆ *****     ┆           ┆           ┆           │\n",
       "│ CS03841500 ┆ 17847  ┆ CS03841500 ┆ 城戸      ┆ … ┆ 東京都江  ┆ S13038    ┆ 20151119  ┆ F-2010092 │\n",
       "│ 0104       ┆        ┆ 0104       ┆ しほり    ┆   ┆ 戸川区東  ┆           ┆           ┆ 2-F       │\n",
       "│            ┆        ┆            ┆           ┆   ┆ 葛西***** ┆           ┆           ┆           │\n",
       "│            ┆        ┆            ┆           ┆   ┆ *****     ┆           ┆           ┆           │\n",
       "└────────────┴────────┴────────────┴───────────┴───┴───────────┴───────────┴───────────┴───────────┘"
      ]
     },
     "metadata": {},
     "output_type": "display_data"
    }
   ],
   "source": [
    "df_087 = (\n",
    "    df_receipt.group_by(\"customer_id\")\n",
    "    .agg(pl.col(\"amount\").sum())\n",
    "    .join(df_customer, how=\"full\", on=\"customer_id\")\n",
    "    .filter(pl.col(\"customer_id\").str.starts_with(\"Z\").not_())\n",
    "    .sort(\n",
    "        [\"amount\", \"customer_id\"], descending=[True, False]\n",
    "    )  # amountは大きい、coustomer_idは小さいの順\n",
    "    .unique(\n",
    "        subset=[\"customer_name\", \"postal_cd\"], maintain_order=True\n",
    "    )  # subset:識別する列を選択する, unique()は最初の行を残す\n",
    ")\n",
    "print(\n",
    "    f\"df_customer_cnt: {len(df_customer)}\",\n",
    "    f\"df_customer_u_cnt: {len(df_087)}\",\n",
    "    f\"diff: {len(df_customer) - len(df_087)}\",\n",
    ")\n",
    "display(df_087.head(10))"
   ]
  },
  {
   "attachments": {},
   "cell_type": "markdown",
   "metadata": {},
   "source": [
    "---\n",
    "> P-088: 087で作成したデータを元に、顧客データに統合名寄IDを付与したデータを作成せよ。ただし、統合名寄IDは以下の仕様で付与するものとする。\n",
    ">\n",
    "> - 重複していない顧客：顧客ID（customer_id）を設定\n",
    "> - 重複している顧客：前設問で抽出したレコードの顧客IDを設定\n",
    "> \n",
    "> 顧客IDのユニーク件数と、統合名寄IDのユニーク件数の差も確認すること。"
   ]
  },
  {
   "cell_type": "code",
   "execution_count": 104,
   "metadata": {},
   "outputs": [
    {
     "name": "stdout",
     "output_type": "stream",
     "text": [
      "IDの差: 18\n"
     ]
    },
    {
     "data": {
      "text/html": [
       "<div><style>\n",
       ".dataframe > thead > tr,\n",
       ".dataframe > tbody > tr {\n",
       "  text-align: right;\n",
       "  white-space: pre-wrap;\n",
       "}\n",
       "</style>\n",
       "<small>shape: (10, 12)</small><table border=\"1\" class=\"dataframe\"><thead><tr><th>customer_id</th><th>customer_name</th><th>gender_cd</th><th>gender</th><th>birth_day</th><th>age</th><th>postal_cd</th><th>address</th><th>application_store_cd</th><th>application_date</th><th>status_cd</th><th>integration_id</th></tr><tr><td>str</td><td>str</td><td>str</td><td>str</td><td>str</td><td>i64</td><td>str</td><td>str</td><td>str</td><td>str</td><td>str</td><td>str</td></tr></thead><tbody><tr><td>&quot;CS031415000172&quot;</td><td>&quot;宇多田 貴美子&quot;</td><td>&quot;1&quot;</td><td>&quot;女性&quot;</td><td>&quot;1976-10-04&quot;</td><td>42</td><td>&quot;151-0053&quot;</td><td>&quot;東京都渋谷区代々木**********&quot;</td><td>&quot;S13031&quot;</td><td>&quot;20150529&quot;</td><td>&quot;D-20100325-C&quot;</td><td>&quot;CS031415000172&quot;</td></tr><tr><td>&quot;CS001215000145&quot;</td><td>&quot;田崎 美紀&quot;</td><td>&quot;1&quot;</td><td>&quot;女性&quot;</td><td>&quot;1995-03-29&quot;</td><td>24</td><td>&quot;144-0055&quot;</td><td>&quot;東京都大田区仲六郷**********&quot;</td><td>&quot;S13001&quot;</td><td>&quot;20170605&quot;</td><td>&quot;6-20090929-2&quot;</td><td>&quot;CS001215000145&quot;</td></tr><tr><td>&quot;CS015414000103&quot;</td><td>&quot;奥野 陽子&quot;</td><td>&quot;1&quot;</td><td>&quot;女性&quot;</td><td>&quot;1977-08-09&quot;</td><td>41</td><td>&quot;136-0073&quot;</td><td>&quot;東京都江東区北砂**********&quot;</td><td>&quot;S13015&quot;</td><td>&quot;20150722&quot;</td><td>&quot;B-20100609-B&quot;</td><td>&quot;CS015414000103&quot;</td></tr><tr><td>&quot;CS033513000180&quot;</td><td>&quot;安斎 遥&quot;</td><td>&quot;1&quot;</td><td>&quot;女性&quot;</td><td>&quot;1962-07-11&quot;</td><td>56</td><td>&quot;241-0823&quot;</td><td>&quot;神奈川県横浜市旭区善部町**********&quot;</td><td>&quot;S14033&quot;</td><td>&quot;20150728&quot;</td><td>&quot;6-20080506-5&quot;</td><td>&quot;CS033513000180&quot;</td></tr><tr><td>&quot;CS011215000048&quot;</td><td>&quot;芦田 沙耶&quot;</td><td>&quot;1&quot;</td><td>&quot;女性&quot;</td><td>&quot;1992-02-01&quot;</td><td>27</td><td>&quot;223-0062&quot;</td><td>&quot;神奈川県横浜市港北区日吉本町**********&quot;</td><td>&quot;S14011&quot;</td><td>&quot;20150228&quot;</td><td>&quot;C-20100421-9&quot;</td><td>&quot;CS011215000048&quot;</td></tr><tr><td>&quot;CS040412000191&quot;</td><td>&quot;川井 郁恵&quot;</td><td>&quot;1&quot;</td><td>&quot;女性&quot;</td><td>&quot;1977-01-05&quot;</td><td>42</td><td>&quot;226-0021&quot;</td><td>&quot;神奈川県横浜市緑区北八朔町**********&quot;</td><td>&quot;S14040&quot;</td><td>&quot;20151101&quot;</td><td>&quot;1-20091025-4&quot;</td><td>&quot;CS040412000191&quot;</td></tr><tr><td>&quot;CS029415000023&quot;</td><td>&quot;梅田 里穂&quot;</td><td>&quot;1&quot;</td><td>&quot;女性&quot;</td><td>&quot;1976-01-17&quot;</td><td>43</td><td>&quot;279-0043&quot;</td><td>&quot;千葉県浦安市富士見**********&quot;</td><td>&quot;S12029&quot;</td><td>&quot;20150610&quot;</td><td>&quot;D-20100918-E&quot;</td><td>&quot;CS029415000023&quot;</td></tr><tr><td>&quot;CS009315000023&quot;</td><td>&quot;皆川 文世&quot;</td><td>&quot;1&quot;</td><td>&quot;女性&quot;</td><td>&quot;1980-04-15&quot;</td><td>38</td><td>&quot;154-0012&quot;</td><td>&quot;東京都世田谷区駒沢**********&quot;</td><td>&quot;S13009&quot;</td><td>&quot;20150319&quot;</td><td>&quot;5-20080322-1&quot;</td><td>&quot;CS009315000023&quot;</td></tr><tr><td>&quot;CS035415000029&quot;</td><td>&quot;寺沢 真希&quot;</td><td>&quot;9&quot;</td><td>&quot;不明&quot;</td><td>&quot;1977-09-27&quot;</td><td>41</td><td>&quot;158-0096&quot;</td><td>&quot;東京都世田谷区玉川台**********&quot;</td><td>&quot;S13035&quot;</td><td>&quot;20141220&quot;</td><td>&quot;F-20101029-F&quot;</td><td>&quot;CS035415000029&quot;</td></tr><tr><td>&quot;CS015315000033&quot;</td><td>&quot;福士 璃奈子&quot;</td><td>&quot;1&quot;</td><td>&quot;女性&quot;</td><td>&quot;1983-03-17&quot;</td><td>36</td><td>&quot;135-0043&quot;</td><td>&quot;東京都江東区塩浜**********&quot;</td><td>&quot;S13015&quot;</td><td>&quot;20141024&quot;</td><td>&quot;4-20080219-3&quot;</td><td>&quot;CS015315000033&quot;</td></tr></tbody></table></div>"
      ],
      "text/plain": [
       "shape: (10, 12)\n",
       "┌────────────┬────────────┬───────────┬────────┬───┬───────────┬───────────┬───────────┬───────────┐\n",
       "│ customer_i ┆ customer_n ┆ gender_cd ┆ gender ┆ … ┆ applicati ┆ applicati ┆ status_cd ┆ integrati │\n",
       "│ d          ┆ ame        ┆ ---       ┆ ---    ┆   ┆ on_store_ ┆ on_date   ┆ ---       ┆ on_id     │\n",
       "│ ---        ┆ ---        ┆ str       ┆ str    ┆   ┆ cd        ┆ ---       ┆ str       ┆ ---       │\n",
       "│ str        ┆ str        ┆           ┆        ┆   ┆ ---       ┆ str       ┆           ┆ str       │\n",
       "│            ┆            ┆           ┆        ┆   ┆ str       ┆           ┆           ┆           │\n",
       "╞════════════╪════════════╪═══════════╪════════╪═══╪═══════════╪═══════════╪═══════════╪═══════════╡\n",
       "│ CS03141500 ┆ 宇多田     ┆ 1         ┆ 女性   ┆ … ┆ S13031    ┆ 20150529  ┆ D-2010032 ┆ CS0314150 │\n",
       "│ 0172       ┆ 貴美子     ┆           ┆        ┆   ┆           ┆           ┆ 5-C       ┆ 00172     │\n",
       "│ CS00121500 ┆ 田崎 美紀  ┆ 1         ┆ 女性   ┆ … ┆ S13001    ┆ 20170605  ┆ 6-2009092 ┆ CS0012150 │\n",
       "│ 0145       ┆            ┆           ┆        ┆   ┆           ┆           ┆ 9-2       ┆ 00145     │\n",
       "│ CS01541400 ┆ 奥野 陽子  ┆ 1         ┆ 女性   ┆ … ┆ S13015    ┆ 20150722  ┆ B-2010060 ┆ CS0154140 │\n",
       "│ 0103       ┆            ┆           ┆        ┆   ┆           ┆           ┆ 9-B       ┆ 00103     │\n",
       "│ CS03351300 ┆ 安斎 遥    ┆ 1         ┆ 女性   ┆ … ┆ S14033    ┆ 20150728  ┆ 6-2008050 ┆ CS0335130 │\n",
       "│ 0180       ┆            ┆           ┆        ┆   ┆           ┆           ┆ 6-5       ┆ 00180     │\n",
       "│ CS01121500 ┆ 芦田 沙耶  ┆ 1         ┆ 女性   ┆ … ┆ S14011    ┆ 20150228  ┆ C-2010042 ┆ CS0112150 │\n",
       "│ 0048       ┆            ┆           ┆        ┆   ┆           ┆           ┆ 1-9       ┆ 00048     │\n",
       "│ CS04041200 ┆ 川井 郁恵  ┆ 1         ┆ 女性   ┆ … ┆ S14040    ┆ 20151101  ┆ 1-2009102 ┆ CS0404120 │\n",
       "│ 0191       ┆            ┆           ┆        ┆   ┆           ┆           ┆ 5-4       ┆ 00191     │\n",
       "│ CS02941500 ┆ 梅田 里穂  ┆ 1         ┆ 女性   ┆ … ┆ S12029    ┆ 20150610  ┆ D-2010091 ┆ CS0294150 │\n",
       "│ 0023       ┆            ┆           ┆        ┆   ┆           ┆           ┆ 8-E       ┆ 00023     │\n",
       "│ CS00931500 ┆ 皆川 文世  ┆ 1         ┆ 女性   ┆ … ┆ S13009    ┆ 20150319  ┆ 5-2008032 ┆ CS0093150 │\n",
       "│ 0023       ┆            ┆           ┆        ┆   ┆           ┆           ┆ 2-1       ┆ 00023     │\n",
       "│ CS03541500 ┆ 寺沢 真希  ┆ 9         ┆ 不明   ┆ … ┆ S13035    ┆ 20141220  ┆ F-2010102 ┆ CS0354150 │\n",
       "│ 0029       ┆            ┆           ┆        ┆   ┆           ┆           ┆ 9-F       ┆ 00029     │\n",
       "│ CS01531500 ┆ 福士       ┆ 1         ┆ 女性   ┆ … ┆ S13015    ┆ 20141024  ┆ 4-2008021 ┆ CS0153150 │\n",
       "│ 0033       ┆ 璃奈子     ┆           ┆        ┆   ┆           ┆           ┆ 9-3       ┆ 00033     │\n",
       "└────────────┴────────────┴───────────┴────────┴───┴───────────┴───────────┴───────────┴───────────┘"
      ]
     },
     "execution_count": 104,
     "metadata": {},
     "output_type": "execute_result"
    }
   ],
   "source": [
    "df_088 = df_customer.join(\n",
    "    df_087.select(\"customer_name\", \"postal_cd\", \"customer_id\"),\n",
    "    how=\"inner\",\n",
    "    on=[\"customer_name\", \"postal_cd\"],\n",
    ").rename({\"customer_id_right\": \"integration_id\"})\n",
    "\n",
    "diff = len(df_088.get_column(\"customer_id\").unique()) - len(\n",
    "    df_088.get_column(\"integration_id\").unique()\n",
    ")\n",
    "\n",
    "print(\"IDの差:\", diff)\n",
    "df_088.head(10)"
   ]
  },
  {
   "attachments": {},
   "cell_type": "markdown",
   "metadata": {},
   "source": [
    "---\n",
    "> P-089: 売上実績がある顧客を、予測モデル構築のため学習用データとテスト用データに分割したい。それぞれ8:2の割合でランダムにデータを分割せよ。"
   ]
  },
  {
   "cell_type": "code",
   "execution_count": 105,
   "metadata": {},
   "outputs": [
    {
     "name": "stdout",
     "output_type": "stream",
     "text": [
      "学習データ割合: 0.7999277717587576\n",
      "テストデータ割合: 0.20007222824124232\n"
     ]
    },
    {
     "data": {
      "text/html": [
       "<div><style>\n",
       ".dataframe > thead > tr,\n",
       ".dataframe > tbody > tr {\n",
       "  text-align: right;\n",
       "  white-space: pre-wrap;\n",
       "}\n",
       "</style>\n",
       "<small>shape: (10, 2)</small><table border=\"1\" class=\"dataframe\"><thead><tr><th>customer_id</th><th>amount</th></tr><tr><td>str</td><td>i64</td></tr></thead><tbody><tr><td>&quot;CS016615000051&quot;</td><td>536</td></tr><tr><td>&quot;CS034803000008&quot;</td><td>205</td></tr><tr><td>&quot;CS035215000028&quot;</td><td>3767</td></tr><tr><td>&quot;CS038411000055&quot;</td><td>2298</td></tr><tr><td>&quot;CS033515000071&quot;</td><td>4540</td></tr><tr><td>&quot;CS004513000085&quot;</td><td>1202</td></tr><tr><td>&quot;CS001615000051&quot;</td><td>488</td></tr><tr><td>&quot;CS042511000003&quot;</td><td>629</td></tr><tr><td>&quot;CS004515000284&quot;</td><td>2343</td></tr><tr><td>&quot;CS034511000008&quot;</td><td>1048</td></tr></tbody></table></div>"
      ],
      "text/plain": [
       "shape: (10, 2)\n",
       "┌────────────────┬────────┐\n",
       "│ customer_id    ┆ amount │\n",
       "│ ---            ┆ ---    │\n",
       "│ str            ┆ i64    │\n",
       "╞════════════════╪════════╡\n",
       "│ CS016615000051 ┆ 536    │\n",
       "│ CS034803000008 ┆ 205    │\n",
       "│ CS035215000028 ┆ 3767   │\n",
       "│ CS038411000055 ┆ 2298   │\n",
       "│ CS033515000071 ┆ 4540   │\n",
       "│ CS004513000085 ┆ 1202   │\n",
       "│ CS001615000051 ┆ 488    │\n",
       "│ CS042511000003 ┆ 629    │\n",
       "│ CS004515000284 ┆ 2343   │\n",
       "│ CS034511000008 ┆ 1048   │\n",
       "└────────────────┴────────┘"
      ]
     },
     "metadata": {},
     "output_type": "display_data"
    }
   ],
   "source": [
    "df_089 = (\n",
    "    df_receipt.group_by(\"customer_id\")\n",
    "    .agg(pl.col(\"amount\").sum())\n",
    "    .filter(pl.col(\"amount\") > 0)\n",
    ")\n",
    "\n",
    "df_train, df_test = train_test_split(df_089, test_size=0.2, random_state=71)\n",
    "\n",
    "print(f\"学習データ割合: {len(df_train)/len(df_089)}\")\n",
    "print(f\"テストデータ割合: {len(df_test)/len(df_089)}\")\n",
    "display(df_test.head(10))"
   ]
  },
  {
   "cell_type": "code",
   "execution_count": 106,
   "metadata": {},
   "outputs": [
    {
     "name": "stdout",
     "output_type": "stream",
     "text": [
      "学習データ割合: 0.19995184783917178\n",
      "テストデータ割合: 0.8000481521608283\n"
     ]
    },
    {
     "name": "stderr",
     "output_type": "stream",
     "text": [
      "C:\\Users\\atsu9\\AppData\\Local\\Temp\\ipykernel_9836\\2762331304.py:7: DeprecationWarning: `DataFrame.with_row_count` is deprecated. Use `with_row_index` instead. Note that the default column name has changed from 'row_nr' to 'index'.\n",
      "  .with_row_count(\"index\")  # with_row_countはpandasのindexみたいな列を作れる\n"
     ]
    },
    {
     "data": {
      "text/html": [
       "<div><style>\n",
       ".dataframe > thead > tr,\n",
       ".dataframe > tbody > tr {\n",
       "  text-align: right;\n",
       "  white-space: pre-wrap;\n",
       "}\n",
       "</style>\n",
       "<small>shape: (10, 3)</small><table border=\"1\" class=\"dataframe\"><thead><tr><th>index</th><th>customer_id</th><th>amount</th></tr><tr><td>bool</td><td>str</td><td>i64</td></tr></thead><tbody><tr><td>false</td><td>&quot;CS034414000030&quot;</td><td>4065</td></tr><tr><td>true</td><td>&quot;CS013415000002&quot;</td><td>6553</td></tr><tr><td>true</td><td>&quot;CS003615000276&quot;</td><td>216</td></tr><tr><td>true</td><td>&quot;CS005513000376&quot;</td><td>368</td></tr><tr><td>true</td><td>&quot;CS034205000001&quot;</td><td>3265</td></tr><tr><td>true</td><td>&quot;CS015214000015&quot;</td><td>7134</td></tr><tr><td>true</td><td>&quot;CS009415000156&quot;</td><td>5372</td></tr><tr><td>true</td><td>&quot;CS038514000077&quot;</td><td>1661</td></tr><tr><td>true</td><td>&quot;CS018515000037&quot;</td><td>4128</td></tr><tr><td>false</td><td>&quot;CS001615000062&quot;</td><td>260</td></tr></tbody></table></div>"
      ],
      "text/plain": [
       "shape: (10, 3)\n",
       "┌───────┬────────────────┬────────┐\n",
       "│ index ┆ customer_id    ┆ amount │\n",
       "│ ---   ┆ ---            ┆ ---    │\n",
       "│ bool  ┆ str            ┆ i64    │\n",
       "╞═══════╪════════════════╪════════╡\n",
       "│ false ┆ CS034414000030 ┆ 4065   │\n",
       "│ true  ┆ CS013415000002 ┆ 6553   │\n",
       "│ true  ┆ CS003615000276 ┆ 216    │\n",
       "│ true  ┆ CS005513000376 ┆ 368    │\n",
       "│ true  ┆ CS034205000001 ┆ 3265   │\n",
       "│ true  ┆ CS015214000015 ┆ 7134   │\n",
       "│ true  ┆ CS009415000156 ┆ 5372   │\n",
       "│ true  ┆ CS038514000077 ┆ 1661   │\n",
       "│ true  ┆ CS018515000037 ┆ 4128   │\n",
       "│ false ┆ CS001615000062 ┆ 260    │\n",
       "└───────┴────────────────┴────────┘"
      ]
     },
     "metadata": {},
     "output_type": "display_data"
    },
    {
     "data": {
      "text/html": [
       "<div><style>\n",
       ".dataframe > thead > tr,\n",
       ".dataframe > tbody > tr {\n",
       "  text-align: right;\n",
       "  white-space: pre-wrap;\n",
       "}\n",
       "</style>\n",
       "<small>shape: (10, 3)</small><table border=\"1\" class=\"dataframe\"><thead><tr><th>index</th><th>customer_id</th><th>amount</th></tr><tr><td>bool</td><td>str</td><td>i64</td></tr></thead><tbody><tr><td>true</td><td>&quot;CS013415000002&quot;</td><td>6553</td></tr><tr><td>true</td><td>&quot;CS003615000276&quot;</td><td>216</td></tr><tr><td>true</td><td>&quot;CS005513000376&quot;</td><td>368</td></tr><tr><td>true</td><td>&quot;CS034205000001&quot;</td><td>3265</td></tr><tr><td>true</td><td>&quot;CS015214000015&quot;</td><td>7134</td></tr><tr><td>true</td><td>&quot;CS009415000156&quot;</td><td>5372</td></tr><tr><td>true</td><td>&quot;CS038514000077&quot;</td><td>1661</td></tr><tr><td>true</td><td>&quot;CS018515000037&quot;</td><td>4128</td></tr><tr><td>true</td><td>&quot;CS018415000234&quot;</td><td>10008</td></tr><tr><td>true</td><td>&quot;CS017412000008&quot;</td><td>406</td></tr></tbody></table></div>"
      ],
      "text/plain": [
       "shape: (10, 3)\n",
       "┌───────┬────────────────┬────────┐\n",
       "│ index ┆ customer_id    ┆ amount │\n",
       "│ ---   ┆ ---            ┆ ---    │\n",
       "│ bool  ┆ str            ┆ i64    │\n",
       "╞═══════╪════════════════╪════════╡\n",
       "│ true  ┆ CS013415000002 ┆ 6553   │\n",
       "│ true  ┆ CS003615000276 ┆ 216    │\n",
       "│ true  ┆ CS005513000376 ┆ 368    │\n",
       "│ true  ┆ CS034205000001 ┆ 3265   │\n",
       "│ true  ┆ CS015214000015 ┆ 7134   │\n",
       "│ true  ┆ CS009415000156 ┆ 5372   │\n",
       "│ true  ┆ CS038514000077 ┆ 1661   │\n",
       "│ true  ┆ CS018515000037 ┆ 4128   │\n",
       "│ true  ┆ CS018415000234 ┆ 10008  │\n",
       "│ true  ┆ CS017412000008 ┆ 406    │\n",
       "└───────┴────────────────┴────────┘"
      ]
     },
     "metadata": {},
     "output_type": "display_data"
    },
    {
     "name": "stdout",
     "output_type": "stream",
     "text": [
      "<class 'polars.dataframe.frame.DataFrame'>\n"
     ]
    }
   ],
   "source": [
    "# polarsの機能でもOK\n",
    "df_089 = (\n",
    "    df_receipt\n",
    "    .group_by(\"customer_id\")\n",
    "    .agg(pl.col(\"amount\").sum())\n",
    "    .filter(pl.col(\"amount\") > 0)\n",
    "    .with_row_count(\"index\")  # with_row_countはpandasのindexみたいな列を作れる\n",
    "    .with_columns(pl.col(\"index\").shuffle(seed=71) < 0.8 * pl.col(\"index\").len())  # True, Falseを8:2の割合でシャッフルする\n",
    ")\n",
    "\n",
    "df_train, df_test = df_089.partition_by(by=\"index\")\n",
    "\n",
    "print(f\"学習データ割合: {len(df_train)/len(df_089)}\")\n",
    "print(f\"テストデータ割合: {len(df_test)/len(df_089)}\")\n",
    "display(df_089.head(10))\n",
    "display(df_test.head(10))\n",
    "print(type(df_test))"
   ]
  },
  {
   "attachments": {},
   "cell_type": "markdown",
   "metadata": {},
   "source": [
    "---\n",
    "> P-090: レシート明細データ（df_receipt）は2017年1月1日〜2019年10月31日までのデータを有している。売上金額（amount）を月次で集計し、学習用に12ヶ月、テスト用に6ヶ月の時系列モデル構築用データを3セット作成せよ。"
   ]
  },
  {
   "cell_type": "code",
   "execution_count": 107,
   "metadata": {},
   "outputs": [
    {
     "data": {
      "text/html": [
       "<div><style>\n",
       ".dataframe > thead > tr,\n",
       ".dataframe > tbody > tr {\n",
       "  text-align: right;\n",
       "  white-space: pre-wrap;\n",
       "}\n",
       "</style>\n",
       "<small>shape: (10, 2)</small><table border=\"1\" class=\"dataframe\"><thead><tr><th>sales_ym</th><th>amount</th></tr><tr><td>str</td><td>i64</td></tr></thead><tbody><tr><td>&quot;201701&quot;</td><td>902056</td></tr><tr><td>&quot;201702&quot;</td><td>764413</td></tr><tr><td>&quot;201703&quot;</td><td>962945</td></tr><tr><td>&quot;201704&quot;</td><td>847566</td></tr><tr><td>&quot;201705&quot;</td><td>884010</td></tr><tr><td>&quot;201706&quot;</td><td>894242</td></tr><tr><td>&quot;201707&quot;</td><td>959205</td></tr><tr><td>&quot;201708&quot;</td><td>954836</td></tr><tr><td>&quot;201709&quot;</td><td>902037</td></tr><tr><td>&quot;201710&quot;</td><td>905739</td></tr></tbody></table></div>"
      ],
      "text/plain": [
       "shape: (10, 2)\n",
       "┌──────────┬────────┐\n",
       "│ sales_ym ┆ amount │\n",
       "│ ---      ┆ ---    │\n",
       "│ str      ┆ i64    │\n",
       "╞══════════╪════════╡\n",
       "│ 201701   ┆ 902056 │\n",
       "│ 201702   ┆ 764413 │\n",
       "│ 201703   ┆ 962945 │\n",
       "│ 201704   ┆ 847566 │\n",
       "│ 201705   ┆ 884010 │\n",
       "│ 201706   ┆ 894242 │\n",
       "│ 201707   ┆ 959205 │\n",
       "│ 201708   ┆ 954836 │\n",
       "│ 201709   ┆ 902037 │\n",
       "│ 201710   ┆ 905739 │\n",
       "└──────────┴────────┘"
      ]
     },
     "metadata": {},
     "output_type": "display_data"
    }
   ],
   "source": [
    "df_090 = (\n",
    "    df_receipt.select(\n",
    "        pl.exclude(\"sales_ymd\"),\n",
    "        pl.col(\"sales_ymd\")\n",
    "        .cast(pl.Utf8)\n",
    "        .str.slice(offset=0, length=6)\n",
    "        .alias(\"sales_ym\"),\n",
    "    )\n",
    "    .group_by(\"sales_ym\")\n",
    "    .agg(pl.col(\"amount\").sum())\n",
    "    .sort(\"sales_ym\")\n",
    ")\n",
    "\n",
    "\n",
    "def split_data(\n",
    "    df: pl.DataFrame,\n",
    "    train_size: int,\n",
    "    test_size: int,\n",
    "    slide_window: int,\n",
    "    start_point: int,\n",
    "):\n",
    "    train_start = start_point * slide_window\n",
    "    test_start = train_start + train_size\n",
    "    return df[train_start:test_start], df[test_start : test_start + test_size]\n",
    "\n",
    "\n",
    "df_090_train1, df_090_test1 = split_data(\n",
    "    df_090, train_size=12, test_size=6, slide_window=6, start_point=0\n",
    ")\n",
    "\n",
    "df_090_train2, df_090_test2 = split_data(\n",
    "    df_090, train_size=12, test_size=6, slide_window=6, start_point=1\n",
    ")\n",
    "\n",
    "df_090_train3, df_090_test3 = split_data(\n",
    "    df_090, train_size=12, test_size=6, slide_window=6, start_point=2\n",
    ")\n",
    "\n",
    "display(df_090_train1.head(10))"
   ]
  },
  {
   "cell_type": "code",
   "execution_count": 108,
   "metadata": {},
   "outputs": [
    {
     "data": {
      "text/html": [
       "<div><style>\n",
       ".dataframe > thead > tr,\n",
       ".dataframe > tbody > tr {\n",
       "  text-align: right;\n",
       "  white-space: pre-wrap;\n",
       "}\n",
       "</style>\n",
       "<small>shape: (6, 2)</small><table border=\"1\" class=\"dataframe\"><thead><tr><th>sales_ym</th><th>amount</th></tr><tr><td>str</td><td>i64</td></tr></thead><tbody><tr><td>&quot;201801&quot;</td><td>944509</td></tr><tr><td>&quot;201802&quot;</td><td>864128</td></tr><tr><td>&quot;201803&quot;</td><td>946588</td></tr><tr><td>&quot;201804&quot;</td><td>937099</td></tr><tr><td>&quot;201805&quot;</td><td>1004438</td></tr><tr><td>&quot;201806&quot;</td><td>1012329</td></tr></tbody></table></div>"
      ],
      "text/plain": [
       "shape: (6, 2)\n",
       "┌──────────┬─────────┐\n",
       "│ sales_ym ┆ amount  │\n",
       "│ ---      ┆ ---     │\n",
       "│ str      ┆ i64     │\n",
       "╞══════════╪═════════╡\n",
       "│ 201801   ┆ 944509  │\n",
       "│ 201802   ┆ 864128  │\n",
       "│ 201803   ┆ 946588  │\n",
       "│ 201804   ┆ 937099  │\n",
       "│ 201805   ┆ 1004438 │\n",
       "│ 201806   ┆ 1012329 │\n",
       "└──────────┴─────────┘"
      ]
     },
     "metadata": {},
     "output_type": "display_data"
    }
   ],
   "source": [
    "display(df_090_test1.head(10))"
   ]
  },
  {
   "cell_type": "code",
   "execution_count": 109,
   "metadata": {},
   "outputs": [
    {
     "data": {
      "text/html": [
       "<div><style>\n",
       ".dataframe > thead > tr,\n",
       ".dataframe > tbody > tr {\n",
       "  text-align: right;\n",
       "  white-space: pre-wrap;\n",
       "}\n",
       "</style>\n",
       "<small>shape: (10, 2)</small><table border=\"1\" class=\"dataframe\"><thead><tr><th>sales_ym</th><th>amount</th></tr><tr><td>str</td><td>i64</td></tr></thead><tbody><tr><td>&quot;201707&quot;</td><td>959205</td></tr><tr><td>&quot;201708&quot;</td><td>954836</td></tr><tr><td>&quot;201709&quot;</td><td>902037</td></tr><tr><td>&quot;201710&quot;</td><td>905739</td></tr><tr><td>&quot;201711&quot;</td><td>932157</td></tr><tr><td>&quot;201712&quot;</td><td>939654</td></tr><tr><td>&quot;201801&quot;</td><td>944509</td></tr><tr><td>&quot;201802&quot;</td><td>864128</td></tr><tr><td>&quot;201803&quot;</td><td>946588</td></tr><tr><td>&quot;201804&quot;</td><td>937099</td></tr></tbody></table></div>"
      ],
      "text/plain": [
       "shape: (10, 2)\n",
       "┌──────────┬────────┐\n",
       "│ sales_ym ┆ amount │\n",
       "│ ---      ┆ ---    │\n",
       "│ str      ┆ i64    │\n",
       "╞══════════╪════════╡\n",
       "│ 201707   ┆ 959205 │\n",
       "│ 201708   ┆ 954836 │\n",
       "│ 201709   ┆ 902037 │\n",
       "│ 201710   ┆ 905739 │\n",
       "│ 201711   ┆ 932157 │\n",
       "│ 201712   ┆ 939654 │\n",
       "│ 201801   ┆ 944509 │\n",
       "│ 201802   ┆ 864128 │\n",
       "│ 201803   ┆ 946588 │\n",
       "│ 201804   ┆ 937099 │\n",
       "└──────────┴────────┘"
      ]
     },
     "execution_count": 109,
     "metadata": {},
     "output_type": "execute_result"
    }
   ],
   "source": [
    "df_090_train2.head(10)"
   ]
  },
  {
   "cell_type": "code",
   "execution_count": 110,
   "metadata": {},
   "outputs": [
    {
     "name": "stdout",
     "output_type": "stream",
     "text": [
      "[ 4  5  6  7  8  9 10 11 12 13 14 15]\n",
      "[10 11 12 13 14 15 16 17 18 19 20 21]\n",
      "[16 17 18 19 20 21 22 23 24 25 26 27]\n"
     ]
    }
   ],
   "source": [
    "# scikit_learnを使った方法\n",
    "tscv = TimeSeriesSplit(gap=0, max_train_size=12, n_splits=3, test_size=6)\n",
    "\n",
    "series_list = []\n",
    "for train_index, test_index in tscv.split(df_090):\n",
    "    print(train_index)\n",
    "    series_list.append((df_090[train_index], df_090[test_index]))\n",
    "\n",
    "df_090_train1, df_090_test1 = series_list[0]\n",
    "df_090_train2, df_090_test2 = series_list[1]\n",
    "df_090_train3, df_090_test3 = series_list[2]"
   ]
  },
  {
   "attachments": {},
   "cell_type": "markdown",
   "metadata": {},
   "source": [
    "---\n",
    "> P-091: 顧客データ（df_customer）の各顧客に対し、売上実績がある顧客数と売上実績がない顧客数が1:1となるようにアンダーサンプリングで抽出せよ。"
   ]
  },
  {
   "cell_type": "code",
   "execution_count": 111,
   "metadata": {},
   "outputs": [
    {
     "name": "stdout",
     "output_type": "stream",
     "text": [
      "0の件数 8306\n",
      "1の件数 8306\n"
     ]
    }
   ],
   "source": [
    "from imblearn.under_sampling import RandomUnderSampler\n",
    "\n",
    "df_091 = (\n",
    "    df_customer\n",
    "    .join(\n",
    "        df_receipt.group_by(\"customer_id\").agg(pl.col(\"amount\").sum()),\n",
    "        how=\"left\", on=\"customer_id\"\n",
    "    )\n",
    "    .with_columns(\n",
    "        pl.col(\"amount\").is_null().alias(\"is_buy_flag\"),\n",
    "    )\n",
    "    .to_pandas()\n",
    ")\n",
    "\n",
    "rs = RandomUnderSampler(random_state=71)\n",
    "df_091, _ = rs.fit_resample(df_091, df_091[\"is_buy_flag\"])\n",
    "print('0の件数', len(df_091[df_091[\"is_buy_flag\"] == 0]))\n",
    "print('1の件数', len(df_091[df_091[\"is_buy_flag\"] == 1]))"
   ]
  },
  {
   "attachments": {},
   "cell_type": "markdown",
   "metadata": {},
   "source": [
    "---\n",
    "> P-092: 顧客データ（df_customer）の性別について、第三正規形へと正規化せよ。\n",
    "\n",
    "- 第1正規形：1つのセルには1つの値しか含まれない　list型などで登録しない\n",
    "- 第2正規形：部分関数従属を排除し、完全関数従属にする　Nullとか無くす\n",
    "- 第3正規形：第2正規形のテーブルから、推移的関数従属している列が切り出されたもの　段階的な従属を無くす"
   ]
  },
  {
   "cell_type": "code",
   "execution_count": 112,
   "metadata": {},
   "outputs": [
    {
     "data": {
      "text/html": [
       "<div><style>\n",
       ".dataframe > thead > tr,\n",
       ".dataframe > tbody > tr {\n",
       "  text-align: right;\n",
       "  white-space: pre-wrap;\n",
       "}\n",
       "</style>\n",
       "<small>shape: (3, 2)</small><table border=\"1\" class=\"dataframe\"><thead><tr><th>gender_cd</th><th>gender</th></tr><tr><td>str</td><td>str</td></tr></thead><tbody><tr><td>&quot;1&quot;</td><td>&quot;女性&quot;</td></tr><tr><td>&quot;0&quot;</td><td>&quot;男性&quot;</td></tr><tr><td>&quot;9&quot;</td><td>&quot;不明&quot;</td></tr></tbody></table></div>"
      ],
      "text/plain": [
       "shape: (3, 2)\n",
       "┌───────────┬────────┐\n",
       "│ gender_cd ┆ gender │\n",
       "│ ---       ┆ ---    │\n",
       "│ str       ┆ str    │\n",
       "╞═══════════╪════════╡\n",
       "│ 1         ┆ 女性   │\n",
       "│ 0         ┆ 男性   │\n",
       "│ 9         ┆ 不明   │\n",
       "└───────────┴────────┘"
      ]
     },
     "metadata": {},
     "output_type": "display_data"
    },
    {
     "data": {
      "text/html": [
       "<div><style>\n",
       ".dataframe > thead > tr,\n",
       ".dataframe > tbody > tr {\n",
       "  text-align: right;\n",
       "  white-space: pre-wrap;\n",
       "}\n",
       "</style>\n",
       "<small>shape: (10, 10)</small><table border=\"1\" class=\"dataframe\"><thead><tr><th>customer_id</th><th>customer_name</th><th>gender_cd</th><th>birth_day</th><th>age</th><th>postal_cd</th><th>address</th><th>application_store_cd</th><th>application_date</th><th>status_cd</th></tr><tr><td>str</td><td>str</td><td>str</td><td>str</td><td>i64</td><td>str</td><td>str</td><td>str</td><td>str</td><td>str</td></tr></thead><tbody><tr><td>&quot;CS021313000114&quot;</td><td>&quot;大野 あや子&quot;</td><td>&quot;1&quot;</td><td>&quot;1981-04-29&quot;</td><td>37</td><td>&quot;259-1113&quot;</td><td>&quot;神奈川県伊勢原市粟窪**********&quot;</td><td>&quot;S14021&quot;</td><td>&quot;20150905&quot;</td><td>&quot;0-00000000-0&quot;</td></tr><tr><td>&quot;CS037613000071&quot;</td><td>&quot;六角 雅彦&quot;</td><td>&quot;9&quot;</td><td>&quot;1952-04-01&quot;</td><td>66</td><td>&quot;136-0076&quot;</td><td>&quot;東京都江東区南砂**********&quot;</td><td>&quot;S13037&quot;</td><td>&quot;20150414&quot;</td><td>&quot;0-00000000-0&quot;</td></tr><tr><td>&quot;CS031415000172&quot;</td><td>&quot;宇多田 貴美子&quot;</td><td>&quot;1&quot;</td><td>&quot;1976-10-04&quot;</td><td>42</td><td>&quot;151-0053&quot;</td><td>&quot;東京都渋谷区代々木**********&quot;</td><td>&quot;S13031&quot;</td><td>&quot;20150529&quot;</td><td>&quot;D-20100325-C&quot;</td></tr><tr><td>&quot;CS028811000001&quot;</td><td>&quot;堀井 かおり&quot;</td><td>&quot;1&quot;</td><td>&quot;1933-03-27&quot;</td><td>86</td><td>&quot;245-0016&quot;</td><td>&quot;神奈川県横浜市泉区和泉町**********&quot;</td><td>&quot;S14028&quot;</td><td>&quot;20160115&quot;</td><td>&quot;0-00000000-0&quot;</td></tr><tr><td>&quot;CS001215000145&quot;</td><td>&quot;田崎 美紀&quot;</td><td>&quot;1&quot;</td><td>&quot;1995-03-29&quot;</td><td>24</td><td>&quot;144-0055&quot;</td><td>&quot;東京都大田区仲六郷**********&quot;</td><td>&quot;S13001&quot;</td><td>&quot;20170605&quot;</td><td>&quot;6-20090929-2&quot;</td></tr><tr><td>&quot;CS020401000016&quot;</td><td>&quot;宮下 達士&quot;</td><td>&quot;0&quot;</td><td>&quot;1974-09-15&quot;</td><td>44</td><td>&quot;174-0065&quot;</td><td>&quot;東京都板橋区若木**********&quot;</td><td>&quot;S13020&quot;</td><td>&quot;20150225&quot;</td><td>&quot;0-00000000-0&quot;</td></tr><tr><td>&quot;CS015414000103&quot;</td><td>&quot;奥野 陽子&quot;</td><td>&quot;1&quot;</td><td>&quot;1977-08-09&quot;</td><td>41</td><td>&quot;136-0073&quot;</td><td>&quot;東京都江東区北砂**********&quot;</td><td>&quot;S13015&quot;</td><td>&quot;20150722&quot;</td><td>&quot;B-20100609-B&quot;</td></tr><tr><td>&quot;CS029403000008&quot;</td><td>&quot;釈 人志&quot;</td><td>&quot;0&quot;</td><td>&quot;1973-08-17&quot;</td><td>45</td><td>&quot;279-0003&quot;</td><td>&quot;千葉県浦安市海楽**********&quot;</td><td>&quot;S12029&quot;</td><td>&quot;20150515&quot;</td><td>&quot;0-00000000-0&quot;</td></tr><tr><td>&quot;CS015804000004&quot;</td><td>&quot;松谷 米蔵&quot;</td><td>&quot;0&quot;</td><td>&quot;1931-05-02&quot;</td><td>87</td><td>&quot;136-0073&quot;</td><td>&quot;東京都江東区北砂**********&quot;</td><td>&quot;S13015&quot;</td><td>&quot;20150607&quot;</td><td>&quot;0-00000000-0&quot;</td></tr><tr><td>&quot;CS033513000180&quot;</td><td>&quot;安斎 遥&quot;</td><td>&quot;1&quot;</td><td>&quot;1962-07-11&quot;</td><td>56</td><td>&quot;241-0823&quot;</td><td>&quot;神奈川県横浜市旭区善部町**********&quot;</td><td>&quot;S14033&quot;</td><td>&quot;20150728&quot;</td><td>&quot;6-20080506-5&quot;</td></tr></tbody></table></div>"
      ],
      "text/plain": [
       "shape: (10, 10)\n",
       "┌───────────┬───────────┬───────────┬───────────┬───┬───────────┬───────────┬───────────┬──────────┐\n",
       "│ customer_ ┆ customer_ ┆ gender_cd ┆ birth_day ┆ … ┆ address   ┆ applicati ┆ applicati ┆ status_c │\n",
       "│ id        ┆ name      ┆ ---       ┆ ---       ┆   ┆ ---       ┆ on_store_ ┆ on_date   ┆ d        │\n",
       "│ ---       ┆ ---       ┆ str       ┆ str       ┆   ┆ str       ┆ cd        ┆ ---       ┆ ---      │\n",
       "│ str       ┆ str       ┆           ┆           ┆   ┆           ┆ ---       ┆ str       ┆ str      │\n",
       "│           ┆           ┆           ┆           ┆   ┆           ┆ str       ┆           ┆          │\n",
       "╞═══════════╪═══════════╪═══════════╪═══════════╪═══╪═══════════╪═══════════╪═══════════╪══════════╡\n",
       "│ CS0213130 ┆ 大野      ┆ 1         ┆ 1981-04-2 ┆ … ┆ 神奈川県  ┆ S14021    ┆ 20150905  ┆ 0-000000 │\n",
       "│ 00114     ┆ あや子    ┆           ┆ 9         ┆   ┆ 伊勢原市  ┆           ┆           ┆ 00-0     │\n",
       "│           ┆           ┆           ┆           ┆   ┆ 粟窪***** ┆           ┆           ┆          │\n",
       "│           ┆           ┆           ┆           ┆   ┆ *****     ┆           ┆           ┆          │\n",
       "│ CS0376130 ┆ 六角 雅彦 ┆ 9         ┆ 1952-04-0 ┆ … ┆ 東京都江  ┆ S13037    ┆ 20150414  ┆ 0-000000 │\n",
       "│ 00071     ┆           ┆           ┆ 1         ┆   ┆ 東区南砂* ┆           ┆           ┆ 00-0     │\n",
       "│           ┆           ┆           ┆           ┆   ┆ ********* ┆           ┆           ┆          │\n",
       "│ CS0314150 ┆ 宇多田    ┆ 1         ┆ 1976-10-0 ┆ … ┆ 東京都渋  ┆ S13031    ┆ 20150529  ┆ D-201003 │\n",
       "│ 00172     ┆ 貴美子    ┆           ┆ 4         ┆   ┆ 谷区代々  ┆           ┆           ┆ 25-C     │\n",
       "│           ┆           ┆           ┆           ┆   ┆ 木******* ┆           ┆           ┆          │\n",
       "│           ┆           ┆           ┆           ┆   ┆ ***       ┆           ┆           ┆          │\n",
       "│ CS0288110 ┆ 堀井      ┆ 1         ┆ 1933-03-2 ┆ … ┆ 神奈川県  ┆ S14028    ┆ 20160115  ┆ 0-000000 │\n",
       "│ 00001     ┆ かおり    ┆           ┆ 7         ┆   ┆ 横浜市泉  ┆           ┆           ┆ 00-0     │\n",
       "│           ┆           ┆           ┆           ┆   ┆ 区和泉町* ┆           ┆           ┆          │\n",
       "│           ┆           ┆           ┆           ┆   ┆ ********* ┆           ┆           ┆          │\n",
       "│ CS0012150 ┆ 田崎 美紀 ┆ 1         ┆ 1995-03-2 ┆ … ┆ 東京都大  ┆ S13001    ┆ 20170605  ┆ 6-200909 │\n",
       "│ 00145     ┆           ┆           ┆ 9         ┆   ┆ 田区仲六  ┆           ┆           ┆ 29-2     │\n",
       "│           ┆           ┆           ┆           ┆   ┆ 郷******* ┆           ┆           ┆          │\n",
       "│           ┆           ┆           ┆           ┆   ┆ ***       ┆           ┆           ┆          │\n",
       "│ CS0204010 ┆ 宮下 達士 ┆ 0         ┆ 1974-09-1 ┆ … ┆ 東京都板  ┆ S13020    ┆ 20150225  ┆ 0-000000 │\n",
       "│ 00016     ┆           ┆           ┆ 5         ┆   ┆ 橋区若木* ┆           ┆           ┆ 00-0     │\n",
       "│           ┆           ┆           ┆           ┆   ┆ ********* ┆           ┆           ┆          │\n",
       "│ CS0154140 ┆ 奥野 陽子 ┆ 1         ┆ 1977-08-0 ┆ … ┆ 東京都江  ┆ S13015    ┆ 20150722  ┆ B-201006 │\n",
       "│ 00103     ┆           ┆           ┆ 9         ┆   ┆ 東区北砂* ┆           ┆           ┆ 09-B     │\n",
       "│           ┆           ┆           ┆           ┆   ┆ ********* ┆           ┆           ┆          │\n",
       "│ CS0294030 ┆ 釈 人志   ┆ 0         ┆ 1973-08-1 ┆ … ┆ 千葉県浦  ┆ S12029    ┆ 20150515  ┆ 0-000000 │\n",
       "│ 00008     ┆           ┆           ┆ 7         ┆   ┆ 安市海楽* ┆           ┆           ┆ 00-0     │\n",
       "│           ┆           ┆           ┆           ┆   ┆ ********* ┆           ┆           ┆          │\n",
       "│ CS0158040 ┆ 松谷 米蔵 ┆ 0         ┆ 1931-05-0 ┆ … ┆ 東京都江  ┆ S13015    ┆ 20150607  ┆ 0-000000 │\n",
       "│ 00004     ┆           ┆           ┆ 2         ┆   ┆ 東区北砂* ┆           ┆           ┆ 00-0     │\n",
       "│           ┆           ┆           ┆           ┆   ┆ ********* ┆           ┆           ┆          │\n",
       "│ CS0335130 ┆ 安斎 遥   ┆ 1         ┆ 1962-07-1 ┆ … ┆ 神奈川県  ┆ S14033    ┆ 20150728  ┆ 6-200805 │\n",
       "│ 00180     ┆           ┆           ┆ 1         ┆   ┆ 横浜市旭  ┆           ┆           ┆ 06-5     │\n",
       "│           ┆           ┆           ┆           ┆   ┆ 区善部町* ┆           ┆           ┆          │\n",
       "│           ┆           ┆           ┆           ┆   ┆ ********* ┆           ┆           ┆          │\n",
       "└───────────┴───────────┴───────────┴───────────┴───┴───────────┴───────────┴───────────┴──────────┘"
      ]
     },
     "metadata": {},
     "output_type": "display_data"
    }
   ],
   "source": [
    "df_092_gender = df_customer.select(\n",
    "    \"gender_cd\", \"gender\"\n",
    ").unique()  # genderはgender_cdの従属関係 -> 切り離す\n",
    "df_092_customer = df_customer.drop(\"gender\")\n",
    "\n",
    "display(df_092_gender)\n",
    "\n",
    "display(df_092_customer.head(10))"
   ]
  },
  {
   "attachments": {},
   "cell_type": "markdown",
   "metadata": {},
   "source": [
    "---\n",
    "> P-093: 商品データ（df_product）では各カテゴリのコード値だけを保有し、カテゴリ名は保有していない。カテゴリデータ（df_category）と組み合わせて非正規化し、カテゴリ名を保有した新たな商品データを作成せよ。"
   ]
  },
  {
   "cell_type": "code",
   "execution_count": 113,
   "metadata": {},
   "outputs": [
    {
     "data": {
      "text/html": [
       "<div><style>\n",
       ".dataframe > thead > tr,\n",
       ".dataframe > tbody > tr {\n",
       "  text-align: right;\n",
       "  white-space: pre-wrap;\n",
       "}\n",
       "</style>\n",
       "<small>shape: (10, 9)</small><table border=\"1\" class=\"dataframe\"><thead><tr><th>product_cd</th><th>category_major_cd</th><th>category_medium_cd</th><th>category_small_cd</th><th>unit_price</th><th>unit_cost</th><th>category_major_name</th><th>category_medium_name</th><th>category_small_name</th></tr><tr><td>str</td><td>str</td><td>str</td><td>str</td><td>i64</td><td>i64</td><td>str</td><td>str</td><td>str</td></tr></thead><tbody><tr><td>&quot;P040101001&quot;</td><td>&quot;04&quot;</td><td>&quot;0401&quot;</td><td>&quot;040101&quot;</td><td>198</td><td>149</td><td>&quot;惣菜&quot;</td><td>&quot;御飯類&quot;</td><td>&quot;弁当類&quot;</td></tr><tr><td>&quot;P040101002&quot;</td><td>&quot;04&quot;</td><td>&quot;0401&quot;</td><td>&quot;040101&quot;</td><td>218</td><td>164</td><td>&quot;惣菜&quot;</td><td>&quot;御飯類&quot;</td><td>&quot;弁当類&quot;</td></tr><tr><td>&quot;P040101003&quot;</td><td>&quot;04&quot;</td><td>&quot;0401&quot;</td><td>&quot;040101&quot;</td><td>230</td><td>173</td><td>&quot;惣菜&quot;</td><td>&quot;御飯類&quot;</td><td>&quot;弁当類&quot;</td></tr><tr><td>&quot;P040101004&quot;</td><td>&quot;04&quot;</td><td>&quot;0401&quot;</td><td>&quot;040101&quot;</td><td>248</td><td>186</td><td>&quot;惣菜&quot;</td><td>&quot;御飯類&quot;</td><td>&quot;弁当類&quot;</td></tr><tr><td>&quot;P040101005&quot;</td><td>&quot;04&quot;</td><td>&quot;0401&quot;</td><td>&quot;040101&quot;</td><td>268</td><td>201</td><td>&quot;惣菜&quot;</td><td>&quot;御飯類&quot;</td><td>&quot;弁当類&quot;</td></tr><tr><td>&quot;P040101006&quot;</td><td>&quot;04&quot;</td><td>&quot;0401&quot;</td><td>&quot;040101&quot;</td><td>298</td><td>224</td><td>&quot;惣菜&quot;</td><td>&quot;御飯類&quot;</td><td>&quot;弁当類&quot;</td></tr><tr><td>&quot;P040101007&quot;</td><td>&quot;04&quot;</td><td>&quot;0401&quot;</td><td>&quot;040101&quot;</td><td>338</td><td>254</td><td>&quot;惣菜&quot;</td><td>&quot;御飯類&quot;</td><td>&quot;弁当類&quot;</td></tr><tr><td>&quot;P040101008&quot;</td><td>&quot;04&quot;</td><td>&quot;0401&quot;</td><td>&quot;040101&quot;</td><td>420</td><td>315</td><td>&quot;惣菜&quot;</td><td>&quot;御飯類&quot;</td><td>&quot;弁当類&quot;</td></tr><tr><td>&quot;P040101009&quot;</td><td>&quot;04&quot;</td><td>&quot;0401&quot;</td><td>&quot;040101&quot;</td><td>498</td><td>374</td><td>&quot;惣菜&quot;</td><td>&quot;御飯類&quot;</td><td>&quot;弁当類&quot;</td></tr><tr><td>&quot;P040101010&quot;</td><td>&quot;04&quot;</td><td>&quot;0401&quot;</td><td>&quot;040101&quot;</td><td>580</td><td>435</td><td>&quot;惣菜&quot;</td><td>&quot;御飯類&quot;</td><td>&quot;弁当類&quot;</td></tr></tbody></table></div>"
      ],
      "text/plain": [
       "shape: (10, 9)\n",
       "┌───────────┬───────────┬───────────┬───────────┬───┬───────────┬───────────┬───────────┬──────────┐\n",
       "│ product_c ┆ category_ ┆ category_ ┆ category_ ┆ … ┆ unit_cost ┆ category_ ┆ category_ ┆ category │\n",
       "│ d         ┆ major_cd  ┆ medium_cd ┆ small_cd  ┆   ┆ ---       ┆ major_nam ┆ medium_na ┆ _small_n │\n",
       "│ ---       ┆ ---       ┆ ---       ┆ ---       ┆   ┆ i64       ┆ e         ┆ me        ┆ ame      │\n",
       "│ str       ┆ str       ┆ str       ┆ str       ┆   ┆           ┆ ---       ┆ ---       ┆ ---      │\n",
       "│           ┆           ┆           ┆           ┆   ┆           ┆ str       ┆ str       ┆ str      │\n",
       "╞═══════════╪═══════════╪═══════════╪═══════════╪═══╪═══════════╪═══════════╪═══════════╪══════════╡\n",
       "│ P04010100 ┆ 04        ┆ 0401      ┆ 040101    ┆ … ┆ 149       ┆ 惣菜      ┆ 御飯類    ┆ 弁当類   │\n",
       "│ 1         ┆           ┆           ┆           ┆   ┆           ┆           ┆           ┆          │\n",
       "│ P04010100 ┆ 04        ┆ 0401      ┆ 040101    ┆ … ┆ 164       ┆ 惣菜      ┆ 御飯類    ┆ 弁当類   │\n",
       "│ 2         ┆           ┆           ┆           ┆   ┆           ┆           ┆           ┆          │\n",
       "│ P04010100 ┆ 04        ┆ 0401      ┆ 040101    ┆ … ┆ 173       ┆ 惣菜      ┆ 御飯類    ┆ 弁当類   │\n",
       "│ 3         ┆           ┆           ┆           ┆   ┆           ┆           ┆           ┆          │\n",
       "│ P04010100 ┆ 04        ┆ 0401      ┆ 040101    ┆ … ┆ 186       ┆ 惣菜      ┆ 御飯類    ┆ 弁当類   │\n",
       "│ 4         ┆           ┆           ┆           ┆   ┆           ┆           ┆           ┆          │\n",
       "│ P04010100 ┆ 04        ┆ 0401      ┆ 040101    ┆ … ┆ 201       ┆ 惣菜      ┆ 御飯類    ┆ 弁当類   │\n",
       "│ 5         ┆           ┆           ┆           ┆   ┆           ┆           ┆           ┆          │\n",
       "│ P04010100 ┆ 04        ┆ 0401      ┆ 040101    ┆ … ┆ 224       ┆ 惣菜      ┆ 御飯類    ┆ 弁当類   │\n",
       "│ 6         ┆           ┆           ┆           ┆   ┆           ┆           ┆           ┆          │\n",
       "│ P04010100 ┆ 04        ┆ 0401      ┆ 040101    ┆ … ┆ 254       ┆ 惣菜      ┆ 御飯類    ┆ 弁当類   │\n",
       "│ 7         ┆           ┆           ┆           ┆   ┆           ┆           ┆           ┆          │\n",
       "│ P04010100 ┆ 04        ┆ 0401      ┆ 040101    ┆ … ┆ 315       ┆ 惣菜      ┆ 御飯類    ┆ 弁当類   │\n",
       "│ 8         ┆           ┆           ┆           ┆   ┆           ┆           ┆           ┆          │\n",
       "│ P04010100 ┆ 04        ┆ 0401      ┆ 040101    ┆ … ┆ 374       ┆ 惣菜      ┆ 御飯類    ┆ 弁当類   │\n",
       "│ 9         ┆           ┆           ┆           ┆   ┆           ┆           ┆           ┆          │\n",
       "│ P04010101 ┆ 04        ┆ 0401      ┆ 040101    ┆ … ┆ 435       ┆ 惣菜      ┆ 御飯類    ┆ 弁当類   │\n",
       "│ 0         ┆           ┆           ┆           ┆   ┆           ┆           ┆           ┆          │\n",
       "└───────────┴───────────┴───────────┴───────────┴───┴───────────┴───────────┴───────────┴──────────┘"
      ]
     },
     "execution_count": 113,
     "metadata": {},
     "output_type": "execute_result"
    }
   ],
   "source": [
    "df_093 = df_product.join(\n",
    "    df_category.select(\n",
    "        \"category_small_cd\",\n",
    "        \"category_major_name\",\n",
    "        \"category_medium_name\",\n",
    "        \"category_small_name\",\n",
    "    ),\n",
    "    how=\"left\",\n",
    "    on=\"category_small_cd\",\n",
    ")\n",
    "\n",
    "df_093.head(10)"
   ]
  },
  {
   "attachments": {},
   "cell_type": "markdown",
   "metadata": {},
   "source": [
    "## ファイル入出力"
   ]
  },
  {
   "attachments": {},
   "cell_type": "markdown",
   "metadata": {},
   "source": [
    "---\n",
    "> P-094: 093で作成したカテゴリ名付き商品データを以下の仕様でファイル出力せよ。\n",
    ">\n",
    "> |ファイル形式|ヘッダ有無|文字エンコーディング|\n",
    "> |:--:|:--:|:--:|\n",
    "> |CSV（カンマ区切り）|有り|UTF-8|\n",
    "> \n",
    "> ファイル出力先のパスは以下のようにすること\n",
    "> \n",
    "> |出力先|\n",
    "> |:--:|\n",
    "> |./data|"
   ]
  },
  {
   "cell_type": "code",
   "execution_count": 114,
   "metadata": {},
   "outputs": [],
   "source": [
    "df_093.write_csv(\n",
    "    file=\"../data/P_df_093_UTF-9_header.csv\",\n",
    "    include_header=True,\n",
    "    separator=\",\"\n",
    ")"
   ]
  },
  {
   "attachments": {},
   "cell_type": "markdown",
   "metadata": {},
   "source": [
    "---\n",
    "> P-095: 093で作成したカテゴリ名付き商品データを以下の仕様でファイル出力せよ。\n",
    ">\n",
    "> |ファイル形式|ヘッダ有無|文字エンコーディング|\n",
    "> |:--:|:--:|:--:|\n",
    "> |CSV（カンマ区切り）|有り|CP932|\n",
    "> \n",
    "> ファイル出力先のパスは以下のようにすること。\n",
    "> \n",
    "> |出力先|\n",
    "> |:--:|\n",
    "> |./data|"
   ]
  },
  {
   "cell_type": "code",
   "execution_count": 115,
   "metadata": {},
   "outputs": [],
   "source": [
    "# polarsはencoding:utf-8しか対応していない\n",
    "# pandasに変換\n",
    "# import pyarrow as pa\n",
    "# pa.Table()\n",
    "# df_093.to_pandas()\n",
    "# write_csv(file=\"../data/P_df_093_CP932_header.csv\", encoding=\"CP932\", header=False\n",
    "# )"
   ]
  },
  {
   "attachments": {},
   "cell_type": "markdown",
   "metadata": {},
   "source": [
    "---\n",
    "> P-096: 093で作成したカテゴリ名付き商品データを以下の仕様でファイル出力せよ。\n",
    ">\n",
    "> |ファイル形式|ヘッダ有無|文字エンコーディング|\n",
    "> |:--:|:--:|:--:|\n",
    "> |CSV（カンマ区切り）|無し|UTF-8|\n",
    "> \n",
    "> ファイル出力先のパスは以下のようにすること。\n",
    "> \n",
    "> |出力先|\n",
    "> |:--:|\n",
    "> |./data|"
   ]
  },
  {
   "cell_type": "code",
   "execution_count": 116,
   "metadata": {},
   "outputs": [],
   "source": [
    "df_093.write_csv(file=\"../data/P_df_093_UTF-9_noh.csv\", include_header=False)"
   ]
  },
  {
   "attachments": {},
   "cell_type": "markdown",
   "metadata": {},
   "source": [
    "---\n",
    "> P-097: 094で作成した以下形式のファイルを読み込み、データを3件を表示させて正しく取り込まれていることを確認せよ。\n",
    "> \n",
    "> |ファイル形式|ヘッダ有無|文字エンコーディング|\n",
    "> |:--:|:--:|:--:|\n",
    "> |CSV（カンマ区切り）|有り|UTF-8|"
   ]
  },
  {
   "cell_type": "code",
   "execution_count": 117,
   "metadata": {},
   "outputs": [
    {
     "data": {
      "text/html": [
       "<div><style>\n",
       ".dataframe > thead > tr,\n",
       ".dataframe > tbody > tr {\n",
       "  text-align: right;\n",
       "  white-space: pre-wrap;\n",
       "}\n",
       "</style>\n",
       "<small>shape: (3, 9)</small><table border=\"1\" class=\"dataframe\"><thead><tr><th>product_cd</th><th>category_major_cd</th><th>category_medium_cd</th><th>category_small_cd</th><th>unit_price</th><th>unit_cost</th><th>category_major_name</th><th>category_medium_name</th><th>category_small_name</th></tr><tr><td>str</td><td>i64</td><td>i64</td><td>i64</td><td>i64</td><td>i64</td><td>str</td><td>str</td><td>str</td></tr></thead><tbody><tr><td>&quot;P040101001&quot;</td><td>4</td><td>401</td><td>40101</td><td>198</td><td>149</td><td>&quot;惣菜&quot;</td><td>&quot;御飯類&quot;</td><td>&quot;弁当類&quot;</td></tr><tr><td>&quot;P040101002&quot;</td><td>4</td><td>401</td><td>40101</td><td>218</td><td>164</td><td>&quot;惣菜&quot;</td><td>&quot;御飯類&quot;</td><td>&quot;弁当類&quot;</td></tr><tr><td>&quot;P040101003&quot;</td><td>4</td><td>401</td><td>40101</td><td>230</td><td>173</td><td>&quot;惣菜&quot;</td><td>&quot;御飯類&quot;</td><td>&quot;弁当類&quot;</td></tr></tbody></table></div>"
      ],
      "text/plain": [
       "shape: (3, 9)\n",
       "┌───────────┬───────────┬───────────┬───────────┬───┬───────────┬───────────┬───────────┬──────────┐\n",
       "│ product_c ┆ category_ ┆ category_ ┆ category_ ┆ … ┆ unit_cost ┆ category_ ┆ category_ ┆ category │\n",
       "│ d         ┆ major_cd  ┆ medium_cd ┆ small_cd  ┆   ┆ ---       ┆ major_nam ┆ medium_na ┆ _small_n │\n",
       "│ ---       ┆ ---       ┆ ---       ┆ ---       ┆   ┆ i64       ┆ e         ┆ me        ┆ ame      │\n",
       "│ str       ┆ i64       ┆ i64       ┆ i64       ┆   ┆           ┆ ---       ┆ ---       ┆ ---      │\n",
       "│           ┆           ┆           ┆           ┆   ┆           ┆ str       ┆ str       ┆ str      │\n",
       "╞═══════════╪═══════════╪═══════════╪═══════════╪═══╪═══════════╪═══════════╪═══════════╪══════════╡\n",
       "│ P04010100 ┆ 4         ┆ 401       ┆ 40101     ┆ … ┆ 149       ┆ 惣菜      ┆ 御飯類    ┆ 弁当類   │\n",
       "│ 1         ┆           ┆           ┆           ┆   ┆           ┆           ┆           ┆          │\n",
       "│ P04010100 ┆ 4         ┆ 401       ┆ 40101     ┆ … ┆ 164       ┆ 惣菜      ┆ 御飯類    ┆ 弁当類   │\n",
       "│ 2         ┆           ┆           ┆           ┆   ┆           ┆           ┆           ┆          │\n",
       "│ P04010100 ┆ 4         ┆ 401       ┆ 40101     ┆ … ┆ 173       ┆ 惣菜      ┆ 御飯類    ┆ 弁当類   │\n",
       "│ 3         ┆           ┆           ┆           ┆   ┆           ┆           ┆           ┆          │\n",
       "└───────────┴───────────┴───────────┴───────────┴───┴───────────┴───────────┴───────────┴──────────┘"
      ]
     },
     "execution_count": 117,
     "metadata": {},
     "output_type": "execute_result"
    }
   ],
   "source": [
    "df_097 = pl.read_csv(\"../data/P_df_093_UTF-9_header.csv\")\n",
    "df_097.head(3)"
   ]
  },
  {
   "attachments": {},
   "cell_type": "markdown",
   "metadata": {},
   "source": [
    "---\n",
    "> P-098: 096で作成した以下形式のファイルを読み込み、データを3件を表示させて正しく取り込まれていることを確認せよ。\n",
    "> \n",
    "> |ファイル形式|ヘッダ有無|文字エンコーディング|\n",
    "> |:--:|:--:|:--:|\n",
    "> |CSV（カンマ区切り）|ヘッダ無し|UTF-8|"
   ]
  },
  {
   "cell_type": "code",
   "execution_count": 118,
   "metadata": {},
   "outputs": [
    {
     "data": {
      "text/html": [
       "<div><style>\n",
       ".dataframe > thead > tr,\n",
       ".dataframe > tbody > tr {\n",
       "  text-align: right;\n",
       "  white-space: pre-wrap;\n",
       "}\n",
       "</style>\n",
       "<small>shape: (3, 9)</small><table border=\"1\" class=\"dataframe\"><thead><tr><th>product_cd</th><th>category_major_cd</th><th>category_medium_cd</th><th>category_small_cd</th><th>unit_price</th><th>unit_cost</th><th>category_major_name</th><th>category_medium_name</th><th>category_small_name</th></tr><tr><td>str</td><td>i64</td><td>i64</td><td>i64</td><td>i64</td><td>i64</td><td>str</td><td>str</td><td>str</td></tr></thead><tbody><tr><td>&quot;P040101001&quot;</td><td>4</td><td>401</td><td>40101</td><td>198</td><td>149</td><td>&quot;惣菜&quot;</td><td>&quot;御飯類&quot;</td><td>&quot;弁当類&quot;</td></tr><tr><td>&quot;P040101002&quot;</td><td>4</td><td>401</td><td>40101</td><td>218</td><td>164</td><td>&quot;惣菜&quot;</td><td>&quot;御飯類&quot;</td><td>&quot;弁当類&quot;</td></tr><tr><td>&quot;P040101003&quot;</td><td>4</td><td>401</td><td>40101</td><td>230</td><td>173</td><td>&quot;惣菜&quot;</td><td>&quot;御飯類&quot;</td><td>&quot;弁当類&quot;</td></tr></tbody></table></div>"
      ],
      "text/plain": [
       "shape: (3, 9)\n",
       "┌───────────┬───────────┬───────────┬───────────┬───┬───────────┬───────────┬───────────┬──────────┐\n",
       "│ product_c ┆ category_ ┆ category_ ┆ category_ ┆ … ┆ unit_cost ┆ category_ ┆ category_ ┆ category │\n",
       "│ d         ┆ major_cd  ┆ medium_cd ┆ small_cd  ┆   ┆ ---       ┆ major_nam ┆ medium_na ┆ _small_n │\n",
       "│ ---       ┆ ---       ┆ ---       ┆ ---       ┆   ┆ i64       ┆ e         ┆ me        ┆ ame      │\n",
       "│ str       ┆ i64       ┆ i64       ┆ i64       ┆   ┆           ┆ ---       ┆ ---       ┆ ---      │\n",
       "│           ┆           ┆           ┆           ┆   ┆           ┆ str       ┆ str       ┆ str      │\n",
       "╞═══════════╪═══════════╪═══════════╪═══════════╪═══╪═══════════╪═══════════╪═══════════╪══════════╡\n",
       "│ P04010100 ┆ 4         ┆ 401       ┆ 40101     ┆ … ┆ 149       ┆ 惣菜      ┆ 御飯類    ┆ 弁当類   │\n",
       "│ 1         ┆           ┆           ┆           ┆   ┆           ┆           ┆           ┆          │\n",
       "│ P04010100 ┆ 4         ┆ 401       ┆ 40101     ┆ … ┆ 164       ┆ 惣菜      ┆ 御飯類    ┆ 弁当類   │\n",
       "│ 2         ┆           ┆           ┆           ┆   ┆           ┆           ┆           ┆          │\n",
       "│ P04010100 ┆ 4         ┆ 401       ┆ 40101     ┆ … ┆ 173       ┆ 惣菜      ┆ 御飯類    ┆ 弁当類   │\n",
       "│ 3         ┆           ┆           ┆           ┆   ┆           ┆           ┆           ┆          │\n",
       "└───────────┴───────────┴───────────┴───────────┴───┴───────────┴───────────┴───────────┴──────────┘"
      ]
     },
     "execution_count": 118,
     "metadata": {},
     "output_type": "execute_result"
    }
   ],
   "source": [
    "df_098 = pl.read_csv(\n",
    "    source=\"../data/P_df_093_UTF-9_noh.csv\",\n",
    "    has_header=False,\n",
    "    # new_columnsなしだと、column1, column2,...のようなカラム名になる\n",
    "    new_columns=[\n",
    "        \"product_cd\",\n",
    "        \"category_major_cd\",\n",
    "        \"category_medium_cd\",\n",
    "        \"category_small_cd\",\n",
    "        \"unit_price\",\n",
    "        \"unit_cost\",\n",
    "        \"category_major_name\",\n",
    "        \"category_medium_name\",\n",
    "        \"category_small_name\",\n",
    "    ],\n",
    ")\n",
    "\n",
    "df_098.head(3)"
   ]
  },
  {
   "attachments": {},
   "cell_type": "markdown",
   "metadata": {},
   "source": [
    "---\n",
    "> P-099: 093で作成したカテゴリ名付き商品データを以下の仕様でファイル出力せよ。\n",
    ">\n",
    "> |ファイル形式|ヘッダ有無|文字エンコーディング|\n",
    "> |:--:|:--:|:--:|\n",
    "> |TSV（タブ区切り）|有り|UTF-8|\n",
    "> \n",
    "> ファイル出力先のパスは以下のようにすること\n",
    "> \n",
    "> |出力先|\n",
    "> |:--:|\n",
    "> |./data|"
   ]
  },
  {
   "cell_type": "code",
   "execution_count": 119,
   "metadata": {},
   "outputs": [],
   "source": [
    "# separatorでタブで分割\n",
    "df_093.write_csv(\"../data/P_df_093_UTF-9_header.tsv\", include_header=True, separator=\"\\t\")"
   ]
  },
  {
   "attachments": {},
   "cell_type": "markdown",
   "metadata": {},
   "source": [
    "---\n",
    "> P-100: 099で作成した以下形式のファイルを読み込み、データを3件を表示させて正しく取り込まれていることを確認せよ。\n",
    "> \n",
    "> |ファイル形式|ヘッダ有無|文字エンコーディング|\n",
    "> |:--:|:--:|:--:|\n",
    "> |TSV（タブ区切り）|有り|UTF-8|"
   ]
  },
  {
   "cell_type": "code",
   "execution_count": 120,
   "metadata": {},
   "outputs": [
    {
     "data": {
      "text/html": [
       "<div><style>\n",
       ".dataframe > thead > tr,\n",
       ".dataframe > tbody > tr {\n",
       "  text-align: right;\n",
       "  white-space: pre-wrap;\n",
       "}\n",
       "</style>\n",
       "<small>shape: (3, 9)</small><table border=\"1\" class=\"dataframe\"><thead><tr><th>product_cd</th><th>category_major_cd</th><th>category_medium_cd</th><th>category_small_cd</th><th>unit_price</th><th>unit_cost</th><th>category_major_name</th><th>category_medium_name</th><th>category_small_name</th></tr><tr><td>str</td><td>i64</td><td>i64</td><td>i64</td><td>i64</td><td>i64</td><td>str</td><td>str</td><td>str</td></tr></thead><tbody><tr><td>&quot;P040101001&quot;</td><td>4</td><td>401</td><td>40101</td><td>198</td><td>149</td><td>&quot;惣菜&quot;</td><td>&quot;御飯類&quot;</td><td>&quot;弁当類&quot;</td></tr><tr><td>&quot;P040101002&quot;</td><td>4</td><td>401</td><td>40101</td><td>218</td><td>164</td><td>&quot;惣菜&quot;</td><td>&quot;御飯類&quot;</td><td>&quot;弁当類&quot;</td></tr><tr><td>&quot;P040101003&quot;</td><td>4</td><td>401</td><td>40101</td><td>230</td><td>173</td><td>&quot;惣菜&quot;</td><td>&quot;御飯類&quot;</td><td>&quot;弁当類&quot;</td></tr></tbody></table></div>"
      ],
      "text/plain": [
       "shape: (3, 9)\n",
       "┌───────────┬───────────┬───────────┬───────────┬───┬───────────┬───────────┬───────────┬──────────┐\n",
       "│ product_c ┆ category_ ┆ category_ ┆ category_ ┆ … ┆ unit_cost ┆ category_ ┆ category_ ┆ category │\n",
       "│ d         ┆ major_cd  ┆ medium_cd ┆ small_cd  ┆   ┆ ---       ┆ major_nam ┆ medium_na ┆ _small_n │\n",
       "│ ---       ┆ ---       ┆ ---       ┆ ---       ┆   ┆ i64       ┆ e         ┆ me        ┆ ame      │\n",
       "│ str       ┆ i64       ┆ i64       ┆ i64       ┆   ┆           ┆ ---       ┆ ---       ┆ ---      │\n",
       "│           ┆           ┆           ┆           ┆   ┆           ┆ str       ┆ str       ┆ str      │\n",
       "╞═══════════╪═══════════╪═══════════╪═══════════╪═══╪═══════════╪═══════════╪═══════════╪══════════╡\n",
       "│ P04010100 ┆ 4         ┆ 401       ┆ 40101     ┆ … ┆ 149       ┆ 惣菜      ┆ 御飯類    ┆ 弁当類   │\n",
       "│ 1         ┆           ┆           ┆           ┆   ┆           ┆           ┆           ┆          │\n",
       "│ P04010100 ┆ 4         ┆ 401       ┆ 40101     ┆ … ┆ 164       ┆ 惣菜      ┆ 御飯類    ┆ 弁当類   │\n",
       "│ 2         ┆           ┆           ┆           ┆   ┆           ┆           ┆           ┆          │\n",
       "│ P04010100 ┆ 4         ┆ 401       ┆ 40101     ┆ … ┆ 173       ┆ 惣菜      ┆ 御飯類    ┆ 弁当類   │\n",
       "│ 3         ┆           ┆           ┆           ┆   ┆           ┆           ┆           ┆          │\n",
       "└───────────┴───────────┴───────────┴───────────┴───┴───────────┴───────────┴───────────┴──────────┘"
      ]
     },
     "execution_count": 120,
     "metadata": {},
     "output_type": "execute_result"
    }
   ],
   "source": [
    "df_100 = pl.read_csv(\n",
    "    source=\"../data/P_df_093_UTF-9_header.tsv\", has_header=True, separator=\"\\t\"\n",
    ")\n",
    "\n",
    "df_100.head(3)"
   ]
  },
  {
   "attachments": {},
   "cell_type": "markdown",
   "metadata": {},
   "source": [
    "問題はここで終了です。お疲れ様でした。"
   ]
  }
 ],
 "metadata": {
  "kernelspec": {
   "display_name": ".venv",
   "language": "python",
   "name": "python3"
  },
  "language_info": {
   "codemirror_mode": {
    "name": "ipython",
    "version": 3
   },
   "file_extension": ".py",
   "mimetype": "text/x-python",
   "name": "python",
   "nbconvert_exporter": "python",
   "pygments_lexer": "ipython3",
   "version": "3.11.9"
  },
  "orig_nbformat": 4
 },
 "nbformat": 4,
 "nbformat_minor": 2
}
