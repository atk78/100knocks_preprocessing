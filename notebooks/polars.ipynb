{
 "cells": [
  {
   "cell_type": "code",
   "execution_count": 1,
   "metadata": {},
   "outputs": [
    {
     "name": "stdout",
     "output_type": "stream",
     "text": [
      "pandasと異なる部分:\n",
      "1. shapeが表示される\n",
      "2. データ型が表示される\n",
      "3. indexが存在しない\n"
     ]
    }
   ],
   "source": [
    "# ライブラリのimport\n",
    "import polars as pl\n",
    "import numpy as np\n",
    "import math\n",
    "from sklearn.model_selection import train_test_split, TimeSeriesSplit\n",
    "\n",
    "\n",
    "# dtypeの設定\n",
    "dtypes = {\n",
    "    \"customer_id\": str,\n",
    "    \"gender_cd\": str,\n",
    "    \"postal_cd\": str,\n",
    "    \"application_store_cd\": str,\n",
    "    \"status_cd\": str,\n",
    "    \"category_major_cd\": str,\n",
    "    \"category_medium_cd\": str,\n",
    "    \"category_small_cd\": str,\n",
    "    \"product_cd\": str,\n",
    "    \"store_cd\": str,\n",
    "    \"prefecture_cd\": str,\n",
    "    \"tel_no\": str,\n",
    "    \"postal_cd\": str,\n",
    "    \"street\": str,\n",
    "    \"application_date\": str,\n",
    "    \"birth_day\": str,\n",
    "}\n",
    "\n",
    "# DataFrameの作成\n",
    "df_category = pl.read_csv(\"../data/category.csv\", dtypes=dtypes)\n",
    "df_customer = pl.read_csv(\"../data/customer.csv\", dtypes=dtypes)\n",
    "df_geocode = pl.read_csv(\"../data/geocode.csv\", dtypes=dtypes)\n",
    "df_product = pl.read_csv(\"../data/product.csv\", dtypes=dtypes)\n",
    "df_receipt = pl.read_csv(\"../data/receipt.csv\", dtypes=dtypes)\n",
    "df_store = pl.read_csv(\"../data/store.csv\", dtypes=dtypes)\n",
    "\n",
    "print(\"pandasと異なる部分:\")\n",
    "print(\"1. shapeが表示される\")\n",
    "print(\"2. データ型が表示される\")\n",
    "print(\"3. indexが存在しない\")"
   ]
  },
  {
   "attachments": {},
   "cell_type": "markdown",
   "metadata": {},
   "source": [
    "# 演習問題\n",
    "## 表示"
   ]
  },
  {
   "attachments": {},
   "cell_type": "markdown",
   "metadata": {},
   "source": [
    "---\n",
    "> P-001: レシート明細データ（df_receipt）から全項目の先頭10件を表示し、どのようなデータを保有しているか目視で確認せよ。"
   ]
  },
  {
   "cell_type": "code",
   "execution_count": 2,
   "metadata": {},
   "outputs": [
    {
     "data": {
      "text/html": [
       "<div><style>\n",
       ".dataframe > thead > tr,\n",
       ".dataframe > tbody > tr {\n",
       "  text-align: right;\n",
       "  white-space: pre-wrap;\n",
       "}\n",
       "</style>\n",
       "<small>shape: (10, 9)</small><table border=\"1\" class=\"dataframe\"><thead><tr><th>sales_ymd</th><th>sales_epoch</th><th>store_cd</th><th>receipt_no</th><th>receipt_sub_no</th><th>customer_id</th><th>product_cd</th><th>quantity</th><th>amount</th></tr><tr><td>i64</td><td>i64</td><td>str</td><td>i64</td><td>i64</td><td>str</td><td>str</td><td>i64</td><td>i64</td></tr></thead><tbody><tr><td>20181103</td><td>1541203200</td><td>&quot;S14006&quot;</td><td>112</td><td>1</td><td>&quot;CS006214000001…</td><td>&quot;P070305012&quot;</td><td>1</td><td>158</td></tr><tr><td>20181118</td><td>1542499200</td><td>&quot;S13008&quot;</td><td>1132</td><td>2</td><td>&quot;CS008415000097…</td><td>&quot;P070701017&quot;</td><td>1</td><td>81</td></tr><tr><td>20170712</td><td>1499817600</td><td>&quot;S14028&quot;</td><td>1102</td><td>1</td><td>&quot;CS028414000014…</td><td>&quot;P060101005&quot;</td><td>1</td><td>170</td></tr><tr><td>20190205</td><td>1549324800</td><td>&quot;S14042&quot;</td><td>1132</td><td>1</td><td>&quot;ZZ000000000000…</td><td>&quot;P050301001&quot;</td><td>1</td><td>25</td></tr><tr><td>20180821</td><td>1534809600</td><td>&quot;S14025&quot;</td><td>1102</td><td>2</td><td>&quot;CS025415000050…</td><td>&quot;P060102007&quot;</td><td>1</td><td>90</td></tr><tr><td>20190605</td><td>1559692800</td><td>&quot;S13003&quot;</td><td>1112</td><td>1</td><td>&quot;CS003515000195…</td><td>&quot;P050102002&quot;</td><td>1</td><td>138</td></tr><tr><td>20181205</td><td>1543968000</td><td>&quot;S14024&quot;</td><td>1102</td><td>2</td><td>&quot;CS024514000042…</td><td>&quot;P080101005&quot;</td><td>1</td><td>30</td></tr><tr><td>20190922</td><td>1569110400</td><td>&quot;S14040&quot;</td><td>1102</td><td>1</td><td>&quot;CS040415000178…</td><td>&quot;P070501004&quot;</td><td>1</td><td>128</td></tr><tr><td>20170504</td><td>1493856000</td><td>&quot;S13020&quot;</td><td>1112</td><td>2</td><td>&quot;ZZ000000000000…</td><td>&quot;P071302010&quot;</td><td>1</td><td>770</td></tr><tr><td>20191010</td><td>1570665600</td><td>&quot;S14027&quot;</td><td>1102</td><td>1</td><td>&quot;CS027514000015…</td><td>&quot;P071101003&quot;</td><td>1</td><td>680</td></tr></tbody></table></div>"
      ],
      "text/plain": [
       "shape: (10, 9)\n",
       "┌───────────┬────────────┬──────────┬────────────┬───┬────────────┬────────────┬──────────┬────────┐\n",
       "│ sales_ymd ┆ sales_epoc ┆ store_cd ┆ receipt_no ┆ … ┆ customer_i ┆ product_cd ┆ quantity ┆ amount │\n",
       "│ ---       ┆ h          ┆ ---      ┆ ---        ┆   ┆ d          ┆ ---        ┆ ---      ┆ ---    │\n",
       "│ i64       ┆ ---        ┆ str      ┆ i64        ┆   ┆ ---        ┆ str        ┆ i64      ┆ i64    │\n",
       "│           ┆ i64        ┆          ┆            ┆   ┆ str        ┆            ┆          ┆        │\n",
       "╞═══════════╪════════════╪══════════╪════════════╪═══╪════════════╪════════════╪══════════╪════════╡\n",
       "│ 20181103  ┆ 1541203200 ┆ S14006   ┆ 112        ┆ … ┆ CS00621400 ┆ P070305012 ┆ 1        ┆ 158    │\n",
       "│           ┆            ┆          ┆            ┆   ┆ 0001       ┆            ┆          ┆        │\n",
       "│ 20181118  ┆ 1542499200 ┆ S13008   ┆ 1132       ┆ … ┆ CS00841500 ┆ P070701017 ┆ 1        ┆ 81     │\n",
       "│           ┆            ┆          ┆            ┆   ┆ 0097       ┆            ┆          ┆        │\n",
       "│ 20170712  ┆ 1499817600 ┆ S14028   ┆ 1102       ┆ … ┆ CS02841400 ┆ P060101005 ┆ 1        ┆ 170    │\n",
       "│           ┆            ┆          ┆            ┆   ┆ 0014       ┆            ┆          ┆        │\n",
       "│ 20190205  ┆ 1549324800 ┆ S14042   ┆ 1132       ┆ … ┆ ZZ00000000 ┆ P050301001 ┆ 1        ┆ 25     │\n",
       "│           ┆            ┆          ┆            ┆   ┆ 0000       ┆            ┆          ┆        │\n",
       "│ …         ┆ …          ┆ …        ┆ …          ┆ … ┆ …          ┆ …          ┆ …        ┆ …      │\n",
       "│ 20181205  ┆ 1543968000 ┆ S14024   ┆ 1102       ┆ … ┆ CS02451400 ┆ P080101005 ┆ 1        ┆ 30     │\n",
       "│           ┆            ┆          ┆            ┆   ┆ 0042       ┆            ┆          ┆        │\n",
       "│ 20190922  ┆ 1569110400 ┆ S14040   ┆ 1102       ┆ … ┆ CS04041500 ┆ P070501004 ┆ 1        ┆ 128    │\n",
       "│           ┆            ┆          ┆            ┆   ┆ 0178       ┆            ┆          ┆        │\n",
       "│ 20170504  ┆ 1493856000 ┆ S13020   ┆ 1112       ┆ … ┆ ZZ00000000 ┆ P071302010 ┆ 1        ┆ 770    │\n",
       "│           ┆            ┆          ┆            ┆   ┆ 0000       ┆            ┆          ┆        │\n",
       "│ 20191010  ┆ 1570665600 ┆ S14027   ┆ 1102       ┆ … ┆ CS02751400 ┆ P071101003 ┆ 1        ┆ 680    │\n",
       "│           ┆            ┆          ┆            ┆   ┆ 0015       ┆            ┆          ┆        │\n",
       "└───────────┴────────────┴──────────┴────────────┴───┴────────────┴────────────┴──────────┴────────┘"
      ]
     },
     "execution_count": 2,
     "metadata": {},
     "output_type": "execute_result"
    }
   ],
   "source": [
    "df_receipt.head(10)"
   ]
  },
  {
   "cell_type": "code",
   "execution_count": 3,
   "metadata": {},
   "outputs": [
    {
     "data": {
      "text/html": [
       "<div><style>\n",
       ".dataframe > thead > tr,\n",
       ".dataframe > tbody > tr {\n",
       "  text-align: right;\n",
       "  white-space: pre-wrap;\n",
       "}\n",
       "</style>\n",
       "<small>shape: (10, 9)</small><table border=\"1\" class=\"dataframe\"><thead><tr><th>sales_ymd</th><th>sales_epoch</th><th>store_cd</th><th>receipt_no</th><th>receipt_sub_no</th><th>customer_id</th><th>product_cd</th><th>quantity</th><th>amount</th></tr><tr><td>i64</td><td>i64</td><td>str</td><td>i64</td><td>i64</td><td>str</td><td>str</td><td>i64</td><td>i64</td></tr></thead><tbody><tr><td>20181103</td><td>1541203200</td><td>&quot;S14006&quot;</td><td>112</td><td>1</td><td>&quot;CS006214000001…</td><td>&quot;P070305012&quot;</td><td>1</td><td>158</td></tr><tr><td>20181118</td><td>1542499200</td><td>&quot;S13008&quot;</td><td>1132</td><td>2</td><td>&quot;CS008415000097…</td><td>&quot;P070701017&quot;</td><td>1</td><td>81</td></tr><tr><td>20170712</td><td>1499817600</td><td>&quot;S14028&quot;</td><td>1102</td><td>1</td><td>&quot;CS028414000014…</td><td>&quot;P060101005&quot;</td><td>1</td><td>170</td></tr><tr><td>20190205</td><td>1549324800</td><td>&quot;S14042&quot;</td><td>1132</td><td>1</td><td>&quot;ZZ000000000000…</td><td>&quot;P050301001&quot;</td><td>1</td><td>25</td></tr><tr><td>20180821</td><td>1534809600</td><td>&quot;S14025&quot;</td><td>1102</td><td>2</td><td>&quot;CS025415000050…</td><td>&quot;P060102007&quot;</td><td>1</td><td>90</td></tr><tr><td>20190605</td><td>1559692800</td><td>&quot;S13003&quot;</td><td>1112</td><td>1</td><td>&quot;CS003515000195…</td><td>&quot;P050102002&quot;</td><td>1</td><td>138</td></tr><tr><td>20181205</td><td>1543968000</td><td>&quot;S14024&quot;</td><td>1102</td><td>2</td><td>&quot;CS024514000042…</td><td>&quot;P080101005&quot;</td><td>1</td><td>30</td></tr><tr><td>20190922</td><td>1569110400</td><td>&quot;S14040&quot;</td><td>1102</td><td>1</td><td>&quot;CS040415000178…</td><td>&quot;P070501004&quot;</td><td>1</td><td>128</td></tr><tr><td>20170504</td><td>1493856000</td><td>&quot;S13020&quot;</td><td>1112</td><td>2</td><td>&quot;ZZ000000000000…</td><td>&quot;P071302010&quot;</td><td>1</td><td>770</td></tr><tr><td>20191010</td><td>1570665600</td><td>&quot;S14027&quot;</td><td>1102</td><td>1</td><td>&quot;CS027514000015…</td><td>&quot;P071101003&quot;</td><td>1</td><td>680</td></tr></tbody></table></div>"
      ],
      "text/plain": [
       "shape: (10, 9)\n",
       "┌───────────┬────────────┬──────────┬────────────┬───┬────────────┬────────────┬──────────┬────────┐\n",
       "│ sales_ymd ┆ sales_epoc ┆ store_cd ┆ receipt_no ┆ … ┆ customer_i ┆ product_cd ┆ quantity ┆ amount │\n",
       "│ ---       ┆ h          ┆ ---      ┆ ---        ┆   ┆ d          ┆ ---        ┆ ---      ┆ ---    │\n",
       "│ i64       ┆ ---        ┆ str      ┆ i64        ┆   ┆ ---        ┆ str        ┆ i64      ┆ i64    │\n",
       "│           ┆ i64        ┆          ┆            ┆   ┆ str        ┆            ┆          ┆        │\n",
       "╞═══════════╪════════════╪══════════╪════════════╪═══╪════════════╪════════════╪══════════╪════════╡\n",
       "│ 20181103  ┆ 1541203200 ┆ S14006   ┆ 112        ┆ … ┆ CS00621400 ┆ P070305012 ┆ 1        ┆ 158    │\n",
       "│           ┆            ┆          ┆            ┆   ┆ 0001       ┆            ┆          ┆        │\n",
       "│ 20181118  ┆ 1542499200 ┆ S13008   ┆ 1132       ┆ … ┆ CS00841500 ┆ P070701017 ┆ 1        ┆ 81     │\n",
       "│           ┆            ┆          ┆            ┆   ┆ 0097       ┆            ┆          ┆        │\n",
       "│ 20170712  ┆ 1499817600 ┆ S14028   ┆ 1102       ┆ … ┆ CS02841400 ┆ P060101005 ┆ 1        ┆ 170    │\n",
       "│           ┆            ┆          ┆            ┆   ┆ 0014       ┆            ┆          ┆        │\n",
       "│ 20190205  ┆ 1549324800 ┆ S14042   ┆ 1132       ┆ … ┆ ZZ00000000 ┆ P050301001 ┆ 1        ┆ 25     │\n",
       "│           ┆            ┆          ┆            ┆   ┆ 0000       ┆            ┆          ┆        │\n",
       "│ …         ┆ …          ┆ …        ┆ …          ┆ … ┆ …          ┆ …          ┆ …        ┆ …      │\n",
       "│ 20181205  ┆ 1543968000 ┆ S14024   ┆ 1102       ┆ … ┆ CS02451400 ┆ P080101005 ┆ 1        ┆ 30     │\n",
       "│           ┆            ┆          ┆            ┆   ┆ 0042       ┆            ┆          ┆        │\n",
       "│ 20190922  ┆ 1569110400 ┆ S14040   ┆ 1102       ┆ … ┆ CS04041500 ┆ P070501004 ┆ 1        ┆ 128    │\n",
       "│           ┆            ┆          ┆            ┆   ┆ 0178       ┆            ┆          ┆        │\n",
       "│ 20170504  ┆ 1493856000 ┆ S13020   ┆ 1112       ┆ … ┆ ZZ00000000 ┆ P071302010 ┆ 1        ┆ 770    │\n",
       "│           ┆            ┆          ┆            ┆   ┆ 0000       ┆            ┆          ┆        │\n",
       "│ 20191010  ┆ 1570665600 ┆ S14027   ┆ 1102       ┆ … ┆ CS02751400 ┆ P071101003 ┆ 1        ┆ 680    │\n",
       "│           ┆            ┆          ┆            ┆   ┆ 0015       ┆            ┆          ┆        │\n",
       "└───────────┴────────────┴──────────┴────────────┴───┴────────────┴────────────┴──────────┴────────┘"
      ]
     },
     "execution_count": 3,
     "metadata": {},
     "output_type": "execute_result"
    }
   ],
   "source": [
    "# スライスでも可能\n",
    "df_receipt[:10]"
   ]
  },
  {
   "attachments": {},
   "cell_type": "markdown",
   "metadata": {},
   "source": [
    "---\n",
    "> P-002: レシート明細データ（df_receipt）から売上年月日（sales_ymd）、顧客ID（customer_id）、商品コード（product_cd）、売上金額（amount）の順に列を指定し、10件表示せよ。"
   ]
  },
  {
   "cell_type": "code",
   "execution_count": 4,
   "metadata": {},
   "outputs": [
    {
     "data": {
      "text/html": [
       "<div><style>\n",
       ".dataframe > thead > tr,\n",
       ".dataframe > tbody > tr {\n",
       "  text-align: right;\n",
       "  white-space: pre-wrap;\n",
       "}\n",
       "</style>\n",
       "<small>shape: (10, 4)</small><table border=\"1\" class=\"dataframe\"><thead><tr><th>sales_ymd</th><th>customer_id</th><th>product_cd</th><th>amount</th></tr><tr><td>i64</td><td>str</td><td>str</td><td>i64</td></tr></thead><tbody><tr><td>20181103</td><td>&quot;CS006214000001…</td><td>&quot;P070305012&quot;</td><td>158</td></tr><tr><td>20181118</td><td>&quot;CS008415000097…</td><td>&quot;P070701017&quot;</td><td>81</td></tr><tr><td>20170712</td><td>&quot;CS028414000014…</td><td>&quot;P060101005&quot;</td><td>170</td></tr><tr><td>20190205</td><td>&quot;ZZ000000000000…</td><td>&quot;P050301001&quot;</td><td>25</td></tr><tr><td>20180821</td><td>&quot;CS025415000050…</td><td>&quot;P060102007&quot;</td><td>90</td></tr><tr><td>20190605</td><td>&quot;CS003515000195…</td><td>&quot;P050102002&quot;</td><td>138</td></tr><tr><td>20181205</td><td>&quot;CS024514000042…</td><td>&quot;P080101005&quot;</td><td>30</td></tr><tr><td>20190922</td><td>&quot;CS040415000178…</td><td>&quot;P070501004&quot;</td><td>128</td></tr><tr><td>20170504</td><td>&quot;ZZ000000000000…</td><td>&quot;P071302010&quot;</td><td>770</td></tr><tr><td>20191010</td><td>&quot;CS027514000015…</td><td>&quot;P071101003&quot;</td><td>680</td></tr></tbody></table></div>"
      ],
      "text/plain": [
       "shape: (10, 4)\n",
       "┌───────────┬────────────────┬────────────┬────────┐\n",
       "│ sales_ymd ┆ customer_id    ┆ product_cd ┆ amount │\n",
       "│ ---       ┆ ---            ┆ ---        ┆ ---    │\n",
       "│ i64       ┆ str            ┆ str        ┆ i64    │\n",
       "╞═══════════╪════════════════╪════════════╪════════╡\n",
       "│ 20181103  ┆ CS006214000001 ┆ P070305012 ┆ 158    │\n",
       "│ 20181118  ┆ CS008415000097 ┆ P070701017 ┆ 81     │\n",
       "│ 20170712  ┆ CS028414000014 ┆ P060101005 ┆ 170    │\n",
       "│ 20190205  ┆ ZZ000000000000 ┆ P050301001 ┆ 25     │\n",
       "│ …         ┆ …              ┆ …          ┆ …      │\n",
       "│ 20181205  ┆ CS024514000042 ┆ P080101005 ┆ 30     │\n",
       "│ 20190922  ┆ CS040415000178 ┆ P070501004 ┆ 128    │\n",
       "│ 20170504  ┆ ZZ000000000000 ┆ P071302010 ┆ 770    │\n",
       "│ 20191010  ┆ CS027514000015 ┆ P071101003 ┆ 680    │\n",
       "└───────────┴────────────────┴────────────┴────────┘"
      ]
     },
     "execution_count": 4,
     "metadata": {},
     "output_type": "execute_result"
    }
   ],
   "source": [
    "# DataFrameから特定の列を選択する場合は.select()メソッドを用いる\n",
    "# .select()メソッドの中身はリスト型で渡してもいい\n",
    "df_receipt.select(\"sales_ymd\", \"customer_id\", \"product_cd\", \"amount\").head(10)"
   ]
  },
  {
   "cell_type": "code",
   "execution_count": 5,
   "metadata": {},
   "outputs": [
    {
     "data": {
      "text/html": [
       "<div><style>\n",
       ".dataframe > thead > tr,\n",
       ".dataframe > tbody > tr {\n",
       "  text-align: right;\n",
       "  white-space: pre-wrap;\n",
       "}\n",
       "</style>\n",
       "<small>shape: (10, 4)</small><table border=\"1\" class=\"dataframe\"><thead><tr><th>sales_ymd</th><th>customer_id</th><th>product_cd</th><th>amount</th></tr><tr><td>i64</td><td>str</td><td>str</td><td>i64</td></tr></thead><tbody><tr><td>20181103</td><td>&quot;CS006214000001…</td><td>&quot;P070305012&quot;</td><td>158</td></tr><tr><td>20181118</td><td>&quot;CS008415000097…</td><td>&quot;P070701017&quot;</td><td>81</td></tr><tr><td>20170712</td><td>&quot;CS028414000014…</td><td>&quot;P060101005&quot;</td><td>170</td></tr><tr><td>20190205</td><td>&quot;ZZ000000000000…</td><td>&quot;P050301001&quot;</td><td>25</td></tr><tr><td>20180821</td><td>&quot;CS025415000050…</td><td>&quot;P060102007&quot;</td><td>90</td></tr><tr><td>20190605</td><td>&quot;CS003515000195…</td><td>&quot;P050102002&quot;</td><td>138</td></tr><tr><td>20181205</td><td>&quot;CS024514000042…</td><td>&quot;P080101005&quot;</td><td>30</td></tr><tr><td>20190922</td><td>&quot;CS040415000178…</td><td>&quot;P070501004&quot;</td><td>128</td></tr><tr><td>20170504</td><td>&quot;ZZ000000000000…</td><td>&quot;P071302010&quot;</td><td>770</td></tr><tr><td>20191010</td><td>&quot;CS027514000015…</td><td>&quot;P071101003&quot;</td><td>680</td></tr></tbody></table></div>"
      ],
      "text/plain": [
       "shape: (10, 4)\n",
       "┌───────────┬────────────────┬────────────┬────────┐\n",
       "│ sales_ymd ┆ customer_id    ┆ product_cd ┆ amount │\n",
       "│ ---       ┆ ---            ┆ ---        ┆ ---    │\n",
       "│ i64       ┆ str            ┆ str        ┆ i64    │\n",
       "╞═══════════╪════════════════╪════════════╪════════╡\n",
       "│ 20181103  ┆ CS006214000001 ┆ P070305012 ┆ 158    │\n",
       "│ 20181118  ┆ CS008415000097 ┆ P070701017 ┆ 81     │\n",
       "│ 20170712  ┆ CS028414000014 ┆ P060101005 ┆ 170    │\n",
       "│ 20190205  ┆ ZZ000000000000 ┆ P050301001 ┆ 25     │\n",
       "│ …         ┆ …              ┆ …          ┆ …      │\n",
       "│ 20181205  ┆ CS024514000042 ┆ P080101005 ┆ 30     │\n",
       "│ 20190922  ┆ CS040415000178 ┆ P070501004 ┆ 128    │\n",
       "│ 20170504  ┆ ZZ000000000000 ┆ P071302010 ┆ 770    │\n",
       "│ 20191010  ┆ CS027514000015 ┆ P071101003 ┆ 680    │\n",
       "└───────────┴────────────────┴────────────┴────────┘"
      ]
     },
     "execution_count": 5,
     "metadata": {},
     "output_type": "execute_result"
    }
   ],
   "source": [
    "# エクスプレッション(pl.Expr())を渡してもいい\n",
    "df_receipt.select(\n",
    "    pl.col(\"sales_ymd\"), pl.col(\"customer_id\"), pl.col(\"product_cd\"), pl.col(\"amount\")\n",
    ").head(10)"
   ]
  },
  {
   "attachments": {},
   "cell_type": "markdown",
   "metadata": {},
   "source": [
    "---\n",
    "> P-003: レシート明細データ（df_receipt）から売上年月日（sales_ymd）、顧客ID（customer_id）、商品コード（product_cd）、売上金額（amount）の順に列を指定し、5件表示せよ。ただし、sales_ymdをsales_dateに項目名を変更しながら抽出すること。"
   ]
  },
  {
   "cell_type": "code",
   "execution_count": 6,
   "metadata": {},
   "outputs": [
    {
     "data": {
      "text/html": [
       "<div><style>\n",
       ".dataframe > thead > tr,\n",
       ".dataframe > tbody > tr {\n",
       "  text-align: right;\n",
       "  white-space: pre-wrap;\n",
       "}\n",
       "</style>\n",
       "<small>shape: (5, 4)</small><table border=\"1\" class=\"dataframe\"><thead><tr><th>sales_date</th><th>customer_id</th><th>product_cd</th><th>amount</th></tr><tr><td>i64</td><td>str</td><td>str</td><td>i64</td></tr></thead><tbody><tr><td>20181103</td><td>&quot;CS006214000001…</td><td>&quot;P070305012&quot;</td><td>158</td></tr><tr><td>20181118</td><td>&quot;CS008415000097…</td><td>&quot;P070701017&quot;</td><td>81</td></tr><tr><td>20170712</td><td>&quot;CS028414000014…</td><td>&quot;P060101005&quot;</td><td>170</td></tr><tr><td>20190205</td><td>&quot;ZZ000000000000…</td><td>&quot;P050301001&quot;</td><td>25</td></tr><tr><td>20180821</td><td>&quot;CS025415000050…</td><td>&quot;P060102007&quot;</td><td>90</td></tr></tbody></table></div>"
      ],
      "text/plain": [
       "shape: (5, 4)\n",
       "┌────────────┬────────────────┬────────────┬────────┐\n",
       "│ sales_date ┆ customer_id    ┆ product_cd ┆ amount │\n",
       "│ ---        ┆ ---            ┆ ---        ┆ ---    │\n",
       "│ i64        ┆ str            ┆ str        ┆ i64    │\n",
       "╞════════════╪════════════════╪════════════╪════════╡\n",
       "│ 20181103   ┆ CS006214000001 ┆ P070305012 ┆ 158    │\n",
       "│ 20181118   ┆ CS008415000097 ┆ P070701017 ┆ 81     │\n",
       "│ 20170712   ┆ CS028414000014 ┆ P060101005 ┆ 170    │\n",
       "│ 20190205   ┆ ZZ000000000000 ┆ P050301001 ┆ 25     │\n",
       "│ 20180821   ┆ CS025415000050 ┆ P060102007 ┆ 90     │\n",
       "└────────────┴────────────────┴────────────┴────────┘"
      ]
     },
     "execution_count": 6,
     "metadata": {},
     "output_type": "execute_result"
    }
   ],
   "source": [
    "# renameは辞書形式で行う(pandasも同じ感じ)\n",
    "\n",
    "df_003 = df_receipt.select(\"sales_ymd\", \"customer_id\", \"product_cd\", \"amount\").rename(\n",
    "    {\"sales_ymd\": \"sales_date\"}\n",
    ")\n",
    "\n",
    "df_003.head()"
   ]
  },
  {
   "cell_type": "code",
   "execution_count": 7,
   "metadata": {},
   "outputs": [
    {
     "data": {
      "text/html": [
       "<div><style>\n",
       ".dataframe > thead > tr,\n",
       ".dataframe > tbody > tr {\n",
       "  text-align: right;\n",
       "  white-space: pre-wrap;\n",
       "}\n",
       "</style>\n",
       "<small>shape: (5, 4)</small><table border=\"1\" class=\"dataframe\"><thead><tr><th>sales_date</th><th>customer_id</th><th>product_cd</th><th>amount</th></tr><tr><td>i64</td><td>str</td><td>str</td><td>i64</td></tr></thead><tbody><tr><td>20181103</td><td>&quot;CS006214000001…</td><td>&quot;P070305012&quot;</td><td>158</td></tr><tr><td>20181118</td><td>&quot;CS008415000097…</td><td>&quot;P070701017&quot;</td><td>81</td></tr><tr><td>20170712</td><td>&quot;CS028414000014…</td><td>&quot;P060101005&quot;</td><td>170</td></tr><tr><td>20190205</td><td>&quot;ZZ000000000000…</td><td>&quot;P050301001&quot;</td><td>25</td></tr><tr><td>20180821</td><td>&quot;CS025415000050…</td><td>&quot;P060102007&quot;</td><td>90</td></tr></tbody></table></div>"
      ],
      "text/plain": [
       "shape: (5, 4)\n",
       "┌────────────┬────────────────┬────────────┬────────┐\n",
       "│ sales_date ┆ customer_id    ┆ product_cd ┆ amount │\n",
       "│ ---        ┆ ---            ┆ ---        ┆ ---    │\n",
       "│ i64        ┆ str            ┆ str        ┆ i64    │\n",
       "╞════════════╪════════════════╪════════════╪════════╡\n",
       "│ 20181103   ┆ CS006214000001 ┆ P070305012 ┆ 158    │\n",
       "│ 20181118   ┆ CS008415000097 ┆ P070701017 ┆ 81     │\n",
       "│ 20170712   ┆ CS028414000014 ┆ P060101005 ┆ 170    │\n",
       "│ 20190205   ┆ ZZ000000000000 ┆ P050301001 ┆ 25     │\n",
       "│ 20180821   ┆ CS025415000050 ┆ P060102007 ┆ 90     │\n",
       "└────────────┴────────────────┴────────────┴────────┘"
      ]
     },
     "execution_count": 7,
     "metadata": {},
     "output_type": "execute_result"
    }
   ],
   "source": [
    "# aliasを用いた方法\n",
    "\n",
    "df_003 = df_receipt.select(\n",
    "    pl.col(\"sales_ymd\").alias(\"sales_date\"), \"customer_id\", \"product_cd\", \"amount\"\n",
    ")\n",
    "\n",
    "df_003.head()"
   ]
  },
  {
   "attachments": {},
   "cell_type": "markdown",
   "metadata": {},
   "source": [
    "## 抽出"
   ]
  },
  {
   "attachments": {},
   "cell_type": "markdown",
   "metadata": {},
   "source": [
    "---\n",
    "> P-004: レシート明細データ（df_receipt）から売上日（sales_ymd）、顧客ID（customer_id）、商品コード（product_cd）、売上金額（amount）の順に列を指定し、以下の条件を満たすデータを抽出せよ。\n",
    "> - 顧客ID（customer_id）が\"CS018205000001\""
   ]
  },
  {
   "cell_type": "code",
   "execution_count": 8,
   "metadata": {},
   "outputs": [
    {
     "data": {
      "text/html": [
       "<div><style>\n",
       ".dataframe > thead > tr,\n",
       ".dataframe > tbody > tr {\n",
       "  text-align: right;\n",
       "  white-space: pre-wrap;\n",
       "}\n",
       "</style>\n",
       "<small>shape: (5, 4)</small><table border=\"1\" class=\"dataframe\"><thead><tr><th>sales_ymd</th><th>customer_id</th><th>product_cd</th><th>amount</th></tr><tr><td>i64</td><td>str</td><td>str</td><td>i64</td></tr></thead><tbody><tr><td>20180911</td><td>&quot;CS018205000001…</td><td>&quot;P071401012&quot;</td><td>2200</td></tr><tr><td>20180414</td><td>&quot;CS018205000001…</td><td>&quot;P060104007&quot;</td><td>600</td></tr><tr><td>20170614</td><td>&quot;CS018205000001…</td><td>&quot;P050206001&quot;</td><td>990</td></tr><tr><td>20170614</td><td>&quot;CS018205000001…</td><td>&quot;P060702015&quot;</td><td>108</td></tr><tr><td>20190216</td><td>&quot;CS018205000001…</td><td>&quot;P071005024&quot;</td><td>102</td></tr></tbody></table></div>"
      ],
      "text/plain": [
       "shape: (5, 4)\n",
       "┌───────────┬────────────────┬────────────┬────────┐\n",
       "│ sales_ymd ┆ customer_id    ┆ product_cd ┆ amount │\n",
       "│ ---       ┆ ---            ┆ ---        ┆ ---    │\n",
       "│ i64       ┆ str            ┆ str        ┆ i64    │\n",
       "╞═══════════╪════════════════╪════════════╪════════╡\n",
       "│ 20180911  ┆ CS018205000001 ┆ P071401012 ┆ 2200   │\n",
       "│ 20180414  ┆ CS018205000001 ┆ P060104007 ┆ 600    │\n",
       "│ 20170614  ┆ CS018205000001 ┆ P050206001 ┆ 990    │\n",
       "│ 20170614  ┆ CS018205000001 ┆ P060702015 ┆ 108    │\n",
       "│ 20190216  ┆ CS018205000001 ┆ P071005024 ┆ 102    │\n",
       "└───────────┴────────────────┴────────────┴────────┘"
      ]
     },
     "execution_count": 8,
     "metadata": {},
     "output_type": "execute_result"
    }
   ],
   "source": [
    "# エクスプレッション(pl.expr())を渡してフィルタリングをする。(pandasの.query()メソッドに似ている)\n",
    "# pl.col()エクスプレッションは列選択を意味する\n",
    "# and -> &, or -> | で繋ぐことができる(pandasと同様)\n",
    "df_004 = df_receipt.select(\"sales_ymd\", \"customer_id\", \"product_cd\", \"amount\").filter(\n",
    "    pl.col(\"customer_id\") == \"CS018205000001\"\n",
    ")\n",
    "\n",
    "df_004.head()"
   ]
  },
  {
   "attachments": {},
   "cell_type": "markdown",
   "metadata": {},
   "source": [
    "---\n",
    "> P-005: レシート明細データ（df_receipt）から売上日（sales_ymd）、顧客ID（customer_id）、商品コード（product_cd）、売上金額（amount）の順に列を指定し、以下の全ての条件を満たすデータを抽出せよ。\n",
    "> - 顧客ID（customer_id）が\"CS018205000001\"\n",
    "> - 売上金額（amount）が1,000以上"
   ]
  },
  {
   "cell_type": "code",
   "execution_count": 9,
   "metadata": {},
   "outputs": [
    {
     "data": {
      "text/html": [
       "<div><style>\n",
       ".dataframe > thead > tr,\n",
       ".dataframe > tbody > tr {\n",
       "  text-align: right;\n",
       "  white-space: pre-wrap;\n",
       "}\n",
       "</style>\n",
       "<small>shape: (3, 4)</small><table border=\"1\" class=\"dataframe\"><thead><tr><th>sales_ymd</th><th>customer_id</th><th>product_cd</th><th>amount</th></tr><tr><td>i64</td><td>str</td><td>str</td><td>i64</td></tr></thead><tbody><tr><td>20180911</td><td>&quot;CS018205000001…</td><td>&quot;P071401012&quot;</td><td>2200</td></tr><tr><td>20190226</td><td>&quot;CS018205000001…</td><td>&quot;P071401020&quot;</td><td>2200</td></tr><tr><td>20180911</td><td>&quot;CS018205000001…</td><td>&quot;P071401005&quot;</td><td>1100</td></tr></tbody></table></div>"
      ],
      "text/plain": [
       "shape: (3, 4)\n",
       "┌───────────┬────────────────┬────────────┬────────┐\n",
       "│ sales_ymd ┆ customer_id    ┆ product_cd ┆ amount │\n",
       "│ ---       ┆ ---            ┆ ---        ┆ ---    │\n",
       "│ i64       ┆ str            ┆ str        ┆ i64    │\n",
       "╞═══════════╪════════════════╪════════════╪════════╡\n",
       "│ 20180911  ┆ CS018205000001 ┆ P071401012 ┆ 2200   │\n",
       "│ 20190226  ┆ CS018205000001 ┆ P071401020 ┆ 2200   │\n",
       "│ 20180911  ┆ CS018205000001 ┆ P071401005 ┆ 1100   │\n",
       "└───────────┴────────────────┴────────────┴────────┘"
      ]
     },
     "execution_count": 9,
     "metadata": {},
     "output_type": "execute_result"
    }
   ],
   "source": [
    "# &や|で繋ぐときは()で囲ってあげること\n",
    "\n",
    "df_005 = df_receipt.select(\"sales_ymd\", \"customer_id\", \"product_cd\", \"amount\").filter(\n",
    "    (pl.col(\"customer_id\") == \"CS018205000001\") & (pl.col(\"amount\") >= 1000)\n",
    ")\n",
    "\n",
    "df_005.head()"
   ]
  },
  {
   "attachments": {},
   "cell_type": "markdown",
   "metadata": {},
   "source": [
    "---\n",
    "> P-006: レシート明細データ（df_receipt）から売上日（sales_ymd）、顧客ID（customer_id）、商品コード（product_cd）、売上数量（quantity）、売上金額（amount）の順に列を指定し、以下の全ての条件を満たすデータを抽出せよ。\n",
    "> - 顧客ID（customer_id）が\"CS018205000001\"\n",
    "> - 売上金額（amount）が1,000以上または売上数量（quantity）が5以上"
   ]
  },
  {
   "cell_type": "code",
   "execution_count": 10,
   "metadata": {},
   "outputs": [
    {
     "data": {
      "text/html": [
       "<div><style>\n",
       ".dataframe > thead > tr,\n",
       ".dataframe > tbody > tr {\n",
       "  text-align: right;\n",
       "  white-space: pre-wrap;\n",
       "}\n",
       "</style>\n",
       "<small>shape: (4, 5)</small><table border=\"1\" class=\"dataframe\"><thead><tr><th>sales_ymd</th><th>customer_id</th><th>product_cd</th><th>quantity</th><th>amount</th></tr><tr><td>i64</td><td>str</td><td>str</td><td>i64</td><td>i64</td></tr></thead><tbody><tr><td>20180911</td><td>&quot;CS018205000001…</td><td>&quot;P071401012&quot;</td><td>1</td><td>2200</td></tr><tr><td>20180414</td><td>&quot;CS018205000001…</td><td>&quot;P060104007&quot;</td><td>6</td><td>600</td></tr><tr><td>20190226</td><td>&quot;CS018205000001…</td><td>&quot;P071401020&quot;</td><td>1</td><td>2200</td></tr><tr><td>20180911</td><td>&quot;CS018205000001…</td><td>&quot;P071401005&quot;</td><td>1</td><td>1100</td></tr></tbody></table></div>"
      ],
      "text/plain": [
       "shape: (4, 5)\n",
       "┌───────────┬────────────────┬────────────┬──────────┬────────┐\n",
       "│ sales_ymd ┆ customer_id    ┆ product_cd ┆ quantity ┆ amount │\n",
       "│ ---       ┆ ---            ┆ ---        ┆ ---      ┆ ---    │\n",
       "│ i64       ┆ str            ┆ str        ┆ i64      ┆ i64    │\n",
       "╞═══════════╪════════════════╪════════════╪══════════╪════════╡\n",
       "│ 20180911  ┆ CS018205000001 ┆ P071401012 ┆ 1        ┆ 2200   │\n",
       "│ 20180414  ┆ CS018205000001 ┆ P060104007 ┆ 6        ┆ 600    │\n",
       "│ 20190226  ┆ CS018205000001 ┆ P071401020 ┆ 1        ┆ 2200   │\n",
       "│ 20180911  ┆ CS018205000001 ┆ P071401005 ┆ 1        ┆ 1100   │\n",
       "└───────────┴────────────────┴────────────┴──────────┴────────┘"
      ]
     },
     "execution_count": 10,
     "metadata": {},
     "output_type": "execute_result"
    }
   ],
   "source": [
    "df_006 = df_receipt.select(\n",
    "    \"sales_ymd\", \"customer_id\", \"product_cd\", \"quantity\", \"amount\"\n",
    ").filter(\n",
    "    (pl.col(\"customer_id\") == \"CS018205000001\")\n",
    "    & ((pl.col(\"amount\") >= 1000) | (pl.col(\"quantity\") > 5))\n",
    ")\n",
    "\n",
    "df_006.head()"
   ]
  },
  {
   "attachments": {},
   "cell_type": "markdown",
   "metadata": {},
   "source": [
    "---\n",
    "> P-007: レシート明細データ（df_receipt）から売上日（sales_ymd）、顧客ID（customer_id）、商品コード（product_cd）、売上金額（amount）の順に列を指定し、以下の全ての条件を満たすデータを抽出せよ。\n",
    "> - 顧客ID（customer_id）が\"CS018205000001\"\n",
    "> - 売上金額（amount）が1,000以上2,000以下"
   ]
  },
  {
   "cell_type": "code",
   "execution_count": 11,
   "metadata": {},
   "outputs": [
    {
     "data": {
      "text/html": [
       "<div><style>\n",
       ".dataframe > thead > tr,\n",
       ".dataframe > tbody > tr {\n",
       "  text-align: right;\n",
       "  white-space: pre-wrap;\n",
       "}\n",
       "</style>\n",
       "<small>shape: (1, 4)</small><table border=\"1\" class=\"dataframe\"><thead><tr><th>sales_ymd</th><th>customer_id</th><th>product_cd</th><th>amount</th></tr><tr><td>i64</td><td>str</td><td>str</td><td>i64</td></tr></thead><tbody><tr><td>20180911</td><td>&quot;CS018205000001…</td><td>&quot;P071401005&quot;</td><td>1100</td></tr></tbody></table></div>"
      ],
      "text/plain": [
       "shape: (1, 4)\n",
       "┌───────────┬────────────────┬────────────┬────────┐\n",
       "│ sales_ymd ┆ customer_id    ┆ product_cd ┆ amount │\n",
       "│ ---       ┆ ---            ┆ ---        ┆ ---    │\n",
       "│ i64       ┆ str            ┆ str        ┆ i64    │\n",
       "╞═══════════╪════════════════╪════════════╪════════╡\n",
       "│ 20180911  ┆ CS018205000001 ┆ P071401005 ┆ 1100   │\n",
       "└───────────┴────────────────┴────────────┴────────┘"
      ]
     },
     "execution_count": 11,
     "metadata": {},
     "output_type": "execute_result"
    }
   ],
   "source": [
    "df_007 = df_receipt.select(\"sales_ymd\", \"customer_id\", \"product_cd\", \"amount\").filter(\n",
    "    (pl.col(\"customer_id\") == \"CS018205000001\")\n",
    "    & ((pl.col(\"amount\") >= 1000) & (pl.col(\"amount\") <= 2000))\n",
    ")\n",
    "\n",
    "df_007.head()"
   ]
  },
  {
   "cell_type": "code",
   "execution_count": 12,
   "metadata": {},
   "outputs": [
    {
     "data": {
      "text/html": [
       "<div><style>\n",
       ".dataframe > thead > tr,\n",
       ".dataframe > tbody > tr {\n",
       "  text-align: right;\n",
       "  white-space: pre-wrap;\n",
       "}\n",
       "</style>\n",
       "<small>shape: (1, 4)</small><table border=\"1\" class=\"dataframe\"><thead><tr><th>sales_ymd</th><th>customer_id</th><th>product_cd</th><th>amount</th></tr><tr><td>i64</td><td>str</td><td>str</td><td>i64</td></tr></thead><tbody><tr><td>20180911</td><td>&quot;CS018205000001…</td><td>&quot;P071401005&quot;</td><td>1100</td></tr></tbody></table></div>"
      ],
      "text/plain": [
       "shape: (1, 4)\n",
       "┌───────────┬────────────────┬────────────┬────────┐\n",
       "│ sales_ymd ┆ customer_id    ┆ product_cd ┆ amount │\n",
       "│ ---       ┆ ---            ┆ ---        ┆ ---    │\n",
       "│ i64       ┆ str            ┆ str        ┆ i64    │\n",
       "╞═══════════╪════════════════╪════════════╪════════╡\n",
       "│ 20180911  ┆ CS018205000001 ┆ P071401005 ┆ 1100   │\n",
       "└───────────┴────────────────┴────────────┴────────┘"
      ]
     },
     "execution_count": 12,
     "metadata": {},
     "output_type": "execute_result"
    }
   ],
   "source": [
    "df_007 = df_receipt.select(\"sales_ymd\", \"customer_id\", \"product_cd\", \"amount\").filter(\n",
    "    (pl.col(\"customer_id\") == \"CS018205000001\")\n",
    "    & (pl.col(\"amount\").is_between(lower_bound=1000, upper_bound=2000, closed=\"both\"))\n",
    ")\n",
    "\n",
    "df_007"
   ]
  },
  {
   "attachments": {},
   "cell_type": "markdown",
   "metadata": {},
   "source": [
    "---\n",
    "> P-008: レシート明細データ（df_receipt）から売上日（sales_ymd）、顧客ID（customer_id）、商品コード（product_cd）、売上金額（amount）の順に列を指定し、以下の全ての条件を満たすデータを抽出せよ。\n",
    "> - 顧客ID（customer_id）が\"CS018205000001\"\n",
    "> - 商品コード（product_cd）が\"P071401019\"以外"
   ]
  },
  {
   "cell_type": "code",
   "execution_count": 13,
   "metadata": {},
   "outputs": [
    {
     "data": {
      "text/html": [
       "<div><style>\n",
       ".dataframe > thead > tr,\n",
       ".dataframe > tbody > tr {\n",
       "  text-align: right;\n",
       "  white-space: pre-wrap;\n",
       "}\n",
       "</style>\n",
       "<small>shape: (12, 4)</small><table border=\"1\" class=\"dataframe\"><thead><tr><th>sales_ymd</th><th>customer_id</th><th>product_cd</th><th>amount</th></tr><tr><td>i64</td><td>str</td><td>str</td><td>i64</td></tr></thead><tbody><tr><td>20180911</td><td>&quot;CS018205000001…</td><td>&quot;P071401012&quot;</td><td>2200</td></tr><tr><td>20180414</td><td>&quot;CS018205000001…</td><td>&quot;P060104007&quot;</td><td>600</td></tr><tr><td>20170614</td><td>&quot;CS018205000001…</td><td>&quot;P050206001&quot;</td><td>990</td></tr><tr><td>20170614</td><td>&quot;CS018205000001…</td><td>&quot;P060702015&quot;</td><td>108</td></tr><tr><td>20190216</td><td>&quot;CS018205000001…</td><td>&quot;P071005024&quot;</td><td>102</td></tr><tr><td>20180414</td><td>&quot;CS018205000001…</td><td>&quot;P071101002&quot;</td><td>278</td></tr><tr><td>20190226</td><td>&quot;CS018205000001…</td><td>&quot;P070902035&quot;</td><td>168</td></tr><tr><td>20190924</td><td>&quot;CS018205000001…</td><td>&quot;P060805001&quot;</td><td>495</td></tr><tr><td>20190226</td><td>&quot;CS018205000001…</td><td>&quot;P071401020&quot;</td><td>2200</td></tr><tr><td>20180911</td><td>&quot;CS018205000001…</td><td>&quot;P071401005&quot;</td><td>1100</td></tr><tr><td>20190216</td><td>&quot;CS018205000001…</td><td>&quot;P040101002&quot;</td><td>218</td></tr><tr><td>20190924</td><td>&quot;CS018205000001…</td><td>&quot;P091503001&quot;</td><td>280</td></tr></tbody></table></div>"
      ],
      "text/plain": [
       "shape: (12, 4)\n",
       "┌───────────┬────────────────┬────────────┬────────┐\n",
       "│ sales_ymd ┆ customer_id    ┆ product_cd ┆ amount │\n",
       "│ ---       ┆ ---            ┆ ---        ┆ ---    │\n",
       "│ i64       ┆ str            ┆ str        ┆ i64    │\n",
       "╞═══════════╪════════════════╪════════════╪════════╡\n",
       "│ 20180911  ┆ CS018205000001 ┆ P071401012 ┆ 2200   │\n",
       "│ 20180414  ┆ CS018205000001 ┆ P060104007 ┆ 600    │\n",
       "│ 20170614  ┆ CS018205000001 ┆ P050206001 ┆ 990    │\n",
       "│ 20170614  ┆ CS018205000001 ┆ P060702015 ┆ 108    │\n",
       "│ …         ┆ …              ┆ …          ┆ …      │\n",
       "│ 20190226  ┆ CS018205000001 ┆ P071401020 ┆ 2200   │\n",
       "│ 20180911  ┆ CS018205000001 ┆ P071401005 ┆ 1100   │\n",
       "│ 20190216  ┆ CS018205000001 ┆ P040101002 ┆ 218    │\n",
       "│ 20190924  ┆ CS018205000001 ┆ P091503001 ┆ 280    │\n",
       "└───────────┴────────────────┴────────────┴────────┘"
      ]
     },
     "execution_count": 13,
     "metadata": {},
     "output_type": "execute_result"
    }
   ],
   "source": [
    "df_008 = df_receipt.select(\"sales_ymd\", \"customer_id\", \"product_cd\", \"amount\").filter(\n",
    "    (pl.col(\"customer_id\") == \"CS018205000001\") & (pl.col(\"product_cd\") != \"P071401019\")\n",
    ")\n",
    "\n",
    "df_008"
   ]
  },
  {
   "attachments": {},
   "cell_type": "markdown",
   "metadata": {},
   "source": [
    "---\n",
    "> P-009: 以下の処理において、出力結果を変えずにORをANDに書き換えよ。\n",
    "> \n",
    "> pandas:`df_store.query('not(prefecture_cd == \"13\" | floor_area > 900)')` <br>\n",
    "> polars:`df_store.filter(~((pl.col(\"prefecture_cd\") == \"13\") | (pl.col(\"floor_area\") > 900)))`\n",
    "\n",
    "否定は`~`でもいいが、`pl.Expr.is_not`を使用しても良い\n",
    "\n",
    "> `df_store.filter(((pl.col(\"prefecture_cd\") == \"13\") |(pl.col(\"floor_area\")> 900)).not_())`"
   ]
  },
  {
   "cell_type": "code",
   "execution_count": 14,
   "metadata": {},
   "outputs": [
    {
     "data": {
      "text/html": [
       "<div><style>\n",
       ".dataframe > thead > tr,\n",
       ".dataframe > tbody > tr {\n",
       "  text-align: right;\n",
       "  white-space: pre-wrap;\n",
       "}\n",
       "</style>\n",
       "<small>shape: (3, 10)</small><table border=\"1\" class=\"dataframe\"><thead><tr><th>store_cd</th><th>store_name</th><th>prefecture_cd</th><th>prefecture</th><th>address</th><th>address_kana</th><th>tel_no</th><th>longitude</th><th>latitude</th><th>floor_area</th></tr><tr><td>str</td><td>str</td><td>str</td><td>str</td><td>str</td><td>str</td><td>str</td><td>f64</td><td>f64</td><td>f64</td></tr></thead><tbody><tr><td>&quot;S14046&quot;</td><td>&quot;北山田店&quot;</td><td>&quot;14&quot;</td><td>&quot;神奈川県&quot;</td><td>&quot;神奈川県横浜市都筑区北山田一…</td><td>&quot;カナガワケンヨコハマシツヅキ…</td><td>&quot;045-123-4049&quot;</td><td>139.5916</td><td>35.56189</td><td>831.0</td></tr><tr><td>&quot;S14011&quot;</td><td>&quot;日吉本町店&quot;</td><td>&quot;14&quot;</td><td>&quot;神奈川県&quot;</td><td>&quot;神奈川県横浜市港北区日吉本町…</td><td>&quot;カナガワケンヨコハマシコウホ…</td><td>&quot;045-123-4033&quot;</td><td>139.6316</td><td>35.54655</td><td>890.0</td></tr><tr><td>&quot;S12013&quot;</td><td>&quot;習志野店&quot;</td><td>&quot;12&quot;</td><td>&quot;千葉県&quot;</td><td>&quot;千葉県習志野市芝園一丁目&quot;</td><td>&quot;チバケンナラシノシシバゾノイ…</td><td>&quot;047-123-4002&quot;</td><td>140.022</td><td>35.66122</td><td>808.0</td></tr></tbody></table></div>"
      ],
      "text/plain": [
       "shape: (3, 10)\n",
       "┌──────────┬────────────┬───────────┬───────────┬───┬───────────┬───────────┬──────────┬───────────┐\n",
       "│ store_cd ┆ store_name ┆ prefectur ┆ prefectur ┆ … ┆ tel_no    ┆ longitude ┆ latitude ┆ floor_are │\n",
       "│ ---      ┆ ---        ┆ e_cd      ┆ e         ┆   ┆ ---       ┆ ---       ┆ ---      ┆ a         │\n",
       "│ str      ┆ str        ┆ ---       ┆ ---       ┆   ┆ str       ┆ f64       ┆ f64      ┆ ---       │\n",
       "│          ┆            ┆ str       ┆ str       ┆   ┆           ┆           ┆          ┆ f64       │\n",
       "╞══════════╪════════════╪═══════════╪═══════════╪═══╪═══════════╪═══════════╪══════════╪═══════════╡\n",
       "│ S14046   ┆ 北山田店   ┆ 14        ┆ 神奈川県  ┆ … ┆ 045-123-4 ┆ 139.5916  ┆ 35.56189 ┆ 831.0     │\n",
       "│          ┆            ┆           ┆           ┆   ┆ 049       ┆           ┆          ┆           │\n",
       "│ S14011   ┆ 日吉本町店 ┆ 14        ┆ 神奈川県  ┆ … ┆ 045-123-4 ┆ 139.6316  ┆ 35.54655 ┆ 890.0     │\n",
       "│          ┆            ┆           ┆           ┆   ┆ 033       ┆           ┆          ┆           │\n",
       "│ S12013   ┆ 習志野店   ┆ 12        ┆ 千葉県    ┆ … ┆ 047-123-4 ┆ 140.022   ┆ 35.66122 ┆ 808.0     │\n",
       "│          ┆            ┆           ┆           ┆   ┆ 002       ┆           ┆          ┆           │\n",
       "└──────────┴────────────┴───────────┴───────────┴───┴───────────┴───────────┴──────────┴───────────┘"
      ]
     },
     "execution_count": 14,
     "metadata": {},
     "output_type": "execute_result"
    }
   ],
   "source": [
    "df_009 = df_store.filter(\n",
    "    (pl.col(\"prefecture_cd\") != \"13\") & (pl.col(\"floor_area\") <= 900)\n",
    ")\n",
    "\n",
    "df_009"
   ]
  },
  {
   "attachments": {},
   "cell_type": "markdown",
   "metadata": {},
   "source": [
    "---\n",
    "> P-010: 店舗データ（df_store）から、店舗コード（store_cd）が\"S14\"で始まるものだけ全項目抽出し、5件表示せよ。\n",
    "\n",
    "文字列の条件\n",
    "| メソッド            | 処理                    |\n",
    "| --------------- | --------------------- |\n",
    "| str.starts_with | 指定文字列が先頭にあるか          |\n",
    "| str.ends_with   | 指定文字列が終端にあるか          |\n",
    "| str.contains    | 指定文字列を含むかどうか(正規表現に対応) |"
   ]
  },
  {
   "cell_type": "code",
   "execution_count": 15,
   "metadata": {},
   "outputs": [
    {
     "data": {
      "text/html": [
       "<div><style>\n",
       ".dataframe > thead > tr,\n",
       ".dataframe > tbody > tr {\n",
       "  text-align: right;\n",
       "  white-space: pre-wrap;\n",
       "}\n",
       "</style>\n",
       "<small>shape: (5, 10)</small><table border=\"1\" class=\"dataframe\"><thead><tr><th>store_cd</th><th>store_name</th><th>prefecture_cd</th><th>prefecture</th><th>address</th><th>address_kana</th><th>tel_no</th><th>longitude</th><th>latitude</th><th>floor_area</th></tr><tr><td>str</td><td>str</td><td>str</td><td>str</td><td>str</td><td>str</td><td>str</td><td>f64</td><td>f64</td><td>f64</td></tr></thead><tbody><tr><td>&quot;S14010&quot;</td><td>&quot;菊名店&quot;</td><td>&quot;14&quot;</td><td>&quot;神奈川県&quot;</td><td>&quot;神奈川県横浜市港北区菊名一丁…</td><td>&quot;カナガワケンヨコハマシコウホ…</td><td>&quot;045-123-4032&quot;</td><td>139.6326</td><td>35.50049</td><td>1732.0</td></tr><tr><td>&quot;S14033&quot;</td><td>&quot;阿久和店&quot;</td><td>&quot;14&quot;</td><td>&quot;神奈川県&quot;</td><td>&quot;神奈川県横浜市瀬谷区阿久和西…</td><td>&quot;カナガワケンヨコハマシセヤク…</td><td>&quot;045-123-4043&quot;</td><td>139.4961</td><td>35.45918</td><td>1495.0</td></tr><tr><td>&quot;S14036&quot;</td><td>&quot;相模原中央店&quot;</td><td>&quot;14&quot;</td><td>&quot;神奈川県&quot;</td><td>&quot;神奈川県相模原市中央二丁目&quot;</td><td>&quot;カナガワケンサガミハラシチュ…</td><td>&quot;042-123-4045&quot;</td><td>139.3716</td><td>35.57327</td><td>1679.0</td></tr><tr><td>&quot;S14040&quot;</td><td>&quot;長津田店&quot;</td><td>&quot;14&quot;</td><td>&quot;神奈川県&quot;</td><td>&quot;神奈川県横浜市緑区長津田みな…</td><td>&quot;カナガワケンヨコハマシミドリ…</td><td>&quot;045-123-4046&quot;</td><td>139.4994</td><td>35.52398</td><td>1548.0</td></tr><tr><td>&quot;S14050&quot;</td><td>&quot;阿久和西店&quot;</td><td>&quot;14&quot;</td><td>&quot;神奈川県&quot;</td><td>&quot;神奈川県横浜市瀬谷区阿久和西…</td><td>&quot;カナガワケンヨコハマシセヤク…</td><td>&quot;045-123-4053&quot;</td><td>139.4961</td><td>35.45918</td><td>1830.0</td></tr></tbody></table></div>"
      ],
      "text/plain": [
       "shape: (5, 10)\n",
       "┌──────────┬────────────┬───────────┬───────────┬───┬───────────┬───────────┬──────────┬───────────┐\n",
       "│ store_cd ┆ store_name ┆ prefectur ┆ prefectur ┆ … ┆ tel_no    ┆ longitude ┆ latitude ┆ floor_are │\n",
       "│ ---      ┆ ---        ┆ e_cd      ┆ e         ┆   ┆ ---       ┆ ---       ┆ ---      ┆ a         │\n",
       "│ str      ┆ str        ┆ ---       ┆ ---       ┆   ┆ str       ┆ f64       ┆ f64      ┆ ---       │\n",
       "│          ┆            ┆ str       ┆ str       ┆   ┆           ┆           ┆          ┆ f64       │\n",
       "╞══════════╪════════════╪═══════════╪═══════════╪═══╪═══════════╪═══════════╪══════════╪═══════════╡\n",
       "│ S14010   ┆ 菊名店     ┆ 14        ┆ 神奈川県  ┆ … ┆ 045-123-4 ┆ 139.6326  ┆ 35.50049 ┆ 1732.0    │\n",
       "│          ┆            ┆           ┆           ┆   ┆ 032       ┆           ┆          ┆           │\n",
       "│ S14033   ┆ 阿久和店   ┆ 14        ┆ 神奈川県  ┆ … ┆ 045-123-4 ┆ 139.4961  ┆ 35.45918 ┆ 1495.0    │\n",
       "│          ┆            ┆           ┆           ┆   ┆ 043       ┆           ┆          ┆           │\n",
       "│ S14036   ┆ 相模原中央 ┆ 14        ┆ 神奈川県  ┆ … ┆ 042-123-4 ┆ 139.3716  ┆ 35.57327 ┆ 1679.0    │\n",
       "│          ┆ 店         ┆           ┆           ┆   ┆ 045       ┆           ┆          ┆           │\n",
       "│ S14040   ┆ 長津田店   ┆ 14        ┆ 神奈川県  ┆ … ┆ 045-123-4 ┆ 139.4994  ┆ 35.52398 ┆ 1548.0    │\n",
       "│          ┆            ┆           ┆           ┆   ┆ 046       ┆           ┆          ┆           │\n",
       "│ S14050   ┆ 阿久和西店 ┆ 14        ┆ 神奈川県  ┆ … ┆ 045-123-4 ┆ 139.4961  ┆ 35.45918 ┆ 1830.0    │\n",
       "│          ┆            ┆           ┆           ┆   ┆ 053       ┆           ┆          ┆           │\n",
       "└──────────┴────────────┴───────────┴───────────┴───┴───────────┴───────────┴──────────┴───────────┘"
      ]
     },
     "execution_count": 15,
     "metadata": {},
     "output_type": "execute_result"
    }
   ],
   "source": [
    "df_010 = df_store.filter(pl.col(\"store_cd\").str.starts_with(\"S14\"))\n",
    "\n",
    "df_010.head()"
   ]
  },
  {
   "attachments": {},
   "cell_type": "markdown",
   "metadata": {},
   "source": [
    "---\n",
    "> P-011: 顧客データ（df_customer）から顧客ID（customer_id）の末尾が1のものだけ全項目抽出し、5件表示せよ。"
   ]
  },
  {
   "cell_type": "code",
   "execution_count": 16,
   "metadata": {},
   "outputs": [
    {
     "data": {
      "text/html": [
       "<div><style>\n",
       ".dataframe > thead > tr,\n",
       ".dataframe > tbody > tr {\n",
       "  text-align: right;\n",
       "  white-space: pre-wrap;\n",
       "}\n",
       "</style>\n",
       "<small>shape: (5, 11)</small><table border=\"1\" class=\"dataframe\"><thead><tr><th>customer_id</th><th>customer_name</th><th>gender_cd</th><th>gender</th><th>birth_day</th><th>age</th><th>postal_cd</th><th>address</th><th>application_store_cd</th><th>application_date</th><th>status_cd</th></tr><tr><td>str</td><td>str</td><td>str</td><td>str</td><td>str</td><td>i64</td><td>str</td><td>str</td><td>str</td><td>str</td><td>str</td></tr></thead><tbody><tr><td>&quot;CS037613000071…</td><td>&quot;六角 雅彦&quot;</td><td>&quot;9&quot;</td><td>&quot;不明&quot;</td><td>&quot;1952-04-01&quot;</td><td>66</td><td>&quot;136-0076&quot;</td><td>&quot;東京都江東区南砂******…</td><td>&quot;S13037&quot;</td><td>&quot;20150414&quot;</td><td>&quot;0-00000000-0&quot;</td></tr><tr><td>&quot;CS028811000001…</td><td>&quot;堀井 かおり&quot;</td><td>&quot;1&quot;</td><td>&quot;女性&quot;</td><td>&quot;1933-03-27&quot;</td><td>86</td><td>&quot;245-0016&quot;</td><td>&quot;神奈川県横浜市泉区和泉町**…</td><td>&quot;S14028&quot;</td><td>&quot;20160115&quot;</td><td>&quot;0-00000000-0&quot;</td></tr><tr><td>&quot;CS040412000191…</td><td>&quot;川井 郁恵&quot;</td><td>&quot;1&quot;</td><td>&quot;女性&quot;</td><td>&quot;1977-01-05&quot;</td><td>42</td><td>&quot;226-0021&quot;</td><td>&quot;神奈川県横浜市緑区北八朔町*…</td><td>&quot;S14040&quot;</td><td>&quot;20151101&quot;</td><td>&quot;1-20091025-4&quot;</td></tr><tr><td>&quot;CS028314000011…</td><td>&quot;小菅 あおい&quot;</td><td>&quot;1&quot;</td><td>&quot;女性&quot;</td><td>&quot;1983-11-26&quot;</td><td>35</td><td>&quot;246-0038&quot;</td><td>&quot;神奈川県横浜市瀬谷区宮沢**…</td><td>&quot;S14028&quot;</td><td>&quot;20151123&quot;</td><td>&quot;1-20080426-5&quot;</td></tr><tr><td>&quot;CS039212000051…</td><td>&quot;藤島 恵梨香&quot;</td><td>&quot;1&quot;</td><td>&quot;女性&quot;</td><td>&quot;1997-02-03&quot;</td><td>22</td><td>&quot;166-0001&quot;</td><td>&quot;東京都杉並区阿佐谷北****…</td><td>&quot;S13039&quot;</td><td>&quot;20171121&quot;</td><td>&quot;1-20100215-4&quot;</td></tr></tbody></table></div>"
      ],
      "text/plain": [
       "shape: (5, 11)\n",
       "┌────────────┬────────────┬───────────┬────────┬───┬───────────┬───────────┬───────────┬───────────┐\n",
       "│ customer_i ┆ customer_n ┆ gender_cd ┆ gender ┆ … ┆ address   ┆ applicati ┆ applicati ┆ status_cd │\n",
       "│ d          ┆ ame        ┆ ---       ┆ ---    ┆   ┆ ---       ┆ on_store_ ┆ on_date   ┆ ---       │\n",
       "│ ---        ┆ ---        ┆ str       ┆ str    ┆   ┆ str       ┆ cd        ┆ ---       ┆ str       │\n",
       "│ str        ┆ str        ┆           ┆        ┆   ┆           ┆ ---       ┆ str       ┆           │\n",
       "│            ┆            ┆           ┆        ┆   ┆           ┆ str       ┆           ┆           │\n",
       "╞════════════╪════════════╪═══════════╪════════╪═══╪═══════════╪═══════════╪═══════════╪═══════════╡\n",
       "│ CS03761300 ┆ 六角 雅彦  ┆ 9         ┆ 不明   ┆ … ┆ 東京都江  ┆ S13037    ┆ 20150414  ┆ 0-0000000 │\n",
       "│ 0071       ┆            ┆           ┆        ┆   ┆ 東区南砂* ┆           ┆           ┆ 0-0       │\n",
       "│            ┆            ┆           ┆        ┆   ┆ ********* ┆           ┆           ┆           │\n",
       "│ CS02881100 ┆ 堀井       ┆ 1         ┆ 女性   ┆ … ┆ 神奈川県  ┆ S14028    ┆ 20160115  ┆ 0-0000000 │\n",
       "│ 0001       ┆ かおり     ┆           ┆        ┆   ┆ 横浜市泉  ┆           ┆           ┆ 0-0       │\n",
       "│            ┆            ┆           ┆        ┆   ┆ 区和泉町* ┆           ┆           ┆           │\n",
       "│            ┆            ┆           ┆        ┆   ┆ ********* ┆           ┆           ┆           │\n",
       "│ CS04041200 ┆ 川井 郁恵  ┆ 1         ┆ 女性   ┆ … ┆ 神奈川県  ┆ S14040    ┆ 20151101  ┆ 1-2009102 │\n",
       "│ 0191       ┆            ┆           ┆        ┆   ┆ 横浜市緑  ┆           ┆           ┆ 5-4       │\n",
       "│            ┆            ┆           ┆        ┆   ┆ 区北八朔  ┆           ┆           ┆           │\n",
       "│            ┆            ┆           ┆        ┆   ┆ 町******* ┆           ┆           ┆           │\n",
       "│            ┆            ┆           ┆        ┆   ┆ ***       ┆           ┆           ┆           │\n",
       "│ CS02831400 ┆ 小菅       ┆ 1         ┆ 女性   ┆ … ┆ 神奈川県  ┆ S14028    ┆ 20151123  ┆ 1-2008042 │\n",
       "│ 0011       ┆ あおい     ┆           ┆        ┆   ┆ 横浜市瀬  ┆           ┆           ┆ 6-5       │\n",
       "│            ┆            ┆           ┆        ┆   ┆ 谷区宮沢* ┆           ┆           ┆           │\n",
       "│            ┆            ┆           ┆        ┆   ┆ ********* ┆           ┆           ┆           │\n",
       "│ CS03921200 ┆ 藤島       ┆ 1         ┆ 女性   ┆ … ┆ 東京都杉  ┆ S13039    ┆ 20171121  ┆ 1-2010021 │\n",
       "│ 0051       ┆ 恵梨香     ┆           ┆        ┆   ┆ 並区阿佐  ┆           ┆           ┆ 5-4       │\n",
       "│            ┆            ┆           ┆        ┆   ┆ 谷北***** ┆           ┆           ┆           │\n",
       "│            ┆            ┆           ┆        ┆   ┆ *****     ┆           ┆           ┆           │\n",
       "└────────────┴────────────┴───────────┴────────┴───┴───────────┴───────────┴───────────┴───────────┘"
      ]
     },
     "execution_count": 16,
     "metadata": {},
     "output_type": "execute_result"
    }
   ],
   "source": [
    "df_011 = df_customer.filter(pl.col(\"customer_id\").str.ends_with(1))\n",
    "\n",
    "df_011.head()"
   ]
  },
  {
   "attachments": {},
   "cell_type": "markdown",
   "metadata": {},
   "source": [
    "---\n",
    "> P-012: 店舗データ（df_store）から、住所 (address) に\"横浜市\"が含まれるものだけ全項目表示せよ。"
   ]
  },
  {
   "cell_type": "code",
   "execution_count": 17,
   "metadata": {},
   "outputs": [
    {
     "data": {
      "text/html": [
       "<div><style>\n",
       ".dataframe > thead > tr,\n",
       ".dataframe > tbody > tr {\n",
       "  text-align: right;\n",
       "  white-space: pre-wrap;\n",
       "}\n",
       "</style>\n",
       "<small>shape: (11, 10)</small><table border=\"1\" class=\"dataframe\"><thead><tr><th>store_cd</th><th>store_name</th><th>prefecture_cd</th><th>prefecture</th><th>address</th><th>address_kana</th><th>tel_no</th><th>longitude</th><th>latitude</th><th>floor_area</th></tr><tr><td>str</td><td>str</td><td>str</td><td>str</td><td>str</td><td>str</td><td>str</td><td>f64</td><td>f64</td><td>f64</td></tr></thead><tbody><tr><td>&quot;S14010&quot;</td><td>&quot;菊名店&quot;</td><td>&quot;14&quot;</td><td>&quot;神奈川県&quot;</td><td>&quot;神奈川県横浜市港北区菊名一丁…</td><td>&quot;カナガワケンヨコハマシコウホ…</td><td>&quot;045-123-4032&quot;</td><td>139.6326</td><td>35.50049</td><td>1732.0</td></tr><tr><td>&quot;S14033&quot;</td><td>&quot;阿久和店&quot;</td><td>&quot;14&quot;</td><td>&quot;神奈川県&quot;</td><td>&quot;神奈川県横浜市瀬谷区阿久和西…</td><td>&quot;カナガワケンヨコハマシセヤク…</td><td>&quot;045-123-4043&quot;</td><td>139.4961</td><td>35.45918</td><td>1495.0</td></tr><tr><td>&quot;S14040&quot;</td><td>&quot;長津田店&quot;</td><td>&quot;14&quot;</td><td>&quot;神奈川県&quot;</td><td>&quot;神奈川県横浜市緑区長津田みな…</td><td>&quot;カナガワケンヨコハマシミドリ…</td><td>&quot;045-123-4046&quot;</td><td>139.4994</td><td>35.52398</td><td>1548.0</td></tr><tr><td>&quot;S14050&quot;</td><td>&quot;阿久和西店&quot;</td><td>&quot;14&quot;</td><td>&quot;神奈川県&quot;</td><td>&quot;神奈川県横浜市瀬谷区阿久和西…</td><td>&quot;カナガワケンヨコハマシセヤク…</td><td>&quot;045-123-4053&quot;</td><td>139.4961</td><td>35.45918</td><td>1830.0</td></tr><tr><td>&quot;S14028&quot;</td><td>&quot;二ツ橋店&quot;</td><td>&quot;14&quot;</td><td>&quot;神奈川県&quot;</td><td>&quot;神奈川県横浜市瀬谷区二ツ橋町…</td><td>&quot;カナガワケンヨコハマシセヤク…</td><td>&quot;045-123-4042&quot;</td><td>139.4963</td><td>35.46304</td><td>1574.0</td></tr><tr><td>&quot;S14012&quot;</td><td>&quot;本牧和田店&quot;</td><td>&quot;14&quot;</td><td>&quot;神奈川県&quot;</td><td>&quot;神奈川県横浜市中区本牧和田&quot;</td><td>&quot;カナガワケンヨコハマシナカク…</td><td>&quot;045-123-4034&quot;</td><td>139.6582</td><td>35.42156</td><td>1341.0</td></tr><tr><td>&quot;S14046&quot;</td><td>&quot;北山田店&quot;</td><td>&quot;14&quot;</td><td>&quot;神奈川県&quot;</td><td>&quot;神奈川県横浜市都筑区北山田一…</td><td>&quot;カナガワケンヨコハマシツヅキ…</td><td>&quot;045-123-4049&quot;</td><td>139.5916</td><td>35.56189</td><td>831.0</td></tr><tr><td>&quot;S14011&quot;</td><td>&quot;日吉本町店&quot;</td><td>&quot;14&quot;</td><td>&quot;神奈川県&quot;</td><td>&quot;神奈川県横浜市港北区日吉本町…</td><td>&quot;カナガワケンヨコハマシコウホ…</td><td>&quot;045-123-4033&quot;</td><td>139.6316</td><td>35.54655</td><td>890.0</td></tr><tr><td>&quot;S14048&quot;</td><td>&quot;中川中央店&quot;</td><td>&quot;14&quot;</td><td>&quot;神奈川県&quot;</td><td>&quot;神奈川県横浜市都筑区中川中央…</td><td>&quot;カナガワケンヨコハマシツヅキ…</td><td>&quot;045-123-4051&quot;</td><td>139.5758</td><td>35.54912</td><td>1657.0</td></tr><tr><td>&quot;S14042&quot;</td><td>&quot;新山下店&quot;</td><td>&quot;14&quot;</td><td>&quot;神奈川県&quot;</td><td>&quot;神奈川県横浜市中区新山下二丁…</td><td>&quot;カナガワケンヨコハマシナカク…</td><td>&quot;045-123-4047&quot;</td><td>139.6593</td><td>35.43894</td><td>1044.0</td></tr><tr><td>&quot;S14006&quot;</td><td>&quot;葛が谷店&quot;</td><td>&quot;14&quot;</td><td>&quot;神奈川県&quot;</td><td>&quot;神奈川県横浜市都筑区葛が谷&quot;</td><td>&quot;カナガワケンヨコハマシツヅキ…</td><td>&quot;045-123-4031&quot;</td><td>139.5633</td><td>35.53573</td><td>1886.0</td></tr></tbody></table></div>"
      ],
      "text/plain": [
       "shape: (11, 10)\n",
       "┌──────────┬────────────┬───────────┬───────────┬───┬───────────┬───────────┬──────────┬───────────┐\n",
       "│ store_cd ┆ store_name ┆ prefectur ┆ prefectur ┆ … ┆ tel_no    ┆ longitude ┆ latitude ┆ floor_are │\n",
       "│ ---      ┆ ---        ┆ e_cd      ┆ e         ┆   ┆ ---       ┆ ---       ┆ ---      ┆ a         │\n",
       "│ str      ┆ str        ┆ ---       ┆ ---       ┆   ┆ str       ┆ f64       ┆ f64      ┆ ---       │\n",
       "│          ┆            ┆ str       ┆ str       ┆   ┆           ┆           ┆          ┆ f64       │\n",
       "╞══════════╪════════════╪═══════════╪═══════════╪═══╪═══════════╪═══════════╪══════════╪═══════════╡\n",
       "│ S14010   ┆ 菊名店     ┆ 14        ┆ 神奈川県  ┆ … ┆ 045-123-4 ┆ 139.6326  ┆ 35.50049 ┆ 1732.0    │\n",
       "│          ┆            ┆           ┆           ┆   ┆ 032       ┆           ┆          ┆           │\n",
       "│ S14033   ┆ 阿久和店   ┆ 14        ┆ 神奈川県  ┆ … ┆ 045-123-4 ┆ 139.4961  ┆ 35.45918 ┆ 1495.0    │\n",
       "│          ┆            ┆           ┆           ┆   ┆ 043       ┆           ┆          ┆           │\n",
       "│ S14040   ┆ 長津田店   ┆ 14        ┆ 神奈川県  ┆ … ┆ 045-123-4 ┆ 139.4994  ┆ 35.52398 ┆ 1548.0    │\n",
       "│          ┆            ┆           ┆           ┆   ┆ 046       ┆           ┆          ┆           │\n",
       "│ S14050   ┆ 阿久和西店 ┆ 14        ┆ 神奈川県  ┆ … ┆ 045-123-4 ┆ 139.4961  ┆ 35.45918 ┆ 1830.0    │\n",
       "│          ┆            ┆           ┆           ┆   ┆ 053       ┆           ┆          ┆           │\n",
       "│ …        ┆ …          ┆ …         ┆ …         ┆ … ┆ …         ┆ …         ┆ …        ┆ …         │\n",
       "│ S14011   ┆ 日吉本町店 ┆ 14        ┆ 神奈川県  ┆ … ┆ 045-123-4 ┆ 139.6316  ┆ 35.54655 ┆ 890.0     │\n",
       "│          ┆            ┆           ┆           ┆   ┆ 033       ┆           ┆          ┆           │\n",
       "│ S14048   ┆ 中川中央店 ┆ 14        ┆ 神奈川県  ┆ … ┆ 045-123-4 ┆ 139.5758  ┆ 35.54912 ┆ 1657.0    │\n",
       "│          ┆            ┆           ┆           ┆   ┆ 051       ┆           ┆          ┆           │\n",
       "│ S14042   ┆ 新山下店   ┆ 14        ┆ 神奈川県  ┆ … ┆ 045-123-4 ┆ 139.6593  ┆ 35.43894 ┆ 1044.0    │\n",
       "│          ┆            ┆           ┆           ┆   ┆ 047       ┆           ┆          ┆           │\n",
       "│ S14006   ┆ 葛が谷店   ┆ 14        ┆ 神奈川県  ┆ … ┆ 045-123-4 ┆ 139.5633  ┆ 35.53573 ┆ 1886.0    │\n",
       "│          ┆            ┆           ┆           ┆   ┆ 031       ┆           ┆          ┆           │\n",
       "└──────────┴────────────┴───────────┴───────────┴───┴───────────┴───────────┴──────────┴───────────┘"
      ]
     },
     "execution_count": 17,
     "metadata": {},
     "output_type": "execute_result"
    }
   ],
   "source": [
    "df_012 = df_store.filter(pl.col(\"address\").str.contains(\"横浜市\"))\n",
    "\n",
    "df_012"
   ]
  },
  {
   "attachments": {},
   "cell_type": "markdown",
   "metadata": {},
   "source": [
    "---\n",
    "> P-013: 顧客データ（df_customer）から、ステータスコード（status_cd）の先頭がアルファベットのA〜Fで始まるデータを全項目抽出し、5件表示せよ。\n",
    "\n",
    "先頭の文字は`^`で表す(https://qiita.com/luohao0404/items/7135b2b96f9b0b196bf3 参照)"
   ]
  },
  {
   "cell_type": "code",
   "execution_count": 18,
   "metadata": {},
   "outputs": [
    {
     "data": {
      "text/html": [
       "<div><style>\n",
       ".dataframe > thead > tr,\n",
       ".dataframe > tbody > tr {\n",
       "  text-align: right;\n",
       "  white-space: pre-wrap;\n",
       "}\n",
       "</style>\n",
       "<small>shape: (5, 11)</small><table border=\"1\" class=\"dataframe\"><thead><tr><th>customer_id</th><th>customer_name</th><th>gender_cd</th><th>gender</th><th>birth_day</th><th>age</th><th>postal_cd</th><th>address</th><th>application_store_cd</th><th>application_date</th><th>status_cd</th></tr><tr><td>str</td><td>str</td><td>str</td><td>str</td><td>str</td><td>i64</td><td>str</td><td>str</td><td>str</td><td>str</td><td>str</td></tr></thead><tbody><tr><td>&quot;CS031415000172…</td><td>&quot;宇多田 貴美子&quot;</td><td>&quot;1&quot;</td><td>&quot;女性&quot;</td><td>&quot;1976-10-04&quot;</td><td>42</td><td>&quot;151-0053&quot;</td><td>&quot;東京都渋谷区代々木*****…</td><td>&quot;S13031&quot;</td><td>&quot;20150529&quot;</td><td>&quot;D-20100325-C&quot;</td></tr><tr><td>&quot;CS015414000103…</td><td>&quot;奥野 陽子&quot;</td><td>&quot;1&quot;</td><td>&quot;女性&quot;</td><td>&quot;1977-08-09&quot;</td><td>41</td><td>&quot;136-0073&quot;</td><td>&quot;東京都江東区北砂******…</td><td>&quot;S13015&quot;</td><td>&quot;20150722&quot;</td><td>&quot;B-20100609-B&quot;</td></tr><tr><td>&quot;CS011215000048…</td><td>&quot;芦田 沙耶&quot;</td><td>&quot;1&quot;</td><td>&quot;女性&quot;</td><td>&quot;1992-02-01&quot;</td><td>27</td><td>&quot;223-0062&quot;</td><td>&quot;神奈川県横浜市港北区日吉本町…</td><td>&quot;S14011&quot;</td><td>&quot;20150228&quot;</td><td>&quot;C-20100421-9&quot;</td></tr><tr><td>&quot;CS029415000023…</td><td>&quot;梅田 里穂&quot;</td><td>&quot;1&quot;</td><td>&quot;女性&quot;</td><td>&quot;1976-01-17&quot;</td><td>43</td><td>&quot;279-0043&quot;</td><td>&quot;千葉県浦安市富士見*****…</td><td>&quot;S12029&quot;</td><td>&quot;20150610&quot;</td><td>&quot;D-20100918-E&quot;</td></tr><tr><td>&quot;CS035415000029…</td><td>&quot;寺沢 真希&quot;</td><td>&quot;9&quot;</td><td>&quot;不明&quot;</td><td>&quot;1977-09-27&quot;</td><td>41</td><td>&quot;158-0096&quot;</td><td>&quot;東京都世田谷区玉川台****…</td><td>&quot;S13035&quot;</td><td>&quot;20141220&quot;</td><td>&quot;F-20101029-F&quot;</td></tr></tbody></table></div>"
      ],
      "text/plain": [
       "shape: (5, 11)\n",
       "┌────────────┬────────────┬───────────┬────────┬───┬───────────┬───────────┬───────────┬───────────┐\n",
       "│ customer_i ┆ customer_n ┆ gender_cd ┆ gender ┆ … ┆ address   ┆ applicati ┆ applicati ┆ status_cd │\n",
       "│ d          ┆ ame        ┆ ---       ┆ ---    ┆   ┆ ---       ┆ on_store_ ┆ on_date   ┆ ---       │\n",
       "│ ---        ┆ ---        ┆ str       ┆ str    ┆   ┆ str       ┆ cd        ┆ ---       ┆ str       │\n",
       "│ str        ┆ str        ┆           ┆        ┆   ┆           ┆ ---       ┆ str       ┆           │\n",
       "│            ┆            ┆           ┆        ┆   ┆           ┆ str       ┆           ┆           │\n",
       "╞════════════╪════════════╪═══════════╪════════╪═══╪═══════════╪═══════════╪═══════════╪═══════════╡\n",
       "│ CS03141500 ┆ 宇多田     ┆ 1         ┆ 女性   ┆ … ┆ 東京都渋  ┆ S13031    ┆ 20150529  ┆ D-2010032 │\n",
       "│ 0172       ┆ 貴美子     ┆           ┆        ┆   ┆ 谷区代々  ┆           ┆           ┆ 5-C       │\n",
       "│            ┆            ┆           ┆        ┆   ┆ 木******* ┆           ┆           ┆           │\n",
       "│            ┆            ┆           ┆        ┆   ┆ ***       ┆           ┆           ┆           │\n",
       "│ CS01541400 ┆ 奥野 陽子  ┆ 1         ┆ 女性   ┆ … ┆ 東京都江  ┆ S13015    ┆ 20150722  ┆ B-2010060 │\n",
       "│ 0103       ┆            ┆           ┆        ┆   ┆ 東区北砂* ┆           ┆           ┆ 9-B       │\n",
       "│            ┆            ┆           ┆        ┆   ┆ ********* ┆           ┆           ┆           │\n",
       "│ CS01121500 ┆ 芦田 沙耶  ┆ 1         ┆ 女性   ┆ … ┆ 神奈川県  ┆ S14011    ┆ 20150228  ┆ C-2010042 │\n",
       "│ 0048       ┆            ┆           ┆        ┆   ┆ 横浜市港  ┆           ┆           ┆ 1-9       │\n",
       "│            ┆            ┆           ┆        ┆   ┆ 北区日吉  ┆           ┆           ┆           │\n",
       "│            ┆            ┆           ┆        ┆   ┆ 本町***** ┆           ┆           ┆           │\n",
       "│            ┆            ┆           ┆        ┆   ┆ *****     ┆           ┆           ┆           │\n",
       "│ CS02941500 ┆ 梅田 里穂  ┆ 1         ┆ 女性   ┆ … ┆ 千葉県浦  ┆ S12029    ┆ 20150610  ┆ D-2010091 │\n",
       "│ 0023       ┆            ┆           ┆        ┆   ┆ 安市富士  ┆           ┆           ┆ 8-E       │\n",
       "│            ┆            ┆           ┆        ┆   ┆ 見******* ┆           ┆           ┆           │\n",
       "│            ┆            ┆           ┆        ┆   ┆ ***       ┆           ┆           ┆           │\n",
       "│ CS03541500 ┆ 寺沢 真希  ┆ 9         ┆ 不明   ┆ … ┆ 東京都世  ┆ S13035    ┆ 20141220  ┆ F-2010102 │\n",
       "│ 0029       ┆            ┆           ┆        ┆   ┆ 田谷区玉  ┆           ┆           ┆ 9-F       │\n",
       "│            ┆            ┆           ┆        ┆   ┆ 川台***** ┆           ┆           ┆           │\n",
       "│            ┆            ┆           ┆        ┆   ┆ *****     ┆           ┆           ┆           │\n",
       "└────────────┴────────────┴───────────┴────────┴───┴───────────┴───────────┴───────────┴───────────┘"
      ]
     },
     "execution_count": 18,
     "metadata": {},
     "output_type": "execute_result"
    }
   ],
   "source": [
    "df_013 = df_customer.filter(pl.col(\"status_cd\").str.contains(r\"^[A-F]\"))\n",
    "\n",
    "df_013.head()"
   ]
  },
  {
   "attachments": {},
   "cell_type": "markdown",
   "metadata": {},
   "source": [
    "---\n",
    "> P-014: 顧客データ（df_customer）から、ステータスコード（status_cd）の末尾が数字の1〜9で終わるデータを全項目抽出し、5件表示せよ。\n",
    "\n",
    "最後尾の文字は`$`で表す"
   ]
  },
  {
   "cell_type": "code",
   "execution_count": 19,
   "metadata": {},
   "outputs": [
    {
     "data": {
      "text/html": [
       "<div><style>\n",
       ".dataframe > thead > tr,\n",
       ".dataframe > tbody > tr {\n",
       "  text-align: right;\n",
       "  white-space: pre-wrap;\n",
       "}\n",
       "</style>\n",
       "<small>shape: (5, 11)</small><table border=\"1\" class=\"dataframe\"><thead><tr><th>customer_id</th><th>customer_name</th><th>gender_cd</th><th>gender</th><th>birth_day</th><th>age</th><th>postal_cd</th><th>address</th><th>application_store_cd</th><th>application_date</th><th>status_cd</th></tr><tr><td>str</td><td>str</td><td>str</td><td>str</td><td>str</td><td>i64</td><td>str</td><td>str</td><td>str</td><td>str</td><td>str</td></tr></thead><tbody><tr><td>&quot;CS001215000145…</td><td>&quot;田崎 美紀&quot;</td><td>&quot;1&quot;</td><td>&quot;女性&quot;</td><td>&quot;1995-03-29&quot;</td><td>24</td><td>&quot;144-0055&quot;</td><td>&quot;東京都大田区仲六郷*****…</td><td>&quot;S13001&quot;</td><td>&quot;20170605&quot;</td><td>&quot;6-20090929-2&quot;</td></tr><tr><td>&quot;CS033513000180…</td><td>&quot;安斎 遥&quot;</td><td>&quot;1&quot;</td><td>&quot;女性&quot;</td><td>&quot;1962-07-11&quot;</td><td>56</td><td>&quot;241-0823&quot;</td><td>&quot;神奈川県横浜市旭区善部町**…</td><td>&quot;S14033&quot;</td><td>&quot;20150728&quot;</td><td>&quot;6-20080506-5&quot;</td></tr><tr><td>&quot;CS011215000048…</td><td>&quot;芦田 沙耶&quot;</td><td>&quot;1&quot;</td><td>&quot;女性&quot;</td><td>&quot;1992-02-01&quot;</td><td>27</td><td>&quot;223-0062&quot;</td><td>&quot;神奈川県横浜市港北区日吉本町…</td><td>&quot;S14011&quot;</td><td>&quot;20150228&quot;</td><td>&quot;C-20100421-9&quot;</td></tr><tr><td>&quot;CS040412000191…</td><td>&quot;川井 郁恵&quot;</td><td>&quot;1&quot;</td><td>&quot;女性&quot;</td><td>&quot;1977-01-05&quot;</td><td>42</td><td>&quot;226-0021&quot;</td><td>&quot;神奈川県横浜市緑区北八朔町*…</td><td>&quot;S14040&quot;</td><td>&quot;20151101&quot;</td><td>&quot;1-20091025-4&quot;</td></tr><tr><td>&quot;CS009315000023…</td><td>&quot;皆川 文世&quot;</td><td>&quot;1&quot;</td><td>&quot;女性&quot;</td><td>&quot;1980-04-15&quot;</td><td>38</td><td>&quot;154-0012&quot;</td><td>&quot;東京都世田谷区駒沢*****…</td><td>&quot;S13009&quot;</td><td>&quot;20150319&quot;</td><td>&quot;5-20080322-1&quot;</td></tr></tbody></table></div>"
      ],
      "text/plain": [
       "shape: (5, 11)\n",
       "┌────────────┬────────────┬───────────┬────────┬───┬───────────┬───────────┬───────────┬───────────┐\n",
       "│ customer_i ┆ customer_n ┆ gender_cd ┆ gender ┆ … ┆ address   ┆ applicati ┆ applicati ┆ status_cd │\n",
       "│ d          ┆ ame        ┆ ---       ┆ ---    ┆   ┆ ---       ┆ on_store_ ┆ on_date   ┆ ---       │\n",
       "│ ---        ┆ ---        ┆ str       ┆ str    ┆   ┆ str       ┆ cd        ┆ ---       ┆ str       │\n",
       "│ str        ┆ str        ┆           ┆        ┆   ┆           ┆ ---       ┆ str       ┆           │\n",
       "│            ┆            ┆           ┆        ┆   ┆           ┆ str       ┆           ┆           │\n",
       "╞════════════╪════════════╪═══════════╪════════╪═══╪═══════════╪═══════════╪═══════════╪═══════════╡\n",
       "│ CS00121500 ┆ 田崎 美紀  ┆ 1         ┆ 女性   ┆ … ┆ 東京都大  ┆ S13001    ┆ 20170605  ┆ 6-2009092 │\n",
       "│ 0145       ┆            ┆           ┆        ┆   ┆ 田区仲六  ┆           ┆           ┆ 9-2       │\n",
       "│            ┆            ┆           ┆        ┆   ┆ 郷******* ┆           ┆           ┆           │\n",
       "│            ┆            ┆           ┆        ┆   ┆ ***       ┆           ┆           ┆           │\n",
       "│ CS03351300 ┆ 安斎 遥    ┆ 1         ┆ 女性   ┆ … ┆ 神奈川県  ┆ S14033    ┆ 20150728  ┆ 6-2008050 │\n",
       "│ 0180       ┆            ┆           ┆        ┆   ┆ 横浜市旭  ┆           ┆           ┆ 6-5       │\n",
       "│            ┆            ┆           ┆        ┆   ┆ 区善部町* ┆           ┆           ┆           │\n",
       "│            ┆            ┆           ┆        ┆   ┆ ********* ┆           ┆           ┆           │\n",
       "│ CS01121500 ┆ 芦田 沙耶  ┆ 1         ┆ 女性   ┆ … ┆ 神奈川県  ┆ S14011    ┆ 20150228  ┆ C-2010042 │\n",
       "│ 0048       ┆            ┆           ┆        ┆   ┆ 横浜市港  ┆           ┆           ┆ 1-9       │\n",
       "│            ┆            ┆           ┆        ┆   ┆ 北区日吉  ┆           ┆           ┆           │\n",
       "│            ┆            ┆           ┆        ┆   ┆ 本町***** ┆           ┆           ┆           │\n",
       "│            ┆            ┆           ┆        ┆   ┆ *****     ┆           ┆           ┆           │\n",
       "│ CS04041200 ┆ 川井 郁恵  ┆ 1         ┆ 女性   ┆ … ┆ 神奈川県  ┆ S14040    ┆ 20151101  ┆ 1-2009102 │\n",
       "│ 0191       ┆            ┆           ┆        ┆   ┆ 横浜市緑  ┆           ┆           ┆ 5-4       │\n",
       "│            ┆            ┆           ┆        ┆   ┆ 区北八朔  ┆           ┆           ┆           │\n",
       "│            ┆            ┆           ┆        ┆   ┆ 町******* ┆           ┆           ┆           │\n",
       "│            ┆            ┆           ┆        ┆   ┆ ***       ┆           ┆           ┆           │\n",
       "│ CS00931500 ┆ 皆川 文世  ┆ 1         ┆ 女性   ┆ … ┆ 東京都世  ┆ S13009    ┆ 20150319  ┆ 5-2008032 │\n",
       "│ 0023       ┆            ┆           ┆        ┆   ┆ 田谷区駒  ┆           ┆           ┆ 2-1       │\n",
       "│            ┆            ┆           ┆        ┆   ┆ 沢******* ┆           ┆           ┆           │\n",
       "│            ┆            ┆           ┆        ┆   ┆ ***       ┆           ┆           ┆           │\n",
       "└────────────┴────────────┴───────────┴────────┴───┴───────────┴───────────┴───────────┴───────────┘"
      ]
     },
     "execution_count": 19,
     "metadata": {},
     "output_type": "execute_result"
    }
   ],
   "source": [
    "df_014 = df_customer.filter(pl.col(\"status_cd\").str.contains(\"[1-9]$\"))\n",
    "\n",
    "df_014.head()"
   ]
  },
  {
   "attachments": {},
   "cell_type": "markdown",
   "metadata": {},
   "source": [
    "---\n",
    "> P-015: 顧客データ（df_customer）から、ステータスコード（status_cd）の先頭がアルファベットのA〜Fで始まり、末尾が数字の1〜9で終わるデータを全項目抽出し、5件表示せよ。"
   ]
  },
  {
   "cell_type": "code",
   "execution_count": 20,
   "metadata": {},
   "outputs": [
    {
     "data": {
      "text/html": [
       "<div><style>\n",
       ".dataframe > thead > tr,\n",
       ".dataframe > tbody > tr {\n",
       "  text-align: right;\n",
       "  white-space: pre-wrap;\n",
       "}\n",
       "</style>\n",
       "<small>shape: (5, 11)</small><table border=\"1\" class=\"dataframe\"><thead><tr><th>customer_id</th><th>customer_name</th><th>gender_cd</th><th>gender</th><th>birth_day</th><th>age</th><th>postal_cd</th><th>address</th><th>application_store_cd</th><th>application_date</th><th>status_cd</th></tr><tr><td>str</td><td>str</td><td>str</td><td>str</td><td>str</td><td>i64</td><td>str</td><td>str</td><td>str</td><td>str</td><td>str</td></tr></thead><tbody><tr><td>&quot;CS011215000048…</td><td>&quot;芦田 沙耶&quot;</td><td>&quot;1&quot;</td><td>&quot;女性&quot;</td><td>&quot;1992-02-01&quot;</td><td>27</td><td>&quot;223-0062&quot;</td><td>&quot;神奈川県横浜市港北区日吉本町…</td><td>&quot;S14011&quot;</td><td>&quot;20150228&quot;</td><td>&quot;C-20100421-9&quot;</td></tr><tr><td>&quot;CS022513000105…</td><td>&quot;島村 貴美子&quot;</td><td>&quot;1&quot;</td><td>&quot;女性&quot;</td><td>&quot;1962-03-12&quot;</td><td>57</td><td>&quot;249-0002&quot;</td><td>&quot;神奈川県逗子市山の根****…</td><td>&quot;S14022&quot;</td><td>&quot;20150320&quot;</td><td>&quot;A-20091115-7&quot;</td></tr><tr><td>&quot;CS001515000096…</td><td>&quot;水野 陽子&quot;</td><td>&quot;9&quot;</td><td>&quot;不明&quot;</td><td>&quot;1960-11-29&quot;</td><td>58</td><td>&quot;144-0053&quot;</td><td>&quot;東京都大田区蒲田本町****…</td><td>&quot;S13001&quot;</td><td>&quot;20150614&quot;</td><td>&quot;A-20100724-7&quot;</td></tr><tr><td>&quot;CS013615000053…</td><td>&quot;西脇 季衣&quot;</td><td>&quot;1&quot;</td><td>&quot;女性&quot;</td><td>&quot;1953-10-18&quot;</td><td>65</td><td>&quot;261-0026&quot;</td><td>&quot;千葉県千葉市美浜区幕張西**…</td><td>&quot;S12013&quot;</td><td>&quot;20150128&quot;</td><td>&quot;B-20100329-6&quot;</td></tr><tr><td>&quot;CS020412000161…</td><td>&quot;小宮 薫&quot;</td><td>&quot;1&quot;</td><td>&quot;女性&quot;</td><td>&quot;1974-05-21&quot;</td><td>44</td><td>&quot;174-0042&quot;</td><td>&quot;東京都板橋区東坂下*****…</td><td>&quot;S13020&quot;</td><td>&quot;20150822&quot;</td><td>&quot;B-20081021-3&quot;</td></tr></tbody></table></div>"
      ],
      "text/plain": [
       "shape: (5, 11)\n",
       "┌────────────┬────────────┬───────────┬────────┬───┬───────────┬───────────┬───────────┬───────────┐\n",
       "│ customer_i ┆ customer_n ┆ gender_cd ┆ gender ┆ … ┆ address   ┆ applicati ┆ applicati ┆ status_cd │\n",
       "│ d          ┆ ame        ┆ ---       ┆ ---    ┆   ┆ ---       ┆ on_store_ ┆ on_date   ┆ ---       │\n",
       "│ ---        ┆ ---        ┆ str       ┆ str    ┆   ┆ str       ┆ cd        ┆ ---       ┆ str       │\n",
       "│ str        ┆ str        ┆           ┆        ┆   ┆           ┆ ---       ┆ str       ┆           │\n",
       "│            ┆            ┆           ┆        ┆   ┆           ┆ str       ┆           ┆           │\n",
       "╞════════════╪════════════╪═══════════╪════════╪═══╪═══════════╪═══════════╪═══════════╪═══════════╡\n",
       "│ CS01121500 ┆ 芦田 沙耶  ┆ 1         ┆ 女性   ┆ … ┆ 神奈川県  ┆ S14011    ┆ 20150228  ┆ C-2010042 │\n",
       "│ 0048       ┆            ┆           ┆        ┆   ┆ 横浜市港  ┆           ┆           ┆ 1-9       │\n",
       "│            ┆            ┆           ┆        ┆   ┆ 北区日吉  ┆           ┆           ┆           │\n",
       "│            ┆            ┆           ┆        ┆   ┆ 本町***** ┆           ┆           ┆           │\n",
       "│            ┆            ┆           ┆        ┆   ┆ *****     ┆           ┆           ┆           │\n",
       "│ CS02251300 ┆ 島村       ┆ 1         ┆ 女性   ┆ … ┆ 神奈川県  ┆ S14022    ┆ 20150320  ┆ A-2009111 │\n",
       "│ 0105       ┆ 貴美子     ┆           ┆        ┆   ┆ 逗子市山  ┆           ┆           ┆ 5-7       │\n",
       "│            ┆            ┆           ┆        ┆   ┆ の根***** ┆           ┆           ┆           │\n",
       "│            ┆            ┆           ┆        ┆   ┆ *****     ┆           ┆           ┆           │\n",
       "│ CS00151500 ┆ 水野 陽子  ┆ 9         ┆ 不明   ┆ … ┆ 東京都大  ┆ S13001    ┆ 20150614  ┆ A-2010072 │\n",
       "│ 0096       ┆            ┆           ┆        ┆   ┆ 田区蒲田  ┆           ┆           ┆ 4-7       │\n",
       "│            ┆            ┆           ┆        ┆   ┆ 本町***** ┆           ┆           ┆           │\n",
       "│            ┆            ┆           ┆        ┆   ┆ *****     ┆           ┆           ┆           │\n",
       "│ CS01361500 ┆ 西脇 季衣  ┆ 1         ┆ 女性   ┆ … ┆ 千葉県千  ┆ S12013    ┆ 20150128  ┆ B-2010032 │\n",
       "│ 0053       ┆            ┆           ┆        ┆   ┆ 葉市美浜  ┆           ┆           ┆ 9-6       │\n",
       "│            ┆            ┆           ┆        ┆   ┆ 区幕張西* ┆           ┆           ┆           │\n",
       "│            ┆            ┆           ┆        ┆   ┆ ********* ┆           ┆           ┆           │\n",
       "│ CS02041200 ┆ 小宮 薫    ┆ 1         ┆ 女性   ┆ … ┆ 東京都板  ┆ S13020    ┆ 20150822  ┆ B-2008102 │\n",
       "│ 0161       ┆            ┆           ┆        ┆   ┆ 橋区東坂  ┆           ┆           ┆ 1-3       │\n",
       "│            ┆            ┆           ┆        ┆   ┆ 下******* ┆           ┆           ┆           │\n",
       "│            ┆            ┆           ┆        ┆   ┆ ***       ┆           ┆           ┆           │\n",
       "└────────────┴────────────┴───────────┴────────┴───┴───────────┴───────────┴───────────┴───────────┘"
      ]
     },
     "execution_count": 20,
     "metadata": {},
     "output_type": "execute_result"
    }
   ],
   "source": [
    "df_015 = df_customer.filter((pl.col(\"status_cd\").str.contains(\"^[A-F].*[1-9]$\")))\n",
    "\n",
    "df_015.head()"
   ]
  },
  {
   "attachments": {},
   "cell_type": "markdown",
   "metadata": {},
   "source": [
    "---\n",
    "> P-016: 店舗データ（df_store）から、電話番号（tel_no）が3桁-3桁-4桁のデータを全項目表示せよ。"
   ]
  },
  {
   "cell_type": "code",
   "execution_count": 21,
   "metadata": {},
   "outputs": [
    {
     "data": {
      "text/html": [
       "<div><style>\n",
       ".dataframe > thead > tr,\n",
       ".dataframe > tbody > tr {\n",
       "  text-align: right;\n",
       "  white-space: pre-wrap;\n",
       "}\n",
       "</style>\n",
       "<small>shape: (34, 10)</small><table border=\"1\" class=\"dataframe\"><thead><tr><th>store_cd</th><th>store_name</th><th>prefecture_cd</th><th>prefecture</th><th>address</th><th>address_kana</th><th>tel_no</th><th>longitude</th><th>latitude</th><th>floor_area</th></tr><tr><td>str</td><td>str</td><td>str</td><td>str</td><td>str</td><td>str</td><td>str</td><td>f64</td><td>f64</td><td>f64</td></tr></thead><tbody><tr><td>&quot;S12014&quot;</td><td>&quot;千草台店&quot;</td><td>&quot;12&quot;</td><td>&quot;千葉県&quot;</td><td>&quot;千葉県千葉市稲毛区千草台一丁…</td><td>&quot;チバケンチバシイナゲクチグサ…</td><td>&quot;043-123-4003&quot;</td><td>140.118</td><td>35.63559</td><td>1698.0</td></tr><tr><td>&quot;S13002&quot;</td><td>&quot;国分寺店&quot;</td><td>&quot;13&quot;</td><td>&quot;東京都&quot;</td><td>&quot;東京都国分寺市本多二丁目&quot;</td><td>&quot;トウキョウトコクブンジシホン…</td><td>&quot;042-123-4008&quot;</td><td>139.4802</td><td>35.70566</td><td>1735.0</td></tr><tr><td>&quot;S14010&quot;</td><td>&quot;菊名店&quot;</td><td>&quot;14&quot;</td><td>&quot;神奈川県&quot;</td><td>&quot;神奈川県横浜市港北区菊名一丁…</td><td>&quot;カナガワケンヨコハマシコウホ…</td><td>&quot;045-123-4032&quot;</td><td>139.6326</td><td>35.50049</td><td>1732.0</td></tr><tr><td>&quot;S14033&quot;</td><td>&quot;阿久和店&quot;</td><td>&quot;14&quot;</td><td>&quot;神奈川県&quot;</td><td>&quot;神奈川県横浜市瀬谷区阿久和西…</td><td>&quot;カナガワケンヨコハマシセヤク…</td><td>&quot;045-123-4043&quot;</td><td>139.4961</td><td>35.45918</td><td>1495.0</td></tr><tr><td>&quot;S14036&quot;</td><td>&quot;相模原中央店&quot;</td><td>&quot;14&quot;</td><td>&quot;神奈川県&quot;</td><td>&quot;神奈川県相模原市中央二丁目&quot;</td><td>&quot;カナガワケンサガミハラシチュ…</td><td>&quot;042-123-4045&quot;</td><td>139.3716</td><td>35.57327</td><td>1679.0</td></tr><tr><td>&quot;S14040&quot;</td><td>&quot;長津田店&quot;</td><td>&quot;14&quot;</td><td>&quot;神奈川県&quot;</td><td>&quot;神奈川県横浜市緑区長津田みな…</td><td>&quot;カナガワケンヨコハマシミドリ…</td><td>&quot;045-123-4046&quot;</td><td>139.4994</td><td>35.52398</td><td>1548.0</td></tr><tr><td>&quot;S14050&quot;</td><td>&quot;阿久和西店&quot;</td><td>&quot;14&quot;</td><td>&quot;神奈川県&quot;</td><td>&quot;神奈川県横浜市瀬谷区阿久和西…</td><td>&quot;カナガワケンヨコハマシセヤク…</td><td>&quot;045-123-4053&quot;</td><td>139.4961</td><td>35.45918</td><td>1830.0</td></tr><tr><td>&quot;S13052&quot;</td><td>&quot;森野店&quot;</td><td>&quot;13&quot;</td><td>&quot;東京都&quot;</td><td>&quot;東京都町田市森野三丁目&quot;</td><td>&quot;トウキョウトマチダシモリノサ…</td><td>&quot;042-123-4030&quot;</td><td>139.4383</td><td>35.55293</td><td>1087.0</td></tr><tr><td>&quot;S14028&quot;</td><td>&quot;二ツ橋店&quot;</td><td>&quot;14&quot;</td><td>&quot;神奈川県&quot;</td><td>&quot;神奈川県横浜市瀬谷区二ツ橋町…</td><td>&quot;カナガワケンヨコハマシセヤク…</td><td>&quot;045-123-4042&quot;</td><td>139.4963</td><td>35.46304</td><td>1574.0</td></tr><tr><td>&quot;S14012&quot;</td><td>&quot;本牧和田店&quot;</td><td>&quot;14&quot;</td><td>&quot;神奈川県&quot;</td><td>&quot;神奈川県横浜市中区本牧和田&quot;</td><td>&quot;カナガワケンヨコハマシナカク…</td><td>&quot;045-123-4034&quot;</td><td>139.6582</td><td>35.42156</td><td>1341.0</td></tr><tr><td>&quot;S14046&quot;</td><td>&quot;北山田店&quot;</td><td>&quot;14&quot;</td><td>&quot;神奈川県&quot;</td><td>&quot;神奈川県横浜市都筑区北山田一…</td><td>&quot;カナガワケンヨコハマシツヅキ…</td><td>&quot;045-123-4049&quot;</td><td>139.5916</td><td>35.56189</td><td>831.0</td></tr><tr><td>&quot;S14022&quot;</td><td>&quot;逗子店&quot;</td><td>&quot;14&quot;</td><td>&quot;神奈川県&quot;</td><td>&quot;神奈川県逗子市逗子一丁目&quot;</td><td>&quot;カナガワケンズシシズシイッチ…</td><td>&quot;046-123-4036&quot;</td><td>139.5789</td><td>35.29642</td><td>1838.0</td></tr><tr><td>&hellip;</td><td>&hellip;</td><td>&hellip;</td><td>&hellip;</td><td>&hellip;</td><td>&hellip;</td><td>&hellip;</td><td>&hellip;</td><td>&hellip;</td><td>&hellip;</td></tr><tr><td>&quot;S14027&quot;</td><td>&quot;南藤沢店&quot;</td><td>&quot;14&quot;</td><td>&quot;神奈川県&quot;</td><td>&quot;神奈川県藤沢市南藤沢&quot;</td><td>&quot;カナガワケンフジサワシミナミ…</td><td>&quot;046-123-4041&quot;</td><td>139.4896</td><td>35.33762</td><td>1521.0</td></tr><tr><td>&quot;S14021&quot;</td><td>&quot;伊勢原店&quot;</td><td>&quot;14&quot;</td><td>&quot;神奈川県&quot;</td><td>&quot;神奈川県伊勢原市伊勢原四丁目…</td><td>&quot;カナガワケンイセハラシイセハ…</td><td>&quot;046-123-4035&quot;</td><td>139.3129</td><td>35.40169</td><td>962.0</td></tr><tr><td>&quot;S14047&quot;</td><td>&quot;相模原店&quot;</td><td>&quot;14&quot;</td><td>&quot;神奈川県&quot;</td><td>&quot;神奈川県相模原市千代田六丁目…</td><td>&quot;カナガワケンサガミハラシチヨ…</td><td>&quot;042-123-4050&quot;</td><td>139.3748</td><td>35.55959</td><td>1047.0</td></tr><tr><td>&quot;S12013&quot;</td><td>&quot;習志野店&quot;</td><td>&quot;12&quot;</td><td>&quot;千葉県&quot;</td><td>&quot;千葉県習志野市芝園一丁目&quot;</td><td>&quot;チバケンナラシノシシバゾノイ…</td><td>&quot;047-123-4002&quot;</td><td>140.022</td><td>35.66122</td><td>808.0</td></tr><tr><td>&quot;S14042&quot;</td><td>&quot;新山下店&quot;</td><td>&quot;14&quot;</td><td>&quot;神奈川県&quot;</td><td>&quot;神奈川県横浜市中区新山下二丁…</td><td>&quot;カナガワケンヨコハマシナカク…</td><td>&quot;045-123-4047&quot;</td><td>139.6593</td><td>35.43894</td><td>1044.0</td></tr><tr><td>&quot;S12030&quot;</td><td>&quot;八幡店&quot;</td><td>&quot;12&quot;</td><td>&quot;千葉県&quot;</td><td>&quot;千葉県市川市八幡三丁目&quot;</td><td>&quot;チバケンイチカワシヤワタサン…</td><td>&quot;047-123-4005&quot;</td><td>139.924</td><td>35.72318</td><td>1162.0</td></tr><tr><td>&quot;S14025&quot;</td><td>&quot;大和店&quot;</td><td>&quot;14&quot;</td><td>&quot;神奈川県&quot;</td><td>&quot;神奈川県大和市下和田&quot;</td><td>&quot;カナガワケンヤマトシシモワダ…</td><td>&quot;046-123-4039&quot;</td><td>139.468</td><td>35.43414</td><td>1011.0</td></tr><tr><td>&quot;S14045&quot;</td><td>&quot;厚木店&quot;</td><td>&quot;14&quot;</td><td>&quot;神奈川県&quot;</td><td>&quot;神奈川県厚木市中町二丁目&quot;</td><td>&quot;カナガワケンアツギシナカチョ…</td><td>&quot;046-123-4048&quot;</td><td>139.3651</td><td>35.44182</td><td>980.0</td></tr><tr><td>&quot;S12029&quot;</td><td>&quot;東野店&quot;</td><td>&quot;12&quot;</td><td>&quot;千葉県&quot;</td><td>&quot;千葉県浦安市東野一丁目&quot;</td><td>&quot;チバケンウラヤスシヒガシノイ…</td><td>&quot;047-123-4004&quot;</td><td>139.8968</td><td>35.65086</td><td>1101.0</td></tr><tr><td>&quot;S12053&quot;</td><td>&quot;高洲店&quot;</td><td>&quot;12&quot;</td><td>&quot;千葉県&quot;</td><td>&quot;千葉県浦安市高洲五丁目&quot;</td><td>&quot;チバケンウラヤスシタカスゴチ…</td><td>&quot;047-123-4006&quot;</td><td>139.9176</td><td>35.63755</td><td>1555.0</td></tr><tr><td>&quot;S14024&quot;</td><td>&quot;三田店&quot;</td><td>&quot;14&quot;</td><td>&quot;神奈川県&quot;</td><td>&quot;神奈川県川崎市多摩区三田四丁…</td><td>&quot;カナガワケンカワサキシタマク…</td><td>&quot;044-123-4038&quot;</td><td>139.5424</td><td>35.6077</td><td>972.0</td></tr><tr><td>&quot;S14006&quot;</td><td>&quot;葛が谷店&quot;</td><td>&quot;14&quot;</td><td>&quot;神奈川県&quot;</td><td>&quot;神奈川県横浜市都筑区葛が谷&quot;</td><td>&quot;カナガワケンヨコハマシツヅキ…</td><td>&quot;045-123-4031&quot;</td><td>139.5633</td><td>35.53573</td><td>1886.0</td></tr></tbody></table></div>"
      ],
      "text/plain": [
       "shape: (34, 10)\n",
       "┌──────────┬────────────┬───────────┬───────────┬───┬───────────┬───────────┬──────────┬───────────┐\n",
       "│ store_cd ┆ store_name ┆ prefectur ┆ prefectur ┆ … ┆ tel_no    ┆ longitude ┆ latitude ┆ floor_are │\n",
       "│ ---      ┆ ---        ┆ e_cd      ┆ e         ┆   ┆ ---       ┆ ---       ┆ ---      ┆ a         │\n",
       "│ str      ┆ str        ┆ ---       ┆ ---       ┆   ┆ str       ┆ f64       ┆ f64      ┆ ---       │\n",
       "│          ┆            ┆ str       ┆ str       ┆   ┆           ┆           ┆          ┆ f64       │\n",
       "╞══════════╪════════════╪═══════════╪═══════════╪═══╪═══════════╪═══════════╪══════════╪═══════════╡\n",
       "│ S12014   ┆ 千草台店   ┆ 12        ┆ 千葉県    ┆ … ┆ 043-123-4 ┆ 140.118   ┆ 35.63559 ┆ 1698.0    │\n",
       "│          ┆            ┆           ┆           ┆   ┆ 003       ┆           ┆          ┆           │\n",
       "│ S13002   ┆ 国分寺店   ┆ 13        ┆ 東京都    ┆ … ┆ 042-123-4 ┆ 139.4802  ┆ 35.70566 ┆ 1735.0    │\n",
       "│          ┆            ┆           ┆           ┆   ┆ 008       ┆           ┆          ┆           │\n",
       "│ S14010   ┆ 菊名店     ┆ 14        ┆ 神奈川県  ┆ … ┆ 045-123-4 ┆ 139.6326  ┆ 35.50049 ┆ 1732.0    │\n",
       "│          ┆            ┆           ┆           ┆   ┆ 032       ┆           ┆          ┆           │\n",
       "│ S14033   ┆ 阿久和店   ┆ 14        ┆ 神奈川県  ┆ … ┆ 045-123-4 ┆ 139.4961  ┆ 35.45918 ┆ 1495.0    │\n",
       "│          ┆            ┆           ┆           ┆   ┆ 043       ┆           ┆          ┆           │\n",
       "│ …        ┆ …          ┆ …         ┆ …         ┆ … ┆ …         ┆ …         ┆ …        ┆ …         │\n",
       "│ S12029   ┆ 東野店     ┆ 12        ┆ 千葉県    ┆ … ┆ 047-123-4 ┆ 139.8968  ┆ 35.65086 ┆ 1101.0    │\n",
       "│          ┆            ┆           ┆           ┆   ┆ 004       ┆           ┆          ┆           │\n",
       "│ S12053   ┆ 高洲店     ┆ 12        ┆ 千葉県    ┆ … ┆ 047-123-4 ┆ 139.9176  ┆ 35.63755 ┆ 1555.0    │\n",
       "│          ┆            ┆           ┆           ┆   ┆ 006       ┆           ┆          ┆           │\n",
       "│ S14024   ┆ 三田店     ┆ 14        ┆ 神奈川県  ┆ … ┆ 044-123-4 ┆ 139.5424  ┆ 35.6077  ┆ 972.0     │\n",
       "│          ┆            ┆           ┆           ┆   ┆ 038       ┆           ┆          ┆           │\n",
       "│ S14006   ┆ 葛が谷店   ┆ 14        ┆ 神奈川県  ┆ … ┆ 045-123-4 ┆ 139.5633  ┆ 35.53573 ┆ 1886.0    │\n",
       "│          ┆            ┆           ┆           ┆   ┆ 031       ┆           ┆          ┆           │\n",
       "└──────────┴────────────┴───────────┴───────────┴───┴───────────┴───────────┴──────────┴───────────┘"
      ]
     },
     "execution_count": 21,
     "metadata": {},
     "output_type": "execute_result"
    }
   ],
   "source": [
    "df_016 = df_store.filter(pl.col(\"tel_no\").str.contains(\"[0-9]{3}-[0-9]{3}-[0-9]{4}\"))\n",
    "\n",
    "df_016"
   ]
  },
  {
   "attachments": {},
   "cell_type": "markdown",
   "metadata": {},
   "source": [
    "## ソート"
   ]
  },
  {
   "attachments": {},
   "cell_type": "markdown",
   "metadata": {},
   "source": [
    "---\n",
    "> P-017: 顧客データ（df_customer）を生年月日（birth_day）で高齢順にソートし、先頭から全項目を5件表示せよ。\n",
    "\n",
    "ソートにはエクスプレッションに対して`sort`（選択列のみ）や`sort_by`（選択列に従ってエクスプレッションがソート）を用いる"
   ]
  },
  {
   "cell_type": "code",
   "execution_count": 22,
   "metadata": {},
   "outputs": [
    {
     "data": {
      "text/html": [
       "<div><style>\n",
       ".dataframe > thead > tr,\n",
       ".dataframe > tbody > tr {\n",
       "  text-align: right;\n",
       "  white-space: pre-wrap;\n",
       "}\n",
       "</style>\n",
       "<small>shape: (5, 11)</small><table border=\"1\" class=\"dataframe\"><thead><tr><th>customer_id</th><th>customer_name</th><th>gender_cd</th><th>gender</th><th>birth_day</th><th>age</th><th>postal_cd</th><th>address</th><th>application_store_cd</th><th>application_date</th><th>status_cd</th></tr><tr><td>str</td><td>str</td><td>str</td><td>str</td><td>str</td><td>i64</td><td>str</td><td>str</td><td>str</td><td>str</td><td>str</td></tr></thead><tbody><tr><td>&quot;CS003813000014…</td><td>&quot;村山 菜々美&quot;</td><td>&quot;1&quot;</td><td>&quot;女性&quot;</td><td>&quot;1928-11-26&quot;</td><td>90</td><td>&quot;182-0007&quot;</td><td>&quot;東京都調布市菊野台*****…</td><td>&quot;S13003&quot;</td><td>&quot;20160214&quot;</td><td>&quot;0-00000000-0&quot;</td></tr><tr><td>&quot;CS026813000004…</td><td>&quot;吉村 朝陽&quot;</td><td>&quot;1&quot;</td><td>&quot;女性&quot;</td><td>&quot;1928-12-14&quot;</td><td>90</td><td>&quot;251-0043&quot;</td><td>&quot;神奈川県藤沢市辻堂元町***…</td><td>&quot;S14026&quot;</td><td>&quot;20150723&quot;</td><td>&quot;0-00000000-0&quot;</td></tr><tr><td>&quot;CS018811000003…</td><td>&quot;熊沢 美里&quot;</td><td>&quot;1&quot;</td><td>&quot;女性&quot;</td><td>&quot;1929-01-07&quot;</td><td>90</td><td>&quot;204-0004&quot;</td><td>&quot;東京都清瀬市野塩******…</td><td>&quot;S13018&quot;</td><td>&quot;20150403&quot;</td><td>&quot;0-00000000-0&quot;</td></tr><tr><td>&quot;CS027803000004…</td><td>&quot;内村 拓郎&quot;</td><td>&quot;0&quot;</td><td>&quot;男性&quot;</td><td>&quot;1929-01-12&quot;</td><td>90</td><td>&quot;251-0031&quot;</td><td>&quot;神奈川県藤沢市鵠沼藤が谷**…</td><td>&quot;S14027&quot;</td><td>&quot;20151227&quot;</td><td>&quot;0-00000000-0&quot;</td></tr><tr><td>&quot;CS013801000003…</td><td>&quot;天野 拓郎&quot;</td><td>&quot;0&quot;</td><td>&quot;男性&quot;</td><td>&quot;1929-01-15&quot;</td><td>90</td><td>&quot;274-0824&quot;</td><td>&quot;千葉県船橋市前原東*****…</td><td>&quot;S12013&quot;</td><td>&quot;20160120&quot;</td><td>&quot;0-00000000-0&quot;</td></tr></tbody></table></div>"
      ],
      "text/plain": [
       "shape: (5, 11)\n",
       "┌────────────┬────────────┬───────────┬────────┬───┬───────────┬───────────┬───────────┬───────────┐\n",
       "│ customer_i ┆ customer_n ┆ gender_cd ┆ gender ┆ … ┆ address   ┆ applicati ┆ applicati ┆ status_cd │\n",
       "│ d          ┆ ame        ┆ ---       ┆ ---    ┆   ┆ ---       ┆ on_store_ ┆ on_date   ┆ ---       │\n",
       "│ ---        ┆ ---        ┆ str       ┆ str    ┆   ┆ str       ┆ cd        ┆ ---       ┆ str       │\n",
       "│ str        ┆ str        ┆           ┆        ┆   ┆           ┆ ---       ┆ str       ┆           │\n",
       "│            ┆            ┆           ┆        ┆   ┆           ┆ str       ┆           ┆           │\n",
       "╞════════════╪════════════╪═══════════╪════════╪═══╪═══════════╪═══════════╪═══════════╪═══════════╡\n",
       "│ CS00381300 ┆ 村山       ┆ 1         ┆ 女性   ┆ … ┆ 東京都調  ┆ S13003    ┆ 20160214  ┆ 0-0000000 │\n",
       "│ 0014       ┆ 菜々美     ┆           ┆        ┆   ┆ 布市菊野  ┆           ┆           ┆ 0-0       │\n",
       "│            ┆            ┆           ┆        ┆   ┆ 台******* ┆           ┆           ┆           │\n",
       "│            ┆            ┆           ┆        ┆   ┆ ***       ┆           ┆           ┆           │\n",
       "│ CS02681300 ┆ 吉村 朝陽  ┆ 1         ┆ 女性   ┆ … ┆ 神奈川県  ┆ S14026    ┆ 20150723  ┆ 0-0000000 │\n",
       "│ 0004       ┆            ┆           ┆        ┆   ┆ 藤沢市辻  ┆           ┆           ┆ 0-0       │\n",
       "│            ┆            ┆           ┆        ┆   ┆ 堂元町*** ┆           ┆           ┆           │\n",
       "│            ┆            ┆           ┆        ┆   ┆ *******   ┆           ┆           ┆           │\n",
       "│ CS01881100 ┆ 熊沢 美里  ┆ 1         ┆ 女性   ┆ … ┆ 東京都清  ┆ S13018    ┆ 20150403  ┆ 0-0000000 │\n",
       "│ 0003       ┆            ┆           ┆        ┆   ┆ 瀬市野塩* ┆           ┆           ┆ 0-0       │\n",
       "│            ┆            ┆           ┆        ┆   ┆ ********* ┆           ┆           ┆           │\n",
       "│ CS02780300 ┆ 内村 拓郎  ┆ 0         ┆ 男性   ┆ … ┆ 神奈川県  ┆ S14027    ┆ 20151227  ┆ 0-0000000 │\n",
       "│ 0004       ┆            ┆           ┆        ┆   ┆ 藤沢市鵠  ┆           ┆           ┆ 0-0       │\n",
       "│            ┆            ┆           ┆        ┆   ┆ 沼藤が谷* ┆           ┆           ┆           │\n",
       "│            ┆            ┆           ┆        ┆   ┆ ********* ┆           ┆           ┆           │\n",
       "│ CS01380100 ┆ 天野 拓郎  ┆ 0         ┆ 男性   ┆ … ┆ 千葉県船  ┆ S12013    ┆ 20160120  ┆ 0-0000000 │\n",
       "│ 0003       ┆            ┆           ┆        ┆   ┆ 橋市前原  ┆           ┆           ┆ 0-0       │\n",
       "│            ┆            ┆           ┆        ┆   ┆ 東******* ┆           ┆           ┆           │\n",
       "│            ┆            ┆           ┆        ┆   ┆ ***       ┆           ┆           ┆           │\n",
       "└────────────┴────────────┴───────────┴────────┴───┴───────────┴───────────┴───────────┴───────────┘"
      ]
     },
     "execution_count": 22,
     "metadata": {},
     "output_type": "execute_result"
    }
   ],
   "source": [
    "df_017 = df_customer.sort(\"birth_day\")\n",
    "\n",
    "df_017.head()"
   ]
  },
  {
   "cell_type": "code",
   "execution_count": 23,
   "metadata": {},
   "outputs": [
    {
     "data": {
      "text/html": [
       "<div><style>\n",
       ".dataframe > thead > tr,\n",
       ".dataframe > tbody > tr {\n",
       "  text-align: right;\n",
       "  white-space: pre-wrap;\n",
       "}\n",
       "</style>\n",
       "<small>shape: (5, 11)</small><table border=\"1\" class=\"dataframe\"><thead><tr><th>customer_id</th><th>customer_name</th><th>gender_cd</th><th>gender</th><th>birth_day</th><th>age</th><th>postal_cd</th><th>address</th><th>application_store_cd</th><th>application_date</th><th>status_cd</th></tr><tr><td>str</td><td>str</td><td>str</td><td>str</td><td>str</td><td>i64</td><td>str</td><td>str</td><td>str</td><td>str</td><td>str</td></tr></thead><tbody><tr><td>&quot;CS003813000014…</td><td>&quot;村山 菜々美&quot;</td><td>&quot;1&quot;</td><td>&quot;女性&quot;</td><td>&quot;1928-11-26&quot;</td><td>90</td><td>&quot;182-0007&quot;</td><td>&quot;東京都調布市菊野台*****…</td><td>&quot;S13003&quot;</td><td>&quot;20160214&quot;</td><td>&quot;0-00000000-0&quot;</td></tr><tr><td>&quot;CS026813000004…</td><td>&quot;吉村 朝陽&quot;</td><td>&quot;1&quot;</td><td>&quot;女性&quot;</td><td>&quot;1928-12-14&quot;</td><td>90</td><td>&quot;251-0043&quot;</td><td>&quot;神奈川県藤沢市辻堂元町***…</td><td>&quot;S14026&quot;</td><td>&quot;20150723&quot;</td><td>&quot;0-00000000-0&quot;</td></tr><tr><td>&quot;CS018811000003…</td><td>&quot;熊沢 美里&quot;</td><td>&quot;1&quot;</td><td>&quot;女性&quot;</td><td>&quot;1929-01-07&quot;</td><td>90</td><td>&quot;204-0004&quot;</td><td>&quot;東京都清瀬市野塩******…</td><td>&quot;S13018&quot;</td><td>&quot;20150403&quot;</td><td>&quot;0-00000000-0&quot;</td></tr><tr><td>&quot;CS027803000004…</td><td>&quot;内村 拓郎&quot;</td><td>&quot;0&quot;</td><td>&quot;男性&quot;</td><td>&quot;1929-01-12&quot;</td><td>90</td><td>&quot;251-0031&quot;</td><td>&quot;神奈川県藤沢市鵠沼藤が谷**…</td><td>&quot;S14027&quot;</td><td>&quot;20151227&quot;</td><td>&quot;0-00000000-0&quot;</td></tr><tr><td>&quot;CS013801000003…</td><td>&quot;天野 拓郎&quot;</td><td>&quot;0&quot;</td><td>&quot;男性&quot;</td><td>&quot;1929-01-15&quot;</td><td>90</td><td>&quot;274-0824&quot;</td><td>&quot;千葉県船橋市前原東*****…</td><td>&quot;S12013&quot;</td><td>&quot;20160120&quot;</td><td>&quot;0-00000000-0&quot;</td></tr></tbody></table></div>"
      ],
      "text/plain": [
       "shape: (5, 11)\n",
       "┌────────────┬────────────┬───────────┬────────┬───┬───────────┬───────────┬───────────┬───────────┐\n",
       "│ customer_i ┆ customer_n ┆ gender_cd ┆ gender ┆ … ┆ address   ┆ applicati ┆ applicati ┆ status_cd │\n",
       "│ d          ┆ ame        ┆ ---       ┆ ---    ┆   ┆ ---       ┆ on_store_ ┆ on_date   ┆ ---       │\n",
       "│ ---        ┆ ---        ┆ str       ┆ str    ┆   ┆ str       ┆ cd        ┆ ---       ┆ str       │\n",
       "│ str        ┆ str        ┆           ┆        ┆   ┆           ┆ ---       ┆ str       ┆           │\n",
       "│            ┆            ┆           ┆        ┆   ┆           ┆ str       ┆           ┆           │\n",
       "╞════════════╪════════════╪═══════════╪════════╪═══╪═══════════╪═══════════╪═══════════╪═══════════╡\n",
       "│ CS00381300 ┆ 村山       ┆ 1         ┆ 女性   ┆ … ┆ 東京都調  ┆ S13003    ┆ 20160214  ┆ 0-0000000 │\n",
       "│ 0014       ┆ 菜々美     ┆           ┆        ┆   ┆ 布市菊野  ┆           ┆           ┆ 0-0       │\n",
       "│            ┆            ┆           ┆        ┆   ┆ 台******* ┆           ┆           ┆           │\n",
       "│            ┆            ┆           ┆        ┆   ┆ ***       ┆           ┆           ┆           │\n",
       "│ CS02681300 ┆ 吉村 朝陽  ┆ 1         ┆ 女性   ┆ … ┆ 神奈川県  ┆ S14026    ┆ 20150723  ┆ 0-0000000 │\n",
       "│ 0004       ┆            ┆           ┆        ┆   ┆ 藤沢市辻  ┆           ┆           ┆ 0-0       │\n",
       "│            ┆            ┆           ┆        ┆   ┆ 堂元町*** ┆           ┆           ┆           │\n",
       "│            ┆            ┆           ┆        ┆   ┆ *******   ┆           ┆           ┆           │\n",
       "│ CS01881100 ┆ 熊沢 美里  ┆ 1         ┆ 女性   ┆ … ┆ 東京都清  ┆ S13018    ┆ 20150403  ┆ 0-0000000 │\n",
       "│ 0003       ┆            ┆           ┆        ┆   ┆ 瀬市野塩* ┆           ┆           ┆ 0-0       │\n",
       "│            ┆            ┆           ┆        ┆   ┆ ********* ┆           ┆           ┆           │\n",
       "│ CS02780300 ┆ 内村 拓郎  ┆ 0         ┆ 男性   ┆ … ┆ 神奈川県  ┆ S14027    ┆ 20151227  ┆ 0-0000000 │\n",
       "│ 0004       ┆            ┆           ┆        ┆   ┆ 藤沢市鵠  ┆           ┆           ┆ 0-0       │\n",
       "│            ┆            ┆           ┆        ┆   ┆ 沼藤が谷* ┆           ┆           ┆           │\n",
       "│            ┆            ┆           ┆        ┆   ┆ ********* ┆           ┆           ┆           │\n",
       "│ CS01380100 ┆ 天野 拓郎  ┆ 0         ┆ 男性   ┆ … ┆ 千葉県船  ┆ S12013    ┆ 20160120  ┆ 0-0000000 │\n",
       "│ 0003       ┆            ┆           ┆        ┆   ┆ 橋市前原  ┆           ┆           ┆ 0-0       │\n",
       "│            ┆            ┆           ┆        ┆   ┆ 東******* ┆           ┆           ┆           │\n",
       "│            ┆            ┆           ┆        ┆   ┆ ***       ┆           ┆           ┆           │\n",
       "└────────────┴────────────┴───────────┴────────┴───┴───────────┴───────────┴───────────┴───────────┘"
      ]
     },
     "execution_count": 23,
     "metadata": {},
     "output_type": "execute_result"
    }
   ],
   "source": [
    "df_017 = df_customer.select(pl.all().sort_by(\"birth_day\"))\n",
    "\n",
    "df_017.head()"
   ]
  },
  {
   "attachments": {},
   "cell_type": "markdown",
   "metadata": {},
   "source": [
    "---\n",
    "> P-018: 顧客データ（df_customer）を生年月日（birth_day）で若い順にソートし、先頭から全項目を5件表示せよ。"
   ]
  },
  {
   "cell_type": "code",
   "execution_count": 24,
   "metadata": {},
   "outputs": [
    {
     "data": {
      "text/html": [
       "<div><style>\n",
       ".dataframe > thead > tr,\n",
       ".dataframe > tbody > tr {\n",
       "  text-align: right;\n",
       "  white-space: pre-wrap;\n",
       "}\n",
       "</style>\n",
       "<small>shape: (5, 11)</small><table border=\"1\" class=\"dataframe\"><thead><tr><th>customer_id</th><th>customer_name</th><th>gender_cd</th><th>gender</th><th>birth_day</th><th>age</th><th>postal_cd</th><th>address</th><th>application_store_cd</th><th>application_date</th><th>status_cd</th></tr><tr><td>str</td><td>str</td><td>str</td><td>str</td><td>str</td><td>i64</td><td>str</td><td>str</td><td>str</td><td>str</td><td>str</td></tr></thead><tbody><tr><td>&quot;CS035114000004…</td><td>&quot;大村 美里&quot;</td><td>&quot;1&quot;</td><td>&quot;女性&quot;</td><td>&quot;2007-11-25&quot;</td><td>11</td><td>&quot;156-0053&quot;</td><td>&quot;東京都世田谷区桜******…</td><td>&quot;S13035&quot;</td><td>&quot;20150619&quot;</td><td>&quot;6-20091205-6&quot;</td></tr><tr><td>&quot;CS022103000002…</td><td>&quot;福山 はじめ&quot;</td><td>&quot;9&quot;</td><td>&quot;不明&quot;</td><td>&quot;2007-10-02&quot;</td><td>11</td><td>&quot;249-0006&quot;</td><td>&quot;神奈川県逗子市逗子*****…</td><td>&quot;S14022&quot;</td><td>&quot;20160909&quot;</td><td>&quot;0-00000000-0&quot;</td></tr><tr><td>&quot;CS002113000009…</td><td>&quot;柴田 真悠子&quot;</td><td>&quot;1&quot;</td><td>&quot;女性&quot;</td><td>&quot;2007-09-17&quot;</td><td>11</td><td>&quot;184-0014&quot;</td><td>&quot;東京都小金井市貫井南町***…</td><td>&quot;S13002&quot;</td><td>&quot;20160304&quot;</td><td>&quot;0-00000000-0&quot;</td></tr><tr><td>&quot;CS004115000014…</td><td>&quot;松井 京子&quot;</td><td>&quot;1&quot;</td><td>&quot;女性&quot;</td><td>&quot;2007-08-09&quot;</td><td>11</td><td>&quot;165-0031&quot;</td><td>&quot;東京都中野区上鷺宮*****…</td><td>&quot;S13004&quot;</td><td>&quot;20161120&quot;</td><td>&quot;1-20081231-1&quot;</td></tr><tr><td>&quot;CS002114000010…</td><td>&quot;山内 遥&quot;</td><td>&quot;1&quot;</td><td>&quot;女性&quot;</td><td>&quot;2007-06-03&quot;</td><td>11</td><td>&quot;184-0015&quot;</td><td>&quot;東京都小金井市貫井北町***…</td><td>&quot;S13002&quot;</td><td>&quot;20160920&quot;</td><td>&quot;6-20100510-1&quot;</td></tr></tbody></table></div>"
      ],
      "text/plain": [
       "shape: (5, 11)\n",
       "┌────────────┬────────────┬───────────┬────────┬───┬───────────┬───────────┬───────────┬───────────┐\n",
       "│ customer_i ┆ customer_n ┆ gender_cd ┆ gender ┆ … ┆ address   ┆ applicati ┆ applicati ┆ status_cd │\n",
       "│ d          ┆ ame        ┆ ---       ┆ ---    ┆   ┆ ---       ┆ on_store_ ┆ on_date   ┆ ---       │\n",
       "│ ---        ┆ ---        ┆ str       ┆ str    ┆   ┆ str       ┆ cd        ┆ ---       ┆ str       │\n",
       "│ str        ┆ str        ┆           ┆        ┆   ┆           ┆ ---       ┆ str       ┆           │\n",
       "│            ┆            ┆           ┆        ┆   ┆           ┆ str       ┆           ┆           │\n",
       "╞════════════╪════════════╪═══════════╪════════╪═══╪═══════════╪═══════════╪═══════════╪═══════════╡\n",
       "│ CS03511400 ┆ 大村 美里  ┆ 1         ┆ 女性   ┆ … ┆ 東京都世  ┆ S13035    ┆ 20150619  ┆ 6-2009120 │\n",
       "│ 0004       ┆            ┆           ┆        ┆   ┆ 田谷区桜* ┆           ┆           ┆ 5-6       │\n",
       "│            ┆            ┆           ┆        ┆   ┆ ********* ┆           ┆           ┆           │\n",
       "│ CS02210300 ┆ 福山       ┆ 9         ┆ 不明   ┆ … ┆ 神奈川県  ┆ S14022    ┆ 20160909  ┆ 0-0000000 │\n",
       "│ 0002       ┆ はじめ     ┆           ┆        ┆   ┆ 逗子市逗  ┆           ┆           ┆ 0-0       │\n",
       "│            ┆            ┆           ┆        ┆   ┆ 子******* ┆           ┆           ┆           │\n",
       "│            ┆            ┆           ┆        ┆   ┆ ***       ┆           ┆           ┆           │\n",
       "│ CS00211300 ┆ 柴田       ┆ 1         ┆ 女性   ┆ … ┆ 東京都小  ┆ S13002    ┆ 20160304  ┆ 0-0000000 │\n",
       "│ 0009       ┆ 真悠子     ┆           ┆        ┆   ┆ 金井市貫  ┆           ┆           ┆ 0-0       │\n",
       "│            ┆            ┆           ┆        ┆   ┆ 井南町*** ┆           ┆           ┆           │\n",
       "│            ┆            ┆           ┆        ┆   ┆ *******   ┆           ┆           ┆           │\n",
       "│ CS00411500 ┆ 松井 京子  ┆ 1         ┆ 女性   ┆ … ┆ 東京都中  ┆ S13004    ┆ 20161120  ┆ 1-2008123 │\n",
       "│ 0014       ┆            ┆           ┆        ┆   ┆ 野区上鷺  ┆           ┆           ┆ 1-1       │\n",
       "│            ┆            ┆           ┆        ┆   ┆ 宮******* ┆           ┆           ┆           │\n",
       "│            ┆            ┆           ┆        ┆   ┆ ***       ┆           ┆           ┆           │\n",
       "│ CS00211400 ┆ 山内 遥    ┆ 1         ┆ 女性   ┆ … ┆ 東京都小  ┆ S13002    ┆ 20160920  ┆ 6-2010051 │\n",
       "│ 0010       ┆            ┆           ┆        ┆   ┆ 金井市貫  ┆           ┆           ┆ 0-1       │\n",
       "│            ┆            ┆           ┆        ┆   ┆ 井北町*** ┆           ┆           ┆           │\n",
       "│            ┆            ┆           ┆        ┆   ┆ *******   ┆           ┆           ┆           │\n",
       "└────────────┴────────────┴───────────┴────────┴───┴───────────┴───────────┴───────────┴───────────┘"
      ]
     },
     "execution_count": 24,
     "metadata": {},
     "output_type": "execute_result"
    }
   ],
   "source": [
    "# 引数にdescenging=Trueを指定すると降順になる\n",
    "\n",
    "df_018 = df_customer.sort(\"birth_day\", descending=True)\n",
    "\n",
    "df_018.head()"
   ]
  },
  {
   "attachments": {},
   "cell_type": "markdown",
   "metadata": {},
   "source": [
    "---\n",
    "> P-019: レシート明細データ（df_receipt）に対し、1件あたりの売上金額（amount）が高い順にランクを付与し、先頭から10件表示せよ。項目は顧客ID（customer_id）、売上金額（amount）、付与したランクを表示させること。なお、売上金額（amount）が等しい場合は同一順位を付与するものとする。\n",
    "\n",
    "新しい列を生成するときは`.with_columns()`メソッドを用いる<br>\n",
    "ランク付けにはエクスプレッションに対して`.rank()`メソッドを用いる。引数に与えるパラメータとして以下がある\n",
    "- `average`:同じ値のものはランクの平均値になる(例:1, 2, 3, 3, 4, 4, 5) -> rank(1, 2, 3.5, 3.5, 5.5, 5.5, 7)\n",
    "- `min`:同じ値のものはランクは最小値で表す(例:1, 2, 3, 3, 4, 4, 5) -> rank(1, 2, 3, 3, 5, 5, 7)\n",
    "- `max`:同じ値のものはランクは最大値で表す(例:1, 2, 3, 3, 4, 4, 5) -> rank(1, 2, 4, 4, 6, 6, 7)\n",
    "- `dense`:`min`と似ているが、割り当てられるランクはその前のランクの次の値になる(例:1, 2, 3, 3, 4, 4, 5) -> rank(1, 2, 3, 3, 4, 4, 5)\n",
    "- `ordinal`:`min`と似ているが、同値は値の出現順で重複なしでランクを与えられる\n",
    "- `random`:`ordinal`と似ているが、同値に与えられるランクはランダム\n",
    "\n",
    "ちょっとわかりづらいので、上記のメソッドを変更しながら確認するのを推奨"
   ]
  },
  {
   "cell_type": "code",
   "execution_count": 25,
   "metadata": {},
   "outputs": [
    {
     "data": {
      "text/html": [
       "<div><style>\n",
       ".dataframe > thead > tr,\n",
       ".dataframe > tbody > tr {\n",
       "  text-align: right;\n",
       "  white-space: pre-wrap;\n",
       "}\n",
       "</style>\n",
       "<small>shape: (10, 3)</small><table border=\"1\" class=\"dataframe\"><thead><tr><th>customer_id</th><th>amount</th><th>ranking</th></tr><tr><td>str</td><td>i64</td><td>u32</td></tr></thead><tbody><tr><td>&quot;CS011415000006…</td><td>10925</td><td>1</td></tr><tr><td>&quot;ZZ000000000000…</td><td>6800</td><td>2</td></tr><tr><td>&quot;CS028605000002…</td><td>5780</td><td>3</td></tr><tr><td>&quot;CS015515000034…</td><td>5480</td><td>4</td></tr><tr><td>&quot;ZZ000000000000…</td><td>5480</td><td>4</td></tr><tr><td>&quot;ZZ000000000000…</td><td>5480</td><td>4</td></tr><tr><td>&quot;ZZ000000000000…</td><td>5440</td><td>7</td></tr><tr><td>&quot;CS021515000089…</td><td>5440</td><td>7</td></tr><tr><td>&quot;CS015515000083…</td><td>5280</td><td>9</td></tr><tr><td>&quot;CS017414000114…</td><td>5280</td><td>9</td></tr></tbody></table></div>"
      ],
      "text/plain": [
       "shape: (10, 3)\n",
       "┌────────────────┬────────┬─────────┐\n",
       "│ customer_id    ┆ amount ┆ ranking │\n",
       "│ ---            ┆ ---    ┆ ---     │\n",
       "│ str            ┆ i64    ┆ u32     │\n",
       "╞════════════════╪════════╪═════════╡\n",
       "│ CS011415000006 ┆ 10925  ┆ 1       │\n",
       "│ ZZ000000000000 ┆ 6800   ┆ 2       │\n",
       "│ CS028605000002 ┆ 5780   ┆ 3       │\n",
       "│ CS015515000034 ┆ 5480   ┆ 4       │\n",
       "│ …              ┆ …      ┆ …       │\n",
       "│ ZZ000000000000 ┆ 5440   ┆ 7       │\n",
       "│ CS021515000089 ┆ 5440   ┆ 7       │\n",
       "│ CS015515000083 ┆ 5280   ┆ 9       │\n",
       "│ CS017414000114 ┆ 5280   ┆ 9       │\n",
       "└────────────────┴────────┴─────────┘"
      ]
     },
     "execution_count": 25,
     "metadata": {},
     "output_type": "execute_result"
    }
   ],
   "source": [
    "df_019 = (\n",
    "    df_receipt.select(\"customer_id\", \"amount\")\n",
    "    .with_columns(\n",
    "        (pl.col(\"amount\").rank(method=\"min\", descending=True)).alias(\"ranking\")\n",
    "    )\n",
    "    .sort(\"ranking\")\n",
    ")\n",
    "\n",
    "df_019.head(10)"
   ]
  },
  {
   "attachments": {},
   "cell_type": "markdown",
   "metadata": {},
   "source": [
    "---\n",
    "> P-020: レシート明細データ（df_receipt）に対し、1件あたりの売上金額（amount）が高い順にランクを付与し、先頭から10件表示せよ。項目は顧客ID（customer_id）、売上金額（amount）、付与したランクを表示させること。なお、売上金額（amount）が等しい場合でも別順位を付与すること。"
   ]
  },
  {
   "cell_type": "code",
   "execution_count": 26,
   "metadata": {},
   "outputs": [
    {
     "data": {
      "text/html": [
       "<div><style>\n",
       ".dataframe > thead > tr,\n",
       ".dataframe > tbody > tr {\n",
       "  text-align: right;\n",
       "  white-space: pre-wrap;\n",
       "}\n",
       "</style>\n",
       "<small>shape: (10, 3)</small><table border=\"1\" class=\"dataframe\"><thead><tr><th>customer_id</th><th>amount</th><th>ranking</th></tr><tr><td>str</td><td>i64</td><td>u32</td></tr></thead><tbody><tr><td>&quot;CS011415000006…</td><td>10925</td><td>1</td></tr><tr><td>&quot;ZZ000000000000…</td><td>6800</td><td>2</td></tr><tr><td>&quot;CS028605000002…</td><td>5780</td><td>3</td></tr><tr><td>&quot;CS015515000034…</td><td>5480</td><td>4</td></tr><tr><td>&quot;ZZ000000000000…</td><td>5480</td><td>5</td></tr><tr><td>&quot;ZZ000000000000…</td><td>5480</td><td>6</td></tr><tr><td>&quot;ZZ000000000000…</td><td>5440</td><td>7</td></tr><tr><td>&quot;CS021515000089…</td><td>5440</td><td>8</td></tr><tr><td>&quot;CS015515000083…</td><td>5280</td><td>9</td></tr><tr><td>&quot;CS017414000114…</td><td>5280</td><td>10</td></tr></tbody></table></div>"
      ],
      "text/plain": [
       "shape: (10, 3)\n",
       "┌────────────────┬────────┬─────────┐\n",
       "│ customer_id    ┆ amount ┆ ranking │\n",
       "│ ---            ┆ ---    ┆ ---     │\n",
       "│ str            ┆ i64    ┆ u32     │\n",
       "╞════════════════╪════════╪═════════╡\n",
       "│ CS011415000006 ┆ 10925  ┆ 1       │\n",
       "│ ZZ000000000000 ┆ 6800   ┆ 2       │\n",
       "│ CS028605000002 ┆ 5780   ┆ 3       │\n",
       "│ CS015515000034 ┆ 5480   ┆ 4       │\n",
       "│ …              ┆ …      ┆ …       │\n",
       "│ ZZ000000000000 ┆ 5440   ┆ 7       │\n",
       "│ CS021515000089 ┆ 5440   ┆ 8       │\n",
       "│ CS015515000083 ┆ 5280   ┆ 9       │\n",
       "│ CS017414000114 ┆ 5280   ┆ 10      │\n",
       "└────────────────┴────────┴─────────┘"
      ]
     },
     "execution_count": 26,
     "metadata": {},
     "output_type": "execute_result"
    }
   ],
   "source": [
    "df_020 = (\n",
    "    df_receipt.select([\"customer_id\", \"amount\"])\n",
    "    .with_columns(\n",
    "        [(pl.col(\"amount\").rank(method=\"ordinal\", descending=True)).alias(\"ranking\")]\n",
    "    )\n",
    "    .sort(\"ranking\")\n",
    ")\n",
    "\n",
    "df_020.head(10)"
   ]
  },
  {
   "attachments": {},
   "cell_type": "markdown",
   "metadata": {},
   "source": [
    "## 集計"
   ]
  },
  {
   "attachments": {},
   "cell_type": "markdown",
   "metadata": {},
   "source": [
    "---\n",
    "> P-021: レシート明細データ（df_receipt）に対し、件数をカウントせよ。"
   ]
  },
  {
   "cell_type": "code",
   "execution_count": 27,
   "metadata": {},
   "outputs": [
    {
     "data": {
      "text/plain": [
       "104681"
      ]
     },
     "execution_count": 27,
     "metadata": {},
     "output_type": "execute_result"
    }
   ],
   "source": [
    "len(df_receipt)"
   ]
  },
  {
   "attachments": {},
   "cell_type": "markdown",
   "metadata": {},
   "source": [
    "---\n",
    "> P-022: レシート明細データ（df_receipt）の顧客ID（customer_id）に対し、ユニーク件数をカウントせよ。"
   ]
  },
  {
   "cell_type": "code",
   "execution_count": 28,
   "metadata": {},
   "outputs": [
    {
     "data": {
      "text/html": [
       "<div><style>\n",
       ".dataframe > thead > tr,\n",
       ".dataframe > tbody > tr {\n",
       "  text-align: right;\n",
       "  white-space: pre-wrap;\n",
       "}\n",
       "</style>\n",
       "<small>shape: (1, 1)</small><table border=\"1\" class=\"dataframe\"><thead><tr><th>customer_id</th></tr><tr><td>u32</td></tr></thead><tbody><tr><td>8307</td></tr></tbody></table></div>"
      ],
      "text/plain": [
       "shape: (1, 1)\n",
       "┌─────────────┐\n",
       "│ customer_id │\n",
       "│ ---         │\n",
       "│ u32         │\n",
       "╞═════════════╡\n",
       "│ 8307        │\n",
       "└─────────────┘"
      ]
     },
     "execution_count": 28,
     "metadata": {},
     "output_type": "execute_result"
    }
   ],
   "source": [
    "# len(df_receipt.select(pl.col(\"customer_id\").unique()))\n",
    "df_receipt.select(pl.col(\"customer_id\").unique().count())"
   ]
  },
  {
   "attachments": {},
   "cell_type": "markdown",
   "metadata": {},
   "source": [
    "---\n",
    "> P-023: レシート明細データ（df_receipt）に対し、店舗コード（store_cd）ごとに売上金額（amount）と売上数量（quantity）を合計せよ。"
   ]
  },
  {
   "cell_type": "code",
   "execution_count": 29,
   "metadata": {},
   "outputs": [
    {
     "data": {
      "text/html": [
       "<div><style>\n",
       ".dataframe > thead > tr,\n",
       ".dataframe > tbody > tr {\n",
       "  text-align: right;\n",
       "  white-space: pre-wrap;\n",
       "}\n",
       "</style>\n",
       "<small>shape: (5, 3)</small><table border=\"1\" class=\"dataframe\"><thead><tr><th>store_cd</th><th>amount</th><th>quantity</th></tr><tr><td>str</td><td>i64</td><td>i64</td></tr></thead><tbody><tr><td>&quot;S12007&quot;</td><td>638761</td><td>2099</td></tr><tr><td>&quot;S12013&quot;</td><td>787513</td><td>2425</td></tr><tr><td>&quot;S12014&quot;</td><td>725167</td><td>2358</td></tr><tr><td>&quot;S12029&quot;</td><td>794741</td><td>2555</td></tr><tr><td>&quot;S12030&quot;</td><td>684402</td><td>2403</td></tr></tbody></table></div>"
      ],
      "text/plain": [
       "shape: (5, 3)\n",
       "┌──────────┬────────┬──────────┐\n",
       "│ store_cd ┆ amount ┆ quantity │\n",
       "│ ---      ┆ ---    ┆ ---      │\n",
       "│ str      ┆ i64    ┆ i64      │\n",
       "╞══════════╪════════╪══════════╡\n",
       "│ S12007   ┆ 638761 ┆ 2099     │\n",
       "│ S12013   ┆ 787513 ┆ 2425     │\n",
       "│ S12014   ┆ 725167 ┆ 2358     │\n",
       "│ S12029   ┆ 794741 ┆ 2555     │\n",
       "│ S12030   ┆ 684402 ┆ 2403     │\n",
       "└──────────┴────────┴──────────┘"
      ]
     },
     "execution_count": 29,
     "metadata": {},
     "output_type": "execute_result"
    }
   ],
   "source": [
    "df_023 = (\n",
    "    df_receipt.group_by(\"store_cd\")\n",
    "    .agg(pl.col(\"amount\").sum(), pl.col(\"quantity\").sum())\n",
    "    .sort(pl.col(\"store_cd\"))\n",
    ")\n",
    "df_023.head(5)"
   ]
  },
  {
   "attachments": {},
   "cell_type": "markdown",
   "metadata": {},
   "source": [
    "---\n",
    "> P-024: レシート明細データ（df_receipt）に対し、顧客ID（customer_id）ごとに最も新しい売上年月日（sales_ymd）を求め、5件表示せよ。"
   ]
  },
  {
   "cell_type": "code",
   "execution_count": 30,
   "metadata": {},
   "outputs": [
    {
     "data": {
      "text/html": [
       "<div><style>\n",
       ".dataframe > thead > tr,\n",
       ".dataframe > tbody > tr {\n",
       "  text-align: right;\n",
       "  white-space: pre-wrap;\n",
       "}\n",
       "</style>\n",
       "<small>shape: (5, 2)</small><table border=\"1\" class=\"dataframe\"><thead><tr><th>customer_id</th><th>sales_ymd</th></tr><tr><td>str</td><td>i64</td></tr></thead><tbody><tr><td>&quot;CS003513000561…</td><td>20191031</td></tr><tr><td>&quot;CS039513000140…</td><td>20191031</td></tr><tr><td>&quot;CS039513000004…</td><td>20191031</td></tr><tr><td>&quot;CS023512000051…</td><td>20191031</td></tr><tr><td>&quot;CS022615000144…</td><td>20191031</td></tr></tbody></table></div>"
      ],
      "text/plain": [
       "shape: (5, 2)\n",
       "┌────────────────┬───────────┐\n",
       "│ customer_id    ┆ sales_ymd │\n",
       "│ ---            ┆ ---       │\n",
       "│ str            ┆ i64       │\n",
       "╞════════════════╪═══════════╡\n",
       "│ CS003513000561 ┆ 20191031  │\n",
       "│ CS039513000140 ┆ 20191031  │\n",
       "│ CS039513000004 ┆ 20191031  │\n",
       "│ CS023512000051 ┆ 20191031  │\n",
       "│ CS022615000144 ┆ 20191031  │\n",
       "└────────────────┴───────────┘"
      ]
     },
     "execution_count": 30,
     "metadata": {},
     "output_type": "execute_result"
    }
   ],
   "source": [
    "df_024 = (\n",
    "    df_receipt.group_by(\"customer_id\")\n",
    "    .agg(pl.col(\"sales_ymd\").max())\n",
    "    .sort(pl.col(\"sales_ymd\"), descending=True)\n",
    ")\n",
    "\n",
    "df_024.head(5)"
   ]
  },
  {
   "attachments": {},
   "cell_type": "markdown",
   "metadata": {},
   "source": [
    "---\n",
    "> P-025: レシート明細データ（df_receipt）に対し、顧客ID（customer_id）ごとに最も古い売上年月日（sales_ymd）を求め、10件表示せよ。"
   ]
  },
  {
   "cell_type": "code",
   "execution_count": 31,
   "metadata": {},
   "outputs": [
    {
     "data": {
      "text/html": [
       "<div><style>\n",
       ".dataframe > thead > tr,\n",
       ".dataframe > tbody > tr {\n",
       "  text-align: right;\n",
       "  white-space: pre-wrap;\n",
       "}\n",
       "</style>\n",
       "<small>shape: (5, 2)</small><table border=\"1\" class=\"dataframe\"><thead><tr><th>customer_id</th><th>sales_ymd</th></tr><tr><td>str</td><td>i64</td></tr></thead><tbody><tr><td>&quot;CS029214000004…</td><td>20170101</td></tr><tr><td>&quot;CS021514000082…</td><td>20170101</td></tr><tr><td>&quot;CS014411000048…</td><td>20170101</td></tr><tr><td>&quot;CS006515000089…</td><td>20170101</td></tr><tr><td>&quot;CS008414000056…</td><td>20170101</td></tr></tbody></table></div>"
      ],
      "text/plain": [
       "shape: (5, 2)\n",
       "┌────────────────┬───────────┐\n",
       "│ customer_id    ┆ sales_ymd │\n",
       "│ ---            ┆ ---       │\n",
       "│ str            ┆ i64       │\n",
       "╞════════════════╪═══════════╡\n",
       "│ CS029214000004 ┆ 20170101  │\n",
       "│ CS021514000082 ┆ 20170101  │\n",
       "│ CS014411000048 ┆ 20170101  │\n",
       "│ CS006515000089 ┆ 20170101  │\n",
       "│ CS008414000056 ┆ 20170101  │\n",
       "└────────────────┴───────────┘"
      ]
     },
     "execution_count": 31,
     "metadata": {},
     "output_type": "execute_result"
    }
   ],
   "source": [
    "df_025 = (\n",
    "    df_receipt.group_by(\"customer_id\")\n",
    "    .agg(pl.col(\"sales_ymd\").min())\n",
    "    .sort(pl.col(\"sales_ymd\"), descending=False)\n",
    ")\n",
    "\n",
    "df_025.head(5)"
   ]
  },
  {
   "attachments": {},
   "cell_type": "markdown",
   "metadata": {},
   "source": [
    "---\n",
    "> P-026: レシート明細データ（df_receipt）に対し、顧客ID（customer_id）ごとに最も新しい売上年月日（sales_ymd）と古い売上年月日を求め、両者が異なるデータを10件表示せよ。"
   ]
  },
  {
   "cell_type": "code",
   "execution_count": 32,
   "metadata": {},
   "outputs": [
    {
     "data": {
      "text/html": [
       "<div><style>\n",
       ".dataframe > thead > tr,\n",
       ".dataframe > tbody > tr {\n",
       "  text-align: right;\n",
       "  white-space: pre-wrap;\n",
       "}\n",
       "</style>\n",
       "<small>shape: (10, 3)</small><table border=\"1\" class=\"dataframe\"><thead><tr><th>customer_id</th><th>sales_ymd_min</th><th>sales_ymd_max</th></tr><tr><td>str</td><td>i64</td><td>i64</td></tr></thead><tbody><tr><td>&quot;CS020413000033…</td><td>20170908</td><td>20170908</td></tr><tr><td>&quot;CS002305000010…</td><td>20180915</td><td>20190518</td></tr><tr><td>&quot;CS039412000056…</td><td>20170916</td><td>20190314</td></tr><tr><td>&quot;CS011412000049…</td><td>20170310</td><td>20180209</td></tr><tr><td>&quot;CS011214000001…</td><td>20170202</td><td>20191023</td></tr><tr><td>&quot;CS032414000002…</td><td>20170307</td><td>20190909</td></tr><tr><td>&quot;CS019605000001…</td><td>20170410</td><td>20190413</td></tr><tr><td>&quot;CS011515000016…</td><td>20170408</td><td>20190831</td></tr><tr><td>&quot;CS002412000172…</td><td>20171021</td><td>20171021</td></tr><tr><td>&quot;CS038512000063…</td><td>20171208</td><td>20171208</td></tr></tbody></table></div>"
      ],
      "text/plain": [
       "shape: (10, 3)\n",
       "┌────────────────┬───────────────┬───────────────┐\n",
       "│ customer_id    ┆ sales_ymd_min ┆ sales_ymd_max │\n",
       "│ ---            ┆ ---           ┆ ---           │\n",
       "│ str            ┆ i64           ┆ i64           │\n",
       "╞════════════════╪═══════════════╪═══════════════╡\n",
       "│ CS020413000033 ┆ 20170908      ┆ 20170908      │\n",
       "│ CS002305000010 ┆ 20180915      ┆ 20190518      │\n",
       "│ CS039412000056 ┆ 20170916      ┆ 20190314      │\n",
       "│ CS011412000049 ┆ 20170310      ┆ 20180209      │\n",
       "│ …              ┆ …             ┆ …             │\n",
       "│ CS019605000001 ┆ 20170410      ┆ 20190413      │\n",
       "│ CS011515000016 ┆ 20170408      ┆ 20190831      │\n",
       "│ CS002412000172 ┆ 20171021      ┆ 20171021      │\n",
       "│ CS038512000063 ┆ 20171208      ┆ 20171208      │\n",
       "└────────────────┴───────────────┴───────────────┘"
      ]
     },
     "execution_count": 32,
     "metadata": {},
     "output_type": "execute_result"
    }
   ],
   "source": [
    "df_026 = df_receipt.group_by(\"customer_id\").agg(\n",
    "    pl.col(\"sales_ymd\").min().alias(\"sales_ymd_min\"),\n",
    "    pl.col(\"sales_ymd\").max().alias(\"sales_ymd_max\"),\n",
    ")\n",
    "df_026.head(10)"
   ]
  },
  {
   "attachments": {},
   "cell_type": "markdown",
   "metadata": {},
   "source": [
    "---\n",
    "> P-027: レシート明細データ（df_receipt）に対し、店舗コード（store_cd）ごとに売上金額（amount）の平均を計算し、降順でTOP5を表示せよ。"
   ]
  },
  {
   "cell_type": "code",
   "execution_count": 33,
   "metadata": {},
   "outputs": [
    {
     "data": {
      "text/html": [
       "<div><style>\n",
       ".dataframe > thead > tr,\n",
       ".dataframe > tbody > tr {\n",
       "  text-align: right;\n",
       "  white-space: pre-wrap;\n",
       "}\n",
       "</style>\n",
       "<small>shape: (5, 2)</small><table border=\"1\" class=\"dataframe\"><thead><tr><th>store_cd</th><th>amount</th></tr><tr><td>str</td><td>f64</td></tr></thead><tbody><tr><td>&quot;S13052&quot;</td><td>402.86747</td></tr><tr><td>&quot;S13015&quot;</td><td>351.11196</td></tr><tr><td>&quot;S13003&quot;</td><td>350.915519</td></tr><tr><td>&quot;S14010&quot;</td><td>348.791262</td></tr><tr><td>&quot;S13001&quot;</td><td>348.470386</td></tr></tbody></table></div>"
      ],
      "text/plain": [
       "shape: (5, 2)\n",
       "┌──────────┬────────────┐\n",
       "│ store_cd ┆ amount     │\n",
       "│ ---      ┆ ---        │\n",
       "│ str      ┆ f64        │\n",
       "╞══════════╪════════════╡\n",
       "│ S13052   ┆ 402.86747  │\n",
       "│ S13015   ┆ 351.11196  │\n",
       "│ S13003   ┆ 350.915519 │\n",
       "│ S14010   ┆ 348.791262 │\n",
       "│ S13001   ┆ 348.470386 │\n",
       "└──────────┴────────────┘"
      ]
     },
     "execution_count": 33,
     "metadata": {},
     "output_type": "execute_result"
    }
   ],
   "source": [
    "df_027 = (\n",
    "    df_receipt.group_by(\"store_cd\")\n",
    "    .agg(pl.col(\"amount\").mean())\n",
    "    .sort(pl.col(\"amount\"), descending=True)\n",
    ")\n",
    "\n",
    "df_027.head(5)"
   ]
  },
  {
   "attachments": {},
   "cell_type": "markdown",
   "metadata": {},
   "source": [
    "---\n",
    "> P-028: レシート明細データ（df_receipt）に対し、店舗コード（store_cd）ごとに売上金額（amount）の中央値を計算し、降順でTOP5を表示せよ。"
   ]
  },
  {
   "cell_type": "code",
   "execution_count": 34,
   "metadata": {},
   "outputs": [
    {
     "data": {
      "text/html": [
       "<div><style>\n",
       ".dataframe > thead > tr,\n",
       ".dataframe > tbody > tr {\n",
       "  text-align: right;\n",
       "  white-space: pre-wrap;\n",
       "}\n",
       "</style>\n",
       "<small>shape: (5, 2)</small><table border=\"1\" class=\"dataframe\"><thead><tr><th>store_cd</th><th>amount</th></tr><tr><td>str</td><td>f64</td></tr></thead><tbody><tr><td>&quot;S13052&quot;</td><td>190.0</td></tr><tr><td>&quot;S14010&quot;</td><td>188.0</td></tr><tr><td>&quot;S14050&quot;</td><td>185.0</td></tr><tr><td>&quot;S14040&quot;</td><td>180.0</td></tr><tr><td>&quot;S13003&quot;</td><td>180.0</td></tr></tbody></table></div>"
      ],
      "text/plain": [
       "shape: (5, 2)\n",
       "┌──────────┬────────┐\n",
       "│ store_cd ┆ amount │\n",
       "│ ---      ┆ ---    │\n",
       "│ str      ┆ f64    │\n",
       "╞══════════╪════════╡\n",
       "│ S13052   ┆ 190.0  │\n",
       "│ S14010   ┆ 188.0  │\n",
       "│ S14050   ┆ 185.0  │\n",
       "│ S14040   ┆ 180.0  │\n",
       "│ S13003   ┆ 180.0  │\n",
       "└──────────┴────────┘"
      ]
     },
     "execution_count": 34,
     "metadata": {},
     "output_type": "execute_result"
    }
   ],
   "source": [
    "df_028 = (\n",
    "    df_receipt.group_by(\"store_cd\")\n",
    "    .agg(pl.col(\"amount\").median())\n",
    "    .sort(pl.col(\"amount\"), descending=True)\n",
    ")\n",
    "df_028.head(5)"
   ]
  },
  {
   "attachments": {},
   "cell_type": "markdown",
   "metadata": {},
   "source": [
    "---\n",
    "> P-029: レシート明細データ（df_receipt）に対し、店舗コード（store_cd）ごとに商品コード（product_cd）の最頻値を求め、10件表示させよ。"
   ]
  },
  {
   "cell_type": "code",
   "execution_count": 35,
   "metadata": {},
   "outputs": [
    {
     "data": {
      "text/html": [
       "<div><style>\n",
       ".dataframe > thead > tr,\n",
       ".dataframe > tbody > tr {\n",
       "  text-align: right;\n",
       "  white-space: pre-wrap;\n",
       "}\n",
       "</style>\n",
       "<small>shape: (5, 3)</small><table border=\"1\" class=\"dataframe\"><thead><tr><th>store_cd</th><th>product_cd</th><th>lebel_1</th></tr><tr><td>str</td><td>list[str]</td><td>u32</td></tr></thead><tbody><tr><td>&quot;S12013&quot;</td><td>[&quot;P060303001&quot;]</td><td>1</td></tr><tr><td>&quot;S12030&quot;</td><td>[&quot;P060303001&quot;]</td><td>1</td></tr><tr><td>&quot;S14049&quot;</td><td>[&quot;P060303001&quot;]</td><td>1</td></tr><tr><td>&quot;S14046&quot;</td><td>[&quot;P060303001&quot;]</td><td>1</td></tr><tr><td>&quot;S13009&quot;</td><td>[&quot;P060303001&quot;]</td><td>1</td></tr></tbody></table></div>"
      ],
      "text/plain": [
       "shape: (5, 3)\n",
       "┌──────────┬────────────────┬─────────┐\n",
       "│ store_cd ┆ product_cd     ┆ lebel_1 │\n",
       "│ ---      ┆ ---            ┆ ---     │\n",
       "│ str      ┆ list[str]      ┆ u32     │\n",
       "╞══════════╪════════════════╪═════════╡\n",
       "│ S12013   ┆ [\"P060303001\"] ┆ 1       │\n",
       "│ S12030   ┆ [\"P060303001\"] ┆ 1       │\n",
       "│ S14049   ┆ [\"P060303001\"] ┆ 1       │\n",
       "│ S14046   ┆ [\"P060303001\"] ┆ 1       │\n",
       "│ S13009   ┆ [\"P060303001\"] ┆ 1       │\n",
       "└──────────┴────────────────┴─────────┘"
      ]
     },
     "execution_count": 35,
     "metadata": {},
     "output_type": "execute_result"
    }
   ],
   "source": [
    "df_029 = df_receipt.group_by(\"store_cd\").agg(\n",
    "    pl.col(\"product_cd\").mode(), pl.col(\"product_cd\").mode().count().alias(\"lebel_1\")\n",
    ")\n",
    "\n",
    "df_029.head(5)"
   ]
  },
  {
   "attachments": {},
   "cell_type": "markdown",
   "metadata": {},
   "source": [
    "---\n",
    "> P-030: レシート明細データ（df_receipt）に対し、店舗コード（store_cd）ごとに売上金額（amount）の分散を計算し、降順で5件表示せよ。"
   ]
  },
  {
   "cell_type": "code",
   "execution_count": 36,
   "metadata": {},
   "outputs": [
    {
     "data": {
      "text/html": [
       "<div><style>\n",
       ".dataframe > thead > tr,\n",
       ".dataframe > tbody > tr {\n",
       "  text-align: right;\n",
       "  white-space: pre-wrap;\n",
       "}\n",
       "</style>\n",
       "<small>shape: (5, 2)</small><table border=\"1\" class=\"dataframe\"><thead><tr><th>store_cd</th><th>var_amount</th></tr><tr><td>str</td><td>f64</td></tr></thead><tbody><tr><td>&quot;S13052&quot;</td><td>440088.701311</td></tr><tr><td>&quot;S14011&quot;</td><td>306314.558164</td></tr><tr><td>&quot;S14034&quot;</td><td>296920.081011</td></tr><tr><td>&quot;S13001&quot;</td><td>295431.993329</td></tr><tr><td>&quot;S13015&quot;</td><td>295294.361116</td></tr></tbody></table></div>"
      ],
      "text/plain": [
       "shape: (5, 2)\n",
       "┌──────────┬───────────────┐\n",
       "│ store_cd ┆ var_amount    │\n",
       "│ ---      ┆ ---           │\n",
       "│ str      ┆ f64           │\n",
       "╞══════════╪═══════════════╡\n",
       "│ S13052   ┆ 440088.701311 │\n",
       "│ S14011   ┆ 306314.558164 │\n",
       "│ S14034   ┆ 296920.081011 │\n",
       "│ S13001   ┆ 295431.993329 │\n",
       "│ S13015   ┆ 295294.361116 │\n",
       "└──────────┴───────────────┘"
      ]
     },
     "execution_count": 36,
     "metadata": {},
     "output_type": "execute_result"
    }
   ],
   "source": [
    "df_030 = (\n",
    "    df_receipt.group_by(\"store_cd\")\n",
    "    .agg(pl.col(\"amount\").var(ddof=0).alias(\"var_amount\"))  # ddof=0:母標準偏差\n",
    "    .sort(\"var_amount\", descending=True)\n",
    ")\n",
    "\n",
    "df_030.head(5)"
   ]
  },
  {
   "attachments": {},
   "cell_type": "markdown",
   "metadata": {},
   "source": [
    "---\n",
    "> P-031: レシート明細データ（df_receipt）に対し、店舗コード（store_cd）ごとに売上金額（amount）の標準偏差を計算し、降順で5件表示せよ。"
   ]
  },
  {
   "cell_type": "code",
   "execution_count": 37,
   "metadata": {},
   "outputs": [
    {
     "data": {
      "text/html": [
       "<div><style>\n",
       ".dataframe > thead > tr,\n",
       ".dataframe > tbody > tr {\n",
       "  text-align: right;\n",
       "  white-space: pre-wrap;\n",
       "}\n",
       "</style>\n",
       "<small>shape: (5, 2)</small><table border=\"1\" class=\"dataframe\"><thead><tr><th>store_cd</th><th>std_amount</th></tr><tr><td>str</td><td>f64</td></tr></thead><tbody><tr><td>&quot;S13052&quot;</td><td>663.391816</td></tr><tr><td>&quot;S14011&quot;</td><td>553.456916</td></tr><tr><td>&quot;S14034&quot;</td><td>544.903736</td></tr><tr><td>&quot;S13001&quot;</td><td>543.536561</td></tr><tr><td>&quot;S13015&quot;</td><td>543.409938</td></tr></tbody></table></div>"
      ],
      "text/plain": [
       "shape: (5, 2)\n",
       "┌──────────┬────────────┐\n",
       "│ store_cd ┆ std_amount │\n",
       "│ ---      ┆ ---        │\n",
       "│ str      ┆ f64        │\n",
       "╞══════════╪════════════╡\n",
       "│ S13052   ┆ 663.391816 │\n",
       "│ S14011   ┆ 553.456916 │\n",
       "│ S14034   ┆ 544.903736 │\n",
       "│ S13001   ┆ 543.536561 │\n",
       "│ S13015   ┆ 543.409938 │\n",
       "└──────────┴────────────┘"
      ]
     },
     "execution_count": 37,
     "metadata": {},
     "output_type": "execute_result"
    }
   ],
   "source": [
    "df_031 = (\n",
    "    df_receipt.group_by(\"store_cd\")\n",
    "    .agg(pl.col(\"amount\").std(ddof=0).alias(\"std_amount\"))\n",
    "    .sort(\"std_amount\", descending=True)\n",
    ")\n",
    "df_031.head(5)"
   ]
  },
  {
   "attachments": {},
   "cell_type": "markdown",
   "metadata": {},
   "source": [
    "---\n",
    "> P-032: レシート明細データ（df_receipt）の売上金額（amount）について、25％刻みでパーセンタイル値を求めよ。"
   ]
  },
  {
   "cell_type": "code",
   "execution_count": 38,
   "metadata": {},
   "outputs": [
    {
     "data": {
      "text/html": [
       "<div><style>\n",
       ".dataframe > thead > tr,\n",
       ".dataframe > tbody > tr {\n",
       "  text-align: right;\n",
       "  white-space: pre-wrap;\n",
       "}\n",
       "</style>\n",
       "<small>shape: (1, 5)</small><table border=\"1\" class=\"dataframe\"><thead><tr><th>q_0</th><th>q_25</th><th>q_50</th><th>q_75</th><th>q_100</th></tr><tr><td>f64</td><td>f64</td><td>f64</td><td>f64</td><td>f64</td></tr></thead><tbody><tr><td>10.0</td><td>102.0</td><td>170.0</td><td>288.0</td><td>10925.0</td></tr></tbody></table></div>"
      ],
      "text/plain": [
       "shape: (1, 5)\n",
       "┌──────┬───────┬───────┬───────┬─────────┐\n",
       "│ q_0  ┆ q_25  ┆ q_50  ┆ q_75  ┆ q_100   │\n",
       "│ ---  ┆ ---   ┆ ---   ┆ ---   ┆ ---     │\n",
       "│ f64  ┆ f64   ┆ f64   ┆ f64   ┆ f64     │\n",
       "╞══════╪═══════╪═══════╪═══════╪═════════╡\n",
       "│ 10.0 ┆ 102.0 ┆ 170.0 ┆ 288.0 ┆ 10925.0 │\n",
       "└──────┴───────┴───────┴───────┴─────────┘"
      ]
     },
     "execution_count": 38,
     "metadata": {},
     "output_type": "execute_result"
    }
   ],
   "source": [
    "df_032 = df_receipt.select(\n",
    "    pl.col(\"amount\").quantile(0).alias(\"q_0\"),\n",
    "    pl.col(\"amount\").quantile(0.25).alias(\"q_25\"),\n",
    "    pl.col(\"amount\").quantile(0.50).alias(\"q_50\"),\n",
    "    pl.col(\"amount\").quantile(0.75).alias(\"q_75\"),\n",
    "    pl.col(\"amount\").quantile(1).alias(\"q_100\"),\n",
    ")\n",
    "\n",
    "df_032"
   ]
  },
  {
   "cell_type": "code",
   "execution_count": 39,
   "metadata": {},
   "outputs": [
    {
     "data": {
      "text/html": [
       "<div><style>\n",
       ".dataframe > thead > tr,\n",
       ".dataframe > tbody > tr {\n",
       "  text-align: right;\n",
       "  white-space: pre-wrap;\n",
       "}\n",
       "</style>\n",
       "<small>shape: (1, 5)</small><table border=\"1\" class=\"dataframe\"><thead><tr><th>q_0</th><th>q_25</th><th>q_50</th><th>q_75</th><th>q_100</th></tr><tr><td>f64</td><td>f64</td><td>f64</td><td>f64</td><td>f64</td></tr></thead><tbody><tr><td>10.0</td><td>102.0</td><td>170.0</td><td>288.0</td><td>10925.0</td></tr></tbody></table></div>"
      ],
      "text/plain": [
       "shape: (1, 5)\n",
       "┌──────┬───────┬───────┬───────┬─────────┐\n",
       "│ q_0  ┆ q_25  ┆ q_50  ┆ q_75  ┆ q_100   │\n",
       "│ ---  ┆ ---   ┆ ---   ┆ ---   ┆ ---     │\n",
       "│ f64  ┆ f64   ┆ f64   ┆ f64   ┆ f64     │\n",
       "╞══════╪═══════╪═══════╪═══════╪═════════╡\n",
       "│ 10.0 ┆ 102.0 ┆ 170.0 ┆ 288.0 ┆ 10925.0 │\n",
       "└──────┴───────┴───────┴───────┴─────────┘"
      ]
     },
     "execution_count": 39,
     "metadata": {},
     "output_type": "execute_result"
    }
   ],
   "source": [
    "# for文で作っても可\n",
    "df_032 = df_receipt.select(\n",
    "    [pl.col(\"amount\").quantile(i / 100).alias(f\"q_{i}\") for i in [0, 25, 50, 75, 100]]\n",
    ")\n",
    "\n",
    "df_032"
   ]
  },
  {
   "attachments": {},
   "cell_type": "markdown",
   "metadata": {},
   "source": [
    "---\n",
    "> P-033: レシート明細データ（df_receipt）に対し、店舗コード（store_cd）ごとに売上金額（amount）の平均を計算し、330以上のものを抽出せよ。"
   ]
  },
  {
   "cell_type": "code",
   "execution_count": 40,
   "metadata": {},
   "outputs": [
    {
     "data": {
      "text/html": [
       "<div><style>\n",
       ".dataframe > thead > tr,\n",
       ".dataframe > tbody > tr {\n",
       "  text-align: right;\n",
       "  white-space: pre-wrap;\n",
       "}\n",
       "</style>\n",
       "<small>shape: (13, 2)</small><table border=\"1\" class=\"dataframe\"><thead><tr><th>store_cd</th><th>amount_mean</th></tr><tr><td>str</td><td>f64</td></tr></thead><tbody><tr><td>&quot;S14010&quot;</td><td>348.791262</td></tr><tr><td>&quot;S13019&quot;</td><td>330.208616</td></tr><tr><td>&quot;S13052&quot;</td><td>402.86747</td></tr><tr><td>&quot;S14011&quot;</td><td>335.718333</td></tr><tr><td>&quot;S13001&quot;</td><td>348.470386</td></tr><tr><td>&quot;S13015&quot;</td><td>351.11196</td></tr><tr><td>&quot;S13020&quot;</td><td>337.879932</td></tr><tr><td>&quot;S13003&quot;</td><td>350.915519</td></tr><tr><td>&quot;S12013&quot;</td><td>330.19413</td></tr><tr><td>&quot;S14045&quot;</td><td>330.082073</td></tr><tr><td>&quot;S13004&quot;</td><td>330.943949</td></tr><tr><td>&quot;S14026&quot;</td><td>332.340588</td></tr><tr><td>&quot;S14047&quot;</td><td>330.077073</td></tr></tbody></table></div>"
      ],
      "text/plain": [
       "shape: (13, 2)\n",
       "┌──────────┬─────────────┐\n",
       "│ store_cd ┆ amount_mean │\n",
       "│ ---      ┆ ---         │\n",
       "│ str      ┆ f64         │\n",
       "╞══════════╪═════════════╡\n",
       "│ S14010   ┆ 348.791262  │\n",
       "│ S13019   ┆ 330.208616  │\n",
       "│ S13052   ┆ 402.86747   │\n",
       "│ S14011   ┆ 335.718333  │\n",
       "│ …        ┆ …           │\n",
       "│ S14045   ┆ 330.082073  │\n",
       "│ S13004   ┆ 330.943949  │\n",
       "│ S14026   ┆ 332.340588  │\n",
       "│ S14047   ┆ 330.077073  │\n",
       "└──────────┴─────────────┘"
      ]
     },
     "execution_count": 40,
     "metadata": {},
     "output_type": "execute_result"
    }
   ],
   "source": [
    "df_033 = (\n",
    "    df_receipt.group_by(\"store_cd\")\n",
    "    .agg(pl.col(\"amount\").mean().alias(\"amount_mean\"))\n",
    "    .select(pl.all())\n",
    "    .filter(pl.col(\"amount_mean\") >= 330)\n",
    ")\n",
    "df_033"
   ]
  },
  {
   "attachments": {},
   "cell_type": "markdown",
   "metadata": {},
   "source": [
    "---\n",
    "> P-034: レシート明細データ（df_receipt）に対し、顧客ID（customer_id）ごとに売上金額（amount）を合計して全顧客の平均を求めよ。ただし、顧客IDが\"Z\"から始まるものは非会員を表すため、除外して計算すること。"
   ]
  },
  {
   "cell_type": "code",
   "execution_count": 41,
   "metadata": {},
   "outputs": [
    {
     "data": {
      "text/html": [
       "<div><style>\n",
       ".dataframe > thead > tr,\n",
       ".dataframe > tbody > tr {\n",
       "  text-align: right;\n",
       "  white-space: pre-wrap;\n",
       "}\n",
       "</style>\n",
       "<small>shape: (1, 1)</small><table border=\"1\" class=\"dataframe\"><thead><tr><th>amount</th></tr><tr><td>f64</td></tr></thead><tbody><tr><td>2547.742235</td></tr></tbody></table></div>"
      ],
      "text/plain": [
       "shape: (1, 1)\n",
       "┌─────────────┐\n",
       "│ amount      │\n",
       "│ ---         │\n",
       "│ f64         │\n",
       "╞═════════════╡\n",
       "│ 2547.742235 │\n",
       "└─────────────┘"
      ]
     },
     "execution_count": 41,
     "metadata": {},
     "output_type": "execute_result"
    }
   ],
   "source": [
    "df_034 = (\n",
    "    df_receipt.filter(pl.col(\"customer_id\").str.starts_with(\"Z\").not_())\n",
    "    .group_by(\"customer_id\")\n",
    "    .agg(pl.col(\"amount\").sum())\n",
    "    .select(pl.col(\"amount\").mean())\n",
    ")\n",
    "\n",
    "df_034"
   ]
  },
  {
   "attachments": {},
   "cell_type": "markdown",
   "metadata": {},
   "source": [
    "---\n",
    "> P-035: レシート明細データ（df_receipt）に対し、顧客ID（customer_id）ごとに売上金額（amount）を合計して全顧客の平均を求め、平均以上に買い物をしている顧客を抽出し、10件表示せよ。ただし、顧客IDが\"Z\"から始まるものは非会員を表すため、除外して計算すること。"
   ]
  },
  {
   "cell_type": "code",
   "execution_count": 42,
   "metadata": {},
   "outputs": [
    {
     "data": {
      "text/html": [
       "<div><style>\n",
       ".dataframe > thead > tr,\n",
       ".dataframe > tbody > tr {\n",
       "  text-align: right;\n",
       "  white-space: pre-wrap;\n",
       "}\n",
       "</style>\n",
       "<small>shape: (10, 2)</small><table border=\"1\" class=\"dataframe\"><thead><tr><th>customer_id</th><th>amount</th></tr><tr><td>str</td><td>i64</td></tr></thead><tbody><tr><td>&quot;CS001115000010…</td><td>3044</td></tr><tr><td>&quot;CS001205000006…</td><td>3337</td></tr><tr><td>&quot;CS001214000009…</td><td>4685</td></tr><tr><td>&quot;CS001214000017…</td><td>4132</td></tr><tr><td>&quot;CS001214000052…</td><td>5639</td></tr><tr><td>&quot;CS001215000040…</td><td>3496</td></tr><tr><td>&quot;CS001304000006…</td><td>3726</td></tr><tr><td>&quot;CS001305000005…</td><td>3485</td></tr><tr><td>&quot;CS001305000011…</td><td>4370</td></tr><tr><td>&quot;CS001315000180…</td><td>3300</td></tr></tbody></table></div>"
      ],
      "text/plain": [
       "shape: (10, 2)\n",
       "┌────────────────┬────────┐\n",
       "│ customer_id    ┆ amount │\n",
       "│ ---            ┆ ---    │\n",
       "│ str            ┆ i64    │\n",
       "╞════════════════╪════════╡\n",
       "│ CS001115000010 ┆ 3044   │\n",
       "│ CS001205000006 ┆ 3337   │\n",
       "│ CS001214000009 ┆ 4685   │\n",
       "│ CS001214000017 ┆ 4132   │\n",
       "│ …              ┆ …      │\n",
       "│ CS001304000006 ┆ 3726   │\n",
       "│ CS001305000005 ┆ 3485   │\n",
       "│ CS001305000011 ┆ 4370   │\n",
       "│ CS001315000180 ┆ 3300   │\n",
       "└────────────────┴────────┘"
      ]
     },
     "execution_count": 42,
     "metadata": {},
     "output_type": "execute_result"
    }
   ],
   "source": [
    "df_035 = (\n",
    "    df_receipt.filter(pl.col(\"customer_id\").str.starts_with(\"Z\").not_())\n",
    "    .group_by(\"customer_id\")\n",
    "    .agg(pl.col(\"amount\").sum())\n",
    "    .with_columns(pl.col(\"amount\").mean().alias(\"avg_amount\"))\n",
    "    .filter(pl.col(\"amount\") >= pl.col(\"avg_amount\"))\n",
    "    .select(pl.col(\"customer_id\"), pl.col(\"amount\"))\n",
    "    .sort(pl.col(\"customer_id\"))\n",
    ")\n",
    "\n",
    "df_035.head(10)"
   ]
  },
  {
   "attachments": {},
   "cell_type": "markdown",
   "metadata": {},
   "source": [
    "## DataFrameの結合"
   ]
  },
  {
   "attachments": {},
   "cell_type": "markdown",
   "metadata": {},
   "source": [
    "---\n",
    "> P-036: レシート明細データ（df_receipt）と店舗データ（df_store）を内部結合し、レシート明細データの全項目と店舗データの店舗名（store_name）を10件表示せよ。\n",
    "\n",
    "- 内部結合(inner):結合させる両方のDataFrameに存在する結合キー(on)で、一致する項目のみを抽出する結合方法\n",
    "- 左外部結合(left):結合させる両方のDataFrameに存在する結合キー(on)で、基準となるDataFrameを左とする。基準DataFrameはすべての行が出力され、結合されたDataFrameは結合キーの値が基準の結合キーと一致した行のみ出力される\n",
    "- 完全外部結合(outer):結合させる両方のDataFrameに存在する結合キー(on)で、基準となるDataFrameを左とする。基準のDataFrameおよび結合されたDataFrameのすべての行が出力される"
   ]
  },
  {
   "cell_type": "code",
   "execution_count": 43,
   "metadata": {},
   "outputs": [
    {
     "data": {
      "text/html": [
       "<div><style>\n",
       ".dataframe > thead > tr,\n",
       ".dataframe > tbody > tr {\n",
       "  text-align: right;\n",
       "  white-space: pre-wrap;\n",
       "}\n",
       "</style>\n",
       "<small>shape: (10, 10)</small><table border=\"1\" class=\"dataframe\"><thead><tr><th>sales_ymd</th><th>sales_epoch</th><th>store_cd</th><th>receipt_no</th><th>receipt_sub_no</th><th>customer_id</th><th>product_cd</th><th>quantity</th><th>amount</th><th>store_name</th></tr><tr><td>i64</td><td>i64</td><td>str</td><td>i64</td><td>i64</td><td>str</td><td>str</td><td>i64</td><td>i64</td><td>str</td></tr></thead><tbody><tr><td>20181103</td><td>1541203200</td><td>&quot;S14006&quot;</td><td>112</td><td>1</td><td>&quot;CS006214000001…</td><td>&quot;P070305012&quot;</td><td>1</td><td>158</td><td>&quot;葛が谷店&quot;</td></tr><tr><td>20181118</td><td>1542499200</td><td>&quot;S13008&quot;</td><td>1132</td><td>2</td><td>&quot;CS008415000097…</td><td>&quot;P070701017&quot;</td><td>1</td><td>81</td><td>&quot;成城店&quot;</td></tr><tr><td>20170712</td><td>1499817600</td><td>&quot;S14028&quot;</td><td>1102</td><td>1</td><td>&quot;CS028414000014…</td><td>&quot;P060101005&quot;</td><td>1</td><td>170</td><td>&quot;二ツ橋店&quot;</td></tr><tr><td>20190205</td><td>1549324800</td><td>&quot;S14042&quot;</td><td>1132</td><td>1</td><td>&quot;ZZ000000000000…</td><td>&quot;P050301001&quot;</td><td>1</td><td>25</td><td>&quot;新山下店&quot;</td></tr><tr><td>20180821</td><td>1534809600</td><td>&quot;S14025&quot;</td><td>1102</td><td>2</td><td>&quot;CS025415000050…</td><td>&quot;P060102007&quot;</td><td>1</td><td>90</td><td>&quot;大和店&quot;</td></tr><tr><td>20190605</td><td>1559692800</td><td>&quot;S13003&quot;</td><td>1112</td><td>1</td><td>&quot;CS003515000195…</td><td>&quot;P050102002&quot;</td><td>1</td><td>138</td><td>&quot;狛江店&quot;</td></tr><tr><td>20181205</td><td>1543968000</td><td>&quot;S14024&quot;</td><td>1102</td><td>2</td><td>&quot;CS024514000042…</td><td>&quot;P080101005&quot;</td><td>1</td><td>30</td><td>&quot;三田店&quot;</td></tr><tr><td>20190922</td><td>1569110400</td><td>&quot;S14040&quot;</td><td>1102</td><td>1</td><td>&quot;CS040415000178…</td><td>&quot;P070501004&quot;</td><td>1</td><td>128</td><td>&quot;長津田店&quot;</td></tr><tr><td>20170504</td><td>1493856000</td><td>&quot;S13020&quot;</td><td>1112</td><td>2</td><td>&quot;ZZ000000000000…</td><td>&quot;P071302010&quot;</td><td>1</td><td>770</td><td>&quot;十条仲原店&quot;</td></tr><tr><td>20191010</td><td>1570665600</td><td>&quot;S14027&quot;</td><td>1102</td><td>1</td><td>&quot;CS027514000015…</td><td>&quot;P071101003&quot;</td><td>1</td><td>680</td><td>&quot;南藤沢店&quot;</td></tr></tbody></table></div>"
      ],
      "text/plain": [
       "shape: (10, 10)\n",
       "┌───────────┬────────────┬──────────┬────────────┬───┬────────────┬──────────┬────────┬────────────┐\n",
       "│ sales_ymd ┆ sales_epoc ┆ store_cd ┆ receipt_no ┆ … ┆ product_cd ┆ quantity ┆ amount ┆ store_name │\n",
       "│ ---       ┆ h          ┆ ---      ┆ ---        ┆   ┆ ---        ┆ ---      ┆ ---    ┆ ---        │\n",
       "│ i64       ┆ ---        ┆ str      ┆ i64        ┆   ┆ str        ┆ i64      ┆ i64    ┆ str        │\n",
       "│           ┆ i64        ┆          ┆            ┆   ┆            ┆          ┆        ┆            │\n",
       "╞═══════════╪════════════╪══════════╪════════════╪═══╪════════════╪══════════╪════════╪════════════╡\n",
       "│ 20181103  ┆ 1541203200 ┆ S14006   ┆ 112        ┆ … ┆ P070305012 ┆ 1        ┆ 158    ┆ 葛が谷店   │\n",
       "│ 20181118  ┆ 1542499200 ┆ S13008   ┆ 1132       ┆ … ┆ P070701017 ┆ 1        ┆ 81     ┆ 成城店     │\n",
       "│ 20170712  ┆ 1499817600 ┆ S14028   ┆ 1102       ┆ … ┆ P060101005 ┆ 1        ┆ 170    ┆ 二ツ橋店   │\n",
       "│ 20190205  ┆ 1549324800 ┆ S14042   ┆ 1132       ┆ … ┆ P050301001 ┆ 1        ┆ 25     ┆ 新山下店   │\n",
       "│ …         ┆ …          ┆ …        ┆ …          ┆ … ┆ …          ┆ …        ┆ …      ┆ …          │\n",
       "│ 20181205  ┆ 1543968000 ┆ S14024   ┆ 1102       ┆ … ┆ P080101005 ┆ 1        ┆ 30     ┆ 三田店     │\n",
       "│ 20190922  ┆ 1569110400 ┆ S14040   ┆ 1102       ┆ … ┆ P070501004 ┆ 1        ┆ 128    ┆ 長津田店   │\n",
       "│ 20170504  ┆ 1493856000 ┆ S13020   ┆ 1112       ┆ … ┆ P071302010 ┆ 1        ┆ 770    ┆ 十条仲原店 │\n",
       "│ 20191010  ┆ 1570665600 ┆ S14027   ┆ 1102       ┆ … ┆ P071101003 ┆ 1        ┆ 680    ┆ 南藤沢店   │\n",
       "└───────────┴────────────┴──────────┴────────────┴───┴────────────┴──────────┴────────┴────────────┘"
      ]
     },
     "execution_count": 43,
     "metadata": {},
     "output_type": "execute_result"
    }
   ],
   "source": [
    "df_036 = df_receipt.join(\n",
    "    df_store.select(pl.col(\"store_cd\"), pl.col(\"store_name\")),\n",
    "    how=\"inner\",  # 他に左結合(left)と外部結合(outer)がある 右結合(right)はない。\n",
    "    on=[\"store_cd\"],\n",
    ")  # listまたはstrで渡す(今回はlistを用いた)\n",
    "\n",
    "df_036.head(10)"
   ]
  },
  {
   "attachments": {},
   "cell_type": "markdown",
   "metadata": {},
   "source": [
    "---\n",
    "> P-037: 商品データ（df_product）とカテゴリデータ（df_category）を内部結合し、商品データの全項目とカテゴリデータのカテゴリ小区分名（category_small_name）を10件表示せよ。"
   ]
  },
  {
   "cell_type": "code",
   "execution_count": 44,
   "metadata": {},
   "outputs": [
    {
     "data": {
      "text/html": [
       "<div><style>\n",
       ".dataframe > thead > tr,\n",
       ".dataframe > tbody > tr {\n",
       "  text-align: right;\n",
       "  white-space: pre-wrap;\n",
       "}\n",
       "</style>\n",
       "<small>shape: (10, 7)</small><table border=\"1\" class=\"dataframe\"><thead><tr><th>product_cd</th><th>category_major_cd</th><th>category_medium_cd</th><th>category_small_cd</th><th>unit_price</th><th>unit_cost</th><th>category_small_name</th></tr><tr><td>str</td><td>str</td><td>str</td><td>str</td><td>i64</td><td>i64</td><td>str</td></tr></thead><tbody><tr><td>&quot;P040101001&quot;</td><td>&quot;04&quot;</td><td>&quot;0401&quot;</td><td>&quot;040101&quot;</td><td>198</td><td>149</td><td>&quot;弁当類&quot;</td></tr><tr><td>&quot;P040101002&quot;</td><td>&quot;04&quot;</td><td>&quot;0401&quot;</td><td>&quot;040101&quot;</td><td>218</td><td>164</td><td>&quot;弁当類&quot;</td></tr><tr><td>&quot;P040101003&quot;</td><td>&quot;04&quot;</td><td>&quot;0401&quot;</td><td>&quot;040101&quot;</td><td>230</td><td>173</td><td>&quot;弁当類&quot;</td></tr><tr><td>&quot;P040101004&quot;</td><td>&quot;04&quot;</td><td>&quot;0401&quot;</td><td>&quot;040101&quot;</td><td>248</td><td>186</td><td>&quot;弁当類&quot;</td></tr><tr><td>&quot;P040101005&quot;</td><td>&quot;04&quot;</td><td>&quot;0401&quot;</td><td>&quot;040101&quot;</td><td>268</td><td>201</td><td>&quot;弁当類&quot;</td></tr><tr><td>&quot;P040101006&quot;</td><td>&quot;04&quot;</td><td>&quot;0401&quot;</td><td>&quot;040101&quot;</td><td>298</td><td>224</td><td>&quot;弁当類&quot;</td></tr><tr><td>&quot;P040101007&quot;</td><td>&quot;04&quot;</td><td>&quot;0401&quot;</td><td>&quot;040101&quot;</td><td>338</td><td>254</td><td>&quot;弁当類&quot;</td></tr><tr><td>&quot;P040101008&quot;</td><td>&quot;04&quot;</td><td>&quot;0401&quot;</td><td>&quot;040101&quot;</td><td>420</td><td>315</td><td>&quot;弁当類&quot;</td></tr><tr><td>&quot;P040101009&quot;</td><td>&quot;04&quot;</td><td>&quot;0401&quot;</td><td>&quot;040101&quot;</td><td>498</td><td>374</td><td>&quot;弁当類&quot;</td></tr><tr><td>&quot;P040101010&quot;</td><td>&quot;04&quot;</td><td>&quot;0401&quot;</td><td>&quot;040101&quot;</td><td>580</td><td>435</td><td>&quot;弁当類&quot;</td></tr></tbody></table></div>"
      ],
      "text/plain": [
       "shape: (10, 7)\n",
       "┌────────────┬───────────────┬──────────────┬──────────────┬────────────┬───────────┬──────────────┐\n",
       "│ product_cd ┆ category_majo ┆ category_med ┆ category_sma ┆ unit_price ┆ unit_cost ┆ category_sma │\n",
       "│ ---        ┆ r_cd          ┆ ium_cd       ┆ ll_cd        ┆ ---        ┆ ---       ┆ ll_name      │\n",
       "│ str        ┆ ---           ┆ ---          ┆ ---          ┆ i64        ┆ i64       ┆ ---          │\n",
       "│            ┆ str           ┆ str          ┆ str          ┆            ┆           ┆ str          │\n",
       "╞════════════╪═══════════════╪══════════════╪══════════════╪════════════╪═══════════╪══════════════╡\n",
       "│ P040101001 ┆ 04            ┆ 0401         ┆ 040101       ┆ 198        ┆ 149       ┆ 弁当類       │\n",
       "│ P040101002 ┆ 04            ┆ 0401         ┆ 040101       ┆ 218        ┆ 164       ┆ 弁当類       │\n",
       "│ P040101003 ┆ 04            ┆ 0401         ┆ 040101       ┆ 230        ┆ 173       ┆ 弁当類       │\n",
       "│ P040101004 ┆ 04            ┆ 0401         ┆ 040101       ┆ 248        ┆ 186       ┆ 弁当類       │\n",
       "│ …          ┆ …             ┆ …            ┆ …            ┆ …          ┆ …         ┆ …            │\n",
       "│ P040101007 ┆ 04            ┆ 0401         ┆ 040101       ┆ 338        ┆ 254       ┆ 弁当類       │\n",
       "│ P040101008 ┆ 04            ┆ 0401         ┆ 040101       ┆ 420        ┆ 315       ┆ 弁当類       │\n",
       "│ P040101009 ┆ 04            ┆ 0401         ┆ 040101       ┆ 498        ┆ 374       ┆ 弁当類       │\n",
       "│ P040101010 ┆ 04            ┆ 0401         ┆ 040101       ┆ 580        ┆ 435       ┆ 弁当類       │\n",
       "└────────────┴───────────────┴──────────────┴──────────────┴────────────┴───────────┴──────────────┘"
      ]
     },
     "execution_count": 44,
     "metadata": {},
     "output_type": "execute_result"
    }
   ],
   "source": [
    "df_037 = df_product.join(\n",
    "    other=df_category.select(\"category_small_cd\", \"category_small_name\"),\n",
    "    how=\"inner\",\n",
    "    on=\"category_small_cd\",\n",
    ")\n",
    "\n",
    "df_037.head(10)"
   ]
  },
  {
   "attachments": {},
   "cell_type": "markdown",
   "metadata": {},
   "source": [
    "---\n",
    "> P-038: 顧客データ（df_customer）とレシート明細データ（df_receipt）から、顧客ごとの売上金額合計を求め、10件表示せよ。ただし、売上実績がない顧客については売上金額を0として表示させること。また、顧客は性別コード（gender_cd）が女性（1）であるものを対象とし、非会員（顧客IDが\"Z\"から始まるもの）は除外すること。"
   ]
  },
  {
   "cell_type": "code",
   "execution_count": 45,
   "metadata": {},
   "outputs": [
    {
     "data": {
      "text/html": [
       "<div><style>\n",
       ".dataframe > thead > tr,\n",
       ".dataframe > tbody > tr {\n",
       "  text-align: right;\n",
       "  white-space: pre-wrap;\n",
       "}\n",
       "</style>\n",
       "<small>shape: (10, 2)</small><table border=\"1\" class=\"dataframe\"><thead><tr><th>customer_id</th><th>amount</th></tr><tr><td>str</td><td>i64</td></tr></thead><tbody><tr><td>&quot;CS008415000015…</td><td>4769</td></tr><tr><td>&quot;CS023515000032…</td><td>3768</td></tr><tr><td>&quot;CS005512000014…</td><td>458</td></tr><tr><td>&quot;CS029311000026…</td><td>320</td></tr><tr><td>&quot;CS004515000267…</td><td>528</td></tr><tr><td>&quot;CS014215000047…</td><td>2467</td></tr><tr><td>&quot;CS012515000012…</td><td>5996</td></tr><tr><td>&quot;CS035613000125…</td><td>0</td></tr><tr><td>&quot;CS005414000110…</td><td>3220</td></tr><tr><td>&quot;CS023712000050…</td><td>0</td></tr></tbody></table></div>"
      ],
      "text/plain": [
       "shape: (10, 2)\n",
       "┌────────────────┬────────┐\n",
       "│ customer_id    ┆ amount │\n",
       "│ ---            ┆ ---    │\n",
       "│ str            ┆ i64    │\n",
       "╞════════════════╪════════╡\n",
       "│ CS008415000015 ┆ 4769   │\n",
       "│ CS023515000032 ┆ 3768   │\n",
       "│ CS005512000014 ┆ 458    │\n",
       "│ CS029311000026 ┆ 320    │\n",
       "│ …              ┆ …      │\n",
       "│ CS012515000012 ┆ 5996   │\n",
       "│ CS035613000125 ┆ 0      │\n",
       "│ CS005414000110 ┆ 3220   │\n",
       "│ CS023712000050 ┆ 0      │\n",
       "└────────────────┴────────┘"
      ]
     },
     "execution_count": 45,
     "metadata": {},
     "output_type": "execute_result"
    }
   ],
   "source": [
    "df_038 = (\n",
    "    df_customer.join(df_receipt, how=\"left\", on=\"customer_id\")\n",
    "    .filter(\n",
    "        (pl.col(\"gender_cd\") == \"1\")\n",
    "        & (pl.col(\"customer_id\").str.starts_with(\"Z\")).not_()\n",
    "    )\n",
    "    .group_by(\"customer_id\")\n",
    "    .agg(pl.col(\"amount\").sum().fill_null(0))\n",
    ")\n",
    "\n",
    "df_038.head(10)"
   ]
  },
  {
   "attachments": {},
   "cell_type": "markdown",
   "metadata": {},
   "source": [
    "---\n",
    "> P-039: レシート明細データ（df_receipt）から、売上日数の多い顧客の上位20件を抽出したデータと、売上金額合計の多い顧客の上位20件を抽出したデータをそれぞれ作成し、さらにその2つを完全外部結合せよ。ただし、非会員（顧客IDが\"Z\"から始まるもの）は除外すること。"
   ]
  },
  {
   "cell_type": "code",
   "execution_count": 46,
   "metadata": {},
   "outputs": [
    {
     "data": {
      "text/html": [
       "<div><style>\n",
       ".dataframe > thead > tr,\n",
       ".dataframe > tbody > tr {\n",
       "  text-align: right;\n",
       "  white-space: pre-wrap;\n",
       "}\n",
       "</style>\n",
       "<small>shape: (34, 3)</small><table border=\"1\" class=\"dataframe\"><thead><tr><th>customer_id</th><th>sales_count</th><th>amount_sum</th></tr><tr><td>str</td><td>u32</td><td>i64</td></tr></thead><tbody><tr><td>&quot;CS015515000034…</td><td>null</td><td>15300</td></tr><tr><td>&quot;CS030415000034…</td><td>null</td><td>15468</td></tr><tr><td>&quot;CS009414000059…</td><td>null</td><td>15492</td></tr><tr><td>&quot;CS007514000094…</td><td>null</td><td>15735</td></tr><tr><td>&quot;CS034415000047…</td><td>null</td><td>16083</td></tr><tr><td>&quot;CS011415000006…</td><td>null</td><td>16094</td></tr><tr><td>&quot;CS016415000101…</td><td>null</td><td>16348</td></tr><tr><td>&quot;CS032414000072…</td><td>null</td><td>16563</td></tr><tr><td>&quot;CS021515000089…</td><td>null</td><td>17580</td></tr><tr><td>&quot;CS035414000024…</td><td>null</td><td>17615</td></tr><tr><td>&quot;CS038415000104…</td><td>null</td><td>17847</td></tr><tr><td>&quot;CS011414000106…</td><td>null</td><td>18338</td></tr><tr><td>&hellip;</td><td>&hellip;</td><td>&hellip;</td></tr><tr><td>&quot;CS022515000226…</td><td>19</td><td>null</td></tr><tr><td>&quot;CS014214000023…</td><td>19</td><td>null</td></tr><tr><td>&quot;CS021514000045…</td><td>19</td><td>null</td></tr><tr><td>&quot;CS039414000052…</td><td>19</td><td>null</td></tr><tr><td>&quot;CS021515000172…</td><td>19</td><td>null</td></tr><tr><td>&quot;CS022515000028…</td><td>18</td><td>null</td></tr><tr><td>&quot;CS031414000073…</td><td>18</td><td>null</td></tr><tr><td>&quot;CS007515000107…</td><td>18</td><td>null</td></tr><tr><td>&quot;CS032415000209…</td><td>18</td><td>null</td></tr><tr><td>&quot;CS030214000008…</td><td>18</td><td>null</td></tr><tr><td>&quot;CS014415000077…</td><td>18</td><td>null</td></tr><tr><td>&quot;CS021515000056…</td><td>18</td><td>null</td></tr></tbody></table></div>"
      ],
      "text/plain": [
       "shape: (34, 3)\n",
       "┌────────────────┬─────────────┬────────────┐\n",
       "│ customer_id    ┆ sales_count ┆ amount_sum │\n",
       "│ ---            ┆ ---         ┆ ---        │\n",
       "│ str            ┆ u32         ┆ i64        │\n",
       "╞════════════════╪═════════════╪════════════╡\n",
       "│ CS015515000034 ┆ null        ┆ 15300      │\n",
       "│ CS030415000034 ┆ null        ┆ 15468      │\n",
       "│ CS009414000059 ┆ null        ┆ 15492      │\n",
       "│ CS007514000094 ┆ null        ┆ 15735      │\n",
       "│ …              ┆ …           ┆ …          │\n",
       "│ CS032415000209 ┆ 18          ┆ null       │\n",
       "│ CS030214000008 ┆ 18          ┆ null       │\n",
       "│ CS014415000077 ┆ 18          ┆ null       │\n",
       "│ CS021515000056 ┆ 18          ┆ null       │\n",
       "└────────────────┴─────────────┴────────────┘"
      ]
     },
     "execution_count": 46,
     "metadata": {},
     "output_type": "execute_result"
    }
   ],
   "source": [
    "df_cnt = (\n",
    "    df_receipt.filter((pl.col(\"customer_id\").str.starts_with(\"Z\")).not_())\n",
    "    .group_by(\"customer_id\")\n",
    "    .agg(pl.col(\"sales_ymd\").n_unique().alias(\"sales_count\"))\n",
    "    .sort(\"sales_count\", descending=True)\n",
    "    .head(20)\n",
    ")\n",
    "\n",
    "df_sum = (\n",
    "    df_receipt.filter((pl.col(\"customer_id\").str.starts_with(\"Z\")).not_())\n",
    "    .group_by(\"customer_id\")\n",
    "    .agg(pl.col(\"amount\").sum().alias(\"amount_sum\"))\n",
    "    .sort(\"amount_sum\", descending=True)\n",
    "    .head(20)\n",
    ")\n",
    "\n",
    "df_039 = df_cnt.join(df_sum, how=\"outer\", on=\"customer_id\").sort(\n",
    "    \"sales_count\", descending=True\n",
    ")\n",
    "\n",
    "df_039"
   ]
  },
  {
   "attachments": {},
   "cell_type": "markdown",
   "metadata": {},
   "source": [
    "---\n",
    "> P-040: 全ての店舗と全ての商品を組み合わせたデータを作成したい。店舗データ（df_store）と商品データ（df_product）を直積し、件数を計算せよ。"
   ]
  },
  {
   "cell_type": "code",
   "execution_count": 47,
   "metadata": {},
   "outputs": [
    {
     "name": "stdout",
     "output_type": "stream",
     "text": [
      "(53, 10) 53\n",
      "(10030, 6) 10030\n"
     ]
    },
    {
     "data": {
      "text/html": [
       "<div><style>\n",
       ".dataframe > thead > tr,\n",
       ".dataframe > tbody > tr {\n",
       "  text-align: right;\n",
       "  white-space: pre-wrap;\n",
       "}\n",
       "</style>\n",
       "<small>shape: (5, 17)</small><table border=\"1\" class=\"dataframe\"><thead><tr><th>store_cd</th><th>store_name</th><th>prefecture_cd</th><th>prefecture</th><th>address</th><th>address_kana</th><th>tel_no</th><th>longitude</th><th>latitude</th><th>floor_area</th><th>key</th><th>product_cd</th><th>category_major_cd</th><th>category_medium_cd</th><th>category_small_cd</th><th>unit_price</th><th>unit_cost</th></tr><tr><td>str</td><td>str</td><td>str</td><td>str</td><td>str</td><td>str</td><td>str</td><td>f64</td><td>f64</td><td>f64</td><td>i32</td><td>str</td><td>str</td><td>str</td><td>str</td><td>i64</td><td>i64</td></tr></thead><tbody><tr><td>&quot;S12014&quot;</td><td>&quot;千草台店&quot;</td><td>&quot;12&quot;</td><td>&quot;千葉県&quot;</td><td>&quot;千葉県千葉市稲毛区千草台一丁…</td><td>&quot;チバケンチバシイナゲクチグサ…</td><td>&quot;043-123-4003&quot;</td><td>140.118</td><td>35.63559</td><td>1698.0</td><td>0</td><td>&quot;P040101001&quot;</td><td>&quot;04&quot;</td><td>&quot;0401&quot;</td><td>&quot;040101&quot;</td><td>198</td><td>149</td></tr><tr><td>&quot;S13002&quot;</td><td>&quot;国分寺店&quot;</td><td>&quot;13&quot;</td><td>&quot;東京都&quot;</td><td>&quot;東京都国分寺市本多二丁目&quot;</td><td>&quot;トウキョウトコクブンジシホン…</td><td>&quot;042-123-4008&quot;</td><td>139.4802</td><td>35.70566</td><td>1735.0</td><td>0</td><td>&quot;P040101001&quot;</td><td>&quot;04&quot;</td><td>&quot;0401&quot;</td><td>&quot;040101&quot;</td><td>198</td><td>149</td></tr><tr><td>&quot;S14010&quot;</td><td>&quot;菊名店&quot;</td><td>&quot;14&quot;</td><td>&quot;神奈川県&quot;</td><td>&quot;神奈川県横浜市港北区菊名一丁…</td><td>&quot;カナガワケンヨコハマシコウホ…</td><td>&quot;045-123-4032&quot;</td><td>139.6326</td><td>35.50049</td><td>1732.0</td><td>0</td><td>&quot;P040101001&quot;</td><td>&quot;04&quot;</td><td>&quot;0401&quot;</td><td>&quot;040101&quot;</td><td>198</td><td>149</td></tr><tr><td>&quot;S14033&quot;</td><td>&quot;阿久和店&quot;</td><td>&quot;14&quot;</td><td>&quot;神奈川県&quot;</td><td>&quot;神奈川県横浜市瀬谷区阿久和西…</td><td>&quot;カナガワケンヨコハマシセヤク…</td><td>&quot;045-123-4043&quot;</td><td>139.4961</td><td>35.45918</td><td>1495.0</td><td>0</td><td>&quot;P040101001&quot;</td><td>&quot;04&quot;</td><td>&quot;0401&quot;</td><td>&quot;040101&quot;</td><td>198</td><td>149</td></tr><tr><td>&quot;S14036&quot;</td><td>&quot;相模原中央店&quot;</td><td>&quot;14&quot;</td><td>&quot;神奈川県&quot;</td><td>&quot;神奈川県相模原市中央二丁目&quot;</td><td>&quot;カナガワケンサガミハラシチュ…</td><td>&quot;042-123-4045&quot;</td><td>139.3716</td><td>35.57327</td><td>1679.0</td><td>0</td><td>&quot;P040101001&quot;</td><td>&quot;04&quot;</td><td>&quot;0401&quot;</td><td>&quot;040101&quot;</td><td>198</td><td>149</td></tr></tbody></table></div>"
      ],
      "text/plain": [
       "shape: (5, 17)\n",
       "┌──────────┬───────────┬───────────┬───────────┬───┬───────────┬───────────┬───────────┬───────────┐\n",
       "│ store_cd ┆ store_nam ┆ prefectur ┆ prefectur ┆ … ┆ category_ ┆ category_ ┆ unit_pric ┆ unit_cost │\n",
       "│ ---      ┆ e         ┆ e_cd      ┆ e         ┆   ┆ medium_cd ┆ small_cd  ┆ e         ┆ ---       │\n",
       "│ str      ┆ ---       ┆ ---       ┆ ---       ┆   ┆ ---       ┆ ---       ┆ ---       ┆ i64       │\n",
       "│          ┆ str       ┆ str       ┆ str       ┆   ┆ str       ┆ str       ┆ i64       ┆           │\n",
       "╞══════════╪═══════════╪═══════════╪═══════════╪═══╪═══════════╪═══════════╪═══════════╪═══════════╡\n",
       "│ S12014   ┆ 千草台店  ┆ 12        ┆ 千葉県    ┆ … ┆ 0401      ┆ 040101    ┆ 198       ┆ 149       │\n",
       "│ S13002   ┆ 国分寺店  ┆ 13        ┆ 東京都    ┆ … ┆ 0401      ┆ 040101    ┆ 198       ┆ 149       │\n",
       "│ S14010   ┆ 菊名店    ┆ 14        ┆ 神奈川県  ┆ … ┆ 0401      ┆ 040101    ┆ 198       ┆ 149       │\n",
       "│ S14033   ┆ 阿久和店  ┆ 14        ┆ 神奈川県  ┆ … ┆ 0401      ┆ 040101    ┆ 198       ┆ 149       │\n",
       "│ S14036   ┆ 相模原中  ┆ 14        ┆ 神奈川県  ┆ … ┆ 0401      ┆ 040101    ┆ 198       ┆ 149       │\n",
       "│          ┆ 央店      ┆           ┆           ┆   ┆           ┆           ┆           ┆           │\n",
       "└──────────┴───────────┴───────────┴───────────┴───┴───────────┴───────────┴───────────┴───────────┘"
      ]
     },
     "execution_count": 47,
     "metadata": {},
     "output_type": "execute_result"
    }
   ],
   "source": [
    "df_040 = df_store.with_columns(pl.lit(0).alias(\"key\")).join(\n",
    "    df_product.with_columns(pl.lit(0).alias(\"key\")), on=\"key\", how=\"outer\"\n",
    ")\n",
    "\n",
    "print(df_store.shape, len(df_store))\n",
    "print(df_product.shape, len(df_product))\n",
    "len(df_040)\n",
    "\n",
    "df_040.head()"
   ]
  },
  {
   "attachments": {},
   "cell_type": "markdown",
   "metadata": {},
   "source": [
    "---\n",
    "> P-041: レシート明細データ（df_receipt）の売上金額（amount）を日付（sales_ymd）ごとに集計し、前回売上があった日からの売上金額増減を計算せよ。そして結果を10件表示せよ。"
   ]
  },
  {
   "cell_type": "code",
   "execution_count": 48,
   "metadata": {},
   "outputs": [
    {
     "data": {
      "text/html": [
       "<div><style>\n",
       ".dataframe > thead > tr,\n",
       ".dataframe > tbody > tr {\n",
       "  text-align: right;\n",
       "  white-space: pre-wrap;\n",
       "}\n",
       "</style>\n",
       "<small>shape: (5, 3)</small><table border=\"1\" class=\"dataframe\"><thead><tr><th>sales_ymd</th><th>amount</th><th>diff_amount</th></tr><tr><td>i64</td><td>i64</td><td>i64</td></tr></thead><tbody><tr><td>20170101</td><td>33723</td><td>null</td></tr><tr><td>20170102</td><td>24165</td><td>-9558</td></tr><tr><td>20170103</td><td>27503</td><td>3338</td></tr><tr><td>20170104</td><td>36165</td><td>8662</td></tr><tr><td>20170105</td><td>37830</td><td>1665</td></tr></tbody></table></div>"
      ],
      "text/plain": [
       "shape: (5, 3)\n",
       "┌───────────┬────────┬─────────────┐\n",
       "│ sales_ymd ┆ amount ┆ diff_amount │\n",
       "│ ---       ┆ ---    ┆ ---         │\n",
       "│ i64       ┆ i64    ┆ i64         │\n",
       "╞═══════════╪════════╪═════════════╡\n",
       "│ 20170101  ┆ 33723  ┆ null        │\n",
       "│ 20170102  ┆ 24165  ┆ -9558       │\n",
       "│ 20170103  ┆ 27503  ┆ 3338        │\n",
       "│ 20170104  ┆ 36165  ┆ 8662        │\n",
       "│ 20170105  ┆ 37830  ┆ 1665        │\n",
       "└───────────┴────────┴─────────────┘"
      ]
     },
     "execution_count": 48,
     "metadata": {},
     "output_type": "execute_result"
    }
   ],
   "source": [
    "df_041 = (\n",
    "    df_receipt.group_by(\"sales_ymd\")\n",
    "    .agg(pl.col(\"amount\").sum())\n",
    "    .sort(\"sales_ymd\")\n",
    "    .with_columns(\n",
    "        (\n",
    "            pl.col(\"amount\") - pl.col(\"amount\").shift(n=1)\n",
    "        ).alias(  # polarsにはindexという概念がないため、shift()を用いて場所を指定する\n",
    "            \"diff_amount\"\n",
    "        )\n",
    "    )\n",
    ")\n",
    "\n",
    "df_041.head()"
   ]
  },
  {
   "attachments": {},
   "cell_type": "markdown",
   "metadata": {},
   "source": [
    "---\n",
    "> P-042: レシート明細データ（df_receipt）の売上金額（amount）を日付（sales_ymd）ごとに集計し、各日付のデータに対し、前回、前々回、3回前に売上があった日のデータを結合せよ。そして結果を10件表示せよ。"
   ]
  },
  {
   "cell_type": "code",
   "execution_count": 49,
   "metadata": {},
   "outputs": [
    {
     "data": {
      "text/html": [
       "<div><style>\n",
       ".dataframe > thead > tr,\n",
       ".dataframe > tbody > tr {\n",
       "  text-align: right;\n",
       "  white-space: pre-wrap;\n",
       "}\n",
       "</style>\n",
       "<small>shape: (5, 8)</small><table border=\"1\" class=\"dataframe\"><thead><tr><th>sales_ymd</th><th>amount</th><th>sales_ymd_lag1</th><th>sales_ymd_lag2</th><th>sales_ymd_lag3</th><th>amount_lag1</th><th>amount_lag2</th><th>amount_lag3</th></tr><tr><td>i64</td><td>i64</td><td>i64</td><td>i64</td><td>i64</td><td>i64</td><td>i64</td><td>i64</td></tr></thead><tbody><tr><td>20170104</td><td>36165</td><td>20170103</td><td>20170102</td><td>20170101</td><td>27503</td><td>24165</td><td>33723</td></tr><tr><td>20170105</td><td>37830</td><td>20170104</td><td>20170103</td><td>20170102</td><td>36165</td><td>27503</td><td>24165</td></tr><tr><td>20170106</td><td>32387</td><td>20170105</td><td>20170104</td><td>20170103</td><td>37830</td><td>36165</td><td>27503</td></tr><tr><td>20170107</td><td>23415</td><td>20170106</td><td>20170105</td><td>20170104</td><td>32387</td><td>37830</td><td>36165</td></tr><tr><td>20170108</td><td>24737</td><td>20170107</td><td>20170106</td><td>20170105</td><td>23415</td><td>32387</td><td>37830</td></tr></tbody></table></div>"
      ],
      "text/plain": [
       "shape: (5, 8)\n",
       "┌───────────┬────────┬────────────┬────────────┬────────────┬────────────┬────────────┬────────────┐\n",
       "│ sales_ymd ┆ amount ┆ sales_ymd_ ┆ sales_ymd_ ┆ sales_ymd_ ┆ amount_lag ┆ amount_lag ┆ amount_lag │\n",
       "│ ---       ┆ ---    ┆ lag1       ┆ lag2       ┆ lag3       ┆ 1          ┆ 2          ┆ 3          │\n",
       "│ i64       ┆ i64    ┆ ---        ┆ ---        ┆ ---        ┆ ---        ┆ ---        ┆ ---        │\n",
       "│           ┆        ┆ i64        ┆ i64        ┆ i64        ┆ i64        ┆ i64        ┆ i64        │\n",
       "╞═══════════╪════════╪════════════╪════════════╪════════════╪════════════╪════════════╪════════════╡\n",
       "│ 20170104  ┆ 36165  ┆ 20170103   ┆ 20170102   ┆ 20170101   ┆ 27503      ┆ 24165      ┆ 33723      │\n",
       "│ 20170105  ┆ 37830  ┆ 20170104   ┆ 20170103   ┆ 20170102   ┆ 36165      ┆ 27503      ┆ 24165      │\n",
       "│ 20170106  ┆ 32387  ┆ 20170105   ┆ 20170104   ┆ 20170103   ┆ 37830      ┆ 36165      ┆ 27503      │\n",
       "│ 20170107  ┆ 23415  ┆ 20170106   ┆ 20170105   ┆ 20170104   ┆ 32387      ┆ 37830      ┆ 36165      │\n",
       "│ 20170108  ┆ 24737  ┆ 20170107   ┆ 20170106   ┆ 20170105   ┆ 23415      ┆ 32387      ┆ 37830      │\n",
       "└───────────┴────────┴────────────┴────────────┴────────────┴────────────┴────────────┴────────────┘"
      ]
     },
     "execution_count": 49,
     "metadata": {},
     "output_type": "execute_result"
    }
   ],
   "source": [
    "# filterでnull削除\n",
    "df_042 = (\n",
    "    df_receipt.group_by(\"sales_ymd\")\n",
    "    .agg(pl.col(\"amount\").sum())\n",
    "    .sort(pl.col(\"sales_ymd\"))\n",
    "    .with_columns(\n",
    "        [pl.col(\"sales_ymd\").shift(i).alias(f\"sales_ymd_lag{i}\") for i in range(1, 4)]\n",
    "    ).with_columns(\n",
    "        [pl.col(\"amount\").shift(i).alias(f\"amount_lag{i}\") for i in range(1, 4)]\n",
    "    ).filter(pl.col(\"sales_ymd_lag3\").is_not_null())\n",
    ")\n",
    "\n",
    "df_042.head()"
   ]
  },
  {
   "cell_type": "code",
   "execution_count": 50,
   "metadata": {},
   "outputs": [
    {
     "data": {
      "text/html": [
       "<div><style>\n",
       ".dataframe > thead > tr,\n",
       ".dataframe > tbody > tr {\n",
       "  text-align: right;\n",
       "  white-space: pre-wrap;\n",
       "}\n",
       "</style>\n",
       "<small>shape: (5, 8)</small><table border=\"1\" class=\"dataframe\"><thead><tr><th>sales_ymd</th><th>amount</th><th>sales_ymd_lag1</th><th>sales_ymd_lag2</th><th>sales_ymd_lag3</th><th>amount_lag1</th><th>amount_lag2</th><th>amount_lag3</th></tr><tr><td>i64</td><td>i64</td><td>i64</td><td>i64</td><td>i64</td><td>i64</td><td>i64</td><td>i64</td></tr></thead><tbody><tr><td>20170104</td><td>36165</td><td>20170103</td><td>20170102</td><td>20170101</td><td>27503</td><td>24165</td><td>33723</td></tr><tr><td>20170105</td><td>37830</td><td>20170104</td><td>20170103</td><td>20170102</td><td>36165</td><td>27503</td><td>24165</td></tr><tr><td>20170106</td><td>32387</td><td>20170105</td><td>20170104</td><td>20170103</td><td>37830</td><td>36165</td><td>27503</td></tr><tr><td>20170107</td><td>23415</td><td>20170106</td><td>20170105</td><td>20170104</td><td>32387</td><td>37830</td><td>36165</td></tr><tr><td>20170108</td><td>24737</td><td>20170107</td><td>20170106</td><td>20170105</td><td>23415</td><td>32387</td><td>37830</td></tr></tbody></table></div>"
      ],
      "text/plain": [
       "shape: (5, 8)\n",
       "┌───────────┬────────┬────────────┬────────────┬────────────┬────────────┬────────────┬────────────┐\n",
       "│ sales_ymd ┆ amount ┆ sales_ymd_ ┆ sales_ymd_ ┆ sales_ymd_ ┆ amount_lag ┆ amount_lag ┆ amount_lag │\n",
       "│ ---       ┆ ---    ┆ lag1       ┆ lag2       ┆ lag3       ┆ 1          ┆ 2          ┆ 3          │\n",
       "│ i64       ┆ i64    ┆ ---        ┆ ---        ┆ ---        ┆ ---        ┆ ---        ┆ ---        │\n",
       "│           ┆        ┆ i64        ┆ i64        ┆ i64        ┆ i64        ┆ i64        ┆ i64        │\n",
       "╞═══════════╪════════╪════════════╪════════════╪════════════╪════════════╪════════════╪════════════╡\n",
       "│ 20170104  ┆ 36165  ┆ 20170103   ┆ 20170102   ┆ 20170101   ┆ 27503      ┆ 24165      ┆ 33723      │\n",
       "│ 20170105  ┆ 37830  ┆ 20170104   ┆ 20170103   ┆ 20170102   ┆ 36165      ┆ 27503      ┆ 24165      │\n",
       "│ 20170106  ┆ 32387  ┆ 20170105   ┆ 20170104   ┆ 20170103   ┆ 37830      ┆ 36165      ┆ 27503      │\n",
       "│ 20170107  ┆ 23415  ┆ 20170106   ┆ 20170105   ┆ 20170104   ┆ 32387      ┆ 37830      ┆ 36165      │\n",
       "│ 20170108  ┆ 24737  ┆ 20170107   ┆ 20170106   ┆ 20170105   ┆ 23415      ┆ 32387      ┆ 37830      │\n",
       "└───────────┴────────┴────────────┴────────────┴────────────┴────────────┴────────────┴────────────┘"
      ]
     },
     "execution_count": 50,
     "metadata": {},
     "output_type": "execute_result"
    }
   ],
   "source": [
    "df_042 = (\n",
    "    df_receipt.group_by(\"sales_ymd\")\n",
    "    .agg(pl.col(\"amount\").sum())\n",
    "    .sort(pl.col(\"sales_ymd\"))\n",
    "    .with_columns(\n",
    "        [pl.col(\"sales_ymd\").shift(i).alias(f\"sales_ymd_lag{i}\") for i in range(1, 4)]\n",
    "    ).with_columns(\n",
    "        [pl.col(\"amount\").shift(i).alias(f\"amount_lag{i}\") for i in range(1, 4)]\n",
    "    ).drop_nulls()\n",
    ")\n",
    "\n",
    "df_042.head()"
   ]
  },
  {
   "attachments": {},
   "cell_type": "markdown",
   "metadata": {},
   "source": [
    "---\n",
    "> P-043： レシート明細データ（df_receipt）と顧客データ（df_customer）を結合し、性別コード（gender_cd）と年代（ageから計算）ごとに売上金額（amount）を合計した売上サマリデータを作成せよ。性別コードは0が男性、1が女性、9が不明を表すものとする。\n",
    ">\n",
    "> ただし、項目構成は年代、女性の売上金額、男性の売上金額、性別不明の売上金額の4項目とすること（縦に年代、横に性別のクロス集計）。また、年代は10歳ごとの階級とすること。"
   ]
  },
  {
   "cell_type": "code",
   "execution_count": 51,
   "metadata": {},
   "outputs": [
    {
     "data": {
      "text/html": [
       "<div><style>\n",
       ".dataframe > thead > tr,\n",
       ".dataframe > tbody > tr {\n",
       "  text-align: right;\n",
       "  white-space: pre-wrap;\n",
       "}\n",
       "</style>\n",
       "<small>shape: (9, 4)</small><table border=\"1\" class=\"dataframe\"><thead><tr><th>era</th><th>female</th><th>male</th><th>unknown</th></tr><tr><td>f64</td><td>i64</td><td>i64</td><td>i64</td></tr></thead><tbody><tr><td>10.0</td><td>149836</td><td>1591</td><td>4317</td></tr><tr><td>20.0</td><td>1363724</td><td>72940</td><td>44328</td></tr><tr><td>30.0</td><td>693047</td><td>177322</td><td>50441</td></tr><tr><td>40.0</td><td>9320791</td><td>19355</td><td>483512</td></tr><tr><td>50.0</td><td>6685192</td><td>54320</td><td>342923</td></tr><tr><td>60.0</td><td>987741</td><td>272469</td><td>71418</td></tr><tr><td>70.0</td><td>29764</td><td>13435</td><td>2427</td></tr><tr><td>80.0</td><td>262923</td><td>46360</td><td>5111</td></tr><tr><td>90.0</td><td>6260</td><td>null</td><td>null</td></tr></tbody></table></div>"
      ],
      "text/plain": [
       "shape: (9, 4)\n",
       "┌──────┬─────────┬────────┬─────────┐\n",
       "│ era  ┆ female  ┆ male   ┆ unknown │\n",
       "│ ---  ┆ ---     ┆ ---    ┆ ---     │\n",
       "│ f64  ┆ i64     ┆ i64    ┆ i64     │\n",
       "╞══════╪═════════╪════════╪═════════╡\n",
       "│ 10.0 ┆ 149836  ┆ 1591   ┆ 4317    │\n",
       "│ 20.0 ┆ 1363724 ┆ 72940  ┆ 44328   │\n",
       "│ 30.0 ┆ 693047  ┆ 177322 ┆ 50441   │\n",
       "│ 40.0 ┆ 9320791 ┆ 19355  ┆ 483512  │\n",
       "│ 50.0 ┆ 6685192 ┆ 54320  ┆ 342923  │\n",
       "│ 60.0 ┆ 987741  ┆ 272469 ┆ 71418   │\n",
       "│ 70.0 ┆ 29764   ┆ 13435  ┆ 2427    │\n",
       "│ 80.0 ┆ 262923  ┆ 46360  ┆ 5111    │\n",
       "│ 90.0 ┆ 6260    ┆ null   ┆ null    │\n",
       "└──────┴─────────┴────────┴─────────┘"
      ]
     },
     "execution_count": 51,
     "metadata": {},
     "output_type": "execute_result"
    }
   ],
   "source": [
    "df_043 = (\n",
    "    df_receipt.join(df_customer, on=\"customer_id\", how=\"inner\")\n",
    "    .with_columns(((pl.col(\"age\") / 10).floor() * 10).alias(\"era\"))\n",
    "    .pivot(values=\"amount\", index=\"era\", columns=\"gender_cd\", aggregate_function=\"sum\")\n",
    "    .rename({\"1\": \"female\", \"0\": \"male\", \"9\": \"unknown\"})\n",
    "    .sort(\"era\")\n",
    ")\n",
    "\n",
    "df_043"
   ]
  },
  {
   "cell_type": "code",
   "execution_count": 52,
   "metadata": {},
   "outputs": [
    {
     "data": {
      "text/html": [
       "<div><style>\n",
       ".dataframe > thead > tr,\n",
       ".dataframe > tbody > tr {\n",
       "  text-align: right;\n",
       "  white-space: pre-wrap;\n",
       "}\n",
       "</style>\n",
       "<small>shape: (9, 4)</small><table border=\"1\" class=\"dataframe\"><thead><tr><th>era</th><th>male</th><th>unknown</th><th>female</th></tr><tr><td>f64</td><td>i64</td><td>i64</td><td>i64</td></tr></thead><tbody><tr><td>10.0</td><td>1591</td><td>4317</td><td>149836</td></tr><tr><td>20.0</td><td>72940</td><td>44328</td><td>1363724</td></tr><tr><td>30.0</td><td>177322</td><td>50441</td><td>693047</td></tr><tr><td>40.0</td><td>19355</td><td>483512</td><td>9320791</td></tr><tr><td>50.0</td><td>54320</td><td>342923</td><td>6685192</td></tr><tr><td>60.0</td><td>272469</td><td>71418</td><td>987741</td></tr><tr><td>70.0</td><td>13435</td><td>2427</td><td>29764</td></tr><tr><td>80.0</td><td>46360</td><td>5111</td><td>262923</td></tr><tr><td>90.0</td><td>0</td><td>null</td><td>6260</td></tr></tbody></table></div>"
      ],
      "text/plain": [
       "shape: (9, 4)\n",
       "┌──────┬────────┬─────────┬─────────┐\n",
       "│ era  ┆ male   ┆ unknown ┆ female  │\n",
       "│ ---  ┆ ---    ┆ ---     ┆ ---     │\n",
       "│ f64  ┆ i64    ┆ i64     ┆ i64     │\n",
       "╞══════╪════════╪═════════╪═════════╡\n",
       "│ 10.0 ┆ 1591   ┆ 4317    ┆ 149836  │\n",
       "│ 20.0 ┆ 72940  ┆ 44328   ┆ 1363724 │\n",
       "│ 30.0 ┆ 177322 ┆ 50441   ┆ 693047  │\n",
       "│ 40.0 ┆ 19355  ┆ 483512  ┆ 9320791 │\n",
       "│ 50.0 ┆ 54320  ┆ 342923  ┆ 6685192 │\n",
       "│ 60.0 ┆ 272469 ┆ 71418   ┆ 987741  │\n",
       "│ 70.0 ┆ 13435  ┆ 2427    ┆ 29764   │\n",
       "│ 80.0 ┆ 46360  ┆ 5111    ┆ 262923  │\n",
       "│ 90.0 ┆ 0      ┆ null    ┆ 6260    │\n",
       "└──────┴────────┴─────────┴─────────┘"
      ]
     },
     "execution_count": 52,
     "metadata": {},
     "output_type": "execute_result"
    }
   ],
   "source": [
    "# 別解(apply)\n",
    "\n",
    "gender_mapping = {\"0\": \"male\", \"1\": \"female\", \"9\": \"unknown\"}\n",
    "\n",
    "df_043 = (\n",
    "    df_customer.join(df_receipt, how=\"left\", on=\"customer_id\")\n",
    "    .with_columns(\n",
    "        ((pl.col(\"age\") / 10).floor() * 10).alias(\"era\"),\n",
    "        pl.col(\"gender_cd\").replace(gender_mapping).alias(\"gender\"),\n",
    "    )\n",
    "    .group_by([\"gender\", \"era\"])\n",
    "    .agg(pl.col(\"amount\").sum())\n",
    "    .pivot(values=\"amount\", index=\"era\", columns=\"gender\")\n",
    "    .sort(\"era\")\n",
    ")\n",
    "\n",
    "df_043"
   ]
  },
  {
   "attachments": {},
   "cell_type": "markdown",
   "metadata": {},
   "source": [
    "---\n",
    "> P-044： 043で作成した売上サマリデータ（df_sales_summary）は性別の売上を横持ちさせたものであった。このデータから性別を縦持ちさせ、年代、性別コード、売上金額の3項目に変換せよ。ただし、性別コードは男性を\"00\"、女性を\"01\"、不明を\"99\"とする。"
   ]
  },
  {
   "cell_type": "code",
   "execution_count": 53,
   "metadata": {},
   "outputs": [
    {
     "data": {
      "text/html": [
       "<div><style>\n",
       ".dataframe > thead > tr,\n",
       ".dataframe > tbody > tr {\n",
       "  text-align: right;\n",
       "  white-space: pre-wrap;\n",
       "}\n",
       "</style>\n",
       "<small>shape: (27, 3)</small><table border=\"1\" class=\"dataframe\"><thead><tr><th>era</th><th>gender_cd</th><th>amount</th></tr><tr><td>f64</td><td>str</td><td>i64</td></tr></thead><tbody><tr><td>10.0</td><td>&quot;00&quot;</td><td>1591</td></tr><tr><td>10.0</td><td>&quot;01&quot;</td><td>149836</td></tr><tr><td>10.0</td><td>&quot;99&quot;</td><td>4317</td></tr><tr><td>20.0</td><td>&quot;00&quot;</td><td>72940</td></tr><tr><td>20.0</td><td>&quot;01&quot;</td><td>1363724</td></tr><tr><td>20.0</td><td>&quot;99&quot;</td><td>44328</td></tr><tr><td>30.0</td><td>&quot;00&quot;</td><td>177322</td></tr><tr><td>30.0</td><td>&quot;01&quot;</td><td>693047</td></tr><tr><td>30.0</td><td>&quot;99&quot;</td><td>50441</td></tr><tr><td>40.0</td><td>&quot;00&quot;</td><td>19355</td></tr><tr><td>40.0</td><td>&quot;01&quot;</td><td>9320791</td></tr><tr><td>40.0</td><td>&quot;99&quot;</td><td>483512</td></tr><tr><td>&hellip;</td><td>&hellip;</td><td>&hellip;</td></tr><tr><td>60.0</td><td>&quot;00&quot;</td><td>272469</td></tr><tr><td>60.0</td><td>&quot;01&quot;</td><td>987741</td></tr><tr><td>60.0</td><td>&quot;99&quot;</td><td>71418</td></tr><tr><td>70.0</td><td>&quot;00&quot;</td><td>13435</td></tr><tr><td>70.0</td><td>&quot;01&quot;</td><td>29764</td></tr><tr><td>70.0</td><td>&quot;99&quot;</td><td>2427</td></tr><tr><td>80.0</td><td>&quot;00&quot;</td><td>46360</td></tr><tr><td>80.0</td><td>&quot;01&quot;</td><td>262923</td></tr><tr><td>80.0</td><td>&quot;99&quot;</td><td>5111</td></tr><tr><td>90.0</td><td>&quot;00&quot;</td><td>0</td></tr><tr><td>90.0</td><td>&quot;01&quot;</td><td>6260</td></tr><tr><td>90.0</td><td>&quot;99&quot;</td><td>null</td></tr></tbody></table></div>"
      ],
      "text/plain": [
       "shape: (27, 3)\n",
       "┌──────┬───────────┬────────┐\n",
       "│ era  ┆ gender_cd ┆ amount │\n",
       "│ ---  ┆ ---       ┆ ---    │\n",
       "│ f64  ┆ str       ┆ i64    │\n",
       "╞══════╪═══════════╪════════╡\n",
       "│ 10.0 ┆ 00        ┆ 1591   │\n",
       "│ 10.0 ┆ 01        ┆ 149836 │\n",
       "│ 10.0 ┆ 99        ┆ 4317   │\n",
       "│ 20.0 ┆ 00        ┆ 72940  │\n",
       "│ …    ┆ …         ┆ …      │\n",
       "│ 80.0 ┆ 99        ┆ 5111   │\n",
       "│ 90.0 ┆ 00        ┆ 0      │\n",
       "│ 90.0 ┆ 01        ┆ 6260   │\n",
       "│ 90.0 ┆ 99        ┆ null   │\n",
       "└──────┴───────────┴────────┘"
      ]
     },
     "execution_count": 53,
     "metadata": {},
     "output_type": "execute_result"
    }
   ],
   "source": [
    "df_044 = (\n",
    "    df_043.rename({\"male\": \"00\", \"female\": \"01\", \"unknown\": \"99\"})\n",
    "    .melt(\n",
    "        id_vars=\"era\",\n",
    "        value_vars=[\"00\", \"01\", \"99\"],\n",
    "        variable_name=\"gender_cd\",\n",
    "        value_name=\"amount\",\n",
    "    )\n",
    "    .sort(\"era\")\n",
    ")\n",
    "\n",
    "df_044"
   ]
  },
  {
   "attachments": {},
   "cell_type": "markdown",
   "metadata": {},
   "source": [
    "## Date型"
   ]
  },
  {
   "attachments": {},
   "cell_type": "markdown",
   "metadata": {},
   "source": [
    "---\n",
    "> P-045: 顧客データ（df_customer）の生年月日（birth_day）は日付型でデータを保有している。これをYYYYMMDD形式の文字列に変換し、顧客ID（customer_id）とともに10件表示せよ。"
   ]
  },
  {
   "cell_type": "code",
   "execution_count": 54,
   "metadata": {},
   "outputs": [
    {
     "data": {
      "text/html": [
       "<div><style>\n",
       ".dataframe > thead > tr,\n",
       ".dataframe > tbody > tr {\n",
       "  text-align: right;\n",
       "  white-space: pre-wrap;\n",
       "}\n",
       "</style>\n",
       "<small>shape: (5, 2)</small><table border=\"1\" class=\"dataframe\"><thead><tr><th>customer_id</th><th>birth_day</th></tr><tr><td>str</td><td>str</td></tr></thead><tbody><tr><td>&quot;CS021313000114…</td><td>&quot;19810429&quot;</td></tr><tr><td>&quot;CS037613000071…</td><td>&quot;19520401&quot;</td></tr><tr><td>&quot;CS031415000172…</td><td>&quot;19761004&quot;</td></tr><tr><td>&quot;CS028811000001…</td><td>&quot;19330327&quot;</td></tr><tr><td>&quot;CS001215000145…</td><td>&quot;19950329&quot;</td></tr></tbody></table></div>"
      ],
      "text/plain": [
       "shape: (5, 2)\n",
       "┌────────────────┬───────────┐\n",
       "│ customer_id    ┆ birth_day │\n",
       "│ ---            ┆ ---       │\n",
       "│ str            ┆ str       │\n",
       "╞════════════════╪═══════════╡\n",
       "│ CS021313000114 ┆ 19810429  │\n",
       "│ CS037613000071 ┆ 19520401  │\n",
       "│ CS031415000172 ┆ 19761004  │\n",
       "│ CS028811000001 ┆ 19330327  │\n",
       "│ CS001215000145 ┆ 19950329  │\n",
       "└────────────────┴───────────┘"
      ]
     },
     "execution_count": 54,
     "metadata": {},
     "output_type": "execute_result"
    }
   ],
   "source": [
    "df_045 = df_customer.select(\n",
    "    \"customer_id\",\n",
    "    pl.col(\"birth_day\")\n",
    "    .str.strptime(dtype=pl.Date, format=\"%Y-%m-%d\")  # string型 -> date型へ一度変換\n",
    "    .dt.strftime(\"%Y%m%d\"),\n",
    ")  # date型からstring型(YYYYMMDD)へ変換\n",
    "\n",
    "df_045.head()"
   ]
  },
  {
   "attachments": {},
   "cell_type": "markdown",
   "metadata": {},
   "source": [
    "---\n",
    "> P-046: 顧客データ（df_customer）の申し込み日（application_date）はYYYYMMDD形式の文字列型でデータを保有している。これを日付型に変換し、顧客ID（customer_id）とともに10件表示せよ。"
   ]
  },
  {
   "cell_type": "code",
   "execution_count": 55,
   "metadata": {},
   "outputs": [
    {
     "data": {
      "text/html": [
       "<div><style>\n",
       ".dataframe > thead > tr,\n",
       ".dataframe > tbody > tr {\n",
       "  text-align: right;\n",
       "  white-space: pre-wrap;\n",
       "}\n",
       "</style>\n",
       "<small>shape: (5, 2)</small><table border=\"1\" class=\"dataframe\"><thead><tr><th>customer_id</th><th>application_date</th></tr><tr><td>str</td><td>date</td></tr></thead><tbody><tr><td>&quot;CS021313000114…</td><td>2015-09-05</td></tr><tr><td>&quot;CS037613000071…</td><td>2015-04-14</td></tr><tr><td>&quot;CS031415000172…</td><td>2015-05-29</td></tr><tr><td>&quot;CS028811000001…</td><td>2016-01-15</td></tr><tr><td>&quot;CS001215000145…</td><td>2017-06-05</td></tr></tbody></table></div>"
      ],
      "text/plain": [
       "shape: (5, 2)\n",
       "┌────────────────┬──────────────────┐\n",
       "│ customer_id    ┆ application_date │\n",
       "│ ---            ┆ ---              │\n",
       "│ str            ┆ date             │\n",
       "╞════════════════╪══════════════════╡\n",
       "│ CS021313000114 ┆ 2015-09-05       │\n",
       "│ CS037613000071 ┆ 2015-04-14       │\n",
       "│ CS031415000172 ┆ 2015-05-29       │\n",
       "│ CS028811000001 ┆ 2016-01-15       │\n",
       "│ CS001215000145 ┆ 2017-06-05       │\n",
       "└────────────────┴──────────────────┘"
      ]
     },
     "execution_count": 55,
     "metadata": {},
     "output_type": "execute_result"
    }
   ],
   "source": [
    "df_046 = df_customer.select(\n",
    "    \"customer_id\",\n",
    "    pl.col(\"application_date\").str.strptime(dtype=pl.Date, format=\"%Y%m%d\")\n",
    ")\n",
    "df_046.head()"
   ]
  },
  {
   "attachments": {},
   "cell_type": "markdown",
   "metadata": {},
   "source": [
    "---\n",
    "> P-047: レシート明細データ（df_receipt）の売上日（sales_ymd）はYYYYMMDD形式の数値型でデータを保有している。これを日付型に変換し、レシート番号（receipt_no）、レシートサブ番号（receipt_sub_no）とともに10件表示せよ。"
   ]
  },
  {
   "cell_type": "code",
   "execution_count": 56,
   "metadata": {},
   "outputs": [
    {
     "data": {
      "text/html": [
       "<div><style>\n",
       ".dataframe > thead > tr,\n",
       ".dataframe > tbody > tr {\n",
       "  text-align: right;\n",
       "  white-space: pre-wrap;\n",
       "}\n",
       "</style>\n",
       "<small>shape: (5, 3)</small><table border=\"1\" class=\"dataframe\"><thead><tr><th>receipt_no</th><th>receipt_sub_no</th><th>sales_ymd</th></tr><tr><td>i64</td><td>i64</td><td>date</td></tr></thead><tbody><tr><td>112</td><td>1</td><td>2018-11-03</td></tr><tr><td>1132</td><td>2</td><td>2018-11-18</td></tr><tr><td>1102</td><td>1</td><td>2017-07-12</td></tr><tr><td>1132</td><td>1</td><td>2019-02-05</td></tr><tr><td>1102</td><td>2</td><td>2018-08-21</td></tr></tbody></table></div>"
      ],
      "text/plain": [
       "shape: (5, 3)\n",
       "┌────────────┬────────────────┬────────────┐\n",
       "│ receipt_no ┆ receipt_sub_no ┆ sales_ymd  │\n",
       "│ ---        ┆ ---            ┆ ---        │\n",
       "│ i64        ┆ i64            ┆ date       │\n",
       "╞════════════╪════════════════╪════════════╡\n",
       "│ 112        ┆ 1              ┆ 2018-11-03 │\n",
       "│ 1132       ┆ 2              ┆ 2018-11-18 │\n",
       "│ 1102       ┆ 1              ┆ 2017-07-12 │\n",
       "│ 1132       ┆ 1              ┆ 2019-02-05 │\n",
       "│ 1102       ┆ 2              ┆ 2018-08-21 │\n",
       "└────────────┴────────────────┴────────────┘"
      ]
     },
     "execution_count": 56,
     "metadata": {},
     "output_type": "execute_result"
    }
   ],
   "source": [
    "df_047 = df_receipt.select(\n",
    "    \"receipt_no\",\n",
    "    \"receipt_sub_no\",\n",
    "    pl.col(\"sales_ymd\").cast(str).str.strptime(dtype=pl.Date, format=\"%Y%m%d\"),\n",
    ")\n",
    "\n",
    "df_047.head()"
   ]
  },
  {
   "attachments": {},
   "cell_type": "markdown",
   "metadata": {},
   "source": [
    "---\n",
    "> P-048: レシート明細データ（df_receipt）の売上エポック秒（sales_epoch）は数値型のUNIX秒でデータを保有している。これを日付型に変換し、レシート番号(receipt_no)、レシートサブ番号（receipt_sub_no）とともに10件表示せよ。"
   ]
  },
  {
   "cell_type": "code",
   "execution_count": 57,
   "metadata": {},
   "outputs": [
    {
     "data": {
      "text/html": [
       "<div><style>\n",
       ".dataframe > thead > tr,\n",
       ".dataframe > tbody > tr {\n",
       "  text-align: right;\n",
       "  white-space: pre-wrap;\n",
       "}\n",
       "</style>\n",
       "<small>shape: (5, 3)</small><table border=\"1\" class=\"dataframe\"><thead><tr><th>receipt_no</th><th>receipt_sub_no</th><th>sales_epoch</th></tr><tr><td>i64</td><td>i64</td><td>datetime[μs]</td></tr></thead><tbody><tr><td>112</td><td>1</td><td>2018-11-03 00:00:00</td></tr><tr><td>1132</td><td>2</td><td>2018-11-18 00:00:00</td></tr><tr><td>1102</td><td>1</td><td>2017-07-12 00:00:00</td></tr><tr><td>1132</td><td>1</td><td>2019-02-05 00:00:00</td></tr><tr><td>1102</td><td>2</td><td>2018-08-21 00:00:00</td></tr></tbody></table></div>"
      ],
      "text/plain": [
       "shape: (5, 3)\n",
       "┌────────────┬────────────────┬─────────────────────┐\n",
       "│ receipt_no ┆ receipt_sub_no ┆ sales_epoch         │\n",
       "│ ---        ┆ ---            ┆ ---                 │\n",
       "│ i64        ┆ i64            ┆ datetime[μs]        │\n",
       "╞════════════╪════════════════╪═════════════════════╡\n",
       "│ 112        ┆ 1              ┆ 2018-11-03 00:00:00 │\n",
       "│ 1132       ┆ 2              ┆ 2018-11-18 00:00:00 │\n",
       "│ 1102       ┆ 1              ┆ 2017-07-12 00:00:00 │\n",
       "│ 1132       ┆ 1              ┆ 2019-02-05 00:00:00 │\n",
       "│ 1102       ┆ 2              ┆ 2018-08-21 00:00:00 │\n",
       "└────────────┴────────────────┴─────────────────────┘"
      ]
     },
     "execution_count": 57,
     "metadata": {},
     "output_type": "execute_result"
    }
   ],
   "source": [
    "df_048 = df_receipt.select(\n",
    "    \"receipt_no\",\n",
    "    \"receipt_sub_no\",\n",
    "    pl.col(\"sales_epoch\").cast(dtype=pl.Utf8).str.strptime(dtype=pl.Datetime, format=\"%s\"),\n",
    ")\n",
    "\n",
    "df_048.head()"
   ]
  },
  {
   "attachments": {},
   "cell_type": "markdown",
   "metadata": {},
   "source": [
    "---\n",
    "> P-049: レシート明細データ（df_receipt）の売上エポック秒（sales_epoch）を日付型に変換し、「年」だけ取り出してレシート番号(receipt_no)、レシートサブ番号（receipt_sub_no）とともに10件表示せよ。"
   ]
  },
  {
   "cell_type": "code",
   "execution_count": 58,
   "metadata": {},
   "outputs": [
    {
     "data": {
      "text/html": [
       "<div><style>\n",
       ".dataframe > thead > tr,\n",
       ".dataframe > tbody > tr {\n",
       "  text-align: right;\n",
       "  white-space: pre-wrap;\n",
       "}\n",
       "</style>\n",
       "<small>shape: (5, 3)</small><table border=\"1\" class=\"dataframe\"><thead><tr><th>receipt_no</th><th>receipt_sub_no</th><th>sales_epoch</th></tr><tr><td>i64</td><td>i64</td><td>i32</td></tr></thead><tbody><tr><td>112</td><td>1</td><td>2018</td></tr><tr><td>1132</td><td>2</td><td>2018</td></tr><tr><td>1102</td><td>1</td><td>2017</td></tr><tr><td>1132</td><td>1</td><td>2019</td></tr><tr><td>1102</td><td>2</td><td>2018</td></tr></tbody></table></div>"
      ],
      "text/plain": [
       "shape: (5, 3)\n",
       "┌────────────┬────────────────┬─────────────┐\n",
       "│ receipt_no ┆ receipt_sub_no ┆ sales_epoch │\n",
       "│ ---        ┆ ---            ┆ ---         │\n",
       "│ i64        ┆ i64            ┆ i32         │\n",
       "╞════════════╪════════════════╪═════════════╡\n",
       "│ 112        ┆ 1              ┆ 2018        │\n",
       "│ 1132       ┆ 2              ┆ 2018        │\n",
       "│ 1102       ┆ 1              ┆ 2017        │\n",
       "│ 1132       ┆ 1              ┆ 2019        │\n",
       "│ 1102       ┆ 2              ┆ 2018        │\n",
       "└────────────┴────────────────┴─────────────┘"
      ]
     },
     "execution_count": 58,
     "metadata": {},
     "output_type": "execute_result"
    }
   ],
   "source": [
    "df_049 = df_receipt.select(\n",
    "    \"receipt_no\",\n",
    "    \"receipt_sub_no\",\n",
    "    pl.col(\"sales_epoch\").cast(dtype=pl.Utf8).str.strptime(dtype=pl.Datetime, format=\"%s\").dt.year(),\n",
    ")\n",
    "\n",
    "df_049.head()"
   ]
  },
  {
   "attachments": {},
   "cell_type": "markdown",
   "metadata": {},
   "source": [
    "---\n",
    "> P-050: レシート明細データ（df_receipt）の売上エポック秒（sales_epoch）を日付型に変換し、「月」だけ取り出してレシート番号(receipt_no)、レシートサブ番号（receipt_sub_no）とともに10件表示せよ。なお、「月」は0埋め2桁で取り出すこと。"
   ]
  },
  {
   "cell_type": "code",
   "execution_count": 59,
   "metadata": {},
   "outputs": [
    {
     "data": {
      "text/html": [
       "<div><style>\n",
       ".dataframe > thead > tr,\n",
       ".dataframe > tbody > tr {\n",
       "  text-align: right;\n",
       "  white-space: pre-wrap;\n",
       "}\n",
       "</style>\n",
       "<small>shape: (5, 3)</small><table border=\"1\" class=\"dataframe\"><thead><tr><th>receipt_no</th><th>receipt_sub_no</th><th>sales_epoch</th></tr><tr><td>i64</td><td>i64</td><td>str</td></tr></thead><tbody><tr><td>112</td><td>1</td><td>&quot;11&quot;</td></tr><tr><td>1132</td><td>2</td><td>&quot;11&quot;</td></tr><tr><td>1102</td><td>1</td><td>&quot;07&quot;</td></tr><tr><td>1132</td><td>1</td><td>&quot;02&quot;</td></tr><tr><td>1102</td><td>2</td><td>&quot;08&quot;</td></tr></tbody></table></div>"
      ],
      "text/plain": [
       "shape: (5, 3)\n",
       "┌────────────┬────────────────┬─────────────┐\n",
       "│ receipt_no ┆ receipt_sub_no ┆ sales_epoch │\n",
       "│ ---        ┆ ---            ┆ ---         │\n",
       "│ i64        ┆ i64            ┆ str         │\n",
       "╞════════════╪════════════════╪═════════════╡\n",
       "│ 112        ┆ 1              ┆ 11          │\n",
       "│ 1132       ┆ 2              ┆ 11          │\n",
       "│ 1102       ┆ 1              ┆ 07          │\n",
       "│ 1132       ┆ 1              ┆ 02          │\n",
       "│ 1102       ┆ 2              ┆ 08          │\n",
       "└────────────┴────────────────┴─────────────┘"
      ]
     },
     "execution_count": 59,
     "metadata": {},
     "output_type": "execute_result"
    }
   ],
   "source": [
    "df_050 = df_receipt.select(\n",
    "    \"receipt_no\",\n",
    "    \"receipt_sub_no\",\n",
    "    pl.col(\"sales_epoch\")\n",
    "    .cast(dtype=pl.Utf8)\n",
    "    .str.strptime(dtype=pl.Datetime, format=\"%s\")\n",
    "    .dt.strftime(\"%m\"),\n",
    ")  # 0埋めなので文字列\"strftime\"で抽出\n",
    "\n",
    "df_050.head()"
   ]
  },
  {
   "attachments": {},
   "cell_type": "markdown",
   "metadata": {},
   "source": [
    "---\n",
    "> P-051: レシート明細データ（df_receipt）の売上エポック秒を日付型に変換し、「日」だけ取り出してレシート番号(receipt_no)、レシートサブ番号（receipt_sub_no）とともに10件表示せよ。なお、「日」は0埋め2桁で取り出すこと。"
   ]
  },
  {
   "cell_type": "code",
   "execution_count": 60,
   "metadata": {},
   "outputs": [
    {
     "data": {
      "text/html": [
       "<div><style>\n",
       ".dataframe > thead > tr,\n",
       ".dataframe > tbody > tr {\n",
       "  text-align: right;\n",
       "  white-space: pre-wrap;\n",
       "}\n",
       "</style>\n",
       "<small>shape: (5, 3)</small><table border=\"1\" class=\"dataframe\"><thead><tr><th>receipt_no</th><th>receipt_sub_no</th><th>sales_epoch</th></tr><tr><td>i64</td><td>i64</td><td>str</td></tr></thead><tbody><tr><td>112</td><td>1</td><td>&quot;03&quot;</td></tr><tr><td>1132</td><td>2</td><td>&quot;18&quot;</td></tr><tr><td>1102</td><td>1</td><td>&quot;12&quot;</td></tr><tr><td>1132</td><td>1</td><td>&quot;05&quot;</td></tr><tr><td>1102</td><td>2</td><td>&quot;21&quot;</td></tr></tbody></table></div>"
      ],
      "text/plain": [
       "shape: (5, 3)\n",
       "┌────────────┬────────────────┬─────────────┐\n",
       "│ receipt_no ┆ receipt_sub_no ┆ sales_epoch │\n",
       "│ ---        ┆ ---            ┆ ---         │\n",
       "│ i64        ┆ i64            ┆ str         │\n",
       "╞════════════╪════════════════╪═════════════╡\n",
       "│ 112        ┆ 1              ┆ 03          │\n",
       "│ 1132       ┆ 2              ┆ 18          │\n",
       "│ 1102       ┆ 1              ┆ 12          │\n",
       "│ 1132       ┆ 1              ┆ 05          │\n",
       "│ 1102       ┆ 2              ┆ 21          │\n",
       "└────────────┴────────────────┴─────────────┘"
      ]
     },
     "execution_count": 60,
     "metadata": {},
     "output_type": "execute_result"
    }
   ],
   "source": [
    "df_051 = df_receipt.select(\n",
    "    \"receipt_no\",\n",
    "    \"receipt_sub_no\",\n",
    "    pl.col(\"sales_epoch\")\n",
    "    .cast(dtype=pl.Utf8)\n",
    "    .str.strptime(dtype=pl.Datetime, format=\"%s\")\n",
    "    .dt.strftime(\"%d\"),\n",
    ")\n",
    "\n",
    "df_051.head()"
   ]
  },
  {
   "attachments": {},
   "cell_type": "markdown",
   "metadata": {},
   "source": [
    "## 条件分岐\n",
    ".when()や.map_elements()を用いる"
   ]
  },
  {
   "attachments": {},
   "cell_type": "markdown",
   "metadata": {},
   "source": [
    "---\n",
    "> P-052: レシート明細データ（df_receipt）の売上金額（amount）を顧客ID（customer_id）ごとに合計の上、売上金額合計に対して2,000円以下を0、2,000円より大きい金額を1に二値化し、顧客ID、売上金額合計とともに10件表示せよ。ただし、顧客IDが\"Z\"から始まるのものは非会員を表すため、除外して計算すること。"
   ]
  },
  {
   "cell_type": "code",
   "execution_count": 61,
   "metadata": {},
   "outputs": [
    {
     "data": {
      "text/html": [
       "<div><style>\n",
       ".dataframe > thead > tr,\n",
       ".dataframe > tbody > tr {\n",
       "  text-align: right;\n",
       "  white-space: pre-wrap;\n",
       "}\n",
       "</style>\n",
       "<small>shape: (10, 3)</small><table border=\"1\" class=\"dataframe\"><thead><tr><th>customer_id</th><th>amount</th><th>sales_flg</th></tr><tr><td>str</td><td>i64</td><td>i32</td></tr></thead><tbody><tr><td>&quot;CS001113000004…</td><td>1298</td><td>0</td></tr><tr><td>&quot;CS001114000005…</td><td>626</td><td>0</td></tr><tr><td>&quot;CS001115000010…</td><td>3044</td><td>1</td></tr><tr><td>&quot;CS001205000004…</td><td>1988</td><td>0</td></tr><tr><td>&quot;CS001205000006…</td><td>3337</td><td>1</td></tr><tr><td>&quot;CS001211000025…</td><td>456</td><td>0</td></tr><tr><td>&quot;CS001212000027…</td><td>448</td><td>0</td></tr><tr><td>&quot;CS001212000031…</td><td>296</td><td>0</td></tr><tr><td>&quot;CS001212000046…</td><td>228</td><td>0</td></tr><tr><td>&quot;CS001212000070…</td><td>456</td><td>0</td></tr></tbody></table></div>"
      ],
      "text/plain": [
       "shape: (10, 3)\n",
       "┌────────────────┬────────┬───────────┐\n",
       "│ customer_id    ┆ amount ┆ sales_flg │\n",
       "│ ---            ┆ ---    ┆ ---       │\n",
       "│ str            ┆ i64    ┆ i32       │\n",
       "╞════════════════╪════════╪═══════════╡\n",
       "│ CS001113000004 ┆ 1298   ┆ 0         │\n",
       "│ CS001114000005 ┆ 626    ┆ 0         │\n",
       "│ CS001115000010 ┆ 3044   ┆ 1         │\n",
       "│ CS001205000004 ┆ 1988   ┆ 0         │\n",
       "│ …              ┆ …      ┆ …         │\n",
       "│ CS001212000027 ┆ 448    ┆ 0         │\n",
       "│ CS001212000031 ┆ 296    ┆ 0         │\n",
       "│ CS001212000046 ┆ 228    ┆ 0         │\n",
       "│ CS001212000070 ┆ 456    ┆ 0         │\n",
       "└────────────────┴────────┴───────────┘"
      ]
     },
     "execution_count": 61,
     "metadata": {},
     "output_type": "execute_result"
    }
   ],
   "source": [
    "df_052 = (\n",
    "    df_receipt.filter(pl.col(\"customer_id\").str.starts_with(\"Z\").not_())\n",
    "    .group_by(\"customer_id\")\n",
    "    .agg(pl.col(\"amount\").sum())\n",
    "    .select(\n",
    "        pl.col(\"customer_id\"),\n",
    "        pl.col(\"amount\"),\n",
    "        pl.when(pl.col(\"amount\") <= 2000).then(0).otherwise(1).alias(\"sales_flg\"),\n",
    "    )\n",
    "    .sort(pl.col(\"customer_id\"))\n",
    ")\n",
    "\n",
    "df_052.head(10)"
   ]
  },
  {
   "cell_type": "code",
   "execution_count": 62,
   "metadata": {},
   "outputs": [
    {
     "data": {
      "text/html": [
       "<div><style>\n",
       ".dataframe > thead > tr,\n",
       ".dataframe > tbody > tr {\n",
       "  text-align: right;\n",
       "  white-space: pre-wrap;\n",
       "}\n",
       "</style>\n",
       "<small>shape: (10, 3)</small><table border=\"1\" class=\"dataframe\"><thead><tr><th>customer_id</th><th>amount</th><th>sales_flg</th></tr><tr><td>str</td><td>i64</td><td>i64</td></tr></thead><tbody><tr><td>&quot;CS001113000004…</td><td>1298</td><td>0</td></tr><tr><td>&quot;CS001114000005…</td><td>626</td><td>0</td></tr><tr><td>&quot;CS001115000010…</td><td>3044</td><td>1</td></tr><tr><td>&quot;CS001205000004…</td><td>1988</td><td>0</td></tr><tr><td>&quot;CS001205000006…</td><td>3337</td><td>1</td></tr><tr><td>&quot;CS001211000025…</td><td>456</td><td>0</td></tr><tr><td>&quot;CS001212000027…</td><td>448</td><td>0</td></tr><tr><td>&quot;CS001212000031…</td><td>296</td><td>0</td></tr><tr><td>&quot;CS001212000046…</td><td>228</td><td>0</td></tr><tr><td>&quot;CS001212000070…</td><td>456</td><td>0</td></tr></tbody></table></div>"
      ],
      "text/plain": [
       "shape: (10, 3)\n",
       "┌────────────────┬────────┬───────────┐\n",
       "│ customer_id    ┆ amount ┆ sales_flg │\n",
       "│ ---            ┆ ---    ┆ ---       │\n",
       "│ str            ┆ i64    ┆ i64       │\n",
       "╞════════════════╪════════╪═══════════╡\n",
       "│ CS001113000004 ┆ 1298   ┆ 0         │\n",
       "│ CS001114000005 ┆ 626    ┆ 0         │\n",
       "│ CS001115000010 ┆ 3044   ┆ 1         │\n",
       "│ CS001205000004 ┆ 1988   ┆ 0         │\n",
       "│ …              ┆ …      ┆ …         │\n",
       "│ CS001212000027 ┆ 448    ┆ 0         │\n",
       "│ CS001212000031 ┆ 296    ┆ 0         │\n",
       "│ CS001212000046 ┆ 228    ┆ 0         │\n",
       "│ CS001212000070 ┆ 456    ┆ 0         │\n",
       "└────────────────┴────────┴───────────┘"
      ]
     },
     "execution_count": 62,
     "metadata": {},
     "output_type": "execute_result"
    }
   ],
   "source": [
    "# applyを使っても良いが処理がpythonなのでwhenより遅い\n",
    "df_052 = (\n",
    "    df_receipt.filter(pl.col(\"customer_id\").str.starts_with(\"Z\").not_())\n",
    "    .group_by(\"customer_id\")\n",
    "    .agg(pl.col(\"amount\").sum())\n",
    "    .select(\n",
    "        \"customer_id\",\n",
    "        \"amount\",\n",
    "        pl.col(\"amount\").map_elements(lambda x: 1 if x > 2000 else 0).alias(\"sales_flg\"),\n",
    "    )\n",
    "    .sort(pl.col(\"customer_id\"))\n",
    ")\n",
    "\n",
    "df_052.head(10)"
   ]
  },
  {
   "attachments": {},
   "cell_type": "markdown",
   "metadata": {},
   "source": [
    "---\n",
    "> P-053: 顧客データ（df_customer）の郵便番号（postal_cd）に対し、東京（先頭3桁が100〜209のもの）を1、それ以外のものを0に二値化せよ。さらにレシート明細データ（df_receipt）と結合し、全期間において売上実績のある顧客数を、作成した二値ごとにカウントせよ。"
   ]
  },
  {
   "cell_type": "code",
   "execution_count": 63,
   "metadata": {},
   "outputs": [
    {
     "data": {
      "text/html": [
       "<div><style>\n",
       ".dataframe > thead > tr,\n",
       ".dataframe > tbody > tr {\n",
       "  text-align: right;\n",
       "  white-space: pre-wrap;\n",
       "}\n",
       "</style>\n",
       "<small>shape: (2, 2)</small><table border=\"1\" class=\"dataframe\"><thead><tr><th>postal_flag</th><th>customer_id</th></tr><tr><td>i32</td><td>u32</td></tr></thead><tbody><tr><td>0</td><td>3906</td></tr><tr><td>1</td><td>4400</td></tr></tbody></table></div>"
      ],
      "text/plain": [
       "shape: (2, 2)\n",
       "┌─────────────┬─────────────┐\n",
       "│ postal_flag ┆ customer_id │\n",
       "│ ---         ┆ ---         │\n",
       "│ i32         ┆ u32         │\n",
       "╞═════════════╪═════════════╡\n",
       "│ 0           ┆ 3906        │\n",
       "│ 1           ┆ 4400        │\n",
       "└─────────────┴─────────────┘"
      ]
     },
     "execution_count": 63,
     "metadata": {},
     "output_type": "execute_result"
    }
   ],
   "source": [
    "df_053 = (\n",
    "    df_customer.select(\n",
    "        pl.col(\"customer_id\"),\n",
    "        pl.when(\n",
    "            pl.col(\"postal_cd\")\n",
    "            .str.slice(0, 3)\n",
    "            .cast(pl.Int16)\n",
    "            .is_between(100, 209, closed=\"both\")\n",
    "        )\n",
    "        .then(1)  # .is_between()で範囲指定。colosed = \"both\", \"left\", \"right\"がある\n",
    "        .otherwise(0)\n",
    "        .alias(\"postal_flag\"),\n",
    "    )\n",
    "    .join(df_receipt, on=\"customer_id\", how=\"inner\")\n",
    "    .group_by(pl.col(\"postal_flag\"))\n",
    "    .agg(pl.col(\"customer_id\").n_unique())  # .count()だとcustomer_idの重複を認めてしまうのでNG\n",
    ")\n",
    "\n",
    "df_053.head(10)"
   ]
  },
  {
   "attachments": {},
   "cell_type": "markdown",
   "metadata": {},
   "source": [
    "---\n",
    "> P-054: 顧客データ（df_customer）の住所（address）は、埼玉県、千葉県、東京都、神奈川県のいずれかとなっている。都道府県毎にコード値を作成し、顧客ID、住所とともに10件表示せよ。値は埼玉県を11、千葉県を12、東京都を13、神奈川県を14とすること。"
   ]
  },
  {
   "cell_type": "code",
   "execution_count": 64,
   "metadata": {},
   "outputs": [
    {
     "data": {
      "text/html": [
       "<div><style>\n",
       ".dataframe > thead > tr,\n",
       ".dataframe > tbody > tr {\n",
       "  text-align: right;\n",
       "  white-space: pre-wrap;\n",
       "}\n",
       "</style>\n",
       "<small>shape: (10, 3)</small><table border=\"1\" class=\"dataframe\"><thead><tr><th>customer_id</th><th>address</th><th>predecture_cd</th></tr><tr><td>str</td><td>str</td><td>str</td></tr></thead><tbody><tr><td>&quot;CS021313000114…</td><td>&quot;神奈川県伊勢原市粟窪****…</td><td>&quot;14&quot;</td></tr><tr><td>&quot;CS037613000071…</td><td>&quot;東京都江東区南砂******…</td><td>&quot;13&quot;</td></tr><tr><td>&quot;CS031415000172…</td><td>&quot;東京都渋谷区代々木*****…</td><td>&quot;13&quot;</td></tr><tr><td>&quot;CS028811000001…</td><td>&quot;神奈川県横浜市泉区和泉町**…</td><td>&quot;14&quot;</td></tr><tr><td>&quot;CS001215000145…</td><td>&quot;東京都大田区仲六郷*****…</td><td>&quot;13&quot;</td></tr><tr><td>&quot;CS020401000016…</td><td>&quot;東京都板橋区若木******…</td><td>&quot;13&quot;</td></tr><tr><td>&quot;CS015414000103…</td><td>&quot;東京都江東区北砂******…</td><td>&quot;13&quot;</td></tr><tr><td>&quot;CS029403000008…</td><td>&quot;千葉県浦安市海楽******…</td><td>&quot;12&quot;</td></tr><tr><td>&quot;CS015804000004…</td><td>&quot;東京都江東区北砂******…</td><td>&quot;13&quot;</td></tr><tr><td>&quot;CS033513000180…</td><td>&quot;神奈川県横浜市旭区善部町**…</td><td>&quot;14&quot;</td></tr></tbody></table></div>"
      ],
      "text/plain": [
       "shape: (10, 3)\n",
       "┌────────────────┬───────────────────────────────────┬───────────────┐\n",
       "│ customer_id    ┆ address                           ┆ predecture_cd │\n",
       "│ ---            ┆ ---                               ┆ ---           │\n",
       "│ str            ┆ str                               ┆ str           │\n",
       "╞════════════════╪═══════════════════════════════════╪═══════════════╡\n",
       "│ CS021313000114 ┆ 神奈川県伊勢原市粟窪**********    ┆ 14            │\n",
       "│ CS037613000071 ┆ 東京都江東区南砂**********        ┆ 13            │\n",
       "│ CS031415000172 ┆ 東京都渋谷区代々木**********      ┆ 13            │\n",
       "│ CS028811000001 ┆ 神奈川県横浜市泉区和泉町********* ┆ 14            │\n",
       "│                ┆ *                                 ┆               │\n",
       "│ …              ┆ …                                 ┆ …             │\n",
       "│ CS015414000103 ┆ 東京都江東区北砂**********        ┆ 13            │\n",
       "│ CS029403000008 ┆ 千葉県浦安市海楽**********        ┆ 12            │\n",
       "│ CS015804000004 ┆ 東京都江東区北砂**********        ┆ 13            │\n",
       "│ CS033513000180 ┆ 神奈川県横浜市旭区善部町********* ┆ 14            │\n",
       "│                ┆ *                                 ┆               │\n",
       "└────────────────┴───────────────────────────────────┴───────────────┘"
      ]
     },
     "execution_count": 64,
     "metadata": {},
     "output_type": "execute_result"
    }
   ],
   "source": [
    "df_054 = df_customer.select(\n",
    "    \"customer_id\",\n",
    "    \"address\",\n",
    "    pl.when(pl.col(\"address\").str.starts_with(\"埼玉県\"))\n",
    "    .then(pl.lit(\"11\"))\n",
    "    .when(pl.col(\"address\").str.starts_with(\"千葉県\"))\n",
    "    .then(pl.lit(\"12\"))\n",
    "    .when(pl.col(\"address\").str.starts_with(\"東京都\"))\n",
    "    .then(pl.lit(\"13\"))\n",
    "    .when(pl.col(\"address\").str.starts_with(\"神奈川県\"))\n",
    "    .then(pl.lit(\"14\"))\n",
    "    .otherwise(pl.lit(\"00\"))\n",
    "    .alias(\"predecture_cd\"),\n",
    ")\n",
    "\n",
    "df_054.head(10)"
   ]
  },
  {
   "cell_type": "code",
   "execution_count": 65,
   "metadata": {},
   "outputs": [
    {
     "data": {
      "text/html": [
       "<div><style>\n",
       ".dataframe > thead > tr,\n",
       ".dataframe > tbody > tr {\n",
       "  text-align: right;\n",
       "  white-space: pre-wrap;\n",
       "}\n",
       "</style>\n",
       "<small>shape: (10, 3)</small><table border=\"1\" class=\"dataframe\"><thead><tr><th>customer_id</th><th>address</th><th>prefecture_cd</th></tr><tr><td>str</td><td>str</td><td>str</td></tr></thead><tbody><tr><td>&quot;CS021313000114…</td><td>&quot;神奈川県伊勢原市粟窪****…</td><td>&quot;14&quot;</td></tr><tr><td>&quot;CS037613000071…</td><td>&quot;東京都江東区南砂******…</td><td>&quot;13&quot;</td></tr><tr><td>&quot;CS031415000172…</td><td>&quot;東京都渋谷区代々木*****…</td><td>&quot;13&quot;</td></tr><tr><td>&quot;CS028811000001…</td><td>&quot;神奈川県横浜市泉区和泉町**…</td><td>&quot;14&quot;</td></tr><tr><td>&quot;CS001215000145…</td><td>&quot;東京都大田区仲六郷*****…</td><td>&quot;13&quot;</td></tr><tr><td>&quot;CS020401000016…</td><td>&quot;東京都板橋区若木******…</td><td>&quot;13&quot;</td></tr><tr><td>&quot;CS015414000103…</td><td>&quot;東京都江東区北砂******…</td><td>&quot;13&quot;</td></tr><tr><td>&quot;CS029403000008…</td><td>&quot;千葉県浦安市海楽******…</td><td>&quot;12&quot;</td></tr><tr><td>&quot;CS015804000004…</td><td>&quot;東京都江東区北砂******…</td><td>&quot;13&quot;</td></tr><tr><td>&quot;CS033513000180…</td><td>&quot;神奈川県横浜市旭区善部町**…</td><td>&quot;14&quot;</td></tr></tbody></table></div>"
      ],
      "text/plain": [
       "shape: (10, 3)\n",
       "┌────────────────┬───────────────────────────────────┬───────────────┐\n",
       "│ customer_id    ┆ address                           ┆ prefecture_cd │\n",
       "│ ---            ┆ ---                               ┆ ---           │\n",
       "│ str            ┆ str                               ┆ str           │\n",
       "╞════════════════╪═══════════════════════════════════╪═══════════════╡\n",
       "│ CS021313000114 ┆ 神奈川県伊勢原市粟窪**********    ┆ 14            │\n",
       "│ CS037613000071 ┆ 東京都江東区南砂**********        ┆ 13            │\n",
       "│ CS031415000172 ┆ 東京都渋谷区代々木**********      ┆ 13            │\n",
       "│ CS028811000001 ┆ 神奈川県横浜市泉区和泉町********* ┆ 14            │\n",
       "│                ┆ *                                 ┆               │\n",
       "│ …              ┆ …                                 ┆ …             │\n",
       "│ CS015414000103 ┆ 東京都江東区北砂**********        ┆ 13            │\n",
       "│ CS029403000008 ┆ 千葉県浦安市海楽**********        ┆ 12            │\n",
       "│ CS015804000004 ┆ 東京都江東区北砂**********        ┆ 13            │\n",
       "│ CS033513000180 ┆ 神奈川県横浜市旭区善部町********* ┆ 14            │\n",
       "│                ┆ *                                 ┆               │\n",
       "└────────────────┴───────────────────────────────────┴───────────────┘"
      ]
     },
     "execution_count": 65,
     "metadata": {},
     "output_type": "execute_result"
    }
   ],
   "source": [
    "# 別解\n",
    "\n",
    "df_054 = df_customer.with_columns(\n",
    "    pl.col(\"address\")\n",
    "    .str.replace(r\"埼玉県.*\", \"11\")\n",
    "    .str.replace(r\"千葉県.*\", \"12\")\n",
    "    .str.replace(r\"東京都.*\", \"13\")\n",
    "    .str.replace(r\"神奈川県.*\", \"14\")\n",
    "    .alias(\"prefecture_cd\")\n",
    ").select([\"customer_id\", \"address\", \"prefecture_cd\"])\n",
    "\n",
    "df_054.head(10)"
   ]
  },
  {
   "attachments": {},
   "cell_type": "markdown",
   "metadata": {},
   "source": [
    "---\n",
    "> P-055: レシート明細（df_receipt）データの売上金額（amount）を顧客ID（customer_id）ごとに合計し、その合計金額の四分位点を求めよ。その上で、顧客ごとの売上金額合計に対して以下の基準でカテゴリ値を作成し、顧客ID、売上金額合計とともに10件表示せよ。カテゴリ値は順に1〜4とする。\n",
    ">\n",
    "> - 最小値以上第1四分位未満 ・・・ 1を付与\n",
    "> - 第1四分位以上第2四分位未満 ・・・ 2を付与\n",
    "> - 第2四分位以上第3四分位未満 ・・・ 3を付与\n",
    "> - 第3四分位以上 ・・・ 4を付与"
   ]
  },
  {
   "cell_type": "code",
   "execution_count": 66,
   "metadata": {},
   "outputs": [
    {
     "data": {
      "text/html": [
       "<div><style>\n",
       ".dataframe > thead > tr,\n",
       ".dataframe > tbody > tr {\n",
       "  text-align: right;\n",
       "  white-space: pre-wrap;\n",
       "}\n",
       "</style>\n",
       "<small>shape: (10, 3)</small><table border=\"1\" class=\"dataframe\"><thead><tr><th>customer_id</th><th>amount</th><th>pct_group</th></tr><tr><td>str</td><td>i64</td><td>i32</td></tr></thead><tbody><tr><td>&quot;CS001113000004…</td><td>1298</td><td>2</td></tr><tr><td>&quot;CS001114000005…</td><td>626</td><td>2</td></tr><tr><td>&quot;CS001115000010…</td><td>3044</td><td>3</td></tr><tr><td>&quot;CS001205000004…</td><td>1988</td><td>3</td></tr><tr><td>&quot;CS001205000006…</td><td>3337</td><td>3</td></tr><tr><td>&quot;CS001211000025…</td><td>456</td><td>1</td></tr><tr><td>&quot;CS001212000027…</td><td>448</td><td>1</td></tr><tr><td>&quot;CS001212000031…</td><td>296</td><td>1</td></tr><tr><td>&quot;CS001212000046…</td><td>228</td><td>1</td></tr><tr><td>&quot;CS001212000070…</td><td>456</td><td>1</td></tr></tbody></table></div>"
      ],
      "text/plain": [
       "shape: (10, 3)\n",
       "┌────────────────┬────────┬───────────┐\n",
       "│ customer_id    ┆ amount ┆ pct_group │\n",
       "│ ---            ┆ ---    ┆ ---       │\n",
       "│ str            ┆ i64    ┆ i32       │\n",
       "╞════════════════╪════════╪═══════════╡\n",
       "│ CS001113000004 ┆ 1298   ┆ 2         │\n",
       "│ CS001114000005 ┆ 626    ┆ 2         │\n",
       "│ CS001115000010 ┆ 3044   ┆ 3         │\n",
       "│ CS001205000004 ┆ 1988   ┆ 3         │\n",
       "│ …              ┆ …      ┆ …         │\n",
       "│ CS001212000027 ┆ 448    ┆ 1         │\n",
       "│ CS001212000031 ┆ 296    ┆ 1         │\n",
       "│ CS001212000046 ┆ 228    ┆ 1         │\n",
       "│ CS001212000070 ┆ 456    ┆ 1         │\n",
       "└────────────────┴────────┴───────────┘"
      ]
     },
     "execution_count": 66,
     "metadata": {},
     "output_type": "execute_result"
    }
   ],
   "source": [
    "df_055 = (\n",
    "    df_receipt.group_by(\"customer_id\")\n",
    "    .agg(pl.col(\"amount\").sum())\n",
    "    .sort(\"customer_id\")\n",
    "    .with_columns(\n",
    "        pl.when(pl.col(\"amount\") < pl.col(\"amount\").quantile(0.25))\n",
    "        .then(1)\n",
    "        .when(pl.col(\"amount\") < pl.col(\"amount\").quantile(0.50))\n",
    "        .then(2)\n",
    "        .when(pl.col(\"amount\") < pl.col(\"amount\").quantile(0.75))\n",
    "        .then(3)\n",
    "        .otherwise(4)\n",
    "        .alias(\"pct_group\")\n",
    "    )\n",
    ")\n",
    "\n",
    "df_055.head(10)"
   ]
  },
  {
   "attachments": {},
   "cell_type": "markdown",
   "metadata": {},
   "source": [
    "---\n",
    "> P-056: 顧客データ（df_customer）の年齢（age）をもとに10歳刻みで年代を算出し、顧客ID（customer_id）、生年月日（birth_day）とともに10件表示せよ。ただし、60歳以上は全て60歳代とすること。年代を表すカテゴリ名は任意とする。"
   ]
  },
  {
   "cell_type": "code",
   "execution_count": 67,
   "metadata": {},
   "outputs": [
    {
     "data": {
      "text/html": [
       "<div><style>\n",
       ".dataframe > thead > tr,\n",
       ".dataframe > tbody > tr {\n",
       "  text-align: right;\n",
       "  white-space: pre-wrap;\n",
       "}\n",
       "</style>\n",
       "<small>shape: (5, 3)</small><table border=\"1\" class=\"dataframe\"><thead><tr><th>customer_id</th><th>birth_day</th><th>era</th></tr><tr><td>str</td><td>str</td><td>i8</td></tr></thead><tbody><tr><td>&quot;CS021313000114…</td><td>&quot;1981-04-29&quot;</td><td>30</td></tr><tr><td>&quot;CS037613000071…</td><td>&quot;1952-04-01&quot;</td><td>60</td></tr><tr><td>&quot;CS031415000172…</td><td>&quot;1976-10-04&quot;</td><td>40</td></tr><tr><td>&quot;CS028811000001…</td><td>&quot;1933-03-27&quot;</td><td>60</td></tr><tr><td>&quot;CS001215000145…</td><td>&quot;1995-03-29&quot;</td><td>20</td></tr></tbody></table></div>"
      ],
      "text/plain": [
       "shape: (5, 3)\n",
       "┌────────────────┬────────────┬─────┐\n",
       "│ customer_id    ┆ birth_day  ┆ era │\n",
       "│ ---            ┆ ---        ┆ --- │\n",
       "│ str            ┆ str        ┆ i8  │\n",
       "╞════════════════╪════════════╪═════╡\n",
       "│ CS021313000114 ┆ 1981-04-29 ┆ 30  │\n",
       "│ CS037613000071 ┆ 1952-04-01 ┆ 60  │\n",
       "│ CS031415000172 ┆ 1976-10-04 ┆ 40  │\n",
       "│ CS028811000001 ┆ 1933-03-27 ┆ 60  │\n",
       "│ CS001215000145 ┆ 1995-03-29 ┆ 20  │\n",
       "└────────────────┴────────────┴─────┘"
      ]
     },
     "execution_count": 67,
     "metadata": {},
     "output_type": "execute_result"
    }
   ],
   "source": [
    "df_056 = df_customer.with_columns(\n",
    "    ((pl.col(\"age\") / 10).floor() * 10).cast(pl.Int8).alias(\"era\")\n",
    ").select(\n",
    "    \"customer_id\",\n",
    "    \"birth_day\",\n",
    "    pl.when(pl.col(\"era\") >= 60).then(60).otherwise(pl.col(\"era\")).alias(\"era\"),\n",
    ")\n",
    "\n",
    "df_056.head()"
   ]
  },
  {
   "cell_type": "code",
   "execution_count": 68,
   "metadata": {},
   "outputs": [
    {
     "data": {
      "text/html": [
       "<div><style>\n",
       ".dataframe > thead > tr,\n",
       ".dataframe > tbody > tr {\n",
       "  text-align: right;\n",
       "  white-space: pre-wrap;\n",
       "}\n",
       "</style>\n",
       "<small>shape: (5, 3)</small><table border=\"1\" class=\"dataframe\"><thead><tr><th>customer_id</th><th>birth_day</th><th>era</th></tr><tr><td>str</td><td>str</td><td>i64</td></tr></thead><tbody><tr><td>&quot;CS021313000114…</td><td>&quot;1981-04-29&quot;</td><td>30</td></tr><tr><td>&quot;CS037613000071…</td><td>&quot;1952-04-01&quot;</td><td>60</td></tr><tr><td>&quot;CS031415000172…</td><td>&quot;1976-10-04&quot;</td><td>40</td></tr><tr><td>&quot;CS028811000001…</td><td>&quot;1933-03-27&quot;</td><td>60</td></tr><tr><td>&quot;CS001215000145…</td><td>&quot;1995-03-29&quot;</td><td>20</td></tr></tbody></table></div>"
      ],
      "text/plain": [
       "shape: (5, 3)\n",
       "┌────────────────┬────────────┬─────┐\n",
       "│ customer_id    ┆ birth_day  ┆ era │\n",
       "│ ---            ┆ ---        ┆ --- │\n",
       "│ str            ┆ str        ┆ i64 │\n",
       "╞════════════════╪════════════╪═════╡\n",
       "│ CS021313000114 ┆ 1981-04-29 ┆ 30  │\n",
       "│ CS037613000071 ┆ 1952-04-01 ┆ 60  │\n",
       "│ CS031415000172 ┆ 1976-10-04 ┆ 40  │\n",
       "│ CS028811000001 ┆ 1933-03-27 ┆ 60  │\n",
       "│ CS001215000145 ┆ 1995-03-29 ┆ 20  │\n",
       "└────────────────┴────────────┴─────┘"
      ]
     },
     "execution_count": 68,
     "metadata": {},
     "output_type": "execute_result"
    }
   ],
   "source": [
    "# map_elementsを使う方法\n",
    "\n",
    "df_056 = df_customer.select(\n",
    "    \"customer_id\",\n",
    "    \"birth_day\",\n",
    "    pl.col(\"age\").map_elements(lambda x: math.floor(min(x, 60) / 10) * 10).alias(\"era\"),\n",
    ")\n",
    "\n",
    "df_056.head()"
   ]
  },
  {
   "cell_type": "code",
   "execution_count": 69,
   "metadata": {},
   "outputs": [
    {
     "data": {
      "text/html": [
       "<div><style>\n",
       ".dataframe > thead > tr,\n",
       ".dataframe > tbody > tr {\n",
       "  text-align: right;\n",
       "  white-space: pre-wrap;\n",
       "}\n",
       "</style>\n",
       "<small>shape: (21_971, 3)</small><table border=\"1\" class=\"dataframe\"><thead><tr><th>customer_id</th><th>birth_day</th><th>era</th></tr><tr><td>str</td><td>str</td><td>cat</td></tr></thead><tbody><tr><td>&quot;CS025115000002…</td><td>&quot;2007-04-18&quot;</td><td>&quot;(30, 40]&quot;</td></tr><tr><td>&quot;CS002114000010…</td><td>&quot;2007-06-03&quot;</td><td>&quot;(60, inf]&quot;</td></tr><tr><td>&quot;CS022103000002…</td><td>&quot;2007-10-02&quot;</td><td>&quot;(40, 50]&quot;</td></tr><tr><td>&quot;CS002113000009…</td><td>&quot;2007-09-17&quot;</td><td>&quot;(60, inf]&quot;</td></tr><tr><td>&quot;CS035114000004…</td><td>&quot;2007-11-25&quot;</td><td>&quot;(20, 30]&quot;</td></tr><tr><td>&quot;CS004115000014…</td><td>&quot;2007-08-09&quot;</td><td>&quot;(40, 50]&quot;</td></tr><tr><td>&quot;CS021103000002…</td><td>&quot;2006-11-24&quot;</td><td>&quot;(40, 50]&quot;</td></tr><tr><td>&quot;CS027112000002…</td><td>&quot;2007-01-29&quot;</td><td>&quot;(40, 50]&quot;</td></tr><tr><td>&quot;CS040113000005…</td><td>&quot;2006-07-07&quot;</td><td>&quot;(60, inf]&quot;</td></tr><tr><td>&quot;CS004111000005…</td><td>&quot;2006-04-07&quot;</td><td>&quot;(50, 60]&quot;</td></tr><tr><td>&quot;CS040112000011…</td><td>&quot;2006-05-21&quot;</td><td>&quot;(40, 50]&quot;</td></tr><tr><td>&quot;CS011112000001…</td><td>&quot;2006-12-04&quot;</td><td>&quot;(60, inf]&quot;</td></tr><tr><td>&hellip;</td><td>&hellip;</td><td>&hellip;</td></tr><tr><td>&quot;CS002812000003…</td><td>&quot;1929-05-16&quot;</td><td>&quot;(50, 60]&quot;</td></tr><tr><td>&quot;CS003713000100…</td><td>&quot;1929-04-23&quot;</td><td>&quot;(50, 60]&quot;</td></tr><tr><td>&quot;CS004812000021…</td><td>&quot;1930-01-10&quot;</td><td>&quot;(40, 50]&quot;</td></tr><tr><td>&quot;CS017811000003…</td><td>&quot;1930-02-27&quot;</td><td>&quot;(20, 30]&quot;</td></tr><tr><td>&quot;CS022801000002…</td><td>&quot;1929-09-28&quot;</td><td>&quot;(30, 40]&quot;</td></tr><tr><td>&quot;CS013801000003…</td><td>&quot;1929-01-15&quot;</td><td>&quot;(30, 40]&quot;</td></tr><tr><td>&quot;CS016815000002…</td><td>&quot;1929-02-22&quot;</td><td>&quot;(50, 60]&quot;</td></tr><tr><td>&quot;CS001814000022…</td><td>&quot;1929-01-28&quot;</td><td>&quot;(50, 60]&quot;</td></tr><tr><td>&quot;CS026813000004…</td><td>&quot;1928-12-14&quot;</td><td>&quot;(40, 50]&quot;</td></tr><tr><td>&quot;CS027803000004…</td><td>&quot;1929-01-12&quot;</td><td>&quot;(40, 50]&quot;</td></tr><tr><td>&quot;CS018811000003…</td><td>&quot;1929-01-07&quot;</td><td>&quot;(50, 60]&quot;</td></tr><tr><td>&quot;CS003813000014…</td><td>&quot;1928-11-26&quot;</td><td>&quot;(20, 30]&quot;</td></tr></tbody></table></div>"
      ],
      "text/plain": [
       "shape: (21_971, 3)\n",
       "┌────────────────┬────────────┬───────────┐\n",
       "│ customer_id    ┆ birth_day  ┆ era       │\n",
       "│ ---            ┆ ---        ┆ ---       │\n",
       "│ str            ┆ str        ┆ cat       │\n",
       "╞════════════════╪════════════╪═══════════╡\n",
       "│ CS025115000002 ┆ 2007-04-18 ┆ (30, 40]  │\n",
       "│ CS002114000010 ┆ 2007-06-03 ┆ (60, inf] │\n",
       "│ CS022103000002 ┆ 2007-10-02 ┆ (40, 50]  │\n",
       "│ CS002113000009 ┆ 2007-09-17 ┆ (60, inf] │\n",
       "│ …              ┆ …          ┆ …         │\n",
       "│ CS026813000004 ┆ 1928-12-14 ┆ (40, 50]  │\n",
       "│ CS027803000004 ┆ 1929-01-12 ┆ (40, 50]  │\n",
       "│ CS018811000003 ┆ 1929-01-07 ┆ (50, 60]  │\n",
       "│ CS003813000014 ┆ 1928-11-26 ┆ (20, 30]  │\n",
       "└────────────────┴────────────┴───────────┘"
      ]
     },
     "execution_count": 69,
     "metadata": {},
     "output_type": "execute_result"
    }
   ],
   "source": [
    "# cutするためのseriesは勝手に並び替えられてしてしまう　いつか修正される？\n",
    "# そのため、cutするまえに一度並び替えを行う\n",
    "df_056_cut = df_customer.sort(\"age\", descending=False).select(\n",
    "    \"customer_id\",\n",
    "    \"birth_day\",\n",
    "    df_customer.select(\"age\")\n",
    "    .to_series()\n",
    "    .cut(breaks=[10, 20, 30, 40, 50, 60])\n",
    "    .alias(\"era\"),\n",
    ")\n",
    "\n",
    "df_056_cut"
   ]
  },
  {
   "attachments": {},
   "cell_type": "markdown",
   "metadata": {},
   "source": [
    "---\n",
    "> P-057: 056の抽出結果と性別コード（gender_cd）により、新たに性別×年代の組み合わせを表すカテゴリデータを作成し、10件表示せよ。組み合わせを表すカテゴリの値は任意とする。"
   ]
  },
  {
   "cell_type": "code",
   "execution_count": 70,
   "metadata": {},
   "outputs": [
    {
     "data": {
      "text/html": [
       "<div><style>\n",
       ".dataframe > thead > tr,\n",
       ".dataframe > tbody > tr {\n",
       "  text-align: right;\n",
       "  white-space: pre-wrap;\n",
       "}\n",
       "</style>\n",
       "<small>shape: (10, 4)</small><table border=\"1\" class=\"dataframe\"><thead><tr><th>customer_id</th><th>birth_day</th><th>era</th><th>gender_era</th></tr><tr><td>str</td><td>str</td><td>str</td><td>str</td></tr></thead><tbody><tr><td>&quot;CS021313000114…</td><td>&quot;1981-04-29&quot;</td><td>&quot;30&quot;</td><td>&quot;130&quot;</td></tr><tr><td>&quot;CS037613000071…</td><td>&quot;1952-04-01&quot;</td><td>&quot;60&quot;</td><td>&quot;960&quot;</td></tr><tr><td>&quot;CS031415000172…</td><td>&quot;1976-10-04&quot;</td><td>&quot;40&quot;</td><td>&quot;140&quot;</td></tr><tr><td>&quot;CS028811000001…</td><td>&quot;1933-03-27&quot;</td><td>&quot;60&quot;</td><td>&quot;160&quot;</td></tr><tr><td>&quot;CS001215000145…</td><td>&quot;1995-03-29&quot;</td><td>&quot;20&quot;</td><td>&quot;120&quot;</td></tr><tr><td>&quot;CS020401000016…</td><td>&quot;1974-09-15&quot;</td><td>&quot;40&quot;</td><td>&quot;040&quot;</td></tr><tr><td>&quot;CS015414000103…</td><td>&quot;1977-08-09&quot;</td><td>&quot;40&quot;</td><td>&quot;140&quot;</td></tr><tr><td>&quot;CS029403000008…</td><td>&quot;1973-08-17&quot;</td><td>&quot;40&quot;</td><td>&quot;040&quot;</td></tr><tr><td>&quot;CS015804000004…</td><td>&quot;1931-05-02&quot;</td><td>&quot;60&quot;</td><td>&quot;060&quot;</td></tr><tr><td>&quot;CS033513000180…</td><td>&quot;1962-07-11&quot;</td><td>&quot;50&quot;</td><td>&quot;150&quot;</td></tr></tbody></table></div>"
      ],
      "text/plain": [
       "shape: (10, 4)\n",
       "┌────────────────┬────────────┬─────┬────────────┐\n",
       "│ customer_id    ┆ birth_day  ┆ era ┆ gender_era │\n",
       "│ ---            ┆ ---        ┆ --- ┆ ---        │\n",
       "│ str            ┆ str        ┆ str ┆ str        │\n",
       "╞════════════════╪════════════╪═════╪════════════╡\n",
       "│ CS021313000114 ┆ 1981-04-29 ┆ 30  ┆ 130        │\n",
       "│ CS037613000071 ┆ 1952-04-01 ┆ 60  ┆ 960        │\n",
       "│ CS031415000172 ┆ 1976-10-04 ┆ 40  ┆ 140        │\n",
       "│ CS028811000001 ┆ 1933-03-27 ┆ 60  ┆ 160        │\n",
       "│ …              ┆ …          ┆ …   ┆ …          │\n",
       "│ CS015414000103 ┆ 1977-08-09 ┆ 40  ┆ 140        │\n",
       "│ CS029403000008 ┆ 1973-08-17 ┆ 40  ┆ 040        │\n",
       "│ CS015804000004 ┆ 1931-05-02 ┆ 60  ┆ 060        │\n",
       "│ CS033513000180 ┆ 1962-07-11 ┆ 50  ┆ 150        │\n",
       "└────────────────┴────────────┴─────┴────────────┘"
      ]
     },
     "execution_count": 70,
     "metadata": {},
     "output_type": "execute_result"
    }
   ],
   "source": [
    "df_057 = df_customer.with_columns(\n",
    "    pl.col(\"age\").map_elements(lambda x: str(math.floor(min(x, 60) / 10) * 10)).alias(\"era\")\n",
    ").select(\n",
    "    \"customer_id\",\n",
    "    \"birth_day\",\n",
    "    \"era\",\n",
    "    # (pl.col(\"gender_cd\") + pl.col(\"era\")).alias(\"gender_era\")\n",
    "    pl.concat_str([pl.col(\"gender_cd\"), pl.col(\"era\")]).alias(\"gender_era\"),\n",
    ")  # pl.concat_str()で文字列の結合\n",
    "\n",
    "df_057.head(10)"
   ]
  },
  {
   "attachments": {},
   "cell_type": "markdown",
   "metadata": {},
   "source": [
    "---\n",
    "> P-058: 顧客データ（df_customer）の性別コード（gender_cd）をダミー変数化し、顧客ID（customer_id）とともに10件表示せよ。"
   ]
  },
  {
   "cell_type": "code",
   "execution_count": 71,
   "metadata": {},
   "outputs": [
    {
     "data": {
      "text/html": [
       "<div><style>\n",
       ".dataframe > thead > tr,\n",
       ".dataframe > tbody > tr {\n",
       "  text-align: right;\n",
       "  white-space: pre-wrap;\n",
       "}\n",
       "</style>\n",
       "<small>shape: (5, 4)</small><table border=\"1\" class=\"dataframe\"><thead><tr><th>customer_id</th><th>gender_cd_0</th><th>gender_cd_1</th><th>gender_cd_9</th></tr><tr><td>str</td><td>u8</td><td>u8</td><td>u8</td></tr></thead><tbody><tr><td>&quot;CS021313000114…</td><td>0</td><td>1</td><td>0</td></tr><tr><td>&quot;CS037613000071…</td><td>0</td><td>0</td><td>1</td></tr><tr><td>&quot;CS031415000172…</td><td>0</td><td>1</td><td>0</td></tr><tr><td>&quot;CS028811000001…</td><td>0</td><td>1</td><td>0</td></tr><tr><td>&quot;CS001215000145…</td><td>0</td><td>1</td><td>0</td></tr></tbody></table></div>"
      ],
      "text/plain": [
       "shape: (5, 4)\n",
       "┌────────────────┬─────────────┬─────────────┬─────────────┐\n",
       "│ customer_id    ┆ gender_cd_0 ┆ gender_cd_1 ┆ gender_cd_9 │\n",
       "│ ---            ┆ ---         ┆ ---         ┆ ---         │\n",
       "│ str            ┆ u8          ┆ u8          ┆ u8          │\n",
       "╞════════════════╪═════════════╪═════════════╪═════════════╡\n",
       "│ CS021313000114 ┆ 0           ┆ 1           ┆ 0           │\n",
       "│ CS037613000071 ┆ 0           ┆ 0           ┆ 1           │\n",
       "│ CS031415000172 ┆ 0           ┆ 1           ┆ 0           │\n",
       "│ CS028811000001 ┆ 0           ┆ 1           ┆ 0           │\n",
       "│ CS001215000145 ┆ 0           ┆ 1           ┆ 0           │\n",
       "└────────────────┴─────────────┴─────────────┴─────────────┘"
      ]
     },
     "execution_count": 71,
     "metadata": {},
     "output_type": "execute_result"
    }
   ],
   "source": [
    "df_058 = df_customer.select(\n",
    "    \"customer_id\",\n",
    "    # *pl.get_dummies(df_customer.select(pl.col(\"gender_cd\")))  # 古い書き方　to_dummys()に変更された\n",
    "    *df_customer.select(\"gender_cd\").to_dummies()\n",
    ")  # 出力はDataFrame型なのでアンパックして展開する\n",
    "\n",
    "df_058.head()"
   ]
  },
  {
   "attachments": {},
   "cell_type": "markdown",
   "metadata": {},
   "source": [
    "## 統計処理"
   ]
  },
  {
   "attachments": {},
   "cell_type": "markdown",
   "metadata": {},
   "source": [
    "---\n",
    "> P-059: レシート明細データ（df_receipt）の売上金額（amount）を顧客ID（customer_id）ごとに合計し、売上金額合計を平均0、標準偏差1に標準化して顧客ID、売上金額合計とともに10件表示せよ。標準化に使用する標準偏差は、分散の平方根、もしくは不偏分散の平方根のどちらでも良いものとする。ただし、顧客IDが\"Z\"から始まるのものは非会員を表すため、除外して計算すること。\n",
    "\n",
    "- 標準化\n",
    "$$\n",
    "x_{new}^i = \\frac{x^i - \\mu}{\\sigma}\n",
    "$$"
   ]
  },
  {
   "cell_type": "code",
   "execution_count": 72,
   "metadata": {},
   "outputs": [
    {
     "data": {
      "text/html": [
       "<div><style>\n",
       ".dataframe > thead > tr,\n",
       ".dataframe > tbody > tr {\n",
       "  text-align: right;\n",
       "  white-space: pre-wrap;\n",
       "}\n",
       "</style>\n",
       "<small>shape: (5, 3)</small><table border=\"1\" class=\"dataframe\"><thead><tr><th>customer_id</th><th>amount</th><th>std_amount</th></tr><tr><td>str</td><td>i64</td><td>f64</td></tr></thead><tbody><tr><td>&quot;CS001113000004…</td><td>1298</td><td>-0.459378</td></tr><tr><td>&quot;CS001114000005…</td><td>626</td><td>-0.70639</td></tr><tr><td>&quot;CS001115000010…</td><td>3044</td><td>0.182413</td></tr><tr><td>&quot;CS001205000004…</td><td>1988</td><td>-0.205749</td></tr><tr><td>&quot;CS001205000006…</td><td>3337</td><td>0.290114</td></tr></tbody></table></div>"
      ],
      "text/plain": [
       "shape: (5, 3)\n",
       "┌────────────────┬────────┬────────────┐\n",
       "│ customer_id    ┆ amount ┆ std_amount │\n",
       "│ ---            ┆ ---    ┆ ---        │\n",
       "│ str            ┆ i64    ┆ f64        │\n",
       "╞════════════════╪════════╪════════════╡\n",
       "│ CS001113000004 ┆ 1298   ┆ -0.459378  │\n",
       "│ CS001114000005 ┆ 626    ┆ -0.70639   │\n",
       "│ CS001115000010 ┆ 3044   ┆ 0.182413   │\n",
       "│ CS001205000004 ┆ 1988   ┆ -0.205749  │\n",
       "│ CS001205000006 ┆ 3337   ┆ 0.290114   │\n",
       "└────────────────┴────────┴────────────┘"
      ]
     },
     "execution_count": 72,
     "metadata": {},
     "output_type": "execute_result"
    }
   ],
   "source": [
    "df_059 = (\n",
    "    df_receipt.filter(pl.col(\"customer_id\").str.starts_with(\"Z\").not_())\n",
    "    .group_by(\"customer_id\")\n",
    "    .agg(pl.col(\"amount\").sum())\n",
    "    .with_columns(\n",
    "        (\n",
    "            (pl.col(\"amount\") - pl.col(\"amount\").mean()) / pl.col(\"amount\").std(ddof=0)\n",
    "        ).alias(  # ddof=1:標本標準偏差, ddof=0:母標準偏差\n",
    "            \"std_amount\"\n",
    "        )\n",
    "    )\n",
    "    .sort(\"customer_id\")\n",
    ")\n",
    "\n",
    "df_059.head()"
   ]
  },
  {
   "attachments": {},
   "cell_type": "markdown",
   "metadata": {},
   "source": [
    "---\n",
    "> P-060: レシート明細データ（df_receipt）の売上金額（amount）を顧客ID（customer_id）ごとに合計し、売上金額合計を最小値0、最大値1に正規化して顧客ID、売上金額合計とともに10件表示せよ。ただし、顧客IDが\"Z\"から始まるのものは非会員を表すため、除外して計算すること。\n",
    "\n",
    "- 正規化\n",
    "$$\n",
    "x_{new}^i = \\frac{x^i - x_{min}}{x_{max} - x_{min}}\n",
    "$$"
   ]
  },
  {
   "cell_type": "code",
   "execution_count": 73,
   "metadata": {},
   "outputs": [
    {
     "data": {
      "text/html": [
       "<div><style>\n",
       ".dataframe > thead > tr,\n",
       ".dataframe > tbody > tr {\n",
       "  text-align: right;\n",
       "  white-space: pre-wrap;\n",
       "}\n",
       "</style>\n",
       "<small>shape: (5, 3)</small><table border=\"1\" class=\"dataframe\"><thead><tr><th>customer_id</th><th>amount</th><th>scale_amount</th></tr><tr><td>str</td><td>i64</td><td>f64</td></tr></thead><tbody><tr><td>&quot;CS001113000004…</td><td>1298</td><td>0.053354</td></tr><tr><td>&quot;CS001114000005…</td><td>626</td><td>0.024157</td></tr><tr><td>&quot;CS001115000010…</td><td>3044</td><td>0.129214</td></tr><tr><td>&quot;CS001205000004…</td><td>1988</td><td>0.083333</td></tr><tr><td>&quot;CS001205000006…</td><td>3337</td><td>0.141945</td></tr></tbody></table></div>"
      ],
      "text/plain": [
       "shape: (5, 3)\n",
       "┌────────────────┬────────┬──────────────┐\n",
       "│ customer_id    ┆ amount ┆ scale_amount │\n",
       "│ ---            ┆ ---    ┆ ---          │\n",
       "│ str            ┆ i64    ┆ f64          │\n",
       "╞════════════════╪════════╪══════════════╡\n",
       "│ CS001113000004 ┆ 1298   ┆ 0.053354     │\n",
       "│ CS001114000005 ┆ 626    ┆ 0.024157     │\n",
       "│ CS001115000010 ┆ 3044   ┆ 0.129214     │\n",
       "│ CS001205000004 ┆ 1988   ┆ 0.083333     │\n",
       "│ CS001205000006 ┆ 3337   ┆ 0.141945     │\n",
       "└────────────────┴────────┴──────────────┘"
      ]
     },
     "execution_count": 73,
     "metadata": {},
     "output_type": "execute_result"
    }
   ],
   "source": [
    "df_060 = (\n",
    "    df_receipt.filter(pl.col(\"customer_id\").str.starts_with(\"Z\").not_())\n",
    "    .group_by(\"customer_id\")\n",
    "    .agg(pl.col(\"amount\").sum())\n",
    "    .with_columns(\n",
    "        (\n",
    "            (pl.col(\"amount\") - pl.col(\"amount\").min())\n",
    "            / (pl.col(\"amount\").max() - pl.col(\"amount\").min())\n",
    "        ).alias(\"scale_amount\")\n",
    "    )\n",
    "    .sort(\"customer_id\")\n",
    ")\n",
    "\n",
    "df_060.head()"
   ]
  },
  {
   "attachments": {},
   "cell_type": "markdown",
   "metadata": {},
   "source": [
    "---\n",
    "> P-061: レシート明細データ（df_receipt）の売上金額（amount）を顧客ID（customer_id）ごとに合計し、売上金額合計を常用対数化（底10）して顧客ID、売上金額合計とともに10件表示せよ。ただし、顧客IDが\"Z\"から始まるのものは非会員を表すため、除外して計算すること。"
   ]
  },
  {
   "cell_type": "code",
   "execution_count": 74,
   "metadata": {},
   "outputs": [
    {
     "data": {
      "text/html": [
       "<div><style>\n",
       ".dataframe > thead > tr,\n",
       ".dataframe > tbody > tr {\n",
       "  text-align: right;\n",
       "  white-space: pre-wrap;\n",
       "}\n",
       "</style>\n",
       "<small>shape: (5, 3)</small><table border=\"1\" class=\"dataframe\"><thead><tr><th>customer_id</th><th>amount</th><th>log10_amount</th></tr><tr><td>str</td><td>i64</td><td>f64</td></tr></thead><tbody><tr><td>&quot;CS001113000004…</td><td>1298</td><td>3.113275</td></tr><tr><td>&quot;CS001114000005…</td><td>626</td><td>2.796574</td></tr><tr><td>&quot;CS001115000010…</td><td>3044</td><td>3.483445</td></tr><tr><td>&quot;CS001205000004…</td><td>1988</td><td>3.298416</td></tr><tr><td>&quot;CS001205000006…</td><td>3337</td><td>3.523356</td></tr></tbody></table></div>"
      ],
      "text/plain": [
       "shape: (5, 3)\n",
       "┌────────────────┬────────┬──────────────┐\n",
       "│ customer_id    ┆ amount ┆ log10_amount │\n",
       "│ ---            ┆ ---    ┆ ---          │\n",
       "│ str            ┆ i64    ┆ f64          │\n",
       "╞════════════════╪════════╪══════════════╡\n",
       "│ CS001113000004 ┆ 1298   ┆ 3.113275     │\n",
       "│ CS001114000005 ┆ 626    ┆ 2.796574     │\n",
       "│ CS001115000010 ┆ 3044   ┆ 3.483445     │\n",
       "│ CS001205000004 ┆ 1988   ┆ 3.298416     │\n",
       "│ CS001205000006 ┆ 3337   ┆ 3.523356     │\n",
       "└────────────────┴────────┴──────────────┘"
      ]
     },
     "execution_count": 74,
     "metadata": {},
     "output_type": "execute_result"
    }
   ],
   "source": [
    "df_061 = (\n",
    "    df_receipt.filter(pl.col(\"customer_id\").str.starts_with(\"Z\").not_())\n",
    "    .group_by(\"customer_id\")\n",
    "    .agg(pl.col(\"amount\").sum())\n",
    "    .with_columns(pl.col(\"amount\").log10().alias(\"log10_amount\"))\n",
    "    .sort(\"customer_id\")\n",
    ")\n",
    "\n",
    "df_061.head()"
   ]
  },
  {
   "attachments": {},
   "cell_type": "markdown",
   "metadata": {},
   "source": [
    "---\n",
    "> P-062: レシート明細データ（df_receipt）の売上金額（amount）を顧客ID（customer_id）ごとに合計し、売上金額合計を自然対数化（底e）して顧客ID、売上金額合計とともに10件表示せよ。ただし、顧客IDが\"Z\"から始まるのものは非会員を表すため、除外して計算すること。"
   ]
  },
  {
   "cell_type": "code",
   "execution_count": 75,
   "metadata": {},
   "outputs": [
    {
     "data": {
      "text/html": [
       "<div><style>\n",
       ".dataframe > thead > tr,\n",
       ".dataframe > tbody > tr {\n",
       "  text-align: right;\n",
       "  white-space: pre-wrap;\n",
       "}\n",
       "</style>\n",
       "<small>shape: (5, 3)</small><table border=\"1\" class=\"dataframe\"><thead><tr><th>customer_id</th><th>amount</th><th>log_amount</th></tr><tr><td>str</td><td>i64</td><td>f64</td></tr></thead><tbody><tr><td>&quot;CS001113000004…</td><td>1298</td><td>7.16858</td></tr><tr><td>&quot;CS001114000005…</td><td>626</td><td>6.43935</td></tr><tr><td>&quot;CS001115000010…</td><td>3044</td><td>8.020928</td></tr><tr><td>&quot;CS001205000004…</td><td>1988</td><td>7.594884</td></tr><tr><td>&quot;CS001205000006…</td><td>3337</td><td>8.112827</td></tr></tbody></table></div>"
      ],
      "text/plain": [
       "shape: (5, 3)\n",
       "┌────────────────┬────────┬────────────┐\n",
       "│ customer_id    ┆ amount ┆ log_amount │\n",
       "│ ---            ┆ ---    ┆ ---        │\n",
       "│ str            ┆ i64    ┆ f64        │\n",
       "╞════════════════╪════════╪════════════╡\n",
       "│ CS001113000004 ┆ 1298   ┆ 7.16858    │\n",
       "│ CS001114000005 ┆ 626    ┆ 6.43935    │\n",
       "│ CS001115000010 ┆ 3044   ┆ 8.020928   │\n",
       "│ CS001205000004 ┆ 1988   ┆ 7.594884   │\n",
       "│ CS001205000006 ┆ 3337   ┆ 8.112827   │\n",
       "└────────────────┴────────┴────────────┘"
      ]
     },
     "execution_count": 75,
     "metadata": {},
     "output_type": "execute_result"
    }
   ],
   "source": [
    "df_062 = (\n",
    "    df_receipt.filter(pl.col(\"customer_id\").str.starts_with(\"Z\").not_())\n",
    "    .group_by(\"customer_id\")\n",
    "    .agg(pl.col(\"amount\").sum())\n",
    "    .with_columns(pl.col(\"amount\").log().alias(\"log_amount\"))\n",
    "    .sort(\"customer_id\")\n",
    ")\n",
    "\n",
    "df_062.head()"
   ]
  },
  {
   "attachments": {},
   "cell_type": "markdown",
   "metadata": {},
   "source": [
    "---\n",
    "> P-063: 商品データ（df_product）の単価（unit_price）と原価（unit_cost）から各商品の利益額を算出し、結果を10件表示せよ。"
   ]
  },
  {
   "cell_type": "code",
   "execution_count": 76,
   "metadata": {},
   "outputs": [
    {
     "data": {
      "text/html": [
       "<div><style>\n",
       ".dataframe > thead > tr,\n",
       ".dataframe > tbody > tr {\n",
       "  text-align: right;\n",
       "  white-space: pre-wrap;\n",
       "}\n",
       "</style>\n",
       "<small>shape: (5, 7)</small><table border=\"1\" class=\"dataframe\"><thead><tr><th>product_cd</th><th>category_major_cd</th><th>category_medium_cd</th><th>category_small_cd</th><th>unit_price</th><th>unit_cost</th><th>unit_profit</th></tr><tr><td>str</td><td>str</td><td>str</td><td>str</td><td>i64</td><td>i64</td><td>i64</td></tr></thead><tbody><tr><td>&quot;P040101001&quot;</td><td>&quot;04&quot;</td><td>&quot;0401&quot;</td><td>&quot;040101&quot;</td><td>198</td><td>149</td><td>49</td></tr><tr><td>&quot;P040101002&quot;</td><td>&quot;04&quot;</td><td>&quot;0401&quot;</td><td>&quot;040101&quot;</td><td>218</td><td>164</td><td>54</td></tr><tr><td>&quot;P040101003&quot;</td><td>&quot;04&quot;</td><td>&quot;0401&quot;</td><td>&quot;040101&quot;</td><td>230</td><td>173</td><td>57</td></tr><tr><td>&quot;P040101004&quot;</td><td>&quot;04&quot;</td><td>&quot;0401&quot;</td><td>&quot;040101&quot;</td><td>248</td><td>186</td><td>62</td></tr><tr><td>&quot;P040101005&quot;</td><td>&quot;04&quot;</td><td>&quot;0401&quot;</td><td>&quot;040101&quot;</td><td>268</td><td>201</td><td>67</td></tr></tbody></table></div>"
      ],
      "text/plain": [
       "shape: (5, 7)\n",
       "┌────────────┬───────────────┬───────────────┬──────────────┬────────────┬───────────┬─────────────┐\n",
       "│ product_cd ┆ category_majo ┆ category_medi ┆ category_sma ┆ unit_price ┆ unit_cost ┆ unit_profit │\n",
       "│ ---        ┆ r_cd          ┆ um_cd         ┆ ll_cd        ┆ ---        ┆ ---       ┆ ---         │\n",
       "│ str        ┆ ---           ┆ ---           ┆ ---          ┆ i64        ┆ i64       ┆ i64         │\n",
       "│            ┆ str           ┆ str           ┆ str          ┆            ┆           ┆             │\n",
       "╞════════════╪═══════════════╪═══════════════╪══════════════╪════════════╪═══════════╪═════════════╡\n",
       "│ P040101001 ┆ 04            ┆ 0401          ┆ 040101       ┆ 198        ┆ 149       ┆ 49          │\n",
       "│ P040101002 ┆ 04            ┆ 0401          ┆ 040101       ┆ 218        ┆ 164       ┆ 54          │\n",
       "│ P040101003 ┆ 04            ┆ 0401          ┆ 040101       ┆ 230        ┆ 173       ┆ 57          │\n",
       "│ P040101004 ┆ 04            ┆ 0401          ┆ 040101       ┆ 248        ┆ 186       ┆ 62          │\n",
       "│ P040101005 ┆ 04            ┆ 0401          ┆ 040101       ┆ 268        ┆ 201       ┆ 67          │\n",
       "└────────────┴───────────────┴───────────────┴──────────────┴────────────┴───────────┴─────────────┘"
      ]
     },
     "execution_count": 76,
     "metadata": {},
     "output_type": "execute_result"
    }
   ],
   "source": [
    "df_063 = df_product.with_columns(\n",
    "    (pl.col(\"unit_price\") - pl.col(\"unit_cost\")).alias(\"unit_profit\")\n",
    ")\n",
    "\n",
    "df_063.head()"
   ]
  },
  {
   "attachments": {},
   "cell_type": "markdown",
   "metadata": {},
   "source": [
    "---\n",
    "> P-064: 商品データ（df_product）の単価（unit_price）と原価（unit_cost）から、各商品の利益率の全体平均を算出せよ。ただし、単価と原価には欠損が生じていることに注意せよ。"
   ]
  },
  {
   "cell_type": "code",
   "execution_count": 77,
   "metadata": {},
   "outputs": [
    {
     "data": {
      "text/html": [
       "<div><style>\n",
       ".dataframe > thead > tr,\n",
       ".dataframe > tbody > tr {\n",
       "  text-align: right;\n",
       "  white-space: pre-wrap;\n",
       "}\n",
       "</style>\n",
       "<small>shape: (1, 1)</small><table border=\"1\" class=\"dataframe\"><thead><tr><th>unit_profit_rate</th></tr><tr><td>f64</td></tr></thead><tbody><tr><td>0.249114</td></tr></tbody></table></div>"
      ],
      "text/plain": [
       "shape: (1, 1)\n",
       "┌──────────────────┐\n",
       "│ unit_profit_rate │\n",
       "│ ---              │\n",
       "│ f64              │\n",
       "╞══════════════════╡\n",
       "│ 0.249114         │\n",
       "└──────────────────┘"
      ]
     },
     "execution_count": 77,
     "metadata": {},
     "output_type": "execute_result"
    }
   ],
   "source": [
    "df_064 = df_product.select(\n",
    "    ((pl.col(\"unit_price\") - pl.col(\"unit_cost\")) / pl.col(\"unit_price\"))\n",
    "    .filter(pl.col(\"unit_price\").is_not_null())\n",
    "    .alias(\"unit_profit_rate\")\n",
    "    .mean()\n",
    ")\n",
    "\n",
    "df_064"
   ]
  },
  {
   "attachments": {},
   "cell_type": "markdown",
   "metadata": {},
   "source": [
    "---\n",
    "> P-065: 商品データ（df_product）の各商品について、利益率が30%となる新たな単価を求めよ。ただし、1円未満は切り捨てること。そして結果を10件表示させ、利益率がおよそ30％付近であることを確認せよ。ただし、単価（unit_price）と原価（unit_cost）には欠損が生じていることに注意せよ。"
   ]
  },
  {
   "cell_type": "code",
   "execution_count": 78,
   "metadata": {},
   "outputs": [
    {
     "data": {
      "text/html": [
       "<div><style>\n",
       ".dataframe > thead > tr,\n",
       ".dataframe > tbody > tr {\n",
       "  text-align: right;\n",
       "  white-space: pre-wrap;\n",
       "}\n",
       "</style>\n",
       "<small>shape: (5, 5)</small><table border=\"1\" class=\"dataframe\"><thead><tr><th>product_cd</th><th>unit_price</th><th>unit_cost</th><th>new_price</th><th>new_profit_rate</th></tr><tr><td>str</td><td>i64</td><td>i64</td><td>i64</td><td>f64</td></tr></thead><tbody><tr><td>&quot;P040101001&quot;</td><td>198</td><td>149</td><td>212</td><td>0.29717</td></tr><tr><td>&quot;P040101002&quot;</td><td>218</td><td>164</td><td>234</td><td>0.299145</td></tr><tr><td>&quot;P040101003&quot;</td><td>230</td><td>173</td><td>247</td><td>0.299595</td></tr><tr><td>&quot;P040101004&quot;</td><td>248</td><td>186</td><td>265</td><td>0.298113</td></tr><tr><td>&quot;P040101005&quot;</td><td>268</td><td>201</td><td>287</td><td>0.299652</td></tr></tbody></table></div>"
      ],
      "text/plain": [
       "shape: (5, 5)\n",
       "┌────────────┬────────────┬───────────┬───────────┬─────────────────┐\n",
       "│ product_cd ┆ unit_price ┆ unit_cost ┆ new_price ┆ new_profit_rate │\n",
       "│ ---        ┆ ---        ┆ ---       ┆ ---       ┆ ---             │\n",
       "│ str        ┆ i64        ┆ i64       ┆ i64       ┆ f64             │\n",
       "╞════════════╪════════════╪═══════════╪═══════════╪═════════════════╡\n",
       "│ P040101001 ┆ 198        ┆ 149       ┆ 212       ┆ 0.29717         │\n",
       "│ P040101002 ┆ 218        ┆ 164       ┆ 234       ┆ 0.299145        │\n",
       "│ P040101003 ┆ 230        ┆ 173       ┆ 247       ┆ 0.299595        │\n",
       "│ P040101004 ┆ 248        ┆ 186       ┆ 265       ┆ 0.298113        │\n",
       "│ P040101005 ┆ 268        ┆ 201       ┆ 287       ┆ 0.299652        │\n",
       "└────────────┴────────────┴───────────┴───────────┴─────────────────┘"
      ]
     },
     "execution_count": 78,
     "metadata": {},
     "output_type": "execute_result"
    }
   ],
   "source": [
    "df_065 = (\n",
    "    df_product.select(\"product_cd\", \"unit_price\", \"unit_cost\")\n",
    "    .filter((pl.col(\"unit_price\").is_not_null()) & (pl.col(\"unit_cost\").is_not_null()))\n",
    "    .with_columns(\n",
    "        (pl.col(\"unit_cost\") / 0.7).floor().cast(pl.Int64).alias(\"new_price\")\n",
    "    )  # .floor()で切り捨て計算　.round(0)でもOK\n",
    "    .with_columns(\n",
    "        ((pl.col(\"new_price\") - pl.col(\"unit_cost\")) / pl.col(\"new_price\")).alias(\n",
    "            \"new_profit_rate\"\n",
    "        )\n",
    "    )\n",
    "    .sort(\"product_cd\")\n",
    ")\n",
    "\n",
    "df_065.head()"
   ]
  },
  {
   "cell_type": "code",
   "execution_count": 79,
   "metadata": {},
   "outputs": [
    {
     "data": {
      "text/html": [
       "<div><style>\n",
       ".dataframe > thead > tr,\n",
       ".dataframe > tbody > tr {\n",
       "  text-align: right;\n",
       "  white-space: pre-wrap;\n",
       "}\n",
       "</style>\n",
       "<small>shape: (5, 6)</small><table border=\"1\" class=\"dataframe\"><thead><tr><th>product_cd</th><th>category_major_cd</th><th>category_medium_cd</th><th>category_small_cd</th><th>unit_price</th><th>unit_cost</th></tr><tr><td>str</td><td>str</td><td>str</td><td>str</td><td>i64</td><td>i64</td></tr></thead><tbody><tr><td>&quot;P040101001&quot;</td><td>&quot;04&quot;</td><td>&quot;0401&quot;</td><td>&quot;040101&quot;</td><td>198</td><td>149</td></tr><tr><td>&quot;P040101002&quot;</td><td>&quot;04&quot;</td><td>&quot;0401&quot;</td><td>&quot;040101&quot;</td><td>218</td><td>164</td></tr><tr><td>&quot;P040101003&quot;</td><td>&quot;04&quot;</td><td>&quot;0401&quot;</td><td>&quot;040101&quot;</td><td>230</td><td>173</td></tr><tr><td>&quot;P040101004&quot;</td><td>&quot;04&quot;</td><td>&quot;0401&quot;</td><td>&quot;040101&quot;</td><td>248</td><td>186</td></tr><tr><td>&quot;P040101005&quot;</td><td>&quot;04&quot;</td><td>&quot;0401&quot;</td><td>&quot;040101&quot;</td><td>268</td><td>201</td></tr></tbody></table></div>"
      ],
      "text/plain": [
       "shape: (5, 6)\n",
       "┌────────────┬───────────────────┬────────────────────┬───────────────────┬────────────┬───────────┐\n",
       "│ product_cd ┆ category_major_cd ┆ category_medium_cd ┆ category_small_cd ┆ unit_price ┆ unit_cost │\n",
       "│ ---        ┆ ---               ┆ ---                ┆ ---               ┆ ---        ┆ ---       │\n",
       "│ str        ┆ str               ┆ str                ┆ str               ┆ i64        ┆ i64       │\n",
       "╞════════════╪═══════════════════╪════════════════════╪═══════════════════╪════════════╪═══════════╡\n",
       "│ P040101001 ┆ 04                ┆ 0401               ┆ 040101            ┆ 198        ┆ 149       │\n",
       "│ P040101002 ┆ 04                ┆ 0401               ┆ 040101            ┆ 218        ┆ 164       │\n",
       "│ P040101003 ┆ 04                ┆ 0401               ┆ 040101            ┆ 230        ┆ 173       │\n",
       "│ P040101004 ┆ 04                ┆ 0401               ┆ 040101            ┆ 248        ┆ 186       │\n",
       "│ P040101005 ┆ 04                ┆ 0401               ┆ 040101            ┆ 268        ┆ 201       │\n",
       "└────────────┴───────────────────┴────────────────────┴───────────────────┴────────────┴───────────┘"
      ]
     },
     "execution_count": 79,
     "metadata": {},
     "output_type": "execute_result"
    }
   ],
   "source": [
    "df_product.head()"
   ]
  },
  {
   "attachments": {},
   "cell_type": "markdown",
   "metadata": {},
   "source": [
    "---\n",
    "> P-066: 商品データ（df_product）の各商品について、利益率が30%となる新たな単価を求めよ。今回は、1円未満を丸めること（四捨五入または偶数への丸めで良い）。そして結果を10件表示させ、利益率がおよそ30％付近であることを確認せよ。ただし、単価（unit_price）と原価（unit_cost）には欠損が生じていることに注意せよ。"
   ]
  },
  {
   "cell_type": "code",
   "execution_count": 80,
   "metadata": {},
   "outputs": [
    {
     "data": {
      "text/html": [
       "<div><style>\n",
       ".dataframe > thead > tr,\n",
       ".dataframe > tbody > tr {\n",
       "  text-align: right;\n",
       "  white-space: pre-wrap;\n",
       "}\n",
       "</style>\n",
       "<small>shape: (5, 8)</small><table border=\"1\" class=\"dataframe\"><thead><tr><th>product_cd</th><th>category_major_cd</th><th>category_medium_cd</th><th>category_small_cd</th><th>unit_price</th><th>unit_cost</th><th>new_price</th><th>new_profit_rate</th></tr><tr><td>str</td><td>str</td><td>str</td><td>str</td><td>i64</td><td>i64</td><td>i64</td><td>f64</td></tr></thead><tbody><tr><td>&quot;P040101001&quot;</td><td>&quot;04&quot;</td><td>&quot;0401&quot;</td><td>&quot;040101&quot;</td><td>198</td><td>149</td><td>213</td><td>0.300469</td></tr><tr><td>&quot;P040101002&quot;</td><td>&quot;04&quot;</td><td>&quot;0401&quot;</td><td>&quot;040101&quot;</td><td>218</td><td>164</td><td>234</td><td>0.299145</td></tr><tr><td>&quot;P040101003&quot;</td><td>&quot;04&quot;</td><td>&quot;0401&quot;</td><td>&quot;040101&quot;</td><td>230</td><td>173</td><td>247</td><td>0.299595</td></tr><tr><td>&quot;P040101004&quot;</td><td>&quot;04&quot;</td><td>&quot;0401&quot;</td><td>&quot;040101&quot;</td><td>248</td><td>186</td><td>266</td><td>0.300752</td></tr><tr><td>&quot;P040101005&quot;</td><td>&quot;04&quot;</td><td>&quot;0401&quot;</td><td>&quot;040101&quot;</td><td>268</td><td>201</td><td>287</td><td>0.299652</td></tr></tbody></table></div>"
      ],
      "text/plain": [
       "shape: (5, 8)\n",
       "┌────────────┬────────────┬────────────┬───────────┬───────────┬───────────┬───────────┬───────────┐\n",
       "│ product_cd ┆ category_m ┆ category_m ┆ category_ ┆ unit_pric ┆ unit_cost ┆ new_price ┆ new_profi │\n",
       "│ ---        ┆ ajor_cd    ┆ edium_cd   ┆ small_cd  ┆ e         ┆ ---       ┆ ---       ┆ t_rate    │\n",
       "│ str        ┆ ---        ┆ ---        ┆ ---       ┆ ---       ┆ i64       ┆ i64       ┆ ---       │\n",
       "│            ┆ str        ┆ str        ┆ str       ┆ i64       ┆           ┆           ┆ f64       │\n",
       "╞════════════╪════════════╪════════════╪═══════════╪═══════════╪═══════════╪═══════════╪═══════════╡\n",
       "│ P040101001 ┆ 04         ┆ 0401       ┆ 040101    ┆ 198       ┆ 149       ┆ 213       ┆ 0.300469  │\n",
       "│ P040101002 ┆ 04         ┆ 0401       ┆ 040101    ┆ 218       ┆ 164       ┆ 234       ┆ 0.299145  │\n",
       "│ P040101003 ┆ 04         ┆ 0401       ┆ 040101    ┆ 230       ┆ 173       ┆ 247       ┆ 0.299595  │\n",
       "│ P040101004 ┆ 04         ┆ 0401       ┆ 040101    ┆ 248       ┆ 186       ┆ 266       ┆ 0.300752  │\n",
       "│ P040101005 ┆ 04         ┆ 0401       ┆ 040101    ┆ 268       ┆ 201       ┆ 287       ┆ 0.299652  │\n",
       "└────────────┴────────────┴────────────┴───────────┴───────────┴───────────┴───────────┴───────────┘"
      ]
     },
     "execution_count": 80,
     "metadata": {},
     "output_type": "execute_result"
    }
   ],
   "source": [
    "df_066 = (\n",
    "    df_product.drop_nulls()\n",
    "    .with_columns(\n",
    "        (pl.col(\"unit_cost\") / 0.7).round(0).cast(pl.Int64).alias(\"new_price\")\n",
    "    )\n",
    "    .with_columns(\n",
    "        ((pl.col(\"new_price\") - pl.col(\"unit_cost\")) / pl.col(\"new_price\")).alias(\n",
    "            \"new_profit_rate\"\n",
    "        )\n",
    "    )\n",
    ")\n",
    "\n",
    "df_066.head()"
   ]
  },
  {
   "attachments": {},
   "cell_type": "markdown",
   "metadata": {},
   "source": [
    "---\n",
    "> P-067: 商品データ（df_product）の各商品について、利益率が30%となる新たな単価を求めよ。今回は、1円未満を切り上げること。そして結果を10件表示させ、利益率がおよそ30％付近であることを確認せよ。ただし、単価（unit_price）と原価（unit_cost）には欠損が生じていることに注意せよ。"
   ]
  },
  {
   "cell_type": "code",
   "execution_count": 81,
   "metadata": {},
   "outputs": [
    {
     "data": {
      "text/html": [
       "<div><style>\n",
       ".dataframe > thead > tr,\n",
       ".dataframe > tbody > tr {\n",
       "  text-align: right;\n",
       "  white-space: pre-wrap;\n",
       "}\n",
       "</style>\n",
       "<small>shape: (5, 5)</small><table border=\"1\" class=\"dataframe\"><thead><tr><th>product_cd</th><th>unit_price</th><th>unit_cost</th><th>new_price</th><th>new_profit_rate</th></tr><tr><td>str</td><td>i64</td><td>i64</td><td>i64</td><td>f64</td></tr></thead><tbody><tr><td>&quot;P040101001&quot;</td><td>198</td><td>149</td><td>213</td><td>0.300469</td></tr><tr><td>&quot;P040101002&quot;</td><td>218</td><td>164</td><td>235</td><td>0.302128</td></tr><tr><td>&quot;P040101003&quot;</td><td>230</td><td>173</td><td>248</td><td>0.302419</td></tr><tr><td>&quot;P040101004&quot;</td><td>248</td><td>186</td><td>266</td><td>0.300752</td></tr><tr><td>&quot;P040101005&quot;</td><td>268</td><td>201</td><td>288</td><td>0.302083</td></tr></tbody></table></div>"
      ],
      "text/plain": [
       "shape: (5, 5)\n",
       "┌────────────┬────────────┬───────────┬───────────┬─────────────────┐\n",
       "│ product_cd ┆ unit_price ┆ unit_cost ┆ new_price ┆ new_profit_rate │\n",
       "│ ---        ┆ ---        ┆ ---       ┆ ---       ┆ ---             │\n",
       "│ str        ┆ i64        ┆ i64       ┆ i64       ┆ f64             │\n",
       "╞════════════╪════════════╪═══════════╪═══════════╪═════════════════╡\n",
       "│ P040101001 ┆ 198        ┆ 149       ┆ 213       ┆ 0.300469        │\n",
       "│ P040101002 ┆ 218        ┆ 164       ┆ 235       ┆ 0.302128        │\n",
       "│ P040101003 ┆ 230        ┆ 173       ┆ 248       ┆ 0.302419        │\n",
       "│ P040101004 ┆ 248        ┆ 186       ┆ 266       ┆ 0.300752        │\n",
       "│ P040101005 ┆ 268        ┆ 201       ┆ 288       ┆ 0.302083        │\n",
       "└────────────┴────────────┴───────────┴───────────┴─────────────────┘"
      ]
     },
     "execution_count": 81,
     "metadata": {},
     "output_type": "execute_result"
    }
   ],
   "source": [
    "df_067 = (\n",
    "    df_product.select(\"product_cd\", \"unit_price\", \"unit_cost\")\n",
    "    .filter((pl.col(\"unit_price\").is_not_null()) & (pl.col(\"unit_cost\").is_not_null()))\n",
    "    .with_columns((pl.col(\"unit_cost\") / 0.7).ceil().cast(pl.Int64).alias(\"new_price\"))\n",
    "    .with_columns(\n",
    "        ((pl.col(\"new_price\") - pl.col(\"unit_cost\")) / pl.col(\"new_price\")).alias(\n",
    "            \"new_profit_rate\"\n",
    "        )\n",
    "    )\n",
    "    .sort(\"product_cd\")\n",
    ")\n",
    "\n",
    "df_067.head()"
   ]
  },
  {
   "attachments": {},
   "cell_type": "markdown",
   "metadata": {},
   "source": [
    "---\n",
    "> P-068: 商品データ（df_product）の各商品について、消費税率10％の税込み金額を求めよ。1円未満の端数は切り捨てとし、結果を10件表示せよ。ただし、単価（unit_price）には欠損が生じていることに注意せよ。"
   ]
  },
  {
   "cell_type": "code",
   "execution_count": 82,
   "metadata": {},
   "outputs": [
    {
     "data": {
      "text/html": [
       "<div><style>\n",
       ".dataframe > thead > tr,\n",
       ".dataframe > tbody > tr {\n",
       "  text-align: right;\n",
       "  white-space: pre-wrap;\n",
       "}\n",
       "</style>\n",
       "<small>shape: (5, 3)</small><table border=\"1\" class=\"dataframe\"><thead><tr><th>product_cd</th><th>unit_price</th><th>tax_price</th></tr><tr><td>str</td><td>i64</td><td>i64</td></tr></thead><tbody><tr><td>&quot;P040101001&quot;</td><td>198</td><td>217</td></tr><tr><td>&quot;P040101002&quot;</td><td>218</td><td>239</td></tr><tr><td>&quot;P040101003&quot;</td><td>230</td><td>253</td></tr><tr><td>&quot;P040101004&quot;</td><td>248</td><td>272</td></tr><tr><td>&quot;P040101005&quot;</td><td>268</td><td>294</td></tr></tbody></table></div>"
      ],
      "text/plain": [
       "shape: (5, 3)\n",
       "┌────────────┬────────────┬───────────┐\n",
       "│ product_cd ┆ unit_price ┆ tax_price │\n",
       "│ ---        ┆ ---        ┆ ---       │\n",
       "│ str        ┆ i64        ┆ i64       │\n",
       "╞════════════╪════════════╪═══════════╡\n",
       "│ P040101001 ┆ 198        ┆ 217       │\n",
       "│ P040101002 ┆ 218        ┆ 239       │\n",
       "│ P040101003 ┆ 230        ┆ 253       │\n",
       "│ P040101004 ┆ 248        ┆ 272       │\n",
       "│ P040101005 ┆ 268        ┆ 294       │\n",
       "└────────────┴────────────┴───────────┘"
      ]
     },
     "execution_count": 82,
     "metadata": {},
     "output_type": "execute_result"
    }
   ],
   "source": [
    "df_068 = df_product.filter(pl.col(\"unit_price\").is_not_null()).select(\n",
    "    \"product_cd\",\n",
    "    \"unit_price\",\n",
    "    (pl.col(\"unit_price\") * 1.1).cast(pl.Int64).alias(\"tax_price\"),\n",
    ")\n",
    "\n",
    "df_068.head()"
   ]
  },
  {
   "attachments": {},
   "cell_type": "markdown",
   "metadata": {},
   "source": [
    "---\n",
    "> P-069: レシート明細データ（df_receipt）と商品データ（df_product）を結合し、顧客毎に全商品の売上金額合計と、カテゴリ大区分コード（category_major_cd）が\"07\"（瓶詰缶詰）の売上金額合計を計算の上、両者の比率を求めよ。抽出対象はカテゴリ大区分コード\"07\"（瓶詰缶詰）の売上実績がある顧客のみとし、結果を10件表示せよ。"
   ]
  },
  {
   "cell_type": "code",
   "execution_count": 83,
   "metadata": {},
   "outputs": [
    {
     "data": {
      "text/html": [
       "<div><style>\n",
       ".dataframe > thead > tr,\n",
       ".dataframe > tbody > tr {\n",
       "  text-align: right;\n",
       "  white-space: pre-wrap;\n",
       "}\n",
       "</style>\n",
       "<small>shape: (5, 4)</small><table border=\"1\" class=\"dataframe\"><thead><tr><th>customer_id</th><th>sum_all</th><th>sum_07</th><th>sales_rate</th></tr><tr><td>str</td><td>i64</td><td>i64</td><td>f64</td></tr></thead><tbody><tr><td>&quot;CS001113000004…</td><td>1298</td><td>1298</td><td>1.0</td></tr><tr><td>&quot;CS001114000005…</td><td>626</td><td>486</td><td>0.776358</td></tr><tr><td>&quot;CS001115000010…</td><td>3044</td><td>2694</td><td>0.88502</td></tr><tr><td>&quot;CS001205000004…</td><td>1988</td><td>346</td><td>0.174044</td></tr><tr><td>&quot;CS001205000006…</td><td>3337</td><td>2004</td><td>0.600539</td></tr></tbody></table></div>"
      ],
      "text/plain": [
       "shape: (5, 4)\n",
       "┌────────────────┬─────────┬────────┬────────────┐\n",
       "│ customer_id    ┆ sum_all ┆ sum_07 ┆ sales_rate │\n",
       "│ ---            ┆ ---     ┆ ---    ┆ ---        │\n",
       "│ str            ┆ i64     ┆ i64    ┆ f64        │\n",
       "╞════════════════╪═════════╪════════╪════════════╡\n",
       "│ CS001113000004 ┆ 1298    ┆ 1298   ┆ 1.0        │\n",
       "│ CS001114000005 ┆ 626     ┆ 486    ┆ 0.776358   │\n",
       "│ CS001115000010 ┆ 3044    ┆ 2694   ┆ 0.88502    │\n",
       "│ CS001205000004 ┆ 1988    ┆ 346    ┆ 0.174044   │\n",
       "│ CS001205000006 ┆ 3337    ┆ 2004   ┆ 0.600539   │\n",
       "└────────────────┴─────────┴────────┴────────────┘"
      ]
     },
     "execution_count": 83,
     "metadata": {},
     "output_type": "execute_result"
    }
   ],
   "source": [
    "df_069 = (\n",
    "    df_receipt.join(df_product, on=\"product_cd\", how=\"inner\")\n",
    "    .with_columns(\n",
    "        (\n",
    "            pl.when(pl.col(\"category_major_cd\").str.starts_with(\"07\")).then(\n",
    "                pl.col(\"unit_price\") * pl.col(\"quantity\")\n",
    "            )\n",
    "        )\n",
    "        # .otherwise(pl.lit(0)))\n",
    "        .alias(\"category_07_sell\")\n",
    "    )\n",
    "    .group_by(\"customer_id\")\n",
    "    .agg(\n",
    "        (pl.col(\"amount\").sum()).alias(\"sum_all\"),\n",
    "        (pl.col(\"category_07_sell\").sum()).alias(\"sum_07\"),\n",
    "    )\n",
    "    .filter(pl.col(\"sum_07\").is_not_null())\n",
    "    .with_columns((pl.col(\"sum_07\") / pl.col(\"sum_all\")).alias(\"sales_rate\"))\n",
    "    .sort(\"customer_id\")\n",
    ")\n",
    "\n",
    "df_069.head()"
   ]
  },
  {
   "cell_type": "code",
   "execution_count": 84,
   "metadata": {},
   "outputs": [
    {
     "data": {
      "text/html": [
       "<div><style>\n",
       ".dataframe > thead > tr,\n",
       ".dataframe > tbody > tr {\n",
       "  text-align: right;\n",
       "  white-space: pre-wrap;\n",
       "}\n",
       "</style>\n",
       "<small>shape: (5, 4)</small><table border=\"1\" class=\"dataframe\"><thead><tr><th>customer_id</th><th>sum_all</th><th>sum_07</th><th>sales_rate</th></tr><tr><td>str</td><td>i64</td><td>i64</td><td>f64</td></tr></thead><tbody><tr><td>&quot;CS001113000004…</td><td>1298</td><td>1298</td><td>1.0</td></tr><tr><td>&quot;CS001114000005…</td><td>626</td><td>486</td><td>0.776358</td></tr><tr><td>&quot;CS001115000010…</td><td>3044</td><td>2694</td><td>0.88502</td></tr><tr><td>&quot;CS001205000004…</td><td>1988</td><td>346</td><td>0.174044</td></tr><tr><td>&quot;CS001205000006…</td><td>3337</td><td>2004</td><td>0.600539</td></tr></tbody></table></div>"
      ],
      "text/plain": [
       "shape: (5, 4)\n",
       "┌────────────────┬─────────┬────────┬────────────┐\n",
       "│ customer_id    ┆ sum_all ┆ sum_07 ┆ sales_rate │\n",
       "│ ---            ┆ ---     ┆ ---    ┆ ---        │\n",
       "│ str            ┆ i64     ┆ i64    ┆ f64        │\n",
       "╞════════════════╪═════════╪════════╪════════════╡\n",
       "│ CS001113000004 ┆ 1298    ┆ 1298   ┆ 1.0        │\n",
       "│ CS001114000005 ┆ 626     ┆ 486    ┆ 0.776358   │\n",
       "│ CS001115000010 ┆ 3044    ┆ 2694   ┆ 0.88502    │\n",
       "│ CS001205000004 ┆ 1988    ┆ 346    ┆ 0.174044   │\n",
       "│ CS001205000006 ┆ 3337    ┆ 2004   ┆ 0.600539   │\n",
       "└────────────────┴─────────┴────────┴────────────┘"
      ]
     },
     "execution_count": 84,
     "metadata": {},
     "output_type": "execute_result"
    }
   ],
   "source": [
    "# group_byで一気に計算（こっちの方がわかりやすいし、無駄なcolumnを作らなくて済む）\n",
    "df_069 = (\n",
    "    df_receipt.join(df_product, on=\"product_cd\", how=\"inner\")\n",
    "    .group_by(\"customer_id\")\n",
    "    .agg(\n",
    "        [\n",
    "            (pl.col(\"quantity\") * pl.col(\"unit_price\")).sum().alias(\"sum_all\"),\n",
    "            (pl.col(\"quantity\") * pl.col(\"unit_price\"))\n",
    "            .filter(pl.col(\"category_major_cd\") == \"07\")\n",
    "            .sum()\n",
    "            .alias(\"sum_07\"),\n",
    "        ]\n",
    "    )\n",
    "    .filter(pl.col(\"sum_07\").is_not_null())\n",
    "    .with_columns((pl.col(\"sum_07\") / pl.col(\"sum_all\")).alias(\"sales_rate\"))\n",
    "    .sort(\"customer_id\")\n",
    ")\n",
    "\n",
    "df_069.head()"
   ]
  },
  {
   "attachments": {},
   "cell_type": "markdown",
   "metadata": {},
   "source": [
    "## Date型の計算"
   ]
  },
  {
   "attachments": {},
   "cell_type": "markdown",
   "metadata": {},
   "source": [
    "---\n",
    "> P-070: レシート明細データ（df_receipt）の売上日（sales_ymd）に対し、顧客データ（df_customer）の会員申込日（application_date）からの経過日数を計算し、顧客ID（customer_id）、売上日、会員申込日とともに10件表示せよ（sales_ymdは数値、application_dateは文字列でデータを保持している点に注意）。"
   ]
  },
  {
   "cell_type": "code",
   "execution_count": 85,
   "metadata": {},
   "outputs": [
    {
     "data": {
      "text/html": [
       "<div><style>\n",
       ".dataframe > thead > tr,\n",
       ".dataframe > tbody > tr {\n",
       "  text-align: right;\n",
       "  white-space: pre-wrap;\n",
       "}\n",
       "</style>\n",
       "<small>shape: (5, 4)</small><table border=\"1\" class=\"dataframe\"><thead><tr><th>customer_id</th><th>sales_ymd</th><th>application_date</th><th>elapsed_date</th></tr><tr><td>str</td><td>date</td><td>date</td><td>i64</td></tr></thead><tbody><tr><td>&quot;CS001113000004…</td><td>2019-03-08</td><td>2015-11-05</td><td>1219</td></tr><tr><td>&quot;CS001114000005…</td><td>2019-07-31</td><td>2016-04-12</td><td>1205</td></tr><tr><td>&quot;CS001114000005…</td><td>2018-05-03</td><td>2016-04-12</td><td>751</td></tr><tr><td>&quot;CS001115000010…</td><td>2017-12-28</td><td>2015-04-17</td><td>986</td></tr><tr><td>&quot;CS001115000010…</td><td>2018-07-01</td><td>2015-04-17</td><td>1171</td></tr></tbody></table></div>"
      ],
      "text/plain": [
       "shape: (5, 4)\n",
       "┌────────────────┬────────────┬──────────────────┬──────────────┐\n",
       "│ customer_id    ┆ sales_ymd  ┆ application_date ┆ elapsed_date │\n",
       "│ ---            ┆ ---        ┆ ---              ┆ ---          │\n",
       "│ str            ┆ date       ┆ date             ┆ i64          │\n",
       "╞════════════════╪════════════╪══════════════════╪══════════════╡\n",
       "│ CS001113000004 ┆ 2019-03-08 ┆ 2015-11-05       ┆ 1219         │\n",
       "│ CS001114000005 ┆ 2019-07-31 ┆ 2016-04-12       ┆ 1205         │\n",
       "│ CS001114000005 ┆ 2018-05-03 ┆ 2016-04-12       ┆ 751          │\n",
       "│ CS001115000010 ┆ 2017-12-28 ┆ 2015-04-17       ┆ 986          │\n",
       "│ CS001115000010 ┆ 2018-07-01 ┆ 2015-04-17       ┆ 1171         │\n",
       "└────────────────┴────────────┴──────────────────┴──────────────┘"
      ]
     },
     "execution_count": 85,
     "metadata": {},
     "output_type": "execute_result"
    }
   ],
   "source": [
    "df_070 = (\n",
    "    df_receipt.select(\"customer_id\", \"sales_ymd\")\n",
    "    .unique()\n",
    "    .join(\n",
    "        df_customer.select(\"customer_id\", \"application_date\"),\n",
    "        how=\"inner\",\n",
    "        on=\"customer_id\",\n",
    "    )\n",
    "    .select(\n",
    "        \"customer_id\",\n",
    "        pl.col(\"sales_ymd\").cast(pl.Utf8).str.strptime(pl.Date, \"%Y%m%d\"),\n",
    "        pl.col(\"application_date\").str.strptime(pl.Date, \"%Y%m%d\"),\n",
    "    )\n",
    "    .with_columns(\n",
    "        (pl.col(\"sales_ymd\") - pl.col(\"application_date\"))\n",
    "        .dt.total_days()  # int型へ変換（別にしなくても良い）\n",
    "        .alias(\"elapsed_date\")\n",
    "    )\n",
    "    .filter(pl.col(\"elapsed_date\").is_not_null())\n",
    "    .sort(\"customer_id\")\n",
    ")\n",
    "\n",
    "df_070.head()"
   ]
  },
  {
   "attachments": {},
   "cell_type": "markdown",
   "metadata": {},
   "source": [
    "---\n",
    "> P-071: レシート明細データ（df_receipt）の売上日（sales_ymd）に対し、顧客データ（df_customer）の会員申込日（application_date）からの経過月数を計算し、顧客ID（customer_id）、売上日、会員申込日とともに10件表示せよ（sales_ymdは数値、application_dateは文字列でデータを保持している点に注意）。1ヶ月未満は切り捨てること。"
   ]
  },
  {
   "cell_type": "code",
   "execution_count": 86,
   "metadata": {},
   "outputs": [
    {
     "data": {
      "text/html": [
       "<div><style>\n",
       ".dataframe > thead > tr,\n",
       ".dataframe > tbody > tr {\n",
       "  text-align: right;\n",
       "  white-space: pre-wrap;\n",
       "}\n",
       "</style>\n",
       "<small>shape: (65_682, 4)</small><table border=\"1\" class=\"dataframe\"><thead><tr><th>customer_id</th><th>sales_ymd</th><th>application_date</th><th>elapsed_month</th></tr><tr><td>str</td><td>date</td><td>date</td><td>i64</td></tr></thead><tbody><tr><td>&quot;CS001113000004…</td><td>2019-03-08</td><td>2015-11-05</td><td>40</td></tr><tr><td>&quot;CS001113000004…</td><td>2019-03-08</td><td>2015-11-05</td><td>40</td></tr><tr><td>&quot;CS001114000005…</td><td>2018-05-03</td><td>2016-04-12</td><td>25</td></tr><tr><td>&quot;CS001114000005…</td><td>2018-05-03</td><td>2016-04-12</td><td>25</td></tr><tr><td>&quot;CS001114000005…</td><td>2019-07-31</td><td>2016-04-12</td><td>39</td></tr><tr><td>&quot;CS001114000005…</td><td>2019-07-31</td><td>2016-04-12</td><td>39</td></tr><tr><td>&quot;CS001115000010…</td><td>2019-04-05</td><td>2015-04-17</td><td>48</td></tr><tr><td>&quot;CS001115000010…</td><td>2018-07-01</td><td>2015-04-17</td><td>39</td></tr><tr><td>&quot;CS001115000010…</td><td>2017-12-28</td><td>2015-04-17</td><td>32</td></tr><tr><td>&quot;CS001115000010…</td><td>2019-04-05</td><td>2015-04-17</td><td>48</td></tr><tr><td>&quot;CS001115000010…</td><td>2018-07-01</td><td>2015-04-17</td><td>39</td></tr><tr><td>&quot;CS001115000010…</td><td>2017-12-28</td><td>2015-04-17</td><td>32</td></tr><tr><td>&hellip;</td><td>&hellip;</td><td>&hellip;</td><td>&hellip;</td></tr><tr><td>&quot;CS050415000007…</td><td>2019-08-13</td><td>2018-07-19</td><td>13</td></tr><tr><td>&quot;CS050415000007…</td><td>2019-07-20</td><td>2018-07-19</td><td>12</td></tr><tr><td>&quot;CS051212000001…</td><td>2019-10-18</td><td>2018-05-09</td><td>17</td></tr><tr><td>&quot;CS051212000001…</td><td>2019-10-18</td><td>2018-05-09</td><td>17</td></tr><tr><td>&quot;CS051513000004…</td><td>2019-07-19</td><td>2018-05-04</td><td>14</td></tr><tr><td>&quot;CS051513000004…</td><td>2019-07-19</td><td>2018-05-04</td><td>14</td></tr><tr><td>&quot;CS051515000002…</td><td>2019-10-25</td><td>2017-12-11</td><td>22</td></tr><tr><td>&quot;CS051515000002…</td><td>2019-10-25</td><td>2017-12-11</td><td>22</td></tr><tr><td>&quot;CS052212000002…</td><td>2019-10-17</td><td>2018-02-09</td><td>20</td></tr><tr><td>&quot;CS052212000002…</td><td>2019-10-17</td><td>2018-02-09</td><td>20</td></tr><tr><td>&quot;CS052514000001…</td><td>2019-08-22</td><td>2018-09-07</td><td>11</td></tr><tr><td>&quot;CS052514000001…</td><td>2019-08-22</td><td>2018-09-07</td><td>11</td></tr></tbody></table></div>"
      ],
      "text/plain": [
       "shape: (65_682, 4)\n",
       "┌────────────────┬────────────┬──────────────────┬───────────────┐\n",
       "│ customer_id    ┆ sales_ymd  ┆ application_date ┆ elapsed_month │\n",
       "│ ---            ┆ ---        ┆ ---              ┆ ---           │\n",
       "│ str            ┆ date       ┆ date             ┆ i64           │\n",
       "╞════════════════╪════════════╪══════════════════╪═══════════════╡\n",
       "│ CS001113000004 ┆ 2019-03-08 ┆ 2015-11-05       ┆ 40            │\n",
       "│ CS001113000004 ┆ 2019-03-08 ┆ 2015-11-05       ┆ 40            │\n",
       "│ CS001114000005 ┆ 2018-05-03 ┆ 2016-04-12       ┆ 25            │\n",
       "│ CS001114000005 ┆ 2018-05-03 ┆ 2016-04-12       ┆ 25            │\n",
       "│ …              ┆ …          ┆ …                ┆ …             │\n",
       "│ CS052212000002 ┆ 2019-10-17 ┆ 2018-02-09       ┆ 20            │\n",
       "│ CS052212000002 ┆ 2019-10-17 ┆ 2018-02-09       ┆ 20            │\n",
       "│ CS052514000001 ┆ 2019-08-22 ┆ 2018-09-07       ┆ 11            │\n",
       "│ CS052514000001 ┆ 2019-08-22 ┆ 2018-09-07       ┆ 11            │\n",
       "└────────────────┴────────────┴──────────────────┴───────────────┘"
      ]
     },
     "execution_count": 86,
     "metadata": {},
     "output_type": "execute_result"
    }
   ],
   "source": [
    "df_071 = (\n",
    "    df_receipt.select(\"customer_id\", \"sales_ymd\")\n",
    "    .join(\n",
    "        df_customer.select(\"customer_id\", \"application_date\"),\n",
    "        how=\"inner\",\n",
    "        on=\"customer_id\",\n",
    "    )\n",
    "    .select(\n",
    "        \"customer_id\",\n",
    "        pl.col(\"sales_ymd\").cast(pl.Utf8).str.strptime(pl.Date, \"%Y%m%d\"),\n",
    "        pl.col(\"application_date\").str.strptime(pl.Date, \"%Y%m%d\"),\n",
    "    )\n",
    "    .with_columns(\n",
    "        (\n",
    "            pl.col(\"sales_ymd\").dt.year() * 12\n",
    "            - pl.col(\"application_date\").dt.year() * 12\n",
    "            + pl.col(\"sales_ymd\").dt.month().cast(pl.Int64)\n",
    "            - pl.col(\"application_date\").dt.month().cast(pl.Int64)\n",
    "        ).alias(  # Int型にしないとバグる\n",
    "            \"elapsed_month\"\n",
    "        )\n",
    "    )\n",
    "    .filter(pl.col(\"elapsed_month\").is_not_null())\n",
    "    .sort(\"customer_id\")\n",
    ")\n",
    "\n",
    "df_071"
   ]
  },
  {
   "attachments": {},
   "cell_type": "markdown",
   "metadata": {},
   "source": [
    "---\n",
    "> P-072: レシート明細データ（df_receipt）の売上日（df_customer）に対し、顧客データ（df_customer）の会員申込日（application_date）からの経過年数を計算し、顧客ID（customer_id）、売上日、会員申込日とともに10件表示せよ（sales_ymdは数値、application_dateは文字列でデータを保持している点に注意）。1年未満は切り捨てること。"
   ]
  },
  {
   "cell_type": "code",
   "execution_count": 87,
   "metadata": {},
   "outputs": [
    {
     "data": {
      "text/html": [
       "<div><style>\n",
       ".dataframe > thead > tr,\n",
       ".dataframe > tbody > tr {\n",
       "  text-align: right;\n",
       "  white-space: pre-wrap;\n",
       "}\n",
       "</style>\n",
       "<small>shape: (5, 4)</small><table border=\"1\" class=\"dataframe\"><thead><tr><th>customer_id</th><th>sales_ymd</th><th>application_date</th><th>elapsed_year</th></tr><tr><td>str</td><td>date</td><td>date</td><td>i32</td></tr></thead><tbody><tr><td>&quot;CS001113000004…</td><td>2019-03-08</td><td>2015-11-05</td><td>4</td></tr><tr><td>&quot;CS001113000004…</td><td>2019-03-08</td><td>2015-11-05</td><td>4</td></tr><tr><td>&quot;CS001114000005…</td><td>2018-05-03</td><td>2016-04-12</td><td>2</td></tr><tr><td>&quot;CS001114000005…</td><td>2018-05-03</td><td>2016-04-12</td><td>2</td></tr><tr><td>&quot;CS001114000005…</td><td>2019-07-31</td><td>2016-04-12</td><td>3</td></tr></tbody></table></div>"
      ],
      "text/plain": [
       "shape: (5, 4)\n",
       "┌────────────────┬────────────┬──────────────────┬──────────────┐\n",
       "│ customer_id    ┆ sales_ymd  ┆ application_date ┆ elapsed_year │\n",
       "│ ---            ┆ ---        ┆ ---              ┆ ---          │\n",
       "│ str            ┆ date       ┆ date             ┆ i32          │\n",
       "╞════════════════╪════════════╪══════════════════╪══════════════╡\n",
       "│ CS001113000004 ┆ 2019-03-08 ┆ 2015-11-05       ┆ 4            │\n",
       "│ CS001113000004 ┆ 2019-03-08 ┆ 2015-11-05       ┆ 4            │\n",
       "│ CS001114000005 ┆ 2018-05-03 ┆ 2016-04-12       ┆ 2            │\n",
       "│ CS001114000005 ┆ 2018-05-03 ┆ 2016-04-12       ┆ 2            │\n",
       "│ CS001114000005 ┆ 2019-07-31 ┆ 2016-04-12       ┆ 3            │\n",
       "└────────────────┴────────────┴──────────────────┴──────────────┘"
      ]
     },
     "execution_count": 87,
     "metadata": {},
     "output_type": "execute_result"
    }
   ],
   "source": [
    "df_072 = (\n",
    "    df_receipt.select(\"customer_id\", \"sales_ymd\")\n",
    "    .join(\n",
    "        df_customer.select(\"customer_id\", \"application_date\"),\n",
    "        how=\"inner\",\n",
    "        on=\"customer_id\",\n",
    "    )\n",
    "    .select(\n",
    "        \"customer_id\",\n",
    "        pl.col(\"sales_ymd\").cast(pl.Utf8).str.strptime(pl.Date, \"%Y%m%d\"),\n",
    "        pl.col(\"application_date\").str.strptime(pl.Date, \"%Y%m%d\"),\n",
    "    )\n",
    "    .with_columns(\n",
    "        ((pl.col(\"sales_ymd\").dt.year() - pl.col(\"application_date\").dt.year())).alias(\n",
    "            \"elapsed_year\"\n",
    "        )\n",
    "    )\n",
    "    .filter(pl.col(\"elapsed_year\").is_not_null())\n",
    "    .sort(\"customer_id\")\n",
    ")\n",
    "\n",
    "df_072.head()"
   ]
  },
  {
   "attachments": {},
   "cell_type": "markdown",
   "metadata": {},
   "source": [
    "---\n",
    "> P-073: レシート明細データ（df_receipt）の売上日（sales_ymd）に対し、顧客データ（df_customer）の会員申込日（application_date）からのエポック秒による経過時間を計算し、顧客ID（customer_id）、売上日、会員申込日とともに10件表示せよ（なお、sales_ymdは数値、application_dateは文字列でデータを保持している点に注意）。なお、時間情報は保有していないため各日付は0時0分0秒を表すものとする。"
   ]
  },
  {
   "cell_type": "code",
   "execution_count": 88,
   "metadata": {},
   "outputs": [
    {
     "data": {
      "text/html": [
       "<div><style>\n",
       ".dataframe > thead > tr,\n",
       ".dataframe > tbody > tr {\n",
       "  text-align: right;\n",
       "  white-space: pre-wrap;\n",
       "}\n",
       "</style>\n",
       "<small>shape: (5, 4)</small><table border=\"1\" class=\"dataframe\"><thead><tr><th>customer_id</th><th>sales_ymd</th><th>application_date</th><th>elapsed_epoch</th></tr><tr><td>str</td><td>date</td><td>date</td><td>i64</td></tr></thead><tbody><tr><td>&quot;CS001113000004…</td><td>2019-03-08</td><td>2015-11-05</td><td>105321600</td></tr><tr><td>&quot;CS001113000004…</td><td>2019-03-08</td><td>2015-11-05</td><td>105321600</td></tr><tr><td>&quot;CS001114000005…</td><td>2018-05-03</td><td>2016-04-12</td><td>64886400</td></tr><tr><td>&quot;CS001114000005…</td><td>2018-05-03</td><td>2016-04-12</td><td>64886400</td></tr><tr><td>&quot;CS001114000005…</td><td>2019-07-31</td><td>2016-04-12</td><td>104112000</td></tr></tbody></table></div>"
      ],
      "text/plain": [
       "shape: (5, 4)\n",
       "┌────────────────┬────────────┬──────────────────┬───────────────┐\n",
       "│ customer_id    ┆ sales_ymd  ┆ application_date ┆ elapsed_epoch │\n",
       "│ ---            ┆ ---        ┆ ---              ┆ ---           │\n",
       "│ str            ┆ date       ┆ date             ┆ i64           │\n",
       "╞════════════════╪════════════╪══════════════════╪═══════════════╡\n",
       "│ CS001113000004 ┆ 2019-03-08 ┆ 2015-11-05       ┆ 105321600     │\n",
       "│ CS001113000004 ┆ 2019-03-08 ┆ 2015-11-05       ┆ 105321600     │\n",
       "│ CS001114000005 ┆ 2018-05-03 ┆ 2016-04-12       ┆ 64886400      │\n",
       "│ CS001114000005 ┆ 2018-05-03 ┆ 2016-04-12       ┆ 64886400      │\n",
       "│ CS001114000005 ┆ 2019-07-31 ┆ 2016-04-12       ┆ 104112000     │\n",
       "└────────────────┴────────────┴──────────────────┴───────────────┘"
      ]
     },
     "execution_count": 88,
     "metadata": {},
     "output_type": "execute_result"
    }
   ],
   "source": [
    "df_073 = (\n",
    "    df_receipt.select(\"customer_id\", \"sales_ymd\")\n",
    "    .join(\n",
    "        df_customer.select(\"customer_id\", \"application_date\"),\n",
    "        how=\"inner\",\n",
    "        on=\"customer_id\",\n",
    "    )\n",
    "    .select(\n",
    "        \"customer_id\",\n",
    "        pl.col(\"sales_ymd\").cast(pl.Utf8).str.strptime(pl.Date, \"%Y%m%d\"),\n",
    "        pl.col(\"application_date\").str.strptime(pl.Date, \"%Y%m%d\"),\n",
    "    )\n",
    "    .with_columns(\n",
    "        (\n",
    "            (\n",
    "                pl.col(\"sales_ymd\").dt.epoch(time_unit=\"s\")\n",
    "                - pl.col(\"application_date\").dt.epoch(time_unit=\"s\")\n",
    "            )  # defaultはμs(10e-6)\n",
    "        ).alias(\"elapsed_epoch\")\n",
    "    )\n",
    "    .filter(pl.col(\"elapsed_epoch\").is_not_null())\n",
    "    .sort(\"customer_id\")\n",
    ")\n",
    "\n",
    "df_073.head()"
   ]
  },
  {
   "attachments": {},
   "cell_type": "markdown",
   "metadata": {},
   "source": [
    "---\n",
    "> P-074: レシート明細データ（df_receipt）の売上日（sales_ymd）に対し、当該週の月曜日からの経過日数を計算し、売上日、直前の月曜日付とともに10件表示せよ（sales_ymdは数値でデータを保持している点に注意）。"
   ]
  },
  {
   "cell_type": "code",
   "execution_count": 89,
   "metadata": {},
   "outputs": [
    {
     "data": {
      "text/html": [
       "<div><style>\n",
       ".dataframe > thead > tr,\n",
       ".dataframe > tbody > tr {\n",
       "  text-align: right;\n",
       "  white-space: pre-wrap;\n",
       "}\n",
       "</style>\n",
       "<small>shape: (5, 3)</small><table border=\"1\" class=\"dataframe\"><thead><tr><th>sales_ymd</th><th>elapsed_days</th><th>monday</th></tr><tr><td>date</td><td>u32</td><td>date</td></tr></thead><tbody><tr><td>2018-11-03</td><td>5</td><td>2018-10-29</td></tr><tr><td>2018-11-18</td><td>6</td><td>2018-11-12</td></tr><tr><td>2017-07-12</td><td>2</td><td>2017-07-10</td></tr><tr><td>2019-02-05</td><td>1</td><td>2019-02-04</td></tr><tr><td>2018-08-21</td><td>1</td><td>2018-08-20</td></tr></tbody></table></div>"
      ],
      "text/plain": [
       "shape: (5, 3)\n",
       "┌────────────┬──────────────┬────────────┐\n",
       "│ sales_ymd  ┆ elapsed_days ┆ monday     │\n",
       "│ ---        ┆ ---          ┆ ---        │\n",
       "│ date       ┆ u32          ┆ date       │\n",
       "╞════════════╪══════════════╪════════════╡\n",
       "│ 2018-11-03 ┆ 5            ┆ 2018-10-29 │\n",
       "│ 2018-11-18 ┆ 6            ┆ 2018-11-12 │\n",
       "│ 2017-07-12 ┆ 2            ┆ 2017-07-10 │\n",
       "│ 2019-02-05 ┆ 1            ┆ 2019-02-04 │\n",
       "│ 2018-08-21 ┆ 1            ┆ 2018-08-20 │\n",
       "└────────────┴──────────────┴────────────┘"
      ]
     },
     "execution_count": 89,
     "metadata": {},
     "output_type": "execute_result"
    }
   ],
   "source": [
    "from datetime import timedelta\n",
    "\n",
    "df_074 = (\n",
    "    df_receipt.select(pl.col(\"sales_ymd\").cast(pl.Utf8).str.strptime(pl.Date, \"%Y%m%d\"))\n",
    "    .with_columns(\n",
    "        (pl.col(\"sales_ymd\").dt.weekday() - 1).alias(\n",
    "            \"elapsed_days\"\n",
    "        ),  # monday=1, sunday=9\n",
    "        (pl.col(\"sales_ymd\").map_elements(lambda x: x - timedelta(days=(x.weekday())))).alias(\n",
    "            \"monday\"\n",
    "        ),\n",
    "    )\n",
    "    .filter(pl.col(\"monday\").is_not_null())\n",
    ")\n",
    "\n",
    "df_074.head()"
   ]
  },
  {
   "cell_type": "code",
   "execution_count": 90,
   "metadata": {},
   "outputs": [
    {
     "data": {
      "text/html": [
       "<div><style>\n",
       ".dataframe > thead > tr,\n",
       ".dataframe > tbody > tr {\n",
       "  text-align: right;\n",
       "  white-space: pre-wrap;\n",
       "}\n",
       "</style>\n",
       "<small>shape: (5, 3)</small><table border=\"1\" class=\"dataframe\"><thead><tr><th>sales_ymd</th><th>elapsed_days</th><th>monday</th></tr><tr><td>date</td><td>u32</td><td>date</td></tr></thead><tbody><tr><td>2018-11-03</td><td>5</td><td>2018-10-29</td></tr><tr><td>2018-11-18</td><td>6</td><td>2018-11-12</td></tr><tr><td>2017-07-12</td><td>2</td><td>2017-07-10</td></tr><tr><td>2019-02-05</td><td>1</td><td>2019-02-04</td></tr><tr><td>2018-08-21</td><td>1</td><td>2018-08-20</td></tr></tbody></table></div>"
      ],
      "text/plain": [
       "shape: (5, 3)\n",
       "┌────────────┬──────────────┬────────────┐\n",
       "│ sales_ymd  ┆ elapsed_days ┆ monday     │\n",
       "│ ---        ┆ ---          ┆ ---        │\n",
       "│ date       ┆ u32          ┆ date       │\n",
       "╞════════════╪══════════════╪════════════╡\n",
       "│ 2018-11-03 ┆ 5            ┆ 2018-10-29 │\n",
       "│ 2018-11-18 ┆ 6            ┆ 2018-11-12 │\n",
       "│ 2017-07-12 ┆ 2            ┆ 2017-07-10 │\n",
       "│ 2019-02-05 ┆ 1            ┆ 2019-02-04 │\n",
       "│ 2018-08-21 ┆ 1            ┆ 2018-08-20 │\n",
       "└────────────┴──────────────┴────────────┘"
      ]
     },
     "execution_count": 90,
     "metadata": {},
     "output_type": "execute_result"
    }
   ],
   "source": [
    "from datetime import timedelta\n",
    "\n",
    "df_074 = (\n",
    "    df_receipt.select(pl.col(\"sales_ymd\").cast(pl.Utf8).str.strptime(pl.Date, \"%Y%m%d\"))\n",
    "    .with_columns(\n",
    "        (pl.col(\"sales_ymd\").dt.weekday() - 1).alias(\"elapsed_days\"),\n",
    "        (pl.col(\"sales_ymd\").dt.truncate(\"1w\")).alias(\"monday\"),\n",
    "    )\n",
    "    .filter(pl.col(\"monday\").is_not_null())\n",
    ")\n",
    "\n",
    "df_074.head()"
   ]
  },
  {
   "attachments": {},
   "cell_type": "markdown",
   "metadata": {},
   "source": [
    "## ランダム抽出\n",
    "\n",
    "---\n",
    "> P-075:顧客データ（df_customer）からランダムに1%のデータを抽出し、先頭から10件表示せよ。"
   ]
  },
  {
   "cell_type": "code",
   "execution_count": 91,
   "metadata": {},
   "outputs": [
    {
     "data": {
      "text/html": [
       "<div><style>\n",
       ".dataframe > thead > tr,\n",
       ".dataframe > tbody > tr {\n",
       "  text-align: right;\n",
       "  white-space: pre-wrap;\n",
       "}\n",
       "</style>\n",
       "<small>shape: (10, 11)</small><table border=\"1\" class=\"dataframe\"><thead><tr><th>customer_id</th><th>customer_name</th><th>gender_cd</th><th>gender</th><th>birth_day</th><th>age</th><th>postal_cd</th><th>address</th><th>application_store_cd</th><th>application_date</th><th>status_cd</th></tr><tr><td>str</td><td>str</td><td>str</td><td>str</td><td>str</td><td>i64</td><td>str</td><td>str</td><td>str</td><td>str</td><td>str</td></tr></thead><tbody><tr><td>&quot;CS040414000058…</td><td>&quot;多部 遥&quot;</td><td>&quot;1&quot;</td><td>&quot;女性&quot;</td><td>&quot;1972-07-12&quot;</td><td>46</td><td>&quot;226-0028&quot;</td><td>&quot;神奈川県横浜市緑区いぶき野*…</td><td>&quot;S14040&quot;</td><td>&quot;20151023&quot;</td><td>&quot;F-20100504-E&quot;</td></tr><tr><td>&quot;CS028715000060…</td><td>&quot;市村 育子&quot;</td><td>&quot;1&quot;</td><td>&quot;女性&quot;</td><td>&quot;1940-11-27&quot;</td><td>78</td><td>&quot;246-0034&quot;</td><td>&quot;神奈川県横浜市瀬谷区南瀬谷*…</td><td>&quot;S14028&quot;</td><td>&quot;20151224&quot;</td><td>&quot;0-00000000-0&quot;</td></tr><tr><td>&quot;CS034315000005…</td><td>&quot;沢 さやか&quot;</td><td>&quot;1&quot;</td><td>&quot;女性&quot;</td><td>&quot;1980-05-11&quot;</td><td>38</td><td>&quot;216-0003&quot;</td><td>&quot;神奈川県川崎市宮前区有馬**…</td><td>&quot;S14034&quot;</td><td>&quot;20160110&quot;</td><td>&quot;3-20080219-5&quot;</td></tr><tr><td>&quot;CS028411000010…</td><td>&quot;生田 コウ&quot;</td><td>&quot;1&quot;</td><td>&quot;女性&quot;</td><td>&quot;1977-04-19&quot;</td><td>41</td><td>&quot;245-0016&quot;</td><td>&quot;神奈川県横浜市泉区和泉町**…</td><td>&quot;S14028&quot;</td><td>&quot;20150614&quot;</td><td>&quot;D-20100904-A&quot;</td></tr><tr><td>&quot;CS030513000115…</td><td>&quot;小田 花&quot;</td><td>&quot;1&quot;</td><td>&quot;女性&quot;</td><td>&quot;1966-11-20&quot;</td><td>52</td><td>&quot;272-0031&quot;</td><td>&quot;千葉県市川市平田******…</td><td>&quot;S12030&quot;</td><td>&quot;20150530&quot;</td><td>&quot;6-20090809-6&quot;</td></tr><tr><td>&quot;CS040402000007…</td><td>&quot;小沼 明&quot;</td><td>&quot;0&quot;</td><td>&quot;男性&quot;</td><td>&quot;1971-02-13&quot;</td><td>48</td><td>&quot;226-0021&quot;</td><td>&quot;神奈川県横浜市緑区北八朔町*…</td><td>&quot;S14040&quot;</td><td>&quot;20150906&quot;</td><td>&quot;0-00000000-0&quot;</td></tr><tr><td>&quot;CS017514000077…</td><td>&quot;竹内 結衣&quot;</td><td>&quot;1&quot;</td><td>&quot;女性&quot;</td><td>&quot;1966-08-23&quot;</td><td>52</td><td>&quot;166-0003&quot;</td><td>&quot;東京都杉並区高円寺南****…</td><td>&quot;S13017&quot;</td><td>&quot;20150723&quot;</td><td>&quot;5-20100307-7&quot;</td></tr><tr><td>&quot;CS040413000102…</td><td>&quot;喜多 璃奈子&quot;</td><td>&quot;1&quot;</td><td>&quot;女性&quot;</td><td>&quot;1976-07-31&quot;</td><td>42</td><td>&quot;226-0018&quot;</td><td>&quot;神奈川県横浜市緑区長津田みな…</td><td>&quot;S14040&quot;</td><td>&quot;20151208&quot;</td><td>&quot;0-00000000-0&quot;</td></tr><tr><td>&quot;CS008712000067…</td><td>&quot;大山 麻緒&quot;</td><td>&quot;1&quot;</td><td>&quot;女性&quot;</td><td>&quot;1947-07-12&quot;</td><td>71</td><td>&quot;201-0002&quot;</td><td>&quot;東京都狛江市東野川*****…</td><td>&quot;S13008&quot;</td><td>&quot;20180301&quot;</td><td>&quot;0-00000000-0&quot;</td></tr><tr><td>&quot;CS009314000084…</td><td>&quot;竹村 まみ&quot;</td><td>&quot;1&quot;</td><td>&quot;女性&quot;</td><td>&quot;1985-02-24&quot;</td><td>34</td><td>&quot;158-0096&quot;</td><td>&quot;東京都世田谷区玉川台****…</td><td>&quot;S13009&quot;</td><td>&quot;20170127&quot;</td><td>&quot;0-00000000-0&quot;</td></tr></tbody></table></div>"
      ],
      "text/plain": [
       "shape: (10, 11)\n",
       "┌────────────┬────────────┬───────────┬────────┬───┬───────────┬───────────┬───────────┬───────────┐\n",
       "│ customer_i ┆ customer_n ┆ gender_cd ┆ gender ┆ … ┆ address   ┆ applicati ┆ applicati ┆ status_cd │\n",
       "│ d          ┆ ame        ┆ ---       ┆ ---    ┆   ┆ ---       ┆ on_store_ ┆ on_date   ┆ ---       │\n",
       "│ ---        ┆ ---        ┆ str       ┆ str    ┆   ┆ str       ┆ cd        ┆ ---       ┆ str       │\n",
       "│ str        ┆ str        ┆           ┆        ┆   ┆           ┆ ---       ┆ str       ┆           │\n",
       "│            ┆            ┆           ┆        ┆   ┆           ┆ str       ┆           ┆           │\n",
       "╞════════════╪════════════╪═══════════╪════════╪═══╪═══════════╪═══════════╪═══════════╪═══════════╡\n",
       "│ CS04041400 ┆ 多部 遥    ┆ 1         ┆ 女性   ┆ … ┆ 神奈川県  ┆ S14040    ┆ 20151023  ┆ F-2010050 │\n",
       "│ 0058       ┆            ┆           ┆        ┆   ┆ 横浜市緑  ┆           ┆           ┆ 4-E       │\n",
       "│            ┆            ┆           ┆        ┆   ┆ 区いぶき  ┆           ┆           ┆           │\n",
       "│            ┆            ┆           ┆        ┆   ┆ 野******* ┆           ┆           ┆           │\n",
       "│            ┆            ┆           ┆        ┆   ┆ ***       ┆           ┆           ┆           │\n",
       "│ CS02871500 ┆ 市村 育子  ┆ 1         ┆ 女性   ┆ … ┆ 神奈川県  ┆ S14028    ┆ 20151224  ┆ 0-0000000 │\n",
       "│ 0060       ┆            ┆           ┆        ┆   ┆ 横浜市瀬  ┆           ┆           ┆ 0-0       │\n",
       "│            ┆            ┆           ┆        ┆   ┆ 谷区南瀬  ┆           ┆           ┆           │\n",
       "│            ┆            ┆           ┆        ┆   ┆ 谷******* ┆           ┆           ┆           │\n",
       "│            ┆            ┆           ┆        ┆   ┆ ***       ┆           ┆           ┆           │\n",
       "│ CS03431500 ┆ 沢 さやか  ┆ 1         ┆ 女性   ┆ … ┆ 神奈川県  ┆ S14034    ┆ 20160110  ┆ 3-2008021 │\n",
       "│ 0005       ┆            ┆           ┆        ┆   ┆ 川崎市宮  ┆           ┆           ┆ 9-5       │\n",
       "│            ┆            ┆           ┆        ┆   ┆ 前区有馬* ┆           ┆           ┆           │\n",
       "│            ┆            ┆           ┆        ┆   ┆ ********* ┆           ┆           ┆           │\n",
       "│ CS02841100 ┆ 生田 コウ  ┆ 1         ┆ 女性   ┆ … ┆ 神奈川県  ┆ S14028    ┆ 20150614  ┆ D-2010090 │\n",
       "│ 0010       ┆            ┆           ┆        ┆   ┆ 横浜市泉  ┆           ┆           ┆ 4-A       │\n",
       "│            ┆            ┆           ┆        ┆   ┆ 区和泉町* ┆           ┆           ┆           │\n",
       "│            ┆            ┆           ┆        ┆   ┆ ********* ┆           ┆           ┆           │\n",
       "│ …          ┆ …          ┆ …         ┆ …      ┆ … ┆ …         ┆ …         ┆ …         ┆ …         │\n",
       "│ CS01751400 ┆ 竹内 結衣  ┆ 1         ┆ 女性   ┆ … ┆ 東京都杉  ┆ S13017    ┆ 20150723  ┆ 5-2010030 │\n",
       "│ 0077       ┆            ┆           ┆        ┆   ┆ 並区高円  ┆           ┆           ┆ 7-7       │\n",
       "│            ┆            ┆           ┆        ┆   ┆ 寺南***** ┆           ┆           ┆           │\n",
       "│            ┆            ┆           ┆        ┆   ┆ *****     ┆           ┆           ┆           │\n",
       "│ CS04041300 ┆ 喜多       ┆ 1         ┆ 女性   ┆ … ┆ 神奈川県  ┆ S14040    ┆ 20151208  ┆ 0-0000000 │\n",
       "│ 0102       ┆ 璃奈子     ┆           ┆        ┆   ┆ 横浜市緑  ┆           ┆           ┆ 0-0       │\n",
       "│            ┆            ┆           ┆        ┆   ┆ 区長津田  ┆           ┆           ┆           │\n",
       "│            ┆            ┆           ┆        ┆   ┆ みなみ台* ┆           ┆           ┆           │\n",
       "│            ┆            ┆           ┆        ┆   ┆ ********* ┆           ┆           ┆           │\n",
       "│ CS00871200 ┆ 大山 麻緒  ┆ 1         ┆ 女性   ┆ … ┆ 東京都狛  ┆ S13008    ┆ 20180301  ┆ 0-0000000 │\n",
       "│ 0067       ┆            ┆           ┆        ┆   ┆ 江市東野  ┆           ┆           ┆ 0-0       │\n",
       "│            ┆            ┆           ┆        ┆   ┆ 川******* ┆           ┆           ┆           │\n",
       "│            ┆            ┆           ┆        ┆   ┆ ***       ┆           ┆           ┆           │\n",
       "│ CS00931400 ┆ 竹村 まみ  ┆ 1         ┆ 女性   ┆ … ┆ 東京都世  ┆ S13009    ┆ 20170127  ┆ 0-0000000 │\n",
       "│ 0084       ┆            ┆           ┆        ┆   ┆ 田谷区玉  ┆           ┆           ┆ 0-0       │\n",
       "│            ┆            ┆           ┆        ┆   ┆ 川台***** ┆           ┆           ┆           │\n",
       "│            ┆            ┆           ┆        ┆   ┆ *****     ┆           ┆           ┆           │\n",
       "└────────────┴────────────┴───────────┴────────┴───┴───────────┴───────────┴───────────┴───────────┘"
      ]
     },
     "execution_count": 91,
     "metadata": {},
     "output_type": "execute_result"
    }
   ],
   "source": [
    "df_075 = df_customer.sample(fraction=0.01)  # ランダム抽出\n",
    "\n",
    "df_075.head(10)"
   ]
  },
  {
   "attachments": {},
   "cell_type": "markdown",
   "metadata": {},
   "source": [
    "---\n",
    "> P-076: 顧客データ（df_customer）から性別コード（gender_cd）の割合に基づきランダムに10%のデータを層化抽出し、性別コードごとに件数を集計せよ。"
   ]
  },
  {
   "cell_type": "code",
   "execution_count": 92,
   "metadata": {},
   "outputs": [
    {
     "data": {
      "text/html": [
       "<div><style>\n",
       ".dataframe > thead > tr,\n",
       ".dataframe > tbody > tr {\n",
       "  text-align: right;\n",
       "  white-space: pre-wrap;\n",
       "}\n",
       "</style>\n",
       "<small>shape: (3, 2)</small><table border=\"1\" class=\"dataframe\"><thead><tr><th>gender_cd</th><th>customer_id</th></tr><tr><td>str</td><td>u32</td></tr></thead><tbody><tr><td>&quot;0&quot;</td><td>298</td></tr><tr><td>&quot;1&quot;</td><td>1793</td></tr><tr><td>&quot;9&quot;</td><td>107</td></tr></tbody></table></div>"
      ],
      "text/plain": [
       "shape: (3, 2)\n",
       "┌───────────┬─────────────┐\n",
       "│ gender_cd ┆ customer_id │\n",
       "│ ---       ┆ ---         │\n",
       "│ str       ┆ u32         │\n",
       "╞═══════════╪═════════════╡\n",
       "│ 0         ┆ 298         │\n",
       "│ 1         ┆ 1793        │\n",
       "│ 9         ┆ 107         │\n",
       "└───────────┴─────────────┘"
      ]
     },
     "execution_count": 92,
     "metadata": {},
     "output_type": "execute_result"
    }
   ],
   "source": [
    "_, df_tmp = train_test_split(\n",
    "    df_customer, test_size=0.1, stratify=df_customer[\"gender_cd\"]\n",
    ")\n",
    "\n",
    "df_076 = df_tmp.group_by(\"gender_cd\").agg(pl.col(\"customer_id\").count())\n",
    "\n",
    "df_076.head()"
   ]
  },
  {
   "attachments": {},
   "cell_type": "markdown",
   "metadata": {},
   "source": [
    "## 外れ値と欠損値"
   ]
  },
  {
   "attachments": {},
   "cell_type": "markdown",
   "metadata": {},
   "source": [
    "---\n",
    "> P-077: レシート明細データ（df_receipt）の売上金額を顧客単位に合計し、合計した売上金額の外れ値を抽出せよ。なお、外れ値は売上金額合計を対数化したうえで平均と標準偏差を計算し、その平均から3σを超えて離れたものとする（自然対数と常用対数のどちらでも可）。結果は10件表示せよ。"
   ]
  },
  {
   "cell_type": "code",
   "execution_count": 93,
   "metadata": {},
   "outputs": [
    {
     "data": {
      "text/html": [
       "<div><style>\n",
       ".dataframe > thead > tr,\n",
       ".dataframe > tbody > tr {\n",
       "  text-align: right;\n",
       "  white-space: pre-wrap;\n",
       "}\n",
       "</style>\n",
       "<small>shape: (1, 3)</small><table border=\"1\" class=\"dataframe\"><thead><tr><th>customer_id</th><th>sum_amount</th><th>log_amount</th></tr><tr><td>str</td><td>i64</td><td>f64</td></tr></thead><tbody><tr><td>&quot;ZZ000000000000…</td><td>12395003</td><td>16.332804</td></tr></tbody></table></div>"
      ],
      "text/plain": [
       "shape: (1, 3)\n",
       "┌────────────────┬────────────┬────────────┐\n",
       "│ customer_id    ┆ sum_amount ┆ log_amount │\n",
       "│ ---            ┆ ---        ┆ ---        │\n",
       "│ str            ┆ i64        ┆ f64        │\n",
       "╞════════════════╪════════════╪════════════╡\n",
       "│ ZZ000000000000 ┆ 12395003   ┆ 16.332804  │\n",
       "└────────────────┴────────────┴────────────┘"
      ]
     },
     "execution_count": 93,
     "metadata": {},
     "output_type": "execute_result"
    }
   ],
   "source": [
    "df_077 = (\n",
    "    df_receipt.group_by(\"customer_id\")\n",
    "    .agg((pl.col(\"amount\").sum()).alias(\"sum_amount\"))\n",
    "    .with_columns(pl.col(\"sum_amount\").log().alias(\"log_amount\"))\n",
    "    .filter(\n",
    "        (\n",
    "            (pl.col(\"log_amount\") - pl.col(\"log_amount\").mean()).abs()\n",
    "            > (pl.col(\"log_amount\").std() * 3)\n",
    "        ).alias(\"log_amount_ss\")\n",
    "    )\n",
    ")\n",
    "\n",
    "df_077.head()"
   ]
  },
  {
   "attachments": {},
   "cell_type": "markdown",
   "metadata": {},
   "source": [
    "---\n",
    "> P-078: レシート明細データ（df_receipt）の売上金額（amount）を顧客単位に合計し、合計した売上金額の外れ値を抽出せよ。ただし、顧客IDが\"Z\"から始まるのものは非会員を表すため、除外して計算すること。なお、ここでは外れ値を第1四分位と第3四分位の差であるIQRを用いて、「第1四分位数-1.5×IQR」を下回るもの、または「第3四分位数+1.5×IQR」を超えるものとする。結果は10件表示せよ。"
   ]
  },
  {
   "cell_type": "code",
   "execution_count": 94,
   "metadata": {},
   "outputs": [
    {
     "data": {
      "text/html": [
       "<div><style>\n",
       ".dataframe > thead > tr,\n",
       ".dataframe > tbody > tr {\n",
       "  text-align: right;\n",
       "  white-space: pre-wrap;\n",
       "}\n",
       "</style>\n",
       "<small>shape: (10, 2)</small><table border=\"1\" class=\"dataframe\"><thead><tr><th>customer_id</th><th>sum_amount</th></tr><tr><td>str</td><td>i64</td></tr></thead><tbody><tr><td>&quot;CS001414000048…</td><td>8584</td></tr><tr><td>&quot;CS001605000009…</td><td>18925</td></tr><tr><td>&quot;CS002415000594…</td><td>9568</td></tr><tr><td>&quot;CS004414000181…</td><td>9584</td></tr><tr><td>&quot;CS005415000137…</td><td>8734</td></tr><tr><td>&quot;CS006414000001…</td><td>9156</td></tr><tr><td>&quot;CS006414000029…</td><td>9179</td></tr><tr><td>&quot;CS006415000105…</td><td>10042</td></tr><tr><td>&quot;CS006415000147…</td><td>12723</td></tr><tr><td>&quot;CS006415000157…</td><td>10648</td></tr></tbody></table></div>"
      ],
      "text/plain": [
       "shape: (10, 2)\n",
       "┌────────────────┬────────────┐\n",
       "│ customer_id    ┆ sum_amount │\n",
       "│ ---            ┆ ---        │\n",
       "│ str            ┆ i64        │\n",
       "╞════════════════╪════════════╡\n",
       "│ CS001414000048 ┆ 8584       │\n",
       "│ CS001605000009 ┆ 18925      │\n",
       "│ CS002415000594 ┆ 9568       │\n",
       "│ CS004414000181 ┆ 9584       │\n",
       "│ …              ┆ …          │\n",
       "│ CS006414000029 ┆ 9179       │\n",
       "│ CS006415000105 ┆ 10042      │\n",
       "│ CS006415000147 ┆ 12723      │\n",
       "│ CS006415000157 ┆ 10648      │\n",
       "└────────────────┴────────────┘"
      ]
     },
     "execution_count": 94,
     "metadata": {},
     "output_type": "execute_result"
    }
   ],
   "source": [
    "pct25 = pl.col(\"sum_amount\").quantile(0.25)\n",
    "pct75 = pl.col(\"sum_amount\").quantile(0.75)\n",
    "iqr = pct75 - pct25\n",
    "\n",
    "\n",
    "df_078 = (\n",
    "    df_receipt.group_by(\"customer_id\")\n",
    "    .agg((pl.col(\"amount\").sum()).alias(\"sum_amount\"))\n",
    "    .filter(\n",
    "        (pl.col(\"customer_id\").str.starts_with(\"Z\").not_())\n",
    "        & (pl.col(\"sum_amount\") < (pct25 - 1.5 * iqr))\n",
    "        | (pl.col(\"sum_amount\") > (pct75 + 1.5 * iqr))\n",
    "    )\n",
    "    .sort(\"customer_id\")\n",
    ")\n",
    "\n",
    "df_078.head(10)"
   ]
  },
  {
   "attachments": {},
   "cell_type": "markdown",
   "metadata": {},
   "source": [
    "---\n",
    "> P-079: 商品データ（df_product）の各項目に対し、欠損数を確認せよ。"
   ]
  },
  {
   "cell_type": "code",
   "execution_count": 95,
   "metadata": {},
   "outputs": [
    {
     "data": {
      "text/html": [
       "<div><style>\n",
       ".dataframe > thead > tr,\n",
       ".dataframe > tbody > tr {\n",
       "  text-align: right;\n",
       "  white-space: pre-wrap;\n",
       "}\n",
       "</style>\n",
       "<small>shape: (1, 6)</small><table border=\"1\" class=\"dataframe\"><thead><tr><th>product_cd</th><th>category_major_cd</th><th>category_medium_cd</th><th>category_small_cd</th><th>unit_price</th><th>unit_cost</th></tr><tr><td>u32</td><td>u32</td><td>u32</td><td>u32</td><td>u32</td><td>u32</td></tr></thead><tbody><tr><td>0</td><td>0</td><td>0</td><td>0</td><td>7</td><td>7</td></tr></tbody></table></div>"
      ],
      "text/plain": [
       "shape: (1, 6)\n",
       "┌────────────┬───────────────────┬────────────────────┬───────────────────┬────────────┬───────────┐\n",
       "│ product_cd ┆ category_major_cd ┆ category_medium_cd ┆ category_small_cd ┆ unit_price ┆ unit_cost │\n",
       "│ ---        ┆ ---               ┆ ---                ┆ ---               ┆ ---        ┆ ---       │\n",
       "│ u32        ┆ u32               ┆ u32                ┆ u32               ┆ u32        ┆ u32       │\n",
       "╞════════════╪═══════════════════╪════════════════════╪═══════════════════╪════════════╪═══════════╡\n",
       "│ 0          ┆ 0                 ┆ 0                  ┆ 0                 ┆ 7          ┆ 7         │\n",
       "└────────────┴───────────────────┴────────────────────┴───────────────────┴────────────┴───────────┘"
      ]
     },
     "execution_count": 95,
     "metadata": {},
     "output_type": "execute_result"
    }
   ],
   "source": [
    "# df_ans = (\n",
    "#     df_product\n",
    "#     .select(pl.all().is_null().sum())\n",
    "# )\n",
    "\n",
    "# df_ans\n",
    "\n",
    "df_product.null_count()"
   ]
  },
  {
   "attachments": {},
   "cell_type": "markdown",
   "metadata": {},
   "source": [
    "---\n",
    "> P-080: 商品データ（df_product）のいずれかの項目に欠損が発生しているレコードを全て削除した新たな商品データを作成せよ。なお、削除前後の件数を表示させ、079で確認した件数だけ減少していることも確認すること。"
   ]
  },
  {
   "cell_type": "code",
   "execution_count": 96,
   "metadata": {},
   "outputs": [
    {
     "name": "stdout",
     "output_type": "stream",
     "text": [
      "10030\n",
      "10023\n"
     ]
    }
   ],
   "source": [
    "df_080 = df_product.drop_nulls()\n",
    "\n",
    "print(len(df_product))\n",
    "print(len(df_080))"
   ]
  },
  {
   "attachments": {},
   "cell_type": "markdown",
   "metadata": {},
   "source": [
    "---\n",
    "> P-081: 単価（unit_price）と原価（unit_cost）の欠損値について、それぞれの平均値で補完した新たな商品データを作成せよ。なお、平均値については1円未満を丸めること（四捨五入または偶数への丸めで良い）。補完実施後、各項目について欠損が生じていないことも確認すること。"
   ]
  },
  {
   "cell_type": "code",
   "execution_count": 97,
   "metadata": {},
   "outputs": [
    {
     "data": {
      "text/html": [
       "<div><style>\n",
       ".dataframe > thead > tr,\n",
       ".dataframe > tbody > tr {\n",
       "  text-align: right;\n",
       "  white-space: pre-wrap;\n",
       "}\n",
       "</style>\n",
       "<small>shape: (1, 6)</small><table border=\"1\" class=\"dataframe\"><thead><tr><th>product_cd</th><th>category_major_cd</th><th>category_medium_cd</th><th>category_small_cd</th><th>unit_price</th><th>unit_cost</th></tr><tr><td>u32</td><td>u32</td><td>u32</td><td>u32</td><td>u32</td><td>u32</td></tr></thead><tbody><tr><td>0</td><td>0</td><td>0</td><td>0</td><td>0</td><td>0</td></tr></tbody></table></div>"
      ],
      "text/plain": [
       "shape: (1, 6)\n",
       "┌────────────┬───────────────────┬────────────────────┬───────────────────┬────────────┬───────────┐\n",
       "│ product_cd ┆ category_major_cd ┆ category_medium_cd ┆ category_small_cd ┆ unit_price ┆ unit_cost │\n",
       "│ ---        ┆ ---               ┆ ---                ┆ ---               ┆ ---        ┆ ---       │\n",
       "│ u32        ┆ u32               ┆ u32                ┆ u32               ┆ u32        ┆ u32       │\n",
       "╞════════════╪═══════════════════╪════════════════════╪═══════════════════╪════════════╪═══════════╡\n",
       "│ 0          ┆ 0                 ┆ 0                  ┆ 0                 ┆ 0          ┆ 0         │\n",
       "└────────────┴───────────────────┴────────────────────┴───────────────────┴────────────┴───────────┘"
      ]
     },
     "execution_count": 97,
     "metadata": {},
     "output_type": "execute_result"
    }
   ],
   "source": [
    "# df_ans = (\n",
    "#     df_product\n",
    "#     .select(pl.col(\"unit_price\").fill_null(strategy=\"mean\"),\n",
    "#             pl.col(\"unit_cost\").fill_null(strategy=\"mean\"))\n",
    "# )\n",
    "\n",
    "df_081 = df_product.fill_null(strategy=\"mean\")\n",
    "\n",
    "df_081.null_count()"
   ]
  },
  {
   "attachments": {},
   "cell_type": "markdown",
   "metadata": {},
   "source": [
    "---\n",
    "> P-082: 単価（unit_price）と原価（unit_cost）の欠損値について、それぞれの中央値で補完した新たな商品データを作成せよ。なお、中央値については1円未満を丸めること（四捨五入または偶数への丸めで良い）。補完実施後、各項目について欠損が生じていないことも確認すること。"
   ]
  },
  {
   "cell_type": "code",
   "execution_count": 98,
   "metadata": {},
   "outputs": [
    {
     "data": {
      "text/html": [
       "<div><style>\n",
       ".dataframe > thead > tr,\n",
       ".dataframe > tbody > tr {\n",
       "  text-align: right;\n",
       "  white-space: pre-wrap;\n",
       "}\n",
       "</style>\n",
       "<small>shape: (5, 6)</small><table border=\"1\" class=\"dataframe\"><thead><tr><th>product_cd</th><th>category_major_cd</th><th>category_medium_cd</th><th>category_small_cd</th><th>unit_cost</th><th>unit_price</th></tr><tr><td>str</td><td>str</td><td>str</td><td>str</td><td>i64</td><td>i64</td></tr></thead><tbody><tr><td>&quot;P040101001&quot;</td><td>&quot;04&quot;</td><td>&quot;0401&quot;</td><td>&quot;040101&quot;</td><td>149</td><td>198</td></tr><tr><td>&quot;P040101002&quot;</td><td>&quot;04&quot;</td><td>&quot;0401&quot;</td><td>&quot;040101&quot;</td><td>164</td><td>218</td></tr><tr><td>&quot;P040101003&quot;</td><td>&quot;04&quot;</td><td>&quot;0401&quot;</td><td>&quot;040101&quot;</td><td>173</td><td>230</td></tr><tr><td>&quot;P040101004&quot;</td><td>&quot;04&quot;</td><td>&quot;0401&quot;</td><td>&quot;040101&quot;</td><td>186</td><td>248</td></tr><tr><td>&quot;P040101005&quot;</td><td>&quot;04&quot;</td><td>&quot;0401&quot;</td><td>&quot;040101&quot;</td><td>201</td><td>268</td></tr></tbody></table></div>"
      ],
      "text/plain": [
       "shape: (5, 6)\n",
       "┌────────────┬───────────────────┬────────────────────┬───────────────────┬───────────┬────────────┐\n",
       "│ product_cd ┆ category_major_cd ┆ category_medium_cd ┆ category_small_cd ┆ unit_cost ┆ unit_price │\n",
       "│ ---        ┆ ---               ┆ ---                ┆ ---               ┆ ---       ┆ ---        │\n",
       "│ str        ┆ str               ┆ str                ┆ str               ┆ i64       ┆ i64        │\n",
       "╞════════════╪═══════════════════╪════════════════════╪═══════════════════╪═══════════╪════════════╡\n",
       "│ P040101001 ┆ 04                ┆ 0401               ┆ 040101            ┆ 149       ┆ 198        │\n",
       "│ P040101002 ┆ 04                ┆ 0401               ┆ 040101            ┆ 164       ┆ 218        │\n",
       "│ P040101003 ┆ 04                ┆ 0401               ┆ 040101            ┆ 173       ┆ 230        │\n",
       "│ P040101004 ┆ 04                ┆ 0401               ┆ 040101            ┆ 186       ┆ 248        │\n",
       "│ P040101005 ┆ 04                ┆ 0401               ┆ 040101            ┆ 201       ┆ 268        │\n",
       "└────────────┴───────────────────┴────────────────────┴───────────────────┴───────────┴────────────┘"
      ]
     },
     "metadata": {},
     "output_type": "display_data"
    },
    {
     "data": {
      "text/html": [
       "<div><style>\n",
       ".dataframe > thead > tr,\n",
       ".dataframe > tbody > tr {\n",
       "  text-align: right;\n",
       "  white-space: pre-wrap;\n",
       "}\n",
       "</style>\n",
       "<small>shape: (1, 6)</small><table border=\"1\" class=\"dataframe\"><thead><tr><th>product_cd</th><th>category_major_cd</th><th>category_medium_cd</th><th>category_small_cd</th><th>unit_cost</th><th>unit_price</th></tr><tr><td>u32</td><td>u32</td><td>u32</td><td>u32</td><td>u32</td><td>u32</td></tr></thead><tbody><tr><td>0</td><td>0</td><td>0</td><td>0</td><td>0</td><td>0</td></tr></tbody></table></div>"
      ],
      "text/plain": [
       "shape: (1, 6)\n",
       "┌────────────┬───────────────────┬────────────────────┬───────────────────┬───────────┬────────────┐\n",
       "│ product_cd ┆ category_major_cd ┆ category_medium_cd ┆ category_small_cd ┆ unit_cost ┆ unit_price │\n",
       "│ ---        ┆ ---               ┆ ---                ┆ ---               ┆ ---       ┆ ---        │\n",
       "│ u32        ┆ u32               ┆ u32                ┆ u32               ┆ u32       ┆ u32        │\n",
       "╞════════════╪═══════════════════╪════════════════════╪═══════════════════╪═══════════╪════════════╡\n",
       "│ 0          ┆ 0                 ┆ 0                  ┆ 0                 ┆ 0         ┆ 0          │\n",
       "└────────────┴───────────────────┴────────────────────┴───────────────────┴───────────┴────────────┘"
      ]
     },
     "execution_count": 98,
     "metadata": {},
     "output_type": "execute_result"
    }
   ],
   "source": [
    "df_082 = df_product.select(\n",
    "    pl.all().exclude(\"unit_cost\", \"unit_price\"),\n",
    "    pl.col(\"unit_cost\").fill_null(pl.col(\"unit_cost\").median().cast(pl.Int64)),\n",
    "    pl.col(\"unit_price\").fill_null(pl.median(\"unit_price\").cast(pl.Int64)),\n",
    ")\n",
    "\n",
    "display(df_082.head())\n",
    "df_082.null_count()"
   ]
  },
  {
   "attachments": {},
   "cell_type": "markdown",
   "metadata": {},
   "source": [
    "---\n",
    "> P-083: 単価（unit_price）と原価（unit_cost）の欠損値について、各商品のカテゴリ小区分コード（category_small_cd）ごとに算出した中央値で補完した新たな商品データを作成せよ。なお、中央値については1円未満を丸めること（四捨五入または偶数への丸めで良い）。補完実施後、各項目について欠損が生じていないことも確認すること。"
   ]
  },
  {
   "cell_type": "code",
   "execution_count": 99,
   "metadata": {},
   "outputs": [
    {
     "data": {
      "text/html": [
       "<div><style>\n",
       ".dataframe > thead > tr,\n",
       ".dataframe > tbody > tr {\n",
       "  text-align: right;\n",
       "  white-space: pre-wrap;\n",
       "}\n",
       "</style>\n",
       "<small>shape: (5, 6)</small><table border=\"1\" class=\"dataframe\"><thead><tr><th>product_cd</th><th>category_major_cd</th><th>category_medium_cd</th><th>category_small_cd</th><th>unit_price</th><th>unit_cost</th></tr><tr><td>str</td><td>str</td><td>str</td><td>str</td><td>i64</td><td>i64</td></tr></thead><tbody><tr><td>&quot;P040101001&quot;</td><td>&quot;04&quot;</td><td>&quot;0401&quot;</td><td>&quot;040101&quot;</td><td>198</td><td>149</td></tr><tr><td>&quot;P040101002&quot;</td><td>&quot;04&quot;</td><td>&quot;0401&quot;</td><td>&quot;040101&quot;</td><td>218</td><td>164</td></tr><tr><td>&quot;P040101003&quot;</td><td>&quot;04&quot;</td><td>&quot;0401&quot;</td><td>&quot;040101&quot;</td><td>230</td><td>173</td></tr><tr><td>&quot;P040101004&quot;</td><td>&quot;04&quot;</td><td>&quot;0401&quot;</td><td>&quot;040101&quot;</td><td>248</td><td>186</td></tr><tr><td>&quot;P040101005&quot;</td><td>&quot;04&quot;</td><td>&quot;0401&quot;</td><td>&quot;040101&quot;</td><td>268</td><td>201</td></tr></tbody></table></div>"
      ],
      "text/plain": [
       "shape: (5, 6)\n",
       "┌────────────┬───────────────────┬────────────────────┬───────────────────┬────────────┬───────────┐\n",
       "│ product_cd ┆ category_major_cd ┆ category_medium_cd ┆ category_small_cd ┆ unit_price ┆ unit_cost │\n",
       "│ ---        ┆ ---               ┆ ---                ┆ ---               ┆ ---        ┆ ---       │\n",
       "│ str        ┆ str               ┆ str                ┆ str               ┆ i64        ┆ i64       │\n",
       "╞════════════╪═══════════════════╪════════════════════╪═══════════════════╪════════════╪═══════════╡\n",
       "│ P040101001 ┆ 04                ┆ 0401               ┆ 040101            ┆ 198        ┆ 149       │\n",
       "│ P040101002 ┆ 04                ┆ 0401               ┆ 040101            ┆ 218        ┆ 164       │\n",
       "│ P040101003 ┆ 04                ┆ 0401               ┆ 040101            ┆ 230        ┆ 173       │\n",
       "│ P040101004 ┆ 04                ┆ 0401               ┆ 040101            ┆ 248        ┆ 186       │\n",
       "│ P040101005 ┆ 04                ┆ 0401               ┆ 040101            ┆ 268        ┆ 201       │\n",
       "└────────────┴───────────────────┴────────────────────┴───────────────────┴────────────┴───────────┘"
      ]
     },
     "metadata": {},
     "output_type": "display_data"
    },
    {
     "data": {
      "text/html": [
       "<div><style>\n",
       ".dataframe > thead > tr,\n",
       ".dataframe > tbody > tr {\n",
       "  text-align: right;\n",
       "  white-space: pre-wrap;\n",
       "}\n",
       "</style>\n",
       "<small>shape: (1, 6)</small><table border=\"1\" class=\"dataframe\"><thead><tr><th>product_cd</th><th>category_major_cd</th><th>category_medium_cd</th><th>category_small_cd</th><th>unit_price</th><th>unit_cost</th></tr><tr><td>u32</td><td>u32</td><td>u32</td><td>u32</td><td>u32</td><td>u32</td></tr></thead><tbody><tr><td>0</td><td>0</td><td>0</td><td>0</td><td>0</td><td>0</td></tr></tbody></table></div>"
      ],
      "text/plain": [
       "shape: (1, 6)\n",
       "┌────────────┬───────────────────┬────────────────────┬───────────────────┬────────────┬───────────┐\n",
       "│ product_cd ┆ category_major_cd ┆ category_medium_cd ┆ category_small_cd ┆ unit_price ┆ unit_cost │\n",
       "│ ---        ┆ ---               ┆ ---                ┆ ---               ┆ ---        ┆ ---       │\n",
       "│ u32        ┆ u32               ┆ u32                ┆ u32               ┆ u32        ┆ u32       │\n",
       "╞════════════╪═══════════════════╪════════════════════╪═══════════════════╪════════════╪═══════════╡\n",
       "│ 0          ┆ 0                 ┆ 0                  ┆ 0                 ┆ 0          ┆ 0         │\n",
       "└────────────┴───────────────────┴────────────────────┴───────────────────┴────────────┴───────────┘"
      ]
     },
     "metadata": {},
     "output_type": "display_data"
    }
   ],
   "source": [
    "df_083 = df_product.select(\n",
    "    pl.exclude(\"unit_price\", \"unit_cost\"),\n",
    "    pl.coalesce(\n",
    "        pl.col(\n",
    "            \"unit_price\"\n",
    "        ),  # pl.coalesce():上から順番にNull以外の値を入れていく-> \"unit_cost\"の値を入れていき、Nullにはpl.medean()を入れる\n",
    "        pl.median(\"unit_price\")\n",
    "        .over(\n",
    "            \"category_small_cd\"\n",
    "        )  # SQLのウィンドウ関数のようなメソッド。\"category_scall_cd\"ごとに処理を行う。group_byの後から条件版みたいな感じ?\n",
    "        .cast(pl.Int64),\n",
    "    ),\n",
    "    pl.coalesce(\n",
    "        pl.col(\"unit_cost\"),\n",
    "        pl.median(\"unit_cost\").over(\"category_small_cd\").cast(pl.Int64),\n",
    "    ),\n",
    ")\n",
    "\n",
    "display(df_083.head())\n",
    "display(df_083.null_count())"
   ]
  },
  {
   "attachments": {},
   "cell_type": "markdown",
   "metadata": {},
   "source": [
    "## 応用"
   ]
  },
  {
   "attachments": {},
   "cell_type": "markdown",
   "metadata": {},
   "source": [
    "---\n",
    "> P-084: 顧客データ（df_customer）の全顧客に対して全期間の売上金額に占める2019年売上金額の割合を計算し、新たなデータを作成せよ。ただし、売上実績がない場合は0として扱うこと。そして計算した割合が0超のものを抽出し、結果を10件表示せよ。また、作成したデータに欠損が存在しないことを確認せよ。"
   ]
  },
  {
   "cell_type": "code",
   "execution_count": 100,
   "metadata": {},
   "outputs": [
    {
     "data": {
      "text/html": [
       "<div><style>\n",
       ".dataframe > thead > tr,\n",
       ".dataframe > tbody > tr {\n",
       "  text-align: right;\n",
       "  white-space: pre-wrap;\n",
       "}\n",
       "</style>\n",
       "<small>shape: (5, 4)</small><table border=\"1\" class=\"dataframe\"><thead><tr><th>customer_id</th><th>amount_all</th><th>amount_2019</th><th>amount_rate</th></tr><tr><td>str</td><td>i64</td><td>i64</td><td>f64</td></tr></thead><tbody><tr><td>&quot;CS001113000004…</td><td>1298</td><td>1298</td><td>1.0</td></tr><tr><td>&quot;CS001114000005…</td><td>626</td><td>188</td><td>0.300319</td></tr><tr><td>&quot;CS001115000010…</td><td>3044</td><td>578</td><td>0.189882</td></tr><tr><td>&quot;CS001205000004…</td><td>1988</td><td>702</td><td>0.353119</td></tr><tr><td>&quot;CS001205000006…</td><td>3337</td><td>486</td><td>0.14564</td></tr></tbody></table></div>"
      ],
      "text/plain": [
       "shape: (5, 4)\n",
       "┌────────────────┬────────────┬─────────────┬─────────────┐\n",
       "│ customer_id    ┆ amount_all ┆ amount_2019 ┆ amount_rate │\n",
       "│ ---            ┆ ---        ┆ ---         ┆ ---         │\n",
       "│ str            ┆ i64        ┆ i64         ┆ f64         │\n",
       "╞════════════════╪════════════╪═════════════╪═════════════╡\n",
       "│ CS001113000004 ┆ 1298       ┆ 1298        ┆ 1.0         │\n",
       "│ CS001114000005 ┆ 626        ┆ 188         ┆ 0.300319    │\n",
       "│ CS001115000010 ┆ 3044       ┆ 578         ┆ 0.189882    │\n",
       "│ CS001205000004 ┆ 1988       ┆ 702         ┆ 0.353119    │\n",
       "│ CS001205000006 ┆ 3337       ┆ 486         ┆ 0.14564     │\n",
       "└────────────────┴────────────┴─────────────┴─────────────┘"
      ]
     },
     "metadata": {},
     "output_type": "display_data"
    },
    {
     "data": {
      "text/html": [
       "<div><style>\n",
       ".dataframe > thead > tr,\n",
       ".dataframe > tbody > tr {\n",
       "  text-align: right;\n",
       "  white-space: pre-wrap;\n",
       "}\n",
       "</style>\n",
       "<small>shape: (1, 4)</small><table border=\"1\" class=\"dataframe\"><thead><tr><th>customer_id</th><th>amount_all</th><th>amount_2019</th><th>amount_rate</th></tr><tr><td>u32</td><td>u32</td><td>u32</td><td>u32</td></tr></thead><tbody><tr><td>0</td><td>0</td><td>0</td><td>0</td></tr></tbody></table></div>"
      ],
      "text/plain": [
       "shape: (1, 4)\n",
       "┌─────────────┬────────────┬─────────────┬─────────────┐\n",
       "│ customer_id ┆ amount_all ┆ amount_2019 ┆ amount_rate │\n",
       "│ ---         ┆ ---        ┆ ---         ┆ ---         │\n",
       "│ u32         ┆ u32        ┆ u32         ┆ u32         │\n",
       "╞═════════════╪════════════╪═════════════╪═════════════╡\n",
       "│ 0           ┆ 0          ┆ 0           ┆ 0           │\n",
       "└─────────────┴────────────┴─────────────┴─────────────┘"
      ]
     },
     "metadata": {},
     "output_type": "display_data"
    }
   ],
   "source": [
    "df_084 = (\n",
    "    df_customer.join(df_receipt, how=\"inner\", on=\"customer_id\")\n",
    "    .select(\n",
    "        \"customer_id\",\n",
    "        \"amount\",\n",
    "        pl.col(\"sales_ymd\").cast(pl.Utf8).str.strptime(pl.Date, \"%Y%m%d\").dt.year(),\n",
    "    )\n",
    "    .group_by(\"customer_id\")\n",
    "    .agg(\n",
    "        pl.col(\"amount\").sum().alias(\"amount_all\"),\n",
    "        pl.col(\"amount\")\n",
    "        .filter(pl.col(\"sales_ymd\") == 2019)\n",
    "        .sum()\n",
    "        .fill_null(0)\n",
    "        .alias(\"amount_2019\"),\n",
    "    )\n",
    "    .with_columns((pl.col(\"amount_2019\") / pl.col(\"amount_all\")).alias(\"amount_rate\"))\n",
    "    .sort(\"customer_id\")\n",
    ")\n",
    "\n",
    "display(df_084.head())\n",
    "display(df_084.null_count())"
   ]
  },
  {
   "attachments": {},
   "cell_type": "markdown",
   "metadata": {},
   "source": [
    "---\n",
    "> P-085: 顧客データ（df_customer）の全顧客に対し、郵便番号（postal_cd）を用いてジオコードデータ（df_geocode）を紐付け、新たな顧客データを作成せよ。ただし、1つの郵便番号（postal_cd）に複数の経度（longitude）、緯度（latitude）情報が紐づく場合は、経度（longitude）、緯度（latitude）の平均値を算出して使用すること。また、作成結果を確認するために結果を10件表示せよ。"
   ]
  },
  {
   "cell_type": "code",
   "execution_count": 101,
   "metadata": {},
   "outputs": [
    {
     "data": {
      "text/html": [
       "<div><style>\n",
       ".dataframe > thead > tr,\n",
       ".dataframe > tbody > tr {\n",
       "  text-align: right;\n",
       "  white-space: pre-wrap;\n",
       "}\n",
       "</style>\n",
       "<small>shape: (5, 13)</small><table border=\"1\" class=\"dataframe\"><thead><tr><th>customer_id</th><th>customer_name</th><th>gender_cd</th><th>gender</th><th>birth_day</th><th>age</th><th>postal_cd</th><th>address</th><th>application_store_cd</th><th>application_date</th><th>status_cd</th><th>longitude</th><th>latitude</th></tr><tr><td>str</td><td>str</td><td>str</td><td>str</td><td>str</td><td>i64</td><td>str</td><td>str</td><td>str</td><td>str</td><td>str</td><td>f64</td><td>f64</td></tr></thead><tbody><tr><td>&quot;CS001105000001…</td><td>&quot;中島 利夫&quot;</td><td>&quot;0&quot;</td><td>&quot;男性&quot;</td><td>&quot;2000-01-14&quot;</td><td>19</td><td>&quot;144-0056&quot;</td><td>&quot;東京都大田区西六郷*****…</td><td>&quot;S13001&quot;</td><td>&quot;20170310&quot;</td><td>&quot;0-00000000-0&quot;</td><td>139.70238</td><td>35.54137</td></tr><tr><td>&quot;CS001112000009…</td><td>&quot;秦 美里&quot;</td><td>&quot;1&quot;</td><td>&quot;女性&quot;</td><td>&quot;2006-08-24&quot;</td><td>12</td><td>&quot;143-0026&quot;</td><td>&quot;東京都大田区西馬込*****…</td><td>&quot;S13001&quot;</td><td>&quot;20150703&quot;</td><td>&quot;0-00000000-0&quot;</td><td>139.70386</td><td>35.5867</td></tr><tr><td>&quot;CS001112000019…</td><td>&quot;門脇 莉沙&quot;</td><td>&quot;1&quot;</td><td>&quot;女性&quot;</td><td>&quot;2001-01-31&quot;</td><td>18</td><td>&quot;143-0004&quot;</td><td>&quot;東京都大田区昭和島*****…</td><td>&quot;S13001&quot;</td><td>&quot;20170207&quot;</td><td>&quot;0-00000000-0&quot;</td><td>139.74687</td><td>35.57153</td></tr><tr><td>&quot;CS001112000021…</td><td>&quot;長澤 麗奈&quot;</td><td>&quot;1&quot;</td><td>&quot;女性&quot;</td><td>&quot;2001-12-15&quot;</td><td>17</td><td>&quot;144-0056&quot;</td><td>&quot;東京都大田区西六郷*****…</td><td>&quot;S13001&quot;</td><td>&quot;20170612&quot;</td><td>&quot;0-00000000-0&quot;</td><td>139.70238</td><td>35.54137</td></tr><tr><td>&quot;CS001112000023…</td><td>&quot;戸田 一恵&quot;</td><td>&quot;1&quot;</td><td>&quot;女性&quot;</td><td>&quot;2004-01-26&quot;</td><td>15</td><td>&quot;143-0004&quot;</td><td>&quot;東京都大田区昭和島*****…</td><td>&quot;S13001&quot;</td><td>&quot;20170724&quot;</td><td>&quot;0-00000000-0&quot;</td><td>139.74687</td><td>35.57153</td></tr></tbody></table></div>"
      ],
      "text/plain": [
       "shape: (5, 13)\n",
       "┌────────────┬────────────┬───────────┬────────┬───┬────────────┬───────────┬───────────┬──────────┐\n",
       "│ customer_i ┆ customer_n ┆ gender_cd ┆ gender ┆ … ┆ applicatio ┆ status_cd ┆ longitude ┆ latitude │\n",
       "│ d          ┆ ame        ┆ ---       ┆ ---    ┆   ┆ n_date     ┆ ---       ┆ ---       ┆ ---      │\n",
       "│ ---        ┆ ---        ┆ str       ┆ str    ┆   ┆ ---        ┆ str       ┆ f64       ┆ f64      │\n",
       "│ str        ┆ str        ┆           ┆        ┆   ┆ str        ┆           ┆           ┆          │\n",
       "╞════════════╪════════════╪═══════════╪════════╪═══╪════════════╪═══════════╪═══════════╪══════════╡\n",
       "│ CS00110500 ┆ 中島 利夫  ┆ 0         ┆ 男性   ┆ … ┆ 20170310   ┆ 0-0000000 ┆ 139.70238 ┆ 35.54137 │\n",
       "│ 0001       ┆            ┆           ┆        ┆   ┆            ┆ 0-0       ┆           ┆          │\n",
       "│ CS00111200 ┆ 秦 美里    ┆ 1         ┆ 女性   ┆ … ┆ 20150703   ┆ 0-0000000 ┆ 139.70386 ┆ 35.5867  │\n",
       "│ 0009       ┆            ┆           ┆        ┆   ┆            ┆ 0-0       ┆           ┆          │\n",
       "│ CS00111200 ┆ 門脇 莉沙  ┆ 1         ┆ 女性   ┆ … ┆ 20170207   ┆ 0-0000000 ┆ 139.74687 ┆ 35.57153 │\n",
       "│ 0019       ┆            ┆           ┆        ┆   ┆            ┆ 0-0       ┆           ┆          │\n",
       "│ CS00111200 ┆ 長澤 麗奈  ┆ 1         ┆ 女性   ┆ … ┆ 20170612   ┆ 0-0000000 ┆ 139.70238 ┆ 35.54137 │\n",
       "│ 0021       ┆            ┆           ┆        ┆   ┆            ┆ 0-0       ┆           ┆          │\n",
       "│ CS00111200 ┆ 戸田 一恵  ┆ 1         ┆ 女性   ┆ … ┆ 20170724   ┆ 0-0000000 ┆ 139.74687 ┆ 35.57153 │\n",
       "│ 0023       ┆            ┆           ┆        ┆   ┆            ┆ 0-0       ┆           ┆          │\n",
       "└────────────┴────────────┴───────────┴────────┴───┴────────────┴───────────┴───────────┴──────────┘"
      ]
     },
     "execution_count": 101,
     "metadata": {},
     "output_type": "execute_result"
    }
   ],
   "source": [
    "df_085 = df_customer.join(\n",
    "    df_geocode.group_by(\"postal_cd\").agg(\n",
    "        pl.col(\"longitude\").mean(), pl.col(\"latitude\").mean()\n",
    "    ),\n",
    "    how=\"inner\",\n",
    "    on=\"postal_cd\",\n",
    ").sort(\"customer_id\")\n",
    "\n",
    "df_085.head()"
   ]
  },
  {
   "attachments": {},
   "cell_type": "markdown",
   "metadata": {},
   "source": [
    "---\n",
    "> P-086: 085で作成した緯度経度つき顧客データに対し、会員申込店舗コード（application_store_cd）をキーに店舗データ（df_store）と結合せよ。そして申込み店舗の緯度（latitude）・経度情報（longitude)と顧客住所（address）の緯度・経度を用いて申込み店舗と顧客住所の距離（単位：km）を求め、顧客ID（customer_id）、顧客住所（address）、店舗住所（address）とともに表示せよ。計算式は以下の簡易式で良いものとするが、その他精度の高い方式を利用したライブラリを利用してもかまわない。結果は10件表示せよ。\n",
    "\n",
    "$$\n",
    "\\begin{aligned}\n",
    "& longitude(radian)：\\phi \\\\\n",
    "& latitude(radian)：\\lambda \\\\\n",
    "& distance, L = 6371 * \\arccos(\\sin \\phi_1 * \\sin \\phi_2 + \\cos \\phi_1 * \\cos \\phi_2 * \\cos(\\lambda_1 − \\lambda_2))\n",
    "\\end{aligned}\n",
    "$$"
   ]
  },
  {
   "cell_type": "code",
   "execution_count": 102,
   "metadata": {},
   "outputs": [
    {
     "data": {
      "text/html": [
       "<div><style>\n",
       ".dataframe > thead > tr,\n",
       ".dataframe > tbody > tr {\n",
       "  text-align: right;\n",
       "  white-space: pre-wrap;\n",
       "}\n",
       "</style>\n",
       "<small>shape: (5, 4)</small><table border=\"1\" class=\"dataframe\"><thead><tr><th>customer_id</th><th>customer_address</th><th>address_store</th><th>distance</th></tr><tr><td>str</td><td>str</td><td>str</td><td>f64</td></tr></thead><tbody><tr><td>&quot;CS001105000001…</td><td>&quot;東京都大田区西六郷*****…</td><td>&quot;東京都大田区仲六郷二丁目&quot;</td><td>1.479789</td></tr><tr><td>&quot;CS001112000009…</td><td>&quot;東京都大田区西馬込*****…</td><td>&quot;東京都大田区仲六郷二丁目&quot;</td><td>4.020495</td></tr><tr><td>&quot;CS001112000019…</td><td>&quot;東京都大田区昭和島*****…</td><td>&quot;東京都大田区仲六郷二丁目&quot;</td><td>3.783015</td></tr><tr><td>&quot;CS001112000021…</td><td>&quot;東京都大田区西六郷*****…</td><td>&quot;東京都大田区仲六郷二丁目&quot;</td><td>1.479789</td></tr><tr><td>&quot;CS001112000023…</td><td>&quot;東京都大田区昭和島*****…</td><td>&quot;東京都大田区仲六郷二丁目&quot;</td><td>3.783015</td></tr></tbody></table></div>"
      ],
      "text/plain": [
       "shape: (5, 4)\n",
       "┌────────────────┬──────────────────────────────┬──────────────────────────┬──────────┐\n",
       "│ customer_id    ┆ customer_address             ┆ address_store            ┆ distance │\n",
       "│ ---            ┆ ---                          ┆ ---                      ┆ ---      │\n",
       "│ str            ┆ str                          ┆ str                      ┆ f64      │\n",
       "╞════════════════╪══════════════════════════════╪══════════════════════════╪══════════╡\n",
       "│ CS001105000001 ┆ 東京都大田区西六郷********** ┆ 東京都大田区仲六郷二丁目 ┆ 1.479789 │\n",
       "│ CS001112000009 ┆ 東京都大田区西馬込********** ┆ 東京都大田区仲六郷二丁目 ┆ 4.020495 │\n",
       "│ CS001112000019 ┆ 東京都大田区昭和島********** ┆ 東京都大田区仲六郷二丁目 ┆ 3.783015 │\n",
       "│ CS001112000021 ┆ 東京都大田区西六郷********** ┆ 東京都大田区仲六郷二丁目 ┆ 1.479789 │\n",
       "│ CS001112000023 ┆ 東京都大田区昭和島********** ┆ 東京都大田区仲六郷二丁目 ┆ 3.783015 │\n",
       "└────────────────┴──────────────────────────────┴──────────────────────────┴──────────┘"
      ]
     },
     "execution_count": 102,
     "metadata": {},
     "output_type": "execute_result"
    }
   ],
   "source": [
    "df_086 = (\n",
    "    df_085\n",
    "    # .join(df_store.rename({\"store_cd\":\"application_store_cd\",\n",
    "    #                        \"longitude\":\"store_longitude\",\n",
    "    #                        \"latitude\":\"store_latitude\",\n",
    "    #                        \"address\":\"store_address\"}),\n",
    "    #       how=\"inner\", on=\"application_store_cd\")\n",
    "    .join(\n",
    "        df_store,\n",
    "        how=\"inner\",\n",
    "        suffix=\"_store\",\n",
    "        left_on=\"application_store_cd\",\n",
    "        right_on=\"store_cd\",\n",
    "    )\n",
    "    .select(\n",
    "        \"customer_id\",\n",
    "        pl.col(\"address\").alias(\"customer_address\"),\n",
    "        \"address_store\",\n",
    "        (\n",
    "            6371\n",
    "            * (\n",
    "                (math.pi * pl.col(\"latitude\") / 180).sin()\n",
    "                * (math.pi * pl.col(\"latitude_store\") / 180).sin()\n",
    "                + (math.pi * pl.col(\"latitude\") / 180).cos()\n",
    "                * (math.pi * pl.col(\"latitude_store\") / 180).cos()\n",
    "                * (\n",
    "                    math.pi * (pl.col(\"longitude\") - pl.col(\"longitude_store\")) / 180\n",
    "                ).cos()\n",
    "            ).arccos()\n",
    "        ).alias(\"distance\"),\n",
    "    )\n",
    "    .sort(\"customer_id\")\n",
    ")\n",
    "\n",
    "df_086.head()"
   ]
  },
  {
   "cell_type": "code",
   "execution_count": 103,
   "metadata": {},
   "outputs": [
    {
     "data": {
      "text/html": [
       "<div><style>\n",
       ".dataframe > thead > tr,\n",
       ".dataframe > tbody > tr {\n",
       "  text-align: right;\n",
       "  white-space: pre-wrap;\n",
       "}\n",
       "</style>\n",
       "<small>shape: (5, 4)</small><table border=\"1\" class=\"dataframe\"><thead><tr><th>customer_id</th><th>address</th><th>address_store</th><th>distance</th></tr><tr><td>str</td><td>str</td><td>str</td><td>f64</td></tr></thead><tbody><tr><td>&quot;CS001105000001…</td><td>&quot;東京都大田区西六郷*****…</td><td>&quot;東京都大田区仲六郷二丁目&quot;</td><td>1.479789</td></tr><tr><td>&quot;CS001112000009…</td><td>&quot;東京都大田区西馬込*****…</td><td>&quot;東京都大田区仲六郷二丁目&quot;</td><td>4.020495</td></tr><tr><td>&quot;CS001112000019…</td><td>&quot;東京都大田区昭和島*****…</td><td>&quot;東京都大田区仲六郷二丁目&quot;</td><td>3.783015</td></tr><tr><td>&quot;CS001112000021…</td><td>&quot;東京都大田区西六郷*****…</td><td>&quot;東京都大田区仲六郷二丁目&quot;</td><td>1.479789</td></tr><tr><td>&quot;CS001112000023…</td><td>&quot;東京都大田区昭和島*****…</td><td>&quot;東京都大田区仲六郷二丁目&quot;</td><td>3.783015</td></tr></tbody></table></div>"
      ],
      "text/plain": [
       "shape: (5, 4)\n",
       "┌────────────────┬──────────────────────────────┬──────────────────────────┬──────────┐\n",
       "│ customer_id    ┆ address                      ┆ address_store            ┆ distance │\n",
       "│ ---            ┆ ---                          ┆ ---                      ┆ ---      │\n",
       "│ str            ┆ str                          ┆ str                      ┆ f64      │\n",
       "╞════════════════╪══════════════════════════════╪══════════════════════════╪══════════╡\n",
       "│ CS001105000001 ┆ 東京都大田区西六郷********** ┆ 東京都大田区仲六郷二丁目 ┆ 1.479789 │\n",
       "│ CS001112000009 ┆ 東京都大田区西馬込********** ┆ 東京都大田区仲六郷二丁目 ┆ 4.020495 │\n",
       "│ CS001112000019 ┆ 東京都大田区昭和島********** ┆ 東京都大田区仲六郷二丁目 ┆ 3.783015 │\n",
       "│ CS001112000021 ┆ 東京都大田区西六郷********** ┆ 東京都大田区仲六郷二丁目 ┆ 1.479789 │\n",
       "│ CS001112000023 ┆ 東京都大田区昭和島********** ┆ 東京都大田区仲六郷二丁目 ┆ 3.783015 │\n",
       "└────────────────┴──────────────────────────────┴──────────────────────────┴──────────┘"
      ]
     },
     "execution_count": 103,
     "metadata": {},
     "output_type": "execute_result"
    }
   ],
   "source": [
    "def distance_expr(lon1: str, lat1: str, lon2: str, lat2: str) -> pl.Expr:\n",
    "    # radian = degrees * pi / 180\n",
    "    lon1_rad = pl.col(lon1) * math.pi / 180\n",
    "    lon2_rad = pl.col(lon2) * math.pi / 180\n",
    "    lat1_rad = pl.col(lat1) * math.pi / 180\n",
    "    lat2_rad = pl.col(lat2) * math.pi / 180\n",
    "\n",
    "    return (\n",
    "        6371\n",
    "        * (\n",
    "            lat1_rad.sin() * lat2_rad.sin()\n",
    "            + lat1_rad.cos() * lat2_rad.cos() * (lon1_rad - lon2_rad).cos()\n",
    "        ).arccos()\n",
    "    )\n",
    "\n",
    "\n",
    "df_086 = df_085.join(\n",
    "    df_store,\n",
    "    how=\"inner\",\n",
    "    suffix=\"_store\",\n",
    "    left_on=\"application_store_cd\",\n",
    "    right_on=\"store_cd\",\n",
    ").select(\n",
    "    [\n",
    "        \"customer_id\",\n",
    "        \"address\",\n",
    "        \"address_store\",\n",
    "        distance_expr(\n",
    "            \"longitude\", \"latitude\", \"longitude_store\", \"latitude_store\"\n",
    "        ).alias(\"distance\"),\n",
    "    ]\n",
    ")\n",
    "\n",
    "df_086.head()"
   ]
  },
  {
   "attachments": {},
   "cell_type": "markdown",
   "metadata": {},
   "source": [
    "---\n",
    "> P-087: 顧客データ（df_customer）では、異なる店舗での申込みなどにより同一顧客が複数登録されている。名前（customer_name）と郵便番号（postal_cd）が同じ顧客は同一顧客とみなして1顧客1レコードとなるように名寄せした名寄顧客データを作成し、顧客データの件数、名寄顧客データの件数、重複数を算出せよ。ただし、同一顧客に対しては売上金額合計が最も高いものを残し、売上金額合計が同一もしくは売上実績がない顧客については顧客ID（customer_id）の番号が小さいものを残すこととする。"
   ]
  },
  {
   "cell_type": "code",
   "execution_count": 104,
   "metadata": {},
   "outputs": [
    {
     "name": "stdout",
     "output_type": "stream",
     "text": [
      "df_customer_cnt: 21971 df_customer_u_cnt: 21941 diff: 30\n"
     ]
    },
    {
     "data": {
      "text/html": [
       "<div><style>\n",
       ".dataframe > thead > tr,\n",
       ".dataframe > tbody > tr {\n",
       "  text-align: right;\n",
       "  white-space: pre-wrap;\n",
       "}\n",
       "</style>\n",
       "<small>shape: (5, 12)</small><table border=\"1\" class=\"dataframe\"><thead><tr><th>customer_id</th><th>amount</th><th>customer_name</th><th>gender_cd</th><th>gender</th><th>birth_day</th><th>age</th><th>postal_cd</th><th>address</th><th>application_store_cd</th><th>application_date</th><th>status_cd</th></tr><tr><td>str</td><td>i64</td><td>str</td><td>str</td><td>str</td><td>str</td><td>i64</td><td>str</td><td>str</td><td>str</td><td>str</td><td>str</td></tr></thead><tbody><tr><td>&quot;CS017415000097…</td><td>23086</td><td>&quot;福士 千夏&quot;</td><td>&quot;1&quot;</td><td>&quot;女性&quot;</td><td>&quot;1973-04-03&quot;</td><td>45</td><td>&quot;166-0014&quot;</td><td>&quot;東京都杉並区松ノ木*****…</td><td>&quot;S13017&quot;</td><td>&quot;20151209&quot;</td><td>&quot;F-20101006-F&quot;</td></tr><tr><td>&quot;CS015415000185…</td><td>20153</td><td>&quot;岩淵 はるみ&quot;</td><td>&quot;1&quot;</td><td>&quot;女性&quot;</td><td>&quot;1973-09-19&quot;</td><td>45</td><td>&quot;135-0043&quot;</td><td>&quot;東京都江東区塩浜******…</td><td>&quot;S13015&quot;</td><td>&quot;20150322&quot;</td><td>&quot;F-20101014-F&quot;</td></tr><tr><td>&quot;CS031414000051…</td><td>19202</td><td>&quot;長澤 沙知絵&quot;</td><td>&quot;1&quot;</td><td>&quot;女性&quot;</td><td>&quot;1973-04-25&quot;</td><td>45</td><td>&quot;151-0064&quot;</td><td>&quot;東京都渋谷区上原******…</td><td>&quot;S13031&quot;</td><td>&quot;20150823&quot;</td><td>&quot;F-20101009-F&quot;</td></tr><tr><td>&quot;CS028415000007…</td><td>19127</td><td>&quot;紺野 あい&quot;</td><td>&quot;1&quot;</td><td>&quot;女性&quot;</td><td>&quot;1969-07-28&quot;</td><td>49</td><td>&quot;246-0023&quot;</td><td>&quot;神奈川県横浜市瀬谷区阿久和東…</td><td>&quot;S14028&quot;</td><td>&quot;20151212&quot;</td><td>&quot;F-20100922-F&quot;</td></tr><tr><td>&quot;CS001605000009…</td><td>18925</td><td>&quot;安部 耕司&quot;</td><td>&quot;0&quot;</td><td>&quot;男性&quot;</td><td>&quot;1952-10-22&quot;</td><td>66</td><td>&quot;144-0035&quot;</td><td>&quot;東京都大田区南蒲田*****…</td><td>&quot;S13001&quot;</td><td>&quot;20160203&quot;</td><td>&quot;F-20101019-E&quot;</td></tr></tbody></table></div>"
      ],
      "text/plain": [
       "shape: (5, 12)\n",
       "┌────────────┬────────┬────────────┬───────────┬───┬───────────┬───────────┬───────────┬───────────┐\n",
       "│ customer_i ┆ amount ┆ customer_n ┆ gender_cd ┆ … ┆ address   ┆ applicati ┆ applicati ┆ status_cd │\n",
       "│ d          ┆ ---    ┆ ame        ┆ ---       ┆   ┆ ---       ┆ on_store_ ┆ on_date   ┆ ---       │\n",
       "│ ---        ┆ i64    ┆ ---        ┆ str       ┆   ┆ str       ┆ cd        ┆ ---       ┆ str       │\n",
       "│ str        ┆        ┆ str        ┆           ┆   ┆           ┆ ---       ┆ str       ┆           │\n",
       "│            ┆        ┆            ┆           ┆   ┆           ┆ str       ┆           ┆           │\n",
       "╞════════════╪════════╪════════════╪═══════════╪═══╪═══════════╪═══════════╪═══════════╪═══════════╡\n",
       "│ CS01741500 ┆ 23086  ┆ 福士 千夏  ┆ 1         ┆ … ┆ 東京都杉  ┆ S13017    ┆ 20151209  ┆ F-2010100 │\n",
       "│ 0097       ┆        ┆            ┆           ┆   ┆ 並区松ノ  ┆           ┆           ┆ 6-F       │\n",
       "│            ┆        ┆            ┆           ┆   ┆ 木******* ┆           ┆           ┆           │\n",
       "│            ┆        ┆            ┆           ┆   ┆ ***       ┆           ┆           ┆           │\n",
       "│ CS01541500 ┆ 20153  ┆ 岩淵       ┆ 1         ┆ … ┆ 東京都江  ┆ S13015    ┆ 20150322  ┆ F-2010101 │\n",
       "│ 0185       ┆        ┆ はるみ     ┆           ┆   ┆ 東区塩浜* ┆           ┆           ┆ 4-F       │\n",
       "│            ┆        ┆            ┆           ┆   ┆ ********* ┆           ┆           ┆           │\n",
       "│ CS03141400 ┆ 19202  ┆ 長澤       ┆ 1         ┆ … ┆ 東京都渋  ┆ S13031    ┆ 20150823  ┆ F-2010100 │\n",
       "│ 0051       ┆        ┆ 沙知絵     ┆           ┆   ┆ 谷区上原* ┆           ┆           ┆ 9-F       │\n",
       "│            ┆        ┆            ┆           ┆   ┆ ********* ┆           ┆           ┆           │\n",
       "│ CS02841500 ┆ 19127  ┆ 紺野 あい  ┆ 1         ┆ … ┆ 神奈川県  ┆ S14028    ┆ 20151212  ┆ F-2010092 │\n",
       "│ 0007       ┆        ┆            ┆           ┆   ┆ 横浜市瀬  ┆           ┆           ┆ 2-F       │\n",
       "│            ┆        ┆            ┆           ┆   ┆ 谷区阿久  ┆           ┆           ┆           │\n",
       "│            ┆        ┆            ┆           ┆   ┆ 和東***** ┆           ┆           ┆           │\n",
       "│            ┆        ┆            ┆           ┆   ┆ *****     ┆           ┆           ┆           │\n",
       "│ CS00160500 ┆ 18925  ┆ 安部 耕司  ┆ 0         ┆ … ┆ 東京都大  ┆ S13001    ┆ 20160203  ┆ F-2010101 │\n",
       "│ 0009       ┆        ┆            ┆           ┆   ┆ 田区南蒲  ┆           ┆           ┆ 9-E       │\n",
       "│            ┆        ┆            ┆           ┆   ┆ 田******* ┆           ┆           ┆           │\n",
       "│            ┆        ┆            ┆           ┆   ┆ ***       ┆           ┆           ┆           │\n",
       "└────────────┴────────┴────────────┴───────────┴───┴───────────┴───────────┴───────────┴───────────┘"
      ]
     },
     "metadata": {},
     "output_type": "display_data"
    }
   ],
   "source": [
    "df_087 = (\n",
    "    df_receipt.group_by(\"customer_id\")\n",
    "    .agg(pl.col(\"amount\").sum())\n",
    "    .join(df_customer, how=\"outer\", on=\"customer_id\")\n",
    "    .filter(pl.col(\"customer_id\").str.starts_with(\"Z\").not_())\n",
    "    .sort(\n",
    "        [\"amount\", \"customer_id\"], descending=[True, False]\n",
    "    )  # amountは大きい、coustomer_idは小さいの順\n",
    "    .unique(\n",
    "        subset=[\"customer_name\", \"postal_cd\"], maintain_order=True\n",
    "    )  # subset:識別する列を選択する, unique()は最初の行を残す\n",
    ")\n",
    "print(\n",
    "    f\"df_customer_cnt: {len(df_customer)}\",\n",
    "    f\"df_customer_u_cnt: {len(df_087)}\",\n",
    "    f\"diff: {len(df_customer) - len(df_087)}\",\n",
    ")\n",
    "display(df_087.head())"
   ]
  },
  {
   "attachments": {},
   "cell_type": "markdown",
   "metadata": {},
   "source": [
    "---\n",
    "> P-088: 087で作成したデータを元に、顧客データに統合名寄IDを付与したデータを作成せよ。ただし、統合名寄IDは以下の仕様で付与するものとする。\n",
    ">\n",
    "> - 重複していない顧客：顧客ID（customer_id）を設定\n",
    "> - 重複している顧客：前設問で抽出したレコードの顧客IDを設定\n",
    "> \n",
    "> 顧客IDのユニーク件数と、統合名寄IDのユニーク件数の差も確認すること。"
   ]
  },
  {
   "cell_type": "code",
   "execution_count": 105,
   "metadata": {},
   "outputs": [
    {
     "name": "stdout",
     "output_type": "stream",
     "text": [
      "IDの差: 30\n"
     ]
    },
    {
     "data": {
      "text/html": [
       "<div><style>\n",
       ".dataframe > thead > tr,\n",
       ".dataframe > tbody > tr {\n",
       "  text-align: right;\n",
       "  white-space: pre-wrap;\n",
       "}\n",
       "</style>\n",
       "<small>shape: (5, 12)</small><table border=\"1\" class=\"dataframe\"><thead><tr><th>customer_id</th><th>customer_name</th><th>gender_cd</th><th>gender</th><th>birth_day</th><th>age</th><th>postal_cd</th><th>address</th><th>application_store_cd</th><th>application_date</th><th>status_cd</th><th>integration_id</th></tr><tr><td>str</td><td>str</td><td>str</td><td>str</td><td>str</td><td>i64</td><td>str</td><td>str</td><td>str</td><td>str</td><td>str</td><td>str</td></tr></thead><tbody><tr><td>&quot;CS021313000114…</td><td>&quot;大野 あや子&quot;</td><td>&quot;1&quot;</td><td>&quot;女性&quot;</td><td>&quot;1981-04-29&quot;</td><td>37</td><td>&quot;259-1113&quot;</td><td>&quot;神奈川県伊勢原市粟窪****…</td><td>&quot;S14021&quot;</td><td>&quot;20150905&quot;</td><td>&quot;0-00000000-0&quot;</td><td>&quot;CS021313000114…</td></tr><tr><td>&quot;CS037613000071…</td><td>&quot;六角 雅彦&quot;</td><td>&quot;9&quot;</td><td>&quot;不明&quot;</td><td>&quot;1952-04-01&quot;</td><td>66</td><td>&quot;136-0076&quot;</td><td>&quot;東京都江東区南砂******…</td><td>&quot;S13037&quot;</td><td>&quot;20150414&quot;</td><td>&quot;0-00000000-0&quot;</td><td>&quot;CS037613000071…</td></tr><tr><td>&quot;CS031415000172…</td><td>&quot;宇多田 貴美子&quot;</td><td>&quot;1&quot;</td><td>&quot;女性&quot;</td><td>&quot;1976-10-04&quot;</td><td>42</td><td>&quot;151-0053&quot;</td><td>&quot;東京都渋谷区代々木*****…</td><td>&quot;S13031&quot;</td><td>&quot;20150529&quot;</td><td>&quot;D-20100325-C&quot;</td><td>&quot;CS031415000172…</td></tr><tr><td>&quot;CS028811000001…</td><td>&quot;堀井 かおり&quot;</td><td>&quot;1&quot;</td><td>&quot;女性&quot;</td><td>&quot;1933-03-27&quot;</td><td>86</td><td>&quot;245-0016&quot;</td><td>&quot;神奈川県横浜市泉区和泉町**…</td><td>&quot;S14028&quot;</td><td>&quot;20160115&quot;</td><td>&quot;0-00000000-0&quot;</td><td>&quot;CS028811000001…</td></tr><tr><td>&quot;CS001215000145…</td><td>&quot;田崎 美紀&quot;</td><td>&quot;1&quot;</td><td>&quot;女性&quot;</td><td>&quot;1995-03-29&quot;</td><td>24</td><td>&quot;144-0055&quot;</td><td>&quot;東京都大田区仲六郷*****…</td><td>&quot;S13001&quot;</td><td>&quot;20170605&quot;</td><td>&quot;6-20090929-2&quot;</td><td>&quot;CS001215000145…</td></tr></tbody></table></div>"
      ],
      "text/plain": [
       "shape: (5, 12)\n",
       "┌────────────┬────────────┬───────────┬────────┬───┬───────────┬───────────┬───────────┬───────────┐\n",
       "│ customer_i ┆ customer_n ┆ gender_cd ┆ gender ┆ … ┆ applicati ┆ applicati ┆ status_cd ┆ integrati │\n",
       "│ d          ┆ ame        ┆ ---       ┆ ---    ┆   ┆ on_store_ ┆ on_date   ┆ ---       ┆ on_id     │\n",
       "│ ---        ┆ ---        ┆ str       ┆ str    ┆   ┆ cd        ┆ ---       ┆ str       ┆ ---       │\n",
       "│ str        ┆ str        ┆           ┆        ┆   ┆ ---       ┆ str       ┆           ┆ str       │\n",
       "│            ┆            ┆           ┆        ┆   ┆ str       ┆           ┆           ┆           │\n",
       "╞════════════╪════════════╪═══════════╪════════╪═══╪═══════════╪═══════════╪═══════════╪═══════════╡\n",
       "│ CS02131300 ┆ 大野       ┆ 1         ┆ 女性   ┆ … ┆ S14021    ┆ 20150905  ┆ 0-0000000 ┆ CS0213130 │\n",
       "│ 0114       ┆ あや子     ┆           ┆        ┆   ┆           ┆           ┆ 0-0       ┆ 00114     │\n",
       "│ CS03761300 ┆ 六角 雅彦  ┆ 9         ┆ 不明   ┆ … ┆ S13037    ┆ 20150414  ┆ 0-0000000 ┆ CS0376130 │\n",
       "│ 0071       ┆            ┆           ┆        ┆   ┆           ┆           ┆ 0-0       ┆ 00071     │\n",
       "│ CS03141500 ┆ 宇多田     ┆ 1         ┆ 女性   ┆ … ┆ S13031    ┆ 20150529  ┆ D-2010032 ┆ CS0314150 │\n",
       "│ 0172       ┆ 貴美子     ┆           ┆        ┆   ┆           ┆           ┆ 5-C       ┆ 00172     │\n",
       "│ CS02881100 ┆ 堀井       ┆ 1         ┆ 女性   ┆ … ┆ S14028    ┆ 20160115  ┆ 0-0000000 ┆ CS0288110 │\n",
       "│ 0001       ┆ かおり     ┆           ┆        ┆   ┆           ┆           ┆ 0-0       ┆ 00001     │\n",
       "│ CS00121500 ┆ 田崎 美紀  ┆ 1         ┆ 女性   ┆ … ┆ S13001    ┆ 20170605  ┆ 6-2009092 ┆ CS0012150 │\n",
       "│ 0145       ┆            ┆           ┆        ┆   ┆           ┆           ┆ 9-2       ┆ 00145     │\n",
       "└────────────┴────────────┴───────────┴────────┴───┴───────────┴───────────┴───────────┴───────────┘"
      ]
     },
     "execution_count": 105,
     "metadata": {},
     "output_type": "execute_result"
    }
   ],
   "source": [
    "df_088 = df_customer.join(\n",
    "    df_087.select(\"customer_name\", \"postal_cd\", \"customer_id\"),\n",
    "    how=\"inner\",\n",
    "    on=[\"customer_name\", \"postal_cd\"],\n",
    ").rename({\"customer_id_right\": \"integration_id\"})\n",
    "\n",
    "diff = len(df_088.get_column(\"customer_id\").unique()) - len(\n",
    "    df_088.get_column(\"integration_id\").unique()\n",
    ")\n",
    "\n",
    "print(\"IDの差:\", diff)\n",
    "df_088.head()"
   ]
  },
  {
   "attachments": {},
   "cell_type": "markdown",
   "metadata": {},
   "source": [
    "---\n",
    "> P-089: 売上実績がある顧客を、予測モデル構築のため学習用データとテスト用データに分割したい。それぞれ8:2の割合でランダムにデータを分割せよ。"
   ]
  },
  {
   "cell_type": "code",
   "execution_count": 106,
   "metadata": {},
   "outputs": [
    {
     "name": "stdout",
     "output_type": "stream",
     "text": [
      "学習データ割合: 0.7999277717587576\n",
      "テストデータ割合: 0.20007222824124232\n"
     ]
    },
    {
     "data": {
      "text/html": [
       "<div><style>\n",
       ".dataframe > thead > tr,\n",
       ".dataframe > tbody > tr {\n",
       "  text-align: right;\n",
       "  white-space: pre-wrap;\n",
       "}\n",
       "</style>\n",
       "<small>shape: (5, 2)</small><table border=\"1\" class=\"dataframe\"><thead><tr><th>customer_id</th><th>amount</th></tr><tr><td>str</td><td>i64</td></tr></thead><tbody><tr><td>&quot;CS040314000065…</td><td>243</td></tr><tr><td>&quot;CS030614000005…</td><td>448</td></tr><tr><td>&quot;CS014315000058…</td><td>1348</td></tr><tr><td>&quot;CS005601000008…</td><td>466</td></tr><tr><td>&quot;CS020515000228…</td><td>2302</td></tr></tbody></table></div>"
      ],
      "text/plain": [
       "shape: (5, 2)\n",
       "┌────────────────┬────────┐\n",
       "│ customer_id    ┆ amount │\n",
       "│ ---            ┆ ---    │\n",
       "│ str            ┆ i64    │\n",
       "╞════════════════╪════════╡\n",
       "│ CS040314000065 ┆ 243    │\n",
       "│ CS030614000005 ┆ 448    │\n",
       "│ CS014315000058 ┆ 1348   │\n",
       "│ CS005601000008 ┆ 466    │\n",
       "│ CS020515000228 ┆ 2302   │\n",
       "└────────────────┴────────┘"
      ]
     },
     "metadata": {},
     "output_type": "display_data"
    }
   ],
   "source": [
    "df_089 = (\n",
    "    df_receipt.group_by(\"customer_id\")\n",
    "    .agg(pl.col(\"amount\").sum())\n",
    "    .filter(pl.col(\"amount\") > 0)\n",
    ")\n",
    "\n",
    "df_train, df_test = train_test_split(df_089, test_size=0.2, random_state=71)\n",
    "\n",
    "print(f\"学習データ割合: {len(df_train)/len(df_089)}\")\n",
    "print(f\"テストデータ割合: {len(df_test)/len(df_089)}\")\n",
    "display(df_test.head())"
   ]
  },
  {
   "cell_type": "code",
   "execution_count": 107,
   "metadata": {},
   "outputs": [
    {
     "name": "stdout",
     "output_type": "stream",
     "text": [
      "学習データ割合: 0.19995184783917178\n",
      "テストデータ割合: 0.8000481521608283\n"
     ]
    },
    {
     "data": {
      "text/html": [
       "<div><style>\n",
       ".dataframe > thead > tr,\n",
       ".dataframe > tbody > tr {\n",
       "  text-align: right;\n",
       "  white-space: pre-wrap;\n",
       "}\n",
       "</style>\n",
       "<small>shape: (5, 3)</small><table border=\"1\" class=\"dataframe\"><thead><tr><th>index</th><th>customer_id</th><th>amount</th></tr><tr><td>bool</td><td>str</td><td>i64</td></tr></thead><tbody><tr><td>false</td><td>&quot;CS019513000065…</td><td>1129</td></tr><tr><td>true</td><td>&quot;CS009413000056…</td><td>383</td></tr><tr><td>true</td><td>&quot;CS023211000003…</td><td>861</td></tr><tr><td>true</td><td>&quot;CS019315000036…</td><td>2024</td></tr><tr><td>true</td><td>&quot;CS010415000009…</td><td>4125</td></tr></tbody></table></div>"
      ],
      "text/plain": [
       "shape: (5, 3)\n",
       "┌───────┬────────────────┬────────┐\n",
       "│ index ┆ customer_id    ┆ amount │\n",
       "│ ---   ┆ ---            ┆ ---    │\n",
       "│ bool  ┆ str            ┆ i64    │\n",
       "╞═══════╪════════════════╪════════╡\n",
       "│ false ┆ CS019513000065 ┆ 1129   │\n",
       "│ true  ┆ CS009413000056 ┆ 383    │\n",
       "│ true  ┆ CS023211000003 ┆ 861    │\n",
       "│ true  ┆ CS019315000036 ┆ 2024   │\n",
       "│ true  ┆ CS010415000009 ┆ 4125   │\n",
       "└───────┴────────────────┴────────┘"
      ]
     },
     "metadata": {},
     "output_type": "display_data"
    },
    {
     "data": {
      "text/html": [
       "<div><style>\n",
       ".dataframe > thead > tr,\n",
       ".dataframe > tbody > tr {\n",
       "  text-align: right;\n",
       "  white-space: pre-wrap;\n",
       "}\n",
       "</style>\n",
       "<small>shape: (5, 3)</small><table border=\"1\" class=\"dataframe\"><thead><tr><th>index</th><th>customer_id</th><th>amount</th></tr><tr><td>bool</td><td>str</td><td>i64</td></tr></thead><tbody><tr><td>true</td><td>&quot;CS009413000056…</td><td>383</td></tr><tr><td>true</td><td>&quot;CS023211000003…</td><td>861</td></tr><tr><td>true</td><td>&quot;CS019315000036…</td><td>2024</td></tr><tr><td>true</td><td>&quot;CS010415000009…</td><td>4125</td></tr><tr><td>true</td><td>&quot;CS001413000156…</td><td>203</td></tr></tbody></table></div>"
      ],
      "text/plain": [
       "shape: (5, 3)\n",
       "┌───────┬────────────────┬────────┐\n",
       "│ index ┆ customer_id    ┆ amount │\n",
       "│ ---   ┆ ---            ┆ ---    │\n",
       "│ bool  ┆ str            ┆ i64    │\n",
       "╞═══════╪════════════════╪════════╡\n",
       "│ true  ┆ CS009413000056 ┆ 383    │\n",
       "│ true  ┆ CS023211000003 ┆ 861    │\n",
       "│ true  ┆ CS019315000036 ┆ 2024   │\n",
       "│ true  ┆ CS010415000009 ┆ 4125   │\n",
       "│ true  ┆ CS001413000156 ┆ 203    │\n",
       "└───────┴────────────────┴────────┘"
      ]
     },
     "metadata": {},
     "output_type": "display_data"
    },
    {
     "name": "stdout",
     "output_type": "stream",
     "text": [
      "<class 'polars.dataframe.frame.DataFrame'>\n"
     ]
    }
   ],
   "source": [
    "# polarsの機能でもOK\n",
    "df_089 = (\n",
    "    df_receipt.group_by(\"customer_id\")\n",
    "    .agg(pl.col(\"amount\").sum())\n",
    "    .filter(pl.col(\"amount\") > 0)\n",
    "    .with_row_count(\"index\")  # with_row_countはpandasのindexみたいな列を作れる\n",
    "    .with_columns(\n",
    "        pl.col(\"index\").shuffle(seed=71) < 0.8 * pl.col(\"index\").len()\n",
    "    )  # True, Falseを8:2の割合でシャッフルする\n",
    ")\n",
    "\n",
    "df_train, df_test = df_089.partition_by(by=\"index\")\n",
    "\n",
    "print(f\"学習データ割合: {len(df_train)/len(df_089)}\")\n",
    "print(f\"テストデータ割合: {len(df_test)/len(df_089)}\")\n",
    "display(df_089.head())\n",
    "display(df_test.head())\n",
    "print(type(df_test))"
   ]
  },
  {
   "attachments": {},
   "cell_type": "markdown",
   "metadata": {},
   "source": [
    "---\n",
    "> P-090: レシート明細データ（df_receipt）は2017年1月1日〜2019年10月31日までのデータを有している。売上金額（amount）を月次で集計し、学習用に12ヶ月、テスト用に6ヶ月の時系列モデル構築用データを3セット作成せよ。"
   ]
  },
  {
   "cell_type": "code",
   "execution_count": 108,
   "metadata": {},
   "outputs": [
    {
     "data": {
      "text/html": [
       "<div><style>\n",
       ".dataframe > thead > tr,\n",
       ".dataframe > tbody > tr {\n",
       "  text-align: right;\n",
       "  white-space: pre-wrap;\n",
       "}\n",
       "</style>\n",
       "<small>shape: (5, 2)</small><table border=\"1\" class=\"dataframe\"><thead><tr><th>sales_ym</th><th>amount</th></tr><tr><td>str</td><td>i64</td></tr></thead><tbody><tr><td>&quot;201701&quot;</td><td>902056</td></tr><tr><td>&quot;201702&quot;</td><td>764413</td></tr><tr><td>&quot;201703&quot;</td><td>962945</td></tr><tr><td>&quot;201704&quot;</td><td>847566</td></tr><tr><td>&quot;201705&quot;</td><td>884010</td></tr></tbody></table></div>"
      ],
      "text/plain": [
       "shape: (5, 2)\n",
       "┌──────────┬────────┐\n",
       "│ sales_ym ┆ amount │\n",
       "│ ---      ┆ ---    │\n",
       "│ str      ┆ i64    │\n",
       "╞══════════╪════════╡\n",
       "│ 201701   ┆ 902056 │\n",
       "│ 201702   ┆ 764413 │\n",
       "│ 201703   ┆ 962945 │\n",
       "│ 201704   ┆ 847566 │\n",
       "│ 201705   ┆ 884010 │\n",
       "└──────────┴────────┘"
      ]
     },
     "metadata": {},
     "output_type": "display_data"
    }
   ],
   "source": [
    "df_090 = (\n",
    "    df_receipt.select(\n",
    "        pl.exclude(\"sales_ymd\"),\n",
    "        pl.col(\"sales_ymd\")\n",
    "        .cast(pl.Utf8)\n",
    "        .str.slice(offset=0, length=6)\n",
    "        .alias(\"sales_ym\"),\n",
    "    )\n",
    "    .group_by(\"sales_ym\")\n",
    "    .agg(pl.col(\"amount\").sum())\n",
    "    .sort(\"sales_ym\")\n",
    ")\n",
    "\n",
    "\n",
    "def split_data(\n",
    "    df: pl.DataFrame,\n",
    "    train_size: int,\n",
    "    test_size: int,\n",
    "    slide_window: int,\n",
    "    start_point: int,\n",
    "):\n",
    "    train_start = start_point * slide_window\n",
    "    test_start = train_start + train_size\n",
    "    return df[train_start:test_start], df[test_start : test_start + test_size]\n",
    "\n",
    "\n",
    "df_090_train1, df_090_test1 = split_data(\n",
    "    df_090, train_size=12, test_size=6, slide_window=6, start_point=0\n",
    ")\n",
    "\n",
    "df_090_train2, df_090_test2 = split_data(\n",
    "    df_090, train_size=12, test_size=6, slide_window=6, start_point=1\n",
    ")\n",
    "\n",
    "df_090_train3, df_090_test3 = split_data(\n",
    "    df_090, train_size=12, test_size=6, slide_window=6, start_point=2\n",
    ")\n",
    "\n",
    "display(df_090_train1.head())"
   ]
  },
  {
   "cell_type": "code",
   "execution_count": 109,
   "metadata": {},
   "outputs": [
    {
     "data": {
      "text/html": [
       "<div><style>\n",
       ".dataframe > thead > tr,\n",
       ".dataframe > tbody > tr {\n",
       "  text-align: right;\n",
       "  white-space: pre-wrap;\n",
       "}\n",
       "</style>\n",
       "<small>shape: (5, 2)</small><table border=\"1\" class=\"dataframe\"><thead><tr><th>sales_ym</th><th>amount</th></tr><tr><td>str</td><td>i64</td></tr></thead><tbody><tr><td>&quot;201801&quot;</td><td>944509</td></tr><tr><td>&quot;201802&quot;</td><td>864128</td></tr><tr><td>&quot;201803&quot;</td><td>946588</td></tr><tr><td>&quot;201804&quot;</td><td>937099</td></tr><tr><td>&quot;201805&quot;</td><td>1004438</td></tr></tbody></table></div>"
      ],
      "text/plain": [
       "shape: (5, 2)\n",
       "┌──────────┬─────────┐\n",
       "│ sales_ym ┆ amount  │\n",
       "│ ---      ┆ ---     │\n",
       "│ str      ┆ i64     │\n",
       "╞══════════╪═════════╡\n",
       "│ 201801   ┆ 944509  │\n",
       "│ 201802   ┆ 864128  │\n",
       "│ 201803   ┆ 946588  │\n",
       "│ 201804   ┆ 937099  │\n",
       "│ 201805   ┆ 1004438 │\n",
       "└──────────┴─────────┘"
      ]
     },
     "metadata": {},
     "output_type": "display_data"
    }
   ],
   "source": [
    "display(df_090_test1.head())"
   ]
  },
  {
   "cell_type": "code",
   "execution_count": 110,
   "metadata": {},
   "outputs": [
    {
     "data": {
      "text/html": [
       "<div><style>\n",
       ".dataframe > thead > tr,\n",
       ".dataframe > tbody > tr {\n",
       "  text-align: right;\n",
       "  white-space: pre-wrap;\n",
       "}\n",
       "</style>\n",
       "<small>shape: (5, 2)</small><table border=\"1\" class=\"dataframe\"><thead><tr><th>sales_ym</th><th>amount</th></tr><tr><td>str</td><td>i64</td></tr></thead><tbody><tr><td>&quot;201707&quot;</td><td>959205</td></tr><tr><td>&quot;201708&quot;</td><td>954836</td></tr><tr><td>&quot;201709&quot;</td><td>902037</td></tr><tr><td>&quot;201710&quot;</td><td>905739</td></tr><tr><td>&quot;201711&quot;</td><td>932157</td></tr></tbody></table></div>"
      ],
      "text/plain": [
       "shape: (5, 2)\n",
       "┌──────────┬────────┐\n",
       "│ sales_ym ┆ amount │\n",
       "│ ---      ┆ ---    │\n",
       "│ str      ┆ i64    │\n",
       "╞══════════╪════════╡\n",
       "│ 201707   ┆ 959205 │\n",
       "│ 201708   ┆ 954836 │\n",
       "│ 201709   ┆ 902037 │\n",
       "│ 201710   ┆ 905739 │\n",
       "│ 201711   ┆ 932157 │\n",
       "└──────────┴────────┘"
      ]
     },
     "execution_count": 110,
     "metadata": {},
     "output_type": "execute_result"
    }
   ],
   "source": [
    "df_090_train2.head()"
   ]
  },
  {
   "cell_type": "code",
   "execution_count": 111,
   "metadata": {},
   "outputs": [
    {
     "name": "stdout",
     "output_type": "stream",
     "text": [
      "[ 4  5  6  7  8  9 10 11 12 13 14 15]\n",
      "[10 11 12 13 14 15 16 17 18 19 20 21]\n",
      "[16 17 18 19 20 21 22 23 24 25 26 27]\n"
     ]
    }
   ],
   "source": [
    "# scikit_learnを使った方法\n",
    "tscv = TimeSeriesSplit(gap=0, max_train_size=12, n_splits=3, test_size=6)\n",
    "\n",
    "series_list = []\n",
    "for train_index, test_index in tscv.split(df_090):\n",
    "    print(train_index)\n",
    "    series_list.append((df_090[train_index], df_090[test_index]))\n",
    "\n",
    "df_090_train1, df_090_test1 = series_list[0]\n",
    "df_090_train2, df_090_test2 = series_list[1]\n",
    "df_090_train3, df_090_test3 = series_list[2]"
   ]
  },
  {
   "attachments": {},
   "cell_type": "markdown",
   "metadata": {},
   "source": [
    "---\n",
    "> P-091: 顧客データ（df_customer）の各顧客に対し、売上実績がある顧客数と売上実績がない顧客数が1:1となるようにアンダーサンプリングで抽出せよ。"
   ]
  },
  {
   "cell_type": "code",
   "execution_count": 112,
   "metadata": {},
   "outputs": [
    {
     "name": "stdout",
     "output_type": "stream",
     "text": [
      "0の数: 8306\n",
      "1の数: 8306\n"
     ]
    }
   ],
   "source": [
    "df_091 = (\n",
    "    df_receipt\n",
    "    .group_by(\"customer_id\")\n",
    "    .agg(pl.col(\"amount\").sum())\n",
    "    .join(df_customer, how=\"outer\", on=\"customer_id\")\n",
    "    .filter(pl.col(\"customer_id\").str.starts_with(\"Z\").not_())\n",
    "    .with_columns(pl.col(\"amount\").is_null().alias(\"is_buy_flag\"))\n",
    ")\n",
    "\n",
    "df_091_sampling = df_091.group_by('is_buy_flag').map_groups(\n",
    "    lambda x: x.sample(n=df_091.filter((pl.col('is_buy_flag') == 0)).height)\n",
    ")\n",
    "print(f\"0の数: {len(df_091_sampling.filter(pl.col('is_buy_flag')==False))}\")\n",
    "print(f\"1の数: {len(df_091_sampling.filter(pl.col('is_buy_flag')==True))}\")"
   ]
  },
  {
   "attachments": {},
   "cell_type": "markdown",
   "metadata": {},
   "source": [
    "---\n",
    "> P-092: 顧客データ（df_customer）の性別について、第三正規形へと正規化せよ。\n",
    "\n",
    "- 第1正規形：1つのセルには1つの値しか含まれない　list型などで登録しない\n",
    "- 第2正規形：部分関数従属を排除し、完全関数従属にする　Nullとか無くす\n",
    "- 第3正規形：第2正規形のテーブルから、推移的関数従属している列が切り出されたもの　段階的な従属を無くす"
   ]
  },
  {
   "cell_type": "code",
   "execution_count": 113,
   "metadata": {},
   "outputs": [
    {
     "data": {
      "text/html": [
       "<div><style>\n",
       ".dataframe > thead > tr,\n",
       ".dataframe > tbody > tr {\n",
       "  text-align: right;\n",
       "  white-space: pre-wrap;\n",
       "}\n",
       "</style>\n",
       "<small>shape: (3, 2)</small><table border=\"1\" class=\"dataframe\"><thead><tr><th>gender_cd</th><th>gender</th></tr><tr><td>str</td><td>str</td></tr></thead><tbody><tr><td>&quot;0&quot;</td><td>&quot;男性&quot;</td></tr><tr><td>&quot;9&quot;</td><td>&quot;不明&quot;</td></tr><tr><td>&quot;1&quot;</td><td>&quot;女性&quot;</td></tr></tbody></table></div>"
      ],
      "text/plain": [
       "shape: (3, 2)\n",
       "┌───────────┬────────┐\n",
       "│ gender_cd ┆ gender │\n",
       "│ ---       ┆ ---    │\n",
       "│ str       ┆ str    │\n",
       "╞═══════════╪════════╡\n",
       "│ 0         ┆ 男性   │\n",
       "│ 9         ┆ 不明   │\n",
       "│ 1         ┆ 女性   │\n",
       "└───────────┴────────┘"
      ]
     },
     "metadata": {},
     "output_type": "display_data"
    },
    {
     "data": {
      "text/html": [
       "<div><style>\n",
       ".dataframe > thead > tr,\n",
       ".dataframe > tbody > tr {\n",
       "  text-align: right;\n",
       "  white-space: pre-wrap;\n",
       "}\n",
       "</style>\n",
       "<small>shape: (5, 10)</small><table border=\"1\" class=\"dataframe\"><thead><tr><th>customer_id</th><th>customer_name</th><th>gender_cd</th><th>birth_day</th><th>age</th><th>postal_cd</th><th>address</th><th>application_store_cd</th><th>application_date</th><th>status_cd</th></tr><tr><td>str</td><td>str</td><td>str</td><td>str</td><td>i64</td><td>str</td><td>str</td><td>str</td><td>str</td><td>str</td></tr></thead><tbody><tr><td>&quot;CS021313000114…</td><td>&quot;大野 あや子&quot;</td><td>&quot;1&quot;</td><td>&quot;1981-04-29&quot;</td><td>37</td><td>&quot;259-1113&quot;</td><td>&quot;神奈川県伊勢原市粟窪****…</td><td>&quot;S14021&quot;</td><td>&quot;20150905&quot;</td><td>&quot;0-00000000-0&quot;</td></tr><tr><td>&quot;CS037613000071…</td><td>&quot;六角 雅彦&quot;</td><td>&quot;9&quot;</td><td>&quot;1952-04-01&quot;</td><td>66</td><td>&quot;136-0076&quot;</td><td>&quot;東京都江東区南砂******…</td><td>&quot;S13037&quot;</td><td>&quot;20150414&quot;</td><td>&quot;0-00000000-0&quot;</td></tr><tr><td>&quot;CS031415000172…</td><td>&quot;宇多田 貴美子&quot;</td><td>&quot;1&quot;</td><td>&quot;1976-10-04&quot;</td><td>42</td><td>&quot;151-0053&quot;</td><td>&quot;東京都渋谷区代々木*****…</td><td>&quot;S13031&quot;</td><td>&quot;20150529&quot;</td><td>&quot;D-20100325-C&quot;</td></tr><tr><td>&quot;CS028811000001…</td><td>&quot;堀井 かおり&quot;</td><td>&quot;1&quot;</td><td>&quot;1933-03-27&quot;</td><td>86</td><td>&quot;245-0016&quot;</td><td>&quot;神奈川県横浜市泉区和泉町**…</td><td>&quot;S14028&quot;</td><td>&quot;20160115&quot;</td><td>&quot;0-00000000-0&quot;</td></tr><tr><td>&quot;CS001215000145…</td><td>&quot;田崎 美紀&quot;</td><td>&quot;1&quot;</td><td>&quot;1995-03-29&quot;</td><td>24</td><td>&quot;144-0055&quot;</td><td>&quot;東京都大田区仲六郷*****…</td><td>&quot;S13001&quot;</td><td>&quot;20170605&quot;</td><td>&quot;6-20090929-2&quot;</td></tr></tbody></table></div>"
      ],
      "text/plain": [
       "shape: (5, 10)\n",
       "┌───────────┬───────────┬───────────┬───────────┬───┬───────────┬───────────┬───────────┬──────────┐\n",
       "│ customer_ ┆ customer_ ┆ gender_cd ┆ birth_day ┆ … ┆ address   ┆ applicati ┆ applicati ┆ status_c │\n",
       "│ id        ┆ name      ┆ ---       ┆ ---       ┆   ┆ ---       ┆ on_store_ ┆ on_date   ┆ d        │\n",
       "│ ---       ┆ ---       ┆ str       ┆ str       ┆   ┆ str       ┆ cd        ┆ ---       ┆ ---      │\n",
       "│ str       ┆ str       ┆           ┆           ┆   ┆           ┆ ---       ┆ str       ┆ str      │\n",
       "│           ┆           ┆           ┆           ┆   ┆           ┆ str       ┆           ┆          │\n",
       "╞═══════════╪═══════════╪═══════════╪═══════════╪═══╪═══════════╪═══════════╪═══════════╪══════════╡\n",
       "│ CS0213130 ┆ 大野      ┆ 1         ┆ 1981-04-2 ┆ … ┆ 神奈川県  ┆ S14021    ┆ 20150905  ┆ 0-000000 │\n",
       "│ 00114     ┆ あや子    ┆           ┆ 9         ┆   ┆ 伊勢原市  ┆           ┆           ┆ 00-0     │\n",
       "│           ┆           ┆           ┆           ┆   ┆ 粟窪***** ┆           ┆           ┆          │\n",
       "│           ┆           ┆           ┆           ┆   ┆ *****     ┆           ┆           ┆          │\n",
       "│ CS0376130 ┆ 六角 雅彦 ┆ 9         ┆ 1952-04-0 ┆ … ┆ 東京都江  ┆ S13037    ┆ 20150414  ┆ 0-000000 │\n",
       "│ 00071     ┆           ┆           ┆ 1         ┆   ┆ 東区南砂* ┆           ┆           ┆ 00-0     │\n",
       "│           ┆           ┆           ┆           ┆   ┆ ********* ┆           ┆           ┆          │\n",
       "│ CS0314150 ┆ 宇多田    ┆ 1         ┆ 1976-10-0 ┆ … ┆ 東京都渋  ┆ S13031    ┆ 20150529  ┆ D-201003 │\n",
       "│ 00172     ┆ 貴美子    ┆           ┆ 4         ┆   ┆ 谷区代々  ┆           ┆           ┆ 25-C     │\n",
       "│           ┆           ┆           ┆           ┆   ┆ 木******* ┆           ┆           ┆          │\n",
       "│           ┆           ┆           ┆           ┆   ┆ ***       ┆           ┆           ┆          │\n",
       "│ CS0288110 ┆ 堀井      ┆ 1         ┆ 1933-03-2 ┆ … ┆ 神奈川県  ┆ S14028    ┆ 20160115  ┆ 0-000000 │\n",
       "│ 00001     ┆ かおり    ┆           ┆ 7         ┆   ┆ 横浜市泉  ┆           ┆           ┆ 00-0     │\n",
       "│           ┆           ┆           ┆           ┆   ┆ 区和泉町* ┆           ┆           ┆          │\n",
       "│           ┆           ┆           ┆           ┆   ┆ ********* ┆           ┆           ┆          │\n",
       "│ CS0012150 ┆ 田崎 美紀 ┆ 1         ┆ 1995-03-2 ┆ … ┆ 東京都大  ┆ S13001    ┆ 20170605  ┆ 6-200909 │\n",
       "│ 00145     ┆           ┆           ┆ 9         ┆   ┆ 田区仲六  ┆           ┆           ┆ 29-2     │\n",
       "│           ┆           ┆           ┆           ┆   ┆ 郷******* ┆           ┆           ┆          │\n",
       "│           ┆           ┆           ┆           ┆   ┆ ***       ┆           ┆           ┆          │\n",
       "└───────────┴───────────┴───────────┴───────────┴───┴───────────┴───────────┴───────────┴──────────┘"
      ]
     },
     "metadata": {},
     "output_type": "display_data"
    }
   ],
   "source": [
    "df_092_gender = df_customer.select(\n",
    "    \"gender_cd\", \"gender\"\n",
    ").unique()  # genderはgender_cdの従属関係 -> 切り離す\n",
    "df_092_customer = df_customer.drop(\"gender\")\n",
    "\n",
    "display(df_092_gender)\n",
    "\n",
    "display(df_092_customer.head())"
   ]
  },
  {
   "attachments": {},
   "cell_type": "markdown",
   "metadata": {},
   "source": [
    "---\n",
    "> P-093: 商品データ（df_product）では各カテゴリのコード値だけを保有し、カテゴリ名は保有していない。カテゴリデータ（df_category）と組み合わせて非正規化し、カテゴリ名を保有した新たな商品データを作成せよ。"
   ]
  },
  {
   "cell_type": "code",
   "execution_count": 114,
   "metadata": {},
   "outputs": [
    {
     "data": {
      "text/html": [
       "<div><style>\n",
       ".dataframe > thead > tr,\n",
       ".dataframe > tbody > tr {\n",
       "  text-align: right;\n",
       "  white-space: pre-wrap;\n",
       "}\n",
       "</style>\n",
       "<small>shape: (5, 9)</small><table border=\"1\" class=\"dataframe\"><thead><tr><th>product_cd</th><th>category_major_cd</th><th>category_medium_cd</th><th>category_small_cd</th><th>unit_price</th><th>unit_cost</th><th>category_major_name</th><th>category_medium_name</th><th>category_small_name</th></tr><tr><td>str</td><td>str</td><td>str</td><td>str</td><td>i64</td><td>i64</td><td>str</td><td>str</td><td>str</td></tr></thead><tbody><tr><td>&quot;P040101001&quot;</td><td>&quot;04&quot;</td><td>&quot;0401&quot;</td><td>&quot;040101&quot;</td><td>198</td><td>149</td><td>&quot;惣菜&quot;</td><td>&quot;御飯類&quot;</td><td>&quot;弁当類&quot;</td></tr><tr><td>&quot;P040101002&quot;</td><td>&quot;04&quot;</td><td>&quot;0401&quot;</td><td>&quot;040101&quot;</td><td>218</td><td>164</td><td>&quot;惣菜&quot;</td><td>&quot;御飯類&quot;</td><td>&quot;弁当類&quot;</td></tr><tr><td>&quot;P040101003&quot;</td><td>&quot;04&quot;</td><td>&quot;0401&quot;</td><td>&quot;040101&quot;</td><td>230</td><td>173</td><td>&quot;惣菜&quot;</td><td>&quot;御飯類&quot;</td><td>&quot;弁当類&quot;</td></tr><tr><td>&quot;P040101004&quot;</td><td>&quot;04&quot;</td><td>&quot;0401&quot;</td><td>&quot;040101&quot;</td><td>248</td><td>186</td><td>&quot;惣菜&quot;</td><td>&quot;御飯類&quot;</td><td>&quot;弁当類&quot;</td></tr><tr><td>&quot;P040101005&quot;</td><td>&quot;04&quot;</td><td>&quot;0401&quot;</td><td>&quot;040101&quot;</td><td>268</td><td>201</td><td>&quot;惣菜&quot;</td><td>&quot;御飯類&quot;</td><td>&quot;弁当類&quot;</td></tr></tbody></table></div>"
      ],
      "text/plain": [
       "shape: (5, 9)\n",
       "┌───────────┬───────────┬───────────┬───────────┬───┬───────────┬───────────┬───────────┬──────────┐\n",
       "│ product_c ┆ category_ ┆ category_ ┆ category_ ┆ … ┆ unit_cost ┆ category_ ┆ category_ ┆ category │\n",
       "│ d         ┆ major_cd  ┆ medium_cd ┆ small_cd  ┆   ┆ ---       ┆ major_nam ┆ medium_na ┆ _small_n │\n",
       "│ ---       ┆ ---       ┆ ---       ┆ ---       ┆   ┆ i64       ┆ e         ┆ me        ┆ ame      │\n",
       "│ str       ┆ str       ┆ str       ┆ str       ┆   ┆           ┆ ---       ┆ ---       ┆ ---      │\n",
       "│           ┆           ┆           ┆           ┆   ┆           ┆ str       ┆ str       ┆ str      │\n",
       "╞═══════════╪═══════════╪═══════════╪═══════════╪═══╪═══════════╪═══════════╪═══════════╪══════════╡\n",
       "│ P04010100 ┆ 04        ┆ 0401      ┆ 040101    ┆ … ┆ 149       ┆ 惣菜      ┆ 御飯類    ┆ 弁当類   │\n",
       "│ 1         ┆           ┆           ┆           ┆   ┆           ┆           ┆           ┆          │\n",
       "│ P04010100 ┆ 04        ┆ 0401      ┆ 040101    ┆ … ┆ 164       ┆ 惣菜      ┆ 御飯類    ┆ 弁当類   │\n",
       "│ 2         ┆           ┆           ┆           ┆   ┆           ┆           ┆           ┆          │\n",
       "│ P04010100 ┆ 04        ┆ 0401      ┆ 040101    ┆ … ┆ 173       ┆ 惣菜      ┆ 御飯類    ┆ 弁当類   │\n",
       "│ 3         ┆           ┆           ┆           ┆   ┆           ┆           ┆           ┆          │\n",
       "│ P04010100 ┆ 04        ┆ 0401      ┆ 040101    ┆ … ┆ 186       ┆ 惣菜      ┆ 御飯類    ┆ 弁当類   │\n",
       "│ 4         ┆           ┆           ┆           ┆   ┆           ┆           ┆           ┆          │\n",
       "│ P04010100 ┆ 04        ┆ 0401      ┆ 040101    ┆ … ┆ 201       ┆ 惣菜      ┆ 御飯類    ┆ 弁当類   │\n",
       "│ 5         ┆           ┆           ┆           ┆   ┆           ┆           ┆           ┆          │\n",
       "└───────────┴───────────┴───────────┴───────────┴───┴───────────┴───────────┴───────────┴──────────┘"
      ]
     },
     "execution_count": 114,
     "metadata": {},
     "output_type": "execute_result"
    }
   ],
   "source": [
    "df_093 = df_product.join(\n",
    "    df_category.select(\n",
    "        \"category_small_cd\",\n",
    "        \"category_major_name\",\n",
    "        \"category_medium_name\",\n",
    "        \"category_small_name\",\n",
    "    ),\n",
    "    how=\"left\",\n",
    "    on=\"category_small_cd\",\n",
    ")\n",
    "\n",
    "df_093.head()"
   ]
  },
  {
   "attachments": {},
   "cell_type": "markdown",
   "metadata": {},
   "source": [
    "## ファイル入出力"
   ]
  },
  {
   "attachments": {},
   "cell_type": "markdown",
   "metadata": {},
   "source": [
    "---\n",
    "> P-094: 093で作成したカテゴリ名付き商品データを以下の仕様でファイル出力せよ。\n",
    ">\n",
    "> |ファイル形式|ヘッダ有無|文字エンコーディング|\n",
    "> |:--:|:--:|:--:|\n",
    "> |CSV（カンマ区切り）|有り|UTF-8|\n",
    "> \n",
    "> ファイル出力先のパスは以下のようにすること\n",
    "> \n",
    "> |出力先|\n",
    "> |:--:|\n",
    "> |./data|"
   ]
  },
  {
   "cell_type": "code",
   "execution_count": 115,
   "metadata": {},
   "outputs": [],
   "source": [
    "df_093.write_csv(\n",
    "    file=\"../data/P_df_093_UTF-9_header.csv\",\n",
    "    include_header=True,\n",
    "    separator=\",\"\n",
    ")"
   ]
  },
  {
   "attachments": {},
   "cell_type": "markdown",
   "metadata": {},
   "source": [
    "---\n",
    "> P-095: 093で作成したカテゴリ名付き商品データを以下の仕様でファイル出力せよ。\n",
    ">\n",
    "> |ファイル形式|ヘッダ有無|文字エンコーディング|\n",
    "> |:--:|:--:|:--:|\n",
    "> |CSV（カンマ区切り）|有り|CP932|\n",
    "> \n",
    "> ファイル出力先のパスは以下のようにすること。\n",
    "> \n",
    "> |出力先|\n",
    "> |:--:|\n",
    "> |./data|"
   ]
  },
  {
   "cell_type": "code",
   "execution_count": 116,
   "metadata": {},
   "outputs": [],
   "source": [
    "# polarsはencoding:utf-8しか対応していない\n",
    "# pandasに変換\n",
    "# import pyarrow as pa\n",
    "# pa.Table()\n",
    "# df_093.to_pandas()\n",
    "# write_csv(file=\"../data/P_df_093_CP932_header.csv\", encoding=\"CP932\", header=False\n",
    "# )"
   ]
  },
  {
   "attachments": {},
   "cell_type": "markdown",
   "metadata": {},
   "source": [
    "---\n",
    "> P-096: 093で作成したカテゴリ名付き商品データを以下の仕様でファイル出力せよ。\n",
    ">\n",
    "> |ファイル形式|ヘッダ有無|文字エンコーディング|\n",
    "> |:--:|:--:|:--:|\n",
    "> |CSV（カンマ区切り）|無し|UTF-8|\n",
    "> \n",
    "> ファイル出力先のパスは以下のようにすること。\n",
    "> \n",
    "> |出力先|\n",
    "> |:--:|\n",
    "> |./data|"
   ]
  },
  {
   "cell_type": "code",
   "execution_count": 117,
   "metadata": {},
   "outputs": [],
   "source": [
    "df_093.write_csv(file=\"../data/P_df_093_UTF-9_noh.csv\", include_header=False)"
   ]
  },
  {
   "attachments": {},
   "cell_type": "markdown",
   "metadata": {},
   "source": [
    "---\n",
    "> P-097: 094で作成した以下形式のファイルを読み込み、データを3件を表示させて正しく取り込まれていることを確認せよ。\n",
    "> \n",
    "> |ファイル形式|ヘッダ有無|文字エンコーディング|\n",
    "> |:--:|:--:|:--:|\n",
    "> |CSV（カンマ区切り）|有り|UTF-8|"
   ]
  },
  {
   "cell_type": "code",
   "execution_count": 118,
   "metadata": {},
   "outputs": [
    {
     "data": {
      "text/html": [
       "<div><style>\n",
       ".dataframe > thead > tr,\n",
       ".dataframe > tbody > tr {\n",
       "  text-align: right;\n",
       "  white-space: pre-wrap;\n",
       "}\n",
       "</style>\n",
       "<small>shape: (3, 9)</small><table border=\"1\" class=\"dataframe\"><thead><tr><th>product_cd</th><th>category_major_cd</th><th>category_medium_cd</th><th>category_small_cd</th><th>unit_price</th><th>unit_cost</th><th>category_major_name</th><th>category_medium_name</th><th>category_small_name</th></tr><tr><td>str</td><td>i64</td><td>i64</td><td>i64</td><td>i64</td><td>i64</td><td>str</td><td>str</td><td>str</td></tr></thead><tbody><tr><td>&quot;P040101001&quot;</td><td>4</td><td>401</td><td>40101</td><td>198</td><td>149</td><td>&quot;惣菜&quot;</td><td>&quot;御飯類&quot;</td><td>&quot;弁当類&quot;</td></tr><tr><td>&quot;P040101002&quot;</td><td>4</td><td>401</td><td>40101</td><td>218</td><td>164</td><td>&quot;惣菜&quot;</td><td>&quot;御飯類&quot;</td><td>&quot;弁当類&quot;</td></tr><tr><td>&quot;P040101003&quot;</td><td>4</td><td>401</td><td>40101</td><td>230</td><td>173</td><td>&quot;惣菜&quot;</td><td>&quot;御飯類&quot;</td><td>&quot;弁当類&quot;</td></tr></tbody></table></div>"
      ],
      "text/plain": [
       "shape: (3, 9)\n",
       "┌───────────┬───────────┬───────────┬───────────┬───┬───────────┬───────────┬───────────┬──────────┐\n",
       "│ product_c ┆ category_ ┆ category_ ┆ category_ ┆ … ┆ unit_cost ┆ category_ ┆ category_ ┆ category │\n",
       "│ d         ┆ major_cd  ┆ medium_cd ┆ small_cd  ┆   ┆ ---       ┆ major_nam ┆ medium_na ┆ _small_n │\n",
       "│ ---       ┆ ---       ┆ ---       ┆ ---       ┆   ┆ i64       ┆ e         ┆ me        ┆ ame      │\n",
       "│ str       ┆ i64       ┆ i64       ┆ i64       ┆   ┆           ┆ ---       ┆ ---       ┆ ---      │\n",
       "│           ┆           ┆           ┆           ┆   ┆           ┆ str       ┆ str       ┆ str      │\n",
       "╞═══════════╪═══════════╪═══════════╪═══════════╪═══╪═══════════╪═══════════╪═══════════╪══════════╡\n",
       "│ P04010100 ┆ 4         ┆ 401       ┆ 40101     ┆ … ┆ 149       ┆ 惣菜      ┆ 御飯類    ┆ 弁当類   │\n",
       "│ 1         ┆           ┆           ┆           ┆   ┆           ┆           ┆           ┆          │\n",
       "│ P04010100 ┆ 4         ┆ 401       ┆ 40101     ┆ … ┆ 164       ┆ 惣菜      ┆ 御飯類    ┆ 弁当類   │\n",
       "│ 2         ┆           ┆           ┆           ┆   ┆           ┆           ┆           ┆          │\n",
       "│ P04010100 ┆ 4         ┆ 401       ┆ 40101     ┆ … ┆ 173       ┆ 惣菜      ┆ 御飯類    ┆ 弁当類   │\n",
       "│ 3         ┆           ┆           ┆           ┆   ┆           ┆           ┆           ┆          │\n",
       "└───────────┴───────────┴───────────┴───────────┴───┴───────────┴───────────┴───────────┴──────────┘"
      ]
     },
     "execution_count": 118,
     "metadata": {},
     "output_type": "execute_result"
    }
   ],
   "source": [
    "df_097 = pl.read_csv(\"../data/P_df_093_UTF-9_header.csv\")\n",
    "df_097.head(3)"
   ]
  },
  {
   "attachments": {},
   "cell_type": "markdown",
   "metadata": {},
   "source": [
    "---\n",
    "> P-098: 096で作成した以下形式のファイルを読み込み、データを3件を表示させて正しく取り込まれていることを確認せよ。\n",
    "> \n",
    "> |ファイル形式|ヘッダ有無|文字エンコーディング|\n",
    "> |:--:|:--:|:--:|\n",
    "> |CSV（カンマ区切り）|ヘッダ無し|UTF-8|"
   ]
  },
  {
   "cell_type": "code",
   "execution_count": 119,
   "metadata": {},
   "outputs": [
    {
     "data": {
      "text/html": [
       "<div><style>\n",
       ".dataframe > thead > tr,\n",
       ".dataframe > tbody > tr {\n",
       "  text-align: right;\n",
       "  white-space: pre-wrap;\n",
       "}\n",
       "</style>\n",
       "<small>shape: (3, 9)</small><table border=\"1\" class=\"dataframe\"><thead><tr><th>product_cd</th><th>category_major_cd</th><th>category_medium_cd</th><th>category_small_cd</th><th>unit_price</th><th>unit_cost</th><th>category_major_name</th><th>category_medium_name</th><th>category_small_name</th></tr><tr><td>str</td><td>i64</td><td>i64</td><td>i64</td><td>i64</td><td>i64</td><td>str</td><td>str</td><td>str</td></tr></thead><tbody><tr><td>&quot;P040101001&quot;</td><td>4</td><td>401</td><td>40101</td><td>198</td><td>149</td><td>&quot;惣菜&quot;</td><td>&quot;御飯類&quot;</td><td>&quot;弁当類&quot;</td></tr><tr><td>&quot;P040101002&quot;</td><td>4</td><td>401</td><td>40101</td><td>218</td><td>164</td><td>&quot;惣菜&quot;</td><td>&quot;御飯類&quot;</td><td>&quot;弁当類&quot;</td></tr><tr><td>&quot;P040101003&quot;</td><td>4</td><td>401</td><td>40101</td><td>230</td><td>173</td><td>&quot;惣菜&quot;</td><td>&quot;御飯類&quot;</td><td>&quot;弁当類&quot;</td></tr></tbody></table></div>"
      ],
      "text/plain": [
       "shape: (3, 9)\n",
       "┌───────────┬───────────┬───────────┬───────────┬───┬───────────┬───────────┬───────────┬──────────┐\n",
       "│ product_c ┆ category_ ┆ category_ ┆ category_ ┆ … ┆ unit_cost ┆ category_ ┆ category_ ┆ category │\n",
       "│ d         ┆ major_cd  ┆ medium_cd ┆ small_cd  ┆   ┆ ---       ┆ major_nam ┆ medium_na ┆ _small_n │\n",
       "│ ---       ┆ ---       ┆ ---       ┆ ---       ┆   ┆ i64       ┆ e         ┆ me        ┆ ame      │\n",
       "│ str       ┆ i64       ┆ i64       ┆ i64       ┆   ┆           ┆ ---       ┆ ---       ┆ ---      │\n",
       "│           ┆           ┆           ┆           ┆   ┆           ┆ str       ┆ str       ┆ str      │\n",
       "╞═══════════╪═══════════╪═══════════╪═══════════╪═══╪═══════════╪═══════════╪═══════════╪══════════╡\n",
       "│ P04010100 ┆ 4         ┆ 401       ┆ 40101     ┆ … ┆ 149       ┆ 惣菜      ┆ 御飯類    ┆ 弁当類   │\n",
       "│ 1         ┆           ┆           ┆           ┆   ┆           ┆           ┆           ┆          │\n",
       "│ P04010100 ┆ 4         ┆ 401       ┆ 40101     ┆ … ┆ 164       ┆ 惣菜      ┆ 御飯類    ┆ 弁当類   │\n",
       "│ 2         ┆           ┆           ┆           ┆   ┆           ┆           ┆           ┆          │\n",
       "│ P04010100 ┆ 4         ┆ 401       ┆ 40101     ┆ … ┆ 173       ┆ 惣菜      ┆ 御飯類    ┆ 弁当類   │\n",
       "│ 3         ┆           ┆           ┆           ┆   ┆           ┆           ┆           ┆          │\n",
       "└───────────┴───────────┴───────────┴───────────┴───┴───────────┴───────────┴───────────┴──────────┘"
      ]
     },
     "execution_count": 119,
     "metadata": {},
     "output_type": "execute_result"
    }
   ],
   "source": [
    "df_098 = pl.read_csv(\n",
    "    source=\"../data/P_df_093_UTF-9_noh.csv\",\n",
    "    has_header=False,\n",
    "    # new_columnsなしだと、column1, column2,...のようなカラム名になる\n",
    "    new_columns=[\n",
    "        \"product_cd\",\n",
    "        \"category_major_cd\",\n",
    "        \"category_medium_cd\",\n",
    "        \"category_small_cd\",\n",
    "        \"unit_price\",\n",
    "        \"unit_cost\",\n",
    "        \"category_major_name\",\n",
    "        \"category_medium_name\",\n",
    "        \"category_small_name\",\n",
    "    ],\n",
    ")\n",
    "\n",
    "df_098.head(3)"
   ]
  },
  {
   "attachments": {},
   "cell_type": "markdown",
   "metadata": {},
   "source": [
    "---\n",
    "> P-099: 093で作成したカテゴリ名付き商品データを以下の仕様でファイル出力せよ。\n",
    ">\n",
    "> |ファイル形式|ヘッダ有無|文字エンコーディング|\n",
    "> |:--:|:--:|:--:|\n",
    "> |TSV（タブ区切り）|有り|UTF-8|\n",
    "> \n",
    "> ファイル出力先のパスは以下のようにすること\n",
    "> \n",
    "> |出力先|\n",
    "> |:--:|\n",
    "> |./data|"
   ]
  },
  {
   "cell_type": "code",
   "execution_count": 120,
   "metadata": {},
   "outputs": [],
   "source": [
    "# separatorでタブで分割\n",
    "df_093.write_csv(\"../data/P_df_093_UTF-9_header.tsv\", include_header=True, separator=\"\\t\")"
   ]
  },
  {
   "attachments": {},
   "cell_type": "markdown",
   "metadata": {},
   "source": [
    "---\n",
    "> P-100: 099で作成した以下形式のファイルを読み込み、データを3件を表示させて正しく取り込まれていることを確認せよ。\n",
    "> \n",
    "> |ファイル形式|ヘッダ有無|文字エンコーディング|\n",
    "> |:--:|:--:|:--:|\n",
    "> |TSV（タブ区切り）|有り|UTF-8|"
   ]
  },
  {
   "cell_type": "code",
   "execution_count": 121,
   "metadata": {},
   "outputs": [
    {
     "data": {
      "text/html": [
       "<div><style>\n",
       ".dataframe > thead > tr,\n",
       ".dataframe > tbody > tr {\n",
       "  text-align: right;\n",
       "  white-space: pre-wrap;\n",
       "}\n",
       "</style>\n",
       "<small>shape: (3, 9)</small><table border=\"1\" class=\"dataframe\"><thead><tr><th>product_cd</th><th>category_major_cd</th><th>category_medium_cd</th><th>category_small_cd</th><th>unit_price</th><th>unit_cost</th><th>category_major_name</th><th>category_medium_name</th><th>category_small_name</th></tr><tr><td>str</td><td>i64</td><td>i64</td><td>i64</td><td>i64</td><td>i64</td><td>str</td><td>str</td><td>str</td></tr></thead><tbody><tr><td>&quot;P040101001&quot;</td><td>4</td><td>401</td><td>40101</td><td>198</td><td>149</td><td>&quot;惣菜&quot;</td><td>&quot;御飯類&quot;</td><td>&quot;弁当類&quot;</td></tr><tr><td>&quot;P040101002&quot;</td><td>4</td><td>401</td><td>40101</td><td>218</td><td>164</td><td>&quot;惣菜&quot;</td><td>&quot;御飯類&quot;</td><td>&quot;弁当類&quot;</td></tr><tr><td>&quot;P040101003&quot;</td><td>4</td><td>401</td><td>40101</td><td>230</td><td>173</td><td>&quot;惣菜&quot;</td><td>&quot;御飯類&quot;</td><td>&quot;弁当類&quot;</td></tr></tbody></table></div>"
      ],
      "text/plain": [
       "shape: (3, 9)\n",
       "┌───────────┬───────────┬───────────┬───────────┬───┬───────────┬───────────┬───────────┬──────────┐\n",
       "│ product_c ┆ category_ ┆ category_ ┆ category_ ┆ … ┆ unit_cost ┆ category_ ┆ category_ ┆ category │\n",
       "│ d         ┆ major_cd  ┆ medium_cd ┆ small_cd  ┆   ┆ ---       ┆ major_nam ┆ medium_na ┆ _small_n │\n",
       "│ ---       ┆ ---       ┆ ---       ┆ ---       ┆   ┆ i64       ┆ e         ┆ me        ┆ ame      │\n",
       "│ str       ┆ i64       ┆ i64       ┆ i64       ┆   ┆           ┆ ---       ┆ ---       ┆ ---      │\n",
       "│           ┆           ┆           ┆           ┆   ┆           ┆ str       ┆ str       ┆ str      │\n",
       "╞═══════════╪═══════════╪═══════════╪═══════════╪═══╪═══════════╪═══════════╪═══════════╪══════════╡\n",
       "│ P04010100 ┆ 4         ┆ 401       ┆ 40101     ┆ … ┆ 149       ┆ 惣菜      ┆ 御飯類    ┆ 弁当類   │\n",
       "│ 1         ┆           ┆           ┆           ┆   ┆           ┆           ┆           ┆          │\n",
       "│ P04010100 ┆ 4         ┆ 401       ┆ 40101     ┆ … ┆ 164       ┆ 惣菜      ┆ 御飯類    ┆ 弁当類   │\n",
       "│ 2         ┆           ┆           ┆           ┆   ┆           ┆           ┆           ┆          │\n",
       "│ P04010100 ┆ 4         ┆ 401       ┆ 40101     ┆ … ┆ 173       ┆ 惣菜      ┆ 御飯類    ┆ 弁当類   │\n",
       "│ 3         ┆           ┆           ┆           ┆   ┆           ┆           ┆           ┆          │\n",
       "└───────────┴───────────┴───────────┴───────────┴───┴───────────┴───────────┴───────────┴──────────┘"
      ]
     },
     "execution_count": 121,
     "metadata": {},
     "output_type": "execute_result"
    }
   ],
   "source": [
    "df_100 = pl.read_csv(\n",
    "    source=\"../data/P_df_093_UTF-9_header.tsv\", has_header=True, separator=\"\\t\"\n",
    ")\n",
    "\n",
    "df_100.head(3)"
   ]
  },
  {
   "attachments": {},
   "cell_type": "markdown",
   "metadata": {},
   "source": [
    "問題はここで終了です。お疲れ様でした。"
   ]
  }
 ],
 "metadata": {
  "kernelspec": {
   "display_name": ".venv",
   "language": "python",
   "name": "python3"
  },
  "language_info": {
   "codemirror_mode": {
    "name": "ipython",
    "version": 3
   },
   "file_extension": ".py",
   "mimetype": "text/x-python",
   "name": "python",
   "nbconvert_exporter": "python",
   "pygments_lexer": "ipython3",
   "version": "3.11.6"
  },
  "orig_nbformat": 4
 },
 "nbformat": 4,
 "nbformat_minor": 2
}
