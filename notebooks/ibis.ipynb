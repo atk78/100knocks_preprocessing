{
 "cells": [
  {
   "cell_type": "markdown",
   "metadata": {},
   "source": [
    "# 前処理100本ノック（Polars）"
   ]
  },
  {
   "cell_type": "code",
   "execution_count": 1,
   "metadata": {},
   "outputs": [],
   "source": [
    "# ライブラリのimport\n",
    "import ibis\n",
    "from ibis import _\n",
    "import numpy as np\n",
    "import polars as pl\n",
    "from sklearn.model_selection import train_test_split, TimeSeriesSplit\n",
    "\n",
    "\n",
    "ibis.options.interactive = True\n",
    "ibis.set_backend(\"duckdb\")\n",
    "\n",
    "# DataFrameの作成\n",
    "df_category = ibis.read_csv(\"../data/category.csv\")\n",
    "df_customer = ibis.read_csv(\"../data/customer.csv\").cast({\"gender_cd\": str})\n",
    "df_geocode = ibis.read_csv(\"../data/geocode.csv\")\n",
    "df_product = ibis.read_csv(\"../data/product.csv\")\n",
    "df_receipt = ibis.read_csv(\"../data/receipt.csv\")\n",
    "df_store = ibis.read_csv(\"../data/store.csv\").cast({\"prefecture_cd\": str})"
   ]
  },
  {
   "attachments": {},
   "cell_type": "markdown",
   "metadata": {},
   "source": [
    "# 演習問題\n",
    "## 表示"
   ]
  },
  {
   "attachments": {},
   "cell_type": "markdown",
   "metadata": {},
   "source": [
    "---\n",
    "> P-001: レシート明細データ（df_receipt）から全項目の先頭10件を表示し、どのようなデータを保有しているか目視で確認せよ。"
   ]
  },
  {
   "cell_type": "code",
   "execution_count": 2,
   "metadata": {},
   "outputs": [
    {
     "data": {
      "text/html": [
       "<pre style=\"white-space:pre;overflow-x:auto;line-height:normal;font-family:Menlo,'DejaVu Sans Mono',consolas,'Courier New',monospace\">┏━━━━━━━━━━━┳━━━━━━━━━━━━━┳━━━━━━━━━━┳━━━━━━━━━━━━┳━━━━━━━━━━━━━━━━┳━━━━━━━━━━━━━━━━┳━━━━━━━━━━━━┳━━━━━━━━━━┳━━━━━━━━┓\n",
       "┃<span style=\"font-weight: bold\"> sales_ymd </span>┃<span style=\"font-weight: bold\"> sales_epoch </span>┃<span style=\"font-weight: bold\"> store_cd </span>┃<span style=\"font-weight: bold\"> receipt_no </span>┃<span style=\"font-weight: bold\"> receipt_sub_no </span>┃<span style=\"font-weight: bold\"> customer_id    </span>┃<span style=\"font-weight: bold\"> product_cd </span>┃<span style=\"font-weight: bold\"> quantity </span>┃<span style=\"font-weight: bold\"> amount </span>┃\n",
       "┡━━━━━━━━━━━╇━━━━━━━━━━━━━╇━━━━━━━━━━╇━━━━━━━━━━━━╇━━━━━━━━━━━━━━━━╇━━━━━━━━━━━━━━━━╇━━━━━━━━━━━━╇━━━━━━━━━━╇━━━━━━━━┩\n",
       "│ <span style=\"color: #7f7f7f; text-decoration-color: #7f7f7f\">int64</span>     │ <span style=\"color: #7f7f7f; text-decoration-color: #7f7f7f\">int64</span>       │ <span style=\"color: #7f7f7f; text-decoration-color: #7f7f7f\">string</span>   │ <span style=\"color: #7f7f7f; text-decoration-color: #7f7f7f\">int64</span>      │ <span style=\"color: #7f7f7f; text-decoration-color: #7f7f7f\">int64</span>          │ <span style=\"color: #7f7f7f; text-decoration-color: #7f7f7f\">string</span>         │ <span style=\"color: #7f7f7f; text-decoration-color: #7f7f7f\">string</span>     │ <span style=\"color: #7f7f7f; text-decoration-color: #7f7f7f\">int64</span>    │ <span style=\"color: #7f7f7f; text-decoration-color: #7f7f7f\">int64</span>  │\n",
       "├───────────┼─────────────┼──────────┼────────────┼────────────────┼────────────────┼────────────┼──────────┼────────┤\n",
       "│  <span style=\"color: #008080; text-decoration-color: #008080; font-weight: bold\">20181103</span> │  <span style=\"color: #008080; text-decoration-color: #008080; font-weight: bold\">1541203200</span> │ <span style=\"color: #008000; text-decoration-color: #008000\">S14006  </span> │        <span style=\"color: #008080; text-decoration-color: #008080; font-weight: bold\">112</span> │              <span style=\"color: #008080; text-decoration-color: #008080; font-weight: bold\">1</span> │ <span style=\"color: #008000; text-decoration-color: #008000\">CS006214000001</span> │ <span style=\"color: #008000; text-decoration-color: #008000\">P070305012</span> │        <span style=\"color: #008080; text-decoration-color: #008080; font-weight: bold\">1</span> │    <span style=\"color: #008080; text-decoration-color: #008080; font-weight: bold\">158</span> │\n",
       "│  <span style=\"color: #008080; text-decoration-color: #008080; font-weight: bold\">20181118</span> │  <span style=\"color: #008080; text-decoration-color: #008080; font-weight: bold\">1542499200</span> │ <span style=\"color: #008000; text-decoration-color: #008000\">S13008  </span> │       <span style=\"color: #008080; text-decoration-color: #008080; font-weight: bold\">1132</span> │              <span style=\"color: #008080; text-decoration-color: #008080; font-weight: bold\">2</span> │ <span style=\"color: #008000; text-decoration-color: #008000\">CS008415000097</span> │ <span style=\"color: #008000; text-decoration-color: #008000\">P070701017</span> │        <span style=\"color: #008080; text-decoration-color: #008080; font-weight: bold\">1</span> │     <span style=\"color: #008080; text-decoration-color: #008080; font-weight: bold\">81</span> │\n",
       "│  <span style=\"color: #008080; text-decoration-color: #008080; font-weight: bold\">20170712</span> │  <span style=\"color: #008080; text-decoration-color: #008080; font-weight: bold\">1499817600</span> │ <span style=\"color: #008000; text-decoration-color: #008000\">S14028  </span> │       <span style=\"color: #008080; text-decoration-color: #008080; font-weight: bold\">1102</span> │              <span style=\"color: #008080; text-decoration-color: #008080; font-weight: bold\">1</span> │ <span style=\"color: #008000; text-decoration-color: #008000\">CS028414000014</span> │ <span style=\"color: #008000; text-decoration-color: #008000\">P060101005</span> │        <span style=\"color: #008080; text-decoration-color: #008080; font-weight: bold\">1</span> │    <span style=\"color: #008080; text-decoration-color: #008080; font-weight: bold\">170</span> │\n",
       "│  <span style=\"color: #008080; text-decoration-color: #008080; font-weight: bold\">20190205</span> │  <span style=\"color: #008080; text-decoration-color: #008080; font-weight: bold\">1549324800</span> │ <span style=\"color: #008000; text-decoration-color: #008000\">S14042  </span> │       <span style=\"color: #008080; text-decoration-color: #008080; font-weight: bold\">1132</span> │              <span style=\"color: #008080; text-decoration-color: #008080; font-weight: bold\">1</span> │ <span style=\"color: #008000; text-decoration-color: #008000\">ZZ000000000000</span> │ <span style=\"color: #008000; text-decoration-color: #008000\">P050301001</span> │        <span style=\"color: #008080; text-decoration-color: #008080; font-weight: bold\">1</span> │     <span style=\"color: #008080; text-decoration-color: #008080; font-weight: bold\">25</span> │\n",
       "│  <span style=\"color: #008080; text-decoration-color: #008080; font-weight: bold\">20180821</span> │  <span style=\"color: #008080; text-decoration-color: #008080; font-weight: bold\">1534809600</span> │ <span style=\"color: #008000; text-decoration-color: #008000\">S14025  </span> │       <span style=\"color: #008080; text-decoration-color: #008080; font-weight: bold\">1102</span> │              <span style=\"color: #008080; text-decoration-color: #008080; font-weight: bold\">2</span> │ <span style=\"color: #008000; text-decoration-color: #008000\">CS025415000050</span> │ <span style=\"color: #008000; text-decoration-color: #008000\">P060102007</span> │        <span style=\"color: #008080; text-decoration-color: #008080; font-weight: bold\">1</span> │     <span style=\"color: #008080; text-decoration-color: #008080; font-weight: bold\">90</span> │\n",
       "│  <span style=\"color: #008080; text-decoration-color: #008080; font-weight: bold\">20190605</span> │  <span style=\"color: #008080; text-decoration-color: #008080; font-weight: bold\">1559692800</span> │ <span style=\"color: #008000; text-decoration-color: #008000\">S13003  </span> │       <span style=\"color: #008080; text-decoration-color: #008080; font-weight: bold\">1112</span> │              <span style=\"color: #008080; text-decoration-color: #008080; font-weight: bold\">1</span> │ <span style=\"color: #008000; text-decoration-color: #008000\">CS003515000195</span> │ <span style=\"color: #008000; text-decoration-color: #008000\">P050102002</span> │        <span style=\"color: #008080; text-decoration-color: #008080; font-weight: bold\">1</span> │    <span style=\"color: #008080; text-decoration-color: #008080; font-weight: bold\">138</span> │\n",
       "│  <span style=\"color: #008080; text-decoration-color: #008080; font-weight: bold\">20181205</span> │  <span style=\"color: #008080; text-decoration-color: #008080; font-weight: bold\">1543968000</span> │ <span style=\"color: #008000; text-decoration-color: #008000\">S14024  </span> │       <span style=\"color: #008080; text-decoration-color: #008080; font-weight: bold\">1102</span> │              <span style=\"color: #008080; text-decoration-color: #008080; font-weight: bold\">2</span> │ <span style=\"color: #008000; text-decoration-color: #008000\">CS024514000042</span> │ <span style=\"color: #008000; text-decoration-color: #008000\">P080101005</span> │        <span style=\"color: #008080; text-decoration-color: #008080; font-weight: bold\">1</span> │     <span style=\"color: #008080; text-decoration-color: #008080; font-weight: bold\">30</span> │\n",
       "│  <span style=\"color: #008080; text-decoration-color: #008080; font-weight: bold\">20190922</span> │  <span style=\"color: #008080; text-decoration-color: #008080; font-weight: bold\">1569110400</span> │ <span style=\"color: #008000; text-decoration-color: #008000\">S14040  </span> │       <span style=\"color: #008080; text-decoration-color: #008080; font-weight: bold\">1102</span> │              <span style=\"color: #008080; text-decoration-color: #008080; font-weight: bold\">1</span> │ <span style=\"color: #008000; text-decoration-color: #008000\">CS040415000178</span> │ <span style=\"color: #008000; text-decoration-color: #008000\">P070501004</span> │        <span style=\"color: #008080; text-decoration-color: #008080; font-weight: bold\">1</span> │    <span style=\"color: #008080; text-decoration-color: #008080; font-weight: bold\">128</span> │\n",
       "│  <span style=\"color: #008080; text-decoration-color: #008080; font-weight: bold\">20170504</span> │  <span style=\"color: #008080; text-decoration-color: #008080; font-weight: bold\">1493856000</span> │ <span style=\"color: #008000; text-decoration-color: #008000\">S13020  </span> │       <span style=\"color: #008080; text-decoration-color: #008080; font-weight: bold\">1112</span> │              <span style=\"color: #008080; text-decoration-color: #008080; font-weight: bold\">2</span> │ <span style=\"color: #008000; text-decoration-color: #008000\">ZZ000000000000</span> │ <span style=\"color: #008000; text-decoration-color: #008000\">P071302010</span> │        <span style=\"color: #008080; text-decoration-color: #008080; font-weight: bold\">1</span> │    <span style=\"color: #008080; text-decoration-color: #008080; font-weight: bold\">770</span> │\n",
       "│  <span style=\"color: #008080; text-decoration-color: #008080; font-weight: bold\">20191010</span> │  <span style=\"color: #008080; text-decoration-color: #008080; font-weight: bold\">1570665600</span> │ <span style=\"color: #008000; text-decoration-color: #008000\">S14027  </span> │       <span style=\"color: #008080; text-decoration-color: #008080; font-weight: bold\">1102</span> │              <span style=\"color: #008080; text-decoration-color: #008080; font-weight: bold\">1</span> │ <span style=\"color: #008000; text-decoration-color: #008000\">CS027514000015</span> │ <span style=\"color: #008000; text-decoration-color: #008000\">P071101003</span> │        <span style=\"color: #008080; text-decoration-color: #008080; font-weight: bold\">1</span> │    <span style=\"color: #008080; text-decoration-color: #008080; font-weight: bold\">680</span> │\n",
       "└───────────┴─────────────┴──────────┴────────────┴────────────────┴────────────────┴────────────┴──────────┴────────┘\n",
       "</pre>\n"
      ],
      "text/plain": [
       "┏━━━━━━━━━━━┳━━━━━━━━━━━━━┳━━━━━━━━━━┳━━━━━━━━━━━━┳━━━━━━━━━━━━━━━━┳━━━━━━━━━━━━━━━━┳━━━━━━━━━━━━┳━━━━━━━━━━┳━━━━━━━━┓\n",
       "┃\u001b[1m \u001b[0m\u001b[1msales_ymd\u001b[0m\u001b[1m \u001b[0m┃\u001b[1m \u001b[0m\u001b[1msales_epoch\u001b[0m\u001b[1m \u001b[0m┃\u001b[1m \u001b[0m\u001b[1mstore_cd\u001b[0m\u001b[1m \u001b[0m┃\u001b[1m \u001b[0m\u001b[1mreceipt_no\u001b[0m\u001b[1m \u001b[0m┃\u001b[1m \u001b[0m\u001b[1mreceipt_sub_no\u001b[0m\u001b[1m \u001b[0m┃\u001b[1m \u001b[0m\u001b[1mcustomer_id\u001b[0m\u001b[1m   \u001b[0m\u001b[1m \u001b[0m┃\u001b[1m \u001b[0m\u001b[1mproduct_cd\u001b[0m\u001b[1m \u001b[0m┃\u001b[1m \u001b[0m\u001b[1mquantity\u001b[0m\u001b[1m \u001b[0m┃\u001b[1m \u001b[0m\u001b[1mamount\u001b[0m\u001b[1m \u001b[0m┃\n",
       "┡━━━━━━━━━━━╇━━━━━━━━━━━━━╇━━━━━━━━━━╇━━━━━━━━━━━━╇━━━━━━━━━━━━━━━━╇━━━━━━━━━━━━━━━━╇━━━━━━━━━━━━╇━━━━━━━━━━╇━━━━━━━━┩\n",
       "│ \u001b[2mint64\u001b[0m     │ \u001b[2mint64\u001b[0m       │ \u001b[2mstring\u001b[0m   │ \u001b[2mint64\u001b[0m      │ \u001b[2mint64\u001b[0m          │ \u001b[2mstring\u001b[0m         │ \u001b[2mstring\u001b[0m     │ \u001b[2mint64\u001b[0m    │ \u001b[2mint64\u001b[0m  │\n",
       "├───────────┼─────────────┼──────────┼────────────┼────────────────┼────────────────┼────────────┼──────────┼────────┤\n",
       "│  \u001b[1;36m20181103\u001b[0m │  \u001b[1;36m1541203200\u001b[0m │ \u001b[32mS14006  \u001b[0m │        \u001b[1;36m112\u001b[0m │              \u001b[1;36m1\u001b[0m │ \u001b[32mCS006214000001\u001b[0m │ \u001b[32mP070305012\u001b[0m │        \u001b[1;36m1\u001b[0m │    \u001b[1;36m158\u001b[0m │\n",
       "│  \u001b[1;36m20181118\u001b[0m │  \u001b[1;36m1542499200\u001b[0m │ \u001b[32mS13008  \u001b[0m │       \u001b[1;36m1132\u001b[0m │              \u001b[1;36m2\u001b[0m │ \u001b[32mCS008415000097\u001b[0m │ \u001b[32mP070701017\u001b[0m │        \u001b[1;36m1\u001b[0m │     \u001b[1;36m81\u001b[0m │\n",
       "│  \u001b[1;36m20170712\u001b[0m │  \u001b[1;36m1499817600\u001b[0m │ \u001b[32mS14028  \u001b[0m │       \u001b[1;36m1102\u001b[0m │              \u001b[1;36m1\u001b[0m │ \u001b[32mCS028414000014\u001b[0m │ \u001b[32mP060101005\u001b[0m │        \u001b[1;36m1\u001b[0m │    \u001b[1;36m170\u001b[0m │\n",
       "│  \u001b[1;36m20190205\u001b[0m │  \u001b[1;36m1549324800\u001b[0m │ \u001b[32mS14042  \u001b[0m │       \u001b[1;36m1132\u001b[0m │              \u001b[1;36m1\u001b[0m │ \u001b[32mZZ000000000000\u001b[0m │ \u001b[32mP050301001\u001b[0m │        \u001b[1;36m1\u001b[0m │     \u001b[1;36m25\u001b[0m │\n",
       "│  \u001b[1;36m20180821\u001b[0m │  \u001b[1;36m1534809600\u001b[0m │ \u001b[32mS14025  \u001b[0m │       \u001b[1;36m1102\u001b[0m │              \u001b[1;36m2\u001b[0m │ \u001b[32mCS025415000050\u001b[0m │ \u001b[32mP060102007\u001b[0m │        \u001b[1;36m1\u001b[0m │     \u001b[1;36m90\u001b[0m │\n",
       "│  \u001b[1;36m20190605\u001b[0m │  \u001b[1;36m1559692800\u001b[0m │ \u001b[32mS13003  \u001b[0m │       \u001b[1;36m1112\u001b[0m │              \u001b[1;36m1\u001b[0m │ \u001b[32mCS003515000195\u001b[0m │ \u001b[32mP050102002\u001b[0m │        \u001b[1;36m1\u001b[0m │    \u001b[1;36m138\u001b[0m │\n",
       "│  \u001b[1;36m20181205\u001b[0m │  \u001b[1;36m1543968000\u001b[0m │ \u001b[32mS14024  \u001b[0m │       \u001b[1;36m1102\u001b[0m │              \u001b[1;36m2\u001b[0m │ \u001b[32mCS024514000042\u001b[0m │ \u001b[32mP080101005\u001b[0m │        \u001b[1;36m1\u001b[0m │     \u001b[1;36m30\u001b[0m │\n",
       "│  \u001b[1;36m20190922\u001b[0m │  \u001b[1;36m1569110400\u001b[0m │ \u001b[32mS14040  \u001b[0m │       \u001b[1;36m1102\u001b[0m │              \u001b[1;36m1\u001b[0m │ \u001b[32mCS040415000178\u001b[0m │ \u001b[32mP070501004\u001b[0m │        \u001b[1;36m1\u001b[0m │    \u001b[1;36m128\u001b[0m │\n",
       "│  \u001b[1;36m20170504\u001b[0m │  \u001b[1;36m1493856000\u001b[0m │ \u001b[32mS13020  \u001b[0m │       \u001b[1;36m1112\u001b[0m │              \u001b[1;36m2\u001b[0m │ \u001b[32mZZ000000000000\u001b[0m │ \u001b[32mP071302010\u001b[0m │        \u001b[1;36m1\u001b[0m │    \u001b[1;36m770\u001b[0m │\n",
       "│  \u001b[1;36m20191010\u001b[0m │  \u001b[1;36m1570665600\u001b[0m │ \u001b[32mS14027  \u001b[0m │       \u001b[1;36m1102\u001b[0m │              \u001b[1;36m1\u001b[0m │ \u001b[32mCS027514000015\u001b[0m │ \u001b[32mP071101003\u001b[0m │        \u001b[1;36m1\u001b[0m │    \u001b[1;36m680\u001b[0m │\n",
       "└───────────┴─────────────┴──────────┴────────────┴────────────────┴────────────────┴────────────┴──────────┴────────┘"
      ]
     },
     "execution_count": 2,
     "metadata": {},
     "output_type": "execute_result"
    }
   ],
   "source": [
    "df_receipt.head(10)"
   ]
  },
  {
   "cell_type": "code",
   "execution_count": 3,
   "metadata": {},
   "outputs": [
    {
     "data": {
      "text/html": [
       "<pre style=\"white-space:pre;overflow-x:auto;line-height:normal;font-family:Menlo,'DejaVu Sans Mono',consolas,'Courier New',monospace\">┏━━━━━━━━━━━┳━━━━━━━━━━━━━┳━━━━━━━━━━┳━━━━━━━━━━━━┳━━━━━━━━━━━━━━━━┳━━━━━━━━━━━━━━━━┳━━━━━━━━━━━━┳━━━━━━━━━━┳━━━━━━━━┓\n",
       "┃<span style=\"font-weight: bold\"> sales_ymd </span>┃<span style=\"font-weight: bold\"> sales_epoch </span>┃<span style=\"font-weight: bold\"> store_cd </span>┃<span style=\"font-weight: bold\"> receipt_no </span>┃<span style=\"font-weight: bold\"> receipt_sub_no </span>┃<span style=\"font-weight: bold\"> customer_id    </span>┃<span style=\"font-weight: bold\"> product_cd </span>┃<span style=\"font-weight: bold\"> quantity </span>┃<span style=\"font-weight: bold\"> amount </span>┃\n",
       "┡━━━━━━━━━━━╇━━━━━━━━━━━━━╇━━━━━━━━━━╇━━━━━━━━━━━━╇━━━━━━━━━━━━━━━━╇━━━━━━━━━━━━━━━━╇━━━━━━━━━━━━╇━━━━━━━━━━╇━━━━━━━━┩\n",
       "│ <span style=\"color: #7f7f7f; text-decoration-color: #7f7f7f\">int64</span>     │ <span style=\"color: #7f7f7f; text-decoration-color: #7f7f7f\">int64</span>       │ <span style=\"color: #7f7f7f; text-decoration-color: #7f7f7f\">string</span>   │ <span style=\"color: #7f7f7f; text-decoration-color: #7f7f7f\">int64</span>      │ <span style=\"color: #7f7f7f; text-decoration-color: #7f7f7f\">int64</span>          │ <span style=\"color: #7f7f7f; text-decoration-color: #7f7f7f\">string</span>         │ <span style=\"color: #7f7f7f; text-decoration-color: #7f7f7f\">string</span>     │ <span style=\"color: #7f7f7f; text-decoration-color: #7f7f7f\">int64</span>    │ <span style=\"color: #7f7f7f; text-decoration-color: #7f7f7f\">int64</span>  │\n",
       "├───────────┼─────────────┼──────────┼────────────┼────────────────┼────────────────┼────────────┼──────────┼────────┤\n",
       "│  <span style=\"color: #008080; text-decoration-color: #008080; font-weight: bold\">20181103</span> │  <span style=\"color: #008080; text-decoration-color: #008080; font-weight: bold\">1541203200</span> │ <span style=\"color: #008000; text-decoration-color: #008000\">S14006  </span> │        <span style=\"color: #008080; text-decoration-color: #008080; font-weight: bold\">112</span> │              <span style=\"color: #008080; text-decoration-color: #008080; font-weight: bold\">1</span> │ <span style=\"color: #008000; text-decoration-color: #008000\">CS006214000001</span> │ <span style=\"color: #008000; text-decoration-color: #008000\">P070305012</span> │        <span style=\"color: #008080; text-decoration-color: #008080; font-weight: bold\">1</span> │    <span style=\"color: #008080; text-decoration-color: #008080; font-weight: bold\">158</span> │\n",
       "│  <span style=\"color: #008080; text-decoration-color: #008080; font-weight: bold\">20181118</span> │  <span style=\"color: #008080; text-decoration-color: #008080; font-weight: bold\">1542499200</span> │ <span style=\"color: #008000; text-decoration-color: #008000\">S13008  </span> │       <span style=\"color: #008080; text-decoration-color: #008080; font-weight: bold\">1132</span> │              <span style=\"color: #008080; text-decoration-color: #008080; font-weight: bold\">2</span> │ <span style=\"color: #008000; text-decoration-color: #008000\">CS008415000097</span> │ <span style=\"color: #008000; text-decoration-color: #008000\">P070701017</span> │        <span style=\"color: #008080; text-decoration-color: #008080; font-weight: bold\">1</span> │     <span style=\"color: #008080; text-decoration-color: #008080; font-weight: bold\">81</span> │\n",
       "│  <span style=\"color: #008080; text-decoration-color: #008080; font-weight: bold\">20170712</span> │  <span style=\"color: #008080; text-decoration-color: #008080; font-weight: bold\">1499817600</span> │ <span style=\"color: #008000; text-decoration-color: #008000\">S14028  </span> │       <span style=\"color: #008080; text-decoration-color: #008080; font-weight: bold\">1102</span> │              <span style=\"color: #008080; text-decoration-color: #008080; font-weight: bold\">1</span> │ <span style=\"color: #008000; text-decoration-color: #008000\">CS028414000014</span> │ <span style=\"color: #008000; text-decoration-color: #008000\">P060101005</span> │        <span style=\"color: #008080; text-decoration-color: #008080; font-weight: bold\">1</span> │    <span style=\"color: #008080; text-decoration-color: #008080; font-weight: bold\">170</span> │\n",
       "│  <span style=\"color: #008080; text-decoration-color: #008080; font-weight: bold\">20190205</span> │  <span style=\"color: #008080; text-decoration-color: #008080; font-weight: bold\">1549324800</span> │ <span style=\"color: #008000; text-decoration-color: #008000\">S14042  </span> │       <span style=\"color: #008080; text-decoration-color: #008080; font-weight: bold\">1132</span> │              <span style=\"color: #008080; text-decoration-color: #008080; font-weight: bold\">1</span> │ <span style=\"color: #008000; text-decoration-color: #008000\">ZZ000000000000</span> │ <span style=\"color: #008000; text-decoration-color: #008000\">P050301001</span> │        <span style=\"color: #008080; text-decoration-color: #008080; font-weight: bold\">1</span> │     <span style=\"color: #008080; text-decoration-color: #008080; font-weight: bold\">25</span> │\n",
       "│  <span style=\"color: #008080; text-decoration-color: #008080; font-weight: bold\">20180821</span> │  <span style=\"color: #008080; text-decoration-color: #008080; font-weight: bold\">1534809600</span> │ <span style=\"color: #008000; text-decoration-color: #008000\">S14025  </span> │       <span style=\"color: #008080; text-decoration-color: #008080; font-weight: bold\">1102</span> │              <span style=\"color: #008080; text-decoration-color: #008080; font-weight: bold\">2</span> │ <span style=\"color: #008000; text-decoration-color: #008000\">CS025415000050</span> │ <span style=\"color: #008000; text-decoration-color: #008000\">P060102007</span> │        <span style=\"color: #008080; text-decoration-color: #008080; font-weight: bold\">1</span> │     <span style=\"color: #008080; text-decoration-color: #008080; font-weight: bold\">90</span> │\n",
       "│  <span style=\"color: #008080; text-decoration-color: #008080; font-weight: bold\">20190605</span> │  <span style=\"color: #008080; text-decoration-color: #008080; font-weight: bold\">1559692800</span> │ <span style=\"color: #008000; text-decoration-color: #008000\">S13003  </span> │       <span style=\"color: #008080; text-decoration-color: #008080; font-weight: bold\">1112</span> │              <span style=\"color: #008080; text-decoration-color: #008080; font-weight: bold\">1</span> │ <span style=\"color: #008000; text-decoration-color: #008000\">CS003515000195</span> │ <span style=\"color: #008000; text-decoration-color: #008000\">P050102002</span> │        <span style=\"color: #008080; text-decoration-color: #008080; font-weight: bold\">1</span> │    <span style=\"color: #008080; text-decoration-color: #008080; font-weight: bold\">138</span> │\n",
       "│  <span style=\"color: #008080; text-decoration-color: #008080; font-weight: bold\">20181205</span> │  <span style=\"color: #008080; text-decoration-color: #008080; font-weight: bold\">1543968000</span> │ <span style=\"color: #008000; text-decoration-color: #008000\">S14024  </span> │       <span style=\"color: #008080; text-decoration-color: #008080; font-weight: bold\">1102</span> │              <span style=\"color: #008080; text-decoration-color: #008080; font-weight: bold\">2</span> │ <span style=\"color: #008000; text-decoration-color: #008000\">CS024514000042</span> │ <span style=\"color: #008000; text-decoration-color: #008000\">P080101005</span> │        <span style=\"color: #008080; text-decoration-color: #008080; font-weight: bold\">1</span> │     <span style=\"color: #008080; text-decoration-color: #008080; font-weight: bold\">30</span> │\n",
       "│  <span style=\"color: #008080; text-decoration-color: #008080; font-weight: bold\">20190922</span> │  <span style=\"color: #008080; text-decoration-color: #008080; font-weight: bold\">1569110400</span> │ <span style=\"color: #008000; text-decoration-color: #008000\">S14040  </span> │       <span style=\"color: #008080; text-decoration-color: #008080; font-weight: bold\">1102</span> │              <span style=\"color: #008080; text-decoration-color: #008080; font-weight: bold\">1</span> │ <span style=\"color: #008000; text-decoration-color: #008000\">CS040415000178</span> │ <span style=\"color: #008000; text-decoration-color: #008000\">P070501004</span> │        <span style=\"color: #008080; text-decoration-color: #008080; font-weight: bold\">1</span> │    <span style=\"color: #008080; text-decoration-color: #008080; font-weight: bold\">128</span> │\n",
       "│  <span style=\"color: #008080; text-decoration-color: #008080; font-weight: bold\">20170504</span> │  <span style=\"color: #008080; text-decoration-color: #008080; font-weight: bold\">1493856000</span> │ <span style=\"color: #008000; text-decoration-color: #008000\">S13020  </span> │       <span style=\"color: #008080; text-decoration-color: #008080; font-weight: bold\">1112</span> │              <span style=\"color: #008080; text-decoration-color: #008080; font-weight: bold\">2</span> │ <span style=\"color: #008000; text-decoration-color: #008000\">ZZ000000000000</span> │ <span style=\"color: #008000; text-decoration-color: #008000\">P071302010</span> │        <span style=\"color: #008080; text-decoration-color: #008080; font-weight: bold\">1</span> │    <span style=\"color: #008080; text-decoration-color: #008080; font-weight: bold\">770</span> │\n",
       "│  <span style=\"color: #008080; text-decoration-color: #008080; font-weight: bold\">20191010</span> │  <span style=\"color: #008080; text-decoration-color: #008080; font-weight: bold\">1570665600</span> │ <span style=\"color: #008000; text-decoration-color: #008000\">S14027  </span> │       <span style=\"color: #008080; text-decoration-color: #008080; font-weight: bold\">1102</span> │              <span style=\"color: #008080; text-decoration-color: #008080; font-weight: bold\">1</span> │ <span style=\"color: #008000; text-decoration-color: #008000\">CS027514000015</span> │ <span style=\"color: #008000; text-decoration-color: #008000\">P071101003</span> │        <span style=\"color: #008080; text-decoration-color: #008080; font-weight: bold\">1</span> │    <span style=\"color: #008080; text-decoration-color: #008080; font-weight: bold\">680</span> │\n",
       "└───────────┴─────────────┴──────────┴────────────┴────────────────┴────────────────┴────────────┴──────────┴────────┘\n",
       "</pre>\n"
      ],
      "text/plain": [
       "┏━━━━━━━━━━━┳━━━━━━━━━━━━━┳━━━━━━━━━━┳━━━━━━━━━━━━┳━━━━━━━━━━━━━━━━┳━━━━━━━━━━━━━━━━┳━━━━━━━━━━━━┳━━━━━━━━━━┳━━━━━━━━┓\n",
       "┃\u001b[1m \u001b[0m\u001b[1msales_ymd\u001b[0m\u001b[1m \u001b[0m┃\u001b[1m \u001b[0m\u001b[1msales_epoch\u001b[0m\u001b[1m \u001b[0m┃\u001b[1m \u001b[0m\u001b[1mstore_cd\u001b[0m\u001b[1m \u001b[0m┃\u001b[1m \u001b[0m\u001b[1mreceipt_no\u001b[0m\u001b[1m \u001b[0m┃\u001b[1m \u001b[0m\u001b[1mreceipt_sub_no\u001b[0m\u001b[1m \u001b[0m┃\u001b[1m \u001b[0m\u001b[1mcustomer_id\u001b[0m\u001b[1m   \u001b[0m\u001b[1m \u001b[0m┃\u001b[1m \u001b[0m\u001b[1mproduct_cd\u001b[0m\u001b[1m \u001b[0m┃\u001b[1m \u001b[0m\u001b[1mquantity\u001b[0m\u001b[1m \u001b[0m┃\u001b[1m \u001b[0m\u001b[1mamount\u001b[0m\u001b[1m \u001b[0m┃\n",
       "┡━━━━━━━━━━━╇━━━━━━━━━━━━━╇━━━━━━━━━━╇━━━━━━━━━━━━╇━━━━━━━━━━━━━━━━╇━━━━━━━━━━━━━━━━╇━━━━━━━━━━━━╇━━━━━━━━━━╇━━━━━━━━┩\n",
       "│ \u001b[2mint64\u001b[0m     │ \u001b[2mint64\u001b[0m       │ \u001b[2mstring\u001b[0m   │ \u001b[2mint64\u001b[0m      │ \u001b[2mint64\u001b[0m          │ \u001b[2mstring\u001b[0m         │ \u001b[2mstring\u001b[0m     │ \u001b[2mint64\u001b[0m    │ \u001b[2mint64\u001b[0m  │\n",
       "├───────────┼─────────────┼──────────┼────────────┼────────────────┼────────────────┼────────────┼──────────┼────────┤\n",
       "│  \u001b[1;36m20181103\u001b[0m │  \u001b[1;36m1541203200\u001b[0m │ \u001b[32mS14006  \u001b[0m │        \u001b[1;36m112\u001b[0m │              \u001b[1;36m1\u001b[0m │ \u001b[32mCS006214000001\u001b[0m │ \u001b[32mP070305012\u001b[0m │        \u001b[1;36m1\u001b[0m │    \u001b[1;36m158\u001b[0m │\n",
       "│  \u001b[1;36m20181118\u001b[0m │  \u001b[1;36m1542499200\u001b[0m │ \u001b[32mS13008  \u001b[0m │       \u001b[1;36m1132\u001b[0m │              \u001b[1;36m2\u001b[0m │ \u001b[32mCS008415000097\u001b[0m │ \u001b[32mP070701017\u001b[0m │        \u001b[1;36m1\u001b[0m │     \u001b[1;36m81\u001b[0m │\n",
       "│  \u001b[1;36m20170712\u001b[0m │  \u001b[1;36m1499817600\u001b[0m │ \u001b[32mS14028  \u001b[0m │       \u001b[1;36m1102\u001b[0m │              \u001b[1;36m1\u001b[0m │ \u001b[32mCS028414000014\u001b[0m │ \u001b[32mP060101005\u001b[0m │        \u001b[1;36m1\u001b[0m │    \u001b[1;36m170\u001b[0m │\n",
       "│  \u001b[1;36m20190205\u001b[0m │  \u001b[1;36m1549324800\u001b[0m │ \u001b[32mS14042  \u001b[0m │       \u001b[1;36m1132\u001b[0m │              \u001b[1;36m1\u001b[0m │ \u001b[32mZZ000000000000\u001b[0m │ \u001b[32mP050301001\u001b[0m │        \u001b[1;36m1\u001b[0m │     \u001b[1;36m25\u001b[0m │\n",
       "│  \u001b[1;36m20180821\u001b[0m │  \u001b[1;36m1534809600\u001b[0m │ \u001b[32mS14025  \u001b[0m │       \u001b[1;36m1102\u001b[0m │              \u001b[1;36m2\u001b[0m │ \u001b[32mCS025415000050\u001b[0m │ \u001b[32mP060102007\u001b[0m │        \u001b[1;36m1\u001b[0m │     \u001b[1;36m90\u001b[0m │\n",
       "│  \u001b[1;36m20190605\u001b[0m │  \u001b[1;36m1559692800\u001b[0m │ \u001b[32mS13003  \u001b[0m │       \u001b[1;36m1112\u001b[0m │              \u001b[1;36m1\u001b[0m │ \u001b[32mCS003515000195\u001b[0m │ \u001b[32mP050102002\u001b[0m │        \u001b[1;36m1\u001b[0m │    \u001b[1;36m138\u001b[0m │\n",
       "│  \u001b[1;36m20181205\u001b[0m │  \u001b[1;36m1543968000\u001b[0m │ \u001b[32mS14024  \u001b[0m │       \u001b[1;36m1102\u001b[0m │              \u001b[1;36m2\u001b[0m │ \u001b[32mCS024514000042\u001b[0m │ \u001b[32mP080101005\u001b[0m │        \u001b[1;36m1\u001b[0m │     \u001b[1;36m30\u001b[0m │\n",
       "│  \u001b[1;36m20190922\u001b[0m │  \u001b[1;36m1569110400\u001b[0m │ \u001b[32mS14040  \u001b[0m │       \u001b[1;36m1102\u001b[0m │              \u001b[1;36m1\u001b[0m │ \u001b[32mCS040415000178\u001b[0m │ \u001b[32mP070501004\u001b[0m │        \u001b[1;36m1\u001b[0m │    \u001b[1;36m128\u001b[0m │\n",
       "│  \u001b[1;36m20170504\u001b[0m │  \u001b[1;36m1493856000\u001b[0m │ \u001b[32mS13020  \u001b[0m │       \u001b[1;36m1112\u001b[0m │              \u001b[1;36m2\u001b[0m │ \u001b[32mZZ000000000000\u001b[0m │ \u001b[32mP071302010\u001b[0m │        \u001b[1;36m1\u001b[0m │    \u001b[1;36m770\u001b[0m │\n",
       "│  \u001b[1;36m20191010\u001b[0m │  \u001b[1;36m1570665600\u001b[0m │ \u001b[32mS14027  \u001b[0m │       \u001b[1;36m1102\u001b[0m │              \u001b[1;36m1\u001b[0m │ \u001b[32mCS027514000015\u001b[0m │ \u001b[32mP071101003\u001b[0m │        \u001b[1;36m1\u001b[0m │    \u001b[1;36m680\u001b[0m │\n",
       "└───────────┴─────────────┴──────────┴────────────┴────────────────┴────────────────┴────────────┴──────────┴────────┘"
      ]
     },
     "execution_count": 3,
     "metadata": {},
     "output_type": "execute_result"
    }
   ],
   "source": [
    "# スライスでも可能\n",
    "df_receipt[:10]"
   ]
  },
  {
   "attachments": {},
   "cell_type": "markdown",
   "metadata": {},
   "source": [
    "---\n",
    "> P-002: レシート明細データ（df_receipt）から売上年月日（sales_ymd）、顧客ID（customer_id）、商品コード（product_cd）、売上金額（amount）の順に列を指定し、10件表示せよ。"
   ]
  },
  {
   "cell_type": "code",
   "execution_count": 4,
   "metadata": {},
   "outputs": [
    {
     "data": {
      "text/html": [
       "<pre style=\"white-space:pre;overflow-x:auto;line-height:normal;font-family:Menlo,'DejaVu Sans Mono',consolas,'Courier New',monospace\">┏━━━━━━━━━━━┳━━━━━━━━━━━━━━━━┳━━━━━━━━━━━━┳━━━━━━━━┓\n",
       "┃<span style=\"font-weight: bold\"> sales_ymd </span>┃<span style=\"font-weight: bold\"> customer_id    </span>┃<span style=\"font-weight: bold\"> product_cd </span>┃<span style=\"font-weight: bold\"> amount </span>┃\n",
       "┡━━━━━━━━━━━╇━━━━━━━━━━━━━━━━╇━━━━━━━━━━━━╇━━━━━━━━┩\n",
       "│ <span style=\"color: #7f7f7f; text-decoration-color: #7f7f7f\">int64</span>     │ <span style=\"color: #7f7f7f; text-decoration-color: #7f7f7f\">string</span>         │ <span style=\"color: #7f7f7f; text-decoration-color: #7f7f7f\">string</span>     │ <span style=\"color: #7f7f7f; text-decoration-color: #7f7f7f\">int64</span>  │\n",
       "├───────────┼────────────────┼────────────┼────────┤\n",
       "│  <span style=\"color: #008080; text-decoration-color: #008080; font-weight: bold\">20181103</span> │ <span style=\"color: #008000; text-decoration-color: #008000\">CS006214000001</span> │ <span style=\"color: #008000; text-decoration-color: #008000\">P070305012</span> │    <span style=\"color: #008080; text-decoration-color: #008080; font-weight: bold\">158</span> │\n",
       "│  <span style=\"color: #008080; text-decoration-color: #008080; font-weight: bold\">20181118</span> │ <span style=\"color: #008000; text-decoration-color: #008000\">CS008415000097</span> │ <span style=\"color: #008000; text-decoration-color: #008000\">P070701017</span> │     <span style=\"color: #008080; text-decoration-color: #008080; font-weight: bold\">81</span> │\n",
       "│  <span style=\"color: #008080; text-decoration-color: #008080; font-weight: bold\">20170712</span> │ <span style=\"color: #008000; text-decoration-color: #008000\">CS028414000014</span> │ <span style=\"color: #008000; text-decoration-color: #008000\">P060101005</span> │    <span style=\"color: #008080; text-decoration-color: #008080; font-weight: bold\">170</span> │\n",
       "│  <span style=\"color: #008080; text-decoration-color: #008080; font-weight: bold\">20190205</span> │ <span style=\"color: #008000; text-decoration-color: #008000\">ZZ000000000000</span> │ <span style=\"color: #008000; text-decoration-color: #008000\">P050301001</span> │     <span style=\"color: #008080; text-decoration-color: #008080; font-weight: bold\">25</span> │\n",
       "│  <span style=\"color: #008080; text-decoration-color: #008080; font-weight: bold\">20180821</span> │ <span style=\"color: #008000; text-decoration-color: #008000\">CS025415000050</span> │ <span style=\"color: #008000; text-decoration-color: #008000\">P060102007</span> │     <span style=\"color: #008080; text-decoration-color: #008080; font-weight: bold\">90</span> │\n",
       "│  <span style=\"color: #008080; text-decoration-color: #008080; font-weight: bold\">20190605</span> │ <span style=\"color: #008000; text-decoration-color: #008000\">CS003515000195</span> │ <span style=\"color: #008000; text-decoration-color: #008000\">P050102002</span> │    <span style=\"color: #008080; text-decoration-color: #008080; font-weight: bold\">138</span> │\n",
       "│  <span style=\"color: #008080; text-decoration-color: #008080; font-weight: bold\">20181205</span> │ <span style=\"color: #008000; text-decoration-color: #008000\">CS024514000042</span> │ <span style=\"color: #008000; text-decoration-color: #008000\">P080101005</span> │     <span style=\"color: #008080; text-decoration-color: #008080; font-weight: bold\">30</span> │\n",
       "│  <span style=\"color: #008080; text-decoration-color: #008080; font-weight: bold\">20190922</span> │ <span style=\"color: #008000; text-decoration-color: #008000\">CS040415000178</span> │ <span style=\"color: #008000; text-decoration-color: #008000\">P070501004</span> │    <span style=\"color: #008080; text-decoration-color: #008080; font-weight: bold\">128</span> │\n",
       "│  <span style=\"color: #008080; text-decoration-color: #008080; font-weight: bold\">20170504</span> │ <span style=\"color: #008000; text-decoration-color: #008000\">ZZ000000000000</span> │ <span style=\"color: #008000; text-decoration-color: #008000\">P071302010</span> │    <span style=\"color: #008080; text-decoration-color: #008080; font-weight: bold\">770</span> │\n",
       "│  <span style=\"color: #008080; text-decoration-color: #008080; font-weight: bold\">20191010</span> │ <span style=\"color: #008000; text-decoration-color: #008000\">CS027514000015</span> │ <span style=\"color: #008000; text-decoration-color: #008000\">P071101003</span> │    <span style=\"color: #008080; text-decoration-color: #008080; font-weight: bold\">680</span> │\n",
       "└───────────┴────────────────┴────────────┴────────┘\n",
       "</pre>\n"
      ],
      "text/plain": [
       "┏━━━━━━━━━━━┳━━━━━━━━━━━━━━━━┳━━━━━━━━━━━━┳━━━━━━━━┓\n",
       "┃\u001b[1m \u001b[0m\u001b[1msales_ymd\u001b[0m\u001b[1m \u001b[0m┃\u001b[1m \u001b[0m\u001b[1mcustomer_id\u001b[0m\u001b[1m   \u001b[0m\u001b[1m \u001b[0m┃\u001b[1m \u001b[0m\u001b[1mproduct_cd\u001b[0m\u001b[1m \u001b[0m┃\u001b[1m \u001b[0m\u001b[1mamount\u001b[0m\u001b[1m \u001b[0m┃\n",
       "┡━━━━━━━━━━━╇━━━━━━━━━━━━━━━━╇━━━━━━━━━━━━╇━━━━━━━━┩\n",
       "│ \u001b[2mint64\u001b[0m     │ \u001b[2mstring\u001b[0m         │ \u001b[2mstring\u001b[0m     │ \u001b[2mint64\u001b[0m  │\n",
       "├───────────┼────────────────┼────────────┼────────┤\n",
       "│  \u001b[1;36m20181103\u001b[0m │ \u001b[32mCS006214000001\u001b[0m │ \u001b[32mP070305012\u001b[0m │    \u001b[1;36m158\u001b[0m │\n",
       "│  \u001b[1;36m20181118\u001b[0m │ \u001b[32mCS008415000097\u001b[0m │ \u001b[32mP070701017\u001b[0m │     \u001b[1;36m81\u001b[0m │\n",
       "│  \u001b[1;36m20170712\u001b[0m │ \u001b[32mCS028414000014\u001b[0m │ \u001b[32mP060101005\u001b[0m │    \u001b[1;36m170\u001b[0m │\n",
       "│  \u001b[1;36m20190205\u001b[0m │ \u001b[32mZZ000000000000\u001b[0m │ \u001b[32mP050301001\u001b[0m │     \u001b[1;36m25\u001b[0m │\n",
       "│  \u001b[1;36m20180821\u001b[0m │ \u001b[32mCS025415000050\u001b[0m │ \u001b[32mP060102007\u001b[0m │     \u001b[1;36m90\u001b[0m │\n",
       "│  \u001b[1;36m20190605\u001b[0m │ \u001b[32mCS003515000195\u001b[0m │ \u001b[32mP050102002\u001b[0m │    \u001b[1;36m138\u001b[0m │\n",
       "│  \u001b[1;36m20181205\u001b[0m │ \u001b[32mCS024514000042\u001b[0m │ \u001b[32mP080101005\u001b[0m │     \u001b[1;36m30\u001b[0m │\n",
       "│  \u001b[1;36m20190922\u001b[0m │ \u001b[32mCS040415000178\u001b[0m │ \u001b[32mP070501004\u001b[0m │    \u001b[1;36m128\u001b[0m │\n",
       "│  \u001b[1;36m20170504\u001b[0m │ \u001b[32mZZ000000000000\u001b[0m │ \u001b[32mP071302010\u001b[0m │    \u001b[1;36m770\u001b[0m │\n",
       "│  \u001b[1;36m20191010\u001b[0m │ \u001b[32mCS027514000015\u001b[0m │ \u001b[32mP071101003\u001b[0m │    \u001b[1;36m680\u001b[0m │\n",
       "└───────────┴────────────────┴────────────┴────────┘"
      ]
     },
     "execution_count": 4,
     "metadata": {},
     "output_type": "execute_result"
    }
   ],
   "source": [
    "# DataFrameから特定の列を選択する場合は.select()メソッドを用いる\n",
    "# .select()メソッドの中身はリスト型で渡してもいい\n",
    "df_receipt.select(\"sales_ymd\", \"customer_id\", \"product_cd\", \"amount\").head(10)"
   ]
  },
  {
   "attachments": {},
   "cell_type": "markdown",
   "metadata": {},
   "source": [
    "---\n",
    "> P-003: レシート明細データ（df_receipt）から売上年月日（sales_ymd）、顧客ID（customer_id）、商品コード（product_cd）、売上金額（amount）の順に列を指定し、5件表示せよ。ただし、sales_ymdをsales_dateに項目名を変更しながら抽出すること。"
   ]
  },
  {
   "cell_type": "code",
   "execution_count": 5,
   "metadata": {},
   "outputs": [
    {
     "data": {
      "text/html": [
       "<pre style=\"white-space:pre;overflow-x:auto;line-height:normal;font-family:Menlo,'DejaVu Sans Mono',consolas,'Courier New',monospace\">┏━━━━━━━━━━━━┳━━━━━━━━━━━━━━━━┳━━━━━━━━━━━━┳━━━━━━━━┓\n",
       "┃<span style=\"font-weight: bold\"> sales_date </span>┃<span style=\"font-weight: bold\"> customer_id    </span>┃<span style=\"font-weight: bold\"> product_cd </span>┃<span style=\"font-weight: bold\"> amount </span>┃\n",
       "┡━━━━━━━━━━━━╇━━━━━━━━━━━━━━━━╇━━━━━━━━━━━━╇━━━━━━━━┩\n",
       "│ <span style=\"color: #7f7f7f; text-decoration-color: #7f7f7f\">int64</span>      │ <span style=\"color: #7f7f7f; text-decoration-color: #7f7f7f\">string</span>         │ <span style=\"color: #7f7f7f; text-decoration-color: #7f7f7f\">string</span>     │ <span style=\"color: #7f7f7f; text-decoration-color: #7f7f7f\">int64</span>  │\n",
       "├────────────┼────────────────┼────────────┼────────┤\n",
       "│   <span style=\"color: #008080; text-decoration-color: #008080; font-weight: bold\">20181103</span> │ <span style=\"color: #008000; text-decoration-color: #008000\">CS006214000001</span> │ <span style=\"color: #008000; text-decoration-color: #008000\">P070305012</span> │    <span style=\"color: #008080; text-decoration-color: #008080; font-weight: bold\">158</span> │\n",
       "│   <span style=\"color: #008080; text-decoration-color: #008080; font-weight: bold\">20181118</span> │ <span style=\"color: #008000; text-decoration-color: #008000\">CS008415000097</span> │ <span style=\"color: #008000; text-decoration-color: #008000\">P070701017</span> │     <span style=\"color: #008080; text-decoration-color: #008080; font-weight: bold\">81</span> │\n",
       "│   <span style=\"color: #008080; text-decoration-color: #008080; font-weight: bold\">20170712</span> │ <span style=\"color: #008000; text-decoration-color: #008000\">CS028414000014</span> │ <span style=\"color: #008000; text-decoration-color: #008000\">P060101005</span> │    <span style=\"color: #008080; text-decoration-color: #008080; font-weight: bold\">170</span> │\n",
       "│   <span style=\"color: #008080; text-decoration-color: #008080; font-weight: bold\">20190205</span> │ <span style=\"color: #008000; text-decoration-color: #008000\">ZZ000000000000</span> │ <span style=\"color: #008000; text-decoration-color: #008000\">P050301001</span> │     <span style=\"color: #008080; text-decoration-color: #008080; font-weight: bold\">25</span> │\n",
       "│   <span style=\"color: #008080; text-decoration-color: #008080; font-weight: bold\">20180821</span> │ <span style=\"color: #008000; text-decoration-color: #008000\">CS025415000050</span> │ <span style=\"color: #008000; text-decoration-color: #008000\">P060102007</span> │     <span style=\"color: #008080; text-decoration-color: #008080; font-weight: bold\">90</span> │\n",
       "└────────────┴────────────────┴────────────┴────────┘\n",
       "</pre>\n"
      ],
      "text/plain": [
       "┏━━━━━━━━━━━━┳━━━━━━━━━━━━━━━━┳━━━━━━━━━━━━┳━━━━━━━━┓\n",
       "┃\u001b[1m \u001b[0m\u001b[1msales_date\u001b[0m\u001b[1m \u001b[0m┃\u001b[1m \u001b[0m\u001b[1mcustomer_id\u001b[0m\u001b[1m   \u001b[0m\u001b[1m \u001b[0m┃\u001b[1m \u001b[0m\u001b[1mproduct_cd\u001b[0m\u001b[1m \u001b[0m┃\u001b[1m \u001b[0m\u001b[1mamount\u001b[0m\u001b[1m \u001b[0m┃\n",
       "┡━━━━━━━━━━━━╇━━━━━━━━━━━━━━━━╇━━━━━━━━━━━━╇━━━━━━━━┩\n",
       "│ \u001b[2mint64\u001b[0m      │ \u001b[2mstring\u001b[0m         │ \u001b[2mstring\u001b[0m     │ \u001b[2mint64\u001b[0m  │\n",
       "├────────────┼────────────────┼────────────┼────────┤\n",
       "│   \u001b[1;36m20181103\u001b[0m │ \u001b[32mCS006214000001\u001b[0m │ \u001b[32mP070305012\u001b[0m │    \u001b[1;36m158\u001b[0m │\n",
       "│   \u001b[1;36m20181118\u001b[0m │ \u001b[32mCS008415000097\u001b[0m │ \u001b[32mP070701017\u001b[0m │     \u001b[1;36m81\u001b[0m │\n",
       "│   \u001b[1;36m20170712\u001b[0m │ \u001b[32mCS028414000014\u001b[0m │ \u001b[32mP060101005\u001b[0m │    \u001b[1;36m170\u001b[0m │\n",
       "│   \u001b[1;36m20190205\u001b[0m │ \u001b[32mZZ000000000000\u001b[0m │ \u001b[32mP050301001\u001b[0m │     \u001b[1;36m25\u001b[0m │\n",
       "│   \u001b[1;36m20180821\u001b[0m │ \u001b[32mCS025415000050\u001b[0m │ \u001b[32mP060102007\u001b[0m │     \u001b[1;36m90\u001b[0m │\n",
       "└────────────┴────────────────┴────────────┴────────┘"
      ]
     },
     "execution_count": 5,
     "metadata": {},
     "output_type": "execute_result"
    }
   ],
   "source": [
    "# renameは辞書形式で行う（Polarsと逆で、{変更後: 変更前}）\n",
    "\n",
    "df_003 = (\n",
    "    df_receipt\n",
    "    .select([\"sales_ymd\", \"customer_id\", \"product_cd\",\"amount\"])\n",
    "    .rename({\"sales_date\": \"sales_ymd\"})\n",
    ")\n",
    "\n",
    "df_003.head()"
   ]
  },
  {
   "attachments": {},
   "cell_type": "markdown",
   "metadata": {},
   "source": [
    "## 抽出"
   ]
  },
  {
   "attachments": {},
   "cell_type": "markdown",
   "metadata": {},
   "source": [
    "---\n",
    "> P-004: レシート明細データ（df_receipt）から売上日（sales_ymd）、顧客ID（customer_id）、商品コード（product_cd）、売上金額（amount）の順に列を指定し、以下の条件を満たすデータを抽出せよ。\n",
    "> - 顧客ID（customer_id）が\"CS018205000001\""
   ]
  },
  {
   "cell_type": "code",
   "execution_count": 6,
   "metadata": {},
   "outputs": [
    {
     "data": {
      "text/html": [
       "<pre style=\"white-space:pre;overflow-x:auto;line-height:normal;font-family:Menlo,'DejaVu Sans Mono',consolas,'Courier New',monospace\">┏━━━━━━━━━━━┳━━━━━━━━━━━━━━━━┳━━━━━━━━━━━━┳━━━━━━━━┓\n",
       "┃<span style=\"font-weight: bold\"> sales_ymd </span>┃<span style=\"font-weight: bold\"> customer_id    </span>┃<span style=\"font-weight: bold\"> product_cd </span>┃<span style=\"font-weight: bold\"> amount </span>┃\n",
       "┡━━━━━━━━━━━╇━━━━━━━━━━━━━━━━╇━━━━━━━━━━━━╇━━━━━━━━┩\n",
       "│ <span style=\"color: #7f7f7f; text-decoration-color: #7f7f7f\">int64</span>     │ <span style=\"color: #7f7f7f; text-decoration-color: #7f7f7f\">string</span>         │ <span style=\"color: #7f7f7f; text-decoration-color: #7f7f7f\">string</span>     │ <span style=\"color: #7f7f7f; text-decoration-color: #7f7f7f\">int64</span>  │\n",
       "├───────────┼────────────────┼────────────┼────────┤\n",
       "│  <span style=\"color: #008080; text-decoration-color: #008080; font-weight: bold\">20180911</span> │ <span style=\"color: #008000; text-decoration-color: #008000\">CS018205000001</span> │ <span style=\"color: #008000; text-decoration-color: #008000\">P071401012</span> │   <span style=\"color: #008080; text-decoration-color: #008080; font-weight: bold\">2200</span> │\n",
       "│  <span style=\"color: #008080; text-decoration-color: #008080; font-weight: bold\">20180414</span> │ <span style=\"color: #008000; text-decoration-color: #008000\">CS018205000001</span> │ <span style=\"color: #008000; text-decoration-color: #008000\">P060104007</span> │    <span style=\"color: #008080; text-decoration-color: #008080; font-weight: bold\">600</span> │\n",
       "│  <span style=\"color: #008080; text-decoration-color: #008080; font-weight: bold\">20170614</span> │ <span style=\"color: #008000; text-decoration-color: #008000\">CS018205000001</span> │ <span style=\"color: #008000; text-decoration-color: #008000\">P050206001</span> │    <span style=\"color: #008080; text-decoration-color: #008080; font-weight: bold\">990</span> │\n",
       "│  <span style=\"color: #008080; text-decoration-color: #008080; font-weight: bold\">20170614</span> │ <span style=\"color: #008000; text-decoration-color: #008000\">CS018205000001</span> │ <span style=\"color: #008000; text-decoration-color: #008000\">P060702015</span> │    <span style=\"color: #008080; text-decoration-color: #008080; font-weight: bold\">108</span> │\n",
       "│  <span style=\"color: #008080; text-decoration-color: #008080; font-weight: bold\">20190216</span> │ <span style=\"color: #008000; text-decoration-color: #008000\">CS018205000001</span> │ <span style=\"color: #008000; text-decoration-color: #008000\">P071005024</span> │    <span style=\"color: #008080; text-decoration-color: #008080; font-weight: bold\">102</span> │\n",
       "└───────────┴────────────────┴────────────┴────────┘\n",
       "</pre>\n"
      ],
      "text/plain": [
       "┏━━━━━━━━━━━┳━━━━━━━━━━━━━━━━┳━━━━━━━━━━━━┳━━━━━━━━┓\n",
       "┃\u001b[1m \u001b[0m\u001b[1msales_ymd\u001b[0m\u001b[1m \u001b[0m┃\u001b[1m \u001b[0m\u001b[1mcustomer_id\u001b[0m\u001b[1m   \u001b[0m\u001b[1m \u001b[0m┃\u001b[1m \u001b[0m\u001b[1mproduct_cd\u001b[0m\u001b[1m \u001b[0m┃\u001b[1m \u001b[0m\u001b[1mamount\u001b[0m\u001b[1m \u001b[0m┃\n",
       "┡━━━━━━━━━━━╇━━━━━━━━━━━━━━━━╇━━━━━━━━━━━━╇━━━━━━━━┩\n",
       "│ \u001b[2mint64\u001b[0m     │ \u001b[2mstring\u001b[0m         │ \u001b[2mstring\u001b[0m     │ \u001b[2mint64\u001b[0m  │\n",
       "├───────────┼────────────────┼────────────┼────────┤\n",
       "│  \u001b[1;36m20180911\u001b[0m │ \u001b[32mCS018205000001\u001b[0m │ \u001b[32mP071401012\u001b[0m │   \u001b[1;36m2200\u001b[0m │\n",
       "│  \u001b[1;36m20180414\u001b[0m │ \u001b[32mCS018205000001\u001b[0m │ \u001b[32mP060104007\u001b[0m │    \u001b[1;36m600\u001b[0m │\n",
       "│  \u001b[1;36m20170614\u001b[0m │ \u001b[32mCS018205000001\u001b[0m │ \u001b[32mP050206001\u001b[0m │    \u001b[1;36m990\u001b[0m │\n",
       "│  \u001b[1;36m20170614\u001b[0m │ \u001b[32mCS018205000001\u001b[0m │ \u001b[32mP060702015\u001b[0m │    \u001b[1;36m108\u001b[0m │\n",
       "│  \u001b[1;36m20190216\u001b[0m │ \u001b[32mCS018205000001\u001b[0m │ \u001b[32mP071005024\u001b[0m │    \u001b[1;36m102\u001b[0m │\n",
       "└───────────┴────────────────┴────────────┴────────┘"
      ]
     },
     "execution_count": 6,
     "metadata": {},
     "output_type": "execute_result"
    }
   ],
   "source": [
    "df_004 = (\n",
    "    df_receipt\n",
    "    .select(\"sales_ymd\", \"customer_id\", \"product_cd\", \"amount\")\n",
    "    .filter(df_receipt[\"customer_id\"] == \"CS018205000001\")\n",
    ")\n",
    "\n",
    "df_004.head()"
   ]
  },
  {
   "attachments": {},
   "cell_type": "markdown",
   "metadata": {},
   "source": [
    "---\n",
    "> P-005: レシート明細データ（df_receipt）から売上日（sales_ymd）、顧客ID（customer_id）、商品コード（product_cd）、売上金額（amount）の順に列を指定し、以下の全ての条件を満たすデータを抽出せよ。\n",
    "> - 顧客ID（customer_id）が\"CS018205000001\"\n",
    "> - 売上金額（amount）が1,000以上"
   ]
  },
  {
   "cell_type": "code",
   "execution_count": 7,
   "metadata": {},
   "outputs": [
    {
     "data": {
      "text/html": [
       "<pre style=\"white-space:pre;overflow-x:auto;line-height:normal;font-family:Menlo,'DejaVu Sans Mono',consolas,'Courier New',monospace\">┏━━━━━━━━━━━┳━━━━━━━━━━━━━━━━┳━━━━━━━━━━━━┳━━━━━━━━┓\n",
       "┃<span style=\"font-weight: bold\"> sales_ymd </span>┃<span style=\"font-weight: bold\"> customer_id    </span>┃<span style=\"font-weight: bold\"> product_cd </span>┃<span style=\"font-weight: bold\"> amount </span>┃\n",
       "┡━━━━━━━━━━━╇━━━━━━━━━━━━━━━━╇━━━━━━━━━━━━╇━━━━━━━━┩\n",
       "│ <span style=\"color: #7f7f7f; text-decoration-color: #7f7f7f\">int64</span>     │ <span style=\"color: #7f7f7f; text-decoration-color: #7f7f7f\">string</span>         │ <span style=\"color: #7f7f7f; text-decoration-color: #7f7f7f\">string</span>     │ <span style=\"color: #7f7f7f; text-decoration-color: #7f7f7f\">int64</span>  │\n",
       "├───────────┼────────────────┼────────────┼────────┤\n",
       "│  <span style=\"color: #008080; text-decoration-color: #008080; font-weight: bold\">20180911</span> │ <span style=\"color: #008000; text-decoration-color: #008000\">CS018205000001</span> │ <span style=\"color: #008000; text-decoration-color: #008000\">P071401012</span> │   <span style=\"color: #008080; text-decoration-color: #008080; font-weight: bold\">2200</span> │\n",
       "│  <span style=\"color: #008080; text-decoration-color: #008080; font-weight: bold\">20190226</span> │ <span style=\"color: #008000; text-decoration-color: #008000\">CS018205000001</span> │ <span style=\"color: #008000; text-decoration-color: #008000\">P071401020</span> │   <span style=\"color: #008080; text-decoration-color: #008080; font-weight: bold\">2200</span> │\n",
       "│  <span style=\"color: #008080; text-decoration-color: #008080; font-weight: bold\">20180911</span> │ <span style=\"color: #008000; text-decoration-color: #008000\">CS018205000001</span> │ <span style=\"color: #008000; text-decoration-color: #008000\">P071401005</span> │   <span style=\"color: #008080; text-decoration-color: #008080; font-weight: bold\">1100</span> │\n",
       "└───────────┴────────────────┴────────────┴────────┘\n",
       "</pre>\n"
      ],
      "text/plain": [
       "┏━━━━━━━━━━━┳━━━━━━━━━━━━━━━━┳━━━━━━━━━━━━┳━━━━━━━━┓\n",
       "┃\u001b[1m \u001b[0m\u001b[1msales_ymd\u001b[0m\u001b[1m \u001b[0m┃\u001b[1m \u001b[0m\u001b[1mcustomer_id\u001b[0m\u001b[1m   \u001b[0m\u001b[1m \u001b[0m┃\u001b[1m \u001b[0m\u001b[1mproduct_cd\u001b[0m\u001b[1m \u001b[0m┃\u001b[1m \u001b[0m\u001b[1mamount\u001b[0m\u001b[1m \u001b[0m┃\n",
       "┡━━━━━━━━━━━╇━━━━━━━━━━━━━━━━╇━━━━━━━━━━━━╇━━━━━━━━┩\n",
       "│ \u001b[2mint64\u001b[0m     │ \u001b[2mstring\u001b[0m         │ \u001b[2mstring\u001b[0m     │ \u001b[2mint64\u001b[0m  │\n",
       "├───────────┼────────────────┼────────────┼────────┤\n",
       "│  \u001b[1;36m20180911\u001b[0m │ \u001b[32mCS018205000001\u001b[0m │ \u001b[32mP071401012\u001b[0m │   \u001b[1;36m2200\u001b[0m │\n",
       "│  \u001b[1;36m20190226\u001b[0m │ \u001b[32mCS018205000001\u001b[0m │ \u001b[32mP071401020\u001b[0m │   \u001b[1;36m2200\u001b[0m │\n",
       "│  \u001b[1;36m20180911\u001b[0m │ \u001b[32mCS018205000001\u001b[0m │ \u001b[32mP071401005\u001b[0m │   \u001b[1;36m1100\u001b[0m │\n",
       "└───────────┴────────────────┴────────────┴────────┘"
      ]
     },
     "execution_count": 7,
     "metadata": {},
     "output_type": "execute_result"
    }
   ],
   "source": [
    "# &や|で繋ぐときは()で囲ってあげること\n",
    "\n",
    "df_005 = (\n",
    "    df_receipt\n",
    "    .select(\"sales_ymd\", \"customer_id\", \"product_cd\", \"amount\")\n",
    "    .filter(\n",
    "        (df_receipt[\"customer_id\"] == \"CS018205000001\")\n",
    "        & (df_receipt[\"amount\"] >= 1000)\n",
    "    )\n",
    ")\n",
    "\n",
    "df_005.head()"
   ]
  },
  {
   "attachments": {},
   "cell_type": "markdown",
   "metadata": {},
   "source": [
    "---\n",
    "> P-006: レシート明細データ（df_receipt）から売上日（sales_ymd）、顧客ID（customer_id）、商品コード（product_cd）、売上数量（quantity）、売上金額（amount）の順に列を指定し、以下の全ての条件を満たすデータを抽出せよ。\n",
    "> - 顧客ID（customer_id）が\"CS018205000001\"\n",
    "> - 売上金額（amount）が1,000以上または売上数量（quantity）が5以上"
   ]
  },
  {
   "cell_type": "code",
   "execution_count": 8,
   "metadata": {},
   "outputs": [
    {
     "data": {
      "text/html": [
       "<pre style=\"white-space:pre;overflow-x:auto;line-height:normal;font-family:Menlo,'DejaVu Sans Mono',consolas,'Courier New',monospace\">┏━━━━━━━━━━━┳━━━━━━━━━━━━━━━━┳━━━━━━━━━━━━┳━━━━━━━━━━┳━━━━━━━━┓\n",
       "┃<span style=\"font-weight: bold\"> sales_ymd </span>┃<span style=\"font-weight: bold\"> customer_id    </span>┃<span style=\"font-weight: bold\"> product_cd </span>┃<span style=\"font-weight: bold\"> quantity </span>┃<span style=\"font-weight: bold\"> amount </span>┃\n",
       "┡━━━━━━━━━━━╇━━━━━━━━━━━━━━━━╇━━━━━━━━━━━━╇━━━━━━━━━━╇━━━━━━━━┩\n",
       "│ <span style=\"color: #7f7f7f; text-decoration-color: #7f7f7f\">int64</span>     │ <span style=\"color: #7f7f7f; text-decoration-color: #7f7f7f\">string</span>         │ <span style=\"color: #7f7f7f; text-decoration-color: #7f7f7f\">string</span>     │ <span style=\"color: #7f7f7f; text-decoration-color: #7f7f7f\">int64</span>    │ <span style=\"color: #7f7f7f; text-decoration-color: #7f7f7f\">int64</span>  │\n",
       "├───────────┼────────────────┼────────────┼──────────┼────────┤\n",
       "│  <span style=\"color: #008080; text-decoration-color: #008080; font-weight: bold\">20180911</span> │ <span style=\"color: #008000; text-decoration-color: #008000\">CS018205000001</span> │ <span style=\"color: #008000; text-decoration-color: #008000\">P071401012</span> │        <span style=\"color: #008080; text-decoration-color: #008080; font-weight: bold\">1</span> │   <span style=\"color: #008080; text-decoration-color: #008080; font-weight: bold\">2200</span> │\n",
       "│  <span style=\"color: #008080; text-decoration-color: #008080; font-weight: bold\">20180414</span> │ <span style=\"color: #008000; text-decoration-color: #008000\">CS018205000001</span> │ <span style=\"color: #008000; text-decoration-color: #008000\">P060104007</span> │        <span style=\"color: #008080; text-decoration-color: #008080; font-weight: bold\">6</span> │    <span style=\"color: #008080; text-decoration-color: #008080; font-weight: bold\">600</span> │\n",
       "│  <span style=\"color: #008080; text-decoration-color: #008080; font-weight: bold\">20190226</span> │ <span style=\"color: #008000; text-decoration-color: #008000\">CS018205000001</span> │ <span style=\"color: #008000; text-decoration-color: #008000\">P071401020</span> │        <span style=\"color: #008080; text-decoration-color: #008080; font-weight: bold\">1</span> │   <span style=\"color: #008080; text-decoration-color: #008080; font-weight: bold\">2200</span> │\n",
       "│  <span style=\"color: #008080; text-decoration-color: #008080; font-weight: bold\">20180911</span> │ <span style=\"color: #008000; text-decoration-color: #008000\">CS018205000001</span> │ <span style=\"color: #008000; text-decoration-color: #008000\">P071401005</span> │        <span style=\"color: #008080; text-decoration-color: #008080; font-weight: bold\">1</span> │   <span style=\"color: #008080; text-decoration-color: #008080; font-weight: bold\">1100</span> │\n",
       "└───────────┴────────────────┴────────────┴──────────┴────────┘\n",
       "</pre>\n"
      ],
      "text/plain": [
       "┏━━━━━━━━━━━┳━━━━━━━━━━━━━━━━┳━━━━━━━━━━━━┳━━━━━━━━━━┳━━━━━━━━┓\n",
       "┃\u001b[1m \u001b[0m\u001b[1msales_ymd\u001b[0m\u001b[1m \u001b[0m┃\u001b[1m \u001b[0m\u001b[1mcustomer_id\u001b[0m\u001b[1m   \u001b[0m\u001b[1m \u001b[0m┃\u001b[1m \u001b[0m\u001b[1mproduct_cd\u001b[0m\u001b[1m \u001b[0m┃\u001b[1m \u001b[0m\u001b[1mquantity\u001b[0m\u001b[1m \u001b[0m┃\u001b[1m \u001b[0m\u001b[1mamount\u001b[0m\u001b[1m \u001b[0m┃\n",
       "┡━━━━━━━━━━━╇━━━━━━━━━━━━━━━━╇━━━━━━━━━━━━╇━━━━━━━━━━╇━━━━━━━━┩\n",
       "│ \u001b[2mint64\u001b[0m     │ \u001b[2mstring\u001b[0m         │ \u001b[2mstring\u001b[0m     │ \u001b[2mint64\u001b[0m    │ \u001b[2mint64\u001b[0m  │\n",
       "├───────────┼────────────────┼────────────┼──────────┼────────┤\n",
       "│  \u001b[1;36m20180911\u001b[0m │ \u001b[32mCS018205000001\u001b[0m │ \u001b[32mP071401012\u001b[0m │        \u001b[1;36m1\u001b[0m │   \u001b[1;36m2200\u001b[0m │\n",
       "│  \u001b[1;36m20180414\u001b[0m │ \u001b[32mCS018205000001\u001b[0m │ \u001b[32mP060104007\u001b[0m │        \u001b[1;36m6\u001b[0m │    \u001b[1;36m600\u001b[0m │\n",
       "│  \u001b[1;36m20190226\u001b[0m │ \u001b[32mCS018205000001\u001b[0m │ \u001b[32mP071401020\u001b[0m │        \u001b[1;36m1\u001b[0m │   \u001b[1;36m2200\u001b[0m │\n",
       "│  \u001b[1;36m20180911\u001b[0m │ \u001b[32mCS018205000001\u001b[0m │ \u001b[32mP071401005\u001b[0m │        \u001b[1;36m1\u001b[0m │   \u001b[1;36m1100\u001b[0m │\n",
       "└───────────┴────────────────┴────────────┴──────────┴────────┘"
      ]
     },
     "execution_count": 8,
     "metadata": {},
     "output_type": "execute_result"
    }
   ],
   "source": [
    "df_006 = (\n",
    "    df_receipt\n",
    "    .select(\"sales_ymd\", \"customer_id\", \"product_cd\", \"quantity\", \"amount\")\n",
    "    .filter(\n",
    "        (df_receipt[\"customer_id\"] == \"CS018205000001\")\n",
    "        & ((df_receipt[\"amount\"] >= 1000) | (df_receipt[\"quantity\"] > 5))\n",
    "    )\n",
    ")\n",
    "\n",
    "df_006.head()"
   ]
  },
  {
   "attachments": {},
   "cell_type": "markdown",
   "metadata": {},
   "source": [
    "---\n",
    "> P-007: レシート明細データ（df_receipt）から売上日（sales_ymd）、顧客ID（customer_id）、商品コード（product_cd）、売上金額（amount）の順に列を指定し、以下の全ての条件を満たすデータを抽出せよ。\n",
    "> - 顧客ID（customer_id）が\"CS018205000001\"\n",
    "> - 売上金額（amount）が1,000以上2,000以下"
   ]
  },
  {
   "cell_type": "code",
   "execution_count": 9,
   "metadata": {},
   "outputs": [
    {
     "data": {
      "text/html": [
       "<pre style=\"white-space:pre;overflow-x:auto;line-height:normal;font-family:Menlo,'DejaVu Sans Mono',consolas,'Courier New',monospace\">┏━━━━━━━━━━━┳━━━━━━━━━━━━━━━━┳━━━━━━━━━━━━┳━━━━━━━━┓\n",
       "┃<span style=\"font-weight: bold\"> sales_ymd </span>┃<span style=\"font-weight: bold\"> customer_id    </span>┃<span style=\"font-weight: bold\"> product_cd </span>┃<span style=\"font-weight: bold\"> amount </span>┃\n",
       "┡━━━━━━━━━━━╇━━━━━━━━━━━━━━━━╇━━━━━━━━━━━━╇━━━━━━━━┩\n",
       "│ <span style=\"color: #7f7f7f; text-decoration-color: #7f7f7f\">int64</span>     │ <span style=\"color: #7f7f7f; text-decoration-color: #7f7f7f\">string</span>         │ <span style=\"color: #7f7f7f; text-decoration-color: #7f7f7f\">string</span>     │ <span style=\"color: #7f7f7f; text-decoration-color: #7f7f7f\">int64</span>  │\n",
       "├───────────┼────────────────┼────────────┼────────┤\n",
       "│  <span style=\"color: #008080; text-decoration-color: #008080; font-weight: bold\">20180911</span> │ <span style=\"color: #008000; text-decoration-color: #008000\">CS018205000001</span> │ <span style=\"color: #008000; text-decoration-color: #008000\">P071401005</span> │   <span style=\"color: #008080; text-decoration-color: #008080; font-weight: bold\">1100</span> │\n",
       "└───────────┴────────────────┴────────────┴────────┘\n",
       "</pre>\n"
      ],
      "text/plain": [
       "┏━━━━━━━━━━━┳━━━━━━━━━━━━━━━━┳━━━━━━━━━━━━┳━━━━━━━━┓\n",
       "┃\u001b[1m \u001b[0m\u001b[1msales_ymd\u001b[0m\u001b[1m \u001b[0m┃\u001b[1m \u001b[0m\u001b[1mcustomer_id\u001b[0m\u001b[1m   \u001b[0m\u001b[1m \u001b[0m┃\u001b[1m \u001b[0m\u001b[1mproduct_cd\u001b[0m\u001b[1m \u001b[0m┃\u001b[1m \u001b[0m\u001b[1mamount\u001b[0m\u001b[1m \u001b[0m┃\n",
       "┡━━━━━━━━━━━╇━━━━━━━━━━━━━━━━╇━━━━━━━━━━━━╇━━━━━━━━┩\n",
       "│ \u001b[2mint64\u001b[0m     │ \u001b[2mstring\u001b[0m         │ \u001b[2mstring\u001b[0m     │ \u001b[2mint64\u001b[0m  │\n",
       "├───────────┼────────────────┼────────────┼────────┤\n",
       "│  \u001b[1;36m20180911\u001b[0m │ \u001b[32mCS018205000001\u001b[0m │ \u001b[32mP071401005\u001b[0m │   \u001b[1;36m1100\u001b[0m │\n",
       "└───────────┴────────────────┴────────────┴────────┘"
      ]
     },
     "execution_count": 9,
     "metadata": {},
     "output_type": "execute_result"
    }
   ],
   "source": [
    "df_007 = (\n",
    "    df_receipt.select(\"sales_ymd\", \"customer_id\", \"product_cd\", \"amount\")\n",
    "    .filter(\n",
    "        (df_receipt[\"customer_id\"] == \"CS018205000001\")\n",
    "        & ((df_receipt[\"amount\"] >= 1000) & (df_receipt[\"amount\"] <= 2000))\n",
    "    )\n",
    ")\n",
    "\n",
    "df_007.head()"
   ]
  },
  {
   "cell_type": "code",
   "execution_count": 10,
   "metadata": {},
   "outputs": [
    {
     "data": {
      "text/html": [
       "<pre style=\"white-space:pre;overflow-x:auto;line-height:normal;font-family:Menlo,'DejaVu Sans Mono',consolas,'Courier New',monospace\">┏━━━━━━━━━━━┳━━━━━━━━━━━━━━━━┳━━━━━━━━━━━━┳━━━━━━━━┓\n",
       "┃<span style=\"font-weight: bold\"> sales_ymd </span>┃<span style=\"font-weight: bold\"> customer_id    </span>┃<span style=\"font-weight: bold\"> product_cd </span>┃<span style=\"font-weight: bold\"> amount </span>┃\n",
       "┡━━━━━━━━━━━╇━━━━━━━━━━━━━━━━╇━━━━━━━━━━━━╇━━━━━━━━┩\n",
       "│ <span style=\"color: #7f7f7f; text-decoration-color: #7f7f7f\">int64</span>     │ <span style=\"color: #7f7f7f; text-decoration-color: #7f7f7f\">string</span>         │ <span style=\"color: #7f7f7f; text-decoration-color: #7f7f7f\">string</span>     │ <span style=\"color: #7f7f7f; text-decoration-color: #7f7f7f\">int64</span>  │\n",
       "├───────────┼────────────────┼────────────┼────────┤\n",
       "│  <span style=\"color: #008080; text-decoration-color: #008080; font-weight: bold\">20180911</span> │ <span style=\"color: #008000; text-decoration-color: #008000\">CS018205000001</span> │ <span style=\"color: #008000; text-decoration-color: #008000\">P071401005</span> │   <span style=\"color: #008080; text-decoration-color: #008080; font-weight: bold\">1100</span> │\n",
       "└───────────┴────────────────┴────────────┴────────┘\n",
       "</pre>\n"
      ],
      "text/plain": [
       "┏━━━━━━━━━━━┳━━━━━━━━━━━━━━━━┳━━━━━━━━━━━━┳━━━━━━━━┓\n",
       "┃\u001b[1m \u001b[0m\u001b[1msales_ymd\u001b[0m\u001b[1m \u001b[0m┃\u001b[1m \u001b[0m\u001b[1mcustomer_id\u001b[0m\u001b[1m   \u001b[0m\u001b[1m \u001b[0m┃\u001b[1m \u001b[0m\u001b[1mproduct_cd\u001b[0m\u001b[1m \u001b[0m┃\u001b[1m \u001b[0m\u001b[1mamount\u001b[0m\u001b[1m \u001b[0m┃\n",
       "┡━━━━━━━━━━━╇━━━━━━━━━━━━━━━━╇━━━━━━━━━━━━╇━━━━━━━━┩\n",
       "│ \u001b[2mint64\u001b[0m     │ \u001b[2mstring\u001b[0m         │ \u001b[2mstring\u001b[0m     │ \u001b[2mint64\u001b[0m  │\n",
       "├───────────┼────────────────┼────────────┼────────┤\n",
       "│  \u001b[1;36m20180911\u001b[0m │ \u001b[32mCS018205000001\u001b[0m │ \u001b[32mP071401005\u001b[0m │   \u001b[1;36m1100\u001b[0m │\n",
       "└───────────┴────────────────┴────────────┴────────┘"
      ]
     },
     "execution_count": 10,
     "metadata": {},
     "output_type": "execute_result"
    }
   ],
   "source": [
    "df_007 = (\n",
    "    df_receipt.select(\"sales_ymd\", \"customer_id\", \"product_cd\", \"amount\")\n",
    "    .filter(\n",
    "        (df_receipt[\"customer_id\"] == \"CS018205000001\")\n",
    "        & (df_receipt[\"amount\"].between(1000, 2000))\n",
    "    )\n",
    ")\n",
    "\n",
    "df_007.head()"
   ]
  },
  {
   "attachments": {},
   "cell_type": "markdown",
   "metadata": {},
   "source": [
    "---\n",
    "> P-008: レシート明細データ（df_receipt）から売上日（sales_ymd）、顧客ID（customer_id）、商品コード（product_cd）、売上金額（amount）の順に列を指定し、以下の全ての条件を満たすデータを抽出せよ。\n",
    "> - 顧客ID（customer_id）が\"CS018205000001\"\n",
    "> - 商品コード（product_cd）が\"P071401019\"以外"
   ]
  },
  {
   "cell_type": "code",
   "execution_count": 11,
   "metadata": {},
   "outputs": [
    {
     "data": {
      "text/html": [
       "<pre style=\"white-space:pre;overflow-x:auto;line-height:normal;font-family:Menlo,'DejaVu Sans Mono',consolas,'Courier New',monospace\">┏━━━━━━━━━━━┳━━━━━━━━━━━━━━━━┳━━━━━━━━━━━━┳━━━━━━━━┓\n",
       "┃<span style=\"font-weight: bold\"> sales_ymd </span>┃<span style=\"font-weight: bold\"> customer_id    </span>┃<span style=\"font-weight: bold\"> product_cd </span>┃<span style=\"font-weight: bold\"> amount </span>┃\n",
       "┡━━━━━━━━━━━╇━━━━━━━━━━━━━━━━╇━━━━━━━━━━━━╇━━━━━━━━┩\n",
       "│ <span style=\"color: #7f7f7f; text-decoration-color: #7f7f7f\">int64</span>     │ <span style=\"color: #7f7f7f; text-decoration-color: #7f7f7f\">string</span>         │ <span style=\"color: #7f7f7f; text-decoration-color: #7f7f7f\">string</span>     │ <span style=\"color: #7f7f7f; text-decoration-color: #7f7f7f\">int64</span>  │\n",
       "├───────────┼────────────────┼────────────┼────────┤\n",
       "│  <span style=\"color: #008080; text-decoration-color: #008080; font-weight: bold\">20180911</span> │ <span style=\"color: #008000; text-decoration-color: #008000\">CS018205000001</span> │ <span style=\"color: #008000; text-decoration-color: #008000\">P071401012</span> │   <span style=\"color: #008080; text-decoration-color: #008080; font-weight: bold\">2200</span> │\n",
       "│  <span style=\"color: #008080; text-decoration-color: #008080; font-weight: bold\">20180414</span> │ <span style=\"color: #008000; text-decoration-color: #008000\">CS018205000001</span> │ <span style=\"color: #008000; text-decoration-color: #008000\">P060104007</span> │    <span style=\"color: #008080; text-decoration-color: #008080; font-weight: bold\">600</span> │\n",
       "│  <span style=\"color: #008080; text-decoration-color: #008080; font-weight: bold\">20170614</span> │ <span style=\"color: #008000; text-decoration-color: #008000\">CS018205000001</span> │ <span style=\"color: #008000; text-decoration-color: #008000\">P050206001</span> │    <span style=\"color: #008080; text-decoration-color: #008080; font-weight: bold\">990</span> │\n",
       "│  <span style=\"color: #008080; text-decoration-color: #008080; font-weight: bold\">20170614</span> │ <span style=\"color: #008000; text-decoration-color: #008000\">CS018205000001</span> │ <span style=\"color: #008000; text-decoration-color: #008000\">P060702015</span> │    <span style=\"color: #008080; text-decoration-color: #008080; font-weight: bold\">108</span> │\n",
       "│  <span style=\"color: #008080; text-decoration-color: #008080; font-weight: bold\">20190216</span> │ <span style=\"color: #008000; text-decoration-color: #008000\">CS018205000001</span> │ <span style=\"color: #008000; text-decoration-color: #008000\">P071005024</span> │    <span style=\"color: #008080; text-decoration-color: #008080; font-weight: bold\">102</span> │\n",
       "│  <span style=\"color: #008080; text-decoration-color: #008080; font-weight: bold\">20180414</span> │ <span style=\"color: #008000; text-decoration-color: #008000\">CS018205000001</span> │ <span style=\"color: #008000; text-decoration-color: #008000\">P071101002</span> │    <span style=\"color: #008080; text-decoration-color: #008080; font-weight: bold\">278</span> │\n",
       "│  <span style=\"color: #008080; text-decoration-color: #008080; font-weight: bold\">20190226</span> │ <span style=\"color: #008000; text-decoration-color: #008000\">CS018205000001</span> │ <span style=\"color: #008000; text-decoration-color: #008000\">P070902035</span> │    <span style=\"color: #008080; text-decoration-color: #008080; font-weight: bold\">168</span> │\n",
       "│  <span style=\"color: #008080; text-decoration-color: #008080; font-weight: bold\">20190924</span> │ <span style=\"color: #008000; text-decoration-color: #008000\">CS018205000001</span> │ <span style=\"color: #008000; text-decoration-color: #008000\">P060805001</span> │    <span style=\"color: #008080; text-decoration-color: #008080; font-weight: bold\">495</span> │\n",
       "│  <span style=\"color: #008080; text-decoration-color: #008080; font-weight: bold\">20190226</span> │ <span style=\"color: #008000; text-decoration-color: #008000\">CS018205000001</span> │ <span style=\"color: #008000; text-decoration-color: #008000\">P071401020</span> │   <span style=\"color: #008080; text-decoration-color: #008080; font-weight: bold\">2200</span> │\n",
       "│  <span style=\"color: #008080; text-decoration-color: #008080; font-weight: bold\">20180911</span> │ <span style=\"color: #008000; text-decoration-color: #008000\">CS018205000001</span> │ <span style=\"color: #008000; text-decoration-color: #008000\">P071401005</span> │   <span style=\"color: #008080; text-decoration-color: #008080; font-weight: bold\">1100</span> │\n",
       "│         <span style=\"color: #7f7f7f; text-decoration-color: #7f7f7f\">…</span> │ <span style=\"color: #7f7f7f; text-decoration-color: #7f7f7f\">…</span>              │ <span style=\"color: #7f7f7f; text-decoration-color: #7f7f7f\">…</span>          │      <span style=\"color: #7f7f7f; text-decoration-color: #7f7f7f\">…</span> │\n",
       "└───────────┴────────────────┴────────────┴────────┘\n",
       "</pre>\n"
      ],
      "text/plain": [
       "┏━━━━━━━━━━━┳━━━━━━━━━━━━━━━━┳━━━━━━━━━━━━┳━━━━━━━━┓\n",
       "┃\u001b[1m \u001b[0m\u001b[1msales_ymd\u001b[0m\u001b[1m \u001b[0m┃\u001b[1m \u001b[0m\u001b[1mcustomer_id\u001b[0m\u001b[1m   \u001b[0m\u001b[1m \u001b[0m┃\u001b[1m \u001b[0m\u001b[1mproduct_cd\u001b[0m\u001b[1m \u001b[0m┃\u001b[1m \u001b[0m\u001b[1mamount\u001b[0m\u001b[1m \u001b[0m┃\n",
       "┡━━━━━━━━━━━╇━━━━━━━━━━━━━━━━╇━━━━━━━━━━━━╇━━━━━━━━┩\n",
       "│ \u001b[2mint64\u001b[0m     │ \u001b[2mstring\u001b[0m         │ \u001b[2mstring\u001b[0m     │ \u001b[2mint64\u001b[0m  │\n",
       "├───────────┼────────────────┼────────────┼────────┤\n",
       "│  \u001b[1;36m20180911\u001b[0m │ \u001b[32mCS018205000001\u001b[0m │ \u001b[32mP071401012\u001b[0m │   \u001b[1;36m2200\u001b[0m │\n",
       "│  \u001b[1;36m20180414\u001b[0m │ \u001b[32mCS018205000001\u001b[0m │ \u001b[32mP060104007\u001b[0m │    \u001b[1;36m600\u001b[0m │\n",
       "│  \u001b[1;36m20170614\u001b[0m │ \u001b[32mCS018205000001\u001b[0m │ \u001b[32mP050206001\u001b[0m │    \u001b[1;36m990\u001b[0m │\n",
       "│  \u001b[1;36m20170614\u001b[0m │ \u001b[32mCS018205000001\u001b[0m │ \u001b[32mP060702015\u001b[0m │    \u001b[1;36m108\u001b[0m │\n",
       "│  \u001b[1;36m20190216\u001b[0m │ \u001b[32mCS018205000001\u001b[0m │ \u001b[32mP071005024\u001b[0m │    \u001b[1;36m102\u001b[0m │\n",
       "│  \u001b[1;36m20180414\u001b[0m │ \u001b[32mCS018205000001\u001b[0m │ \u001b[32mP071101002\u001b[0m │    \u001b[1;36m278\u001b[0m │\n",
       "│  \u001b[1;36m20190226\u001b[0m │ \u001b[32mCS018205000001\u001b[0m │ \u001b[32mP070902035\u001b[0m │    \u001b[1;36m168\u001b[0m │\n",
       "│  \u001b[1;36m20190924\u001b[0m │ \u001b[32mCS018205000001\u001b[0m │ \u001b[32mP060805001\u001b[0m │    \u001b[1;36m495\u001b[0m │\n",
       "│  \u001b[1;36m20190226\u001b[0m │ \u001b[32mCS018205000001\u001b[0m │ \u001b[32mP071401020\u001b[0m │   \u001b[1;36m2200\u001b[0m │\n",
       "│  \u001b[1;36m20180911\u001b[0m │ \u001b[32mCS018205000001\u001b[0m │ \u001b[32mP071401005\u001b[0m │   \u001b[1;36m1100\u001b[0m │\n",
       "│         \u001b[2m…\u001b[0m │ \u001b[2m…\u001b[0m              │ \u001b[2m…\u001b[0m          │      \u001b[2m…\u001b[0m │\n",
       "└───────────┴────────────────┴────────────┴────────┘"
      ]
     },
     "execution_count": 11,
     "metadata": {},
     "output_type": "execute_result"
    }
   ],
   "source": [
    "df_008 = (\n",
    "    df_receipt.select(\"sales_ymd\", \"customer_id\", \"product_cd\", \"amount\")\n",
    "    .filter(\n",
    "        (df_receipt[\"customer_id\"] == \"CS018205000001\")\n",
    "        & (df_receipt[\"product_cd\"] != \"P071401019\")\n",
    "    )\n",
    ")\n",
    "\n",
    "df_008"
   ]
  },
  {
   "attachments": {},
   "cell_type": "markdown",
   "metadata": {},
   "source": [
    "---\n",
    "> P-009: 以下のPandas処理において、出力結果を変えずにORをANDに書き換え、Ibisで表現せよ。\n",
    "> \n",
    "> pandas:`df_store.query('not(prefecture_cd == \"13\" | floor_area > 900)')` <br>"
   ]
  },
  {
   "cell_type": "code",
   "execution_count": 12,
   "metadata": {},
   "outputs": [
    {
     "data": {
      "text/html": [
       "<pre style=\"white-space:pre;overflow-x:auto;line-height:normal;font-family:Menlo,'DejaVu Sans Mono',consolas,'Courier New',monospace\">┏━━━━━━━━━━┳━━━━━━━━━━━━┳━━━━━━━━━━━━━━━┳━━━━━━━━━━━━┳━━━━━━━━━━━━━━━━━━━┳━━━━━━━━━━━━━━━━━━━━━━━━━━━━━━━━┳━━━━━━━━━━━━━━┳━━━━━━━━━━━┳━━━━━━━━━━┳━━━━━━━━━━━━┓\n",
       "┃<span style=\"font-weight: bold\"> store_cd </span>┃<span style=\"font-weight: bold\"> store_name </span>┃<span style=\"font-weight: bold\"> prefecture_cd </span>┃<span style=\"font-weight: bold\"> prefecture </span>┃<span style=\"font-weight: bold\"> address           </span>┃<span style=\"font-weight: bold\"> address_kana                   </span>┃<span style=\"font-weight: bold\"> tel_no       </span>┃<span style=\"font-weight: bold\"> longitude </span>┃<span style=\"font-weight: bold\"> latitude </span>┃<span style=\"font-weight: bold\"> floor_area </span>┃\n",
       "┡━━━━━━━━━━╇━━━━━━━━━━━━╇━━━━━━━━━━━━━━━╇━━━━━━━━━━━━╇━━━━━━━━━━━━━━━━━━━╇━━━━━━━━━━━━━━━━━━━━━━━━━━━━━━━━╇━━━━━━━━━━━━━━╇━━━━━━━━━━━╇━━━━━━━━━━╇━━━━━━━━━━━━┩\n",
       "│ <span style=\"color: #7f7f7f; text-decoration-color: #7f7f7f\">string</span>   │ <span style=\"color: #7f7f7f; text-decoration-color: #7f7f7f\">string</span>     │ <span style=\"color: #7f7f7f; text-decoration-color: #7f7f7f\">string</span>        │ <span style=\"color: #7f7f7f; text-decoration-color: #7f7f7f\">string</span>     │ <span style=\"color: #7f7f7f; text-decoration-color: #7f7f7f\">string</span>            │ <span style=\"color: #7f7f7f; text-decoration-color: #7f7f7f\">string</span>                         │ <span style=\"color: #7f7f7f; text-decoration-color: #7f7f7f\">string</span>       │ <span style=\"color: #7f7f7f; text-decoration-color: #7f7f7f\">float64</span>   │ <span style=\"color: #7f7f7f; text-decoration-color: #7f7f7f\">float64</span>  │ <span style=\"color: #7f7f7f; text-decoration-color: #7f7f7f\">float64</span>    │\n",
       "├──────────┼────────────┼───────────────┼────────────┼───────────────────┼────────────────────────────────┼──────────────┼───────────┼──────────┼────────────┤\n",
       "│ <span style=\"color: #008000; text-decoration-color: #008000\">S14046  </span> │ <span style=\"color: #008000; text-decoration-color: #008000\">北山田店  </span> │ <span style=\"color: #008000; text-decoration-color: #008000\">14           </span> │ <span style=\"color: #008000; text-decoration-color: #008000\">神奈川県  </span> │ <span style=\"color: #008000; text-decoration-color: #008000\">神奈川県横浜市都…</span> │ <span style=\"color: #008000; text-decoration-color: #008000\">カナガワケンヨコハマシツヅキ …</span> │ <span style=\"color: #008000; text-decoration-color: #008000\">045-123-4049</span> │  <span style=\"color: #008080; text-decoration-color: #008080; font-weight: bold\">139.5916</span> │ <span style=\"color: #008080; text-decoration-color: #008080; font-weight: bold\">35.56189</span> │      <span style=\"color: #008080; text-decoration-color: #008080; font-weight: bold\">831.0</span> │\n",
       "│ <span style=\"color: #008000; text-decoration-color: #008000\">S14011  </span> │ <span style=\"color: #008000; text-decoration-color: #008000\">日吉本町店</span> │ <span style=\"color: #008000; text-decoration-color: #008000\">14           </span> │ <span style=\"color: #008000; text-decoration-color: #008000\">神奈川県  </span> │ <span style=\"color: #008000; text-decoration-color: #008000\">神奈川県横浜市港…</span> │ <span style=\"color: #008000; text-decoration-color: #008000\">カナガワケンヨコハマシコウホ …</span> │ <span style=\"color: #008000; text-decoration-color: #008000\">045-123-4033</span> │  <span style=\"color: #008080; text-decoration-color: #008080; font-weight: bold\">139.6316</span> │ <span style=\"color: #008080; text-decoration-color: #008080; font-weight: bold\">35.54655</span> │      <span style=\"color: #008080; text-decoration-color: #008080; font-weight: bold\">890.0</span> │\n",
       "│ <span style=\"color: #008000; text-decoration-color: #008000\">S12013  </span> │ <span style=\"color: #008000; text-decoration-color: #008000\">習志野店  </span> │ <span style=\"color: #008000; text-decoration-color: #008000\">12           </span> │ <span style=\"color: #008000; text-decoration-color: #008000\">千葉県    </span> │ <span style=\"color: #008000; text-decoration-color: #008000\">千葉県習志野市芝…</span> │ <span style=\"color: #008000; text-decoration-color: #008000\">チバケンナラシノシシバゾノイ …</span> │ <span style=\"color: #008000; text-decoration-color: #008000\">047-123-4002</span> │  <span style=\"color: #008080; text-decoration-color: #008080; font-weight: bold\">140.0220</span> │ <span style=\"color: #008080; text-decoration-color: #008080; font-weight: bold\">35.66122</span> │      <span style=\"color: #008080; text-decoration-color: #008080; font-weight: bold\">808.0</span> │\n",
       "└──────────┴────────────┴───────────────┴────────────┴───────────────────┴────────────────────────────────┴──────────────┴───────────┴──────────┴────────────┘\n",
       "</pre>\n"
      ],
      "text/plain": [
       "┏━━━━━━━━━━┳━━━━━━━━━━━━┳━━━━━━━━━━━━━━━┳━━━━━━━━━━━━┳━━━━━━━━━━━━━━━━━━━┳━━━━━━━━━━━━━━━━━━━━━━━━━━━━━━━━┳━━━━━━━━━━━━━━┳━━━━━━━━━━━┳━━━━━━━━━━┳━━━━━━━━━━━━┓\n",
       "┃\u001b[1m \u001b[0m\u001b[1mstore_cd\u001b[0m\u001b[1m \u001b[0m┃\u001b[1m \u001b[0m\u001b[1mstore_name\u001b[0m\u001b[1m \u001b[0m┃\u001b[1m \u001b[0m\u001b[1mprefecture_cd\u001b[0m\u001b[1m \u001b[0m┃\u001b[1m \u001b[0m\u001b[1mprefecture\u001b[0m\u001b[1m \u001b[0m┃\u001b[1m \u001b[0m\u001b[1maddress\u001b[0m\u001b[1m          \u001b[0m\u001b[1m \u001b[0m┃\u001b[1m \u001b[0m\u001b[1maddress_kana\u001b[0m\u001b[1m                  \u001b[0m\u001b[1m \u001b[0m┃\u001b[1m \u001b[0m\u001b[1mtel_no\u001b[0m\u001b[1m      \u001b[0m\u001b[1m \u001b[0m┃\u001b[1m \u001b[0m\u001b[1mlongitude\u001b[0m\u001b[1m \u001b[0m┃\u001b[1m \u001b[0m\u001b[1mlatitude\u001b[0m\u001b[1m \u001b[0m┃\u001b[1m \u001b[0m\u001b[1mfloor_area\u001b[0m\u001b[1m \u001b[0m┃\n",
       "┡━━━━━━━━━━╇━━━━━━━━━━━━╇━━━━━━━━━━━━━━━╇━━━━━━━━━━━━╇━━━━━━━━━━━━━━━━━━━╇━━━━━━━━━━━━━━━━━━━━━━━━━━━━━━━━╇━━━━━━━━━━━━━━╇━━━━━━━━━━━╇━━━━━━━━━━╇━━━━━━━━━━━━┩\n",
       "│ \u001b[2mstring\u001b[0m   │ \u001b[2mstring\u001b[0m     │ \u001b[2mstring\u001b[0m        │ \u001b[2mstring\u001b[0m     │ \u001b[2mstring\u001b[0m            │ \u001b[2mstring\u001b[0m                         │ \u001b[2mstring\u001b[0m       │ \u001b[2mfloat64\u001b[0m   │ \u001b[2mfloat64\u001b[0m  │ \u001b[2mfloat64\u001b[0m    │\n",
       "├──────────┼────────────┼───────────────┼────────────┼───────────────────┼────────────────────────────────┼──────────────┼───────────┼──────────┼────────────┤\n",
       "│ \u001b[32mS14046  \u001b[0m │ \u001b[32m北山田店  \u001b[0m │ \u001b[32m14           \u001b[0m │ \u001b[32m神奈川県  \u001b[0m │ \u001b[32m神奈川県横浜市都…\u001b[0m │ \u001b[32mカナガワケンヨコハマシツヅキ …\u001b[0m │ \u001b[32m045-123-4049\u001b[0m │  \u001b[1;36m139.5916\u001b[0m │ \u001b[1;36m35.56189\u001b[0m │      \u001b[1;36m831.0\u001b[0m │\n",
       "│ \u001b[32mS14011  \u001b[0m │ \u001b[32m日吉本町店\u001b[0m │ \u001b[32m14           \u001b[0m │ \u001b[32m神奈川県  \u001b[0m │ \u001b[32m神奈川県横浜市港…\u001b[0m │ \u001b[32mカナガワケンヨコハマシコウホ …\u001b[0m │ \u001b[32m045-123-4033\u001b[0m │  \u001b[1;36m139.6316\u001b[0m │ \u001b[1;36m35.54655\u001b[0m │      \u001b[1;36m890.0\u001b[0m │\n",
       "│ \u001b[32mS12013  \u001b[0m │ \u001b[32m習志野店  \u001b[0m │ \u001b[32m12           \u001b[0m │ \u001b[32m千葉県    \u001b[0m │ \u001b[32m千葉県習志野市芝…\u001b[0m │ \u001b[32mチバケンナラシノシシバゾノイ …\u001b[0m │ \u001b[32m047-123-4002\u001b[0m │  \u001b[1;36m140.0220\u001b[0m │ \u001b[1;36m35.66122\u001b[0m │      \u001b[1;36m808.0\u001b[0m │\n",
       "└──────────┴────────────┴───────────────┴────────────┴───────────────────┴────────────────────────────────┴──────────────┴───────────┴──────────┴────────────┘"
      ]
     },
     "execution_count": 12,
     "metadata": {},
     "output_type": "execute_result"
    }
   ],
   "source": [
    "df_009 = df_store.filter(\n",
    "    (df_store[\"prefecture_cd\"] != \"13\")\n",
    "    & (df_store[\"floor_area\"] <= 900)\n",
    ")\n",
    "\n",
    "df_009"
   ]
  },
  {
   "attachments": {},
   "cell_type": "markdown",
   "metadata": {},
   "source": [
    "---\n",
    "> P-010: 店舗データ（df_store）から、店舗コード（store_cd）が\"S14\"で始まるものだけ全項目抽出し、5件表示せよ。"
   ]
  },
  {
   "cell_type": "code",
   "execution_count": 13,
   "metadata": {},
   "outputs": [
    {
     "data": {
      "text/html": [
       "<pre style=\"white-space:pre;overflow-x:auto;line-height:normal;font-family:Menlo,'DejaVu Sans Mono',consolas,'Courier New',monospace\">┏━━━━━━━━━━┳━━━━━━━━━━━━┳━━━━━━━━━━━━━━━┳━━━━━━━━━━━━┳━━━━━━━━━━━━━━━━━━━━━┳━━━━━━━━━━━━━━━━━━━━━━━━━━━━━━━┳━━━━━━━━━━━━━━┳━━━━━━━━━━━┳━━━━━━━━━━┳━━━━━━━━━━━━┓\n",
       "┃<span style=\"font-weight: bold\"> store_cd </span>┃<span style=\"font-weight: bold\"> store_name </span>┃<span style=\"font-weight: bold\"> prefecture_cd </span>┃<span style=\"font-weight: bold\"> prefecture </span>┃<span style=\"font-weight: bold\"> address             </span>┃<span style=\"font-weight: bold\"> address_kana                  </span>┃<span style=\"font-weight: bold\"> tel_no       </span>┃<span style=\"font-weight: bold\"> longitude </span>┃<span style=\"font-weight: bold\"> latitude </span>┃<span style=\"font-weight: bold\"> floor_area </span>┃\n",
       "┡━━━━━━━━━━╇━━━━━━━━━━━━╇━━━━━━━━━━━━━━━╇━━━━━━━━━━━━╇━━━━━━━━━━━━━━━━━━━━━╇━━━━━━━━━━━━━━━━━━━━━━━━━━━━━━━╇━━━━━━━━━━━━━━╇━━━━━━━━━━━╇━━━━━━━━━━╇━━━━━━━━━━━━┩\n",
       "│ <span style=\"color: #7f7f7f; text-decoration-color: #7f7f7f\">string</span>   │ <span style=\"color: #7f7f7f; text-decoration-color: #7f7f7f\">string</span>     │ <span style=\"color: #7f7f7f; text-decoration-color: #7f7f7f\">string</span>        │ <span style=\"color: #7f7f7f; text-decoration-color: #7f7f7f\">string</span>     │ <span style=\"color: #7f7f7f; text-decoration-color: #7f7f7f\">string</span>              │ <span style=\"color: #7f7f7f; text-decoration-color: #7f7f7f\">string</span>                        │ <span style=\"color: #7f7f7f; text-decoration-color: #7f7f7f\">string</span>       │ <span style=\"color: #7f7f7f; text-decoration-color: #7f7f7f\">float64</span>   │ <span style=\"color: #7f7f7f; text-decoration-color: #7f7f7f\">float64</span>  │ <span style=\"color: #7f7f7f; text-decoration-color: #7f7f7f\">float64</span>    │\n",
       "├──────────┼────────────┼───────────────┼────────────┼─────────────────────┼───────────────────────────────┼──────────────┼───────────┼──────────┼────────────┤\n",
       "│ <span style=\"color: #008000; text-decoration-color: #008000\">S14010  </span> │ <span style=\"color: #008000; text-decoration-color: #008000\">菊名店    </span> │ <span style=\"color: #008000; text-decoration-color: #008000\">14           </span> │ <span style=\"color: #008000; text-decoration-color: #008000\">神奈川県  </span> │ <span style=\"color: #008000; text-decoration-color: #008000\">神奈川県横浜市港北…</span> │ <span style=\"color: #008000; text-decoration-color: #008000\">カナガワケンヨコハマシコウホ…</span> │ <span style=\"color: #008000; text-decoration-color: #008000\">045-123-4032</span> │  <span style=\"color: #008080; text-decoration-color: #008080; font-weight: bold\">139.6326</span> │ <span style=\"color: #008080; text-decoration-color: #008080; font-weight: bold\">35.50049</span> │     <span style=\"color: #008080; text-decoration-color: #008080; font-weight: bold\">1732.0</span> │\n",
       "│ <span style=\"color: #008000; text-decoration-color: #008000\">S14033  </span> │ <span style=\"color: #008000; text-decoration-color: #008000\">阿久和店  </span> │ <span style=\"color: #008000; text-decoration-color: #008000\">14           </span> │ <span style=\"color: #008000; text-decoration-color: #008000\">神奈川県  </span> │ <span style=\"color: #008000; text-decoration-color: #008000\">神奈川県横浜市瀬谷…</span> │ <span style=\"color: #008000; text-decoration-color: #008000\">カナガワケンヨコハマシセヤク…</span> │ <span style=\"color: #008000; text-decoration-color: #008000\">045-123-4043</span> │  <span style=\"color: #008080; text-decoration-color: #008080; font-weight: bold\">139.4961</span> │ <span style=\"color: #008080; text-decoration-color: #008080; font-weight: bold\">35.45918</span> │     <span style=\"color: #008080; text-decoration-color: #008080; font-weight: bold\">1495.0</span> │\n",
       "│ <span style=\"color: #008000; text-decoration-color: #008000\">S14036  </span> │ <span style=\"color: #008000; text-decoration-color: #008000\">相模原中 …</span> │ <span style=\"color: #008000; text-decoration-color: #008000\">14           </span> │ <span style=\"color: #008000; text-decoration-color: #008000\">神奈川県  </span> │ <span style=\"color: #008000; text-decoration-color: #008000\">神奈川県相模原市中…</span> │ <span style=\"color: #008000; text-decoration-color: #008000\">カナガワケンサガミハラシチュ…</span> │ <span style=\"color: #008000; text-decoration-color: #008000\">042-123-4045</span> │  <span style=\"color: #008080; text-decoration-color: #008080; font-weight: bold\">139.3716</span> │ <span style=\"color: #008080; text-decoration-color: #008080; font-weight: bold\">35.57327</span> │     <span style=\"color: #008080; text-decoration-color: #008080; font-weight: bold\">1679.0</span> │\n",
       "│ <span style=\"color: #008000; text-decoration-color: #008000\">S14040  </span> │ <span style=\"color: #008000; text-decoration-color: #008000\">長津田店  </span> │ <span style=\"color: #008000; text-decoration-color: #008000\">14           </span> │ <span style=\"color: #008000; text-decoration-color: #008000\">神奈川県  </span> │ <span style=\"color: #008000; text-decoration-color: #008000\">神奈川県横浜市緑区…</span> │ <span style=\"color: #008000; text-decoration-color: #008000\">カナガワケンヨコハマシミドリ…</span> │ <span style=\"color: #008000; text-decoration-color: #008000\">045-123-4046</span> │  <span style=\"color: #008080; text-decoration-color: #008080; font-weight: bold\">139.4994</span> │ <span style=\"color: #008080; text-decoration-color: #008080; font-weight: bold\">35.52398</span> │     <span style=\"color: #008080; text-decoration-color: #008080; font-weight: bold\">1548.0</span> │\n",
       "│ <span style=\"color: #008000; text-decoration-color: #008000\">S14050  </span> │ <span style=\"color: #008000; text-decoration-color: #008000\">阿久和西店</span> │ <span style=\"color: #008000; text-decoration-color: #008000\">14           </span> │ <span style=\"color: #008000; text-decoration-color: #008000\">神奈川県  </span> │ <span style=\"color: #008000; text-decoration-color: #008000\">神奈川県横浜市瀬谷…</span> │ <span style=\"color: #008000; text-decoration-color: #008000\">カナガワケンヨコハマシセヤク…</span> │ <span style=\"color: #008000; text-decoration-color: #008000\">045-123-4053</span> │  <span style=\"color: #008080; text-decoration-color: #008080; font-weight: bold\">139.4961</span> │ <span style=\"color: #008080; text-decoration-color: #008080; font-weight: bold\">35.45918</span> │     <span style=\"color: #008080; text-decoration-color: #008080; font-weight: bold\">1830.0</span> │\n",
       "└──────────┴────────────┴───────────────┴────────────┴─────────────────────┴───────────────────────────────┴──────────────┴───────────┴──────────┴────────────┘\n",
       "</pre>\n"
      ],
      "text/plain": [
       "┏━━━━━━━━━━┳━━━━━━━━━━━━┳━━━━━━━━━━━━━━━┳━━━━━━━━━━━━┳━━━━━━━━━━━━━━━━━━━━━┳━━━━━━━━━━━━━━━━━━━━━━━━━━━━━━━┳━━━━━━━━━━━━━━┳━━━━━━━━━━━┳━━━━━━━━━━┳━━━━━━━━━━━━┓\n",
       "┃\u001b[1m \u001b[0m\u001b[1mstore_cd\u001b[0m\u001b[1m \u001b[0m┃\u001b[1m \u001b[0m\u001b[1mstore_name\u001b[0m\u001b[1m \u001b[0m┃\u001b[1m \u001b[0m\u001b[1mprefecture_cd\u001b[0m\u001b[1m \u001b[0m┃\u001b[1m \u001b[0m\u001b[1mprefecture\u001b[0m\u001b[1m \u001b[0m┃\u001b[1m \u001b[0m\u001b[1maddress\u001b[0m\u001b[1m            \u001b[0m\u001b[1m \u001b[0m┃\u001b[1m \u001b[0m\u001b[1maddress_kana\u001b[0m\u001b[1m                 \u001b[0m\u001b[1m \u001b[0m┃\u001b[1m \u001b[0m\u001b[1mtel_no\u001b[0m\u001b[1m      \u001b[0m\u001b[1m \u001b[0m┃\u001b[1m \u001b[0m\u001b[1mlongitude\u001b[0m\u001b[1m \u001b[0m┃\u001b[1m \u001b[0m\u001b[1mlatitude\u001b[0m\u001b[1m \u001b[0m┃\u001b[1m \u001b[0m\u001b[1mfloor_area\u001b[0m\u001b[1m \u001b[0m┃\n",
       "┡━━━━━━━━━━╇━━━━━━━━━━━━╇━━━━━━━━━━━━━━━╇━━━━━━━━━━━━╇━━━━━━━━━━━━━━━━━━━━━╇━━━━━━━━━━━━━━━━━━━━━━━━━━━━━━━╇━━━━━━━━━━━━━━╇━━━━━━━━━━━╇━━━━━━━━━━╇━━━━━━━━━━━━┩\n",
       "│ \u001b[2mstring\u001b[0m   │ \u001b[2mstring\u001b[0m     │ \u001b[2mstring\u001b[0m        │ \u001b[2mstring\u001b[0m     │ \u001b[2mstring\u001b[0m              │ \u001b[2mstring\u001b[0m                        │ \u001b[2mstring\u001b[0m       │ \u001b[2mfloat64\u001b[0m   │ \u001b[2mfloat64\u001b[0m  │ \u001b[2mfloat64\u001b[0m    │\n",
       "├──────────┼────────────┼───────────────┼────────────┼─────────────────────┼───────────────────────────────┼──────────────┼───────────┼──────────┼────────────┤\n",
       "│ \u001b[32mS14010  \u001b[0m │ \u001b[32m菊名店    \u001b[0m │ \u001b[32m14           \u001b[0m │ \u001b[32m神奈川県  \u001b[0m │ \u001b[32m神奈川県横浜市港北…\u001b[0m │ \u001b[32mカナガワケンヨコハマシコウホ…\u001b[0m │ \u001b[32m045-123-4032\u001b[0m │  \u001b[1;36m139.6326\u001b[0m │ \u001b[1;36m35.50049\u001b[0m │     \u001b[1;36m1732.0\u001b[0m │\n",
       "│ \u001b[32mS14033  \u001b[0m │ \u001b[32m阿久和店  \u001b[0m │ \u001b[32m14           \u001b[0m │ \u001b[32m神奈川県  \u001b[0m │ \u001b[32m神奈川県横浜市瀬谷…\u001b[0m │ \u001b[32mカナガワケンヨコハマシセヤク…\u001b[0m │ \u001b[32m045-123-4043\u001b[0m │  \u001b[1;36m139.4961\u001b[0m │ \u001b[1;36m35.45918\u001b[0m │     \u001b[1;36m1495.0\u001b[0m │\n",
       "│ \u001b[32mS14036  \u001b[0m │ \u001b[32m相模原中 …\u001b[0m │ \u001b[32m14           \u001b[0m │ \u001b[32m神奈川県  \u001b[0m │ \u001b[32m神奈川県相模原市中…\u001b[0m │ \u001b[32mカナガワケンサガミハラシチュ…\u001b[0m │ \u001b[32m042-123-4045\u001b[0m │  \u001b[1;36m139.3716\u001b[0m │ \u001b[1;36m35.57327\u001b[0m │     \u001b[1;36m1679.0\u001b[0m │\n",
       "│ \u001b[32mS14040  \u001b[0m │ \u001b[32m長津田店  \u001b[0m │ \u001b[32m14           \u001b[0m │ \u001b[32m神奈川県  \u001b[0m │ \u001b[32m神奈川県横浜市緑区…\u001b[0m │ \u001b[32mカナガワケンヨコハマシミドリ…\u001b[0m │ \u001b[32m045-123-4046\u001b[0m │  \u001b[1;36m139.4994\u001b[0m │ \u001b[1;36m35.52398\u001b[0m │     \u001b[1;36m1548.0\u001b[0m │\n",
       "│ \u001b[32mS14050  \u001b[0m │ \u001b[32m阿久和西店\u001b[0m │ \u001b[32m14           \u001b[0m │ \u001b[32m神奈川県  \u001b[0m │ \u001b[32m神奈川県横浜市瀬谷…\u001b[0m │ \u001b[32mカナガワケンヨコハマシセヤク…\u001b[0m │ \u001b[32m045-123-4053\u001b[0m │  \u001b[1;36m139.4961\u001b[0m │ \u001b[1;36m35.45918\u001b[0m │     \u001b[1;36m1830.0\u001b[0m │\n",
       "└──────────┴────────────┴───────────────┴────────────┴─────────────────────┴───────────────────────────────┴──────────────┴───────────┴──────────┴────────────┘"
      ]
     },
     "execution_count": 13,
     "metadata": {},
     "output_type": "execute_result"
    }
   ],
   "source": [
    "df_010 = df_store.filter(df_store[\"store_cd\"].startswith(\"S14\"))\n",
    "\n",
    "df_010.head()"
   ]
  },
  {
   "attachments": {},
   "cell_type": "markdown",
   "metadata": {},
   "source": [
    "---\n",
    "> P-011: 顧客データ（df_customer）から顧客ID（customer_id）の末尾が1のものだけ全項目抽出し、5件表示せよ。"
   ]
  },
  {
   "cell_type": "code",
   "execution_count": 14,
   "metadata": {},
   "outputs": [
    {
     "data": {
      "text/html": [
       "<pre style=\"white-space:pre;overflow-x:auto;line-height:normal;font-family:Menlo,'DejaVu Sans Mono',consolas,'Courier New',monospace\">┏━━━━━━━━━━━━━━━━┳━━━━━━━━━━━━━━━┳━━━━━━━━━━━┳━━━━━━━━┳━━━━━━━━━━━━┳━━━━━━━┳━━━━━━━━━━━┳━━━━━━━━━━━━━━━━━━━━━━━━━┳━━━━━━━━━━━━━━━━━━━━━━┳━━━━━━━━━━━━━━━━━━┳━━━━━━━━━━━━━━┓\n",
       "┃<span style=\"font-weight: bold\"> customer_id    </span>┃<span style=\"font-weight: bold\"> customer_name </span>┃<span style=\"font-weight: bold\"> gender_cd </span>┃<span style=\"font-weight: bold\"> gender </span>┃<span style=\"font-weight: bold\"> birth_day  </span>┃<span style=\"font-weight: bold\"> age   </span>┃<span style=\"font-weight: bold\"> postal_cd </span>┃<span style=\"font-weight: bold\"> address                 </span>┃<span style=\"font-weight: bold\"> application_store_cd </span>┃<span style=\"font-weight: bold\"> application_date </span>┃<span style=\"font-weight: bold\"> status_cd    </span>┃\n",
       "┡━━━━━━━━━━━━━━━━╇━━━━━━━━━━━━━━━╇━━━━━━━━━━━╇━━━━━━━━╇━━━━━━━━━━━━╇━━━━━━━╇━━━━━━━━━━━╇━━━━━━━━━━━━━━━━━━━━━━━━━╇━━━━━━━━━━━━━━━━━━━━━━╇━━━━━━━━━━━━━━━━━━╇━━━━━━━━━━━━━━┩\n",
       "│ <span style=\"color: #7f7f7f; text-decoration-color: #7f7f7f\">string</span>         │ <span style=\"color: #7f7f7f; text-decoration-color: #7f7f7f\">string</span>        │ <span style=\"color: #7f7f7f; text-decoration-color: #7f7f7f\">string</span>    │ <span style=\"color: #7f7f7f; text-decoration-color: #7f7f7f\">string</span> │ <span style=\"color: #7f7f7f; text-decoration-color: #7f7f7f\">date</span>       │ <span style=\"color: #7f7f7f; text-decoration-color: #7f7f7f\">int64</span> │ <span style=\"color: #7f7f7f; text-decoration-color: #7f7f7f\">string</span>    │ <span style=\"color: #7f7f7f; text-decoration-color: #7f7f7f\">string</span>                  │ <span style=\"color: #7f7f7f; text-decoration-color: #7f7f7f\">string</span>               │ <span style=\"color: #7f7f7f; text-decoration-color: #7f7f7f\">int64</span>            │ <span style=\"color: #7f7f7f; text-decoration-color: #7f7f7f\">string</span>       │\n",
       "├────────────────┼───────────────┼───────────┼────────┼────────────┼───────┼───────────┼─────────────────────────┼──────────────────────┼──────────────────┼──────────────┤\n",
       "│ <span style=\"color: #008000; text-decoration-color: #008000\">CS037613000071</span> │ <span style=\"color: #008000; text-decoration-color: #008000\">六角 雅彦    </span> │ <span style=\"color: #008000; text-decoration-color: #008000\">9        </span> │ <span style=\"color: #008000; text-decoration-color: #008000\">不明  </span> │ <span style=\"color: #800080; text-decoration-color: #800080\">1952-04-01</span> │    <span style=\"color: #008080; text-decoration-color: #008080; font-weight: bold\">66</span> │ <span style=\"color: #008000; text-decoration-color: #008000\">136-0076 </span> │ <span style=\"color: #008000; text-decoration-color: #008000\">東京都江東区南砂******…</span> │ <span style=\"color: #008000; text-decoration-color: #008000\">S13037              </span> │         <span style=\"color: #008080; text-decoration-color: #008080; font-weight: bold\">20150414</span> │ <span style=\"color: #008000; text-decoration-color: #008000\">0-00000000-0</span> │\n",
       "│ <span style=\"color: #008000; text-decoration-color: #008000\">CS028811000001</span> │ <span style=\"color: #008000; text-decoration-color: #008000\">堀井 かおり  </span> │ <span style=\"color: #008000; text-decoration-color: #008000\">1        </span> │ <span style=\"color: #008000; text-decoration-color: #008000\">女性  </span> │ <span style=\"color: #800080; text-decoration-color: #800080\">1933-03-27</span> │    <span style=\"color: #008080; text-decoration-color: #008080; font-weight: bold\">86</span> │ <span style=\"color: #008000; text-decoration-color: #008000\">245-0016 </span> │ <span style=\"color: #008000; text-decoration-color: #008000\">神奈川県横浜市泉区和泉…</span> │ <span style=\"color: #008000; text-decoration-color: #008000\">S14028              </span> │         <span style=\"color: #008080; text-decoration-color: #008080; font-weight: bold\">20160115</span> │ <span style=\"color: #008000; text-decoration-color: #008000\">0-00000000-0</span> │\n",
       "│ <span style=\"color: #008000; text-decoration-color: #008000\">CS040412000191</span> │ <span style=\"color: #008000; text-decoration-color: #008000\">川井 郁恵    </span> │ <span style=\"color: #008000; text-decoration-color: #008000\">1        </span> │ <span style=\"color: #008000; text-decoration-color: #008000\">女性  </span> │ <span style=\"color: #800080; text-decoration-color: #800080\">1977-01-05</span> │    <span style=\"color: #008080; text-decoration-color: #008080; font-weight: bold\">42</span> │ <span style=\"color: #008000; text-decoration-color: #008000\">226-0021 </span> │ <span style=\"color: #008000; text-decoration-color: #008000\">神奈川県横浜市緑区北八…</span> │ <span style=\"color: #008000; text-decoration-color: #008000\">S14040              </span> │         <span style=\"color: #008080; text-decoration-color: #008080; font-weight: bold\">20151101</span> │ <span style=\"color: #008000; text-decoration-color: #008000\">1-20091025-4</span> │\n",
       "│ <span style=\"color: #008000; text-decoration-color: #008000\">CS028314000011</span> │ <span style=\"color: #008000; text-decoration-color: #008000\">小菅 あおい  </span> │ <span style=\"color: #008000; text-decoration-color: #008000\">1        </span> │ <span style=\"color: #008000; text-decoration-color: #008000\">女性  </span> │ <span style=\"color: #800080; text-decoration-color: #800080\">1983-11-26</span> │    <span style=\"color: #008080; text-decoration-color: #008080; font-weight: bold\">35</span> │ <span style=\"color: #008000; text-decoration-color: #008000\">246-0038 </span> │ <span style=\"color: #008000; text-decoration-color: #008000\">神奈川県横浜市瀬谷区宮…</span> │ <span style=\"color: #008000; text-decoration-color: #008000\">S14028              </span> │         <span style=\"color: #008080; text-decoration-color: #008080; font-weight: bold\">20151123</span> │ <span style=\"color: #008000; text-decoration-color: #008000\">1-20080426-5</span> │\n",
       "│ <span style=\"color: #008000; text-decoration-color: #008000\">CS039212000051</span> │ <span style=\"color: #008000; text-decoration-color: #008000\">藤島 恵梨香  </span> │ <span style=\"color: #008000; text-decoration-color: #008000\">1        </span> │ <span style=\"color: #008000; text-decoration-color: #008000\">女性  </span> │ <span style=\"color: #800080; text-decoration-color: #800080\">1997-02-03</span> │    <span style=\"color: #008080; text-decoration-color: #008080; font-weight: bold\">22</span> │ <span style=\"color: #008000; text-decoration-color: #008000\">166-0001 </span> │ <span style=\"color: #008000; text-decoration-color: #008000\">東京都杉並区阿佐谷北**…</span> │ <span style=\"color: #008000; text-decoration-color: #008000\">S13039              </span> │         <span style=\"color: #008080; text-decoration-color: #008080; font-weight: bold\">20171121</span> │ <span style=\"color: #008000; text-decoration-color: #008000\">1-20100215-4</span> │\n",
       "└────────────────┴───────────────┴───────────┴────────┴────────────┴───────┴───────────┴─────────────────────────┴──────────────────────┴──────────────────┴──────────────┘\n",
       "</pre>\n"
      ],
      "text/plain": [
       "┏━━━━━━━━━━━━━━━━┳━━━━━━━━━━━━━━━┳━━━━━━━━━━━┳━━━━━━━━┳━━━━━━━━━━━━┳━━━━━━━┳━━━━━━━━━━━┳━━━━━━━━━━━━━━━━━━━━━━━━━┳━━━━━━━━━━━━━━━━━━━━━━┳━━━━━━━━━━━━━━━━━━┳━━━━━━━━━━━━━━┓\n",
       "┃\u001b[1m \u001b[0m\u001b[1mcustomer_id\u001b[0m\u001b[1m   \u001b[0m\u001b[1m \u001b[0m┃\u001b[1m \u001b[0m\u001b[1mcustomer_name\u001b[0m\u001b[1m \u001b[0m┃\u001b[1m \u001b[0m\u001b[1mgender_cd\u001b[0m\u001b[1m \u001b[0m┃\u001b[1m \u001b[0m\u001b[1mgender\u001b[0m\u001b[1m \u001b[0m┃\u001b[1m \u001b[0m\u001b[1mbirth_day\u001b[0m\u001b[1m \u001b[0m\u001b[1m \u001b[0m┃\u001b[1m \u001b[0m\u001b[1mage\u001b[0m\u001b[1m  \u001b[0m\u001b[1m \u001b[0m┃\u001b[1m \u001b[0m\u001b[1mpostal_cd\u001b[0m\u001b[1m \u001b[0m┃\u001b[1m \u001b[0m\u001b[1maddress\u001b[0m\u001b[1m                \u001b[0m\u001b[1m \u001b[0m┃\u001b[1m \u001b[0m\u001b[1mapplication_store_cd\u001b[0m\u001b[1m \u001b[0m┃\u001b[1m \u001b[0m\u001b[1mapplication_date\u001b[0m\u001b[1m \u001b[0m┃\u001b[1m \u001b[0m\u001b[1mstatus_cd\u001b[0m\u001b[1m   \u001b[0m\u001b[1m \u001b[0m┃\n",
       "┡━━━━━━━━━━━━━━━━╇━━━━━━━━━━━━━━━╇━━━━━━━━━━━╇━━━━━━━━╇━━━━━━━━━━━━╇━━━━━━━╇━━━━━━━━━━━╇━━━━━━━━━━━━━━━━━━━━━━━━━╇━━━━━━━━━━━━━━━━━━━━━━╇━━━━━━━━━━━━━━━━━━╇━━━━━━━━━━━━━━┩\n",
       "│ \u001b[2mstring\u001b[0m         │ \u001b[2mstring\u001b[0m        │ \u001b[2mstring\u001b[0m    │ \u001b[2mstring\u001b[0m │ \u001b[2mdate\u001b[0m       │ \u001b[2mint64\u001b[0m │ \u001b[2mstring\u001b[0m    │ \u001b[2mstring\u001b[0m                  │ \u001b[2mstring\u001b[0m               │ \u001b[2mint64\u001b[0m            │ \u001b[2mstring\u001b[0m       │\n",
       "├────────────────┼───────────────┼───────────┼────────┼────────────┼───────┼───────────┼─────────────────────────┼──────────────────────┼──────────────────┼──────────────┤\n",
       "│ \u001b[32mCS037613000071\u001b[0m │ \u001b[32m六角 雅彦    \u001b[0m │ \u001b[32m9        \u001b[0m │ \u001b[32m不明  \u001b[0m │ \u001b[35m1952-04-01\u001b[0m │    \u001b[1;36m66\u001b[0m │ \u001b[32m136-0076 \u001b[0m │ \u001b[32m東京都江東区南砂******…\u001b[0m │ \u001b[32mS13037              \u001b[0m │         \u001b[1;36m20150414\u001b[0m │ \u001b[32m0-00000000-0\u001b[0m │\n",
       "│ \u001b[32mCS028811000001\u001b[0m │ \u001b[32m堀井 かおり  \u001b[0m │ \u001b[32m1        \u001b[0m │ \u001b[32m女性  \u001b[0m │ \u001b[35m1933-03-27\u001b[0m │    \u001b[1;36m86\u001b[0m │ \u001b[32m245-0016 \u001b[0m │ \u001b[32m神奈川県横浜市泉区和泉…\u001b[0m │ \u001b[32mS14028              \u001b[0m │         \u001b[1;36m20160115\u001b[0m │ \u001b[32m0-00000000-0\u001b[0m │\n",
       "│ \u001b[32mCS040412000191\u001b[0m │ \u001b[32m川井 郁恵    \u001b[0m │ \u001b[32m1        \u001b[0m │ \u001b[32m女性  \u001b[0m │ \u001b[35m1977-01-05\u001b[0m │    \u001b[1;36m42\u001b[0m │ \u001b[32m226-0021 \u001b[0m │ \u001b[32m神奈川県横浜市緑区北八…\u001b[0m │ \u001b[32mS14040              \u001b[0m │         \u001b[1;36m20151101\u001b[0m │ \u001b[32m1-20091025-4\u001b[0m │\n",
       "│ \u001b[32mCS028314000011\u001b[0m │ \u001b[32m小菅 あおい  \u001b[0m │ \u001b[32m1        \u001b[0m │ \u001b[32m女性  \u001b[0m │ \u001b[35m1983-11-26\u001b[0m │    \u001b[1;36m35\u001b[0m │ \u001b[32m246-0038 \u001b[0m │ \u001b[32m神奈川県横浜市瀬谷区宮…\u001b[0m │ \u001b[32mS14028              \u001b[0m │         \u001b[1;36m20151123\u001b[0m │ \u001b[32m1-20080426-5\u001b[0m │\n",
       "│ \u001b[32mCS039212000051\u001b[0m │ \u001b[32m藤島 恵梨香  \u001b[0m │ \u001b[32m1        \u001b[0m │ \u001b[32m女性  \u001b[0m │ \u001b[35m1997-02-03\u001b[0m │    \u001b[1;36m22\u001b[0m │ \u001b[32m166-0001 \u001b[0m │ \u001b[32m東京都杉並区阿佐谷北**…\u001b[0m │ \u001b[32mS13039              \u001b[0m │         \u001b[1;36m20171121\u001b[0m │ \u001b[32m1-20100215-4\u001b[0m │\n",
       "└────────────────┴───────────────┴───────────┴────────┴────────────┴───────┴───────────┴─────────────────────────┴──────────────────────┴──────────────────┴──────────────┘"
      ]
     },
     "execution_count": 14,
     "metadata": {},
     "output_type": "execute_result"
    }
   ],
   "source": [
    "df_011 = df_customer.filter(df_customer[\"customer_id\"].endswith(1))\n",
    "\n",
    "df_011.head()"
   ]
  },
  {
   "attachments": {},
   "cell_type": "markdown",
   "metadata": {},
   "source": [
    "---\n",
    "> P-012: 店舗データ（df_store）から、住所 (address) に\"横浜市\"が含まれるものだけ全項目表示せよ。"
   ]
  },
  {
   "cell_type": "code",
   "execution_count": 15,
   "metadata": {},
   "outputs": [
    {
     "data": {
      "text/html": [
       "<pre style=\"white-space:pre;overflow-x:auto;line-height:normal;font-family:Menlo,'DejaVu Sans Mono',consolas,'Courier New',monospace\">┏━━━━━━━━━━┳━━━━━━━━━━━━┳━━━━━━━━━━━━━━━┳━━━━━━━━━━━━┳━━━━━━━━━━━━━━━━━━━━━┳━━━━━━━━━━━━━━━━━━━━━━━━━━━━━━━━┳━━━━━━━━━━━━━━┳━━━━━━━━━━━┳━━━━━━━━━━┳━━━━━━━━━━━━┓\n",
       "┃<span style=\"font-weight: bold\"> store_cd </span>┃<span style=\"font-weight: bold\"> store_name </span>┃<span style=\"font-weight: bold\"> prefecture_cd </span>┃<span style=\"font-weight: bold\"> prefecture </span>┃<span style=\"font-weight: bold\"> address             </span>┃<span style=\"font-weight: bold\"> address_kana                   </span>┃<span style=\"font-weight: bold\"> tel_no       </span>┃<span style=\"font-weight: bold\"> longitude </span>┃<span style=\"font-weight: bold\"> latitude </span>┃<span style=\"font-weight: bold\"> floor_area </span>┃\n",
       "┡━━━━━━━━━━╇━━━━━━━━━━━━╇━━━━━━━━━━━━━━━╇━━━━━━━━━━━━╇━━━━━━━━━━━━━━━━━━━━━╇━━━━━━━━━━━━━━━━━━━━━━━━━━━━━━━━╇━━━━━━━━━━━━━━╇━━━━━━━━━━━╇━━━━━━━━━━╇━━━━━━━━━━━━┩\n",
       "│ <span style=\"color: #7f7f7f; text-decoration-color: #7f7f7f\">string</span>   │ <span style=\"color: #7f7f7f; text-decoration-color: #7f7f7f\">string</span>     │ <span style=\"color: #7f7f7f; text-decoration-color: #7f7f7f\">string</span>        │ <span style=\"color: #7f7f7f; text-decoration-color: #7f7f7f\">string</span>     │ <span style=\"color: #7f7f7f; text-decoration-color: #7f7f7f\">string</span>              │ <span style=\"color: #7f7f7f; text-decoration-color: #7f7f7f\">string</span>                         │ <span style=\"color: #7f7f7f; text-decoration-color: #7f7f7f\">string</span>       │ <span style=\"color: #7f7f7f; text-decoration-color: #7f7f7f\">float64</span>   │ <span style=\"color: #7f7f7f; text-decoration-color: #7f7f7f\">float64</span>  │ <span style=\"color: #7f7f7f; text-decoration-color: #7f7f7f\">float64</span>    │\n",
       "├──────────┼────────────┼───────────────┼────────────┼─────────────────────┼────────────────────────────────┼──────────────┼───────────┼──────────┼────────────┤\n",
       "│ <span style=\"color: #008000; text-decoration-color: #008000\">S14010  </span> │ <span style=\"color: #008000; text-decoration-color: #008000\">菊名店    </span> │ <span style=\"color: #008000; text-decoration-color: #008000\">14           </span> │ <span style=\"color: #008000; text-decoration-color: #008000\">神奈川県  </span> │ <span style=\"color: #008000; text-decoration-color: #008000\">神奈川県横浜市港北…</span> │ <span style=\"color: #008000; text-decoration-color: #008000\">カナガワケンヨコハマシコウホ …</span> │ <span style=\"color: #008000; text-decoration-color: #008000\">045-123-4032</span> │  <span style=\"color: #008080; text-decoration-color: #008080; font-weight: bold\">139.6326</span> │ <span style=\"color: #008080; text-decoration-color: #008080; font-weight: bold\">35.50049</span> │     <span style=\"color: #008080; text-decoration-color: #008080; font-weight: bold\">1732.0</span> │\n",
       "│ <span style=\"color: #008000; text-decoration-color: #008000\">S14033  </span> │ <span style=\"color: #008000; text-decoration-color: #008000\">阿久和店  </span> │ <span style=\"color: #008000; text-decoration-color: #008000\">14           </span> │ <span style=\"color: #008000; text-decoration-color: #008000\">神奈川県  </span> │ <span style=\"color: #008000; text-decoration-color: #008000\">神奈川県横浜市瀬谷…</span> │ <span style=\"color: #008000; text-decoration-color: #008000\">カナガワケンヨコハマシセヤク …</span> │ <span style=\"color: #008000; text-decoration-color: #008000\">045-123-4043</span> │  <span style=\"color: #008080; text-decoration-color: #008080; font-weight: bold\">139.4961</span> │ <span style=\"color: #008080; text-decoration-color: #008080; font-weight: bold\">35.45918</span> │     <span style=\"color: #008080; text-decoration-color: #008080; font-weight: bold\">1495.0</span> │\n",
       "│ <span style=\"color: #008000; text-decoration-color: #008000\">S14040  </span> │ <span style=\"color: #008000; text-decoration-color: #008000\">長津田店  </span> │ <span style=\"color: #008000; text-decoration-color: #008000\">14           </span> │ <span style=\"color: #008000; text-decoration-color: #008000\">神奈川県  </span> │ <span style=\"color: #008000; text-decoration-color: #008000\">神奈川県横浜市緑区…</span> │ <span style=\"color: #008000; text-decoration-color: #008000\">カナガワケンヨコハマシミドリ …</span> │ <span style=\"color: #008000; text-decoration-color: #008000\">045-123-4046</span> │  <span style=\"color: #008080; text-decoration-color: #008080; font-weight: bold\">139.4994</span> │ <span style=\"color: #008080; text-decoration-color: #008080; font-weight: bold\">35.52398</span> │     <span style=\"color: #008080; text-decoration-color: #008080; font-weight: bold\">1548.0</span> │\n",
       "│ <span style=\"color: #008000; text-decoration-color: #008000\">S14050  </span> │ <span style=\"color: #008000; text-decoration-color: #008000\">阿久和西店</span> │ <span style=\"color: #008000; text-decoration-color: #008000\">14           </span> │ <span style=\"color: #008000; text-decoration-color: #008000\">神奈川県  </span> │ <span style=\"color: #008000; text-decoration-color: #008000\">神奈川県横浜市瀬谷…</span> │ <span style=\"color: #008000; text-decoration-color: #008000\">カナガワケンヨコハマシセヤク …</span> │ <span style=\"color: #008000; text-decoration-color: #008000\">045-123-4053</span> │  <span style=\"color: #008080; text-decoration-color: #008080; font-weight: bold\">139.4961</span> │ <span style=\"color: #008080; text-decoration-color: #008080; font-weight: bold\">35.45918</span> │     <span style=\"color: #008080; text-decoration-color: #008080; font-weight: bold\">1830.0</span> │\n",
       "│ <span style=\"color: #008000; text-decoration-color: #008000\">S14028  </span> │ <span style=\"color: #008000; text-decoration-color: #008000\">二ツ橋店  </span> │ <span style=\"color: #008000; text-decoration-color: #008000\">14           </span> │ <span style=\"color: #008000; text-decoration-color: #008000\">神奈川県  </span> │ <span style=\"color: #008000; text-decoration-color: #008000\">神奈川県横浜市瀬谷…</span> │ <span style=\"color: #008000; text-decoration-color: #008000\">カナガワケンヨコハマシセヤク …</span> │ <span style=\"color: #008000; text-decoration-color: #008000\">045-123-4042</span> │  <span style=\"color: #008080; text-decoration-color: #008080; font-weight: bold\">139.4963</span> │ <span style=\"color: #008080; text-decoration-color: #008080; font-weight: bold\">35.46304</span> │     <span style=\"color: #008080; text-decoration-color: #008080; font-weight: bold\">1574.0</span> │\n",
       "│ <span style=\"color: #008000; text-decoration-color: #008000\">S14012  </span> │ <span style=\"color: #008000; text-decoration-color: #008000\">本牧和田店</span> │ <span style=\"color: #008000; text-decoration-color: #008000\">14           </span> │ <span style=\"color: #008000; text-decoration-color: #008000\">神奈川県  </span> │ <span style=\"color: #008000; text-decoration-color: #008000\">神奈川県横浜市中区…</span> │ <span style=\"color: #008000; text-decoration-color: #008000\">カナガワケンヨコハマシナカク …</span> │ <span style=\"color: #008000; text-decoration-color: #008000\">045-123-4034</span> │  <span style=\"color: #008080; text-decoration-color: #008080; font-weight: bold\">139.6582</span> │ <span style=\"color: #008080; text-decoration-color: #008080; font-weight: bold\">35.42156</span> │     <span style=\"color: #008080; text-decoration-color: #008080; font-weight: bold\">1341.0</span> │\n",
       "│ <span style=\"color: #008000; text-decoration-color: #008000\">S14046  </span> │ <span style=\"color: #008000; text-decoration-color: #008000\">北山田店  </span> │ <span style=\"color: #008000; text-decoration-color: #008000\">14           </span> │ <span style=\"color: #008000; text-decoration-color: #008000\">神奈川県  </span> │ <span style=\"color: #008000; text-decoration-color: #008000\">神奈川県横浜市都筑…</span> │ <span style=\"color: #008000; text-decoration-color: #008000\">カナガワケンヨコハマシツヅキ …</span> │ <span style=\"color: #008000; text-decoration-color: #008000\">045-123-4049</span> │  <span style=\"color: #008080; text-decoration-color: #008080; font-weight: bold\">139.5916</span> │ <span style=\"color: #008080; text-decoration-color: #008080; font-weight: bold\">35.56189</span> │      <span style=\"color: #008080; text-decoration-color: #008080; font-weight: bold\">831.0</span> │\n",
       "│ <span style=\"color: #008000; text-decoration-color: #008000\">S14011  </span> │ <span style=\"color: #008000; text-decoration-color: #008000\">日吉本町店</span> │ <span style=\"color: #008000; text-decoration-color: #008000\">14           </span> │ <span style=\"color: #008000; text-decoration-color: #008000\">神奈川県  </span> │ <span style=\"color: #008000; text-decoration-color: #008000\">神奈川県横浜市港北…</span> │ <span style=\"color: #008000; text-decoration-color: #008000\">カナガワケンヨコハマシコウホ …</span> │ <span style=\"color: #008000; text-decoration-color: #008000\">045-123-4033</span> │  <span style=\"color: #008080; text-decoration-color: #008080; font-weight: bold\">139.6316</span> │ <span style=\"color: #008080; text-decoration-color: #008080; font-weight: bold\">35.54655</span> │      <span style=\"color: #008080; text-decoration-color: #008080; font-weight: bold\">890.0</span> │\n",
       "│ <span style=\"color: #008000; text-decoration-color: #008000\">S14048  </span> │ <span style=\"color: #008000; text-decoration-color: #008000\">中川中央店</span> │ <span style=\"color: #008000; text-decoration-color: #008000\">14           </span> │ <span style=\"color: #008000; text-decoration-color: #008000\">神奈川県  </span> │ <span style=\"color: #008000; text-decoration-color: #008000\">神奈川県横浜市都筑…</span> │ <span style=\"color: #008000; text-decoration-color: #008000\">カナガワケンヨコハマシツヅキ …</span> │ <span style=\"color: #008000; text-decoration-color: #008000\">045-123-4051</span> │  <span style=\"color: #008080; text-decoration-color: #008080; font-weight: bold\">139.5758</span> │ <span style=\"color: #008080; text-decoration-color: #008080; font-weight: bold\">35.54912</span> │     <span style=\"color: #008080; text-decoration-color: #008080; font-weight: bold\">1657.0</span> │\n",
       "│ <span style=\"color: #008000; text-decoration-color: #008000\">S14042  </span> │ <span style=\"color: #008000; text-decoration-color: #008000\">新山下店  </span> │ <span style=\"color: #008000; text-decoration-color: #008000\">14           </span> │ <span style=\"color: #008000; text-decoration-color: #008000\">神奈川県  </span> │ <span style=\"color: #008000; text-decoration-color: #008000\">神奈川県横浜市中区…</span> │ <span style=\"color: #008000; text-decoration-color: #008000\">カナガワケンヨコハマシナカク …</span> │ <span style=\"color: #008000; text-decoration-color: #008000\">045-123-4047</span> │  <span style=\"color: #008080; text-decoration-color: #008080; font-weight: bold\">139.6593</span> │ <span style=\"color: #008080; text-decoration-color: #008080; font-weight: bold\">35.43894</span> │     <span style=\"color: #008080; text-decoration-color: #008080; font-weight: bold\">1044.0</span> │\n",
       "│ <span style=\"color: #7f7f7f; text-decoration-color: #7f7f7f\">…</span>        │ <span style=\"color: #7f7f7f; text-decoration-color: #7f7f7f\">…</span>          │ <span style=\"color: #7f7f7f; text-decoration-color: #7f7f7f\">…</span>             │ <span style=\"color: #7f7f7f; text-decoration-color: #7f7f7f\">…</span>          │ <span style=\"color: #7f7f7f; text-decoration-color: #7f7f7f\">…</span>                   │ <span style=\"color: #7f7f7f; text-decoration-color: #7f7f7f\">…</span>                              │ <span style=\"color: #7f7f7f; text-decoration-color: #7f7f7f\">…</span>            │         <span style=\"color: #7f7f7f; text-decoration-color: #7f7f7f\">…</span> │        <span style=\"color: #7f7f7f; text-decoration-color: #7f7f7f\">…</span> │          <span style=\"color: #7f7f7f; text-decoration-color: #7f7f7f\">…</span> │\n",
       "└──────────┴────────────┴───────────────┴────────────┴─────────────────────┴────────────────────────────────┴──────────────┴───────────┴──────────┴────────────┘\n",
       "</pre>\n"
      ],
      "text/plain": [
       "┏━━━━━━━━━━┳━━━━━━━━━━━━┳━━━━━━━━━━━━━━━┳━━━━━━━━━━━━┳━━━━━━━━━━━━━━━━━━━━━┳━━━━━━━━━━━━━━━━━━━━━━━━━━━━━━━━┳━━━━━━━━━━━━━━┳━━━━━━━━━━━┳━━━━━━━━━━┳━━━━━━━━━━━━┓\n",
       "┃\u001b[1m \u001b[0m\u001b[1mstore_cd\u001b[0m\u001b[1m \u001b[0m┃\u001b[1m \u001b[0m\u001b[1mstore_name\u001b[0m\u001b[1m \u001b[0m┃\u001b[1m \u001b[0m\u001b[1mprefecture_cd\u001b[0m\u001b[1m \u001b[0m┃\u001b[1m \u001b[0m\u001b[1mprefecture\u001b[0m\u001b[1m \u001b[0m┃\u001b[1m \u001b[0m\u001b[1maddress\u001b[0m\u001b[1m            \u001b[0m\u001b[1m \u001b[0m┃\u001b[1m \u001b[0m\u001b[1maddress_kana\u001b[0m\u001b[1m                  \u001b[0m\u001b[1m \u001b[0m┃\u001b[1m \u001b[0m\u001b[1mtel_no\u001b[0m\u001b[1m      \u001b[0m\u001b[1m \u001b[0m┃\u001b[1m \u001b[0m\u001b[1mlongitude\u001b[0m\u001b[1m \u001b[0m┃\u001b[1m \u001b[0m\u001b[1mlatitude\u001b[0m\u001b[1m \u001b[0m┃\u001b[1m \u001b[0m\u001b[1mfloor_area\u001b[0m\u001b[1m \u001b[0m┃\n",
       "┡━━━━━━━━━━╇━━━━━━━━━━━━╇━━━━━━━━━━━━━━━╇━━━━━━━━━━━━╇━━━━━━━━━━━━━━━━━━━━━╇━━━━━━━━━━━━━━━━━━━━━━━━━━━━━━━━╇━━━━━━━━━━━━━━╇━━━━━━━━━━━╇━━━━━━━━━━╇━━━━━━━━━━━━┩\n",
       "│ \u001b[2mstring\u001b[0m   │ \u001b[2mstring\u001b[0m     │ \u001b[2mstring\u001b[0m        │ \u001b[2mstring\u001b[0m     │ \u001b[2mstring\u001b[0m              │ \u001b[2mstring\u001b[0m                         │ \u001b[2mstring\u001b[0m       │ \u001b[2mfloat64\u001b[0m   │ \u001b[2mfloat64\u001b[0m  │ \u001b[2mfloat64\u001b[0m    │\n",
       "├──────────┼────────────┼───────────────┼────────────┼─────────────────────┼────────────────────────────────┼──────────────┼───────────┼──────────┼────────────┤\n",
       "│ \u001b[32mS14010  \u001b[0m │ \u001b[32m菊名店    \u001b[0m │ \u001b[32m14           \u001b[0m │ \u001b[32m神奈川県  \u001b[0m │ \u001b[32m神奈川県横浜市港北…\u001b[0m │ \u001b[32mカナガワケンヨコハマシコウホ …\u001b[0m │ \u001b[32m045-123-4032\u001b[0m │  \u001b[1;36m139.6326\u001b[0m │ \u001b[1;36m35.50049\u001b[0m │     \u001b[1;36m1732.0\u001b[0m │\n",
       "│ \u001b[32mS14033  \u001b[0m │ \u001b[32m阿久和店  \u001b[0m │ \u001b[32m14           \u001b[0m │ \u001b[32m神奈川県  \u001b[0m │ \u001b[32m神奈川県横浜市瀬谷…\u001b[0m │ \u001b[32mカナガワケンヨコハマシセヤク …\u001b[0m │ \u001b[32m045-123-4043\u001b[0m │  \u001b[1;36m139.4961\u001b[0m │ \u001b[1;36m35.45918\u001b[0m │     \u001b[1;36m1495.0\u001b[0m │\n",
       "│ \u001b[32mS14040  \u001b[0m │ \u001b[32m長津田店  \u001b[0m │ \u001b[32m14           \u001b[0m │ \u001b[32m神奈川県  \u001b[0m │ \u001b[32m神奈川県横浜市緑区…\u001b[0m │ \u001b[32mカナガワケンヨコハマシミドリ …\u001b[0m │ \u001b[32m045-123-4046\u001b[0m │  \u001b[1;36m139.4994\u001b[0m │ \u001b[1;36m35.52398\u001b[0m │     \u001b[1;36m1548.0\u001b[0m │\n",
       "│ \u001b[32mS14050  \u001b[0m │ \u001b[32m阿久和西店\u001b[0m │ \u001b[32m14           \u001b[0m │ \u001b[32m神奈川県  \u001b[0m │ \u001b[32m神奈川県横浜市瀬谷…\u001b[0m │ \u001b[32mカナガワケンヨコハマシセヤク …\u001b[0m │ \u001b[32m045-123-4053\u001b[0m │  \u001b[1;36m139.4961\u001b[0m │ \u001b[1;36m35.45918\u001b[0m │     \u001b[1;36m1830.0\u001b[0m │\n",
       "│ \u001b[32mS14028  \u001b[0m │ \u001b[32m二ツ橋店  \u001b[0m │ \u001b[32m14           \u001b[0m │ \u001b[32m神奈川県  \u001b[0m │ \u001b[32m神奈川県横浜市瀬谷…\u001b[0m │ \u001b[32mカナガワケンヨコハマシセヤク …\u001b[0m │ \u001b[32m045-123-4042\u001b[0m │  \u001b[1;36m139.4963\u001b[0m │ \u001b[1;36m35.46304\u001b[0m │     \u001b[1;36m1574.0\u001b[0m │\n",
       "│ \u001b[32mS14012  \u001b[0m │ \u001b[32m本牧和田店\u001b[0m │ \u001b[32m14           \u001b[0m │ \u001b[32m神奈川県  \u001b[0m │ \u001b[32m神奈川県横浜市中区…\u001b[0m │ \u001b[32mカナガワケンヨコハマシナカク …\u001b[0m │ \u001b[32m045-123-4034\u001b[0m │  \u001b[1;36m139.6582\u001b[0m │ \u001b[1;36m35.42156\u001b[0m │     \u001b[1;36m1341.0\u001b[0m │\n",
       "│ \u001b[32mS14046  \u001b[0m │ \u001b[32m北山田店  \u001b[0m │ \u001b[32m14           \u001b[0m │ \u001b[32m神奈川県  \u001b[0m │ \u001b[32m神奈川県横浜市都筑…\u001b[0m │ \u001b[32mカナガワケンヨコハマシツヅキ …\u001b[0m │ \u001b[32m045-123-4049\u001b[0m │  \u001b[1;36m139.5916\u001b[0m │ \u001b[1;36m35.56189\u001b[0m │      \u001b[1;36m831.0\u001b[0m │\n",
       "│ \u001b[32mS14011  \u001b[0m │ \u001b[32m日吉本町店\u001b[0m │ \u001b[32m14           \u001b[0m │ \u001b[32m神奈川県  \u001b[0m │ \u001b[32m神奈川県横浜市港北…\u001b[0m │ \u001b[32mカナガワケンヨコハマシコウホ …\u001b[0m │ \u001b[32m045-123-4033\u001b[0m │  \u001b[1;36m139.6316\u001b[0m │ \u001b[1;36m35.54655\u001b[0m │      \u001b[1;36m890.0\u001b[0m │\n",
       "│ \u001b[32mS14048  \u001b[0m │ \u001b[32m中川中央店\u001b[0m │ \u001b[32m14           \u001b[0m │ \u001b[32m神奈川県  \u001b[0m │ \u001b[32m神奈川県横浜市都筑…\u001b[0m │ \u001b[32mカナガワケンヨコハマシツヅキ …\u001b[0m │ \u001b[32m045-123-4051\u001b[0m │  \u001b[1;36m139.5758\u001b[0m │ \u001b[1;36m35.54912\u001b[0m │     \u001b[1;36m1657.0\u001b[0m │\n",
       "│ \u001b[32mS14042  \u001b[0m │ \u001b[32m新山下店  \u001b[0m │ \u001b[32m14           \u001b[0m │ \u001b[32m神奈川県  \u001b[0m │ \u001b[32m神奈川県横浜市中区…\u001b[0m │ \u001b[32mカナガワケンヨコハマシナカク …\u001b[0m │ \u001b[32m045-123-4047\u001b[0m │  \u001b[1;36m139.6593\u001b[0m │ \u001b[1;36m35.43894\u001b[0m │     \u001b[1;36m1044.0\u001b[0m │\n",
       "│ \u001b[2m…\u001b[0m        │ \u001b[2m…\u001b[0m          │ \u001b[2m…\u001b[0m             │ \u001b[2m…\u001b[0m          │ \u001b[2m…\u001b[0m                   │ \u001b[2m…\u001b[0m                              │ \u001b[2m…\u001b[0m            │         \u001b[2m…\u001b[0m │        \u001b[2m…\u001b[0m │          \u001b[2m…\u001b[0m │\n",
       "└──────────┴────────────┴───────────────┴────────────┴─────────────────────┴────────────────────────────────┴──────────────┴───────────┴──────────┴────────────┘"
      ]
     },
     "execution_count": 15,
     "metadata": {},
     "output_type": "execute_result"
    }
   ],
   "source": [
    "df_012 = df_store.filter(df_store[\"address\"].contains(\"横浜市\"))\n",
    "\n",
    "df_012"
   ]
  },
  {
   "attachments": {},
   "cell_type": "markdown",
   "metadata": {},
   "source": [
    "---\n",
    "> P-013: 顧客データ（df_customer）から、ステータスコード（status_cd）の先頭がアルファベットのA〜Fで始まるデータを全項目抽出し、5件表示せよ。\n",
    "\n",
    "先頭の文字は`^`で表す(https://qiita.com/luohao0404/items/7135b2b96f9b0b196bf3 参照)"
   ]
  },
  {
   "cell_type": "code",
   "execution_count": 16,
   "metadata": {},
   "outputs": [
    {
     "data": {
      "text/html": [
       "<pre style=\"white-space:pre;overflow-x:auto;line-height:normal;font-family:Menlo,'DejaVu Sans Mono',consolas,'Courier New',monospace\">┏━━━━━━━━━━━━━━━━┳━━━━━━━━━━━━━━━┳━━━━━━━━━━━┳━━━━━━━━┳━━━━━━━━━━━━┳━━━━━━━┳━━━━━━━━━━━┳━━━━━━━━━━━━━━━━━━━━━━━━━━┳━━━━━━━━━━━━━━━━━━━━━━┳━━━━━━━━━━━━━━━━━━┳━━━━━━━━━━━━━━┓\n",
       "┃<span style=\"font-weight: bold\"> customer_id    </span>┃<span style=\"font-weight: bold\"> customer_name </span>┃<span style=\"font-weight: bold\"> gender_cd </span>┃<span style=\"font-weight: bold\"> gender </span>┃<span style=\"font-weight: bold\"> birth_day  </span>┃<span style=\"font-weight: bold\"> age   </span>┃<span style=\"font-weight: bold\"> postal_cd </span>┃<span style=\"font-weight: bold\"> address                  </span>┃<span style=\"font-weight: bold\"> application_store_cd </span>┃<span style=\"font-weight: bold\"> application_date </span>┃<span style=\"font-weight: bold\"> status_cd    </span>┃\n",
       "┡━━━━━━━━━━━━━━━━╇━━━━━━━━━━━━━━━╇━━━━━━━━━━━╇━━━━━━━━╇━━━━━━━━━━━━╇━━━━━━━╇━━━━━━━━━━━╇━━━━━━━━━━━━━━━━━━━━━━━━━━╇━━━━━━━━━━━━━━━━━━━━━━╇━━━━━━━━━━━━━━━━━━╇━━━━━━━━━━━━━━┩\n",
       "│ <span style=\"color: #7f7f7f; text-decoration-color: #7f7f7f\">string</span>         │ <span style=\"color: #7f7f7f; text-decoration-color: #7f7f7f\">string</span>        │ <span style=\"color: #7f7f7f; text-decoration-color: #7f7f7f\">string</span>    │ <span style=\"color: #7f7f7f; text-decoration-color: #7f7f7f\">string</span> │ <span style=\"color: #7f7f7f; text-decoration-color: #7f7f7f\">date</span>       │ <span style=\"color: #7f7f7f; text-decoration-color: #7f7f7f\">int64</span> │ <span style=\"color: #7f7f7f; text-decoration-color: #7f7f7f\">string</span>    │ <span style=\"color: #7f7f7f; text-decoration-color: #7f7f7f\">string</span>                   │ <span style=\"color: #7f7f7f; text-decoration-color: #7f7f7f\">string</span>               │ <span style=\"color: #7f7f7f; text-decoration-color: #7f7f7f\">int64</span>            │ <span style=\"color: #7f7f7f; text-decoration-color: #7f7f7f\">string</span>       │\n",
       "├────────────────┼───────────────┼───────────┼────────┼────────────┼───────┼───────────┼──────────────────────────┼──────────────────────┼──────────────────┼──────────────┤\n",
       "│ <span style=\"color: #008000; text-decoration-color: #008000\">CS031415000172</span> │ <span style=\"color: #008000; text-decoration-color: #008000\">宇多田 貴美子</span> │ <span style=\"color: #008000; text-decoration-color: #008000\">1        </span> │ <span style=\"color: #008000; text-decoration-color: #008000\">女性  </span> │ <span style=\"color: #800080; text-decoration-color: #800080\">1976-10-04</span> │    <span style=\"color: #008080; text-decoration-color: #008080; font-weight: bold\">42</span> │ <span style=\"color: #008000; text-decoration-color: #008000\">151-0053 </span> │ <span style=\"color: #008000; text-decoration-color: #008000\">東京都渋谷区代々木*****…</span> │ <span style=\"color: #008000; text-decoration-color: #008000\">S13031              </span> │         <span style=\"color: #008080; text-decoration-color: #008080; font-weight: bold\">20150529</span> │ <span style=\"color: #008000; text-decoration-color: #008000\">D-20100325-C</span> │\n",
       "│ <span style=\"color: #008000; text-decoration-color: #008000\">CS015414000103</span> │ <span style=\"color: #008000; text-decoration-color: #008000\">奥野 陽子    </span> │ <span style=\"color: #008000; text-decoration-color: #008000\">1        </span> │ <span style=\"color: #008000; text-decoration-color: #008000\">女性  </span> │ <span style=\"color: #800080; text-decoration-color: #800080\">1977-08-09</span> │    <span style=\"color: #008080; text-decoration-color: #008080; font-weight: bold\">41</span> │ <span style=\"color: #008000; text-decoration-color: #008000\">136-0073 </span> │ <span style=\"color: #008000; text-decoration-color: #008000\">東京都江東区北砂*******…</span> │ <span style=\"color: #008000; text-decoration-color: #008000\">S13015              </span> │         <span style=\"color: #008080; text-decoration-color: #008080; font-weight: bold\">20150722</span> │ <span style=\"color: #008000; text-decoration-color: #008000\">B-20100609-B</span> │\n",
       "│ <span style=\"color: #008000; text-decoration-color: #008000\">CS011215000048</span> │ <span style=\"color: #008000; text-decoration-color: #008000\">芦田 沙耶    </span> │ <span style=\"color: #008000; text-decoration-color: #008000\">1        </span> │ <span style=\"color: #008000; text-decoration-color: #008000\">女性  </span> │ <span style=\"color: #800080; text-decoration-color: #800080\">1992-02-01</span> │    <span style=\"color: #008080; text-decoration-color: #008080; font-weight: bold\">27</span> │ <span style=\"color: #008000; text-decoration-color: #008000\">223-0062 </span> │ <span style=\"color: #008000; text-decoration-color: #008000\">神奈川県横浜市港北区日 …</span> │ <span style=\"color: #008000; text-decoration-color: #008000\">S14011              </span> │         <span style=\"color: #008080; text-decoration-color: #008080; font-weight: bold\">20150228</span> │ <span style=\"color: #008000; text-decoration-color: #008000\">C-20100421-9</span> │\n",
       "│ <span style=\"color: #008000; text-decoration-color: #008000\">CS029415000023</span> │ <span style=\"color: #008000; text-decoration-color: #008000\">梅田 里穂    </span> │ <span style=\"color: #008000; text-decoration-color: #008000\">1        </span> │ <span style=\"color: #008000; text-decoration-color: #008000\">女性  </span> │ <span style=\"color: #800080; text-decoration-color: #800080\">1976-01-17</span> │    <span style=\"color: #008080; text-decoration-color: #008080; font-weight: bold\">43</span> │ <span style=\"color: #008000; text-decoration-color: #008000\">279-0043 </span> │ <span style=\"color: #008000; text-decoration-color: #008000\">千葉県浦安市富士見*****…</span> │ <span style=\"color: #008000; text-decoration-color: #008000\">S12029              </span> │         <span style=\"color: #008080; text-decoration-color: #008080; font-weight: bold\">20150610</span> │ <span style=\"color: #008000; text-decoration-color: #008000\">D-20100918-E</span> │\n",
       "│ <span style=\"color: #008000; text-decoration-color: #008000\">CS035415000029</span> │ <span style=\"color: #008000; text-decoration-color: #008000\">寺沢 真希    </span> │ <span style=\"color: #008000; text-decoration-color: #008000\">9        </span> │ <span style=\"color: #008000; text-decoration-color: #008000\">不明  </span> │ <span style=\"color: #800080; text-decoration-color: #800080\">1977-09-27</span> │    <span style=\"color: #008080; text-decoration-color: #008080; font-weight: bold\">41</span> │ <span style=\"color: #008000; text-decoration-color: #008000\">158-0096 </span> │ <span style=\"color: #008000; text-decoration-color: #008000\">東京都世田谷区玉川台***…</span> │ <span style=\"color: #008000; text-decoration-color: #008000\">S13035              </span> │         <span style=\"color: #008080; text-decoration-color: #008080; font-weight: bold\">20141220</span> │ <span style=\"color: #008000; text-decoration-color: #008000\">F-20101029-F</span> │\n",
       "└────────────────┴───────────────┴───────────┴────────┴────────────┴───────┴───────────┴──────────────────────────┴──────────────────────┴──────────────────┴──────────────┘\n",
       "</pre>\n"
      ],
      "text/plain": [
       "┏━━━━━━━━━━━━━━━━┳━━━━━━━━━━━━━━━┳━━━━━━━━━━━┳━━━━━━━━┳━━━━━━━━━━━━┳━━━━━━━┳━━━━━━━━━━━┳━━━━━━━━━━━━━━━━━━━━━━━━━━┳━━━━━━━━━━━━━━━━━━━━━━┳━━━━━━━━━━━━━━━━━━┳━━━━━━━━━━━━━━┓\n",
       "┃\u001b[1m \u001b[0m\u001b[1mcustomer_id\u001b[0m\u001b[1m   \u001b[0m\u001b[1m \u001b[0m┃\u001b[1m \u001b[0m\u001b[1mcustomer_name\u001b[0m\u001b[1m \u001b[0m┃\u001b[1m \u001b[0m\u001b[1mgender_cd\u001b[0m\u001b[1m \u001b[0m┃\u001b[1m \u001b[0m\u001b[1mgender\u001b[0m\u001b[1m \u001b[0m┃\u001b[1m \u001b[0m\u001b[1mbirth_day\u001b[0m\u001b[1m \u001b[0m\u001b[1m \u001b[0m┃\u001b[1m \u001b[0m\u001b[1mage\u001b[0m\u001b[1m  \u001b[0m\u001b[1m \u001b[0m┃\u001b[1m \u001b[0m\u001b[1mpostal_cd\u001b[0m\u001b[1m \u001b[0m┃\u001b[1m \u001b[0m\u001b[1maddress\u001b[0m\u001b[1m                 \u001b[0m\u001b[1m \u001b[0m┃\u001b[1m \u001b[0m\u001b[1mapplication_store_cd\u001b[0m\u001b[1m \u001b[0m┃\u001b[1m \u001b[0m\u001b[1mapplication_date\u001b[0m\u001b[1m \u001b[0m┃\u001b[1m \u001b[0m\u001b[1mstatus_cd\u001b[0m\u001b[1m   \u001b[0m\u001b[1m \u001b[0m┃\n",
       "┡━━━━━━━━━━━━━━━━╇━━━━━━━━━━━━━━━╇━━━━━━━━━━━╇━━━━━━━━╇━━━━━━━━━━━━╇━━━━━━━╇━━━━━━━━━━━╇━━━━━━━━━━━━━━━━━━━━━━━━━━╇━━━━━━━━━━━━━━━━━━━━━━╇━━━━━━━━━━━━━━━━━━╇━━━━━━━━━━━━━━┩\n",
       "│ \u001b[2mstring\u001b[0m         │ \u001b[2mstring\u001b[0m        │ \u001b[2mstring\u001b[0m    │ \u001b[2mstring\u001b[0m │ \u001b[2mdate\u001b[0m       │ \u001b[2mint64\u001b[0m │ \u001b[2mstring\u001b[0m    │ \u001b[2mstring\u001b[0m                   │ \u001b[2mstring\u001b[0m               │ \u001b[2mint64\u001b[0m            │ \u001b[2mstring\u001b[0m       │\n",
       "├────────────────┼───────────────┼───────────┼────────┼────────────┼───────┼───────────┼──────────────────────────┼──────────────────────┼──────────────────┼──────────────┤\n",
       "│ \u001b[32mCS031415000172\u001b[0m │ \u001b[32m宇多田 貴美子\u001b[0m │ \u001b[32m1        \u001b[0m │ \u001b[32m女性  \u001b[0m │ \u001b[35m1976-10-04\u001b[0m │    \u001b[1;36m42\u001b[0m │ \u001b[32m151-0053 \u001b[0m │ \u001b[32m東京都渋谷区代々木*****…\u001b[0m │ \u001b[32mS13031              \u001b[0m │         \u001b[1;36m20150529\u001b[0m │ \u001b[32mD-20100325-C\u001b[0m │\n",
       "│ \u001b[32mCS015414000103\u001b[0m │ \u001b[32m奥野 陽子    \u001b[0m │ \u001b[32m1        \u001b[0m │ \u001b[32m女性  \u001b[0m │ \u001b[35m1977-08-09\u001b[0m │    \u001b[1;36m41\u001b[0m │ \u001b[32m136-0073 \u001b[0m │ \u001b[32m東京都江東区北砂*******…\u001b[0m │ \u001b[32mS13015              \u001b[0m │         \u001b[1;36m20150722\u001b[0m │ \u001b[32mB-20100609-B\u001b[0m │\n",
       "│ \u001b[32mCS011215000048\u001b[0m │ \u001b[32m芦田 沙耶    \u001b[0m │ \u001b[32m1        \u001b[0m │ \u001b[32m女性  \u001b[0m │ \u001b[35m1992-02-01\u001b[0m │    \u001b[1;36m27\u001b[0m │ \u001b[32m223-0062 \u001b[0m │ \u001b[32m神奈川県横浜市港北区日 …\u001b[0m │ \u001b[32mS14011              \u001b[0m │         \u001b[1;36m20150228\u001b[0m │ \u001b[32mC-20100421-9\u001b[0m │\n",
       "│ \u001b[32mCS029415000023\u001b[0m │ \u001b[32m梅田 里穂    \u001b[0m │ \u001b[32m1        \u001b[0m │ \u001b[32m女性  \u001b[0m │ \u001b[35m1976-01-17\u001b[0m │    \u001b[1;36m43\u001b[0m │ \u001b[32m279-0043 \u001b[0m │ \u001b[32m千葉県浦安市富士見*****…\u001b[0m │ \u001b[32mS12029              \u001b[0m │         \u001b[1;36m20150610\u001b[0m │ \u001b[32mD-20100918-E\u001b[0m │\n",
       "│ \u001b[32mCS035415000029\u001b[0m │ \u001b[32m寺沢 真希    \u001b[0m │ \u001b[32m9        \u001b[0m │ \u001b[32m不明  \u001b[0m │ \u001b[35m1977-09-27\u001b[0m │    \u001b[1;36m41\u001b[0m │ \u001b[32m158-0096 \u001b[0m │ \u001b[32m東京都世田谷区玉川台***…\u001b[0m │ \u001b[32mS13035              \u001b[0m │         \u001b[1;36m20141220\u001b[0m │ \u001b[32mF-20101029-F\u001b[0m │\n",
       "└────────────────┴───────────────┴───────────┴────────┴────────────┴───────┴───────────┴──────────────────────────┴──────────────────────┴──────────────────┴──────────────┘"
      ]
     },
     "execution_count": 16,
     "metadata": {},
     "output_type": "execute_result"
    }
   ],
   "source": [
    "df_013 = df_customer.filter(df_customer[\"status_cd\"].re_search(r\"^[A-F]\"))\n",
    "\n",
    "df_013.head()"
   ]
  },
  {
   "attachments": {},
   "cell_type": "markdown",
   "metadata": {},
   "source": [
    "---\n",
    "> P-014: 顧客データ（df_customer）から、ステータスコード（status_cd）の末尾が数字の1〜9で終わるデータを全項目抽出し、5件表示せよ。\n",
    "\n",
    "最後尾の文字は`$`で表す"
   ]
  },
  {
   "cell_type": "code",
   "execution_count": 17,
   "metadata": {},
   "outputs": [
    {
     "data": {
      "text/html": [
       "<pre style=\"white-space:pre;overflow-x:auto;line-height:normal;font-family:Menlo,'DejaVu Sans Mono',consolas,'Courier New',monospace\">┏━━━━━━━━━━━━━━━━┳━━━━━━━━━━━━━━━┳━━━━━━━━━━━┳━━━━━━━━┳━━━━━━━━━━━━┳━━━━━━━┳━━━━━━━━━━━┳━━━━━━━━━━━━━━━━━━━━━━━━━━┳━━━━━━━━━━━━━━━━━━━━━━┳━━━━━━━━━━━━━━━━━━┳━━━━━━━━━━━━━━┓\n",
       "┃<span style=\"font-weight: bold\"> customer_id    </span>┃<span style=\"font-weight: bold\"> customer_name </span>┃<span style=\"font-weight: bold\"> gender_cd </span>┃<span style=\"font-weight: bold\"> gender </span>┃<span style=\"font-weight: bold\"> birth_day  </span>┃<span style=\"font-weight: bold\"> age   </span>┃<span style=\"font-weight: bold\"> postal_cd </span>┃<span style=\"font-weight: bold\"> address                  </span>┃<span style=\"font-weight: bold\"> application_store_cd </span>┃<span style=\"font-weight: bold\"> application_date </span>┃<span style=\"font-weight: bold\"> status_cd    </span>┃\n",
       "┡━━━━━━━━━━━━━━━━╇━━━━━━━━━━━━━━━╇━━━━━━━━━━━╇━━━━━━━━╇━━━━━━━━━━━━╇━━━━━━━╇━━━━━━━━━━━╇━━━━━━━━━━━━━━━━━━━━━━━━━━╇━━━━━━━━━━━━━━━━━━━━━━╇━━━━━━━━━━━━━━━━━━╇━━━━━━━━━━━━━━┩\n",
       "│ <span style=\"color: #7f7f7f; text-decoration-color: #7f7f7f\">string</span>         │ <span style=\"color: #7f7f7f; text-decoration-color: #7f7f7f\">string</span>        │ <span style=\"color: #7f7f7f; text-decoration-color: #7f7f7f\">string</span>    │ <span style=\"color: #7f7f7f; text-decoration-color: #7f7f7f\">string</span> │ <span style=\"color: #7f7f7f; text-decoration-color: #7f7f7f\">date</span>       │ <span style=\"color: #7f7f7f; text-decoration-color: #7f7f7f\">int64</span> │ <span style=\"color: #7f7f7f; text-decoration-color: #7f7f7f\">string</span>    │ <span style=\"color: #7f7f7f; text-decoration-color: #7f7f7f\">string</span>                   │ <span style=\"color: #7f7f7f; text-decoration-color: #7f7f7f\">string</span>               │ <span style=\"color: #7f7f7f; text-decoration-color: #7f7f7f\">int64</span>            │ <span style=\"color: #7f7f7f; text-decoration-color: #7f7f7f\">string</span>       │\n",
       "├────────────────┼───────────────┼───────────┼────────┼────────────┼───────┼───────────┼──────────────────────────┼──────────────────────┼──────────────────┼──────────────┤\n",
       "│ <span style=\"color: #008000; text-decoration-color: #008000\">CS001215000145</span> │ <span style=\"color: #008000; text-decoration-color: #008000\">田崎 美紀    </span> │ <span style=\"color: #008000; text-decoration-color: #008000\">1        </span> │ <span style=\"color: #008000; text-decoration-color: #008000\">女性  </span> │ <span style=\"color: #800080; text-decoration-color: #800080\">1995-03-29</span> │    <span style=\"color: #008080; text-decoration-color: #008080; font-weight: bold\">24</span> │ <span style=\"color: #008000; text-decoration-color: #008000\">144-0055 </span> │ <span style=\"color: #008000; text-decoration-color: #008000\">東京都大田区仲六郷*****…</span> │ <span style=\"color: #008000; text-decoration-color: #008000\">S13001              </span> │         <span style=\"color: #008080; text-decoration-color: #008080; font-weight: bold\">20170605</span> │ <span style=\"color: #008000; text-decoration-color: #008000\">6-20090929-2</span> │\n",
       "│ <span style=\"color: #008000; text-decoration-color: #008000\">CS033513000180</span> │ <span style=\"color: #008000; text-decoration-color: #008000\">安斎 遥      </span> │ <span style=\"color: #008000; text-decoration-color: #008000\">1        </span> │ <span style=\"color: #008000; text-decoration-color: #008000\">女性  </span> │ <span style=\"color: #800080; text-decoration-color: #800080\">1962-07-11</span> │    <span style=\"color: #008080; text-decoration-color: #008080; font-weight: bold\">56</span> │ <span style=\"color: #008000; text-decoration-color: #008000\">241-0823 </span> │ <span style=\"color: #008000; text-decoration-color: #008000\">神奈川県横浜市旭区善部 …</span> │ <span style=\"color: #008000; text-decoration-color: #008000\">S14033              </span> │         <span style=\"color: #008080; text-decoration-color: #008080; font-weight: bold\">20150728</span> │ <span style=\"color: #008000; text-decoration-color: #008000\">6-20080506-5</span> │\n",
       "│ <span style=\"color: #008000; text-decoration-color: #008000\">CS011215000048</span> │ <span style=\"color: #008000; text-decoration-color: #008000\">芦田 沙耶    </span> │ <span style=\"color: #008000; text-decoration-color: #008000\">1        </span> │ <span style=\"color: #008000; text-decoration-color: #008000\">女性  </span> │ <span style=\"color: #800080; text-decoration-color: #800080\">1992-02-01</span> │    <span style=\"color: #008080; text-decoration-color: #008080; font-weight: bold\">27</span> │ <span style=\"color: #008000; text-decoration-color: #008000\">223-0062 </span> │ <span style=\"color: #008000; text-decoration-color: #008000\">神奈川県横浜市港北区日 …</span> │ <span style=\"color: #008000; text-decoration-color: #008000\">S14011              </span> │         <span style=\"color: #008080; text-decoration-color: #008080; font-weight: bold\">20150228</span> │ <span style=\"color: #008000; text-decoration-color: #008000\">C-20100421-9</span> │\n",
       "│ <span style=\"color: #008000; text-decoration-color: #008000\">CS040412000191</span> │ <span style=\"color: #008000; text-decoration-color: #008000\">川井 郁恵    </span> │ <span style=\"color: #008000; text-decoration-color: #008000\">1        </span> │ <span style=\"color: #008000; text-decoration-color: #008000\">女性  </span> │ <span style=\"color: #800080; text-decoration-color: #800080\">1977-01-05</span> │    <span style=\"color: #008080; text-decoration-color: #008080; font-weight: bold\">42</span> │ <span style=\"color: #008000; text-decoration-color: #008000\">226-0021 </span> │ <span style=\"color: #008000; text-decoration-color: #008000\">神奈川県横浜市緑区北八 …</span> │ <span style=\"color: #008000; text-decoration-color: #008000\">S14040              </span> │         <span style=\"color: #008080; text-decoration-color: #008080; font-weight: bold\">20151101</span> │ <span style=\"color: #008000; text-decoration-color: #008000\">1-20091025-4</span> │\n",
       "│ <span style=\"color: #008000; text-decoration-color: #008000\">CS009315000023</span> │ <span style=\"color: #008000; text-decoration-color: #008000\">皆川 文世    </span> │ <span style=\"color: #008000; text-decoration-color: #008000\">1        </span> │ <span style=\"color: #008000; text-decoration-color: #008000\">女性  </span> │ <span style=\"color: #800080; text-decoration-color: #800080\">1980-04-15</span> │    <span style=\"color: #008080; text-decoration-color: #008080; font-weight: bold\">38</span> │ <span style=\"color: #008000; text-decoration-color: #008000\">154-0012 </span> │ <span style=\"color: #008000; text-decoration-color: #008000\">東京都世田谷区駒沢*****…</span> │ <span style=\"color: #008000; text-decoration-color: #008000\">S13009              </span> │         <span style=\"color: #008080; text-decoration-color: #008080; font-weight: bold\">20150319</span> │ <span style=\"color: #008000; text-decoration-color: #008000\">5-20080322-1</span> │\n",
       "└────────────────┴───────────────┴───────────┴────────┴────────────┴───────┴───────────┴──────────────────────────┴──────────────────────┴──────────────────┴──────────────┘\n",
       "</pre>\n"
      ],
      "text/plain": [
       "┏━━━━━━━━━━━━━━━━┳━━━━━━━━━━━━━━━┳━━━━━━━━━━━┳━━━━━━━━┳━━━━━━━━━━━━┳━━━━━━━┳━━━━━━━━━━━┳━━━━━━━━━━━━━━━━━━━━━━━━━━┳━━━━━━━━━━━━━━━━━━━━━━┳━━━━━━━━━━━━━━━━━━┳━━━━━━━━━━━━━━┓\n",
       "┃\u001b[1m \u001b[0m\u001b[1mcustomer_id\u001b[0m\u001b[1m   \u001b[0m\u001b[1m \u001b[0m┃\u001b[1m \u001b[0m\u001b[1mcustomer_name\u001b[0m\u001b[1m \u001b[0m┃\u001b[1m \u001b[0m\u001b[1mgender_cd\u001b[0m\u001b[1m \u001b[0m┃\u001b[1m \u001b[0m\u001b[1mgender\u001b[0m\u001b[1m \u001b[0m┃\u001b[1m \u001b[0m\u001b[1mbirth_day\u001b[0m\u001b[1m \u001b[0m\u001b[1m \u001b[0m┃\u001b[1m \u001b[0m\u001b[1mage\u001b[0m\u001b[1m  \u001b[0m\u001b[1m \u001b[0m┃\u001b[1m \u001b[0m\u001b[1mpostal_cd\u001b[0m\u001b[1m \u001b[0m┃\u001b[1m \u001b[0m\u001b[1maddress\u001b[0m\u001b[1m                 \u001b[0m\u001b[1m \u001b[0m┃\u001b[1m \u001b[0m\u001b[1mapplication_store_cd\u001b[0m\u001b[1m \u001b[0m┃\u001b[1m \u001b[0m\u001b[1mapplication_date\u001b[0m\u001b[1m \u001b[0m┃\u001b[1m \u001b[0m\u001b[1mstatus_cd\u001b[0m\u001b[1m   \u001b[0m\u001b[1m \u001b[0m┃\n",
       "┡━━━━━━━━━━━━━━━━╇━━━━━━━━━━━━━━━╇━━━━━━━━━━━╇━━━━━━━━╇━━━━━━━━━━━━╇━━━━━━━╇━━━━━━━━━━━╇━━━━━━━━━━━━━━━━━━━━━━━━━━╇━━━━━━━━━━━━━━━━━━━━━━╇━━━━━━━━━━━━━━━━━━╇━━━━━━━━━━━━━━┩\n",
       "│ \u001b[2mstring\u001b[0m         │ \u001b[2mstring\u001b[0m        │ \u001b[2mstring\u001b[0m    │ \u001b[2mstring\u001b[0m │ \u001b[2mdate\u001b[0m       │ \u001b[2mint64\u001b[0m │ \u001b[2mstring\u001b[0m    │ \u001b[2mstring\u001b[0m                   │ \u001b[2mstring\u001b[0m               │ \u001b[2mint64\u001b[0m            │ \u001b[2mstring\u001b[0m       │\n",
       "├────────────────┼───────────────┼───────────┼────────┼────────────┼───────┼───────────┼──────────────────────────┼──────────────────────┼──────────────────┼──────────────┤\n",
       "│ \u001b[32mCS001215000145\u001b[0m │ \u001b[32m田崎 美紀    \u001b[0m │ \u001b[32m1        \u001b[0m │ \u001b[32m女性  \u001b[0m │ \u001b[35m1995-03-29\u001b[0m │    \u001b[1;36m24\u001b[0m │ \u001b[32m144-0055 \u001b[0m │ \u001b[32m東京都大田区仲六郷*****…\u001b[0m │ \u001b[32mS13001              \u001b[0m │         \u001b[1;36m20170605\u001b[0m │ \u001b[32m6-20090929-2\u001b[0m │\n",
       "│ \u001b[32mCS033513000180\u001b[0m │ \u001b[32m安斎 遥      \u001b[0m │ \u001b[32m1        \u001b[0m │ \u001b[32m女性  \u001b[0m │ \u001b[35m1962-07-11\u001b[0m │    \u001b[1;36m56\u001b[0m │ \u001b[32m241-0823 \u001b[0m │ \u001b[32m神奈川県横浜市旭区善部 …\u001b[0m │ \u001b[32mS14033              \u001b[0m │         \u001b[1;36m20150728\u001b[0m │ \u001b[32m6-20080506-5\u001b[0m │\n",
       "│ \u001b[32mCS011215000048\u001b[0m │ \u001b[32m芦田 沙耶    \u001b[0m │ \u001b[32m1        \u001b[0m │ \u001b[32m女性  \u001b[0m │ \u001b[35m1992-02-01\u001b[0m │    \u001b[1;36m27\u001b[0m │ \u001b[32m223-0062 \u001b[0m │ \u001b[32m神奈川県横浜市港北区日 …\u001b[0m │ \u001b[32mS14011              \u001b[0m │         \u001b[1;36m20150228\u001b[0m │ \u001b[32mC-20100421-9\u001b[0m │\n",
       "│ \u001b[32mCS040412000191\u001b[0m │ \u001b[32m川井 郁恵    \u001b[0m │ \u001b[32m1        \u001b[0m │ \u001b[32m女性  \u001b[0m │ \u001b[35m1977-01-05\u001b[0m │    \u001b[1;36m42\u001b[0m │ \u001b[32m226-0021 \u001b[0m │ \u001b[32m神奈川県横浜市緑区北八 …\u001b[0m │ \u001b[32mS14040              \u001b[0m │         \u001b[1;36m20151101\u001b[0m │ \u001b[32m1-20091025-4\u001b[0m │\n",
       "│ \u001b[32mCS009315000023\u001b[0m │ \u001b[32m皆川 文世    \u001b[0m │ \u001b[32m1        \u001b[0m │ \u001b[32m女性  \u001b[0m │ \u001b[35m1980-04-15\u001b[0m │    \u001b[1;36m38\u001b[0m │ \u001b[32m154-0012 \u001b[0m │ \u001b[32m東京都世田谷区駒沢*****…\u001b[0m │ \u001b[32mS13009              \u001b[0m │         \u001b[1;36m20150319\u001b[0m │ \u001b[32m5-20080322-1\u001b[0m │\n",
       "└────────────────┴───────────────┴───────────┴────────┴────────────┴───────┴───────────┴──────────────────────────┴──────────────────────┴──────────────────┴──────────────┘"
      ]
     },
     "execution_count": 17,
     "metadata": {},
     "output_type": "execute_result"
    }
   ],
   "source": [
    "df_014 = df_customer.filter(df_customer[\"status_cd\"].re_search(r\"[1-9]$\"))\n",
    "\n",
    "df_014.head()"
   ]
  },
  {
   "attachments": {},
   "cell_type": "markdown",
   "metadata": {},
   "source": [
    "---\n",
    "> P-015: 顧客データ（df_customer）から、ステータスコード（status_cd）の先頭がアルファベットのA〜Fで始まり、末尾が数字の1〜9で終わるデータを全項目抽出し、5件表示せよ。"
   ]
  },
  {
   "cell_type": "code",
   "execution_count": 18,
   "metadata": {},
   "outputs": [
    {
     "data": {
      "text/html": [
       "<pre style=\"white-space:pre;overflow-x:auto;line-height:normal;font-family:Menlo,'DejaVu Sans Mono',consolas,'Courier New',monospace\">┏━━━━━━━━━━━━━━━━┳━━━━━━━━━━━━━━━┳━━━━━━━━━━━┳━━━━━━━━┳━━━━━━━━━━━━┳━━━━━━━┳━━━━━━━━━━━┳━━━━━━━━━━━━━━━━━━━━━━━━━━┳━━━━━━━━━━━━━━━━━━━━━━┳━━━━━━━━━━━━━━━━━━┳━━━━━━━━━━━━━━┓\n",
       "┃<span style=\"font-weight: bold\"> customer_id    </span>┃<span style=\"font-weight: bold\"> customer_name </span>┃<span style=\"font-weight: bold\"> gender_cd </span>┃<span style=\"font-weight: bold\"> gender </span>┃<span style=\"font-weight: bold\"> birth_day  </span>┃<span style=\"font-weight: bold\"> age   </span>┃<span style=\"font-weight: bold\"> postal_cd </span>┃<span style=\"font-weight: bold\"> address                  </span>┃<span style=\"font-weight: bold\"> application_store_cd </span>┃<span style=\"font-weight: bold\"> application_date </span>┃<span style=\"font-weight: bold\"> status_cd    </span>┃\n",
       "┡━━━━━━━━━━━━━━━━╇━━━━━━━━━━━━━━━╇━━━━━━━━━━━╇━━━━━━━━╇━━━━━━━━━━━━╇━━━━━━━╇━━━━━━━━━━━╇━━━━━━━━━━━━━━━━━━━━━━━━━━╇━━━━━━━━━━━━━━━━━━━━━━╇━━━━━━━━━━━━━━━━━━╇━━━━━━━━━━━━━━┩\n",
       "│ <span style=\"color: #7f7f7f; text-decoration-color: #7f7f7f\">string</span>         │ <span style=\"color: #7f7f7f; text-decoration-color: #7f7f7f\">string</span>        │ <span style=\"color: #7f7f7f; text-decoration-color: #7f7f7f\">string</span>    │ <span style=\"color: #7f7f7f; text-decoration-color: #7f7f7f\">string</span> │ <span style=\"color: #7f7f7f; text-decoration-color: #7f7f7f\">date</span>       │ <span style=\"color: #7f7f7f; text-decoration-color: #7f7f7f\">int64</span> │ <span style=\"color: #7f7f7f; text-decoration-color: #7f7f7f\">string</span>    │ <span style=\"color: #7f7f7f; text-decoration-color: #7f7f7f\">string</span>                   │ <span style=\"color: #7f7f7f; text-decoration-color: #7f7f7f\">string</span>               │ <span style=\"color: #7f7f7f; text-decoration-color: #7f7f7f\">int64</span>            │ <span style=\"color: #7f7f7f; text-decoration-color: #7f7f7f\">string</span>       │\n",
       "├────────────────┼───────────────┼───────────┼────────┼────────────┼───────┼───────────┼──────────────────────────┼──────────────────────┼──────────────────┼──────────────┤\n",
       "│ <span style=\"color: #008000; text-decoration-color: #008000\">CS011215000048</span> │ <span style=\"color: #008000; text-decoration-color: #008000\">芦田 沙耶    </span> │ <span style=\"color: #008000; text-decoration-color: #008000\">1        </span> │ <span style=\"color: #008000; text-decoration-color: #008000\">女性  </span> │ <span style=\"color: #800080; text-decoration-color: #800080\">1992-02-01</span> │    <span style=\"color: #008080; text-decoration-color: #008080; font-weight: bold\">27</span> │ <span style=\"color: #008000; text-decoration-color: #008000\">223-0062 </span> │ <span style=\"color: #008000; text-decoration-color: #008000\">神奈川県横浜市港北区日 …</span> │ <span style=\"color: #008000; text-decoration-color: #008000\">S14011              </span> │         <span style=\"color: #008080; text-decoration-color: #008080; font-weight: bold\">20150228</span> │ <span style=\"color: #008000; text-decoration-color: #008000\">C-20100421-9</span> │\n",
       "│ <span style=\"color: #008000; text-decoration-color: #008000\">CS022513000105</span> │ <span style=\"color: #008000; text-decoration-color: #008000\">島村 貴美子  </span> │ <span style=\"color: #008000; text-decoration-color: #008000\">1        </span> │ <span style=\"color: #008000; text-decoration-color: #008000\">女性  </span> │ <span style=\"color: #800080; text-decoration-color: #800080\">1962-03-12</span> │    <span style=\"color: #008080; text-decoration-color: #008080; font-weight: bold\">57</span> │ <span style=\"color: #008000; text-decoration-color: #008000\">249-0002 </span> │ <span style=\"color: #008000; text-decoration-color: #008000\">神奈川県逗子市山の根***…</span> │ <span style=\"color: #008000; text-decoration-color: #008000\">S14022              </span> │         <span style=\"color: #008080; text-decoration-color: #008080; font-weight: bold\">20150320</span> │ <span style=\"color: #008000; text-decoration-color: #008000\">A-20091115-7</span> │\n",
       "│ <span style=\"color: #008000; text-decoration-color: #008000\">CS001515000096</span> │ <span style=\"color: #008000; text-decoration-color: #008000\">水野 陽子    </span> │ <span style=\"color: #008000; text-decoration-color: #008000\">9        </span> │ <span style=\"color: #008000; text-decoration-color: #008000\">不明  </span> │ <span style=\"color: #800080; text-decoration-color: #800080\">1960-11-29</span> │    <span style=\"color: #008080; text-decoration-color: #008080; font-weight: bold\">58</span> │ <span style=\"color: #008000; text-decoration-color: #008000\">144-0053 </span> │ <span style=\"color: #008000; text-decoration-color: #008000\">東京都大田区蒲田本町***…</span> │ <span style=\"color: #008000; text-decoration-color: #008000\">S13001              </span> │         <span style=\"color: #008080; text-decoration-color: #008080; font-weight: bold\">20150614</span> │ <span style=\"color: #008000; text-decoration-color: #008000\">A-20100724-7</span> │\n",
       "│ <span style=\"color: #008000; text-decoration-color: #008000\">CS013615000053</span> │ <span style=\"color: #008000; text-decoration-color: #008000\">西脇 季衣    </span> │ <span style=\"color: #008000; text-decoration-color: #008000\">1        </span> │ <span style=\"color: #008000; text-decoration-color: #008000\">女性  </span> │ <span style=\"color: #800080; text-decoration-color: #800080\">1953-10-18</span> │    <span style=\"color: #008080; text-decoration-color: #008080; font-weight: bold\">65</span> │ <span style=\"color: #008000; text-decoration-color: #008000\">261-0026 </span> │ <span style=\"color: #008000; text-decoration-color: #008000\">千葉県千葉市美浜区幕張 …</span> │ <span style=\"color: #008000; text-decoration-color: #008000\">S12013              </span> │         <span style=\"color: #008080; text-decoration-color: #008080; font-weight: bold\">20150128</span> │ <span style=\"color: #008000; text-decoration-color: #008000\">B-20100329-6</span> │\n",
       "│ <span style=\"color: #008000; text-decoration-color: #008000\">CS020412000161</span> │ <span style=\"color: #008000; text-decoration-color: #008000\">小宮 薫      </span> │ <span style=\"color: #008000; text-decoration-color: #008000\">1        </span> │ <span style=\"color: #008000; text-decoration-color: #008000\">女性  </span> │ <span style=\"color: #800080; text-decoration-color: #800080\">1974-05-21</span> │    <span style=\"color: #008080; text-decoration-color: #008080; font-weight: bold\">44</span> │ <span style=\"color: #008000; text-decoration-color: #008000\">174-0042 </span> │ <span style=\"color: #008000; text-decoration-color: #008000\">東京都板橋区東坂下*****…</span> │ <span style=\"color: #008000; text-decoration-color: #008000\">S13020              </span> │         <span style=\"color: #008080; text-decoration-color: #008080; font-weight: bold\">20150822</span> │ <span style=\"color: #008000; text-decoration-color: #008000\">B-20081021-3</span> │\n",
       "└────────────────┴───────────────┴───────────┴────────┴────────────┴───────┴───────────┴──────────────────────────┴──────────────────────┴──────────────────┴──────────────┘\n",
       "</pre>\n"
      ],
      "text/plain": [
       "┏━━━━━━━━━━━━━━━━┳━━━━━━━━━━━━━━━┳━━━━━━━━━━━┳━━━━━━━━┳━━━━━━━━━━━━┳━━━━━━━┳━━━━━━━━━━━┳━━━━━━━━━━━━━━━━━━━━━━━━━━┳━━━━━━━━━━━━━━━━━━━━━━┳━━━━━━━━━━━━━━━━━━┳━━━━━━━━━━━━━━┓\n",
       "┃\u001b[1m \u001b[0m\u001b[1mcustomer_id\u001b[0m\u001b[1m   \u001b[0m\u001b[1m \u001b[0m┃\u001b[1m \u001b[0m\u001b[1mcustomer_name\u001b[0m\u001b[1m \u001b[0m┃\u001b[1m \u001b[0m\u001b[1mgender_cd\u001b[0m\u001b[1m \u001b[0m┃\u001b[1m \u001b[0m\u001b[1mgender\u001b[0m\u001b[1m \u001b[0m┃\u001b[1m \u001b[0m\u001b[1mbirth_day\u001b[0m\u001b[1m \u001b[0m\u001b[1m \u001b[0m┃\u001b[1m \u001b[0m\u001b[1mage\u001b[0m\u001b[1m  \u001b[0m\u001b[1m \u001b[0m┃\u001b[1m \u001b[0m\u001b[1mpostal_cd\u001b[0m\u001b[1m \u001b[0m┃\u001b[1m \u001b[0m\u001b[1maddress\u001b[0m\u001b[1m                 \u001b[0m\u001b[1m \u001b[0m┃\u001b[1m \u001b[0m\u001b[1mapplication_store_cd\u001b[0m\u001b[1m \u001b[0m┃\u001b[1m \u001b[0m\u001b[1mapplication_date\u001b[0m\u001b[1m \u001b[0m┃\u001b[1m \u001b[0m\u001b[1mstatus_cd\u001b[0m\u001b[1m   \u001b[0m\u001b[1m \u001b[0m┃\n",
       "┡━━━━━━━━━━━━━━━━╇━━━━━━━━━━━━━━━╇━━━━━━━━━━━╇━━━━━━━━╇━━━━━━━━━━━━╇━━━━━━━╇━━━━━━━━━━━╇━━━━━━━━━━━━━━━━━━━━━━━━━━╇━━━━━━━━━━━━━━━━━━━━━━╇━━━━━━━━━━━━━━━━━━╇━━━━━━━━━━━━━━┩\n",
       "│ \u001b[2mstring\u001b[0m         │ \u001b[2mstring\u001b[0m        │ \u001b[2mstring\u001b[0m    │ \u001b[2mstring\u001b[0m │ \u001b[2mdate\u001b[0m       │ \u001b[2mint64\u001b[0m │ \u001b[2mstring\u001b[0m    │ \u001b[2mstring\u001b[0m                   │ \u001b[2mstring\u001b[0m               │ \u001b[2mint64\u001b[0m            │ \u001b[2mstring\u001b[0m       │\n",
       "├────────────────┼───────────────┼───────────┼────────┼────────────┼───────┼───────────┼──────────────────────────┼──────────────────────┼──────────────────┼──────────────┤\n",
       "│ \u001b[32mCS011215000048\u001b[0m │ \u001b[32m芦田 沙耶    \u001b[0m │ \u001b[32m1        \u001b[0m │ \u001b[32m女性  \u001b[0m │ \u001b[35m1992-02-01\u001b[0m │    \u001b[1;36m27\u001b[0m │ \u001b[32m223-0062 \u001b[0m │ \u001b[32m神奈川県横浜市港北区日 …\u001b[0m │ \u001b[32mS14011              \u001b[0m │         \u001b[1;36m20150228\u001b[0m │ \u001b[32mC-20100421-9\u001b[0m │\n",
       "│ \u001b[32mCS022513000105\u001b[0m │ \u001b[32m島村 貴美子  \u001b[0m │ \u001b[32m1        \u001b[0m │ \u001b[32m女性  \u001b[0m │ \u001b[35m1962-03-12\u001b[0m │    \u001b[1;36m57\u001b[0m │ \u001b[32m249-0002 \u001b[0m │ \u001b[32m神奈川県逗子市山の根***…\u001b[0m │ \u001b[32mS14022              \u001b[0m │         \u001b[1;36m20150320\u001b[0m │ \u001b[32mA-20091115-7\u001b[0m │\n",
       "│ \u001b[32mCS001515000096\u001b[0m │ \u001b[32m水野 陽子    \u001b[0m │ \u001b[32m9        \u001b[0m │ \u001b[32m不明  \u001b[0m │ \u001b[35m1960-11-29\u001b[0m │    \u001b[1;36m58\u001b[0m │ \u001b[32m144-0053 \u001b[0m │ \u001b[32m東京都大田区蒲田本町***…\u001b[0m │ \u001b[32mS13001              \u001b[0m │         \u001b[1;36m20150614\u001b[0m │ \u001b[32mA-20100724-7\u001b[0m │\n",
       "│ \u001b[32mCS013615000053\u001b[0m │ \u001b[32m西脇 季衣    \u001b[0m │ \u001b[32m1        \u001b[0m │ \u001b[32m女性  \u001b[0m │ \u001b[35m1953-10-18\u001b[0m │    \u001b[1;36m65\u001b[0m │ \u001b[32m261-0026 \u001b[0m │ \u001b[32m千葉県千葉市美浜区幕張 …\u001b[0m │ \u001b[32mS12013              \u001b[0m │         \u001b[1;36m20150128\u001b[0m │ \u001b[32mB-20100329-6\u001b[0m │\n",
       "│ \u001b[32mCS020412000161\u001b[0m │ \u001b[32m小宮 薫      \u001b[0m │ \u001b[32m1        \u001b[0m │ \u001b[32m女性  \u001b[0m │ \u001b[35m1974-05-21\u001b[0m │    \u001b[1;36m44\u001b[0m │ \u001b[32m174-0042 \u001b[0m │ \u001b[32m東京都板橋区東坂下*****…\u001b[0m │ \u001b[32mS13020              \u001b[0m │         \u001b[1;36m20150822\u001b[0m │ \u001b[32mB-20081021-3\u001b[0m │\n",
       "└────────────────┴───────────────┴───────────┴────────┴────────────┴───────┴───────────┴──────────────────────────┴──────────────────────┴──────────────────┴──────────────┘"
      ]
     },
     "execution_count": 18,
     "metadata": {},
     "output_type": "execute_result"
    }
   ],
   "source": [
    "df_015 = df_customer.filter(df_customer[\"status_cd\"].re_search(r\"^[A-F].*[1-9]$\"))\n",
    "\n",
    "df_015.head()"
   ]
  },
  {
   "attachments": {},
   "cell_type": "markdown",
   "metadata": {},
   "source": [
    "---\n",
    "> P-016: 店舗データ（df_store）から、電話番号（tel_no）が3桁-3桁-4桁のデータを全項目表示せよ。"
   ]
  },
  {
   "cell_type": "code",
   "execution_count": 19,
   "metadata": {},
   "outputs": [
    {
     "data": {
      "text/html": [
       "<pre style=\"white-space:pre;overflow-x:auto;line-height:normal;font-family:Menlo,'DejaVu Sans Mono',consolas,'Courier New',monospace\">┏━━━━━━━━━━┳━━━━━━━━━━━━┳━━━━━━━━━━━━━━━┳━━━━━━━━━━━━┳━━━━━━━━━━━━━━━━━━━━━┳━━━━━━━━━━━━━━━━━━━━━━━━━━━━━━━┳━━━━━━━━━━━━━━┳━━━━━━━━━━━┳━━━━━━━━━━┳━━━━━━━━━━━━┓\n",
       "┃<span style=\"font-weight: bold\"> store_cd </span>┃<span style=\"font-weight: bold\"> store_name </span>┃<span style=\"font-weight: bold\"> prefecture_cd </span>┃<span style=\"font-weight: bold\"> prefecture </span>┃<span style=\"font-weight: bold\"> address             </span>┃<span style=\"font-weight: bold\"> address_kana                  </span>┃<span style=\"font-weight: bold\"> tel_no       </span>┃<span style=\"font-weight: bold\"> longitude </span>┃<span style=\"font-weight: bold\"> latitude </span>┃<span style=\"font-weight: bold\"> floor_area </span>┃\n",
       "┡━━━━━━━━━━╇━━━━━━━━━━━━╇━━━━━━━━━━━━━━━╇━━━━━━━━━━━━╇━━━━━━━━━━━━━━━━━━━━━╇━━━━━━━━━━━━━━━━━━━━━━━━━━━━━━━╇━━━━━━━━━━━━━━╇━━━━━━━━━━━╇━━━━━━━━━━╇━━━━━━━━━━━━┩\n",
       "│ <span style=\"color: #7f7f7f; text-decoration-color: #7f7f7f\">string</span>   │ <span style=\"color: #7f7f7f; text-decoration-color: #7f7f7f\">string</span>     │ <span style=\"color: #7f7f7f; text-decoration-color: #7f7f7f\">string</span>        │ <span style=\"color: #7f7f7f; text-decoration-color: #7f7f7f\">string</span>     │ <span style=\"color: #7f7f7f; text-decoration-color: #7f7f7f\">string</span>              │ <span style=\"color: #7f7f7f; text-decoration-color: #7f7f7f\">string</span>                        │ <span style=\"color: #7f7f7f; text-decoration-color: #7f7f7f\">string</span>       │ <span style=\"color: #7f7f7f; text-decoration-color: #7f7f7f\">float64</span>   │ <span style=\"color: #7f7f7f; text-decoration-color: #7f7f7f\">float64</span>  │ <span style=\"color: #7f7f7f; text-decoration-color: #7f7f7f\">float64</span>    │\n",
       "├──────────┼────────────┼───────────────┼────────────┼─────────────────────┼───────────────────────────────┼──────────────┼───────────┼──────────┼────────────┤\n",
       "│ <span style=\"color: #008000; text-decoration-color: #008000\">S12014  </span> │ <span style=\"color: #008000; text-decoration-color: #008000\">千草台店  </span> │ <span style=\"color: #008000; text-decoration-color: #008000\">12           </span> │ <span style=\"color: #008000; text-decoration-color: #008000\">千葉県    </span> │ <span style=\"color: #008000; text-decoration-color: #008000\">千葉県千葉市稲毛区…</span> │ <span style=\"color: #008000; text-decoration-color: #008000\">チバケンチバシイナゲクチグサ…</span> │ <span style=\"color: #008000; text-decoration-color: #008000\">043-123-4003</span> │  <span style=\"color: #008080; text-decoration-color: #008080; font-weight: bold\">140.1180</span> │ <span style=\"color: #008080; text-decoration-color: #008080; font-weight: bold\">35.63559</span> │     <span style=\"color: #008080; text-decoration-color: #008080; font-weight: bold\">1698.0</span> │\n",
       "│ <span style=\"color: #008000; text-decoration-color: #008000\">S13002  </span> │ <span style=\"color: #008000; text-decoration-color: #008000\">国分寺店  </span> │ <span style=\"color: #008000; text-decoration-color: #008000\">13           </span> │ <span style=\"color: #008000; text-decoration-color: #008000\">東京都    </span> │ <span style=\"color: #008000; text-decoration-color: #008000\">東京都国分寺市本多…</span> │ <span style=\"color: #008000; text-decoration-color: #008000\">トウキョウトコクブンジシホン…</span> │ <span style=\"color: #008000; text-decoration-color: #008000\">042-123-4008</span> │  <span style=\"color: #008080; text-decoration-color: #008080; font-weight: bold\">139.4802</span> │ <span style=\"color: #008080; text-decoration-color: #008080; font-weight: bold\">35.70566</span> │     <span style=\"color: #008080; text-decoration-color: #008080; font-weight: bold\">1735.0</span> │\n",
       "│ <span style=\"color: #008000; text-decoration-color: #008000\">S14010  </span> │ <span style=\"color: #008000; text-decoration-color: #008000\">菊名店    </span> │ <span style=\"color: #008000; text-decoration-color: #008000\">14           </span> │ <span style=\"color: #008000; text-decoration-color: #008000\">神奈川県  </span> │ <span style=\"color: #008000; text-decoration-color: #008000\">神奈川県横浜市港北…</span> │ <span style=\"color: #008000; text-decoration-color: #008000\">カナガワケンヨコハマシコウホ…</span> │ <span style=\"color: #008000; text-decoration-color: #008000\">045-123-4032</span> │  <span style=\"color: #008080; text-decoration-color: #008080; font-weight: bold\">139.6326</span> │ <span style=\"color: #008080; text-decoration-color: #008080; font-weight: bold\">35.50049</span> │     <span style=\"color: #008080; text-decoration-color: #008080; font-weight: bold\">1732.0</span> │\n",
       "│ <span style=\"color: #008000; text-decoration-color: #008000\">S14033  </span> │ <span style=\"color: #008000; text-decoration-color: #008000\">阿久和店  </span> │ <span style=\"color: #008000; text-decoration-color: #008000\">14           </span> │ <span style=\"color: #008000; text-decoration-color: #008000\">神奈川県  </span> │ <span style=\"color: #008000; text-decoration-color: #008000\">神奈川県横浜市瀬谷…</span> │ <span style=\"color: #008000; text-decoration-color: #008000\">カナガワケンヨコハマシセヤク…</span> │ <span style=\"color: #008000; text-decoration-color: #008000\">045-123-4043</span> │  <span style=\"color: #008080; text-decoration-color: #008080; font-weight: bold\">139.4961</span> │ <span style=\"color: #008080; text-decoration-color: #008080; font-weight: bold\">35.45918</span> │     <span style=\"color: #008080; text-decoration-color: #008080; font-weight: bold\">1495.0</span> │\n",
       "│ <span style=\"color: #008000; text-decoration-color: #008000\">S14036  </span> │ <span style=\"color: #008000; text-decoration-color: #008000\">相模原中 …</span> │ <span style=\"color: #008000; text-decoration-color: #008000\">14           </span> │ <span style=\"color: #008000; text-decoration-color: #008000\">神奈川県  </span> │ <span style=\"color: #008000; text-decoration-color: #008000\">神奈川県相模原市中…</span> │ <span style=\"color: #008000; text-decoration-color: #008000\">カナガワケンサガミハラシチュ…</span> │ <span style=\"color: #008000; text-decoration-color: #008000\">042-123-4045</span> │  <span style=\"color: #008080; text-decoration-color: #008080; font-weight: bold\">139.3716</span> │ <span style=\"color: #008080; text-decoration-color: #008080; font-weight: bold\">35.57327</span> │     <span style=\"color: #008080; text-decoration-color: #008080; font-weight: bold\">1679.0</span> │\n",
       "│ <span style=\"color: #008000; text-decoration-color: #008000\">S14040  </span> │ <span style=\"color: #008000; text-decoration-color: #008000\">長津田店  </span> │ <span style=\"color: #008000; text-decoration-color: #008000\">14           </span> │ <span style=\"color: #008000; text-decoration-color: #008000\">神奈川県  </span> │ <span style=\"color: #008000; text-decoration-color: #008000\">神奈川県横浜市緑区…</span> │ <span style=\"color: #008000; text-decoration-color: #008000\">カナガワケンヨコハマシミドリ…</span> │ <span style=\"color: #008000; text-decoration-color: #008000\">045-123-4046</span> │  <span style=\"color: #008080; text-decoration-color: #008080; font-weight: bold\">139.4994</span> │ <span style=\"color: #008080; text-decoration-color: #008080; font-weight: bold\">35.52398</span> │     <span style=\"color: #008080; text-decoration-color: #008080; font-weight: bold\">1548.0</span> │\n",
       "│ <span style=\"color: #008000; text-decoration-color: #008000\">S14050  </span> │ <span style=\"color: #008000; text-decoration-color: #008000\">阿久和西店</span> │ <span style=\"color: #008000; text-decoration-color: #008000\">14           </span> │ <span style=\"color: #008000; text-decoration-color: #008000\">神奈川県  </span> │ <span style=\"color: #008000; text-decoration-color: #008000\">神奈川県横浜市瀬谷…</span> │ <span style=\"color: #008000; text-decoration-color: #008000\">カナガワケンヨコハマシセヤク…</span> │ <span style=\"color: #008000; text-decoration-color: #008000\">045-123-4053</span> │  <span style=\"color: #008080; text-decoration-color: #008080; font-weight: bold\">139.4961</span> │ <span style=\"color: #008080; text-decoration-color: #008080; font-weight: bold\">35.45918</span> │     <span style=\"color: #008080; text-decoration-color: #008080; font-weight: bold\">1830.0</span> │\n",
       "│ <span style=\"color: #008000; text-decoration-color: #008000\">S13052  </span> │ <span style=\"color: #008000; text-decoration-color: #008000\">森野店    </span> │ <span style=\"color: #008000; text-decoration-color: #008000\">13           </span> │ <span style=\"color: #008000; text-decoration-color: #008000\">東京都    </span> │ <span style=\"color: #008000; text-decoration-color: #008000\">東京都町田市森野三…</span> │ <span style=\"color: #008000; text-decoration-color: #008000\">トウキョウトマチダシモリノサ…</span> │ <span style=\"color: #008000; text-decoration-color: #008000\">042-123-4030</span> │  <span style=\"color: #008080; text-decoration-color: #008080; font-weight: bold\">139.4383</span> │ <span style=\"color: #008080; text-decoration-color: #008080; font-weight: bold\">35.55293</span> │     <span style=\"color: #008080; text-decoration-color: #008080; font-weight: bold\">1087.0</span> │\n",
       "│ <span style=\"color: #008000; text-decoration-color: #008000\">S14028  </span> │ <span style=\"color: #008000; text-decoration-color: #008000\">二ツ橋店  </span> │ <span style=\"color: #008000; text-decoration-color: #008000\">14           </span> │ <span style=\"color: #008000; text-decoration-color: #008000\">神奈川県  </span> │ <span style=\"color: #008000; text-decoration-color: #008000\">神奈川県横浜市瀬谷…</span> │ <span style=\"color: #008000; text-decoration-color: #008000\">カナガワケンヨコハマシセヤク…</span> │ <span style=\"color: #008000; text-decoration-color: #008000\">045-123-4042</span> │  <span style=\"color: #008080; text-decoration-color: #008080; font-weight: bold\">139.4963</span> │ <span style=\"color: #008080; text-decoration-color: #008080; font-weight: bold\">35.46304</span> │     <span style=\"color: #008080; text-decoration-color: #008080; font-weight: bold\">1574.0</span> │\n",
       "│ <span style=\"color: #008000; text-decoration-color: #008000\">S14012  </span> │ <span style=\"color: #008000; text-decoration-color: #008000\">本牧和田店</span> │ <span style=\"color: #008000; text-decoration-color: #008000\">14           </span> │ <span style=\"color: #008000; text-decoration-color: #008000\">神奈川県  </span> │ <span style=\"color: #008000; text-decoration-color: #008000\">神奈川県横浜市中区…</span> │ <span style=\"color: #008000; text-decoration-color: #008000\">カナガワケンヨコハマシナカク…</span> │ <span style=\"color: #008000; text-decoration-color: #008000\">045-123-4034</span> │  <span style=\"color: #008080; text-decoration-color: #008080; font-weight: bold\">139.6582</span> │ <span style=\"color: #008080; text-decoration-color: #008080; font-weight: bold\">35.42156</span> │     <span style=\"color: #008080; text-decoration-color: #008080; font-weight: bold\">1341.0</span> │\n",
       "│ <span style=\"color: #7f7f7f; text-decoration-color: #7f7f7f\">…</span>        │ <span style=\"color: #7f7f7f; text-decoration-color: #7f7f7f\">…</span>          │ <span style=\"color: #7f7f7f; text-decoration-color: #7f7f7f\">…</span>             │ <span style=\"color: #7f7f7f; text-decoration-color: #7f7f7f\">…</span>          │ <span style=\"color: #7f7f7f; text-decoration-color: #7f7f7f\">…</span>                   │ <span style=\"color: #7f7f7f; text-decoration-color: #7f7f7f\">…</span>                             │ <span style=\"color: #7f7f7f; text-decoration-color: #7f7f7f\">…</span>            │         <span style=\"color: #7f7f7f; text-decoration-color: #7f7f7f\">…</span> │        <span style=\"color: #7f7f7f; text-decoration-color: #7f7f7f\">…</span> │          <span style=\"color: #7f7f7f; text-decoration-color: #7f7f7f\">…</span> │\n",
       "└──────────┴────────────┴───────────────┴────────────┴─────────────────────┴───────────────────────────────┴──────────────┴───────────┴──────────┴────────────┘\n",
       "</pre>\n"
      ],
      "text/plain": [
       "┏━━━━━━━━━━┳━━━━━━━━━━━━┳━━━━━━━━━━━━━━━┳━━━━━━━━━━━━┳━━━━━━━━━━━━━━━━━━━━━┳━━━━━━━━━━━━━━━━━━━━━━━━━━━━━━━┳━━━━━━━━━━━━━━┳━━━━━━━━━━━┳━━━━━━━━━━┳━━━━━━━━━━━━┓\n",
       "┃\u001b[1m \u001b[0m\u001b[1mstore_cd\u001b[0m\u001b[1m \u001b[0m┃\u001b[1m \u001b[0m\u001b[1mstore_name\u001b[0m\u001b[1m \u001b[0m┃\u001b[1m \u001b[0m\u001b[1mprefecture_cd\u001b[0m\u001b[1m \u001b[0m┃\u001b[1m \u001b[0m\u001b[1mprefecture\u001b[0m\u001b[1m \u001b[0m┃\u001b[1m \u001b[0m\u001b[1maddress\u001b[0m\u001b[1m            \u001b[0m\u001b[1m \u001b[0m┃\u001b[1m \u001b[0m\u001b[1maddress_kana\u001b[0m\u001b[1m                 \u001b[0m\u001b[1m \u001b[0m┃\u001b[1m \u001b[0m\u001b[1mtel_no\u001b[0m\u001b[1m      \u001b[0m\u001b[1m \u001b[0m┃\u001b[1m \u001b[0m\u001b[1mlongitude\u001b[0m\u001b[1m \u001b[0m┃\u001b[1m \u001b[0m\u001b[1mlatitude\u001b[0m\u001b[1m \u001b[0m┃\u001b[1m \u001b[0m\u001b[1mfloor_area\u001b[0m\u001b[1m \u001b[0m┃\n",
       "┡━━━━━━━━━━╇━━━━━━━━━━━━╇━━━━━━━━━━━━━━━╇━━━━━━━━━━━━╇━━━━━━━━━━━━━━━━━━━━━╇━━━━━━━━━━━━━━━━━━━━━━━━━━━━━━━╇━━━━━━━━━━━━━━╇━━━━━━━━━━━╇━━━━━━━━━━╇━━━━━━━━━━━━┩\n",
       "│ \u001b[2mstring\u001b[0m   │ \u001b[2mstring\u001b[0m     │ \u001b[2mstring\u001b[0m        │ \u001b[2mstring\u001b[0m     │ \u001b[2mstring\u001b[0m              │ \u001b[2mstring\u001b[0m                        │ \u001b[2mstring\u001b[0m       │ \u001b[2mfloat64\u001b[0m   │ \u001b[2mfloat64\u001b[0m  │ \u001b[2mfloat64\u001b[0m    │\n",
       "├──────────┼────────────┼───────────────┼────────────┼─────────────────────┼───────────────────────────────┼──────────────┼───────────┼──────────┼────────────┤\n",
       "│ \u001b[32mS12014  \u001b[0m │ \u001b[32m千草台店  \u001b[0m │ \u001b[32m12           \u001b[0m │ \u001b[32m千葉県    \u001b[0m │ \u001b[32m千葉県千葉市稲毛区…\u001b[0m │ \u001b[32mチバケンチバシイナゲクチグサ…\u001b[0m │ \u001b[32m043-123-4003\u001b[0m │  \u001b[1;36m140.1180\u001b[0m │ \u001b[1;36m35.63559\u001b[0m │     \u001b[1;36m1698.0\u001b[0m │\n",
       "│ \u001b[32mS13002  \u001b[0m │ \u001b[32m国分寺店  \u001b[0m │ \u001b[32m13           \u001b[0m │ \u001b[32m東京都    \u001b[0m │ \u001b[32m東京都国分寺市本多…\u001b[0m │ \u001b[32mトウキョウトコクブンジシホン…\u001b[0m │ \u001b[32m042-123-4008\u001b[0m │  \u001b[1;36m139.4802\u001b[0m │ \u001b[1;36m35.70566\u001b[0m │     \u001b[1;36m1735.0\u001b[0m │\n",
       "│ \u001b[32mS14010  \u001b[0m │ \u001b[32m菊名店    \u001b[0m │ \u001b[32m14           \u001b[0m │ \u001b[32m神奈川県  \u001b[0m │ \u001b[32m神奈川県横浜市港北…\u001b[0m │ \u001b[32mカナガワケンヨコハマシコウホ…\u001b[0m │ \u001b[32m045-123-4032\u001b[0m │  \u001b[1;36m139.6326\u001b[0m │ \u001b[1;36m35.50049\u001b[0m │     \u001b[1;36m1732.0\u001b[0m │\n",
       "│ \u001b[32mS14033  \u001b[0m │ \u001b[32m阿久和店  \u001b[0m │ \u001b[32m14           \u001b[0m │ \u001b[32m神奈川県  \u001b[0m │ \u001b[32m神奈川県横浜市瀬谷…\u001b[0m │ \u001b[32mカナガワケンヨコハマシセヤク…\u001b[0m │ \u001b[32m045-123-4043\u001b[0m │  \u001b[1;36m139.4961\u001b[0m │ \u001b[1;36m35.45918\u001b[0m │     \u001b[1;36m1495.0\u001b[0m │\n",
       "│ \u001b[32mS14036  \u001b[0m │ \u001b[32m相模原中 …\u001b[0m │ \u001b[32m14           \u001b[0m │ \u001b[32m神奈川県  \u001b[0m │ \u001b[32m神奈川県相模原市中…\u001b[0m │ \u001b[32mカナガワケンサガミハラシチュ…\u001b[0m │ \u001b[32m042-123-4045\u001b[0m │  \u001b[1;36m139.3716\u001b[0m │ \u001b[1;36m35.57327\u001b[0m │     \u001b[1;36m1679.0\u001b[0m │\n",
       "│ \u001b[32mS14040  \u001b[0m │ \u001b[32m長津田店  \u001b[0m │ \u001b[32m14           \u001b[0m │ \u001b[32m神奈川県  \u001b[0m │ \u001b[32m神奈川県横浜市緑区…\u001b[0m │ \u001b[32mカナガワケンヨコハマシミドリ…\u001b[0m │ \u001b[32m045-123-4046\u001b[0m │  \u001b[1;36m139.4994\u001b[0m │ \u001b[1;36m35.52398\u001b[0m │     \u001b[1;36m1548.0\u001b[0m │\n",
       "│ \u001b[32mS14050  \u001b[0m │ \u001b[32m阿久和西店\u001b[0m │ \u001b[32m14           \u001b[0m │ \u001b[32m神奈川県  \u001b[0m │ \u001b[32m神奈川県横浜市瀬谷…\u001b[0m │ \u001b[32mカナガワケンヨコハマシセヤク…\u001b[0m │ \u001b[32m045-123-4053\u001b[0m │  \u001b[1;36m139.4961\u001b[0m │ \u001b[1;36m35.45918\u001b[0m │     \u001b[1;36m1830.0\u001b[0m │\n",
       "│ \u001b[32mS13052  \u001b[0m │ \u001b[32m森野店    \u001b[0m │ \u001b[32m13           \u001b[0m │ \u001b[32m東京都    \u001b[0m │ \u001b[32m東京都町田市森野三…\u001b[0m │ \u001b[32mトウキョウトマチダシモリノサ…\u001b[0m │ \u001b[32m042-123-4030\u001b[0m │  \u001b[1;36m139.4383\u001b[0m │ \u001b[1;36m35.55293\u001b[0m │     \u001b[1;36m1087.0\u001b[0m │\n",
       "│ \u001b[32mS14028  \u001b[0m │ \u001b[32m二ツ橋店  \u001b[0m │ \u001b[32m14           \u001b[0m │ \u001b[32m神奈川県  \u001b[0m │ \u001b[32m神奈川県横浜市瀬谷…\u001b[0m │ \u001b[32mカナガワケンヨコハマシセヤク…\u001b[0m │ \u001b[32m045-123-4042\u001b[0m │  \u001b[1;36m139.4963\u001b[0m │ \u001b[1;36m35.46304\u001b[0m │     \u001b[1;36m1574.0\u001b[0m │\n",
       "│ \u001b[32mS14012  \u001b[0m │ \u001b[32m本牧和田店\u001b[0m │ \u001b[32m14           \u001b[0m │ \u001b[32m神奈川県  \u001b[0m │ \u001b[32m神奈川県横浜市中区…\u001b[0m │ \u001b[32mカナガワケンヨコハマシナカク…\u001b[0m │ \u001b[32m045-123-4034\u001b[0m │  \u001b[1;36m139.6582\u001b[0m │ \u001b[1;36m35.42156\u001b[0m │     \u001b[1;36m1341.0\u001b[0m │\n",
       "│ \u001b[2m…\u001b[0m        │ \u001b[2m…\u001b[0m          │ \u001b[2m…\u001b[0m             │ \u001b[2m…\u001b[0m          │ \u001b[2m…\u001b[0m                   │ \u001b[2m…\u001b[0m                             │ \u001b[2m…\u001b[0m            │         \u001b[2m…\u001b[0m │        \u001b[2m…\u001b[0m │          \u001b[2m…\u001b[0m │\n",
       "└──────────┴────────────┴───────────────┴────────────┴─────────────────────┴───────────────────────────────┴──────────────┴───────────┴──────────┴────────────┘"
      ]
     },
     "execution_count": 19,
     "metadata": {},
     "output_type": "execute_result"
    }
   ],
   "source": [
    "df_016 = df_store.filter(df_store[\"tel_no\"].re_search(\"[0-9]{3}-[0-9]{3}-[0-9]{4}\"))\n",
    "\n",
    "df_016"
   ]
  },
  {
   "attachments": {},
   "cell_type": "markdown",
   "metadata": {},
   "source": [
    "## ソート"
   ]
  },
  {
   "attachments": {},
   "cell_type": "markdown",
   "metadata": {},
   "source": [
    "---\n",
    "> P-017: 顧客データ（df_customer）を生年月日（birth_day）で高齢順にソートし、先頭から全項目を5件表示せよ。\n"
   ]
  },
  {
   "cell_type": "code",
   "execution_count": 20,
   "metadata": {},
   "outputs": [
    {
     "data": {
      "text/html": [
       "<pre style=\"white-space:pre;overflow-x:auto;line-height:normal;font-family:Menlo,'DejaVu Sans Mono',consolas,'Courier New',monospace\">┏━━━━━━━━━━━━━━━━┳━━━━━━━━━━━━━━━┳━━━━━━━━━━━┳━━━━━━━━┳━━━━━━━━━━━━┳━━━━━━━┳━━━━━━━━━━━┳━━━━━━━━━━━━━━━━━━━━━━━━┳━━━━━━━━━━━━━━━━━━━━━━┳━━━━━━━━━━━━━━━━━━┳━━━━━━━━━━━━━━┓\n",
       "┃<span style=\"font-weight: bold\"> customer_id    </span>┃<span style=\"font-weight: bold\"> customer_name </span>┃<span style=\"font-weight: bold\"> gender_cd </span>┃<span style=\"font-weight: bold\"> gender </span>┃<span style=\"font-weight: bold\"> birth_day  </span>┃<span style=\"font-weight: bold\"> age   </span>┃<span style=\"font-weight: bold\"> postal_cd </span>┃<span style=\"font-weight: bold\"> address                </span>┃<span style=\"font-weight: bold\"> application_store_cd </span>┃<span style=\"font-weight: bold\"> application_date </span>┃<span style=\"font-weight: bold\"> status_cd    </span>┃\n",
       "┡━━━━━━━━━━━━━━━━╇━━━━━━━━━━━━━━━╇━━━━━━━━━━━╇━━━━━━━━╇━━━━━━━━━━━━╇━━━━━━━╇━━━━━━━━━━━╇━━━━━━━━━━━━━━━━━━━━━━━━╇━━━━━━━━━━━━━━━━━━━━━━╇━━━━━━━━━━━━━━━━━━╇━━━━━━━━━━━━━━┩\n",
       "│ <span style=\"color: #7f7f7f; text-decoration-color: #7f7f7f\">string</span>         │ <span style=\"color: #7f7f7f; text-decoration-color: #7f7f7f\">string</span>        │ <span style=\"color: #7f7f7f; text-decoration-color: #7f7f7f\">string</span>    │ <span style=\"color: #7f7f7f; text-decoration-color: #7f7f7f\">string</span> │ <span style=\"color: #7f7f7f; text-decoration-color: #7f7f7f\">date</span>       │ <span style=\"color: #7f7f7f; text-decoration-color: #7f7f7f\">int64</span> │ <span style=\"color: #7f7f7f; text-decoration-color: #7f7f7f\">string</span>    │ <span style=\"color: #7f7f7f; text-decoration-color: #7f7f7f\">string</span>                 │ <span style=\"color: #7f7f7f; text-decoration-color: #7f7f7f\">string</span>               │ <span style=\"color: #7f7f7f; text-decoration-color: #7f7f7f\">int64</span>            │ <span style=\"color: #7f7f7f; text-decoration-color: #7f7f7f\">string</span>       │\n",
       "├────────────────┼───────────────┼───────────┼────────┼────────────┼───────┼───────────┼────────────────────────┼──────────────────────┼──────────────────┼──────────────┤\n",
       "│ <span style=\"color: #008000; text-decoration-color: #008000\">CS003813000014</span> │ <span style=\"color: #008000; text-decoration-color: #008000\">村山 菜々美  </span> │ <span style=\"color: #008000; text-decoration-color: #008000\">1        </span> │ <span style=\"color: #008000; text-decoration-color: #008000\">女性  </span> │ <span style=\"color: #800080; text-decoration-color: #800080\">1928-11-26</span> │    <span style=\"color: #008080; text-decoration-color: #008080; font-weight: bold\">90</span> │ <span style=\"color: #008000; text-decoration-color: #008000\">182-0007 </span> │ <span style=\"color: #008000; text-decoration-color: #008000\">東京都調布市菊野台***…</span> │ <span style=\"color: #008000; text-decoration-color: #008000\">S13003              </span> │         <span style=\"color: #008080; text-decoration-color: #008080; font-weight: bold\">20160214</span> │ <span style=\"color: #008000; text-decoration-color: #008000\">0-00000000-0</span> │\n",
       "│ <span style=\"color: #008000; text-decoration-color: #008000\">CS026813000004</span> │ <span style=\"color: #008000; text-decoration-color: #008000\">吉村 朝陽    </span> │ <span style=\"color: #008000; text-decoration-color: #008000\">1        </span> │ <span style=\"color: #008000; text-decoration-color: #008000\">女性  </span> │ <span style=\"color: #800080; text-decoration-color: #800080\">1928-12-14</span> │    <span style=\"color: #008080; text-decoration-color: #008080; font-weight: bold\">90</span> │ <span style=\"color: #008000; text-decoration-color: #008000\">251-0043 </span> │ <span style=\"color: #008000; text-decoration-color: #008000\">神奈川県藤沢市辻堂元 …</span> │ <span style=\"color: #008000; text-decoration-color: #008000\">S14026              </span> │         <span style=\"color: #008080; text-decoration-color: #008080; font-weight: bold\">20150723</span> │ <span style=\"color: #008000; text-decoration-color: #008000\">0-00000000-0</span> │\n",
       "│ <span style=\"color: #008000; text-decoration-color: #008000\">CS018811000003</span> │ <span style=\"color: #008000; text-decoration-color: #008000\">熊沢 美里    </span> │ <span style=\"color: #008000; text-decoration-color: #008000\">1        </span> │ <span style=\"color: #008000; text-decoration-color: #008000\">女性  </span> │ <span style=\"color: #800080; text-decoration-color: #800080\">1929-01-07</span> │    <span style=\"color: #008080; text-decoration-color: #008080; font-weight: bold\">90</span> │ <span style=\"color: #008000; text-decoration-color: #008000\">204-0004 </span> │ <span style=\"color: #008000; text-decoration-color: #008000\">東京都清瀬市野塩*****…</span> │ <span style=\"color: #008000; text-decoration-color: #008000\">S13018              </span> │         <span style=\"color: #008080; text-decoration-color: #008080; font-weight: bold\">20150403</span> │ <span style=\"color: #008000; text-decoration-color: #008000\">0-00000000-0</span> │\n",
       "│ <span style=\"color: #008000; text-decoration-color: #008000\">CS027803000004</span> │ <span style=\"color: #008000; text-decoration-color: #008000\">内村 拓郎    </span> │ <span style=\"color: #008000; text-decoration-color: #008000\">0        </span> │ <span style=\"color: #008000; text-decoration-color: #008000\">男性  </span> │ <span style=\"color: #800080; text-decoration-color: #800080\">1929-01-12</span> │    <span style=\"color: #008080; text-decoration-color: #008080; font-weight: bold\">90</span> │ <span style=\"color: #008000; text-decoration-color: #008000\">251-0031 </span> │ <span style=\"color: #008000; text-decoration-color: #008000\">神奈川県藤沢市鵠沼藤 …</span> │ <span style=\"color: #008000; text-decoration-color: #008000\">S14027              </span> │         <span style=\"color: #008080; text-decoration-color: #008080; font-weight: bold\">20151227</span> │ <span style=\"color: #008000; text-decoration-color: #008000\">0-00000000-0</span> │\n",
       "│ <span style=\"color: #008000; text-decoration-color: #008000\">CS013801000003</span> │ <span style=\"color: #008000; text-decoration-color: #008000\">天野 拓郎    </span> │ <span style=\"color: #008000; text-decoration-color: #008000\">0        </span> │ <span style=\"color: #008000; text-decoration-color: #008000\">男性  </span> │ <span style=\"color: #800080; text-decoration-color: #800080\">1929-01-15</span> │    <span style=\"color: #008080; text-decoration-color: #008080; font-weight: bold\">90</span> │ <span style=\"color: #008000; text-decoration-color: #008000\">274-0824 </span> │ <span style=\"color: #008000; text-decoration-color: #008000\">千葉県船橋市前原東***…</span> │ <span style=\"color: #008000; text-decoration-color: #008000\">S12013              </span> │         <span style=\"color: #008080; text-decoration-color: #008080; font-weight: bold\">20160120</span> │ <span style=\"color: #008000; text-decoration-color: #008000\">0-00000000-0</span> │\n",
       "└────────────────┴───────────────┴───────────┴────────┴────────────┴───────┴───────────┴────────────────────────┴──────────────────────┴──────────────────┴──────────────┘\n",
       "</pre>\n"
      ],
      "text/plain": [
       "┏━━━━━━━━━━━━━━━━┳━━━━━━━━━━━━━━━┳━━━━━━━━━━━┳━━━━━━━━┳━━━━━━━━━━━━┳━━━━━━━┳━━━━━━━━━━━┳━━━━━━━━━━━━━━━━━━━━━━━━┳━━━━━━━━━━━━━━━━━━━━━━┳━━━━━━━━━━━━━━━━━━┳━━━━━━━━━━━━━━┓\n",
       "┃\u001b[1m \u001b[0m\u001b[1mcustomer_id\u001b[0m\u001b[1m   \u001b[0m\u001b[1m \u001b[0m┃\u001b[1m \u001b[0m\u001b[1mcustomer_name\u001b[0m\u001b[1m \u001b[0m┃\u001b[1m \u001b[0m\u001b[1mgender_cd\u001b[0m\u001b[1m \u001b[0m┃\u001b[1m \u001b[0m\u001b[1mgender\u001b[0m\u001b[1m \u001b[0m┃\u001b[1m \u001b[0m\u001b[1mbirth_day\u001b[0m\u001b[1m \u001b[0m\u001b[1m \u001b[0m┃\u001b[1m \u001b[0m\u001b[1mage\u001b[0m\u001b[1m  \u001b[0m\u001b[1m \u001b[0m┃\u001b[1m \u001b[0m\u001b[1mpostal_cd\u001b[0m\u001b[1m \u001b[0m┃\u001b[1m \u001b[0m\u001b[1maddress\u001b[0m\u001b[1m               \u001b[0m\u001b[1m \u001b[0m┃\u001b[1m \u001b[0m\u001b[1mapplication_store_cd\u001b[0m\u001b[1m \u001b[0m┃\u001b[1m \u001b[0m\u001b[1mapplication_date\u001b[0m\u001b[1m \u001b[0m┃\u001b[1m \u001b[0m\u001b[1mstatus_cd\u001b[0m\u001b[1m   \u001b[0m\u001b[1m \u001b[0m┃\n",
       "┡━━━━━━━━━━━━━━━━╇━━━━━━━━━━━━━━━╇━━━━━━━━━━━╇━━━━━━━━╇━━━━━━━━━━━━╇━━━━━━━╇━━━━━━━━━━━╇━━━━━━━━━━━━━━━━━━━━━━━━╇━━━━━━━━━━━━━━━━━━━━━━╇━━━━━━━━━━━━━━━━━━╇━━━━━━━━━━━━━━┩\n",
       "│ \u001b[2mstring\u001b[0m         │ \u001b[2mstring\u001b[0m        │ \u001b[2mstring\u001b[0m    │ \u001b[2mstring\u001b[0m │ \u001b[2mdate\u001b[0m       │ \u001b[2mint64\u001b[0m │ \u001b[2mstring\u001b[0m    │ \u001b[2mstring\u001b[0m                 │ \u001b[2mstring\u001b[0m               │ \u001b[2mint64\u001b[0m            │ \u001b[2mstring\u001b[0m       │\n",
       "├────────────────┼───────────────┼───────────┼────────┼────────────┼───────┼───────────┼────────────────────────┼──────────────────────┼──────────────────┼──────────────┤\n",
       "│ \u001b[32mCS003813000014\u001b[0m │ \u001b[32m村山 菜々美  \u001b[0m │ \u001b[32m1        \u001b[0m │ \u001b[32m女性  \u001b[0m │ \u001b[35m1928-11-26\u001b[0m │    \u001b[1;36m90\u001b[0m │ \u001b[32m182-0007 \u001b[0m │ \u001b[32m東京都調布市菊野台***…\u001b[0m │ \u001b[32mS13003              \u001b[0m │         \u001b[1;36m20160214\u001b[0m │ \u001b[32m0-00000000-0\u001b[0m │\n",
       "│ \u001b[32mCS026813000004\u001b[0m │ \u001b[32m吉村 朝陽    \u001b[0m │ \u001b[32m1        \u001b[0m │ \u001b[32m女性  \u001b[0m │ \u001b[35m1928-12-14\u001b[0m │    \u001b[1;36m90\u001b[0m │ \u001b[32m251-0043 \u001b[0m │ \u001b[32m神奈川県藤沢市辻堂元 …\u001b[0m │ \u001b[32mS14026              \u001b[0m │         \u001b[1;36m20150723\u001b[0m │ \u001b[32m0-00000000-0\u001b[0m │\n",
       "│ \u001b[32mCS018811000003\u001b[0m │ \u001b[32m熊沢 美里    \u001b[0m │ \u001b[32m1        \u001b[0m │ \u001b[32m女性  \u001b[0m │ \u001b[35m1929-01-07\u001b[0m │    \u001b[1;36m90\u001b[0m │ \u001b[32m204-0004 \u001b[0m │ \u001b[32m東京都清瀬市野塩*****…\u001b[0m │ \u001b[32mS13018              \u001b[0m │         \u001b[1;36m20150403\u001b[0m │ \u001b[32m0-00000000-0\u001b[0m │\n",
       "│ \u001b[32mCS027803000004\u001b[0m │ \u001b[32m内村 拓郎    \u001b[0m │ \u001b[32m0        \u001b[0m │ \u001b[32m男性  \u001b[0m │ \u001b[35m1929-01-12\u001b[0m │    \u001b[1;36m90\u001b[0m │ \u001b[32m251-0031 \u001b[0m │ \u001b[32m神奈川県藤沢市鵠沼藤 …\u001b[0m │ \u001b[32mS14027              \u001b[0m │         \u001b[1;36m20151227\u001b[0m │ \u001b[32m0-00000000-0\u001b[0m │\n",
       "│ \u001b[32mCS013801000003\u001b[0m │ \u001b[32m天野 拓郎    \u001b[0m │ \u001b[32m0        \u001b[0m │ \u001b[32m男性  \u001b[0m │ \u001b[35m1929-01-15\u001b[0m │    \u001b[1;36m90\u001b[0m │ \u001b[32m274-0824 \u001b[0m │ \u001b[32m千葉県船橋市前原東***…\u001b[0m │ \u001b[32mS12013              \u001b[0m │         \u001b[1;36m20160120\u001b[0m │ \u001b[32m0-00000000-0\u001b[0m │\n",
       "└────────────────┴───────────────┴───────────┴────────┴────────────┴───────┴───────────┴────────────────────────┴──────────────────────┴──────────────────┴──────────────┘"
      ]
     },
     "execution_count": 20,
     "metadata": {},
     "output_type": "execute_result"
    }
   ],
   "source": [
    "df_017 = df_customer.order_by(\"birth_day\")\n",
    "\n",
    "df_017.head()"
   ]
  },
  {
   "attachments": {},
   "cell_type": "markdown",
   "metadata": {},
   "source": [
    "---\n",
    "> P-018: 顧客データ（df_customer）を生年月日（birth_day）で若い順にソートし、先頭から全項目を5件表示せよ。"
   ]
  },
  {
   "cell_type": "code",
   "execution_count": 21,
   "metadata": {},
   "outputs": [
    {
     "data": {
      "text/html": [
       "<pre style=\"white-space:pre;overflow-x:auto;line-height:normal;font-family:Menlo,'DejaVu Sans Mono',consolas,'Courier New',monospace\">┏━━━━━━━━━━━━━━━━┳━━━━━━━━━━━━━━━┳━━━━━━━━━━━┳━━━━━━━━┳━━━━━━━━━━━━┳━━━━━━━┳━━━━━━━━━━━┳━━━━━━━━━━━━━━━━━━━━━━━┳━━━━━━━━━━━━━━━━━━━━━━┳━━━━━━━━━━━━━━━━━━┳━━━━━━━━━━━━━━┓\n",
       "┃<span style=\"font-weight: bold\"> customer_id    </span>┃<span style=\"font-weight: bold\"> customer_name </span>┃<span style=\"font-weight: bold\"> gender_cd </span>┃<span style=\"font-weight: bold\"> gender </span>┃<span style=\"font-weight: bold\"> birth_day  </span>┃<span style=\"font-weight: bold\"> age   </span>┃<span style=\"font-weight: bold\"> postal_cd </span>┃<span style=\"font-weight: bold\"> address               </span>┃<span style=\"font-weight: bold\"> application_store_cd </span>┃<span style=\"font-weight: bold\"> application_date </span>┃<span style=\"font-weight: bold\"> status_cd    </span>┃\n",
       "┡━━━━━━━━━━━━━━━━╇━━━━━━━━━━━━━━━╇━━━━━━━━━━━╇━━━━━━━━╇━━━━━━━━━━━━╇━━━━━━━╇━━━━━━━━━━━╇━━━━━━━━━━━━━━━━━━━━━━━╇━━━━━━━━━━━━━━━━━━━━━━╇━━━━━━━━━━━━━━━━━━╇━━━━━━━━━━━━━━┩\n",
       "│ <span style=\"color: #7f7f7f; text-decoration-color: #7f7f7f\">string</span>         │ <span style=\"color: #7f7f7f; text-decoration-color: #7f7f7f\">string</span>        │ <span style=\"color: #7f7f7f; text-decoration-color: #7f7f7f\">string</span>    │ <span style=\"color: #7f7f7f; text-decoration-color: #7f7f7f\">string</span> │ <span style=\"color: #7f7f7f; text-decoration-color: #7f7f7f\">date</span>       │ <span style=\"color: #7f7f7f; text-decoration-color: #7f7f7f\">int64</span> │ <span style=\"color: #7f7f7f; text-decoration-color: #7f7f7f\">string</span>    │ <span style=\"color: #7f7f7f; text-decoration-color: #7f7f7f\">string</span>                │ <span style=\"color: #7f7f7f; text-decoration-color: #7f7f7f\">string</span>               │ <span style=\"color: #7f7f7f; text-decoration-color: #7f7f7f\">int64</span>            │ <span style=\"color: #7f7f7f; text-decoration-color: #7f7f7f\">string</span>       │\n",
       "├────────────────┼───────────────┼───────────┼────────┼────────────┼───────┼───────────┼───────────────────────┼──────────────────────┼──────────────────┼──────────────┤\n",
       "│ <span style=\"color: #008000; text-decoration-color: #008000\">CS035114000004</span> │ <span style=\"color: #008000; text-decoration-color: #008000\">大村 美里    </span> │ <span style=\"color: #008000; text-decoration-color: #008000\">1        </span> │ <span style=\"color: #008000; text-decoration-color: #008000\">女性  </span> │ <span style=\"color: #800080; text-decoration-color: #800080\">2007-11-25</span> │    <span style=\"color: #008080; text-decoration-color: #008080; font-weight: bold\">11</span> │ <span style=\"color: #008000; text-decoration-color: #008000\">156-0053 </span> │ <span style=\"color: #008000; text-decoration-color: #008000\">東京都世田谷区桜****…</span> │ <span style=\"color: #008000; text-decoration-color: #008000\">S13035              </span> │         <span style=\"color: #008080; text-decoration-color: #008080; font-weight: bold\">20150619</span> │ <span style=\"color: #008000; text-decoration-color: #008000\">6-20091205-6</span> │\n",
       "│ <span style=\"color: #008000; text-decoration-color: #008000\">CS022103000002</span> │ <span style=\"color: #008000; text-decoration-color: #008000\">福山 はじめ  </span> │ <span style=\"color: #008000; text-decoration-color: #008000\">9        </span> │ <span style=\"color: #008000; text-decoration-color: #008000\">不明  </span> │ <span style=\"color: #800080; text-decoration-color: #800080\">2007-10-02</span> │    <span style=\"color: #008080; text-decoration-color: #008080; font-weight: bold\">11</span> │ <span style=\"color: #008000; text-decoration-color: #008000\">249-0006 </span> │ <span style=\"color: #008000; text-decoration-color: #008000\">神奈川県逗子市逗子**…</span> │ <span style=\"color: #008000; text-decoration-color: #008000\">S14022              </span> │         <span style=\"color: #008080; text-decoration-color: #008080; font-weight: bold\">20160909</span> │ <span style=\"color: #008000; text-decoration-color: #008000\">0-00000000-0</span> │\n",
       "│ <span style=\"color: #008000; text-decoration-color: #008000\">CS002113000009</span> │ <span style=\"color: #008000; text-decoration-color: #008000\">柴田 真悠子  </span> │ <span style=\"color: #008000; text-decoration-color: #008000\">1        </span> │ <span style=\"color: #008000; text-decoration-color: #008000\">女性  </span> │ <span style=\"color: #800080; text-decoration-color: #800080\">2007-09-17</span> │    <span style=\"color: #008080; text-decoration-color: #008080; font-weight: bold\">11</span> │ <span style=\"color: #008000; text-decoration-color: #008000\">184-0014 </span> │ <span style=\"color: #008000; text-decoration-color: #008000\">東京都小金井市貫井南…</span> │ <span style=\"color: #008000; text-decoration-color: #008000\">S13002              </span> │         <span style=\"color: #008080; text-decoration-color: #008080; font-weight: bold\">20160304</span> │ <span style=\"color: #008000; text-decoration-color: #008000\">0-00000000-0</span> │\n",
       "│ <span style=\"color: #008000; text-decoration-color: #008000\">CS004115000014</span> │ <span style=\"color: #008000; text-decoration-color: #008000\">松井 京子    </span> │ <span style=\"color: #008000; text-decoration-color: #008000\">1        </span> │ <span style=\"color: #008000; text-decoration-color: #008000\">女性  </span> │ <span style=\"color: #800080; text-decoration-color: #800080\">2007-08-09</span> │    <span style=\"color: #008080; text-decoration-color: #008080; font-weight: bold\">11</span> │ <span style=\"color: #008000; text-decoration-color: #008000\">165-0031 </span> │ <span style=\"color: #008000; text-decoration-color: #008000\">東京都中野区上鷺宮**…</span> │ <span style=\"color: #008000; text-decoration-color: #008000\">S13004              </span> │         <span style=\"color: #008080; text-decoration-color: #008080; font-weight: bold\">20161120</span> │ <span style=\"color: #008000; text-decoration-color: #008000\">1-20081231-1</span> │\n",
       "│ <span style=\"color: #008000; text-decoration-color: #008000\">CS002114000010</span> │ <span style=\"color: #008000; text-decoration-color: #008000\">山内 遥      </span> │ <span style=\"color: #008000; text-decoration-color: #008000\">1        </span> │ <span style=\"color: #008000; text-decoration-color: #008000\">女性  </span> │ <span style=\"color: #800080; text-decoration-color: #800080\">2007-06-03</span> │    <span style=\"color: #008080; text-decoration-color: #008080; font-weight: bold\">11</span> │ <span style=\"color: #008000; text-decoration-color: #008000\">184-0015 </span> │ <span style=\"color: #008000; text-decoration-color: #008000\">東京都小金井市貫井北…</span> │ <span style=\"color: #008000; text-decoration-color: #008000\">S13002              </span> │         <span style=\"color: #008080; text-decoration-color: #008080; font-weight: bold\">20160920</span> │ <span style=\"color: #008000; text-decoration-color: #008000\">6-20100510-1</span> │\n",
       "└────────────────┴───────────────┴───────────┴────────┴────────────┴───────┴───────────┴───────────────────────┴──────────────────────┴──────────────────┴──────────────┘\n",
       "</pre>\n"
      ],
      "text/plain": [
       "┏━━━━━━━━━━━━━━━━┳━━━━━━━━━━━━━━━┳━━━━━━━━━━━┳━━━━━━━━┳━━━━━━━━━━━━┳━━━━━━━┳━━━━━━━━━━━┳━━━━━━━━━━━━━━━━━━━━━━━┳━━━━━━━━━━━━━━━━━━━━━━┳━━━━━━━━━━━━━━━━━━┳━━━━━━━━━━━━━━┓\n",
       "┃\u001b[1m \u001b[0m\u001b[1mcustomer_id\u001b[0m\u001b[1m   \u001b[0m\u001b[1m \u001b[0m┃\u001b[1m \u001b[0m\u001b[1mcustomer_name\u001b[0m\u001b[1m \u001b[0m┃\u001b[1m \u001b[0m\u001b[1mgender_cd\u001b[0m\u001b[1m \u001b[0m┃\u001b[1m \u001b[0m\u001b[1mgender\u001b[0m\u001b[1m \u001b[0m┃\u001b[1m \u001b[0m\u001b[1mbirth_day\u001b[0m\u001b[1m \u001b[0m\u001b[1m \u001b[0m┃\u001b[1m \u001b[0m\u001b[1mage\u001b[0m\u001b[1m  \u001b[0m\u001b[1m \u001b[0m┃\u001b[1m \u001b[0m\u001b[1mpostal_cd\u001b[0m\u001b[1m \u001b[0m┃\u001b[1m \u001b[0m\u001b[1maddress\u001b[0m\u001b[1m              \u001b[0m\u001b[1m \u001b[0m┃\u001b[1m \u001b[0m\u001b[1mapplication_store_cd\u001b[0m\u001b[1m \u001b[0m┃\u001b[1m \u001b[0m\u001b[1mapplication_date\u001b[0m\u001b[1m \u001b[0m┃\u001b[1m \u001b[0m\u001b[1mstatus_cd\u001b[0m\u001b[1m   \u001b[0m\u001b[1m \u001b[0m┃\n",
       "┡━━━━━━━━━━━━━━━━╇━━━━━━━━━━━━━━━╇━━━━━━━━━━━╇━━━━━━━━╇━━━━━━━━━━━━╇━━━━━━━╇━━━━━━━━━━━╇━━━━━━━━━━━━━━━━━━━━━━━╇━━━━━━━━━━━━━━━━━━━━━━╇━━━━━━━━━━━━━━━━━━╇━━━━━━━━━━━━━━┩\n",
       "│ \u001b[2mstring\u001b[0m         │ \u001b[2mstring\u001b[0m        │ \u001b[2mstring\u001b[0m    │ \u001b[2mstring\u001b[0m │ \u001b[2mdate\u001b[0m       │ \u001b[2mint64\u001b[0m │ \u001b[2mstring\u001b[0m    │ \u001b[2mstring\u001b[0m                │ \u001b[2mstring\u001b[0m               │ \u001b[2mint64\u001b[0m            │ \u001b[2mstring\u001b[0m       │\n",
       "├────────────────┼───────────────┼───────────┼────────┼────────────┼───────┼───────────┼───────────────────────┼──────────────────────┼──────────────────┼──────────────┤\n",
       "│ \u001b[32mCS035114000004\u001b[0m │ \u001b[32m大村 美里    \u001b[0m │ \u001b[32m1        \u001b[0m │ \u001b[32m女性  \u001b[0m │ \u001b[35m2007-11-25\u001b[0m │    \u001b[1;36m11\u001b[0m │ \u001b[32m156-0053 \u001b[0m │ \u001b[32m東京都世田谷区桜****…\u001b[0m │ \u001b[32mS13035              \u001b[0m │         \u001b[1;36m20150619\u001b[0m │ \u001b[32m6-20091205-6\u001b[0m │\n",
       "│ \u001b[32mCS022103000002\u001b[0m │ \u001b[32m福山 はじめ  \u001b[0m │ \u001b[32m9        \u001b[0m │ \u001b[32m不明  \u001b[0m │ \u001b[35m2007-10-02\u001b[0m │    \u001b[1;36m11\u001b[0m │ \u001b[32m249-0006 \u001b[0m │ \u001b[32m神奈川県逗子市逗子**…\u001b[0m │ \u001b[32mS14022              \u001b[0m │         \u001b[1;36m20160909\u001b[0m │ \u001b[32m0-00000000-0\u001b[0m │\n",
       "│ \u001b[32mCS002113000009\u001b[0m │ \u001b[32m柴田 真悠子  \u001b[0m │ \u001b[32m1        \u001b[0m │ \u001b[32m女性  \u001b[0m │ \u001b[35m2007-09-17\u001b[0m │    \u001b[1;36m11\u001b[0m │ \u001b[32m184-0014 \u001b[0m │ \u001b[32m東京都小金井市貫井南…\u001b[0m │ \u001b[32mS13002              \u001b[0m │         \u001b[1;36m20160304\u001b[0m │ \u001b[32m0-00000000-0\u001b[0m │\n",
       "│ \u001b[32mCS004115000014\u001b[0m │ \u001b[32m松井 京子    \u001b[0m │ \u001b[32m1        \u001b[0m │ \u001b[32m女性  \u001b[0m │ \u001b[35m2007-08-09\u001b[0m │    \u001b[1;36m11\u001b[0m │ \u001b[32m165-0031 \u001b[0m │ \u001b[32m東京都中野区上鷺宮**…\u001b[0m │ \u001b[32mS13004              \u001b[0m │         \u001b[1;36m20161120\u001b[0m │ \u001b[32m1-20081231-1\u001b[0m │\n",
       "│ \u001b[32mCS002114000010\u001b[0m │ \u001b[32m山内 遥      \u001b[0m │ \u001b[32m1        \u001b[0m │ \u001b[32m女性  \u001b[0m │ \u001b[35m2007-06-03\u001b[0m │    \u001b[1;36m11\u001b[0m │ \u001b[32m184-0015 \u001b[0m │ \u001b[32m東京都小金井市貫井北…\u001b[0m │ \u001b[32mS13002              \u001b[0m │         \u001b[1;36m20160920\u001b[0m │ \u001b[32m6-20100510-1\u001b[0m │\n",
       "└────────────────┴───────────────┴───────────┴────────┴────────────┴───────┴───────────┴───────────────────────┴──────────────────────┴──────────────────┴──────────────┘"
      ]
     },
     "execution_count": 21,
     "metadata": {},
     "output_type": "execute_result"
    }
   ],
   "source": [
    "# ibis.desc()で降順\n",
    "\n",
    "df_018 = df_customer.order_by(ibis.desc(\"birth_day\"))\n",
    "\n",
    "df_018.head()"
   ]
  },
  {
   "attachments": {},
   "cell_type": "markdown",
   "metadata": {},
   "source": [
    "---\n",
    "> P-019: レシート明細データ（df_receipt）に対し、1件あたりの売上金額（amount）が高い順にランクを付与し、先頭から10件表示せよ。項目は顧客ID（customer_id）、売上金額（amount）、付与したランクを表示させること。なお、売上金額（amount）が等しい場合は同一順位を付与するものとする。\n",
    "\n",
    "- `average`:同じ値のものはランクの平均値になる(例:1, 2, 3, 3, 4, 4, 5) -> rank(1, 2, 3.5, 3.5, 5.5, 5.5, 7)\n",
    "- `min`:同じ値のものはランクは最小値で表す(例:1, 2, 3, 3, 4, 4, 5) -> rank(1, 2, 3, 3, 5, 5, 7)\n",
    "- `max`:同じ値のものはランクは最大値で表す(例:1, 2, 3, 3, 4, 4, 5) -> rank(1, 2, 4, 4, 6, 6, 7)\n",
    "- `dense`:`min`と似ているが、割り当てられるランクはその前のランクの次の値になる(例:1, 2, 3, 3, 4, 4, 5) -> rank(1, 2, 3, 3, 4, 4, 5)\n",
    "- `ordinal`:`min`と似ているが、同値は値の出現順で重複なしでランクを与えられる\n",
    "- `random`:`ordinal`と似ているが、同値に与えられるランクはランダム"
   ]
  },
  {
   "cell_type": "code",
   "execution_count": 22,
   "metadata": {},
   "outputs": [
    {
     "data": {
      "text/html": [
       "<div><style>\n",
       ".dataframe > thead > tr,\n",
       ".dataframe > tbody > tr {\n",
       "  text-align: right;\n",
       "  white-space: pre-wrap;\n",
       "}\n",
       "</style>\n",
       "<small>shape: (104_681, 3)</small><table border=\"1\" class=\"dataframe\"><thead><tr><th>customer_id</th><th>amount</th><th>ranking</th></tr><tr><td>str</td><td>i64</td><td>u32</td></tr></thead><tbody><tr><td>&quot;CS011415000006&quot;</td><td>10925</td><td>1</td></tr><tr><td>&quot;ZZ000000000000&quot;</td><td>6800</td><td>2</td></tr><tr><td>&quot;CS028605000002&quot;</td><td>5780</td><td>3</td></tr><tr><td>&quot;CS015515000034&quot;</td><td>5480</td><td>4</td></tr><tr><td>&quot;ZZ000000000000&quot;</td><td>5480</td><td>4</td></tr><tr><td>&hellip;</td><td>&hellip;</td><td>&hellip;</td></tr><tr><td>&quot;CS011115000005&quot;</td><td>10</td><td>104512</td></tr><tr><td>&quot;CS022514000024&quot;</td><td>10</td><td>104512</td></tr><tr><td>&quot;ZZ000000000000&quot;</td><td>10</td><td>104512</td></tr><tr><td>&quot;ZZ000000000000&quot;</td><td>10</td><td>104512</td></tr><tr><td>&quot;CS013415000168&quot;</td><td>10</td><td>104512</td></tr></tbody></table></div>"
      ],
      "text/plain": [
       "shape: (104_681, 3)\n",
       "┌────────────────┬────────┬─────────┐\n",
       "│ customer_id    ┆ amount ┆ ranking │\n",
       "│ ---            ┆ ---    ┆ ---     │\n",
       "│ str            ┆ i64    ┆ u32     │\n",
       "╞════════════════╪════════╪═════════╡\n",
       "│ CS011415000006 ┆ 10925  ┆ 1       │\n",
       "│ ZZ000000000000 ┆ 6800   ┆ 2       │\n",
       "│ CS028605000002 ┆ 5780   ┆ 3       │\n",
       "│ CS015515000034 ┆ 5480   ┆ 4       │\n",
       "│ ZZ000000000000 ┆ 5480   ┆ 4       │\n",
       "│ …              ┆ …      ┆ …       │\n",
       "│ CS011115000005 ┆ 10     ┆ 104512  │\n",
       "│ CS022514000024 ┆ 10     ┆ 104512  │\n",
       "│ ZZ000000000000 ┆ 10     ┆ 104512  │\n",
       "│ ZZ000000000000 ┆ 10     ┆ 104512  │\n",
       "│ CS013415000168 ┆ 10     ┆ 104512  │\n",
       "└────────────────┴────────┴─────────┘"
      ]
     },
     "execution_count": 22,
     "metadata": {},
     "output_type": "execute_result"
    }
   ],
   "source": [
    "df_019 = (\n",
    "    df_receipt\n",
    "    .select(\"customer_id\", \"amount\")\n",
    "    # .mutate(rank=ibis.dense_rank().over(ibis.window(order_by=df_receipt[\"amount\"])))\n",
    "    .to_polars()\n",
    "    .with_columns(\n",
    "        pl.col(\"amount\")\n",
    "        .rank(method=\"min\", descending=True)\n",
    "        .alias(\"ranking\")\n",
    "    )\n",
    "    .sort(\"ranking\")\n",
    ")\n",
    "\n",
    "df_019"
   ]
  },
  {
   "attachments": {},
   "cell_type": "markdown",
   "metadata": {},
   "source": [
    "---\n",
    "> P-020: レシート明細データ（df_receipt）に対し、1件あたりの売上金額（amount）が高い順にランクを付与し、先頭から10件表示せよ。項目は顧客ID（customer_id）、売上金額（amount）、付与したランクを表示させること。なお、売上金額（amount）が等しい場合でも別順位を付与すること。"
   ]
  },
  {
   "attachments": {},
   "cell_type": "markdown",
   "metadata": {},
   "source": [
    "## 集計"
   ]
  },
  {
   "attachments": {},
   "cell_type": "markdown",
   "metadata": {},
   "source": [
    "---\n",
    "> P-021: レシート明細データ（df_receipt）に対し、件数をカウントせよ。"
   ]
  },
  {
   "cell_type": "code",
   "execution_count": 23,
   "metadata": {},
   "outputs": [
    {
     "data": {
      "text/plain": [
       "104681"
      ]
     },
     "execution_count": 23,
     "metadata": {},
     "output_type": "execute_result"
    }
   ],
   "source": [
    "df_receipt.count().execute()  # .to_pandas()つけると値が取得できる"
   ]
  },
  {
   "attachments": {},
   "cell_type": "markdown",
   "metadata": {},
   "source": [
    "---\n",
    "> P-022: レシート明細データ（df_receipt）の顧客ID（customer_id）に対し、ユニーク件数をカウントせよ。"
   ]
  },
  {
   "cell_type": "code",
   "execution_count": 24,
   "metadata": {},
   "outputs": [
    {
     "data": {
      "text/plain": [
       "8307"
      ]
     },
     "execution_count": 24,
     "metadata": {},
     "output_type": "execute_result"
    }
   ],
   "source": [
    "df_receipt.select(\"customer_id\").nunique().execute()"
   ]
  },
  {
   "attachments": {},
   "cell_type": "markdown",
   "metadata": {},
   "source": [
    "---\n",
    "> P-023: レシート明細データ（df_receipt）に対し、店舗コード（store_cd）ごとに売上金額（amount）と売上数量（quantity）を合計せよ。"
   ]
  },
  {
   "cell_type": "code",
   "execution_count": 25,
   "metadata": {},
   "outputs": [
    {
     "data": {
      "text/html": [
       "<pre style=\"white-space:pre;overflow-x:auto;line-height:normal;font-family:Menlo,'DejaVu Sans Mono',consolas,'Courier New',monospace\">┏━━━━━━━━━━┳━━━━━━━━━━━━┳━━━━━━━━━━━━━━┓\n",
       "┃<span style=\"font-weight: bold\"> store_cd </span>┃<span style=\"font-weight: bold\"> sum_amount </span>┃<span style=\"font-weight: bold\"> sum_quantity </span>┃\n",
       "┡━━━━━━━━━━╇━━━━━━━━━━━━╇━━━━━━━━━━━━━━┩\n",
       "│ <span style=\"color: #7f7f7f; text-decoration-color: #7f7f7f\">string</span>   │ <span style=\"color: #7f7f7f; text-decoration-color: #7f7f7f\">int64</span>      │ <span style=\"color: #7f7f7f; text-decoration-color: #7f7f7f\">int64</span>        │\n",
       "├──────────┼────────────┼──────────────┤\n",
       "│ <span style=\"color: #008000; text-decoration-color: #008000\">S12007  </span> │     <span style=\"color: #008080; text-decoration-color: #008080; font-weight: bold\">638761</span> │         <span style=\"color: #008080; text-decoration-color: #008080; font-weight: bold\">2099</span> │\n",
       "│ <span style=\"color: #008000; text-decoration-color: #008000\">S12013  </span> │     <span style=\"color: #008080; text-decoration-color: #008080; font-weight: bold\">787513</span> │         <span style=\"color: #008080; text-decoration-color: #008080; font-weight: bold\">2425</span> │\n",
       "│ <span style=\"color: #008000; text-decoration-color: #008000\">S12014  </span> │     <span style=\"color: #008080; text-decoration-color: #008080; font-weight: bold\">725167</span> │         <span style=\"color: #008080; text-decoration-color: #008080; font-weight: bold\">2358</span> │\n",
       "│ <span style=\"color: #008000; text-decoration-color: #008000\">S12029  </span> │     <span style=\"color: #008080; text-decoration-color: #008080; font-weight: bold\">794741</span> │         <span style=\"color: #008080; text-decoration-color: #008080; font-weight: bold\">2555</span> │\n",
       "│ <span style=\"color: #008000; text-decoration-color: #008000\">S12030  </span> │     <span style=\"color: #008080; text-decoration-color: #008080; font-weight: bold\">684402</span> │         <span style=\"color: #008080; text-decoration-color: #008080; font-weight: bold\">2403</span> │\n",
       "│ <span style=\"color: #008000; text-decoration-color: #008000\">S13001  </span> │     <span style=\"color: #008080; text-decoration-color: #008080; font-weight: bold\">811936</span> │         <span style=\"color: #008080; text-decoration-color: #008080; font-weight: bold\">2347</span> │\n",
       "│ <span style=\"color: #008000; text-decoration-color: #008000\">S13002  </span> │     <span style=\"color: #008080; text-decoration-color: #008080; font-weight: bold\">727821</span> │         <span style=\"color: #008080; text-decoration-color: #008080; font-weight: bold\">2340</span> │\n",
       "│ <span style=\"color: #008000; text-decoration-color: #008000\">S13003  </span> │     <span style=\"color: #008080; text-decoration-color: #008080; font-weight: bold\">764294</span> │         <span style=\"color: #008080; text-decoration-color: #008080; font-weight: bold\">2197</span> │\n",
       "│ <span style=\"color: #008000; text-decoration-color: #008000\">S13004  </span> │     <span style=\"color: #008080; text-decoration-color: #008080; font-weight: bold\">779373</span> │         <span style=\"color: #008080; text-decoration-color: #008080; font-weight: bold\">2390</span> │\n",
       "│ <span style=\"color: #008000; text-decoration-color: #008000\">S13005  </span> │     <span style=\"color: #008080; text-decoration-color: #008080; font-weight: bold\">629876</span> │         <span style=\"color: #008080; text-decoration-color: #008080; font-weight: bold\">2004</span> │\n",
       "│ <span style=\"color: #7f7f7f; text-decoration-color: #7f7f7f\">…</span>        │          <span style=\"color: #7f7f7f; text-decoration-color: #7f7f7f\">…</span> │            <span style=\"color: #7f7f7f; text-decoration-color: #7f7f7f\">…</span> │\n",
       "└──────────┴────────────┴──────────────┘\n",
       "</pre>\n"
      ],
      "text/plain": [
       "┏━━━━━━━━━━┳━━━━━━━━━━━━┳━━━━━━━━━━━━━━┓\n",
       "┃\u001b[1m \u001b[0m\u001b[1mstore_cd\u001b[0m\u001b[1m \u001b[0m┃\u001b[1m \u001b[0m\u001b[1msum_amount\u001b[0m\u001b[1m \u001b[0m┃\u001b[1m \u001b[0m\u001b[1msum_quantity\u001b[0m\u001b[1m \u001b[0m┃\n",
       "┡━━━━━━━━━━╇━━━━━━━━━━━━╇━━━━━━━━━━━━━━┩\n",
       "│ \u001b[2mstring\u001b[0m   │ \u001b[2mint64\u001b[0m      │ \u001b[2mint64\u001b[0m        │\n",
       "├──────────┼────────────┼──────────────┤\n",
       "│ \u001b[32mS12007  \u001b[0m │     \u001b[1;36m638761\u001b[0m │         \u001b[1;36m2099\u001b[0m │\n",
       "│ \u001b[32mS12013  \u001b[0m │     \u001b[1;36m787513\u001b[0m │         \u001b[1;36m2425\u001b[0m │\n",
       "│ \u001b[32mS12014  \u001b[0m │     \u001b[1;36m725167\u001b[0m │         \u001b[1;36m2358\u001b[0m │\n",
       "│ \u001b[32mS12029  \u001b[0m │     \u001b[1;36m794741\u001b[0m │         \u001b[1;36m2555\u001b[0m │\n",
       "│ \u001b[32mS12030  \u001b[0m │     \u001b[1;36m684402\u001b[0m │         \u001b[1;36m2403\u001b[0m │\n",
       "│ \u001b[32mS13001  \u001b[0m │     \u001b[1;36m811936\u001b[0m │         \u001b[1;36m2347\u001b[0m │\n",
       "│ \u001b[32mS13002  \u001b[0m │     \u001b[1;36m727821\u001b[0m │         \u001b[1;36m2340\u001b[0m │\n",
       "│ \u001b[32mS13003  \u001b[0m │     \u001b[1;36m764294\u001b[0m │         \u001b[1;36m2197\u001b[0m │\n",
       "│ \u001b[32mS13004  \u001b[0m │     \u001b[1;36m779373\u001b[0m │         \u001b[1;36m2390\u001b[0m │\n",
       "│ \u001b[32mS13005  \u001b[0m │     \u001b[1;36m629876\u001b[0m │         \u001b[1;36m2004\u001b[0m │\n",
       "│ \u001b[2m…\u001b[0m        │          \u001b[2m…\u001b[0m │            \u001b[2m…\u001b[0m │\n",
       "└──────────┴────────────┴──────────────┘"
      ]
     },
     "execution_count": 25,
     "metadata": {},
     "output_type": "execute_result"
    }
   ],
   "source": [
    "df_023 = (\n",
    "    df_receipt\n",
    "    .group_by(\"store_cd\")\n",
    "    # _を利用して表示することも可能\n",
    "    # .agg(sum_amount=_[\"amount\"].sum(), sum_quantity=_[\"quantity\"].sum())\n",
    "    .aggregate(\n",
    "        sum_amount=df_receipt[\"amount\"].sum(),\n",
    "        sum_quantity=df_receipt[\"quantity\"].sum()\n",
    "    )\n",
    "    .order_by(\"store_cd\")\n",
    ")\n",
    "\n",
    "df_023"
   ]
  },
  {
   "attachments": {},
   "cell_type": "markdown",
   "metadata": {},
   "source": [
    "---\n",
    "> P-024: レシート明細データ（df_receipt）に対し、顧客ID（customer_id）ごとに最も新しい売上年月日（sales_ymd）を求め、5件表示せよ。"
   ]
  },
  {
   "cell_type": "code",
   "execution_count": 26,
   "metadata": {},
   "outputs": [
    {
     "data": {
      "text/html": [
       "<pre style=\"white-space:pre;overflow-x:auto;line-height:normal;font-family:Menlo,'DejaVu Sans Mono',consolas,'Courier New',monospace\">┏━━━━━━━━━━━━━━━━┳━━━━━━━━━━━━━━━━━━┓\n",
       "┃<span style=\"font-weight: bold\"> customer_id    </span>┃<span style=\"font-weight: bold\"> newest_sales_ymd </span>┃\n",
       "┡━━━━━━━━━━━━━━━━╇━━━━━━━━━━━━━━━━━━┩\n",
       "│ <span style=\"color: #7f7f7f; text-decoration-color: #7f7f7f\">string</span>         │ <span style=\"color: #7f7f7f; text-decoration-color: #7f7f7f\">int64</span>            │\n",
       "├────────────────┼──────────────────┤\n",
       "│ <span style=\"color: #008000; text-decoration-color: #008000\">ZZ000000000000</span> │         <span style=\"color: #008080; text-decoration-color: #008080; font-weight: bold\">20191031</span> │\n",
       "│ <span style=\"color: #008000; text-decoration-color: #008000\">CS003515000195</span> │         <span style=\"color: #008080; text-decoration-color: #008080; font-weight: bold\">20190605</span> │\n",
       "│ <span style=\"color: #008000; text-decoration-color: #008000\">CS024514000042</span> │         <span style=\"color: #008080; text-decoration-color: #008080; font-weight: bold\">20181205</span> │\n",
       "│ <span style=\"color: #008000; text-decoration-color: #008000\">CS026515000042</span> │         <span style=\"color: #008080; text-decoration-color: #008080; font-weight: bold\">20190904</span> │\n",
       "│ <span style=\"color: #008000; text-decoration-color: #008000\">CS005513000061</span> │         <span style=\"color: #008080; text-decoration-color: #008080; font-weight: bold\">20170826</span> │\n",
       "└────────────────┴──────────────────┘\n",
       "</pre>\n"
      ],
      "text/plain": [
       "┏━━━━━━━━━━━━━━━━┳━━━━━━━━━━━━━━━━━━┓\n",
       "┃\u001b[1m \u001b[0m\u001b[1mcustomer_id\u001b[0m\u001b[1m   \u001b[0m\u001b[1m \u001b[0m┃\u001b[1m \u001b[0m\u001b[1mnewest_sales_ymd\u001b[0m\u001b[1m \u001b[0m┃\n",
       "┡━━━━━━━━━━━━━━━━╇━━━━━━━━━━━━━━━━━━┩\n",
       "│ \u001b[2mstring\u001b[0m         │ \u001b[2mint64\u001b[0m            │\n",
       "├────────────────┼──────────────────┤\n",
       "│ \u001b[32mZZ000000000000\u001b[0m │         \u001b[1;36m20191031\u001b[0m │\n",
       "│ \u001b[32mCS003515000195\u001b[0m │         \u001b[1;36m20190605\u001b[0m │\n",
       "│ \u001b[32mCS024514000042\u001b[0m │         \u001b[1;36m20181205\u001b[0m │\n",
       "│ \u001b[32mCS026515000042\u001b[0m │         \u001b[1;36m20190904\u001b[0m │\n",
       "│ \u001b[32mCS005513000061\u001b[0m │         \u001b[1;36m20170826\u001b[0m │\n",
       "└────────────────┴──────────────────┘"
      ]
     },
     "execution_count": 26,
     "metadata": {},
     "output_type": "execute_result"
    }
   ],
   "source": [
    "df_024 = (\n",
    "    df_receipt\n",
    "    .group_by(\"customer_id\")\n",
    "    .aggregate(newest_sales_ymd=df_receipt[\"sales_ymd\"].max())\n",
    ")\n",
    "\n",
    "df_024.head(5)"
   ]
  },
  {
   "attachments": {},
   "cell_type": "markdown",
   "metadata": {},
   "source": [
    "---\n",
    "> P-025: レシート明細データ（df_receipt）に対し、顧客ID（customer_id）ごとに最も古い売上年月日（sales_ymd）を求め、10件表示せよ。"
   ]
  },
  {
   "cell_type": "code",
   "execution_count": 27,
   "metadata": {},
   "outputs": [
    {
     "data": {
      "text/html": [
       "<pre style=\"white-space:pre;overflow-x:auto;line-height:normal;font-family:Menlo,'DejaVu Sans Mono',consolas,'Courier New',monospace\">┏━━━━━━━━━━━━━━━━┳━━━━━━━━━━━━━━━━━━┓\n",
       "┃<span style=\"font-weight: bold\"> customer_id    </span>┃<span style=\"font-weight: bold\"> oldest_sales_ymd </span>┃\n",
       "┡━━━━━━━━━━━━━━━━╇━━━━━━━━━━━━━━━━━━┩\n",
       "│ <span style=\"color: #7f7f7f; text-decoration-color: #7f7f7f\">string</span>         │ <span style=\"color: #7f7f7f; text-decoration-color: #7f7f7f\">int64</span>            │\n",
       "├────────────────┼──────────────────┤\n",
       "│ <span style=\"color: #008000; text-decoration-color: #008000\">ZZ000000000000</span> │         <span style=\"color: #008080; text-decoration-color: #008080; font-weight: bold\">20170101</span> │\n",
       "│ <span style=\"color: #008000; text-decoration-color: #008000\">CS003515000195</span> │         <span style=\"color: #008080; text-decoration-color: #008080; font-weight: bold\">20170505</span> │\n",
       "│ <span style=\"color: #008000; text-decoration-color: #008000\">CS024514000042</span> │         <span style=\"color: #008080; text-decoration-color: #008080; font-weight: bold\">20170624</span> │\n",
       "│ <span style=\"color: #008000; text-decoration-color: #008000\">CS026515000042</span> │         <span style=\"color: #008080; text-decoration-color: #008080; font-weight: bold\">20171117</span> │\n",
       "│ <span style=\"color: #008000; text-decoration-color: #008000\">CS005513000061</span> │         <span style=\"color: #008080; text-decoration-color: #008080; font-weight: bold\">20170107</span> │\n",
       "└────────────────┴──────────────────┘\n",
       "</pre>\n"
      ],
      "text/plain": [
       "┏━━━━━━━━━━━━━━━━┳━━━━━━━━━━━━━━━━━━┓\n",
       "┃\u001b[1m \u001b[0m\u001b[1mcustomer_id\u001b[0m\u001b[1m   \u001b[0m\u001b[1m \u001b[0m┃\u001b[1m \u001b[0m\u001b[1moldest_sales_ymd\u001b[0m\u001b[1m \u001b[0m┃\n",
       "┡━━━━━━━━━━━━━━━━╇━━━━━━━━━━━━━━━━━━┩\n",
       "│ \u001b[2mstring\u001b[0m         │ \u001b[2mint64\u001b[0m            │\n",
       "├────────────────┼──────────────────┤\n",
       "│ \u001b[32mZZ000000000000\u001b[0m │         \u001b[1;36m20170101\u001b[0m │\n",
       "│ \u001b[32mCS003515000195\u001b[0m │         \u001b[1;36m20170505\u001b[0m │\n",
       "│ \u001b[32mCS024514000042\u001b[0m │         \u001b[1;36m20170624\u001b[0m │\n",
       "│ \u001b[32mCS026515000042\u001b[0m │         \u001b[1;36m20171117\u001b[0m │\n",
       "│ \u001b[32mCS005513000061\u001b[0m │         \u001b[1;36m20170107\u001b[0m │\n",
       "└────────────────┴──────────────────┘"
      ]
     },
     "execution_count": 27,
     "metadata": {},
     "output_type": "execute_result"
    }
   ],
   "source": [
    "df_025 = (\n",
    "    df_receipt.group_by(\"customer_id\")\n",
    "    .aggregate(oldest_sales_ymd=df_receipt[\"sales_ymd\"].min())\n",
    ")\n",
    "\n",
    "df_025.head(5)"
   ]
  },
  {
   "attachments": {},
   "cell_type": "markdown",
   "metadata": {},
   "source": [
    "---\n",
    "> P-026: レシート明細データ（df_receipt）に対し、顧客ID（customer_id）ごとに最も新しい売上年月日（sales_ymd）と古い売上年月日を求め、両者が異なるデータを10件表示せよ。"
   ]
  },
  {
   "cell_type": "code",
   "execution_count": 28,
   "metadata": {},
   "outputs": [
    {
     "data": {
      "text/html": [
       "<pre style=\"white-space:pre;overflow-x:auto;line-height:normal;font-family:Menlo,'DejaVu Sans Mono',consolas,'Courier New',monospace\">┏━━━━━━━━━━━━━━━━┳━━━━━━━━━━━━━━━┳━━━━━━━━━━━━━━━┓\n",
       "┃<span style=\"font-weight: bold\"> customer_id    </span>┃<span style=\"font-weight: bold\"> sales_ymd_min </span>┃<span style=\"font-weight: bold\"> sales_ymd_max </span>┃\n",
       "┡━━━━━━━━━━━━━━━━╇━━━━━━━━━━━━━━━╇━━━━━━━━━━━━━━━┩\n",
       "│ <span style=\"color: #7f7f7f; text-decoration-color: #7f7f7f\">string</span>         │ <span style=\"color: #7f7f7f; text-decoration-color: #7f7f7f\">int64</span>         │ <span style=\"color: #7f7f7f; text-decoration-color: #7f7f7f\">int64</span>         │\n",
       "├────────────────┼───────────────┼───────────────┤\n",
       "│ <span style=\"color: #008000; text-decoration-color: #008000\">ZZ000000000000</span> │      <span style=\"color: #008080; text-decoration-color: #008080; font-weight: bold\">20170101</span> │      <span style=\"color: #008080; text-decoration-color: #008080; font-weight: bold\">20191031</span> │\n",
       "│ <span style=\"color: #008000; text-decoration-color: #008000\">CS003515000195</span> │      <span style=\"color: #008080; text-decoration-color: #008080; font-weight: bold\">20170505</span> │      <span style=\"color: #008080; text-decoration-color: #008080; font-weight: bold\">20190605</span> │\n",
       "│ <span style=\"color: #008000; text-decoration-color: #008000\">CS024514000042</span> │      <span style=\"color: #008080; text-decoration-color: #008080; font-weight: bold\">20170624</span> │      <span style=\"color: #008080; text-decoration-color: #008080; font-weight: bold\">20181205</span> │\n",
       "│ <span style=\"color: #008000; text-decoration-color: #008000\">CS026515000042</span> │      <span style=\"color: #008080; text-decoration-color: #008080; font-weight: bold\">20171117</span> │      <span style=\"color: #008080; text-decoration-color: #008080; font-weight: bold\">20190904</span> │\n",
       "│ <span style=\"color: #008000; text-decoration-color: #008000\">CS005513000061</span> │      <span style=\"color: #008080; text-decoration-color: #008080; font-weight: bold\">20170107</span> │      <span style=\"color: #008080; text-decoration-color: #008080; font-weight: bold\">20170826</span> │\n",
       "│ <span style=\"color: #008000; text-decoration-color: #008000\">CS022414000065</span> │      <span style=\"color: #008080; text-decoration-color: #008080; font-weight: bold\">20170227</span> │      <span style=\"color: #008080; text-decoration-color: #008080; font-weight: bold\">20190625</span> │\n",
       "│ <span style=\"color: #008000; text-decoration-color: #008000\">CS030415000197</span> │      <span style=\"color: #008080; text-decoration-color: #008080; font-weight: bold\">20170430</span> │      <span style=\"color: #008080; text-decoration-color: #008080; font-weight: bold\">20190925</span> │\n",
       "│ <span style=\"color: #008000; text-decoration-color: #008000\">CS004515000723</span> │      <span style=\"color: #008080; text-decoration-color: #008080; font-weight: bold\">20180906</span> │      <span style=\"color: #008080; text-decoration-color: #008080; font-weight: bold\">20190822</span> │\n",
       "│ <span style=\"color: #008000; text-decoration-color: #008000\">CS008414000013</span> │      <span style=\"color: #008080; text-decoration-color: #008080; font-weight: bold\">20170217</span> │      <span style=\"color: #008080; text-decoration-color: #008080; font-weight: bold\">20190825</span> │\n",
       "│ <span style=\"color: #008000; text-decoration-color: #008000\">CS032215000073</span> │      <span style=\"color: #008080; text-decoration-color: #008080; font-weight: bold\">20170913</span> │      <span style=\"color: #008080; text-decoration-color: #008080; font-weight: bold\">20190224</span> │\n",
       "└────────────────┴───────────────┴───────────────┘\n",
       "</pre>\n"
      ],
      "text/plain": [
       "┏━━━━━━━━━━━━━━━━┳━━━━━━━━━━━━━━━┳━━━━━━━━━━━━━━━┓\n",
       "┃\u001b[1m \u001b[0m\u001b[1mcustomer_id\u001b[0m\u001b[1m   \u001b[0m\u001b[1m \u001b[0m┃\u001b[1m \u001b[0m\u001b[1msales_ymd_min\u001b[0m\u001b[1m \u001b[0m┃\u001b[1m \u001b[0m\u001b[1msales_ymd_max\u001b[0m\u001b[1m \u001b[0m┃\n",
       "┡━━━━━━━━━━━━━━━━╇━━━━━━━━━━━━━━━╇━━━━━━━━━━━━━━━┩\n",
       "│ \u001b[2mstring\u001b[0m         │ \u001b[2mint64\u001b[0m         │ \u001b[2mint64\u001b[0m         │\n",
       "├────────────────┼───────────────┼───────────────┤\n",
       "│ \u001b[32mZZ000000000000\u001b[0m │      \u001b[1;36m20170101\u001b[0m │      \u001b[1;36m20191031\u001b[0m │\n",
       "│ \u001b[32mCS003515000195\u001b[0m │      \u001b[1;36m20170505\u001b[0m │      \u001b[1;36m20190605\u001b[0m │\n",
       "│ \u001b[32mCS024514000042\u001b[0m │      \u001b[1;36m20170624\u001b[0m │      \u001b[1;36m20181205\u001b[0m │\n",
       "│ \u001b[32mCS026515000042\u001b[0m │      \u001b[1;36m20171117\u001b[0m │      \u001b[1;36m20190904\u001b[0m │\n",
       "│ \u001b[32mCS005513000061\u001b[0m │      \u001b[1;36m20170107\u001b[0m │      \u001b[1;36m20170826\u001b[0m │\n",
       "│ \u001b[32mCS022414000065\u001b[0m │      \u001b[1;36m20170227\u001b[0m │      \u001b[1;36m20190625\u001b[0m │\n",
       "│ \u001b[32mCS030415000197\u001b[0m │      \u001b[1;36m20170430\u001b[0m │      \u001b[1;36m20190925\u001b[0m │\n",
       "│ \u001b[32mCS004515000723\u001b[0m │      \u001b[1;36m20180906\u001b[0m │      \u001b[1;36m20190822\u001b[0m │\n",
       "│ \u001b[32mCS008414000013\u001b[0m │      \u001b[1;36m20170217\u001b[0m │      \u001b[1;36m20190825\u001b[0m │\n",
       "│ \u001b[32mCS032215000073\u001b[0m │      \u001b[1;36m20170913\u001b[0m │      \u001b[1;36m20190224\u001b[0m │\n",
       "└────────────────┴───────────────┴───────────────┘"
      ]
     },
     "execution_count": 28,
     "metadata": {},
     "output_type": "execute_result"
    }
   ],
   "source": [
    "df_026 = (\n",
    "    df_receipt\n",
    "    .group_by(\"customer_id\")\n",
    "    .aggregate(\n",
    "        sales_ymd_min=df_receipt[\"sales_ymd\"].min(),\n",
    "        sales_ymd_max=df_receipt[\"sales_ymd\"].max()\n",
    "    )\n",
    "    .filter(_[\"sales_ymd_min\"] != _[\"sales_ymd_max\"])\n",
    ")\n",
    "\n",
    "df_026.head(10)"
   ]
  },
  {
   "attachments": {},
   "cell_type": "markdown",
   "metadata": {},
   "source": [
    "---\n",
    "> P-027: レシート明細データ（df_receipt）に対し、店舗コード（store_cd）ごとに売上金額（amount）の平均を計算し、降順でTOP5を表示せよ。"
   ]
  },
  {
   "cell_type": "code",
   "execution_count": 29,
   "metadata": {},
   "outputs": [
    {
     "data": {
      "text/html": [
       "<pre style=\"white-space:pre;overflow-x:auto;line-height:normal;font-family:Menlo,'DejaVu Sans Mono',consolas,'Courier New',monospace\">┏━━━━━━━━━━┳━━━━━━━━━━━━━┓\n",
       "┃<span style=\"font-weight: bold\"> store_cd </span>┃<span style=\"font-weight: bold\"> mean_amount </span>┃\n",
       "┡━━━━━━━━━━╇━━━━━━━━━━━━━┩\n",
       "│ <span style=\"color: #7f7f7f; text-decoration-color: #7f7f7f\">string</span>   │ <span style=\"color: #7f7f7f; text-decoration-color: #7f7f7f\">float64</span>     │\n",
       "├──────────┼─────────────┤\n",
       "│ <span style=\"color: #008000; text-decoration-color: #008000\">S13052  </span> │  <span style=\"color: #008080; text-decoration-color: #008080; font-weight: bold\">402.867470</span> │\n",
       "│ <span style=\"color: #008000; text-decoration-color: #008000\">S13015  </span> │  <span style=\"color: #008080; text-decoration-color: #008080; font-weight: bold\">351.111960</span> │\n",
       "│ <span style=\"color: #008000; text-decoration-color: #008000\">S13003  </span> │  <span style=\"color: #008080; text-decoration-color: #008080; font-weight: bold\">350.915519</span> │\n",
       "│ <span style=\"color: #008000; text-decoration-color: #008000\">S14010  </span> │  <span style=\"color: #008080; text-decoration-color: #008080; font-weight: bold\">348.791262</span> │\n",
       "│ <span style=\"color: #008000; text-decoration-color: #008000\">S13001  </span> │  <span style=\"color: #008080; text-decoration-color: #008080; font-weight: bold\">348.470386</span> │\n",
       "└──────────┴─────────────┘\n",
       "</pre>\n"
      ],
      "text/plain": [
       "┏━━━━━━━━━━┳━━━━━━━━━━━━━┓\n",
       "┃\u001b[1m \u001b[0m\u001b[1mstore_cd\u001b[0m\u001b[1m \u001b[0m┃\u001b[1m \u001b[0m\u001b[1mmean_amount\u001b[0m\u001b[1m \u001b[0m┃\n",
       "┡━━━━━━━━━━╇━━━━━━━━━━━━━┩\n",
       "│ \u001b[2mstring\u001b[0m   │ \u001b[2mfloat64\u001b[0m     │\n",
       "├──────────┼─────────────┤\n",
       "│ \u001b[32mS13052  \u001b[0m │  \u001b[1;36m402.867470\u001b[0m │\n",
       "│ \u001b[32mS13015  \u001b[0m │  \u001b[1;36m351.111960\u001b[0m │\n",
       "│ \u001b[32mS13003  \u001b[0m │  \u001b[1;36m350.915519\u001b[0m │\n",
       "│ \u001b[32mS14010  \u001b[0m │  \u001b[1;36m348.791262\u001b[0m │\n",
       "│ \u001b[32mS13001  \u001b[0m │  \u001b[1;36m348.470386\u001b[0m │\n",
       "└──────────┴─────────────┘"
      ]
     },
     "execution_count": 29,
     "metadata": {},
     "output_type": "execute_result"
    }
   ],
   "source": [
    "df_027 = (\n",
    "    df_receipt\n",
    "    .group_by(\"store_cd\")\n",
    "    .aggregate(mean_amount=df_receipt[\"amount\"].mean())\n",
    "    .order_by(ibis.desc(\"mean_amount\"))\n",
    ")\n",
    "\n",
    "df_027.head(5)"
   ]
  },
  {
   "attachments": {},
   "cell_type": "markdown",
   "metadata": {},
   "source": [
    "---\n",
    "> P-028: レシート明細データ（df_receipt）に対し、店舗コード（store_cd）ごとに売上金額（amount）の中央値を計算し、降順でTOP5を表示せよ。"
   ]
  },
  {
   "cell_type": "code",
   "execution_count": 30,
   "metadata": {},
   "outputs": [
    {
     "data": {
      "text/html": [
       "<pre style=\"white-space:pre;overflow-x:auto;line-height:normal;font-family:Menlo,'DejaVu Sans Mono',consolas,'Courier New',monospace\">┏━━━━━━━━━━┳━━━━━━━━━━━━━━━┓\n",
       "┃<span style=\"font-weight: bold\"> store_cd </span>┃<span style=\"font-weight: bold\"> median_amount </span>┃\n",
       "┡━━━━━━━━━━╇━━━━━━━━━━━━━━━┩\n",
       "│ <span style=\"color: #7f7f7f; text-decoration-color: #7f7f7f\">string</span>   │ <span style=\"color: #7f7f7f; text-decoration-color: #7f7f7f\">float64</span>       │\n",
       "├──────────┼───────────────┤\n",
       "│ <span style=\"color: #008000; text-decoration-color: #008000\">S13052  </span> │         <span style=\"color: #008080; text-decoration-color: #008080; font-weight: bold\">190.0</span> │\n",
       "│ <span style=\"color: #008000; text-decoration-color: #008000\">S14010  </span> │         <span style=\"color: #008080; text-decoration-color: #008080; font-weight: bold\">188.0</span> │\n",
       "│ <span style=\"color: #008000; text-decoration-color: #008000\">S14050  </span> │         <span style=\"color: #008080; text-decoration-color: #008080; font-weight: bold\">185.0</span> │\n",
       "│ <span style=\"color: #008000; text-decoration-color: #008000\">S14040  </span> │         <span style=\"color: #008080; text-decoration-color: #008080; font-weight: bold\">180.0</span> │\n",
       "│ <span style=\"color: #008000; text-decoration-color: #008000\">S13018  </span> │         <span style=\"color: #008080; text-decoration-color: #008080; font-weight: bold\">180.0</span> │\n",
       "└──────────┴───────────────┘\n",
       "</pre>\n"
      ],
      "text/plain": [
       "┏━━━━━━━━━━┳━━━━━━━━━━━━━━━┓\n",
       "┃\u001b[1m \u001b[0m\u001b[1mstore_cd\u001b[0m\u001b[1m \u001b[0m┃\u001b[1m \u001b[0m\u001b[1mmedian_amount\u001b[0m\u001b[1m \u001b[0m┃\n",
       "┡━━━━━━━━━━╇━━━━━━━━━━━━━━━┩\n",
       "│ \u001b[2mstring\u001b[0m   │ \u001b[2mfloat64\u001b[0m       │\n",
       "├──────────┼───────────────┤\n",
       "│ \u001b[32mS13052  \u001b[0m │         \u001b[1;36m190.0\u001b[0m │\n",
       "│ \u001b[32mS14010  \u001b[0m │         \u001b[1;36m188.0\u001b[0m │\n",
       "│ \u001b[32mS14050  \u001b[0m │         \u001b[1;36m185.0\u001b[0m │\n",
       "│ \u001b[32mS14040  \u001b[0m │         \u001b[1;36m180.0\u001b[0m │\n",
       "│ \u001b[32mS13018  \u001b[0m │         \u001b[1;36m180.0\u001b[0m │\n",
       "└──────────┴───────────────┘"
      ]
     },
     "execution_count": 30,
     "metadata": {},
     "output_type": "execute_result"
    }
   ],
   "source": [
    "df_028 = (\n",
    "    df_receipt\n",
    "    .group_by(\"store_cd\")\n",
    "    .aggregate(median_amount=df_receipt[\"amount\"].median())\n",
    "    .order_by(ibis.desc(\"median_amount\"))\n",
    ")\n",
    "\n",
    "df_028.head(5)"
   ]
  },
  {
   "attachments": {},
   "cell_type": "markdown",
   "metadata": {},
   "source": [
    "---\n",
    "> P-029: レシート明細データ（df_receipt）に対し、店舗コード（store_cd）ごとに商品コード（product_cd）の最頻値を求め、10件表示させよ。"
   ]
  },
  {
   "cell_type": "code",
   "execution_count": 31,
   "metadata": {},
   "outputs": [
    {
     "data": {
      "text/html": [
       "<pre style=\"white-space:pre;overflow-x:auto;line-height:normal;font-family:Menlo,'DejaVu Sans Mono',consolas,'Courier New',monospace\">┏━━━━━━━━━━┳━━━━━━━━━━━━━━━━━┳━━━━━━━━━━━━━━━━━━┓\n",
       "┃<span style=\"font-weight: bold\"> store_cd </span>┃<span style=\"font-weight: bold\"> mode_product_cd </span>┃<span style=\"font-weight: bold\"> count_product_cd </span>┃\n",
       "┡━━━━━━━━━━╇━━━━━━━━━━━━━━━━━╇━━━━━━━━━━━━━━━━━━┩\n",
       "│ <span style=\"color: #7f7f7f; text-decoration-color: #7f7f7f\">string</span>   │ <span style=\"color: #7f7f7f; text-decoration-color: #7f7f7f\">string</span>          │ <span style=\"color: #7f7f7f; text-decoration-color: #7f7f7f\">int64</span>            │\n",
       "├──────────┼─────────────────┼──────────────────┤\n",
       "│ <span style=\"color: #008000; text-decoration-color: #008000\">S14024  </span> │ <span style=\"color: #008000; text-decoration-color: #008000\">P060303001     </span> │             <span style=\"color: #008080; text-decoration-color: #008080; font-weight: bold\">2389</span> │\n",
       "│ <span style=\"color: #008000; text-decoration-color: #008000\">S14023  </span> │ <span style=\"color: #008000; text-decoration-color: #008000\">P071401001     </span> │             <span style=\"color: #008080; text-decoration-color: #008080; font-weight: bold\">2235</span> │\n",
       "│ <span style=\"color: #008000; text-decoration-color: #008000\">S13004  </span> │ <span style=\"color: #008000; text-decoration-color: #008000\">P060303001     </span> │             <span style=\"color: #008080; text-decoration-color: #008080; font-weight: bold\">2355</span> │\n",
       "│ <span style=\"color: #008000; text-decoration-color: #008000\">S12014  </span> │ <span style=\"color: #008000; text-decoration-color: #008000\">P060303001     </span> │             <span style=\"color: #008080; text-decoration-color: #008080; font-weight: bold\">2333</span> │\n",
       "│ <span style=\"color: #008000; text-decoration-color: #008000\">S14034  </span> │ <span style=\"color: #008000; text-decoration-color: #008000\">P060303001     </span> │             <span style=\"color: #008080; text-decoration-color: #008080; font-weight: bold\">2003</span> │\n",
       "│ <span style=\"color: #008000; text-decoration-color: #008000\">S13032  </span> │ <span style=\"color: #008000; text-decoration-color: #008000\">P060303001     </span> │             <span style=\"color: #008080; text-decoration-color: #008080; font-weight: bold\">2459</span> │\n",
       "│ <span style=\"color: #008000; text-decoration-color: #008000\">S12013  </span> │ <span style=\"color: #008000; text-decoration-color: #008000\">P060303001     </span> │             <span style=\"color: #008080; text-decoration-color: #008080; font-weight: bold\">2385</span> │\n",
       "│ <span style=\"color: #008000; text-decoration-color: #008000\">S13005  </span> │ <span style=\"color: #008000; text-decoration-color: #008000\">P040503001     </span> │             <span style=\"color: #008080; text-decoration-color: #008080; font-weight: bold\">1992</span> │\n",
       "│ <span style=\"color: #008000; text-decoration-color: #008000\">S13002  </span> │ <span style=\"color: #008000; text-decoration-color: #008000\">P060303001     </span> │             <span style=\"color: #008080; text-decoration-color: #008080; font-weight: bold\">2322</span> │\n",
       "│ <span style=\"color: #008000; text-decoration-color: #008000\">S13009  </span> │ <span style=\"color: #008000; text-decoration-color: #008000\">P060303001     </span> │             <span style=\"color: #008080; text-decoration-color: #008080; font-weight: bold\">2465</span> │\n",
       "└──────────┴─────────────────┴──────────────────┘\n",
       "</pre>\n"
      ],
      "text/plain": [
       "┏━━━━━━━━━━┳━━━━━━━━━━━━━━━━━┳━━━━━━━━━━━━━━━━━━┓\n",
       "┃\u001b[1m \u001b[0m\u001b[1mstore_cd\u001b[0m\u001b[1m \u001b[0m┃\u001b[1m \u001b[0m\u001b[1mmode_product_cd\u001b[0m\u001b[1m \u001b[0m┃\u001b[1m \u001b[0m\u001b[1mcount_product_cd\u001b[0m\u001b[1m \u001b[0m┃\n",
       "┡━━━━━━━━━━╇━━━━━━━━━━━━━━━━━╇━━━━━━━━━━━━━━━━━━┩\n",
       "│ \u001b[2mstring\u001b[0m   │ \u001b[2mstring\u001b[0m          │ \u001b[2mint64\u001b[0m            │\n",
       "├──────────┼─────────────────┼──────────────────┤\n",
       "│ \u001b[32mS14024  \u001b[0m │ \u001b[32mP060303001     \u001b[0m │             \u001b[1;36m2389\u001b[0m │\n",
       "│ \u001b[32mS14023  \u001b[0m │ \u001b[32mP071401001     \u001b[0m │             \u001b[1;36m2235\u001b[0m │\n",
       "│ \u001b[32mS13004  \u001b[0m │ \u001b[32mP060303001     \u001b[0m │             \u001b[1;36m2355\u001b[0m │\n",
       "│ \u001b[32mS12014  \u001b[0m │ \u001b[32mP060303001     \u001b[0m │             \u001b[1;36m2333\u001b[0m │\n",
       "│ \u001b[32mS14034  \u001b[0m │ \u001b[32mP060303001     \u001b[0m │             \u001b[1;36m2003\u001b[0m │\n",
       "│ \u001b[32mS13032  \u001b[0m │ \u001b[32mP060303001     \u001b[0m │             \u001b[1;36m2459\u001b[0m │\n",
       "│ \u001b[32mS12013  \u001b[0m │ \u001b[32mP060303001     \u001b[0m │             \u001b[1;36m2385\u001b[0m │\n",
       "│ \u001b[32mS13005  \u001b[0m │ \u001b[32mP040503001     \u001b[0m │             \u001b[1;36m1992\u001b[0m │\n",
       "│ \u001b[32mS13002  \u001b[0m │ \u001b[32mP060303001     \u001b[0m │             \u001b[1;36m2322\u001b[0m │\n",
       "│ \u001b[32mS13009  \u001b[0m │ \u001b[32mP060303001     \u001b[0m │             \u001b[1;36m2465\u001b[0m │\n",
       "└──────────┴─────────────────┴──────────────────┘"
      ]
     },
     "execution_count": 31,
     "metadata": {},
     "output_type": "execute_result"
    }
   ],
   "source": [
    "df_029 = (\n",
    "    df_receipt\n",
    "    .group_by(\"store_cd\")\n",
    "    .aggregate(\n",
    "        mode_product_cd=df_receipt[\"product_cd\"].mode(),\n",
    "        count_product_cd=df_receipt[\"product_cd\"].count()\n",
    "    )\n",
    ")\n",
    "\n",
    "df_029.head(10)"
   ]
  },
  {
   "attachments": {},
   "cell_type": "markdown",
   "metadata": {},
   "source": [
    "---\n",
    "> P-030: レシート明細データ（df_receipt）に対し、店舗コード（store_cd）ごとに売上金額（amount）の分散を計算し、降順で5件表示せよ。"
   ]
  },
  {
   "cell_type": "code",
   "execution_count": 32,
   "metadata": {},
   "outputs": [
    {
     "data": {
      "text/html": [
       "<pre style=\"white-space:pre;overflow-x:auto;line-height:normal;font-family:Menlo,'DejaVu Sans Mono',consolas,'Courier New',monospace\">┏━━━━━━━━━━┳━━━━━━━━━━━━━━━┓\n",
       "┃<span style=\"font-weight: bold\"> store_cd </span>┃<span style=\"font-weight: bold\"> var_amount    </span>┃\n",
       "┡━━━━━━━━━━╇━━━━━━━━━━━━━━━┩\n",
       "│ <span style=\"color: #7f7f7f; text-decoration-color: #7f7f7f\">string</span>   │ <span style=\"color: #7f7f7f; text-decoration-color: #7f7f7f\">float64</span>       │\n",
       "├──────────┼───────────────┤\n",
       "│ <span style=\"color: #008000; text-decoration-color: #008000\">S13052  </span> │ <span style=\"color: #008080; text-decoration-color: #008080; font-weight: bold\">441863.252526</span> │\n",
       "│ <span style=\"color: #008000; text-decoration-color: #008000\">S14011  </span> │ <span style=\"color: #008080; text-decoration-color: #008080; font-weight: bold\">306442.242432</span> │\n",
       "│ <span style=\"color: #008000; text-decoration-color: #008000\">S14034  </span> │ <span style=\"color: #008080; text-decoration-color: #008080; font-weight: bold\">297068.392740</span> │\n",
       "│ <span style=\"color: #008000; text-decoration-color: #008000\">S13001  </span> │ <span style=\"color: #008080; text-decoration-color: #008080; font-weight: bold\">295558.842618</span> │\n",
       "│ <span style=\"color: #008000; text-decoration-color: #008000\">S13015  </span> │ <span style=\"color: #008080; text-decoration-color: #008080; font-weight: bold\">295427.197086</span> │\n",
       "└──────────┴───────────────┘\n",
       "</pre>\n"
      ],
      "text/plain": [
       "┏━━━━━━━━━━┳━━━━━━━━━━━━━━━┓\n",
       "┃\u001b[1m \u001b[0m\u001b[1mstore_cd\u001b[0m\u001b[1m \u001b[0m┃\u001b[1m \u001b[0m\u001b[1mvar_amount\u001b[0m\u001b[1m   \u001b[0m\u001b[1m \u001b[0m┃\n",
       "┡━━━━━━━━━━╇━━━━━━━━━━━━━━━┩\n",
       "│ \u001b[2mstring\u001b[0m   │ \u001b[2mfloat64\u001b[0m       │\n",
       "├──────────┼───────────────┤\n",
       "│ \u001b[32mS13052  \u001b[0m │ \u001b[1;36m441863.252526\u001b[0m │\n",
       "│ \u001b[32mS14011  \u001b[0m │ \u001b[1;36m306442.242432\u001b[0m │\n",
       "│ \u001b[32mS14034  \u001b[0m │ \u001b[1;36m297068.392740\u001b[0m │\n",
       "│ \u001b[32mS13001  \u001b[0m │ \u001b[1;36m295558.842618\u001b[0m │\n",
       "│ \u001b[32mS13015  \u001b[0m │ \u001b[1;36m295427.197086\u001b[0m │\n",
       "└──────────┴───────────────┘"
      ]
     },
     "execution_count": 32,
     "metadata": {},
     "output_type": "execute_result"
    }
   ],
   "source": [
    "df_030 = (\n",
    "    df_receipt\n",
    "    .group_by(\"store_cd\")\n",
    "    .aggregate(var_amount=df_receipt[\"amount\"].var())\n",
    "    .order_by(ibis.desc(\"var_amount\"))\n",
    ")\n",
    "\n",
    "df_030.head(5)"
   ]
  },
  {
   "attachments": {},
   "cell_type": "markdown",
   "metadata": {},
   "source": [
    "---\n",
    "> P-031: レシート明細データ（df_receipt）に対し、店舗コード（store_cd）ごとに売上金額（amount）の標準偏差を計算し、降順で5件表示せよ。"
   ]
  },
  {
   "cell_type": "code",
   "execution_count": 33,
   "metadata": {},
   "outputs": [
    {
     "data": {
      "text/html": [
       "<pre style=\"white-space:pre;overflow-x:auto;line-height:normal;font-family:Menlo,'DejaVu Sans Mono',consolas,'Courier New',monospace\">┏━━━━━━━━━━┳━━━━━━━━━━━━┓\n",
       "┃<span style=\"font-weight: bold\"> store_cd </span>┃<span style=\"font-weight: bold\"> std_amount </span>┃\n",
       "┡━━━━━━━━━━╇━━━━━━━━━━━━┩\n",
       "│ <span style=\"color: #7f7f7f; text-decoration-color: #7f7f7f\">string</span>   │ <span style=\"color: #7f7f7f; text-decoration-color: #7f7f7f\">float64</span>    │\n",
       "├──────────┼────────────┤\n",
       "│ <span style=\"color: #008000; text-decoration-color: #008000\">S13052  </span> │ <span style=\"color: #008080; text-decoration-color: #008080; font-weight: bold\">664.727954</span> │\n",
       "│ <span style=\"color: #008000; text-decoration-color: #008000\">S14011  </span> │ <span style=\"color: #008080; text-decoration-color: #008080; font-weight: bold\">553.572256</span> │\n",
       "│ <span style=\"color: #008000; text-decoration-color: #008000\">S14034  </span> │ <span style=\"color: #008080; text-decoration-color: #008080; font-weight: bold\">545.039808</span> │\n",
       "│ <span style=\"color: #008000; text-decoration-color: #008000\">S13001  </span> │ <span style=\"color: #008080; text-decoration-color: #008080; font-weight: bold\">543.653237</span> │\n",
       "│ <span style=\"color: #008000; text-decoration-color: #008000\">S13015  </span> │ <span style=\"color: #008080; text-decoration-color: #008080; font-weight: bold\">543.532149</span> │\n",
       "└──────────┴────────────┘\n",
       "</pre>\n"
      ],
      "text/plain": [
       "┏━━━━━━━━━━┳━━━━━━━━━━━━┓\n",
       "┃\u001b[1m \u001b[0m\u001b[1mstore_cd\u001b[0m\u001b[1m \u001b[0m┃\u001b[1m \u001b[0m\u001b[1mstd_amount\u001b[0m\u001b[1m \u001b[0m┃\n",
       "┡━━━━━━━━━━╇━━━━━━━━━━━━┩\n",
       "│ \u001b[2mstring\u001b[0m   │ \u001b[2mfloat64\u001b[0m    │\n",
       "├──────────┼────────────┤\n",
       "│ \u001b[32mS13052  \u001b[0m │ \u001b[1;36m664.727954\u001b[0m │\n",
       "│ \u001b[32mS14011  \u001b[0m │ \u001b[1;36m553.572256\u001b[0m │\n",
       "│ \u001b[32mS14034  \u001b[0m │ \u001b[1;36m545.039808\u001b[0m │\n",
       "│ \u001b[32mS13001  \u001b[0m │ \u001b[1;36m543.653237\u001b[0m │\n",
       "│ \u001b[32mS13015  \u001b[0m │ \u001b[1;36m543.532149\u001b[0m │\n",
       "└──────────┴────────────┘"
      ]
     },
     "execution_count": 33,
     "metadata": {},
     "output_type": "execute_result"
    }
   ],
   "source": [
    "df_031 = (\n",
    "    df_receipt\n",
    "    .group_by(\"store_cd\")\n",
    "    .aggregate(std_amount=df_receipt[\"amount\"].std())\n",
    "    .order_by(ibis.desc(\"std_amount\"))\n",
    ")\n",
    "\n",
    "df_031.head(5)"
   ]
  },
  {
   "attachments": {},
   "cell_type": "markdown",
   "metadata": {},
   "source": [
    "---\n",
    "> P-032: レシート明細データ（df_receipt）の売上金額（amount）について、25％刻みでパーセンタイル値を求めよ。"
   ]
  },
  {
   "cell_type": "code",
   "execution_count": 34,
   "metadata": {},
   "outputs": [
    {
     "name": "stdout",
     "output_type": "stream",
     "text": [
      "0   パーセンタイル: 10.0\n",
      "25  パーセンタイル: 102.0\n",
      "50  パーセンタイル: 170.0\n",
      "75  パーセンタイル: 288.0\n",
      "100 パーセンタイル: 10925.0\n"
     ]
    }
   ],
   "source": [
    "for pct in range(0, 101, 25):\n",
    "    print(f\"{int(pct):<3} パーセンタイル:\", df_receipt[\"amount\"].execute().quantile(pct/100))"
   ]
  },
  {
   "attachments": {},
   "cell_type": "markdown",
   "metadata": {},
   "source": [
    "---\n",
    "> P-033: レシート明細データ（df_receipt）に対し、店舗コード（store_cd）ごとに売上金額（amount）の平均を計算し、330以上のものを抽出せよ。"
   ]
  },
  {
   "cell_type": "code",
   "execution_count": 35,
   "metadata": {},
   "outputs": [
    {
     "data": {
      "text/html": [
       "<pre style=\"white-space:pre;overflow-x:auto;line-height:normal;font-family:Menlo,'DejaVu Sans Mono',consolas,'Courier New',monospace\">┏━━━━━━━━━━┳━━━━━━━━━━━━━┓\n",
       "┃<span style=\"font-weight: bold\"> store_cd </span>┃<span style=\"font-weight: bold\"> mean_amount </span>┃\n",
       "┡━━━━━━━━━━╇━━━━━━━━━━━━━┩\n",
       "│ <span style=\"color: #7f7f7f; text-decoration-color: #7f7f7f\">string</span>   │ <span style=\"color: #7f7f7f; text-decoration-color: #7f7f7f\">float64</span>     │\n",
       "├──────────┼─────────────┤\n",
       "│ <span style=\"color: #008000; text-decoration-color: #008000\">S12013  </span> │  <span style=\"color: #008080; text-decoration-color: #008080; font-weight: bold\">330.194130</span> │\n",
       "│ <span style=\"color: #008000; text-decoration-color: #008000\">S13003  </span> │  <span style=\"color: #008080; text-decoration-color: #008080; font-weight: bold\">350.915519</span> │\n",
       "│ <span style=\"color: #008000; text-decoration-color: #008000\">S14026  </span> │  <span style=\"color: #008080; text-decoration-color: #008080; font-weight: bold\">332.340588</span> │\n",
       "│ <span style=\"color: #008000; text-decoration-color: #008000\">S13015  </span> │  <span style=\"color: #008080; text-decoration-color: #008080; font-weight: bold\">351.111960</span> │\n",
       "│ <span style=\"color: #008000; text-decoration-color: #008000\">S14045  </span> │  <span style=\"color: #008080; text-decoration-color: #008080; font-weight: bold\">330.082073</span> │\n",
       "│ <span style=\"color: #008000; text-decoration-color: #008000\">S14010  </span> │  <span style=\"color: #008080; text-decoration-color: #008080; font-weight: bold\">348.791262</span> │\n",
       "│ <span style=\"color: #008000; text-decoration-color: #008000\">S13001  </span> │  <span style=\"color: #008080; text-decoration-color: #008080; font-weight: bold\">348.470386</span> │\n",
       "│ <span style=\"color: #008000; text-decoration-color: #008000\">S14047  </span> │  <span style=\"color: #008080; text-decoration-color: #008080; font-weight: bold\">330.077073</span> │\n",
       "│ <span style=\"color: #008000; text-decoration-color: #008000\">S13004  </span> │  <span style=\"color: #008080; text-decoration-color: #008080; font-weight: bold\">330.943949</span> │\n",
       "│ <span style=\"color: #008000; text-decoration-color: #008000\">S13019  </span> │  <span style=\"color: #008080; text-decoration-color: #008080; font-weight: bold\">330.208616</span> │\n",
       "│ <span style=\"color: #7f7f7f; text-decoration-color: #7f7f7f\">…</span>        │           <span style=\"color: #7f7f7f; text-decoration-color: #7f7f7f\">…</span> │\n",
       "└──────────┴─────────────┘\n",
       "</pre>\n"
      ],
      "text/plain": [
       "┏━━━━━━━━━━┳━━━━━━━━━━━━━┓\n",
       "┃\u001b[1m \u001b[0m\u001b[1mstore_cd\u001b[0m\u001b[1m \u001b[0m┃\u001b[1m \u001b[0m\u001b[1mmean_amount\u001b[0m\u001b[1m \u001b[0m┃\n",
       "┡━━━━━━━━━━╇━━━━━━━━━━━━━┩\n",
       "│ \u001b[2mstring\u001b[0m   │ \u001b[2mfloat64\u001b[0m     │\n",
       "├──────────┼─────────────┤\n",
       "│ \u001b[32mS12013  \u001b[0m │  \u001b[1;36m330.194130\u001b[0m │\n",
       "│ \u001b[32mS13003  \u001b[0m │  \u001b[1;36m350.915519\u001b[0m │\n",
       "│ \u001b[32mS14026  \u001b[0m │  \u001b[1;36m332.340588\u001b[0m │\n",
       "│ \u001b[32mS13015  \u001b[0m │  \u001b[1;36m351.111960\u001b[0m │\n",
       "│ \u001b[32mS14045  \u001b[0m │  \u001b[1;36m330.082073\u001b[0m │\n",
       "│ \u001b[32mS14010  \u001b[0m │  \u001b[1;36m348.791262\u001b[0m │\n",
       "│ \u001b[32mS13001  \u001b[0m │  \u001b[1;36m348.470386\u001b[0m │\n",
       "│ \u001b[32mS14047  \u001b[0m │  \u001b[1;36m330.077073\u001b[0m │\n",
       "│ \u001b[32mS13004  \u001b[0m │  \u001b[1;36m330.943949\u001b[0m │\n",
       "│ \u001b[32mS13019  \u001b[0m │  \u001b[1;36m330.208616\u001b[0m │\n",
       "│ \u001b[2m…\u001b[0m        │           \u001b[2m…\u001b[0m │\n",
       "└──────────┴─────────────┘"
      ]
     },
     "execution_count": 35,
     "metadata": {},
     "output_type": "execute_result"
    }
   ],
   "source": [
    "df_033 = (\n",
    "    df_receipt\n",
    "    .group_by(\"store_cd\")\n",
    "    .aggregate(mean_amount=df_receipt[\"amount\"].mean())\n",
    "    .filter(_[\"mean_amount\"] >= 330)\n",
    ")\n",
    "df_033"
   ]
  },
  {
   "attachments": {},
   "cell_type": "markdown",
   "metadata": {},
   "source": [
    "---\n",
    "> P-034: レシート明細データ（df_receipt）に対し、顧客ID（customer_id）ごとに売上金額（amount）を合計して全顧客の平均を求めよ。ただし、顧客IDが\"Z\"から始まるものは非会員を表すため、除外して計算すること。"
   ]
  },
  {
   "cell_type": "code",
   "execution_count": 36,
   "metadata": {},
   "outputs": [
    {
     "data": {
      "text/plain": [
       "2547.742234529256"
      ]
     },
     "execution_count": 36,
     "metadata": {},
     "output_type": "execute_result"
    }
   ],
   "source": [
    "df_034 = (\n",
    "    df_receipt\n",
    "    .filter(~df_receipt[\"customer_id\"].startswith(\"Z\"))\n",
    "    .group_by(\"customer_id\")\n",
    "    .aggregate(sum_amount=df_receipt[\"amount\"].sum())\n",
    ")\n",
    "\n",
    "df_034[\"sum_amount\"].mean().execute()"
   ]
  },
  {
   "attachments": {},
   "cell_type": "markdown",
   "metadata": {},
   "source": [
    "---\n",
    "> P-035: レシート明細データ（df_receipt）に対し、顧客ID（customer_id）ごとに売上金額（amount）を合計して全顧客の平均を求め、平均以上に買い物をしている顧客を抽出し、10件表示せよ。ただし、顧客IDが\"Z\"から始まるものは非会員を表すため、除外して計算すること。"
   ]
  },
  {
   "cell_type": "code",
   "execution_count": 37,
   "metadata": {},
   "outputs": [
    {
     "data": {
      "text/html": [
       "<pre style=\"white-space:pre;overflow-x:auto;line-height:normal;font-family:Menlo,'DejaVu Sans Mono',consolas,'Courier New',monospace\">┏━━━━━━━━━━━━━━━━┳━━━━━━━━━━━━┓\n",
       "┃<span style=\"font-weight: bold\"> customer_id    </span>┃<span style=\"font-weight: bold\"> sum_amount </span>┃\n",
       "┡━━━━━━━━━━━━━━━━╇━━━━━━━━━━━━┩\n",
       "│ <span style=\"color: #7f7f7f; text-decoration-color: #7f7f7f\">string</span>         │ <span style=\"color: #7f7f7f; text-decoration-color: #7f7f7f\">int64</span>      │\n",
       "├────────────────┼────────────┤\n",
       "│ <span style=\"color: #008000; text-decoration-color: #008000\">CS001115000010</span> │       <span style=\"color: #008080; text-decoration-color: #008080; font-weight: bold\">3044</span> │\n",
       "│ <span style=\"color: #008000; text-decoration-color: #008000\">CS001205000006</span> │       <span style=\"color: #008080; text-decoration-color: #008080; font-weight: bold\">3337</span> │\n",
       "│ <span style=\"color: #008000; text-decoration-color: #008000\">CS001214000009</span> │       <span style=\"color: #008080; text-decoration-color: #008080; font-weight: bold\">4685</span> │\n",
       "│ <span style=\"color: #008000; text-decoration-color: #008000\">CS001214000017</span> │       <span style=\"color: #008080; text-decoration-color: #008080; font-weight: bold\">4132</span> │\n",
       "│ <span style=\"color: #008000; text-decoration-color: #008000\">CS001214000052</span> │       <span style=\"color: #008080; text-decoration-color: #008080; font-weight: bold\">5639</span> │\n",
       "│ <span style=\"color: #008000; text-decoration-color: #008000\">CS001215000040</span> │       <span style=\"color: #008080; text-decoration-color: #008080; font-weight: bold\">3496</span> │\n",
       "│ <span style=\"color: #008000; text-decoration-color: #008000\">CS001304000006</span> │       <span style=\"color: #008080; text-decoration-color: #008080; font-weight: bold\">3726</span> │\n",
       "│ <span style=\"color: #008000; text-decoration-color: #008000\">CS001305000005</span> │       <span style=\"color: #008080; text-decoration-color: #008080; font-weight: bold\">3485</span> │\n",
       "│ <span style=\"color: #008000; text-decoration-color: #008000\">CS001305000011</span> │       <span style=\"color: #008080; text-decoration-color: #008080; font-weight: bold\">4370</span> │\n",
       "│ <span style=\"color: #008000; text-decoration-color: #008000\">CS001315000180</span> │       <span style=\"color: #008080; text-decoration-color: #008080; font-weight: bold\">3300</span> │\n",
       "└────────────────┴────────────┘\n",
       "</pre>\n"
      ],
      "text/plain": [
       "┏━━━━━━━━━━━━━━━━┳━━━━━━━━━━━━┓\n",
       "┃\u001b[1m \u001b[0m\u001b[1mcustomer_id\u001b[0m\u001b[1m   \u001b[0m\u001b[1m \u001b[0m┃\u001b[1m \u001b[0m\u001b[1msum_amount\u001b[0m\u001b[1m \u001b[0m┃\n",
       "┡━━━━━━━━━━━━━━━━╇━━━━━━━━━━━━┩\n",
       "│ \u001b[2mstring\u001b[0m         │ \u001b[2mint64\u001b[0m      │\n",
       "├────────────────┼────────────┤\n",
       "│ \u001b[32mCS001115000010\u001b[0m │       \u001b[1;36m3044\u001b[0m │\n",
       "│ \u001b[32mCS001205000006\u001b[0m │       \u001b[1;36m3337\u001b[0m │\n",
       "│ \u001b[32mCS001214000009\u001b[0m │       \u001b[1;36m4685\u001b[0m │\n",
       "│ \u001b[32mCS001214000017\u001b[0m │       \u001b[1;36m4132\u001b[0m │\n",
       "│ \u001b[32mCS001214000052\u001b[0m │       \u001b[1;36m5639\u001b[0m │\n",
       "│ \u001b[32mCS001215000040\u001b[0m │       \u001b[1;36m3496\u001b[0m │\n",
       "│ \u001b[32mCS001304000006\u001b[0m │       \u001b[1;36m3726\u001b[0m │\n",
       "│ \u001b[32mCS001305000005\u001b[0m │       \u001b[1;36m3485\u001b[0m │\n",
       "│ \u001b[32mCS001305000011\u001b[0m │       \u001b[1;36m4370\u001b[0m │\n",
       "│ \u001b[32mCS001315000180\u001b[0m │       \u001b[1;36m3300\u001b[0m │\n",
       "└────────────────┴────────────┘"
      ]
     },
     "execution_count": 37,
     "metadata": {},
     "output_type": "execute_result"
    }
   ],
   "source": [
    "df_035 = (\n",
    "    df_receipt\n",
    "    .filter(~df_receipt[\"customer_id\"].startswith(\"Z\"))\n",
    "    .group_by(\"customer_id\")\n",
    "    .aggregate(sum_amount=df_receipt[\"amount\"].sum())\n",
    "    .filter(_[\"sum_amount\"] >= _[\"sum_amount\"].mean())\n",
    "    .order_by(\"customer_id\")\n",
    ")\n",
    "\n",
    "df_035.head(10)"
   ]
  },
  {
   "attachments": {},
   "cell_type": "markdown",
   "metadata": {},
   "source": [
    "## DataFrameの結合"
   ]
  },
  {
   "attachments": {},
   "cell_type": "markdown",
   "metadata": {},
   "source": [
    "---\n",
    "> P-036: レシート明細データ（df_receipt）と店舗データ（df_store）を内部結合し、レシート明細データの全項目と店舗データの店舗名（store_name）を10件表示せよ。\n",
    "\n",
    "- 内部結合(inner):結合させる両方のDataFrameに存在する結合キー(on)で、一致する項目のみを抽出する結合方法\n",
    "- 左外部結合(left):結合させる両方のDataFrameに存在する結合キー(on)で、基準となるDataFrameを左とする。基準DataFrameはすべての行が出力され、結合されたDataFrameは結合キーの値が基準の結合キーと一致した行のみ出力される\n",
    "- 完全外部結合(outer):結合させる両方のDataFrameに存在する結合キー(on)で、基準となるDataFrameを左とする。基準のDataFrameおよび結合されたDataFrameのすべての行が出力される"
   ]
  },
  {
   "cell_type": "code",
   "execution_count": 38,
   "metadata": {},
   "outputs": [
    {
     "data": {
      "text/html": [
       "<pre style=\"white-space:pre;overflow-x:auto;line-height:normal;font-family:Menlo,'DejaVu Sans Mono',consolas,'Courier New',monospace\">┏━━━━━━━━━━━┳━━━━━━━━━━━━━┳━━━━━━━━━━┳━━━━━━━━━━━━┳━━━━━━━━━━━━━━━━┳━━━━━━━━━━━━━━━━┳━━━━━━━━━━━━┳━━━━━━━━━━┳━━━━━━━━┳━━━━━━━━━━━━┓\n",
       "┃<span style=\"font-weight: bold\"> sales_ymd </span>┃<span style=\"font-weight: bold\"> sales_epoch </span>┃<span style=\"font-weight: bold\"> store_cd </span>┃<span style=\"font-weight: bold\"> receipt_no </span>┃<span style=\"font-weight: bold\"> receipt_sub_no </span>┃<span style=\"font-weight: bold\"> customer_id    </span>┃<span style=\"font-weight: bold\"> product_cd </span>┃<span style=\"font-weight: bold\"> quantity </span>┃<span style=\"font-weight: bold\"> amount </span>┃<span style=\"font-weight: bold\"> store_name </span>┃\n",
       "┡━━━━━━━━━━━╇━━━━━━━━━━━━━╇━━━━━━━━━━╇━━━━━━━━━━━━╇━━━━━━━━━━━━━━━━╇━━━━━━━━━━━━━━━━╇━━━━━━━━━━━━╇━━━━━━━━━━╇━━━━━━━━╇━━━━━━━━━━━━┩\n",
       "│ <span style=\"color: #7f7f7f; text-decoration-color: #7f7f7f\">int64</span>     │ <span style=\"color: #7f7f7f; text-decoration-color: #7f7f7f\">int64</span>       │ <span style=\"color: #7f7f7f; text-decoration-color: #7f7f7f\">string</span>   │ <span style=\"color: #7f7f7f; text-decoration-color: #7f7f7f\">int64</span>      │ <span style=\"color: #7f7f7f; text-decoration-color: #7f7f7f\">int64</span>          │ <span style=\"color: #7f7f7f; text-decoration-color: #7f7f7f\">string</span>         │ <span style=\"color: #7f7f7f; text-decoration-color: #7f7f7f\">string</span>     │ <span style=\"color: #7f7f7f; text-decoration-color: #7f7f7f\">int64</span>    │ <span style=\"color: #7f7f7f; text-decoration-color: #7f7f7f\">int64</span>  │ <span style=\"color: #7f7f7f; text-decoration-color: #7f7f7f\">string</span>     │\n",
       "├───────────┼─────────────┼──────────┼────────────┼────────────────┼────────────────┼────────────┼──────────┼────────┼────────────┤\n",
       "│  <span style=\"color: #008080; text-decoration-color: #008080; font-weight: bold\">20181103</span> │  <span style=\"color: #008080; text-decoration-color: #008080; font-weight: bold\">1541203200</span> │ <span style=\"color: #008000; text-decoration-color: #008000\">S14006  </span> │        <span style=\"color: #008080; text-decoration-color: #008080; font-weight: bold\">112</span> │              <span style=\"color: #008080; text-decoration-color: #008080; font-weight: bold\">1</span> │ <span style=\"color: #008000; text-decoration-color: #008000\">CS006214000001</span> │ <span style=\"color: #008000; text-decoration-color: #008000\">P070305012</span> │        <span style=\"color: #008080; text-decoration-color: #008080; font-weight: bold\">1</span> │    <span style=\"color: #008080; text-decoration-color: #008080; font-weight: bold\">158</span> │ <span style=\"color: #008000; text-decoration-color: #008000\">葛が谷店  </span> │\n",
       "│  <span style=\"color: #008080; text-decoration-color: #008080; font-weight: bold\">20181118</span> │  <span style=\"color: #008080; text-decoration-color: #008080; font-weight: bold\">1542499200</span> │ <span style=\"color: #008000; text-decoration-color: #008000\">S13008  </span> │       <span style=\"color: #008080; text-decoration-color: #008080; font-weight: bold\">1132</span> │              <span style=\"color: #008080; text-decoration-color: #008080; font-weight: bold\">2</span> │ <span style=\"color: #008000; text-decoration-color: #008000\">CS008415000097</span> │ <span style=\"color: #008000; text-decoration-color: #008000\">P070701017</span> │        <span style=\"color: #008080; text-decoration-color: #008080; font-weight: bold\">1</span> │     <span style=\"color: #008080; text-decoration-color: #008080; font-weight: bold\">81</span> │ <span style=\"color: #008000; text-decoration-color: #008000\">成城店    </span> │\n",
       "│  <span style=\"color: #008080; text-decoration-color: #008080; font-weight: bold\">20170712</span> │  <span style=\"color: #008080; text-decoration-color: #008080; font-weight: bold\">1499817600</span> │ <span style=\"color: #008000; text-decoration-color: #008000\">S14028  </span> │       <span style=\"color: #008080; text-decoration-color: #008080; font-weight: bold\">1102</span> │              <span style=\"color: #008080; text-decoration-color: #008080; font-weight: bold\">1</span> │ <span style=\"color: #008000; text-decoration-color: #008000\">CS028414000014</span> │ <span style=\"color: #008000; text-decoration-color: #008000\">P060101005</span> │        <span style=\"color: #008080; text-decoration-color: #008080; font-weight: bold\">1</span> │    <span style=\"color: #008080; text-decoration-color: #008080; font-weight: bold\">170</span> │ <span style=\"color: #008000; text-decoration-color: #008000\">二ツ橋店  </span> │\n",
       "│  <span style=\"color: #008080; text-decoration-color: #008080; font-weight: bold\">20190205</span> │  <span style=\"color: #008080; text-decoration-color: #008080; font-weight: bold\">1549324800</span> │ <span style=\"color: #008000; text-decoration-color: #008000\">S14042  </span> │       <span style=\"color: #008080; text-decoration-color: #008080; font-weight: bold\">1132</span> │              <span style=\"color: #008080; text-decoration-color: #008080; font-weight: bold\">1</span> │ <span style=\"color: #008000; text-decoration-color: #008000\">ZZ000000000000</span> │ <span style=\"color: #008000; text-decoration-color: #008000\">P050301001</span> │        <span style=\"color: #008080; text-decoration-color: #008080; font-weight: bold\">1</span> │     <span style=\"color: #008080; text-decoration-color: #008080; font-weight: bold\">25</span> │ <span style=\"color: #008000; text-decoration-color: #008000\">新山下店  </span> │\n",
       "│  <span style=\"color: #008080; text-decoration-color: #008080; font-weight: bold\">20180821</span> │  <span style=\"color: #008080; text-decoration-color: #008080; font-weight: bold\">1534809600</span> │ <span style=\"color: #008000; text-decoration-color: #008000\">S14025  </span> │       <span style=\"color: #008080; text-decoration-color: #008080; font-weight: bold\">1102</span> │              <span style=\"color: #008080; text-decoration-color: #008080; font-weight: bold\">2</span> │ <span style=\"color: #008000; text-decoration-color: #008000\">CS025415000050</span> │ <span style=\"color: #008000; text-decoration-color: #008000\">P060102007</span> │        <span style=\"color: #008080; text-decoration-color: #008080; font-weight: bold\">1</span> │     <span style=\"color: #008080; text-decoration-color: #008080; font-weight: bold\">90</span> │ <span style=\"color: #008000; text-decoration-color: #008000\">大和店    </span> │\n",
       "│  <span style=\"color: #008080; text-decoration-color: #008080; font-weight: bold\">20190605</span> │  <span style=\"color: #008080; text-decoration-color: #008080; font-weight: bold\">1559692800</span> │ <span style=\"color: #008000; text-decoration-color: #008000\">S13003  </span> │       <span style=\"color: #008080; text-decoration-color: #008080; font-weight: bold\">1112</span> │              <span style=\"color: #008080; text-decoration-color: #008080; font-weight: bold\">1</span> │ <span style=\"color: #008000; text-decoration-color: #008000\">CS003515000195</span> │ <span style=\"color: #008000; text-decoration-color: #008000\">P050102002</span> │        <span style=\"color: #008080; text-decoration-color: #008080; font-weight: bold\">1</span> │    <span style=\"color: #008080; text-decoration-color: #008080; font-weight: bold\">138</span> │ <span style=\"color: #008000; text-decoration-color: #008000\">狛江店    </span> │\n",
       "│  <span style=\"color: #008080; text-decoration-color: #008080; font-weight: bold\">20181205</span> │  <span style=\"color: #008080; text-decoration-color: #008080; font-weight: bold\">1543968000</span> │ <span style=\"color: #008000; text-decoration-color: #008000\">S14024  </span> │       <span style=\"color: #008080; text-decoration-color: #008080; font-weight: bold\">1102</span> │              <span style=\"color: #008080; text-decoration-color: #008080; font-weight: bold\">2</span> │ <span style=\"color: #008000; text-decoration-color: #008000\">CS024514000042</span> │ <span style=\"color: #008000; text-decoration-color: #008000\">P080101005</span> │        <span style=\"color: #008080; text-decoration-color: #008080; font-weight: bold\">1</span> │     <span style=\"color: #008080; text-decoration-color: #008080; font-weight: bold\">30</span> │ <span style=\"color: #008000; text-decoration-color: #008000\">三田店    </span> │\n",
       "│  <span style=\"color: #008080; text-decoration-color: #008080; font-weight: bold\">20190922</span> │  <span style=\"color: #008080; text-decoration-color: #008080; font-weight: bold\">1569110400</span> │ <span style=\"color: #008000; text-decoration-color: #008000\">S14040  </span> │       <span style=\"color: #008080; text-decoration-color: #008080; font-weight: bold\">1102</span> │              <span style=\"color: #008080; text-decoration-color: #008080; font-weight: bold\">1</span> │ <span style=\"color: #008000; text-decoration-color: #008000\">CS040415000178</span> │ <span style=\"color: #008000; text-decoration-color: #008000\">P070501004</span> │        <span style=\"color: #008080; text-decoration-color: #008080; font-weight: bold\">1</span> │    <span style=\"color: #008080; text-decoration-color: #008080; font-weight: bold\">128</span> │ <span style=\"color: #008000; text-decoration-color: #008000\">長津田店  </span> │\n",
       "│  <span style=\"color: #008080; text-decoration-color: #008080; font-weight: bold\">20170504</span> │  <span style=\"color: #008080; text-decoration-color: #008080; font-weight: bold\">1493856000</span> │ <span style=\"color: #008000; text-decoration-color: #008000\">S13020  </span> │       <span style=\"color: #008080; text-decoration-color: #008080; font-weight: bold\">1112</span> │              <span style=\"color: #008080; text-decoration-color: #008080; font-weight: bold\">2</span> │ <span style=\"color: #008000; text-decoration-color: #008000\">ZZ000000000000</span> │ <span style=\"color: #008000; text-decoration-color: #008000\">P071302010</span> │        <span style=\"color: #008080; text-decoration-color: #008080; font-weight: bold\">1</span> │    <span style=\"color: #008080; text-decoration-color: #008080; font-weight: bold\">770</span> │ <span style=\"color: #008000; text-decoration-color: #008000\">十条仲原店</span> │\n",
       "│  <span style=\"color: #008080; text-decoration-color: #008080; font-weight: bold\">20191010</span> │  <span style=\"color: #008080; text-decoration-color: #008080; font-weight: bold\">1570665600</span> │ <span style=\"color: #008000; text-decoration-color: #008000\">S14027  </span> │       <span style=\"color: #008080; text-decoration-color: #008080; font-weight: bold\">1102</span> │              <span style=\"color: #008080; text-decoration-color: #008080; font-weight: bold\">1</span> │ <span style=\"color: #008000; text-decoration-color: #008000\">CS027514000015</span> │ <span style=\"color: #008000; text-decoration-color: #008000\">P071101003</span> │        <span style=\"color: #008080; text-decoration-color: #008080; font-weight: bold\">1</span> │    <span style=\"color: #008080; text-decoration-color: #008080; font-weight: bold\">680</span> │ <span style=\"color: #008000; text-decoration-color: #008000\">南藤沢店  </span> │\n",
       "└───────────┴─────────────┴──────────┴────────────┴────────────────┴────────────────┴────────────┴──────────┴────────┴────────────┘\n",
       "</pre>\n"
      ],
      "text/plain": [
       "┏━━━━━━━━━━━┳━━━━━━━━━━━━━┳━━━━━━━━━━┳━━━━━━━━━━━━┳━━━━━━━━━━━━━━━━┳━━━━━━━━━━━━━━━━┳━━━━━━━━━━━━┳━━━━━━━━━━┳━━━━━━━━┳━━━━━━━━━━━━┓\n",
       "┃\u001b[1m \u001b[0m\u001b[1msales_ymd\u001b[0m\u001b[1m \u001b[0m┃\u001b[1m \u001b[0m\u001b[1msales_epoch\u001b[0m\u001b[1m \u001b[0m┃\u001b[1m \u001b[0m\u001b[1mstore_cd\u001b[0m\u001b[1m \u001b[0m┃\u001b[1m \u001b[0m\u001b[1mreceipt_no\u001b[0m\u001b[1m \u001b[0m┃\u001b[1m \u001b[0m\u001b[1mreceipt_sub_no\u001b[0m\u001b[1m \u001b[0m┃\u001b[1m \u001b[0m\u001b[1mcustomer_id\u001b[0m\u001b[1m   \u001b[0m\u001b[1m \u001b[0m┃\u001b[1m \u001b[0m\u001b[1mproduct_cd\u001b[0m\u001b[1m \u001b[0m┃\u001b[1m \u001b[0m\u001b[1mquantity\u001b[0m\u001b[1m \u001b[0m┃\u001b[1m \u001b[0m\u001b[1mamount\u001b[0m\u001b[1m \u001b[0m┃\u001b[1m \u001b[0m\u001b[1mstore_name\u001b[0m\u001b[1m \u001b[0m┃\n",
       "┡━━━━━━━━━━━╇━━━━━━━━━━━━━╇━━━━━━━━━━╇━━━━━━━━━━━━╇━━━━━━━━━━━━━━━━╇━━━━━━━━━━━━━━━━╇━━━━━━━━━━━━╇━━━━━━━━━━╇━━━━━━━━╇━━━━━━━━━━━━┩\n",
       "│ \u001b[2mint64\u001b[0m     │ \u001b[2mint64\u001b[0m       │ \u001b[2mstring\u001b[0m   │ \u001b[2mint64\u001b[0m      │ \u001b[2mint64\u001b[0m          │ \u001b[2mstring\u001b[0m         │ \u001b[2mstring\u001b[0m     │ \u001b[2mint64\u001b[0m    │ \u001b[2mint64\u001b[0m  │ \u001b[2mstring\u001b[0m     │\n",
       "├───────────┼─────────────┼──────────┼────────────┼────────────────┼────────────────┼────────────┼──────────┼────────┼────────────┤\n",
       "│  \u001b[1;36m20181103\u001b[0m │  \u001b[1;36m1541203200\u001b[0m │ \u001b[32mS14006  \u001b[0m │        \u001b[1;36m112\u001b[0m │              \u001b[1;36m1\u001b[0m │ \u001b[32mCS006214000001\u001b[0m │ \u001b[32mP070305012\u001b[0m │        \u001b[1;36m1\u001b[0m │    \u001b[1;36m158\u001b[0m │ \u001b[32m葛が谷店  \u001b[0m │\n",
       "│  \u001b[1;36m20181118\u001b[0m │  \u001b[1;36m1542499200\u001b[0m │ \u001b[32mS13008  \u001b[0m │       \u001b[1;36m1132\u001b[0m │              \u001b[1;36m2\u001b[0m │ \u001b[32mCS008415000097\u001b[0m │ \u001b[32mP070701017\u001b[0m │        \u001b[1;36m1\u001b[0m │     \u001b[1;36m81\u001b[0m │ \u001b[32m成城店    \u001b[0m │\n",
       "│  \u001b[1;36m20170712\u001b[0m │  \u001b[1;36m1499817600\u001b[0m │ \u001b[32mS14028  \u001b[0m │       \u001b[1;36m1102\u001b[0m │              \u001b[1;36m1\u001b[0m │ \u001b[32mCS028414000014\u001b[0m │ \u001b[32mP060101005\u001b[0m │        \u001b[1;36m1\u001b[0m │    \u001b[1;36m170\u001b[0m │ \u001b[32m二ツ橋店  \u001b[0m │\n",
       "│  \u001b[1;36m20190205\u001b[0m │  \u001b[1;36m1549324800\u001b[0m │ \u001b[32mS14042  \u001b[0m │       \u001b[1;36m1132\u001b[0m │              \u001b[1;36m1\u001b[0m │ \u001b[32mZZ000000000000\u001b[0m │ \u001b[32mP050301001\u001b[0m │        \u001b[1;36m1\u001b[0m │     \u001b[1;36m25\u001b[0m │ \u001b[32m新山下店  \u001b[0m │\n",
       "│  \u001b[1;36m20180821\u001b[0m │  \u001b[1;36m1534809600\u001b[0m │ \u001b[32mS14025  \u001b[0m │       \u001b[1;36m1102\u001b[0m │              \u001b[1;36m2\u001b[0m │ \u001b[32mCS025415000050\u001b[0m │ \u001b[32mP060102007\u001b[0m │        \u001b[1;36m1\u001b[0m │     \u001b[1;36m90\u001b[0m │ \u001b[32m大和店    \u001b[0m │\n",
       "│  \u001b[1;36m20190605\u001b[0m │  \u001b[1;36m1559692800\u001b[0m │ \u001b[32mS13003  \u001b[0m │       \u001b[1;36m1112\u001b[0m │              \u001b[1;36m1\u001b[0m │ \u001b[32mCS003515000195\u001b[0m │ \u001b[32mP050102002\u001b[0m │        \u001b[1;36m1\u001b[0m │    \u001b[1;36m138\u001b[0m │ \u001b[32m狛江店    \u001b[0m │\n",
       "│  \u001b[1;36m20181205\u001b[0m │  \u001b[1;36m1543968000\u001b[0m │ \u001b[32mS14024  \u001b[0m │       \u001b[1;36m1102\u001b[0m │              \u001b[1;36m2\u001b[0m │ \u001b[32mCS024514000042\u001b[0m │ \u001b[32mP080101005\u001b[0m │        \u001b[1;36m1\u001b[0m │     \u001b[1;36m30\u001b[0m │ \u001b[32m三田店    \u001b[0m │\n",
       "│  \u001b[1;36m20190922\u001b[0m │  \u001b[1;36m1569110400\u001b[0m │ \u001b[32mS14040  \u001b[0m │       \u001b[1;36m1102\u001b[0m │              \u001b[1;36m1\u001b[0m │ \u001b[32mCS040415000178\u001b[0m │ \u001b[32mP070501004\u001b[0m │        \u001b[1;36m1\u001b[0m │    \u001b[1;36m128\u001b[0m │ \u001b[32m長津田店  \u001b[0m │\n",
       "│  \u001b[1;36m20170504\u001b[0m │  \u001b[1;36m1493856000\u001b[0m │ \u001b[32mS13020  \u001b[0m │       \u001b[1;36m1112\u001b[0m │              \u001b[1;36m2\u001b[0m │ \u001b[32mZZ000000000000\u001b[0m │ \u001b[32mP071302010\u001b[0m │        \u001b[1;36m1\u001b[0m │    \u001b[1;36m770\u001b[0m │ \u001b[32m十条仲原店\u001b[0m │\n",
       "│  \u001b[1;36m20191010\u001b[0m │  \u001b[1;36m1570665600\u001b[0m │ \u001b[32mS14027  \u001b[0m │       \u001b[1;36m1102\u001b[0m │              \u001b[1;36m1\u001b[0m │ \u001b[32mCS027514000015\u001b[0m │ \u001b[32mP071101003\u001b[0m │        \u001b[1;36m1\u001b[0m │    \u001b[1;36m680\u001b[0m │ \u001b[32m南藤沢店  \u001b[0m │\n",
       "└───────────┴─────────────┴──────────┴────────────┴────────────────┴────────────────┴────────────┴──────────┴────────┴────────────┘"
      ]
     },
     "execution_count": 38,
     "metadata": {},
     "output_type": "execute_result"
    }
   ],
   "source": [
    "df_036 = (\n",
    "    df_receipt\n",
    "    .join(\n",
    "        df_store.select(\"store_cd\", \"store_name\"),\n",
    "        predicates=\"store_cd\",\n",
    "        how=\"inner\"\n",
    "    )\n",
    ")\n",
    "\n",
    "df_036.head(10)"
   ]
  },
  {
   "attachments": {},
   "cell_type": "markdown",
   "metadata": {},
   "source": [
    "---\n",
    "> P-037: 商品データ（df_product）とカテゴリデータ（df_category）を内部結合し、商品データの全項目とカテゴリデータのカテゴリ小区分名（category_small_name）を10件表示せよ。"
   ]
  },
  {
   "cell_type": "code",
   "execution_count": 39,
   "metadata": {},
   "outputs": [
    {
     "data": {
      "text/html": [
       "<pre style=\"white-space:pre;overflow-x:auto;line-height:normal;font-family:Menlo,'DejaVu Sans Mono',consolas,'Courier New',monospace\">┏━━━━━━━━━━━━┳━━━━━━━━━━━━━━━━━━━┳━━━━━━━━━━━━━━━━━━━━┳━━━━━━━━━━━━━━━━━━━┳━━━━━━━━━━━━┳━━━━━━━━━━━┳━━━━━━━━━━━━━━━━━━━━━┓\n",
       "┃<span style=\"font-weight: bold\"> product_cd </span>┃<span style=\"font-weight: bold\"> category_major_cd </span>┃<span style=\"font-weight: bold\"> category_medium_cd </span>┃<span style=\"font-weight: bold\"> category_small_cd </span>┃<span style=\"font-weight: bold\"> unit_price </span>┃<span style=\"font-weight: bold\"> unit_cost </span>┃<span style=\"font-weight: bold\"> category_small_name </span>┃\n",
       "┡━━━━━━━━━━━━╇━━━━━━━━━━━━━━━━━━━╇━━━━━━━━━━━━━━━━━━━━╇━━━━━━━━━━━━━━━━━━━╇━━━━━━━━━━━━╇━━━━━━━━━━━╇━━━━━━━━━━━━━━━━━━━━━┩\n",
       "│ <span style=\"color: #7f7f7f; text-decoration-color: #7f7f7f\">string</span>     │ <span style=\"color: #7f7f7f; text-decoration-color: #7f7f7f\">string</span>            │ <span style=\"color: #7f7f7f; text-decoration-color: #7f7f7f\">string</span>             │ <span style=\"color: #7f7f7f; text-decoration-color: #7f7f7f\">string</span>            │ <span style=\"color: #7f7f7f; text-decoration-color: #7f7f7f\">int64</span>      │ <span style=\"color: #7f7f7f; text-decoration-color: #7f7f7f\">int64</span>     │ <span style=\"color: #7f7f7f; text-decoration-color: #7f7f7f\">string</span>              │\n",
       "├────────────┼───────────────────┼────────────────────┼───────────────────┼────────────┼───────────┼─────────────────────┤\n",
       "│ <span style=\"color: #008000; text-decoration-color: #008000\">P040101001</span> │ <span style=\"color: #008000; text-decoration-color: #008000\">04               </span> │ <span style=\"color: #008000; text-decoration-color: #008000\">0401              </span> │ <span style=\"color: #008000; text-decoration-color: #008000\">040101           </span> │        <span style=\"color: #008080; text-decoration-color: #008080; font-weight: bold\">198</span> │       <span style=\"color: #008080; text-decoration-color: #008080; font-weight: bold\">149</span> │ <span style=\"color: #008000; text-decoration-color: #008000\">弁当類             </span> │\n",
       "│ <span style=\"color: #008000; text-decoration-color: #008000\">P040101002</span> │ <span style=\"color: #008000; text-decoration-color: #008000\">04               </span> │ <span style=\"color: #008000; text-decoration-color: #008000\">0401              </span> │ <span style=\"color: #008000; text-decoration-color: #008000\">040101           </span> │        <span style=\"color: #008080; text-decoration-color: #008080; font-weight: bold\">218</span> │       <span style=\"color: #008080; text-decoration-color: #008080; font-weight: bold\">164</span> │ <span style=\"color: #008000; text-decoration-color: #008000\">弁当類             </span> │\n",
       "│ <span style=\"color: #008000; text-decoration-color: #008000\">P040101003</span> │ <span style=\"color: #008000; text-decoration-color: #008000\">04               </span> │ <span style=\"color: #008000; text-decoration-color: #008000\">0401              </span> │ <span style=\"color: #008000; text-decoration-color: #008000\">040101           </span> │        <span style=\"color: #008080; text-decoration-color: #008080; font-weight: bold\">230</span> │       <span style=\"color: #008080; text-decoration-color: #008080; font-weight: bold\">173</span> │ <span style=\"color: #008000; text-decoration-color: #008000\">弁当類             </span> │\n",
       "│ <span style=\"color: #008000; text-decoration-color: #008000\">P040101004</span> │ <span style=\"color: #008000; text-decoration-color: #008000\">04               </span> │ <span style=\"color: #008000; text-decoration-color: #008000\">0401              </span> │ <span style=\"color: #008000; text-decoration-color: #008000\">040101           </span> │        <span style=\"color: #008080; text-decoration-color: #008080; font-weight: bold\">248</span> │       <span style=\"color: #008080; text-decoration-color: #008080; font-weight: bold\">186</span> │ <span style=\"color: #008000; text-decoration-color: #008000\">弁当類             </span> │\n",
       "│ <span style=\"color: #008000; text-decoration-color: #008000\">P040101005</span> │ <span style=\"color: #008000; text-decoration-color: #008000\">04               </span> │ <span style=\"color: #008000; text-decoration-color: #008000\">0401              </span> │ <span style=\"color: #008000; text-decoration-color: #008000\">040101           </span> │        <span style=\"color: #008080; text-decoration-color: #008080; font-weight: bold\">268</span> │       <span style=\"color: #008080; text-decoration-color: #008080; font-weight: bold\">201</span> │ <span style=\"color: #008000; text-decoration-color: #008000\">弁当類             </span> │\n",
       "│ <span style=\"color: #008000; text-decoration-color: #008000\">P040101006</span> │ <span style=\"color: #008000; text-decoration-color: #008000\">04               </span> │ <span style=\"color: #008000; text-decoration-color: #008000\">0401              </span> │ <span style=\"color: #008000; text-decoration-color: #008000\">040101           </span> │        <span style=\"color: #008080; text-decoration-color: #008080; font-weight: bold\">298</span> │       <span style=\"color: #008080; text-decoration-color: #008080; font-weight: bold\">224</span> │ <span style=\"color: #008000; text-decoration-color: #008000\">弁当類             </span> │\n",
       "│ <span style=\"color: #008000; text-decoration-color: #008000\">P040101007</span> │ <span style=\"color: #008000; text-decoration-color: #008000\">04               </span> │ <span style=\"color: #008000; text-decoration-color: #008000\">0401              </span> │ <span style=\"color: #008000; text-decoration-color: #008000\">040101           </span> │        <span style=\"color: #008080; text-decoration-color: #008080; font-weight: bold\">338</span> │       <span style=\"color: #008080; text-decoration-color: #008080; font-weight: bold\">254</span> │ <span style=\"color: #008000; text-decoration-color: #008000\">弁当類             </span> │\n",
       "│ <span style=\"color: #008000; text-decoration-color: #008000\">P040101008</span> │ <span style=\"color: #008000; text-decoration-color: #008000\">04               </span> │ <span style=\"color: #008000; text-decoration-color: #008000\">0401              </span> │ <span style=\"color: #008000; text-decoration-color: #008000\">040101           </span> │        <span style=\"color: #008080; text-decoration-color: #008080; font-weight: bold\">420</span> │       <span style=\"color: #008080; text-decoration-color: #008080; font-weight: bold\">315</span> │ <span style=\"color: #008000; text-decoration-color: #008000\">弁当類             </span> │\n",
       "│ <span style=\"color: #008000; text-decoration-color: #008000\">P040101009</span> │ <span style=\"color: #008000; text-decoration-color: #008000\">04               </span> │ <span style=\"color: #008000; text-decoration-color: #008000\">0401              </span> │ <span style=\"color: #008000; text-decoration-color: #008000\">040101           </span> │        <span style=\"color: #008080; text-decoration-color: #008080; font-weight: bold\">498</span> │       <span style=\"color: #008080; text-decoration-color: #008080; font-weight: bold\">374</span> │ <span style=\"color: #008000; text-decoration-color: #008000\">弁当類             </span> │\n",
       "│ <span style=\"color: #008000; text-decoration-color: #008000\">P040101010</span> │ <span style=\"color: #008000; text-decoration-color: #008000\">04               </span> │ <span style=\"color: #008000; text-decoration-color: #008000\">0401              </span> │ <span style=\"color: #008000; text-decoration-color: #008000\">040101           </span> │        <span style=\"color: #008080; text-decoration-color: #008080; font-weight: bold\">580</span> │       <span style=\"color: #008080; text-decoration-color: #008080; font-weight: bold\">435</span> │ <span style=\"color: #008000; text-decoration-color: #008000\">弁当類             </span> │\n",
       "└────────────┴───────────────────┴────────────────────┴───────────────────┴────────────┴───────────┴─────────────────────┘\n",
       "</pre>\n"
      ],
      "text/plain": [
       "┏━━━━━━━━━━━━┳━━━━━━━━━━━━━━━━━━━┳━━━━━━━━━━━━━━━━━━━━┳━━━━━━━━━━━━━━━━━━━┳━━━━━━━━━━━━┳━━━━━━━━━━━┳━━━━━━━━━━━━━━━━━━━━━┓\n",
       "┃\u001b[1m \u001b[0m\u001b[1mproduct_cd\u001b[0m\u001b[1m \u001b[0m┃\u001b[1m \u001b[0m\u001b[1mcategory_major_cd\u001b[0m\u001b[1m \u001b[0m┃\u001b[1m \u001b[0m\u001b[1mcategory_medium_cd\u001b[0m\u001b[1m \u001b[0m┃\u001b[1m \u001b[0m\u001b[1mcategory_small_cd\u001b[0m\u001b[1m \u001b[0m┃\u001b[1m \u001b[0m\u001b[1munit_price\u001b[0m\u001b[1m \u001b[0m┃\u001b[1m \u001b[0m\u001b[1munit_cost\u001b[0m\u001b[1m \u001b[0m┃\u001b[1m \u001b[0m\u001b[1mcategory_small_name\u001b[0m\u001b[1m \u001b[0m┃\n",
       "┡━━━━━━━━━━━━╇━━━━━━━━━━━━━━━━━━━╇━━━━━━━━━━━━━━━━━━━━╇━━━━━━━━━━━━━━━━━━━╇━━━━━━━━━━━━╇━━━━━━━━━━━╇━━━━━━━━━━━━━━━━━━━━━┩\n",
       "│ \u001b[2mstring\u001b[0m     │ \u001b[2mstring\u001b[0m            │ \u001b[2mstring\u001b[0m             │ \u001b[2mstring\u001b[0m            │ \u001b[2mint64\u001b[0m      │ \u001b[2mint64\u001b[0m     │ \u001b[2mstring\u001b[0m              │\n",
       "├────────────┼───────────────────┼────────────────────┼───────────────────┼────────────┼───────────┼─────────────────────┤\n",
       "│ \u001b[32mP040101001\u001b[0m │ \u001b[32m04               \u001b[0m │ \u001b[32m0401              \u001b[0m │ \u001b[32m040101           \u001b[0m │        \u001b[1;36m198\u001b[0m │       \u001b[1;36m149\u001b[0m │ \u001b[32m弁当類             \u001b[0m │\n",
       "│ \u001b[32mP040101002\u001b[0m │ \u001b[32m04               \u001b[0m │ \u001b[32m0401              \u001b[0m │ \u001b[32m040101           \u001b[0m │        \u001b[1;36m218\u001b[0m │       \u001b[1;36m164\u001b[0m │ \u001b[32m弁当類             \u001b[0m │\n",
       "│ \u001b[32mP040101003\u001b[0m │ \u001b[32m04               \u001b[0m │ \u001b[32m0401              \u001b[0m │ \u001b[32m040101           \u001b[0m │        \u001b[1;36m230\u001b[0m │       \u001b[1;36m173\u001b[0m │ \u001b[32m弁当類             \u001b[0m │\n",
       "│ \u001b[32mP040101004\u001b[0m │ \u001b[32m04               \u001b[0m │ \u001b[32m0401              \u001b[0m │ \u001b[32m040101           \u001b[0m │        \u001b[1;36m248\u001b[0m │       \u001b[1;36m186\u001b[0m │ \u001b[32m弁当類             \u001b[0m │\n",
       "│ \u001b[32mP040101005\u001b[0m │ \u001b[32m04               \u001b[0m │ \u001b[32m0401              \u001b[0m │ \u001b[32m040101           \u001b[0m │        \u001b[1;36m268\u001b[0m │       \u001b[1;36m201\u001b[0m │ \u001b[32m弁当類             \u001b[0m │\n",
       "│ \u001b[32mP040101006\u001b[0m │ \u001b[32m04               \u001b[0m │ \u001b[32m0401              \u001b[0m │ \u001b[32m040101           \u001b[0m │        \u001b[1;36m298\u001b[0m │       \u001b[1;36m224\u001b[0m │ \u001b[32m弁当類             \u001b[0m │\n",
       "│ \u001b[32mP040101007\u001b[0m │ \u001b[32m04               \u001b[0m │ \u001b[32m0401              \u001b[0m │ \u001b[32m040101           \u001b[0m │        \u001b[1;36m338\u001b[0m │       \u001b[1;36m254\u001b[0m │ \u001b[32m弁当類             \u001b[0m │\n",
       "│ \u001b[32mP040101008\u001b[0m │ \u001b[32m04               \u001b[0m │ \u001b[32m0401              \u001b[0m │ \u001b[32m040101           \u001b[0m │        \u001b[1;36m420\u001b[0m │       \u001b[1;36m315\u001b[0m │ \u001b[32m弁当類             \u001b[0m │\n",
       "│ \u001b[32mP040101009\u001b[0m │ \u001b[32m04               \u001b[0m │ \u001b[32m0401              \u001b[0m │ \u001b[32m040101           \u001b[0m │        \u001b[1;36m498\u001b[0m │       \u001b[1;36m374\u001b[0m │ \u001b[32m弁当類             \u001b[0m │\n",
       "│ \u001b[32mP040101010\u001b[0m │ \u001b[32m04               \u001b[0m │ \u001b[32m0401              \u001b[0m │ \u001b[32m040101           \u001b[0m │        \u001b[1;36m580\u001b[0m │       \u001b[1;36m435\u001b[0m │ \u001b[32m弁当類             \u001b[0m │\n",
       "└────────────┴───────────────────┴────────────────────┴───────────────────┴────────────┴───────────┴─────────────────────┘"
      ]
     },
     "execution_count": 39,
     "metadata": {},
     "output_type": "execute_result"
    }
   ],
   "source": [
    "df_037 = (\n",
    "    df_product\n",
    "    .join(\n",
    "        df_category.select(\"category_small_cd\", \"category_small_name\"),\n",
    "        predicates=\"category_small_cd\",\n",
    "        how=\"inner\"\n",
    "    )\n",
    ")\n",
    "\n",
    "df_037.head(10)"
   ]
  },
  {
   "attachments": {},
   "cell_type": "markdown",
   "metadata": {},
   "source": [
    "---\n",
    "> P-038: 顧客データ（df_customer）とレシート明細データ（df_receipt）から、顧客ごとの売上金額合計を求め、10件表示せよ。ただし、売上実績がない顧客については売上金額を0として表示させること。また、顧客は性別コード（gender_cd）が女性（1）であるものを対象とし、非会員（顧客IDが\"Z\"から始まるもの）は除外すること。"
   ]
  },
  {
   "cell_type": "code",
   "execution_count": 40,
   "metadata": {},
   "outputs": [
    {
     "data": {
      "text/html": [
       "<pre style=\"white-space:pre;overflow-x:auto;line-height:normal;font-family:Menlo,'DejaVu Sans Mono',consolas,'Courier New',monospace\">┏━━━━━━━━━━━━━━━━┳━━━━━━━━━━━━┓\n",
       "┃<span style=\"font-weight: bold\"> customer_id    </span>┃<span style=\"font-weight: bold\"> Coalesce() </span>┃\n",
       "┡━━━━━━━━━━━━━━━━╇━━━━━━━━━━━━┩\n",
       "│ <span style=\"color: #7f7f7f; text-decoration-color: #7f7f7f\">string</span>         │ <span style=\"color: #7f7f7f; text-decoration-color: #7f7f7f\">int64</span>      │\n",
       "├────────────────┼────────────┤\n",
       "│ <span style=\"color: #008000; text-decoration-color: #008000\">CS026515000042</span> │       <span style=\"color: #008080; text-decoration-color: #008080; font-weight: bold\">6866</span> │\n",
       "│ <span style=\"color: #008000; text-decoration-color: #008000\">CS005513000061</span> │       <span style=\"color: #008080; text-decoration-color: #008080; font-weight: bold\">2598</span> │\n",
       "│ <span style=\"color: #008000; text-decoration-color: #008000\">CS022414000065</span> │       <span style=\"color: #008080; text-decoration-color: #008080; font-weight: bold\">4960</span> │\n",
       "│ <span style=\"color: #008000; text-decoration-color: #008000\">CS004413000039</span> │       <span style=\"color: #008080; text-decoration-color: #008080; font-weight: bold\">2348</span> │\n",
       "│ <span style=\"color: #008000; text-decoration-color: #008000\">CS030415000197</span> │      <span style=\"color: #008080; text-decoration-color: #008080; font-weight: bold\">11972</span> │\n",
       "│ <span style=\"color: #008000; text-decoration-color: #008000\">CS004515000723</span> │        <span style=\"color: #008080; text-decoration-color: #008080; font-weight: bold\">809</span> │\n",
       "│ <span style=\"color: #008000; text-decoration-color: #008000\">CS008414000013</span> │       <span style=\"color: #008080; text-decoration-color: #008080; font-weight: bold\">2523</span> │\n",
       "│ <span style=\"color: #008000; text-decoration-color: #008000\">CS032215000073</span> │       <span style=\"color: #008080; text-decoration-color: #008080; font-weight: bold\">5520</span> │\n",
       "│ <span style=\"color: #008000; text-decoration-color: #008000\">CS031415000086</span> │       <span style=\"color: #008080; text-decoration-color: #008080; font-weight: bold\">4535</span> │\n",
       "│ <span style=\"color: #008000; text-decoration-color: #008000\">CS040515000174</span> │       <span style=\"color: #008080; text-decoration-color: #008080; font-weight: bold\">4301</span> │\n",
       "└────────────────┴────────────┘\n",
       "</pre>\n"
      ],
      "text/plain": [
       "┏━━━━━━━━━━━━━━━━┳━━━━━━━━━━━━┓\n",
       "┃\u001b[1m \u001b[0m\u001b[1mcustomer_id\u001b[0m\u001b[1m   \u001b[0m\u001b[1m \u001b[0m┃\u001b[1m \u001b[0m\u001b[1mCoalesce()\u001b[0m\u001b[1m \u001b[0m┃\n",
       "┡━━━━━━━━━━━━━━━━╇━━━━━━━━━━━━┩\n",
       "│ \u001b[2mstring\u001b[0m         │ \u001b[2mint64\u001b[0m      │\n",
       "├────────────────┼────────────┤\n",
       "│ \u001b[32mCS026515000042\u001b[0m │       \u001b[1;36m6866\u001b[0m │\n",
       "│ \u001b[32mCS005513000061\u001b[0m │       \u001b[1;36m2598\u001b[0m │\n",
       "│ \u001b[32mCS022414000065\u001b[0m │       \u001b[1;36m4960\u001b[0m │\n",
       "│ \u001b[32mCS004413000039\u001b[0m │       \u001b[1;36m2348\u001b[0m │\n",
       "│ \u001b[32mCS030415000197\u001b[0m │      \u001b[1;36m11972\u001b[0m │\n",
       "│ \u001b[32mCS004515000723\u001b[0m │        \u001b[1;36m809\u001b[0m │\n",
       "│ \u001b[32mCS008414000013\u001b[0m │       \u001b[1;36m2523\u001b[0m │\n",
       "│ \u001b[32mCS032215000073\u001b[0m │       \u001b[1;36m5520\u001b[0m │\n",
       "│ \u001b[32mCS031415000086\u001b[0m │       \u001b[1;36m4535\u001b[0m │\n",
       "│ \u001b[32mCS040515000174\u001b[0m │       \u001b[1;36m4301\u001b[0m │\n",
       "└────────────────┴────────────┘"
      ]
     },
     "execution_count": 40,
     "metadata": {},
     "output_type": "execute_result"
    }
   ],
   "source": [
    "df_038 = (\n",
    "    df_customer\n",
    "    .join(df_receipt, predicates=\"customer_id\", how=\"inner\")\n",
    "    .filter(\n",
    "        (df_customer[\"gender_cd\"] == \"1\")\n",
    "        & (~df_customer[\"customer_id\"].startswith(\"Z\"))\n",
    "    )\n",
    "    .group_by(\"customer_id\")\n",
    "    .aggregate(_[\"amount\"].sum().fill_null(0))\n",
    ")\n",
    "\n",
    "df_038.head(10)"
   ]
  },
  {
   "attachments": {},
   "cell_type": "markdown",
   "metadata": {},
   "source": [
    "---\n",
    "> P-039: レシート明細データ（df_receipt）から、売上日数の多い顧客の上位20件を抽出したデータと、売上金額合計の多い顧客の上位20件を抽出したデータをそれぞれ作成し、さらにその2つを完全外部結合せよ。ただし、非会員（顧客IDが\"Z\"から始まるもの）は除外すること。"
   ]
  },
  {
   "cell_type": "code",
   "execution_count": 41,
   "metadata": {},
   "outputs": [
    {
     "data": {
      "text/html": [
       "<pre style=\"white-space:pre;overflow-x:auto;line-height:normal;font-family:Menlo,'DejaVu Sans Mono',consolas,'Courier New',monospace\">┏━━━━━━━━━━━━━━━━┳━━━━━━━━━━━━━┳━━━━━━━━━━━━━━━━━━━┳━━━━━━━━━━━━┓\n",
       "┃<span style=\"font-weight: bold\"> customer_id    </span>┃<span style=\"font-weight: bold\"> sales_count </span>┃<span style=\"font-weight: bold\"> customer_id_right </span>┃<span style=\"font-weight: bold\"> amount_sum </span>┃\n",
       "┡━━━━━━━━━━━━━━━━╇━━━━━━━━━━━━━╇━━━━━━━━━━━━━━━━━━━╇━━━━━━━━━━━━┩\n",
       "│ <span style=\"color: #7f7f7f; text-decoration-color: #7f7f7f\">string</span>         │ <span style=\"color: #7f7f7f; text-decoration-color: #7f7f7f\">int64</span>       │ <span style=\"color: #7f7f7f; text-decoration-color: #7f7f7f\">string</span>            │ <span style=\"color: #7f7f7f; text-decoration-color: #7f7f7f\">int64</span>      │\n",
       "├────────────────┼─────────────┼───────────────────┼────────────┤\n",
       "│ <span style=\"color: #008000; text-decoration-color: #008000\">CS040214000008</span> │          <span style=\"color: #008080; text-decoration-color: #008080; font-weight: bold\">23</span> │ <span style=\"color: #7f7f7f; text-decoration-color: #7f7f7f\">NULL</span>              │       <span style=\"color: #7f7f7f; text-decoration-color: #7f7f7f\">NULL</span> │\n",
       "│ <span style=\"color: #008000; text-decoration-color: #008000\">CS015415000185</span> │          <span style=\"color: #008080; text-decoration-color: #008080; font-weight: bold\">22</span> │ <span style=\"color: #008000; text-decoration-color: #008000\">CS015415000185   </span> │      <span style=\"color: #008080; text-decoration-color: #008080; font-weight: bold\">20153</span> │\n",
       "│ <span style=\"color: #008000; text-decoration-color: #008000\">CS010214000010</span> │          <span style=\"color: #008080; text-decoration-color: #008080; font-weight: bold\">22</span> │ <span style=\"color: #008000; text-decoration-color: #008000\">CS010214000010   </span> │      <span style=\"color: #008080; text-decoration-color: #008080; font-weight: bold\">18585</span> │\n",
       "│ <span style=\"color: #008000; text-decoration-color: #008000\">CS028415000007</span> │          <span style=\"color: #008080; text-decoration-color: #008080; font-weight: bold\">21</span> │ <span style=\"color: #008000; text-decoration-color: #008000\">CS028415000007   </span> │      <span style=\"color: #008080; text-decoration-color: #008080; font-weight: bold\">19127</span> │\n",
       "│ <span style=\"color: #008000; text-decoration-color: #008000\">CS010214000002</span> │          <span style=\"color: #008080; text-decoration-color: #008080; font-weight: bold\">21</span> │ <span style=\"color: #7f7f7f; text-decoration-color: #7f7f7f\">NULL</span>              │       <span style=\"color: #7f7f7f; text-decoration-color: #7f7f7f\">NULL</span> │\n",
       "│ <span style=\"color: #008000; text-decoration-color: #008000\">CS017415000097</span> │          <span style=\"color: #008080; text-decoration-color: #008080; font-weight: bold\">20</span> │ <span style=\"color: #008000; text-decoration-color: #008000\">CS017415000097   </span> │      <span style=\"color: #008080; text-decoration-color: #008080; font-weight: bold\">23086</span> │\n",
       "│ <span style=\"color: #008000; text-decoration-color: #008000\">CS016415000141</span> │          <span style=\"color: #008080; text-decoration-color: #008080; font-weight: bold\">20</span> │ <span style=\"color: #008000; text-decoration-color: #008000\">CS016415000141   </span> │      <span style=\"color: #008080; text-decoration-color: #008080; font-weight: bold\">18372</span> │\n",
       "│ <span style=\"color: #008000; text-decoration-color: #008000\">CS031414000051</span> │          <span style=\"color: #008080; text-decoration-color: #008080; font-weight: bold\">19</span> │ <span style=\"color: #008000; text-decoration-color: #008000\">CS031414000051   </span> │      <span style=\"color: #008080; text-decoration-color: #008080; font-weight: bold\">19202</span> │\n",
       "│ <span style=\"color: #008000; text-decoration-color: #008000\">CS022515000226</span> │          <span style=\"color: #008080; text-decoration-color: #008080; font-weight: bold\">19</span> │ <span style=\"color: #7f7f7f; text-decoration-color: #7f7f7f\">NULL</span>              │       <span style=\"color: #7f7f7f; text-decoration-color: #7f7f7f\">NULL</span> │\n",
       "│ <span style=\"color: #008000; text-decoration-color: #008000\">CS039414000052</span> │          <span style=\"color: #008080; text-decoration-color: #008080; font-weight: bold\">19</span> │ <span style=\"color: #7f7f7f; text-decoration-color: #7f7f7f\">NULL</span>              │       <span style=\"color: #7f7f7f; text-decoration-color: #7f7f7f\">NULL</span> │\n",
       "│ <span style=\"color: #7f7f7f; text-decoration-color: #7f7f7f\">…</span>              │           <span style=\"color: #7f7f7f; text-decoration-color: #7f7f7f\">…</span> │ <span style=\"color: #7f7f7f; text-decoration-color: #7f7f7f\">…</span>                 │          <span style=\"color: #7f7f7f; text-decoration-color: #7f7f7f\">…</span> │\n",
       "└────────────────┴─────────────┴───────────────────┴────────────┘\n",
       "</pre>\n"
      ],
      "text/plain": [
       "┏━━━━━━━━━━━━━━━━┳━━━━━━━━━━━━━┳━━━━━━━━━━━━━━━━━━━┳━━━━━━━━━━━━┓\n",
       "┃\u001b[1m \u001b[0m\u001b[1mcustomer_id\u001b[0m\u001b[1m   \u001b[0m\u001b[1m \u001b[0m┃\u001b[1m \u001b[0m\u001b[1msales_count\u001b[0m\u001b[1m \u001b[0m┃\u001b[1m \u001b[0m\u001b[1mcustomer_id_right\u001b[0m\u001b[1m \u001b[0m┃\u001b[1m \u001b[0m\u001b[1mamount_sum\u001b[0m\u001b[1m \u001b[0m┃\n",
       "┡━━━━━━━━━━━━━━━━╇━━━━━━━━━━━━━╇━━━━━━━━━━━━━━━━━━━╇━━━━━━━━━━━━┩\n",
       "│ \u001b[2mstring\u001b[0m         │ \u001b[2mint64\u001b[0m       │ \u001b[2mstring\u001b[0m            │ \u001b[2mint64\u001b[0m      │\n",
       "├────────────────┼─────────────┼───────────────────┼────────────┤\n",
       "│ \u001b[32mCS040214000008\u001b[0m │          \u001b[1;36m23\u001b[0m │ \u001b[2mNULL\u001b[0m              │       \u001b[2mNULL\u001b[0m │\n",
       "│ \u001b[32mCS015415000185\u001b[0m │          \u001b[1;36m22\u001b[0m │ \u001b[32mCS015415000185   \u001b[0m │      \u001b[1;36m20153\u001b[0m │\n",
       "│ \u001b[32mCS010214000010\u001b[0m │          \u001b[1;36m22\u001b[0m │ \u001b[32mCS010214000010   \u001b[0m │      \u001b[1;36m18585\u001b[0m │\n",
       "│ \u001b[32mCS028415000007\u001b[0m │          \u001b[1;36m21\u001b[0m │ \u001b[32mCS028415000007   \u001b[0m │      \u001b[1;36m19127\u001b[0m │\n",
       "│ \u001b[32mCS010214000002\u001b[0m │          \u001b[1;36m21\u001b[0m │ \u001b[2mNULL\u001b[0m              │       \u001b[2mNULL\u001b[0m │\n",
       "│ \u001b[32mCS017415000097\u001b[0m │          \u001b[1;36m20\u001b[0m │ \u001b[32mCS017415000097   \u001b[0m │      \u001b[1;36m23086\u001b[0m │\n",
       "│ \u001b[32mCS016415000141\u001b[0m │          \u001b[1;36m20\u001b[0m │ \u001b[32mCS016415000141   \u001b[0m │      \u001b[1;36m18372\u001b[0m │\n",
       "│ \u001b[32mCS031414000051\u001b[0m │          \u001b[1;36m19\u001b[0m │ \u001b[32mCS031414000051   \u001b[0m │      \u001b[1;36m19202\u001b[0m │\n",
       "│ \u001b[32mCS022515000226\u001b[0m │          \u001b[1;36m19\u001b[0m │ \u001b[2mNULL\u001b[0m              │       \u001b[2mNULL\u001b[0m │\n",
       "│ \u001b[32mCS039414000052\u001b[0m │          \u001b[1;36m19\u001b[0m │ \u001b[2mNULL\u001b[0m              │       \u001b[2mNULL\u001b[0m │\n",
       "│ \u001b[2m…\u001b[0m              │           \u001b[2m…\u001b[0m │ \u001b[2m…\u001b[0m                 │          \u001b[2m…\u001b[0m │\n",
       "└────────────────┴─────────────┴───────────────────┴────────────┘"
      ]
     },
     "execution_count": 41,
     "metadata": {},
     "output_type": "execute_result"
    }
   ],
   "source": [
    "df_cnt = (\n",
    "    df_receipt\n",
    "    .filter(~df_receipt[\"customer_id\"].startswith(\"Z\"))\n",
    "    .group_by(\"customer_id\")\n",
    "    .aggregate(sales_count=_[\"sales_ymd\"].nunique())\n",
    "    .order_by(ibis.desc(\"sales_count\"))\n",
    "    .head(20)\n",
    ")\n",
    "\n",
    "df_sum = (\n",
    "    df_receipt\n",
    "    .filter(~df_receipt[\"customer_id\"].startswith(\"Z\"))\n",
    "    .group_by(\"customer_id\")\n",
    "    .aggregate(amount_sum=df_receipt[\"amount\"].sum())\n",
    "    .order_by(ibis.desc(\"amount_sum\"))\n",
    "    .head(20)\n",
    ")\n",
    "\n",
    "df_039 = (\n",
    "    df_cnt.join(df_sum, how=\"outer\", predicates=\"customer_id\")\n",
    "    .order_by(ibis.desc(\"sales_count\"))\n",
    ")\n",
    "\n",
    "df_039"
   ]
  },
  {
   "attachments": {},
   "cell_type": "markdown",
   "metadata": {},
   "source": [
    "---\n",
    "> P-040: 全ての店舗と全ての商品を組み合わせたデータを作成したい。店舗データ（df_store）と商品データ（df_product）を直積し、件数を計算せよ。"
   ]
  },
  {
   "cell_type": "code",
   "execution_count": 42,
   "metadata": {},
   "outputs": [
    {
     "data": {
      "text/html": [
       "<pre style=\"white-space:pre;overflow-x:auto;line-height:normal;font-family:Menlo,'DejaVu Sans Mono',consolas,'Courier New',monospace\"></pre>\n"
      ],
      "text/plain": []
     },
     "metadata": {},
     "output_type": "display_data"
    },
    {
     "data": {
      "text/plain": [
       "┌────────┐\n",
       "│ \u001b[1;36m531590\u001b[0m │\n",
       "└────────┘"
      ]
     },
     "execution_count": 42,
     "metadata": {},
     "output_type": "execute_result"
    }
   ],
   "source": [
    "df_040 = (\n",
    "    df_store.mutate(key=0)\n",
    "    .join(df_product.mutate(key=0), how=\"outer\", predicates=\"key\")\n",
    ")\n",
    "\n",
    "df_040.count()"
   ]
  },
  {
   "attachments": {},
   "cell_type": "markdown",
   "metadata": {},
   "source": [
    "---\n",
    "> P-041: レシート明細データ（df_receipt）の売上金額（amount）を日付（sales_ymd）ごとに集計し、前回売上があった日からの売上金額増減を計算せよ。そして結果を10件表示せよ。"
   ]
  },
  {
   "cell_type": "code",
   "execution_count": 43,
   "metadata": {},
   "outputs": [
    {
     "data": {
      "text/html": [
       "<pre style=\"white-space:pre;overflow-x:auto;line-height:normal;font-family:Menlo,'DejaVu Sans Mono',consolas,'Courier New',monospace\">┏━━━━━━━━━━━┳━━━━━━━━━━━━┳━━━━━━━━━━━━━┓\n",
       "┃<span style=\"font-weight: bold\"> sales_ymd </span>┃<span style=\"font-weight: bold\"> sum_amount </span>┃<span style=\"font-weight: bold\"> diff_amount </span>┃\n",
       "┡━━━━━━━━━━━╇━━━━━━━━━━━━╇━━━━━━━━━━━━━┩\n",
       "│ <span style=\"color: #7f7f7f; text-decoration-color: #7f7f7f\">int64</span>     │ <span style=\"color: #7f7f7f; text-decoration-color: #7f7f7f\">int64</span>      │ <span style=\"color: #7f7f7f; text-decoration-color: #7f7f7f\">int64</span>       │\n",
       "├───────────┼────────────┼─────────────┤\n",
       "│  <span style=\"color: #008080; text-decoration-color: #008080; font-weight: bold\">20170101</span> │      <span style=\"color: #008080; text-decoration-color: #008080; font-weight: bold\">33723</span> │        <span style=\"color: #7f7f7f; text-decoration-color: #7f7f7f\">NULL</span> │\n",
       "│  <span style=\"color: #008080; text-decoration-color: #008080; font-weight: bold\">20170102</span> │      <span style=\"color: #008080; text-decoration-color: #008080; font-weight: bold\">24165</span> │       <span style=\"color: #008080; text-decoration-color: #008080; font-weight: bold\">-9558</span> │\n",
       "│  <span style=\"color: #008080; text-decoration-color: #008080; font-weight: bold\">20170103</span> │      <span style=\"color: #008080; text-decoration-color: #008080; font-weight: bold\">27503</span> │        <span style=\"color: #008080; text-decoration-color: #008080; font-weight: bold\">3338</span> │\n",
       "│  <span style=\"color: #008080; text-decoration-color: #008080; font-weight: bold\">20170104</span> │      <span style=\"color: #008080; text-decoration-color: #008080; font-weight: bold\">36165</span> │        <span style=\"color: #008080; text-decoration-color: #008080; font-weight: bold\">8662</span> │\n",
       "│  <span style=\"color: #008080; text-decoration-color: #008080; font-weight: bold\">20170105</span> │      <span style=\"color: #008080; text-decoration-color: #008080; font-weight: bold\">37830</span> │        <span style=\"color: #008080; text-decoration-color: #008080; font-weight: bold\">1665</span> │\n",
       "└───────────┴────────────┴─────────────┘\n",
       "</pre>\n"
      ],
      "text/plain": [
       "┏━━━━━━━━━━━┳━━━━━━━━━━━━┳━━━━━━━━━━━━━┓\n",
       "┃\u001b[1m \u001b[0m\u001b[1msales_ymd\u001b[0m\u001b[1m \u001b[0m┃\u001b[1m \u001b[0m\u001b[1msum_amount\u001b[0m\u001b[1m \u001b[0m┃\u001b[1m \u001b[0m\u001b[1mdiff_amount\u001b[0m\u001b[1m \u001b[0m┃\n",
       "┡━━━━━━━━━━━╇━━━━━━━━━━━━╇━━━━━━━━━━━━━┩\n",
       "│ \u001b[2mint64\u001b[0m     │ \u001b[2mint64\u001b[0m      │ \u001b[2mint64\u001b[0m       │\n",
       "├───────────┼────────────┼─────────────┤\n",
       "│  \u001b[1;36m20170101\u001b[0m │      \u001b[1;36m33723\u001b[0m │        \u001b[2mNULL\u001b[0m │\n",
       "│  \u001b[1;36m20170102\u001b[0m │      \u001b[1;36m24165\u001b[0m │       \u001b[1;36m-9558\u001b[0m │\n",
       "│  \u001b[1;36m20170103\u001b[0m │      \u001b[1;36m27503\u001b[0m │        \u001b[1;36m3338\u001b[0m │\n",
       "│  \u001b[1;36m20170104\u001b[0m │      \u001b[1;36m36165\u001b[0m │        \u001b[1;36m8662\u001b[0m │\n",
       "│  \u001b[1;36m20170105\u001b[0m │      \u001b[1;36m37830\u001b[0m │        \u001b[1;36m1665\u001b[0m │\n",
       "└───────────┴────────────┴─────────────┘"
      ]
     },
     "execution_count": 43,
     "metadata": {},
     "output_type": "execute_result"
    }
   ],
   "source": [
    "df_041 = (\n",
    "    df_receipt\n",
    "    .group_by(\"sales_ymd\")\n",
    "    .aggregate(sum_amount=df_receipt[\"amount\"].sum())\n",
    "    .order_by(\"sales_ymd\")\n",
    "    .mutate(\n",
    "        diff_amount=(_[\"sum_amount\"] - _[\"sum_amount\"].lag(1))\n",
    "    )\n",
    ")\n",
    "\n",
    "df_041.head()"
   ]
  },
  {
   "attachments": {},
   "cell_type": "markdown",
   "metadata": {},
   "source": [
    "---\n",
    "> P-042: レシート明細データ（df_receipt）の売上金額（amount）を日付（sales_ymd）ごとに集計し、各日付のデータに対し、前回、前々回、3回前に売上があった日のデータを結合せよ。そして結果を10件表示せよ。"
   ]
  },
  {
   "cell_type": "code",
   "execution_count": 44,
   "metadata": {},
   "outputs": [
    {
     "data": {
      "text/html": [
       "<pre style=\"white-space:pre;overflow-x:auto;line-height:normal;font-family:Menlo,'DejaVu Sans Mono',consolas,'Courier New',monospace\">┏━━━━━━━━━━━┳━━━━━━━━━━━━┳━━━━━━━┳━━━━━━━┳━━━━━━━┓\n",
       "┃<span style=\"font-weight: bold\"> sales_ymd </span>┃<span style=\"font-weight: bold\"> sum_amount </span>┃<span style=\"font-weight: bold\"> lag1  </span>┃<span style=\"font-weight: bold\"> lag2  </span>┃<span style=\"font-weight: bold\"> lag3  </span>┃\n",
       "┡━━━━━━━━━━━╇━━━━━━━━━━━━╇━━━━━━━╇━━━━━━━╇━━━━━━━┩\n",
       "│ <span style=\"color: #7f7f7f; text-decoration-color: #7f7f7f\">int64</span>     │ <span style=\"color: #7f7f7f; text-decoration-color: #7f7f7f\">int64</span>      │ <span style=\"color: #7f7f7f; text-decoration-color: #7f7f7f\">int64</span> │ <span style=\"color: #7f7f7f; text-decoration-color: #7f7f7f\">int64</span> │ <span style=\"color: #7f7f7f; text-decoration-color: #7f7f7f\">int64</span> │\n",
       "├───────────┼────────────┼───────┼───────┼───────┤\n",
       "│  <span style=\"color: #008080; text-decoration-color: #008080; font-weight: bold\">20170104</span> │      <span style=\"color: #008080; text-decoration-color: #008080; font-weight: bold\">36165</span> │ <span style=\"color: #008080; text-decoration-color: #008080; font-weight: bold\">27503</span> │ <span style=\"color: #008080; text-decoration-color: #008080; font-weight: bold\">24165</span> │ <span style=\"color: #008080; text-decoration-color: #008080; font-weight: bold\">33723</span> │\n",
       "│  <span style=\"color: #008080; text-decoration-color: #008080; font-weight: bold\">20170105</span> │      <span style=\"color: #008080; text-decoration-color: #008080; font-weight: bold\">37830</span> │ <span style=\"color: #008080; text-decoration-color: #008080; font-weight: bold\">36165</span> │ <span style=\"color: #008080; text-decoration-color: #008080; font-weight: bold\">27503</span> │ <span style=\"color: #008080; text-decoration-color: #008080; font-weight: bold\">24165</span> │\n",
       "│  <span style=\"color: #008080; text-decoration-color: #008080; font-weight: bold\">20170106</span> │      <span style=\"color: #008080; text-decoration-color: #008080; font-weight: bold\">32387</span> │ <span style=\"color: #008080; text-decoration-color: #008080; font-weight: bold\">37830</span> │ <span style=\"color: #008080; text-decoration-color: #008080; font-weight: bold\">36165</span> │ <span style=\"color: #008080; text-decoration-color: #008080; font-weight: bold\">27503</span> │\n",
       "│  <span style=\"color: #008080; text-decoration-color: #008080; font-weight: bold\">20170107</span> │      <span style=\"color: #008080; text-decoration-color: #008080; font-weight: bold\">23415</span> │ <span style=\"color: #008080; text-decoration-color: #008080; font-weight: bold\">32387</span> │ <span style=\"color: #008080; text-decoration-color: #008080; font-weight: bold\">37830</span> │ <span style=\"color: #008080; text-decoration-color: #008080; font-weight: bold\">36165</span> │\n",
       "│  <span style=\"color: #008080; text-decoration-color: #008080; font-weight: bold\">20170108</span> │      <span style=\"color: #008080; text-decoration-color: #008080; font-weight: bold\">24737</span> │ <span style=\"color: #008080; text-decoration-color: #008080; font-weight: bold\">23415</span> │ <span style=\"color: #008080; text-decoration-color: #008080; font-weight: bold\">32387</span> │ <span style=\"color: #008080; text-decoration-color: #008080; font-weight: bold\">37830</span> │\n",
       "│  <span style=\"color: #008080; text-decoration-color: #008080; font-weight: bold\">20170109</span> │      <span style=\"color: #008080; text-decoration-color: #008080; font-weight: bold\">26718</span> │ <span style=\"color: #008080; text-decoration-color: #008080; font-weight: bold\">24737</span> │ <span style=\"color: #008080; text-decoration-color: #008080; font-weight: bold\">23415</span> │ <span style=\"color: #008080; text-decoration-color: #008080; font-weight: bold\">32387</span> │\n",
       "│  <span style=\"color: #008080; text-decoration-color: #008080; font-weight: bold\">20170110</span> │      <span style=\"color: #008080; text-decoration-color: #008080; font-weight: bold\">20143</span> │ <span style=\"color: #008080; text-decoration-color: #008080; font-weight: bold\">26718</span> │ <span style=\"color: #008080; text-decoration-color: #008080; font-weight: bold\">24737</span> │ <span style=\"color: #008080; text-decoration-color: #008080; font-weight: bold\">23415</span> │\n",
       "│  <span style=\"color: #008080; text-decoration-color: #008080; font-weight: bold\">20170111</span> │      <span style=\"color: #008080; text-decoration-color: #008080; font-weight: bold\">24287</span> │ <span style=\"color: #008080; text-decoration-color: #008080; font-weight: bold\">20143</span> │ <span style=\"color: #008080; text-decoration-color: #008080; font-weight: bold\">26718</span> │ <span style=\"color: #008080; text-decoration-color: #008080; font-weight: bold\">24737</span> │\n",
       "│  <span style=\"color: #008080; text-decoration-color: #008080; font-weight: bold\">20170112</span> │      <span style=\"color: #008080; text-decoration-color: #008080; font-weight: bold\">23526</span> │ <span style=\"color: #008080; text-decoration-color: #008080; font-weight: bold\">24287</span> │ <span style=\"color: #008080; text-decoration-color: #008080; font-weight: bold\">20143</span> │ <span style=\"color: #008080; text-decoration-color: #008080; font-weight: bold\">26718</span> │\n",
       "│  <span style=\"color: #008080; text-decoration-color: #008080; font-weight: bold\">20170113</span> │      <span style=\"color: #008080; text-decoration-color: #008080; font-weight: bold\">28004</span> │ <span style=\"color: #008080; text-decoration-color: #008080; font-weight: bold\">23526</span> │ <span style=\"color: #008080; text-decoration-color: #008080; font-weight: bold\">24287</span> │ <span style=\"color: #008080; text-decoration-color: #008080; font-weight: bold\">20143</span> │\n",
       "└───────────┴────────────┴───────┴───────┴───────┘\n",
       "</pre>\n"
      ],
      "text/plain": [
       "┏━━━━━━━━━━━┳━━━━━━━━━━━━┳━━━━━━━┳━━━━━━━┳━━━━━━━┓\n",
       "┃\u001b[1m \u001b[0m\u001b[1msales_ymd\u001b[0m\u001b[1m \u001b[0m┃\u001b[1m \u001b[0m\u001b[1msum_amount\u001b[0m\u001b[1m \u001b[0m┃\u001b[1m \u001b[0m\u001b[1mlag1\u001b[0m\u001b[1m \u001b[0m\u001b[1m \u001b[0m┃\u001b[1m \u001b[0m\u001b[1mlag2\u001b[0m\u001b[1m \u001b[0m\u001b[1m \u001b[0m┃\u001b[1m \u001b[0m\u001b[1mlag3\u001b[0m\u001b[1m \u001b[0m\u001b[1m \u001b[0m┃\n",
       "┡━━━━━━━━━━━╇━━━━━━━━━━━━╇━━━━━━━╇━━━━━━━╇━━━━━━━┩\n",
       "│ \u001b[2mint64\u001b[0m     │ \u001b[2mint64\u001b[0m      │ \u001b[2mint64\u001b[0m │ \u001b[2mint64\u001b[0m │ \u001b[2mint64\u001b[0m │\n",
       "├───────────┼────────────┼───────┼───────┼───────┤\n",
       "│  \u001b[1;36m20170104\u001b[0m │      \u001b[1;36m36165\u001b[0m │ \u001b[1;36m27503\u001b[0m │ \u001b[1;36m24165\u001b[0m │ \u001b[1;36m33723\u001b[0m │\n",
       "│  \u001b[1;36m20170105\u001b[0m │      \u001b[1;36m37830\u001b[0m │ \u001b[1;36m36165\u001b[0m │ \u001b[1;36m27503\u001b[0m │ \u001b[1;36m24165\u001b[0m │\n",
       "│  \u001b[1;36m20170106\u001b[0m │      \u001b[1;36m32387\u001b[0m │ \u001b[1;36m37830\u001b[0m │ \u001b[1;36m36165\u001b[0m │ \u001b[1;36m27503\u001b[0m │\n",
       "│  \u001b[1;36m20170107\u001b[0m │      \u001b[1;36m23415\u001b[0m │ \u001b[1;36m32387\u001b[0m │ \u001b[1;36m37830\u001b[0m │ \u001b[1;36m36165\u001b[0m │\n",
       "│  \u001b[1;36m20170108\u001b[0m │      \u001b[1;36m24737\u001b[0m │ \u001b[1;36m23415\u001b[0m │ \u001b[1;36m32387\u001b[0m │ \u001b[1;36m37830\u001b[0m │\n",
       "│  \u001b[1;36m20170109\u001b[0m │      \u001b[1;36m26718\u001b[0m │ \u001b[1;36m24737\u001b[0m │ \u001b[1;36m23415\u001b[0m │ \u001b[1;36m32387\u001b[0m │\n",
       "│  \u001b[1;36m20170110\u001b[0m │      \u001b[1;36m20143\u001b[0m │ \u001b[1;36m26718\u001b[0m │ \u001b[1;36m24737\u001b[0m │ \u001b[1;36m23415\u001b[0m │\n",
       "│  \u001b[1;36m20170111\u001b[0m │      \u001b[1;36m24287\u001b[0m │ \u001b[1;36m20143\u001b[0m │ \u001b[1;36m26718\u001b[0m │ \u001b[1;36m24737\u001b[0m │\n",
       "│  \u001b[1;36m20170112\u001b[0m │      \u001b[1;36m23526\u001b[0m │ \u001b[1;36m24287\u001b[0m │ \u001b[1;36m20143\u001b[0m │ \u001b[1;36m26718\u001b[0m │\n",
       "│  \u001b[1;36m20170113\u001b[0m │      \u001b[1;36m28004\u001b[0m │ \u001b[1;36m23526\u001b[0m │ \u001b[1;36m24287\u001b[0m │ \u001b[1;36m20143\u001b[0m │\n",
       "└───────────┴────────────┴───────┴───────┴───────┘"
      ]
     },
     "execution_count": 44,
     "metadata": {},
     "output_type": "execute_result"
    }
   ],
   "source": [
    "df_042 = (\n",
    "    df_receipt\n",
    "    .group_by(\"sales_ymd\")\n",
    "    .aggregate(sum_amount=df_receipt[\"amount\"].sum())\n",
    "    .order_by(\"sales_ymd\")\n",
    "    .mutate(lag1=_[\"sum_amount\"].lag(1))\n",
    "    .mutate(lag2=_[\"sum_amount\"].lag(2))\n",
    "    .mutate(lag3=_[\"sum_amount\"].lag(3))\n",
    "    .drop_null()\n",
    ")\n",
    "\n",
    "\n",
    "df_042.head(10)"
   ]
  },
  {
   "attachments": {},
   "cell_type": "markdown",
   "metadata": {},
   "source": [
    "---\n",
    "> P-043： レシート明細データ（df_receipt）と顧客データ（df_customer）を結合し、性別コード（gender_cd）と年代（ageから計算）ごとに売上金額（amount）を合計した売上サマリデータを作成せよ。性別コードは0が男性、1が女性、9が不明を表すものとする。\n",
    ">\n",
    "> ただし、項目構成は年代、女性の売上金額、男性の売上金額、性別不明の売上金額の4項目とすること（縦に年代、横に性別のクロス集計）。また、年代は10歳ごとの階級とすること。"
   ]
  },
  {
   "cell_type": "code",
   "execution_count": 45,
   "metadata": {},
   "outputs": [
    {
     "data": {
      "text/html": [
       "<pre style=\"white-space:pre;overflow-x:auto;line-height:normal;font-family:Menlo,'DejaVu Sans Mono',consolas,'Courier New',monospace\">┏━━━━━━━━┳━━━━━━━━━┳━━━━━━━━┳━━━━━━━━━┓\n",
       "┃<span style=\"font-weight: bold\"> era    </span>┃<span style=\"font-weight: bold\"> unknown </span>┃<span style=\"font-weight: bold\"> male   </span>┃<span style=\"font-weight: bold\"> female  </span>┃\n",
       "┡━━━━━━━━╇━━━━━━━━━╇━━━━━━━━╇━━━━━━━━━┩\n",
       "│ <span style=\"color: #7f7f7f; text-decoration-color: #7f7f7f\">string</span> │ <span style=\"color: #7f7f7f; text-decoration-color: #7f7f7f\">int64</span>   │ <span style=\"color: #7f7f7f; text-decoration-color: #7f7f7f\">int64</span>  │ <span style=\"color: #7f7f7f; text-decoration-color: #7f7f7f\">int64</span>   │\n",
       "├────────┼─────────┼────────┼─────────┤\n",
       "│ <span style=\"color: #008000; text-decoration-color: #008000\">10    </span> │    <span style=\"color: #008080; text-decoration-color: #008080; font-weight: bold\">4317</span> │   <span style=\"color: #008080; text-decoration-color: #008080; font-weight: bold\">1591</span> │  <span style=\"color: #008080; text-decoration-color: #008080; font-weight: bold\">149836</span> │\n",
       "│ <span style=\"color: #008000; text-decoration-color: #008000\">20    </span> │   <span style=\"color: #008080; text-decoration-color: #008080; font-weight: bold\">44328</span> │  <span style=\"color: #008080; text-decoration-color: #008080; font-weight: bold\">72940</span> │ <span style=\"color: #008080; text-decoration-color: #008080; font-weight: bold\">1363724</span> │\n",
       "│ <span style=\"color: #008000; text-decoration-color: #008000\">30    </span> │   <span style=\"color: #008080; text-decoration-color: #008080; font-weight: bold\">50441</span> │ <span style=\"color: #008080; text-decoration-color: #008080; font-weight: bold\">177322</span> │  <span style=\"color: #008080; text-decoration-color: #008080; font-weight: bold\">693047</span> │\n",
       "│ <span style=\"color: #008000; text-decoration-color: #008000\">40    </span> │  <span style=\"color: #008080; text-decoration-color: #008080; font-weight: bold\">483512</span> │  <span style=\"color: #008080; text-decoration-color: #008080; font-weight: bold\">19355</span> │ <span style=\"color: #008080; text-decoration-color: #008080; font-weight: bold\">9320791</span> │\n",
       "│ <span style=\"color: #008000; text-decoration-color: #008000\">50    </span> │  <span style=\"color: #008080; text-decoration-color: #008080; font-weight: bold\">342923</span> │  <span style=\"color: #008080; text-decoration-color: #008080; font-weight: bold\">54320</span> │ <span style=\"color: #008080; text-decoration-color: #008080; font-weight: bold\">6685192</span> │\n",
       "│ <span style=\"color: #008000; text-decoration-color: #008000\">60    </span> │   <span style=\"color: #008080; text-decoration-color: #008080; font-weight: bold\">71418</span> │ <span style=\"color: #008080; text-decoration-color: #008080; font-weight: bold\">272469</span> │  <span style=\"color: #008080; text-decoration-color: #008080; font-weight: bold\">987741</span> │\n",
       "│ <span style=\"color: #008000; text-decoration-color: #008000\">70    </span> │    <span style=\"color: #008080; text-decoration-color: #008080; font-weight: bold\">2427</span> │  <span style=\"color: #008080; text-decoration-color: #008080; font-weight: bold\">13435</span> │   <span style=\"color: #008080; text-decoration-color: #008080; font-weight: bold\">29764</span> │\n",
       "│ <span style=\"color: #008000; text-decoration-color: #008000\">80    </span> │    <span style=\"color: #008080; text-decoration-color: #008080; font-weight: bold\">5111</span> │  <span style=\"color: #008080; text-decoration-color: #008080; font-weight: bold\">46360</span> │  <span style=\"color: #008080; text-decoration-color: #008080; font-weight: bold\">262923</span> │\n",
       "│ <span style=\"color: #008000; text-decoration-color: #008000\">90    </span> │    <span style=\"color: #7f7f7f; text-decoration-color: #7f7f7f\">NULL</span> │   <span style=\"color: #7f7f7f; text-decoration-color: #7f7f7f\">NULL</span> │    <span style=\"color: #008080; text-decoration-color: #008080; font-weight: bold\">6260</span> │\n",
       "└────────┴─────────┴────────┴─────────┘\n",
       "</pre>\n"
      ],
      "text/plain": [
       "┏━━━━━━━━┳━━━━━━━━━┳━━━━━━━━┳━━━━━━━━━┓\n",
       "┃\u001b[1m \u001b[0m\u001b[1mera\u001b[0m\u001b[1m   \u001b[0m\u001b[1m \u001b[0m┃\u001b[1m \u001b[0m\u001b[1munknown\u001b[0m\u001b[1m \u001b[0m┃\u001b[1m \u001b[0m\u001b[1mmale\u001b[0m\u001b[1m  \u001b[0m\u001b[1m \u001b[0m┃\u001b[1m \u001b[0m\u001b[1mfemale\u001b[0m\u001b[1m \u001b[0m\u001b[1m \u001b[0m┃\n",
       "┡━━━━━━━━╇━━━━━━━━━╇━━━━━━━━╇━━━━━━━━━┩\n",
       "│ \u001b[2mstring\u001b[0m │ \u001b[2mint64\u001b[0m   │ \u001b[2mint64\u001b[0m  │ \u001b[2mint64\u001b[0m   │\n",
       "├────────┼─────────┼────────┼─────────┤\n",
       "│ \u001b[32m10    \u001b[0m │    \u001b[1;36m4317\u001b[0m │   \u001b[1;36m1591\u001b[0m │  \u001b[1;36m149836\u001b[0m │\n",
       "│ \u001b[32m20    \u001b[0m │   \u001b[1;36m44328\u001b[0m │  \u001b[1;36m72940\u001b[0m │ \u001b[1;36m1363724\u001b[0m │\n",
       "│ \u001b[32m30    \u001b[0m │   \u001b[1;36m50441\u001b[0m │ \u001b[1;36m177322\u001b[0m │  \u001b[1;36m693047\u001b[0m │\n",
       "│ \u001b[32m40    \u001b[0m │  \u001b[1;36m483512\u001b[0m │  \u001b[1;36m19355\u001b[0m │ \u001b[1;36m9320791\u001b[0m │\n",
       "│ \u001b[32m50    \u001b[0m │  \u001b[1;36m342923\u001b[0m │  \u001b[1;36m54320\u001b[0m │ \u001b[1;36m6685192\u001b[0m │\n",
       "│ \u001b[32m60    \u001b[0m │   \u001b[1;36m71418\u001b[0m │ \u001b[1;36m272469\u001b[0m │  \u001b[1;36m987741\u001b[0m │\n",
       "│ \u001b[32m70    \u001b[0m │    \u001b[1;36m2427\u001b[0m │  \u001b[1;36m13435\u001b[0m │   \u001b[1;36m29764\u001b[0m │\n",
       "│ \u001b[32m80    \u001b[0m │    \u001b[1;36m5111\u001b[0m │  \u001b[1;36m46360\u001b[0m │  \u001b[1;36m262923\u001b[0m │\n",
       "│ \u001b[32m90    \u001b[0m │    \u001b[2mNULL\u001b[0m │   \u001b[2mNULL\u001b[0m │    \u001b[1;36m6260\u001b[0m │\n",
       "└────────┴─────────┴────────┴─────────┘"
      ]
     },
     "execution_count": 45,
     "metadata": {},
     "output_type": "execute_result"
    }
   ],
   "source": [
    "import ibis.selectors as s\n",
    "df_043 = (\n",
    "    df_receipt\n",
    "    .join(df_customer, predicates=\"customer_id\", how=\"inner\")\n",
    "    .mutate(era=ibis._[\"age\"] // 10 *10).cast({\"era\": str})\n",
    "    .pivot_wider(\n",
    "        id_cols=\"era\",\n",
    "        names_from=\"gender_cd\",\n",
    "        values_from=\"amount\",\n",
    "        values_agg=\"sum\"\n",
    "    )\n",
    "    .rename({\"female\": \"1\", \"male\": \"0\", \"unknown\": \"9\"})\n",
    "    .order_by(\"era\")\n",
    ")\n",
    "\n",
    "df_043"
   ]
  },
  {
   "attachments": {},
   "cell_type": "markdown",
   "metadata": {},
   "source": [
    "---\n",
    "> P-044： 043で作成した売上サマリデータ（df_sales_summary）は性別の売上を横持ちさせたものであった。このデータから性別を縦持ちさせ、年代、性別コード、売上金額の3項目に変換せよ。ただし、性別コードは男性を\"00\"、女性を\"01\"、不明を\"99\"とする。"
   ]
  },
  {
   "cell_type": "code",
   "execution_count": 46,
   "metadata": {},
   "outputs": [
    {
     "data": {
      "text/html": [
       "<pre style=\"white-space:pre;overflow-x:auto;line-height:normal;font-family:Menlo,'DejaVu Sans Mono',consolas,'Courier New',monospace\">┏━━━━━━━━┳━━━━━━━━━━━┳━━━━━━━━━┓\n",
       "┃<span style=\"font-weight: bold\"> era    </span>┃<span style=\"font-weight: bold\"> gender_cd </span>┃<span style=\"font-weight: bold\"> amount  </span>┃\n",
       "┡━━━━━━━━╇━━━━━━━━━━━╇━━━━━━━━━┩\n",
       "│ <span style=\"color: #7f7f7f; text-decoration-color: #7f7f7f\">string</span> │ <span style=\"color: #7f7f7f; text-decoration-color: #7f7f7f\">string</span>    │ <span style=\"color: #7f7f7f; text-decoration-color: #7f7f7f\">int64</span>   │\n",
       "├────────┼───────────┼─────────┤\n",
       "│ <span style=\"color: #008000; text-decoration-color: #008000\">10    </span> │ <span style=\"color: #008000; text-decoration-color: #008000\">00       </span> │    <span style=\"color: #008080; text-decoration-color: #008080; font-weight: bold\">1591</span> │\n",
       "│ <span style=\"color: #008000; text-decoration-color: #008000\">10    </span> │ <span style=\"color: #008000; text-decoration-color: #008000\">01       </span> │  <span style=\"color: #008080; text-decoration-color: #008080; font-weight: bold\">149836</span> │\n",
       "│ <span style=\"color: #008000; text-decoration-color: #008000\">10    </span> │ <span style=\"color: #008000; text-decoration-color: #008000\">99       </span> │    <span style=\"color: #008080; text-decoration-color: #008080; font-weight: bold\">4317</span> │\n",
       "│ <span style=\"color: #008000; text-decoration-color: #008000\">20    </span> │ <span style=\"color: #008000; text-decoration-color: #008000\">00       </span> │   <span style=\"color: #008080; text-decoration-color: #008080; font-weight: bold\">72940</span> │\n",
       "│ <span style=\"color: #008000; text-decoration-color: #008000\">20    </span> │ <span style=\"color: #008000; text-decoration-color: #008000\">01       </span> │ <span style=\"color: #008080; text-decoration-color: #008080; font-weight: bold\">1363724</span> │\n",
       "│ <span style=\"color: #008000; text-decoration-color: #008000\">20    </span> │ <span style=\"color: #008000; text-decoration-color: #008000\">99       </span> │   <span style=\"color: #008080; text-decoration-color: #008080; font-weight: bold\">44328</span> │\n",
       "│ <span style=\"color: #008000; text-decoration-color: #008000\">30    </span> │ <span style=\"color: #008000; text-decoration-color: #008000\">00       </span> │  <span style=\"color: #008080; text-decoration-color: #008080; font-weight: bold\">177322</span> │\n",
       "│ <span style=\"color: #008000; text-decoration-color: #008000\">30    </span> │ <span style=\"color: #008000; text-decoration-color: #008000\">01       </span> │  <span style=\"color: #008080; text-decoration-color: #008080; font-weight: bold\">693047</span> │\n",
       "│ <span style=\"color: #008000; text-decoration-color: #008000\">30    </span> │ <span style=\"color: #008000; text-decoration-color: #008000\">99       </span> │   <span style=\"color: #008080; text-decoration-color: #008080; font-weight: bold\">50441</span> │\n",
       "│ <span style=\"color: #008000; text-decoration-color: #008000\">40    </span> │ <span style=\"color: #008000; text-decoration-color: #008000\">00       </span> │   <span style=\"color: #008080; text-decoration-color: #008080; font-weight: bold\">19355</span> │\n",
       "│ <span style=\"color: #7f7f7f; text-decoration-color: #7f7f7f\">…</span>      │ <span style=\"color: #7f7f7f; text-decoration-color: #7f7f7f\">…</span>         │       <span style=\"color: #7f7f7f; text-decoration-color: #7f7f7f\">…</span> │\n",
       "└────────┴───────────┴─────────┘\n",
       "</pre>\n"
      ],
      "text/plain": [
       "┏━━━━━━━━┳━━━━━━━━━━━┳━━━━━━━━━┓\n",
       "┃\u001b[1m \u001b[0m\u001b[1mera\u001b[0m\u001b[1m   \u001b[0m\u001b[1m \u001b[0m┃\u001b[1m \u001b[0m\u001b[1mgender_cd\u001b[0m\u001b[1m \u001b[0m┃\u001b[1m \u001b[0m\u001b[1mamount\u001b[0m\u001b[1m \u001b[0m\u001b[1m \u001b[0m┃\n",
       "┡━━━━━━━━╇━━━━━━━━━━━╇━━━━━━━━━┩\n",
       "│ \u001b[2mstring\u001b[0m │ \u001b[2mstring\u001b[0m    │ \u001b[2mint64\u001b[0m   │\n",
       "├────────┼───────────┼─────────┤\n",
       "│ \u001b[32m10    \u001b[0m │ \u001b[32m00       \u001b[0m │    \u001b[1;36m1591\u001b[0m │\n",
       "│ \u001b[32m10    \u001b[0m │ \u001b[32m01       \u001b[0m │  \u001b[1;36m149836\u001b[0m │\n",
       "│ \u001b[32m10    \u001b[0m │ \u001b[32m99       \u001b[0m │    \u001b[1;36m4317\u001b[0m │\n",
       "│ \u001b[32m20    \u001b[0m │ \u001b[32m00       \u001b[0m │   \u001b[1;36m72940\u001b[0m │\n",
       "│ \u001b[32m20    \u001b[0m │ \u001b[32m01       \u001b[0m │ \u001b[1;36m1363724\u001b[0m │\n",
       "│ \u001b[32m20    \u001b[0m │ \u001b[32m99       \u001b[0m │   \u001b[1;36m44328\u001b[0m │\n",
       "│ \u001b[32m30    \u001b[0m │ \u001b[32m00       \u001b[0m │  \u001b[1;36m177322\u001b[0m │\n",
       "│ \u001b[32m30    \u001b[0m │ \u001b[32m01       \u001b[0m │  \u001b[1;36m693047\u001b[0m │\n",
       "│ \u001b[32m30    \u001b[0m │ \u001b[32m99       \u001b[0m │   \u001b[1;36m50441\u001b[0m │\n",
       "│ \u001b[32m40    \u001b[0m │ \u001b[32m00       \u001b[0m │   \u001b[1;36m19355\u001b[0m │\n",
       "│ \u001b[2m…\u001b[0m      │ \u001b[2m…\u001b[0m         │       \u001b[2m…\u001b[0m │\n",
       "└────────┴───────────┴─────────┘"
      ]
     },
     "execution_count": 46,
     "metadata": {},
     "output_type": "execute_result"
    }
   ],
   "source": [
    "df_044 = (\n",
    "    df_043\n",
    "    .rename({\"01\": \"female\", \"00\": \"male\", \"99\": \"unknown\"})\n",
    "    .pivot_longer(\n",
    "        # col=s.matches(\"(00)|(01)|(99)\"),\n",
    "        col=[s.c(\"00\"), s.c(\"01\"), s.c(\"99\")],\n",
    "        names_to=\"gender_cd\",\n",
    "        values_to=\"amount\"\n",
    "    )\n",
    "    .order_by(\"era\", \"gender_cd\")\n",
    ")\n",
    "\n",
    "df_044"
   ]
  },
  {
   "attachments": {},
   "cell_type": "markdown",
   "metadata": {},
   "source": [
    "## Date型"
   ]
  },
  {
   "attachments": {},
   "cell_type": "markdown",
   "metadata": {},
   "source": [
    "---\n",
    "> P-045: 顧客データ（df_customer）の生年月日（birth_day）は日付型でデータを保有している。これをYYYYMMDD形式の文字列に変換し、顧客ID（customer_id）とともに10件表示せよ。"
   ]
  },
  {
   "cell_type": "code",
   "execution_count": 47,
   "metadata": {},
   "outputs": [
    {
     "data": {
      "text/html": [
       "<pre style=\"white-space:pre;overflow-x:auto;line-height:normal;font-family:Menlo,'DejaVu Sans Mono',consolas,'Courier New',monospace\">┏━━━━━━━━━━━━━━━━┳━━━━━━━━━━━┓\n",
       "┃<span style=\"font-weight: bold\"> customer_id    </span>┃<span style=\"font-weight: bold\"> birth_day </span>┃\n",
       "┡━━━━━━━━━━━━━━━━╇━━━━━━━━━━━┩\n",
       "│ <span style=\"color: #7f7f7f; text-decoration-color: #7f7f7f\">string</span>         │ <span style=\"color: #7f7f7f; text-decoration-color: #7f7f7f\">string</span>    │\n",
       "├────────────────┼───────────┤\n",
       "│ <span style=\"color: #008000; text-decoration-color: #008000\">CS021313000114</span> │ <span style=\"color: #008000; text-decoration-color: #008000\">19810429 </span> │\n",
       "│ <span style=\"color: #008000; text-decoration-color: #008000\">CS037613000071</span> │ <span style=\"color: #008000; text-decoration-color: #008000\">19520401 </span> │\n",
       "│ <span style=\"color: #008000; text-decoration-color: #008000\">CS031415000172</span> │ <span style=\"color: #008000; text-decoration-color: #008000\">19761004 </span> │\n",
       "│ <span style=\"color: #008000; text-decoration-color: #008000\">CS028811000001</span> │ <span style=\"color: #008000; text-decoration-color: #008000\">19330327 </span> │\n",
       "│ <span style=\"color: #008000; text-decoration-color: #008000\">CS001215000145</span> │ <span style=\"color: #008000; text-decoration-color: #008000\">19950329 </span> │\n",
       "│ <span style=\"color: #008000; text-decoration-color: #008000\">CS020401000016</span> │ <span style=\"color: #008000; text-decoration-color: #008000\">19740915 </span> │\n",
       "│ <span style=\"color: #008000; text-decoration-color: #008000\">CS015414000103</span> │ <span style=\"color: #008000; text-decoration-color: #008000\">19770809 </span> │\n",
       "│ <span style=\"color: #008000; text-decoration-color: #008000\">CS029403000008</span> │ <span style=\"color: #008000; text-decoration-color: #008000\">19730817 </span> │\n",
       "│ <span style=\"color: #008000; text-decoration-color: #008000\">CS015804000004</span> │ <span style=\"color: #008000; text-decoration-color: #008000\">19310502 </span> │\n",
       "│ <span style=\"color: #008000; text-decoration-color: #008000\">CS033513000180</span> │ <span style=\"color: #008000; text-decoration-color: #008000\">19620711 </span> │\n",
       "└────────────────┴───────────┘\n",
       "</pre>\n"
      ],
      "text/plain": [
       "┏━━━━━━━━━━━━━━━━┳━━━━━━━━━━━┓\n",
       "┃\u001b[1m \u001b[0m\u001b[1mcustomer_id\u001b[0m\u001b[1m   \u001b[0m\u001b[1m \u001b[0m┃\u001b[1m \u001b[0m\u001b[1mbirth_day\u001b[0m\u001b[1m \u001b[0m┃\n",
       "┡━━━━━━━━━━━━━━━━╇━━━━━━━━━━━┩\n",
       "│ \u001b[2mstring\u001b[0m         │ \u001b[2mstring\u001b[0m    │\n",
       "├────────────────┼───────────┤\n",
       "│ \u001b[32mCS021313000114\u001b[0m │ \u001b[32m19810429 \u001b[0m │\n",
       "│ \u001b[32mCS037613000071\u001b[0m │ \u001b[32m19520401 \u001b[0m │\n",
       "│ \u001b[32mCS031415000172\u001b[0m │ \u001b[32m19761004 \u001b[0m │\n",
       "│ \u001b[32mCS028811000001\u001b[0m │ \u001b[32m19330327 \u001b[0m │\n",
       "│ \u001b[32mCS001215000145\u001b[0m │ \u001b[32m19950329 \u001b[0m │\n",
       "│ \u001b[32mCS020401000016\u001b[0m │ \u001b[32m19740915 \u001b[0m │\n",
       "│ \u001b[32mCS015414000103\u001b[0m │ \u001b[32m19770809 \u001b[0m │\n",
       "│ \u001b[32mCS029403000008\u001b[0m │ \u001b[32m19730817 \u001b[0m │\n",
       "│ \u001b[32mCS015804000004\u001b[0m │ \u001b[32m19310502 \u001b[0m │\n",
       "│ \u001b[32mCS033513000180\u001b[0m │ \u001b[32m19620711 \u001b[0m │\n",
       "└────────────────┴───────────┘"
      ]
     },
     "execution_count": 47,
     "metadata": {},
     "output_type": "execute_result"
    }
   ],
   "source": [
    "df_045 = (\n",
    "    df_customer\n",
    "    .mutate(birth_day=df_customer[\"birth_day\"].strftime(\"%Y%m%d\"))\n",
    "    .select(\"customer_id\", \"birth_day\")\n",
    ")\n",
    "\n",
    "df_045.head(10)"
   ]
  },
  {
   "attachments": {},
   "cell_type": "markdown",
   "metadata": {},
   "source": [
    "---\n",
    "> P-046: 顧客データ（df_customer）の申し込み日（application_date）はYYYYMMDD形式の文字列型でデータを保有している。これを日付型に変換し、顧客ID（customer_id）とともに10件表示せよ。"
   ]
  },
  {
   "cell_type": "code",
   "execution_count": 48,
   "metadata": {},
   "outputs": [
    {
     "data": {
      "text/html": [
       "<pre style=\"white-space:pre;overflow-x:auto;line-height:normal;font-family:Menlo,'DejaVu Sans Mono',consolas,'Courier New',monospace\">┏━━━━━━━━━━━━━━━━┳━━━━━━━━━━━━━━━━━━┓\n",
       "┃<span style=\"font-weight: bold\"> customer_id    </span>┃<span style=\"font-weight: bold\"> application_date </span>┃\n",
       "┡━━━━━━━━━━━━━━━━╇━━━━━━━━━━━━━━━━━━┩\n",
       "│ <span style=\"color: #7f7f7f; text-decoration-color: #7f7f7f\">string</span>         │ <span style=\"color: #7f7f7f; text-decoration-color: #7f7f7f\">date</span>             │\n",
       "├────────────────┼──────────────────┤\n",
       "│ <span style=\"color: #008000; text-decoration-color: #008000\">CS021313000114</span> │ <span style=\"color: #800080; text-decoration-color: #800080\">2015-09-05</span>       │\n",
       "│ <span style=\"color: #008000; text-decoration-color: #008000\">CS037613000071</span> │ <span style=\"color: #800080; text-decoration-color: #800080\">2015-04-14</span>       │\n",
       "│ <span style=\"color: #008000; text-decoration-color: #008000\">CS031415000172</span> │ <span style=\"color: #800080; text-decoration-color: #800080\">2015-05-29</span>       │\n",
       "│ <span style=\"color: #008000; text-decoration-color: #008000\">CS028811000001</span> │ <span style=\"color: #800080; text-decoration-color: #800080\">2016-01-15</span>       │\n",
       "│ <span style=\"color: #008000; text-decoration-color: #008000\">CS001215000145</span> │ <span style=\"color: #800080; text-decoration-color: #800080\">2017-06-05</span>       │\n",
       "│ <span style=\"color: #008000; text-decoration-color: #008000\">CS020401000016</span> │ <span style=\"color: #800080; text-decoration-color: #800080\">2015-02-25</span>       │\n",
       "│ <span style=\"color: #008000; text-decoration-color: #008000\">CS015414000103</span> │ <span style=\"color: #800080; text-decoration-color: #800080\">2015-07-22</span>       │\n",
       "│ <span style=\"color: #008000; text-decoration-color: #008000\">CS029403000008</span> │ <span style=\"color: #800080; text-decoration-color: #800080\">2015-05-15</span>       │\n",
       "│ <span style=\"color: #008000; text-decoration-color: #008000\">CS015804000004</span> │ <span style=\"color: #800080; text-decoration-color: #800080\">2015-06-07</span>       │\n",
       "│ <span style=\"color: #008000; text-decoration-color: #008000\">CS033513000180</span> │ <span style=\"color: #800080; text-decoration-color: #800080\">2015-07-28</span>       │\n",
       "└────────────────┴──────────────────┘\n",
       "</pre>\n"
      ],
      "text/plain": [
       "┏━━━━━━━━━━━━━━━━┳━━━━━━━━━━━━━━━━━━┓\n",
       "┃\u001b[1m \u001b[0m\u001b[1mcustomer_id\u001b[0m\u001b[1m   \u001b[0m\u001b[1m \u001b[0m┃\u001b[1m \u001b[0m\u001b[1mapplication_date\u001b[0m\u001b[1m \u001b[0m┃\n",
       "┡━━━━━━━━━━━━━━━━╇━━━━━━━━━━━━━━━━━━┩\n",
       "│ \u001b[2mstring\u001b[0m         │ \u001b[2mdate\u001b[0m             │\n",
       "├────────────────┼──────────────────┤\n",
       "│ \u001b[32mCS021313000114\u001b[0m │ \u001b[35m2015-09-05\u001b[0m       │\n",
       "│ \u001b[32mCS037613000071\u001b[0m │ \u001b[35m2015-04-14\u001b[0m       │\n",
       "│ \u001b[32mCS031415000172\u001b[0m │ \u001b[35m2015-05-29\u001b[0m       │\n",
       "│ \u001b[32mCS028811000001\u001b[0m │ \u001b[35m2016-01-15\u001b[0m       │\n",
       "│ \u001b[32mCS001215000145\u001b[0m │ \u001b[35m2017-06-05\u001b[0m       │\n",
       "│ \u001b[32mCS020401000016\u001b[0m │ \u001b[35m2015-02-25\u001b[0m       │\n",
       "│ \u001b[32mCS015414000103\u001b[0m │ \u001b[35m2015-07-22\u001b[0m       │\n",
       "│ \u001b[32mCS029403000008\u001b[0m │ \u001b[35m2015-05-15\u001b[0m       │\n",
       "│ \u001b[32mCS015804000004\u001b[0m │ \u001b[35m2015-06-07\u001b[0m       │\n",
       "│ \u001b[32mCS033513000180\u001b[0m │ \u001b[35m2015-07-28\u001b[0m       │\n",
       "└────────────────┴──────────────────┘"
      ]
     },
     "execution_count": 48,
     "metadata": {},
     "output_type": "execute_result"
    }
   ],
   "source": [
    "df_046 = (\n",
    "    df_customer\n",
    "    .mutate(application_date=df_customer[\"application_date\"].cast(str).to_date(\"%Y%m%d\"))\n",
    "    .select(\"customer_id\", \"application_date\")\n",
    ")\n",
    "\n",
    "df_046.head(10)"
   ]
  },
  {
   "attachments": {},
   "cell_type": "markdown",
   "metadata": {},
   "source": [
    "---\n",
    "> P-047: レシート明細データ（df_receipt）の売上日（sales_ymd）はYYYYMMDD形式の数値型でデータを保有している。これを日付型に変換し、レシート番号（receipt_no）、レシートサブ番号（receipt_sub_no）とともに10件表示せよ。"
   ]
  },
  {
   "cell_type": "code",
   "execution_count": 49,
   "metadata": {},
   "outputs": [
    {
     "data": {
      "text/html": [
       "<pre style=\"white-space:pre;overflow-x:auto;line-height:normal;font-family:Menlo,'DejaVu Sans Mono',consolas,'Courier New',monospace\">┏━━━━━━━━━━━━┳━━━━━━━━━━━━━━━━┳━━━━━━━━━━━━┓\n",
       "┃<span style=\"font-weight: bold\"> receipt_no </span>┃<span style=\"font-weight: bold\"> receipt_sub_no </span>┃<span style=\"font-weight: bold\"> sales_ymd  </span>┃\n",
       "┡━━━━━━━━━━━━╇━━━━━━━━━━━━━━━━╇━━━━━━━━━━━━┩\n",
       "│ <span style=\"color: #7f7f7f; text-decoration-color: #7f7f7f\">int64</span>      │ <span style=\"color: #7f7f7f; text-decoration-color: #7f7f7f\">int64</span>          │ <span style=\"color: #7f7f7f; text-decoration-color: #7f7f7f\">date</span>       │\n",
       "├────────────┼────────────────┼────────────┤\n",
       "│        <span style=\"color: #008080; text-decoration-color: #008080; font-weight: bold\">112</span> │              <span style=\"color: #008080; text-decoration-color: #008080; font-weight: bold\">1</span> │ <span style=\"color: #800080; text-decoration-color: #800080\">2018-11-03</span> │\n",
       "│       <span style=\"color: #008080; text-decoration-color: #008080; font-weight: bold\">1132</span> │              <span style=\"color: #008080; text-decoration-color: #008080; font-weight: bold\">2</span> │ <span style=\"color: #800080; text-decoration-color: #800080\">2018-11-18</span> │\n",
       "│       <span style=\"color: #008080; text-decoration-color: #008080; font-weight: bold\">1102</span> │              <span style=\"color: #008080; text-decoration-color: #008080; font-weight: bold\">1</span> │ <span style=\"color: #800080; text-decoration-color: #800080\">2017-07-12</span> │\n",
       "│       <span style=\"color: #008080; text-decoration-color: #008080; font-weight: bold\">1132</span> │              <span style=\"color: #008080; text-decoration-color: #008080; font-weight: bold\">1</span> │ <span style=\"color: #800080; text-decoration-color: #800080\">2019-02-05</span> │\n",
       "│       <span style=\"color: #008080; text-decoration-color: #008080; font-weight: bold\">1102</span> │              <span style=\"color: #008080; text-decoration-color: #008080; font-weight: bold\">2</span> │ <span style=\"color: #800080; text-decoration-color: #800080\">2018-08-21</span> │\n",
       "└────────────┴────────────────┴────────────┘\n",
       "</pre>\n"
      ],
      "text/plain": [
       "┏━━━━━━━━━━━━┳━━━━━━━━━━━━━━━━┳━━━━━━━━━━━━┓\n",
       "┃\u001b[1m \u001b[0m\u001b[1mreceipt_no\u001b[0m\u001b[1m \u001b[0m┃\u001b[1m \u001b[0m\u001b[1mreceipt_sub_no\u001b[0m\u001b[1m \u001b[0m┃\u001b[1m \u001b[0m\u001b[1msales_ymd\u001b[0m\u001b[1m \u001b[0m\u001b[1m \u001b[0m┃\n",
       "┡━━━━━━━━━━━━╇━━━━━━━━━━━━━━━━╇━━━━━━━━━━━━┩\n",
       "│ \u001b[2mint64\u001b[0m      │ \u001b[2mint64\u001b[0m          │ \u001b[2mdate\u001b[0m       │\n",
       "├────────────┼────────────────┼────────────┤\n",
       "│        \u001b[1;36m112\u001b[0m │              \u001b[1;36m1\u001b[0m │ \u001b[35m2018-11-03\u001b[0m │\n",
       "│       \u001b[1;36m1132\u001b[0m │              \u001b[1;36m2\u001b[0m │ \u001b[35m2018-11-18\u001b[0m │\n",
       "│       \u001b[1;36m1102\u001b[0m │              \u001b[1;36m1\u001b[0m │ \u001b[35m2017-07-12\u001b[0m │\n",
       "│       \u001b[1;36m1132\u001b[0m │              \u001b[1;36m1\u001b[0m │ \u001b[35m2019-02-05\u001b[0m │\n",
       "│       \u001b[1;36m1102\u001b[0m │              \u001b[1;36m2\u001b[0m │ \u001b[35m2018-08-21\u001b[0m │\n",
       "└────────────┴────────────────┴────────────┘"
      ]
     },
     "execution_count": 49,
     "metadata": {},
     "output_type": "execute_result"
    }
   ],
   "source": [
    "df_047 = (\n",
    "    df_receipt\n",
    "    .mutate(sales_ymd=df_receipt[\"sales_ymd\"].cast(str).to_date(\"%Y%m%d\"))\n",
    "    .select(\n",
    "        \"receipt_no\",\n",
    "        \"receipt_sub_no\",\n",
    "        \"sales_ymd\"\n",
    "    )\n",
    ")\n",
    "\n",
    "df_047.head()"
   ]
  },
  {
   "attachments": {},
   "cell_type": "markdown",
   "metadata": {},
   "source": [
    "---\n",
    "> P-048: レシート明細データ（df_receipt）の売上エポック秒（sales_epoch）は数値型のUNIX秒でデータを保有している。これを日付型に変換し、レシート番号(receipt_no)、レシートサブ番号（receipt_sub_no）とともに10件表示せよ。"
   ]
  },
  {
   "cell_type": "code",
   "execution_count": 50,
   "metadata": {},
   "outputs": [
    {
     "data": {
      "text/html": [
       "<div><style>\n",
       ".dataframe > thead > tr,\n",
       ".dataframe > tbody > tr {\n",
       "  text-align: right;\n",
       "  white-space: pre-wrap;\n",
       "}\n",
       "</style>\n",
       "<small>shape: (10, 3)</small><table border=\"1\" class=\"dataframe\"><thead><tr><th>receipt_no</th><th>receipt_sub_no</th><th>sales_epoch</th></tr><tr><td>i64</td><td>i64</td><td>datetime[μs]</td></tr></thead><tbody><tr><td>112</td><td>1</td><td>2018-11-03 00:00:00</td></tr><tr><td>1132</td><td>2</td><td>2018-11-18 00:00:00</td></tr><tr><td>1102</td><td>1</td><td>2017-07-12 00:00:00</td></tr><tr><td>1132</td><td>1</td><td>2019-02-05 00:00:00</td></tr><tr><td>1102</td><td>2</td><td>2018-08-21 00:00:00</td></tr><tr><td>1112</td><td>1</td><td>2019-06-05 00:00:00</td></tr><tr><td>1102</td><td>2</td><td>2018-12-05 00:00:00</td></tr><tr><td>1102</td><td>1</td><td>2019-09-22 00:00:00</td></tr><tr><td>1112</td><td>2</td><td>2017-05-04 00:00:00</td></tr><tr><td>1102</td><td>1</td><td>2019-10-10 00:00:00</td></tr></tbody></table></div>"
      ],
      "text/plain": [
       "shape: (10, 3)\n",
       "┌────────────┬────────────────┬─────────────────────┐\n",
       "│ receipt_no ┆ receipt_sub_no ┆ sales_epoch         │\n",
       "│ ---        ┆ ---            ┆ ---                 │\n",
       "│ i64        ┆ i64            ┆ datetime[μs]        │\n",
       "╞════════════╪════════════════╪═════════════════════╡\n",
       "│ 112        ┆ 1              ┆ 2018-11-03 00:00:00 │\n",
       "│ 1132       ┆ 2              ┆ 2018-11-18 00:00:00 │\n",
       "│ 1102       ┆ 1              ┆ 2017-07-12 00:00:00 │\n",
       "│ 1132       ┆ 1              ┆ 2019-02-05 00:00:00 │\n",
       "│ 1102       ┆ 2              ┆ 2018-08-21 00:00:00 │\n",
       "│ 1112       ┆ 1              ┆ 2019-06-05 00:00:00 │\n",
       "│ 1102       ┆ 2              ┆ 2018-12-05 00:00:00 │\n",
       "│ 1102       ┆ 1              ┆ 2019-09-22 00:00:00 │\n",
       "│ 1112       ┆ 2              ┆ 2017-05-04 00:00:00 │\n",
       "│ 1102       ┆ 1              ┆ 2019-10-10 00:00:00 │\n",
       "└────────────┴────────────────┴─────────────────────┘"
      ]
     },
     "execution_count": 50,
     "metadata": {},
     "output_type": "execute_result"
    }
   ],
   "source": [
    "# Polarsに変換しています\n",
    "\n",
    "df_048 = (\n",
    "    df_receipt\n",
    "    .to_polars()\n",
    "    .select(\n",
    "        \"receipt_no\", \"receipt_sub_no\",\n",
    "        pl.col(\"sales_epoch\").cast(dtype=pl.Utf8).str.strptime(dtype=pl.Datetime, format=\"%s\"),\n",
    "    )\n",
    ")\n",
    "\n",
    "df_048.head(10)"
   ]
  },
  {
   "attachments": {},
   "cell_type": "markdown",
   "metadata": {},
   "source": [
    "---\n",
    "> P-049: レシート明細データ（df_receipt）の売上エポック秒（sales_epoch）を日付型に変換し、「年」だけ取り出してレシート番号(receipt_no)、レシートサブ番号（receipt_sub_no）とともに10件表示せよ。"
   ]
  },
  {
   "cell_type": "code",
   "execution_count": 51,
   "metadata": {},
   "outputs": [
    {
     "data": {
      "text/html": [
       "<div><style>\n",
       ".dataframe > thead > tr,\n",
       ".dataframe > tbody > tr {\n",
       "  text-align: right;\n",
       "  white-space: pre-wrap;\n",
       "}\n",
       "</style>\n",
       "<small>shape: (10, 3)</small><table border=\"1\" class=\"dataframe\"><thead><tr><th>receipt_no</th><th>receipt_sub_no</th><th>sales_epoch</th></tr><tr><td>i64</td><td>i64</td><td>i32</td></tr></thead><tbody><tr><td>112</td><td>1</td><td>2018</td></tr><tr><td>1132</td><td>2</td><td>2018</td></tr><tr><td>1102</td><td>1</td><td>2017</td></tr><tr><td>1132</td><td>1</td><td>2019</td></tr><tr><td>1102</td><td>2</td><td>2018</td></tr><tr><td>1112</td><td>1</td><td>2019</td></tr><tr><td>1102</td><td>2</td><td>2018</td></tr><tr><td>1102</td><td>1</td><td>2019</td></tr><tr><td>1112</td><td>2</td><td>2017</td></tr><tr><td>1102</td><td>1</td><td>2019</td></tr></tbody></table></div>"
      ],
      "text/plain": [
       "shape: (10, 3)\n",
       "┌────────────┬────────────────┬─────────────┐\n",
       "│ receipt_no ┆ receipt_sub_no ┆ sales_epoch │\n",
       "│ ---        ┆ ---            ┆ ---         │\n",
       "│ i64        ┆ i64            ┆ i32         │\n",
       "╞════════════╪════════════════╪═════════════╡\n",
       "│ 112        ┆ 1              ┆ 2018        │\n",
       "│ 1132       ┆ 2              ┆ 2018        │\n",
       "│ 1102       ┆ 1              ┆ 2017        │\n",
       "│ 1132       ┆ 1              ┆ 2019        │\n",
       "│ 1102       ┆ 2              ┆ 2018        │\n",
       "│ 1112       ┆ 1              ┆ 2019        │\n",
       "│ 1102       ┆ 2              ┆ 2018        │\n",
       "│ 1102       ┆ 1              ┆ 2019        │\n",
       "│ 1112       ┆ 2              ┆ 2017        │\n",
       "│ 1102       ┆ 1              ┆ 2019        │\n",
       "└────────────┴────────────────┴─────────────┘"
      ]
     },
     "execution_count": 51,
     "metadata": {},
     "output_type": "execute_result"
    }
   ],
   "source": [
    "# Polarsに変換しています\n",
    "\n",
    "df_049 = df_receipt.to_polars().select(\n",
    "    \"receipt_no\", \"receipt_sub_no\",\n",
    "    pl.col(\"sales_epoch\").cast(dtype=pl.Utf8).str.strptime(dtype=pl.Datetime, format=\"%s\").dt.year(),\n",
    ")\n",
    "\n",
    "\n",
    "df_049.head(10)"
   ]
  },
  {
   "attachments": {},
   "cell_type": "markdown",
   "metadata": {},
   "source": [
    "---\n",
    "> P-050: レシート明細データ（df_receipt）の売上エポック秒（sales_epoch）を日付型に変換し、「月」だけ取り出してレシート番号(receipt_no)、レシートサブ番号（receipt_sub_no）とともに10件表示せよ。なお、「月」は0埋め2桁で取り出すこと。"
   ]
  },
  {
   "cell_type": "code",
   "execution_count": 52,
   "metadata": {},
   "outputs": [
    {
     "data": {
      "text/html": [
       "<div><style>\n",
       ".dataframe > thead > tr,\n",
       ".dataframe > tbody > tr {\n",
       "  text-align: right;\n",
       "  white-space: pre-wrap;\n",
       "}\n",
       "</style>\n",
       "<small>shape: (10, 3)</small><table border=\"1\" class=\"dataframe\"><thead><tr><th>receipt_no</th><th>receipt_sub_no</th><th>sales_epoch</th></tr><tr><td>i64</td><td>i64</td><td>str</td></tr></thead><tbody><tr><td>112</td><td>1</td><td>&quot;11&quot;</td></tr><tr><td>1132</td><td>2</td><td>&quot;11&quot;</td></tr><tr><td>1102</td><td>1</td><td>&quot;07&quot;</td></tr><tr><td>1132</td><td>1</td><td>&quot;02&quot;</td></tr><tr><td>1102</td><td>2</td><td>&quot;08&quot;</td></tr><tr><td>1112</td><td>1</td><td>&quot;06&quot;</td></tr><tr><td>1102</td><td>2</td><td>&quot;12&quot;</td></tr><tr><td>1102</td><td>1</td><td>&quot;09&quot;</td></tr><tr><td>1112</td><td>2</td><td>&quot;05&quot;</td></tr><tr><td>1102</td><td>1</td><td>&quot;10&quot;</td></tr></tbody></table></div>"
      ],
      "text/plain": [
       "shape: (10, 3)\n",
       "┌────────────┬────────────────┬─────────────┐\n",
       "│ receipt_no ┆ receipt_sub_no ┆ sales_epoch │\n",
       "│ ---        ┆ ---            ┆ ---         │\n",
       "│ i64        ┆ i64            ┆ str         │\n",
       "╞════════════╪════════════════╪═════════════╡\n",
       "│ 112        ┆ 1              ┆ 11          │\n",
       "│ 1132       ┆ 2              ┆ 11          │\n",
       "│ 1102       ┆ 1              ┆ 07          │\n",
       "│ 1132       ┆ 1              ┆ 02          │\n",
       "│ 1102       ┆ 2              ┆ 08          │\n",
       "│ 1112       ┆ 1              ┆ 06          │\n",
       "│ 1102       ┆ 2              ┆ 12          │\n",
       "│ 1102       ┆ 1              ┆ 09          │\n",
       "│ 1112       ┆ 2              ┆ 05          │\n",
       "│ 1102       ┆ 1              ┆ 10          │\n",
       "└────────────┴────────────────┴─────────────┘"
      ]
     },
     "execution_count": 52,
     "metadata": {},
     "output_type": "execute_result"
    }
   ],
   "source": [
    "# Polarsに変換しています\n",
    "\n",
    "df_050 = df_receipt.to_polars().select(\n",
    "    \"receipt_no\", \"receipt_sub_no\",\n",
    "    # 0埋めなので文字列\"strftime\"で抽出\n",
    "    pl.col(\"sales_epoch\").cast(dtype=pl.Utf8).str.strptime(dtype=pl.Datetime, format=\"%s\").dt.strftime(\"%m\"),\n",
    ")\n",
    "\n",
    "df_050.head(10)"
   ]
  },
  {
   "attachments": {},
   "cell_type": "markdown",
   "metadata": {},
   "source": [
    "---\n",
    "> P-051: レシート明細データ（df_receipt）の売上エポック秒を日付型に変換し、「日」だけ取り出してレシート番号(receipt_no)、レシートサブ番号（receipt_sub_no）とともに10件表示せよ。なお、「日」は0埋め2桁で取り出すこと。"
   ]
  },
  {
   "cell_type": "code",
   "execution_count": 53,
   "metadata": {},
   "outputs": [
    {
     "data": {
      "text/html": [
       "<div><style>\n",
       ".dataframe > thead > tr,\n",
       ".dataframe > tbody > tr {\n",
       "  text-align: right;\n",
       "  white-space: pre-wrap;\n",
       "}\n",
       "</style>\n",
       "<small>shape: (5, 3)</small><table border=\"1\" class=\"dataframe\"><thead><tr><th>receipt_no</th><th>receipt_sub_no</th><th>sales_epoch</th></tr><tr><td>i64</td><td>i64</td><td>str</td></tr></thead><tbody><tr><td>112</td><td>1</td><td>&quot;03&quot;</td></tr><tr><td>1132</td><td>2</td><td>&quot;18&quot;</td></tr><tr><td>1102</td><td>1</td><td>&quot;12&quot;</td></tr><tr><td>1132</td><td>1</td><td>&quot;05&quot;</td></tr><tr><td>1102</td><td>2</td><td>&quot;21&quot;</td></tr></tbody></table></div>"
      ],
      "text/plain": [
       "shape: (5, 3)\n",
       "┌────────────┬────────────────┬─────────────┐\n",
       "│ receipt_no ┆ receipt_sub_no ┆ sales_epoch │\n",
       "│ ---        ┆ ---            ┆ ---         │\n",
       "│ i64        ┆ i64            ┆ str         │\n",
       "╞════════════╪════════════════╪═════════════╡\n",
       "│ 112        ┆ 1              ┆ 03          │\n",
       "│ 1132       ┆ 2              ┆ 18          │\n",
       "│ 1102       ┆ 1              ┆ 12          │\n",
       "│ 1132       ┆ 1              ┆ 05          │\n",
       "│ 1102       ┆ 2              ┆ 21          │\n",
       "└────────────┴────────────────┴─────────────┘"
      ]
     },
     "execution_count": 53,
     "metadata": {},
     "output_type": "execute_result"
    }
   ],
   "source": [
    "df_051 = df_receipt.to_polars().select(\n",
    "    \"receipt_no\", \"receipt_sub_no\",\n",
    "    pl.col(\"sales_epoch\").cast(dtype=pl.Utf8).str.strptime(dtype=pl.Datetime, format=\"%s\").dt.strftime(\"%d\"),\n",
    ")\n",
    "\n",
    "df_051.head()"
   ]
  },
  {
   "attachments": {},
   "cell_type": "markdown",
   "metadata": {},
   "source": [
    "## 条件分岐"
   ]
  },
  {
   "attachments": {},
   "cell_type": "markdown",
   "metadata": {},
   "source": [
    "---\n",
    "> P-052: レシート明細データ（df_receipt）の売上金額（amount）を顧客ID（customer_id）ごとに合計の上、売上金額合計に対して2,000円以下を0、2,000円より大きい金額を1に二値化し、顧客ID、売上金額合計とともに10件表示せよ。ただし、顧客IDが\"Z\"から始まるのものは非会員を表すため、除外して計算すること。"
   ]
  },
  {
   "cell_type": "code",
   "execution_count": 54,
   "metadata": {},
   "outputs": [
    {
     "data": {
      "text/html": [
       "<pre style=\"white-space:pre;overflow-x:auto;line-height:normal;font-family:Menlo,'DejaVu Sans Mono',consolas,'Courier New',monospace\">┏━━━━━━━━━━━━━━━━┳━━━━━━━━━━━━┳━━━━━━━━━━━━┓\n",
       "┃<span style=\"font-weight: bold\"> customer_id    </span>┃<span style=\"font-weight: bold\"> sum_amount </span>┃<span style=\"font-weight: bold\"> sales_flag </span>┃\n",
       "┡━━━━━━━━━━━━━━━━╇━━━━━━━━━━━━╇━━━━━━━━━━━━┩\n",
       "│ <span style=\"color: #7f7f7f; text-decoration-color: #7f7f7f\">string</span>         │ <span style=\"color: #7f7f7f; text-decoration-color: #7f7f7f\">int64</span>      │ <span style=\"color: #7f7f7f; text-decoration-color: #7f7f7f\">int8</span>       │\n",
       "├────────────────┼────────────┼────────────┤\n",
       "│ <span style=\"color: #008000; text-decoration-color: #008000\">CS003515000195</span> │       <span style=\"color: #008080; text-decoration-color: #008080; font-weight: bold\">5412</span> │          <span style=\"color: #008080; text-decoration-color: #008080; font-weight: bold\">0</span> │\n",
       "│ <span style=\"color: #008000; text-decoration-color: #008000\">CS024514000042</span> │        <span style=\"color: #008080; text-decoration-color: #008080; font-weight: bold\">533</span> │          <span style=\"color: #008080; text-decoration-color: #008080; font-weight: bold\">1</span> │\n",
       "│ <span style=\"color: #008000; text-decoration-color: #008000\">CS026515000042</span> │       <span style=\"color: #008080; text-decoration-color: #008080; font-weight: bold\">6866</span> │          <span style=\"color: #008080; text-decoration-color: #008080; font-weight: bold\">0</span> │\n",
       "│ <span style=\"color: #008000; text-decoration-color: #008000\">CS005513000061</span> │       <span style=\"color: #008080; text-decoration-color: #008080; font-weight: bold\">2598</span> │          <span style=\"color: #008080; text-decoration-color: #008080; font-weight: bold\">0</span> │\n",
       "│ <span style=\"color: #008000; text-decoration-color: #008000\">CS022414000065</span> │       <span style=\"color: #008080; text-decoration-color: #008080; font-weight: bold\">4960</span> │          <span style=\"color: #008080; text-decoration-color: #008080; font-weight: bold\">0</span> │\n",
       "│ <span style=\"color: #008000; text-decoration-color: #008000\">CS004413000039</span> │       <span style=\"color: #008080; text-decoration-color: #008080; font-weight: bold\">2348</span> │          <span style=\"color: #008080; text-decoration-color: #008080; font-weight: bold\">0</span> │\n",
       "│ <span style=\"color: #008000; text-decoration-color: #008000\">CS030415000197</span> │      <span style=\"color: #008080; text-decoration-color: #008080; font-weight: bold\">11972</span> │          <span style=\"color: #008080; text-decoration-color: #008080; font-weight: bold\">0</span> │\n",
       "│ <span style=\"color: #008000; text-decoration-color: #008000\">CS004515000723</span> │        <span style=\"color: #008080; text-decoration-color: #008080; font-weight: bold\">809</span> │          <span style=\"color: #008080; text-decoration-color: #008080; font-weight: bold\">1</span> │\n",
       "│ <span style=\"color: #008000; text-decoration-color: #008000\">CS008414000013</span> │       <span style=\"color: #008080; text-decoration-color: #008080; font-weight: bold\">2523</span> │          <span style=\"color: #008080; text-decoration-color: #008080; font-weight: bold\">0</span> │\n",
       "│ <span style=\"color: #008000; text-decoration-color: #008000\">CS032215000073</span> │       <span style=\"color: #008080; text-decoration-color: #008080; font-weight: bold\">5520</span> │          <span style=\"color: #008080; text-decoration-color: #008080; font-weight: bold\">0</span> │\n",
       "└────────────────┴────────────┴────────────┘\n",
       "</pre>\n"
      ],
      "text/plain": [
       "┏━━━━━━━━━━━━━━━━┳━━━━━━━━━━━━┳━━━━━━━━━━━━┓\n",
       "┃\u001b[1m \u001b[0m\u001b[1mcustomer_id\u001b[0m\u001b[1m   \u001b[0m\u001b[1m \u001b[0m┃\u001b[1m \u001b[0m\u001b[1msum_amount\u001b[0m\u001b[1m \u001b[0m┃\u001b[1m \u001b[0m\u001b[1msales_flag\u001b[0m\u001b[1m \u001b[0m┃\n",
       "┡━━━━━━━━━━━━━━━━╇━━━━━━━━━━━━╇━━━━━━━━━━━━┩\n",
       "│ \u001b[2mstring\u001b[0m         │ \u001b[2mint64\u001b[0m      │ \u001b[2mint8\u001b[0m       │\n",
       "├────────────────┼────────────┼────────────┤\n",
       "│ \u001b[32mCS003515000195\u001b[0m │       \u001b[1;36m5412\u001b[0m │          \u001b[1;36m0\u001b[0m │\n",
       "│ \u001b[32mCS024514000042\u001b[0m │        \u001b[1;36m533\u001b[0m │          \u001b[1;36m1\u001b[0m │\n",
       "│ \u001b[32mCS026515000042\u001b[0m │       \u001b[1;36m6866\u001b[0m │          \u001b[1;36m0\u001b[0m │\n",
       "│ \u001b[32mCS005513000061\u001b[0m │       \u001b[1;36m2598\u001b[0m │          \u001b[1;36m0\u001b[0m │\n",
       "│ \u001b[32mCS022414000065\u001b[0m │       \u001b[1;36m4960\u001b[0m │          \u001b[1;36m0\u001b[0m │\n",
       "│ \u001b[32mCS004413000039\u001b[0m │       \u001b[1;36m2348\u001b[0m │          \u001b[1;36m0\u001b[0m │\n",
       "│ \u001b[32mCS030415000197\u001b[0m │      \u001b[1;36m11972\u001b[0m │          \u001b[1;36m0\u001b[0m │\n",
       "│ \u001b[32mCS004515000723\u001b[0m │        \u001b[1;36m809\u001b[0m │          \u001b[1;36m1\u001b[0m │\n",
       "│ \u001b[32mCS008414000013\u001b[0m │       \u001b[1;36m2523\u001b[0m │          \u001b[1;36m0\u001b[0m │\n",
       "│ \u001b[32mCS032215000073\u001b[0m │       \u001b[1;36m5520\u001b[0m │          \u001b[1;36m0\u001b[0m │\n",
       "└────────────────┴────────────┴────────────┘"
      ]
     },
     "execution_count": 54,
     "metadata": {},
     "output_type": "execute_result"
    }
   ],
   "source": [
    "df_052 = (\n",
    "    df_receipt\n",
    "    .filter(~df_receipt[\"customer_id\"].startswith(\"Z\"))\n",
    "    .group_by(\"customer_id\")\n",
    "    .aggregate(sum_amount=df_receipt[\"amount\"].sum())\n",
    "    .mutate(\n",
    "        sales_flag=(\n",
    "            ibis.case()\n",
    "            .when(_[\"sum_amount\"] <= 2000, 1)\n",
    "            .else_(0)\n",
    "            .end()\n",
    "        )\n",
    "    )\n",
    ")\n",
    "\n",
    "df_052.head(10)"
   ]
  },
  {
   "attachments": {},
   "cell_type": "markdown",
   "metadata": {},
   "source": [
    "---\n",
    "> P-053: 顧客データ（df_customer）の郵便番号（postal_cd）に対し、東京（先頭3桁が100〜209のもの）を1、それ以外のものを0に二値化せよ。さらにレシート明細データ（df_receipt）と結合し、全期間において売上実績のある顧客数を、作成した二値ごとにカウントせよ。"
   ]
  },
  {
   "cell_type": "code",
   "execution_count": 55,
   "metadata": {},
   "outputs": [
    {
     "data": {
      "text/html": [
       "<pre style=\"white-space:pre;overflow-x:auto;line-height:normal;font-family:Menlo,'DejaVu Sans Mono',consolas,'Courier New',monospace\">┏━━━━━━━━━━━━━┳━━━━━━━━━━━━━━━━━━━━━━┓\n",
       "┃<span style=\"font-weight: bold\"> postal_flag </span>┃<span style=\"font-weight: bold\"> customer_id_n_unique </span>┃\n",
       "┡━━━━━━━━━━━━━╇━━━━━━━━━━━━━━━━━━━━━━┩\n",
       "│ <span style=\"color: #7f7f7f; text-decoration-color: #7f7f7f\">int8</span>        │ <span style=\"color: #7f7f7f; text-decoration-color: #7f7f7f\">int64</span>                │\n",
       "├─────────────┼──────────────────────┤\n",
       "│           <span style=\"color: #008080; text-decoration-color: #008080; font-weight: bold\">0</span> │                 <span style=\"color: #008080; text-decoration-color: #008080; font-weight: bold\">3906</span> │\n",
       "│           <span style=\"color: #008080; text-decoration-color: #008080; font-weight: bold\">1</span> │                 <span style=\"color: #008080; text-decoration-color: #008080; font-weight: bold\">4400</span> │\n",
       "└─────────────┴──────────────────────┘\n",
       "</pre>\n"
      ],
      "text/plain": [
       "┏━━━━━━━━━━━━━┳━━━━━━━━━━━━━━━━━━━━━━┓\n",
       "┃\u001b[1m \u001b[0m\u001b[1mpostal_flag\u001b[0m\u001b[1m \u001b[0m┃\u001b[1m \u001b[0m\u001b[1mcustomer_id_n_unique\u001b[0m\u001b[1m \u001b[0m┃\n",
       "┡━━━━━━━━━━━━━╇━━━━━━━━━━━━━━━━━━━━━━┩\n",
       "│ \u001b[2mint8\u001b[0m        │ \u001b[2mint64\u001b[0m                │\n",
       "├─────────────┼──────────────────────┤\n",
       "│           \u001b[1;36m0\u001b[0m │                 \u001b[1;36m3906\u001b[0m │\n",
       "│           \u001b[1;36m1\u001b[0m │                 \u001b[1;36m4400\u001b[0m │\n",
       "└─────────────┴──────────────────────┘"
      ]
     },
     "execution_count": 55,
     "metadata": {},
     "output_type": "execute_result"
    }
   ],
   "source": [
    "df_053 = (\n",
    "    df_customer\n",
    "    .mutate(\n",
    "        postal_flag=(\n",
    "            ibis.case()\n",
    "            .when(df_customer[\"postal_cd\"][:3].cast(int).between(100, 209), 1)\n",
    "            .else_(0)\n",
    "            .end()\n",
    "        )\n",
    "    )\n",
    "    .join(df_receipt, predicates=\"customer_id\", how=\"inner\")\n",
    "    .group_by(\"postal_flag\")\n",
    "    .aggregate(customer_id_n_unique=_[\"customer_id\"].nunique())\n",
    ")\n",
    "\n",
    "df_053"
   ]
  },
  {
   "attachments": {},
   "cell_type": "markdown",
   "metadata": {},
   "source": [
    "---\n",
    "> P-054: 顧客データ（df_customer）の住所（address）は、埼玉県、千葉県、東京都、神奈川県のいずれかとなっている。都道府県毎にコード値を作成し、顧客ID、住所とともに10件表示せよ。値は埼玉県を11、千葉県を12、東京都を13、神奈川県を14とすること。"
   ]
  },
  {
   "cell_type": "code",
   "execution_count": 56,
   "metadata": {},
   "outputs": [
    {
     "data": {
      "text/html": [
       "<pre style=\"white-space:pre;overflow-x:auto;line-height:normal;font-family:Menlo,'DejaVu Sans Mono',consolas,'Courier New',monospace\">┏━━━━━━━━━━━━━━━━┳━━━━━━━━━━━━━━━━━━━━━━━━┳━━━━━━━━━━━━━━━┓\n",
       "┃<span style=\"font-weight: bold\"> customer_id    </span>┃<span style=\"font-weight: bold\"> address                </span>┃<span style=\"font-weight: bold\"> prefecture_cd </span>┃\n",
       "┡━━━━━━━━━━━━━━━━╇━━━━━━━━━━━━━━━━━━━━━━━━╇━━━━━━━━━━━━━━━┩\n",
       "│ <span style=\"color: #7f7f7f; text-decoration-color: #7f7f7f\">string</span>         │ <span style=\"color: #7f7f7f; text-decoration-color: #7f7f7f\">string</span>                 │ <span style=\"color: #7f7f7f; text-decoration-color: #7f7f7f\">string</span>        │\n",
       "├────────────────┼────────────────────────┼───────────────┤\n",
       "│ <span style=\"color: #008000; text-decoration-color: #008000\">CS021313000114</span> │ <span style=\"color: #008000; text-decoration-color: #008000\">神奈川県伊勢原市粟窪*…</span> │ <span style=\"color: #008000; text-decoration-color: #008000\">14           </span> │\n",
       "│ <span style=\"color: #008000; text-decoration-color: #008000\">CS037613000071</span> │ <span style=\"color: #008000; text-decoration-color: #008000\">東京都江東区南砂*****…</span> │ <span style=\"color: #008000; text-decoration-color: #008000\">13           </span> │\n",
       "│ <span style=\"color: #008000; text-decoration-color: #008000\">CS031415000172</span> │ <span style=\"color: #008000; text-decoration-color: #008000\">東京都渋谷区代々木***…</span> │ <span style=\"color: #008000; text-decoration-color: #008000\">13           </span> │\n",
       "│ <span style=\"color: #008000; text-decoration-color: #008000\">CS028811000001</span> │ <span style=\"color: #008000; text-decoration-color: #008000\">神奈川県横浜市泉区和 …</span> │ <span style=\"color: #008000; text-decoration-color: #008000\">14           </span> │\n",
       "│ <span style=\"color: #008000; text-decoration-color: #008000\">CS001215000145</span> │ <span style=\"color: #008000; text-decoration-color: #008000\">東京都大田区仲六郷***…</span> │ <span style=\"color: #008000; text-decoration-color: #008000\">13           </span> │\n",
       "│ <span style=\"color: #008000; text-decoration-color: #008000\">CS020401000016</span> │ <span style=\"color: #008000; text-decoration-color: #008000\">東京都板橋区若木*****…</span> │ <span style=\"color: #008000; text-decoration-color: #008000\">13           </span> │\n",
       "│ <span style=\"color: #008000; text-decoration-color: #008000\">CS015414000103</span> │ <span style=\"color: #008000; text-decoration-color: #008000\">東京都江東区北砂*****…</span> │ <span style=\"color: #008000; text-decoration-color: #008000\">13           </span> │\n",
       "│ <span style=\"color: #008000; text-decoration-color: #008000\">CS029403000008</span> │ <span style=\"color: #008000; text-decoration-color: #008000\">千葉県浦安市海楽*****…</span> │ <span style=\"color: #008000; text-decoration-color: #008000\">12           </span> │\n",
       "│ <span style=\"color: #008000; text-decoration-color: #008000\">CS015804000004</span> │ <span style=\"color: #008000; text-decoration-color: #008000\">東京都江東区北砂*****…</span> │ <span style=\"color: #008000; text-decoration-color: #008000\">13           </span> │\n",
       "│ <span style=\"color: #008000; text-decoration-color: #008000\">CS033513000180</span> │ <span style=\"color: #008000; text-decoration-color: #008000\">神奈川県横浜市旭区善 …</span> │ <span style=\"color: #008000; text-decoration-color: #008000\">14           </span> │\n",
       "└────────────────┴────────────────────────┴───────────────┘\n",
       "</pre>\n"
      ],
      "text/plain": [
       "┏━━━━━━━━━━━━━━━━┳━━━━━━━━━━━━━━━━━━━━━━━━┳━━━━━━━━━━━━━━━┓\n",
       "┃\u001b[1m \u001b[0m\u001b[1mcustomer_id\u001b[0m\u001b[1m   \u001b[0m\u001b[1m \u001b[0m┃\u001b[1m \u001b[0m\u001b[1maddress\u001b[0m\u001b[1m               \u001b[0m\u001b[1m \u001b[0m┃\u001b[1m \u001b[0m\u001b[1mprefecture_cd\u001b[0m\u001b[1m \u001b[0m┃\n",
       "┡━━━━━━━━━━━━━━━━╇━━━━━━━━━━━━━━━━━━━━━━━━╇━━━━━━━━━━━━━━━┩\n",
       "│ \u001b[2mstring\u001b[0m         │ \u001b[2mstring\u001b[0m                 │ \u001b[2mstring\u001b[0m        │\n",
       "├────────────────┼────────────────────────┼───────────────┤\n",
       "│ \u001b[32mCS021313000114\u001b[0m │ \u001b[32m神奈川県伊勢原市粟窪*…\u001b[0m │ \u001b[32m14           \u001b[0m │\n",
       "│ \u001b[32mCS037613000071\u001b[0m │ \u001b[32m東京都江東区南砂*****…\u001b[0m │ \u001b[32m13           \u001b[0m │\n",
       "│ \u001b[32mCS031415000172\u001b[0m │ \u001b[32m東京都渋谷区代々木***…\u001b[0m │ \u001b[32m13           \u001b[0m │\n",
       "│ \u001b[32mCS028811000001\u001b[0m │ \u001b[32m神奈川県横浜市泉区和 …\u001b[0m │ \u001b[32m14           \u001b[0m │\n",
       "│ \u001b[32mCS001215000145\u001b[0m │ \u001b[32m東京都大田区仲六郷***…\u001b[0m │ \u001b[32m13           \u001b[0m │\n",
       "│ \u001b[32mCS020401000016\u001b[0m │ \u001b[32m東京都板橋区若木*****…\u001b[0m │ \u001b[32m13           \u001b[0m │\n",
       "│ \u001b[32mCS015414000103\u001b[0m │ \u001b[32m東京都江東区北砂*****…\u001b[0m │ \u001b[32m13           \u001b[0m │\n",
       "│ \u001b[32mCS029403000008\u001b[0m │ \u001b[32m千葉県浦安市海楽*****…\u001b[0m │ \u001b[32m12           \u001b[0m │\n",
       "│ \u001b[32mCS015804000004\u001b[0m │ \u001b[32m東京都江東区北砂*****…\u001b[0m │ \u001b[32m13           \u001b[0m │\n",
       "│ \u001b[32mCS033513000180\u001b[0m │ \u001b[32m神奈川県横浜市旭区善 …\u001b[0m │ \u001b[32m14           \u001b[0m │\n",
       "└────────────────┴────────────────────────┴───────────────┘"
      ]
     },
     "execution_count": 56,
     "metadata": {},
     "output_type": "execute_result"
    }
   ],
   "source": [
    "df_054 = (\n",
    "    df_customer\n",
    "    .select(\"customer_id\", \"address\")\n",
    "    .mutate(\n",
    "        prefecture_cd=(\n",
    "            ibis.case()\n",
    "            .when(df_customer[\"address\"].startswith(\"埼玉県\"), \"11\")\n",
    "            .when(df_customer[\"address\"].startswith(\"千葉県\"), \"12\")\n",
    "            .when(df_customer[\"address\"].startswith(\"東京都\"), \"13\")\n",
    "            .when(df_customer[\"address\"].startswith(\"神奈川県\"), \"14\")\n",
    "            .else_(\"00\")\n",
    "            .end()\n",
    "        )\n",
    "    )\n",
    ")\n",
    "\n",
    "df_054.head(10)"
   ]
  },
  {
   "attachments": {},
   "cell_type": "markdown",
   "metadata": {},
   "source": [
    "---\n",
    "> P-055: レシート明細（df_receipt）データの売上金額（amount）を顧客ID（customer_id）ごとに合計し、その合計金額の四分位点を求めよ。その上で、顧客ごとの売上金額合計に対して以下の基準でカテゴリ値を作成し、顧客ID、売上金額合計とともに10件表示せよ。カテゴリ値は順に1〜4とする。\n",
    ">\n",
    "> - 最小値以上第1四分位未満 ・・・ 1を付与\n",
    "> - 第1四分位以上第2四分位未満 ・・・ 2を付与\n",
    "> - 第2四分位以上第3四分位未満 ・・・ 3を付与\n",
    "> - 第3四分位以上 ・・・ 4を付与"
   ]
  },
  {
   "cell_type": "code",
   "execution_count": 57,
   "metadata": {},
   "outputs": [
    {
     "data": {
      "text/html": [
       "<pre style=\"white-space:pre;overflow-x:auto;line-height:normal;font-family:Menlo,'DejaVu Sans Mono',consolas,'Courier New',monospace\">┏━━━━━━━━━━━━━━━━┳━━━━━━━━━━━━┳━━━━━━━━━━━┓\n",
       "┃<span style=\"font-weight: bold\"> customer_id    </span>┃<span style=\"font-weight: bold\"> sum_amount </span>┃<span style=\"font-weight: bold\"> pct_group </span>┃\n",
       "┡━━━━━━━━━━━━━━━━╇━━━━━━━━━━━━╇━━━━━━━━━━━┩\n",
       "│ <span style=\"color: #7f7f7f; text-decoration-color: #7f7f7f\">string</span>         │ <span style=\"color: #7f7f7f; text-decoration-color: #7f7f7f\">int64</span>      │ <span style=\"color: #7f7f7f; text-decoration-color: #7f7f7f\">int8</span>      │\n",
       "├────────────────┼────────────┼───────────┤\n",
       "│ <span style=\"color: #008000; text-decoration-color: #008000\">CS001113000004</span> │       <span style=\"color: #008080; text-decoration-color: #008080; font-weight: bold\">1298</span> │         <span style=\"color: #008080; text-decoration-color: #008080; font-weight: bold\">2</span> │\n",
       "│ <span style=\"color: #008000; text-decoration-color: #008000\">CS001114000005</span> │        <span style=\"color: #008080; text-decoration-color: #008080; font-weight: bold\">626</span> │         <span style=\"color: #008080; text-decoration-color: #008080; font-weight: bold\">2</span> │\n",
       "│ <span style=\"color: #008000; text-decoration-color: #008000\">CS001115000010</span> │       <span style=\"color: #008080; text-decoration-color: #008080; font-weight: bold\">3044</span> │         <span style=\"color: #008080; text-decoration-color: #008080; font-weight: bold\">3</span> │\n",
       "│ <span style=\"color: #008000; text-decoration-color: #008000\">CS001205000004</span> │       <span style=\"color: #008080; text-decoration-color: #008080; font-weight: bold\">1988</span> │         <span style=\"color: #008080; text-decoration-color: #008080; font-weight: bold\">3</span> │\n",
       "│ <span style=\"color: #008000; text-decoration-color: #008000\">CS001205000006</span> │       <span style=\"color: #008080; text-decoration-color: #008080; font-weight: bold\">3337</span> │         <span style=\"color: #008080; text-decoration-color: #008080; font-weight: bold\">3</span> │\n",
       "│ <span style=\"color: #008000; text-decoration-color: #008000\">CS001211000025</span> │        <span style=\"color: #008080; text-decoration-color: #008080; font-weight: bold\">456</span> │         <span style=\"color: #008080; text-decoration-color: #008080; font-weight: bold\">1</span> │\n",
       "│ <span style=\"color: #008000; text-decoration-color: #008000\">CS001212000027</span> │        <span style=\"color: #008080; text-decoration-color: #008080; font-weight: bold\">448</span> │         <span style=\"color: #008080; text-decoration-color: #008080; font-weight: bold\">1</span> │\n",
       "│ <span style=\"color: #008000; text-decoration-color: #008000\">CS001212000031</span> │        <span style=\"color: #008080; text-decoration-color: #008080; font-weight: bold\">296</span> │         <span style=\"color: #008080; text-decoration-color: #008080; font-weight: bold\">1</span> │\n",
       "│ <span style=\"color: #008000; text-decoration-color: #008000\">CS001212000046</span> │        <span style=\"color: #008080; text-decoration-color: #008080; font-weight: bold\">228</span> │         <span style=\"color: #008080; text-decoration-color: #008080; font-weight: bold\">1</span> │\n",
       "│ <span style=\"color: #008000; text-decoration-color: #008000\">CS001212000070</span> │        <span style=\"color: #008080; text-decoration-color: #008080; font-weight: bold\">456</span> │         <span style=\"color: #008080; text-decoration-color: #008080; font-weight: bold\">1</span> │\n",
       "└────────────────┴────────────┴───────────┘\n",
       "</pre>\n"
      ],
      "text/plain": [
       "┏━━━━━━━━━━━━━━━━┳━━━━━━━━━━━━┳━━━━━━━━━━━┓\n",
       "┃\u001b[1m \u001b[0m\u001b[1mcustomer_id\u001b[0m\u001b[1m   \u001b[0m\u001b[1m \u001b[0m┃\u001b[1m \u001b[0m\u001b[1msum_amount\u001b[0m\u001b[1m \u001b[0m┃\u001b[1m \u001b[0m\u001b[1mpct_group\u001b[0m\u001b[1m \u001b[0m┃\n",
       "┡━━━━━━━━━━━━━━━━╇━━━━━━━━━━━━╇━━━━━━━━━━━┩\n",
       "│ \u001b[2mstring\u001b[0m         │ \u001b[2mint64\u001b[0m      │ \u001b[2mint8\u001b[0m      │\n",
       "├────────────────┼────────────┼───────────┤\n",
       "│ \u001b[32mCS001113000004\u001b[0m │       \u001b[1;36m1298\u001b[0m │         \u001b[1;36m2\u001b[0m │\n",
       "│ \u001b[32mCS001114000005\u001b[0m │        \u001b[1;36m626\u001b[0m │         \u001b[1;36m2\u001b[0m │\n",
       "│ \u001b[32mCS001115000010\u001b[0m │       \u001b[1;36m3044\u001b[0m │         \u001b[1;36m3\u001b[0m │\n",
       "│ \u001b[32mCS001205000004\u001b[0m │       \u001b[1;36m1988\u001b[0m │         \u001b[1;36m3\u001b[0m │\n",
       "│ \u001b[32mCS001205000006\u001b[0m │       \u001b[1;36m3337\u001b[0m │         \u001b[1;36m3\u001b[0m │\n",
       "│ \u001b[32mCS001211000025\u001b[0m │        \u001b[1;36m456\u001b[0m │         \u001b[1;36m1\u001b[0m │\n",
       "│ \u001b[32mCS001212000027\u001b[0m │        \u001b[1;36m448\u001b[0m │         \u001b[1;36m1\u001b[0m │\n",
       "│ \u001b[32mCS001212000031\u001b[0m │        \u001b[1;36m296\u001b[0m │         \u001b[1;36m1\u001b[0m │\n",
       "│ \u001b[32mCS001212000046\u001b[0m │        \u001b[1;36m228\u001b[0m │         \u001b[1;36m1\u001b[0m │\n",
       "│ \u001b[32mCS001212000070\u001b[0m │        \u001b[1;36m456\u001b[0m │         \u001b[1;36m1\u001b[0m │\n",
       "└────────────────┴────────────┴───────────┘"
      ]
     },
     "execution_count": 57,
     "metadata": {},
     "output_type": "execute_result"
    }
   ],
   "source": [
    "df_055 = (\n",
    "    df_receipt\n",
    "    .group_by(\"customer_id\")\n",
    "    .aggregate(sum_amount=df_receipt[\"amount\"].sum())\n",
    "    .order_by(\"customer_id\")\n",
    "    .mutate(\n",
    "        pct_group=(\n",
    "            ibis.case()\n",
    "            .when(_[\"sum_amount\"] < _[\"sum_amount\"].execute().quantile(0.25), 1)\n",
    "            .when(_[\"sum_amount\"] < _[\"sum_amount\"].execute().quantile(0.50), 2)\n",
    "            .when(_[\"sum_amount\"] < _[\"sum_amount\"].execute().quantile(0.75), 3)\n",
    "            .else_(4)\n",
    "            .end()\n",
    "        )\n",
    "    )\n",
    ")\n",
    "\n",
    "df_055.head(10)"
   ]
  },
  {
   "attachments": {},
   "cell_type": "markdown",
   "metadata": {},
   "source": [
    "---\n",
    "> P-056: 顧客データ（df_customer）の年齢（age）をもとに10歳刻みで年代を算出し、顧客ID（customer_id）、生年月日（birth_day）とともに10件表示せよ。ただし、60歳以上は全て60歳代とすること。年代を表すカテゴリ名は任意とする。"
   ]
  },
  {
   "cell_type": "code",
   "execution_count": 58,
   "metadata": {},
   "outputs": [
    {
     "data": {
      "text/html": [
       "<pre style=\"white-space:pre;overflow-x:auto;line-height:normal;font-family:Menlo,'DejaVu Sans Mono',consolas,'Courier New',monospace\">┏━━━━━━━━━━━━━━━━┳━━━━━━━━━━━━┳━━━━━━━┓\n",
       "┃<span style=\"font-weight: bold\"> customer_id    </span>┃<span style=\"font-weight: bold\"> birth_day  </span>┃<span style=\"font-weight: bold\"> era   </span>┃\n",
       "┡━━━━━━━━━━━━━━━━╇━━━━━━━━━━━━╇━━━━━━━┩\n",
       "│ <span style=\"color: #7f7f7f; text-decoration-color: #7f7f7f\">string</span>         │ <span style=\"color: #7f7f7f; text-decoration-color: #7f7f7f\">date</span>       │ <span style=\"color: #7f7f7f; text-decoration-color: #7f7f7f\">int64</span> │\n",
       "├────────────────┼────────────┼───────┤\n",
       "│ <span style=\"color: #008000; text-decoration-color: #008000\">CS021313000114</span> │ <span style=\"color: #800080; text-decoration-color: #800080\">1981-04-29</span> │    <span style=\"color: #008080; text-decoration-color: #008080; font-weight: bold\">30</span> │\n",
       "│ <span style=\"color: #008000; text-decoration-color: #008000\">CS037613000071</span> │ <span style=\"color: #800080; text-decoration-color: #800080\">1952-04-01</span> │    <span style=\"color: #008080; text-decoration-color: #008080; font-weight: bold\">60</span> │\n",
       "│ <span style=\"color: #008000; text-decoration-color: #008000\">CS031415000172</span> │ <span style=\"color: #800080; text-decoration-color: #800080\">1976-10-04</span> │    <span style=\"color: #008080; text-decoration-color: #008080; font-weight: bold\">40</span> │\n",
       "│ <span style=\"color: #008000; text-decoration-color: #008000\">CS028811000001</span> │ <span style=\"color: #800080; text-decoration-color: #800080\">1933-03-27</span> │    <span style=\"color: #008080; text-decoration-color: #008080; font-weight: bold\">60</span> │\n",
       "│ <span style=\"color: #008000; text-decoration-color: #008000\">CS001215000145</span> │ <span style=\"color: #800080; text-decoration-color: #800080\">1995-03-29</span> │    <span style=\"color: #008080; text-decoration-color: #008080; font-weight: bold\">20</span> │\n",
       "│ <span style=\"color: #008000; text-decoration-color: #008000\">CS020401000016</span> │ <span style=\"color: #800080; text-decoration-color: #800080\">1974-09-15</span> │    <span style=\"color: #008080; text-decoration-color: #008080; font-weight: bold\">40</span> │\n",
       "│ <span style=\"color: #008000; text-decoration-color: #008000\">CS015414000103</span> │ <span style=\"color: #800080; text-decoration-color: #800080\">1977-08-09</span> │    <span style=\"color: #008080; text-decoration-color: #008080; font-weight: bold\">40</span> │\n",
       "│ <span style=\"color: #008000; text-decoration-color: #008000\">CS029403000008</span> │ <span style=\"color: #800080; text-decoration-color: #800080\">1973-08-17</span> │    <span style=\"color: #008080; text-decoration-color: #008080; font-weight: bold\">40</span> │\n",
       "│ <span style=\"color: #008000; text-decoration-color: #008000\">CS015804000004</span> │ <span style=\"color: #800080; text-decoration-color: #800080\">1931-05-02</span> │    <span style=\"color: #008080; text-decoration-color: #008080; font-weight: bold\">60</span> │\n",
       "│ <span style=\"color: #008000; text-decoration-color: #008000\">CS033513000180</span> │ <span style=\"color: #800080; text-decoration-color: #800080\">1962-07-11</span> │    <span style=\"color: #008080; text-decoration-color: #008080; font-weight: bold\">50</span> │\n",
       "└────────────────┴────────────┴───────┘\n",
       "</pre>\n"
      ],
      "text/plain": [
       "┏━━━━━━━━━━━━━━━━┳━━━━━━━━━━━━┳━━━━━━━┓\n",
       "┃\u001b[1m \u001b[0m\u001b[1mcustomer_id\u001b[0m\u001b[1m   \u001b[0m\u001b[1m \u001b[0m┃\u001b[1m \u001b[0m\u001b[1mbirth_day\u001b[0m\u001b[1m \u001b[0m\u001b[1m \u001b[0m┃\u001b[1m \u001b[0m\u001b[1mera\u001b[0m\u001b[1m  \u001b[0m\u001b[1m \u001b[0m┃\n",
       "┡━━━━━━━━━━━━━━━━╇━━━━━━━━━━━━╇━━━━━━━┩\n",
       "│ \u001b[2mstring\u001b[0m         │ \u001b[2mdate\u001b[0m       │ \u001b[2mint64\u001b[0m │\n",
       "├────────────────┼────────────┼───────┤\n",
       "│ \u001b[32mCS021313000114\u001b[0m │ \u001b[35m1981-04-29\u001b[0m │    \u001b[1;36m30\u001b[0m │\n",
       "│ \u001b[32mCS037613000071\u001b[0m │ \u001b[35m1952-04-01\u001b[0m │    \u001b[1;36m60\u001b[0m │\n",
       "│ \u001b[32mCS031415000172\u001b[0m │ \u001b[35m1976-10-04\u001b[0m │    \u001b[1;36m40\u001b[0m │\n",
       "│ \u001b[32mCS028811000001\u001b[0m │ \u001b[35m1933-03-27\u001b[0m │    \u001b[1;36m60\u001b[0m │\n",
       "│ \u001b[32mCS001215000145\u001b[0m │ \u001b[35m1995-03-29\u001b[0m │    \u001b[1;36m20\u001b[0m │\n",
       "│ \u001b[32mCS020401000016\u001b[0m │ \u001b[35m1974-09-15\u001b[0m │    \u001b[1;36m40\u001b[0m │\n",
       "│ \u001b[32mCS015414000103\u001b[0m │ \u001b[35m1977-08-09\u001b[0m │    \u001b[1;36m40\u001b[0m │\n",
       "│ \u001b[32mCS029403000008\u001b[0m │ \u001b[35m1973-08-17\u001b[0m │    \u001b[1;36m40\u001b[0m │\n",
       "│ \u001b[32mCS015804000004\u001b[0m │ \u001b[35m1931-05-02\u001b[0m │    \u001b[1;36m60\u001b[0m │\n",
       "│ \u001b[32mCS033513000180\u001b[0m │ \u001b[35m1962-07-11\u001b[0m │    \u001b[1;36m50\u001b[0m │\n",
       "└────────────────┴────────────┴───────┘"
      ]
     },
     "execution_count": 58,
     "metadata": {},
     "output_type": "execute_result"
    }
   ],
   "source": [
    "df_056 = (\n",
    "    df_customer\n",
    "    .mutate(era=df_customer[\"age\"] // 10 * 10)\n",
    "    .select(\"customer_id\", \"birth_day\", \"era\")\n",
    "    .mutate(\n",
    "        era=ibis.case()\n",
    "        .when(_[\"era\"] >= 60, 60)\n",
    "        .else_(_[\"era\"])\n",
    "        .end()\n",
    "    )\n",
    ")\n",
    "\n",
    "df_056.head(10)"
   ]
  },
  {
   "attachments": {},
   "cell_type": "markdown",
   "metadata": {},
   "source": [
    "---\n",
    "> P-057: 056の抽出結果と性別コード（gender_cd）により、新たに性別×年代の組み合わせを表すカテゴリデータを作成し、10件表示せよ。組み合わせを表すカテゴリの値は任意とする。"
   ]
  },
  {
   "cell_type": "code",
   "execution_count": 59,
   "metadata": {},
   "outputs": [
    {
     "data": {
      "text/html": [
       "<pre style=\"white-space:pre;overflow-x:auto;line-height:normal;font-family:Menlo,'DejaVu Sans Mono',consolas,'Courier New',monospace\">┏━━━━━━━━━━━━━━━━┳━━━━━━━━━━━━┳━━━━━━━┳━━━━━━━━━━━━┓\n",
       "┃<span style=\"font-weight: bold\"> customer_id    </span>┃<span style=\"font-weight: bold\"> birth_day  </span>┃<span style=\"font-weight: bold\"> era   </span>┃<span style=\"font-weight: bold\"> gender_era </span>┃\n",
       "┡━━━━━━━━━━━━━━━━╇━━━━━━━━━━━━╇━━━━━━━╇━━━━━━━━━━━━┩\n",
       "│ <span style=\"color: #7f7f7f; text-decoration-color: #7f7f7f\">string</span>         │ <span style=\"color: #7f7f7f; text-decoration-color: #7f7f7f\">date</span>       │ <span style=\"color: #7f7f7f; text-decoration-color: #7f7f7f\">int64</span> │ <span style=\"color: #7f7f7f; text-decoration-color: #7f7f7f\">string</span>     │\n",
       "├────────────────┼────────────┼───────┼────────────┤\n",
       "│ <span style=\"color: #008000; text-decoration-color: #008000\">CS021313000114</span> │ <span style=\"color: #800080; text-decoration-color: #800080\">1981-04-29</span> │    <span style=\"color: #008080; text-decoration-color: #008080; font-weight: bold\">30</span> │ <span style=\"color: #008000; text-decoration-color: #008000\">130       </span> │\n",
       "│ <span style=\"color: #008000; text-decoration-color: #008000\">CS037613000071</span> │ <span style=\"color: #800080; text-decoration-color: #800080\">1952-04-01</span> │    <span style=\"color: #008080; text-decoration-color: #008080; font-weight: bold\">60</span> │ <span style=\"color: #008000; text-decoration-color: #008000\">960       </span> │\n",
       "│ <span style=\"color: #008000; text-decoration-color: #008000\">CS031415000172</span> │ <span style=\"color: #800080; text-decoration-color: #800080\">1976-10-04</span> │    <span style=\"color: #008080; text-decoration-color: #008080; font-weight: bold\">40</span> │ <span style=\"color: #008000; text-decoration-color: #008000\">140       </span> │\n",
       "│ <span style=\"color: #008000; text-decoration-color: #008000\">CS028811000001</span> │ <span style=\"color: #800080; text-decoration-color: #800080\">1933-03-27</span> │    <span style=\"color: #008080; text-decoration-color: #008080; font-weight: bold\">60</span> │ <span style=\"color: #008000; text-decoration-color: #008000\">160       </span> │\n",
       "│ <span style=\"color: #008000; text-decoration-color: #008000\">CS001215000145</span> │ <span style=\"color: #800080; text-decoration-color: #800080\">1995-03-29</span> │    <span style=\"color: #008080; text-decoration-color: #008080; font-weight: bold\">20</span> │ <span style=\"color: #008000; text-decoration-color: #008000\">120       </span> │\n",
       "│ <span style=\"color: #008000; text-decoration-color: #008000\">CS020401000016</span> │ <span style=\"color: #800080; text-decoration-color: #800080\">1974-09-15</span> │    <span style=\"color: #008080; text-decoration-color: #008080; font-weight: bold\">40</span> │ <span style=\"color: #008000; text-decoration-color: #008000\">040       </span> │\n",
       "│ <span style=\"color: #008000; text-decoration-color: #008000\">CS015414000103</span> │ <span style=\"color: #800080; text-decoration-color: #800080\">1977-08-09</span> │    <span style=\"color: #008080; text-decoration-color: #008080; font-weight: bold\">40</span> │ <span style=\"color: #008000; text-decoration-color: #008000\">140       </span> │\n",
       "│ <span style=\"color: #008000; text-decoration-color: #008000\">CS029403000008</span> │ <span style=\"color: #800080; text-decoration-color: #800080\">1973-08-17</span> │    <span style=\"color: #008080; text-decoration-color: #008080; font-weight: bold\">40</span> │ <span style=\"color: #008000; text-decoration-color: #008000\">040       </span> │\n",
       "│ <span style=\"color: #008000; text-decoration-color: #008000\">CS015804000004</span> │ <span style=\"color: #800080; text-decoration-color: #800080\">1931-05-02</span> │    <span style=\"color: #008080; text-decoration-color: #008080; font-weight: bold\">60</span> │ <span style=\"color: #008000; text-decoration-color: #008000\">060       </span> │\n",
       "│ <span style=\"color: #008000; text-decoration-color: #008000\">CS033513000180</span> │ <span style=\"color: #800080; text-decoration-color: #800080\">1962-07-11</span> │    <span style=\"color: #008080; text-decoration-color: #008080; font-weight: bold\">50</span> │ <span style=\"color: #008000; text-decoration-color: #008000\">150       </span> │\n",
       "└────────────────┴────────────┴───────┴────────────┘\n",
       "</pre>\n"
      ],
      "text/plain": [
       "┏━━━━━━━━━━━━━━━━┳━━━━━━━━━━━━┳━━━━━━━┳━━━━━━━━━━━━┓\n",
       "┃\u001b[1m \u001b[0m\u001b[1mcustomer_id\u001b[0m\u001b[1m   \u001b[0m\u001b[1m \u001b[0m┃\u001b[1m \u001b[0m\u001b[1mbirth_day\u001b[0m\u001b[1m \u001b[0m\u001b[1m \u001b[0m┃\u001b[1m \u001b[0m\u001b[1mera\u001b[0m\u001b[1m  \u001b[0m\u001b[1m \u001b[0m┃\u001b[1m \u001b[0m\u001b[1mgender_era\u001b[0m\u001b[1m \u001b[0m┃\n",
       "┡━━━━━━━━━━━━━━━━╇━━━━━━━━━━━━╇━━━━━━━╇━━━━━━━━━━━━┩\n",
       "│ \u001b[2mstring\u001b[0m         │ \u001b[2mdate\u001b[0m       │ \u001b[2mint64\u001b[0m │ \u001b[2mstring\u001b[0m     │\n",
       "├────────────────┼────────────┼───────┼────────────┤\n",
       "│ \u001b[32mCS021313000114\u001b[0m │ \u001b[35m1981-04-29\u001b[0m │    \u001b[1;36m30\u001b[0m │ \u001b[32m130       \u001b[0m │\n",
       "│ \u001b[32mCS037613000071\u001b[0m │ \u001b[35m1952-04-01\u001b[0m │    \u001b[1;36m60\u001b[0m │ \u001b[32m960       \u001b[0m │\n",
       "│ \u001b[32mCS031415000172\u001b[0m │ \u001b[35m1976-10-04\u001b[0m │    \u001b[1;36m40\u001b[0m │ \u001b[32m140       \u001b[0m │\n",
       "│ \u001b[32mCS028811000001\u001b[0m │ \u001b[35m1933-03-27\u001b[0m │    \u001b[1;36m60\u001b[0m │ \u001b[32m160       \u001b[0m │\n",
       "│ \u001b[32mCS001215000145\u001b[0m │ \u001b[35m1995-03-29\u001b[0m │    \u001b[1;36m20\u001b[0m │ \u001b[32m120       \u001b[0m │\n",
       "│ \u001b[32mCS020401000016\u001b[0m │ \u001b[35m1974-09-15\u001b[0m │    \u001b[1;36m40\u001b[0m │ \u001b[32m040       \u001b[0m │\n",
       "│ \u001b[32mCS015414000103\u001b[0m │ \u001b[35m1977-08-09\u001b[0m │    \u001b[1;36m40\u001b[0m │ \u001b[32m140       \u001b[0m │\n",
       "│ \u001b[32mCS029403000008\u001b[0m │ \u001b[35m1973-08-17\u001b[0m │    \u001b[1;36m40\u001b[0m │ \u001b[32m040       \u001b[0m │\n",
       "│ \u001b[32mCS015804000004\u001b[0m │ \u001b[35m1931-05-02\u001b[0m │    \u001b[1;36m60\u001b[0m │ \u001b[32m060       \u001b[0m │\n",
       "│ \u001b[32mCS033513000180\u001b[0m │ \u001b[35m1962-07-11\u001b[0m │    \u001b[1;36m50\u001b[0m │ \u001b[32m150       \u001b[0m │\n",
       "└────────────────┴────────────┴───────┴────────────┘"
      ]
     },
     "execution_count": 59,
     "metadata": {},
     "output_type": "execute_result"
    }
   ],
   "source": [
    "df_057 = (\n",
    "    df_056.join(df_customer, predicates=\"customer_id\", how=\"inner\")\n",
    "    .mutate(\n",
    "        gender_era=_[\"gender_cd\"] + _[\"era\"].cast(str)\n",
    "    )\n",
    "    .select(\"customer_id\", \"birth_day\", \"era\", \"gender_era\")\n",
    ")\n",
    "\n",
    "df_057.head(10)"
   ]
  },
  {
   "attachments": {},
   "cell_type": "markdown",
   "metadata": {},
   "source": [
    "---\n",
    "> P-058: 顧客データ（df_customer）の性別コード（gender_cd）をダミー変数化し、顧客ID（customer_id）とともに10件表示せよ。"
   ]
  },
  {
   "cell_type": "code",
   "execution_count": 60,
   "metadata": {},
   "outputs": [],
   "source": [
    "# できていない"
   ]
  },
  {
   "attachments": {},
   "cell_type": "markdown",
   "metadata": {},
   "source": [
    "## 統計処理"
   ]
  },
  {
   "attachments": {},
   "cell_type": "markdown",
   "metadata": {},
   "source": [
    "---\n",
    "> P-059: レシート明細データ（df_receipt）の売上金額（amount）を顧客ID（customer_id）ごとに合計し、売上金額合計を平均0、標準偏差1に標準化して顧客ID、売上金額合計とともに10件表示せよ。標準化に使用する標準偏差は、分散の平方根、もしくは不偏分散の平方根のどちらでも良いものとする。ただし、顧客IDが\"Z\"から始まるのものは非会員を表すため、除外して計算すること。\n",
    "\n",
    "- 標準化\n",
    "$$\n",
    "x_{new}^i = \\frac{x^i - \\mu}{\\sigma}\n",
    "$$"
   ]
  },
  {
   "cell_type": "code",
   "execution_count": 61,
   "metadata": {},
   "outputs": [
    {
     "data": {
      "text/html": [
       "<pre style=\"white-space:pre;overflow-x:auto;line-height:normal;font-family:Menlo,'DejaVu Sans Mono',consolas,'Courier New',monospace\">┏━━━━━━━━━━━━━━━━┳━━━━━━━━━━━━┳━━━━━━━━━━━━━━━━━━━┓\n",
       "┃<span style=\"font-weight: bold\"> customer_id    </span>┃<span style=\"font-weight: bold\"> sum_amount </span>┃<span style=\"font-weight: bold\"> stdardized_amount </span>┃\n",
       "┡━━━━━━━━━━━━━━━━╇━━━━━━━━━━━━╇━━━━━━━━━━━━━━━━━━━┩\n",
       "│ <span style=\"color: #7f7f7f; text-decoration-color: #7f7f7f\">string</span>         │ <span style=\"color: #7f7f7f; text-decoration-color: #7f7f7f\">int64</span>      │ <span style=\"color: #7f7f7f; text-decoration-color: #7f7f7f\">float64</span>           │\n",
       "├────────────────┼────────────┼───────────────────┤\n",
       "│ <span style=\"color: #008000; text-decoration-color: #008000\">CS001113000004</span> │       <span style=\"color: #008080; text-decoration-color: #008080; font-weight: bold\">1298</span> │         <span style=\"color: #008080; text-decoration-color: #008080; font-weight: bold\">-0.459350</span> │\n",
       "│ <span style=\"color: #008000; text-decoration-color: #008000\">CS001114000005</span> │        <span style=\"color: #008080; text-decoration-color: #008080; font-weight: bold\">626</span> │         <span style=\"color: #008080; text-decoration-color: #008080; font-weight: bold\">-0.706348</span> │\n",
       "│ <span style=\"color: #008000; text-decoration-color: #008000\">CS001115000010</span> │       <span style=\"color: #008080; text-decoration-color: #008080; font-weight: bold\">3044</span> │          <span style=\"color: #008080; text-decoration-color: #008080; font-weight: bold\">0.182403</span> │\n",
       "│ <span style=\"color: #008000; text-decoration-color: #008000\">CS001205000004</span> │       <span style=\"color: #008080; text-decoration-color: #008080; font-weight: bold\">1988</span> │         <span style=\"color: #008080; text-decoration-color: #008080; font-weight: bold\">-0.205737</span> │\n",
       "│ <span style=\"color: #008000; text-decoration-color: #008000\">CS001205000006</span> │       <span style=\"color: #008080; text-decoration-color: #008080; font-weight: bold\">3337</span> │          <span style=\"color: #008080; text-decoration-color: #008080; font-weight: bold\">0.290096</span> │\n",
       "│ <span style=\"color: #008000; text-decoration-color: #008000\">CS001211000025</span> │        <span style=\"color: #008080; text-decoration-color: #008080; font-weight: bold\">456</span> │         <span style=\"color: #008080; text-decoration-color: #008080; font-weight: bold\">-0.768832</span> │\n",
       "│ <span style=\"color: #008000; text-decoration-color: #008000\">CS001212000027</span> │        <span style=\"color: #008080; text-decoration-color: #008080; font-weight: bold\">448</span> │         <span style=\"color: #008080; text-decoration-color: #008080; font-weight: bold\">-0.771773</span> │\n",
       "│ <span style=\"color: #008000; text-decoration-color: #008000\">CS001212000031</span> │        <span style=\"color: #008080; text-decoration-color: #008080; font-weight: bold\">296</span> │         <span style=\"color: #008080; text-decoration-color: #008080; font-weight: bold\">-0.827641</span> │\n",
       "│ <span style=\"color: #008000; text-decoration-color: #008000\">CS001212000046</span> │        <span style=\"color: #008080; text-decoration-color: #008080; font-weight: bold\">228</span> │         <span style=\"color: #008080; text-decoration-color: #008080; font-weight: bold\">-0.852635</span> │\n",
       "│ <span style=\"color: #008000; text-decoration-color: #008000\">CS001212000070</span> │        <span style=\"color: #008080; text-decoration-color: #008080; font-weight: bold\">456</span> │         <span style=\"color: #008080; text-decoration-color: #008080; font-weight: bold\">-0.768832</span> │\n",
       "└────────────────┴────────────┴───────────────────┘\n",
       "</pre>\n"
      ],
      "text/plain": [
       "┏━━━━━━━━━━━━━━━━┳━━━━━━━━━━━━┳━━━━━━━━━━━━━━━━━━━┓\n",
       "┃\u001b[1m \u001b[0m\u001b[1mcustomer_id\u001b[0m\u001b[1m   \u001b[0m\u001b[1m \u001b[0m┃\u001b[1m \u001b[0m\u001b[1msum_amount\u001b[0m\u001b[1m \u001b[0m┃\u001b[1m \u001b[0m\u001b[1mstdardized_amount\u001b[0m\u001b[1m \u001b[0m┃\n",
       "┡━━━━━━━━━━━━━━━━╇━━━━━━━━━━━━╇━━━━━━━━━━━━━━━━━━━┩\n",
       "│ \u001b[2mstring\u001b[0m         │ \u001b[2mint64\u001b[0m      │ \u001b[2mfloat64\u001b[0m           │\n",
       "├────────────────┼────────────┼───────────────────┤\n",
       "│ \u001b[32mCS001113000004\u001b[0m │       \u001b[1;36m1298\u001b[0m │         \u001b[1;36m-0.459350\u001b[0m │\n",
       "│ \u001b[32mCS001114000005\u001b[0m │        \u001b[1;36m626\u001b[0m │         \u001b[1;36m-0.706348\u001b[0m │\n",
       "│ \u001b[32mCS001115000010\u001b[0m │       \u001b[1;36m3044\u001b[0m │          \u001b[1;36m0.182403\u001b[0m │\n",
       "│ \u001b[32mCS001205000004\u001b[0m │       \u001b[1;36m1988\u001b[0m │         \u001b[1;36m-0.205737\u001b[0m │\n",
       "│ \u001b[32mCS001205000006\u001b[0m │       \u001b[1;36m3337\u001b[0m │          \u001b[1;36m0.290096\u001b[0m │\n",
       "│ \u001b[32mCS001211000025\u001b[0m │        \u001b[1;36m456\u001b[0m │         \u001b[1;36m-0.768832\u001b[0m │\n",
       "│ \u001b[32mCS001212000027\u001b[0m │        \u001b[1;36m448\u001b[0m │         \u001b[1;36m-0.771773\u001b[0m │\n",
       "│ \u001b[32mCS001212000031\u001b[0m │        \u001b[1;36m296\u001b[0m │         \u001b[1;36m-0.827641\u001b[0m │\n",
       "│ \u001b[32mCS001212000046\u001b[0m │        \u001b[1;36m228\u001b[0m │         \u001b[1;36m-0.852635\u001b[0m │\n",
       "│ \u001b[32mCS001212000070\u001b[0m │        \u001b[1;36m456\u001b[0m │         \u001b[1;36m-0.768832\u001b[0m │\n",
       "└────────────────┴────────────┴───────────────────┘"
      ]
     },
     "execution_count": 61,
     "metadata": {},
     "output_type": "execute_result"
    }
   ],
   "source": [
    "df_059 = (\n",
    "    df_receipt\n",
    "    .filter(~df_receipt[\"customer_id\"].startswith(\"Z\"))\n",
    "    .group_by(\"customer_id\")\n",
    "    .aggregate(sum_amount=df_receipt[\"amount\"].sum())\n",
    "    .mutate(\n",
    "        stdardized_amount=(\n",
    "            (_[\"sum_amount\"] - _[\"sum_amount\"].mean()) / (_[\"sum_amount\"].std())\n",
    "        )\n",
    "    )\n",
    "    .order_by(\"customer_id\")\n",
    ")\n",
    "\n",
    "df_059.head(10)"
   ]
  },
  {
   "attachments": {},
   "cell_type": "markdown",
   "metadata": {},
   "source": [
    "---\n",
    "> P-060: レシート明細データ（df_receipt）の売上金額（amount）を顧客ID（customer_id）ごとに合計し、売上金額合計を最小値0、最大値1に正規化して顧客ID、売上金額合計とともに10件表示せよ。ただし、顧客IDが\"Z\"から始まるのものは非会員を表すため、除外して計算すること。\n",
    "\n",
    "- 正規化\n",
    "$$\n",
    "x_{new}^i = \\frac{x^i - x_{min}}{x_{max} - x_{min}}\n",
    "$$"
   ]
  },
  {
   "cell_type": "code",
   "execution_count": 62,
   "metadata": {},
   "outputs": [
    {
     "data": {
      "text/html": [
       "<pre style=\"white-space:pre;overflow-x:auto;line-height:normal;font-family:Menlo,'DejaVu Sans Mono',consolas,'Courier New',monospace\">┏━━━━━━━━━━━━━━━━┳━━━━━━━━━━━━┳━━━━━━━━━━━━━━━━━━━┓\n",
       "┃<span style=\"font-weight: bold\"> customer_id    </span>┃<span style=\"font-weight: bold\"> sum_amount </span>┃<span style=\"font-weight: bold\"> normalized_amount </span>┃\n",
       "┡━━━━━━━━━━━━━━━━╇━━━━━━━━━━━━╇━━━━━━━━━━━━━━━━━━━┩\n",
       "│ <span style=\"color: #7f7f7f; text-decoration-color: #7f7f7f\">string</span>         │ <span style=\"color: #7f7f7f; text-decoration-color: #7f7f7f\">int64</span>      │ <span style=\"color: #7f7f7f; text-decoration-color: #7f7f7f\">float64</span>           │\n",
       "├────────────────┼────────────┼───────────────────┤\n",
       "│ <span style=\"color: #008000; text-decoration-color: #008000\">CS001113000004</span> │       <span style=\"color: #008080; text-decoration-color: #008080; font-weight: bold\">1298</span> │          <span style=\"color: #008080; text-decoration-color: #008080; font-weight: bold\">0.053354</span> │\n",
       "│ <span style=\"color: #008000; text-decoration-color: #008000\">CS001114000005</span> │        <span style=\"color: #008080; text-decoration-color: #008080; font-weight: bold\">626</span> │          <span style=\"color: #008080; text-decoration-color: #008080; font-weight: bold\">0.024157</span> │\n",
       "│ <span style=\"color: #008000; text-decoration-color: #008000\">CS001115000010</span> │       <span style=\"color: #008080; text-decoration-color: #008080; font-weight: bold\">3044</span> │          <span style=\"color: #008080; text-decoration-color: #008080; font-weight: bold\">0.129214</span> │\n",
       "│ <span style=\"color: #008000; text-decoration-color: #008000\">CS001205000004</span> │       <span style=\"color: #008080; text-decoration-color: #008080; font-weight: bold\">1988</span> │          <span style=\"color: #008080; text-decoration-color: #008080; font-weight: bold\">0.083333</span> │\n",
       "│ <span style=\"color: #008000; text-decoration-color: #008000\">CS001205000006</span> │       <span style=\"color: #008080; text-decoration-color: #008080; font-weight: bold\">3337</span> │          <span style=\"color: #008080; text-decoration-color: #008080; font-weight: bold\">0.141945</span> │\n",
       "│ <span style=\"color: #008000; text-decoration-color: #008000\">CS001211000025</span> │        <span style=\"color: #008080; text-decoration-color: #008080; font-weight: bold\">456</span> │          <span style=\"color: #008080; text-decoration-color: #008080; font-weight: bold\">0.016771</span> │\n",
       "│ <span style=\"color: #008000; text-decoration-color: #008000\">CS001212000027</span> │        <span style=\"color: #008080; text-decoration-color: #008080; font-weight: bold\">448</span> │          <span style=\"color: #008080; text-decoration-color: #008080; font-weight: bold\">0.016423</span> │\n",
       "│ <span style=\"color: #008000; text-decoration-color: #008000\">CS001212000031</span> │        <span style=\"color: #008080; text-decoration-color: #008080; font-weight: bold\">296</span> │          <span style=\"color: #008080; text-decoration-color: #008080; font-weight: bold\">0.009819</span> │\n",
       "│ <span style=\"color: #008000; text-decoration-color: #008000\">CS001212000046</span> │        <span style=\"color: #008080; text-decoration-color: #008080; font-weight: bold\">228</span> │          <span style=\"color: #008080; text-decoration-color: #008080; font-weight: bold\">0.006865</span> │\n",
       "│ <span style=\"color: #008000; text-decoration-color: #008000\">CS001212000070</span> │        <span style=\"color: #008080; text-decoration-color: #008080; font-weight: bold\">456</span> │          <span style=\"color: #008080; text-decoration-color: #008080; font-weight: bold\">0.016771</span> │\n",
       "└────────────────┴────────────┴───────────────────┘\n",
       "</pre>\n"
      ],
      "text/plain": [
       "┏━━━━━━━━━━━━━━━━┳━━━━━━━━━━━━┳━━━━━━━━━━━━━━━━━━━┓\n",
       "┃\u001b[1m \u001b[0m\u001b[1mcustomer_id\u001b[0m\u001b[1m   \u001b[0m\u001b[1m \u001b[0m┃\u001b[1m \u001b[0m\u001b[1msum_amount\u001b[0m\u001b[1m \u001b[0m┃\u001b[1m \u001b[0m\u001b[1mnormalized_amount\u001b[0m\u001b[1m \u001b[0m┃\n",
       "┡━━━━━━━━━━━━━━━━╇━━━━━━━━━━━━╇━━━━━━━━━━━━━━━━━━━┩\n",
       "│ \u001b[2mstring\u001b[0m         │ \u001b[2mint64\u001b[0m      │ \u001b[2mfloat64\u001b[0m           │\n",
       "├────────────────┼────────────┼───────────────────┤\n",
       "│ \u001b[32mCS001113000004\u001b[0m │       \u001b[1;36m1298\u001b[0m │          \u001b[1;36m0.053354\u001b[0m │\n",
       "│ \u001b[32mCS001114000005\u001b[0m │        \u001b[1;36m626\u001b[0m │          \u001b[1;36m0.024157\u001b[0m │\n",
       "│ \u001b[32mCS001115000010\u001b[0m │       \u001b[1;36m3044\u001b[0m │          \u001b[1;36m0.129214\u001b[0m │\n",
       "│ \u001b[32mCS001205000004\u001b[0m │       \u001b[1;36m1988\u001b[0m │          \u001b[1;36m0.083333\u001b[0m │\n",
       "│ \u001b[32mCS001205000006\u001b[0m │       \u001b[1;36m3337\u001b[0m │          \u001b[1;36m0.141945\u001b[0m │\n",
       "│ \u001b[32mCS001211000025\u001b[0m │        \u001b[1;36m456\u001b[0m │          \u001b[1;36m0.016771\u001b[0m │\n",
       "│ \u001b[32mCS001212000027\u001b[0m │        \u001b[1;36m448\u001b[0m │          \u001b[1;36m0.016423\u001b[0m │\n",
       "│ \u001b[32mCS001212000031\u001b[0m │        \u001b[1;36m296\u001b[0m │          \u001b[1;36m0.009819\u001b[0m │\n",
       "│ \u001b[32mCS001212000046\u001b[0m │        \u001b[1;36m228\u001b[0m │          \u001b[1;36m0.006865\u001b[0m │\n",
       "│ \u001b[32mCS001212000070\u001b[0m │        \u001b[1;36m456\u001b[0m │          \u001b[1;36m0.016771\u001b[0m │\n",
       "└────────────────┴────────────┴───────────────────┘"
      ]
     },
     "execution_count": 62,
     "metadata": {},
     "output_type": "execute_result"
    }
   ],
   "source": [
    "df_060 = (\n",
    "    df_receipt\n",
    "    .filter(~df_receipt[\"customer_id\"].startswith(\"Z\"))\n",
    "    .group_by(\"customer_id\")\n",
    "    .aggregate(sum_amount=df_receipt[\"amount\"].sum())\n",
    "    .mutate(\n",
    "        normalized_amount=(\n",
    "            (_[\"sum_amount\"] - _[\"sum_amount\"].min())\n",
    "            / (_[\"sum_amount\"].max() - _[\"sum_amount\"].min())\n",
    "        )\n",
    "    )\n",
    "    .order_by(\"customer_id\")\n",
    ")\n",
    "\n",
    "df_060.head(10)"
   ]
  },
  {
   "attachments": {},
   "cell_type": "markdown",
   "metadata": {},
   "source": [
    "---\n",
    "> P-061: レシート明細データ（df_receipt）の売上金額（amount）を顧客ID（customer_id）ごとに合計し、売上金額合計を常用対数化（底10）して顧客ID、売上金額合計とともに10件表示せよ。ただし、顧客IDが\"Z\"から始まるのものは非会員を表すため、除外して計算すること。"
   ]
  },
  {
   "cell_type": "code",
   "execution_count": 63,
   "metadata": {},
   "outputs": [
    {
     "data": {
      "text/html": [
       "<pre style=\"white-space:pre;overflow-x:auto;line-height:normal;font-family:Menlo,'DejaVu Sans Mono',consolas,'Courier New',monospace\">┏━━━━━━━━━━━━━━━━┳━━━━━━━━━━━━┳━━━━━━━━━━━━━━┓\n",
       "┃<span style=\"font-weight: bold\"> customer_id    </span>┃<span style=\"font-weight: bold\"> sum_amount </span>┃<span style=\"font-weight: bold\"> log10_amount </span>┃\n",
       "┡━━━━━━━━━━━━━━━━╇━━━━━━━━━━━━╇━━━━━━━━━━━━━━┩\n",
       "│ <span style=\"color: #7f7f7f; text-decoration-color: #7f7f7f\">string</span>         │ <span style=\"color: #7f7f7f; text-decoration-color: #7f7f7f\">int64</span>      │ <span style=\"color: #7f7f7f; text-decoration-color: #7f7f7f\">float64</span>      │\n",
       "├────────────────┼────────────┼──────────────┤\n",
       "│ <span style=\"color: #008000; text-decoration-color: #008000\">CS001113000004</span> │       <span style=\"color: #008080; text-decoration-color: #008080; font-weight: bold\">1298</span> │     <span style=\"color: #008080; text-decoration-color: #008080; font-weight: bold\">3.113275</span> │\n",
       "│ <span style=\"color: #008000; text-decoration-color: #008000\">CS001114000005</span> │        <span style=\"color: #008080; text-decoration-color: #008080; font-weight: bold\">626</span> │     <span style=\"color: #008080; text-decoration-color: #008080; font-weight: bold\">2.796574</span> │\n",
       "│ <span style=\"color: #008000; text-decoration-color: #008000\">CS001115000010</span> │       <span style=\"color: #008080; text-decoration-color: #008080; font-weight: bold\">3044</span> │     <span style=\"color: #008080; text-decoration-color: #008080; font-weight: bold\">3.483445</span> │\n",
       "│ <span style=\"color: #008000; text-decoration-color: #008000\">CS001205000004</span> │       <span style=\"color: #008080; text-decoration-color: #008080; font-weight: bold\">1988</span> │     <span style=\"color: #008080; text-decoration-color: #008080; font-weight: bold\">3.298416</span> │\n",
       "│ <span style=\"color: #008000; text-decoration-color: #008000\">CS001205000006</span> │       <span style=\"color: #008080; text-decoration-color: #008080; font-weight: bold\">3337</span> │     <span style=\"color: #008080; text-decoration-color: #008080; font-weight: bold\">3.523356</span> │\n",
       "│ <span style=\"color: #008000; text-decoration-color: #008000\">CS001211000025</span> │        <span style=\"color: #008080; text-decoration-color: #008080; font-weight: bold\">456</span> │     <span style=\"color: #008080; text-decoration-color: #008080; font-weight: bold\">2.658965</span> │\n",
       "│ <span style=\"color: #008000; text-decoration-color: #008000\">CS001212000027</span> │        <span style=\"color: #008080; text-decoration-color: #008080; font-weight: bold\">448</span> │     <span style=\"color: #008080; text-decoration-color: #008080; font-weight: bold\">2.651278</span> │\n",
       "│ <span style=\"color: #008000; text-decoration-color: #008000\">CS001212000031</span> │        <span style=\"color: #008080; text-decoration-color: #008080; font-weight: bold\">296</span> │     <span style=\"color: #008080; text-decoration-color: #008080; font-weight: bold\">2.471292</span> │\n",
       "│ <span style=\"color: #008000; text-decoration-color: #008000\">CS001212000046</span> │        <span style=\"color: #008080; text-decoration-color: #008080; font-weight: bold\">228</span> │     <span style=\"color: #008080; text-decoration-color: #008080; font-weight: bold\">2.357935</span> │\n",
       "│ <span style=\"color: #008000; text-decoration-color: #008000\">CS001212000070</span> │        <span style=\"color: #008080; text-decoration-color: #008080; font-weight: bold\">456</span> │     <span style=\"color: #008080; text-decoration-color: #008080; font-weight: bold\">2.658965</span> │\n",
       "└────────────────┴────────────┴──────────────┘\n",
       "</pre>\n"
      ],
      "text/plain": [
       "┏━━━━━━━━━━━━━━━━┳━━━━━━━━━━━━┳━━━━━━━━━━━━━━┓\n",
       "┃\u001b[1m \u001b[0m\u001b[1mcustomer_id\u001b[0m\u001b[1m   \u001b[0m\u001b[1m \u001b[0m┃\u001b[1m \u001b[0m\u001b[1msum_amount\u001b[0m\u001b[1m \u001b[0m┃\u001b[1m \u001b[0m\u001b[1mlog10_amount\u001b[0m\u001b[1m \u001b[0m┃\n",
       "┡━━━━━━━━━━━━━━━━╇━━━━━━━━━━━━╇━━━━━━━━━━━━━━┩\n",
       "│ \u001b[2mstring\u001b[0m         │ \u001b[2mint64\u001b[0m      │ \u001b[2mfloat64\u001b[0m      │\n",
       "├────────────────┼────────────┼──────────────┤\n",
       "│ \u001b[32mCS001113000004\u001b[0m │       \u001b[1;36m1298\u001b[0m │     \u001b[1;36m3.113275\u001b[0m │\n",
       "│ \u001b[32mCS001114000005\u001b[0m │        \u001b[1;36m626\u001b[0m │     \u001b[1;36m2.796574\u001b[0m │\n",
       "│ \u001b[32mCS001115000010\u001b[0m │       \u001b[1;36m3044\u001b[0m │     \u001b[1;36m3.483445\u001b[0m │\n",
       "│ \u001b[32mCS001205000004\u001b[0m │       \u001b[1;36m1988\u001b[0m │     \u001b[1;36m3.298416\u001b[0m │\n",
       "│ \u001b[32mCS001205000006\u001b[0m │       \u001b[1;36m3337\u001b[0m │     \u001b[1;36m3.523356\u001b[0m │\n",
       "│ \u001b[32mCS001211000025\u001b[0m │        \u001b[1;36m456\u001b[0m │     \u001b[1;36m2.658965\u001b[0m │\n",
       "│ \u001b[32mCS001212000027\u001b[0m │        \u001b[1;36m448\u001b[0m │     \u001b[1;36m2.651278\u001b[0m │\n",
       "│ \u001b[32mCS001212000031\u001b[0m │        \u001b[1;36m296\u001b[0m │     \u001b[1;36m2.471292\u001b[0m │\n",
       "│ \u001b[32mCS001212000046\u001b[0m │        \u001b[1;36m228\u001b[0m │     \u001b[1;36m2.357935\u001b[0m │\n",
       "│ \u001b[32mCS001212000070\u001b[0m │        \u001b[1;36m456\u001b[0m │     \u001b[1;36m2.658965\u001b[0m │\n",
       "└────────────────┴────────────┴──────────────┘"
      ]
     },
     "execution_count": 63,
     "metadata": {},
     "output_type": "execute_result"
    }
   ],
   "source": [
    "df_061 = (\n",
    "    df_receipt\n",
    "    .filter(~df_receipt[\"customer_id\"].startswith(\"Z\"))\n",
    "    .group_by(\"customer_id\")\n",
    "    .aggregate(sum_amount=df_receipt[\"amount\"].sum())\n",
    "    .mutate(log10_amount=_[\"sum_amount\"].log10())\n",
    "    .order_by(\"customer_id\")\n",
    ")\n",
    "\n",
    "df_061.head(10)"
   ]
  },
  {
   "attachments": {},
   "cell_type": "markdown",
   "metadata": {},
   "source": [
    "---\n",
    "> P-062: レシート明細データ（df_receipt）の売上金額（amount）を顧客ID（customer_id）ごとに合計し、売上金額合計を自然対数化（底e）して顧客ID、売上金額合計とともに10件表示せよ。ただし、顧客IDが\"Z\"から始まるのものは非会員を表すため、除外して計算すること。"
   ]
  },
  {
   "cell_type": "code",
   "execution_count": 64,
   "metadata": {},
   "outputs": [
    {
     "data": {
      "text/html": [
       "<pre style=\"white-space:pre;overflow-x:auto;line-height:normal;font-family:Menlo,'DejaVu Sans Mono',consolas,'Courier New',monospace\">┏━━━━━━━━━━━━━━━━┳━━━━━━━━━━━━┳━━━━━━━━━━━━━━┓\n",
       "┃<span style=\"font-weight: bold\"> customer_id    </span>┃<span style=\"font-weight: bold\"> sum_amount </span>┃<span style=\"font-weight: bold\"> log10_amount </span>┃\n",
       "┡━━━━━━━━━━━━━━━━╇━━━━━━━━━━━━╇━━━━━━━━━━━━━━┩\n",
       "│ <span style=\"color: #7f7f7f; text-decoration-color: #7f7f7f\">string</span>         │ <span style=\"color: #7f7f7f; text-decoration-color: #7f7f7f\">int64</span>      │ <span style=\"color: #7f7f7f; text-decoration-color: #7f7f7f\">float64</span>      │\n",
       "├────────────────┼────────────┼──────────────┤\n",
       "│ <span style=\"color: #008000; text-decoration-color: #008000\">CS001113000004</span> │       <span style=\"color: #008080; text-decoration-color: #008080; font-weight: bold\">1298</span> │     <span style=\"color: #008080; text-decoration-color: #008080; font-weight: bold\">7.168580</span> │\n",
       "│ <span style=\"color: #008000; text-decoration-color: #008000\">CS001114000005</span> │        <span style=\"color: #008080; text-decoration-color: #008080; font-weight: bold\">626</span> │     <span style=\"color: #008080; text-decoration-color: #008080; font-weight: bold\">6.439350</span> │\n",
       "│ <span style=\"color: #008000; text-decoration-color: #008000\">CS001115000010</span> │       <span style=\"color: #008080; text-decoration-color: #008080; font-weight: bold\">3044</span> │     <span style=\"color: #008080; text-decoration-color: #008080; font-weight: bold\">8.020928</span> │\n",
       "│ <span style=\"color: #008000; text-decoration-color: #008000\">CS001205000004</span> │       <span style=\"color: #008080; text-decoration-color: #008080; font-weight: bold\">1988</span> │     <span style=\"color: #008080; text-decoration-color: #008080; font-weight: bold\">7.594884</span> │\n",
       "│ <span style=\"color: #008000; text-decoration-color: #008000\">CS001205000006</span> │       <span style=\"color: #008080; text-decoration-color: #008080; font-weight: bold\">3337</span> │     <span style=\"color: #008080; text-decoration-color: #008080; font-weight: bold\">8.112827</span> │\n",
       "│ <span style=\"color: #008000; text-decoration-color: #008000\">CS001211000025</span> │        <span style=\"color: #008080; text-decoration-color: #008080; font-weight: bold\">456</span> │     <span style=\"color: #008080; text-decoration-color: #008080; font-weight: bold\">6.122493</span> │\n",
       "│ <span style=\"color: #008000; text-decoration-color: #008000\">CS001212000027</span> │        <span style=\"color: #008080; text-decoration-color: #008080; font-weight: bold\">448</span> │     <span style=\"color: #008080; text-decoration-color: #008080; font-weight: bold\">6.104793</span> │\n",
       "│ <span style=\"color: #008000; text-decoration-color: #008000\">CS001212000031</span> │        <span style=\"color: #008080; text-decoration-color: #008080; font-weight: bold\">296</span> │     <span style=\"color: #008080; text-decoration-color: #008080; font-weight: bold\">5.690359</span> │\n",
       "│ <span style=\"color: #008000; text-decoration-color: #008000\">CS001212000046</span> │        <span style=\"color: #008080; text-decoration-color: #008080; font-weight: bold\">228</span> │     <span style=\"color: #008080; text-decoration-color: #008080; font-weight: bold\">5.429346</span> │\n",
       "│ <span style=\"color: #008000; text-decoration-color: #008000\">CS001212000070</span> │        <span style=\"color: #008080; text-decoration-color: #008080; font-weight: bold\">456</span> │     <span style=\"color: #008080; text-decoration-color: #008080; font-weight: bold\">6.122493</span> │\n",
       "└────────────────┴────────────┴──────────────┘\n",
       "</pre>\n"
      ],
      "text/plain": [
       "┏━━━━━━━━━━━━━━━━┳━━━━━━━━━━━━┳━━━━━━━━━━━━━━┓\n",
       "┃\u001b[1m \u001b[0m\u001b[1mcustomer_id\u001b[0m\u001b[1m   \u001b[0m\u001b[1m \u001b[0m┃\u001b[1m \u001b[0m\u001b[1msum_amount\u001b[0m\u001b[1m \u001b[0m┃\u001b[1m \u001b[0m\u001b[1mlog10_amount\u001b[0m\u001b[1m \u001b[0m┃\n",
       "┡━━━━━━━━━━━━━━━━╇━━━━━━━━━━━━╇━━━━━━━━━━━━━━┩\n",
       "│ \u001b[2mstring\u001b[0m         │ \u001b[2mint64\u001b[0m      │ \u001b[2mfloat64\u001b[0m      │\n",
       "├────────────────┼────────────┼──────────────┤\n",
       "│ \u001b[32mCS001113000004\u001b[0m │       \u001b[1;36m1298\u001b[0m │     \u001b[1;36m7.168580\u001b[0m │\n",
       "│ \u001b[32mCS001114000005\u001b[0m │        \u001b[1;36m626\u001b[0m │     \u001b[1;36m6.439350\u001b[0m │\n",
       "│ \u001b[32mCS001115000010\u001b[0m │       \u001b[1;36m3044\u001b[0m │     \u001b[1;36m8.020928\u001b[0m │\n",
       "│ \u001b[32mCS001205000004\u001b[0m │       \u001b[1;36m1988\u001b[0m │     \u001b[1;36m7.594884\u001b[0m │\n",
       "│ \u001b[32mCS001205000006\u001b[0m │       \u001b[1;36m3337\u001b[0m │     \u001b[1;36m8.112827\u001b[0m │\n",
       "│ \u001b[32mCS001211000025\u001b[0m │        \u001b[1;36m456\u001b[0m │     \u001b[1;36m6.122493\u001b[0m │\n",
       "│ \u001b[32mCS001212000027\u001b[0m │        \u001b[1;36m448\u001b[0m │     \u001b[1;36m6.104793\u001b[0m │\n",
       "│ \u001b[32mCS001212000031\u001b[0m │        \u001b[1;36m296\u001b[0m │     \u001b[1;36m5.690359\u001b[0m │\n",
       "│ \u001b[32mCS001212000046\u001b[0m │        \u001b[1;36m228\u001b[0m │     \u001b[1;36m5.429346\u001b[0m │\n",
       "│ \u001b[32mCS001212000070\u001b[0m │        \u001b[1;36m456\u001b[0m │     \u001b[1;36m6.122493\u001b[0m │\n",
       "└────────────────┴────────────┴──────────────┘"
      ]
     },
     "execution_count": 64,
     "metadata": {},
     "output_type": "execute_result"
    }
   ],
   "source": [
    "df_062 = (\n",
    "    df_receipt\n",
    "    .filter(~df_receipt[\"customer_id\"].startswith(\"Z\"))\n",
    "    .group_by(\"customer_id\")\n",
    "    .aggregate(sum_amount=df_receipt[\"amount\"].sum())\n",
    "    .mutate(log10_amount=_[\"sum_amount\"].ln())\n",
    "    .order_by(\"customer_id\")\n",
    ")\n",
    "\n",
    "df_062.head(10)"
   ]
  },
  {
   "attachments": {},
   "cell_type": "markdown",
   "metadata": {},
   "source": [
    "---\n",
    "> P-063: 商品データ（df_product）の単価（unit_price）と原価（unit_cost）から各商品の利益額を算出し、結果を10件表示せよ。"
   ]
  },
  {
   "cell_type": "code",
   "execution_count": 65,
   "metadata": {},
   "outputs": [
    {
     "data": {
      "text/html": [
       "<pre style=\"white-space:pre;overflow-x:auto;line-height:normal;font-family:Menlo,'DejaVu Sans Mono',consolas,'Courier New',monospace\">┏━━━━━━━━━━━━┳━━━━━━━━━━━━┳━━━━━━━━━━━┳━━━━━━━━━━━━━┓\n",
       "┃<span style=\"font-weight: bold\"> product_cd </span>┃<span style=\"font-weight: bold\"> unit_price </span>┃<span style=\"font-weight: bold\"> unit_cost </span>┃<span style=\"font-weight: bold\"> unit_profit </span>┃\n",
       "┡━━━━━━━━━━━━╇━━━━━━━━━━━━╇━━━━━━━━━━━╇━━━━━━━━━━━━━┩\n",
       "│ <span style=\"color: #7f7f7f; text-decoration-color: #7f7f7f\">string</span>     │ <span style=\"color: #7f7f7f; text-decoration-color: #7f7f7f\">int64</span>      │ <span style=\"color: #7f7f7f; text-decoration-color: #7f7f7f\">int64</span>     │ <span style=\"color: #7f7f7f; text-decoration-color: #7f7f7f\">int64</span>       │\n",
       "├────────────┼────────────┼───────────┼─────────────┤\n",
       "│ <span style=\"color: #008000; text-decoration-color: #008000\">P040101001</span> │        <span style=\"color: #008080; text-decoration-color: #008080; font-weight: bold\">198</span> │       <span style=\"color: #008080; text-decoration-color: #008080; font-weight: bold\">149</span> │          <span style=\"color: #008080; text-decoration-color: #008080; font-weight: bold\">49</span> │\n",
       "│ <span style=\"color: #008000; text-decoration-color: #008000\">P040101002</span> │        <span style=\"color: #008080; text-decoration-color: #008080; font-weight: bold\">218</span> │       <span style=\"color: #008080; text-decoration-color: #008080; font-weight: bold\">164</span> │          <span style=\"color: #008080; text-decoration-color: #008080; font-weight: bold\">54</span> │\n",
       "│ <span style=\"color: #008000; text-decoration-color: #008000\">P040101003</span> │        <span style=\"color: #008080; text-decoration-color: #008080; font-weight: bold\">230</span> │       <span style=\"color: #008080; text-decoration-color: #008080; font-weight: bold\">173</span> │          <span style=\"color: #008080; text-decoration-color: #008080; font-weight: bold\">57</span> │\n",
       "│ <span style=\"color: #008000; text-decoration-color: #008000\">P040101004</span> │        <span style=\"color: #008080; text-decoration-color: #008080; font-weight: bold\">248</span> │       <span style=\"color: #008080; text-decoration-color: #008080; font-weight: bold\">186</span> │          <span style=\"color: #008080; text-decoration-color: #008080; font-weight: bold\">62</span> │\n",
       "│ <span style=\"color: #008000; text-decoration-color: #008000\">P040101005</span> │        <span style=\"color: #008080; text-decoration-color: #008080; font-weight: bold\">268</span> │       <span style=\"color: #008080; text-decoration-color: #008080; font-weight: bold\">201</span> │          <span style=\"color: #008080; text-decoration-color: #008080; font-weight: bold\">67</span> │\n",
       "│ <span style=\"color: #008000; text-decoration-color: #008000\">P040101006</span> │        <span style=\"color: #008080; text-decoration-color: #008080; font-weight: bold\">298</span> │       <span style=\"color: #008080; text-decoration-color: #008080; font-weight: bold\">224</span> │          <span style=\"color: #008080; text-decoration-color: #008080; font-weight: bold\">74</span> │\n",
       "│ <span style=\"color: #008000; text-decoration-color: #008000\">P040101007</span> │        <span style=\"color: #008080; text-decoration-color: #008080; font-weight: bold\">338</span> │       <span style=\"color: #008080; text-decoration-color: #008080; font-weight: bold\">254</span> │          <span style=\"color: #008080; text-decoration-color: #008080; font-weight: bold\">84</span> │\n",
       "│ <span style=\"color: #008000; text-decoration-color: #008000\">P040101008</span> │        <span style=\"color: #008080; text-decoration-color: #008080; font-weight: bold\">420</span> │       <span style=\"color: #008080; text-decoration-color: #008080; font-weight: bold\">315</span> │         <span style=\"color: #008080; text-decoration-color: #008080; font-weight: bold\">105</span> │\n",
       "│ <span style=\"color: #008000; text-decoration-color: #008000\">P040101009</span> │        <span style=\"color: #008080; text-decoration-color: #008080; font-weight: bold\">498</span> │       <span style=\"color: #008080; text-decoration-color: #008080; font-weight: bold\">374</span> │         <span style=\"color: #008080; text-decoration-color: #008080; font-weight: bold\">124</span> │\n",
       "│ <span style=\"color: #008000; text-decoration-color: #008000\">P040101010</span> │        <span style=\"color: #008080; text-decoration-color: #008080; font-weight: bold\">580</span> │       <span style=\"color: #008080; text-decoration-color: #008080; font-weight: bold\">435</span> │         <span style=\"color: #008080; text-decoration-color: #008080; font-weight: bold\">145</span> │\n",
       "└────────────┴────────────┴───────────┴─────────────┘\n",
       "</pre>\n"
      ],
      "text/plain": [
       "┏━━━━━━━━━━━━┳━━━━━━━━━━━━┳━━━━━━━━━━━┳━━━━━━━━━━━━━┓\n",
       "┃\u001b[1m \u001b[0m\u001b[1mproduct_cd\u001b[0m\u001b[1m \u001b[0m┃\u001b[1m \u001b[0m\u001b[1munit_price\u001b[0m\u001b[1m \u001b[0m┃\u001b[1m \u001b[0m\u001b[1munit_cost\u001b[0m\u001b[1m \u001b[0m┃\u001b[1m \u001b[0m\u001b[1munit_profit\u001b[0m\u001b[1m \u001b[0m┃\n",
       "┡━━━━━━━━━━━━╇━━━━━━━━━━━━╇━━━━━━━━━━━╇━━━━━━━━━━━━━┩\n",
       "│ \u001b[2mstring\u001b[0m     │ \u001b[2mint64\u001b[0m      │ \u001b[2mint64\u001b[0m     │ \u001b[2mint64\u001b[0m       │\n",
       "├────────────┼────────────┼───────────┼─────────────┤\n",
       "│ \u001b[32mP040101001\u001b[0m │        \u001b[1;36m198\u001b[0m │       \u001b[1;36m149\u001b[0m │          \u001b[1;36m49\u001b[0m │\n",
       "│ \u001b[32mP040101002\u001b[0m │        \u001b[1;36m218\u001b[0m │       \u001b[1;36m164\u001b[0m │          \u001b[1;36m54\u001b[0m │\n",
       "│ \u001b[32mP040101003\u001b[0m │        \u001b[1;36m230\u001b[0m │       \u001b[1;36m173\u001b[0m │          \u001b[1;36m57\u001b[0m │\n",
       "│ \u001b[32mP040101004\u001b[0m │        \u001b[1;36m248\u001b[0m │       \u001b[1;36m186\u001b[0m │          \u001b[1;36m62\u001b[0m │\n",
       "│ \u001b[32mP040101005\u001b[0m │        \u001b[1;36m268\u001b[0m │       \u001b[1;36m201\u001b[0m │          \u001b[1;36m67\u001b[0m │\n",
       "│ \u001b[32mP040101006\u001b[0m │        \u001b[1;36m298\u001b[0m │       \u001b[1;36m224\u001b[0m │          \u001b[1;36m74\u001b[0m │\n",
       "│ \u001b[32mP040101007\u001b[0m │        \u001b[1;36m338\u001b[0m │       \u001b[1;36m254\u001b[0m │          \u001b[1;36m84\u001b[0m │\n",
       "│ \u001b[32mP040101008\u001b[0m │        \u001b[1;36m420\u001b[0m │       \u001b[1;36m315\u001b[0m │         \u001b[1;36m105\u001b[0m │\n",
       "│ \u001b[32mP040101009\u001b[0m │        \u001b[1;36m498\u001b[0m │       \u001b[1;36m374\u001b[0m │         \u001b[1;36m124\u001b[0m │\n",
       "│ \u001b[32mP040101010\u001b[0m │        \u001b[1;36m580\u001b[0m │       \u001b[1;36m435\u001b[0m │         \u001b[1;36m145\u001b[0m │\n",
       "└────────────┴────────────┴───────────┴─────────────┘"
      ]
     },
     "execution_count": 65,
     "metadata": {},
     "output_type": "execute_result"
    }
   ],
   "source": [
    "df_063 = (\n",
    "    df_product\n",
    "    .mutate(unit_profit=(df_product[\"unit_price\"] - df_product[\"unit_cost\"]))\n",
    "    .select(\"product_cd\", \"unit_price\", \"unit_cost\", \"unit_profit\")\n",
    ")\n",
    "\n",
    "df_063.head(10)"
   ]
  },
  {
   "attachments": {},
   "cell_type": "markdown",
   "metadata": {},
   "source": [
    "---\n",
    "> P-064: 商品データ（df_product）の単価（unit_price）と原価（unit_cost）から、各商品の利益率の全体平均を算出せよ。ただし、単価と原価には欠損が生じていることに注意せよ。"
   ]
  },
  {
   "cell_type": "code",
   "execution_count": 66,
   "metadata": {},
   "outputs": [
    {
     "data": {
      "text/plain": [
       "0.24911389885176904"
      ]
     },
     "execution_count": 66,
     "metadata": {},
     "output_type": "execute_result"
    }
   ],
   "source": [
    "df_064 = (\n",
    "    df_product\n",
    "    .mutate(unit_profit_rate=(df_product[\"unit_price\"] - df_product[\"unit_cost\"])/(df_product[\"unit_price\"]))\n",
    ")\n",
    "\n",
    "df_064[\"unit_profit_rate\"].mean().execute()"
   ]
  },
  {
   "attachments": {},
   "cell_type": "markdown",
   "metadata": {},
   "source": [
    "---\n",
    "> P-065: 商品データ（df_product）の各商品について、利益率が30%となる新たな単価を求めよ。ただし、1円未満は切り捨てること。そして結果を10件表示させ、利益率がおよそ30％付近であることを確認せよ。ただし、単価（unit_price）と原価（unit_cost）には欠損が生じていることに注意せよ。"
   ]
  },
  {
   "cell_type": "code",
   "execution_count": 67,
   "metadata": {},
   "outputs": [
    {
     "data": {
      "text/html": [
       "<pre style=\"white-space:pre;overflow-x:auto;line-height:normal;font-family:Menlo,'DejaVu Sans Mono',consolas,'Courier New',monospace\">┏━━━━━━━━━━━━┳━━━━━━━━━━━━┳━━━━━━━━━━━┳━━━━━━━━━━━┳━━━━━━━━━━━━━━━━━┓\n",
       "┃<span style=\"font-weight: bold\"> product_cd </span>┃<span style=\"font-weight: bold\"> unit_price </span>┃<span style=\"font-weight: bold\"> unit_cost </span>┃<span style=\"font-weight: bold\"> new_price </span>┃<span style=\"font-weight: bold\"> new_profit_rate </span>┃\n",
       "┡━━━━━━━━━━━━╇━━━━━━━━━━━━╇━━━━━━━━━━━╇━━━━━━━━━━━╇━━━━━━━━━━━━━━━━━┩\n",
       "│ <span style=\"color: #7f7f7f; text-decoration-color: #7f7f7f\">string</span>     │ <span style=\"color: #7f7f7f; text-decoration-color: #7f7f7f\">int64</span>      │ <span style=\"color: #7f7f7f; text-decoration-color: #7f7f7f\">int64</span>     │ <span style=\"color: #7f7f7f; text-decoration-color: #7f7f7f\">int64</span>     │ <span style=\"color: #7f7f7f; text-decoration-color: #7f7f7f\">float64</span>         │\n",
       "├────────────┼────────────┼───────────┼───────────┼─────────────────┤\n",
       "│ <span style=\"color: #008000; text-decoration-color: #008000\">P040101001</span> │        <span style=\"color: #008080; text-decoration-color: #008080; font-weight: bold\">198</span> │       <span style=\"color: #008080; text-decoration-color: #008080; font-weight: bold\">149</span> │       <span style=\"color: #008080; text-decoration-color: #008080; font-weight: bold\">212</span> │        <span style=\"color: #008080; text-decoration-color: #008080; font-weight: bold\">0.297170</span> │\n",
       "│ <span style=\"color: #008000; text-decoration-color: #008000\">P040101002</span> │        <span style=\"color: #008080; text-decoration-color: #008080; font-weight: bold\">218</span> │       <span style=\"color: #008080; text-decoration-color: #008080; font-weight: bold\">164</span> │       <span style=\"color: #008080; text-decoration-color: #008080; font-weight: bold\">234</span> │        <span style=\"color: #008080; text-decoration-color: #008080; font-weight: bold\">0.299145</span> │\n",
       "│ <span style=\"color: #008000; text-decoration-color: #008000\">P040101003</span> │        <span style=\"color: #008080; text-decoration-color: #008080; font-weight: bold\">230</span> │       <span style=\"color: #008080; text-decoration-color: #008080; font-weight: bold\">173</span> │       <span style=\"color: #008080; text-decoration-color: #008080; font-weight: bold\">247</span> │        <span style=\"color: #008080; text-decoration-color: #008080; font-weight: bold\">0.299595</span> │\n",
       "│ <span style=\"color: #008000; text-decoration-color: #008000\">P040101004</span> │        <span style=\"color: #008080; text-decoration-color: #008080; font-weight: bold\">248</span> │       <span style=\"color: #008080; text-decoration-color: #008080; font-weight: bold\">186</span> │       <span style=\"color: #008080; text-decoration-color: #008080; font-weight: bold\">265</span> │        <span style=\"color: #008080; text-decoration-color: #008080; font-weight: bold\">0.298113</span> │\n",
       "│ <span style=\"color: #008000; text-decoration-color: #008000\">P040101005</span> │        <span style=\"color: #008080; text-decoration-color: #008080; font-weight: bold\">268</span> │       <span style=\"color: #008080; text-decoration-color: #008080; font-weight: bold\">201</span> │       <span style=\"color: #008080; text-decoration-color: #008080; font-weight: bold\">287</span> │        <span style=\"color: #008080; text-decoration-color: #008080; font-weight: bold\">0.299652</span> │\n",
       "│ <span style=\"color: #008000; text-decoration-color: #008000\">P040101006</span> │        <span style=\"color: #008080; text-decoration-color: #008080; font-weight: bold\">298</span> │       <span style=\"color: #008080; text-decoration-color: #008080; font-weight: bold\">224</span> │       <span style=\"color: #008080; text-decoration-color: #008080; font-weight: bold\">320</span> │        <span style=\"color: #008080; text-decoration-color: #008080; font-weight: bold\">0.300000</span> │\n",
       "│ <span style=\"color: #008000; text-decoration-color: #008000\">P040101007</span> │        <span style=\"color: #008080; text-decoration-color: #008080; font-weight: bold\">338</span> │       <span style=\"color: #008080; text-decoration-color: #008080; font-weight: bold\">254</span> │       <span style=\"color: #008080; text-decoration-color: #008080; font-weight: bold\">362</span> │        <span style=\"color: #008080; text-decoration-color: #008080; font-weight: bold\">0.298343</span> │\n",
       "│ <span style=\"color: #008000; text-decoration-color: #008000\">P040101008</span> │        <span style=\"color: #008080; text-decoration-color: #008080; font-weight: bold\">420</span> │       <span style=\"color: #008080; text-decoration-color: #008080; font-weight: bold\">315</span> │       <span style=\"color: #008080; text-decoration-color: #008080; font-weight: bold\">450</span> │        <span style=\"color: #008080; text-decoration-color: #008080; font-weight: bold\">0.300000</span> │\n",
       "│ <span style=\"color: #008000; text-decoration-color: #008000\">P040101009</span> │        <span style=\"color: #008080; text-decoration-color: #008080; font-weight: bold\">498</span> │       <span style=\"color: #008080; text-decoration-color: #008080; font-weight: bold\">374</span> │       <span style=\"color: #008080; text-decoration-color: #008080; font-weight: bold\">534</span> │        <span style=\"color: #008080; text-decoration-color: #008080; font-weight: bold\">0.299625</span> │\n",
       "│ <span style=\"color: #008000; text-decoration-color: #008000\">P040101010</span> │        <span style=\"color: #008080; text-decoration-color: #008080; font-weight: bold\">580</span> │       <span style=\"color: #008080; text-decoration-color: #008080; font-weight: bold\">435</span> │       <span style=\"color: #008080; text-decoration-color: #008080; font-weight: bold\">621</span> │        <span style=\"color: #008080; text-decoration-color: #008080; font-weight: bold\">0.299517</span> │\n",
       "└────────────┴────────────┴───────────┴───────────┴─────────────────┘\n",
       "</pre>\n"
      ],
      "text/plain": [
       "┏━━━━━━━━━━━━┳━━━━━━━━━━━━┳━━━━━━━━━━━┳━━━━━━━━━━━┳━━━━━━━━━━━━━━━━━┓\n",
       "┃\u001b[1m \u001b[0m\u001b[1mproduct_cd\u001b[0m\u001b[1m \u001b[0m┃\u001b[1m \u001b[0m\u001b[1munit_price\u001b[0m\u001b[1m \u001b[0m┃\u001b[1m \u001b[0m\u001b[1munit_cost\u001b[0m\u001b[1m \u001b[0m┃\u001b[1m \u001b[0m\u001b[1mnew_price\u001b[0m\u001b[1m \u001b[0m┃\u001b[1m \u001b[0m\u001b[1mnew_profit_rate\u001b[0m\u001b[1m \u001b[0m┃\n",
       "┡━━━━━━━━━━━━╇━━━━━━━━━━━━╇━━━━━━━━━━━╇━━━━━━━━━━━╇━━━━━━━━━━━━━━━━━┩\n",
       "│ \u001b[2mstring\u001b[0m     │ \u001b[2mint64\u001b[0m      │ \u001b[2mint64\u001b[0m     │ \u001b[2mint64\u001b[0m     │ \u001b[2mfloat64\u001b[0m         │\n",
       "├────────────┼────────────┼───────────┼───────────┼─────────────────┤\n",
       "│ \u001b[32mP040101001\u001b[0m │        \u001b[1;36m198\u001b[0m │       \u001b[1;36m149\u001b[0m │       \u001b[1;36m212\u001b[0m │        \u001b[1;36m0.297170\u001b[0m │\n",
       "│ \u001b[32mP040101002\u001b[0m │        \u001b[1;36m218\u001b[0m │       \u001b[1;36m164\u001b[0m │       \u001b[1;36m234\u001b[0m │        \u001b[1;36m0.299145\u001b[0m │\n",
       "│ \u001b[32mP040101003\u001b[0m │        \u001b[1;36m230\u001b[0m │       \u001b[1;36m173\u001b[0m │       \u001b[1;36m247\u001b[0m │        \u001b[1;36m0.299595\u001b[0m │\n",
       "│ \u001b[32mP040101004\u001b[0m │        \u001b[1;36m248\u001b[0m │       \u001b[1;36m186\u001b[0m │       \u001b[1;36m265\u001b[0m │        \u001b[1;36m0.298113\u001b[0m │\n",
       "│ \u001b[32mP040101005\u001b[0m │        \u001b[1;36m268\u001b[0m │       \u001b[1;36m201\u001b[0m │       \u001b[1;36m287\u001b[0m │        \u001b[1;36m0.299652\u001b[0m │\n",
       "│ \u001b[32mP040101006\u001b[0m │        \u001b[1;36m298\u001b[0m │       \u001b[1;36m224\u001b[0m │       \u001b[1;36m320\u001b[0m │        \u001b[1;36m0.300000\u001b[0m │\n",
       "│ \u001b[32mP040101007\u001b[0m │        \u001b[1;36m338\u001b[0m │       \u001b[1;36m254\u001b[0m │       \u001b[1;36m362\u001b[0m │        \u001b[1;36m0.298343\u001b[0m │\n",
       "│ \u001b[32mP040101008\u001b[0m │        \u001b[1;36m420\u001b[0m │       \u001b[1;36m315\u001b[0m │       \u001b[1;36m450\u001b[0m │        \u001b[1;36m0.300000\u001b[0m │\n",
       "│ \u001b[32mP040101009\u001b[0m │        \u001b[1;36m498\u001b[0m │       \u001b[1;36m374\u001b[0m │       \u001b[1;36m534\u001b[0m │        \u001b[1;36m0.299625\u001b[0m │\n",
       "│ \u001b[32mP040101010\u001b[0m │        \u001b[1;36m580\u001b[0m │       \u001b[1;36m435\u001b[0m │       \u001b[1;36m621\u001b[0m │        \u001b[1;36m0.299517\u001b[0m │\n",
       "└────────────┴────────────┴───────────┴───────────┴─────────────────┘"
      ]
     },
     "execution_count": 67,
     "metadata": {},
     "output_type": "execute_result"
    }
   ],
   "source": [
    "df_065 = (\n",
    "    df_product\n",
    "    .filter((~df_product[\"unit_price\"].isnull()) & (~df_product[\"unit_cost\"].isnull()))\n",
    "    .select(\"product_cd\", \"unit_price\", \"unit_cost\")\n",
    "    .mutate(new_price=(_[\"unit_cost\"] / 0.7).floor().cast(int))\n",
    "    .mutate(new_profit_rate=(\n",
    "        (_[\"new_price\"] - _[\"unit_cost\"])/_[\"new_price\"]\n",
    "    ))\n",
    "    .order_by(\"product_cd\")\n",
    ")\n",
    "\n",
    "df_065.head(10)"
   ]
  },
  {
   "attachments": {},
   "cell_type": "markdown",
   "metadata": {},
   "source": [
    "---\n",
    "> P-066: 商品データ（df_product）の各商品について、利益率が30%となる新たな単価を求めよ。今回は、1円未満を丸めること（四捨五入または偶数への丸めで良い）。そして結果を10件表示させ、利益率がおよそ30％付近であることを確認せよ。ただし、単価（unit_price）と原価（unit_cost）には欠損が生じていることに注意せよ。"
   ]
  },
  {
   "cell_type": "code",
   "execution_count": 68,
   "metadata": {},
   "outputs": [
    {
     "data": {
      "text/html": [
       "<pre style=\"white-space:pre;overflow-x:auto;line-height:normal;font-family:Menlo,'DejaVu Sans Mono',consolas,'Courier New',monospace\">┏━━━━━━━━━━━━┳━━━━━━━━━━━━┳━━━━━━━━━━━┳━━━━━━━━━━━┳━━━━━━━━━━━━━━━━━┓\n",
       "┃<span style=\"font-weight: bold\"> product_cd </span>┃<span style=\"font-weight: bold\"> unit_price </span>┃<span style=\"font-weight: bold\"> unit_cost </span>┃<span style=\"font-weight: bold\"> new_price </span>┃<span style=\"font-weight: bold\"> new_profit_rate </span>┃\n",
       "┡━━━━━━━━━━━━╇━━━━━━━━━━━━╇━━━━━━━━━━━╇━━━━━━━━━━━╇━━━━━━━━━━━━━━━━━┩\n",
       "│ <span style=\"color: #7f7f7f; text-decoration-color: #7f7f7f\">string</span>     │ <span style=\"color: #7f7f7f; text-decoration-color: #7f7f7f\">int64</span>      │ <span style=\"color: #7f7f7f; text-decoration-color: #7f7f7f\">int64</span>     │ <span style=\"color: #7f7f7f; text-decoration-color: #7f7f7f\">int64</span>     │ <span style=\"color: #7f7f7f; text-decoration-color: #7f7f7f\">float64</span>         │\n",
       "├────────────┼────────────┼───────────┼───────────┼─────────────────┤\n",
       "│ <span style=\"color: #008000; text-decoration-color: #008000\">P040101001</span> │        <span style=\"color: #008080; text-decoration-color: #008080; font-weight: bold\">198</span> │       <span style=\"color: #008080; text-decoration-color: #008080; font-weight: bold\">149</span> │       <span style=\"color: #008080; text-decoration-color: #008080; font-weight: bold\">213</span> │        <span style=\"color: #008080; text-decoration-color: #008080; font-weight: bold\">0.300469</span> │\n",
       "│ <span style=\"color: #008000; text-decoration-color: #008000\">P040101002</span> │        <span style=\"color: #008080; text-decoration-color: #008080; font-weight: bold\">218</span> │       <span style=\"color: #008080; text-decoration-color: #008080; font-weight: bold\">164</span> │       <span style=\"color: #008080; text-decoration-color: #008080; font-weight: bold\">234</span> │        <span style=\"color: #008080; text-decoration-color: #008080; font-weight: bold\">0.299145</span> │\n",
       "│ <span style=\"color: #008000; text-decoration-color: #008000\">P040101003</span> │        <span style=\"color: #008080; text-decoration-color: #008080; font-weight: bold\">230</span> │       <span style=\"color: #008080; text-decoration-color: #008080; font-weight: bold\">173</span> │       <span style=\"color: #008080; text-decoration-color: #008080; font-weight: bold\">247</span> │        <span style=\"color: #008080; text-decoration-color: #008080; font-weight: bold\">0.299595</span> │\n",
       "│ <span style=\"color: #008000; text-decoration-color: #008000\">P040101004</span> │        <span style=\"color: #008080; text-decoration-color: #008080; font-weight: bold\">248</span> │       <span style=\"color: #008080; text-decoration-color: #008080; font-weight: bold\">186</span> │       <span style=\"color: #008080; text-decoration-color: #008080; font-weight: bold\">266</span> │        <span style=\"color: #008080; text-decoration-color: #008080; font-weight: bold\">0.300752</span> │\n",
       "│ <span style=\"color: #008000; text-decoration-color: #008000\">P040101005</span> │        <span style=\"color: #008080; text-decoration-color: #008080; font-weight: bold\">268</span> │       <span style=\"color: #008080; text-decoration-color: #008080; font-weight: bold\">201</span> │       <span style=\"color: #008080; text-decoration-color: #008080; font-weight: bold\">287</span> │        <span style=\"color: #008080; text-decoration-color: #008080; font-weight: bold\">0.299652</span> │\n",
       "└────────────┴────────────┴───────────┴───────────┴─────────────────┘\n",
       "</pre>\n"
      ],
      "text/plain": [
       "┏━━━━━━━━━━━━┳━━━━━━━━━━━━┳━━━━━━━━━━━┳━━━━━━━━━━━┳━━━━━━━━━━━━━━━━━┓\n",
       "┃\u001b[1m \u001b[0m\u001b[1mproduct_cd\u001b[0m\u001b[1m \u001b[0m┃\u001b[1m \u001b[0m\u001b[1munit_price\u001b[0m\u001b[1m \u001b[0m┃\u001b[1m \u001b[0m\u001b[1munit_cost\u001b[0m\u001b[1m \u001b[0m┃\u001b[1m \u001b[0m\u001b[1mnew_price\u001b[0m\u001b[1m \u001b[0m┃\u001b[1m \u001b[0m\u001b[1mnew_profit_rate\u001b[0m\u001b[1m \u001b[0m┃\n",
       "┡━━━━━━━━━━━━╇━━━━━━━━━━━━╇━━━━━━━━━━━╇━━━━━━━━━━━╇━━━━━━━━━━━━━━━━━┩\n",
       "│ \u001b[2mstring\u001b[0m     │ \u001b[2mint64\u001b[0m      │ \u001b[2mint64\u001b[0m     │ \u001b[2mint64\u001b[0m     │ \u001b[2mfloat64\u001b[0m         │\n",
       "├────────────┼────────────┼───────────┼───────────┼─────────────────┤\n",
       "│ \u001b[32mP040101001\u001b[0m │        \u001b[1;36m198\u001b[0m │       \u001b[1;36m149\u001b[0m │       \u001b[1;36m213\u001b[0m │        \u001b[1;36m0.300469\u001b[0m │\n",
       "│ \u001b[32mP040101002\u001b[0m │        \u001b[1;36m218\u001b[0m │       \u001b[1;36m164\u001b[0m │       \u001b[1;36m234\u001b[0m │        \u001b[1;36m0.299145\u001b[0m │\n",
       "│ \u001b[32mP040101003\u001b[0m │        \u001b[1;36m230\u001b[0m │       \u001b[1;36m173\u001b[0m │       \u001b[1;36m247\u001b[0m │        \u001b[1;36m0.299595\u001b[0m │\n",
       "│ \u001b[32mP040101004\u001b[0m │        \u001b[1;36m248\u001b[0m │       \u001b[1;36m186\u001b[0m │       \u001b[1;36m266\u001b[0m │        \u001b[1;36m0.300752\u001b[0m │\n",
       "│ \u001b[32mP040101005\u001b[0m │        \u001b[1;36m268\u001b[0m │       \u001b[1;36m201\u001b[0m │       \u001b[1;36m287\u001b[0m │        \u001b[1;36m0.299652\u001b[0m │\n",
       "└────────────┴────────────┴───────────┴───────────┴─────────────────┘"
      ]
     },
     "execution_count": 68,
     "metadata": {},
     "output_type": "execute_result"
    }
   ],
   "source": [
    "df_066 = (\n",
    "    df_product\n",
    "    .filter((~df_product[\"unit_price\"].isnull()) & (~df_product[\"unit_cost\"].isnull()))\n",
    "    .select(\"product_cd\", \"unit_price\", \"unit_cost\")\n",
    "    .mutate(new_price=(_[\"unit_cost\"] / 0.7).round().cast(int))\n",
    "    .mutate(new_profit_rate=(\n",
    "        (_[\"new_price\"] - _[\"unit_cost\"])/_[\"new_price\"]\n",
    "    ))\n",
    "    .order_by(\"product_cd\")\n",
    ")\n",
    "\n",
    "df_066.head()"
   ]
  },
  {
   "attachments": {},
   "cell_type": "markdown",
   "metadata": {},
   "source": [
    "---\n",
    "> P-067: 商品データ（df_product）の各商品について、利益率が30%となる新たな単価を求めよ。今回は、1円未満を切り上げること。そして結果を10件表示させ、利益率がおよそ30％付近であることを確認せよ。ただし、単価（unit_price）と原価（unit_cost）には欠損が生じていることに注意せよ。"
   ]
  },
  {
   "cell_type": "code",
   "execution_count": 69,
   "metadata": {},
   "outputs": [
    {
     "data": {
      "text/html": [
       "<pre style=\"white-space:pre;overflow-x:auto;line-height:normal;font-family:Menlo,'DejaVu Sans Mono',consolas,'Courier New',monospace\">┏━━━━━━━━━━━━┳━━━━━━━━━━━━┳━━━━━━━━━━━┳━━━━━━━━━━━┳━━━━━━━━━━━━━━━━━┓\n",
       "┃<span style=\"font-weight: bold\"> product_cd </span>┃<span style=\"font-weight: bold\"> unit_price </span>┃<span style=\"font-weight: bold\"> unit_cost </span>┃<span style=\"font-weight: bold\"> new_price </span>┃<span style=\"font-weight: bold\"> new_profit_rate </span>┃\n",
       "┡━━━━━━━━━━━━╇━━━━━━━━━━━━╇━━━━━━━━━━━╇━━━━━━━━━━━╇━━━━━━━━━━━━━━━━━┩\n",
       "│ <span style=\"color: #7f7f7f; text-decoration-color: #7f7f7f\">string</span>     │ <span style=\"color: #7f7f7f; text-decoration-color: #7f7f7f\">int64</span>      │ <span style=\"color: #7f7f7f; text-decoration-color: #7f7f7f\">int64</span>     │ <span style=\"color: #7f7f7f; text-decoration-color: #7f7f7f\">int64</span>     │ <span style=\"color: #7f7f7f; text-decoration-color: #7f7f7f\">float64</span>         │\n",
       "├────────────┼────────────┼───────────┼───────────┼─────────────────┤\n",
       "│ <span style=\"color: #008000; text-decoration-color: #008000\">P040101001</span> │        <span style=\"color: #008080; text-decoration-color: #008080; font-weight: bold\">198</span> │       <span style=\"color: #008080; text-decoration-color: #008080; font-weight: bold\">149</span> │       <span style=\"color: #008080; text-decoration-color: #008080; font-weight: bold\">213</span> │        <span style=\"color: #008080; text-decoration-color: #008080; font-weight: bold\">0.300469</span> │\n",
       "│ <span style=\"color: #008000; text-decoration-color: #008000\">P040101002</span> │        <span style=\"color: #008080; text-decoration-color: #008080; font-weight: bold\">218</span> │       <span style=\"color: #008080; text-decoration-color: #008080; font-weight: bold\">164</span> │       <span style=\"color: #008080; text-decoration-color: #008080; font-weight: bold\">235</span> │        <span style=\"color: #008080; text-decoration-color: #008080; font-weight: bold\">0.302128</span> │\n",
       "│ <span style=\"color: #008000; text-decoration-color: #008000\">P040101003</span> │        <span style=\"color: #008080; text-decoration-color: #008080; font-weight: bold\">230</span> │       <span style=\"color: #008080; text-decoration-color: #008080; font-weight: bold\">173</span> │       <span style=\"color: #008080; text-decoration-color: #008080; font-weight: bold\">248</span> │        <span style=\"color: #008080; text-decoration-color: #008080; font-weight: bold\">0.302419</span> │\n",
       "│ <span style=\"color: #008000; text-decoration-color: #008000\">P040101004</span> │        <span style=\"color: #008080; text-decoration-color: #008080; font-weight: bold\">248</span> │       <span style=\"color: #008080; text-decoration-color: #008080; font-weight: bold\">186</span> │       <span style=\"color: #008080; text-decoration-color: #008080; font-weight: bold\">266</span> │        <span style=\"color: #008080; text-decoration-color: #008080; font-weight: bold\">0.300752</span> │\n",
       "│ <span style=\"color: #008000; text-decoration-color: #008000\">P040101005</span> │        <span style=\"color: #008080; text-decoration-color: #008080; font-weight: bold\">268</span> │       <span style=\"color: #008080; text-decoration-color: #008080; font-weight: bold\">201</span> │       <span style=\"color: #008080; text-decoration-color: #008080; font-weight: bold\">288</span> │        <span style=\"color: #008080; text-decoration-color: #008080; font-weight: bold\">0.302083</span> │\n",
       "└────────────┴────────────┴───────────┴───────────┴─────────────────┘\n",
       "</pre>\n"
      ],
      "text/plain": [
       "┏━━━━━━━━━━━━┳━━━━━━━━━━━━┳━━━━━━━━━━━┳━━━━━━━━━━━┳━━━━━━━━━━━━━━━━━┓\n",
       "┃\u001b[1m \u001b[0m\u001b[1mproduct_cd\u001b[0m\u001b[1m \u001b[0m┃\u001b[1m \u001b[0m\u001b[1munit_price\u001b[0m\u001b[1m \u001b[0m┃\u001b[1m \u001b[0m\u001b[1munit_cost\u001b[0m\u001b[1m \u001b[0m┃\u001b[1m \u001b[0m\u001b[1mnew_price\u001b[0m\u001b[1m \u001b[0m┃\u001b[1m \u001b[0m\u001b[1mnew_profit_rate\u001b[0m\u001b[1m \u001b[0m┃\n",
       "┡━━━━━━━━━━━━╇━━━━━━━━━━━━╇━━━━━━━━━━━╇━━━━━━━━━━━╇━━━━━━━━━━━━━━━━━┩\n",
       "│ \u001b[2mstring\u001b[0m     │ \u001b[2mint64\u001b[0m      │ \u001b[2mint64\u001b[0m     │ \u001b[2mint64\u001b[0m     │ \u001b[2mfloat64\u001b[0m         │\n",
       "├────────────┼────────────┼───────────┼───────────┼─────────────────┤\n",
       "│ \u001b[32mP040101001\u001b[0m │        \u001b[1;36m198\u001b[0m │       \u001b[1;36m149\u001b[0m │       \u001b[1;36m213\u001b[0m │        \u001b[1;36m0.300469\u001b[0m │\n",
       "│ \u001b[32mP040101002\u001b[0m │        \u001b[1;36m218\u001b[0m │       \u001b[1;36m164\u001b[0m │       \u001b[1;36m235\u001b[0m │        \u001b[1;36m0.302128\u001b[0m │\n",
       "│ \u001b[32mP040101003\u001b[0m │        \u001b[1;36m230\u001b[0m │       \u001b[1;36m173\u001b[0m │       \u001b[1;36m248\u001b[0m │        \u001b[1;36m0.302419\u001b[0m │\n",
       "│ \u001b[32mP040101004\u001b[0m │        \u001b[1;36m248\u001b[0m │       \u001b[1;36m186\u001b[0m │       \u001b[1;36m266\u001b[0m │        \u001b[1;36m0.300752\u001b[0m │\n",
       "│ \u001b[32mP040101005\u001b[0m │        \u001b[1;36m268\u001b[0m │       \u001b[1;36m201\u001b[0m │       \u001b[1;36m288\u001b[0m │        \u001b[1;36m0.302083\u001b[0m │\n",
       "└────────────┴────────────┴───────────┴───────────┴─────────────────┘"
      ]
     },
     "execution_count": 69,
     "metadata": {},
     "output_type": "execute_result"
    }
   ],
   "source": [
    "df_067 = (\n",
    "    df_product\n",
    "    .filter((~df_product[\"unit_price\"].isnull()) & (~df_product[\"unit_cost\"].isnull()))\n",
    "    .select(\"product_cd\", \"unit_price\", \"unit_cost\")\n",
    "    .mutate(new_price=(_[\"unit_cost\"] / 0.7).ceil().cast(int))\n",
    "    .mutate(new_profit_rate=(\n",
    "        (_[\"new_price\"] - _[\"unit_cost\"])/_[\"new_price\"]\n",
    "    ))\n",
    "    .order_by(\"product_cd\")\n",
    ")\n",
    "\n",
    "df_067.head()"
   ]
  },
  {
   "attachments": {},
   "cell_type": "markdown",
   "metadata": {},
   "source": [
    "---\n",
    "> P-068: 商品データ（df_product）の各商品について、消費税率10％の税込み金額を求めよ。1円未満の端数は切り捨てとし、結果を10件表示せよ。ただし、単価（unit_price）には欠損が生じていることに注意せよ。"
   ]
  },
  {
   "cell_type": "code",
   "execution_count": 70,
   "metadata": {},
   "outputs": [
    {
     "data": {
      "text/html": [
       "<pre style=\"white-space:pre;overflow-x:auto;line-height:normal;font-family:Menlo,'DejaVu Sans Mono',consolas,'Courier New',monospace\">┏━━━━━━━━━━━━┳━━━━━━━━━━━━┳━━━━━━━━━━━┓\n",
       "┃<span style=\"font-weight: bold\"> product_cd </span>┃<span style=\"font-weight: bold\"> unit_price </span>┃<span style=\"font-weight: bold\"> tax_price </span>┃\n",
       "┡━━━━━━━━━━━━╇━━━━━━━━━━━━╇━━━━━━━━━━━┩\n",
       "│ <span style=\"color: #7f7f7f; text-decoration-color: #7f7f7f\">string</span>     │ <span style=\"color: #7f7f7f; text-decoration-color: #7f7f7f\">int64</span>      │ <span style=\"color: #7f7f7f; text-decoration-color: #7f7f7f\">int64</span>     │\n",
       "├────────────┼────────────┼───────────┤\n",
       "│ <span style=\"color: #008000; text-decoration-color: #008000\">P040101001</span> │        <span style=\"color: #008080; text-decoration-color: #008080; font-weight: bold\">198</span> │       <span style=\"color: #008080; text-decoration-color: #008080; font-weight: bold\">218</span> │\n",
       "│ <span style=\"color: #008000; text-decoration-color: #008000\">P040101002</span> │        <span style=\"color: #008080; text-decoration-color: #008080; font-weight: bold\">218</span> │       <span style=\"color: #008080; text-decoration-color: #008080; font-weight: bold\">240</span> │\n",
       "│ <span style=\"color: #008000; text-decoration-color: #008000\">P040101003</span> │        <span style=\"color: #008080; text-decoration-color: #008080; font-weight: bold\">230</span> │       <span style=\"color: #008080; text-decoration-color: #008080; font-weight: bold\">253</span> │\n",
       "│ <span style=\"color: #008000; text-decoration-color: #008000\">P040101004</span> │        <span style=\"color: #008080; text-decoration-color: #008080; font-weight: bold\">248</span> │       <span style=\"color: #008080; text-decoration-color: #008080; font-weight: bold\">273</span> │\n",
       "│ <span style=\"color: #008000; text-decoration-color: #008000\">P040101005</span> │        <span style=\"color: #008080; text-decoration-color: #008080; font-weight: bold\">268</span> │       <span style=\"color: #008080; text-decoration-color: #008080; font-weight: bold\">295</span> │\n",
       "│ <span style=\"color: #008000; text-decoration-color: #008000\">P040101006</span> │        <span style=\"color: #008080; text-decoration-color: #008080; font-weight: bold\">298</span> │       <span style=\"color: #008080; text-decoration-color: #008080; font-weight: bold\">328</span> │\n",
       "│ <span style=\"color: #008000; text-decoration-color: #008000\">P040101007</span> │        <span style=\"color: #008080; text-decoration-color: #008080; font-weight: bold\">338</span> │       <span style=\"color: #008080; text-decoration-color: #008080; font-weight: bold\">372</span> │\n",
       "│ <span style=\"color: #008000; text-decoration-color: #008000\">P040101008</span> │        <span style=\"color: #008080; text-decoration-color: #008080; font-weight: bold\">420</span> │       <span style=\"color: #008080; text-decoration-color: #008080; font-weight: bold\">462</span> │\n",
       "│ <span style=\"color: #008000; text-decoration-color: #008000\">P040101009</span> │        <span style=\"color: #008080; text-decoration-color: #008080; font-weight: bold\">498</span> │       <span style=\"color: #008080; text-decoration-color: #008080; font-weight: bold\">548</span> │\n",
       "│ <span style=\"color: #008000; text-decoration-color: #008000\">P040101010</span> │        <span style=\"color: #008080; text-decoration-color: #008080; font-weight: bold\">580</span> │       <span style=\"color: #008080; text-decoration-color: #008080; font-weight: bold\">638</span> │\n",
       "└────────────┴────────────┴───────────┘\n",
       "</pre>\n"
      ],
      "text/plain": [
       "┏━━━━━━━━━━━━┳━━━━━━━━━━━━┳━━━━━━━━━━━┓\n",
       "┃\u001b[1m \u001b[0m\u001b[1mproduct_cd\u001b[0m\u001b[1m \u001b[0m┃\u001b[1m \u001b[0m\u001b[1munit_price\u001b[0m\u001b[1m \u001b[0m┃\u001b[1m \u001b[0m\u001b[1mtax_price\u001b[0m\u001b[1m \u001b[0m┃\n",
       "┡━━━━━━━━━━━━╇━━━━━━━━━━━━╇━━━━━━━━━━━┩\n",
       "│ \u001b[2mstring\u001b[0m     │ \u001b[2mint64\u001b[0m      │ \u001b[2mint64\u001b[0m     │\n",
       "├────────────┼────────────┼───────────┤\n",
       "│ \u001b[32mP040101001\u001b[0m │        \u001b[1;36m198\u001b[0m │       \u001b[1;36m218\u001b[0m │\n",
       "│ \u001b[32mP040101002\u001b[0m │        \u001b[1;36m218\u001b[0m │       \u001b[1;36m240\u001b[0m │\n",
       "│ \u001b[32mP040101003\u001b[0m │        \u001b[1;36m230\u001b[0m │       \u001b[1;36m253\u001b[0m │\n",
       "│ \u001b[32mP040101004\u001b[0m │        \u001b[1;36m248\u001b[0m │       \u001b[1;36m273\u001b[0m │\n",
       "│ \u001b[32mP040101005\u001b[0m │        \u001b[1;36m268\u001b[0m │       \u001b[1;36m295\u001b[0m │\n",
       "│ \u001b[32mP040101006\u001b[0m │        \u001b[1;36m298\u001b[0m │       \u001b[1;36m328\u001b[0m │\n",
       "│ \u001b[32mP040101007\u001b[0m │        \u001b[1;36m338\u001b[0m │       \u001b[1;36m372\u001b[0m │\n",
       "│ \u001b[32mP040101008\u001b[0m │        \u001b[1;36m420\u001b[0m │       \u001b[1;36m462\u001b[0m │\n",
       "│ \u001b[32mP040101009\u001b[0m │        \u001b[1;36m498\u001b[0m │       \u001b[1;36m548\u001b[0m │\n",
       "│ \u001b[32mP040101010\u001b[0m │        \u001b[1;36m580\u001b[0m │       \u001b[1;36m638\u001b[0m │\n",
       "└────────────┴────────────┴───────────┘"
      ]
     },
     "execution_count": 70,
     "metadata": {},
     "output_type": "execute_result"
    }
   ],
   "source": [
    "df_068 = (\n",
    "    df_product\n",
    "    .filter(~df_product[\"unit_price\"].isnull())\n",
    "    .select(\"product_cd\", \"unit_price\")\n",
    "    .mutate(tax_price=(_[\"unit_price\"] * 1.1).cast(int))\n",
    "    .order_by(\"product_cd\")\n",
    ")\n",
    "\n",
    "df_068.head(10)"
   ]
  },
  {
   "attachments": {},
   "cell_type": "markdown",
   "metadata": {},
   "source": [
    "---\n",
    "> P-069: レシート明細データ（df_receipt）と商品データ（df_product）を結合し、顧客毎に全商品の売上金額合計と、カテゴリ大区分コード（category_major_cd）が\"07\"（瓶詰缶詰）の売上金額合計を計算の上、両者の比率を求めよ。抽出対象はカテゴリ大区分コード\"07\"（瓶詰缶詰）の売上実績がある顧客のみとし、結果を10件表示せよ。"
   ]
  },
  {
   "cell_type": "code",
   "execution_count": 71,
   "metadata": {},
   "outputs": [
    {
     "data": {
      "text/html": [
       "<pre style=\"white-space:pre;overflow-x:auto;line-height:normal;font-family:Menlo,'DejaVu Sans Mono',consolas,'Courier New',monospace\">┏━━━━━━━━━━━━━━━━┳━━━━━━━━━┳━━━━━━━━┳━━━━━━━━━━━━┓\n",
       "┃<span style=\"font-weight: bold\"> customer_id    </span>┃<span style=\"font-weight: bold\"> sum_all </span>┃<span style=\"font-weight: bold\"> sum_07 </span>┃<span style=\"font-weight: bold\"> sales_rate </span>┃\n",
       "┡━━━━━━━━━━━━━━━━╇━━━━━━━━━╇━━━━━━━━╇━━━━━━━━━━━━┩\n",
       "│ <span style=\"color: #7f7f7f; text-decoration-color: #7f7f7f\">string</span>         │ <span style=\"color: #7f7f7f; text-decoration-color: #7f7f7f\">int64</span>   │ <span style=\"color: #7f7f7f; text-decoration-color: #7f7f7f\">int64</span>  │ <span style=\"color: #7f7f7f; text-decoration-color: #7f7f7f\">float64</span>    │\n",
       "├────────────────┼─────────┼────────┼────────────┤\n",
       "│ <span style=\"color: #008000; text-decoration-color: #008000\">CS001113000004</span> │    <span style=\"color: #008080; text-decoration-color: #008080; font-weight: bold\">1298</span> │   <span style=\"color: #008080; text-decoration-color: #008080; font-weight: bold\">1298</span> │   <span style=\"color: #008080; text-decoration-color: #008080; font-weight: bold\">1.000000</span> │\n",
       "│ <span style=\"color: #008000; text-decoration-color: #008000\">CS001114000005</span> │     <span style=\"color: #008080; text-decoration-color: #008080; font-weight: bold\">626</span> │    <span style=\"color: #008080; text-decoration-color: #008080; font-weight: bold\">486</span> │   <span style=\"color: #008080; text-decoration-color: #008080; font-weight: bold\">0.776358</span> │\n",
       "│ <span style=\"color: #008000; text-decoration-color: #008000\">CS001115000010</span> │    <span style=\"color: #008080; text-decoration-color: #008080; font-weight: bold\">3044</span> │   <span style=\"color: #008080; text-decoration-color: #008080; font-weight: bold\">2694</span> │   <span style=\"color: #008080; text-decoration-color: #008080; font-weight: bold\">0.885020</span> │\n",
       "│ <span style=\"color: #008000; text-decoration-color: #008000\">CS001205000004</span> │    <span style=\"color: #008080; text-decoration-color: #008080; font-weight: bold\">1988</span> │    <span style=\"color: #008080; text-decoration-color: #008080; font-weight: bold\">346</span> │   <span style=\"color: #008080; text-decoration-color: #008080; font-weight: bold\">0.174044</span> │\n",
       "│ <span style=\"color: #008000; text-decoration-color: #008000\">CS001205000006</span> │    <span style=\"color: #008080; text-decoration-color: #008080; font-weight: bold\">3337</span> │   <span style=\"color: #008080; text-decoration-color: #008080; font-weight: bold\">2004</span> │   <span style=\"color: #008080; text-decoration-color: #008080; font-weight: bold\">0.600539</span> │\n",
       "│ <span style=\"color: #008000; text-decoration-color: #008000\">CS001212000027</span> │     <span style=\"color: #008080; text-decoration-color: #008080; font-weight: bold\">448</span> │    <span style=\"color: #008080; text-decoration-color: #008080; font-weight: bold\">200</span> │   <span style=\"color: #008080; text-decoration-color: #008080; font-weight: bold\">0.446429</span> │\n",
       "│ <span style=\"color: #008000; text-decoration-color: #008000\">CS001212000031</span> │     <span style=\"color: #008080; text-decoration-color: #008080; font-weight: bold\">296</span> │    <span style=\"color: #008080; text-decoration-color: #008080; font-weight: bold\">296</span> │   <span style=\"color: #008080; text-decoration-color: #008080; font-weight: bold\">1.000000</span> │\n",
       "│ <span style=\"color: #008000; text-decoration-color: #008000\">CS001212000046</span> │     <span style=\"color: #008080; text-decoration-color: #008080; font-weight: bold\">228</span> │    <span style=\"color: #008080; text-decoration-color: #008080; font-weight: bold\">108</span> │   <span style=\"color: #008080; text-decoration-color: #008080; font-weight: bold\">0.473684</span> │\n",
       "│ <span style=\"color: #008000; text-decoration-color: #008000\">CS001212000070</span> │     <span style=\"color: #008080; text-decoration-color: #008080; font-weight: bold\">456</span> │    <span style=\"color: #008080; text-decoration-color: #008080; font-weight: bold\">308</span> │   <span style=\"color: #008080; text-decoration-color: #008080; font-weight: bold\">0.675439</span> │\n",
       "│ <span style=\"color: #008000; text-decoration-color: #008000\">CS001213000018</span> │     <span style=\"color: #008080; text-decoration-color: #008080; font-weight: bold\">243</span> │    <span style=\"color: #008080; text-decoration-color: #008080; font-weight: bold\">145</span> │   <span style=\"color: #008080; text-decoration-color: #008080; font-weight: bold\">0.596708</span> │\n",
       "└────────────────┴─────────┴────────┴────────────┘\n",
       "</pre>\n"
      ],
      "text/plain": [
       "┏━━━━━━━━━━━━━━━━┳━━━━━━━━━┳━━━━━━━━┳━━━━━━━━━━━━┓\n",
       "┃\u001b[1m \u001b[0m\u001b[1mcustomer_id\u001b[0m\u001b[1m   \u001b[0m\u001b[1m \u001b[0m┃\u001b[1m \u001b[0m\u001b[1msum_all\u001b[0m\u001b[1m \u001b[0m┃\u001b[1m \u001b[0m\u001b[1msum_07\u001b[0m\u001b[1m \u001b[0m┃\u001b[1m \u001b[0m\u001b[1msales_rate\u001b[0m\u001b[1m \u001b[0m┃\n",
       "┡━━━━━━━━━━━━━━━━╇━━━━━━━━━╇━━━━━━━━╇━━━━━━━━━━━━┩\n",
       "│ \u001b[2mstring\u001b[0m         │ \u001b[2mint64\u001b[0m   │ \u001b[2mint64\u001b[0m  │ \u001b[2mfloat64\u001b[0m    │\n",
       "├────────────────┼─────────┼────────┼────────────┤\n",
       "│ \u001b[32mCS001113000004\u001b[0m │    \u001b[1;36m1298\u001b[0m │   \u001b[1;36m1298\u001b[0m │   \u001b[1;36m1.000000\u001b[0m │\n",
       "│ \u001b[32mCS001114000005\u001b[0m │     \u001b[1;36m626\u001b[0m │    \u001b[1;36m486\u001b[0m │   \u001b[1;36m0.776358\u001b[0m │\n",
       "│ \u001b[32mCS001115000010\u001b[0m │    \u001b[1;36m3044\u001b[0m │   \u001b[1;36m2694\u001b[0m │   \u001b[1;36m0.885020\u001b[0m │\n",
       "│ \u001b[32mCS001205000004\u001b[0m │    \u001b[1;36m1988\u001b[0m │    \u001b[1;36m346\u001b[0m │   \u001b[1;36m0.174044\u001b[0m │\n",
       "│ \u001b[32mCS001205000006\u001b[0m │    \u001b[1;36m3337\u001b[0m │   \u001b[1;36m2004\u001b[0m │   \u001b[1;36m0.600539\u001b[0m │\n",
       "│ \u001b[32mCS001212000027\u001b[0m │     \u001b[1;36m448\u001b[0m │    \u001b[1;36m200\u001b[0m │   \u001b[1;36m0.446429\u001b[0m │\n",
       "│ \u001b[32mCS001212000031\u001b[0m │     \u001b[1;36m296\u001b[0m │    \u001b[1;36m296\u001b[0m │   \u001b[1;36m1.000000\u001b[0m │\n",
       "│ \u001b[32mCS001212000046\u001b[0m │     \u001b[1;36m228\u001b[0m │    \u001b[1;36m108\u001b[0m │   \u001b[1;36m0.473684\u001b[0m │\n",
       "│ \u001b[32mCS001212000070\u001b[0m │     \u001b[1;36m456\u001b[0m │    \u001b[1;36m308\u001b[0m │   \u001b[1;36m0.675439\u001b[0m │\n",
       "│ \u001b[32mCS001213000018\u001b[0m │     \u001b[1;36m243\u001b[0m │    \u001b[1;36m145\u001b[0m │   \u001b[1;36m0.596708\u001b[0m │\n",
       "└────────────────┴─────────┴────────┴────────────┘"
      ]
     },
     "execution_count": 71,
     "metadata": {},
     "output_type": "execute_result"
    }
   ],
   "source": [
    "df_069 = (\n",
    "    df_receipt\n",
    "    .join(df_product, predicates=\"product_cd\", how=\"inner\")\n",
    "    .mutate(category_07_sell=(\n",
    "        ibis.case()\n",
    "        .when(\n",
    "            _[\"category_major_cd\"].startswith(\"07\"),\n",
    "            _[\"unit_price\"] * _[\"quantity\"]\n",
    "        )\n",
    "        .end()\n",
    "    ))\n",
    "    .group_by(\"customer_id\")\n",
    "    .aggregate(sum_all=_[\"amount\"].sum(), sum_07=_[\"category_07_sell\"].sum())\n",
    "    .filter(~_[\"sum_07\"].isnull())\n",
    "    .mutate(sales_rate=(_[\"sum_07\"] / _[\"sum_all\"]))\n",
    "    .order_by(\"customer_id\")\n",
    ")\n",
    "\n",
    "df_069.head(10)"
   ]
  },
  {
   "attachments": {},
   "cell_type": "markdown",
   "metadata": {},
   "source": [
    "## Date型の計算"
   ]
  },
  {
   "attachments": {},
   "cell_type": "markdown",
   "metadata": {},
   "source": [
    "---\n",
    "> P-070: レシート明細データ（df_receipt）の売上日（sales_ymd）に対し、顧客データ（df_customer）の会員申込日（application_date）からの経過日数を計算し、顧客ID（customer_id）、売上日、会員申込日とともに10件表示せよ（sales_ymdは数値、application_dateは文字列でデータを保持している点に注意）。"
   ]
  },
  {
   "cell_type": "code",
   "execution_count": 72,
   "metadata": {},
   "outputs": [
    {
     "data": {
      "text/html": [
       "<pre style=\"white-space:pre;overflow-x:auto;line-height:normal;font-family:Menlo,'DejaVu Sans Mono',consolas,'Courier New',monospace\">┏━━━━━━━━━━━━━━━━┳━━━━━━━━━━━━┳━━━━━━━━━━━━━━━━━━┳━━━━━━━━━━━━━━┓\n",
       "┃<span style=\"font-weight: bold\"> customer_id    </span>┃<span style=\"font-weight: bold\"> sales_ymd  </span>┃<span style=\"font-weight: bold\"> application_date </span>┃<span style=\"font-weight: bold\"> elapsed_date </span>┃\n",
       "┡━━━━━━━━━━━━━━━━╇━━━━━━━━━━━━╇━━━━━━━━━━━━━━━━━━╇━━━━━━━━━━━━━━┩\n",
       "│ <span style=\"color: #7f7f7f; text-decoration-color: #7f7f7f\">string</span>         │ <span style=\"color: #7f7f7f; text-decoration-color: #7f7f7f\">date</span>       │ <span style=\"color: #7f7f7f; text-decoration-color: #7f7f7f\">date</span>             │ <span style=\"color: #7f7f7f; text-decoration-color: #7f7f7f\">int64</span>        │\n",
       "├────────────────┼────────────┼──────────────────┼──────────────┤\n",
       "│ <span style=\"color: #008000; text-decoration-color: #008000\">CS001113000004</span> │ <span style=\"color: #800080; text-decoration-color: #800080\">2019-03-08</span> │ <span style=\"color: #800080; text-decoration-color: #800080\">2015-11-05</span>       │         <span style=\"color: #008080; text-decoration-color: #008080; font-weight: bold\">1219</span> │\n",
       "│ <span style=\"color: #008000; text-decoration-color: #008000\">CS001113000004</span> │ <span style=\"color: #800080; text-decoration-color: #800080\">2019-03-08</span> │ <span style=\"color: #800080; text-decoration-color: #800080\">2015-11-05</span>       │         <span style=\"color: #008080; text-decoration-color: #008080; font-weight: bold\">1219</span> │\n",
       "│ <span style=\"color: #008000; text-decoration-color: #008000\">CS001114000005</span> │ <span style=\"color: #800080; text-decoration-color: #800080\">2018-05-03</span> │ <span style=\"color: #800080; text-decoration-color: #800080\">2016-04-12</span>       │          <span style=\"color: #008080; text-decoration-color: #008080; font-weight: bold\">751</span> │\n",
       "│ <span style=\"color: #008000; text-decoration-color: #008000\">CS001114000005</span> │ <span style=\"color: #800080; text-decoration-color: #800080\">2019-07-31</span> │ <span style=\"color: #800080; text-decoration-color: #800080\">2016-04-12</span>       │         <span style=\"color: #008080; text-decoration-color: #008080; font-weight: bold\">1205</span> │\n",
       "│ <span style=\"color: #008000; text-decoration-color: #008000\">CS001114000005</span> │ <span style=\"color: #800080; text-decoration-color: #800080\">2019-07-31</span> │ <span style=\"color: #800080; text-decoration-color: #800080\">2016-04-12</span>       │         <span style=\"color: #008080; text-decoration-color: #008080; font-weight: bold\">1205</span> │\n",
       "│ <span style=\"color: #008000; text-decoration-color: #008000\">CS001114000005</span> │ <span style=\"color: #800080; text-decoration-color: #800080\">2018-05-03</span> │ <span style=\"color: #800080; text-decoration-color: #800080\">2016-04-12</span>       │          <span style=\"color: #008080; text-decoration-color: #008080; font-weight: bold\">751</span> │\n",
       "│ <span style=\"color: #008000; text-decoration-color: #008000\">CS001115000010</span> │ <span style=\"color: #800080; text-decoration-color: #800080\">2018-07-01</span> │ <span style=\"color: #800080; text-decoration-color: #800080\">2015-04-17</span>       │         <span style=\"color: #008080; text-decoration-color: #008080; font-weight: bold\">1171</span> │\n",
       "│ <span style=\"color: #008000; text-decoration-color: #008000\">CS001115000010</span> │ <span style=\"color: #800080; text-decoration-color: #800080\">2019-04-05</span> │ <span style=\"color: #800080; text-decoration-color: #800080\">2015-04-17</span>       │         <span style=\"color: #008080; text-decoration-color: #008080; font-weight: bold\">1449</span> │\n",
       "│ <span style=\"color: #008000; text-decoration-color: #008000\">CS001115000010</span> │ <span style=\"color: #800080; text-decoration-color: #800080\">2017-12-28</span> │ <span style=\"color: #800080; text-decoration-color: #800080\">2015-04-17</span>       │          <span style=\"color: #008080; text-decoration-color: #008080; font-weight: bold\">986</span> │\n",
       "│ <span style=\"color: #008000; text-decoration-color: #008000\">CS001115000010</span> │ <span style=\"color: #800080; text-decoration-color: #800080\">2018-07-01</span> │ <span style=\"color: #800080; text-decoration-color: #800080\">2015-04-17</span>       │         <span style=\"color: #008080; text-decoration-color: #008080; font-weight: bold\">1171</span> │\n",
       "└────────────────┴────────────┴──────────────────┴──────────────┘\n",
       "</pre>\n"
      ],
      "text/plain": [
       "┏━━━━━━━━━━━━━━━━┳━━━━━━━━━━━━┳━━━━━━━━━━━━━━━━━━┳━━━━━━━━━━━━━━┓\n",
       "┃\u001b[1m \u001b[0m\u001b[1mcustomer_id\u001b[0m\u001b[1m   \u001b[0m\u001b[1m \u001b[0m┃\u001b[1m \u001b[0m\u001b[1msales_ymd\u001b[0m\u001b[1m \u001b[0m\u001b[1m \u001b[0m┃\u001b[1m \u001b[0m\u001b[1mapplication_date\u001b[0m\u001b[1m \u001b[0m┃\u001b[1m \u001b[0m\u001b[1melapsed_date\u001b[0m\u001b[1m \u001b[0m┃\n",
       "┡━━━━━━━━━━━━━━━━╇━━━━━━━━━━━━╇━━━━━━━━━━━━━━━━━━╇━━━━━━━━━━━━━━┩\n",
       "│ \u001b[2mstring\u001b[0m         │ \u001b[2mdate\u001b[0m       │ \u001b[2mdate\u001b[0m             │ \u001b[2mint64\u001b[0m        │\n",
       "├────────────────┼────────────┼──────────────────┼──────────────┤\n",
       "│ \u001b[32mCS001113000004\u001b[0m │ \u001b[35m2019-03-08\u001b[0m │ \u001b[35m2015-11-05\u001b[0m       │         \u001b[1;36m1219\u001b[0m │\n",
       "│ \u001b[32mCS001113000004\u001b[0m │ \u001b[35m2019-03-08\u001b[0m │ \u001b[35m2015-11-05\u001b[0m       │         \u001b[1;36m1219\u001b[0m │\n",
       "│ \u001b[32mCS001114000005\u001b[0m │ \u001b[35m2018-05-03\u001b[0m │ \u001b[35m2016-04-12\u001b[0m       │          \u001b[1;36m751\u001b[0m │\n",
       "│ \u001b[32mCS001114000005\u001b[0m │ \u001b[35m2019-07-31\u001b[0m │ \u001b[35m2016-04-12\u001b[0m       │         \u001b[1;36m1205\u001b[0m │\n",
       "│ \u001b[32mCS001114000005\u001b[0m │ \u001b[35m2019-07-31\u001b[0m │ \u001b[35m2016-04-12\u001b[0m       │         \u001b[1;36m1205\u001b[0m │\n",
       "│ \u001b[32mCS001114000005\u001b[0m │ \u001b[35m2018-05-03\u001b[0m │ \u001b[35m2016-04-12\u001b[0m       │          \u001b[1;36m751\u001b[0m │\n",
       "│ \u001b[32mCS001115000010\u001b[0m │ \u001b[35m2018-07-01\u001b[0m │ \u001b[35m2015-04-17\u001b[0m       │         \u001b[1;36m1171\u001b[0m │\n",
       "│ \u001b[32mCS001115000010\u001b[0m │ \u001b[35m2019-04-05\u001b[0m │ \u001b[35m2015-04-17\u001b[0m       │         \u001b[1;36m1449\u001b[0m │\n",
       "│ \u001b[32mCS001115000010\u001b[0m │ \u001b[35m2017-12-28\u001b[0m │ \u001b[35m2015-04-17\u001b[0m       │          \u001b[1;36m986\u001b[0m │\n",
       "│ \u001b[32mCS001115000010\u001b[0m │ \u001b[35m2018-07-01\u001b[0m │ \u001b[35m2015-04-17\u001b[0m       │         \u001b[1;36m1171\u001b[0m │\n",
       "└────────────────┴────────────┴──────────────────┴──────────────┘"
      ]
     },
     "execution_count": 72,
     "metadata": {},
     "output_type": "execute_result"
    }
   ],
   "source": [
    "df_070 = (\n",
    "    df_receipt\n",
    "    .select(\"customer_id\", \"sales_ymd\")\n",
    "    .join(\n",
    "        df_customer.select(\"customer_id\", \"application_date\"),\n",
    "        predicates=\"customer_id\",\n",
    "        how=\"inner\"\n",
    "    )\n",
    "    .mutate(\n",
    "        sales_ymd=_[\"sales_ymd\"].cast(str).to_date(\"%Y%m%d\"),\n",
    "        application_date=_[\"application_date\"].cast(str).to_date(\"%Y%m%d\"),\n",
    "    )\n",
    "    .mutate(\n",
    "        elapsed_date=_[\"sales_ymd\"].delta(_[\"application_date\"], \"day\")\n",
    "    )\n",
    "    .order_by(\"customer_id\")\n",
    ")\n",
    "\n",
    "df_070.head(10)"
   ]
  },
  {
   "attachments": {},
   "cell_type": "markdown",
   "metadata": {},
   "source": [
    "---\n",
    "> P-071: レシート明細データ（df_receipt）の売上日（sales_ymd）に対し、顧客データ（df_customer）の会員申込日（application_date）からの経過月数を計算し、顧客ID（customer_id）、売上日、会員申込日とともに10件表示せよ（sales_ymdは数値、application_dateは文字列でデータを保持している点に注意）。1ヶ月未満は切り捨てること。"
   ]
  },
  {
   "cell_type": "code",
   "execution_count": 73,
   "metadata": {},
   "outputs": [
    {
     "data": {
      "text/html": [
       "<pre style=\"white-space:pre;overflow-x:auto;line-height:normal;font-family:Menlo,'DejaVu Sans Mono',consolas,'Courier New',monospace\">┏━━━━━━━━━━━━━━━━┳━━━━━━━━━━━━┳━━━━━━━━━━━━━━━━━━┳━━━━━━━━━━━━━━━┓\n",
       "┃<span style=\"font-weight: bold\"> customer_id    </span>┃<span style=\"font-weight: bold\"> sales_ymd  </span>┃<span style=\"font-weight: bold\"> application_date </span>┃<span style=\"font-weight: bold\"> elapsed_month </span>┃\n",
       "┡━━━━━━━━━━━━━━━━╇━━━━━━━━━━━━╇━━━━━━━━━━━━━━━━━━╇━━━━━━━━━━━━━━━┩\n",
       "│ <span style=\"color: #7f7f7f; text-decoration-color: #7f7f7f\">string</span>         │ <span style=\"color: #7f7f7f; text-decoration-color: #7f7f7f\">date</span>       │ <span style=\"color: #7f7f7f; text-decoration-color: #7f7f7f\">date</span>             │ <span style=\"color: #7f7f7f; text-decoration-color: #7f7f7f\">int64</span>         │\n",
       "├────────────────┼────────────┼──────────────────┼───────────────┤\n",
       "│ <span style=\"color: #008000; text-decoration-color: #008000\">CS001113000004</span> │ <span style=\"color: #800080; text-decoration-color: #800080\">2019-03-08</span> │ <span style=\"color: #800080; text-decoration-color: #800080\">2015-11-05</span>       │            <span style=\"color: #008080; text-decoration-color: #008080; font-weight: bold\">40</span> │\n",
       "│ <span style=\"color: #008000; text-decoration-color: #008000\">CS001113000004</span> │ <span style=\"color: #800080; text-decoration-color: #800080\">2019-03-08</span> │ <span style=\"color: #800080; text-decoration-color: #800080\">2015-11-05</span>       │            <span style=\"color: #008080; text-decoration-color: #008080; font-weight: bold\">40</span> │\n",
       "│ <span style=\"color: #008000; text-decoration-color: #008000\">CS001114000005</span> │ <span style=\"color: #800080; text-decoration-color: #800080\">2018-05-03</span> │ <span style=\"color: #800080; text-decoration-color: #800080\">2016-04-12</span>       │            <span style=\"color: #008080; text-decoration-color: #008080; font-weight: bold\">25</span> │\n",
       "│ <span style=\"color: #008000; text-decoration-color: #008000\">CS001114000005</span> │ <span style=\"color: #800080; text-decoration-color: #800080\">2019-07-31</span> │ <span style=\"color: #800080; text-decoration-color: #800080\">2016-04-12</span>       │            <span style=\"color: #008080; text-decoration-color: #008080; font-weight: bold\">39</span> │\n",
       "│ <span style=\"color: #008000; text-decoration-color: #008000\">CS001114000005</span> │ <span style=\"color: #800080; text-decoration-color: #800080\">2019-07-31</span> │ <span style=\"color: #800080; text-decoration-color: #800080\">2016-04-12</span>       │            <span style=\"color: #008080; text-decoration-color: #008080; font-weight: bold\">39</span> │\n",
       "│ <span style=\"color: #008000; text-decoration-color: #008000\">CS001114000005</span> │ <span style=\"color: #800080; text-decoration-color: #800080\">2018-05-03</span> │ <span style=\"color: #800080; text-decoration-color: #800080\">2016-04-12</span>       │            <span style=\"color: #008080; text-decoration-color: #008080; font-weight: bold\">25</span> │\n",
       "│ <span style=\"color: #008000; text-decoration-color: #008000\">CS001115000010</span> │ <span style=\"color: #800080; text-decoration-color: #800080\">2018-07-01</span> │ <span style=\"color: #800080; text-decoration-color: #800080\">2015-04-17</span>       │            <span style=\"color: #008080; text-decoration-color: #008080; font-weight: bold\">39</span> │\n",
       "│ <span style=\"color: #008000; text-decoration-color: #008000\">CS001115000010</span> │ <span style=\"color: #800080; text-decoration-color: #800080\">2019-04-05</span> │ <span style=\"color: #800080; text-decoration-color: #800080\">2015-04-17</span>       │            <span style=\"color: #008080; text-decoration-color: #008080; font-weight: bold\">48</span> │\n",
       "│ <span style=\"color: #008000; text-decoration-color: #008000\">CS001115000010</span> │ <span style=\"color: #800080; text-decoration-color: #800080\">2017-12-28</span> │ <span style=\"color: #800080; text-decoration-color: #800080\">2015-04-17</span>       │            <span style=\"color: #008080; text-decoration-color: #008080; font-weight: bold\">32</span> │\n",
       "│ <span style=\"color: #008000; text-decoration-color: #008000\">CS001115000010</span> │ <span style=\"color: #800080; text-decoration-color: #800080\">2018-07-01</span> │ <span style=\"color: #800080; text-decoration-color: #800080\">2015-04-17</span>       │            <span style=\"color: #008080; text-decoration-color: #008080; font-weight: bold\">39</span> │\n",
       "└────────────────┴────────────┴──────────────────┴───────────────┘\n",
       "</pre>\n"
      ],
      "text/plain": [
       "┏━━━━━━━━━━━━━━━━┳━━━━━━━━━━━━┳━━━━━━━━━━━━━━━━━━┳━━━━━━━━━━━━━━━┓\n",
       "┃\u001b[1m \u001b[0m\u001b[1mcustomer_id\u001b[0m\u001b[1m   \u001b[0m\u001b[1m \u001b[0m┃\u001b[1m \u001b[0m\u001b[1msales_ymd\u001b[0m\u001b[1m \u001b[0m\u001b[1m \u001b[0m┃\u001b[1m \u001b[0m\u001b[1mapplication_date\u001b[0m\u001b[1m \u001b[0m┃\u001b[1m \u001b[0m\u001b[1melapsed_month\u001b[0m\u001b[1m \u001b[0m┃\n",
       "┡━━━━━━━━━━━━━━━━╇━━━━━━━━━━━━╇━━━━━━━━━━━━━━━━━━╇━━━━━━━━━━━━━━━┩\n",
       "│ \u001b[2mstring\u001b[0m         │ \u001b[2mdate\u001b[0m       │ \u001b[2mdate\u001b[0m             │ \u001b[2mint64\u001b[0m         │\n",
       "├────────────────┼────────────┼──────────────────┼───────────────┤\n",
       "│ \u001b[32mCS001113000004\u001b[0m │ \u001b[35m2019-03-08\u001b[0m │ \u001b[35m2015-11-05\u001b[0m       │            \u001b[1;36m40\u001b[0m │\n",
       "│ \u001b[32mCS001113000004\u001b[0m │ \u001b[35m2019-03-08\u001b[0m │ \u001b[35m2015-11-05\u001b[0m       │            \u001b[1;36m40\u001b[0m │\n",
       "│ \u001b[32mCS001114000005\u001b[0m │ \u001b[35m2018-05-03\u001b[0m │ \u001b[35m2016-04-12\u001b[0m       │            \u001b[1;36m25\u001b[0m │\n",
       "│ \u001b[32mCS001114000005\u001b[0m │ \u001b[35m2019-07-31\u001b[0m │ \u001b[35m2016-04-12\u001b[0m       │            \u001b[1;36m39\u001b[0m │\n",
       "│ \u001b[32mCS001114000005\u001b[0m │ \u001b[35m2019-07-31\u001b[0m │ \u001b[35m2016-04-12\u001b[0m       │            \u001b[1;36m39\u001b[0m │\n",
       "│ \u001b[32mCS001114000005\u001b[0m │ \u001b[35m2018-05-03\u001b[0m │ \u001b[35m2016-04-12\u001b[0m       │            \u001b[1;36m25\u001b[0m │\n",
       "│ \u001b[32mCS001115000010\u001b[0m │ \u001b[35m2018-07-01\u001b[0m │ \u001b[35m2015-04-17\u001b[0m       │            \u001b[1;36m39\u001b[0m │\n",
       "│ \u001b[32mCS001115000010\u001b[0m │ \u001b[35m2019-04-05\u001b[0m │ \u001b[35m2015-04-17\u001b[0m       │            \u001b[1;36m48\u001b[0m │\n",
       "│ \u001b[32mCS001115000010\u001b[0m │ \u001b[35m2017-12-28\u001b[0m │ \u001b[35m2015-04-17\u001b[0m       │            \u001b[1;36m32\u001b[0m │\n",
       "│ \u001b[32mCS001115000010\u001b[0m │ \u001b[35m2018-07-01\u001b[0m │ \u001b[35m2015-04-17\u001b[0m       │            \u001b[1;36m39\u001b[0m │\n",
       "└────────────────┴────────────┴──────────────────┴───────────────┘"
      ]
     },
     "execution_count": 73,
     "metadata": {},
     "output_type": "execute_result"
    }
   ],
   "source": [
    "df_071 = (\n",
    "    df_receipt\n",
    "    .select(\"customer_id\", \"sales_ymd\")\n",
    "    .join(\n",
    "        df_customer.select(\"customer_id\", \"application_date\"),\n",
    "        predicates=\"customer_id\",\n",
    "        how=\"inner\"\n",
    "    )\n",
    "    .mutate(\n",
    "        sales_ymd=_[\"sales_ymd\"].cast(str).to_date(\"%Y%m%d\"),\n",
    "        application_date=_[\"application_date\"].cast(str).to_date(\"%Y%m%d\"),\n",
    "    )\n",
    "    .mutate(\n",
    "        elapsed_month=_[\"sales_ymd\"].delta(_[\"application_date\"], \"month\")\n",
    "    )\n",
    "    .order_by(\"customer_id\")\n",
    ")\n",
    "\n",
    "df_071.head(10)"
   ]
  },
  {
   "attachments": {},
   "cell_type": "markdown",
   "metadata": {},
   "source": [
    "---\n",
    "> P-072: レシート明細データ（df_receipt）の売上日（df_customer）に対し、顧客データ（df_customer）の会員申込日（application_date）からの経過年数を計算し、顧客ID（customer_id）、売上日、会員申込日とともに10件表示せよ（sales_ymdは数値、application_dateは文字列でデータを保持している点に注意）。1年未満は切り捨てること。"
   ]
  },
  {
   "cell_type": "code",
   "execution_count": 74,
   "metadata": {},
   "outputs": [
    {
     "data": {
      "text/html": [
       "<pre style=\"white-space:pre;overflow-x:auto;line-height:normal;font-family:Menlo,'DejaVu Sans Mono',consolas,'Courier New',monospace\">┏━━━━━━━━━━━━━━━━┳━━━━━━━━━━━━┳━━━━━━━━━━━━━━━━━━┳━━━━━━━━━━━━━━┓\n",
       "┃<span style=\"font-weight: bold\"> customer_id    </span>┃<span style=\"font-weight: bold\"> sales_ymd  </span>┃<span style=\"font-weight: bold\"> application_date </span>┃<span style=\"font-weight: bold\"> elapsed_year </span>┃\n",
       "┡━━━━━━━━━━━━━━━━╇━━━━━━━━━━━━╇━━━━━━━━━━━━━━━━━━╇━━━━━━━━━━━━━━┩\n",
       "│ <span style=\"color: #7f7f7f; text-decoration-color: #7f7f7f\">string</span>         │ <span style=\"color: #7f7f7f; text-decoration-color: #7f7f7f\">date</span>       │ <span style=\"color: #7f7f7f; text-decoration-color: #7f7f7f\">date</span>             │ <span style=\"color: #7f7f7f; text-decoration-color: #7f7f7f\">int64</span>        │\n",
       "├────────────────┼────────────┼──────────────────┼──────────────┤\n",
       "│ <span style=\"color: #008000; text-decoration-color: #008000\">CS006214000001</span> │ <span style=\"color: #800080; text-decoration-color: #800080\">2018-11-03</span> │ <span style=\"color: #800080; text-decoration-color: #800080\">2015-02-01</span>       │            <span style=\"color: #008080; text-decoration-color: #008080; font-weight: bold\">3</span> │\n",
       "│ <span style=\"color: #008000; text-decoration-color: #008000\">CS008415000097</span> │ <span style=\"color: #800080; text-decoration-color: #800080\">2018-11-18</span> │ <span style=\"color: #800080; text-decoration-color: #800080\">2015-03-22</span>       │            <span style=\"color: #008080; text-decoration-color: #008080; font-weight: bold\">3</span> │\n",
       "│ <span style=\"color: #008000; text-decoration-color: #008000\">CS028414000014</span> │ <span style=\"color: #800080; text-decoration-color: #800080\">2017-07-12</span> │ <span style=\"color: #800080; text-decoration-color: #800080\">2015-07-11</span>       │            <span style=\"color: #008080; text-decoration-color: #008080; font-weight: bold\">2</span> │\n",
       "│ <span style=\"color: #008000; text-decoration-color: #008000\">CS025415000050</span> │ <span style=\"color: #800080; text-decoration-color: #800080\">2018-08-21</span> │ <span style=\"color: #800080; text-decoration-color: #800080\">2016-01-31</span>       │            <span style=\"color: #008080; text-decoration-color: #008080; font-weight: bold\">2</span> │\n",
       "│ <span style=\"color: #008000; text-decoration-color: #008000\">CS040415000178</span> │ <span style=\"color: #800080; text-decoration-color: #800080\">2019-09-22</span> │ <span style=\"color: #800080; text-decoration-color: #800080\">2015-06-27</span>       │            <span style=\"color: #008080; text-decoration-color: #008080; font-weight: bold\">4</span> │\n",
       "│ <span style=\"color: #008000; text-decoration-color: #008000\">CS025415000134</span> │ <span style=\"color: #800080; text-decoration-color: #800080\">2019-09-18</span> │ <span style=\"color: #800080; text-decoration-color: #800080\">2015-07-20</span>       │            <span style=\"color: #008080; text-decoration-color: #008080; font-weight: bold\">4</span> │\n",
       "│ <span style=\"color: #008000; text-decoration-color: #008000\">CS021515000126</span> │ <span style=\"color: #800080; text-decoration-color: #800080\">2017-10-10</span> │ <span style=\"color: #800080; text-decoration-color: #800080\">2015-05-08</span>       │            <span style=\"color: #008080; text-decoration-color: #008080; font-weight: bold\">2</span> │\n",
       "│ <span style=\"color: #008000; text-decoration-color: #008000\">CS039414000052</span> │ <span style=\"color: #800080; text-decoration-color: #800080\">2018-05-06</span> │ <span style=\"color: #800080; text-decoration-color: #800080\">2015-05-09</span>       │            <span style=\"color: #008080; text-decoration-color: #008080; font-weight: bold\">3</span> │\n",
       "│ <span style=\"color: #008000; text-decoration-color: #008000\">CS016215000032</span> │ <span style=\"color: #800080; text-decoration-color: #800080\">2019-03-26</span> │ <span style=\"color: #800080; text-decoration-color: #800080\">2015-07-02</span>       │            <span style=\"color: #008080; text-decoration-color: #008080; font-weight: bold\">4</span> │\n",
       "│ <span style=\"color: #008000; text-decoration-color: #008000\">CS026515000042</span> │ <span style=\"color: #800080; text-decoration-color: #800080\">2019-06-03</span> │ <span style=\"color: #800080; text-decoration-color: #800080\">2015-07-21</span>       │            <span style=\"color: #008080; text-decoration-color: #008080; font-weight: bold\">4</span> │\n",
       "└────────────────┴────────────┴──────────────────┴──────────────┘\n",
       "</pre>\n"
      ],
      "text/plain": [
       "┏━━━━━━━━━━━━━━━━┳━━━━━━━━━━━━┳━━━━━━━━━━━━━━━━━━┳━━━━━━━━━━━━━━┓\n",
       "┃\u001b[1m \u001b[0m\u001b[1mcustomer_id\u001b[0m\u001b[1m   \u001b[0m\u001b[1m \u001b[0m┃\u001b[1m \u001b[0m\u001b[1msales_ymd\u001b[0m\u001b[1m \u001b[0m\u001b[1m \u001b[0m┃\u001b[1m \u001b[0m\u001b[1mapplication_date\u001b[0m\u001b[1m \u001b[0m┃\u001b[1m \u001b[0m\u001b[1melapsed_year\u001b[0m\u001b[1m \u001b[0m┃\n",
       "┡━━━━━━━━━━━━━━━━╇━━━━━━━━━━━━╇━━━━━━━━━━━━━━━━━━╇━━━━━━━━━━━━━━┩\n",
       "│ \u001b[2mstring\u001b[0m         │ \u001b[2mdate\u001b[0m       │ \u001b[2mdate\u001b[0m             │ \u001b[2mint64\u001b[0m        │\n",
       "├────────────────┼────────────┼──────────────────┼──────────────┤\n",
       "│ \u001b[32mCS006214000001\u001b[0m │ \u001b[35m2018-11-03\u001b[0m │ \u001b[35m2015-02-01\u001b[0m       │            \u001b[1;36m3\u001b[0m │\n",
       "│ \u001b[32mCS008415000097\u001b[0m │ \u001b[35m2018-11-18\u001b[0m │ \u001b[35m2015-03-22\u001b[0m       │            \u001b[1;36m3\u001b[0m │\n",
       "│ \u001b[32mCS028414000014\u001b[0m │ \u001b[35m2017-07-12\u001b[0m │ \u001b[35m2015-07-11\u001b[0m       │            \u001b[1;36m2\u001b[0m │\n",
       "│ \u001b[32mCS025415000050\u001b[0m │ \u001b[35m2018-08-21\u001b[0m │ \u001b[35m2016-01-31\u001b[0m       │            \u001b[1;36m2\u001b[0m │\n",
       "│ \u001b[32mCS040415000178\u001b[0m │ \u001b[35m2019-09-22\u001b[0m │ \u001b[35m2015-06-27\u001b[0m       │            \u001b[1;36m4\u001b[0m │\n",
       "│ \u001b[32mCS025415000134\u001b[0m │ \u001b[35m2019-09-18\u001b[0m │ \u001b[35m2015-07-20\u001b[0m       │            \u001b[1;36m4\u001b[0m │\n",
       "│ \u001b[32mCS021515000126\u001b[0m │ \u001b[35m2017-10-10\u001b[0m │ \u001b[35m2015-05-08\u001b[0m       │            \u001b[1;36m2\u001b[0m │\n",
       "│ \u001b[32mCS039414000052\u001b[0m │ \u001b[35m2018-05-06\u001b[0m │ \u001b[35m2015-05-09\u001b[0m       │            \u001b[1;36m3\u001b[0m │\n",
       "│ \u001b[32mCS016215000032\u001b[0m │ \u001b[35m2019-03-26\u001b[0m │ \u001b[35m2015-07-02\u001b[0m       │            \u001b[1;36m4\u001b[0m │\n",
       "│ \u001b[32mCS026515000042\u001b[0m │ \u001b[35m2019-06-03\u001b[0m │ \u001b[35m2015-07-21\u001b[0m       │            \u001b[1;36m4\u001b[0m │\n",
       "└────────────────┴────────────┴──────────────────┴──────────────┘"
      ]
     },
     "execution_count": 74,
     "metadata": {},
     "output_type": "execute_result"
    }
   ],
   "source": [
    "df_072 = (\n",
    "    df_receipt\n",
    "    .select(\"customer_id\", \"sales_ymd\")\n",
    "    .join(\n",
    "        df_customer.select(\"customer_id\", \"application_date\"),\n",
    "        predicates=\"customer_id\",\n",
    "        how=\"inner\"\n",
    "    )\n",
    "    .mutate(\n",
    "        sales_ymd=_[\"sales_ymd\"].cast(str).to_date(\"%Y%m%d\"),\n",
    "        application_date=_[\"application_date\"].cast(str).to_date(\"%Y%m%d\"),\n",
    "    )\n",
    "    .mutate(\n",
    "        elapsed_year=_[\"sales_ymd\"].delta(_[\"application_date\"], \"year\")\n",
    "    )\n",
    ")\n",
    "\n",
    "df_072.head(10)"
   ]
  },
  {
   "attachments": {},
   "cell_type": "markdown",
   "metadata": {},
   "source": [
    "---\n",
    "> P-073: レシート明細データ（df_receipt）の売上日（sales_ymd）に対し、顧客データ（df_customer）の会員申込日（application_date）からのエポック秒による経過時間を計算し、顧客ID（customer_id）、売上日、会員申込日とともに10件表示せよ（なお、sales_ymdは数値、application_dateは文字列でデータを保持している点に注意）。なお、時間情報は保有していないため各日付は0時0分0秒を表すものとする。"
   ]
  },
  {
   "cell_type": "code",
   "execution_count": 75,
   "metadata": {},
   "outputs": [
    {
     "data": {
      "text/html": [
       "<pre style=\"white-space:pre;overflow-x:auto;line-height:normal;font-family:Menlo,'DejaVu Sans Mono',consolas,'Courier New',monospace\">┏━━━━━━━━━━━━━━━━┳━━━━━━━━━━━━┳━━━━━━━━━━━━━━━━━━┳━━━━━━━━━━━━━━━┓\n",
       "┃<span style=\"font-weight: bold\"> customer_id    </span>┃<span style=\"font-weight: bold\"> sales_ymd  </span>┃<span style=\"font-weight: bold\"> application_date </span>┃<span style=\"font-weight: bold\"> elapsed_epoch </span>┃\n",
       "┡━━━━━━━━━━━━━━━━╇━━━━━━━━━━━━╇━━━━━━━━━━━━━━━━━━╇━━━━━━━━━━━━━━━┩\n",
       "│ <span style=\"color: #7f7f7f; text-decoration-color: #7f7f7f\">string</span>         │ <span style=\"color: #7f7f7f; text-decoration-color: #7f7f7f\">date</span>       │ <span style=\"color: #7f7f7f; text-decoration-color: #7f7f7f\">date</span>             │ <span style=\"color: #7f7f7f; text-decoration-color: #7f7f7f\">int64</span>         │\n",
       "├────────────────┼────────────┼──────────────────┼───────────────┤\n",
       "│ <span style=\"color: #008000; text-decoration-color: #008000\">CS001113000004</span> │ <span style=\"color: #800080; text-decoration-color: #800080\">2019-03-08</span> │ <span style=\"color: #800080; text-decoration-color: #800080\">2015-11-05</span>       │     <span style=\"color: #008080; text-decoration-color: #008080; font-weight: bold\">105321600</span> │\n",
       "│ <span style=\"color: #008000; text-decoration-color: #008000\">CS001113000004</span> │ <span style=\"color: #800080; text-decoration-color: #800080\">2019-03-08</span> │ <span style=\"color: #800080; text-decoration-color: #800080\">2015-11-05</span>       │     <span style=\"color: #008080; text-decoration-color: #008080; font-weight: bold\">105321600</span> │\n",
       "│ <span style=\"color: #008000; text-decoration-color: #008000\">CS001114000005</span> │ <span style=\"color: #800080; text-decoration-color: #800080\">2018-05-03</span> │ <span style=\"color: #800080; text-decoration-color: #800080\">2016-04-12</span>       │      <span style=\"color: #008080; text-decoration-color: #008080; font-weight: bold\">64886400</span> │\n",
       "│ <span style=\"color: #008000; text-decoration-color: #008000\">CS001114000005</span> │ <span style=\"color: #800080; text-decoration-color: #800080\">2018-05-03</span> │ <span style=\"color: #800080; text-decoration-color: #800080\">2016-04-12</span>       │      <span style=\"color: #008080; text-decoration-color: #008080; font-weight: bold\">64886400</span> │\n",
       "│ <span style=\"color: #008000; text-decoration-color: #008000\">CS001114000005</span> │ <span style=\"color: #800080; text-decoration-color: #800080\">2019-07-31</span> │ <span style=\"color: #800080; text-decoration-color: #800080\">2016-04-12</span>       │     <span style=\"color: #008080; text-decoration-color: #008080; font-weight: bold\">104112000</span> │\n",
       "└────────────────┴────────────┴──────────────────┴───────────────┘\n",
       "</pre>\n"
      ],
      "text/plain": [
       "┏━━━━━━━━━━━━━━━━┳━━━━━━━━━━━━┳━━━━━━━━━━━━━━━━━━┳━━━━━━━━━━━━━━━┓\n",
       "┃\u001b[1m \u001b[0m\u001b[1mcustomer_id\u001b[0m\u001b[1m   \u001b[0m\u001b[1m \u001b[0m┃\u001b[1m \u001b[0m\u001b[1msales_ymd\u001b[0m\u001b[1m \u001b[0m\u001b[1m \u001b[0m┃\u001b[1m \u001b[0m\u001b[1mapplication_date\u001b[0m\u001b[1m \u001b[0m┃\u001b[1m \u001b[0m\u001b[1melapsed_epoch\u001b[0m\u001b[1m \u001b[0m┃\n",
       "┡━━━━━━━━━━━━━━━━╇━━━━━━━━━━━━╇━━━━━━━━━━━━━━━━━━╇━━━━━━━━━━━━━━━┩\n",
       "│ \u001b[2mstring\u001b[0m         │ \u001b[2mdate\u001b[0m       │ \u001b[2mdate\u001b[0m             │ \u001b[2mint64\u001b[0m         │\n",
       "├────────────────┼────────────┼──────────────────┼───────────────┤\n",
       "│ \u001b[32mCS001113000004\u001b[0m │ \u001b[35m2019-03-08\u001b[0m │ \u001b[35m2015-11-05\u001b[0m       │     \u001b[1;36m105321600\u001b[0m │\n",
       "│ \u001b[32mCS001113000004\u001b[0m │ \u001b[35m2019-03-08\u001b[0m │ \u001b[35m2015-11-05\u001b[0m       │     \u001b[1;36m105321600\u001b[0m │\n",
       "│ \u001b[32mCS001114000005\u001b[0m │ \u001b[35m2018-05-03\u001b[0m │ \u001b[35m2016-04-12\u001b[0m       │      \u001b[1;36m64886400\u001b[0m │\n",
       "│ \u001b[32mCS001114000005\u001b[0m │ \u001b[35m2018-05-03\u001b[0m │ \u001b[35m2016-04-12\u001b[0m       │      \u001b[1;36m64886400\u001b[0m │\n",
       "│ \u001b[32mCS001114000005\u001b[0m │ \u001b[35m2019-07-31\u001b[0m │ \u001b[35m2016-04-12\u001b[0m       │     \u001b[1;36m104112000\u001b[0m │\n",
       "└────────────────┴────────────┴──────────────────┴───────────────┘"
      ]
     },
     "execution_count": 75,
     "metadata": {},
     "output_type": "execute_result"
    }
   ],
   "source": [
    "df_073 = (\n",
    "    df_receipt\n",
    "    .select(\"customer_id\", \"sales_ymd\")\n",
    "    .join(\n",
    "        df_customer.select(\"customer_id\", \"application_date\"),\n",
    "        predicates=\"customer_id\",\n",
    "        how=\"inner\"\n",
    "    )\n",
    "    .mutate(\n",
    "        sales_ymd=_[\"sales_ymd\"].cast(str).to_date(\"%Y%m%d\"),\n",
    "        application_date=_[\"application_date\"].cast(str).to_date(\"%Y%m%d\"),\n",
    "    )\n",
    "    .mutate(\n",
    "        elapsed_epoch=_[\"sales_ymd\"].delta(_[\"application_date\"], \"second\")\n",
    "    )\n",
    "    .order_by(\"customer_id\")\n",
    ")\n",
    "\n",
    "df_073.head()"
   ]
  },
  {
   "attachments": {},
   "cell_type": "markdown",
   "metadata": {},
   "source": [
    "---\n",
    "> P-074: レシート明細データ（df_receipt）の売上日（sales_ymd）に対し、当該週の月曜日からの経過日数を計算し、売上日、直前の月曜日付とともに10件表示せよ（sales_ymdは数値でデータを保持している点に注意）。"
   ]
  },
  {
   "cell_type": "code",
   "execution_count": 76,
   "metadata": {},
   "outputs": [],
   "source": [
    "#"
   ]
  },
  {
   "attachments": {},
   "cell_type": "markdown",
   "metadata": {},
   "source": [
    "## ランダム抽出\n",
    "\n",
    "---\n",
    "> P-075:顧客データ（df_customer）からランダムに1%のデータを抽出し、先頭から10件表示せよ。"
   ]
  },
  {
   "cell_type": "code",
   "execution_count": 77,
   "metadata": {},
   "outputs": [
    {
     "data": {
      "text/html": [
       "<pre style=\"white-space:pre;overflow-x:auto;line-height:normal;font-family:Menlo,'DejaVu Sans Mono',consolas,'Courier New',monospace\">┏━━━━━━━━━━━━━━━━┳━━━━━━━━━━━━━━━┳━━━━━━━━━━━┳━━━━━━━━┳━━━━━━━━━━━━┳━━━━━━━┳━━━━━━━━━━━┳━━━━━━━━━━━━━━━━━━━━━━━━━┳━━━━━━━━━━━━━━━━━━━━━━┳━━━━━━━━━━━━━━━━━━┳━━━━━━━━━━━━━━┓\n",
       "┃<span style=\"font-weight: bold\"> customer_id    </span>┃<span style=\"font-weight: bold\"> customer_name </span>┃<span style=\"font-weight: bold\"> gender_cd </span>┃<span style=\"font-weight: bold\"> gender </span>┃<span style=\"font-weight: bold\"> birth_day  </span>┃<span style=\"font-weight: bold\"> age   </span>┃<span style=\"font-weight: bold\"> postal_cd </span>┃<span style=\"font-weight: bold\"> address                 </span>┃<span style=\"font-weight: bold\"> application_store_cd </span>┃<span style=\"font-weight: bold\"> application_date </span>┃<span style=\"font-weight: bold\"> status_cd    </span>┃\n",
       "┡━━━━━━━━━━━━━━━━╇━━━━━━━━━━━━━━━╇━━━━━━━━━━━╇━━━━━━━━╇━━━━━━━━━━━━╇━━━━━━━╇━━━━━━━━━━━╇━━━━━━━━━━━━━━━━━━━━━━━━━╇━━━━━━━━━━━━━━━━━━━━━━╇━━━━━━━━━━━━━━━━━━╇━━━━━━━━━━━━━━┩\n",
       "│ <span style=\"color: #7f7f7f; text-decoration-color: #7f7f7f\">string</span>         │ <span style=\"color: #7f7f7f; text-decoration-color: #7f7f7f\">string</span>        │ <span style=\"color: #7f7f7f; text-decoration-color: #7f7f7f\">string</span>    │ <span style=\"color: #7f7f7f; text-decoration-color: #7f7f7f\">string</span> │ <span style=\"color: #7f7f7f; text-decoration-color: #7f7f7f\">date</span>       │ <span style=\"color: #7f7f7f; text-decoration-color: #7f7f7f\">int64</span> │ <span style=\"color: #7f7f7f; text-decoration-color: #7f7f7f\">string</span>    │ <span style=\"color: #7f7f7f; text-decoration-color: #7f7f7f\">string</span>                  │ <span style=\"color: #7f7f7f; text-decoration-color: #7f7f7f\">string</span>               │ <span style=\"color: #7f7f7f; text-decoration-color: #7f7f7f\">int64</span>            │ <span style=\"color: #7f7f7f; text-decoration-color: #7f7f7f\">string</span>       │\n",
       "├────────────────┼───────────────┼───────────┼────────┼────────────┼───────┼───────────┼─────────────────────────┼──────────────────────┼──────────────────┼──────────────┤\n",
       "│ <span style=\"color: #008000; text-decoration-color: #008000\">CS009514000047</span> │ <span style=\"color: #008000; text-decoration-color: #008000\">三好 恭子    </span> │ <span style=\"color: #008000; text-decoration-color: #008000\">1        </span> │ <span style=\"color: #008000; text-decoration-color: #008000\">女性  </span> │ <span style=\"color: #800080; text-decoration-color: #800080\">1960-01-21</span> │    <span style=\"color: #008080; text-decoration-color: #008080; font-weight: bold\">59</span> │ <span style=\"color: #008000; text-decoration-color: #008000\">158-0095 </span> │ <span style=\"color: #008000; text-decoration-color: #008000\">東京都世田谷区瀬田****…</span> │ <span style=\"color: #008000; text-decoration-color: #008000\">S13009              </span> │         <span style=\"color: #008080; text-decoration-color: #008080; font-weight: bold\">20150615</span> │ <span style=\"color: #008000; text-decoration-color: #008000\">B-20100208-A</span> │\n",
       "│ <span style=\"color: #008000; text-decoration-color: #008000\">CS017712000026</span> │ <span style=\"color: #008000; text-decoration-color: #008000\">長野 明日    </span> │ <span style=\"color: #008000; text-decoration-color: #008000\">1        </span> │ <span style=\"color: #008000; text-decoration-color: #008000\">女性  </span> │ <span style=\"color: #800080; text-decoration-color: #800080\">1946-04-20</span> │    <span style=\"color: #008080; text-decoration-color: #008080; font-weight: bold\">72</span> │ <span style=\"color: #008000; text-decoration-color: #008000\">166-0011 </span> │ <span style=\"color: #008000; text-decoration-color: #008000\">東京都杉並区梅里******…</span> │ <span style=\"color: #008000; text-decoration-color: #008000\">S13017              </span> │         <span style=\"color: #008080; text-decoration-color: #008080; font-weight: bold\">20150213</span> │ <span style=\"color: #008000; text-decoration-color: #008000\">0-00000000-0</span> │\n",
       "│ <span style=\"color: #008000; text-decoration-color: #008000\">CS003414000214</span> │ <span style=\"color: #008000; text-decoration-color: #008000\">野口 恵梨香  </span> │ <span style=\"color: #008000; text-decoration-color: #008000\">1        </span> │ <span style=\"color: #008000; text-decoration-color: #008000\">女性  </span> │ <span style=\"color: #800080; text-decoration-color: #800080\">1969-03-23</span> │    <span style=\"color: #008080; text-decoration-color: #008080; font-weight: bold\">50</span> │ <span style=\"color: #008000; text-decoration-color: #008000\">201-0001 </span> │ <span style=\"color: #008000; text-decoration-color: #008000\">東京都狛江市西野川****…</span> │ <span style=\"color: #008000; text-decoration-color: #008000\">S13003              </span> │         <span style=\"color: #008080; text-decoration-color: #008080; font-weight: bold\">20160630</span> │ <span style=\"color: #008000; text-decoration-color: #008000\">E-20101007-B</span> │\n",
       "│ <span style=\"color: #008000; text-decoration-color: #008000\">CS001703000031</span> │ <span style=\"color: #008000; text-decoration-color: #008000\">佐川 草太    </span> │ <span style=\"color: #008000; text-decoration-color: #008000\">0        </span> │ <span style=\"color: #008000; text-decoration-color: #008000\">男性  </span> │ <span style=\"color: #800080; text-decoration-color: #800080\">1946-05-31</span> │    <span style=\"color: #008080; text-decoration-color: #008080; font-weight: bold\">72</span> │ <span style=\"color: #008000; text-decoration-color: #008000\">144-0035 </span> │ <span style=\"color: #008000; text-decoration-color: #008000\">東京都大田区南蒲田****…</span> │ <span style=\"color: #008000; text-decoration-color: #008000\">S13001              </span> │         <span style=\"color: #008080; text-decoration-color: #008080; font-weight: bold\">20160714</span> │ <span style=\"color: #008000; text-decoration-color: #008000\">0-00000000-0</span> │\n",
       "│ <span style=\"color: #008000; text-decoration-color: #008000\">CS034312000090</span> │ <span style=\"color: #008000; text-decoration-color: #008000\">江崎 景子    </span> │ <span style=\"color: #008000; text-decoration-color: #008000\">1        </span> │ <span style=\"color: #008000; text-decoration-color: #008000\">女性  </span> │ <span style=\"color: #800080; text-decoration-color: #800080\">1987-01-24</span> │    <span style=\"color: #008080; text-decoration-color: #008080; font-weight: bold\">32</span> │ <span style=\"color: #008000; text-decoration-color: #008000\">213-0005 </span> │ <span style=\"color: #008000; text-decoration-color: #008000\">神奈川県川崎市高津区北…</span> │ <span style=\"color: #008000; text-decoration-color: #008000\">S14034              </span> │         <span style=\"color: #008080; text-decoration-color: #008080; font-weight: bold\">20151006</span> │ <span style=\"color: #008000; text-decoration-color: #008000\">0-00000000-0</span> │\n",
       "│ <span style=\"color: #008000; text-decoration-color: #008000\">CS004415000714</span> │ <span style=\"color: #008000; text-decoration-color: #008000\">杉本 愛梨    </span> │ <span style=\"color: #008000; text-decoration-color: #008000\">1        </span> │ <span style=\"color: #008000; text-decoration-color: #008000\">女性  </span> │ <span style=\"color: #800080; text-decoration-color: #800080\">1977-01-13</span> │    <span style=\"color: #008080; text-decoration-color: #008080; font-weight: bold\">42</span> │ <span style=\"color: #008000; text-decoration-color: #008000\">165-0033 </span> │ <span style=\"color: #008000; text-decoration-color: #008000\">東京都中野区若宮******…</span> │ <span style=\"color: #008000; text-decoration-color: #008000\">S13004              </span> │         <span style=\"color: #008080; text-decoration-color: #008080; font-weight: bold\">20170916</span> │ <span style=\"color: #008000; text-decoration-color: #008000\">2-20100122-1</span> │\n",
       "│ <span style=\"color: #008000; text-decoration-color: #008000\">CS001314000201</span> │ <span style=\"color: #008000; text-decoration-color: #008000\">吉井 なぎさ  </span> │ <span style=\"color: #008000; text-decoration-color: #008000\">1        </span> │ <span style=\"color: #008000; text-decoration-color: #008000\">女性  </span> │ <span style=\"color: #800080; text-decoration-color: #800080\">1983-11-23</span> │    <span style=\"color: #008080; text-decoration-color: #008080; font-weight: bold\">35</span> │ <span style=\"color: #008000; text-decoration-color: #008000\">144-0055 </span> │ <span style=\"color: #008000; text-decoration-color: #008000\">東京都大田区仲六郷****…</span> │ <span style=\"color: #008000; text-decoration-color: #008000\">S13001              </span> │         <span style=\"color: #008080; text-decoration-color: #008080; font-weight: bold\">20170510</span> │ <span style=\"color: #008000; text-decoration-color: #008000\">0-00000000-0</span> │\n",
       "│ <span style=\"color: #008000; text-decoration-color: #008000\">CS046611000001</span> │ <span style=\"color: #008000; text-decoration-color: #008000\">浅田 さとみ  </span> │ <span style=\"color: #008000; text-decoration-color: #008000\">1        </span> │ <span style=\"color: #008000; text-decoration-color: #008000\">女性  </span> │ <span style=\"color: #800080; text-decoration-color: #800080\">1955-07-09</span> │    <span style=\"color: #008080; text-decoration-color: #008080; font-weight: bold\">63</span> │ <span style=\"color: #008000; text-decoration-color: #008000\">223-0066 </span> │ <span style=\"color: #008000; text-decoration-color: #008000\">神奈川県横浜市港北区高…</span> │ <span style=\"color: #008000; text-decoration-color: #008000\">S14046              </span> │         <span style=\"color: #008080; text-decoration-color: #008080; font-weight: bold\">20170620</span> │ <span style=\"color: #008000; text-decoration-color: #008000\">0-00000000-0</span> │\n",
       "│ <span style=\"color: #008000; text-decoration-color: #008000\">CS003513000408</span> │ <span style=\"color: #008000; text-decoration-color: #008000\">大久保 麻緒  </span> │ <span style=\"color: #008000; text-decoration-color: #008000\">1        </span> │ <span style=\"color: #008000; text-decoration-color: #008000\">女性  </span> │ <span style=\"color: #800080; text-decoration-color: #800080\">1967-10-15</span> │    <span style=\"color: #008080; text-decoration-color: #008080; font-weight: bold\">51</span> │ <span style=\"color: #008000; text-decoration-color: #008000\">182-0007 </span> │ <span style=\"color: #008000; text-decoration-color: #008000\">東京都調布市菊野台****…</span> │ <span style=\"color: #008000; text-decoration-color: #008000\">S13003              </span> │         <span style=\"color: #008080; text-decoration-color: #008080; font-weight: bold\">20160303</span> │ <span style=\"color: #008000; text-decoration-color: #008000\">7-20091123-2</span> │\n",
       "│ <span style=\"color: #008000; text-decoration-color: #008000\">CS015502000055</span> │ <span style=\"color: #008000; text-decoration-color: #008000\">玉木 竜也    </span> │ <span style=\"color: #008000; text-decoration-color: #008000\">0        </span> │ <span style=\"color: #008000; text-decoration-color: #008000\">男性  </span> │ <span style=\"color: #800080; text-decoration-color: #800080\">1967-01-02</span> │    <span style=\"color: #008080; text-decoration-color: #008080; font-weight: bold\">52</span> │ <span style=\"color: #008000; text-decoration-color: #008000\">135-0048 </span> │ <span style=\"color: #008000; text-decoration-color: #008000\">東京都江東区門前仲町**…</span> │ <span style=\"color: #008000; text-decoration-color: #008000\">S13015              </span> │         <span style=\"color: #008080; text-decoration-color: #008080; font-weight: bold\">20151012</span> │ <span style=\"color: #008000; text-decoration-color: #008000\">0-00000000-0</span> │\n",
       "└────────────────┴───────────────┴───────────┴────────┴────────────┴───────┴───────────┴─────────────────────────┴──────────────────────┴──────────────────┴──────────────┘\n",
       "</pre>\n"
      ],
      "text/plain": [
       "┏━━━━━━━━━━━━━━━━┳━━━━━━━━━━━━━━━┳━━━━━━━━━━━┳━━━━━━━━┳━━━━━━━━━━━━┳━━━━━━━┳━━━━━━━━━━━┳━━━━━━━━━━━━━━━━━━━━━━━━━┳━━━━━━━━━━━━━━━━━━━━━━┳━━━━━━━━━━━━━━━━━━┳━━━━━━━━━━━━━━┓\n",
       "┃\u001b[1m \u001b[0m\u001b[1mcustomer_id\u001b[0m\u001b[1m   \u001b[0m\u001b[1m \u001b[0m┃\u001b[1m \u001b[0m\u001b[1mcustomer_name\u001b[0m\u001b[1m \u001b[0m┃\u001b[1m \u001b[0m\u001b[1mgender_cd\u001b[0m\u001b[1m \u001b[0m┃\u001b[1m \u001b[0m\u001b[1mgender\u001b[0m\u001b[1m \u001b[0m┃\u001b[1m \u001b[0m\u001b[1mbirth_day\u001b[0m\u001b[1m \u001b[0m\u001b[1m \u001b[0m┃\u001b[1m \u001b[0m\u001b[1mage\u001b[0m\u001b[1m  \u001b[0m\u001b[1m \u001b[0m┃\u001b[1m \u001b[0m\u001b[1mpostal_cd\u001b[0m\u001b[1m \u001b[0m┃\u001b[1m \u001b[0m\u001b[1maddress\u001b[0m\u001b[1m                \u001b[0m\u001b[1m \u001b[0m┃\u001b[1m \u001b[0m\u001b[1mapplication_store_cd\u001b[0m\u001b[1m \u001b[0m┃\u001b[1m \u001b[0m\u001b[1mapplication_date\u001b[0m\u001b[1m \u001b[0m┃\u001b[1m \u001b[0m\u001b[1mstatus_cd\u001b[0m\u001b[1m   \u001b[0m\u001b[1m \u001b[0m┃\n",
       "┡━━━━━━━━━━━━━━━━╇━━━━━━━━━━━━━━━╇━━━━━━━━━━━╇━━━━━━━━╇━━━━━━━━━━━━╇━━━━━━━╇━━━━━━━━━━━╇━━━━━━━━━━━━━━━━━━━━━━━━━╇━━━━━━━━━━━━━━━━━━━━━━╇━━━━━━━━━━━━━━━━━━╇━━━━━━━━━━━━━━┩\n",
       "│ \u001b[2mstring\u001b[0m         │ \u001b[2mstring\u001b[0m        │ \u001b[2mstring\u001b[0m    │ \u001b[2mstring\u001b[0m │ \u001b[2mdate\u001b[0m       │ \u001b[2mint64\u001b[0m │ \u001b[2mstring\u001b[0m    │ \u001b[2mstring\u001b[0m                  │ \u001b[2mstring\u001b[0m               │ \u001b[2mint64\u001b[0m            │ \u001b[2mstring\u001b[0m       │\n",
       "├────────────────┼───────────────┼───────────┼────────┼────────────┼───────┼───────────┼─────────────────────────┼──────────────────────┼──────────────────┼──────────────┤\n",
       "│ \u001b[32mCS009514000047\u001b[0m │ \u001b[32m三好 恭子    \u001b[0m │ \u001b[32m1        \u001b[0m │ \u001b[32m女性  \u001b[0m │ \u001b[35m1960-01-21\u001b[0m │    \u001b[1;36m59\u001b[0m │ \u001b[32m158-0095 \u001b[0m │ \u001b[32m東京都世田谷区瀬田****…\u001b[0m │ \u001b[32mS13009              \u001b[0m │         \u001b[1;36m20150615\u001b[0m │ \u001b[32mB-20100208-A\u001b[0m │\n",
       "│ \u001b[32mCS017712000026\u001b[0m │ \u001b[32m長野 明日    \u001b[0m │ \u001b[32m1        \u001b[0m │ \u001b[32m女性  \u001b[0m │ \u001b[35m1946-04-20\u001b[0m │    \u001b[1;36m72\u001b[0m │ \u001b[32m166-0011 \u001b[0m │ \u001b[32m東京都杉並区梅里******…\u001b[0m │ \u001b[32mS13017              \u001b[0m │         \u001b[1;36m20150213\u001b[0m │ \u001b[32m0-00000000-0\u001b[0m │\n",
       "│ \u001b[32mCS003414000214\u001b[0m │ \u001b[32m野口 恵梨香  \u001b[0m │ \u001b[32m1        \u001b[0m │ \u001b[32m女性  \u001b[0m │ \u001b[35m1969-03-23\u001b[0m │    \u001b[1;36m50\u001b[0m │ \u001b[32m201-0001 \u001b[0m │ \u001b[32m東京都狛江市西野川****…\u001b[0m │ \u001b[32mS13003              \u001b[0m │         \u001b[1;36m20160630\u001b[0m │ \u001b[32mE-20101007-B\u001b[0m │\n",
       "│ \u001b[32mCS001703000031\u001b[0m │ \u001b[32m佐川 草太    \u001b[0m │ \u001b[32m0        \u001b[0m │ \u001b[32m男性  \u001b[0m │ \u001b[35m1946-05-31\u001b[0m │    \u001b[1;36m72\u001b[0m │ \u001b[32m144-0035 \u001b[0m │ \u001b[32m東京都大田区南蒲田****…\u001b[0m │ \u001b[32mS13001              \u001b[0m │         \u001b[1;36m20160714\u001b[0m │ \u001b[32m0-00000000-0\u001b[0m │\n",
       "│ \u001b[32mCS034312000090\u001b[0m │ \u001b[32m江崎 景子    \u001b[0m │ \u001b[32m1        \u001b[0m │ \u001b[32m女性  \u001b[0m │ \u001b[35m1987-01-24\u001b[0m │    \u001b[1;36m32\u001b[0m │ \u001b[32m213-0005 \u001b[0m │ \u001b[32m神奈川県川崎市高津区北…\u001b[0m │ \u001b[32mS14034              \u001b[0m │         \u001b[1;36m20151006\u001b[0m │ \u001b[32m0-00000000-0\u001b[0m │\n",
       "│ \u001b[32mCS004415000714\u001b[0m │ \u001b[32m杉本 愛梨    \u001b[0m │ \u001b[32m1        \u001b[0m │ \u001b[32m女性  \u001b[0m │ \u001b[35m1977-01-13\u001b[0m │    \u001b[1;36m42\u001b[0m │ \u001b[32m165-0033 \u001b[0m │ \u001b[32m東京都中野区若宮******…\u001b[0m │ \u001b[32mS13004              \u001b[0m │         \u001b[1;36m20170916\u001b[0m │ \u001b[32m2-20100122-1\u001b[0m │\n",
       "│ \u001b[32mCS001314000201\u001b[0m │ \u001b[32m吉井 なぎさ  \u001b[0m │ \u001b[32m1        \u001b[0m │ \u001b[32m女性  \u001b[0m │ \u001b[35m1983-11-23\u001b[0m │    \u001b[1;36m35\u001b[0m │ \u001b[32m144-0055 \u001b[0m │ \u001b[32m東京都大田区仲六郷****…\u001b[0m │ \u001b[32mS13001              \u001b[0m │         \u001b[1;36m20170510\u001b[0m │ \u001b[32m0-00000000-0\u001b[0m │\n",
       "│ \u001b[32mCS046611000001\u001b[0m │ \u001b[32m浅田 さとみ  \u001b[0m │ \u001b[32m1        \u001b[0m │ \u001b[32m女性  \u001b[0m │ \u001b[35m1955-07-09\u001b[0m │    \u001b[1;36m63\u001b[0m │ \u001b[32m223-0066 \u001b[0m │ \u001b[32m神奈川県横浜市港北区高…\u001b[0m │ \u001b[32mS14046              \u001b[0m │         \u001b[1;36m20170620\u001b[0m │ \u001b[32m0-00000000-0\u001b[0m │\n",
       "│ \u001b[32mCS003513000408\u001b[0m │ \u001b[32m大久保 麻緒  \u001b[0m │ \u001b[32m1        \u001b[0m │ \u001b[32m女性  \u001b[0m │ \u001b[35m1967-10-15\u001b[0m │    \u001b[1;36m51\u001b[0m │ \u001b[32m182-0007 \u001b[0m │ \u001b[32m東京都調布市菊野台****…\u001b[0m │ \u001b[32mS13003              \u001b[0m │         \u001b[1;36m20160303\u001b[0m │ \u001b[32m7-20091123-2\u001b[0m │\n",
       "│ \u001b[32mCS015502000055\u001b[0m │ \u001b[32m玉木 竜也    \u001b[0m │ \u001b[32m0        \u001b[0m │ \u001b[32m男性  \u001b[0m │ \u001b[35m1967-01-02\u001b[0m │    \u001b[1;36m52\u001b[0m │ \u001b[32m135-0048 \u001b[0m │ \u001b[32m東京都江東区門前仲町**…\u001b[0m │ \u001b[32mS13015              \u001b[0m │         \u001b[1;36m20151012\u001b[0m │ \u001b[32m0-00000000-0\u001b[0m │\n",
       "└────────────────┴───────────────┴───────────┴────────┴────────────┴───────┴───────────┴─────────────────────────┴──────────────────────┴──────────────────┴──────────────┘"
      ]
     },
     "execution_count": 77,
     "metadata": {},
     "output_type": "execute_result"
    }
   ],
   "source": [
    "df_075 = df_customer.sample(fraction=0.01)  # ランダム抽出\n",
    "\n",
    "df_075.head(10)"
   ]
  },
  {
   "attachments": {},
   "cell_type": "markdown",
   "metadata": {},
   "source": [
    "---\n",
    "> P-076: 顧客データ（df_customer）から性別コード（gender_cd）の割合に基づきランダムに10%のデータを層化抽出し、性別コードごとに件数を集計せよ。"
   ]
  },
  {
   "cell_type": "code",
   "execution_count": 78,
   "metadata": {},
   "outputs": [],
   "source": [
    "#"
   ]
  },
  {
   "attachments": {},
   "cell_type": "markdown",
   "metadata": {},
   "source": [
    "## 外れ値と欠損値"
   ]
  },
  {
   "attachments": {},
   "cell_type": "markdown",
   "metadata": {},
   "source": [
    "---\n",
    "> P-077: レシート明細データ（df_receipt）の売上金額を顧客単位に合計し、合計した売上金額の外れ値を抽出せよ。なお、外れ値は売上金額合計を対数化したうえで平均と標準偏差を計算し、その平均から3σを超えて離れたものとする（自然対数と常用対数のどちらでも可）。結果は10件表示せよ。"
   ]
  },
  {
   "cell_type": "code",
   "execution_count": 79,
   "metadata": {},
   "outputs": [
    {
     "data": {
      "text/html": [
       "<pre style=\"white-space:pre;overflow-x:auto;line-height:normal;font-family:Menlo,'DejaVu Sans Mono',consolas,'Courier New',monospace\">┏━━━━━━━━━━━━━━━━┳━━━━━━━━━━━━┳━━━━━━━━━━━━┓\n",
       "┃<span style=\"font-weight: bold\"> customer_id    </span>┃<span style=\"font-weight: bold\"> sum_amount </span>┃<span style=\"font-weight: bold\"> log_amount </span>┃\n",
       "┡━━━━━━━━━━━━━━━━╇━━━━━━━━━━━━╇━━━━━━━━━━━━┩\n",
       "│ <span style=\"color: #7f7f7f; text-decoration-color: #7f7f7f\">string</span>         │ <span style=\"color: #7f7f7f; text-decoration-color: #7f7f7f\">int64</span>      │ <span style=\"color: #7f7f7f; text-decoration-color: #7f7f7f\">float64</span>    │\n",
       "├────────────────┼────────────┼────────────┤\n",
       "│ <span style=\"color: #008000; text-decoration-color: #008000\">ZZ000000000000</span> │   <span style=\"color: #008080; text-decoration-color: #008080; font-weight: bold\">12395003</span> │  <span style=\"color: #008080; text-decoration-color: #008080; font-weight: bold\">16.332804</span> │\n",
       "└────────────────┴────────────┴────────────┘\n",
       "</pre>\n"
      ],
      "text/plain": [
       "┏━━━━━━━━━━━━━━━━┳━━━━━━━━━━━━┳━━━━━━━━━━━━┓\n",
       "┃\u001b[1m \u001b[0m\u001b[1mcustomer_id\u001b[0m\u001b[1m   \u001b[0m\u001b[1m \u001b[0m┃\u001b[1m \u001b[0m\u001b[1msum_amount\u001b[0m\u001b[1m \u001b[0m┃\u001b[1m \u001b[0m\u001b[1mlog_amount\u001b[0m\u001b[1m \u001b[0m┃\n",
       "┡━━━━━━━━━━━━━━━━╇━━━━━━━━━━━━╇━━━━━━━━━━━━┩\n",
       "│ \u001b[2mstring\u001b[0m         │ \u001b[2mint64\u001b[0m      │ \u001b[2mfloat64\u001b[0m    │\n",
       "├────────────────┼────────────┼────────────┤\n",
       "│ \u001b[32mZZ000000000000\u001b[0m │   \u001b[1;36m12395003\u001b[0m │  \u001b[1;36m16.332804\u001b[0m │\n",
       "└────────────────┴────────────┴────────────┘"
      ]
     },
     "execution_count": 79,
     "metadata": {},
     "output_type": "execute_result"
    }
   ],
   "source": [
    "df_077 = (\n",
    "    df_receipt\n",
    "    .group_by(\"customer_id\")\n",
    "    .aggregate(sum_amount=_[\"amount\"].sum())\n",
    "    .mutate(log_amount=_[\"sum_amount\"].ln())\n",
    "    .filter(\n",
    "        (\n",
    "            (_[\"log_amount\"] - _[\"log_amount\"].mean()).abs() > (_[\"log_amount\"].std() * 3)\n",
    "        )\n",
    "    )\n",
    ")\n",
    "\n",
    "df_077.head(10)"
   ]
  },
  {
   "attachments": {},
   "cell_type": "markdown",
   "metadata": {},
   "source": [
    "---\n",
    "> P-078: レシート明細データ（df_receipt）の売上金額（amount）を顧客単位に合計し、合計した売上金額の外れ値を抽出せよ。ただし、顧客IDが\"Z\"から始まるのものは非会員を表すため、除外して計算すること。なお、ここでは外れ値を第1四分位と第3四分位の差であるIQRを用いて、「第1四分位数-1.5×IQR」を下回るもの、または「第3四分位数+1.5×IQR」を超えるものとする。結果は10件表示せよ。"
   ]
  },
  {
   "cell_type": "code",
   "execution_count": 80,
   "metadata": {},
   "outputs": [
    {
     "data": {
      "text/html": [
       "<pre style=\"white-space:pre;overflow-x:auto;line-height:normal;font-family:Menlo,'DejaVu Sans Mono',consolas,'Courier New',monospace\">┏━━━━━━━━━━━━━━━━┳━━━━━━━━━━━━┓\n",
       "┃<span style=\"font-weight: bold\"> customer_id    </span>┃<span style=\"font-weight: bold\"> sum_amount </span>┃\n",
       "┡━━━━━━━━━━━━━━━━╇━━━━━━━━━━━━┩\n",
       "│ <span style=\"color: #7f7f7f; text-decoration-color: #7f7f7f\">string</span>         │ <span style=\"color: #7f7f7f; text-decoration-color: #7f7f7f\">int64</span>      │\n",
       "├────────────────┼────────────┤\n",
       "│ <span style=\"color: #008000; text-decoration-color: #008000\">CS001414000048</span> │       <span style=\"color: #008080; text-decoration-color: #008080; font-weight: bold\">8584</span> │\n",
       "│ <span style=\"color: #008000; text-decoration-color: #008000\">CS001605000009</span> │      <span style=\"color: #008080; text-decoration-color: #008080; font-weight: bold\">18925</span> │\n",
       "│ <span style=\"color: #008000; text-decoration-color: #008000\">CS002214000043</span> │       <span style=\"color: #008080; text-decoration-color: #008080; font-weight: bold\">8073</span> │\n",
       "│ <span style=\"color: #008000; text-decoration-color: #008000\">CS002415000594</span> │       <span style=\"color: #008080; text-decoration-color: #008080; font-weight: bold\">9568</span> │\n",
       "│ <span style=\"color: #008000; text-decoration-color: #008000\">CS002415000728</span> │       <span style=\"color: #008080; text-decoration-color: #008080; font-weight: bold\">7658</span> │\n",
       "│ <span style=\"color: #008000; text-decoration-color: #008000\">CS002515000032</span> │       <span style=\"color: #008080; text-decoration-color: #008080; font-weight: bold\">7468</span> │\n",
       "│ <span style=\"color: #008000; text-decoration-color: #008000\">CS003414000017</span> │       <span style=\"color: #008080; text-decoration-color: #008080; font-weight: bold\">7214</span> │\n",
       "│ <span style=\"color: #008000; text-decoration-color: #008000\">CS003515000070</span> │       <span style=\"color: #008080; text-decoration-color: #008080; font-weight: bold\">7023</span> │\n",
       "│ <span style=\"color: #008000; text-decoration-color: #008000\">CS004414000181</span> │       <span style=\"color: #008080; text-decoration-color: #008080; font-weight: bold\">9584</span> │\n",
       "│ <span style=\"color: #008000; text-decoration-color: #008000\">CS004415000106</span> │       <span style=\"color: #008080; text-decoration-color: #008080; font-weight: bold\">7076</span> │\n",
       "└────────────────┴────────────┘\n",
       "</pre>\n"
      ],
      "text/plain": [
       "┏━━━━━━━━━━━━━━━━┳━━━━━━━━━━━━┓\n",
       "┃\u001b[1m \u001b[0m\u001b[1mcustomer_id\u001b[0m\u001b[1m   \u001b[0m\u001b[1m \u001b[0m┃\u001b[1m \u001b[0m\u001b[1msum_amount\u001b[0m\u001b[1m \u001b[0m┃\n",
       "┡━━━━━━━━━━━━━━━━╇━━━━━━━━━━━━┩\n",
       "│ \u001b[2mstring\u001b[0m         │ \u001b[2mint64\u001b[0m      │\n",
       "├────────────────┼────────────┤\n",
       "│ \u001b[32mCS001414000048\u001b[0m │       \u001b[1;36m8584\u001b[0m │\n",
       "│ \u001b[32mCS001605000009\u001b[0m │      \u001b[1;36m18925\u001b[0m │\n",
       "│ \u001b[32mCS002214000043\u001b[0m │       \u001b[1;36m8073\u001b[0m │\n",
       "│ \u001b[32mCS002415000594\u001b[0m │       \u001b[1;36m9568\u001b[0m │\n",
       "│ \u001b[32mCS002415000728\u001b[0m │       \u001b[1;36m7658\u001b[0m │\n",
       "│ \u001b[32mCS002515000032\u001b[0m │       \u001b[1;36m7468\u001b[0m │\n",
       "│ \u001b[32mCS003414000017\u001b[0m │       \u001b[1;36m7214\u001b[0m │\n",
       "│ \u001b[32mCS003515000070\u001b[0m │       \u001b[1;36m7023\u001b[0m │\n",
       "│ \u001b[32mCS004414000181\u001b[0m │       \u001b[1;36m9584\u001b[0m │\n",
       "│ \u001b[32mCS004415000106\u001b[0m │       \u001b[1;36m7076\u001b[0m │\n",
       "└────────────────┴────────────┘"
      ]
     },
     "execution_count": 80,
     "metadata": {},
     "output_type": "execute_result"
    }
   ],
   "source": [
    "df_078 = (\n",
    "    df_receipt\n",
    "    .group_by(\"customer_id\")\n",
    "    .aggregate(sum_amount=_[\"amount\"].sum())\n",
    "    .filter(\n",
    "        (~_[\"customer_id\"].startswith(\"Z\"))\n",
    "        & (_[\"sum_amount\"] < _[\"sum_amount\"].quantile(0.25) - 1.5 * (_[\"sum_amount\"].quantile(0.75) - _[\"sum_amount\"].quantile(0.25)))\n",
    "        | (_[\"sum_amount\"] > _[\"sum_amount\"].quantile(0.25) + 1.5 * (_[\"sum_amount\"].quantile(0.75) + _[\"sum_amount\"].quantile(0.25)))\n",
    "    )\n",
    "    .order_by(\"customer_id\")\n",
    ")\n",
    "\n",
    "df_078.head(10)"
   ]
  },
  {
   "attachments": {},
   "cell_type": "markdown",
   "metadata": {},
   "source": [
    "---\n",
    "> P-079: 商品データ（df_product）の各項目に対し、欠損数を確認せよ。"
   ]
  },
  {
   "cell_type": "code",
   "execution_count": 81,
   "metadata": {},
   "outputs": [
    {
     "data": {
      "text/html": [
       "<pre style=\"white-space:pre;overflow-x:auto;line-height:normal;font-family:Menlo,'DejaVu Sans Mono',consolas,'Courier New',monospace\">┏━━━━━━━━━━━━┳━━━━━━━━━━━━━━━━━━━┳━━━━━━━━━━━━━━━━━━━━┳━━━━━━━━━━━━━━━━━━━┳━━━━━━━━━━━━┳━━━━━━━━━━━┓\n",
       "┃<span style=\"font-weight: bold\"> product_cd </span>┃<span style=\"font-weight: bold\"> category_major_cd </span>┃<span style=\"font-weight: bold\"> category_medium_cd </span>┃<span style=\"font-weight: bold\"> category_small_cd </span>┃<span style=\"font-weight: bold\"> unit_price </span>┃<span style=\"font-weight: bold\"> unit_cost </span>┃\n",
       "┡━━━━━━━━━━━━╇━━━━━━━━━━━━━━━━━━━╇━━━━━━━━━━━━━━━━━━━━╇━━━━━━━━━━━━━━━━━━━╇━━━━━━━━━━━━╇━━━━━━━━━━━┩\n",
       "│ <span style=\"color: #7f7f7f; text-decoration-color: #7f7f7f\">string</span>     │ <span style=\"color: #7f7f7f; text-decoration-color: #7f7f7f\">string</span>            │ <span style=\"color: #7f7f7f; text-decoration-color: #7f7f7f\">string</span>             │ <span style=\"color: #7f7f7f; text-decoration-color: #7f7f7f\">string</span>            │ <span style=\"color: #7f7f7f; text-decoration-color: #7f7f7f\">int64</span>      │ <span style=\"color: #7f7f7f; text-decoration-color: #7f7f7f\">int64</span>     │\n",
       "├────────────┼───────────────────┼────────────────────┼───────────────────┼────────────┼───────────┤\n",
       "│ <span style=\"color: #008000; text-decoration-color: #008000\">P040101001</span> │ <span style=\"color: #008000; text-decoration-color: #008000\">04               </span> │ <span style=\"color: #008000; text-decoration-color: #008000\">0401              </span> │ <span style=\"color: #008000; text-decoration-color: #008000\">040101           </span> │        <span style=\"color: #008080; text-decoration-color: #008080; font-weight: bold\">198</span> │       <span style=\"color: #008080; text-decoration-color: #008080; font-weight: bold\">149</span> │\n",
       "│ <span style=\"color: #008000; text-decoration-color: #008000\">P040101002</span> │ <span style=\"color: #008000; text-decoration-color: #008000\">04               </span> │ <span style=\"color: #008000; text-decoration-color: #008000\">0401              </span> │ <span style=\"color: #008000; text-decoration-color: #008000\">040101           </span> │        <span style=\"color: #008080; text-decoration-color: #008080; font-weight: bold\">218</span> │       <span style=\"color: #008080; text-decoration-color: #008080; font-weight: bold\">164</span> │\n",
       "│ <span style=\"color: #008000; text-decoration-color: #008000\">P040101003</span> │ <span style=\"color: #008000; text-decoration-color: #008000\">04               </span> │ <span style=\"color: #008000; text-decoration-color: #008000\">0401              </span> │ <span style=\"color: #008000; text-decoration-color: #008000\">040101           </span> │        <span style=\"color: #008080; text-decoration-color: #008080; font-weight: bold\">230</span> │       <span style=\"color: #008080; text-decoration-color: #008080; font-weight: bold\">173</span> │\n",
       "│ <span style=\"color: #008000; text-decoration-color: #008000\">P040101004</span> │ <span style=\"color: #008000; text-decoration-color: #008000\">04               </span> │ <span style=\"color: #008000; text-decoration-color: #008000\">0401              </span> │ <span style=\"color: #008000; text-decoration-color: #008000\">040101           </span> │        <span style=\"color: #008080; text-decoration-color: #008080; font-weight: bold\">248</span> │       <span style=\"color: #008080; text-decoration-color: #008080; font-weight: bold\">186</span> │\n",
       "│ <span style=\"color: #008000; text-decoration-color: #008000\">P040101005</span> │ <span style=\"color: #008000; text-decoration-color: #008000\">04               </span> │ <span style=\"color: #008000; text-decoration-color: #008000\">0401              </span> │ <span style=\"color: #008000; text-decoration-color: #008000\">040101           </span> │        <span style=\"color: #008080; text-decoration-color: #008080; font-weight: bold\">268</span> │       <span style=\"color: #008080; text-decoration-color: #008080; font-weight: bold\">201</span> │\n",
       "│ <span style=\"color: #008000; text-decoration-color: #008000\">P040101006</span> │ <span style=\"color: #008000; text-decoration-color: #008000\">04               </span> │ <span style=\"color: #008000; text-decoration-color: #008000\">0401              </span> │ <span style=\"color: #008000; text-decoration-color: #008000\">040101           </span> │        <span style=\"color: #008080; text-decoration-color: #008080; font-weight: bold\">298</span> │       <span style=\"color: #008080; text-decoration-color: #008080; font-weight: bold\">224</span> │\n",
       "│ <span style=\"color: #008000; text-decoration-color: #008000\">P040101007</span> │ <span style=\"color: #008000; text-decoration-color: #008000\">04               </span> │ <span style=\"color: #008000; text-decoration-color: #008000\">0401              </span> │ <span style=\"color: #008000; text-decoration-color: #008000\">040101           </span> │        <span style=\"color: #008080; text-decoration-color: #008080; font-weight: bold\">338</span> │       <span style=\"color: #008080; text-decoration-color: #008080; font-weight: bold\">254</span> │\n",
       "│ <span style=\"color: #008000; text-decoration-color: #008000\">P040101008</span> │ <span style=\"color: #008000; text-decoration-color: #008000\">04               </span> │ <span style=\"color: #008000; text-decoration-color: #008000\">0401              </span> │ <span style=\"color: #008000; text-decoration-color: #008000\">040101           </span> │        <span style=\"color: #008080; text-decoration-color: #008080; font-weight: bold\">420</span> │       <span style=\"color: #008080; text-decoration-color: #008080; font-weight: bold\">315</span> │\n",
       "│ <span style=\"color: #008000; text-decoration-color: #008000\">P040101009</span> │ <span style=\"color: #008000; text-decoration-color: #008000\">04               </span> │ <span style=\"color: #008000; text-decoration-color: #008000\">0401              </span> │ <span style=\"color: #008000; text-decoration-color: #008000\">040101           </span> │        <span style=\"color: #008080; text-decoration-color: #008080; font-weight: bold\">498</span> │       <span style=\"color: #008080; text-decoration-color: #008080; font-weight: bold\">374</span> │\n",
       "│ <span style=\"color: #008000; text-decoration-color: #008000\">P040101010</span> │ <span style=\"color: #008000; text-decoration-color: #008000\">04               </span> │ <span style=\"color: #008000; text-decoration-color: #008000\">0401              </span> │ <span style=\"color: #008000; text-decoration-color: #008000\">040101           </span> │        <span style=\"color: #008080; text-decoration-color: #008080; font-weight: bold\">580</span> │       <span style=\"color: #008080; text-decoration-color: #008080; font-weight: bold\">435</span> │\n",
       "│ <span style=\"color: #7f7f7f; text-decoration-color: #7f7f7f\">…</span>          │ <span style=\"color: #7f7f7f; text-decoration-color: #7f7f7f\">…</span>                 │ <span style=\"color: #7f7f7f; text-decoration-color: #7f7f7f\">…</span>                  │ <span style=\"color: #7f7f7f; text-decoration-color: #7f7f7f\">…</span>                 │          <span style=\"color: #7f7f7f; text-decoration-color: #7f7f7f\">…</span> │         <span style=\"color: #7f7f7f; text-decoration-color: #7f7f7f\">…</span> │\n",
       "└────────────┴───────────────────┴────────────────────┴───────────────────┴────────────┴───────────┘\n",
       "</pre>\n"
      ],
      "text/plain": [
       "┏━━━━━━━━━━━━┳━━━━━━━━━━━━━━━━━━━┳━━━━━━━━━━━━━━━━━━━━┳━━━━━━━━━━━━━━━━━━━┳━━━━━━━━━━━━┳━━━━━━━━━━━┓\n",
       "┃\u001b[1m \u001b[0m\u001b[1mproduct_cd\u001b[0m\u001b[1m \u001b[0m┃\u001b[1m \u001b[0m\u001b[1mcategory_major_cd\u001b[0m\u001b[1m \u001b[0m┃\u001b[1m \u001b[0m\u001b[1mcategory_medium_cd\u001b[0m\u001b[1m \u001b[0m┃\u001b[1m \u001b[0m\u001b[1mcategory_small_cd\u001b[0m\u001b[1m \u001b[0m┃\u001b[1m \u001b[0m\u001b[1munit_price\u001b[0m\u001b[1m \u001b[0m┃\u001b[1m \u001b[0m\u001b[1munit_cost\u001b[0m\u001b[1m \u001b[0m┃\n",
       "┡━━━━━━━━━━━━╇━━━━━━━━━━━━━━━━━━━╇━━━━━━━━━━━━━━━━━━━━╇━━━━━━━━━━━━━━━━━━━╇━━━━━━━━━━━━╇━━━━━━━━━━━┩\n",
       "│ \u001b[2mstring\u001b[0m     │ \u001b[2mstring\u001b[0m            │ \u001b[2mstring\u001b[0m             │ \u001b[2mstring\u001b[0m            │ \u001b[2mint64\u001b[0m      │ \u001b[2mint64\u001b[0m     │\n",
       "├────────────┼───────────────────┼────────────────────┼───────────────────┼────────────┼───────────┤\n",
       "│ \u001b[32mP040101001\u001b[0m │ \u001b[32m04               \u001b[0m │ \u001b[32m0401              \u001b[0m │ \u001b[32m040101           \u001b[0m │        \u001b[1;36m198\u001b[0m │       \u001b[1;36m149\u001b[0m │\n",
       "│ \u001b[32mP040101002\u001b[0m │ \u001b[32m04               \u001b[0m │ \u001b[32m0401              \u001b[0m │ \u001b[32m040101           \u001b[0m │        \u001b[1;36m218\u001b[0m │       \u001b[1;36m164\u001b[0m │\n",
       "│ \u001b[32mP040101003\u001b[0m │ \u001b[32m04               \u001b[0m │ \u001b[32m0401              \u001b[0m │ \u001b[32m040101           \u001b[0m │        \u001b[1;36m230\u001b[0m │       \u001b[1;36m173\u001b[0m │\n",
       "│ \u001b[32mP040101004\u001b[0m │ \u001b[32m04               \u001b[0m │ \u001b[32m0401              \u001b[0m │ \u001b[32m040101           \u001b[0m │        \u001b[1;36m248\u001b[0m │       \u001b[1;36m186\u001b[0m │\n",
       "│ \u001b[32mP040101005\u001b[0m │ \u001b[32m04               \u001b[0m │ \u001b[32m0401              \u001b[0m │ \u001b[32m040101           \u001b[0m │        \u001b[1;36m268\u001b[0m │       \u001b[1;36m201\u001b[0m │\n",
       "│ \u001b[32mP040101006\u001b[0m │ \u001b[32m04               \u001b[0m │ \u001b[32m0401              \u001b[0m │ \u001b[32m040101           \u001b[0m │        \u001b[1;36m298\u001b[0m │       \u001b[1;36m224\u001b[0m │\n",
       "│ \u001b[32mP040101007\u001b[0m │ \u001b[32m04               \u001b[0m │ \u001b[32m0401              \u001b[0m │ \u001b[32m040101           \u001b[0m │        \u001b[1;36m338\u001b[0m │       \u001b[1;36m254\u001b[0m │\n",
       "│ \u001b[32mP040101008\u001b[0m │ \u001b[32m04               \u001b[0m │ \u001b[32m0401              \u001b[0m │ \u001b[32m040101           \u001b[0m │        \u001b[1;36m420\u001b[0m │       \u001b[1;36m315\u001b[0m │\n",
       "│ \u001b[32mP040101009\u001b[0m │ \u001b[32m04               \u001b[0m │ \u001b[32m0401              \u001b[0m │ \u001b[32m040101           \u001b[0m │        \u001b[1;36m498\u001b[0m │       \u001b[1;36m374\u001b[0m │\n",
       "│ \u001b[32mP040101010\u001b[0m │ \u001b[32m04               \u001b[0m │ \u001b[32m0401              \u001b[0m │ \u001b[32m040101           \u001b[0m │        \u001b[1;36m580\u001b[0m │       \u001b[1;36m435\u001b[0m │\n",
       "│ \u001b[2m…\u001b[0m          │ \u001b[2m…\u001b[0m                 │ \u001b[2m…\u001b[0m                  │ \u001b[2m…\u001b[0m                 │          \u001b[2m…\u001b[0m │         \u001b[2m…\u001b[0m │\n",
       "└────────────┴───────────────────┴────────────────────┴───────────────────┴────────────┴───────────┘"
      ]
     },
     "execution_count": 81,
     "metadata": {},
     "output_type": "execute_result"
    }
   ],
   "source": [
    "df_product"
   ]
  },
  {
   "cell_type": "code",
   "execution_count": 82,
   "metadata": {},
   "outputs": [
    {
     "data": {
      "text/plain": [
       "7"
      ]
     },
     "execution_count": 82,
     "metadata": {},
     "output_type": "execute_result"
    }
   ],
   "source": [
    "df_product.sql(\n",
    "    f\"\"\"\n",
    "    SELECT COUNT(CASE WHEN unit_price IS NULL THEN 1 END) As null_count\n",
    "    FROM {df_product.get_name()}\n",
    "    \"\"\"\n",
    ").execute().to_numpy()[0][0]"
   ]
  },
  {
   "cell_type": "code",
   "execution_count": 83,
   "metadata": {},
   "outputs": [
    {
     "data": {
      "text/plain": [
       "'ibis_read_csv_rm5zornt3naw7pbnpa63sdzr4m'"
      ]
     },
     "execution_count": 83,
     "metadata": {},
     "output_type": "execute_result"
    }
   ],
   "source": [
    "df_product.get_name()"
   ]
  },
  {
   "cell_type": "code",
   "execution_count": 84,
   "metadata": {},
   "outputs": [
    {
     "name": "stdout",
     "output_type": "stream",
     "text": [
      "product_cd\tNullの数: 0\n",
      "category_major_cd\tNullの数: 0\n",
      "category_medium_cd\tNullの数: 0\n",
      "category_small_cd\tNullの数: 0\n",
      "unit_price\tNullの数: 7\n",
      "unit_cost\tNullの数: 7\n"
     ]
    }
   ],
   "source": [
    "for col in df_product.columns:\n",
    "    count = df_product.sql(\n",
    "        f\"\"\"\n",
    "        SELECT COUNT(CASE WHEN {col} IS NULL THEN 1 END) As null_count\n",
    "        FROM {df_product.get_name()}\n",
    "        \"\"\"\n",
    "    ).execute().to_numpy()[0][0]\n",
    "    print(f\"{col}\\tNullの数:\", count)"
   ]
  },
  {
   "cell_type": "code",
   "execution_count": 85,
   "metadata": {},
   "outputs": [
    {
     "data": {
      "text/plain": [
       "product_cd            0\n",
       "category_major_cd     0\n",
       "category_medium_cd    0\n",
       "category_small_cd     0\n",
       "unit_price            7\n",
       "unit_cost             7\n",
       "dtype: int64"
      ]
     },
     "execution_count": 85,
     "metadata": {},
     "output_type": "execute_result"
    }
   ],
   "source": [
    "df_product.to_pandas().isnull().sum()"
   ]
  },
  {
   "attachments": {},
   "cell_type": "markdown",
   "metadata": {},
   "source": [
    "---\n",
    "> P-080: 商品データ（df_product）のいずれかの項目に欠損が発生しているレコードを全て削除した新たな商品データを作成せよ。なお、削除前後の件数を表示させ、079で確認した件数だけ減少していることも確認すること。"
   ]
  },
  {
   "cell_type": "code",
   "execution_count": 86,
   "metadata": {},
   "outputs": [
    {
     "name": "stdout",
     "output_type": "stream",
     "text": [
      "削除前: 10030\n",
      "削除後: 10023\n"
     ]
    }
   ],
   "source": [
    "print(\"削除前:\", df_product.count().execute())\n",
    "print(\"削除後:\", df_product.drop_null().count().execute())"
   ]
  },
  {
   "attachments": {},
   "cell_type": "markdown",
   "metadata": {},
   "source": [
    "---\n",
    "> P-081: 単価（unit_price）と原価（unit_cost）の欠損値について、それぞれの平均値で補完した新たな商品データを作成せよ。なお、平均値については1円未満を丸めること（四捨五入または偶数への丸めで良い）。補完実施後、各項目について欠損が生じていないことも確認すること。"
   ]
  },
  {
   "cell_type": "code",
   "execution_count": 87,
   "metadata": {},
   "outputs": [
    {
     "data": {
      "text/plain": [
       "product_cd            0\n",
       "category_major_cd     0\n",
       "category_medium_cd    0\n",
       "category_small_cd     0\n",
       "unit_price            0\n",
       "unit_cost             0\n",
       "dtype: int64"
      ]
     },
     "execution_count": 87,
     "metadata": {},
     "output_type": "execute_result"
    }
   ],
   "source": [
    "df_081 = (\n",
    "    df_product\n",
    "    .mutate(unit_cost=df_product[\"unit_cost\"].cast(float),\n",
    "            unit_price=df_product[\"unit_price\"].cast(float))\n",
    "    .fill_null(\n",
    "        {\n",
    "            \"unit_cost\": int(df_product[\"unit_cost\"].mean().execute()),\n",
    "            \"unit_price\": int(df_product[\"unit_price\"].mean().execute())\n",
    "        }\n",
    "    )\n",
    ")\n",
    "\n",
    "df_081.to_pandas().isnull().sum()"
   ]
  },
  {
   "attachments": {},
   "cell_type": "markdown",
   "metadata": {},
   "source": [
    "---\n",
    "> P-082: 単価（unit_price）と原価（unit_cost）の欠損値について、それぞれの中央値で補完した新たな商品データを作成せよ。なお、中央値については1円未満を丸めること（四捨五入または偶数への丸めで良い）。補完実施後、各項目について欠損が生じていないことも確認すること。"
   ]
  },
  {
   "cell_type": "code",
   "execution_count": 88,
   "metadata": {},
   "outputs": [
    {
     "data": {
      "text/plain": [
       "product_cd            0\n",
       "category_major_cd     0\n",
       "category_medium_cd    0\n",
       "category_small_cd     0\n",
       "unit_price            0\n",
       "unit_cost             0\n",
       "dtype: int64"
      ]
     },
     "execution_count": 88,
     "metadata": {},
     "output_type": "execute_result"
    }
   ],
   "source": [
    "df_082 = (\n",
    "    df_product\n",
    "    .mutate(unit_cost=df_product[\"unit_cost\"].cast(float),\n",
    "            unit_price=df_product[\"unit_price\"].cast(float))\n",
    "    .fill_null(\n",
    "        {\n",
    "            \"unit_cost\": int(df_product[\"unit_cost\"].median().execute()),\n",
    "            \"unit_price\": int(df_product[\"unit_price\"].median().execute())\n",
    "        }\n",
    "    )\n",
    ")\n",
    "\n",
    "df_082.to_pandas().isnull().sum()"
   ]
  },
  {
   "attachments": {},
   "cell_type": "markdown",
   "metadata": {},
   "source": [
    "---\n",
    "> P-083: 単価（unit_price）と原価（unit_cost）の欠損値について、各商品のカテゴリ小区分コード（category_small_cd）ごとに算出した中央値で補完した新たな商品データを作成せよ。なお、中央値については1円未満を丸めること（四捨五入または偶数への丸めで良い）。補完実施後、各項目について欠損が生じていないことも確認すること。"
   ]
  },
  {
   "cell_type": "code",
   "execution_count": 89,
   "metadata": {},
   "outputs": [
    {
     "data": {
      "text/plain": [
       "category_small_cd     0\n",
       "median_price          0\n",
       "median_cost           0\n",
       "product_cd            0\n",
       "category_major_cd     0\n",
       "category_medium_cd    0\n",
       "unit_price            0\n",
       "unit_cost             0\n",
       "dtype: int64"
      ]
     },
     "execution_count": 89,
     "metadata": {},
     "output_type": "execute_result"
    }
   ],
   "source": [
    "df_083 = (\n",
    "    df_product\n",
    "    .group_by(\"category_small_cd\")\n",
    "    .aggregate(\n",
    "        median_price=_[\"unit_price\"].median(),\n",
    "        median_cost=_[\"unit_cost\"].median()\n",
    "    )\n",
    "    .join(df_product, how=\"inner\", predicates=\"category_small_cd\")\n",
    "    .mutate(\n",
    "        unit_price=(\n",
    "            ibis.case()\n",
    "            .when(_[\"unit_price\"].isnull(), _[\"median_price\"])\n",
    "            .else_(_[\"unit_price\"])\n",
    "            .end()\n",
    "        ),\n",
    "        unit_cost=(\n",
    "            ibis.case()\n",
    "            .when(_[\"unit_cost\"].isnull(), _[\"median_cost\"])\n",
    "            .else_(_[\"unit_cost\"])\n",
    "            .end()\n",
    "        )\n",
    "    )\n",
    ")\n",
    "\n",
    "df_083.to_pandas().isnull().sum()"
   ]
  },
  {
   "attachments": {},
   "cell_type": "markdown",
   "metadata": {},
   "source": [
    "## 応用"
   ]
  },
  {
   "attachments": {},
   "cell_type": "markdown",
   "metadata": {},
   "source": [
    "---\n",
    "> P-084: 顧客データ（df_customer）の全顧客に対して全期間の売上金額に占める2019年売上金額の割合を計算し、新たなデータを作成せよ。ただし、売上実績がない場合は0として扱うこと。そして計算した割合が0超のものを抽出し、結果を10件表示せよ。また、作成したデータに欠損が存在しないことを確認せよ。"
   ]
  },
  {
   "cell_type": "code",
   "execution_count": 90,
   "metadata": {},
   "outputs": [
    {
     "data": {
      "text/plain": [
       "customer_id    0\n",
       "amount_2019    0\n",
       "amount_all     0\n",
       "amount_rate    0\n",
       "dtype: int64"
      ]
     },
     "execution_count": 90,
     "metadata": {},
     "output_type": "execute_result"
    }
   ],
   "source": [
    "df_084 = (\n",
    "    df_receipt\n",
    "    .filter((20190101 <= df_receipt[\"sales_ymd\"]) & (df_receipt[\"sales_ymd\"] <= 20191231))\n",
    "    .group_by(\"customer_id\")\n",
    "    .aggregate(amount_2019=_[\"amount\"].sum())\n",
    "    .join(\n",
    "        df_receipt.group_by(\"customer_id\").aggregate(amount_all=df_receipt[\"amount\"].sum()),\n",
    "        how=\"inner\", predicates=\"customer_id\"\n",
    "    )\n",
    "    .mutate(\n",
    "        amount_2019=_[\"amount_2019\"].fill_null(0).name(\"amount_2019\"),\n",
    "        amount_all=_[\"amount_all\"].fill_null(0).name(\"amount_all\"),\n",
    "        amount_rate=(\n",
    "            ibis.case()\n",
    "            .when(_[\"amount_2019\"] == 0, 0)\n",
    "            .else_(_[\"amount_2019\"]/_[\"amount_all\"])\n",
    "            .end()\n",
    "        )\n",
    "    )\n",
    "    .filter(_[\"amount_rate\"] > 0)\n",
    ")\n",
    "\n",
    "df_084.to_pandas().isnull().sum()"
   ]
  },
  {
   "attachments": {},
   "cell_type": "markdown",
   "metadata": {},
   "source": [
    "---\n",
    "> P-085: 顧客データ（df_customer）の全顧客に対し、郵便番号（postal_cd）を用いてジオコードデータ（df_geocode）を紐付け、新たな顧客データを作成せよ。ただし、1つの郵便番号（postal_cd）に複数の経度（longitude）、緯度（latitude）情報が紐づく場合は、経度（longitude）、緯度（latitude）の平均値を算出して使用すること。また、作成結果を確認するために結果を10件表示せよ。"
   ]
  },
  {
   "cell_type": "code",
   "execution_count": 91,
   "metadata": {},
   "outputs": [
    {
     "data": {
      "text/html": [
       "<pre style=\"white-space:pre;overflow-x:auto;line-height:normal;font-family:Menlo,'DejaVu Sans Mono',consolas,'Courier New',monospace\">┏━━━━━━━━━━━━━━━━┳━━━━━━━━━━━━━━━┳━━━━━━━━━━━┳━━━━━━━━┳━━━━━━━━━━━━┳━━━━━━━┳━━━━━━━━━━━┳━━━━━━━━━━━━━━━━━━━━━┳━━━━━━━━━━━━━━━━━━━━━━┳━━━━━━━━━━━━━━━━━━┳━━━━━━━━━━━━━━┳━━━━━━━━━━━┳━━━━━━━━━━┓\n",
       "┃<span style=\"font-weight: bold\"> customer_id    </span>┃<span style=\"font-weight: bold\"> customer_name </span>┃<span style=\"font-weight: bold\"> gender_cd </span>┃<span style=\"font-weight: bold\"> gender </span>┃<span style=\"font-weight: bold\"> birth_day  </span>┃<span style=\"font-weight: bold\"> age   </span>┃<span style=\"font-weight: bold\"> postal_cd </span>┃<span style=\"font-weight: bold\"> address             </span>┃<span style=\"font-weight: bold\"> application_store_cd </span>┃<span style=\"font-weight: bold\"> application_date </span>┃<span style=\"font-weight: bold\"> status_cd    </span>┃<span style=\"font-weight: bold\"> longitude </span>┃<span style=\"font-weight: bold\"> latitude </span>┃\n",
       "┡━━━━━━━━━━━━━━━━╇━━━━━━━━━━━━━━━╇━━━━━━━━━━━╇━━━━━━━━╇━━━━━━━━━━━━╇━━━━━━━╇━━━━━━━━━━━╇━━━━━━━━━━━━━━━━━━━━━╇━━━━━━━━━━━━━━━━━━━━━━╇━━━━━━━━━━━━━━━━━━╇━━━━━━━━━━━━━━╇━━━━━━━━━━━╇━━━━━━━━━━┩\n",
       "│ <span style=\"color: #7f7f7f; text-decoration-color: #7f7f7f\">string</span>         │ <span style=\"color: #7f7f7f; text-decoration-color: #7f7f7f\">string</span>        │ <span style=\"color: #7f7f7f; text-decoration-color: #7f7f7f\">string</span>    │ <span style=\"color: #7f7f7f; text-decoration-color: #7f7f7f\">string</span> │ <span style=\"color: #7f7f7f; text-decoration-color: #7f7f7f\">date</span>       │ <span style=\"color: #7f7f7f; text-decoration-color: #7f7f7f\">int64</span> │ <span style=\"color: #7f7f7f; text-decoration-color: #7f7f7f\">string</span>    │ <span style=\"color: #7f7f7f; text-decoration-color: #7f7f7f\">string</span>              │ <span style=\"color: #7f7f7f; text-decoration-color: #7f7f7f\">string</span>               │ <span style=\"color: #7f7f7f; text-decoration-color: #7f7f7f\">int64</span>            │ <span style=\"color: #7f7f7f; text-decoration-color: #7f7f7f\">string</span>       │ <span style=\"color: #7f7f7f; text-decoration-color: #7f7f7f\">float64</span>   │ <span style=\"color: #7f7f7f; text-decoration-color: #7f7f7f\">float64</span>  │\n",
       "├────────────────┼───────────────┼───────────┼────────┼────────────┼───────┼───────────┼─────────────────────┼──────────────────────┼──────────────────┼──────────────┼───────────┼──────────┤\n",
       "│ <span style=\"color: #008000; text-decoration-color: #008000\">CS001105000001</span> │ <span style=\"color: #008000; text-decoration-color: #008000\">中島 利夫    </span> │ <span style=\"color: #008000; text-decoration-color: #008000\">0        </span> │ <span style=\"color: #008000; text-decoration-color: #008000\">男性  </span> │ <span style=\"color: #800080; text-decoration-color: #800080\">2000-01-14</span> │    <span style=\"color: #008080; text-decoration-color: #008080; font-weight: bold\">19</span> │ <span style=\"color: #008000; text-decoration-color: #008000\">144-0056 </span> │ <span style=\"color: #008000; text-decoration-color: #008000\">東京都大田区西六郷…</span> │ <span style=\"color: #008000; text-decoration-color: #008000\">S13001              </span> │         <span style=\"color: #008080; text-decoration-color: #008080; font-weight: bold\">20170310</span> │ <span style=\"color: #008000; text-decoration-color: #008000\">0-00000000-0</span> │ <span style=\"color: #008080; text-decoration-color: #008080; font-weight: bold\">139.70238</span> │ <span style=\"color: #008080; text-decoration-color: #008080; font-weight: bold\">35.54137</span> │\n",
       "│ <span style=\"color: #008000; text-decoration-color: #008000\">CS001112000009</span> │ <span style=\"color: #008000; text-decoration-color: #008000\">秦 美里      </span> │ <span style=\"color: #008000; text-decoration-color: #008000\">1        </span> │ <span style=\"color: #008000; text-decoration-color: #008000\">女性  </span> │ <span style=\"color: #800080; text-decoration-color: #800080\">2006-08-24</span> │    <span style=\"color: #008080; text-decoration-color: #008080; font-weight: bold\">12</span> │ <span style=\"color: #008000; text-decoration-color: #008000\">143-0026 </span> │ <span style=\"color: #008000; text-decoration-color: #008000\">東京都大田区西馬込…</span> │ <span style=\"color: #008000; text-decoration-color: #008000\">S13001              </span> │         <span style=\"color: #008080; text-decoration-color: #008080; font-weight: bold\">20150703</span> │ <span style=\"color: #008000; text-decoration-color: #008000\">0-00000000-0</span> │ <span style=\"color: #008080; text-decoration-color: #008080; font-weight: bold\">139.70386</span> │ <span style=\"color: #008080; text-decoration-color: #008080; font-weight: bold\">35.58670</span> │\n",
       "│ <span style=\"color: #008000; text-decoration-color: #008000\">CS001112000019</span> │ <span style=\"color: #008000; text-decoration-color: #008000\">門脇 莉沙    </span> │ <span style=\"color: #008000; text-decoration-color: #008000\">1        </span> │ <span style=\"color: #008000; text-decoration-color: #008000\">女性  </span> │ <span style=\"color: #800080; text-decoration-color: #800080\">2001-01-31</span> │    <span style=\"color: #008080; text-decoration-color: #008080; font-weight: bold\">18</span> │ <span style=\"color: #008000; text-decoration-color: #008000\">143-0004 </span> │ <span style=\"color: #008000; text-decoration-color: #008000\">東京都大田区昭和島…</span> │ <span style=\"color: #008000; text-decoration-color: #008000\">S13001              </span> │         <span style=\"color: #008080; text-decoration-color: #008080; font-weight: bold\">20170207</span> │ <span style=\"color: #008000; text-decoration-color: #008000\">0-00000000-0</span> │ <span style=\"color: #008080; text-decoration-color: #008080; font-weight: bold\">139.74687</span> │ <span style=\"color: #008080; text-decoration-color: #008080; font-weight: bold\">35.57153</span> │\n",
       "│ <span style=\"color: #008000; text-decoration-color: #008000\">CS001112000021</span> │ <span style=\"color: #008000; text-decoration-color: #008000\">長澤 麗奈    </span> │ <span style=\"color: #008000; text-decoration-color: #008000\">1        </span> │ <span style=\"color: #008000; text-decoration-color: #008000\">女性  </span> │ <span style=\"color: #800080; text-decoration-color: #800080\">2001-12-15</span> │    <span style=\"color: #008080; text-decoration-color: #008080; font-weight: bold\">17</span> │ <span style=\"color: #008000; text-decoration-color: #008000\">144-0056 </span> │ <span style=\"color: #008000; text-decoration-color: #008000\">東京都大田区西六郷…</span> │ <span style=\"color: #008000; text-decoration-color: #008000\">S13001              </span> │         <span style=\"color: #008080; text-decoration-color: #008080; font-weight: bold\">20170612</span> │ <span style=\"color: #008000; text-decoration-color: #008000\">0-00000000-0</span> │ <span style=\"color: #008080; text-decoration-color: #008080; font-weight: bold\">139.70238</span> │ <span style=\"color: #008080; text-decoration-color: #008080; font-weight: bold\">35.54137</span> │\n",
       "│ <span style=\"color: #008000; text-decoration-color: #008000\">CS001112000023</span> │ <span style=\"color: #008000; text-decoration-color: #008000\">戸田 一恵    </span> │ <span style=\"color: #008000; text-decoration-color: #008000\">1        </span> │ <span style=\"color: #008000; text-decoration-color: #008000\">女性  </span> │ <span style=\"color: #800080; text-decoration-color: #800080\">2004-01-26</span> │    <span style=\"color: #008080; text-decoration-color: #008080; font-weight: bold\">15</span> │ <span style=\"color: #008000; text-decoration-color: #008000\">143-0004 </span> │ <span style=\"color: #008000; text-decoration-color: #008000\">東京都大田区昭和島…</span> │ <span style=\"color: #008000; text-decoration-color: #008000\">S13001              </span> │         <span style=\"color: #008080; text-decoration-color: #008080; font-weight: bold\">20170724</span> │ <span style=\"color: #008000; text-decoration-color: #008000\">0-00000000-0</span> │ <span style=\"color: #008080; text-decoration-color: #008080; font-weight: bold\">139.74687</span> │ <span style=\"color: #008080; text-decoration-color: #008080; font-weight: bold\">35.57153</span> │\n",
       "│ <span style=\"color: #008000; text-decoration-color: #008000\">CS001112000024</span> │ <span style=\"color: #008000; text-decoration-color: #008000\">菊地 美幸    </span> │ <span style=\"color: #008000; text-decoration-color: #008000\">1        </span> │ <span style=\"color: #008000; text-decoration-color: #008000\">女性  </span> │ <span style=\"color: #800080; text-decoration-color: #800080\">2001-01-16</span> │    <span style=\"color: #008080; text-decoration-color: #008080; font-weight: bold\">18</span> │ <span style=\"color: #008000; text-decoration-color: #008000\">144-0056 </span> │ <span style=\"color: #008000; text-decoration-color: #008000\">東京都大田区西六郷…</span> │ <span style=\"color: #008000; text-decoration-color: #008000\">S13001              </span> │         <span style=\"color: #008080; text-decoration-color: #008080; font-weight: bold\">20161106</span> │ <span style=\"color: #008000; text-decoration-color: #008000\">0-00000000-0</span> │ <span style=\"color: #008080; text-decoration-color: #008080; font-weight: bold\">139.70238</span> │ <span style=\"color: #008080; text-decoration-color: #008080; font-weight: bold\">35.54137</span> │\n",
       "│ <span style=\"color: #008000; text-decoration-color: #008000\">CS001112000029</span> │ <span style=\"color: #008000; text-decoration-color: #008000\">稲垣 さやか  </span> │ <span style=\"color: #008000; text-decoration-color: #008000\">1        </span> │ <span style=\"color: #008000; text-decoration-color: #008000\">女性  </span> │ <span style=\"color: #800080; text-decoration-color: #800080\">2005-01-24</span> │    <span style=\"color: #008080; text-decoration-color: #008080; font-weight: bold\">14</span> │ <span style=\"color: #008000; text-decoration-color: #008000\">144-0056 </span> │ <span style=\"color: #008000; text-decoration-color: #008000\">東京都大田区西六郷…</span> │ <span style=\"color: #008000; text-decoration-color: #008000\">S13001              </span> │         <span style=\"color: #008080; text-decoration-color: #008080; font-weight: bold\">20170322</span> │ <span style=\"color: #008000; text-decoration-color: #008000\">0-00000000-0</span> │ <span style=\"color: #008080; text-decoration-color: #008080; font-weight: bold\">139.70238</span> │ <span style=\"color: #008080; text-decoration-color: #008080; font-weight: bold\">35.54137</span> │\n",
       "│ <span style=\"color: #008000; text-decoration-color: #008000\">CS001112000030</span> │ <span style=\"color: #008000; text-decoration-color: #008000\">内藤 サンタ …</span> │ <span style=\"color: #008000; text-decoration-color: #008000\">1        </span> │ <span style=\"color: #008000; text-decoration-color: #008000\">女性  </span> │ <span style=\"color: #800080; text-decoration-color: #800080\">2003-03-02</span> │    <span style=\"color: #008080; text-decoration-color: #008080; font-weight: bold\">16</span> │ <span style=\"color: #008000; text-decoration-color: #008000\">144-0056 </span> │ <span style=\"color: #008000; text-decoration-color: #008000\">東京都大田区西六郷…</span> │ <span style=\"color: #008000; text-decoration-color: #008000\">S13001              </span> │         <span style=\"color: #008080; text-decoration-color: #008080; font-weight: bold\">20170611</span> │ <span style=\"color: #008000; text-decoration-color: #008000\">0-00000000-0</span> │ <span style=\"color: #008080; text-decoration-color: #008080; font-weight: bold\">139.70238</span> │ <span style=\"color: #008080; text-decoration-color: #008080; font-weight: bold\">35.54137</span> │\n",
       "│ <span style=\"color: #008000; text-decoration-color: #008000\">CS001113000004</span> │ <span style=\"color: #008000; text-decoration-color: #008000\">葛西 莉央    </span> │ <span style=\"color: #008000; text-decoration-color: #008000\">1        </span> │ <span style=\"color: #008000; text-decoration-color: #008000\">女性  </span> │ <span style=\"color: #800080; text-decoration-color: #800080\">2003-02-22</span> │    <span style=\"color: #008080; text-decoration-color: #008080; font-weight: bold\">16</span> │ <span style=\"color: #008000; text-decoration-color: #008000\">144-0056 </span> │ <span style=\"color: #008000; text-decoration-color: #008000\">東京都大田区西六郷…</span> │ <span style=\"color: #008000; text-decoration-color: #008000\">S13001              </span> │         <span style=\"color: #008080; text-decoration-color: #008080; font-weight: bold\">20151105</span> │ <span style=\"color: #008000; text-decoration-color: #008000\">7-20100308-1</span> │ <span style=\"color: #008080; text-decoration-color: #008080; font-weight: bold\">139.70238</span> │ <span style=\"color: #008080; text-decoration-color: #008080; font-weight: bold\">35.54137</span> │\n",
       "│ <span style=\"color: #008000; text-decoration-color: #008000\">CS001113000010</span> │ <span style=\"color: #008000; text-decoration-color: #008000\">大谷 美菜    </span> │ <span style=\"color: #008000; text-decoration-color: #008000\">1        </span> │ <span style=\"color: #008000; text-decoration-color: #008000\">女性  </span> │ <span style=\"color: #800080; text-decoration-color: #800080\">2005-05-09</span> │    <span style=\"color: #008080; text-decoration-color: #008080; font-weight: bold\">13</span> │ <span style=\"color: #008000; text-decoration-color: #008000\">144-0056 </span> │ <span style=\"color: #008000; text-decoration-color: #008000\">東京都大田区西六郷…</span> │ <span style=\"color: #008000; text-decoration-color: #008000\">S13001              </span> │         <span style=\"color: #008080; text-decoration-color: #008080; font-weight: bold\">20151120</span> │ <span style=\"color: #008000; text-decoration-color: #008000\">0-00000000-0</span> │ <span style=\"color: #008080; text-decoration-color: #008080; font-weight: bold\">139.70238</span> │ <span style=\"color: #008080; text-decoration-color: #008080; font-weight: bold\">35.54137</span> │\n",
       "└────────────────┴───────────────┴───────────┴────────┴────────────┴───────┴───────────┴─────────────────────┴──────────────────────┴──────────────────┴──────────────┴───────────┴──────────┘\n",
       "</pre>\n"
      ],
      "text/plain": [
       "┏━━━━━━━━━━━━━━━━┳━━━━━━━━━━━━━━━┳━━━━━━━━━━━┳━━━━━━━━┳━━━━━━━━━━━━┳━━━━━━━┳━━━━━━━━━━━┳━━━━━━━━━━━━━━━━━━━━━┳━━━━━━━━━━━━━━━━━━━━━━┳━━━━━━━━━━━━━━━━━━┳━━━━━━━━━━━━━━┳━━━━━━━━━━━┳━━━━━━━━━━┓\n",
       "┃\u001b[1m \u001b[0m\u001b[1mcustomer_id\u001b[0m\u001b[1m   \u001b[0m\u001b[1m \u001b[0m┃\u001b[1m \u001b[0m\u001b[1mcustomer_name\u001b[0m\u001b[1m \u001b[0m┃\u001b[1m \u001b[0m\u001b[1mgender_cd\u001b[0m\u001b[1m \u001b[0m┃\u001b[1m \u001b[0m\u001b[1mgender\u001b[0m\u001b[1m \u001b[0m┃\u001b[1m \u001b[0m\u001b[1mbirth_day\u001b[0m\u001b[1m \u001b[0m\u001b[1m \u001b[0m┃\u001b[1m \u001b[0m\u001b[1mage\u001b[0m\u001b[1m  \u001b[0m\u001b[1m \u001b[0m┃\u001b[1m \u001b[0m\u001b[1mpostal_cd\u001b[0m\u001b[1m \u001b[0m┃\u001b[1m \u001b[0m\u001b[1maddress\u001b[0m\u001b[1m            \u001b[0m\u001b[1m \u001b[0m┃\u001b[1m \u001b[0m\u001b[1mapplication_store_cd\u001b[0m\u001b[1m \u001b[0m┃\u001b[1m \u001b[0m\u001b[1mapplication_date\u001b[0m\u001b[1m \u001b[0m┃\u001b[1m \u001b[0m\u001b[1mstatus_cd\u001b[0m\u001b[1m   \u001b[0m\u001b[1m \u001b[0m┃\u001b[1m \u001b[0m\u001b[1mlongitude\u001b[0m\u001b[1m \u001b[0m┃\u001b[1m \u001b[0m\u001b[1mlatitude\u001b[0m\u001b[1m \u001b[0m┃\n",
       "┡━━━━━━━━━━━━━━━━╇━━━━━━━━━━━━━━━╇━━━━━━━━━━━╇━━━━━━━━╇━━━━━━━━━━━━╇━━━━━━━╇━━━━━━━━━━━╇━━━━━━━━━━━━━━━━━━━━━╇━━━━━━━━━━━━━━━━━━━━━━╇━━━━━━━━━━━━━━━━━━╇━━━━━━━━━━━━━━╇━━━━━━━━━━━╇━━━━━━━━━━┩\n",
       "│ \u001b[2mstring\u001b[0m         │ \u001b[2mstring\u001b[0m        │ \u001b[2mstring\u001b[0m    │ \u001b[2mstring\u001b[0m │ \u001b[2mdate\u001b[0m       │ \u001b[2mint64\u001b[0m │ \u001b[2mstring\u001b[0m    │ \u001b[2mstring\u001b[0m              │ \u001b[2mstring\u001b[0m               │ \u001b[2mint64\u001b[0m            │ \u001b[2mstring\u001b[0m       │ \u001b[2mfloat64\u001b[0m   │ \u001b[2mfloat64\u001b[0m  │\n",
       "├────────────────┼───────────────┼───────────┼────────┼────────────┼───────┼───────────┼─────────────────────┼──────────────────────┼──────────────────┼──────────────┼───────────┼──────────┤\n",
       "│ \u001b[32mCS001105000001\u001b[0m │ \u001b[32m中島 利夫    \u001b[0m │ \u001b[32m0        \u001b[0m │ \u001b[32m男性  \u001b[0m │ \u001b[35m2000-01-14\u001b[0m │    \u001b[1;36m19\u001b[0m │ \u001b[32m144-0056 \u001b[0m │ \u001b[32m東京都大田区西六郷…\u001b[0m │ \u001b[32mS13001              \u001b[0m │         \u001b[1;36m20170310\u001b[0m │ \u001b[32m0-00000000-0\u001b[0m │ \u001b[1;36m139.70238\u001b[0m │ \u001b[1;36m35.54137\u001b[0m │\n",
       "│ \u001b[32mCS001112000009\u001b[0m │ \u001b[32m秦 美里      \u001b[0m │ \u001b[32m1        \u001b[0m │ \u001b[32m女性  \u001b[0m │ \u001b[35m2006-08-24\u001b[0m │    \u001b[1;36m12\u001b[0m │ \u001b[32m143-0026 \u001b[0m │ \u001b[32m東京都大田区西馬込…\u001b[0m │ \u001b[32mS13001              \u001b[0m │         \u001b[1;36m20150703\u001b[0m │ \u001b[32m0-00000000-0\u001b[0m │ \u001b[1;36m139.70386\u001b[0m │ \u001b[1;36m35.58670\u001b[0m │\n",
       "│ \u001b[32mCS001112000019\u001b[0m │ \u001b[32m門脇 莉沙    \u001b[0m │ \u001b[32m1        \u001b[0m │ \u001b[32m女性  \u001b[0m │ \u001b[35m2001-01-31\u001b[0m │    \u001b[1;36m18\u001b[0m │ \u001b[32m143-0004 \u001b[0m │ \u001b[32m東京都大田区昭和島…\u001b[0m │ \u001b[32mS13001              \u001b[0m │         \u001b[1;36m20170207\u001b[0m │ \u001b[32m0-00000000-0\u001b[0m │ \u001b[1;36m139.74687\u001b[0m │ \u001b[1;36m35.57153\u001b[0m │\n",
       "│ \u001b[32mCS001112000021\u001b[0m │ \u001b[32m長澤 麗奈    \u001b[0m │ \u001b[32m1        \u001b[0m │ \u001b[32m女性  \u001b[0m │ \u001b[35m2001-12-15\u001b[0m │    \u001b[1;36m17\u001b[0m │ \u001b[32m144-0056 \u001b[0m │ \u001b[32m東京都大田区西六郷…\u001b[0m │ \u001b[32mS13001              \u001b[0m │         \u001b[1;36m20170612\u001b[0m │ \u001b[32m0-00000000-0\u001b[0m │ \u001b[1;36m139.70238\u001b[0m │ \u001b[1;36m35.54137\u001b[0m │\n",
       "│ \u001b[32mCS001112000023\u001b[0m │ \u001b[32m戸田 一恵    \u001b[0m │ \u001b[32m1        \u001b[0m │ \u001b[32m女性  \u001b[0m │ \u001b[35m2004-01-26\u001b[0m │    \u001b[1;36m15\u001b[0m │ \u001b[32m143-0004 \u001b[0m │ \u001b[32m東京都大田区昭和島…\u001b[0m │ \u001b[32mS13001              \u001b[0m │         \u001b[1;36m20170724\u001b[0m │ \u001b[32m0-00000000-0\u001b[0m │ \u001b[1;36m139.74687\u001b[0m │ \u001b[1;36m35.57153\u001b[0m │\n",
       "│ \u001b[32mCS001112000024\u001b[0m │ \u001b[32m菊地 美幸    \u001b[0m │ \u001b[32m1        \u001b[0m │ \u001b[32m女性  \u001b[0m │ \u001b[35m2001-01-16\u001b[0m │    \u001b[1;36m18\u001b[0m │ \u001b[32m144-0056 \u001b[0m │ \u001b[32m東京都大田区西六郷…\u001b[0m │ \u001b[32mS13001              \u001b[0m │         \u001b[1;36m20161106\u001b[0m │ \u001b[32m0-00000000-0\u001b[0m │ \u001b[1;36m139.70238\u001b[0m │ \u001b[1;36m35.54137\u001b[0m │\n",
       "│ \u001b[32mCS001112000029\u001b[0m │ \u001b[32m稲垣 さやか  \u001b[0m │ \u001b[32m1        \u001b[0m │ \u001b[32m女性  \u001b[0m │ \u001b[35m2005-01-24\u001b[0m │    \u001b[1;36m14\u001b[0m │ \u001b[32m144-0056 \u001b[0m │ \u001b[32m東京都大田区西六郷…\u001b[0m │ \u001b[32mS13001              \u001b[0m │         \u001b[1;36m20170322\u001b[0m │ \u001b[32m0-00000000-0\u001b[0m │ \u001b[1;36m139.70238\u001b[0m │ \u001b[1;36m35.54137\u001b[0m │\n",
       "│ \u001b[32mCS001112000030\u001b[0m │ \u001b[32m内藤 サンタ …\u001b[0m │ \u001b[32m1        \u001b[0m │ \u001b[32m女性  \u001b[0m │ \u001b[35m2003-03-02\u001b[0m │    \u001b[1;36m16\u001b[0m │ \u001b[32m144-0056 \u001b[0m │ \u001b[32m東京都大田区西六郷…\u001b[0m │ \u001b[32mS13001              \u001b[0m │         \u001b[1;36m20170611\u001b[0m │ \u001b[32m0-00000000-0\u001b[0m │ \u001b[1;36m139.70238\u001b[0m │ \u001b[1;36m35.54137\u001b[0m │\n",
       "│ \u001b[32mCS001113000004\u001b[0m │ \u001b[32m葛西 莉央    \u001b[0m │ \u001b[32m1        \u001b[0m │ \u001b[32m女性  \u001b[0m │ \u001b[35m2003-02-22\u001b[0m │    \u001b[1;36m16\u001b[0m │ \u001b[32m144-0056 \u001b[0m │ \u001b[32m東京都大田区西六郷…\u001b[0m │ \u001b[32mS13001              \u001b[0m │         \u001b[1;36m20151105\u001b[0m │ \u001b[32m7-20100308-1\u001b[0m │ \u001b[1;36m139.70238\u001b[0m │ \u001b[1;36m35.54137\u001b[0m │\n",
       "│ \u001b[32mCS001113000010\u001b[0m │ \u001b[32m大谷 美菜    \u001b[0m │ \u001b[32m1        \u001b[0m │ \u001b[32m女性  \u001b[0m │ \u001b[35m2005-05-09\u001b[0m │    \u001b[1;36m13\u001b[0m │ \u001b[32m144-0056 \u001b[0m │ \u001b[32m東京都大田区西六郷…\u001b[0m │ \u001b[32mS13001              \u001b[0m │         \u001b[1;36m20151120\u001b[0m │ \u001b[32m0-00000000-0\u001b[0m │ \u001b[1;36m139.70238\u001b[0m │ \u001b[1;36m35.54137\u001b[0m │\n",
       "└────────────────┴───────────────┴───────────┴────────┴────────────┴───────┴───────────┴─────────────────────┴──────────────────────┴──────────────────┴──────────────┴───────────┴──────────┘"
      ]
     },
     "execution_count": 91,
     "metadata": {},
     "output_type": "execute_result"
    }
   ],
   "source": [
    "df_085 = df_customer.join(\n",
    "    df_geocode.group_by(\"postal_cd\").aggregate(\n",
    "        longitude=_[\"longitude\"].mean(),\n",
    "        latitude=_[\"latitude\"].mean()\n",
    "    ),\n",
    "    how=\"inner\", predicates=\"postal_cd\"\n",
    ").order_by(\"customer_id\")\n",
    "\n",
    "df_085.head(10)"
   ]
  },
  {
   "attachments": {},
   "cell_type": "markdown",
   "metadata": {},
   "source": [
    "---\n",
    "> P-086: 085で作成した緯度経度つき顧客データに対し、会員申込店舗コード（application_store_cd）をキーに店舗データ（df_store）と結合せよ。そして申込み店舗の緯度（latitude）・経度情報（longitude)と顧客住所（address）の緯度・経度を用いて申込み店舗と顧客住所の距離（単位：km）を求め、顧客ID（customer_id）、顧客住所（address）、店舗住所（address）とともに表示せよ。計算式は以下の簡易式で良いものとするが、その他精度の高い方式を利用したライブラリを利用してもかまわない。結果は10件表示せよ。\n",
    "\n",
    "$$\n",
    "\\begin{aligned}\n",
    "& longitude(radian)：\\phi \\\\\n",
    "& latitude(radian)：\\lambda \\\\\n",
    "& distance, L = 6371 * \\arccos(\\sin \\phi_1 * \\sin \\phi_2 + \\cos \\phi_1 * \\cos \\phi_2 * \\cos(\\lambda_1 − \\lambda_2))\n",
    "\\end{aligned}\n",
    "$$"
   ]
  },
  {
   "attachments": {},
   "cell_type": "markdown",
   "metadata": {},
   "source": [
    "---\n",
    "> P-087: 顧客データ（df_customer）では、異なる店舗での申込みなどにより同一顧客が複数登録されている。名前（customer_name）と郵便番号（postal_cd）が同じ顧客は同一顧客とみなして1顧客1レコードとなるように名寄せした名寄顧客データを作成し、顧客データの件数、名寄顧客データの件数、重複数を算出せよ。ただし、同一顧客に対しては売上金額合計が最も高いものを残し、売上金額合計が同一もしくは売上実績がない顧客については顧客ID（customer_id）の番号が小さいものを残すこととする。"
   ]
  },
  {
   "cell_type": "code",
   "execution_count": 92,
   "metadata": {},
   "outputs": [
    {
     "data": {
      "text/html": [
       "<pre style=\"white-space:pre;overflow-x:auto;line-height:normal;font-family:Menlo,'DejaVu Sans Mono',consolas,'Courier New',monospace\">┏━━━━━━━━━━━━━━━━┳━━━━━━━━━━━━┳━━━━━━━━━━━━━━━┳━━━━━━━━━━━┳━━━━━━━━┳━━━━━━━━━━━━┳━━━━━━━┳━━━━━━━━━━━┳━━━━━━━━━━━━━━━━━━━━━━━━━┳━━━━━━━━━━━━━━━━━━━━━━┳━━━━━━━━━━━━━━━━━━┳━━━━━━━━━━━━━━┓\n",
       "┃<span style=\"font-weight: bold\"> customer_id    </span>┃<span style=\"font-weight: bold\"> sum_amount </span>┃<span style=\"font-weight: bold\"> customer_name </span>┃<span style=\"font-weight: bold\"> gender_cd </span>┃<span style=\"font-weight: bold\"> gender </span>┃<span style=\"font-weight: bold\"> birth_day  </span>┃<span style=\"font-weight: bold\"> age   </span>┃<span style=\"font-weight: bold\"> postal_cd </span>┃<span style=\"font-weight: bold\"> address                 </span>┃<span style=\"font-weight: bold\"> application_store_cd </span>┃<span style=\"font-weight: bold\"> application_date </span>┃<span style=\"font-weight: bold\"> status_cd    </span>┃\n",
       "┡━━━━━━━━━━━━━━━━╇━━━━━━━━━━━━╇━━━━━━━━━━━━━━━╇━━━━━━━━━━━╇━━━━━━━━╇━━━━━━━━━━━━╇━━━━━━━╇━━━━━━━━━━━╇━━━━━━━━━━━━━━━━━━━━━━━━━╇━━━━━━━━━━━━━━━━━━━━━━╇━━━━━━━━━━━━━━━━━━╇━━━━━━━━━━━━━━┩\n",
       "│ <span style=\"color: #7f7f7f; text-decoration-color: #7f7f7f\">string</span>         │ <span style=\"color: #7f7f7f; text-decoration-color: #7f7f7f\">int64</span>      │ <span style=\"color: #7f7f7f; text-decoration-color: #7f7f7f\">string</span>        │ <span style=\"color: #7f7f7f; text-decoration-color: #7f7f7f\">string</span>    │ <span style=\"color: #7f7f7f; text-decoration-color: #7f7f7f\">string</span> │ <span style=\"color: #7f7f7f; text-decoration-color: #7f7f7f\">date</span>       │ <span style=\"color: #7f7f7f; text-decoration-color: #7f7f7f\">int64</span> │ <span style=\"color: #7f7f7f; text-decoration-color: #7f7f7f\">string</span>    │ <span style=\"color: #7f7f7f; text-decoration-color: #7f7f7f\">string</span>                  │ <span style=\"color: #7f7f7f; text-decoration-color: #7f7f7f\">string</span>               │ <span style=\"color: #7f7f7f; text-decoration-color: #7f7f7f\">int64</span>            │ <span style=\"color: #7f7f7f; text-decoration-color: #7f7f7f\">string</span>       │\n",
       "├────────────────┼────────────┼───────────────┼───────────┼────────┼────────────┼───────┼───────────┼─────────────────────────┼──────────────────────┼──────────────────┼──────────────┤\n",
       "│ <span style=\"color: #008000; text-decoration-color: #008000\">CS005513000417</span> │       <span style=\"color: #008080; text-decoration-color: #008080; font-weight: bold\">2338</span> │ <span style=\"color: #008000; text-decoration-color: #008000\">葛西 花      </span> │ <span style=\"color: #008000; text-decoration-color: #008000\">1        </span> │ <span style=\"color: #008000; text-decoration-color: #008000\">女性  </span> │ <span style=\"color: #800080; text-decoration-color: #800080\">1963-03-03</span> │    <span style=\"color: #008080; text-decoration-color: #008080; font-weight: bold\">56</span> │ <span style=\"color: #008000; text-decoration-color: #008000\">167-0031 </span> │ <span style=\"color: #008000; text-decoration-color: #008000\">東京都杉並区本天沼****…</span> │ <span style=\"color: #008000; text-decoration-color: #008000\">S13005              </span> │         <span style=\"color: #008080; text-decoration-color: #008080; font-weight: bold\">20170729</span> │ <span style=\"color: #008000; text-decoration-color: #008000\">A-20090810-2</span> │\n",
       "│ <span style=\"color: #008000; text-decoration-color: #008000\">CS038415000180</span> │       <span style=\"color: #008080; text-decoration-color: #008080; font-weight: bold\">2336</span> │ <span style=\"color: #008000; text-decoration-color: #008000\">砂川 真帆    </span> │ <span style=\"color: #008000; text-decoration-color: #008000\">1        </span> │ <span style=\"color: #008000; text-decoration-color: #008000\">女性  </span> │ <span style=\"color: #800080; text-decoration-color: #800080\">1976-05-05</span> │    <span style=\"color: #008080; text-decoration-color: #008080; font-weight: bold\">42</span> │ <span style=\"color: #008000; text-decoration-color: #008000\">134-0084 </span> │ <span style=\"color: #008000; text-decoration-color: #008000\">東京都江戸川区東葛西**…</span> │ <span style=\"color: #008000; text-decoration-color: #008000\">S13038              </span> │         <span style=\"color: #008080; text-decoration-color: #008080; font-weight: bold\">20150713</span> │ <span style=\"color: #008000; text-decoration-color: #008000\">A-20101013-D</span> │\n",
       "│ <span style=\"color: #008000; text-decoration-color: #008000\">CS037412000209</span> │       <span style=\"color: #008080; text-decoration-color: #008080; font-weight: bold\">2335</span> │ <span style=\"color: #008000; text-decoration-color: #008000\">萩原 季衣    </span> │ <span style=\"color: #008000; text-decoration-color: #008000\">1        </span> │ <span style=\"color: #008000; text-decoration-color: #008000\">女性  </span> │ <span style=\"color: #800080; text-decoration-color: #800080\">1977-09-30</span> │    <span style=\"color: #008080; text-decoration-color: #008080; font-weight: bold\">41</span> │ <span style=\"color: #008000; text-decoration-color: #008000\">136-0073 </span> │ <span style=\"color: #008000; text-decoration-color: #008000\">東京都江東区北砂******…</span> │ <span style=\"color: #008000; text-decoration-color: #008000\">S13037              </span> │         <span style=\"color: #008080; text-decoration-color: #008080; font-weight: bold\">20151126</span> │ <span style=\"color: #008000; text-decoration-color: #008000\">A-20100523-4</span> │\n",
       "│ <span style=\"color: #008000; text-decoration-color: #008000\">CS006315000159</span> │       <span style=\"color: #008080; text-decoration-color: #008080; font-weight: bold\">2335</span> │ <span style=\"color: #008000; text-decoration-color: #008000\">栗田 朝香    </span> │ <span style=\"color: #008000; text-decoration-color: #008000\">1        </span> │ <span style=\"color: #008000; text-decoration-color: #008000\">女性  </span> │ <span style=\"color: #800080; text-decoration-color: #800080\">1984-05-03</span> │    <span style=\"color: #008080; text-decoration-color: #008080; font-weight: bold\">34</span> │ <span style=\"color: #008000; text-decoration-color: #008000\">224-0053 </span> │ <span style=\"color: #008000; text-decoration-color: #008000\">神奈川県横浜市都筑区池…</span> │ <span style=\"color: #008000; text-decoration-color: #008000\">S14006              </span> │         <span style=\"color: #008080; text-decoration-color: #008080; font-weight: bold\">20150517</span> │ <span style=\"color: #008000; text-decoration-color: #008000\">A-20080215-2</span> │\n",
       "│ <span style=\"color: #008000; text-decoration-color: #008000\">CS008513000153</span> │       <span style=\"color: #008080; text-decoration-color: #008080; font-weight: bold\">2328</span> │ <span style=\"color: #008000; text-decoration-color: #008000\">杉山 恵梨香  </span> │ <span style=\"color: #008000; text-decoration-color: #008000\">1        </span> │ <span style=\"color: #008000; text-decoration-color: #008000\">女性  </span> │ <span style=\"color: #800080; text-decoration-color: #800080\">1963-02-05</span> │    <span style=\"color: #008080; text-decoration-color: #008080; font-weight: bold\">56</span> │ <span style=\"color: #008000; text-decoration-color: #008000\">201-0005 </span> │ <span style=\"color: #008000; text-decoration-color: #008000\">東京都狛江市岩戸南****…</span> │ <span style=\"color: #008000; text-decoration-color: #008000\">S13008              </span> │         <span style=\"color: #008080; text-decoration-color: #008080; font-weight: bold\">20150312</span> │ <span style=\"color: #008000; text-decoration-color: #008000\">A-20090615-1</span> │\n",
       "└────────────────┴────────────┴───────────────┴───────────┴────────┴────────────┴───────┴───────────┴─────────────────────────┴──────────────────────┴──────────────────┴──────────────┘\n",
       "</pre>\n"
      ],
      "text/plain": [
       "┏━━━━━━━━━━━━━━━━┳━━━━━━━━━━━━┳━━━━━━━━━━━━━━━┳━━━━━━━━━━━┳━━━━━━━━┳━━━━━━━━━━━━┳━━━━━━━┳━━━━━━━━━━━┳━━━━━━━━━━━━━━━━━━━━━━━━━┳━━━━━━━━━━━━━━━━━━━━━━┳━━━━━━━━━━━━━━━━━━┳━━━━━━━━━━━━━━┓\n",
       "┃\u001b[1m \u001b[0m\u001b[1mcustomer_id\u001b[0m\u001b[1m   \u001b[0m\u001b[1m \u001b[0m┃\u001b[1m \u001b[0m\u001b[1msum_amount\u001b[0m\u001b[1m \u001b[0m┃\u001b[1m \u001b[0m\u001b[1mcustomer_name\u001b[0m\u001b[1m \u001b[0m┃\u001b[1m \u001b[0m\u001b[1mgender_cd\u001b[0m\u001b[1m \u001b[0m┃\u001b[1m \u001b[0m\u001b[1mgender\u001b[0m\u001b[1m \u001b[0m┃\u001b[1m \u001b[0m\u001b[1mbirth_day\u001b[0m\u001b[1m \u001b[0m\u001b[1m \u001b[0m┃\u001b[1m \u001b[0m\u001b[1mage\u001b[0m\u001b[1m  \u001b[0m\u001b[1m \u001b[0m┃\u001b[1m \u001b[0m\u001b[1mpostal_cd\u001b[0m\u001b[1m \u001b[0m┃\u001b[1m \u001b[0m\u001b[1maddress\u001b[0m\u001b[1m                \u001b[0m\u001b[1m \u001b[0m┃\u001b[1m \u001b[0m\u001b[1mapplication_store_cd\u001b[0m\u001b[1m \u001b[0m┃\u001b[1m \u001b[0m\u001b[1mapplication_date\u001b[0m\u001b[1m \u001b[0m┃\u001b[1m \u001b[0m\u001b[1mstatus_cd\u001b[0m\u001b[1m   \u001b[0m\u001b[1m \u001b[0m┃\n",
       "┡━━━━━━━━━━━━━━━━╇━━━━━━━━━━━━╇━━━━━━━━━━━━━━━╇━━━━━━━━━━━╇━━━━━━━━╇━━━━━━━━━━━━╇━━━━━━━╇━━━━━━━━━━━╇━━━━━━━━━━━━━━━━━━━━━━━━━╇━━━━━━━━━━━━━━━━━━━━━━╇━━━━━━━━━━━━━━━━━━╇━━━━━━━━━━━━━━┩\n",
       "│ \u001b[2mstring\u001b[0m         │ \u001b[2mint64\u001b[0m      │ \u001b[2mstring\u001b[0m        │ \u001b[2mstring\u001b[0m    │ \u001b[2mstring\u001b[0m │ \u001b[2mdate\u001b[0m       │ \u001b[2mint64\u001b[0m │ \u001b[2mstring\u001b[0m    │ \u001b[2mstring\u001b[0m                  │ \u001b[2mstring\u001b[0m               │ \u001b[2mint64\u001b[0m            │ \u001b[2mstring\u001b[0m       │\n",
       "├────────────────┼────────────┼───────────────┼───────────┼────────┼────────────┼───────┼───────────┼─────────────────────────┼──────────────────────┼──────────────────┼──────────────┤\n",
       "│ \u001b[32mCS005513000417\u001b[0m │       \u001b[1;36m2338\u001b[0m │ \u001b[32m葛西 花      \u001b[0m │ \u001b[32m1        \u001b[0m │ \u001b[32m女性  \u001b[0m │ \u001b[35m1963-03-03\u001b[0m │    \u001b[1;36m56\u001b[0m │ \u001b[32m167-0031 \u001b[0m │ \u001b[32m東京都杉並区本天沼****…\u001b[0m │ \u001b[32mS13005              \u001b[0m │         \u001b[1;36m20170729\u001b[0m │ \u001b[32mA-20090810-2\u001b[0m │\n",
       "│ \u001b[32mCS038415000180\u001b[0m │       \u001b[1;36m2336\u001b[0m │ \u001b[32m砂川 真帆    \u001b[0m │ \u001b[32m1        \u001b[0m │ \u001b[32m女性  \u001b[0m │ \u001b[35m1976-05-05\u001b[0m │    \u001b[1;36m42\u001b[0m │ \u001b[32m134-0084 \u001b[0m │ \u001b[32m東京都江戸川区東葛西**…\u001b[0m │ \u001b[32mS13038              \u001b[0m │         \u001b[1;36m20150713\u001b[0m │ \u001b[32mA-20101013-D\u001b[0m │\n",
       "│ \u001b[32mCS037412000209\u001b[0m │       \u001b[1;36m2335\u001b[0m │ \u001b[32m萩原 季衣    \u001b[0m │ \u001b[32m1        \u001b[0m │ \u001b[32m女性  \u001b[0m │ \u001b[35m1977-09-30\u001b[0m │    \u001b[1;36m41\u001b[0m │ \u001b[32m136-0073 \u001b[0m │ \u001b[32m東京都江東区北砂******…\u001b[0m │ \u001b[32mS13037              \u001b[0m │         \u001b[1;36m20151126\u001b[0m │ \u001b[32mA-20100523-4\u001b[0m │\n",
       "│ \u001b[32mCS006315000159\u001b[0m │       \u001b[1;36m2335\u001b[0m │ \u001b[32m栗田 朝香    \u001b[0m │ \u001b[32m1        \u001b[0m │ \u001b[32m女性  \u001b[0m │ \u001b[35m1984-05-03\u001b[0m │    \u001b[1;36m34\u001b[0m │ \u001b[32m224-0053 \u001b[0m │ \u001b[32m神奈川県横浜市都筑区池…\u001b[0m │ \u001b[32mS14006              \u001b[0m │         \u001b[1;36m20150517\u001b[0m │ \u001b[32mA-20080215-2\u001b[0m │\n",
       "│ \u001b[32mCS008513000153\u001b[0m │       \u001b[1;36m2328\u001b[0m │ \u001b[32m杉山 恵梨香  \u001b[0m │ \u001b[32m1        \u001b[0m │ \u001b[32m女性  \u001b[0m │ \u001b[35m1963-02-05\u001b[0m │    \u001b[1;36m56\u001b[0m │ \u001b[32m201-0005 \u001b[0m │ \u001b[32m東京都狛江市岩戸南****…\u001b[0m │ \u001b[32mS13008              \u001b[0m │         \u001b[1;36m20150312\u001b[0m │ \u001b[32mA-20090615-1\u001b[0m │\n",
       "└────────────────┴────────────┴───────────────┴───────────┴────────┴────────────┴───────┴───────────┴─────────────────────────┴──────────────────────┴──────────────────┴──────────────┘"
      ]
     },
     "execution_count": 92,
     "metadata": {},
     "output_type": "execute_result"
    }
   ],
   "source": [
    "df_087 = (\n",
    "    df_receipt\n",
    "    .group_by(\"customer_id\")\n",
    "    .aggregate(sum_amount=_[\"amount\"].sum())\n",
    "    .join(df_customer, how=\"outer\", predicates=\"customer_id\")\n",
    "    .drop(\"customer_id_right\")\n",
    "    .filter(~_[\"customer_id\"].startswith(\"Z\"))\n",
    "    .order_by([ibis.desc(\"sum_amount\"), \"postal_cd\"])\n",
    "    .distinct(on=[\"customer_name\", \"postal_cd\"], keep=\"first\")\n",
    ")\n",
    "\n",
    "df_087.head()"
   ]
  },
  {
   "attachments": {},
   "cell_type": "markdown",
   "metadata": {},
   "source": [
    "---\n",
    "> P-088: 087で作成したデータを元に、顧客データに統合名寄IDを付与したデータを作成せよ。ただし、統合名寄IDは以下の仕様で付与するものとする。\n",
    ">\n",
    "> - 重複していない顧客：顧客ID（customer_id）を設定\n",
    "> - 重複している顧客：前設問で抽出したレコードの顧客IDを設定\n",
    "> \n",
    "> 顧客IDのユニーク件数と、統合名寄IDのユニーク件数の差も確認すること。"
   ]
  },
  {
   "cell_type": "code",
   "execution_count": 93,
   "metadata": {},
   "outputs": [
    {
     "name": "stdout",
     "output_type": "stream",
     "text": [
      "顧客IDのユニーク件数: 8320\n",
      "統合名寄IDのユニーク件数の差: 18\n"
     ]
    }
   ],
   "source": [
    "df_088 = (\n",
    "    df_customer\n",
    "    .join(\n",
    "        df_087.select(\"customer_name\", \"postal_cd\", \"customer_id\"),\n",
    "        how=\"inner\", predicates=(\"customer_name\", \"postal_cd\")\n",
    "    )\n",
    "    .rename({\"integration_id\": \"customer_id_right\"})\n",
    ")\n",
    "\n",
    "diff = df_088[\"customer_id\"].nunique() - df_088[\"integration_id\"].nunique()\n",
    "\n",
    "print(\"顧客IDのユニーク件数:\", df_088[\"customer_id\"].nunique().execute())\n",
    "print(\"統合名寄IDのユニーク件数の差:\", diff.execute())"
   ]
  },
  {
   "attachments": {},
   "cell_type": "markdown",
   "metadata": {},
   "source": [
    "---\n",
    "> P-089: 売上実績がある顧客を、予測モデル構築のため学習用データとテスト用データに分割したい。それぞれ8:2の割合でランダムにデータを分割せよ。"
   ]
  },
  {
   "cell_type": "code",
   "execution_count": 94,
   "metadata": {},
   "outputs": [
    {
     "name": "stdout",
     "output_type": "stream",
     "text": [
      "学習データ割合: 0.7999277717587576\n",
      "テストデータ割合: 0.20007222824124232\n"
     ]
    },
    {
     "data": {
      "text/html": [
       "<div>\n",
       "<style scoped>\n",
       "    .dataframe tbody tr th:only-of-type {\n",
       "        vertical-align: middle;\n",
       "    }\n",
       "\n",
       "    .dataframe tbody tr th {\n",
       "        vertical-align: top;\n",
       "    }\n",
       "\n",
       "    .dataframe thead th {\n",
       "        text-align: right;\n",
       "    }\n",
       "</style>\n",
       "<table border=\"1\" class=\"dataframe\">\n",
       "  <thead>\n",
       "    <tr style=\"text-align: right;\">\n",
       "      <th></th>\n",
       "      <th>customer_id</th>\n",
       "      <th>sum_amount</th>\n",
       "    </tr>\n",
       "  </thead>\n",
       "  <tbody>\n",
       "    <tr>\n",
       "      <th>5855</th>\n",
       "      <td>CS004505000030</td>\n",
       "      <td>3110</td>\n",
       "    </tr>\n",
       "    <tr>\n",
       "      <th>5400</th>\n",
       "      <td>CS017515000174</td>\n",
       "      <td>3769</td>\n",
       "    </tr>\n",
       "    <tr>\n",
       "      <th>5938</th>\n",
       "      <td>CS020515000021</td>\n",
       "      <td>3419</td>\n",
       "    </tr>\n",
       "    <tr>\n",
       "      <th>1292</th>\n",
       "      <td>CS035215000038</td>\n",
       "      <td>5128</td>\n",
       "    </tr>\n",
       "    <tr>\n",
       "      <th>4476</th>\n",
       "      <td>CS013513000016</td>\n",
       "      <td>2592</td>\n",
       "    </tr>\n",
       "  </tbody>\n",
       "</table>\n",
       "</div>"
      ],
      "text/plain": [
       "         customer_id  sum_amount\n",
       "5855  CS004505000030        3110\n",
       "5400  CS017515000174        3769\n",
       "5938  CS020515000021        3419\n",
       "1292  CS035215000038        5128\n",
       "4476  CS013513000016        2592"
      ]
     },
     "metadata": {},
     "output_type": "display_data"
    }
   ],
   "source": [
    "# ibis dataframeだと分けられないのでpandas\n",
    "df_089 = (\n",
    "    df_receipt\n",
    "    .group_by(\"customer_id\")\n",
    "    .aggregate(sum_amount=_[\"amount\"].sum())\n",
    "    .filter(_[\"sum_amount\"] > 0)\n",
    "    .to_pandas()\n",
    ")\n",
    "\n",
    "df_train, df_test = train_test_split(df_089, test_size=0.2, random_state=71)\n",
    "print(f\"学習データ割合: {len(df_train)/len(df_089)}\")\n",
    "print(f\"テストデータ割合: {len(df_test)/len(df_089)}\")\n",
    "display(df_test.head())"
   ]
  },
  {
   "attachments": {},
   "cell_type": "markdown",
   "metadata": {},
   "source": [
    "---\n",
    "> P-090: レシート明細データ（df_receipt）は2017年1月1日〜2019年10月31日までのデータを有している。売上金額（amount）を月次で集計し、学習用に12ヶ月、テスト用に6ヶ月の時系列モデル構築用データを3セット作成せよ。"
   ]
  },
  {
   "cell_type": "code",
   "execution_count": 95,
   "metadata": {},
   "outputs": [
    {
     "data": {
      "text/html": [
       "<pre style=\"white-space:pre;overflow-x:auto;line-height:normal;font-family:Menlo,'DejaVu Sans Mono',consolas,'Courier New',monospace\">┏━━━━━━━━━━┳━━━━━━━━━━━━┓\n",
       "┃<span style=\"font-weight: bold\"> sales_ym </span>┃<span style=\"font-weight: bold\"> sum_amount </span>┃\n",
       "┡━━━━━━━━━━╇━━━━━━━━━━━━┩\n",
       "│ <span style=\"color: #7f7f7f; text-decoration-color: #7f7f7f\">string</span>   │ <span style=\"color: #7f7f7f; text-decoration-color: #7f7f7f\">int64</span>      │\n",
       "├──────────┼────────────┤\n",
       "│ <span style=\"color: #008000; text-decoration-color: #008000\">201701  </span> │     <span style=\"color: #008080; text-decoration-color: #008080; font-weight: bold\">902056</span> │\n",
       "│ <span style=\"color: #008000; text-decoration-color: #008000\">201702  </span> │     <span style=\"color: #008080; text-decoration-color: #008080; font-weight: bold\">764413</span> │\n",
       "│ <span style=\"color: #008000; text-decoration-color: #008000\">201703  </span> │     <span style=\"color: #008080; text-decoration-color: #008080; font-weight: bold\">962945</span> │\n",
       "│ <span style=\"color: #008000; text-decoration-color: #008000\">201704  </span> │     <span style=\"color: #008080; text-decoration-color: #008080; font-weight: bold\">847566</span> │\n",
       "│ <span style=\"color: #008000; text-decoration-color: #008000\">201705  </span> │     <span style=\"color: #008080; text-decoration-color: #008080; font-weight: bold\">884010</span> │\n",
       "└──────────┴────────────┘\n",
       "</pre>\n"
      ],
      "text/plain": [
       "┏━━━━━━━━━━┳━━━━━━━━━━━━┓\n",
       "┃\u001b[1m \u001b[0m\u001b[1msales_ym\u001b[0m\u001b[1m \u001b[0m┃\u001b[1m \u001b[0m\u001b[1msum_amount\u001b[0m\u001b[1m \u001b[0m┃\n",
       "┡━━━━━━━━━━╇━━━━━━━━━━━━┩\n",
       "│ \u001b[2mstring\u001b[0m   │ \u001b[2mint64\u001b[0m      │\n",
       "├──────────┼────────────┤\n",
       "│ \u001b[32m201701  \u001b[0m │     \u001b[1;36m902056\u001b[0m │\n",
       "│ \u001b[32m201702  \u001b[0m │     \u001b[1;36m764413\u001b[0m │\n",
       "│ \u001b[32m201703  \u001b[0m │     \u001b[1;36m962945\u001b[0m │\n",
       "│ \u001b[32m201704  \u001b[0m │     \u001b[1;36m847566\u001b[0m │\n",
       "│ \u001b[32m201705  \u001b[0m │     \u001b[1;36m884010\u001b[0m │\n",
       "└──────────┴────────────┘"
      ]
     },
     "metadata": {},
     "output_type": "display_data"
    }
   ],
   "source": [
    "df_090 = (\n",
    "    df_receipt\n",
    "    .mutate(sales_ym=_[\"sales_ymd\"].cast(str)[0:6])\n",
    "    .group_by(\"sales_ym\")\n",
    "    .aggregate(sum_amount=_[\"amount\"].sum())\n",
    "    .order_by(\"sales_ym\")\n",
    ")\n",
    "\n",
    "def split_data(\n",
    "    df,\n",
    "    train_size: int,\n",
    "    test_size: int,\n",
    "    slide_window: int,\n",
    "    start_point: int,\n",
    "):\n",
    "    train_start = start_point * slide_window\n",
    "    test_start = train_start + train_size\n",
    "    return df[train_start:test_start], df[test_start : test_start + test_size]\n",
    "\n",
    "\n",
    "df_090_train1, df_090_test1 = split_data(\n",
    "    df_090, train_size=12, test_size=6, slide_window=6, start_point=0\n",
    ")\n",
    "\n",
    "df_090_train2, df_090_test2 = split_data(\n",
    "    df_090, train_size=12, test_size=6, slide_window=6, start_point=1\n",
    ")\n",
    "\n",
    "df_090_train3, df_090_test3 = split_data(\n",
    "    df_090, train_size=12, test_size=6, slide_window=6, start_point=2\n",
    ")\n",
    "\n",
    "display(df_090_train1.head())"
   ]
  },
  {
   "cell_type": "code",
   "execution_count": 96,
   "metadata": {},
   "outputs": [
    {
     "data": {
      "text/html": [
       "<pre style=\"white-space:pre;overflow-x:auto;line-height:normal;font-family:Menlo,'DejaVu Sans Mono',consolas,'Courier New',monospace\">┏━━━━━━━━━━┳━━━━━━━━━━━━┓\n",
       "┃<span style=\"font-weight: bold\"> sales_ym </span>┃<span style=\"font-weight: bold\"> sum_amount </span>┃\n",
       "┡━━━━━━━━━━╇━━━━━━━━━━━━┩\n",
       "│ <span style=\"color: #7f7f7f; text-decoration-color: #7f7f7f\">string</span>   │ <span style=\"color: #7f7f7f; text-decoration-color: #7f7f7f\">int64</span>      │\n",
       "├──────────┼────────────┤\n",
       "│ <span style=\"color: #008000; text-decoration-color: #008000\">201801  </span> │     <span style=\"color: #008080; text-decoration-color: #008080; font-weight: bold\">944509</span> │\n",
       "│ <span style=\"color: #008000; text-decoration-color: #008000\">201802  </span> │     <span style=\"color: #008080; text-decoration-color: #008080; font-weight: bold\">864128</span> │\n",
       "│ <span style=\"color: #008000; text-decoration-color: #008000\">201803  </span> │     <span style=\"color: #008080; text-decoration-color: #008080; font-weight: bold\">946588</span> │\n",
       "│ <span style=\"color: #008000; text-decoration-color: #008000\">201804  </span> │     <span style=\"color: #008080; text-decoration-color: #008080; font-weight: bold\">937099</span> │\n",
       "│ <span style=\"color: #008000; text-decoration-color: #008000\">201805  </span> │    <span style=\"color: #008080; text-decoration-color: #008080; font-weight: bold\">1004438</span> │\n",
       "└──────────┴────────────┘\n",
       "</pre>\n"
      ],
      "text/plain": [
       "┏━━━━━━━━━━┳━━━━━━━━━━━━┓\n",
       "┃\u001b[1m \u001b[0m\u001b[1msales_ym\u001b[0m\u001b[1m \u001b[0m┃\u001b[1m \u001b[0m\u001b[1msum_amount\u001b[0m\u001b[1m \u001b[0m┃\n",
       "┡━━━━━━━━━━╇━━━━━━━━━━━━┩\n",
       "│ \u001b[2mstring\u001b[0m   │ \u001b[2mint64\u001b[0m      │\n",
       "├──────────┼────────────┤\n",
       "│ \u001b[32m201801  \u001b[0m │     \u001b[1;36m944509\u001b[0m │\n",
       "│ \u001b[32m201802  \u001b[0m │     \u001b[1;36m864128\u001b[0m │\n",
       "│ \u001b[32m201803  \u001b[0m │     \u001b[1;36m946588\u001b[0m │\n",
       "│ \u001b[32m201804  \u001b[0m │     \u001b[1;36m937099\u001b[0m │\n",
       "│ \u001b[32m201805  \u001b[0m │    \u001b[1;36m1004438\u001b[0m │\n",
       "└──────────┴────────────┘"
      ]
     },
     "metadata": {},
     "output_type": "display_data"
    }
   ],
   "source": [
    "display(df_090_test1.head())"
   ]
  },
  {
   "cell_type": "code",
   "execution_count": 97,
   "metadata": {},
   "outputs": [
    {
     "data": {
      "text/html": [
       "<pre style=\"white-space:pre;overflow-x:auto;line-height:normal;font-family:Menlo,'DejaVu Sans Mono',consolas,'Courier New',monospace\">┏━━━━━━━━━━┳━━━━━━━━━━━━┓\n",
       "┃<span style=\"font-weight: bold\"> sales_ym </span>┃<span style=\"font-weight: bold\"> sum_amount </span>┃\n",
       "┡━━━━━━━━━━╇━━━━━━━━━━━━┩\n",
       "│ <span style=\"color: #7f7f7f; text-decoration-color: #7f7f7f\">string</span>   │ <span style=\"color: #7f7f7f; text-decoration-color: #7f7f7f\">int64</span>      │\n",
       "├──────────┼────────────┤\n",
       "│ <span style=\"color: #008000; text-decoration-color: #008000\">201707  </span> │     <span style=\"color: #008080; text-decoration-color: #008080; font-weight: bold\">959205</span> │\n",
       "│ <span style=\"color: #008000; text-decoration-color: #008000\">201708  </span> │     <span style=\"color: #008080; text-decoration-color: #008080; font-weight: bold\">954836</span> │\n",
       "│ <span style=\"color: #008000; text-decoration-color: #008000\">201709  </span> │     <span style=\"color: #008080; text-decoration-color: #008080; font-weight: bold\">902037</span> │\n",
       "│ <span style=\"color: #008000; text-decoration-color: #008000\">201710  </span> │     <span style=\"color: #008080; text-decoration-color: #008080; font-weight: bold\">905739</span> │\n",
       "│ <span style=\"color: #008000; text-decoration-color: #008000\">201711  </span> │     <span style=\"color: #008080; text-decoration-color: #008080; font-weight: bold\">932157</span> │\n",
       "└──────────┴────────────┘\n",
       "</pre>\n"
      ],
      "text/plain": [
       "┏━━━━━━━━━━┳━━━━━━━━━━━━┓\n",
       "┃\u001b[1m \u001b[0m\u001b[1msales_ym\u001b[0m\u001b[1m \u001b[0m┃\u001b[1m \u001b[0m\u001b[1msum_amount\u001b[0m\u001b[1m \u001b[0m┃\n",
       "┡━━━━━━━━━━╇━━━━━━━━━━━━┩\n",
       "│ \u001b[2mstring\u001b[0m   │ \u001b[2mint64\u001b[0m      │\n",
       "├──────────┼────────────┤\n",
       "│ \u001b[32m201707  \u001b[0m │     \u001b[1;36m959205\u001b[0m │\n",
       "│ \u001b[32m201708  \u001b[0m │     \u001b[1;36m954836\u001b[0m │\n",
       "│ \u001b[32m201709  \u001b[0m │     \u001b[1;36m902037\u001b[0m │\n",
       "│ \u001b[32m201710  \u001b[0m │     \u001b[1;36m905739\u001b[0m │\n",
       "│ \u001b[32m201711  \u001b[0m │     \u001b[1;36m932157\u001b[0m │\n",
       "└──────────┴────────────┘"
      ]
     },
     "execution_count": 97,
     "metadata": {},
     "output_type": "execute_result"
    }
   ],
   "source": [
    "df_090_train2.head()"
   ]
  },
  {
   "attachments": {},
   "cell_type": "markdown",
   "metadata": {},
   "source": [
    "---\n",
    "> P-091: 顧客データ（df_customer）の各顧客に対し、売上実績がある顧客数と売上実績がない顧客数が1:1となるようにアンダーサンプリングで抽出せよ。"
   ]
  },
  {
   "cell_type": "code",
   "execution_count": 98,
   "metadata": {},
   "outputs": [
    {
     "name": "stdout",
     "output_type": "stream",
     "text": [
      "0の件数 8306\n",
      "1の件数 8306\n"
     ]
    }
   ],
   "source": [
    "from imblearn.under_sampling import RandomUnderSampler\n",
    "\n",
    "df_091 = (\n",
    "    df_receipt\n",
    "    .group_by(\"customer_id\")\n",
    "    .aggregate(sum_amount=_[\"amount\"].sum())\n",
    "    .join(df_customer, how=\"right\", predicates=\"customer_id\")\n",
    "    .mutate(is_buy_flag=_[\"sum_amount\"].isnull())\n",
    "    .to_pandas()\n",
    ")\n",
    "\n",
    "rs = RandomUnderSampler(random_state=71)\n",
    "df_091, _ = rs.fit_resample(df_091, df_091[\"is_buy_flag\"])\n",
    "print('0の件数', len(df_091[df_091[\"is_buy_flag\"] == 0]))\n",
    "print('1の件数', len(df_091[df_091[\"is_buy_flag\"] == 1]))"
   ]
  },
  {
   "attachments": {},
   "cell_type": "markdown",
   "metadata": {},
   "source": [
    "---\n",
    "> P-092: 顧客データ（df_customer）の性別について、第三正規形へと正規化せよ。\n",
    "\n",
    "- 第1正規形：1つのセルには1つの値しか含まれない　list型などで登録しない\n",
    "- 第2正規形：部分関数従属を排除し、完全関数従属にする　Nullとか無くす\n",
    "- 第3正規形：第2正規形のテーブルから、推移的関数従属している列が切り出されたもの　段階的な従属を無くす"
   ]
  },
  {
   "cell_type": "code",
   "execution_count": 99,
   "metadata": {},
   "outputs": [
    {
     "data": {
      "text/html": [
       "<pre style=\"white-space:pre;overflow-x:auto;line-height:normal;font-family:Menlo,'DejaVu Sans Mono',consolas,'Courier New',monospace\">┏━━━━━━━━━━━┳━━━━━━━━┓\n",
       "┃<span style=\"font-weight: bold\"> gender_cd </span>┃<span style=\"font-weight: bold\"> gender </span>┃\n",
       "┡━━━━━━━━━━━╇━━━━━━━━┩\n",
       "│ <span style=\"color: #7f7f7f; text-decoration-color: #7f7f7f\">string</span>    │ <span style=\"color: #7f7f7f; text-decoration-color: #7f7f7f\">string</span> │\n",
       "├───────────┼────────┤\n",
       "│ <span style=\"color: #008000; text-decoration-color: #008000\">9        </span> │ <span style=\"color: #008000; text-decoration-color: #008000\">不明  </span> │\n",
       "│ <span style=\"color: #008000; text-decoration-color: #008000\">1        </span> │ <span style=\"color: #008000; text-decoration-color: #008000\">女性  </span> │\n",
       "│ <span style=\"color: #008000; text-decoration-color: #008000\">0        </span> │ <span style=\"color: #008000; text-decoration-color: #008000\">男性  </span> │\n",
       "└───────────┴────────┘\n",
       "</pre>\n"
      ],
      "text/plain": [
       "┏━━━━━━━━━━━┳━━━━━━━━┓\n",
       "┃\u001b[1m \u001b[0m\u001b[1mgender_cd\u001b[0m\u001b[1m \u001b[0m┃\u001b[1m \u001b[0m\u001b[1mgender\u001b[0m\u001b[1m \u001b[0m┃\n",
       "┡━━━━━━━━━━━╇━━━━━━━━┩\n",
       "│ \u001b[2mstring\u001b[0m    │ \u001b[2mstring\u001b[0m │\n",
       "├───────────┼────────┤\n",
       "│ \u001b[32m9        \u001b[0m │ \u001b[32m不明  \u001b[0m │\n",
       "│ \u001b[32m1        \u001b[0m │ \u001b[32m女性  \u001b[0m │\n",
       "│ \u001b[32m0        \u001b[0m │ \u001b[32m男性  \u001b[0m │\n",
       "└───────────┴────────┘"
      ]
     },
     "execution_count": 99,
     "metadata": {},
     "output_type": "execute_result"
    }
   ],
   "source": [
    "df_092_gender_std = (\n",
    "    df_customer\n",
    "    .select(\"gender_cd\", \"gender\")\n",
    "    .distinct()\n",
    ")\n",
    "\n",
    "\n",
    "df_092_customer_std = df_customer.drop(\"gender\")\n",
    "\n",
    "df_092_gender_std"
   ]
  },
  {
   "cell_type": "code",
   "execution_count": 100,
   "metadata": {},
   "outputs": [
    {
     "data": {
      "text/html": [
       "<pre style=\"white-space:pre;overflow-x:auto;line-height:normal;font-family:Menlo,'DejaVu Sans Mono',consolas,'Courier New',monospace\">┏━━━━━━━━━━━━━━━━┳━━━━━━━━━━━━━━━┳━━━━━━━━━━━┳━━━━━━━━━━━━┳━━━━━━━┳━━━━━━━━━━━┳━━━━━━━━━━━━━━━━━━━━━━━━┳━━━━━━━━━━━━━━━━━━━━━━┳━━━━━━━━━━━━━━━━━━┳━━━━━━━━━━━━━━┓\n",
       "┃<span style=\"font-weight: bold\"> customer_id    </span>┃<span style=\"font-weight: bold\"> customer_name </span>┃<span style=\"font-weight: bold\"> gender_cd </span>┃<span style=\"font-weight: bold\"> birth_day  </span>┃<span style=\"font-weight: bold\"> age   </span>┃<span style=\"font-weight: bold\"> postal_cd </span>┃<span style=\"font-weight: bold\"> address                </span>┃<span style=\"font-weight: bold\"> application_store_cd </span>┃<span style=\"font-weight: bold\"> application_date </span>┃<span style=\"font-weight: bold\"> status_cd    </span>┃\n",
       "┡━━━━━━━━━━━━━━━━╇━━━━━━━━━━━━━━━╇━━━━━━━━━━━╇━━━━━━━━━━━━╇━━━━━━━╇━━━━━━━━━━━╇━━━━━━━━━━━━━━━━━━━━━━━━╇━━━━━━━━━━━━━━━━━━━━━━╇━━━━━━━━━━━━━━━━━━╇━━━━━━━━━━━━━━┩\n",
       "│ <span style=\"color: #7f7f7f; text-decoration-color: #7f7f7f\">string</span>         │ <span style=\"color: #7f7f7f; text-decoration-color: #7f7f7f\">string</span>        │ <span style=\"color: #7f7f7f; text-decoration-color: #7f7f7f\">string</span>    │ <span style=\"color: #7f7f7f; text-decoration-color: #7f7f7f\">date</span>       │ <span style=\"color: #7f7f7f; text-decoration-color: #7f7f7f\">int64</span> │ <span style=\"color: #7f7f7f; text-decoration-color: #7f7f7f\">string</span>    │ <span style=\"color: #7f7f7f; text-decoration-color: #7f7f7f\">string</span>                 │ <span style=\"color: #7f7f7f; text-decoration-color: #7f7f7f\">string</span>               │ <span style=\"color: #7f7f7f; text-decoration-color: #7f7f7f\">int64</span>            │ <span style=\"color: #7f7f7f; text-decoration-color: #7f7f7f\">string</span>       │\n",
       "├────────────────┼───────────────┼───────────┼────────────┼───────┼───────────┼────────────────────────┼──────────────────────┼──────────────────┼──────────────┤\n",
       "│ <span style=\"color: #008000; text-decoration-color: #008000\">CS021313000114</span> │ <span style=\"color: #008000; text-decoration-color: #008000\">大野 あや子  </span> │ <span style=\"color: #008000; text-decoration-color: #008000\">1        </span> │ <span style=\"color: #800080; text-decoration-color: #800080\">1981-04-29</span> │    <span style=\"color: #008080; text-decoration-color: #008080; font-weight: bold\">37</span> │ <span style=\"color: #008000; text-decoration-color: #008000\">259-1113 </span> │ <span style=\"color: #008000; text-decoration-color: #008000\">神奈川県伊勢原市粟窪*…</span> │ <span style=\"color: #008000; text-decoration-color: #008000\">S14021              </span> │         <span style=\"color: #008080; text-decoration-color: #008080; font-weight: bold\">20150905</span> │ <span style=\"color: #008000; text-decoration-color: #008000\">0-00000000-0</span> │\n",
       "│ <span style=\"color: #008000; text-decoration-color: #008000\">CS037613000071</span> │ <span style=\"color: #008000; text-decoration-color: #008000\">六角 雅彦    </span> │ <span style=\"color: #008000; text-decoration-color: #008000\">9        </span> │ <span style=\"color: #800080; text-decoration-color: #800080\">1952-04-01</span> │    <span style=\"color: #008080; text-decoration-color: #008080; font-weight: bold\">66</span> │ <span style=\"color: #008000; text-decoration-color: #008000\">136-0076 </span> │ <span style=\"color: #008000; text-decoration-color: #008000\">東京都江東区南砂*****…</span> │ <span style=\"color: #008000; text-decoration-color: #008000\">S13037              </span> │         <span style=\"color: #008080; text-decoration-color: #008080; font-weight: bold\">20150414</span> │ <span style=\"color: #008000; text-decoration-color: #008000\">0-00000000-0</span> │\n",
       "│ <span style=\"color: #008000; text-decoration-color: #008000\">CS031415000172</span> │ <span style=\"color: #008000; text-decoration-color: #008000\">宇多田 貴美子</span> │ <span style=\"color: #008000; text-decoration-color: #008000\">1        </span> │ <span style=\"color: #800080; text-decoration-color: #800080\">1976-10-04</span> │    <span style=\"color: #008080; text-decoration-color: #008080; font-weight: bold\">42</span> │ <span style=\"color: #008000; text-decoration-color: #008000\">151-0053 </span> │ <span style=\"color: #008000; text-decoration-color: #008000\">東京都渋谷区代々木***…</span> │ <span style=\"color: #008000; text-decoration-color: #008000\">S13031              </span> │         <span style=\"color: #008080; text-decoration-color: #008080; font-weight: bold\">20150529</span> │ <span style=\"color: #008000; text-decoration-color: #008000\">D-20100325-C</span> │\n",
       "│ <span style=\"color: #008000; text-decoration-color: #008000\">CS028811000001</span> │ <span style=\"color: #008000; text-decoration-color: #008000\">堀井 かおり  </span> │ <span style=\"color: #008000; text-decoration-color: #008000\">1        </span> │ <span style=\"color: #800080; text-decoration-color: #800080\">1933-03-27</span> │    <span style=\"color: #008080; text-decoration-color: #008080; font-weight: bold\">86</span> │ <span style=\"color: #008000; text-decoration-color: #008000\">245-0016 </span> │ <span style=\"color: #008000; text-decoration-color: #008000\">神奈川県横浜市泉区和 …</span> │ <span style=\"color: #008000; text-decoration-color: #008000\">S14028              </span> │         <span style=\"color: #008080; text-decoration-color: #008080; font-weight: bold\">20160115</span> │ <span style=\"color: #008000; text-decoration-color: #008000\">0-00000000-0</span> │\n",
       "│ <span style=\"color: #008000; text-decoration-color: #008000\">CS001215000145</span> │ <span style=\"color: #008000; text-decoration-color: #008000\">田崎 美紀    </span> │ <span style=\"color: #008000; text-decoration-color: #008000\">1        </span> │ <span style=\"color: #800080; text-decoration-color: #800080\">1995-03-29</span> │    <span style=\"color: #008080; text-decoration-color: #008080; font-weight: bold\">24</span> │ <span style=\"color: #008000; text-decoration-color: #008000\">144-0055 </span> │ <span style=\"color: #008000; text-decoration-color: #008000\">東京都大田区仲六郷***…</span> │ <span style=\"color: #008000; text-decoration-color: #008000\">S13001              </span> │         <span style=\"color: #008080; text-decoration-color: #008080; font-weight: bold\">20170605</span> │ <span style=\"color: #008000; text-decoration-color: #008000\">6-20090929-2</span> │\n",
       "└────────────────┴───────────────┴───────────┴────────────┴───────┴───────────┴────────────────────────┴──────────────────────┴──────────────────┴──────────────┘\n",
       "</pre>\n"
      ],
      "text/plain": [
       "┏━━━━━━━━━━━━━━━━┳━━━━━━━━━━━━━━━┳━━━━━━━━━━━┳━━━━━━━━━━━━┳━━━━━━━┳━━━━━━━━━━━┳━━━━━━━━━━━━━━━━━━━━━━━━┳━━━━━━━━━━━━━━━━━━━━━━┳━━━━━━━━━━━━━━━━━━┳━━━━━━━━━━━━━━┓\n",
       "┃\u001b[1m \u001b[0m\u001b[1mcustomer_id\u001b[0m\u001b[1m   \u001b[0m\u001b[1m \u001b[0m┃\u001b[1m \u001b[0m\u001b[1mcustomer_name\u001b[0m\u001b[1m \u001b[0m┃\u001b[1m \u001b[0m\u001b[1mgender_cd\u001b[0m\u001b[1m \u001b[0m┃\u001b[1m \u001b[0m\u001b[1mbirth_day\u001b[0m\u001b[1m \u001b[0m\u001b[1m \u001b[0m┃\u001b[1m \u001b[0m\u001b[1mage\u001b[0m\u001b[1m  \u001b[0m\u001b[1m \u001b[0m┃\u001b[1m \u001b[0m\u001b[1mpostal_cd\u001b[0m\u001b[1m \u001b[0m┃\u001b[1m \u001b[0m\u001b[1maddress\u001b[0m\u001b[1m               \u001b[0m\u001b[1m \u001b[0m┃\u001b[1m \u001b[0m\u001b[1mapplication_store_cd\u001b[0m\u001b[1m \u001b[0m┃\u001b[1m \u001b[0m\u001b[1mapplication_date\u001b[0m\u001b[1m \u001b[0m┃\u001b[1m \u001b[0m\u001b[1mstatus_cd\u001b[0m\u001b[1m   \u001b[0m\u001b[1m \u001b[0m┃\n",
       "┡━━━━━━━━━━━━━━━━╇━━━━━━━━━━━━━━━╇━━━━━━━━━━━╇━━━━━━━━━━━━╇━━━━━━━╇━━━━━━━━━━━╇━━━━━━━━━━━━━━━━━━━━━━━━╇━━━━━━━━━━━━━━━━━━━━━━╇━━━━━━━━━━━━━━━━━━╇━━━━━━━━━━━━━━┩\n",
       "│ \u001b[2mstring\u001b[0m         │ \u001b[2mstring\u001b[0m        │ \u001b[2mstring\u001b[0m    │ \u001b[2mdate\u001b[0m       │ \u001b[2mint64\u001b[0m │ \u001b[2mstring\u001b[0m    │ \u001b[2mstring\u001b[0m                 │ \u001b[2mstring\u001b[0m               │ \u001b[2mint64\u001b[0m            │ \u001b[2mstring\u001b[0m       │\n",
       "├────────────────┼───────────────┼───────────┼────────────┼───────┼───────────┼────────────────────────┼──────────────────────┼──────────────────┼──────────────┤\n",
       "│ \u001b[32mCS021313000114\u001b[0m │ \u001b[32m大野 あや子  \u001b[0m │ \u001b[32m1        \u001b[0m │ \u001b[35m1981-04-29\u001b[0m │    \u001b[1;36m37\u001b[0m │ \u001b[32m259-1113 \u001b[0m │ \u001b[32m神奈川県伊勢原市粟窪*…\u001b[0m │ \u001b[32mS14021              \u001b[0m │         \u001b[1;36m20150905\u001b[0m │ \u001b[32m0-00000000-0\u001b[0m │\n",
       "│ \u001b[32mCS037613000071\u001b[0m │ \u001b[32m六角 雅彦    \u001b[0m │ \u001b[32m9        \u001b[0m │ \u001b[35m1952-04-01\u001b[0m │    \u001b[1;36m66\u001b[0m │ \u001b[32m136-0076 \u001b[0m │ \u001b[32m東京都江東区南砂*****…\u001b[0m │ \u001b[32mS13037              \u001b[0m │         \u001b[1;36m20150414\u001b[0m │ \u001b[32m0-00000000-0\u001b[0m │\n",
       "│ \u001b[32mCS031415000172\u001b[0m │ \u001b[32m宇多田 貴美子\u001b[0m │ \u001b[32m1        \u001b[0m │ \u001b[35m1976-10-04\u001b[0m │    \u001b[1;36m42\u001b[0m │ \u001b[32m151-0053 \u001b[0m │ \u001b[32m東京都渋谷区代々木***…\u001b[0m │ \u001b[32mS13031              \u001b[0m │         \u001b[1;36m20150529\u001b[0m │ \u001b[32mD-20100325-C\u001b[0m │\n",
       "│ \u001b[32mCS028811000001\u001b[0m │ \u001b[32m堀井 かおり  \u001b[0m │ \u001b[32m1        \u001b[0m │ \u001b[35m1933-03-27\u001b[0m │    \u001b[1;36m86\u001b[0m │ \u001b[32m245-0016 \u001b[0m │ \u001b[32m神奈川県横浜市泉区和 …\u001b[0m │ \u001b[32mS14028              \u001b[0m │         \u001b[1;36m20160115\u001b[0m │ \u001b[32m0-00000000-0\u001b[0m │\n",
       "│ \u001b[32mCS001215000145\u001b[0m │ \u001b[32m田崎 美紀    \u001b[0m │ \u001b[32m1        \u001b[0m │ \u001b[35m1995-03-29\u001b[0m │    \u001b[1;36m24\u001b[0m │ \u001b[32m144-0055 \u001b[0m │ \u001b[32m東京都大田区仲六郷***…\u001b[0m │ \u001b[32mS13001              \u001b[0m │         \u001b[1;36m20170605\u001b[0m │ \u001b[32m6-20090929-2\u001b[0m │\n",
       "└────────────────┴───────────────┴───────────┴────────────┴───────┴───────────┴────────────────────────┴──────────────────────┴──────────────────┴──────────────┘"
      ]
     },
     "execution_count": 100,
     "metadata": {},
     "output_type": "execute_result"
    }
   ],
   "source": [
    "df_092_customer_std.head()"
   ]
  },
  {
   "attachments": {},
   "cell_type": "markdown",
   "metadata": {},
   "source": [
    "---\n",
    "> P-093: 商品データ（df_product）では各カテゴリのコード値だけを保有し、カテゴリ名は保有していない。カテゴリデータ（df_category）と組み合わせて非正規化し、カテゴリ名を保有した新たな商品データを作成せよ。"
   ]
  },
  {
   "cell_type": "code",
   "execution_count": 101,
   "metadata": {},
   "outputs": [
    {
     "data": {
      "text/html": [
       "<pre style=\"white-space:pre;overflow-x:auto;line-height:normal;font-family:Menlo,'DejaVu Sans Mono',consolas,'Courier New',monospace\">┏━━━━━━━━━━━━┳━━━━━━━━━━━━━━━━━━━┳━━━━━━━━━━━━━━━━━━━━┳━━━━━━━━━━━━━━━━━━━┳━━━━━━━━━━━━┳━━━━━━━━━━━┳━━━━━━━━━━━━━━━━━━━━━━━━━┳━━━━━━━━━━━━━━━━━━━━━┳━━━━━━━━━━━━━━━━━━━━━━┳━━━━━━━━━━━━━━━━━━━━━┓\n",
       "┃<span style=\"font-weight: bold\"> product_cd </span>┃<span style=\"font-weight: bold\"> category_major_cd </span>┃<span style=\"font-weight: bold\"> category_medium_cd </span>┃<span style=\"font-weight: bold\"> category_small_cd </span>┃<span style=\"font-weight: bold\"> unit_price </span>┃<span style=\"font-weight: bold\"> unit_cost </span>┃<span style=\"font-weight: bold\"> category_small_cd_right </span>┃<span style=\"font-weight: bold\"> category_major_name </span>┃<span style=\"font-weight: bold\"> category_medium_name </span>┃<span style=\"font-weight: bold\"> category_small_name </span>┃\n",
       "┡━━━━━━━━━━━━╇━━━━━━━━━━━━━━━━━━━╇━━━━━━━━━━━━━━━━━━━━╇━━━━━━━━━━━━━━━━━━━╇━━━━━━━━━━━━╇━━━━━━━━━━━╇━━━━━━━━━━━━━━━━━━━━━━━━━╇━━━━━━━━━━━━━━━━━━━━━╇━━━━━━━━━━━━━━━━━━━━━━╇━━━━━━━━━━━━━━━━━━━━━┩\n",
       "│ <span style=\"color: #7f7f7f; text-decoration-color: #7f7f7f\">string</span>     │ <span style=\"color: #7f7f7f; text-decoration-color: #7f7f7f\">string</span>            │ <span style=\"color: #7f7f7f; text-decoration-color: #7f7f7f\">string</span>             │ <span style=\"color: #7f7f7f; text-decoration-color: #7f7f7f\">string</span>            │ <span style=\"color: #7f7f7f; text-decoration-color: #7f7f7f\">int64</span>      │ <span style=\"color: #7f7f7f; text-decoration-color: #7f7f7f\">int64</span>     │ <span style=\"color: #7f7f7f; text-decoration-color: #7f7f7f\">string</span>                  │ <span style=\"color: #7f7f7f; text-decoration-color: #7f7f7f\">string</span>              │ <span style=\"color: #7f7f7f; text-decoration-color: #7f7f7f\">string</span>               │ <span style=\"color: #7f7f7f; text-decoration-color: #7f7f7f\">string</span>              │\n",
       "├────────────┼───────────────────┼────────────────────┼───────────────────┼────────────┼───────────┼─────────────────────────┼─────────────────────┼──────────────────────┼─────────────────────┤\n",
       "│ <span style=\"color: #008000; text-decoration-color: #008000\">P040101001</span> │ <span style=\"color: #008000; text-decoration-color: #008000\">04               </span> │ <span style=\"color: #008000; text-decoration-color: #008000\">0401              </span> │ <span style=\"color: #008000; text-decoration-color: #008000\">040101           </span> │        <span style=\"color: #008080; text-decoration-color: #008080; font-weight: bold\">198</span> │       <span style=\"color: #008080; text-decoration-color: #008080; font-weight: bold\">149</span> │ <span style=\"color: #008000; text-decoration-color: #008000\">040101                 </span> │ <span style=\"color: #008000; text-decoration-color: #008000\">惣菜               </span> │ <span style=\"color: #008000; text-decoration-color: #008000\">御飯類              </span> │ <span style=\"color: #008000; text-decoration-color: #008000\">弁当類             </span> │\n",
       "│ <span style=\"color: #008000; text-decoration-color: #008000\">P040101002</span> │ <span style=\"color: #008000; text-decoration-color: #008000\">04               </span> │ <span style=\"color: #008000; text-decoration-color: #008000\">0401              </span> │ <span style=\"color: #008000; text-decoration-color: #008000\">040101           </span> │        <span style=\"color: #008080; text-decoration-color: #008080; font-weight: bold\">218</span> │       <span style=\"color: #008080; text-decoration-color: #008080; font-weight: bold\">164</span> │ <span style=\"color: #008000; text-decoration-color: #008000\">040101                 </span> │ <span style=\"color: #008000; text-decoration-color: #008000\">惣菜               </span> │ <span style=\"color: #008000; text-decoration-color: #008000\">御飯類              </span> │ <span style=\"color: #008000; text-decoration-color: #008000\">弁当類             </span> │\n",
       "│ <span style=\"color: #008000; text-decoration-color: #008000\">P040101003</span> │ <span style=\"color: #008000; text-decoration-color: #008000\">04               </span> │ <span style=\"color: #008000; text-decoration-color: #008000\">0401              </span> │ <span style=\"color: #008000; text-decoration-color: #008000\">040101           </span> │        <span style=\"color: #008080; text-decoration-color: #008080; font-weight: bold\">230</span> │       <span style=\"color: #008080; text-decoration-color: #008080; font-weight: bold\">173</span> │ <span style=\"color: #008000; text-decoration-color: #008000\">040101                 </span> │ <span style=\"color: #008000; text-decoration-color: #008000\">惣菜               </span> │ <span style=\"color: #008000; text-decoration-color: #008000\">御飯類              </span> │ <span style=\"color: #008000; text-decoration-color: #008000\">弁当類             </span> │\n",
       "│ <span style=\"color: #008000; text-decoration-color: #008000\">P040101004</span> │ <span style=\"color: #008000; text-decoration-color: #008000\">04               </span> │ <span style=\"color: #008000; text-decoration-color: #008000\">0401              </span> │ <span style=\"color: #008000; text-decoration-color: #008000\">040101           </span> │        <span style=\"color: #008080; text-decoration-color: #008080; font-weight: bold\">248</span> │       <span style=\"color: #008080; text-decoration-color: #008080; font-weight: bold\">186</span> │ <span style=\"color: #008000; text-decoration-color: #008000\">040101                 </span> │ <span style=\"color: #008000; text-decoration-color: #008000\">惣菜               </span> │ <span style=\"color: #008000; text-decoration-color: #008000\">御飯類              </span> │ <span style=\"color: #008000; text-decoration-color: #008000\">弁当類             </span> │\n",
       "│ <span style=\"color: #008000; text-decoration-color: #008000\">P040101005</span> │ <span style=\"color: #008000; text-decoration-color: #008000\">04               </span> │ <span style=\"color: #008000; text-decoration-color: #008000\">0401              </span> │ <span style=\"color: #008000; text-decoration-color: #008000\">040101           </span> │        <span style=\"color: #008080; text-decoration-color: #008080; font-weight: bold\">268</span> │       <span style=\"color: #008080; text-decoration-color: #008080; font-weight: bold\">201</span> │ <span style=\"color: #008000; text-decoration-color: #008000\">040101                 </span> │ <span style=\"color: #008000; text-decoration-color: #008000\">惣菜               </span> │ <span style=\"color: #008000; text-decoration-color: #008000\">御飯類              </span> │ <span style=\"color: #008000; text-decoration-color: #008000\">弁当類             </span> │\n",
       "└────────────┴───────────────────┴────────────────────┴───────────────────┴────────────┴───────────┴─────────────────────────┴─────────────────────┴──────────────────────┴─────────────────────┘\n",
       "</pre>\n"
      ],
      "text/plain": [
       "┏━━━━━━━━━━━━┳━━━━━━━━━━━━━━━━━━━┳━━━━━━━━━━━━━━━━━━━━┳━━━━━━━━━━━━━━━━━━━┳━━━━━━━━━━━━┳━━━━━━━━━━━┳━━━━━━━━━━━━━━━━━━━━━━━━━┳━━━━━━━━━━━━━━━━━━━━━┳━━━━━━━━━━━━━━━━━━━━━━┳━━━━━━━━━━━━━━━━━━━━━┓\n",
       "┃\u001b[1m \u001b[0m\u001b[1mproduct_cd\u001b[0m\u001b[1m \u001b[0m┃\u001b[1m \u001b[0m\u001b[1mcategory_major_cd\u001b[0m\u001b[1m \u001b[0m┃\u001b[1m \u001b[0m\u001b[1mcategory_medium_cd\u001b[0m\u001b[1m \u001b[0m┃\u001b[1m \u001b[0m\u001b[1mcategory_small_cd\u001b[0m\u001b[1m \u001b[0m┃\u001b[1m \u001b[0m\u001b[1munit_price\u001b[0m\u001b[1m \u001b[0m┃\u001b[1m \u001b[0m\u001b[1munit_cost\u001b[0m\u001b[1m \u001b[0m┃\u001b[1m \u001b[0m\u001b[1mcategory_small_cd_right\u001b[0m\u001b[1m \u001b[0m┃\u001b[1m \u001b[0m\u001b[1mcategory_major_name\u001b[0m\u001b[1m \u001b[0m┃\u001b[1m \u001b[0m\u001b[1mcategory_medium_name\u001b[0m\u001b[1m \u001b[0m┃\u001b[1m \u001b[0m\u001b[1mcategory_small_name\u001b[0m\u001b[1m \u001b[0m┃\n",
       "┡━━━━━━━━━━━━╇━━━━━━━━━━━━━━━━━━━╇━━━━━━━━━━━━━━━━━━━━╇━━━━━━━━━━━━━━━━━━━╇━━━━━━━━━━━━╇━━━━━━━━━━━╇━━━━━━━━━━━━━━━━━━━━━━━━━╇━━━━━━━━━━━━━━━━━━━━━╇━━━━━━━━━━━━━━━━━━━━━━╇━━━━━━━━━━━━━━━━━━━━━┩\n",
       "│ \u001b[2mstring\u001b[0m     │ \u001b[2mstring\u001b[0m            │ \u001b[2mstring\u001b[0m             │ \u001b[2mstring\u001b[0m            │ \u001b[2mint64\u001b[0m      │ \u001b[2mint64\u001b[0m     │ \u001b[2mstring\u001b[0m                  │ \u001b[2mstring\u001b[0m              │ \u001b[2mstring\u001b[0m               │ \u001b[2mstring\u001b[0m              │\n",
       "├────────────┼───────────────────┼────────────────────┼───────────────────┼────────────┼───────────┼─────────────────────────┼─────────────────────┼──────────────────────┼─────────────────────┤\n",
       "│ \u001b[32mP040101001\u001b[0m │ \u001b[32m04               \u001b[0m │ \u001b[32m0401              \u001b[0m │ \u001b[32m040101           \u001b[0m │        \u001b[1;36m198\u001b[0m │       \u001b[1;36m149\u001b[0m │ \u001b[32m040101                 \u001b[0m │ \u001b[32m惣菜               \u001b[0m │ \u001b[32m御飯類              \u001b[0m │ \u001b[32m弁当類             \u001b[0m │\n",
       "│ \u001b[32mP040101002\u001b[0m │ \u001b[32m04               \u001b[0m │ \u001b[32m0401              \u001b[0m │ \u001b[32m040101           \u001b[0m │        \u001b[1;36m218\u001b[0m │       \u001b[1;36m164\u001b[0m │ \u001b[32m040101                 \u001b[0m │ \u001b[32m惣菜               \u001b[0m │ \u001b[32m御飯類              \u001b[0m │ \u001b[32m弁当類             \u001b[0m │\n",
       "│ \u001b[32mP040101003\u001b[0m │ \u001b[32m04               \u001b[0m │ \u001b[32m0401              \u001b[0m │ \u001b[32m040101           \u001b[0m │        \u001b[1;36m230\u001b[0m │       \u001b[1;36m173\u001b[0m │ \u001b[32m040101                 \u001b[0m │ \u001b[32m惣菜               \u001b[0m │ \u001b[32m御飯類              \u001b[0m │ \u001b[32m弁当類             \u001b[0m │\n",
       "│ \u001b[32mP040101004\u001b[0m │ \u001b[32m04               \u001b[0m │ \u001b[32m0401              \u001b[0m │ \u001b[32m040101           \u001b[0m │        \u001b[1;36m248\u001b[0m │       \u001b[1;36m186\u001b[0m │ \u001b[32m040101                 \u001b[0m │ \u001b[32m惣菜               \u001b[0m │ \u001b[32m御飯類              \u001b[0m │ \u001b[32m弁当類             \u001b[0m │\n",
       "│ \u001b[32mP040101005\u001b[0m │ \u001b[32m04               \u001b[0m │ \u001b[32m0401              \u001b[0m │ \u001b[32m040101           \u001b[0m │        \u001b[1;36m268\u001b[0m │       \u001b[1;36m201\u001b[0m │ \u001b[32m040101                 \u001b[0m │ \u001b[32m惣菜               \u001b[0m │ \u001b[32m御飯類              \u001b[0m │ \u001b[32m弁当類             \u001b[0m │\n",
       "└────────────┴───────────────────┴────────────────────┴───────────────────┴────────────┴───────────┴─────────────────────────┴─────────────────────┴──────────────────────┴─────────────────────┘"
      ]
     },
     "execution_count": 101,
     "metadata": {},
     "output_type": "execute_result"
    }
   ],
   "source": [
    "df_093 = (\n",
    "    df_product\n",
    "    .join(\n",
    "        df_category.select(\n",
    "            \"category_small_cd\",\n",
    "            \"category_major_name\",\n",
    "            \"category_medium_name\",\n",
    "            \"category_small_name\",\n",
    "        ),\n",
    "        how=\"left\", predicates=\"category_small_cd\"\n",
    "    )\n",
    ")\n",
    "\n",
    "df_093.head()"
   ]
  },
  {
   "attachments": {},
   "cell_type": "markdown",
   "metadata": {},
   "source": [
    "## ファイル入出力"
   ]
  },
  {
   "attachments": {},
   "cell_type": "markdown",
   "metadata": {},
   "source": [
    "---\n",
    "> P-094: 093で作成したカテゴリ名付き商品データを以下の仕様でファイル出力せよ。\n",
    ">\n",
    "> |ファイル形式|ヘッダ有無|文字エンコーディング|\n",
    "> |:--:|:--:|:--:|\n",
    "> |CSV（カンマ区切り）|有り|UTF-8|\n",
    "> \n",
    "> ファイル出力先のパスは以下のようにすること\n",
    "> \n",
    "> |出力先|\n",
    "> |:--:|\n",
    "> |./data|"
   ]
  },
  {
   "cell_type": "code",
   "execution_count": 102,
   "metadata": {},
   "outputs": [],
   "source": [
    "df_093.to_csv(\n",
    "    \"../data/P_df_093_UTF-9_header.csv\",\n",
    ")"
   ]
  },
  {
   "attachments": {},
   "cell_type": "markdown",
   "metadata": {},
   "source": [
    "---\n",
    "> P-095: 093で作成したカテゴリ名付き商品データを以下の仕様でファイル出力せよ。\n",
    ">\n",
    "> |ファイル形式|ヘッダ有無|文字エンコーディング|\n",
    "> |:--:|:--:|:--:|\n",
    "> |CSV（カンマ区切り）|有り|CP932|\n",
    "> \n",
    "> ファイル出力先のパスは以下のようにすること。\n",
    "> \n",
    "> |出力先|\n",
    "> |:--:|\n",
    "> |./data|"
   ]
  },
  {
   "cell_type": "code",
   "execution_count": null,
   "metadata": {},
   "outputs": [],
   "source": []
  },
  {
   "attachments": {},
   "cell_type": "markdown",
   "metadata": {},
   "source": [
    "---\n",
    "> P-096: 093で作成したカテゴリ名付き商品データを以下の仕様でファイル出力せよ。\n",
    ">\n",
    "> |ファイル形式|ヘッダ有無|文字エンコーディング|\n",
    "> |:--:|:--:|:--:|\n",
    "> |CSV（カンマ区切り）|無し|UTF-8|\n",
    "> \n",
    "> ファイル出力先のパスは以下のようにすること。\n",
    "> \n",
    "> |出力先|\n",
    "> |:--:|\n",
    "> |./data|"
   ]
  },
  {
   "cell_type": "code",
   "execution_count": null,
   "metadata": {},
   "outputs": [],
   "source": []
  },
  {
   "attachments": {},
   "cell_type": "markdown",
   "metadata": {},
   "source": [
    "---\n",
    "> P-097: 094で作成した以下形式のファイルを読み込み、データを3件を表示させて正しく取り込まれていることを確認せよ。\n",
    "> \n",
    "> |ファイル形式|ヘッダ有無|文字エンコーディング|\n",
    "> |:--:|:--:|:--:|\n",
    "> |CSV（カンマ区切り）|有り|UTF-8|"
   ]
  },
  {
   "cell_type": "code",
   "execution_count": null,
   "metadata": {},
   "outputs": [],
   "source": []
  },
  {
   "attachments": {},
   "cell_type": "markdown",
   "metadata": {},
   "source": [
    "---\n",
    "> P-098: 096で作成した以下形式のファイルを読み込み、データを3件を表示させて正しく取り込まれていることを確認せよ。\n",
    "> \n",
    "> |ファイル形式|ヘッダ有無|文字エンコーディング|\n",
    "> |:--:|:--:|:--:|\n",
    "> |CSV（カンマ区切り）|ヘッダ無し|UTF-8|"
   ]
  },
  {
   "cell_type": "code",
   "execution_count": null,
   "metadata": {},
   "outputs": [],
   "source": []
  },
  {
   "attachments": {},
   "cell_type": "markdown",
   "metadata": {},
   "source": [
    "---\n",
    "> P-099: 093で作成したカテゴリ名付き商品データを以下の仕様でファイル出力せよ。\n",
    ">\n",
    "> |ファイル形式|ヘッダ有無|文字エンコーディング|\n",
    "> |:--:|:--:|:--:|\n",
    "> |TSV（タブ区切り）|有り|UTF-8|\n",
    "> \n",
    "> ファイル出力先のパスは以下のようにすること\n",
    "> \n",
    "> |出力先|\n",
    "> |:--:|\n",
    "> |./data|"
   ]
  },
  {
   "cell_type": "code",
   "execution_count": 103,
   "metadata": {},
   "outputs": [],
   "source": [
    "# separatorでタブで分割\n"
   ]
  },
  {
   "attachments": {},
   "cell_type": "markdown",
   "metadata": {},
   "source": [
    "---\n",
    "> P-100: 099で作成した以下形式のファイルを読み込み、データを3件を表示させて正しく取り込まれていることを確認せよ。\n",
    "> \n",
    "> |ファイル形式|ヘッダ有無|文字エンコーディング|\n",
    "> |:--:|:--:|:--:|\n",
    "> |TSV（タブ区切り）|有り|UTF-8|"
   ]
  },
  {
   "cell_type": "code",
   "execution_count": null,
   "metadata": {},
   "outputs": [],
   "source": []
  },
  {
   "attachments": {},
   "cell_type": "markdown",
   "metadata": {},
   "source": [
    "問題はここで終了です。お疲れ様でした。"
   ]
  }
 ],
 "metadata": {
  "kernelspec": {
   "display_name": ".venv",
   "language": "python",
   "name": "python3"
  },
  "language_info": {
   "codemirror_mode": {
    "name": "ipython",
    "version": 3
   },
   "file_extension": ".py",
   "mimetype": "text/x-python",
   "name": "python",
   "nbconvert_exporter": "python",
   "pygments_lexer": "ipython3",
   "version": "3.11.9"
  },
  "orig_nbformat": 4
 },
 "nbformat": 4,
 "nbformat_minor": 2
}
